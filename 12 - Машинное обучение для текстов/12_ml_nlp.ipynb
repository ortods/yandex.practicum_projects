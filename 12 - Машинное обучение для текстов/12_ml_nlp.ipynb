{
 "cells": [
  {
   "cell_type": "markdown",
   "source": [
    "<h1>Содержание<span class=\"tocSkip\"></span></h1>\n",
    "<div class=\"toc\"><ul class=\"toc-item\"><li><span><a href=\"#Подготовка\" data-toc-modified-id=\"Подготовка-1\"><span class=\"toc-item-num\">1&nbsp;&nbsp;</span>Подготовка</a></span><ul class=\"toc-item\"><li><span><a href=\"#Анализ-данных\" data-toc-modified-id=\"Анализ-данных-1.1\"><span class=\"toc-item-num\">1.1&nbsp;&nbsp;</span>Анализ данных</a></span></li><li><span><a href=\"#Лемматизация\" data-toc-modified-id=\"Лемматизация-1.2\"><span class=\"toc-item-num\">1.2&nbsp;&nbsp;</span>Лемматизация</a></span></li></ul></li><li><span><a href=\"#Обучение\" data-toc-modified-id=\"Обучение-2\"><span class=\"toc-item-num\">2&nbsp;&nbsp;</span>Обучение</a></span><ul class=\"toc-item\"><li><span><a href=\"#LogisticRegression\" data-toc-modified-id=\"LogisticRegression-2.1\"><span class=\"toc-item-num\">2.1&nbsp;&nbsp;</span>LogisticRegression</a></span></li><li><span><a href=\"#LGBMClassifier\" data-toc-modified-id=\"LGBMClassifier-2.2\"><span class=\"toc-item-num\">2.2&nbsp;&nbsp;</span>LGBMClassifier</a></span></li><li><span><a href=\"#Тестирование-моделей\" data-toc-modified-id=\"Тестирование-моделей-2.3\"><span class=\"toc-item-num\">2.3&nbsp;&nbsp;</span>Тестирование моделей</a></span></li></ul></li><li><span><a href=\"#Выводы\" data-toc-modified-id=\"Выводы-3\"><span class=\"toc-item-num\">3&nbsp;&nbsp;</span>Выводы</a></span></li><li><span><a href=\"#Чек-лист-проверки\" data-toc-modified-id=\"Чек-лист-проверки-4\"><span class=\"toc-item-num\">4&nbsp;&nbsp;</span>Чек-лист проверки</a></span></li></ul></div>"
   ],
   "metadata": {
    "toc": true
   }
  },
  {
   "cell_type": "markdown",
   "source": [
    "# Проект для «Викишоп»"
   ],
   "metadata": {}
  },
  {
   "cell_type": "markdown",
   "source": [
    "Интернет-магазин «Викишоп» запускает новый сервис. Теперь пользователи могут редактировать и дополнять описания товаров, как в вики-сообществах. То есть клиенты предлагают свои правки и комментируют изменения других. Магазину нужен инструмент, который будет искать токсичные комментарии и отправлять их на модерацию. \n",
    "\n",
    "Обучите модель классифицировать комментарии на позитивные и негативные. В вашем распоряжении набор данных с разметкой о токсичности правок.\n",
    "\n",
    "Постройте модель со значением метрики качества *F1* не меньше 0.75. \n",
    "\n",
    "**Инструкция по выполнению проекта**\n",
    "\n",
    "1. Загрузите и подготовьте данные.\n",
    "2. Обучите разные модели. \n",
    "3. Сделайте выводы.\n",
    "\n",
    "Для выполнения проекта применять *BERT* необязательно, но вы можете попробовать.\n",
    "\n",
    "**Описание данных**\n",
    "\n",
    "Данные находятся в файле `toxic_comments.csv`. Столбец *text* в нём содержит текст комментария, а *toxic* — целевой признак."
   ],
   "metadata": {}
  },
  {
   "cell_type": "markdown",
   "source": [
    "## Подготовка"
   ],
   "metadata": {}
  },
  {
   "cell_type": "markdown",
   "source": [
    "Загружаем библиотеки."
   ],
   "metadata": {}
  },
  {
   "cell_type": "code",
   "execution_count": 1,
   "source": [
    "import pandas as pd\r\n",
    "import numpy as np\r\n",
    "import re \r\n",
    "import spacy\r\n",
    "from tqdm.notebook import tqdm\r\n",
    "from sklearn.linear_model import LogisticRegression\r\n",
    "from lightgbm import LGBMClassifier\r\n",
    "from sklearn.metrics import f1_score\r\n",
    "from sklearn.model_selection import train_test_split, GridSearchCV, RandomizedSearchCV, StratifiedKFold\r\n",
    "import matplotlib.pyplot as plt\r\n",
    "#from time import time\r\n",
    "#import logging\r\n",
    "from sklearn.feature_extraction.text import CountVectorizer, TfidfVectorizer, TfidfTransformer\r\n",
    "from sklearn.pipeline import Pipeline\r\n",
    "from joblib import dump, load\r\n",
    "from scipy.sparse import hstack\r\n",
    "\r\n",
    "import nltk\r\n",
    "from nltk.corpus import stopwords as nltk_stopwords"
   ],
   "outputs": [],
   "metadata": {}
  },
  {
   "cell_type": "markdown",
   "source": [
    "### Анализ данных"
   ],
   "metadata": {}
  },
  {
   "cell_type": "markdown",
   "source": [
    "Загружаем и изучаем данные."
   ],
   "metadata": {}
  },
  {
   "cell_type": "code",
   "execution_count": 2,
   "source": [
    "df = pd.read_csv('/datasets/toxic_comments.csv')\r\n",
    "df.head()"
   ],
   "outputs": [
    {
     "output_type": "execute_result",
     "data": {
      "text/plain": [
       "                                                text  toxic\n",
       "0  Explanation\\nWhy the edits made under my usern...      0\n",
       "1  D'aww! He matches this background colour I'm s...      0\n",
       "2  Hey man, I'm really not trying to edit war. It...      0\n",
       "3  \"\\nMore\\nI can't make any real suggestions on ...      0\n",
       "4  You, sir, are my hero. Any chance you remember...      0"
      ],
      "text/html": [
       "<div>\n",
       "<style scoped>\n",
       "    .dataframe tbody tr th:only-of-type {\n",
       "        vertical-align: middle;\n",
       "    }\n",
       "\n",
       "    .dataframe tbody tr th {\n",
       "        vertical-align: top;\n",
       "    }\n",
       "\n",
       "    .dataframe thead th {\n",
       "        text-align: right;\n",
       "    }\n",
       "</style>\n",
       "<table border=\"1\" class=\"dataframe\">\n",
       "  <thead>\n",
       "    <tr style=\"text-align: right;\">\n",
       "      <th></th>\n",
       "      <th>text</th>\n",
       "      <th>toxic</th>\n",
       "    </tr>\n",
       "  </thead>\n",
       "  <tbody>\n",
       "    <tr>\n",
       "      <td>0</td>\n",
       "      <td>Explanation\\nWhy the edits made under my usern...</td>\n",
       "      <td>0</td>\n",
       "    </tr>\n",
       "    <tr>\n",
       "      <td>1</td>\n",
       "      <td>D'aww! He matches this background colour I'm s...</td>\n",
       "      <td>0</td>\n",
       "    </tr>\n",
       "    <tr>\n",
       "      <td>2</td>\n",
       "      <td>Hey man, I'm really not trying to edit war. It...</td>\n",
       "      <td>0</td>\n",
       "    </tr>\n",
       "    <tr>\n",
       "      <td>3</td>\n",
       "      <td>\"\\nMore\\nI can't make any real suggestions on ...</td>\n",
       "      <td>0</td>\n",
       "    </tr>\n",
       "    <tr>\n",
       "      <td>4</td>\n",
       "      <td>You, sir, are my hero. Any chance you remember...</td>\n",
       "      <td>0</td>\n",
       "    </tr>\n",
       "  </tbody>\n",
       "</table>\n",
       "</div>"
      ]
     },
     "metadata": {},
     "execution_count": 2
    }
   ],
   "metadata": {
    "scrolled": true
   }
  },
  {
   "cell_type": "markdown",
   "source": [
    "Посмотрим на объекты с положительным таргетом."
   ],
   "metadata": {}
  },
  {
   "cell_type": "code",
   "execution_count": 3,
   "source": [
    "df[df['toxic']==1].head()"
   ],
   "outputs": [
    {
     "output_type": "execute_result",
     "data": {
      "text/plain": [
       "                                                 text  toxic\n",
       "6        COCKSUCKER BEFORE YOU PISS AROUND ON MY WORK      1\n",
       "12  Hey... what is it..\\n@ | talk .\\nWhat is it......      1\n",
       "16  Bye! \\n\\nDon't look, come or think of comming ...      1\n",
       "42  You are gay or antisemmitian? \\n\\nArchangel WH...      1\n",
       "43           FUCK YOUR FILTHY MOTHER IN THE ASS, DRY!      1"
      ],
      "text/html": [
       "<div>\n",
       "<style scoped>\n",
       "    .dataframe tbody tr th:only-of-type {\n",
       "        vertical-align: middle;\n",
       "    }\n",
       "\n",
       "    .dataframe tbody tr th {\n",
       "        vertical-align: top;\n",
       "    }\n",
       "\n",
       "    .dataframe thead th {\n",
       "        text-align: right;\n",
       "    }\n",
       "</style>\n",
       "<table border=\"1\" class=\"dataframe\">\n",
       "  <thead>\n",
       "    <tr style=\"text-align: right;\">\n",
       "      <th></th>\n",
       "      <th>text</th>\n",
       "      <th>toxic</th>\n",
       "    </tr>\n",
       "  </thead>\n",
       "  <tbody>\n",
       "    <tr>\n",
       "      <td>6</td>\n",
       "      <td>COCKSUCKER BEFORE YOU PISS AROUND ON MY WORK</td>\n",
       "      <td>1</td>\n",
       "    </tr>\n",
       "    <tr>\n",
       "      <td>12</td>\n",
       "      <td>Hey... what is it..\\n@ | talk .\\nWhat is it......</td>\n",
       "      <td>1</td>\n",
       "    </tr>\n",
       "    <tr>\n",
       "      <td>16</td>\n",
       "      <td>Bye! \\n\\nDon't look, come or think of comming ...</td>\n",
       "      <td>1</td>\n",
       "    </tr>\n",
       "    <tr>\n",
       "      <td>42</td>\n",
       "      <td>You are gay or antisemmitian? \\n\\nArchangel WH...</td>\n",
       "      <td>1</td>\n",
       "    </tr>\n",
       "    <tr>\n",
       "      <td>43</td>\n",
       "      <td>FUCK YOUR FILTHY MOTHER IN THE ASS, DRY!</td>\n",
       "      <td>1</td>\n",
       "    </tr>\n",
       "  </tbody>\n",
       "</table>\n",
       "</div>"
      ]
     },
     "metadata": {},
     "execution_count": 3
    }
   ],
   "metadata": {
    "scrolled": true
   }
  },
  {
   "cell_type": "markdown",
   "source": [
    "Посмотрим пропуски."
   ],
   "metadata": {}
  },
  {
   "cell_type": "code",
   "execution_count": 4,
   "source": [
    "df.isna().mean()"
   ],
   "outputs": [
    {
     "output_type": "execute_result",
     "data": {
      "text/plain": [
       "text     0.0\n",
       "toxic    0.0\n",
       "dtype: float64"
      ]
     },
     "metadata": {},
     "execution_count": 4
    }
   ],
   "metadata": {}
  },
  {
   "cell_type": "markdown",
   "source": [
    "Среди небольшой просмотренной выборки заметно, что комментарии написанные в верхнем регистре имеют положительный целевой признак. В дальнейшем добавим признак, если текст написан в верхнем регистре."
   ],
   "metadata": {}
  },
  {
   "cell_type": "markdown",
   "source": [
    "Баланс классов целевого признака."
   ],
   "metadata": {}
  },
  {
   "cell_type": "code",
   "execution_count": 5,
   "source": [
    "df['toxic'].value_counts().plot(kind='bar')\r\n",
    "df['toxic'].value_counts()"
   ],
   "outputs": [
    {
     "output_type": "execute_result",
     "data": {
      "text/plain": [
       "0    143346\n",
       "1     16225\n",
       "Name: toxic, dtype: int64"
      ]
     },
     "metadata": {},
     "execution_count": 5
    },
    {
     "output_type": "display_data",
     "data": {
      "text/plain": [
       "<Figure size 432x288 with 1 Axes>"
      ],
      "image/png": "[encoded data removed]"
     },
     "metadata": {
      "needs_background": "light"
     }
    }
   ],
   "metadata": {}
  },
  {
   "cell_type": "code",
   "execution_count": 6,
   "source": [
    "df.describe()"
   ],
   "outputs": [
    {
     "output_type": "execute_result",
     "data": {
      "text/plain": [
       "               toxic\n",
       "count  159571.000000\n",
       "mean        0.101679\n",
       "std         0.302226\n",
       "min         0.000000\n",
       "25%         0.000000\n",
       "50%         0.000000\n",
       "75%         0.000000\n",
       "max         1.000000"
      ],
      "text/html": [
       "<div>\n",
       "<style scoped>\n",
       "    .dataframe tbody tr th:only-of-type {\n",
       "        vertical-align: middle;\n",
       "    }\n",
       "\n",
       "    .dataframe tbody tr th {\n",
       "        vertical-align: top;\n",
       "    }\n",
       "\n",
       "    .dataframe thead th {\n",
       "        text-align: right;\n",
       "    }\n",
       "</style>\n",
       "<table border=\"1\" class=\"dataframe\">\n",
       "  <thead>\n",
       "    <tr style=\"text-align: right;\">\n",
       "      <th></th>\n",
       "      <th>toxic</th>\n",
       "    </tr>\n",
       "  </thead>\n",
       "  <tbody>\n",
       "    <tr>\n",
       "      <td>count</td>\n",
       "      <td>159571.000000</td>\n",
       "    </tr>\n",
       "    <tr>\n",
       "      <td>mean</td>\n",
       "      <td>0.101679</td>\n",
       "    </tr>\n",
       "    <tr>\n",
       "      <td>std</td>\n",
       "      <td>0.302226</td>\n",
       "    </tr>\n",
       "    <tr>\n",
       "      <td>min</td>\n",
       "      <td>0.000000</td>\n",
       "    </tr>\n",
       "    <tr>\n",
       "      <td>25%</td>\n",
       "      <td>0.000000</td>\n",
       "    </tr>\n",
       "    <tr>\n",
       "      <td>50%</td>\n",
       "      <td>0.000000</td>\n",
       "    </tr>\n",
       "    <tr>\n",
       "      <td>75%</td>\n",
       "      <td>0.000000</td>\n",
       "    </tr>\n",
       "    <tr>\n",
       "      <td>max</td>\n",
       "      <td>1.000000</td>\n",
       "    </tr>\n",
       "  </tbody>\n",
       "</table>\n",
       "</div>"
      ]
     },
     "metadata": {},
     "execution_count": 6
    }
   ],
   "metadata": {}
  },
  {
   "cell_type": "markdown",
   "source": [
    "- В тексте имеются символы разметки, другие символы кроме буквенных и разный регистр текста.\n",
    "- Присутствует дисбаланс классов."
   ],
   "metadata": {}
  },
  {
   "cell_type": "markdown",
   "source": [
    "Функция очищения текста от посторонних символов."
   ],
   "metadata": {}
  },
  {
   "cell_type": "code",
   "execution_count": 7,
   "source": [
    "def clear_text(row):\r\n",
    "    row = re.sub(r\"(?:\\n|\\r)\", \" \", row)\r\n",
    "    row = re.sub(r\"[^a-zA-Z ]+\", \"\", row).strip()\r\n",
    "    return row"
   ],
   "outputs": [],
   "metadata": {}
  },
  {
   "cell_type": "code",
   "execution_count": 8,
   "source": [
    "df['text_clean'] = df['text'].apply(clear_text)"
   ],
   "outputs": [],
   "metadata": {}
  },
  {
   "cell_type": "code",
   "execution_count": 9,
   "source": [
    "df.head()"
   ],
   "outputs": [
    {
     "output_type": "execute_result",
     "data": {
      "text/plain": [
       "                                                text  toxic  \\\n",
       "0  Explanation\\nWhy the edits made under my usern...      0   \n",
       "1  D'aww! He matches this background colour I'm s...      0   \n",
       "2  Hey man, I'm really not trying to edit war. It...      0   \n",
       "3  \"\\nMore\\nI can't make any real suggestions on ...      0   \n",
       "4  You, sir, are my hero. Any chance you remember...      0   \n",
       "\n",
       "                                          text_clean  \n",
       "0  Explanation Why the edits made under my userna...  \n",
       "1  Daww He matches this background colour Im seem...  \n",
       "2  Hey man Im really not trying to edit war Its j...  \n",
       "3  More I cant make any real suggestions on impro...  \n",
       "4  You sir are my hero Any chance you remember wh...  "
      ],
      "text/html": [
       "<div>\n",
       "<style scoped>\n",
       "    .dataframe tbody tr th:only-of-type {\n",
       "        vertical-align: middle;\n",
       "    }\n",
       "\n",
       "    .dataframe tbody tr th {\n",
       "        vertical-align: top;\n",
       "    }\n",
       "\n",
       "    .dataframe thead th {\n",
       "        text-align: right;\n",
       "    }\n",
       "</style>\n",
       "<table border=\"1\" class=\"dataframe\">\n",
       "  <thead>\n",
       "    <tr style=\"text-align: right;\">\n",
       "      <th></th>\n",
       "      <th>text</th>\n",
       "      <th>toxic</th>\n",
       "      <th>text_clean</th>\n",
       "    </tr>\n",
       "  </thead>\n",
       "  <tbody>\n",
       "    <tr>\n",
       "      <td>0</td>\n",
       "      <td>Explanation\\nWhy the edits made under my usern...</td>\n",
       "      <td>0</td>\n",
       "      <td>Explanation Why the edits made under my userna...</td>\n",
       "    </tr>\n",
       "    <tr>\n",
       "      <td>1</td>\n",
       "      <td>D'aww! He matches this background colour I'm s...</td>\n",
       "      <td>0</td>\n",
       "      <td>Daww He matches this background colour Im seem...</td>\n",
       "    </tr>\n",
       "    <tr>\n",
       "      <td>2</td>\n",
       "      <td>Hey man, I'm really not trying to edit war. It...</td>\n",
       "      <td>0</td>\n",
       "      <td>Hey man Im really not trying to edit war Its j...</td>\n",
       "    </tr>\n",
       "    <tr>\n",
       "      <td>3</td>\n",
       "      <td>\"\\nMore\\nI can't make any real suggestions on ...</td>\n",
       "      <td>0</td>\n",
       "      <td>More I cant make any real suggestions on impro...</td>\n",
       "    </tr>\n",
       "    <tr>\n",
       "      <td>4</td>\n",
       "      <td>You, sir, are my hero. Any chance you remember...</td>\n",
       "      <td>0</td>\n",
       "      <td>You sir are my hero Any chance you remember wh...</td>\n",
       "    </tr>\n",
       "  </tbody>\n",
       "</table>\n",
       "</div>"
      ]
     },
     "metadata": {},
     "execution_count": 9
    }
   ],
   "metadata": {}
  },
  {
   "cell_type": "markdown",
   "source": [
    "Фукнция возвращения единицы, если текст написан полностью в вехнем регистре, и нуля во вех остальных случаях."
   ],
   "metadata": {}
  },
  {
   "cell_type": "code",
   "execution_count": 10,
   "source": [
    "def caps_text(row):\r\n",
    "    if row == re.sub(r\"[^A-Z ]+\", \"\", row):\r\n",
    "        caps=1\r\n",
    "    else:\r\n",
    "        caps=0 \r\n",
    "    return caps"
   ],
   "outputs": [],
   "metadata": {}
  },
  {
   "cell_type": "code",
   "execution_count": 11,
   "source": [
    "df['caps_on'] = df['text_clean'].apply(caps_text)"
   ],
   "outputs": [],
   "metadata": {}
  },
  {
   "cell_type": "code",
   "execution_count": 12,
   "source": [
    "df[df['toxic']==1].head()"
   ],
   "outputs": [
    {
     "output_type": "execute_result",
     "data": {
      "text/plain": [
       "                                                 text  toxic  \\\n",
       "6        COCKSUCKER BEFORE YOU PISS AROUND ON MY WORK      1   \n",
       "12  Hey... what is it..\\n@ | talk .\\nWhat is it......      1   \n",
       "16  Bye! \\n\\nDon't look, come or think of comming ...      1   \n",
       "42  You are gay or antisemmitian? \\n\\nArchangel WH...      1   \n",
       "43           FUCK YOUR FILTHY MOTHER IN THE ASS, DRY!      1   \n",
       "\n",
       "                                           text_clean  caps_on  \n",
       "6        COCKSUCKER BEFORE YOU PISS AROUND ON MY WORK        1  \n",
       "12  Hey what is it   talk  What is it an exclusive...        0  \n",
       "16  Bye   Dont look come or think of comming back ...        0  \n",
       "42  You are gay or antisemmitian   Archangel WHite...        0  \n",
       "43             FUCK YOUR FILTHY MOTHER IN THE ASS DRY        1  "
      ],
      "text/html": [
       "<div>\n",
       "<style scoped>\n",
       "    .dataframe tbody tr th:only-of-type {\n",
       "        vertical-align: middle;\n",
       "    }\n",
       "\n",
       "    .dataframe tbody tr th {\n",
       "        vertical-align: top;\n",
       "    }\n",
       "\n",
       "    .dataframe thead th {\n",
       "        text-align: right;\n",
       "    }\n",
       "</style>\n",
       "<table border=\"1\" class=\"dataframe\">\n",
       "  <thead>\n",
       "    <tr style=\"text-align: right;\">\n",
       "      <th></th>\n",
       "      <th>text</th>\n",
       "      <th>toxic</th>\n",
       "      <th>text_clean</th>\n",
       "      <th>caps_on</th>\n",
       "    </tr>\n",
       "  </thead>\n",
       "  <tbody>\n",
       "    <tr>\n",
       "      <td>6</td>\n",
       "      <td>COCKSUCKER BEFORE YOU PISS AROUND ON MY WORK</td>\n",
       "      <td>1</td>\n",
       "      <td>COCKSUCKER BEFORE YOU PISS AROUND ON MY WORK</td>\n",
       "      <td>1</td>\n",
       "    </tr>\n",
       "    <tr>\n",
       "      <td>12</td>\n",
       "      <td>Hey... what is it..\\n@ | talk .\\nWhat is it......</td>\n",
       "      <td>1</td>\n",
       "      <td>Hey what is it   talk  What is it an exclusive...</td>\n",
       "      <td>0</td>\n",
       "    </tr>\n",
       "    <tr>\n",
       "      <td>16</td>\n",
       "      <td>Bye! \\n\\nDon't look, come or think of comming ...</td>\n",
       "      <td>1</td>\n",
       "      <td>Bye   Dont look come or think of comming back ...</td>\n",
       "      <td>0</td>\n",
       "    </tr>\n",
       "    <tr>\n",
       "      <td>42</td>\n",
       "      <td>You are gay or antisemmitian? \\n\\nArchangel WH...</td>\n",
       "      <td>1</td>\n",
       "      <td>You are gay or antisemmitian   Archangel WHite...</td>\n",
       "      <td>0</td>\n",
       "    </tr>\n",
       "    <tr>\n",
       "      <td>43</td>\n",
       "      <td>FUCK YOUR FILTHY MOTHER IN THE ASS, DRY!</td>\n",
       "      <td>1</td>\n",
       "      <td>FUCK YOUR FILTHY MOTHER IN THE ASS DRY</td>\n",
       "      <td>1</td>\n",
       "    </tr>\n",
       "  </tbody>\n",
       "</table>\n",
       "</div>"
      ]
     },
     "metadata": {},
     "execution_count": 12
    }
   ],
   "metadata": {}
  },
  {
   "cell_type": "markdown",
   "source": [
    "Посмотрим на среднее значение целевого признака для добавленного признака caps_on."
   ],
   "metadata": {}
  },
  {
   "cell_type": "code",
   "execution_count": 13,
   "source": [
    "df.groupby('caps_on')['toxic'].mean()"
   ],
   "outputs": [
    {
     "output_type": "execute_result",
     "data": {
      "text/plain": [
       "caps_on\n",
       "0    0.095584\n",
       "1    0.664327\n",
       "Name: toxic, dtype: float64"
      ]
     },
     "metadata": {},
     "execution_count": 13
    }
   ],
   "metadata": {}
  },
  {
   "cell_type": "code",
   "execution_count": 14,
   "source": [
    "df.groupby('caps_on')['toxic'].mean()[1] / df.groupby('caps_on')['toxic'].mean()[0]"
   ],
   "outputs": [
    {
     "output_type": "execute_result",
     "data": {
      "text/plain": [
       "6.950188956828859"
      ]
     },
     "metadata": {},
     "execution_count": 14
    }
   ],
   "metadata": {}
  },
  {
   "cell_type": "markdown",
   "source": [
    "В среднем 66% комментариев написанных в верхнем регистре являются токсичными. Доля токсичных комментариев написанных в нижнем регистре почти в 7 раз меньше. Исходя из этого делаем вывод, что регистр текста является полезным признаком для пределения токсичности."
   ],
   "metadata": {}
  },
  {
   "cell_type": "markdown",
   "source": [
    "Теперь приводим текст к нижнему регистру."
   ],
   "metadata": {}
  },
  {
   "cell_type": "code",
   "execution_count": 15,
   "source": [
    "df['text_clean_low'] = df['text_clean'].apply(lambda x: x.lower())"
   ],
   "outputs": [],
   "metadata": {}
  },
  {
   "cell_type": "code",
   "execution_count": 16,
   "source": [
    "df.head()"
   ],
   "outputs": [
    {
     "output_type": "execute_result",
     "data": {
      "text/plain": [
       "                                                text  toxic  \\\n",
       "0  Explanation\\nWhy the edits made under my usern...      0   \n",
       "1  D'aww! He matches this background colour I'm s...      0   \n",
       "2  Hey man, I'm really not trying to edit war. It...      0   \n",
       "3  \"\\nMore\\nI can't make any real suggestions on ...      0   \n",
       "4  You, sir, are my hero. Any chance you remember...      0   \n",
       "\n",
       "                                          text_clean  caps_on  \\\n",
       "0  Explanation Why the edits made under my userna...        0   \n",
       "1  Daww He matches this background colour Im seem...        0   \n",
       "2  Hey man Im really not trying to edit war Its j...        0   \n",
       "3  More I cant make any real suggestions on impro...        0   \n",
       "4  You sir are my hero Any chance you remember wh...        0   \n",
       "\n",
       "                                      text_clean_low  \n",
       "0  explanation why the edits made under my userna...  \n",
       "1  daww he matches this background colour im seem...  \n",
       "2  hey man im really not trying to edit war its j...  \n",
       "3  more i cant make any real suggestions on impro...  \n",
       "4  you sir are my hero any chance you remember wh...  "
      ],
      "text/html": [
       "<div>\n",
       "<style scoped>\n",
       "    .dataframe tbody tr th:only-of-type {\n",
       "        vertical-align: middle;\n",
       "    }\n",
       "\n",
       "    .dataframe tbody tr th {\n",
       "        vertical-align: top;\n",
       "    }\n",
       "\n",
       "    .dataframe thead th {\n",
       "        text-align: right;\n",
       "    }\n",
       "</style>\n",
       "<table border=\"1\" class=\"dataframe\">\n",
       "  <thead>\n",
       "    <tr style=\"text-align: right;\">\n",
       "      <th></th>\n",
       "      <th>text</th>\n",
       "      <th>toxic</th>\n",
       "      <th>text_clean</th>\n",
       "      <th>caps_on</th>\n",
       "      <th>text_clean_low</th>\n",
       "    </tr>\n",
       "  </thead>\n",
       "  <tbody>\n",
       "    <tr>\n",
       "      <td>0</td>\n",
       "      <td>Explanation\\nWhy the edits made under my usern...</td>\n",
       "      <td>0</td>\n",
       "      <td>Explanation Why the edits made under my userna...</td>\n",
       "      <td>0</td>\n",
       "      <td>explanation why the edits made under my userna...</td>\n",
       "    </tr>\n",
       "    <tr>\n",
       "      <td>1</td>\n",
       "      <td>D'aww! He matches this background colour I'm s...</td>\n",
       "      <td>0</td>\n",
       "      <td>Daww He matches this background colour Im seem...</td>\n",
       "      <td>0</td>\n",
       "      <td>daww he matches this background colour im seem...</td>\n",
       "    </tr>\n",
       "    <tr>\n",
       "      <td>2</td>\n",
       "      <td>Hey man, I'm really not trying to edit war. It...</td>\n",
       "      <td>0</td>\n",
       "      <td>Hey man Im really not trying to edit war Its j...</td>\n",
       "      <td>0</td>\n",
       "      <td>hey man im really not trying to edit war its j...</td>\n",
       "    </tr>\n",
       "    <tr>\n",
       "      <td>3</td>\n",
       "      <td>\"\\nMore\\nI can't make any real suggestions on ...</td>\n",
       "      <td>0</td>\n",
       "      <td>More I cant make any real suggestions on impro...</td>\n",
       "      <td>0</td>\n",
       "      <td>more i cant make any real suggestions on impro...</td>\n",
       "    </tr>\n",
       "    <tr>\n",
       "      <td>4</td>\n",
       "      <td>You, sir, are my hero. Any chance you remember...</td>\n",
       "      <td>0</td>\n",
       "      <td>You sir are my hero Any chance you remember wh...</td>\n",
       "      <td>0</td>\n",
       "      <td>you sir are my hero any chance you remember wh...</td>\n",
       "    </tr>\n",
       "  </tbody>\n",
       "</table>\n",
       "</div>"
      ]
     },
     "metadata": {},
     "execution_count": 16
    }
   ],
   "metadata": {}
  },
  {
   "cell_type": "markdown",
   "source": [
    "### Лемматизация "
   ],
   "metadata": {}
  },
  {
   "cell_type": "code",
   "execution_count": 17,
   "source": [
    "nlp = spacy.load(\"en_core_web_sm\")"
   ],
   "outputs": [],
   "metadata": {}
  },
  {
   "cell_type": "code",
   "execution_count": 18,
   "source": [
    "def lemmatize(text):\r\n",
    "    temp = []\r\n",
    "    for token in nlp(text):\r\n",
    "        if token.is_stop == False:\r\n",
    "            temp.append(token.lemma_)\r\n",
    "    return \" \".join(temp)"
   ],
   "outputs": [],
   "metadata": {}
  },
  {
   "cell_type": "code",
   "execution_count": 19,
   "source": [
    "tqdm.pandas()"
   ],
   "outputs": [
    {
     "output_type": "stream",
     "name": "stderr",
     "text": [
      "/opt/conda/lib/python3.7/site-packages/tqdm/std.py:703: FutureWarning: The Panel class is removed from pandas. Accessing it from the top-level namespace will also be removed in the next version\n",
      "  from pandas import Panel\n"
     ]
    }
   ],
   "metadata": {}
  },
  {
   "cell_type": "code",
   "execution_count": 20,
   "source": [
    "df['lem_text'] = df['text_clean_low'].progress_apply(lemmatize)"
   ],
   "outputs": [
    {
     "output_type": "display_data",
     "data": {
      "text/plain": [
       "HBox(children=(HTML(value=''), FloatProgress(value=0.0, max=159571.0), HTML(value='')))"
      ],
      "application/vnd.jupyter.widget-view+json": {
       "model_id": "e809ebd377ba48f085df57f6a4b45e1c",
       "version_major": 2,
       "version_minor": 0
      }
     },
     "metadata": {}
    },
    {
     "output_type": "stream",
     "name": "stdout",
     "text": [
      "\n"
     ]
    }
   ],
   "metadata": {}
  },
  {
   "cell_type": "code",
   "execution_count": 21,
   "source": [
    "df[['text','lem_text']] "
   ],
   "outputs": [
    {
     "output_type": "execute_result",
     "data": {
      "text/plain": [
       "                                                     text  \\\n",
       "0       Explanation\\nWhy the edits made under my usern...   \n",
       "1       D'aww! He matches this background colour I'm s...   \n",
       "2       Hey man, I'm really not trying to edit war. It...   \n",
       "3       \"\\nMore\\nI can't make any real suggestions on ...   \n",
       "4       You, sir, are my hero. Any chance you remember...   \n",
       "...                                                   ...   \n",
       "159566  \":::::And for the second time of asking, when ...   \n",
       "159567  You should be ashamed of yourself \\n\\nThat is ...   \n",
       "159568  Spitzer \\n\\nUmm, theres no actual article for ...   \n",
       "159569  And it looks like it was actually you who put ...   \n",
       "159570  \"\\nAnd ... I really don't think you understand...   \n",
       "\n",
       "                                                 lem_text  \n",
       "0       explanation edit username hardcore metallica f...  \n",
       "1       daww match background colour be seemingly stic...  \n",
       "2       hey man be try edit war guy constantly remove ...  \n",
       "3       not real suggestion improvement   wonder secti...  \n",
       "4                         sir hero chance remember page s  \n",
       "...                                                   ...  \n",
       "159566  second time ask view completely contradict cov...  \n",
       "159567                ashamed    horrible thing talk page  \n",
       "159568  spitzer    umm s actual article prostitution r...  \n",
       "159569      look like actually speedy version delete look  \n",
       "159570    not think understand   come idea bad right a...  \n",
       "\n",
       "[159571 rows x 2 columns]"
      ],
      "text/html": [
       "<div>\n",
       "<style scoped>\n",
       "    .dataframe tbody tr th:only-of-type {\n",
       "        vertical-align: middle;\n",
       "    }\n",
       "\n",
       "    .dataframe tbody tr th {\n",
       "        vertical-align: top;\n",
       "    }\n",
       "\n",
       "    .dataframe thead th {\n",
       "        text-align: right;\n",
       "    }\n",
       "</style>\n",
       "<table border=\"1\" class=\"dataframe\">\n",
       "  <thead>\n",
       "    <tr style=\"text-align: right;\">\n",
       "      <th></th>\n",
       "      <th>text</th>\n",
       "      <th>lem_text</th>\n",
       "    </tr>\n",
       "  </thead>\n",
       "  <tbody>\n",
       "    <tr>\n",
       "      <td>0</td>\n",
       "      <td>Explanation\\nWhy the edits made under my usern...</td>\n",
       "      <td>explanation edit username hardcore metallica f...</td>\n",
       "    </tr>\n",
       "    <tr>\n",
       "      <td>1</td>\n",
       "      <td>D'aww! He matches this background colour I'm s...</td>\n",
       "      <td>daww match background colour be seemingly stic...</td>\n",
       "    </tr>\n",
       "    <tr>\n",
       "      <td>2</td>\n",
       "      <td>Hey man, I'm really not trying to edit war. It...</td>\n",
       "      <td>hey man be try edit war guy constantly remove ...</td>\n",
       "    </tr>\n",
       "    <tr>\n",
       "      <td>3</td>\n",
       "      <td>\"\\nMore\\nI can't make any real suggestions on ...</td>\n",
       "      <td>not real suggestion improvement   wonder secti...</td>\n",
       "    </tr>\n",
       "    <tr>\n",
       "      <td>4</td>\n",
       "      <td>You, sir, are my hero. Any chance you remember...</td>\n",
       "      <td>sir hero chance remember page s</td>\n",
       "    </tr>\n",
       "    <tr>\n",
       "      <td>...</td>\n",
       "      <td>...</td>\n",
       "      <td>...</td>\n",
       "    </tr>\n",
       "    <tr>\n",
       "      <td>159566</td>\n",
       "      <td>\":::::And for the second time of asking, when ...</td>\n",
       "      <td>second time ask view completely contradict cov...</td>\n",
       "    </tr>\n",
       "    <tr>\n",
       "      <td>159567</td>\n",
       "      <td>You should be ashamed of yourself \\n\\nThat is ...</td>\n",
       "      <td>ashamed    horrible thing talk page</td>\n",
       "    </tr>\n",
       "    <tr>\n",
       "      <td>159568</td>\n",
       "      <td>Spitzer \\n\\nUmm, theres no actual article for ...</td>\n",
       "      <td>spitzer    umm s actual article prostitution r...</td>\n",
       "    </tr>\n",
       "    <tr>\n",
       "      <td>159569</td>\n",
       "      <td>And it looks like it was actually you who put ...</td>\n",
       "      <td>look like actually speedy version delete look</td>\n",
       "    </tr>\n",
       "    <tr>\n",
       "      <td>159570</td>\n",
       "      <td>\"\\nAnd ... I really don't think you understand...</td>\n",
       "      <td>not think understand   come idea bad right a...</td>\n",
       "    </tr>\n",
       "  </tbody>\n",
       "</table>\n",
       "<p>159571 rows × 2 columns</p>\n",
       "</div>"
      ]
     },
     "metadata": {},
     "execution_count": 21
    }
   ],
   "metadata": {}
  },
  {
   "cell_type": "markdown",
   "source": [
    "Сохраним в датафрейм data лемматизированный предобработанный текст, признак написания комментария в верхнем регистре и целевой признак."
   ],
   "metadata": {}
  },
  {
   "cell_type": "code",
   "execution_count": 22,
   "source": [
    "df_clean = df[['lem_text', 'caps_on', 'toxic']]\r\n",
    "df_clean.head()"
   ],
   "outputs": [
    {
     "output_type": "execute_result",
     "data": {
      "text/plain": [
       "                                            lem_text  caps_on  toxic\n",
       "0  explanation edit username hardcore metallica f...        0      0\n",
       "1  daww match background colour be seemingly stic...        0      0\n",
       "2  hey man be try edit war guy constantly remove ...        0      0\n",
       "3  not real suggestion improvement   wonder secti...        0      0\n",
       "4                    sir hero chance remember page s        0      0"
      ],
      "text/html": [
       "<div>\n",
       "<style scoped>\n",
       "    .dataframe tbody tr th:only-of-type {\n",
       "        vertical-align: middle;\n",
       "    }\n",
       "\n",
       "    .dataframe tbody tr th {\n",
       "        vertical-align: top;\n",
       "    }\n",
       "\n",
       "    .dataframe thead th {\n",
       "        text-align: right;\n",
       "    }\n",
       "</style>\n",
       "<table border=\"1\" class=\"dataframe\">\n",
       "  <thead>\n",
       "    <tr style=\"text-align: right;\">\n",
       "      <th></th>\n",
       "      <th>lem_text</th>\n",
       "      <th>caps_on</th>\n",
       "      <th>toxic</th>\n",
       "    </tr>\n",
       "  </thead>\n",
       "  <tbody>\n",
       "    <tr>\n",
       "      <td>0</td>\n",
       "      <td>explanation edit username hardcore metallica f...</td>\n",
       "      <td>0</td>\n",
       "      <td>0</td>\n",
       "    </tr>\n",
       "    <tr>\n",
       "      <td>1</td>\n",
       "      <td>daww match background colour be seemingly stic...</td>\n",
       "      <td>0</td>\n",
       "      <td>0</td>\n",
       "    </tr>\n",
       "    <tr>\n",
       "      <td>2</td>\n",
       "      <td>hey man be try edit war guy constantly remove ...</td>\n",
       "      <td>0</td>\n",
       "      <td>0</td>\n",
       "    </tr>\n",
       "    <tr>\n",
       "      <td>3</td>\n",
       "      <td>not real suggestion improvement   wonder secti...</td>\n",
       "      <td>0</td>\n",
       "      <td>0</td>\n",
       "    </tr>\n",
       "    <tr>\n",
       "      <td>4</td>\n",
       "      <td>sir hero chance remember page s</td>\n",
       "      <td>0</td>\n",
       "      <td>0</td>\n",
       "    </tr>\n",
       "  </tbody>\n",
       "</table>\n",
       "</div>"
      ]
     },
     "metadata": {},
     "execution_count": 22
    }
   ],
   "metadata": {}
  },
  {
   "cell_type": "markdown",
   "source": [
    "Закомментил сохрание и загрузку лемматизированного очищенного текста, для исключения повторения длительной лемматизации."
   ],
   "metadata": {}
  },
  {
   "cell_type": "code",
   "execution_count": 23,
   "source": [
    "#dump(df_clean, \"lem_df\")"
   ],
   "outputs": [],
   "metadata": {}
  },
  {
   "cell_type": "code",
   "execution_count": 24,
   "source": [
    "#df_clean = load(\"lem_df\")"
   ],
   "outputs": [],
   "metadata": {}
  },
  {
   "cell_type": "code",
   "execution_count": 25,
   "source": [
    "df_clean"
   ],
   "outputs": [
    {
     "output_type": "execute_result",
     "data": {
      "text/plain": [
       "                                                 lem_text  caps_on  toxic\n",
       "0       explanation edit username hardcore metallica f...        0      0\n",
       "1       daww match background colour be seemingly stic...        0      0\n",
       "2       hey man be try edit war guy constantly remove ...        0      0\n",
       "3       not real suggestion improvement   wonder secti...        0      0\n",
       "4                         sir hero chance remember page s        0      0\n",
       "...                                                   ...      ...    ...\n",
       "159566  second time ask view completely contradict cov...        0      0\n",
       "159567                ashamed    horrible thing talk page        0      0\n",
       "159568  spitzer    umm s actual article prostitution r...        0      0\n",
       "159569      look like actually speedy version delete look        0      0\n",
       "159570    not think understand   come idea bad right a...        0      0\n",
       "\n",
       "[159571 rows x 3 columns]"
      ],
      "text/html": [
       "<div>\n",
       "<style scoped>\n",
       "    .dataframe tbody tr th:only-of-type {\n",
       "        vertical-align: middle;\n",
       "    }\n",
       "\n",
       "    .dataframe tbody tr th {\n",
       "        vertical-align: top;\n",
       "    }\n",
       "\n",
       "    .dataframe thead th {\n",
       "        text-align: right;\n",
       "    }\n",
       "</style>\n",
       "<table border=\"1\" class=\"dataframe\">\n",
       "  <thead>\n",
       "    <tr style=\"text-align: right;\">\n",
       "      <th></th>\n",
       "      <th>lem_text</th>\n",
       "      <th>caps_on</th>\n",
       "      <th>toxic</th>\n",
       "    </tr>\n",
       "  </thead>\n",
       "  <tbody>\n",
       "    <tr>\n",
       "      <td>0</td>\n",
       "      <td>explanation edit username hardcore metallica f...</td>\n",
       "      <td>0</td>\n",
       "      <td>0</td>\n",
       "    </tr>\n",
       "    <tr>\n",
       "      <td>1</td>\n",
       "      <td>daww match background colour be seemingly stic...</td>\n",
       "      <td>0</td>\n",
       "      <td>0</td>\n",
       "    </tr>\n",
       "    <tr>\n",
       "      <td>2</td>\n",
       "      <td>hey man be try edit war guy constantly remove ...</td>\n",
       "      <td>0</td>\n",
       "      <td>0</td>\n",
       "    </tr>\n",
       "    <tr>\n",
       "      <td>3</td>\n",
       "      <td>not real suggestion improvement   wonder secti...</td>\n",
       "      <td>0</td>\n",
       "      <td>0</td>\n",
       "    </tr>\n",
       "    <tr>\n",
       "      <td>4</td>\n",
       "      <td>sir hero chance remember page s</td>\n",
       "      <td>0</td>\n",
       "      <td>0</td>\n",
       "    </tr>\n",
       "    <tr>\n",
       "      <td>...</td>\n",
       "      <td>...</td>\n",
       "      <td>...</td>\n",
       "      <td>...</td>\n",
       "    </tr>\n",
       "    <tr>\n",
       "      <td>159566</td>\n",
       "      <td>second time ask view completely contradict cov...</td>\n",
       "      <td>0</td>\n",
       "      <td>0</td>\n",
       "    </tr>\n",
       "    <tr>\n",
       "      <td>159567</td>\n",
       "      <td>ashamed    horrible thing talk page</td>\n",
       "      <td>0</td>\n",
       "      <td>0</td>\n",
       "    </tr>\n",
       "    <tr>\n",
       "      <td>159568</td>\n",
       "      <td>spitzer    umm s actual article prostitution r...</td>\n",
       "      <td>0</td>\n",
       "      <td>0</td>\n",
       "    </tr>\n",
       "    <tr>\n",
       "      <td>159569</td>\n",
       "      <td>look like actually speedy version delete look</td>\n",
       "      <td>0</td>\n",
       "      <td>0</td>\n",
       "    </tr>\n",
       "    <tr>\n",
       "      <td>159570</td>\n",
       "      <td>not think understand   come idea bad right a...</td>\n",
       "      <td>0</td>\n",
       "      <td>0</td>\n",
       "    </tr>\n",
       "  </tbody>\n",
       "</table>\n",
       "<p>159571 rows × 3 columns</p>\n",
       "</div>"
      ]
     },
     "metadata": {},
     "execution_count": 25
    }
   ],
   "metadata": {
    "scrolled": true
   }
  },
  {
   "cell_type": "markdown",
   "source": [
    "## Обучение"
   ],
   "metadata": {}
  },
  {
   "cell_type": "markdown",
   "source": [
    "Разделим выборку на обучающую и тренировочную в соотношении 4:1."
   ],
   "metadata": {}
  },
  {
   "cell_type": "code",
   "execution_count": 26,
   "source": [
    "train, test = train_test_split(df_clean, test_size=0.2, random_state=12345)\n",
    "#train, valid = train_test_split(train, test_size=0.1875, random_state=12345)"
   ],
   "outputs": [],
   "metadata": {}
  },
  {
   "cell_type": "code",
   "execution_count": 27,
   "source": [
    "train.shape, test.shape"
   ],
   "outputs": [
    {
     "output_type": "execute_result",
     "data": {
      "text/plain": [
       "((127656, 3), (31915, 3))"
      ]
     },
     "metadata": {},
     "execution_count": 27
    }
   ],
   "metadata": {}
  },
  {
   "cell_type": "markdown",
   "source": [
    "Проверим баланс классов."
   ],
   "metadata": {}
  },
  {
   "cell_type": "code",
   "execution_count": 28,
   "source": [
    "for sample in [train, test]:\n",
    "    sample['toxic'].value_counts().plot(kind='bar')\n",
    "    print(f\"Target 1 / Target 0 ratio={sample['toxic'].value_counts()[1] / sample['toxic'].value_counts()[0]:.2%}\")\n",
    "    plt.show()"
   ],
   "outputs": [
    {
     "output_type": "stream",
     "name": "stdout",
     "text": [
      "Target 1 / Target 0 ratio=11.32%\n"
     ]
    },
    {
     "output_type": "display_data",
     "data": {
      "text/plain": [
       "<Figure size 432x288 with 1 Axes>"
      ],
      "image/png": "[encoded data removed]"
     },
     "metadata": {
      "needs_background": "light"
     }
    },
    {
     "output_type": "stream",
     "name": "stdout",
     "text": [
      "Target 1 / Target 0 ratio=11.30%\n"
     ]
    },
    {
     "output_type": "display_data",
     "data": {
      "text/plain": [
       "<Figure size 432x288 with 1 Axes>"
      ],
      "image/png": "[encoded data removed]"
     },
     "metadata": {
      "needs_background": "light"
     }
    }
   ],
   "metadata": {}
  },
  {
   "cell_type": "markdown",
   "source": [
    "Пайплайн обучения моделей.\n",
    "1) Векторизируем лемматизированый текст с помощью TfidfVectorizer;  \n",
    "2) Используя RandomizedSearchCV со страцифицированной кросс-валидацией по трем фолдам найдем гиперпараметры моделей и параметры векторизации признаков с наибольшей метрикой F1.  \n",
    "\n",
    "В качестве моделей используем LogisticRegression и LightGBM. Для них по умолчанию задаем гиперпараметр class_weight='balanced', так как в выбрке имеется дисбаланс целевого класса.  \n",
    "При векторизации текста подберем параметр числа N-грамм ngram_range от одной до двух.   "
   ],
   "metadata": {}
  },
  {
   "cell_type": "markdown",
   "source": [
    "Выделим тренировочный датасет для поиска гиперпараметров. Ранее добавленный признак 'caps_on' не будем использовать при поиске, используем его позже при тестировании моделей."
   ],
   "metadata": {}
  },
  {
   "cell_type": "code",
   "execution_count": 29,
   "source": [
    "data = train[['lem_text', 'toxic']]"
   ],
   "outputs": [],
   "metadata": {}
  },
  {
   "cell_type": "markdown",
   "source": [
    "### LogisticRegression"
   ],
   "metadata": {}
  },
  {
   "cell_type": "code",
   "execution_count": 30,
   "source": [
    "cv = StratifiedKFold(n_splits=3, shuffle=True, random_state=12345)\r\n",
    "lgr_pipeline = Pipeline([\r\n",
    "    ('vect', TfidfVectorizer()),\r\n",
    "    ('lgr', LogisticRegression(random_state=12345, class_weight='balanced')),\r\n",
    "])\r\n",
    "\r\n",
    "lgr_parameters = {\r\n",
    "    'vect__ngram_range': ((1, 1), (1, 2)),  \r\n",
    "    'lgr__solver': ('saga', 'liblinear'),\r\n",
    "    'lgr__C': np.linspace(1.0, 51, num=11),\r\n",
    "    'lgr__max_iter': (100, 200)\r\n",
    "}\r\n",
    "\r\n",
    "lgr_rand_search = RandomizedSearchCV(lgr_pipeline, lgr_parameters, n_jobs=-1, cv=cv, n_iter=6, scoring='f1', verbose=10)\r\n",
    "lgr_rand_search.fit(data.lem_text, data.toxic)"
   ],
   "outputs": [
    {
     "output_type": "stream",
     "name": "stdout",
     "text": [
      "Fitting 3 folds for each of 6 candidates, totalling 18 fits\n",
      "[CV] vect__ngram_range=(1, 1), lgr__solver=liblinear, lgr__max_iter=100, lgr__C=26.0 \n"
     ]
    },
    {
     "output_type": "stream",
     "name": "stderr",
     "text": [
      "[Parallel(n_jobs=-1)]: Using backend SequentialBackend with 1 concurrent workers.\n"
     ]
    },
    {
     "output_type": "stream",
     "name": "stdout",
     "text": [
      "[CV]  vect__ngram_range=(1, 1), lgr__solver=liblinear, lgr__max_iter=100, lgr__C=26.0, score=0.758, total=  39.8s\n",
      "[CV] vect__ngram_range=(1, 1), lgr__solver=liblinear, lgr__max_iter=100, lgr__C=26.0 \n"
     ]
    },
    {
     "output_type": "stream",
     "name": "stderr",
     "text": [
      "[Parallel(n_jobs=-1)]: Done   1 out of   1 | elapsed:   39.8s remaining:    0.0s\n"
     ]
    },
    {
     "output_type": "stream",
     "name": "stdout",
     "text": [
      "[CV]  vect__ngram_range=(1, 1), lgr__solver=liblinear, lgr__max_iter=100, lgr__C=26.0, score=0.765, total=  37.9s\n",
      "[CV] vect__ngram_range=(1, 1), lgr__solver=liblinear, lgr__max_iter=100, lgr__C=26.0 \n"
     ]
    },
    {
     "output_type": "stream",
     "name": "stderr",
     "text": [
      "[Parallel(n_jobs=-1)]: Done   2 out of   2 | elapsed:  1.3min remaining:    0.0s\n"
     ]
    },
    {
     "output_type": "stream",
     "name": "stdout",
     "text": [
      "[CV]  vect__ngram_range=(1, 1), lgr__solver=liblinear, lgr__max_iter=100, lgr__C=26.0, score=0.757, total=  38.6s\n",
      "[CV] vect__ngram_range=(1, 1), lgr__solver=liblinear, lgr__max_iter=100, lgr__C=41.0 \n"
     ]
    },
    {
     "output_type": "stream",
     "name": "stderr",
     "text": [
      "[Parallel(n_jobs=-1)]: Done   3 out of   3 | elapsed:  1.9min remaining:    0.0s\n"
     ]
    },
    {
     "output_type": "stream",
     "name": "stdout",
     "text": [
      "[CV]  vect__ngram_range=(1, 1), lgr__solver=liblinear, lgr__max_iter=100, lgr__C=41.0, score=0.755, total=  41.5s\n",
      "[CV] vect__ngram_range=(1, 1), lgr__solver=liblinear, lgr__max_iter=100, lgr__C=41.0 \n"
     ]
    },
    {
     "output_type": "stream",
     "name": "stderr",
     "text": [
      "[Parallel(n_jobs=-1)]: Done   4 out of   4 | elapsed:  2.6min remaining:    0.0s\n"
     ]
    },
    {
     "output_type": "stream",
     "name": "stdout",
     "text": [
      "[CV]  vect__ngram_range=(1, 1), lgr__solver=liblinear, lgr__max_iter=100, lgr__C=41.0, score=0.759, total=  40.2s\n",
      "[CV] vect__ngram_range=(1, 1), lgr__solver=liblinear, lgr__max_iter=100, lgr__C=41.0 \n"
     ]
    },
    {
     "output_type": "stream",
     "name": "stderr",
     "text": [
      "[Parallel(n_jobs=-1)]: Done   5 out of   5 | elapsed:  3.3min remaining:    0.0s\n"
     ]
    },
    {
     "output_type": "stream",
     "name": "stdout",
     "text": [
      "[CV]  vect__ngram_range=(1, 1), lgr__solver=liblinear, lgr__max_iter=100, lgr__C=41.0, score=0.753, total=  38.9s\n",
      "[CV] vect__ngram_range=(1, 1), lgr__solver=liblinear, lgr__max_iter=200, lgr__C=16.0 \n"
     ]
    },
    {
     "output_type": "stream",
     "name": "stderr",
     "text": [
      "[Parallel(n_jobs=-1)]: Done   6 out of   6 | elapsed:  4.0min remaining:    0.0s\n"
     ]
    },
    {
     "output_type": "stream",
     "name": "stdout",
     "text": [
      "[CV]  vect__ngram_range=(1, 1), lgr__solver=liblinear, lgr__max_iter=200, lgr__C=16.0, score=0.758, total=  34.2s\n",
      "[CV] vect__ngram_range=(1, 1), lgr__solver=liblinear, lgr__max_iter=200, lgr__C=16.0 \n"
     ]
    },
    {
     "output_type": "stream",
     "name": "stderr",
     "text": [
      "[Parallel(n_jobs=-1)]: Done   7 out of   7 | elapsed:  4.5min remaining:    0.0s\n"
     ]
    },
    {
     "output_type": "stream",
     "name": "stdout",
     "text": [
      "[CV]  vect__ngram_range=(1, 1), lgr__solver=liblinear, lgr__max_iter=200, lgr__C=16.0, score=0.767, total=  29.7s\n",
      "[CV] vect__ngram_range=(1, 1), lgr__solver=liblinear, lgr__max_iter=200, lgr__C=16.0 \n"
     ]
    },
    {
     "output_type": "stream",
     "name": "stderr",
     "text": [
      "[Parallel(n_jobs=-1)]: Done   8 out of   8 | elapsed:  5.0min remaining:    0.0s\n"
     ]
    },
    {
     "output_type": "stream",
     "name": "stdout",
     "text": [
      "[CV]  vect__ngram_range=(1, 1), lgr__solver=liblinear, lgr__max_iter=200, lgr__C=16.0, score=0.761, total=  28.5s\n",
      "[CV] vect__ngram_range=(1, 1), lgr__solver=liblinear, lgr__max_iter=200, lgr__C=11.0 \n"
     ]
    },
    {
     "output_type": "stream",
     "name": "stderr",
     "text": [
      "[Parallel(n_jobs=-1)]: Done   9 out of   9 | elapsed:  5.5min remaining:    0.0s\n"
     ]
    },
    {
     "output_type": "stream",
     "name": "stdout",
     "text": [
      "[CV]  vect__ngram_range=(1, 1), lgr__solver=liblinear, lgr__max_iter=200, lgr__C=11.0, score=0.758, total=  26.1s\n",
      "[CV] vect__ngram_range=(1, 1), lgr__solver=liblinear, lgr__max_iter=200, lgr__C=11.0 \n",
      "[CV]  vect__ngram_range=(1, 1), lgr__solver=liblinear, lgr__max_iter=200, lgr__C=11.0, score=0.768, total=  28.7s\n",
      "[CV] vect__ngram_range=(1, 1), lgr__solver=liblinear, lgr__max_iter=200, lgr__C=11.0 \n",
      "[CV]  vect__ngram_range=(1, 1), lgr__solver=liblinear, lgr__max_iter=200, lgr__C=11.0, score=0.762, total=  26.4s\n",
      "[CV] vect__ngram_range=(1, 1), lgr__solver=saga, lgr__max_iter=100, lgr__C=16.0 \n"
     ]
    },
    {
     "output_type": "stream",
     "name": "stderr",
     "text": [
      "/opt/conda/lib/python3.7/site-packages/sklearn/linear_model/sag.py:337: ConvergenceWarning: The max_iter was reached which means the coef_ did not converge\n",
      "  \"the coef_ did not converge\", ConvergenceWarning)\n"
     ]
    },
    {
     "output_type": "stream",
     "name": "stdout",
     "text": [
      "[CV]  vect__ngram_range=(1, 1), lgr__solver=saga, lgr__max_iter=100, lgr__C=16.0, score=0.753, total=   9.7s\n",
      "[CV] vect__ngram_range=(1, 1), lgr__solver=saga, lgr__max_iter=100, lgr__C=16.0 \n"
     ]
    },
    {
     "output_type": "stream",
     "name": "stderr",
     "text": [
      "/opt/conda/lib/python3.7/site-packages/sklearn/linear_model/sag.py:337: ConvergenceWarning: The max_iter was reached which means the coef_ did not converge\n",
      "  \"the coef_ did not converge\", ConvergenceWarning)\n"
     ]
    },
    {
     "output_type": "stream",
     "name": "stdout",
     "text": [
      "[CV]  vect__ngram_range=(1, 1), lgr__solver=saga, lgr__max_iter=100, lgr__C=16.0, score=0.748, total=   9.3s\n",
      "[CV] vect__ngram_range=(1, 1), lgr__solver=saga, lgr__max_iter=100, lgr__C=16.0 \n"
     ]
    },
    {
     "output_type": "stream",
     "name": "stderr",
     "text": [
      "/opt/conda/lib/python3.7/site-packages/sklearn/linear_model/sag.py:337: ConvergenceWarning: The max_iter was reached which means the coef_ did not converge\n",
      "  \"the coef_ did not converge\", ConvergenceWarning)\n"
     ]
    },
    {
     "output_type": "stream",
     "name": "stdout",
     "text": [
      "[CV]  vect__ngram_range=(1, 1), lgr__solver=saga, lgr__max_iter=100, lgr__C=16.0, score=0.759, total=   9.5s\n",
      "[CV] vect__ngram_range=(1, 2), lgr__solver=saga, lgr__max_iter=200, lgr__C=11.0 \n"
     ]
    },
    {
     "output_type": "stream",
     "name": "stderr",
     "text": [
      "/opt/conda/lib/python3.7/site-packages/sklearn/linear_model/sag.py:337: ConvergenceWarning: The max_iter was reached which means the coef_ did not converge\n",
      "  \"the coef_ did not converge\", ConvergenceWarning)\n"
     ]
    },
    {
     "output_type": "stream",
     "name": "stdout",
     "text": [
      "[CV]  vect__ngram_range=(1, 2), lgr__solver=saga, lgr__max_iter=200, lgr__C=11.0, score=0.777, total=  56.8s\n",
      "[CV] vect__ngram_range=(1, 2), lgr__solver=saga, lgr__max_iter=200, lgr__C=11.0 \n",
      "[CV]  vect__ngram_range=(1, 2), lgr__solver=saga, lgr__max_iter=200, lgr__C=11.0, score=0.788, total=  53.8s\n",
      "[CV] vect__ngram_range=(1, 2), lgr__solver=saga, lgr__max_iter=200, lgr__C=11.0 \n"
     ]
    },
    {
     "output_type": "stream",
     "name": "stderr",
     "text": [
      "/opt/conda/lib/python3.7/site-packages/sklearn/linear_model/sag.py:337: ConvergenceWarning: The max_iter was reached which means the coef_ did not converge\n",
      "  \"the coef_ did not converge\", ConvergenceWarning)\n"
     ]
    },
    {
     "output_type": "stream",
     "name": "stdout",
     "text": [
      "[CV]  vect__ngram_range=(1, 2), lgr__solver=saga, lgr__max_iter=200, lgr__C=11.0, score=0.784, total= 1.0min\n"
     ]
    },
    {
     "output_type": "stream",
     "name": "stderr",
     "text": [
      "[Parallel(n_jobs=-1)]: Done  18 out of  18 | elapsed: 10.2min finished\n",
      "/opt/conda/lib/python3.7/site-packages/sklearn/linear_model/sag.py:337: ConvergenceWarning: The max_iter was reached which means the coef_ did not converge\n",
      "  \"the coef_ did not converge\", ConvergenceWarning)\n"
     ]
    },
    {
     "output_type": "execute_result",
     "data": {
      "text/plain": [
       "RandomizedSearchCV(cv=StratifiedKFold(n_splits=3, random_state=12345, shuffle=True),\n",
       "                   error_score='raise-deprecating',\n",
       "                   estimator=Pipeline(memory=None,\n",
       "                                      steps=[('vect',\n",
       "                                              TfidfVectorizer(analyzer='word',\n",
       "                                                              binary=False,\n",
       "                                                              decode_error='strict',\n",
       "                                                              dtype=<class 'numpy.float64'>,\n",
       "                                                              encoding='utf-8',\n",
       "                                                              input='content',\n",
       "                                                              lowercase=True,\n",
       "                                                              max_df=1.0,\n",
       "                                                              max_features=None,\n",
       "                                                              min_df=1,\n",
       "                                                              ngram_ra...\n",
       "                                                                 verbose=0,\n",
       "                                                                 warm_start=False))],\n",
       "                                      verbose=False),\n",
       "                   iid='warn', n_iter=6, n_jobs=-1,\n",
       "                   param_distributions={'lgr__C': array([ 1.,  6., 11., 16., 21., 26., 31., 36., 41., 46., 51.]),\n",
       "                                        'lgr__max_iter': (100, 200),\n",
       "                                        'lgr__solver': ('saga', 'liblinear'),\n",
       "                                        'vect__ngram_range': ((1, 1), (1, 2))},\n",
       "                   pre_dispatch='2*n_jobs', random_state=None, refit=True,\n",
       "                   return_train_score=False, scoring='f1', verbose=10)"
      ]
     },
     "metadata": {},
     "execution_count": 30
    }
   ],
   "metadata": {
    "scrolled": true
   }
  },
  {
   "cell_type": "code",
   "execution_count": 31,
   "source": [
    "print(\"Лучшее значение средней метрики F1 на кросс-валидации: %0.3f\" % lgr_rand_search.best_score_)"
   ],
   "outputs": [
    {
     "output_type": "stream",
     "name": "stdout",
     "text": [
      "Лучшее значение средней метрики F1 на кросс-валидации: 0.783\n"
     ]
    }
   ],
   "metadata": {}
  },
  {
   "cell_type": "markdown",
   "source": [
    "### LGBMClassifier"
   ],
   "metadata": {}
  },
  {
   "cell_type": "code",
   "execution_count": 32,
   "source": [
    "lgbm_pipeline = Pipeline([\r\n",
    "    ('vect', TfidfVectorizer()),\r\n",
    "    ('lgbm', LGBMClassifier(random_state=12345, class_weight='balanced')),\r\n",
    "])\r\n",
    "\r\n",
    "lgbm_parameters = {\r\n",
    "    'vect__ngram_range': ((1, 1), (1, 2)),  \r\n",
    "    'lgbm__num_leaves' : (31, 61),\r\n",
    "    'lgbm__learning_rate' : np.linspace(0.15, 0.95, num=9),\r\n",
    "    'lgbm__n_estimators' : (100, 200)\r\n",
    "}\r\n",
    "\r\n",
    "lgbm_rand_search = RandomizedSearchCV(lgbm_pipeline, lgbm_parameters, n_jobs=-1, cv=cv, n_iter=3, scoring='f1', verbose=10)\r\n",
    "lgbm_rand_search.fit(data.lem_text, data.toxic)"
   ],
   "outputs": [
    {
     "output_type": "stream",
     "name": "stderr",
     "text": [
      "[Parallel(n_jobs=-1)]: Using backend SequentialBackend with 1 concurrent workers.\n"
     ]
    },
    {
     "output_type": "stream",
     "name": "stdout",
     "text": [
      "Fitting 3 folds for each of 3 candidates, totalling 9 fits\n",
      "[CV] vect__ngram_range=(1, 1), lgbm__num_leaves=61, lgbm__n_estimators=200, lgbm__learning_rate=0.15 \n",
      "[CV]  vect__ngram_range=(1, 1), lgbm__num_leaves=61, lgbm__n_estimators=200, lgbm__learning_rate=0.15, score=0.751, total= 7.0min\n",
      "[CV] vect__ngram_range=(1, 1), lgbm__num_leaves=61, lgbm__n_estimators=200, lgbm__learning_rate=0.15 \n"
     ]
    },
    {
     "output_type": "stream",
     "name": "stderr",
     "text": [
      "[Parallel(n_jobs=-1)]: Done   1 out of   1 | elapsed:  7.0min remaining:    0.0s\n"
     ]
    },
    {
     "output_type": "stream",
     "name": "stdout",
     "text": [
      "[CV]  vect__ngram_range=(1, 1), lgbm__num_leaves=61, lgbm__n_estimators=200, lgbm__learning_rate=0.15, score=0.759, total= 7.0min\n",
      "[CV] vect__ngram_range=(1, 1), lgbm__num_leaves=61, lgbm__n_estimators=200, lgbm__learning_rate=0.15 \n"
     ]
    },
    {
     "output_type": "stream",
     "name": "stderr",
     "text": [
      "[Parallel(n_jobs=-1)]: Done   2 out of   2 | elapsed: 14.1min remaining:    0.0s\n"
     ]
    },
    {
     "output_type": "stream",
     "name": "stdout",
     "text": [
      "[CV]  vect__ngram_range=(1, 1), lgbm__num_leaves=61, lgbm__n_estimators=200, lgbm__learning_rate=0.15, score=0.753, total= 6.8min\n",
      "[CV] vect__ngram_range=(1, 2), lgbm__num_leaves=61, lgbm__n_estimators=200, lgbm__learning_rate=0.75 \n"
     ]
    },
    {
     "output_type": "stream",
     "name": "stderr",
     "text": [
      "[Parallel(n_jobs=-1)]: Done   3 out of   3 | elapsed: 20.8min remaining:    0.0s\n"
     ]
    },
    {
     "output_type": "stream",
     "name": "stdout",
     "text": [
      "[CV]  vect__ngram_range=(1, 2), lgbm__num_leaves=61, lgbm__n_estimators=200, lgbm__learning_rate=0.75, score=0.587, total= 8.7min\n"
     ]
    },
    {
     "output_type": "stream",
     "name": "stderr",
     "text": [
      "[Parallel(n_jobs=-1)]: Done   4 out of   4 | elapsed: 29.5min remaining:    0.0s\n"
     ]
    },
    {
     "output_type": "stream",
     "name": "stdout",
     "text": [
      "[CV] vect__ngram_range=(1, 2), lgbm__num_leaves=61, lgbm__n_estimators=200, lgbm__learning_rate=0.75 \n",
      "[CV]  vect__ngram_range=(1, 2), lgbm__num_leaves=61, lgbm__n_estimators=200, lgbm__learning_rate=0.75, score=0.604, total= 8.6min\n"
     ]
    },
    {
     "output_type": "stream",
     "name": "stderr",
     "text": [
      "[Parallel(n_jobs=-1)]: Done   5 out of   5 | elapsed: 38.1min remaining:    0.0s\n"
     ]
    },
    {
     "output_type": "stream",
     "name": "stdout",
     "text": [
      "[CV] vect__ngram_range=(1, 2), lgbm__num_leaves=61, lgbm__n_estimators=200, lgbm__learning_rate=0.75 \n",
      "[CV]  vect__ngram_range=(1, 2), lgbm__num_leaves=61, lgbm__n_estimators=200, lgbm__learning_rate=0.75, score=0.594, total=12.6min\n"
     ]
    },
    {
     "output_type": "stream",
     "name": "stderr",
     "text": [
      "[Parallel(n_jobs=-1)]: Done   6 out of   6 | elapsed: 50.8min remaining:    0.0s\n"
     ]
    },
    {
     "output_type": "stream",
     "name": "stdout",
     "text": [
      "[CV] vect__ngram_range=(1, 2), lgbm__num_leaves=31, lgbm__n_estimators=200, lgbm__learning_rate=0.6499999999999999 \n",
      "[CV]  vect__ngram_range=(1, 2), lgbm__num_leaves=31, lgbm__n_estimators=200, lgbm__learning_rate=0.6499999999999999, score=0.697, total= 5.7min\n"
     ]
    },
    {
     "output_type": "stream",
     "name": "stderr",
     "text": [
      "[Parallel(n_jobs=-1)]: Done   7 out of   7 | elapsed: 56.4min remaining:    0.0s\n"
     ]
    },
    {
     "output_type": "stream",
     "name": "stdout",
     "text": [
      "[CV] vect__ngram_range=(1, 2), lgbm__num_leaves=31, lgbm__n_estimators=200, lgbm__learning_rate=0.6499999999999999 \n",
      "[CV]  vect__ngram_range=(1, 2), lgbm__num_leaves=31, lgbm__n_estimators=200, lgbm__learning_rate=0.6499999999999999, score=0.688, total= 4.8min\n"
     ]
    },
    {
     "output_type": "stream",
     "name": "stderr",
     "text": [
      "[Parallel(n_jobs=-1)]: Done   8 out of   8 | elapsed: 61.3min remaining:    0.0s\n"
     ]
    },
    {
     "output_type": "stream",
     "name": "stdout",
     "text": [
      "[CV] vect__ngram_range=(1, 2), lgbm__num_leaves=31, lgbm__n_estimators=200, lgbm__learning_rate=0.6499999999999999 \n",
      "[CV]  vect__ngram_range=(1, 2), lgbm__num_leaves=31, lgbm__n_estimators=200, lgbm__learning_rate=0.6499999999999999, score=0.677, total= 4.7min\n"
     ]
    },
    {
     "output_type": "stream",
     "name": "stderr",
     "text": [
      "[Parallel(n_jobs=-1)]: Done   9 out of   9 | elapsed: 66.0min remaining:    0.0s\n",
      "[Parallel(n_jobs=-1)]: Done   9 out of   9 | elapsed: 66.0min finished\n"
     ]
    },
    {
     "output_type": "execute_result",
     "data": {
      "text/plain": [
       "RandomizedSearchCV(cv=StratifiedKFold(n_splits=3, random_state=12345, shuffle=True),\n",
       "                   error_score='raise-deprecating',\n",
       "                   estimator=Pipeline(memory=None,\n",
       "                                      steps=[('vect',\n",
       "                                              TfidfVectorizer(analyzer='word',\n",
       "                                                              binary=False,\n",
       "                                                              decode_error='strict',\n",
       "                                                              dtype=<class 'numpy.float64'>,\n",
       "                                                              encoding='utf-8',\n",
       "                                                              input='content',\n",
       "                                                              lowercase=True,\n",
       "                                                              max_df=1.0,\n",
       "                                                              max_features=None,\n",
       "                                                              min_df=1,\n",
       "                                                              ngram_ra...\n",
       "                                                             subsample_freq=0))],\n",
       "                                      verbose=False),\n",
       "                   iid='warn', n_iter=3, n_jobs=-1,\n",
       "                   param_distributions={'lgbm__learning_rate': array([0.15, 0.25, 0.35, 0.45, 0.55, 0.65, 0.75, 0.85, 0.95]),\n",
       "                                        'lgbm__n_estimators': (100, 200),\n",
       "                                        'lgbm__num_leaves': (31, 61),\n",
       "                                        'vect__ngram_range': ((1, 1), (1, 2))},\n",
       "                   pre_dispatch='2*n_jobs', random_state=None, refit=True,\n",
       "                   return_train_score=False, scoring='f1', verbose=10)"
      ]
     },
     "metadata": {},
     "execution_count": 32
    }
   ],
   "metadata": {
    "scrolled": true
   }
  },
  {
   "cell_type": "code",
   "execution_count": 33,
   "source": [
    "print(\"Лучшее значение средней метрики F1 на кросс-валидации: %0.3f\" % lgbm_rand_search.best_score_)"
   ],
   "outputs": [
    {
     "output_type": "stream",
     "name": "stdout",
     "text": [
      "Лучшее значение средней метрики F1 на кросс-валидации: 0.754\n"
     ]
    }
   ],
   "metadata": {}
  },
  {
   "cell_type": "markdown",
   "source": [
    "Выведем лучшие параметры каждой модели."
   ],
   "metadata": {}
  },
  {
   "cell_type": "code",
   "execution_count": 34,
   "source": [
    "print(\"LogisticRegressiom parameters:\")\r\n",
    "print(lgr_parameters)\r\n",
    "print(\"Best F1-score : %0.3f\" % lgr_rand_search.best_score_)\r\n",
    "print(\"Best parameters set:\")\r\n",
    "lgr_best_parameters = lgr_rand_search.best_estimator_.get_params()\r\n",
    "for param_name in sorted(lgr_parameters.keys()):\r\n",
    "    print(\"\\t%s: %r\" % (param_name, lgr_best_parameters[param_name]))"
   ],
   "outputs": [
    {
     "output_type": "stream",
     "name": "stdout",
     "text": [
      "LogisticRegressiom parameters:\n",
      "{'vect__ngram_range': ((1, 1), (1, 2)), 'lgr__solver': ('saga', 'liblinear'), 'lgr__C': array([ 1.,  6., 11., 16., 21., 26., 31., 36., 41., 46., 51.]), 'lgr__max_iter': (100, 200)}\n",
      "Best F1-score : 0.783\n",
      "Best parameters set:\n",
      "\tlgr__C: 11.0\n",
      "\tlgr__max_iter: 200\n",
      "\tlgr__solver: 'saga'\n",
      "\tvect__ngram_range: (1, 2)\n"
     ]
    }
   ],
   "metadata": {}
  },
  {
   "cell_type": "code",
   "execution_count": 35,
   "source": [
    "print(\"LGBM parameters:\")\r\n",
    "print(lgbm_parameters)\r\n",
    "print(\"Best F1-score: %0.3f\" % lgbm_rand_search.best_score_)\r\n",
    "print(\"Best lgbm_parameters set:\")\r\n",
    "lgbm_best_parameters = lgbm_rand_search.best_estimator_.get_params()\r\n",
    "for param_name in sorted(lgbm_parameters.keys()):\r\n",
    "    print(\"\\t%s: %r\" % (param_name, lgbm_best_parameters[param_name]))"
   ],
   "outputs": [
    {
     "output_type": "stream",
     "name": "stdout",
     "text": [
      "LGBM parameters:\n",
      "{'vect__ngram_range': ((1, 1), (1, 2)), 'lgbm__num_leaves': (31, 61), 'lgbm__learning_rate': array([0.15, 0.25, 0.35, 0.45, 0.55, 0.65, 0.75, 0.85, 0.95]), 'lgbm__n_estimators': (100, 200)}\n",
      "Best F1-score: 0.754\n",
      "Best lgbm_parameters set:\n",
      "\tlgbm__learning_rate: 0.15\n",
      "\tlgbm__n_estimators: 200\n",
      "\tlgbm__num_leaves: 61\n",
      "\tvect__ngram_range: (1, 1)\n"
     ]
    }
   ],
   "metadata": {}
  },
  {
   "cell_type": "markdown",
   "source": [
    "Для каждой модели число N-грамм может быть разное из-за радномного поиска параметров, поэтому зададим разные переменные векторизации для обоих моделей."
   ],
   "metadata": {}
  },
  {
   "cell_type": "code",
   "execution_count": 36,
   "source": [
    "lgr_vectorizer = TfidfVectorizer(ngram_range=lgr_best_parameters['vect__ngram_range'])\r\n",
    "lgbm_vectorizer = TfidfVectorizer(ngram_range=lgbm_best_parameters['vect__ngram_range'])"
   ],
   "outputs": [],
   "metadata": {}
  },
  {
   "cell_type": "markdown",
   "source": [
    "### Тестирование моделей"
   ],
   "metadata": {}
  },
  {
   "cell_type": "markdown",
   "source": [
    "Получим векторы признаков tfidf для каждой модели. Для проверки выведем размерности матриц признаков."
   ],
   "metadata": {}
  },
  {
   "cell_type": "markdown",
   "source": [
    "Признаки для модели lgbm."
   ],
   "metadata": {}
  },
  {
   "cell_type": "code",
   "execution_count": 37,
   "source": [
    "X_train_tfidf_lgbm = lgbm_vectorizer.fit_transform(train['lem_text'])\r\n",
    "X_test_tfidf_lgbm = lgbm_vectorizer.transform(test['lem_text'])\r\n",
    "print(X_train_tfidf_lgbm.shape, X_test_tfidf_lgbm.shape)"
   ],
   "outputs": [
    {
     "output_type": "stream",
     "name": "stdout",
     "text": [
      "(127656, 178973) (31915, 178973)\n"
     ]
    }
   ],
   "metadata": {}
  },
  {
   "cell_type": "markdown",
   "source": [
    "Признаки для модели lgr."
   ],
   "metadata": {}
  },
  {
   "cell_type": "code",
   "execution_count": 38,
   "source": [
    "X_train_tfidf_lgr = lgr_vectorizer.fit_transform(train['lem_text'])\r\n",
    "X_test_tfidf_lgr = lgr_vectorizer.transform(test['lem_text'])\r\n",
    "print(X_train_tfidf_lgr.shape, X_test_tfidf_lgr.shape)"
   ],
   "outputs": [
    {
     "output_type": "stream",
     "name": "stdout",
     "text": [
      "(127656, 2046654) (31915, 2046654)\n"
     ]
    }
   ],
   "metadata": {}
  },
  {
   "cell_type": "markdown",
   "source": [
    "Не забываем про выделенный на этапе анализа данных призна caps_on, который будет положительным, если текст полностью написан в верхнем регистре. Добавим этот признак к полученным векторам и сохраним в отдельных переменных для тестирования. Признаков  станет на один больше."
   ],
   "metadata": {}
  },
  {
   "cell_type": "markdown",
   "source": [
    "Признаки для модели lgbm + признак caps_on."
   ],
   "metadata": {}
  },
  {
   "cell_type": "code",
   "execution_count": 39,
   "source": [
    "X_train_full_lgbm = hstack((X_train_tfidf_lgbm, train[['caps_on']]))\r\n",
    "X_test_full_lgbm = hstack((X_test_tfidf_lgbm, test[['caps_on']]))\r\n",
    "print(X_train_full_lgbm.shape, X_test_full_lgbm.shape)"
   ],
   "outputs": [
    {
     "output_type": "stream",
     "name": "stdout",
     "text": [
      "(127656, 178974) (31915, 178974)\n"
     ]
    }
   ],
   "metadata": {}
  },
  {
   "cell_type": "markdown",
   "source": [
    "Признаки для модели lgr + признак caps_on"
   ],
   "metadata": {}
  },
  {
   "cell_type": "code",
   "execution_count": 40,
   "source": [
    "X_train_full_lgr = hstack((X_train_tfidf_lgr, train[['caps_on']]))\r\n",
    "X_test_full_lgr = hstack((X_test_tfidf_lgr, test[['caps_on']]))\r\n",
    "print(X_train_full_lgr.shape, X_test_full_lgr.shape)"
   ],
   "outputs": [
    {
     "output_type": "stream",
     "name": "stdout",
     "text": [
      "(127656, 2046655) (31915, 2046655)\n"
     ]
    }
   ],
   "metadata": {}
  },
  {
   "cell_type": "markdown",
   "source": [
    "Кастомный признак написания твита в верхнем регистре добавлен."
   ],
   "metadata": {}
  },
  {
   "cell_type": "markdown",
   "source": [
    "Проведем тестирование моделей."
   ],
   "metadata": {}
  },
  {
   "cell_type": "markdown",
   "source": [
    "Создадим список для записи F1-меры на тестовых данных и пройдем в цикле моделью логистической регрессии с лучшими параметрами по признакам TF-IDF (tfidf_lgr) и TF-IDF+caps_on (full_lgr)."
   ],
   "metadata": {}
  },
  {
   "cell_type": "code",
   "execution_count": 41,
   "source": [
    "result = []\r\n",
    "for features_lgr in [[X_train_tfidf_lgr, X_test_tfidf_lgr], [X_train_full_lgr, X_test_full_lgr]]:\r\n",
    "    model = lgr_rand_search.best_estimator_[1]\r\n",
    "    model.fit(features_lgr[0], train['toxic'])\r\n",
    "    pred = model.predict(features_lgr[1])\r\n",
    "    f1 = f1_score(test['toxic'], pred)\r\n",
    "    result.append(f1)"
   ],
   "outputs": [
    {
     "output_type": "stream",
     "name": "stderr",
     "text": [
      "/opt/conda/lib/python3.7/site-packages/sklearn/linear_model/sag.py:337: ConvergenceWarning: The max_iter was reached which means the coef_ did not converge\n",
      "  \"the coef_ did not converge\", ConvergenceWarning)\n"
     ]
    }
   ],
   "metadata": {}
  },
  {
   "cell_type": "markdown",
   "source": [
    "Аналогично с моделью LGBV."
   ],
   "metadata": {}
  },
  {
   "cell_type": "code",
   "execution_count": 42,
   "source": [
    "for features_lgbm in [[X_train_tfidf_lgbm, X_test_tfidf_lgbm], [X_train_full_lgbm, X_test_full_lgbm]]:\r\n",
    "    model = lgbm_rand_search.best_estimator_[1]\r\n",
    "    model.fit(features_lgbm[0], train['toxic'])\r\n",
    "    pred = model.predict(features_lgbm[1])\r\n",
    "    f1 = f1_score(test['toxic'], pred)\r\n",
    "    result.append(f1)"
   ],
   "outputs": [
    {
     "output_type": "stream",
     "name": "stderr",
     "text": [
      "/opt/conda/lib/python3.7/site-packages/lightgbm/basic.py:546: UserWarning: Converting data to scipy sparse matrix.\n",
      "  warnings.warn('Converting data to scipy sparse matrix.')\n"
     ]
    }
   ],
   "metadata": {}
  },
  {
   "cell_type": "markdown",
   "source": [
    "Сведем результаты в таблицу."
   ],
   "metadata": {}
  },
  {
   "cell_type": "code",
   "execution_count": 43,
   "source": [
    "results = pd.DataFrame(\r\n",
    "    result, columns=['f1_score'], index =[\r\n",
    "        'LogisticRegression_TF_IDF', 'LogisticRegression_TF_IDF+add_feature', 'LGBM_TF_IDF', 'LGBM_TF_IDF+add_feature'])"
   ],
   "outputs": [],
   "metadata": {}
  },
  {
   "cell_type": "code",
   "execution_count": 44,
   "source": [
    "results"
   ],
   "outputs": [
    {
     "output_type": "execute_result",
     "data": {
      "text/plain": [
       "                                       f1_score\n",
       "LogisticRegression_TF_IDF              0.782084\n",
       "LogisticRegression_TF_IDF+add_feature  0.787343\n",
       "LGBM_TF_IDF                            0.750424\n",
       "LGBM_TF_IDF+add_feature                0.753554"
      ],
      "text/html": [
       "<div>\n",
       "<style scoped>\n",
       "    .dataframe tbody tr th:only-of-type {\n",
       "        vertical-align: middle;\n",
       "    }\n",
       "\n",
       "    .dataframe tbody tr th {\n",
       "        vertical-align: top;\n",
       "    }\n",
       "\n",
       "    .dataframe thead th {\n",
       "        text-align: right;\n",
       "    }\n",
       "</style>\n",
       "<table border=\"1\" class=\"dataframe\">\n",
       "  <thead>\n",
       "    <tr style=\"text-align: right;\">\n",
       "      <th></th>\n",
       "      <th>f1_score</th>\n",
       "    </tr>\n",
       "  </thead>\n",
       "  <tbody>\n",
       "    <tr>\n",
       "      <td>LogisticRegression_TF_IDF</td>\n",
       "      <td>0.782084</td>\n",
       "    </tr>\n",
       "    <tr>\n",
       "      <td>LogisticRegression_TF_IDF+add_feature</td>\n",
       "      <td>0.787343</td>\n",
       "    </tr>\n",
       "    <tr>\n",
       "      <td>LGBM_TF_IDF</td>\n",
       "      <td>0.750424</td>\n",
       "    </tr>\n",
       "    <tr>\n",
       "      <td>LGBM_TF_IDF+add_feature</td>\n",
       "      <td>0.753554</td>\n",
       "    </tr>\n",
       "  </tbody>\n",
       "</table>\n",
       "</div>"
      ]
     },
     "metadata": {},
     "execution_count": 44
    }
   ],
   "metadata": {}
  },
  {
   "cell_type": "markdown",
   "source": [
    "- Обе модели на тестовых данных показали метрику F-1 выше 0,75;\n",
    "- По результатам кросс-валидации F-1 мера для логистической регресии равна 0.783, а для LGBMClassifier 0,754;\n",
    "- Логистическая регрессия имеет F-1 меру (0.787343) выше, чем LGBMClassifier (0.753554); \n",
    "- Учет признака написания текста только в верхнем регистре повышает метрику на несколько сотых в обеих моделях.  "
   ],
   "metadata": {}
  },
  {
   "cell_type": "markdown",
   "source": [
    "## Выводы"
   ],
   "metadata": {}
  },
  {
   "cell_type": "markdown",
   "source": [
    "На этапе предобработки данных выделен признак caps_on - написание текста только в верхнем регистре.\n",
    "- символы разметки и сторонние символы, кроме буквенных удалены;\n",
    "- текст переведен в нижний регистр;\n",
    "- произведена лемматизация с удалением стоп-слов.\n",
    "\n",
    "Кросс-валидацией для TF-IDF подобран размер N-грамм векторизации текста и гиперпараметры моделей LogisticRegression, LGBMClassifier.\n",
    "- при кросс-валидации F-1 мера для LogisticRegression равна 0,783, а для LGBMClassifier 0,754. На тестовых 0,787343 и 0,753554, соответственно;\n",
    "- учет признака caps_on положительно сказался на метрике всех моделей;\n",
    "- модели на тестовых данных показали метрику F-1 выше необходимого значения 0.75, следовательно полученные модели позволяют искать токсичные комментарии.\n",
    "\n"
   ],
   "metadata": {}
  }
 ],
 "metadata": {
  "ExecuteTimeLog": [
   {
    "duration": 153,
    "start_time": "2021-08-16T15:58:44.801Z"
   },
   {
    "duration": 168,
    "start_time": "2021-08-16T15:58:46.484Z"
   },
   {
    "duration": 160,
    "start_time": "2021-08-16T15:58:47.715Z"
   },
   {
    "duration": 160,
    "start_time": "2021-08-16T15:58:48.932Z"
   },
   {
    "duration": 6684,
    "start_time": "2021-08-16T16:02:56.665Z"
   },
   {
    "duration": 3983,
    "start_time": "2021-08-16T16:03:04.619Z"
   },
   {
    "duration": 4003,
    "start_time": "2021-08-16T16:03:13.747Z"
   },
   {
    "duration": 1333,
    "start_time": "2021-08-16T16:09:20.046Z"
   },
   {
    "duration": 2019,
    "start_time": "2021-08-16T16:10:02.853Z"
   },
   {
    "duration": 2047,
    "start_time": "2021-08-16T16:11:13.910Z"
   },
   {
    "duration": 12,
    "start_time": "2021-08-16T16:11:40.837Z"
   },
   {
    "duration": 10,
    "start_time": "2021-08-16T16:11:48.115Z"
   },
   {
    "duration": 25,
    "start_time": "2021-08-16T16:12:56.429Z"
   },
   {
    "duration": 7,
    "start_time": "2021-08-16T16:14:20.102Z"
   },
   {
    "duration": 914,
    "start_time": "2021-08-16T16:19:30.497Z"
   },
   {
    "duration": 240,
    "start_time": "2021-08-16T16:35:39.909Z"
   },
   {
    "duration": 6,
    "start_time": "2021-08-16T16:35:57.157Z"
   },
   {
    "duration": 159,
    "start_time": "2021-08-16T16:36:10.370Z"
   },
   {
    "duration": 473,
    "start_time": "2021-08-16T16:36:31.746Z"
   },
   {
    "duration": 123,
    "start_time": "2021-08-16T16:36:56.770Z"
   },
   {
    "duration": 3,
    "start_time": "2021-08-16T16:44:00.434Z"
   },
   {
    "duration": 1303,
    "start_time": "2021-08-16T16:44:01.621Z"
   },
   {
    "duration": 3,
    "start_time": "2021-08-16T16:44:18.781Z"
   },
   {
    "duration": 3,
    "start_time": "2021-08-16T16:44:22.085Z"
   },
   {
    "duration": 1558,
    "start_time": "2021-08-16T16:44:22.512Z"
   },
   {
    "duration": 3,
    "start_time": "2021-08-16T16:44:33.773Z"
   },
   {
    "duration": 1168,
    "start_time": "2021-08-16T16:44:34.176Z"
   },
   {
    "duration": 3,
    "start_time": "2021-08-16T16:45:45.547Z"
   },
   {
    "duration": 1250,
    "start_time": "2021-08-16T16:45:46.056Z"
   },
   {
    "duration": 3,
    "start_time": "2021-08-16T16:47:01.474Z"
   },
   {
    "duration": 1174,
    "start_time": "2021-08-16T16:47:08.530Z"
   },
   {
    "duration": 3,
    "start_time": "2021-08-16T16:48:57.314Z"
   },
   {
    "duration": 1227,
    "start_time": "2021-08-16T16:48:59.503Z"
   },
   {
    "duration": 9,
    "start_time": "2021-08-16T16:51:28.645Z"
   },
   {
    "duration": 2170,
    "start_time": "2021-08-16T16:51:52.815Z"
   },
   {
    "duration": 11,
    "start_time": "2021-08-16T16:51:56.233Z"
   },
   {
    "duration": 3,
    "start_time": "2021-08-16T16:53:43.203Z"
   },
   {
    "duration": 4056,
    "start_time": "2021-08-16T16:53:43.607Z"
   },
   {
    "duration": 11,
    "start_time": "2021-08-16T16:53:47.665Z"
   },
   {
    "duration": 3,
    "start_time": "2021-08-16T16:53:52.155Z"
   },
   {
    "duration": 2065,
    "start_time": "2021-08-16T16:53:52.509Z"
   },
   {
    "duration": 10,
    "start_time": "2021-08-16T16:53:54.576Z"
   },
   {
    "duration": 8,
    "start_time": "2021-08-16T16:54:06.032Z"
   },
   {
    "duration": 1490,
    "start_time": "2021-08-17T06:07:00.013Z"
   },
   {
    "duration": 3333,
    "start_time": "2021-08-17T06:07:03.094Z"
   },
   {
    "duration": 13,
    "start_time": "2021-08-17T06:07:12.709Z"
   },
   {
    "duration": 340,
    "start_time": "2021-08-17T06:07:15.750Z"
   },
   {
    "duration": 4,
    "start_time": "2021-08-17T06:07:21.511Z"
   },
   {
    "duration": 3457,
    "start_time": "2021-08-17T06:07:25.597Z"
   },
   {
    "duration": 12,
    "start_time": "2021-08-17T06:07:29.805Z"
   },
   {
    "duration": 4,
    "start_time": "2021-08-17T06:08:29.466Z"
   },
   {
    "duration": 5693,
    "start_time": "2021-08-17T06:08:31.526Z"
   },
   {
    "duration": 14,
    "start_time": "2021-08-17T06:08:38.310Z"
   },
   {
    "duration": 4,
    "start_time": "2021-08-17T06:08:50.285Z"
   },
   {
    "duration": 3788,
    "start_time": "2021-08-17T06:08:50.636Z"
   },
   {
    "duration": 11,
    "start_time": "2021-08-17T06:08:54.428Z"
   },
   {
    "duration": 5,
    "start_time": "2021-08-17T06:10:45.642Z"
   },
   {
    "duration": 1925,
    "start_time": "2021-08-17T06:11:36.755Z"
   },
   {
    "duration": 19,
    "start_time": "2021-08-17T06:11:44.194Z"
   },
   {
    "duration": 44,
    "start_time": "2021-08-17T06:11:57.947Z"
   },
   {
    "duration": 5,
    "start_time": "2021-08-17T06:12:10.170Z"
   },
   {
    "duration": 3993,
    "start_time": "2021-08-17T06:12:11.257Z"
   },
   {
    "duration": 25,
    "start_time": "2021-08-17T06:12:15.253Z"
   },
   {
    "duration": 17,
    "start_time": "2021-08-17T06:12:37.803Z"
   },
   {
    "duration": 26,
    "start_time": "2021-08-17T06:13:21.050Z"
   },
   {
    "duration": 13,
    "start_time": "2021-08-17T06:14:00.346Z"
   },
   {
    "duration": 18,
    "start_time": "2021-08-17T06:24:40.697Z"
   },
   {
    "duration": 17,
    "start_time": "2021-08-17T06:24:48.928Z"
   },
   {
    "duration": 12,
    "start_time": "2021-08-17T06:31:20.629Z"
   },
   {
    "duration": 12,
    "start_time": "2021-08-17T06:31:29.548Z"
   },
   {
    "duration": 16,
    "start_time": "2021-08-17T06:31:53.485Z"
   },
   {
    "duration": 12,
    "start_time": "2021-08-17T06:34:42.547Z"
   },
   {
    "duration": 17,
    "start_time": "2021-08-17T06:37:00.649Z"
   },
   {
    "duration": 166,
    "start_time": "2021-08-17T07:12:09.865Z"
   },
   {
    "duration": 21,
    "start_time": "2021-08-17T07:12:14.674Z"
   },
   {
    "duration": 833,
    "start_time": "2021-08-17T07:24:08.737Z"
   },
   {
    "duration": 13,
    "start_time": "2021-08-17T07:24:22.720Z"
   },
   {
    "duration": 1553,
    "start_time": "2021-08-17T07:24:27.985Z"
   },
   {
    "duration": 4,
    "start_time": "2021-08-17T07:30:21.939Z"
   },
   {
    "duration": 7370,
    "start_time": "2021-08-17T07:31:06.878Z"
   },
   {
    "duration": 6,
    "start_time": "2021-08-17T07:32:00.764Z"
   },
   {
    "duration": 931526,
    "start_time": "2021-08-17T07:33:06.835Z"
   },
   {
    "duration": 270,
    "start_time": "2021-08-17T07:48:38.097Z"
   },
   {
    "duration": 53,
    "start_time": "2021-08-17T07:48:43.416Z"
   },
   {
    "duration": 268,
    "start_time": "2021-08-17T07:49:06.928Z"
   },
   {
    "duration": 5,
    "start_time": "2021-08-17T07:49:18.840Z"
   },
   {
    "duration": 27181,
    "start_time": "2021-08-17T07:49:21.482Z"
   },
   {
    "duration": 5,
    "start_time": "2021-08-17T07:49:55.080Z"
   },
   {
    "duration": 5,
    "start_time": "2021-08-17T07:50:06.856Z"
   },
   {
    "duration": 3066911,
    "start_time": "2021-08-17T07:50:07.501Z"
   },
   {
    "duration": 2254,
    "start_time": "2021-08-17T08:41:21.545Z"
   },
   {
    "duration": 100,
    "start_time": "2021-08-17T08:41:33.213Z"
   },
   {
    "duration": 5,
    "start_time": "2021-08-17T10:41:03.004Z"
   },
   {
    "duration": 11,
    "start_time": "2021-08-17T10:44:53.142Z"
   },
   {
    "duration": 24,
    "start_time": "2021-08-17T10:44:58.635Z"
   },
   {
    "duration": 17,
    "start_time": "2021-08-17T10:46:12.865Z"
   },
   {
    "duration": 54,
    "start_time": "2021-08-17T10:49:13.551Z"
   },
   {
    "duration": 5,
    "start_time": "2021-08-17T10:49:14.167Z"
   },
   {
    "duration": 6,
    "start_time": "2021-08-17T10:49:39.039Z"
   },
   {
    "duration": 4327,
    "start_time": "2021-08-17T11:10:09.406Z"
   },
   {
    "duration": 6,
    "start_time": "2021-08-17T11:10:18.114Z"
   },
   {
    "duration": 7,
    "start_time": "2021-08-17T11:10:24.201Z"
   },
   {
    "duration": 5,
    "start_time": "2021-08-17T11:10:41.202Z"
   },
   {
    "duration": 1282,
    "start_time": "2021-08-17T11:11:36.137Z"
   },
   {
    "duration": 267,
    "start_time": "2021-08-17T11:12:45.465Z"
   },
   {
    "duration": 4,
    "start_time": "2021-08-17T11:12:51.368Z"
   },
   {
    "duration": 5,
    "start_time": "2021-08-17T11:13:19.312Z"
   },
   {
    "duration": 7249,
    "start_time": "2021-08-17T11:14:18.847Z"
   },
   {
    "duration": 6,
    "start_time": "2021-08-17T11:14:33.175Z"
   },
   {
    "duration": 6964,
    "start_time": "2021-08-17T11:14:37.511Z"
   },
   {
    "duration": 21,
    "start_time": "2021-08-17T11:15:06.232Z"
   },
   {
    "duration": 4317,
    "start_time": "2021-08-17T11:16:33.750Z"
   },
   {
    "duration": 17,
    "start_time": "2021-08-17T11:16:43.159Z"
   },
   {
    "duration": 25,
    "start_time": "2021-08-17T11:16:59.629Z"
   },
   {
    "duration": 12138,
    "start_time": "2021-08-17T11:17:34.957Z"
   },
   {
    "duration": 26,
    "start_time": "2021-08-17T11:18:03.468Z"
   },
   {
    "duration": 13,
    "start_time": "2021-08-17T11:21:16.119Z"
   },
   {
    "duration": 332,
    "start_time": "2021-08-17T11:21:17.300Z"
   },
   {
    "duration": 251,
    "start_time": "2021-08-17T11:22:51.099Z"
   },
   {
    "duration": 5663,
    "start_time": "2021-08-17T11:22:53.601Z"
   },
   {
    "duration": 14995,
    "start_time": "2021-08-17T11:23:03.218Z"
   },
   {
    "duration": 8302,
    "start_time": "2021-08-17T11:23:39.305Z"
   },
   {
    "duration": 4,
    "start_time": "2021-08-17T11:23:49.879Z"
   },
   {
    "duration": 31,
    "start_time": "2021-08-17T11:36:57.759Z"
   },
   {
    "duration": 5612,
    "start_time": "2021-08-17T11:36:59.032Z"
   },
   {
    "duration": 2720,
    "start_time": "2021-08-17T11:37:04.647Z"
   },
   {
    "duration": 143,
    "start_time": "2021-08-17T11:37:07.226Z"
   },
   {
    "duration": 4,
    "start_time": "2021-08-17T11:37:15.736Z"
   },
   {
    "duration": 15041,
    "start_time": "2021-08-17T11:37:17.375Z"
   },
   {
    "duration": 14955,
    "start_time": "2021-08-17T11:37:34.649Z"
   },
   {
    "duration": 4275,
    "start_time": "2021-08-17T11:38:01.896Z"
   },
   {
    "duration": 5,
    "start_time": "2021-08-17T11:38:07.962Z"
   },
   {
    "duration": 10151,
    "start_time": "2021-08-17T11:38:16.706Z"
   },
   {
    "duration": 5,
    "start_time": "2021-08-17T11:38:37.199Z"
   },
   {
    "duration": 33320,
    "start_time": "2021-08-17T11:39:38.871Z"
   },
   {
    "duration": 5,
    "start_time": "2021-08-17T11:40:14.598Z"
   },
   {
    "duration": 26,
    "start_time": "2021-08-17T11:40:55.302Z"
   },
   {
    "duration": 22079,
    "start_time": "2021-08-17T11:40:57.350Z"
   },
   {
    "duration": 31538,
    "start_time": "2021-08-17T11:41:21.405Z"
   },
   {
    "duration": 21,
    "start_time": "2021-08-17T11:41:52.946Z"
   },
   {
    "duration": 223,
    "start_time": "2021-08-17T11:42:17.412Z"
   },
   {
    "duration": 43622,
    "start_time": "2021-08-17T11:42:19.708Z"
   },
   {
    "duration": 52896,
    "start_time": "2021-08-17T11:43:03.333Z"
   },
   {
    "duration": 6,
    "start_time": "2021-08-17T11:43:56.231Z"
   },
   {
    "duration": 534,
    "start_time": "2021-08-17T11:44:59.475Z"
   },
   {
    "duration": 17489,
    "start_time": "2021-08-17T11:45:00.579Z"
   },
   {
    "duration": 25404,
    "start_time": "2021-08-17T11:45:18.071Z"
   },
   {
    "duration": 10673,
    "start_time": "2021-08-17T11:45:59.362Z"
   },
   {
    "duration": 227,
    "start_time": "2021-08-17T11:46:20.857Z"
   },
   {
    "duration": 38203,
    "start_time": "2021-08-17T11:46:23.266Z"
   },
   {
    "duration": 50834,
    "start_time": "2021-08-17T11:47:01.472Z"
   },
   {
    "duration": 531,
    "start_time": "2021-08-17T11:48:19.288Z"
   },
   {
    "duration": 272,
    "start_time": "2021-08-17T11:48:21.680Z"
   },
   {
    "duration": 3,
    "start_time": "2021-08-17T11:48:28.785Z"
   },
   {
    "duration": 22105,
    "start_time": "2021-08-17T11:48:30.888Z"
   },
   {
    "duration": 248,
    "start_time": "2021-08-17T11:50:25.519Z"
   },
   {
    "duration": 21633,
    "start_time": "2021-08-17T11:50:29.303Z"
   },
   {
    "duration": 208,
    "start_time": "2021-08-17T11:51:07.159Z"
   },
   {
    "duration": 33517,
    "start_time": "2021-08-17T11:51:30.951Z"
   },
   {
    "duration": 219,
    "start_time": "2021-08-17T11:52:04.471Z"
   },
   {
    "duration": 235,
    "start_time": "2021-08-17T11:53:15.685Z"
   },
   {
    "duration": 286,
    "start_time": "2021-08-17T11:54:02.974Z"
   },
   {
    "duration": 228,
    "start_time": "2021-08-17T11:54:11.247Z"
   },
   {
    "duration": 292,
    "start_time": "2021-08-17T11:54:28.155Z"
   },
   {
    "duration": 227,
    "start_time": "2021-08-17T11:54:36.740Z"
   },
   {
    "duration": 235,
    "start_time": "2021-08-17T11:54:56.724Z"
   },
   {
    "duration": 417,
    "start_time": "2021-08-17T11:55:22.877Z"
   },
   {
    "duration": 5,
    "start_time": "2021-08-17T11:56:24.939Z"
   },
   {
    "duration": 236,
    "start_time": "2021-08-17T11:56:29.523Z"
   },
   {
    "duration": 238,
    "start_time": "2021-08-17T11:56:53.419Z"
   },
   {
    "duration": 235,
    "start_time": "2021-08-17T11:57:02.435Z"
   },
   {
    "duration": 629,
    "start_time": "2021-08-17T11:57:22.714Z"
   },
   {
    "duration": 641,
    "start_time": "2021-08-17T11:57:29.538Z"
   },
   {
    "duration": 845,
    "start_time": "2021-08-17T12:06:04.447Z"
   },
   {
    "duration": 83,
    "start_time": "2021-08-17T12:08:09.228Z"
   },
   {
    "duration": 632,
    "start_time": "2021-08-17T12:08:35.635Z"
   },
   {
    "duration": 629,
    "start_time": "2021-08-17T12:08:46.827Z"
   },
   {
    "duration": 633,
    "start_time": "2021-08-17T12:09:03.436Z"
   },
   {
    "duration": 616,
    "start_time": "2021-08-17T12:09:13.411Z"
   },
   {
    "duration": 689,
    "start_time": "2021-08-17T13:05:27.805Z"
   },
   {
    "duration": 475,
    "start_time": "2021-08-17T13:06:13.422Z"
   },
   {
    "duration": 618,
    "start_time": "2021-08-17T13:06:26.606Z"
   },
   {
    "duration": 505,
    "start_time": "2021-08-17T13:09:28.662Z"
   },
   {
    "duration": 652,
    "start_time": "2021-08-17T13:09:37.116Z"
   },
   {
    "duration": 5,
    "start_time": "2021-08-17T13:11:52.677Z"
   },
   {
    "duration": 684,
    "start_time": "2021-08-17T13:11:59.787Z"
   },
   {
    "duration": 696,
    "start_time": "2021-08-17T13:12:23.369Z"
   },
   {
    "duration": 273,
    "start_time": "2021-08-17T13:13:10.073Z"
   },
   {
    "duration": 17,
    "start_time": "2021-08-17T13:13:16.497Z"
   },
   {
    "duration": 17,
    "start_time": "2021-08-17T13:13:38.875Z"
   },
   {
    "duration": 639,
    "start_time": "2021-08-17T13:13:49.258Z"
   },
   {
    "duration": 84881,
    "start_time": "2021-08-17T13:19:46.889Z"
   },
   {
    "duration": 29655,
    "start_time": "2021-08-17T13:23:33.347Z"
   },
   {
    "duration": 79,
    "start_time": "2021-08-17T13:25:54.489Z"
   },
   {
    "duration": 524014,
    "start_time": "2021-08-17T13:29:30.252Z"
   },
   {
    "duration": 86568,
    "start_time": "2021-08-17T13:38:58.502Z"
   },
   {
    "duration": 47618,
    "start_time": "2021-08-17T13:41:14.416Z"
   },
   {
    "duration": 45285,
    "start_time": "2021-08-17T13:42:10.497Z"
   },
   {
    "duration": 31,
    "start_time": "2021-08-17T13:43:52.355Z"
   },
   {
    "duration": 36778,
    "start_time": "2021-08-17T13:43:55.997Z"
   },
   {
    "duration": 437555,
    "start_time": "2021-08-17T13:44:34.135Z"
   },
   {
    "duration": 248,
    "start_time": "2021-08-17T13:52:24.523Z"
   },
   {
    "duration": 47989,
    "start_time": "2021-08-17T13:53:18.728Z"
   },
   {
    "duration": 6127717,
    "start_time": "2021-08-17T13:54:10.827Z"
   },
   {
    "duration": 27,
    "start_time": "2021-08-17T15:39:39.990Z"
   },
   {
    "duration": 6,
    "start_time": "2021-08-17T15:39:41.089Z"
   },
   {
    "duration": 19,
    "start_time": "2021-08-17T15:40:01.888Z"
   },
   {
    "duration": 36,
    "start_time": "2021-08-17T15:40:03.962Z"
   },
   {
    "duration": 6,
    "start_time": "2021-08-17T15:40:04.362Z"
   },
   {
    "duration": 434,
    "start_time": "2021-08-17T15:40:11.881Z"
   },
   {
    "duration": 3029,
    "start_time": "2021-08-17T15:44:25.010Z"
   },
   {
    "duration": 22624,
    "start_time": "2021-08-17T15:46:15.992Z"
   },
   {
    "duration": 18,
    "start_time": "2021-08-17T15:47:27.685Z"
   },
   {
    "duration": 30,
    "start_time": "2021-08-17T15:47:36.661Z"
   },
   {
    "duration": 6,
    "start_time": "2021-08-17T15:47:38.060Z"
   },
   {
    "duration": 459,
    "start_time": "2021-08-17T15:47:41.197Z"
   },
   {
    "duration": 3577,
    "start_time": "2021-08-17T15:49:16.859Z"
   },
   {
    "duration": -23,
    "start_time": "2021-08-17T15:49:20.463Z"
   },
   {
    "duration": -29,
    "start_time": "2021-08-17T15:49:20.471Z"
   },
   {
    "duration": -31,
    "start_time": "2021-08-17T15:49:20.474Z"
   },
   {
    "duration": -31,
    "start_time": "2021-08-17T15:49:20.476Z"
   },
   {
    "duration": -32,
    "start_time": "2021-08-17T15:49:20.478Z"
   },
   {
    "duration": -33,
    "start_time": "2021-08-17T15:49:20.480Z"
   },
   {
    "duration": -38,
    "start_time": "2021-08-17T15:49:20.486Z"
   },
   {
    "duration": -39,
    "start_time": "2021-08-17T15:49:20.489Z"
   },
   {
    "duration": -41,
    "start_time": "2021-08-17T15:49:20.492Z"
   },
   {
    "duration": -42,
    "start_time": "2021-08-17T15:49:20.494Z"
   },
   {
    "duration": -44,
    "start_time": "2021-08-17T15:49:20.497Z"
   },
   {
    "duration": -44,
    "start_time": "2021-08-17T15:49:20.499Z"
   },
   {
    "duration": -45,
    "start_time": "2021-08-17T15:49:20.501Z"
   },
   {
    "duration": -46,
    "start_time": "2021-08-17T15:49:20.504Z"
   },
   {
    "duration": -47,
    "start_time": "2021-08-17T15:49:20.506Z"
   },
   {
    "duration": -47,
    "start_time": "2021-08-17T15:49:20.508Z"
   },
   {
    "duration": -48,
    "start_time": "2021-08-17T15:49:20.511Z"
   },
   {
    "duration": -49,
    "start_time": "2021-08-17T15:49:20.514Z"
   },
   {
    "duration": -51,
    "start_time": "2021-08-17T15:49:20.517Z"
   },
   {
    "duration": -51,
    "start_time": "2021-08-17T15:49:20.519Z"
   },
   {
    "duration": -51,
    "start_time": "2021-08-17T15:49:20.520Z"
   },
   {
    "duration": -51,
    "start_time": "2021-08-17T15:49:20.522Z"
   },
   {
    "duration": -51,
    "start_time": "2021-08-17T15:49:20.524Z"
   },
   {
    "duration": -51,
    "start_time": "2021-08-17T15:49:20.526Z"
   },
   {
    "duration": -56,
    "start_time": "2021-08-17T15:49:20.533Z"
   },
   {
    "duration": -56,
    "start_time": "2021-08-17T15:49:20.535Z"
   },
   {
    "duration": -56,
    "start_time": "2021-08-17T15:49:20.537Z"
   },
   {
    "duration": -56,
    "start_time": "2021-08-17T15:49:20.539Z"
   },
   {
    "duration": -54,
    "start_time": "2021-08-17T15:49:20.540Z"
   },
   {
    "duration": -54,
    "start_time": "2021-08-17T15:49:20.542Z"
   },
   {
    "duration": -68,
    "start_time": "2021-08-17T15:49:20.558Z"
   },
   {
    "duration": -72,
    "start_time": "2021-08-17T15:49:20.564Z"
   },
   {
    "duration": 2248,
    "start_time": "2021-08-17T15:50:16.579Z"
   },
   {
    "duration": 5244,
    "start_time": "2021-08-17T15:50:18.829Z"
   },
   {
    "duration": -51,
    "start_time": "2021-08-17T15:50:24.128Z"
   },
   {
    "duration": -53,
    "start_time": "2021-08-17T15:50:24.131Z"
   },
   {
    "duration": -54,
    "start_time": "2021-08-17T15:50:24.134Z"
   },
   {
    "duration": -76,
    "start_time": "2021-08-17T15:50:24.157Z"
   },
   {
    "duration": -77,
    "start_time": "2021-08-17T15:50:24.159Z"
   },
   {
    "duration": -77,
    "start_time": "2021-08-17T15:50:24.160Z"
   },
   {
    "duration": -78,
    "start_time": "2021-08-17T15:50:24.162Z"
   },
   {
    "duration": -77,
    "start_time": "2021-08-17T15:50:24.163Z"
   },
   {
    "duration": -79,
    "start_time": "2021-08-17T15:50:24.166Z"
   },
   {
    "duration": -79,
    "start_time": "2021-08-17T15:50:24.167Z"
   },
   {
    "duration": -80,
    "start_time": "2021-08-17T15:50:24.169Z"
   },
   {
    "duration": -80,
    "start_time": "2021-08-17T15:50:24.171Z"
   },
   {
    "duration": -103,
    "start_time": "2021-08-17T15:50:24.195Z"
   },
   {
    "duration": -104,
    "start_time": "2021-08-17T15:50:24.197Z"
   },
   {
    "duration": -105,
    "start_time": "2021-08-17T15:50:24.199Z"
   },
   {
    "duration": -105,
    "start_time": "2021-08-17T15:50:24.201Z"
   },
   {
    "duration": -112,
    "start_time": "2021-08-17T15:50:24.209Z"
   },
   {
    "duration": -114,
    "start_time": "2021-08-17T15:50:24.212Z"
   },
   {
    "duration": -117,
    "start_time": "2021-08-17T15:50:24.216Z"
   },
   {
    "duration": -123,
    "start_time": "2021-08-17T15:50:24.223Z"
   },
   {
    "duration": -123,
    "start_time": "2021-08-17T15:50:24.225Z"
   },
   {
    "duration": -124,
    "start_time": "2021-08-17T15:50:24.227Z"
   },
   {
    "duration": -126,
    "start_time": "2021-08-17T15:50:24.230Z"
   },
   {
    "duration": -127,
    "start_time": "2021-08-17T15:50:24.232Z"
   },
   {
    "duration": -127,
    "start_time": "2021-08-17T15:50:24.234Z"
   },
   {
    "duration": -128,
    "start_time": "2021-08-17T15:50:24.236Z"
   },
   {
    "duration": -130,
    "start_time": "2021-08-17T15:50:24.239Z"
   },
   {
    "duration": -131,
    "start_time": "2021-08-17T15:50:24.241Z"
   },
   {
    "duration": -132,
    "start_time": "2021-08-17T15:50:24.243Z"
   },
   {
    "duration": -133,
    "start_time": "2021-08-17T15:50:24.245Z"
   },
   {
    "duration": -82,
    "start_time": "2021-08-17T15:50:24.249Z"
   },
   {
    "duration": 2304,
    "start_time": "2021-08-17T15:50:50.431Z"
   },
   {
    "duration": 6360,
    "start_time": "2021-08-17T15:50:52.738Z"
   },
   {
    "duration": 14,
    "start_time": "2021-08-17T15:50:59.104Z"
   },
   {
    "duration": 257,
    "start_time": "2021-08-17T15:50:59.120Z"
   },
   {
    "duration": 4,
    "start_time": "2021-08-17T15:50:59.381Z"
   },
   {
    "duration": 3513,
    "start_time": "2021-08-17T15:50:59.388Z"
   },
   {
    "duration": 11,
    "start_time": "2021-08-17T15:51:02.903Z"
   },
   {
    "duration": 20,
    "start_time": "2021-08-17T15:51:02.917Z"
   },
   {
    "duration": 3801,
    "start_time": "2021-08-17T15:51:02.939Z"
   },
   {
    "duration": 54,
    "start_time": "2021-08-17T15:51:06.742Z"
   },
   {
    "duration": 12,
    "start_time": "2021-08-17T15:51:06.799Z"
   },
   {
    "duration": 17,
    "start_time": "2021-08-17T15:51:06.814Z"
   },
   {
    "duration": 223,
    "start_time": "2021-08-17T15:51:06.834Z"
   },
   {
    "duration": 13,
    "start_time": "2021-08-17T15:51:07.060Z"
   },
   {
    "duration": 1859,
    "start_time": "2021-08-17T15:51:07.076Z"
   },
   {
    "duration": 4,
    "start_time": "2021-08-17T15:51:08.938Z"
   },
   {
    "duration": 466,
    "start_time": "2021-08-17T15:51:08.946Z"
   },
   {
    "duration": -10,
    "start_time": "2021-08-17T15:51:09.425Z"
   },
   {
    "duration": -9,
    "start_time": "2021-08-17T15:51:09.426Z"
   },
   {
    "duration": -10,
    "start_time": "2021-08-17T15:51:09.428Z"
   },
   {
    "duration": -13,
    "start_time": "2021-08-17T15:51:09.433Z"
   },
   {
    "duration": -22,
    "start_time": "2021-08-17T15:51:09.443Z"
   },
   {
    "duration": -23,
    "start_time": "2021-08-17T15:51:09.446Z"
   },
   {
    "duration": -24,
    "start_time": "2021-08-17T15:51:09.448Z"
   },
   {
    "duration": -25,
    "start_time": "2021-08-17T15:51:09.450Z"
   },
   {
    "duration": -25,
    "start_time": "2021-08-17T15:51:09.451Z"
   },
   {
    "duration": -25,
    "start_time": "2021-08-17T15:51:09.453Z"
   },
   {
    "duration": -26,
    "start_time": "2021-08-17T15:51:09.455Z"
   },
   {
    "duration": -27,
    "start_time": "2021-08-17T15:51:09.457Z"
   },
   {
    "duration": -26,
    "start_time": "2021-08-17T15:51:09.458Z"
   },
   {
    "duration": -27,
    "start_time": "2021-08-17T15:51:09.460Z"
   },
   {
    "duration": -32,
    "start_time": "2021-08-17T15:51:09.467Z"
   },
   {
    "duration": -35,
    "start_time": "2021-08-17T15:51:09.471Z"
   },
   {
    "duration": 2262,
    "start_time": "2021-08-17T15:52:24.850Z"
   },
   {
    "duration": 3317,
    "start_time": "2021-08-17T15:52:27.115Z"
   },
   {
    "duration": 13,
    "start_time": "2021-08-17T15:52:30.434Z"
   },
   {
    "duration": 254,
    "start_time": "2021-08-17T15:52:30.450Z"
   },
   {
    "duration": 4,
    "start_time": "2021-08-17T15:52:30.706Z"
   },
   {
    "duration": 3584,
    "start_time": "2021-08-17T15:52:30.712Z"
   },
   {
    "duration": 15,
    "start_time": "2021-08-17T15:52:34.298Z"
   },
   {
    "duration": 5,
    "start_time": "2021-08-17T15:52:34.319Z"
   },
   {
    "duration": 3815,
    "start_time": "2021-08-17T15:52:34.327Z"
   },
   {
    "duration": 55,
    "start_time": "2021-08-17T15:52:38.144Z"
   },
   {
    "duration": 13,
    "start_time": "2021-08-17T15:52:38.202Z"
   },
   {
    "duration": 18,
    "start_time": "2021-08-17T15:52:38.218Z"
   },
   {
    "duration": 235,
    "start_time": "2021-08-17T15:52:38.238Z"
   },
   {
    "duration": 13,
    "start_time": "2021-08-17T15:52:38.475Z"
   },
   {
    "duration": 1499,
    "start_time": "2021-08-17T15:52:38.491Z"
   },
   {
    "duration": 5,
    "start_time": "2021-08-17T15:52:39.992Z"
   },
   {
    "duration": 21,
    "start_time": "2021-08-17T15:52:39.999Z"
   },
   {
    "duration": 46398,
    "start_time": "2021-08-17T15:52:40.022Z"
   },
   {
    "duration": -89,
    "start_time": "2021-08-17T15:53:26.512Z"
   },
   {
    "duration": -89,
    "start_time": "2021-08-17T15:53:26.514Z"
   },
   {
    "duration": -90,
    "start_time": "2021-08-17T15:53:26.516Z"
   },
   {
    "duration": -91,
    "start_time": "2021-08-17T15:53:26.518Z"
   },
   {
    "duration": -91,
    "start_time": "2021-08-17T15:53:26.520Z"
   },
   {
    "duration": -91,
    "start_time": "2021-08-17T15:53:26.521Z"
   },
   {
    "duration": -91,
    "start_time": "2021-08-17T15:53:26.523Z"
   },
   {
    "duration": -91,
    "start_time": "2021-08-17T15:53:26.524Z"
   },
   {
    "duration": -92,
    "start_time": "2021-08-17T15:53:26.526Z"
   },
   {
    "duration": -91,
    "start_time": "2021-08-17T15:53:26.527Z"
   },
   {
    "duration": -92,
    "start_time": "2021-08-17T15:53:26.529Z"
   },
   {
    "duration": -91,
    "start_time": "2021-08-17T15:53:26.530Z"
   },
   {
    "duration": -92,
    "start_time": "2021-08-17T15:53:26.532Z"
   },
   {
    "duration": -91,
    "start_time": "2021-08-17T15:53:26.534Z"
   },
   {
    "duration": -96,
    "start_time": "2021-08-17T15:53:26.540Z"
   },
   {
    "duration": 2192,
    "start_time": "2021-08-17T15:53:41.207Z"
   },
   {
    "duration": 5041,
    "start_time": "2021-08-17T15:53:43.402Z"
   },
   {
    "duration": 29,
    "start_time": "2021-08-17T15:53:48.446Z"
   },
   {
    "duration": 238,
    "start_time": "2021-08-17T15:53:48.477Z"
   },
   {
    "duration": 4,
    "start_time": "2021-08-17T15:53:48.718Z"
   },
   {
    "duration": 3451,
    "start_time": "2021-08-17T15:53:48.724Z"
   },
   {
    "duration": 11,
    "start_time": "2021-08-17T15:53:52.177Z"
   },
   {
    "duration": 5,
    "start_time": "2021-08-17T15:53:52.192Z"
   },
   {
    "duration": 3769,
    "start_time": "2021-08-17T15:53:52.200Z"
   },
   {
    "duration": 46,
    "start_time": "2021-08-17T15:53:55.971Z"
   },
   {
    "duration": 12,
    "start_time": "2021-08-17T15:53:56.020Z"
   },
   {
    "duration": 43,
    "start_time": "2021-08-17T15:53:56.035Z"
   },
   {
    "duration": 218,
    "start_time": "2021-08-17T15:53:56.081Z"
   },
   {
    "duration": 12,
    "start_time": "2021-08-17T15:53:56.302Z"
   },
   {
    "duration": 1511,
    "start_time": "2021-08-17T15:53:56.317Z"
   },
   {
    "duration": 4,
    "start_time": "2021-08-17T15:53:57.831Z"
   },
   {
    "duration": 408,
    "start_time": "2021-08-17T15:53:57.837Z"
   },
   {
    "duration": -10,
    "start_time": "2021-08-17T15:53:58.258Z"
   },
   {
    "duration": -11,
    "start_time": "2021-08-17T15:53:58.260Z"
   },
   {
    "duration": -11,
    "start_time": "2021-08-17T15:53:58.262Z"
   },
   {
    "duration": -15,
    "start_time": "2021-08-17T15:53:58.267Z"
   },
   {
    "duration": -16,
    "start_time": "2021-08-17T15:53:58.270Z"
   },
   {
    "duration": -20,
    "start_time": "2021-08-17T15:53:58.275Z"
   },
   {
    "duration": -20,
    "start_time": "2021-08-17T15:53:58.276Z"
   },
   {
    "duration": -20,
    "start_time": "2021-08-17T15:53:58.278Z"
   },
   {
    "duration": -21,
    "start_time": "2021-08-17T15:53:58.280Z"
   },
   {
    "duration": -20,
    "start_time": "2021-08-17T15:53:58.281Z"
   },
   {
    "duration": -21,
    "start_time": "2021-08-17T15:53:58.283Z"
   },
   {
    "duration": -26,
    "start_time": "2021-08-17T15:53:58.289Z"
   },
   {
    "duration": -26,
    "start_time": "2021-08-17T15:53:58.290Z"
   },
   {
    "duration": -43,
    "start_time": "2021-08-17T15:53:58.308Z"
   },
   {
    "duration": -43,
    "start_time": "2021-08-17T15:53:58.310Z"
   },
   {
    "duration": -43,
    "start_time": "2021-08-17T15:53:58.311Z"
   },
   {
    "duration": 2291,
    "start_time": "2021-08-17T15:54:12.855Z"
   },
   {
    "duration": 1708,
    "start_time": "2021-08-17T15:54:15.148Z"
   },
   {
    "duration": 14,
    "start_time": "2021-08-17T15:54:16.866Z"
   },
   {
    "duration": 253,
    "start_time": "2021-08-17T15:54:16.883Z"
   },
   {
    "duration": 4,
    "start_time": "2021-08-17T15:54:17.138Z"
   },
   {
    "duration": 3553,
    "start_time": "2021-08-17T15:54:17.145Z"
   },
   {
    "duration": 11,
    "start_time": "2021-08-17T15:54:20.700Z"
   },
   {
    "duration": 9,
    "start_time": "2021-08-17T15:54:20.714Z"
   },
   {
    "duration": 3750,
    "start_time": "2021-08-17T15:54:20.726Z"
   },
   {
    "duration": 48,
    "start_time": "2021-08-17T15:54:24.478Z"
   },
   {
    "duration": 39,
    "start_time": "2021-08-17T15:54:24.529Z"
   },
   {
    "duration": 19,
    "start_time": "2021-08-17T15:54:24.571Z"
   },
   {
    "duration": 215,
    "start_time": "2021-08-17T15:54:24.594Z"
   },
   {
    "duration": 13,
    "start_time": "2021-08-17T15:54:24.812Z"
   },
   {
    "duration": 1595,
    "start_time": "2021-08-17T15:54:24.828Z"
   },
   {
    "duration": 4,
    "start_time": "2021-08-17T15:54:26.426Z"
   },
   {
    "duration": 16,
    "start_time": "2021-08-17T15:54:26.433Z"
   },
   {
    "duration": 256510,
    "start_time": "2021-08-17T15:54:26.451Z"
   },
   {
    "duration": -98,
    "start_time": "2021-08-17T15:58:43.062Z"
   },
   {
    "duration": -98,
    "start_time": "2021-08-17T15:58:43.065Z"
   },
   {
    "duration": -99,
    "start_time": "2021-08-17T15:58:43.067Z"
   },
   {
    "duration": -98,
    "start_time": "2021-08-17T15:58:43.068Z"
   },
   {
    "duration": -99,
    "start_time": "2021-08-17T15:58:43.070Z"
   },
   {
    "duration": -100,
    "start_time": "2021-08-17T15:58:43.072Z"
   },
   {
    "duration": -99,
    "start_time": "2021-08-17T15:58:43.073Z"
   },
   {
    "duration": -104,
    "start_time": "2021-08-17T15:58:43.079Z"
   },
   {
    "duration": -104,
    "start_time": "2021-08-17T15:58:43.081Z"
   },
   {
    "duration": -104,
    "start_time": "2021-08-17T15:58:43.082Z"
   },
   {
    "duration": -104,
    "start_time": "2021-08-17T15:58:43.084Z"
   },
   {
    "duration": -104,
    "start_time": "2021-08-17T15:58:43.085Z"
   },
   {
    "duration": -105,
    "start_time": "2021-08-17T15:58:43.088Z"
   },
   {
    "duration": -106,
    "start_time": "2021-08-17T15:58:43.090Z"
   },
   {
    "duration": -109,
    "start_time": "2021-08-17T15:58:43.095Z"
   },
   {
    "duration": 6,
    "start_time": "2021-08-17T15:58:52.890Z"
   },
   {
    "duration": 2304,
    "start_time": "2021-08-17T15:58:57.425Z"
   },
   {
    "duration": 4680,
    "start_time": "2021-08-17T15:58:59.732Z"
   },
   {
    "duration": 15,
    "start_time": "2021-08-17T15:59:04.415Z"
   },
   {
    "duration": 260,
    "start_time": "2021-08-17T15:59:04.433Z"
   },
   {
    "duration": 5,
    "start_time": "2021-08-17T15:59:04.695Z"
   },
   {
    "duration": 3474,
    "start_time": "2021-08-17T15:59:04.702Z"
   },
   {
    "duration": 11,
    "start_time": "2021-08-17T15:59:08.179Z"
   },
   {
    "duration": 9,
    "start_time": "2021-08-17T15:59:08.192Z"
   },
   {
    "duration": 3713,
    "start_time": "2021-08-17T15:59:08.205Z"
   },
   {
    "duration": 55,
    "start_time": "2021-08-17T15:59:11.921Z"
   },
   {
    "duration": 12,
    "start_time": "2021-08-17T15:59:11.979Z"
   },
   {
    "duration": 16,
    "start_time": "2021-08-17T15:59:11.994Z"
   },
   {
    "duration": 224,
    "start_time": "2021-08-17T15:59:12.013Z"
   },
   {
    "duration": 14,
    "start_time": "2021-08-17T15:59:12.239Z"
   },
   {
    "duration": 1518,
    "start_time": "2021-08-17T15:59:12.255Z"
   },
   {
    "duration": 4,
    "start_time": "2021-08-17T15:59:13.775Z"
   },
   {
    "duration": 498,
    "start_time": "2021-08-17T15:59:13.781Z"
   },
   {
    "duration": -8,
    "start_time": "2021-08-17T15:59:14.290Z"
   },
   {
    "duration": -8,
    "start_time": "2021-08-17T15:59:14.291Z"
   },
   {
    "duration": -8,
    "start_time": "2021-08-17T15:59:14.293Z"
   },
   {
    "duration": -9,
    "start_time": "2021-08-17T15:59:14.295Z"
   },
   {
    "duration": -21,
    "start_time": "2021-08-17T15:59:14.308Z"
   },
   {
    "duration": -21,
    "start_time": "2021-08-17T15:59:14.310Z"
   },
   {
    "duration": -26,
    "start_time": "2021-08-17T15:59:14.316Z"
   },
   {
    "duration": -27,
    "start_time": "2021-08-17T15:59:14.318Z"
   },
   {
    "duration": -27,
    "start_time": "2021-08-17T15:59:14.319Z"
   },
   {
    "duration": -28,
    "start_time": "2021-08-17T15:59:14.321Z"
   },
   {
    "duration": -28,
    "start_time": "2021-08-17T15:59:14.323Z"
   },
   {
    "duration": -28,
    "start_time": "2021-08-17T15:59:14.325Z"
   },
   {
    "duration": -29,
    "start_time": "2021-08-17T15:59:14.327Z"
   },
   {
    "duration": -29,
    "start_time": "2021-08-17T15:59:14.328Z"
   },
   {
    "duration": -30,
    "start_time": "2021-08-17T15:59:14.330Z"
   },
   {
    "duration": -30,
    "start_time": "2021-08-17T15:59:14.332Z"
   },
   {
    "duration": 1676,
    "start_time": "2021-08-17T15:59:52.450Z"
   },
   {
    "duration": -14,
    "start_time": "2021-08-17T15:59:54.144Z"
   },
   {
    "duration": -18,
    "start_time": "2021-08-17T15:59:54.149Z"
   },
   {
    "duration": -27,
    "start_time": "2021-08-17T15:59:54.160Z"
   },
   {
    "duration": -30,
    "start_time": "2021-08-17T15:59:54.164Z"
   },
   {
    "duration": -31,
    "start_time": "2021-08-17T15:59:54.166Z"
   },
   {
    "duration": -32,
    "start_time": "2021-08-17T15:59:54.168Z"
   },
   {
    "duration": -31,
    "start_time": "2021-08-17T15:59:54.169Z"
   },
   {
    "duration": -32,
    "start_time": "2021-08-17T15:59:54.171Z"
   },
   {
    "duration": -33,
    "start_time": "2021-08-17T15:59:54.173Z"
   },
   {
    "duration": -37,
    "start_time": "2021-08-17T15:59:54.178Z"
   },
   {
    "duration": -37,
    "start_time": "2021-08-17T15:59:54.180Z"
   },
   {
    "duration": -38,
    "start_time": "2021-08-17T15:59:54.182Z"
   },
   {
    "duration": -38,
    "start_time": "2021-08-17T15:59:54.183Z"
   },
   {
    "duration": -39,
    "start_time": "2021-08-17T15:59:54.185Z"
   },
   {
    "duration": -40,
    "start_time": "2021-08-17T15:59:54.187Z"
   },
   {
    "duration": -46,
    "start_time": "2021-08-17T15:59:54.195Z"
   },
   {
    "duration": -47,
    "start_time": "2021-08-17T15:59:54.197Z"
   },
   {
    "duration": -49,
    "start_time": "2021-08-17T15:59:54.200Z"
   },
   {
    "duration": -49,
    "start_time": "2021-08-17T15:59:54.202Z"
   },
   {
    "duration": -49,
    "start_time": "2021-08-17T15:59:54.204Z"
   },
   {
    "duration": -49,
    "start_time": "2021-08-17T15:59:54.205Z"
   },
   {
    "duration": -55,
    "start_time": "2021-08-17T15:59:54.212Z"
   },
   {
    "duration": -56,
    "start_time": "2021-08-17T15:59:54.214Z"
   },
   {
    "duration": -57,
    "start_time": "2021-08-17T15:59:54.216Z"
   },
   {
    "duration": -58,
    "start_time": "2021-08-17T15:59:54.218Z"
   },
   {
    "duration": -57,
    "start_time": "2021-08-17T15:59:54.219Z"
   },
   {
    "duration": -58,
    "start_time": "2021-08-17T15:59:54.221Z"
   },
   {
    "duration": -59,
    "start_time": "2021-08-17T15:59:54.223Z"
   },
   {
    "duration": -65,
    "start_time": "2021-08-17T15:59:54.230Z"
   },
   {
    "duration": -65,
    "start_time": "2021-08-17T15:59:54.231Z"
   },
   {
    "duration": -66,
    "start_time": "2021-08-17T15:59:54.233Z"
   },
   {
    "duration": -66,
    "start_time": "2021-08-17T15:59:54.235Z"
   },
   {
    "duration": 2428,
    "start_time": "2021-08-17T16:00:19.088Z"
   },
   {
    "duration": 3194,
    "start_time": "2021-08-17T16:00:21.519Z"
   },
   {
    "duration": 13,
    "start_time": "2021-08-17T16:00:24.716Z"
   },
   {
    "duration": 250,
    "start_time": "2021-08-17T16:00:24.731Z"
   },
   {
    "duration": 4,
    "start_time": "2021-08-17T16:00:24.983Z"
   },
   {
    "duration": 3453,
    "start_time": "2021-08-17T16:00:24.990Z"
   },
   {
    "duration": 11,
    "start_time": "2021-08-17T16:00:28.445Z"
   },
   {
    "duration": 14,
    "start_time": "2021-08-17T16:00:28.460Z"
   },
   {
    "duration": 3762,
    "start_time": "2021-08-17T16:00:28.478Z"
   },
   {
    "duration": 60,
    "start_time": "2021-08-17T16:00:32.243Z"
   },
   {
    "duration": 12,
    "start_time": "2021-08-17T16:00:32.306Z"
   },
   {
    "duration": 17,
    "start_time": "2021-08-17T16:00:32.321Z"
   },
   {
    "duration": 233,
    "start_time": "2021-08-17T16:00:32.341Z"
   },
   {
    "duration": 13,
    "start_time": "2021-08-17T16:00:32.576Z"
   },
   {
    "duration": 1540,
    "start_time": "2021-08-17T16:00:32.591Z"
   },
   {
    "duration": 5,
    "start_time": "2021-08-17T16:00:34.133Z"
   },
   {
    "duration": 8,
    "start_time": "2021-08-17T16:00:34.140Z"
   },
   {
    "duration": 3170775,
    "start_time": "2021-08-17T16:00:34.150Z"
   },
   {
    "duration": 93,
    "start_time": "2021-08-17T16:53:24.928Z"
   },
   {
    "duration": 16,
    "start_time": "2021-08-17T16:53:25.023Z"
   },
   {
    "duration": 49,
    "start_time": "2021-08-17T16:53:25.041Z"
   },
   {
    "duration": 7,
    "start_time": "2021-08-17T16:53:25.093Z"
   },
   {
    "duration": 461,
    "start_time": "2021-08-17T16:53:25.107Z"
   },
   {
    "duration": 4,
    "start_time": "2021-08-17T16:53:25.571Z"
   },
   {
    "duration": 6,
    "start_time": "2021-08-17T16:53:25.578Z"
   },
   {
    "duration": 8,
    "start_time": "2021-08-17T16:53:25.586Z"
   },
   {
    "duration": 5,
    "start_time": "2021-08-17T16:53:25.596Z"
   },
   {
    "duration": 2147166,
    "start_time": "2021-08-17T16:53:25.604Z"
   },
   {
    "duration": 490,
    "start_time": "2021-08-17T17:29:12.773Z"
   },
   {
    "duration": -83,
    "start_time": "2021-08-17T17:29:13.348Z"
   },
   {
    "duration": -85,
    "start_time": "2021-08-17T17:29:13.352Z"
   },
   {
    "duration": -85,
    "start_time": "2021-08-17T17:29:13.354Z"
   },
   {
    "duration": -85,
    "start_time": "2021-08-17T17:29:13.356Z"
   },
   {
    "duration": 7213,
    "start_time": "2021-08-17T17:34:54.053Z"
   },
   {
    "duration": 8,
    "start_time": "2021-08-17T17:35:07.695Z"
   },
   {
    "duration": 29,
    "start_time": "2021-08-17T17:35:50.351Z"
   },
   {
    "duration": 29,
    "start_time": "2021-08-17T17:36:51.951Z"
   },
   {
    "duration": 100,
    "start_time": "2021-08-17T17:37:32.800Z"
   },
   {
    "duration": 102,
    "start_time": "2021-08-17T17:38:04.702Z"
   },
   {
    "duration": 365,
    "start_time": "2021-08-17T17:45:14.224Z"
   },
   {
    "duration": 32936,
    "start_time": "2021-08-17T17:45:26.771Z"
   },
   {
    "duration": 84344,
    "start_time": "2021-08-17T17:46:19.833Z"
   },
   {
    "duration": 30871,
    "start_time": "2021-08-17T17:48:51.534Z"
   },
   {
    "duration": 83709,
    "start_time": "2021-08-17T17:49:24.942Z"
   },
   {
    "duration": 2393,
    "start_time": "2021-08-17T17:58:57.740Z"
   },
   {
    "duration": 3710,
    "start_time": "2021-08-17T17:59:00.136Z"
   },
   {
    "duration": 26,
    "start_time": "2021-08-17T17:59:03.849Z"
   },
   {
    "duration": 31,
    "start_time": "2021-08-17T17:59:03.878Z"
   },
   {
    "duration": 250,
    "start_time": "2021-08-17T17:59:03.911Z"
   },
   {
    "duration": 24,
    "start_time": "2021-08-17T17:59:04.163Z"
   },
   {
    "duration": 4,
    "start_time": "2021-08-17T17:59:04.189Z"
   },
   {
    "duration": 3671,
    "start_time": "2021-08-17T17:59:04.196Z"
   },
   {
    "duration": 11,
    "start_time": "2021-08-17T17:59:07.871Z"
   },
   {
    "duration": 10,
    "start_time": "2021-08-17T17:59:07.885Z"
   },
   {
    "duration": 3824,
    "start_time": "2021-08-17T17:59:07.898Z"
   },
   {
    "duration": 59,
    "start_time": "2021-08-17T17:59:11.724Z"
   },
   {
    "duration": 11,
    "start_time": "2021-08-17T17:59:11.785Z"
   },
   {
    "duration": 20,
    "start_time": "2021-08-17T17:59:11.798Z"
   },
   {
    "duration": 212,
    "start_time": "2021-08-17T17:59:11.820Z"
   },
   {
    "duration": 11,
    "start_time": "2021-08-17T17:59:12.034Z"
   },
   {
    "duration": 2825,
    "start_time": "2021-08-17T17:59:12.048Z"
   },
   {
    "duration": 1637,
    "start_time": "2021-08-17T17:59:14.875Z"
   },
   {
    "duration": 4,
    "start_time": "2021-08-17T17:59:16.514Z"
   },
   {
    "duration": 10,
    "start_time": "2021-08-17T17:59:16.520Z"
   },
   {
    "duration": 7543,
    "start_time": "2021-08-17T17:59:16.533Z"
   },
   {
    "duration": -124,
    "start_time": "2021-08-17T17:59:24.203Z"
   },
   {
    "duration": -129,
    "start_time": "2021-08-17T17:59:24.210Z"
   },
   {
    "duration": -130,
    "start_time": "2021-08-17T17:59:24.212Z"
   },
   {
    "duration": -129,
    "start_time": "2021-08-17T17:59:24.213Z"
   },
   {
    "duration": -129,
    "start_time": "2021-08-17T17:59:24.215Z"
   },
   {
    "duration": -128,
    "start_time": "2021-08-17T17:59:24.216Z"
   },
   {
    "duration": -130,
    "start_time": "2021-08-17T17:59:24.219Z"
   },
   {
    "duration": -129,
    "start_time": "2021-08-17T17:59:24.220Z"
   },
   {
    "duration": -130,
    "start_time": "2021-08-17T17:59:24.223Z"
   },
   {
    "duration": -129,
    "start_time": "2021-08-17T17:59:24.224Z"
   },
   {
    "duration": -130,
    "start_time": "2021-08-17T17:59:24.226Z"
   },
   {
    "duration": -130,
    "start_time": "2021-08-17T17:59:24.228Z"
   },
   {
    "duration": -131,
    "start_time": "2021-08-17T17:59:24.230Z"
   },
   {
    "duration": -130,
    "start_time": "2021-08-17T17:59:24.231Z"
   },
   {
    "duration": -131,
    "start_time": "2021-08-17T17:59:24.233Z"
   },
   {
    "duration": 6,
    "start_time": "2021-08-17T17:59:26.128Z"
   },
   {
    "duration": 5,
    "start_time": "2021-08-17T17:59:45.760Z"
   },
   {
    "duration": 117,
    "start_time": "2021-08-17T18:00:12.432Z"
   },
   {
    "duration": 2329,
    "start_time": "2021-08-17T18:00:43.201Z"
   },
   {
    "duration": 3290,
    "start_time": "2021-08-17T18:00:45.533Z"
   },
   {
    "duration": 14,
    "start_time": "2021-08-17T18:00:48.826Z"
   },
   {
    "duration": 52,
    "start_time": "2021-08-17T18:00:48.842Z"
   },
   {
    "duration": 256,
    "start_time": "2021-08-17T18:00:48.896Z"
   },
   {
    "duration": 29,
    "start_time": "2021-08-17T18:00:49.154Z"
   },
   {
    "duration": 4,
    "start_time": "2021-08-17T18:00:49.185Z"
   },
   {
    "duration": 3466,
    "start_time": "2021-08-17T18:00:49.193Z"
   },
   {
    "duration": 12,
    "start_time": "2021-08-17T18:00:52.662Z"
   },
   {
    "duration": 6,
    "start_time": "2021-08-17T18:00:52.676Z"
   },
   {
    "duration": 3759,
    "start_time": "2021-08-17T18:00:52.684Z"
   },
   {
    "duration": 54,
    "start_time": "2021-08-17T18:00:56.445Z"
   },
   {
    "duration": 11,
    "start_time": "2021-08-17T18:00:56.501Z"
   },
   {
    "duration": 16,
    "start_time": "2021-08-17T18:00:56.515Z"
   },
   {
    "duration": 227,
    "start_time": "2021-08-17T18:00:56.533Z"
   },
   {
    "duration": 12,
    "start_time": "2021-08-17T18:00:56.763Z"
   },
   {
    "duration": 2384,
    "start_time": "2021-08-17T18:11:40.442Z"
   },
   {
    "duration": 2020,
    "start_time": "2021-08-17T18:11:42.828Z"
   },
   {
    "duration": 22,
    "start_time": "2021-08-17T18:11:44.851Z"
   },
   {
    "duration": 31,
    "start_time": "2021-08-17T18:11:44.875Z"
   },
   {
    "duration": 253,
    "start_time": "2021-08-17T18:11:44.909Z"
   },
   {
    "duration": 24,
    "start_time": "2021-08-17T18:11:45.167Z"
   },
   {
    "duration": 5,
    "start_time": "2021-08-17T18:11:45.194Z"
   },
   {
    "duration": 3507,
    "start_time": "2021-08-17T18:11:45.205Z"
   },
   {
    "duration": 10,
    "start_time": "2021-08-17T18:11:48.716Z"
   },
   {
    "duration": 7,
    "start_time": "2021-08-17T18:11:48.729Z"
   },
   {
    "duration": 3796,
    "start_time": "2021-08-17T18:11:48.738Z"
   },
   {
    "duration": 59,
    "start_time": "2021-08-17T18:11:52.536Z"
   },
   {
    "duration": 13,
    "start_time": "2021-08-17T18:11:52.597Z"
   },
   {
    "duration": 18,
    "start_time": "2021-08-17T18:11:52.612Z"
   },
   {
    "duration": 221,
    "start_time": "2021-08-17T18:11:52.632Z"
   },
   {
    "duration": 16,
    "start_time": "2021-08-17T18:11:52.856Z"
   },
   {
    "duration": 2813,
    "start_time": "2021-08-17T18:11:52.875Z"
   },
   {
    "duration": 142,
    "start_time": "2021-08-17T18:11:55.691Z"
   },
   {
    "duration": 463,
    "start_time": "2021-08-17T18:11:55.836Z"
   },
   {
    "duration": -94,
    "start_time": "2021-08-17T18:11:56.396Z"
   },
   {
    "duration": -94,
    "start_time": "2021-08-17T18:11:56.398Z"
   },
   {
    "duration": -98,
    "start_time": "2021-08-17T18:11:56.403Z"
   },
   {
    "duration": -110,
    "start_time": "2021-08-17T18:11:56.416Z"
   },
   {
    "duration": -110,
    "start_time": "2021-08-17T18:11:56.418Z"
   },
   {
    "duration": -112,
    "start_time": "2021-08-17T18:11:56.421Z"
   },
   {
    "duration": -112,
    "start_time": "2021-08-17T18:11:56.423Z"
   },
   {
    "duration": -113,
    "start_time": "2021-08-17T18:11:56.425Z"
   },
   {
    "duration": -112,
    "start_time": "2021-08-17T18:11:56.426Z"
   },
   {
    "duration": -113,
    "start_time": "2021-08-17T18:11:56.428Z"
   },
   {
    "duration": -114,
    "start_time": "2021-08-17T18:11:56.430Z"
   },
   {
    "duration": -114,
    "start_time": "2021-08-17T18:11:56.432Z"
   },
   {
    "duration": -118,
    "start_time": "2021-08-17T18:11:56.437Z"
   },
   {
    "duration": -118,
    "start_time": "2021-08-17T18:11:56.439Z"
   },
   {
    "duration": -120,
    "start_time": "2021-08-17T18:11:56.442Z"
   },
   {
    "duration": -119,
    "start_time": "2021-08-17T18:11:56.443Z"
   },
   {
    "duration": -120,
    "start_time": "2021-08-17T18:11:56.445Z"
   },
   {
    "duration": -120,
    "start_time": "2021-08-17T18:11:56.446Z"
   },
   {
    "duration": -120,
    "start_time": "2021-08-17T18:11:56.448Z"
   },
   {
    "duration": 225,
    "start_time": "2021-08-18T05:49:55.735Z"
   },
   {
    "duration": 1583,
    "start_time": "2021-08-18T05:56:25.723Z"
   },
   {
    "duration": 3405,
    "start_time": "2021-08-18T05:56:27.307Z"
   },
   {
    "duration": 10,
    "start_time": "2021-08-18T05:56:30.714Z"
   },
   {
    "duration": 33,
    "start_time": "2021-08-18T05:56:30.725Z"
   },
   {
    "duration": 161,
    "start_time": "2021-08-18T05:56:30.760Z"
   },
   {
    "duration": 19,
    "start_time": "2021-08-18T05:56:30.922Z"
   },
   {
    "duration": 4,
    "start_time": "2021-08-18T05:56:30.942Z"
   },
   {
    "duration": 2337,
    "start_time": "2021-08-18T05:56:30.948Z"
   },
   {
    "duration": 11,
    "start_time": "2021-08-18T05:56:33.287Z"
   },
   {
    "duration": 4,
    "start_time": "2021-08-18T05:56:33.300Z"
   },
   {
    "duration": 4,
    "start_time": "2021-08-18T05:56:37.189Z"
   },
   {
    "duration": 1520,
    "start_time": "2021-08-18T05:56:37.195Z"
   },
   {
    "duration": 9,
    "start_time": "2021-08-18T05:56:38.717Z"
   },
   {
    "duration": 31,
    "start_time": "2021-08-18T05:56:38.728Z"
   },
   {
    "duration": 163,
    "start_time": "2021-08-18T05:56:38.761Z"
   },
   {
    "duration": 14,
    "start_time": "2021-08-18T05:56:38.926Z"
   },
   {
    "duration": 5,
    "start_time": "2021-08-18T05:56:38.941Z"
   },
   {
    "duration": 2240,
    "start_time": "2021-08-18T05:56:38.947Z"
   },
   {
    "duration": 8,
    "start_time": "2021-08-18T05:56:41.189Z"
   },
   {
    "duration": 5,
    "start_time": "2021-08-18T05:56:41.198Z"
   },
   {
    "duration": 2570,
    "start_time": "2021-08-18T05:56:41.204Z"
   },
   {
    "duration": 37,
    "start_time": "2021-08-18T05:56:43.775Z"
   },
   {
    "duration": 8,
    "start_time": "2021-08-18T05:56:43.814Z"
   },
   {
    "duration": 11,
    "start_time": "2021-08-18T05:56:43.823Z"
   },
   {
    "duration": 155,
    "start_time": "2021-08-18T05:56:43.835Z"
   },
   {
    "duration": 8,
    "start_time": "2021-08-18T05:56:43.992Z"
   },
   {
    "duration": 485,
    "start_time": "2021-08-18T05:56:44.002Z"
   },
   {
    "duration": 3,
    "start_time": "2021-08-18T05:56:44.489Z"
   },
   {
    "duration": 5,
    "start_time": "2021-08-18T05:56:44.494Z"
   },
   {
    "duration": 284,
    "start_time": "2021-08-18T05:56:44.500Z"
   },
   {
    "duration": 4,
    "start_time": "2021-08-18T05:58:28.574Z"
   },
   {
    "duration": 2809,
    "start_time": "2021-08-18T05:58:28.580Z"
   },
   {
    "duration": 11,
    "start_time": "2021-08-18T05:58:31.392Z"
   },
   {
    "duration": 42,
    "start_time": "2021-08-18T05:58:31.405Z"
   },
   {
    "duration": 162,
    "start_time": "2021-08-18T05:58:31.449Z"
   },
   {
    "duration": 15,
    "start_time": "2021-08-18T05:58:31.614Z"
   },
   {
    "duration": 7,
    "start_time": "2021-08-18T05:58:31.631Z"
   },
   {
    "duration": 2259,
    "start_time": "2021-08-18T05:58:31.640Z"
   },
   {
    "duration": 7,
    "start_time": "2021-08-18T05:58:33.902Z"
   },
   {
    "duration": 5,
    "start_time": "2021-08-18T05:58:33.911Z"
   },
   {
    "duration": 2568,
    "start_time": "2021-08-18T05:58:33.917Z"
   },
   {
    "duration": 34,
    "start_time": "2021-08-18T05:58:36.486Z"
   },
   {
    "duration": 8,
    "start_time": "2021-08-18T05:58:36.521Z"
   },
   {
    "duration": 19,
    "start_time": "2021-08-18T05:58:36.530Z"
   },
   {
    "duration": 159,
    "start_time": "2021-08-18T05:58:36.551Z"
   },
   {
    "duration": 9,
    "start_time": "2021-08-18T05:58:36.712Z"
   },
   {
    "duration": 575,
    "start_time": "2021-08-18T05:58:36.722Z"
   },
   {
    "duration": 3,
    "start_time": "2021-08-18T05:58:37.299Z"
   },
   {
    "duration": 6,
    "start_time": "2021-08-18T05:58:37.303Z"
   },
   {
    "duration": 274753,
    "start_time": "2021-08-18T05:58:37.311Z"
   },
   {
    "duration": 36530,
    "start_time": "2021-08-18T06:04:08.721Z"
   },
   {
    "duration": 170829,
    "start_time": "2021-08-18T06:04:50.794Z"
   },
   {
    "duration": 10717,
    "start_time": "2021-08-18T06:07:41.625Z"
   },
   {
    "duration": 21,
    "start_time": "2021-08-18T06:07:57.852Z"
   },
   {
    "duration": 1776,
    "start_time": "2021-08-18T06:25:01.882Z"
   },
   {
    "duration": 3571,
    "start_time": "2021-08-18T06:25:05.981Z"
   },
   {
    "duration": 10,
    "start_time": "2021-08-18T06:25:09.553Z"
   },
   {
    "duration": 34,
    "start_time": "2021-08-18T06:25:09.565Z"
   },
   {
    "duration": 156,
    "start_time": "2021-08-18T06:25:09.601Z"
   },
   {
    "duration": 29,
    "start_time": "2021-08-18T06:25:09.759Z"
   },
   {
    "duration": 4,
    "start_time": "2021-08-18T06:25:12.823Z"
   },
   {
    "duration": 2257,
    "start_time": "2021-08-18T06:25:13.216Z"
   },
   {
    "duration": 13,
    "start_time": "2021-08-18T06:25:15.475Z"
   },
   {
    "duration": 3,
    "start_time": "2021-08-18T06:25:25.895Z"
   },
   {
    "duration": 3830,
    "start_time": "2021-08-18T06:25:27.653Z"
   },
   {
    "duration": 43,
    "start_time": "2021-08-18T06:25:33.871Z"
   },
   {
    "duration": 9,
    "start_time": "2021-08-18T06:25:35.957Z"
   },
   {
    "duration": 11,
    "start_time": "2021-08-18T06:25:36.496Z"
   },
   {
    "duration": 149,
    "start_time": "2021-08-18T06:25:38.192Z"
   },
   {
    "duration": 9,
    "start_time": "2021-08-18T06:25:38.943Z"
   },
   {
    "duration": 2313,
    "start_time": "2021-08-18T06:25:41.063Z"
   },
   {
    "duration": 4,
    "start_time": "2021-08-18T06:25:49.165Z"
   },
   {
    "duration": 1678,
    "start_time": "2021-08-18T06:28:36.655Z"
   },
   {
    "duration": 3077,
    "start_time": "2021-08-18T06:28:38.335Z"
   },
   {
    "duration": 10,
    "start_time": "2021-08-18T06:28:41.414Z"
   },
   {
    "duration": 32,
    "start_time": "2021-08-18T06:28:41.425Z"
   },
   {
    "duration": 169,
    "start_time": "2021-08-18T06:28:41.458Z"
   },
   {
    "duration": 18,
    "start_time": "2021-08-18T06:28:44.788Z"
   },
   {
    "duration": 3,
    "start_time": "2021-08-18T06:28:48.531Z"
   },
   {
    "duration": 2212,
    "start_time": "2021-08-18T06:28:50.643Z"
   },
   {
    "duration": 7,
    "start_time": "2021-08-18T06:28:52.857Z"
   },
   {
    "duration": 3,
    "start_time": "2021-08-18T06:28:55.374Z"
   },
   {
    "duration": 2418,
    "start_time": "2021-08-18T06:28:58.636Z"
   },
   {
    "duration": 51,
    "start_time": "2021-08-18T06:29:01.056Z"
   },
   {
    "duration": 8,
    "start_time": "2021-08-18T06:29:01.109Z"
   },
   {
    "duration": 23,
    "start_time": "2021-08-18T06:29:01.119Z"
   },
   {
    "duration": 149,
    "start_time": "2021-08-18T06:29:02.707Z"
   },
   {
    "duration": 9,
    "start_time": "2021-08-18T06:29:04.475Z"
   },
   {
    "duration": 2346,
    "start_time": "2021-08-18T06:29:05.508Z"
   },
   {
    "duration": 270,
    "start_time": "2021-08-18T06:29:17.329Z"
   },
   {
    "duration": 1593,
    "start_time": "2021-08-18T06:29:23.736Z"
   },
   {
    "duration": 3000,
    "start_time": "2021-08-18T06:29:25.331Z"
   },
   {
    "duration": 9,
    "start_time": "2021-08-18T06:29:28.334Z"
   },
   {
    "duration": 43,
    "start_time": "2021-08-18T06:29:28.345Z"
   },
   {
    "duration": 147,
    "start_time": "2021-08-18T06:29:28.389Z"
   },
   {
    "duration": 18,
    "start_time": "2021-08-18T06:29:28.537Z"
   },
   {
    "duration": 2,
    "start_time": "2021-08-18T06:29:28.557Z"
   },
   {
    "duration": 2244,
    "start_time": "2021-08-18T06:29:28.561Z"
   },
   {
    "duration": 7,
    "start_time": "2021-08-18T06:29:30.808Z"
   },
   {
    "duration": 26,
    "start_time": "2021-08-18T06:29:30.817Z"
   },
   {
    "duration": 2439,
    "start_time": "2021-08-18T06:29:30.845Z"
   },
   {
    "duration": 42,
    "start_time": "2021-08-18T06:29:33.286Z"
   },
   {
    "duration": 9,
    "start_time": "2021-08-18T06:29:33.330Z"
   },
   {
    "duration": 11,
    "start_time": "2021-08-18T06:29:33.341Z"
   },
   {
    "duration": 173,
    "start_time": "2021-08-18T06:29:33.353Z"
   },
   {
    "duration": 9,
    "start_time": "2021-08-18T06:29:33.527Z"
   },
   {
    "duration": 2329,
    "start_time": "2021-08-18T06:29:33.538Z"
   },
   {
    "duration": 1640,
    "start_time": "2021-08-18T06:29:56.877Z"
   },
   {
    "duration": 3115,
    "start_time": "2021-08-18T06:29:58.519Z"
   },
   {
    "duration": 12,
    "start_time": "2021-08-18T06:30:01.636Z"
   },
   {
    "duration": 46,
    "start_time": "2021-08-18T06:30:01.650Z"
   },
   {
    "duration": 157,
    "start_time": "2021-08-18T06:30:01.698Z"
   },
   {
    "duration": 37,
    "start_time": "2021-08-18T06:30:01.857Z"
   },
   {
    "duration": 3,
    "start_time": "2021-08-18T06:30:01.896Z"
   },
   {
    "duration": 2261,
    "start_time": "2021-08-18T06:30:01.901Z"
   },
   {
    "duration": 7,
    "start_time": "2021-08-18T06:30:04.165Z"
   },
   {
    "duration": 7,
    "start_time": "2021-08-18T06:30:04.174Z"
   },
   {
    "duration": 2493,
    "start_time": "2021-08-18T06:30:04.185Z"
   },
   {
    "duration": 42,
    "start_time": "2021-08-18T06:30:06.680Z"
   },
   {
    "duration": 8,
    "start_time": "2021-08-18T06:30:06.723Z"
   },
   {
    "duration": 10,
    "start_time": "2021-08-18T06:30:06.733Z"
   },
   {
    "duration": 175,
    "start_time": "2021-08-18T06:30:06.744Z"
   },
   {
    "duration": 9,
    "start_time": "2021-08-18T06:30:06.921Z"
   },
   {
    "duration": 2367,
    "start_time": "2021-08-18T06:30:06.931Z"
   },
   {
    "duration": 1601,
    "start_time": "2021-08-18T06:31:17.416Z"
   },
   {
    "duration": 1576,
    "start_time": "2021-08-18T06:31:19.019Z"
   },
   {
    "duration": 10,
    "start_time": "2021-08-18T06:31:20.597Z"
   },
   {
    "duration": 37,
    "start_time": "2021-08-18T06:31:20.608Z"
   },
   {
    "duration": 162,
    "start_time": "2021-08-18T06:31:20.646Z"
   },
   {
    "duration": 18,
    "start_time": "2021-08-18T06:31:20.810Z"
   },
   {
    "duration": 2,
    "start_time": "2021-08-18T06:31:20.830Z"
   },
   {
    "duration": 2260,
    "start_time": "2021-08-18T06:31:20.835Z"
   },
   {
    "duration": 8,
    "start_time": "2021-08-18T06:31:23.097Z"
   },
   {
    "duration": 3,
    "start_time": "2021-08-18T06:31:23.107Z"
   },
   {
    "duration": 2506,
    "start_time": "2021-08-18T06:31:23.112Z"
   },
   {
    "duration": 38,
    "start_time": "2021-08-18T06:31:25.620Z"
   },
   {
    "duration": 7,
    "start_time": "2021-08-18T06:31:25.660Z"
   },
   {
    "duration": 22,
    "start_time": "2021-08-18T06:31:25.668Z"
   },
   {
    "duration": 161,
    "start_time": "2021-08-18T06:31:25.692Z"
   },
   {
    "duration": 8,
    "start_time": "2021-08-18T06:31:25.855Z"
   },
   {
    "duration": 2306,
    "start_time": "2021-08-18T06:31:25.865Z"
   },
   {
    "duration": 1640,
    "start_time": "2021-08-18T06:32:01.295Z"
   },
   {
    "duration": 1480,
    "start_time": "2021-08-18T06:32:02.937Z"
   },
   {
    "duration": 11,
    "start_time": "2021-08-18T06:32:04.422Z"
   },
   {
    "duration": 53,
    "start_time": "2021-08-18T06:32:04.434Z"
   },
   {
    "duration": 153,
    "start_time": "2021-08-18T06:32:04.489Z"
   },
   {
    "duration": 19,
    "start_time": "2021-08-18T06:32:04.643Z"
   },
   {
    "duration": 3,
    "start_time": "2021-08-18T06:32:04.664Z"
   },
   {
    "duration": 2236,
    "start_time": "2021-08-18T06:32:04.685Z"
   },
   {
    "duration": 8,
    "start_time": "2021-08-18T06:32:06.923Z"
   },
   {
    "duration": 13,
    "start_time": "2021-08-18T06:32:06.932Z"
   },
   {
    "duration": 2434,
    "start_time": "2021-08-18T06:32:06.946Z"
   },
   {
    "duration": 39,
    "start_time": "2021-08-18T06:32:09.382Z"
   },
   {
    "duration": 8,
    "start_time": "2021-08-18T06:32:09.423Z"
   },
   {
    "duration": 14,
    "start_time": "2021-08-18T06:32:09.433Z"
   },
   {
    "duration": 180,
    "start_time": "2021-08-18T06:32:09.449Z"
   },
   {
    "duration": 9,
    "start_time": "2021-08-18T06:32:09.631Z"
   },
   {
    "duration": 2370,
    "start_time": "2021-08-18T06:32:09.642Z"
   },
   {
    "duration": 15,
    "start_time": "2021-08-18T06:32:12.014Z"
   },
   {
    "duration": 1963,
    "start_time": "2021-08-18T06:32:12.031Z"
   },
   {
    "duration": 484,
    "start_time": "2021-08-18T06:32:13.513Z"
   },
   {
    "duration": 461,
    "start_time": "2021-08-18T06:32:13.537Z"
   },
   {
    "duration": 456,
    "start_time": "2021-08-18T06:32:13.543Z"
   },
   {
    "duration": 453,
    "start_time": "2021-08-18T06:32:13.547Z"
   },
   {
    "duration": 453,
    "start_time": "2021-08-18T06:32:13.549Z"
   },
   {
    "duration": 452,
    "start_time": "2021-08-18T06:32:13.551Z"
   },
   {
    "duration": 452,
    "start_time": "2021-08-18T06:32:13.552Z"
   },
   {
    "duration": 451,
    "start_time": "2021-08-18T06:32:13.554Z"
   },
   {
    "duration": 450,
    "start_time": "2021-08-18T06:32:13.556Z"
   },
   {
    "duration": 449,
    "start_time": "2021-08-18T06:32:13.559Z"
   },
   {
    "duration": 448,
    "start_time": "2021-08-18T06:32:13.561Z"
   },
   {
    "duration": 447,
    "start_time": "2021-08-18T06:32:13.563Z"
   },
   {
    "duration": 447,
    "start_time": "2021-08-18T06:32:13.564Z"
   },
   {
    "duration": 446,
    "start_time": "2021-08-18T06:32:13.567Z"
   },
   {
    "duration": 445,
    "start_time": "2021-08-18T06:32:13.569Z"
   },
   {
    "duration": 444,
    "start_time": "2021-08-18T06:32:13.571Z"
   },
   {
    "duration": 444,
    "start_time": "2021-08-18T06:32:13.573Z"
   },
   {
    "duration": 443,
    "start_time": "2021-08-18T06:32:13.575Z"
   },
   {
    "duration": 443,
    "start_time": "2021-08-18T06:32:13.576Z"
   },
   {
    "duration": 443,
    "start_time": "2021-08-18T06:32:13.578Z"
   },
   {
    "duration": 442,
    "start_time": "2021-08-18T06:32:13.580Z"
   },
   {
    "duration": 4,
    "start_time": "2021-08-18T06:32:30.179Z"
   },
   {
    "duration": 182,
    "start_time": "2021-08-18T06:33:19.870Z"
   },
   {
    "duration": 305,
    "start_time": "2021-08-18T06:33:33.158Z"
   },
   {
    "duration": 8961,
    "start_time": "2021-08-18T06:33:58.242Z"
   },
   {
    "duration": 5,
    "start_time": "2021-08-18T06:34:27.437Z"
   },
   {
    "duration": 198,
    "start_time": "2021-08-18T06:34:41.975Z"
   },
   {
    "duration": 4,
    "start_time": "2021-08-18T06:34:49.566Z"
   },
   {
    "duration": 5,
    "start_time": "2021-08-18T06:34:56.654Z"
   },
   {
    "duration": 4,
    "start_time": "2021-08-18T06:35:00.678Z"
   },
   {
    "duration": 4,
    "start_time": "2021-08-18T06:35:07.742Z"
   },
   {
    "duration": 3,
    "start_time": "2021-08-18T06:44:23.215Z"
   },
   {
    "duration": 179,
    "start_time": "2021-08-18T06:44:44.789Z"
   },
   {
    "duration": 3,
    "start_time": "2021-08-18T06:44:54.694Z"
   },
   {
    "duration": 184,
    "start_time": "2021-08-18T06:44:55.382Z"
   },
   {
    "duration": 199,
    "start_time": "2021-08-18T06:46:19.272Z"
   },
   {
    "duration": 16,
    "start_time": "2021-08-18T06:46:31.053Z"
   },
   {
    "duration": 1518,
    "start_time": "2021-08-18T06:46:46.066Z"
   },
   {
    "duration": 15,
    "start_time": "2021-08-18T06:46:50.182Z"
   },
   {
    "duration": 226,
    "start_time": "2021-08-18T06:47:51.237Z"
   },
   {
    "duration": 189,
    "start_time": "2021-08-18T06:47:54.311Z"
   },
   {
    "duration": 5625,
    "start_time": "2021-08-18T06:47:57.452Z"
   },
   {
    "duration": 190,
    "start_time": "2021-08-18T06:48:18.261Z"
   },
   {
    "duration": 4,
    "start_time": "2021-08-18T06:48:30.445Z"
   },
   {
    "duration": 21326,
    "start_time": "2021-08-18T06:48:33.549Z"
   },
   {
    "duration": 181,
    "start_time": "2021-08-18T06:49:15.661Z"
   },
   {
    "duration": 3,
    "start_time": "2021-08-18T06:49:25.892Z"
   },
   {
    "duration": 837,
    "start_time": "2021-08-18T06:49:28.474Z"
   },
   {
    "duration": 16,
    "start_time": "2021-08-18T06:49:30.748Z"
   },
   {
    "duration": 3,
    "start_time": "2021-08-18T06:50:24.764Z"
   },
   {
    "duration": 329,
    "start_time": "2021-08-18T06:50:26.171Z"
   },
   {
    "duration": 16,
    "start_time": "2021-08-18T06:50:27.362Z"
   },
   {
    "duration": 4,
    "start_time": "2021-08-18T06:50:48.482Z"
   },
   {
    "duration": 923,
    "start_time": "2021-08-18T06:50:49.569Z"
   },
   {
    "duration": 17,
    "start_time": "2021-08-18T06:50:51.403Z"
   },
   {
    "duration": 921,
    "start_time": "2021-08-18T06:57:02.351Z"
   },
   {
    "duration": 4,
    "start_time": "2021-08-18T06:57:08.142Z"
   },
   {
    "duration": 4,
    "start_time": "2021-08-18T06:57:10.933Z"
   },
   {
    "duration": 2126075,
    "start_time": "2021-08-18T06:57:15.767Z"
   },
   {
    "duration": 74,
    "start_time": "2021-08-18T08:18:36.060Z"
   },
   {
    "duration": 14,
    "start_time": "2021-08-18T08:19:02.277Z"
   },
   {
    "duration": 24,
    "start_time": "2021-08-18T08:19:55.725Z"
   },
   {
    "duration": 5,
    "start_time": "2021-08-18T08:19:56.509Z"
   },
   {
    "duration": 278,
    "start_time": "2021-08-18T08:20:00.965Z"
   },
   {
    "duration": 1675,
    "start_time": "2021-08-18T08:21:41.555Z"
   },
   {
    "duration": 1495,
    "start_time": "2021-08-18T08:21:43.231Z"
   },
   {
    "duration": 10,
    "start_time": "2021-08-18T08:21:44.728Z"
   },
   {
    "duration": 25,
    "start_time": "2021-08-18T08:21:44.740Z"
   },
   {
    "duration": 157,
    "start_time": "2021-08-18T08:21:44.785Z"
   },
   {
    "duration": 17,
    "start_time": "2021-08-18T08:21:44.943Z"
   },
   {
    "duration": 3,
    "start_time": "2021-08-18T08:21:44.962Z"
   },
   {
    "duration": 2251,
    "start_time": "2021-08-18T08:21:44.967Z"
   },
   {
    "duration": 7,
    "start_time": "2021-08-18T08:21:47.220Z"
   },
   {
    "duration": 19,
    "start_time": "2021-08-18T08:21:47.228Z"
   },
   {
    "duration": 2455,
    "start_time": "2021-08-18T08:21:47.248Z"
   },
   {
    "duration": 40,
    "start_time": "2021-08-18T08:21:49.705Z"
   },
   {
    "duration": 11,
    "start_time": "2021-08-18T08:21:49.747Z"
   },
   {
    "duration": 36,
    "start_time": "2021-08-18T08:21:49.760Z"
   },
   {
    "duration": 161,
    "start_time": "2021-08-18T08:21:49.798Z"
   },
   {
    "duration": 9,
    "start_time": "2021-08-18T08:21:49.961Z"
   },
   {
    "duration": 1329,
    "start_time": "2021-08-18T08:21:49.972Z"
   },
   {
    "duration": 4,
    "start_time": "2021-08-18T08:21:51.303Z"
   },
   {
    "duration": 6,
    "start_time": "2021-08-18T08:21:51.309Z"
   },
   {
    "duration": 1708,
    "start_time": "2021-08-18T08:23:31.324Z"
   },
   {
    "duration": 1393,
    "start_time": "2021-08-18T08:23:33.034Z"
   },
   {
    "duration": 11,
    "start_time": "2021-08-18T08:23:34.429Z"
   },
   {
    "duration": 45,
    "start_time": "2021-08-18T08:23:34.441Z"
   },
   {
    "duration": 167,
    "start_time": "2021-08-18T08:23:34.488Z"
   },
   {
    "duration": 29,
    "start_time": "2021-08-18T08:23:34.657Z"
   },
   {
    "duration": 3,
    "start_time": "2021-08-18T08:23:34.688Z"
   },
   {
    "duration": 2249,
    "start_time": "2021-08-18T08:23:34.693Z"
   },
   {
    "duration": 7,
    "start_time": "2021-08-18T08:23:36.944Z"
   },
   {
    "duration": 5,
    "start_time": "2021-08-18T08:23:36.953Z"
   },
   {
    "duration": 2427,
    "start_time": "2021-08-18T08:23:36.959Z"
   },
   {
    "duration": 39,
    "start_time": "2021-08-18T08:23:39.388Z"
   },
   {
    "duration": 9,
    "start_time": "2021-08-18T08:23:39.429Z"
   },
   {
    "duration": 10,
    "start_time": "2021-08-18T08:23:39.439Z"
   },
   {
    "duration": 182,
    "start_time": "2021-08-18T08:23:39.451Z"
   },
   {
    "duration": 9,
    "start_time": "2021-08-18T08:23:39.634Z"
   },
   {
    "duration": 895,
    "start_time": "2021-08-18T08:23:39.644Z"
   },
   {
    "duration": 3,
    "start_time": "2021-08-18T08:23:40.540Z"
   },
   {
    "duration": 18,
    "start_time": "2021-08-18T08:23:40.545Z"
   },
   {
    "duration": 2196947,
    "start_time": "2021-08-18T08:23:40.564Z"
   },
   {
    "duration": 79,
    "start_time": "2021-08-18T09:00:17.513Z"
   },
   {
    "duration": 11,
    "start_time": "2021-08-18T09:00:17.594Z"
   },
   {
    "duration": 317,
    "start_time": "2021-08-18T09:00:17.609Z"
   },
   {
    "duration": 421,
    "start_time": "2021-08-18T09:00:17.507Z"
   },
   {
    "duration": 420,
    "start_time": "2021-08-18T09:00:17.509Z"
   },
   {
    "duration": 420,
    "start_time": "2021-08-18T09:00:17.510Z"
   },
   {
    "duration": 419,
    "start_time": "2021-08-18T09:00:17.512Z"
   },
   {
    "duration": 413,
    "start_time": "2021-08-18T09:00:17.518Z"
   },
   {
    "duration": 412,
    "start_time": "2021-08-18T09:00:17.520Z"
   },
   {
    "duration": 411,
    "start_time": "2021-08-18T09:00:17.522Z"
   },
   {
    "duration": 410,
    "start_time": "2021-08-18T09:00:17.524Z"
   },
   {
    "duration": 409,
    "start_time": "2021-08-18T09:00:17.526Z"
   },
   {
    "duration": 409,
    "start_time": "2021-08-18T09:00:17.527Z"
   },
   {
    "duration": 408,
    "start_time": "2021-08-18T09:00:17.529Z"
   },
   {
    "duration": 407,
    "start_time": "2021-08-18T09:00:17.531Z"
   },
   {
    "duration": 407,
    "start_time": "2021-08-18T09:00:17.532Z"
   },
   {
    "duration": 13,
    "start_time": "2021-08-18T09:01:18.632Z"
   },
   {
    "duration": 1176,
    "start_time": "2021-08-18T09:01:24.777Z"
   },
   {
    "duration": 25,
    "start_time": "2021-08-18T09:01:32.137Z"
   },
   {
    "duration": 4,
    "start_time": "2021-08-18T09:01:33.052Z"
   },
   {
    "duration": 285,
    "start_time": "2021-08-18T09:01:38.560Z"
   },
   {
    "duration": 2679334,
    "start_time": "2021-08-18T09:01:52.801Z"
   },
   {
    "duration": 159463,
    "start_time": "2021-08-18T09:46:32.137Z"
   },
   {
    "duration": 41409,
    "start_time": "2021-08-18T09:49:17.081Z"
   },
   {
    "duration": 208,
    "start_time": "2021-08-18T09:51:19.184Z"
   },
   {
    "duration": 188,
    "start_time": "2021-08-18T09:51:58.534Z"
   },
   {
    "duration": 7,
    "start_time": "2021-08-18T09:52:18.972Z"
   },
   {
    "duration": 4,
    "start_time": "2021-08-18T09:52:49.582Z"
   },
   {
    "duration": 193,
    "start_time": "2021-08-18T09:53:11.566Z"
   },
   {
    "duration": 176,
    "start_time": "2021-08-18T09:53:19.831Z"
   },
   {
    "duration": 59,
    "start_time": "2021-08-18T09:53:37.941Z"
   },
   {
    "duration": 4,
    "start_time": "2021-08-18T09:53:44.094Z"
   },
   {
    "duration": 4,
    "start_time": "2021-08-18T09:55:03.909Z"
   },
   {
    "duration": 7104,
    "start_time": "2021-08-18T10:06:30.986Z"
   },
   {
    "duration": 19,
    "start_time": "2021-08-18T10:10:48.333Z"
   },
   {
    "duration": 9,
    "start_time": "2021-08-18T10:19:21.854Z"
   },
   {
    "duration": 233,
    "start_time": "2021-08-18T10:19:29.748Z"
   },
   {
    "duration": 191,
    "start_time": "2021-08-18T10:20:13.183Z"
   },
   {
    "duration": 1679,
    "start_time": "2021-08-18T10:20:19.157Z"
   },
   {
    "duration": 4040,
    "start_time": "2021-08-18T10:20:29.395Z"
   },
   {
    "duration": 11,
    "start_time": "2021-08-18T10:20:38.484Z"
   },
   {
    "duration": 25,
    "start_time": "2021-08-18T10:20:46.683Z"
   },
   {
    "duration": 3,
    "start_time": "2021-08-18T10:20:48.043Z"
   },
   {
    "duration": 12,
    "start_time": "2021-08-18T10:20:52.395Z"
   },
   {
    "duration": 71,
    "start_time": "2021-08-18T10:20:53.091Z"
   },
   {
    "duration": 23271,
    "start_time": "2021-08-18T10:21:12.882Z"
   },
   {
    "duration": 23154,
    "start_time": "2021-08-18T10:22:07.802Z"
   },
   {
    "duration": 5,
    "start_time": "2021-08-18T10:23:14.066Z"
   },
   {
    "duration": 4,
    "start_time": "2021-08-18T10:23:23.296Z"
   },
   {
    "duration": 4,
    "start_time": "2021-08-18T10:23:34.291Z"
   },
   {
    "duration": 6,
    "start_time": "2021-08-18T10:23:47.408Z"
   },
   {
    "duration": 5,
    "start_time": "2021-08-18T10:25:07.267Z"
   },
   {
    "duration": 22928,
    "start_time": "2021-08-18T10:27:08.616Z"
   },
   {
    "duration": 89239,
    "start_time": "2021-08-18T10:27:59.615Z"
   },
   {
    "duration": 108980,
    "start_time": "2021-08-18T10:29:51.736Z"
   },
   {
    "duration": 141110,
    "start_time": "2021-08-18T10:32:25.092Z"
   },
   {
    "duration": 110842,
    "start_time": "2021-08-18T10:36:54.359Z"
   },
   {
    "duration": 99019,
    "start_time": "2021-08-18T10:38:45.203Z"
   },
   {
    "duration": 88711,
    "start_time": "2021-08-18T10:41:21.881Z"
   },
   {
    "duration": 80452,
    "start_time": "2021-08-18T10:43:51.388Z"
   },
   {
    "duration": 120605,
    "start_time": "2021-08-18T10:49:58.960Z"
   },
   {
    "duration": 137156,
    "start_time": "2021-08-18T10:55:53.626Z"
   },
   {
    "duration": 67661,
    "start_time": "2021-08-18T10:58:28.784Z"
   },
   {
    "duration": 69655,
    "start_time": "2021-08-18T11:00:28.466Z"
   },
   {
    "duration": 67573,
    "start_time": "2021-08-18T11:09:14.651Z"
   },
   {
    "duration": 67016,
    "start_time": "2021-08-18T11:13:07.493Z"
   },
   {
    "duration": 78664,
    "start_time": "2021-08-18T11:15:00.159Z"
   },
   {
    "duration": 320760,
    "start_time": "2021-08-18T11:26:22.179Z"
   },
   {
    "duration": 5,
    "start_time": "2021-08-18T11:33:01.223Z"
   },
   {
    "duration": 5,
    "start_time": "2021-08-18T11:33:05.716Z"
   },
   {
    "duration": 5,
    "start_time": "2021-08-18T11:33:08.620Z"
   },
   {
    "duration": 165935,
    "start_time": "2021-08-18T11:35:07.602Z"
   },
   {
    "duration": 9587,
    "start_time": "2021-08-18T11:55:56.579Z"
   },
   {
    "duration": 6,
    "start_time": "2021-08-18T11:56:50.188Z"
   },
   {
    "duration": 196,
    "start_time": "2021-08-18T11:57:22.626Z"
   },
   {
    "duration": 4,
    "start_time": "2021-08-18T12:31:24.232Z"
   },
   {
    "duration": 3,
    "start_time": "2021-08-18T12:32:08.474Z"
   },
   {
    "duration": 10,
    "start_time": "2021-08-18T12:39:29.403Z"
   },
   {
    "duration": 30,
    "start_time": "2021-08-18T12:39:32.031Z"
   },
   {
    "duration": 4,
    "start_time": "2021-08-18T12:39:32.374Z"
   },
   {
    "duration": 283,
    "start_time": "2021-08-18T12:39:34.038Z"
   },
   {
    "duration": 12,
    "start_time": "2021-08-18T12:39:36.254Z"
   },
   {
    "duration": 1394130,
    "start_time": "2021-08-18T12:39:41.235Z"
   },
   {
    "duration": 2101728,
    "start_time": "2021-08-18T13:02:55.367Z"
   },
   {
    "duration": 172,
    "start_time": "2021-08-18T13:37:56.926Z"
   },
   {
    "duration": 171,
    "start_time": "2021-08-18T13:37:56.928Z"
   },
   {
    "duration": 169,
    "start_time": "2021-08-18T13:37:56.930Z"
   },
   {
    "duration": 169,
    "start_time": "2021-08-18T13:37:56.932Z"
   },
   {
    "duration": 168,
    "start_time": "2021-08-18T13:37:56.934Z"
   },
   {
    "duration": 61,
    "start_time": "2021-08-18T13:41:25.052Z"
   },
   {
    "duration": 65,
    "start_time": "2021-08-18T13:41:33.581Z"
   },
   {
    "duration": 224,
    "start_time": "2021-08-18T14:17:42.510Z"
   },
   {
    "duration": 1762,
    "start_time": "2021-08-18T14:19:02.265Z"
   },
   {
    "duration": 3111,
    "start_time": "2021-08-18T14:19:04.029Z"
   },
   {
    "duration": 181,
    "start_time": "2021-08-18T14:19:06.964Z"
   },
   {
    "duration": 180,
    "start_time": "2021-08-18T14:19:06.966Z"
   },
   {
    "duration": 178,
    "start_time": "2021-08-18T14:19:06.969Z"
   },
   {
    "duration": 177,
    "start_time": "2021-08-18T14:19:06.971Z"
   },
   {
    "duration": 177,
    "start_time": "2021-08-18T14:19:06.972Z"
   },
   {
    "duration": 175,
    "start_time": "2021-08-18T14:19:06.975Z"
   },
   {
    "duration": 175,
    "start_time": "2021-08-18T14:19:06.976Z"
   },
   {
    "duration": 173,
    "start_time": "2021-08-18T14:19:06.979Z"
   },
   {
    "duration": 172,
    "start_time": "2021-08-18T14:19:06.981Z"
   },
   {
    "duration": 170,
    "start_time": "2021-08-18T14:19:06.983Z"
   },
   {
    "duration": 169,
    "start_time": "2021-08-18T14:19:06.985Z"
   },
   {
    "duration": 168,
    "start_time": "2021-08-18T14:19:06.987Z"
   },
   {
    "duration": 161,
    "start_time": "2021-08-18T14:19:06.995Z"
   },
   {
    "duration": 158,
    "start_time": "2021-08-18T14:19:06.999Z"
   },
   {
    "duration": 157,
    "start_time": "2021-08-18T14:19:07.001Z"
   },
   {
    "duration": 156,
    "start_time": "2021-08-18T14:19:07.003Z"
   },
   {
    "duration": 155,
    "start_time": "2021-08-18T14:19:07.005Z"
   },
   {
    "duration": 154,
    "start_time": "2021-08-18T14:19:07.007Z"
   },
   {
    "duration": 153,
    "start_time": "2021-08-18T14:19:07.009Z"
   },
   {
    "duration": 151,
    "start_time": "2021-08-18T14:19:07.012Z"
   },
   {
    "duration": 150,
    "start_time": "2021-08-18T14:19:07.014Z"
   },
   {
    "duration": 149,
    "start_time": "2021-08-18T14:19:07.016Z"
   },
   {
    "duration": 149,
    "start_time": "2021-08-18T14:19:07.017Z"
   },
   {
    "duration": 147,
    "start_time": "2021-08-18T14:19:07.019Z"
   },
   {
    "duration": 146,
    "start_time": "2021-08-18T14:19:07.021Z"
   },
   {
    "duration": 145,
    "start_time": "2021-08-18T14:19:07.023Z"
   },
   {
    "duration": 144,
    "start_time": "2021-08-18T14:19:07.025Z"
   },
   {
    "duration": 143,
    "start_time": "2021-08-18T14:19:07.027Z"
   },
   {
    "duration": 141,
    "start_time": "2021-08-18T14:19:07.030Z"
   },
   {
    "duration": 140,
    "start_time": "2021-08-18T14:19:07.032Z"
   },
   {
    "duration": 139,
    "start_time": "2021-08-18T14:19:07.034Z"
   },
   {
    "duration": 137,
    "start_time": "2021-08-18T14:19:07.037Z"
   },
   {
    "duration": 135,
    "start_time": "2021-08-18T14:19:07.039Z"
   },
   {
    "duration": 134,
    "start_time": "2021-08-18T14:19:07.041Z"
   },
   {
    "duration": 133,
    "start_time": "2021-08-18T14:19:07.043Z"
   },
   {
    "duration": 132,
    "start_time": "2021-08-18T14:19:07.045Z"
   },
   {
    "duration": 131,
    "start_time": "2021-08-18T14:19:07.047Z"
   },
   {
    "duration": 130,
    "start_time": "2021-08-18T14:19:07.050Z"
   },
   {
    "duration": 132,
    "start_time": "2021-08-18T14:19:07.052Z"
   },
   {
    "duration": 131,
    "start_time": "2021-08-18T14:19:07.054Z"
   },
   {
    "duration": 129,
    "start_time": "2021-08-18T14:19:07.056Z"
   },
   {
    "duration": 128,
    "start_time": "2021-08-18T14:19:07.058Z"
   },
   {
    "duration": 127,
    "start_time": "2021-08-18T14:19:07.060Z"
   },
   {
    "duration": 126,
    "start_time": "2021-08-18T14:19:07.062Z"
   },
   {
    "duration": 125,
    "start_time": "2021-08-18T14:19:07.064Z"
   },
   {
    "duration": 123,
    "start_time": "2021-08-18T14:19:07.067Z"
   },
   {
    "duration": 122,
    "start_time": "2021-08-18T14:19:07.069Z"
   },
   {
    "duration": 1658,
    "start_time": "2021-08-18T14:19:21.294Z"
   },
   {
    "duration": 1627,
    "start_time": "2021-08-18T14:19:22.954Z"
   },
   {
    "duration": 11,
    "start_time": "2021-08-18T14:19:24.584Z"
   },
   {
    "duration": 28,
    "start_time": "2021-08-18T14:19:24.597Z"
   },
   {
    "duration": 175,
    "start_time": "2021-08-18T14:19:24.627Z"
   },
   {
    "duration": 19,
    "start_time": "2021-08-18T14:19:24.803Z"
   },
   {
    "duration": 3,
    "start_time": "2021-08-18T14:19:24.824Z"
   },
   {
    "duration": 2281,
    "start_time": "2021-08-18T14:19:24.829Z"
   },
   {
    "duration": 7,
    "start_time": "2021-08-18T14:19:27.113Z"
   },
   {
    "duration": 5,
    "start_time": "2021-08-18T14:19:27.122Z"
   },
   {
    "duration": 2467,
    "start_time": "2021-08-18T14:19:27.128Z"
   },
   {
    "duration": 40,
    "start_time": "2021-08-18T14:19:29.597Z"
   },
   {
    "duration": 9,
    "start_time": "2021-08-18T14:19:29.639Z"
   },
   {
    "duration": 35,
    "start_time": "2021-08-18T14:19:29.650Z"
   },
   {
    "duration": 149,
    "start_time": "2021-08-18T14:19:29.687Z"
   },
   {
    "duration": 8,
    "start_time": "2021-08-18T14:19:29.837Z"
   },
   {
    "duration": 1067,
    "start_time": "2021-08-18T14:19:29.847Z"
   },
   {
    "duration": 3,
    "start_time": "2021-08-18T14:19:30.916Z"
   },
   {
    "duration": 36,
    "start_time": "2021-08-18T14:19:30.920Z"
   },
   {
    "duration": 16,
    "start_time": "2021-08-18T14:19:30.958Z"
   },
   {
    "duration": 19,
    "start_time": "2021-08-18T14:19:30.975Z"
   },
   {
    "duration": 23,
    "start_time": "2021-08-18T14:19:30.996Z"
   },
   {
    "duration": 17,
    "start_time": "2021-08-18T14:19:31.021Z"
   },
   {
    "duration": 851,
    "start_time": "2021-08-18T14:19:31.040Z"
   },
   {
    "duration": 9,
    "start_time": "2021-08-18T14:19:31.893Z"
   },
   {
    "duration": 29,
    "start_time": "2021-08-18T14:19:31.904Z"
   },
   {
    "duration": 4,
    "start_time": "2021-08-18T14:19:31.936Z"
   },
   {
    "duration": 287,
    "start_time": "2021-08-18T14:19:31.942Z"
   },
   {
    "duration": 10,
    "start_time": "2021-08-18T14:19:32.231Z"
   },
   {
    "duration": 358412,
    "start_time": "2021-08-18T14:19:32.243Z"
   },
   {
    "duration": 174,
    "start_time": "2021-08-18T14:25:30.483Z"
   },
   {
    "duration": 172,
    "start_time": "2021-08-18T14:25:30.486Z"
   },
   {
    "duration": 171,
    "start_time": "2021-08-18T14:25:30.488Z"
   },
   {
    "duration": 141,
    "start_time": "2021-08-18T14:25:30.519Z"
   },
   {
    "duration": 139,
    "start_time": "2021-08-18T14:25:30.522Z"
   },
   {
    "duration": 138,
    "start_time": "2021-08-18T14:25:30.524Z"
   },
   {
    "duration": 136,
    "start_time": "2021-08-18T14:25:30.527Z"
   },
   {
    "duration": 135,
    "start_time": "2021-08-18T14:25:30.529Z"
   },
   {
    "duration": 134,
    "start_time": "2021-08-18T14:25:30.531Z"
   },
   {
    "duration": 133,
    "start_time": "2021-08-18T14:25:30.533Z"
   },
   {
    "duration": 132,
    "start_time": "2021-08-18T14:25:30.535Z"
   },
   {
    "duration": 131,
    "start_time": "2021-08-18T14:25:30.537Z"
   },
   {
    "duration": 129,
    "start_time": "2021-08-18T14:25:30.540Z"
   },
   {
    "duration": 127,
    "start_time": "2021-08-18T14:25:30.543Z"
   },
   {
    "duration": 126,
    "start_time": "2021-08-18T14:25:30.545Z"
   },
   {
    "duration": 127,
    "start_time": "2021-08-18T14:25:30.546Z"
   },
   {
    "duration": 126,
    "start_time": "2021-08-18T14:25:30.548Z"
   },
   {
    "duration": 125,
    "start_time": "2021-08-18T14:25:30.550Z"
   },
   {
    "duration": 123,
    "start_time": "2021-08-18T14:25:30.553Z"
   },
   {
    "duration": 55364,
    "start_time": "2021-08-18T14:25:39.127Z"
   },
   {
    "duration": 622451,
    "start_time": "2021-08-18T14:26:35.674Z"
   },
   {
    "duration": 46994,
    "start_time": "2021-08-18T14:37:21.532Z"
   },
   {
    "duration": 236,
    "start_time": "2021-08-18T14:38:57.311Z"
   },
   {
    "duration": 1654,
    "start_time": "2021-08-18T14:39:15.285Z"
   },
   {
    "duration": 5644,
    "start_time": "2021-08-18T14:39:16.941Z"
   },
   {
    "duration": 11,
    "start_time": "2021-08-18T14:39:22.591Z"
   },
   {
    "duration": 29,
    "start_time": "2021-08-18T14:39:22.605Z"
   },
   {
    "duration": 181,
    "start_time": "2021-08-18T14:39:22.636Z"
   },
   {
    "duration": 17,
    "start_time": "2021-08-18T14:39:22.819Z"
   },
   {
    "duration": 10,
    "start_time": "2021-08-18T14:39:22.839Z"
   },
   {
    "duration": 2322,
    "start_time": "2021-08-18T14:39:22.851Z"
   },
   {
    "duration": 10,
    "start_time": "2021-08-18T14:39:25.175Z"
   },
   {
    "duration": 12,
    "start_time": "2021-08-18T14:39:25.187Z"
   },
   {
    "duration": 2558,
    "start_time": "2021-08-18T14:39:25.200Z"
   },
   {
    "duration": 51,
    "start_time": "2021-08-18T14:39:27.759Z"
   },
   {
    "duration": 8,
    "start_time": "2021-08-18T14:39:27.811Z"
   },
   {
    "duration": 46,
    "start_time": "2021-08-18T14:39:27.821Z"
   },
   {
    "duration": 186,
    "start_time": "2021-08-18T14:39:27.868Z"
   },
   {
    "duration": 8,
    "start_time": "2021-08-18T14:39:28.056Z"
   },
   {
    "duration": 1121,
    "start_time": "2021-08-18T14:39:28.066Z"
   },
   {
    "duration": 3,
    "start_time": "2021-08-18T14:39:29.189Z"
   },
   {
    "duration": 20,
    "start_time": "2021-08-18T14:39:29.193Z"
   },
   {
    "duration": 31,
    "start_time": "2021-08-18T14:39:29.215Z"
   },
   {
    "duration": 31,
    "start_time": "2021-08-18T14:39:29.248Z"
   },
   {
    "duration": 11,
    "start_time": "2021-08-18T14:39:29.282Z"
   },
   {
    "duration": 20,
    "start_time": "2021-08-18T14:39:29.295Z"
   },
   {
    "duration": 4322,
    "start_time": "2021-08-18T14:39:29.316Z"
   },
   {
    "duration": 10,
    "start_time": "2021-08-18T14:39:33.639Z"
   },
   {
    "duration": 63,
    "start_time": "2021-08-18T14:39:33.650Z"
   },
   {
    "duration": 13,
    "start_time": "2021-08-18T14:39:33.714Z"
   },
   {
    "duration": 291,
    "start_time": "2021-08-18T14:39:33.729Z"
   },
   {
    "duration": 11,
    "start_time": "2021-08-18T14:39:34.021Z"
   },
   {
    "duration": 131625,
    "start_time": "2021-08-18T14:39:34.034Z"
   },
   {
    "duration": 129,
    "start_time": "2021-08-18T14:41:45.533Z"
   },
   {
    "duration": 128,
    "start_time": "2021-08-18T14:41:45.535Z"
   },
   {
    "duration": 127,
    "start_time": "2021-08-18T14:41:45.537Z"
   },
   {
    "duration": 126,
    "start_time": "2021-08-18T14:41:45.540Z"
   },
   {
    "duration": 125,
    "start_time": "2021-08-18T14:41:45.542Z"
   },
   {
    "duration": 125,
    "start_time": "2021-08-18T14:41:45.544Z"
   },
   {
    "duration": 125,
    "start_time": "2021-08-18T14:41:45.546Z"
   },
   {
    "duration": 124,
    "start_time": "2021-08-18T14:41:45.548Z"
   },
   {
    "duration": 124,
    "start_time": "2021-08-18T14:41:45.550Z"
   },
   {
    "duration": 123,
    "start_time": "2021-08-18T14:41:45.552Z"
   },
   {
    "duration": 122,
    "start_time": "2021-08-18T14:41:45.554Z"
   },
   {
    "duration": 122,
    "start_time": "2021-08-18T14:41:45.556Z"
   },
   {
    "duration": 121,
    "start_time": "2021-08-18T14:41:45.558Z"
   },
   {
    "duration": 121,
    "start_time": "2021-08-18T14:41:45.560Z"
   },
   {
    "duration": 120,
    "start_time": "2021-08-18T14:41:45.562Z"
   },
   {
    "duration": 119,
    "start_time": "2021-08-18T14:41:45.564Z"
   },
   {
    "duration": 118,
    "start_time": "2021-08-18T14:41:45.567Z"
   },
   {
    "duration": 117,
    "start_time": "2021-08-18T14:41:45.569Z"
   },
   {
    "duration": 117,
    "start_time": "2021-08-18T14:41:45.571Z"
   },
   {
    "duration": 359577,
    "start_time": "2021-08-18T14:41:47.849Z"
   },
   {
    "duration": 1677,
    "start_time": "2021-08-18T15:00:43.664Z"
   },
   {
    "duration": 3297,
    "start_time": "2021-08-18T15:00:45.343Z"
   },
   {
    "duration": 10,
    "start_time": "2021-08-18T15:00:48.642Z"
   },
   {
    "duration": 31,
    "start_time": "2021-08-18T15:00:48.654Z"
   },
   {
    "duration": 147,
    "start_time": "2021-08-18T15:00:48.687Z"
   },
   {
    "duration": 17,
    "start_time": "2021-08-18T15:00:48.835Z"
   },
   {
    "duration": 3,
    "start_time": "2021-08-18T15:00:48.854Z"
   },
   {
    "duration": 2371,
    "start_time": "2021-08-18T15:00:48.859Z"
   },
   {
    "duration": 8,
    "start_time": "2021-08-18T15:00:51.232Z"
   },
   {
    "duration": 10,
    "start_time": "2021-08-18T15:00:51.241Z"
   },
   {
    "duration": 2523,
    "start_time": "2021-08-18T15:00:51.253Z"
   },
   {
    "duration": 161,
    "start_time": "2021-08-18T15:00:53.617Z"
   },
   {
    "duration": 160,
    "start_time": "2021-08-18T15:00:53.619Z"
   },
   {
    "duration": 159,
    "start_time": "2021-08-18T15:00:53.621Z"
   },
   {
    "duration": 159,
    "start_time": "2021-08-18T15:00:53.622Z"
   },
   {
    "duration": 158,
    "start_time": "2021-08-18T15:00:53.624Z"
   },
   {
    "duration": 157,
    "start_time": "2021-08-18T15:00:53.626Z"
   },
   {
    "duration": 157,
    "start_time": "2021-08-18T15:00:53.628Z"
   },
   {
    "duration": 156,
    "start_time": "2021-08-18T15:00:53.630Z"
   },
   {
    "duration": 149,
    "start_time": "2021-08-18T15:00:53.638Z"
   },
   {
    "duration": 147,
    "start_time": "2021-08-18T15:00:53.641Z"
   },
   {
    "duration": 147,
    "start_time": "2021-08-18T15:00:53.642Z"
   },
   {
    "duration": 146,
    "start_time": "2021-08-18T15:00:53.644Z"
   },
   {
    "duration": 145,
    "start_time": "2021-08-18T15:00:53.646Z"
   },
   {
    "duration": 144,
    "start_time": "2021-08-18T15:00:53.648Z"
   },
   {
    "duration": 143,
    "start_time": "2021-08-18T15:00:53.650Z"
   },
   {
    "duration": 143,
    "start_time": "2021-08-18T15:00:53.651Z"
   },
   {
    "duration": 141,
    "start_time": "2021-08-18T15:00:53.654Z"
   },
   {
    "duration": 140,
    "start_time": "2021-08-18T15:00:53.656Z"
   },
   {
    "duration": 139,
    "start_time": "2021-08-18T15:00:53.658Z"
   },
   {
    "duration": 138,
    "start_time": "2021-08-18T15:00:53.660Z"
   },
   {
    "duration": 138,
    "start_time": "2021-08-18T15:00:53.661Z"
   },
   {
    "duration": 137,
    "start_time": "2021-08-18T15:00:53.663Z"
   },
   {
    "duration": 135,
    "start_time": "2021-08-18T15:00:53.666Z"
   },
   {
    "duration": 134,
    "start_time": "2021-08-18T15:00:53.668Z"
   },
   {
    "duration": 133,
    "start_time": "2021-08-18T15:00:53.670Z"
   },
   {
    "duration": 132,
    "start_time": "2021-08-18T15:00:53.672Z"
   },
   {
    "duration": 130,
    "start_time": "2021-08-18T15:00:53.675Z"
   },
   {
    "duration": 130,
    "start_time": "2021-08-18T15:00:53.676Z"
   },
   {
    "duration": 129,
    "start_time": "2021-08-18T15:00:53.678Z"
   },
   {
    "duration": 128,
    "start_time": "2021-08-18T15:00:53.680Z"
   },
   {
    "duration": 1654,
    "start_time": "2021-08-18T15:01:03.674Z"
   },
   {
    "duration": 1368,
    "start_time": "2021-08-18T15:01:05.329Z"
   },
   {
    "duration": 10,
    "start_time": "2021-08-18T15:01:06.698Z"
   },
   {
    "duration": 48,
    "start_time": "2021-08-18T15:01:06.710Z"
   },
   {
    "duration": 159,
    "start_time": "2021-08-18T15:01:06.759Z"
   },
   {
    "duration": 18,
    "start_time": "2021-08-18T15:01:06.920Z"
   },
   {
    "duration": 14,
    "start_time": "2021-08-18T15:01:06.940Z"
   },
   {
    "duration": 2317,
    "start_time": "2021-08-18T15:01:06.957Z"
   },
   {
    "duration": 15,
    "start_time": "2021-08-18T15:01:09.276Z"
   },
   {
    "duration": 4,
    "start_time": "2021-08-18T15:01:09.293Z"
   },
   {
    "duration": 2437,
    "start_time": "2021-08-18T15:01:09.299Z"
   },
   {
    "duration": 48,
    "start_time": "2021-08-18T15:01:11.738Z"
   },
   {
    "duration": 9,
    "start_time": "2021-08-18T15:01:11.788Z"
   },
   {
    "duration": 12,
    "start_time": "2021-08-18T15:01:11.799Z"
   },
   {
    "duration": 171,
    "start_time": "2021-08-18T15:01:11.813Z"
   },
   {
    "duration": 10,
    "start_time": "2021-08-18T15:01:11.986Z"
   },
   {
    "duration": 1039,
    "start_time": "2021-08-18T15:01:11.998Z"
   },
   {
    "duration": 3,
    "start_time": "2021-08-18T15:01:13.039Z"
   },
   {
    "duration": 17,
    "start_time": "2021-08-18T15:01:13.044Z"
   },
   {
    "duration": 13,
    "start_time": "2021-08-18T15:01:13.063Z"
   },
   {
    "duration": 19,
    "start_time": "2021-08-18T15:01:13.078Z"
   },
   {
    "duration": 18,
    "start_time": "2021-08-18T15:01:13.099Z"
   },
   {
    "duration": 14,
    "start_time": "2021-08-18T15:01:13.121Z"
   },
   {
    "duration": 733,
    "start_time": "2021-08-18T15:01:13.137Z"
   },
   {
    "duration": 14,
    "start_time": "2021-08-18T15:01:13.872Z"
   },
   {
    "duration": 27,
    "start_time": "2021-08-18T15:01:13.888Z"
   },
   {
    "duration": 5,
    "start_time": "2021-08-18T15:01:13.916Z"
   },
   {
    "duration": 290,
    "start_time": "2021-08-18T15:01:13.923Z"
   },
   {
    "duration": 12,
    "start_time": "2021-08-18T15:01:14.215Z"
   },
   {
    "duration": 538339,
    "start_time": "2021-08-18T15:01:14.229Z"
   },
   {
    "duration": 579260,
    "start_time": "2021-08-18T15:10:12.570Z"
   },
   {
    "duration": 101,
    "start_time": "2021-08-18T15:19:51.732Z"
   },
   {
    "duration": 99,
    "start_time": "2021-08-18T15:19:51.735Z"
   },
   {
    "duration": 99,
    "start_time": "2021-08-18T15:19:51.737Z"
   },
   {
    "duration": 96,
    "start_time": "2021-08-18T15:19:51.741Z"
   },
   {
    "duration": 96,
    "start_time": "2021-08-18T15:19:51.743Z"
   },
   {
    "duration": 94,
    "start_time": "2021-08-18T15:19:51.746Z"
   },
   {
    "duration": 94,
    "start_time": "2021-08-18T15:19:51.748Z"
   },
   {
    "duration": 92,
    "start_time": "2021-08-18T15:19:51.751Z"
   },
   {
    "duration": 91,
    "start_time": "2021-08-18T15:19:51.753Z"
   },
   {
    "duration": 90,
    "start_time": "2021-08-18T15:19:51.756Z"
   },
   {
    "duration": 2,
    "start_time": "2021-08-18T15:20:03.761Z"
   },
   {
    "duration": 189,
    "start_time": "2021-08-18T15:20:09.777Z"
   },
   {
    "duration": 186,
    "start_time": "2021-08-18T15:20:48.153Z"
   },
   {
    "duration": 199,
    "start_time": "2021-08-18T15:21:03.969Z"
   },
   {
    "duration": 5,
    "start_time": "2021-08-18T15:21:14.185Z"
   },
   {
    "duration": 3,
    "start_time": "2021-08-18T15:21:30.464Z"
   },
   {
    "duration": 182,
    "start_time": "2021-08-18T15:21:31.895Z"
   },
   {
    "duration": 214,
    "start_time": "2021-08-18T15:21:45.258Z"
   },
   {
    "duration": 3,
    "start_time": "2021-08-18T15:22:00.991Z"
   },
   {
    "duration": 4,
    "start_time": "2021-08-18T15:22:15.560Z"
   },
   {
    "duration": 1627,
    "start_time": "2021-08-18T15:23:19.434Z"
   },
   {
    "duration": 5422,
    "start_time": "2021-08-18T15:23:21.063Z"
   },
   {
    "duration": 10,
    "start_time": "2021-08-18T15:23:26.489Z"
   },
   {
    "duration": 31,
    "start_time": "2021-08-18T15:23:26.501Z"
   },
   {
    "duration": 172,
    "start_time": "2021-08-18T15:23:26.534Z"
   },
   {
    "duration": 18,
    "start_time": "2021-08-18T15:23:26.707Z"
   },
   {
    "duration": 3,
    "start_time": "2021-08-18T15:23:26.728Z"
   },
   {
    "duration": 2359,
    "start_time": "2021-08-18T15:23:26.733Z"
   },
   {
    "duration": 8,
    "start_time": "2021-08-18T15:23:29.094Z"
   },
   {
    "duration": 6,
    "start_time": "2021-08-18T15:23:29.103Z"
   },
   {
    "duration": 2530,
    "start_time": "2021-08-18T15:23:29.110Z"
   },
   {
    "duration": 50,
    "start_time": "2021-08-18T15:23:31.642Z"
   },
   {
    "duration": 8,
    "start_time": "2021-08-18T15:23:31.694Z"
   },
   {
    "duration": 10,
    "start_time": "2021-08-18T15:23:31.704Z"
   },
   {
    "duration": 168,
    "start_time": "2021-08-18T15:23:31.716Z"
   },
   {
    "duration": 8,
    "start_time": "2021-08-18T15:23:31.886Z"
   },
   {
    "duration": 1088,
    "start_time": "2021-08-18T15:23:31.896Z"
   },
   {
    "duration": 3,
    "start_time": "2021-08-18T15:23:32.986Z"
   },
   {
    "duration": 16,
    "start_time": "2021-08-18T15:23:32.991Z"
   },
   {
    "duration": 18,
    "start_time": "2021-08-18T15:23:33.009Z"
   },
   {
    "duration": 29,
    "start_time": "2021-08-18T15:23:33.029Z"
   },
   {
    "duration": 17,
    "start_time": "2021-08-18T15:23:33.061Z"
   },
   {
    "duration": 26,
    "start_time": "2021-08-18T15:23:33.080Z"
   },
   {
    "duration": 813,
    "start_time": "2021-08-18T15:23:33.108Z"
   },
   {
    "duration": 11,
    "start_time": "2021-08-18T15:23:33.923Z"
   },
   {
    "duration": 57,
    "start_time": "2021-08-18T15:23:33.936Z"
   },
   {
    "duration": 5,
    "start_time": "2021-08-18T15:23:33.996Z"
   },
   {
    "duration": 294,
    "start_time": "2021-08-18T15:23:34.003Z"
   },
   {
    "duration": 12,
    "start_time": "2021-08-18T15:23:34.298Z"
   },
   {
    "duration": 5656,
    "start_time": "2021-08-18T15:23:34.312Z"
   },
   {
    "duration": 102,
    "start_time": "2021-08-18T15:23:39.868Z"
   },
   {
    "duration": 99,
    "start_time": "2021-08-18T15:23:39.872Z"
   },
   {
    "duration": 98,
    "start_time": "2021-08-18T15:23:39.874Z"
   },
   {
    "duration": 97,
    "start_time": "2021-08-18T15:23:39.876Z"
   },
   {
    "duration": 95,
    "start_time": "2021-08-18T15:23:39.879Z"
   },
   {
    "duration": 88,
    "start_time": "2021-08-18T15:23:39.887Z"
   },
   {
    "duration": 86,
    "start_time": "2021-08-18T15:23:39.890Z"
   },
   {
    "duration": 79,
    "start_time": "2021-08-18T15:23:39.897Z"
   },
   {
    "duration": 73,
    "start_time": "2021-08-18T15:23:39.904Z"
   },
   {
    "duration": 72,
    "start_time": "2021-08-18T15:23:39.906Z"
   },
   {
    "duration": 70,
    "start_time": "2021-08-18T15:23:39.908Z"
   },
   {
    "duration": 192,
    "start_time": "2021-08-18T15:23:53.082Z"
   },
   {
    "duration": 1669,
    "start_time": "2021-08-18T15:25:11.367Z"
   },
   {
    "duration": 3334,
    "start_time": "2021-08-18T15:25:13.038Z"
   },
   {
    "duration": 11,
    "start_time": "2021-08-18T15:25:16.375Z"
   },
   {
    "duration": 41,
    "start_time": "2021-08-18T15:25:16.388Z"
   },
   {
    "duration": 165,
    "start_time": "2021-08-18T15:25:16.431Z"
   },
   {
    "duration": 18,
    "start_time": "2021-08-18T15:25:16.598Z"
   },
   {
    "duration": 6,
    "start_time": "2021-08-18T15:25:16.619Z"
   },
   {
    "duration": 2315,
    "start_time": "2021-08-18T15:25:16.627Z"
   },
   {
    "duration": 8,
    "start_time": "2021-08-18T15:25:18.944Z"
   },
   {
    "duration": 4,
    "start_time": "2021-08-18T15:25:18.954Z"
   },
   {
    "duration": 2501,
    "start_time": "2021-08-18T15:25:18.960Z"
   },
   {
    "duration": 48,
    "start_time": "2021-08-18T15:25:21.462Z"
   },
   {
    "duration": 8,
    "start_time": "2021-08-18T15:25:21.511Z"
   },
   {
    "duration": 11,
    "start_time": "2021-08-18T15:25:21.520Z"
   },
   {
    "duration": 164,
    "start_time": "2021-08-18T15:25:21.532Z"
   },
   {
    "duration": 8,
    "start_time": "2021-08-18T15:25:21.698Z"
   },
   {
    "duration": 910,
    "start_time": "2021-08-18T15:25:21.708Z"
   },
   {
    "duration": 3,
    "start_time": "2021-08-18T15:25:22.620Z"
   },
   {
    "duration": 7,
    "start_time": "2021-08-18T15:25:22.624Z"
   },
   {
    "duration": 6,
    "start_time": "2021-08-18T15:25:22.633Z"
   },
   {
    "duration": 9,
    "start_time": "2021-08-18T15:25:22.641Z"
   },
   {
    "duration": 4,
    "start_time": "2021-08-18T15:25:22.654Z"
   },
   {
    "duration": 7,
    "start_time": "2021-08-18T15:25:22.660Z"
   },
   {
    "duration": 2203,
    "start_time": "2021-08-18T15:25:22.669Z"
   },
   {
    "duration": 15,
    "start_time": "2021-08-18T15:25:24.874Z"
   },
   {
    "duration": 29,
    "start_time": "2021-08-18T15:25:24.891Z"
   },
   {
    "duration": 4,
    "start_time": "2021-08-18T15:25:24.922Z"
   },
   {
    "duration": 299,
    "start_time": "2021-08-18T15:25:24.928Z"
   },
   {
    "duration": 11,
    "start_time": "2021-08-18T15:25:25.229Z"
   },
   {
    "duration": 786329,
    "start_time": "2021-08-18T15:25:25.241Z"
   },
   {
    "duration": 398273,
    "start_time": "2021-08-18T15:38:31.572Z"
   },
   {
    "duration": 87,
    "start_time": "2021-08-18T15:45:09.761Z"
   },
   {
    "duration": 85,
    "start_time": "2021-08-18T15:45:09.764Z"
   },
   {
    "duration": 82,
    "start_time": "2021-08-18T15:45:09.767Z"
   },
   {
    "duration": 79,
    "start_time": "2021-08-18T15:45:09.771Z"
   },
   {
    "duration": 75,
    "start_time": "2021-08-18T15:45:09.776Z"
   },
   {
    "duration": 74,
    "start_time": "2021-08-18T15:45:09.778Z"
   },
   {
    "duration": 72,
    "start_time": "2021-08-18T15:45:09.781Z"
   },
   {
    "duration": 71,
    "start_time": "2021-08-18T15:45:09.783Z"
   },
   {
    "duration": 70,
    "start_time": "2021-08-18T15:45:09.785Z"
   },
   {
    "duration": 69,
    "start_time": "2021-08-18T15:45:09.787Z"
   },
   {
    "duration": 2007006,
    "start_time": "2021-08-18T15:45:39.996Z"
   },
   {
    "duration": 7,
    "start_time": "2021-08-18T16:19:21.867Z"
   },
   {
    "duration": 6,
    "start_time": "2021-08-18T16:19:23.561Z"
   },
   {
    "duration": 3,
    "start_time": "2021-08-18T16:19:29.633Z"
   },
   {
    "duration": 4730,
    "start_time": "2021-08-18T16:19:31.579Z"
   },
   {
    "duration": 21315,
    "start_time": "2021-08-18T16:19:38.573Z"
   },
   {
    "duration": 73,
    "start_time": "2021-08-18T16:20:08.163Z"
   },
   {
    "duration": 176,
    "start_time": "2021-08-18T16:20:15.576Z"
   },
   {
    "duration": 203,
    "start_time": "2021-08-18T16:20:18.177Z"
   },
   {
    "duration": 6,
    "start_time": "2021-08-18T16:21:44.775Z"
   },
   {
    "duration": 5,
    "start_time": "2021-08-18T16:21:54.126Z"
   },
   {
    "duration": 85839,
    "start_time": "2021-08-18T16:22:15.042Z"
   },
   {
    "duration": 697325,
    "start_time": "2021-08-18T16:23:40.883Z"
   },
   {
    "duration": 4,
    "start_time": "2021-08-18T16:35:18.210Z"
   },
   {
    "duration": 3,
    "start_time": "2021-08-18T16:36:16.858Z"
   },
   {
    "duration": 8,
    "start_time": "2021-08-18T16:36:17.890Z"
   },
   {
    "duration": 3,
    "start_time": "2021-08-18T16:54:12.019Z"
   },
   {
    "duration": 3,
    "start_time": "2021-08-18T16:55:29.259Z"
   },
   {
    "duration": 57,
    "start_time": "2021-08-18T16:55:36.630Z"
   },
   {
    "duration": 3,
    "start_time": "2021-08-18T16:55:41.349Z"
   },
   {
    "duration": 3,
    "start_time": "2021-08-18T16:55:46.902Z"
   },
   {
    "duration": 5,
    "start_time": "2021-08-18T16:55:49.725Z"
   },
   {
    "duration": 4,
    "start_time": "2021-08-18T16:55:56.718Z"
   },
   {
    "duration": 4,
    "start_time": "2021-08-18T16:56:20.421Z"
   },
   {
    "duration": 1650,
    "start_time": "2021-08-18T17:17:43.087Z"
   },
   {
    "duration": 2865,
    "start_time": "2021-08-18T17:17:44.739Z"
   },
   {
    "duration": 67,
    "start_time": "2021-08-18T17:17:47.540Z"
   },
   {
    "duration": 65,
    "start_time": "2021-08-18T17:17:47.543Z"
   },
   {
    "duration": 65,
    "start_time": "2021-08-18T17:17:47.544Z"
   },
   {
    "duration": 64,
    "start_time": "2021-08-18T17:17:47.546Z"
   },
   {
    "duration": 62,
    "start_time": "2021-08-18T17:17:47.549Z"
   },
   {
    "duration": 61,
    "start_time": "2021-08-18T17:17:47.551Z"
   },
   {
    "duration": 59,
    "start_time": "2021-08-18T17:17:47.554Z"
   },
   {
    "duration": 55,
    "start_time": "2021-08-18T17:17:47.558Z"
   },
   {
    "duration": 54,
    "start_time": "2021-08-18T17:17:47.560Z"
   },
   {
    "duration": 52,
    "start_time": "2021-08-18T17:17:47.563Z"
   },
   {
    "duration": 52,
    "start_time": "2021-08-18T17:17:47.564Z"
   },
   {
    "duration": 50,
    "start_time": "2021-08-18T17:17:47.567Z"
   },
   {
    "duration": 43,
    "start_time": "2021-08-18T17:17:47.575Z"
   },
   {
    "duration": 41,
    "start_time": "2021-08-18T17:17:47.578Z"
   },
   {
    "duration": 39,
    "start_time": "2021-08-18T17:17:47.581Z"
   },
   {
    "duration": 38,
    "start_time": "2021-08-18T17:17:47.583Z"
   },
   {
    "duration": 37,
    "start_time": "2021-08-18T17:17:47.585Z"
   },
   {
    "duration": 36,
    "start_time": "2021-08-18T17:17:47.587Z"
   },
   {
    "duration": 35,
    "start_time": "2021-08-18T17:17:47.589Z"
   },
   {
    "duration": 34,
    "start_time": "2021-08-18T17:17:47.591Z"
   },
   {
    "duration": 33,
    "start_time": "2021-08-18T17:17:47.593Z"
   },
   {
    "duration": 32,
    "start_time": "2021-08-18T17:17:47.595Z"
   },
   {
    "duration": 31,
    "start_time": "2021-08-18T17:17:47.597Z"
   },
   {
    "duration": 29,
    "start_time": "2021-08-18T17:17:47.600Z"
   },
   {
    "duration": 28,
    "start_time": "2021-08-18T17:17:47.602Z"
   },
   {
    "duration": 20,
    "start_time": "2021-08-18T17:17:47.611Z"
   },
   {
    "duration": 19,
    "start_time": "2021-08-18T17:17:47.613Z"
   },
   {
    "duration": 18,
    "start_time": "2021-08-18T17:17:47.615Z"
   },
   {
    "duration": 16,
    "start_time": "2021-08-18T17:17:47.618Z"
   },
   {
    "duration": 15,
    "start_time": "2021-08-18T17:17:47.620Z"
   },
   {
    "duration": 14,
    "start_time": "2021-08-18T17:17:47.622Z"
   },
   {
    "duration": 12,
    "start_time": "2021-08-18T17:17:47.625Z"
   },
   {
    "duration": 11,
    "start_time": "2021-08-18T17:17:47.627Z"
   },
   {
    "duration": 10,
    "start_time": "2021-08-18T17:17:47.629Z"
   },
   {
    "duration": 9,
    "start_time": "2021-08-18T17:17:47.631Z"
   },
   {
    "duration": 8,
    "start_time": "2021-08-18T17:17:47.633Z"
   },
   {
    "duration": 7,
    "start_time": "2021-08-18T17:17:47.635Z"
   },
   {
    "duration": 4,
    "start_time": "2021-08-18T17:17:47.639Z"
   },
   {
    "duration": 4,
    "start_time": "2021-08-18T17:17:47.640Z"
   },
   {
    "duration": 2,
    "start_time": "2021-08-18T17:17:47.643Z"
   },
   {
    "duration": 40,
    "start_time": "2021-08-18T17:17:47.645Z"
   },
   {
    "duration": 40,
    "start_time": "2021-08-18T17:17:47.646Z"
   },
   {
    "duration": 1613,
    "start_time": "2021-08-18T17:18:21.120Z"
   },
   {
    "duration": 1895,
    "start_time": "2021-08-18T17:18:22.735Z"
   },
   {
    "duration": 10,
    "start_time": "2021-08-18T17:18:24.632Z"
   },
   {
    "duration": 27,
    "start_time": "2021-08-18T17:18:24.644Z"
   },
   {
    "duration": 165,
    "start_time": "2021-08-18T17:18:24.684Z"
   },
   {
    "duration": 19,
    "start_time": "2021-08-18T17:18:24.852Z"
   },
   {
    "duration": 14,
    "start_time": "2021-08-18T17:18:24.873Z"
   },
   {
    "duration": 2363,
    "start_time": "2021-08-18T17:18:24.889Z"
   },
   {
    "duration": 8,
    "start_time": "2021-08-18T17:18:27.254Z"
   },
   {
    "duration": 5,
    "start_time": "2021-08-18T17:18:27.264Z"
   },
   {
    "duration": 2503,
    "start_time": "2021-08-18T17:18:27.271Z"
   },
   {
    "duration": 41,
    "start_time": "2021-08-18T17:18:29.775Z"
   },
   {
    "duration": 7,
    "start_time": "2021-08-18T17:18:29.818Z"
   },
   {
    "duration": 10,
    "start_time": "2021-08-18T17:18:29.827Z"
   },
   {
    "duration": 175,
    "start_time": "2021-08-18T17:18:29.839Z"
   },
   {
    "duration": 9,
    "start_time": "2021-08-18T17:18:30.016Z"
   },
   {
    "duration": 1661,
    "start_time": "2021-08-18T17:18:30.027Z"
   },
   {
    "duration": 3,
    "start_time": "2021-08-18T17:18:31.690Z"
   },
   {
    "duration": 9,
    "start_time": "2021-08-18T17:18:31.695Z"
   },
   {
    "duration": 2193789,
    "start_time": "2021-08-18T17:18:31.706Z"
   },
   {
    "duration": 67,
    "start_time": "2021-08-18T17:55:05.497Z"
   },
   {
    "duration": 28,
    "start_time": "2021-08-18T17:55:05.566Z"
   },
   {
    "duration": 2,
    "start_time": "2021-08-18T17:55:05.597Z"
   },
   {
    "duration": 11,
    "start_time": "2021-08-18T17:55:05.601Z"
   },
   {
    "duration": 21,
    "start_time": "2021-08-18T17:55:05.614Z"
   },
   {
    "duration": 33,
    "start_time": "2021-08-18T17:55:05.636Z"
   },
   {
    "duration": 3,
    "start_time": "2021-08-18T17:55:05.671Z"
   },
   {
    "duration": 291,
    "start_time": "2021-08-18T17:55:05.676Z"
   },
   {
    "duration": 24,
    "start_time": "2021-08-18T17:55:05.969Z"
   },
   {
    "duration": 699871,
    "start_time": "2021-08-18T17:55:05.994Z"
   },
   {
    "duration": 3,
    "start_time": "2021-08-18T18:06:45.867Z"
   },
   {
    "duration": 4494932,
    "start_time": "2021-08-18T18:06:45.872Z"
   },
   {
    "duration": 3,
    "start_time": "2021-08-18T19:21:40.805Z"
   },
   {
    "duration": 10,
    "start_time": "2021-08-18T19:21:40.810Z"
   },
   {
    "duration": 6,
    "start_time": "2021-08-18T19:21:40.821Z"
   },
   {
    "duration": 3,
    "start_time": "2021-08-18T19:21:40.828Z"
   },
   {
    "duration": 4759,
    "start_time": "2021-08-18T19:21:40.833Z"
   },
   {
    "duration": 20502,
    "start_time": "2021-08-18T19:21:45.594Z"
   },
   {
    "duration": 72,
    "start_time": "2021-08-18T19:22:06.098Z"
   },
   {
    "duration": 192,
    "start_time": "2021-08-18T19:22:06.171Z"
   },
   {
    "duration": 94921,
    "start_time": "2021-08-18T19:22:06.364Z"
   },
   {
    "duration": 1113407,
    "start_time": "2021-08-18T19:23:41.286Z"
   },
   {
    "duration": 3,
    "start_time": "2021-08-18T19:42:14.695Z"
   },
   {
    "duration": 13,
    "start_time": "2021-08-18T19:42:14.699Z"
   }
  ],
  "kernelspec": {
   "display_name": "Python 3",
   "language": "python",
   "name": "python3"
  },
  "language_info": {
   "codemirror_mode": {
    "name": "ipython",
    "version": 3
   },
   "file_extension": ".py",
   "mimetype": "text/x-python",
   "name": "python",
   "nbconvert_exporter": "python",
   "pygments_lexer": "ipython3",
   "version": "3.7.8"
  },
  "toc": {
   "base_numbering": 1,
   "nav_menu": {},
   "number_sections": true,
   "sideBar": true,
   "skip_h1_title": true,
   "title_cell": "Содержание",
   "title_sidebar": "Contents",
   "toc_cell": true,
   "toc_position": {
    "height": "calc(100% - 180px)",
    "left": "10px",
    "top": "150px",
    "width": "302.391px"
   },
   "toc_section_display": true,
   "toc_window_display": true
  }
 },
 "nbformat": 4,
 "nbformat_minor": 2
}