{
 "cells": [
  {
   "cell_type": "markdown",
   "metadata": {
    "toc": true
   },
   "source": [
    "<h1>Содержание<span class=\"tocSkip\"></span></h1>\n",
    "<div class=\"toc\"><ul class=\"toc-item\"><li><span><a href=\"#Подготовка-данных\" data-toc-modified-id=\"Подготовка-данных-1\"><span class=\"toc-item-num\">1&nbsp;&nbsp;</span>Подготовка данных</a></span><ul class=\"toc-item\"><li><span><a href=\"#Вывод\" data-toc-modified-id=\"Вывод-1.1\"><span class=\"toc-item-num\">1.1&nbsp;&nbsp;</span>Вывод</a></span></li></ul></li><li><span><a href=\"#Исследование-задачи\" data-toc-modified-id=\"Исследование-задачи-2\"><span class=\"toc-item-num\">2&nbsp;&nbsp;</span>Исследование задачи</a></span><ul class=\"toc-item\"><li><span><a href=\"#Вывод\" data-toc-modified-id=\"Вывод-2.1\"><span class=\"toc-item-num\">2.1&nbsp;&nbsp;</span>Вывод</a></span></li></ul></li><li><span><a href=\"#Борьба-с-дисбалансом\" data-toc-modified-id=\"Борьба-с-дисбалансом-3\"><span class=\"toc-item-num\">3&nbsp;&nbsp;</span>Борьба с дисбалансом</a></span><ul class=\"toc-item\"><li><span><a href=\"#Взвешивание-классов.\" data-toc-modified-id=\"Взвешивание-классов.-3.1\"><span class=\"toc-item-num\">3.1&nbsp;&nbsp;</span>Взвешивание классов.</a></span></li><li><span><a href=\"#Увеличение-выборки-с-положительными-целевыми-признаками\" data-toc-modified-id=\"Увеличение-выборки-с-положительными-целевыми-признаками-3.2\"><span class=\"toc-item-num\">3.2&nbsp;&nbsp;</span>Увеличение выборки с положительными целевыми признаками</a></span></li><li><span><a href=\"#Уменьшение-выборки-с-отрицательными-целевыми-признаками\" data-toc-modified-id=\"Уменьшение-выборки-с-отрицательными-целевыми-признаками-3.3\"><span class=\"toc-item-num\">3.3&nbsp;&nbsp;</span>Уменьшение выборки с отрицательными целевыми признаками</a></span></li><li><span><a href=\"#Изменение-порога\" data-toc-modified-id=\"Изменение-порога-3.4\"><span class=\"toc-item-num\">3.4&nbsp;&nbsp;</span>Изменение порога</a></span></li><li><span><a href=\"#Вывод\" data-toc-modified-id=\"Вывод-3.5\"><span class=\"toc-item-num\">3.5&nbsp;&nbsp;</span>Вывод</a></span></li></ul></li><li><span><a href=\"#Тестирование-модели\" data-toc-modified-id=\"Тестирование-модели-4\"><span class=\"toc-item-num\">4&nbsp;&nbsp;</span>Тестирование модели</a></span><ul class=\"toc-item\"><li><span><a href=\"#Вывод\" data-toc-modified-id=\"Вывод-4.1\"><span class=\"toc-item-num\">4.1&nbsp;&nbsp;</span>Вывод</a></span></li></ul></li><li><span><a href=\"#Общий-вывод\" data-toc-modified-id=\"Общий-вывод-5\"><span class=\"toc-item-num\">5&nbsp;&nbsp;</span>Общий вывод</a></span></li></ul></div>"
   ]
  },
  {
   "cell_type": "markdown",
   "metadata": {},
   "source": [
    "# Отток клиентов"
   ]
  },
  {
   "cell_type": "markdown",
   "metadata": {},
   "source": [
    "Из «Бета-Банка» стали уходить клиенты. Каждый месяц. Немного, но заметно. Банковские маркетологи посчитали: сохранять текущих клиентов дешевле, чем привлекать новых.\n",
    "\n",
    "Нужно спрогнозировать, уйдёт клиент из банка в ближайшее время или нет. Вам предоставлены исторические данные о поведении клиентов и расторжении договоров с банком. \n",
    "\n",
    "Постройте модель с предельно большим значением *F1*-меры. Чтобы сдать проект успешно, нужно довести метрику до 0.59. Проверьте *F1*-меру на тестовой выборке самостоятельно.\n",
    "\n",
    "Дополнительно измеряйте *AUC-ROC*, сравнивайте её значение с *F1*-мерой.\n",
    "\n",
    "Источник данных: [https://www.kaggle.com/barelydedicated/bank-customer-churn-modeling](https://www.kaggle.com/barelydedicated/bank-customer-churn-modeling)"
   ]
  },
  {
   "cell_type": "markdown",
   "metadata": {},
   "source": [
    "**Описание данных**  \n",
    "Признаки  \n",
    "- RowNumber — индекс строки в данных\n",
    "- CustomerId — уникальный идентификатор клиента\n",
    "- Surname — фамилия\n",
    "- CreditScore — кредитный рейтинг\n",
    "- Geography — страна проживания\n",
    "- Gender — пол\n",
    "- Age — возраст\n",
    "- Tenure — сколько лет человек является клиентом банка\n",
    "- Balance — баланс на счёте\n",
    "- NumOfProducts — количество продуктов банка, используемых клиентом\n",
    "- HasCrCard — наличие кредитной карты\n",
    "- IsActiveMember — активность клиента\n",
    "- EstimatedSalary — предполагаемая зарплата  \n",
    "\n",
    "Целевой признак\n",
    "- Exited — факт ухода клиента"
   ]
  },
  {
   "cell_type": "markdown",
   "metadata": {},
   "source": [
    "## Подготовка данных"
   ]
  },
  {
   "cell_type": "code",
   "execution_count": 1,
   "metadata": {},
   "outputs": [],
   "source": [
    "import pandas as pd\n",
    "import re\n",
    "import numpy as np\n",
    "from sklearn.preprocessing import StandardScaler\n",
    "from sklearn.model_selection import train_test_split\n",
    "import matplotlib.pyplot as plt\n",
    "from sklearn.ensemble import RandomForestClassifier\n",
    "from sklearn.metrics import f1_score\n",
    "from sklearn.tree import DecisionTreeClassifier\n",
    "from sklearn.linear_model import LogisticRegression\n",
    "from sklearn.metrics import confusion_matrix\n",
    "from sklearn.metrics import recall_score\n",
    "from sklearn.metrics import precision_score\n",
    "from sklearn.metrics import roc_auc_score\n",
    "import warnings\n",
    "warnings.filterwarnings('ignore')\n",
    "from sklearn.utils import shuffle"
   ]
  },
  {
   "cell_type": "code",
   "execution_count": 2,
   "metadata": {},
   "outputs": [
    {
     "data": {
      "text/html": [
       "<div>\n",
       "<style scoped>\n",
       "    .dataframe tbody tr th:only-of-type {\n",
       "        vertical-align: middle;\n",
       "    }\n",
       "\n",
       "    .dataframe tbody tr th {\n",
       "        vertical-align: top;\n",
       "    }\n",
       "\n",
       "    .dataframe thead th {\n",
       "        text-align: right;\n",
       "    }\n",
       "</style>\n",
       "<table border=\"1\" class=\"dataframe\">\n",
       "  <thead>\n",
       "    <tr style=\"text-align: right;\">\n",
       "      <th></th>\n",
       "      <th>RowNumber</th>\n",
       "      <th>CustomerId</th>\n",
       "      <th>Surname</th>\n",
       "      <th>CreditScore</th>\n",
       "      <th>Geography</th>\n",
       "      <th>Gender</th>\n",
       "      <th>Age</th>\n",
       "      <th>Tenure</th>\n",
       "      <th>Balance</th>\n",
       "      <th>NumOfProducts</th>\n",
       "      <th>HasCrCard</th>\n",
       "      <th>IsActiveMember</th>\n",
       "      <th>EstimatedSalary</th>\n",
       "      <th>Exited</th>\n",
       "    </tr>\n",
       "  </thead>\n",
       "  <tbody>\n",
       "    <tr>\n",
       "      <td>0</td>\n",
       "      <td>1</td>\n",
       "      <td>15634602</td>\n",
       "      <td>Hargrave</td>\n",
       "      <td>619</td>\n",
       "      <td>France</td>\n",
       "      <td>Female</td>\n",
       "      <td>42</td>\n",
       "      <td>2.0</td>\n",
       "      <td>0.00</td>\n",
       "      <td>1</td>\n",
       "      <td>1</td>\n",
       "      <td>1</td>\n",
       "      <td>101348.88</td>\n",
       "      <td>1</td>\n",
       "    </tr>\n",
       "    <tr>\n",
       "      <td>1</td>\n",
       "      <td>2</td>\n",
       "      <td>15647311</td>\n",
       "      <td>Hill</td>\n",
       "      <td>608</td>\n",
       "      <td>Spain</td>\n",
       "      <td>Female</td>\n",
       "      <td>41</td>\n",
       "      <td>1.0</td>\n",
       "      <td>83807.86</td>\n",
       "      <td>1</td>\n",
       "      <td>0</td>\n",
       "      <td>1</td>\n",
       "      <td>112542.58</td>\n",
       "      <td>0</td>\n",
       "    </tr>\n",
       "    <tr>\n",
       "      <td>2</td>\n",
       "      <td>3</td>\n",
       "      <td>15619304</td>\n",
       "      <td>Onio</td>\n",
       "      <td>502</td>\n",
       "      <td>France</td>\n",
       "      <td>Female</td>\n",
       "      <td>42</td>\n",
       "      <td>8.0</td>\n",
       "      <td>159660.80</td>\n",
       "      <td>3</td>\n",
       "      <td>1</td>\n",
       "      <td>0</td>\n",
       "      <td>113931.57</td>\n",
       "      <td>1</td>\n",
       "    </tr>\n",
       "    <tr>\n",
       "      <td>3</td>\n",
       "      <td>4</td>\n",
       "      <td>15701354</td>\n",
       "      <td>Boni</td>\n",
       "      <td>699</td>\n",
       "      <td>France</td>\n",
       "      <td>Female</td>\n",
       "      <td>39</td>\n",
       "      <td>1.0</td>\n",
       "      <td>0.00</td>\n",
       "      <td>2</td>\n",
       "      <td>0</td>\n",
       "      <td>0</td>\n",
       "      <td>93826.63</td>\n",
       "      <td>0</td>\n",
       "    </tr>\n",
       "    <tr>\n",
       "      <td>4</td>\n",
       "      <td>5</td>\n",
       "      <td>15737888</td>\n",
       "      <td>Mitchell</td>\n",
       "      <td>850</td>\n",
       "      <td>Spain</td>\n",
       "      <td>Female</td>\n",
       "      <td>43</td>\n",
       "      <td>2.0</td>\n",
       "      <td>125510.82</td>\n",
       "      <td>1</td>\n",
       "      <td>1</td>\n",
       "      <td>1</td>\n",
       "      <td>79084.10</td>\n",
       "      <td>0</td>\n",
       "    </tr>\n",
       "    <tr>\n",
       "      <td>...</td>\n",
       "      <td>...</td>\n",
       "      <td>...</td>\n",
       "      <td>...</td>\n",
       "      <td>...</td>\n",
       "      <td>...</td>\n",
       "      <td>...</td>\n",
       "      <td>...</td>\n",
       "      <td>...</td>\n",
       "      <td>...</td>\n",
       "      <td>...</td>\n",
       "      <td>...</td>\n",
       "      <td>...</td>\n",
       "      <td>...</td>\n",
       "      <td>...</td>\n",
       "    </tr>\n",
       "    <tr>\n",
       "      <td>9995</td>\n",
       "      <td>9996</td>\n",
       "      <td>15606229</td>\n",
       "      <td>Obijiaku</td>\n",
       "      <td>771</td>\n",
       "      <td>France</td>\n",
       "      <td>Male</td>\n",
       "      <td>39</td>\n",
       "      <td>5.0</td>\n",
       "      <td>0.00</td>\n",
       "      <td>2</td>\n",
       "      <td>1</td>\n",
       "      <td>0</td>\n",
       "      <td>96270.64</td>\n",
       "      <td>0</td>\n",
       "    </tr>\n",
       "    <tr>\n",
       "      <td>9996</td>\n",
       "      <td>9997</td>\n",
       "      <td>15569892</td>\n",
       "      <td>Johnstone</td>\n",
       "      <td>516</td>\n",
       "      <td>France</td>\n",
       "      <td>Male</td>\n",
       "      <td>35</td>\n",
       "      <td>10.0</td>\n",
       "      <td>57369.61</td>\n",
       "      <td>1</td>\n",
       "      <td>1</td>\n",
       "      <td>1</td>\n",
       "      <td>101699.77</td>\n",
       "      <td>0</td>\n",
       "    </tr>\n",
       "    <tr>\n",
       "      <td>9997</td>\n",
       "      <td>9998</td>\n",
       "      <td>15584532</td>\n",
       "      <td>Liu</td>\n",
       "      <td>709</td>\n",
       "      <td>France</td>\n",
       "      <td>Female</td>\n",
       "      <td>36</td>\n",
       "      <td>7.0</td>\n",
       "      <td>0.00</td>\n",
       "      <td>1</td>\n",
       "      <td>0</td>\n",
       "      <td>1</td>\n",
       "      <td>42085.58</td>\n",
       "      <td>1</td>\n",
       "    </tr>\n",
       "    <tr>\n",
       "      <td>9998</td>\n",
       "      <td>9999</td>\n",
       "      <td>15682355</td>\n",
       "      <td>Sabbatini</td>\n",
       "      <td>772</td>\n",
       "      <td>Germany</td>\n",
       "      <td>Male</td>\n",
       "      <td>42</td>\n",
       "      <td>3.0</td>\n",
       "      <td>75075.31</td>\n",
       "      <td>2</td>\n",
       "      <td>1</td>\n",
       "      <td>0</td>\n",
       "      <td>92888.52</td>\n",
       "      <td>1</td>\n",
       "    </tr>\n",
       "    <tr>\n",
       "      <td>9999</td>\n",
       "      <td>10000</td>\n",
       "      <td>15628319</td>\n",
       "      <td>Walker</td>\n",
       "      <td>792</td>\n",
       "      <td>France</td>\n",
       "      <td>Female</td>\n",
       "      <td>28</td>\n",
       "      <td>NaN</td>\n",
       "      <td>130142.79</td>\n",
       "      <td>1</td>\n",
       "      <td>1</td>\n",
       "      <td>0</td>\n",
       "      <td>38190.78</td>\n",
       "      <td>0</td>\n",
       "    </tr>\n",
       "  </tbody>\n",
       "</table>\n",
       "<p>10000 rows × 14 columns</p>\n",
       "</div>"
      ],
      "text/plain": [
       "      RowNumber  CustomerId    Surname  CreditScore Geography  Gender  Age  \\\n",
       "0             1    15634602   Hargrave          619    France  Female   42   \n",
       "1             2    15647311       Hill          608     Spain  Female   41   \n",
       "2             3    15619304       Onio          502    France  Female   42   \n",
       "3             4    15701354       Boni          699    France  Female   39   \n",
       "4             5    15737888   Mitchell          850     Spain  Female   43   \n",
       "...         ...         ...        ...          ...       ...     ...  ...   \n",
       "9995       9996    15606229   Obijiaku          771    France    Male   39   \n",
       "9996       9997    15569892  Johnstone          516    France    Male   35   \n",
       "9997       9998    15584532        Liu          709    France  Female   36   \n",
       "9998       9999    15682355  Sabbatini          772   Germany    Male   42   \n",
       "9999      10000    15628319     Walker          792    France  Female   28   \n",
       "\n",
       "      Tenure    Balance  NumOfProducts  HasCrCard  IsActiveMember  \\\n",
       "0        2.0       0.00              1          1               1   \n",
       "1        1.0   83807.86              1          0               1   \n",
       "2        8.0  159660.80              3          1               0   \n",
       "3        1.0       0.00              2          0               0   \n",
       "4        2.0  125510.82              1          1               1   \n",
       "...      ...        ...            ...        ...             ...   \n",
       "9995     5.0       0.00              2          1               0   \n",
       "9996    10.0   57369.61              1          1               1   \n",
       "9997     7.0       0.00              1          0               1   \n",
       "9998     3.0   75075.31              2          1               0   \n",
       "9999     NaN  130142.79              1          1               0   \n",
       "\n",
       "      EstimatedSalary  Exited  \n",
       "0           101348.88       1  \n",
       "1           112542.58       0  \n",
       "2           113931.57       1  \n",
       "3            93826.63       0  \n",
       "4            79084.10       0  \n",
       "...               ...     ...  \n",
       "9995         96270.64       0  \n",
       "9996        101699.77       0  \n",
       "9997         42085.58       1  \n",
       "9998         92888.52       1  \n",
       "9999         38190.78       0  \n",
       "\n",
       "[10000 rows x 14 columns]"
      ]
     },
     "execution_count": 2,
     "metadata": {},
     "output_type": "execute_result"
    }
   ],
   "source": [
    "df = pd.read_csv('/datasets/Churn.csv')\n",
    "df"
   ]
  },
  {
   "cell_type": "markdown",
   "metadata": {},
   "source": [
    "Удалим колонку RowNumber - индекс строки в данных, так как она со смещением на 1 дублирует индексы датафрейма."
   ]
  },
  {
   "cell_type": "code",
   "execution_count": 3,
   "metadata": {},
   "outputs": [],
   "source": [
    "df = df.drop(['RowNumber'], axis=1)"
   ]
  },
  {
   "cell_type": "markdown",
   "metadata": {},
   "source": [
    "Проверим датафрейм на наличие дубликатов."
   ]
  },
  {
   "cell_type": "code",
   "execution_count": 4,
   "metadata": {},
   "outputs": [
    {
     "data": {
      "text/plain": [
       "0"
      ]
     },
     "execution_count": 4,
     "metadata": {},
     "output_type": "execute_result"
    }
   ],
   "source": [
    "df.duplicated().sum()"
   ]
  },
  {
   "cell_type": "markdown",
   "metadata": {},
   "source": [
    "В исходном датафрейме имеюются колонки, которые удалим, так как они не несут существенную информацию для построения модели: \"CustomerId\" - уникальный идентификатор клиента, \"Surname\" - фамилия."
   ]
  },
  {
   "cell_type": "code",
   "execution_count": 5,
   "metadata": {},
   "outputs": [
    {
     "data": {
      "text/html": [
       "<div>\n",
       "<style scoped>\n",
       "    .dataframe tbody tr th:only-of-type {\n",
       "        vertical-align: middle;\n",
       "    }\n",
       "\n",
       "    .dataframe tbody tr th {\n",
       "        vertical-align: top;\n",
       "    }\n",
       "\n",
       "    .dataframe thead th {\n",
       "        text-align: right;\n",
       "    }\n",
       "</style>\n",
       "<table border=\"1\" class=\"dataframe\">\n",
       "  <thead>\n",
       "    <tr style=\"text-align: right;\">\n",
       "      <th></th>\n",
       "      <th>CreditScore</th>\n",
       "      <th>Geography</th>\n",
       "      <th>Gender</th>\n",
       "      <th>Age</th>\n",
       "      <th>Tenure</th>\n",
       "      <th>Balance</th>\n",
       "      <th>NumOfProducts</th>\n",
       "      <th>HasCrCard</th>\n",
       "      <th>IsActiveMember</th>\n",
       "      <th>EstimatedSalary</th>\n",
       "      <th>Exited</th>\n",
       "    </tr>\n",
       "  </thead>\n",
       "  <tbody>\n",
       "    <tr>\n",
       "      <td>0</td>\n",
       "      <td>619</td>\n",
       "      <td>France</td>\n",
       "      <td>Female</td>\n",
       "      <td>42</td>\n",
       "      <td>2.0</td>\n",
       "      <td>0.00</td>\n",
       "      <td>1</td>\n",
       "      <td>1</td>\n",
       "      <td>1</td>\n",
       "      <td>101348.88</td>\n",
       "      <td>1</td>\n",
       "    </tr>\n",
       "    <tr>\n",
       "      <td>1</td>\n",
       "      <td>608</td>\n",
       "      <td>Spain</td>\n",
       "      <td>Female</td>\n",
       "      <td>41</td>\n",
       "      <td>1.0</td>\n",
       "      <td>83807.86</td>\n",
       "      <td>1</td>\n",
       "      <td>0</td>\n",
       "      <td>1</td>\n",
       "      <td>112542.58</td>\n",
       "      <td>0</td>\n",
       "    </tr>\n",
       "  </tbody>\n",
       "</table>\n",
       "</div>"
      ],
      "text/plain": [
       "   CreditScore Geography  Gender  Age  Tenure   Balance  NumOfProducts  \\\n",
       "0          619    France  Female   42     2.0      0.00              1   \n",
       "1          608     Spain  Female   41     1.0  83807.86              1   \n",
       "\n",
       "   HasCrCard  IsActiveMember  EstimatedSalary  Exited  \n",
       "0          1               1        101348.88       1  \n",
       "1          0               1        112542.58       0  "
      ]
     },
     "execution_count": 5,
     "metadata": {},
     "output_type": "execute_result"
    }
   ],
   "source": [
    "df = df.drop(['CustomerId', 'Surname'], axis=1)\n",
    "df.head(2)"
   ]
  },
  {
   "cell_type": "markdown",
   "metadata": {},
   "source": [
    "В названиях колонок между словами нет разделителей, вместо этого все слова начинаются с заглавной буквы. Добавим нижнее подчеркивание в качестве разделителя и приведем названия колонок к нижнему регистру.  \n",
    "\n",
    "Создадим список columns_name для новых названий колонок и заполним его используя цикл:  \n",
    "- Для каждого названия колонки, если в названии одно слово (то есть одна заглавная буква), то добавим это название с нижним регистром в список columns_name. Во всех остальных случаях в текстовой строке после окончания слова (то есть после окончания строчных букв) вставим разделитель \"_\", при этом, чтобы в конце названия колонки не стоял разделитель число разделителей должно быть на 1 меньше количества слов (то есть заглавных букв). После  расстановки разделителей так же добавим эту строку с нижним регистром в список columns_name."
   ]
  },
  {
   "cell_type": "code",
   "execution_count": 6,
   "metadata": {},
   "outputs": [
    {
     "data": {
      "text/html": [
       "<div>\n",
       "<style scoped>\n",
       "    .dataframe tbody tr th:only-of-type {\n",
       "        vertical-align: middle;\n",
       "    }\n",
       "\n",
       "    .dataframe tbody tr th {\n",
       "        vertical-align: top;\n",
       "    }\n",
       "\n",
       "    .dataframe thead th {\n",
       "        text-align: right;\n",
       "    }\n",
       "</style>\n",
       "<table border=\"1\" class=\"dataframe\">\n",
       "  <thead>\n",
       "    <tr style=\"text-align: right;\">\n",
       "      <th></th>\n",
       "      <th>credit_score</th>\n",
       "      <th>geography</th>\n",
       "      <th>gender</th>\n",
       "      <th>age</th>\n",
       "      <th>tenure</th>\n",
       "      <th>balance</th>\n",
       "      <th>num_of_products</th>\n",
       "      <th>has_cr_card</th>\n",
       "      <th>is_active_member</th>\n",
       "      <th>estimated_salary</th>\n",
       "      <th>exited</th>\n",
       "    </tr>\n",
       "  </thead>\n",
       "  <tbody>\n",
       "    <tr>\n",
       "      <td>0</td>\n",
       "      <td>619</td>\n",
       "      <td>France</td>\n",
       "      <td>Female</td>\n",
       "      <td>42</td>\n",
       "      <td>2.0</td>\n",
       "      <td>0.00</td>\n",
       "      <td>1</td>\n",
       "      <td>1</td>\n",
       "      <td>1</td>\n",
       "      <td>101348.88</td>\n",
       "      <td>1</td>\n",
       "    </tr>\n",
       "    <tr>\n",
       "      <td>1</td>\n",
       "      <td>608</td>\n",
       "      <td>Spain</td>\n",
       "      <td>Female</td>\n",
       "      <td>41</td>\n",
       "      <td>1.0</td>\n",
       "      <td>83807.86</td>\n",
       "      <td>1</td>\n",
       "      <td>0</td>\n",
       "      <td>1</td>\n",
       "      <td>112542.58</td>\n",
       "      <td>0</td>\n",
       "    </tr>\n",
       "  </tbody>\n",
       "</table>\n",
       "</div>"
      ],
      "text/plain": [
       "   credit_score geography  gender  age  tenure   balance  num_of_products  \\\n",
       "0           619    France  Female   42     2.0      0.00                1   \n",
       "1           608     Spain  Female   41     1.0  83807.86                1   \n",
       "\n",
       "   has_cr_card  is_active_member  estimated_salary  exited  \n",
       "0            1                 1         101348.88       1  \n",
       "1            0                 1         112542.58       0  "
      ]
     },
     "execution_count": 6,
     "metadata": {},
     "output_type": "execute_result"
    }
   ],
   "source": [
    "columns_name = []\n",
    "for column in df.columns:\n",
    "    if len([l for l in column if l.isupper()]) ==1:\n",
    "        columns_name.append(column.lower())\n",
    "    else:\n",
    "        column = re.sub(\"[a-z]+\", lambda word: word[0] + \"_\", column, count=(len([l for l in column if l.isupper()])-1))\n",
    "        columns_name.append(column.lower())\n",
    "        \n",
    "df.columns = columns_name \n",
    "df.head(2)"
   ]
  },
  {
   "cell_type": "markdown",
   "metadata": {},
   "source": [
    "Выведем информацию о пропусках и типах данных в таблице."
   ]
  },
  {
   "cell_type": "code",
   "execution_count": 7,
   "metadata": {
    "scrolled": true
   },
   "outputs": [
    {
     "name": "stdout",
     "output_type": "stream",
     "text": [
      "<class 'pandas.core.frame.DataFrame'>\n",
      "RangeIndex: 10000 entries, 0 to 9999\n",
      "Data columns (total 11 columns):\n",
      "credit_score        10000 non-null int64\n",
      "geography           10000 non-null object\n",
      "gender              10000 non-null object\n",
      "age                 10000 non-null int64\n",
      "tenure              9091 non-null float64\n",
      "balance             10000 non-null float64\n",
      "num_of_products     10000 non-null int64\n",
      "has_cr_card         10000 non-null int64\n",
      "is_active_member    10000 non-null int64\n",
      "estimated_salary    10000 non-null float64\n",
      "exited              10000 non-null int64\n",
      "dtypes: float64(3), int64(6), object(2)\n",
      "memory usage: 859.5+ KB\n"
     ]
    }
   ],
   "source": [
    "df.info()"
   ]
  },
  {
   "cell_type": "code",
   "execution_count": 8,
   "metadata": {},
   "outputs": [
    {
     "name": "stdout",
     "output_type": "stream",
     "text": [
      "В колонке признака tenure - 'сколько лет человек является клиентом банка' 9.1% пропусков.\n"
     ]
    }
   ],
   "source": [
    "print(f\"В колонке признака tenure - 'сколько лет человек является клиентом банка' {df['tenure'].isna().mean():.1%} пропусков.\")"
   ]
  },
  {
   "cell_type": "markdown",
   "metadata": {},
   "source": [
    "Изучим датафрейм с пропусками, для возможного обнаружения закономерностей."
   ]
  },
  {
   "cell_type": "code",
   "execution_count": 9,
   "metadata": {},
   "outputs": [
    {
     "data": {
      "text/html": [
       "<div>\n",
       "<style scoped>\n",
       "    .dataframe tbody tr th:only-of-type {\n",
       "        vertical-align: middle;\n",
       "    }\n",
       "\n",
       "    .dataframe tbody tr th {\n",
       "        vertical-align: top;\n",
       "    }\n",
       "\n",
       "    .dataframe thead th {\n",
       "        text-align: right;\n",
       "    }\n",
       "</style>\n",
       "<table border=\"1\" class=\"dataframe\">\n",
       "  <thead>\n",
       "    <tr style=\"text-align: right;\">\n",
       "      <th></th>\n",
       "      <th>credit_score</th>\n",
       "      <th>geography</th>\n",
       "      <th>gender</th>\n",
       "      <th>age</th>\n",
       "      <th>tenure</th>\n",
       "      <th>balance</th>\n",
       "      <th>num_of_products</th>\n",
       "      <th>has_cr_card</th>\n",
       "      <th>is_active_member</th>\n",
       "      <th>estimated_salary</th>\n",
       "      <th>exited</th>\n",
       "    </tr>\n",
       "  </thead>\n",
       "  <tbody>\n",
       "    <tr>\n",
       "      <td>30</td>\n",
       "      <td>591</td>\n",
       "      <td>Spain</td>\n",
       "      <td>Female</td>\n",
       "      <td>39</td>\n",
       "      <td>NaN</td>\n",
       "      <td>0.00</td>\n",
       "      <td>3</td>\n",
       "      <td>1</td>\n",
       "      <td>0</td>\n",
       "      <td>140469.38</td>\n",
       "      <td>1</td>\n",
       "    </tr>\n",
       "    <tr>\n",
       "      <td>48</td>\n",
       "      <td>550</td>\n",
       "      <td>Germany</td>\n",
       "      <td>Male</td>\n",
       "      <td>38</td>\n",
       "      <td>NaN</td>\n",
       "      <td>103391.38</td>\n",
       "      <td>1</td>\n",
       "      <td>0</td>\n",
       "      <td>1</td>\n",
       "      <td>90878.13</td>\n",
       "      <td>0</td>\n",
       "    </tr>\n",
       "    <tr>\n",
       "      <td>51</td>\n",
       "      <td>585</td>\n",
       "      <td>Germany</td>\n",
       "      <td>Male</td>\n",
       "      <td>36</td>\n",
       "      <td>NaN</td>\n",
       "      <td>146050.97</td>\n",
       "      <td>2</td>\n",
       "      <td>0</td>\n",
       "      <td>0</td>\n",
       "      <td>86424.57</td>\n",
       "      <td>0</td>\n",
       "    </tr>\n",
       "    <tr>\n",
       "      <td>53</td>\n",
       "      <td>655</td>\n",
       "      <td>Germany</td>\n",
       "      <td>Male</td>\n",
       "      <td>41</td>\n",
       "      <td>NaN</td>\n",
       "      <td>125561.97</td>\n",
       "      <td>1</td>\n",
       "      <td>0</td>\n",
       "      <td>0</td>\n",
       "      <td>164040.94</td>\n",
       "      <td>1</td>\n",
       "    </tr>\n",
       "    <tr>\n",
       "      <td>60</td>\n",
       "      <td>742</td>\n",
       "      <td>Germany</td>\n",
       "      <td>Male</td>\n",
       "      <td>35</td>\n",
       "      <td>NaN</td>\n",
       "      <td>136857.00</td>\n",
       "      <td>1</td>\n",
       "      <td>0</td>\n",
       "      <td>0</td>\n",
       "      <td>84509.57</td>\n",
       "      <td>0</td>\n",
       "    </tr>\n",
       "    <tr>\n",
       "      <td>...</td>\n",
       "      <td>...</td>\n",
       "      <td>...</td>\n",
       "      <td>...</td>\n",
       "      <td>...</td>\n",
       "      <td>...</td>\n",
       "      <td>...</td>\n",
       "      <td>...</td>\n",
       "      <td>...</td>\n",
       "      <td>...</td>\n",
       "      <td>...</td>\n",
       "      <td>...</td>\n",
       "    </tr>\n",
       "    <tr>\n",
       "      <td>9944</td>\n",
       "      <td>744</td>\n",
       "      <td>Germany</td>\n",
       "      <td>Male</td>\n",
       "      <td>41</td>\n",
       "      <td>NaN</td>\n",
       "      <td>190409.34</td>\n",
       "      <td>2</td>\n",
       "      <td>1</td>\n",
       "      <td>1</td>\n",
       "      <td>138361.48</td>\n",
       "      <td>0</td>\n",
       "    </tr>\n",
       "    <tr>\n",
       "      <td>9956</td>\n",
       "      <td>520</td>\n",
       "      <td>France</td>\n",
       "      <td>Female</td>\n",
       "      <td>46</td>\n",
       "      <td>NaN</td>\n",
       "      <td>85216.61</td>\n",
       "      <td>1</td>\n",
       "      <td>1</td>\n",
       "      <td>0</td>\n",
       "      <td>117369.52</td>\n",
       "      <td>1</td>\n",
       "    </tr>\n",
       "    <tr>\n",
       "      <td>9964</td>\n",
       "      <td>479</td>\n",
       "      <td>France</td>\n",
       "      <td>Male</td>\n",
       "      <td>34</td>\n",
       "      <td>NaN</td>\n",
       "      <td>117593.48</td>\n",
       "      <td>2</td>\n",
       "      <td>0</td>\n",
       "      <td>0</td>\n",
       "      <td>113308.29</td>\n",
       "      <td>0</td>\n",
       "    </tr>\n",
       "    <tr>\n",
       "      <td>9985</td>\n",
       "      <td>659</td>\n",
       "      <td>France</td>\n",
       "      <td>Male</td>\n",
       "      <td>36</td>\n",
       "      <td>NaN</td>\n",
       "      <td>123841.49</td>\n",
       "      <td>2</td>\n",
       "      <td>1</td>\n",
       "      <td>0</td>\n",
       "      <td>96833.00</td>\n",
       "      <td>0</td>\n",
       "    </tr>\n",
       "    <tr>\n",
       "      <td>9999</td>\n",
       "      <td>792</td>\n",
       "      <td>France</td>\n",
       "      <td>Female</td>\n",
       "      <td>28</td>\n",
       "      <td>NaN</td>\n",
       "      <td>130142.79</td>\n",
       "      <td>1</td>\n",
       "      <td>1</td>\n",
       "      <td>0</td>\n",
       "      <td>38190.78</td>\n",
       "      <td>0</td>\n",
       "    </tr>\n",
       "  </tbody>\n",
       "</table>\n",
       "<p>909 rows × 11 columns</p>\n",
       "</div>"
      ],
      "text/plain": [
       "      credit_score geography  gender  age  tenure    balance  num_of_products  \\\n",
       "30             591     Spain  Female   39     NaN       0.00                3   \n",
       "48             550   Germany    Male   38     NaN  103391.38                1   \n",
       "51             585   Germany    Male   36     NaN  146050.97                2   \n",
       "53             655   Germany    Male   41     NaN  125561.97                1   \n",
       "60             742   Germany    Male   35     NaN  136857.00                1   \n",
       "...            ...       ...     ...  ...     ...        ...              ...   \n",
       "9944           744   Germany    Male   41     NaN  190409.34                2   \n",
       "9956           520    France  Female   46     NaN   85216.61                1   \n",
       "9964           479    France    Male   34     NaN  117593.48                2   \n",
       "9985           659    France    Male   36     NaN  123841.49                2   \n",
       "9999           792    France  Female   28     NaN  130142.79                1   \n",
       "\n",
       "      has_cr_card  is_active_member  estimated_salary  exited  \n",
       "30              1                 0         140469.38       1  \n",
       "48              0                 1          90878.13       0  \n",
       "51              0                 0          86424.57       0  \n",
       "53              0                 0         164040.94       1  \n",
       "60              0                 0          84509.57       0  \n",
       "...           ...               ...               ...     ...  \n",
       "9944            1                 1         138361.48       0  \n",
       "9956            1                 0         117369.52       1  \n",
       "9964            0                 0         113308.29       0  \n",
       "9985            1                 0          96833.00       0  \n",
       "9999            1                 0          38190.78       0  \n",
       "\n",
       "[909 rows x 11 columns]"
      ]
     },
     "execution_count": 9,
     "metadata": {},
     "output_type": "execute_result"
    }
   ],
   "source": [
    "df[df['tenure'].isna()]"
   ]
  },
  {
   "cell_type": "markdown",
   "metadata": {},
   "source": [
    "Как видно из датафрейма с пропусками, их появление не обясняется каким либо другим признаком. Достоверно заполнить пропуски не представляется возможным. Заполнение средним значением исказит выборку и повлияет на обучение модели. Поэтому удалим пропуски."
   ]
  },
  {
   "cell_type": "code",
   "execution_count": 10,
   "metadata": {},
   "outputs": [],
   "source": [
    "df = df.dropna()"
   ]
  },
  {
   "cell_type": "markdown",
   "metadata": {},
   "source": [
    "Выведем статистическую информациях о данных в датафрейме. "
   ]
  },
  {
   "cell_type": "code",
   "execution_count": 11,
   "metadata": {},
   "outputs": [
    {
     "data": {
      "text/html": [
       "<div>\n",
       "<style scoped>\n",
       "    .dataframe tbody tr th:only-of-type {\n",
       "        vertical-align: middle;\n",
       "    }\n",
       "\n",
       "    .dataframe tbody tr th {\n",
       "        vertical-align: top;\n",
       "    }\n",
       "\n",
       "    .dataframe thead th {\n",
       "        text-align: right;\n",
       "    }\n",
       "</style>\n",
       "<table border=\"1\" class=\"dataframe\">\n",
       "  <thead>\n",
       "    <tr style=\"text-align: right;\">\n",
       "      <th></th>\n",
       "      <th>credit_score</th>\n",
       "      <th>age</th>\n",
       "      <th>tenure</th>\n",
       "      <th>balance</th>\n",
       "      <th>num_of_products</th>\n",
       "      <th>has_cr_card</th>\n",
       "      <th>is_active_member</th>\n",
       "      <th>estimated_salary</th>\n",
       "      <th>exited</th>\n",
       "    </tr>\n",
       "  </thead>\n",
       "  <tbody>\n",
       "    <tr>\n",
       "      <td>count</td>\n",
       "      <td>9091.000000</td>\n",
       "      <td>9091.000000</td>\n",
       "      <td>9091.000000</td>\n",
       "      <td>9091.000000</td>\n",
       "      <td>9091.000000</td>\n",
       "      <td>9091.000000</td>\n",
       "      <td>9091.000000</td>\n",
       "      <td>9091.000000</td>\n",
       "      <td>9091.000000</td>\n",
       "    </tr>\n",
       "    <tr>\n",
       "      <td>mean</td>\n",
       "      <td>650.736553</td>\n",
       "      <td>38.949181</td>\n",
       "      <td>4.997690</td>\n",
       "      <td>76522.740015</td>\n",
       "      <td>1.530195</td>\n",
       "      <td>0.704983</td>\n",
       "      <td>0.515565</td>\n",
       "      <td>100181.214924</td>\n",
       "      <td>0.203938</td>\n",
       "    </tr>\n",
       "    <tr>\n",
       "      <td>std</td>\n",
       "      <td>96.410471</td>\n",
       "      <td>10.555581</td>\n",
       "      <td>2.894723</td>\n",
       "      <td>62329.528576</td>\n",
       "      <td>0.581003</td>\n",
       "      <td>0.456076</td>\n",
       "      <td>0.499785</td>\n",
       "      <td>57624.755647</td>\n",
       "      <td>0.402946</td>\n",
       "    </tr>\n",
       "    <tr>\n",
       "      <td>min</td>\n",
       "      <td>350.000000</td>\n",
       "      <td>18.000000</td>\n",
       "      <td>0.000000</td>\n",
       "      <td>0.000000</td>\n",
       "      <td>1.000000</td>\n",
       "      <td>0.000000</td>\n",
       "      <td>0.000000</td>\n",
       "      <td>11.580000</td>\n",
       "      <td>0.000000</td>\n",
       "    </tr>\n",
       "    <tr>\n",
       "      <td>25%</td>\n",
       "      <td>584.000000</td>\n",
       "      <td>32.000000</td>\n",
       "      <td>2.000000</td>\n",
       "      <td>0.000000</td>\n",
       "      <td>1.000000</td>\n",
       "      <td>0.000000</td>\n",
       "      <td>0.000000</td>\n",
       "      <td>51227.745000</td>\n",
       "      <td>0.000000</td>\n",
       "    </tr>\n",
       "    <tr>\n",
       "      <td>50%</td>\n",
       "      <td>652.000000</td>\n",
       "      <td>37.000000</td>\n",
       "      <td>5.000000</td>\n",
       "      <td>97318.250000</td>\n",
       "      <td>1.000000</td>\n",
       "      <td>1.000000</td>\n",
       "      <td>1.000000</td>\n",
       "      <td>100240.200000</td>\n",
       "      <td>0.000000</td>\n",
       "    </tr>\n",
       "    <tr>\n",
       "      <td>75%</td>\n",
       "      <td>717.000000</td>\n",
       "      <td>44.000000</td>\n",
       "      <td>7.000000</td>\n",
       "      <td>127561.890000</td>\n",
       "      <td>2.000000</td>\n",
       "      <td>1.000000</td>\n",
       "      <td>1.000000</td>\n",
       "      <td>149567.210000</td>\n",
       "      <td>0.000000</td>\n",
       "    </tr>\n",
       "    <tr>\n",
       "      <td>max</td>\n",
       "      <td>850.000000</td>\n",
       "      <td>92.000000</td>\n",
       "      <td>10.000000</td>\n",
       "      <td>250898.090000</td>\n",
       "      <td>4.000000</td>\n",
       "      <td>1.000000</td>\n",
       "      <td>1.000000</td>\n",
       "      <td>199992.480000</td>\n",
       "      <td>1.000000</td>\n",
       "    </tr>\n",
       "  </tbody>\n",
       "</table>\n",
       "</div>"
      ],
      "text/plain": [
       "       credit_score          age       tenure        balance  num_of_products  \\\n",
       "count   9091.000000  9091.000000  9091.000000    9091.000000      9091.000000   \n",
       "mean     650.736553    38.949181     4.997690   76522.740015         1.530195   \n",
       "std       96.410471    10.555581     2.894723   62329.528576         0.581003   \n",
       "min      350.000000    18.000000     0.000000       0.000000         1.000000   \n",
       "25%      584.000000    32.000000     2.000000       0.000000         1.000000   \n",
       "50%      652.000000    37.000000     5.000000   97318.250000         1.000000   \n",
       "75%      717.000000    44.000000     7.000000  127561.890000         2.000000   \n",
       "max      850.000000    92.000000    10.000000  250898.090000         4.000000   \n",
       "\n",
       "       has_cr_card  is_active_member  estimated_salary       exited  \n",
       "count  9091.000000       9091.000000       9091.000000  9091.000000  \n",
       "mean      0.704983          0.515565     100181.214924     0.203938  \n",
       "std       0.456076          0.499785      57624.755647     0.402946  \n",
       "min       0.000000          0.000000         11.580000     0.000000  \n",
       "25%       0.000000          0.000000      51227.745000     0.000000  \n",
       "50%       1.000000          1.000000     100240.200000     0.000000  \n",
       "75%       1.000000          1.000000     149567.210000     0.000000  \n",
       "max       1.000000          1.000000     199992.480000     1.000000  "
      ]
     },
     "execution_count": 11,
     "metadata": {},
     "output_type": "execute_result"
    }
   ],
   "source": [
    "df.describe()"
   ]
  },
  {
   "cell_type": "markdown",
   "metadata": {},
   "source": [
    "Построим гистограммы распределения признаков датафрейма (в том числе целевого \"exited\")."
   ]
  },
  {
   "cell_type": "code",
   "execution_count": 12,
   "metadata": {},
   "outputs": [
    {
     "data": {
      "image/png": "[encoded data removed]",
      "text/plain": [
       "<Figure size 864x1440 with 9 Axes>"
      ]
     },
     "metadata": {
      "needs_background": "light"
     },
     "output_type": "display_data"
    }
   ],
   "source": [
    "fig = plt.figure()\n",
    "figsize=(15,20)\n",
    "total_axes = len(df.describe().columns) \n",
    "\n",
    "subplt = 1 \n",
    "for column in df.describe().columns:\n",
    "    if int(df[column].max()-df[column].min()+1)>100:\n",
    "        bins=100\n",
    "    else:\n",
    "        bins = int(df[column].max()-df[column].min()+1)\n",
    "    ax = fig.add_subplot(total_axes, 1, subplt) \n",
    "    df[column].plot(kind='hist', bins=bins, figsize=(12,20), grid=True, legend=True)\n",
    "    subplt+=1\n",
    "\n",
    "plt.tight_layout()\n",
    "plt.show()"
   ]
  },
  {
   "cell_type": "markdown",
   "metadata": {},
   "source": [
    "Так же построим гистограммы для категориальных признаков заданных строковыми переменными."
   ]
  },
  {
   "cell_type": "code",
   "execution_count": 13,
   "metadata": {},
   "outputs": [
    {
     "data": {
      "image/png": "[encoded data removed]",
      "text/plain": [
       "<Figure size 1080x360 with 2 Axes>"
      ]
     },
     "metadata": {
      "needs_background": "light"
     },
     "output_type": "display_data"
    }
   ],
   "source": [
    "f, (ax1, ax2) = plt.subplots(1, 2)\n",
    "df['geography'].value_counts().plot(kind='bar', figsize=(15,5), ax=ax1, legend=True)\n",
    "df['gender'].value_counts().plot(kind='bar', ax=ax2, legend=True)\n",
    "ax1.set_ylabel('Frequency')\n",
    "ax2.set_ylabel('Frequency')\n",
    "plt.show()"
   ]
  },
  {
   "cell_type": "markdown",
   "metadata": {},
   "source": [
    "### Вывод"
   ]
  },
  {
   "cell_type": "markdown",
   "metadata": {},
   "source": [
    "- В датафрейме имеется 2 колонки с категориальными тектовыми признаками \"geography\", \"gender\". В дальнейшем преобразуем эти признаки в численные техникой One-Hot Encoding, методом pd.get_dummies().  \n",
    "- Артефактов в признаках не обнаружено. Имеются выбивающиеся часто встречающиеся значения в колонках credit_score и balance. Для признака credit_score можно сказать, что имеется большое число клиентов с максимально возможным кредитным рейтингом. А для признака balance характерно большое число клинтов с нулевым балансом на счете.\n",
    "- Пропуски в колонке tenure - сколько лет человек является клиентом банка, а именно 9,1% всех данных были удалены, так как, достоверно заполнить пропуски не представляется возможным. \n",
    "- В дальнейшем потребуется провести масштабирование признаков методом стандартизации данных (StandardScaler).  \n",
    "- Имеется дисбаланс целевого признака (колонка \"exited\" факт ухода клиентов), от которого в дальнейшем, для повышения качества модели, потребуется избавиться. Положительный целевой признак встречается почти в 4 раза реже отрицательного."
   ]
  },
  {
   "cell_type": "markdown",
   "metadata": {},
   "source": [
    "## Исследование задачи"
   ]
  },
  {
   "cell_type": "markdown",
   "metadata": {},
   "source": [
    "Преобразуем категориальные признаки в численные техникой One-Hot Encoding (OHE), методом pd.get_dummies() избегая дамми-ловушки."
   ]
  },
  {
   "cell_type": "code",
   "execution_count": 14,
   "metadata": {},
   "outputs": [
    {
     "data": {
      "text/html": [
       "<div>\n",
       "<style scoped>\n",
       "    .dataframe tbody tr th:only-of-type {\n",
       "        vertical-align: middle;\n",
       "    }\n",
       "\n",
       "    .dataframe tbody tr th {\n",
       "        vertical-align: top;\n",
       "    }\n",
       "\n",
       "    .dataframe thead th {\n",
       "        text-align: right;\n",
       "    }\n",
       "</style>\n",
       "<table border=\"1\" class=\"dataframe\">\n",
       "  <thead>\n",
       "    <tr style=\"text-align: right;\">\n",
       "      <th></th>\n",
       "      <th>credit_score</th>\n",
       "      <th>age</th>\n",
       "      <th>tenure</th>\n",
       "      <th>balance</th>\n",
       "      <th>num_of_products</th>\n",
       "      <th>has_cr_card</th>\n",
       "      <th>is_active_member</th>\n",
       "      <th>estimated_salary</th>\n",
       "      <th>exited</th>\n",
       "      <th>geography_Germany</th>\n",
       "      <th>geography_Spain</th>\n",
       "      <th>gender_Male</th>\n",
       "    </tr>\n",
       "  </thead>\n",
       "  <tbody>\n",
       "    <tr>\n",
       "      <td>0</td>\n",
       "      <td>619</td>\n",
       "      <td>42</td>\n",
       "      <td>2.0</td>\n",
       "      <td>0.00</td>\n",
       "      <td>1</td>\n",
       "      <td>1</td>\n",
       "      <td>1</td>\n",
       "      <td>101348.88</td>\n",
       "      <td>1</td>\n",
       "      <td>0</td>\n",
       "      <td>0</td>\n",
       "      <td>0</td>\n",
       "    </tr>\n",
       "    <tr>\n",
       "      <td>1</td>\n",
       "      <td>608</td>\n",
       "      <td>41</td>\n",
       "      <td>1.0</td>\n",
       "      <td>83807.86</td>\n",
       "      <td>1</td>\n",
       "      <td>0</td>\n",
       "      <td>1</td>\n",
       "      <td>112542.58</td>\n",
       "      <td>0</td>\n",
       "      <td>0</td>\n",
       "      <td>1</td>\n",
       "      <td>0</td>\n",
       "    </tr>\n",
       "  </tbody>\n",
       "</table>\n",
       "</div>"
      ],
      "text/plain": [
       "   credit_score  age  tenure   balance  num_of_products  has_cr_card  \\\n",
       "0           619   42     2.0      0.00                1            1   \n",
       "1           608   41     1.0  83807.86                1            0   \n",
       "\n",
       "   is_active_member  estimated_salary  exited  geography_Germany  \\\n",
       "0                 1         101348.88       1                  0   \n",
       "1                 1         112542.58       0                  0   \n",
       "\n",
       "   geography_Spain  gender_Male  \n",
       "0                0            0  \n",
       "1                1            0  "
      ]
     },
     "execution_count": 14,
     "metadata": {},
     "output_type": "execute_result"
    }
   ],
   "source": [
    "df_ohe = pd.get_dummies(df, drop_first=True)\n",
    "df_ohe.head(2)"
   ]
  },
  {
   "cell_type": "markdown",
   "metadata": {},
   "source": [
    "Выделим признаки и целевой признак, после чего разделим выборку на обучающую, валидационную, тестовую в соотношении 60%/20%/20%."
   ]
  },
  {
   "cell_type": "code",
   "execution_count": 15,
   "metadata": {},
   "outputs": [
    {
     "name": "stdout",
     "output_type": "stream",
     "text": [
      "Исходные данные разбиты на обучающую, валидационную и тестовую выборку в соотношении 60%/20%/20% соответственно.\n"
     ]
    }
   ],
   "source": [
    "features = df_ohe.drop(['exited'], axis=1)\n",
    "target = df_ohe['exited']\n",
    "\n",
    "features_train, features_valid, target_train, target_valid = train_test_split(\n",
    "    features, target, test_size=0.40, random_state=12345)\n",
    "\n",
    "features_valid, features_test, target_valid, target_test = train_test_split(\n",
    "    features_valid, target_valid, test_size=0.50, random_state=12345)\n",
    "\n",
    "print(\n",
    "f'Исходные данные разбиты на обучающую, валидационную и тестовую выборку в соотношении {len(features_train)/len(features):.0%}/{len(features_valid)/len(features):.0%}/{len(features_test)/len(features):.0%} соответственно.'\n",
    ")"
   ]
  },
  {
   "cell_type": "markdown",
   "metadata": {},
   "source": [
    "Исходные данные разбиты на обучающую, валидационную и тестовую выборку в соотношении:"
   ]
  },
  {
   "cell_type": "code",
   "execution_count": 16,
   "metadata": {},
   "outputs": [
    {
     "name": "stdout",
     "output_type": "stream",
     "text": [
      "60%/20%/20%\n"
     ]
    }
   ],
   "source": [
    "print(f\"{len(features_train)/len(features):.0%}/{len(features_valid)/len(features):.0%}/{len(features_test)/len(features):.0%}\")"
   ]
  },
  {
   "cell_type": "markdown",
   "metadata": {},
   "source": [
    "Масштабируем численные признаки методом стандартизации данных. Настроим стандартизацию на обучающей выборке данных и преобразуем обучающую выборку."
   ]
  },
  {
   "cell_type": "code",
   "execution_count": 17,
   "metadata": {},
   "outputs": [
    {
     "data": {
      "text/html": [
       "<div>\n",
       "<style scoped>\n",
       "    .dataframe tbody tr th:only-of-type {\n",
       "        vertical-align: middle;\n",
       "    }\n",
       "\n",
       "    .dataframe tbody tr th {\n",
       "        vertical-align: top;\n",
       "    }\n",
       "\n",
       "    .dataframe thead th {\n",
       "        text-align: right;\n",
       "    }\n",
       "</style>\n",
       "<table border=\"1\" class=\"dataframe\">\n",
       "  <thead>\n",
       "    <tr style=\"text-align: right;\">\n",
       "      <th></th>\n",
       "      <th>credit_score</th>\n",
       "      <th>age</th>\n",
       "      <th>tenure</th>\n",
       "      <th>balance</th>\n",
       "      <th>num_of_products</th>\n",
       "      <th>has_cr_card</th>\n",
       "      <th>is_active_member</th>\n",
       "      <th>estimated_salary</th>\n",
       "      <th>geography_Germany</th>\n",
       "      <th>geography_Spain</th>\n",
       "      <th>gender_Male</th>\n",
       "    </tr>\n",
       "  </thead>\n",
       "  <tbody>\n",
       "    <tr>\n",
       "      <td>9344</td>\n",
       "      <td>0.809075</td>\n",
       "      <td>-1.039327</td>\n",
       "      <td>-1.025995</td>\n",
       "      <td>0.554904</td>\n",
       "      <td>-0.908179</td>\n",
       "      <td>1</td>\n",
       "      <td>0</td>\n",
       "      <td>0.019508</td>\n",
       "      <td>0</td>\n",
       "      <td>0</td>\n",
       "      <td>0</td>\n",
       "    </tr>\n",
       "    <tr>\n",
       "      <td>3796</td>\n",
       "      <td>-1.152518</td>\n",
       "      <td>-1.227561</td>\n",
       "      <td>0.696524</td>\n",
       "      <td>0.480609</td>\n",
       "      <td>-0.908179</td>\n",
       "      <td>0</td>\n",
       "      <td>0</td>\n",
       "      <td>0.056167</td>\n",
       "      <td>0</td>\n",
       "      <td>0</td>\n",
       "      <td>1</td>\n",
       "    </tr>\n",
       "  </tbody>\n",
       "</table>\n",
       "</div>"
      ],
      "text/plain": [
       "      credit_score       age    tenure   balance  num_of_products  \\\n",
       "9344      0.809075 -1.039327 -1.025995  0.554904        -0.908179   \n",
       "3796     -1.152518 -1.227561  0.696524  0.480609        -0.908179   \n",
       "\n",
       "      has_cr_card  is_active_member  estimated_salary  geography_Germany  \\\n",
       "9344            1                 0          0.019508                  0   \n",
       "3796            0                 0          0.056167                  0   \n",
       "\n",
       "      geography_Spain  gender_Male  \n",
       "9344                0            0  \n",
       "3796                0            1  "
      ]
     },
     "execution_count": 17,
     "metadata": {},
     "output_type": "execute_result"
    }
   ],
   "source": [
    "numeric = ['credit_score', 'age', 'tenure', 'balance', 'num_of_products', 'estimated_salary']\n",
    "scaler = StandardScaler()\n",
    "scaler.fit(features_train[numeric])\n",
    "features_train[numeric]=scaler.transform(features_train[numeric])\n",
    "features_train.head(2)"
   ]
  },
  {
   "cell_type": "markdown",
   "metadata": {},
   "source": [
    "Так же преобразуем валидационную и тестовую выборку."
   ]
  },
  {
   "cell_type": "code",
   "execution_count": 18,
   "metadata": {},
   "outputs": [],
   "source": [
    "features_valid[numeric]=scaler.transform(features_valid[numeric])\n",
    "features_test[numeric]=scaler.transform(features_test[numeric])"
   ]
  },
  {
   "cell_type": "markdown",
   "metadata": {},
   "source": [
    "Создадим списки для заполнения метрик лучших моделей обученных на несбалансированных данных."
   ]
  },
  {
   "cell_type": "code",
   "execution_count": 19,
   "metadata": {},
   "outputs": [],
   "source": [
    "f1_score_valid_base = []\n",
    "recall_valid_base = []\n",
    "precision_valid_base = []\n",
    "auc_roc_valid_base = []"
   ]
  },
  {
   "cell_type": "markdown",
   "metadata": {},
   "source": [
    "**Модель дерерво решений (DT)** настроим по гиперпараметру глубины дерева в диапазоне от 1 до 20 и сохраним модель с наибольшим значеним F1-меры - средним гармоническим полноты и точности."
   ]
  },
  {
   "cell_type": "code",
   "execution_count": 20,
   "metadata": {},
   "outputs": [
    {
     "name": "stdout",
     "output_type": "stream",
     "text": [
      "F1-мера лучшей модели дерева решений на валидационной выборке: 0.5764, при глубине дерева 7.\n"
     ]
    }
   ],
   "source": [
    "best_model_dt = None\n",
    "best_f1_dt = 0\n",
    "best_recall_dt = 0\n",
    "best_precision_dt = 0\n",
    "best_auc_roc_dt = 0\n",
    "best_depth_dt = 0\n",
    "for depth in range(1, 21):\n",
    "    model = DecisionTreeClassifier(random_state=12345, max_depth=depth) # инициализация модели с заданной глубиной дерева\n",
    "    model.fit(features_train, target_train) # обучаем модель\n",
    "    predicted_valid = model.predict(features_valid) # получаем предсказания модели\n",
    "    f1 = f1_score(target_valid, predicted_valid) # считаем F1-меру модели\n",
    "    probabilities_valid = model.predict_proba(features_valid)\n",
    "    probabilities_one_valid = probabilities_valid[:, 1]\n",
    "    if f1 > best_f1_dt:  #проверяем модель на метрику F1\n",
    "        best_model_dt = model\n",
    "        best_f1_dt = f1\n",
    "        best_recall_dt = recall_score(target_valid, predicted_valid)\n",
    "        best_precision_dt = precision_score(target_valid, predicted_valid)\n",
    "        best_auc_roc_dt = roc_auc_score(target_valid, probabilities_one_valid)\n",
    "        best_depth_dt = depth\n",
    "\n",
    "print(f\"F1-мера лучшей модели дерева решений на валидационной выборке: {best_f1_dt:.4f}, при глубине дерева {best_depth_dt}.\")"
   ]
  },
  {
   "cell_type": "markdown",
   "metadata": {},
   "source": [
    "**Модель случайный лес (rf)** настроим по гиперпараметрам числа деревьев от 1 до 101 с шагом 5 и глубины дерева от 1 до 31 с шагом 2. Сохраним модель с наибольшим значеним F1-меры."
   ]
  },
  {
   "cell_type": "code",
   "execution_count": 21,
   "metadata": {},
   "outputs": [
    {
     "name": "stdout",
     "output_type": "stream",
     "text": [
      "F1-мера лучшей модели случайного леса на валидационной выборке: 0.6023, при количестве деревьев 81 и глубине дерева 23.\n"
     ]
    }
   ],
   "source": [
    "best_model_rf = None\n",
    "best_f1_rf = 0\n",
    "best_recall_rf = 0\n",
    "best_precision_rf = 0\n",
    "best_auc_roc_rf = 0\n",
    "best_est_rf = 0\n",
    "best_depth_rf = 0\n",
    "for est in range(1, 102, 5):\n",
    "    for depth in range (1, 32, 2):\n",
    "        model = RandomForestClassifier(random_state=12345, n_estimators=est, max_depth=depth)\n",
    "        model.fit(features_train, target_train) \n",
    "        predicted_valid = model.predict(features_valid) \n",
    "        f1 = f1_score(target_valid, predicted_valid)\n",
    "        probabilities_valid = model.predict_proba(features_valid)\n",
    "        probabilities_one_valid = probabilities_valid[:, 1]\n",
    "        if f1 > best_f1_rf:\n",
    "            best_model_rf = model\n",
    "            best_f1_rf = f1\n",
    "            best_recall_rf = recall_score(target_valid, predicted_valid)\n",
    "            best_precision_rf = precision_score(target_valid, predicted_valid)\n",
    "            best_auc_roc_rf = roc_auc_score(target_valid, probabilities_one_valid)\n",
    "            best_est_rf = est\n",
    "            best_depth_rf = depth\n",
    "print(f\"F1-мера лучшей модели случайного леса на валидационной выборке: {best_f1_rf:.4f}, при количестве деревьев {best_est_rf} и глубине дерева {best_depth_rf}.\")"
   ]
  },
  {
   "cell_type": "markdown",
   "metadata": {},
   "source": [
    "**Модель логистическая регрессия (LR)** настроим по гиперпараметру \"С\" (силы регуляризации) от 0,01 до 2. Сохраним модель с наибольшим значеним F1-меры."
   ]
  },
  {
   "cell_type": "code",
   "execution_count": 22,
   "metadata": {},
   "outputs": [
    {
     "name": "stdout",
     "output_type": "stream",
     "text": [
      "F1-мера лучшей модели логистической регрессии на валидационной выборке: 0.3052, при гиперпараметре 'с' равном 0.0800.\n"
     ]
    }
   ],
   "source": [
    "best_model_lr = None\n",
    "best_f1_lr = 0\n",
    "best_recall_lr = 0\n",
    "best_precision_lr = 0\n",
    "best_auc_roc_lr = 0\n",
    "best_c_lr = 0\n",
    "for c in np.arange(0.01, 2.01, 0.01):\n",
    "    model = LogisticRegression(random_state=12345, C=c, solver='liblinear') \n",
    "    model.fit(features_train, target_train) \n",
    "    predicted_valid = model.predict(features_valid)\n",
    "    f1 = f1_score(target_valid, predicted_valid)\n",
    "    probabilities_valid = model.predict_proba(features_valid)\n",
    "    probabilities_one_valid = probabilities_valid[:, 1]\n",
    "    if f1 > best_f1_lr:\n",
    "            best_model_lr = model\n",
    "            best_f1_lr = f1 \n",
    "            best_recall_lr = recall_score(target_valid, predicted_valid)\n",
    "            best_precision_lr = precision_score(target_valid, predicted_valid)\n",
    "            best_auc_roc_lr = roc_auc_score(target_valid, probabilities_one_valid)\n",
    "            best_c_lr = c\n",
    "            \n",
    "print(f\"F1-мера лучшей модели логистической регрессии на валидационной выборке: {best_f1_lr:.4f}, при гиперпараметре 'с' равном {best_c_lr:.4f}.\")"
   ]
  },
  {
   "cell_type": "markdown",
   "metadata": {},
   "source": [
    "Создадим словарь с нашими базовыми моделями подобранными по наибольшей F1-мере с дисбалансом классов."
   ]
  },
  {
   "cell_type": "code",
   "execution_count": 23,
   "metadata": {},
   "outputs": [],
   "source": [
    "model_base = [best_model_dt , best_model_rf, best_model_lr]\n",
    "models_name = ['dt_base','rf_base','lr_base']\n",
    "models_dict = dict(zip(model_base, models_name))"
   ]
  },
  {
   "cell_type": "markdown",
   "metadata": {},
   "source": [
    "Соберем все метрики базовых моделей в один датафрейм"
   ]
  },
  {
   "cell_type": "code",
   "execution_count": 24,
   "metadata": {},
   "outputs": [
    {
     "data": {
      "text/html": [
       "<div>\n",
       "<style scoped>\n",
       "    .dataframe tbody tr th:only-of-type {\n",
       "        vertical-align: middle;\n",
       "    }\n",
       "\n",
       "    .dataframe tbody tr th {\n",
       "        vertical-align: top;\n",
       "    }\n",
       "\n",
       "    .dataframe thead th {\n",
       "        text-align: right;\n",
       "    }\n",
       "</style>\n",
       "<table border=\"1\" class=\"dataframe\">\n",
       "  <thead>\n",
       "    <tr style=\"text-align: right;\">\n",
       "      <th></th>\n",
       "      <th>f1</th>\n",
       "      <th>recall</th>\n",
       "      <th>precision</th>\n",
       "      <th>auc_roc</th>\n",
       "    </tr>\n",
       "  </thead>\n",
       "  <tbody>\n",
       "    <tr>\n",
       "      <td>dt_base</td>\n",
       "      <td>0.576433</td>\n",
       "      <td>0.480106</td>\n",
       "      <td>0.721116</td>\n",
       "      <td>0.834605</td>\n",
       "    </tr>\n",
       "    <tr>\n",
       "      <td>rf_base</td>\n",
       "      <td>0.602291</td>\n",
       "      <td>0.488064</td>\n",
       "      <td>0.786325</td>\n",
       "      <td>0.861679</td>\n",
       "    </tr>\n",
       "    <tr>\n",
       "      <td>lr_base</td>\n",
       "      <td>0.305221</td>\n",
       "      <td>0.201592</td>\n",
       "      <td>0.628099</td>\n",
       "      <td>0.773093</td>\n",
       "    </tr>\n",
       "  </tbody>\n",
       "</table>\n",
       "</div>"
      ],
      "text/plain": [
       "               f1    recall  precision   auc_roc\n",
       "dt_base  0.576433  0.480106   0.721116  0.834605\n",
       "rf_base  0.602291  0.488064   0.786325  0.861679\n",
       "lr_base  0.305221  0.201592   0.628099  0.773093"
      ]
     },
     "execution_count": 24,
     "metadata": {},
     "output_type": "execute_result"
    }
   ],
   "source": [
    "f1_score_valid_base.extend([best_f1_dt, best_f1_rf, best_f1_lr])\n",
    "recall_valid_base.extend([best_recall_dt, best_recall_rf, best_recall_lr])\n",
    "precision_valid_base.extend([best_precision_dt, best_precision_rf, best_precision_lr])\n",
    "auc_roc_valid_base.extend([best_auc_roc_dt, best_auc_roc_rf, best_auc_roc_lr])\n",
    "\n",
    "index = ['f1', 'recall', 'precision', 'auc_roc']\n",
    "columns = list(models_dict.values())\n",
    "result_base = pd.DataFrame(data = [f1_score_valid_base, recall_valid_base, precision_valid_base, auc_roc_valid_base], columns = columns, index = index)\n",
    "result_base = result_base.T\n",
    "result_base"
   ]
  },
  {
   "cell_type": "markdown",
   "metadata": {},
   "source": [
    "### Вывод"
   ]
  },
  {
   "cell_type": "markdown",
   "metadata": {},
   "source": [
    "В датафрейме используются метрики:  \n",
    "\n",
    "- recall_score - полнота,\n",
    "- precision_score - точность,\n",
    "- f1_score - среднее гармоническое полноты и точности,\n",
    "- roc_auc_score -  ROC-кривая, или кривая ошибок.\n",
    "\n",
    "F1-мера лучшей модели дерева решений на валидационной выборке: 0.5764, при глубине дерева 7.  \n",
    "F1-мера лучшей модели случайного леса на валидационной выборке: 0.6023, при количестве деревьев 81 и глубине дерева 23.  \n",
    "F1-мера лучшей модели логистической регрессии на валидационной выборке: 0.3052, при гиперпараметре 'с' равном 0.0800.  \n",
    "\n",
    "Сильнее всего дисбаланс целевого признака влияет на логистическую регрессию, демонстрируя наименьшую F1-меру.  \n",
    "Для модели случайного леса на валидационной выборке удалось достичь F1-меры более 0,59."
   ]
  },
  {
   "cell_type": "markdown",
   "metadata": {},
   "source": [
    "## Борьба с дисбалансом"
   ]
  },
  {
   "cell_type": "markdown",
   "metadata": {},
   "source": [
    "Создадим функцию получающую на вход модели и признаки и возвращающую датафрейм с метриками."
   ]
  },
  {
   "cell_type": "code",
   "execution_count": 25,
   "metadata": {},
   "outputs": [],
   "source": [
    "def model_metric(models_dict, features_train, target_train, features_valid, target_valid):\n",
    "    f1_list = []\n",
    "    recall_list = []\n",
    "    precision_list = []\n",
    "    auc_roc_list = []\n",
    "    for model in models_dict:\n",
    "        model.fit(features_train, target_train) \n",
    "        predicted_valid = model.predict(features_valid) \n",
    "        probabilities_valid = model.predict_proba(features_valid)\n",
    "        probabilities_one_valid = probabilities_valid[:, 1]\n",
    "        \n",
    "        f1 = f1_score(target_valid, predicted_valid)            \n",
    "        f1_list.append(f1)\n",
    "        \n",
    "        recall = recall_score(target_valid, predicted_valid)\n",
    "        recall_list.append(recall)\n",
    "        \n",
    "        precision = precision_score(target_valid, predicted_valid)\n",
    "        precision_list.append(precision)\n",
    "        \n",
    "        auc_roc = roc_auc_score(target_valid, probabilities_one_valid)\n",
    "        auc_roc_list.append(auc_roc)\n",
    "    index = ['f1', 'recall', 'precision', 'auc_roc']\n",
    "    columns = list(models_dict.values())\n",
    "    result_df = pd.DataFrame(data = [f1_list, recall_list, precision_list, auc_roc_list], columns = columns, index = index)\n",
    "    result_df = result_df.T\n",
    "    return result_df"
   ]
  },
  {
   "cell_type": "markdown",
   "metadata": {},
   "source": [
    "Так же напишем функцию для добавления постфиксов в строковые элементы списка, для дальнейшей маркировки этими постфиксами условий моделирования в индексах."
   ]
  },
  {
   "cell_type": "code",
   "execution_count": 26,
   "metadata": {},
   "outputs": [],
   "source": [
    "def postfix(user_list, postfix_name):\n",
    "    new_list=[]\n",
    "    for column in user_list:\n",
    "        column = column+postfix_name\n",
    "        new_list.append(column)\n",
    "    return new_list"
   ]
  },
  {
   "cell_type": "markdown",
   "metadata": {},
   "source": [
    "### Взвешивание классов. "
   ]
  },
  {
   "cell_type": "markdown",
   "metadata": {},
   "source": [
    "Добавляем к базовыми моделями гиперпараметр class_weight='balanced', производим обучение и снимаем метрики."
   ]
  },
  {
   "cell_type": "code",
   "execution_count": 27,
   "metadata": {},
   "outputs": [
    {
     "data": {
      "text/html": [
       "<div>\n",
       "<style scoped>\n",
       "    .dataframe tbody tr th:only-of-type {\n",
       "        vertical-align: middle;\n",
       "    }\n",
       "\n",
       "    .dataframe tbody tr th {\n",
       "        vertical-align: top;\n",
       "    }\n",
       "\n",
       "    .dataframe thead th {\n",
       "        text-align: right;\n",
       "    }\n",
       "</style>\n",
       "<table border=\"1\" class=\"dataframe\">\n",
       "  <thead>\n",
       "    <tr style=\"text-align: right;\">\n",
       "      <th></th>\n",
       "      <th>f1</th>\n",
       "      <th>recall</th>\n",
       "      <th>precision</th>\n",
       "      <th>auc_roc</th>\n",
       "    </tr>\n",
       "  </thead>\n",
       "  <tbody>\n",
       "    <tr>\n",
       "      <td>dt_base_balanced</td>\n",
       "      <td>0.541353</td>\n",
       "      <td>0.763926</td>\n",
       "      <td>0.419214</td>\n",
       "      <td>0.810604</td>\n",
       "    </tr>\n",
       "    <tr>\n",
       "      <td>rf_base_balanced</td>\n",
       "      <td>0.575758</td>\n",
       "      <td>0.453581</td>\n",
       "      <td>0.788018</td>\n",
       "      <td>0.858564</td>\n",
       "    </tr>\n",
       "    <tr>\n",
       "      <td>lr_base_balanced</td>\n",
       "      <td>0.508349</td>\n",
       "      <td>0.726790</td>\n",
       "      <td>0.390870</td>\n",
       "      <td>0.778129</td>\n",
       "    </tr>\n",
       "  </tbody>\n",
       "</table>\n",
       "</div>"
      ],
      "text/plain": [
       "                        f1    recall  precision   auc_roc\n",
       "dt_base_balanced  0.541353  0.763926   0.419214  0.810604\n",
       "rf_base_balanced  0.575758  0.453581   0.788018  0.858564\n",
       "lr_base_balanced  0.508349  0.726790   0.390870  0.778129"
      ]
     },
     "execution_count": 27,
     "metadata": {},
     "output_type": "execute_result"
    }
   ],
   "source": [
    "dt_balanced = DecisionTreeClassifier(\n",
    "    random_state=12345, max_depth=best_depth_dt, class_weight='balanced') \n",
    "\n",
    "rf_balanced = RandomForestClassifier(\n",
    "    random_state=12345, n_estimators=best_est_rf, max_depth=best_depth_rf, class_weight='balanced')\n",
    "\n",
    "lr_balanced = LogisticRegression(\n",
    "    random_state=12345, C=best_c_lr, solver='liblinear', class_weight='balanced') \n",
    "\n",
    "models_balanced = [dt_balanced, rf_balanced, lr_balanced]\n",
    "models_balanced_name = postfix(models_name, \"_balanced\")\n",
    "models_balanced_dict = dict(zip(models_balanced, models_balanced_name))\n",
    "balanced_result = model_metric(models_balanced_dict, features_train, target_train, features_valid, target_valid)\n",
    "balanced_result"
   ]
  },
  {
   "cell_type": "markdown",
   "metadata": {},
   "source": [
    "###  Увеличение выборки с положительными целевыми признаками"
   ]
  },
  {
   "cell_type": "markdown",
   "metadata": {},
   "source": [
    "Увеличим в 4 раза обучающую выборку с положительными целевыми признаками техникой upsampling."
   ]
  },
  {
   "cell_type": "code",
   "execution_count": 28,
   "metadata": {},
   "outputs": [],
   "source": [
    "def upsample(features, target, repeat):\n",
    "    features_zeros = features[target == 0]\n",
    "    features_ones = features[target == 1]\n",
    "    target_zeros = target[target == 0]\n",
    "    target_ones = target[target == 1]\n",
    "\n",
    "    features_upsampled = pd.concat([features_zeros] + [features_ones] * repeat)\n",
    "    target_upsampled = pd.concat([target_zeros] + [target_ones] * repeat)\n",
    "    \n",
    "    features_upsampled, target_upsampled = shuffle(\n",
    "        features_upsampled, target_upsampled, random_state=12345)\n",
    "    \n",
    "    return features_upsampled, target_upsampled\n",
    "\n",
    "features_upsampled, target_upsampled = upsample(features_train, target_train, 4)"
   ]
  },
  {
   "cell_type": "markdown",
   "metadata": {},
   "source": [
    "Проверим баланс целевого признака после upsampling-a на гистограмме."
   ]
  },
  {
   "cell_type": "code",
   "execution_count": 29,
   "metadata": {},
   "outputs": [
    {
     "data": {
      "image/png": "[encoded data removed]",
      "text/plain": [
       "<Figure size 576x360 with 1 Axes>"
      ]
     },
     "metadata": {
      "needs_background": "light"
     },
     "output_type": "display_data"
    }
   ],
   "source": [
    "target_upsampled.plot(kind='hist', bins=2, figsize=(8,5), grid=True, legend=True)\n",
    "plt.show()"
   ]
  },
  {
   "cell_type": "markdown",
   "metadata": {},
   "source": [
    "Обучаем базовые модели на данных после upsampling-a и снимаем метрики."
   ]
  },
  {
   "cell_type": "code",
   "execution_count": 30,
   "metadata": {},
   "outputs": [
    {
     "data": {
      "text/html": [
       "<div>\n",
       "<style scoped>\n",
       "    .dataframe tbody tr th:only-of-type {\n",
       "        vertical-align: middle;\n",
       "    }\n",
       "\n",
       "    .dataframe tbody tr th {\n",
       "        vertical-align: top;\n",
       "    }\n",
       "\n",
       "    .dataframe thead th {\n",
       "        text-align: right;\n",
       "    }\n",
       "</style>\n",
       "<table border=\"1\" class=\"dataframe\">\n",
       "  <thead>\n",
       "    <tr style=\"text-align: right;\">\n",
       "      <th></th>\n",
       "      <th>f1</th>\n",
       "      <th>recall</th>\n",
       "      <th>precision</th>\n",
       "      <th>auc_roc</th>\n",
       "    </tr>\n",
       "  </thead>\n",
       "  <tbody>\n",
       "    <tr>\n",
       "      <td>dt_base_upsampled</td>\n",
       "      <td>0.541353</td>\n",
       "      <td>0.763926</td>\n",
       "      <td>0.419214</td>\n",
       "      <td>0.810545</td>\n",
       "    </tr>\n",
       "    <tr>\n",
       "      <td>rf_base_upsampled</td>\n",
       "      <td>0.624460</td>\n",
       "      <td>0.575597</td>\n",
       "      <td>0.682390</td>\n",
       "      <td>0.857367</td>\n",
       "    </tr>\n",
       "    <tr>\n",
       "      <td>lr_base_upsampled</td>\n",
       "      <td>0.508167</td>\n",
       "      <td>0.742706</td>\n",
       "      <td>0.386207</td>\n",
       "      <td>0.778162</td>\n",
       "    </tr>\n",
       "  </tbody>\n",
       "</table>\n",
       "</div>"
      ],
      "text/plain": [
       "                         f1    recall  precision   auc_roc\n",
       "dt_base_upsampled  0.541353  0.763926   0.419214  0.810545\n",
       "rf_base_upsampled  0.624460  0.575597   0.682390  0.857367\n",
       "lr_base_upsampled  0.508167  0.742706   0.386207  0.778162"
      ]
     },
     "execution_count": 30,
     "metadata": {},
     "output_type": "execute_result"
    }
   ],
   "source": [
    "models_upsampled_name = postfix(models_name, \"_upsampled\")\n",
    "models_upsampled_dict = dict(zip(model_base, models_upsampled_name))\n",
    "upsampled_result = model_metric(models_upsampled_dict, features_upsampled, target_upsampled, features_valid, target_valid)\n",
    "upsampled_result"
   ]
  },
  {
   "cell_type": "markdown",
   "metadata": {},
   "source": [
    "### Уменьшение выборки с отрицательными целевыми признаками"
   ]
  },
  {
   "cell_type": "markdown",
   "metadata": {},
   "source": [
    "Исключим из таблицы случайные элементы с отрицательными целевыми признаками, примения функцию sample() с желаемой долей отрицательных признаков (frac) 0,3 от исходной."
   ]
  },
  {
   "cell_type": "code",
   "execution_count": 31,
   "metadata": {},
   "outputs": [],
   "source": [
    "def downsample(features, target, fraction):\n",
    "    features_zeros = features[target == 0]\n",
    "    features_ones = features[target == 1]\n",
    "    target_zeros = target[target == 0]\n",
    "    target_ones = target[target == 1]\n",
    "\n",
    "    features_downsampled = pd.concat(\n",
    "        [features_zeros.sample(frac=fraction, random_state=12345)] + [features_ones])\n",
    "    target_downsampled = pd.concat(\n",
    "        [target_zeros.sample(frac=fraction, random_state=12345)] + [target_ones])\n",
    "     \n",
    "    features_downsampled, target_downsampled = shuffle(\n",
    "    features_downsampled, target_downsampled, random_state=12345)\n",
    "    \n",
    "    return features_downsampled, target_downsampled\n",
    "\n",
    "features_downsampled, target_downsampled = downsample(features_train, target_train, 0.3)"
   ]
  },
  {
   "cell_type": "markdown",
   "metadata": {},
   "source": [
    "Выведем баланс целевого признака после downsampling-a на гистограмме."
   ]
  },
  {
   "cell_type": "code",
   "execution_count": 32,
   "metadata": {},
   "outputs": [
    {
     "data": {
      "image/png": "[encoded data removed]",
      "text/plain": [
       "<Figure size 576x360 with 1 Axes>"
      ]
     },
     "metadata": {
      "needs_background": "light"
     },
     "output_type": "display_data"
    }
   ],
   "source": [
    "target_downsampled.plot(kind='hist', bins=2, figsize=(8,5), grid=True, legend=True)\n",
    "plt.show()"
   ]
  },
  {
   "cell_type": "markdown",
   "metadata": {},
   "source": [
    "Обучаем базовые модели на данных после downsampling-a и снимаем метрики."
   ]
  },
  {
   "cell_type": "code",
   "execution_count": 33,
   "metadata": {},
   "outputs": [
    {
     "data": {
      "text/html": [
       "<div>\n",
       "<style scoped>\n",
       "    .dataframe tbody tr th:only-of-type {\n",
       "        vertical-align: middle;\n",
       "    }\n",
       "\n",
       "    .dataframe tbody tr th {\n",
       "        vertical-align: top;\n",
       "    }\n",
       "\n",
       "    .dataframe thead th {\n",
       "        text-align: right;\n",
       "    }\n",
       "</style>\n",
       "<table border=\"1\" class=\"dataframe\">\n",
       "  <thead>\n",
       "    <tr style=\"text-align: right;\">\n",
       "      <th></th>\n",
       "      <th>f1</th>\n",
       "      <th>recall</th>\n",
       "      <th>precision</th>\n",
       "      <th>auc_roc</th>\n",
       "    </tr>\n",
       "  </thead>\n",
       "  <tbody>\n",
       "    <tr>\n",
       "      <td>dt_base_downsampled</td>\n",
       "      <td>0.565302</td>\n",
       "      <td>0.769231</td>\n",
       "      <td>0.446841</td>\n",
       "      <td>0.807169</td>\n",
       "    </tr>\n",
       "    <tr>\n",
       "      <td>rf_base_downsampled</td>\n",
       "      <td>0.606765</td>\n",
       "      <td>0.761273</td>\n",
       "      <td>0.504394</td>\n",
       "      <td>0.862710</td>\n",
       "    </tr>\n",
       "    <tr>\n",
       "      <td>lr_base_downsampled</td>\n",
       "      <td>0.503553</td>\n",
       "      <td>0.657825</td>\n",
       "      <td>0.407895</td>\n",
       "      <td>0.774808</td>\n",
       "    </tr>\n",
       "  </tbody>\n",
       "</table>\n",
       "</div>"
      ],
      "text/plain": [
       "                           f1    recall  precision   auc_roc\n",
       "dt_base_downsampled  0.565302  0.769231   0.446841  0.807169\n",
       "rf_base_downsampled  0.606765  0.761273   0.504394  0.862710\n",
       "lr_base_downsampled  0.503553  0.657825   0.407895  0.774808"
      ]
     },
     "execution_count": 33,
     "metadata": {},
     "output_type": "execute_result"
    }
   ],
   "source": [
    "models_downsampled_name = postfix(models_name, \"_downsampled\")\n",
    "models_downsampled_dict = dict(zip(model_base, models_downsampled_name))\n",
    "downsampled_result = model_metric(models_downsampled_dict, features_downsampled, target_downsampled, features_valid, target_valid)\n",
    "downsampled_result"
   ]
  },
  {
   "cell_type": "markdown",
   "metadata": {},
   "source": [
    "### Изменение порога"
   ]
  },
  {
   "cell_type": "markdown",
   "metadata": {},
   "source": [
    "Изменим значение порога присвоения целевого признака в диапазоне от 0 до 0,5 с шагом 0,02 и снимем метрики."
   ]
  },
  {
   "cell_type": "code",
   "execution_count": 34,
   "metadata": {},
   "outputs": [],
   "source": [
    "def model_metric_threshold(models_dict, features_train, target_train, features_valid, target_valid, start, stop, step):\n",
    "    f1_list = []\n",
    "    recall_list = []\n",
    "    precision_list = []\n",
    "    auc_roc_list = []\n",
    "    threshold_list = []\n",
    "    for model in models_dict:\n",
    "        best_f1 = 0.0\n",
    "        model.fit(features_train, target_train) \n",
    "        predicted_valid = model.predict(features_valid) \n",
    "        probabilities_valid = model.predict_proba(features_valid)\n",
    "        probabilities_one_valid = probabilities_valid[:, 1]\n",
    "        \n",
    "        for threshold in np.arange(start, stop, step):\n",
    "            predicted_valid = probabilities_one_valid > threshold\n",
    "            f1_temp = f1_score(target_valid, predicted_valid)\n",
    "            \n",
    "            if f1_temp > best_f1:\n",
    "                best_f1 = f1_temp\n",
    "                recall = recall_score(target_valid, predicted_valid)\n",
    "                precision = precision_score(target_valid, predicted_valid)\n",
    "                auc_roc = roc_auc_score(target_valid, probabilities_one_valid) \n",
    "                best_threshold = threshold      \n",
    "            \n",
    "        f1_list.append(best_f1)\n",
    "        recall_list.append(recall)\n",
    "        precision_list.append(precision)\n",
    "        auc_roc_list.append(auc_roc)\n",
    "        threshold_list.append(best_threshold)        \n",
    "    \n",
    "    index = ['f1', 'recall', 'precision', 'auc_roc', 'best_threshold']\n",
    "    columns = list(models_dict.values())\n",
    "    result_df = pd.DataFrame(\n",
    "        data = [f1_list, recall_list, precision_list, auc_roc_list, threshold_list], columns = columns, index = index)\n",
    "    result_df = result_df.T\n",
    "    return result_df"
   ]
  },
  {
   "cell_type": "code",
   "execution_count": 35,
   "metadata": {},
   "outputs": [
    {
     "data": {
      "text/html": [
       "<div>\n",
       "<style scoped>\n",
       "    .dataframe tbody tr th:only-of-type {\n",
       "        vertical-align: middle;\n",
       "    }\n",
       "\n",
       "    .dataframe tbody tr th {\n",
       "        vertical-align: top;\n",
       "    }\n",
       "\n",
       "    .dataframe thead th {\n",
       "        text-align: right;\n",
       "    }\n",
       "</style>\n",
       "<table border=\"1\" class=\"dataframe\">\n",
       "  <thead>\n",
       "    <tr style=\"text-align: right;\">\n",
       "      <th></th>\n",
       "      <th>f1</th>\n",
       "      <th>recall</th>\n",
       "      <th>precision</th>\n",
       "      <th>auc_roc</th>\n",
       "      <th>best_threshold</th>\n",
       "    </tr>\n",
       "  </thead>\n",
       "  <tbody>\n",
       "    <tr>\n",
       "      <td>dt_base_threshold</td>\n",
       "      <td>0.622517</td>\n",
       "      <td>0.623342</td>\n",
       "      <td>0.621693</td>\n",
       "      <td>0.834605</td>\n",
       "      <td>0.28</td>\n",
       "    </tr>\n",
       "    <tr>\n",
       "      <td>rf_base_threshold</td>\n",
       "      <td>0.640000</td>\n",
       "      <td>0.615385</td>\n",
       "      <td>0.666667</td>\n",
       "      <td>0.861679</td>\n",
       "      <td>0.36</td>\n",
       "    </tr>\n",
       "    <tr>\n",
       "      <td>lr_base_threshold</td>\n",
       "      <td>0.506224</td>\n",
       "      <td>0.647215</td>\n",
       "      <td>0.415673</td>\n",
       "      <td>0.773093</td>\n",
       "      <td>0.24</td>\n",
       "    </tr>\n",
       "  </tbody>\n",
       "</table>\n",
       "</div>"
      ],
      "text/plain": [
       "                         f1    recall  precision   auc_roc  best_threshold\n",
       "dt_base_threshold  0.622517  0.623342   0.621693  0.834605            0.28\n",
       "rf_base_threshold  0.640000  0.615385   0.666667  0.861679            0.36\n",
       "lr_base_threshold  0.506224  0.647215   0.415673  0.773093            0.24"
      ]
     },
     "execution_count": 35,
     "metadata": {},
     "output_type": "execute_result"
    }
   ],
   "source": [
    "models_threshold_name = postfix(models_name, \"_threshold\")\n",
    "models_threshold_dict = dict(zip(model_base, models_threshold_name))\n",
    "threshold_result = model_metric_threshold(models_threshold_dict, features_train, target_train, features_valid, target_valid, 0.0, 0.52, 0.02)\n",
    "threshold_result"
   ]
  },
  {
   "cell_type": "markdown",
   "metadata": {},
   "source": [
    "Сведем все полученные метрики в один датафрейм для наглядности."
   ]
  },
  {
   "cell_type": "code",
   "execution_count": 36,
   "metadata": {},
   "outputs": [
    {
     "data": {
      "text/html": [
       "<div>\n",
       "<style scoped>\n",
       "    .dataframe tbody tr th:only-of-type {\n",
       "        vertical-align: middle;\n",
       "    }\n",
       "\n",
       "    .dataframe tbody tr th {\n",
       "        vertical-align: top;\n",
       "    }\n",
       "\n",
       "    .dataframe thead th {\n",
       "        text-align: right;\n",
       "    }\n",
       "</style>\n",
       "<table border=\"1\" class=\"dataframe\">\n",
       "  <thead>\n",
       "    <tr style=\"text-align: right;\">\n",
       "      <th></th>\n",
       "      <th>f1</th>\n",
       "      <th>recall</th>\n",
       "      <th>precision</th>\n",
       "      <th>auc_roc</th>\n",
       "    </tr>\n",
       "  </thead>\n",
       "  <tbody>\n",
       "    <tr>\n",
       "      <td>dt_base</td>\n",
       "      <td>0.576433</td>\n",
       "      <td>0.480106</td>\n",
       "      <td>0.721116</td>\n",
       "      <td>0.834605</td>\n",
       "    </tr>\n",
       "    <tr>\n",
       "      <td>rf_base</td>\n",
       "      <td>0.602291</td>\n",
       "      <td>0.488064</td>\n",
       "      <td>0.786325</td>\n",
       "      <td>0.861679</td>\n",
       "    </tr>\n",
       "    <tr>\n",
       "      <td>lr_base</td>\n",
       "      <td>0.305221</td>\n",
       "      <td>0.201592</td>\n",
       "      <td>0.628099</td>\n",
       "      <td>0.773093</td>\n",
       "    </tr>\n",
       "    <tr>\n",
       "      <td>dt_base_balanced</td>\n",
       "      <td>0.541353</td>\n",
       "      <td>0.763926</td>\n",
       "      <td>0.419214</td>\n",
       "      <td>0.810604</td>\n",
       "    </tr>\n",
       "    <tr>\n",
       "      <td>rf_base_balanced</td>\n",
       "      <td>0.575758</td>\n",
       "      <td>0.453581</td>\n",
       "      <td>0.788018</td>\n",
       "      <td>0.858564</td>\n",
       "    </tr>\n",
       "    <tr>\n",
       "      <td>lr_base_balanced</td>\n",
       "      <td>0.508349</td>\n",
       "      <td>0.726790</td>\n",
       "      <td>0.390870</td>\n",
       "      <td>0.778129</td>\n",
       "    </tr>\n",
       "    <tr>\n",
       "      <td>dt_base_upsampled</td>\n",
       "      <td>0.541353</td>\n",
       "      <td>0.763926</td>\n",
       "      <td>0.419214</td>\n",
       "      <td>0.810545</td>\n",
       "    </tr>\n",
       "    <tr>\n",
       "      <td>rf_base_upsampled</td>\n",
       "      <td>0.624460</td>\n",
       "      <td>0.575597</td>\n",
       "      <td>0.682390</td>\n",
       "      <td>0.857367</td>\n",
       "    </tr>\n",
       "    <tr>\n",
       "      <td>lr_base_upsampled</td>\n",
       "      <td>0.508167</td>\n",
       "      <td>0.742706</td>\n",
       "      <td>0.386207</td>\n",
       "      <td>0.778162</td>\n",
       "    </tr>\n",
       "    <tr>\n",
       "      <td>dt_base_downsampled</td>\n",
       "      <td>0.565302</td>\n",
       "      <td>0.769231</td>\n",
       "      <td>0.446841</td>\n",
       "      <td>0.807169</td>\n",
       "    </tr>\n",
       "    <tr>\n",
       "      <td>rf_base_downsampled</td>\n",
       "      <td>0.606765</td>\n",
       "      <td>0.761273</td>\n",
       "      <td>0.504394</td>\n",
       "      <td>0.862710</td>\n",
       "    </tr>\n",
       "    <tr>\n",
       "      <td>lr_base_downsampled</td>\n",
       "      <td>0.503553</td>\n",
       "      <td>0.657825</td>\n",
       "      <td>0.407895</td>\n",
       "      <td>0.774808</td>\n",
       "    </tr>\n",
       "    <tr>\n",
       "      <td>dt_base_threshold</td>\n",
       "      <td>0.622517</td>\n",
       "      <td>0.623342</td>\n",
       "      <td>0.621693</td>\n",
       "      <td>0.834605</td>\n",
       "    </tr>\n",
       "    <tr>\n",
       "      <td>rf_base_threshold</td>\n",
       "      <td>0.640000</td>\n",
       "      <td>0.615385</td>\n",
       "      <td>0.666667</td>\n",
       "      <td>0.861679</td>\n",
       "    </tr>\n",
       "    <tr>\n",
       "      <td>lr_base_threshold</td>\n",
       "      <td>0.506224</td>\n",
       "      <td>0.647215</td>\n",
       "      <td>0.415673</td>\n",
       "      <td>0.773093</td>\n",
       "    </tr>\n",
       "  </tbody>\n",
       "</table>\n",
       "</div>"
      ],
      "text/plain": [
       "                           f1    recall  precision   auc_roc\n",
       "dt_base              0.576433  0.480106   0.721116  0.834605\n",
       "rf_base              0.602291  0.488064   0.786325  0.861679\n",
       "lr_base              0.305221  0.201592   0.628099  0.773093\n",
       "dt_base_balanced     0.541353  0.763926   0.419214  0.810604\n",
       "rf_base_balanced     0.575758  0.453581   0.788018  0.858564\n",
       "lr_base_balanced     0.508349  0.726790   0.390870  0.778129\n",
       "dt_base_upsampled    0.541353  0.763926   0.419214  0.810545\n",
       "rf_base_upsampled    0.624460  0.575597   0.682390  0.857367\n",
       "lr_base_upsampled    0.508167  0.742706   0.386207  0.778162\n",
       "dt_base_downsampled  0.565302  0.769231   0.446841  0.807169\n",
       "rf_base_downsampled  0.606765  0.761273   0.504394  0.862710\n",
       "lr_base_downsampled  0.503553  0.657825   0.407895  0.774808\n",
       "dt_base_threshold    0.622517  0.623342   0.621693  0.834605\n",
       "rf_base_threshold    0.640000  0.615385   0.666667  0.861679\n",
       "lr_base_threshold    0.506224  0.647215   0.415673  0.773093"
      ]
     },
     "execution_count": 36,
     "metadata": {},
     "output_type": "execute_result"
    }
   ],
   "source": [
    "resul_metric = pd.concat(\n",
    "    [result_base] + [balanced_result] + [upsampled_result] + [downsampled_result] + [threshold_result.drop(\n",
    "        ['best_threshold'], axis=1)])\n",
    "resul_metric"
   ]
  },
  {
   "cell_type": "markdown",
   "metadata": {},
   "source": [
    "Отсортируем метрики и выведем топ-3 расчетных условия для каждой метрики."
   ]
  },
  {
   "cell_type": "code",
   "execution_count": 37,
   "metadata": {},
   "outputs": [
    {
     "data": {
      "text/html": [
       "<div>\n",
       "<style scoped>\n",
       "    .dataframe tbody tr th:only-of-type {\n",
       "        vertical-align: middle;\n",
       "    }\n",
       "\n",
       "    .dataframe tbody tr th {\n",
       "        vertical-align: top;\n",
       "    }\n",
       "\n",
       "    .dataframe thead th {\n",
       "        text-align: right;\n",
       "    }\n",
       "</style>\n",
       "<table border=\"1\" class=\"dataframe\">\n",
       "  <thead>\n",
       "    <tr style=\"text-align: right;\">\n",
       "      <th></th>\n",
       "      <th>f1</th>\n",
       "      <th>recall</th>\n",
       "      <th>precision</th>\n",
       "      <th>auc_roc</th>\n",
       "    </tr>\n",
       "  </thead>\n",
       "  <tbody>\n",
       "    <tr>\n",
       "      <td>rf_base_threshold</td>\n",
       "      <td>0.640000</td>\n",
       "      <td>0.615385</td>\n",
       "      <td>0.666667</td>\n",
       "      <td>0.861679</td>\n",
       "    </tr>\n",
       "    <tr>\n",
       "      <td>rf_base_upsampled</td>\n",
       "      <td>0.624460</td>\n",
       "      <td>0.575597</td>\n",
       "      <td>0.682390</td>\n",
       "      <td>0.857367</td>\n",
       "    </tr>\n",
       "    <tr>\n",
       "      <td>dt_base_threshold</td>\n",
       "      <td>0.622517</td>\n",
       "      <td>0.623342</td>\n",
       "      <td>0.621693</td>\n",
       "      <td>0.834605</td>\n",
       "    </tr>\n",
       "  </tbody>\n",
       "</table>\n",
       "</div>"
      ],
      "text/plain": [
       "                         f1    recall  precision   auc_roc\n",
       "rf_base_threshold  0.640000  0.615385   0.666667  0.861679\n",
       "rf_base_upsampled  0.624460  0.575597   0.682390  0.857367\n",
       "dt_base_threshold  0.622517  0.623342   0.621693  0.834605"
      ]
     },
     "metadata": {},
     "output_type": "display_data"
    },
    {
     "data": {
      "text/html": [
       "<div>\n",
       "<style scoped>\n",
       "    .dataframe tbody tr th:only-of-type {\n",
       "        vertical-align: middle;\n",
       "    }\n",
       "\n",
       "    .dataframe tbody tr th {\n",
       "        vertical-align: top;\n",
       "    }\n",
       "\n",
       "    .dataframe thead th {\n",
       "        text-align: right;\n",
       "    }\n",
       "</style>\n",
       "<table border=\"1\" class=\"dataframe\">\n",
       "  <thead>\n",
       "    <tr style=\"text-align: right;\">\n",
       "      <th></th>\n",
       "      <th>f1</th>\n",
       "      <th>recall</th>\n",
       "      <th>precision</th>\n",
       "      <th>auc_roc</th>\n",
       "    </tr>\n",
       "  </thead>\n",
       "  <tbody>\n",
       "    <tr>\n",
       "      <td>dt_base_downsampled</td>\n",
       "      <td>0.565302</td>\n",
       "      <td>0.769231</td>\n",
       "      <td>0.446841</td>\n",
       "      <td>0.807169</td>\n",
       "    </tr>\n",
       "    <tr>\n",
       "      <td>dt_base_balanced</td>\n",
       "      <td>0.541353</td>\n",
       "      <td>0.763926</td>\n",
       "      <td>0.419214</td>\n",
       "      <td>0.810604</td>\n",
       "    </tr>\n",
       "    <tr>\n",
       "      <td>dt_base_upsampled</td>\n",
       "      <td>0.541353</td>\n",
       "      <td>0.763926</td>\n",
       "      <td>0.419214</td>\n",
       "      <td>0.810545</td>\n",
       "    </tr>\n",
       "  </tbody>\n",
       "</table>\n",
       "</div>"
      ],
      "text/plain": [
       "                           f1    recall  precision   auc_roc\n",
       "dt_base_downsampled  0.565302  0.769231   0.446841  0.807169\n",
       "dt_base_balanced     0.541353  0.763926   0.419214  0.810604\n",
       "dt_base_upsampled    0.541353  0.763926   0.419214  0.810545"
      ]
     },
     "metadata": {},
     "output_type": "display_data"
    },
    {
     "data": {
      "text/html": [
       "<div>\n",
       "<style scoped>\n",
       "    .dataframe tbody tr th:only-of-type {\n",
       "        vertical-align: middle;\n",
       "    }\n",
       "\n",
       "    .dataframe tbody tr th {\n",
       "        vertical-align: top;\n",
       "    }\n",
       "\n",
       "    .dataframe thead th {\n",
       "        text-align: right;\n",
       "    }\n",
       "</style>\n",
       "<table border=\"1\" class=\"dataframe\">\n",
       "  <thead>\n",
       "    <tr style=\"text-align: right;\">\n",
       "      <th></th>\n",
       "      <th>f1</th>\n",
       "      <th>recall</th>\n",
       "      <th>precision</th>\n",
       "      <th>auc_roc</th>\n",
       "    </tr>\n",
       "  </thead>\n",
       "  <tbody>\n",
       "    <tr>\n",
       "      <td>rf_base_balanced</td>\n",
       "      <td>0.575758</td>\n",
       "      <td>0.453581</td>\n",
       "      <td>0.788018</td>\n",
       "      <td>0.858564</td>\n",
       "    </tr>\n",
       "    <tr>\n",
       "      <td>rf_base</td>\n",
       "      <td>0.602291</td>\n",
       "      <td>0.488064</td>\n",
       "      <td>0.786325</td>\n",
       "      <td>0.861679</td>\n",
       "    </tr>\n",
       "    <tr>\n",
       "      <td>dt_base</td>\n",
       "      <td>0.576433</td>\n",
       "      <td>0.480106</td>\n",
       "      <td>0.721116</td>\n",
       "      <td>0.834605</td>\n",
       "    </tr>\n",
       "  </tbody>\n",
       "</table>\n",
       "</div>"
      ],
      "text/plain": [
       "                        f1    recall  precision   auc_roc\n",
       "rf_base_balanced  0.575758  0.453581   0.788018  0.858564\n",
       "rf_base           0.602291  0.488064   0.786325  0.861679\n",
       "dt_base           0.576433  0.480106   0.721116  0.834605"
      ]
     },
     "metadata": {},
     "output_type": "display_data"
    },
    {
     "data": {
      "text/html": [
       "<div>\n",
       "<style scoped>\n",
       "    .dataframe tbody tr th:only-of-type {\n",
       "        vertical-align: middle;\n",
       "    }\n",
       "\n",
       "    .dataframe tbody tr th {\n",
       "        vertical-align: top;\n",
       "    }\n",
       "\n",
       "    .dataframe thead th {\n",
       "        text-align: right;\n",
       "    }\n",
       "</style>\n",
       "<table border=\"1\" class=\"dataframe\">\n",
       "  <thead>\n",
       "    <tr style=\"text-align: right;\">\n",
       "      <th></th>\n",
       "      <th>f1</th>\n",
       "      <th>recall</th>\n",
       "      <th>precision</th>\n",
       "      <th>auc_roc</th>\n",
       "    </tr>\n",
       "  </thead>\n",
       "  <tbody>\n",
       "    <tr>\n",
       "      <td>rf_base_downsampled</td>\n",
       "      <td>0.606765</td>\n",
       "      <td>0.761273</td>\n",
       "      <td>0.504394</td>\n",
       "      <td>0.862710</td>\n",
       "    </tr>\n",
       "    <tr>\n",
       "      <td>rf_base</td>\n",
       "      <td>0.602291</td>\n",
       "      <td>0.488064</td>\n",
       "      <td>0.786325</td>\n",
       "      <td>0.861679</td>\n",
       "    </tr>\n",
       "    <tr>\n",
       "      <td>rf_base_threshold</td>\n",
       "      <td>0.640000</td>\n",
       "      <td>0.615385</td>\n",
       "      <td>0.666667</td>\n",
       "      <td>0.861679</td>\n",
       "    </tr>\n",
       "  </tbody>\n",
       "</table>\n",
       "</div>"
      ],
      "text/plain": [
       "                           f1    recall  precision   auc_roc\n",
       "rf_base_downsampled  0.606765  0.761273   0.504394  0.862710\n",
       "rf_base              0.602291  0.488064   0.786325  0.861679\n",
       "rf_base_threshold    0.640000  0.615385   0.666667  0.861679"
      ]
     },
     "metadata": {},
     "output_type": "display_data"
    }
   ],
   "source": [
    "for column in resul_metric.columns:\n",
    "    display(resul_metric.sort_values(by = column, ascending = False).head(3))"
   ]
  },
  {
   "cell_type": "markdown",
   "metadata": {},
   "source": [
    "Приоритетной метрикой для определения модели для тестирования примем F1-меру, AUC-ROC мере отдадим меньший приоритет. Судить о модели только по точности и охвату нельзя, эти метрики уже агрегированы в F1-мере, поэтому им отдаем наименьший приоритет. Для дальнейшего тестирования выбираем случайный лес обученный на увеличенной выборке с положительным целевым признаком и случайный лес с порогом (threshold) 0,36.  "
   ]
  },
  {
   "cell_type": "markdown",
   "metadata": {},
   "source": [
    "Для модели случайного леса подбрем оптимальные гиперпараметры на увеличенной обучайщей выборке по максимальному значению F1-меры."
   ]
  },
  {
   "cell_type": "code",
   "execution_count": 38,
   "metadata": {},
   "outputs": [],
   "source": [
    "best_model_rf_upsampled = None\n",
    "best_f1_rf_upsampled = 0\n",
    "best_recall_rf_upsampled = 0\n",
    "best_precision_rf_upsampled = 0\n",
    "best_auc_roc_rf_upsampled = 0\n",
    "best_est_rf_upsampled = 0\n",
    "best_depth_rf_upsampled = 0\n",
    "for est in range(11, 112, 5):\n",
    "    for depth in range (11, 32, 2):\n",
    "        model = RandomForestClassifier(random_state=12345, n_estimators=est, max_depth=depth)\n",
    "        model.fit(features_upsampled, target_upsampled) \n",
    "        predicted_valid = model.predict(features_valid) \n",
    "        f1 = f1_score(target_valid, predicted_valid)\n",
    "        probabilities_valid = model.predict_proba(features_valid)\n",
    "        probabilities_one_valid = probabilities_valid[:, 1]\n",
    "        if f1 > best_f1_rf_upsampled:\n",
    "            best_model_rf_upsampled = model\n",
    "            best_f1_rf_upsampled = f1\n",
    "            best_recall_rf_upsampled = recall_score(target_valid, predicted_valid)\n",
    "            best_precision_rf_upsampled = precision_score(target_valid, predicted_valid)\n",
    "            best_auc_roc_rf_upsampled = roc_auc_score(target_valid, probabilities_one_valid)\n",
    "            best_est_rf_upsampled = est\n",
    "            best_depth_rf_upsampled = depth"
   ]
  },
  {
   "cell_type": "markdown",
   "metadata": {},
   "source": [
    "Максимальная F1-мера на валидационной выборке модели случайного леса с увеличенной обучающей выборкой положительных целевых признаков:"
   ]
  },
  {
   "cell_type": "code",
   "execution_count": 39,
   "metadata": {},
   "outputs": [
    {
     "name": "stdout",
     "output_type": "stream",
     "text": [
      "F1-мера=0.6308 | Количество деревьев=96 | Глубина дерева=21\n"
     ]
    }
   ],
   "source": [
    "print(\"F1-мера={:.4f} | Количество деревьев={} | Глубина дерева={}\".format(\n",
    "    best_f1_rf_upsampled, best_est_rf_upsampled, best_depth_rf_upsampled))"
   ]
  },
  {
   "cell_type": "markdown",
   "metadata": {},
   "source": [
    "### Вывод "
   ]
  },
  {
   "cell_type": "markdown",
   "metadata": {},
   "source": [
    "Рассмотрены 4 способа борьбы с дисбалансом целевого признака, для каждой из 3-х базовых моделей. Параметры базовых моделей приняты по наибольшей F1-мере на валидационной выборке после обучения на несбалансированных данных. Все модели имеют метрику AUC-ROC выше 0,77, что существенно превышает значение 0,5 характерное для случайной модели. Максиальный AUC-ROC на валидационной выборке 0,8574-0,8627 у моделей случайного леса.  \n",
    "Наибольшее значение F1-меры (выше 0,62) демонстрирует модели случайного леса с изменением порога и upsampling-гом, соответственно.   \n",
    "Наибольшая площать кривой ошибок (AUC-ROC) у моделей случайного леса.  \n",
    "Наибольшая полнота у модели дерева решений с downsampling-гом.  \n",
    "Модели линейной регрессии не хводят в топ-3 по рассмотренным метрикам.  \n",
    "\n",
    "Для тестирования выбираем:\n",
    "- модель случайного леса обученную для данных с upsampling-гом. Количество деревьев 96, глубина дерева 21. \n",
    "- модель случайного леса обученную на дисбалансных данных с порогом (threshold) 0,36. Количество деревьев 81, глубина дерева 23.  \n",
    "\n",
    "На валидационных выборках F1-мера этих моделей равна 0,631 и 0,640 соответственно."
   ]
  },
  {
   "cell_type": "markdown",
   "metadata": {},
   "source": [
    "## Тестирование модели"
   ]
  },
  {
   "cell_type": "markdown",
   "metadata": {},
   "source": [
    "Протестируем модели случайного леса, полученные при обучении на сбалансированных данных методом upsampling-га. Для базовой модели (best_rf_base) оптимальные гиперпараметры подобраны по несбалансированной выборке, для второй модели (best_rf_upsampled) по сбалансированной.  "
   ]
  },
  {
   "cell_type": "code",
   "execution_count": 40,
   "metadata": {},
   "outputs": [
    {
     "data": {
      "text/html": [
       "<div>\n",
       "<style scoped>\n",
       "    .dataframe tbody tr th:only-of-type {\n",
       "        vertical-align: middle;\n",
       "    }\n",
       "\n",
       "    .dataframe tbody tr th {\n",
       "        vertical-align: top;\n",
       "    }\n",
       "\n",
       "    .dataframe thead th {\n",
       "        text-align: right;\n",
       "    }\n",
       "</style>\n",
       "<table border=\"1\" class=\"dataframe\">\n",
       "  <thead>\n",
       "    <tr style=\"text-align: right;\">\n",
       "      <th></th>\n",
       "      <th>f1</th>\n",
       "      <th>recall</th>\n",
       "      <th>precision</th>\n",
       "      <th>auc_roc</th>\n",
       "    </tr>\n",
       "  </thead>\n",
       "  <tbody>\n",
       "    <tr>\n",
       "      <td>best_rf_upsampled</td>\n",
       "      <td>0.60303</td>\n",
       "      <td>0.566952</td>\n",
       "      <td>0.644013</td>\n",
       "      <td>0.851172</td>\n",
       "    </tr>\n",
       "  </tbody>\n",
       "</table>\n",
       "</div>"
      ],
      "text/plain": [
       "                        f1    recall  precision   auc_roc\n",
       "best_rf_upsampled  0.60303  0.566952   0.644013  0.851172"
      ]
     },
     "execution_count": 40,
     "metadata": {},
     "output_type": "execute_result"
    }
   ],
   "source": [
    "test_name = ['best_rf_upsampled']\n",
    "model_test = [best_model_rf_upsampled]\n",
    "model_test_dict = dict(zip(model_test, test_name))\n",
    "upsampling_test_result = model_metric(\n",
    "    model_test_dict, features_upsampled, target_upsampled, features_test, target_test)\n",
    "upsampling_test_result"
   ]
  },
  {
   "cell_type": "code",
   "execution_count": 41,
   "metadata": {},
   "outputs": [
    {
     "data": {
      "text/html": [
       "<div>\n",
       "<style scoped>\n",
       "    .dataframe tbody tr th:only-of-type {\n",
       "        vertical-align: middle;\n",
       "    }\n",
       "\n",
       "    .dataframe tbody tr th {\n",
       "        vertical-align: top;\n",
       "    }\n",
       "\n",
       "    .dataframe thead th {\n",
       "        text-align: right;\n",
       "    }\n",
       "</style>\n",
       "<table border=\"1\" class=\"dataframe\">\n",
       "  <thead>\n",
       "    <tr style=\"text-align: right;\">\n",
       "      <th></th>\n",
       "      <th>f1</th>\n",
       "      <th>recall</th>\n",
       "      <th>precision</th>\n",
       "      <th>auc_roc</th>\n",
       "    </tr>\n",
       "  </thead>\n",
       "  <tbody>\n",
       "    <tr>\n",
       "      <td>rf_base_threshold</td>\n",
       "      <td>0.606838</td>\n",
       "      <td>0.606838</td>\n",
       "      <td>0.606838</td>\n",
       "      <td>0.850177</td>\n",
       "    </tr>\n",
       "  </tbody>\n",
       "</table>\n",
       "</div>"
      ],
      "text/plain": [
       "                         f1    recall  precision   auc_roc\n",
       "rf_base_threshold  0.606838  0.606838   0.606838  0.850177"
      ]
     },
     "execution_count": 41,
     "metadata": {},
     "output_type": "execute_result"
    }
   ],
   "source": [
    "test_name = ['rf_base_threshold']\n",
    "model_test = [best_model_rf]\n",
    "model_test_dict = dict(zip(model_test, test_name))\n",
    "threshold_test_result = model_metric_threshold(\n",
    "    model_test_dict, features_train, target_train, features_test, target_test, 0.36, 0.37, 0.02).drop(\n",
    "    ['best_threshold'], axis=1)\n",
    "threshold_test_result"
   ]
  },
  {
   "cell_type": "markdown",
   "metadata": {},
   "source": [
    "### Вывод"
   ]
  },
  {
   "cell_type": "markdown",
   "metadata": {},
   "source": [
    "Обе модели на тестовой выборке имеют F1-меру меньше чем на валидационной. F1-мера выше 0.59 у обеих моделей.  "
   ]
  },
  {
   "cell_type": "markdown",
   "metadata": {},
   "source": [
    "## Общий вывод"
   ]
  },
  {
   "cell_type": "markdown",
   "metadata": {},
   "source": [
    "1) В результате подготовки данных:  \n",
    "\n",
    "Колонки с категориальными текстовыми признаками \"geography\", \"gender\" преобразованы One-Hot Encoding в численные.  \n",
    "Артефактов в признаках не обнаружено.  \n",
    "Имеются выбивающиеся часто встречающиеся значения в колонках credit_score и balance. Для признака credit_score можно сказать, что имеется большое число клиентов с максимально возможным кредитным рейтингом. А для признака balance характерно большое число клинтов с нулевым балансом на счете.  \n",
    "Пропуски в колонке tenure - сколько лет человек является клиентом банка, а именно 9,1% всех данных были удалены, так как, достоверно заполнить пропуски не представляется возможным.  \n",
    "Произведено масштабирование признаков методом стандартизации данных (StandardScaler).  \n",
    "Обнаружен дисбаланс целевого признака (колонка \"exited\" факт ухода клиентов). Положительный целевой признак встречается почти в 4 раза реже отрицательного.  \n",
    "\n",
    "2) По F1-мере на валидационной выборке определены гиперпараметры базовых моделей:\n",
    "\n",
    "F1-мера дерева решений 0.5764, при глубине дерева 7.  \n",
    "F1-мера случайного леса 0.6023, при количестве деревьев 81 и глубине дерева 23.  \n",
    "F1-мера логистической регрессии 0.3052, при гиперпараметре 'с' равном 0.0800.\n",
    "\n",
    "3) Для каждой из 3-х базовых моделей рассмотрены 4 способа борьбы с дисбалансом целевого признака:  \n",
    "- взвешивание классов,\n",
    "- увеличение выборки с положительным целевым признаком,\n",
    "- уменьшение выборки с отрицательным целевым признаком,\n",
    "- изменение порога.\n",
    "Все модели имеют метрику AUC-ROC выше 0,77, что существенно превышает значение 0,5 характерное для случайной модели. Максиальный AUC-ROC на валидационной выборке 0,8574-0,8627 у моделей случайного леса.\n",
    "Наибольшее значение F1-меры (выше 0,62) демонстрирует модели случайного леса с изменением порога до 0,36 и upsampling-гом.\n",
    "Наибольшая площать кривой ошибок (AUC-ROC) у моделей случайного леса.\n",
    "Модели линейной регрессии не входят в топ-3 по рассмотренным метрикам.\n",
    "Сильнее всего дисбаланс целевого признака влияет на логистическую регрессию. До борьбы с дисбалансом F1-мера составляла 0,3, после удалось достичь значения 0,5.\n",
    "\n",
    "Для тестирования выбраны две модели:\n",
    "- модель случайного леса. Гиперпараметры модели подбраны по F1-мере на обучающей  выборке с upsampling-гом: количество деревьев 96 и глубина дерева 21.\n",
    "- базовая модель случайного леса с порогом 0,36.\n",
    "\n",
    "4) На тестовых выборках выборках F1-мера этих моделей равна 0.603 и 0.607 соответственно, а на валционных: 0,631 и 0,640 соответственно.\n"
   ]
  }
 ],
 "metadata": {
  "kernelspec": {
   "display_name": "Python 3",
   "language": "python",
   "name": "python3"
  },
  "language_info": {
   "codemirror_mode": {
    "name": "ipython",
    "version": 3
   },
   "file_extension": ".py",
   "mimetype": "text/x-python",
   "name": "python",
   "nbconvert_exporter": "python",
   "pygments_lexer": "ipython3",
   "version": "3.7.8"
  },
  "toc": {
   "base_numbering": 1,
   "nav_menu": {},
   "number_sections": true,
   "sideBar": true,
   "skip_h1_title": true,
   "title_cell": "Содержание",
   "title_sidebar": "Contents",
   "toc_cell": true,
   "toc_position": {
    "height": "calc(100% - 180px)",
    "left": "10px",
    "top": "150px",
    "width": "358.391px"
   },
   "toc_section_display": true,
   "toc_window_display": true
  }
 },
 "nbformat": 4,
 "nbformat_minor": 2
}
