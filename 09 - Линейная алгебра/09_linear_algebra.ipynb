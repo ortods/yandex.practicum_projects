{
 "cells": [
  {
   "cell_type": "markdown",
   "source": [
    "<h1>Содержание<span class=\"tocSkip\"></span></h1>\n",
    "<div class=\"toc\"><ul class=\"toc-item\"><li><span><a href=\"#Загрузка-данных\" data-toc-modified-id=\"Загрузка-данных-1\"><span class=\"toc-item-num\">1&nbsp;&nbsp;</span>Загрузка данных</a></span><ul class=\"toc-item\"><li><span><a href=\"#Вывод.\" data-toc-modified-id=\"Вывод.-1.1\"><span class=\"toc-item-num\">1.1&nbsp;&nbsp;</span>Вывод.</a></span></li></ul></li><li><span><a href=\"#Умножение-матриц\" data-toc-modified-id=\"Умножение-матриц-2\"><span class=\"toc-item-num\">2&nbsp;&nbsp;</span>Умножение матриц</a></span><ul class=\"toc-item\"><li><span><a href=\"#Вывод\" data-toc-modified-id=\"Вывод-2.1\"><span class=\"toc-item-num\">2.1&nbsp;&nbsp;</span>Вывод</a></span></li></ul></li><li><span><a href=\"#Алгоритм-преобразования\" data-toc-modified-id=\"Алгоритм-преобразования-3\"><span class=\"toc-item-num\">3&nbsp;&nbsp;</span>Алгоритм преобразования</a></span><ul class=\"toc-item\"><li><span><a href=\"#Вывод\" data-toc-modified-id=\"Вывод-3.1\"><span class=\"toc-item-num\">3.1&nbsp;&nbsp;</span>Вывод</a></span></li></ul></li><li><span><a href=\"#Проверка-алгоритма\" data-toc-modified-id=\"Проверка-алгоритма-4\"><span class=\"toc-item-num\">4&nbsp;&nbsp;</span>Проверка алгоритма</a></span><ul class=\"toc-item\"><li><span><a href=\"#Вывод\" data-toc-modified-id=\"Вывод-4.1\"><span class=\"toc-item-num\">4.1&nbsp;&nbsp;</span>Вывод</a></span></li></ul></li><li><span><a href=\"#Вывод\" data-toc-modified-id=\"Вывод-5\"><span class=\"toc-item-num\">5&nbsp;&nbsp;</span>Вывод</a></span></li><li><span><a href=\"#Чек-лист-проверки\" data-toc-modified-id=\"Чек-лист-проверки-6\"><span class=\"toc-item-num\">6&nbsp;&nbsp;</span>Чек-лист проверки</a></span></li></ul></div>"
   ],
   "metadata": {
    "toc": true
   }
  },
  {
   "cell_type": "markdown",
   "source": [
    "# Защита персональных данных клиентов"
   ],
   "metadata": {}
  },
  {
   "cell_type": "markdown",
   "source": [
    "Вам нужно защитить данные клиентов страховой компании «Хоть потоп». Разработайте такой метод преобразования данных, чтобы по ним было сложно восстановить персональную информацию. Обоснуйте корректность его работы.\n",
    "\n",
    "Нужно защитить данные, чтобы при преобразовании качество моделей машинного обучения не ухудшилось. Подбирать наилучшую модель не требуется."
   ],
   "metadata": {}
  },
  {
   "cell_type": "markdown",
   "source": [
    "## Загрузка данных"
   ],
   "metadata": {}
  },
  {
   "cell_type": "markdown",
   "source": [
    "Загрузим и изучим данные. "
   ],
   "metadata": {}
  },
  {
   "cell_type": "code",
   "execution_count": 1,
   "source": [
    "import pandas as pd\r\n",
    "import numpy as np\r\n",
    "from sklearn.metrics import r2_score\r\n",
    "from sklearn.linear_model import LinearRegression"
   ],
   "outputs": [],
   "metadata": {}
  },
  {
   "cell_type": "code",
   "execution_count": 2,
   "source": [
    "df = pd.read_csv('/datasets/insurance.csv')"
   ],
   "outputs": [],
   "metadata": {}
  },
  {
   "cell_type": "code",
   "execution_count": 3,
   "source": [
    "df.head()"
   ],
   "outputs": [
    {
     "output_type": "execute_result",
     "data": {
      "text/plain": [
       "   Пол  Возраст  Зарплата  Члены семьи  Страховые выплаты\n",
       "0    1     41.0   49600.0            1                  0\n",
       "1    0     46.0   38000.0            1                  1\n",
       "2    0     29.0   21000.0            0                  0\n",
       "3    0     21.0   41700.0            2                  0\n",
       "4    1     28.0   26100.0            0                  0"
      ],
      "text/html": [
       "<div>\n",
       "<style scoped>\n",
       "    .dataframe tbody tr th:only-of-type {\n",
       "        vertical-align: middle;\n",
       "    }\n",
       "\n",
       "    .dataframe tbody tr th {\n",
       "        vertical-align: top;\n",
       "    }\n",
       "\n",
       "    .dataframe thead th {\n",
       "        text-align: right;\n",
       "    }\n",
       "</style>\n",
       "<table border=\"1\" class=\"dataframe\">\n",
       "  <thead>\n",
       "    <tr style=\"text-align: right;\">\n",
       "      <th></th>\n",
       "      <th>Пол</th>\n",
       "      <th>Возраст</th>\n",
       "      <th>Зарплата</th>\n",
       "      <th>Члены семьи</th>\n",
       "      <th>Страховые выплаты</th>\n",
       "    </tr>\n",
       "  </thead>\n",
       "  <tbody>\n",
       "    <tr>\n",
       "      <td>0</td>\n",
       "      <td>1</td>\n",
       "      <td>41.0</td>\n",
       "      <td>49600.0</td>\n",
       "      <td>1</td>\n",
       "      <td>0</td>\n",
       "    </tr>\n",
       "    <tr>\n",
       "      <td>1</td>\n",
       "      <td>0</td>\n",
       "      <td>46.0</td>\n",
       "      <td>38000.0</td>\n",
       "      <td>1</td>\n",
       "      <td>1</td>\n",
       "    </tr>\n",
       "    <tr>\n",
       "      <td>2</td>\n",
       "      <td>0</td>\n",
       "      <td>29.0</td>\n",
       "      <td>21000.0</td>\n",
       "      <td>0</td>\n",
       "      <td>0</td>\n",
       "    </tr>\n",
       "    <tr>\n",
       "      <td>3</td>\n",
       "      <td>0</td>\n",
       "      <td>21.0</td>\n",
       "      <td>41700.0</td>\n",
       "      <td>2</td>\n",
       "      <td>0</td>\n",
       "    </tr>\n",
       "    <tr>\n",
       "      <td>4</td>\n",
       "      <td>1</td>\n",
       "      <td>28.0</td>\n",
       "      <td>26100.0</td>\n",
       "      <td>0</td>\n",
       "      <td>0</td>\n",
       "    </tr>\n",
       "  </tbody>\n",
       "</table>\n",
       "</div>"
      ]
     },
     "metadata": {},
     "execution_count": 3
    }
   ],
   "metadata": {}
  },
  {
   "cell_type": "code",
   "execution_count": 4,
   "source": [
    "df.info()"
   ],
   "outputs": [
    {
     "output_type": "stream",
     "name": "stdout",
     "text": [
      "<class 'pandas.core.frame.DataFrame'>\n",
      "RangeIndex: 5000 entries, 0 to 4999\n",
      "Data columns (total 5 columns):\n",
      "Пол                  5000 non-null int64\n",
      "Возраст              5000 non-null float64\n",
      "Зарплата             5000 non-null float64\n",
      "Члены семьи          5000 non-null int64\n",
      "Страховые выплаты    5000 non-null int64\n",
      "dtypes: float64(2), int64(3)\n",
      "memory usage: 195.4 KB\n"
     ]
    }
   ],
   "metadata": {}
  },
  {
   "cell_type": "markdown",
   "source": [
    "- Пропусков нет. \n",
    "- Переведем возраст клинетов из float в int."
   ],
   "metadata": {}
  },
  {
   "cell_type": "code",
   "execution_count": 5,
   "source": [
    "df['Возраст'] = df['Возраст'].astype('int')"
   ],
   "outputs": [],
   "metadata": {}
  },
  {
   "cell_type": "markdown",
   "source": [
    "Изучим все колонки датафрейма на предмет атрефактов."
   ],
   "metadata": {}
  },
  {
   "cell_type": "code",
   "execution_count": 6,
   "source": [
    "df['Пол'].value_counts()"
   ],
   "outputs": [
    {
     "output_type": "execute_result",
     "data": {
      "text/plain": [
       "0    2505\n",
       "1    2495\n",
       "Name: Пол, dtype: int64"
      ]
     },
     "metadata": {},
     "execution_count": 6
    }
   ],
   "metadata": {
    "scrolled": true
   }
  },
  {
   "cell_type": "code",
   "execution_count": 7,
   "source": [
    "df['Возраст'].hist()"
   ],
   "outputs": [
    {
     "output_type": "execute_result",
     "data": {
      "text/plain": [
       "<matplotlib.axes._subplots.AxesSubplot at 0x7fe331d9ed10>"
      ]
     },
     "metadata": {},
     "execution_count": 7
    },
    {
     "output_type": "display_data",
     "data": {
      "text/plain": [
       "<Figure size 432x288 with 1 Axes>"
      ],
      "image/png": "[encoded data removed]"
     },
     "metadata": {
      "needs_background": "light"
     }
    }
   ],
   "metadata": {}
  },
  {
   "cell_type": "code",
   "execution_count": 8,
   "source": [
    "df['Зарплата'].hist()"
   ],
   "outputs": [
    {
     "output_type": "execute_result",
     "data": {
      "text/plain": [
       "<matplotlib.axes._subplots.AxesSubplot at 0x7fe3293ecfd0>"
      ]
     },
     "metadata": {},
     "execution_count": 8
    },
    {
     "output_type": "display_data",
     "data": {
      "text/plain": [
       "<Figure size 432x288 with 1 Axes>"
      ],
      "image/png": "[encoded data removed]"
     },
     "metadata": {
      "needs_background": "light"
     }
    }
   ],
   "metadata": {}
  },
  {
   "cell_type": "code",
   "execution_count": 9,
   "source": [
    "df['Члены семьи'].value_counts()"
   ],
   "outputs": [
    {
     "output_type": "execute_result",
     "data": {
      "text/plain": [
       "1    1814\n",
       "0    1513\n",
       "2    1071\n",
       "3     439\n",
       "4     124\n",
       "5      32\n",
       "6       7\n",
       "Name: Члены семьи, dtype: int64"
      ]
     },
     "metadata": {},
     "execution_count": 9
    }
   ],
   "metadata": {}
  },
  {
   "cell_type": "code",
   "execution_count": 10,
   "source": [
    "df['Страховые выплаты'].value_counts()"
   ],
   "outputs": [
    {
     "output_type": "execute_result",
     "data": {
      "text/plain": [
       "0    4436\n",
       "1     423\n",
       "2     115\n",
       "3      18\n",
       "4       7\n",
       "5       1\n",
       "Name: Страховые выплаты, dtype: int64"
      ]
     },
     "metadata": {},
     "execution_count": 10
    }
   ],
   "metadata": {}
  },
  {
   "cell_type": "code",
   "execution_count": 11,
   "source": [
    "df.describe()"
   ],
   "outputs": [
    {
     "output_type": "execute_result",
     "data": {
      "text/plain": [
       "               Пол      Возраст      Зарплата  Члены семьи  Страховые выплаты\n",
       "count  5000.000000  5000.000000   5000.000000  5000.000000        5000.000000\n",
       "mean      0.499000    30.952800  39916.360000     1.194200           0.148000\n",
       "std       0.500049     8.440807   9900.083569     1.091387           0.463183\n",
       "min       0.000000    18.000000   5300.000000     0.000000           0.000000\n",
       "25%       0.000000    24.000000  33300.000000     0.000000           0.000000\n",
       "50%       0.000000    30.000000  40200.000000     1.000000           0.000000\n",
       "75%       1.000000    37.000000  46600.000000     2.000000           0.000000\n",
       "max       1.000000    65.000000  79000.000000     6.000000           5.000000"
      ],
      "text/html": [
       "<div>\n",
       "<style scoped>\n",
       "    .dataframe tbody tr th:only-of-type {\n",
       "        vertical-align: middle;\n",
       "    }\n",
       "\n",
       "    .dataframe tbody tr th {\n",
       "        vertical-align: top;\n",
       "    }\n",
       "\n",
       "    .dataframe thead th {\n",
       "        text-align: right;\n",
       "    }\n",
       "</style>\n",
       "<table border=\"1\" class=\"dataframe\">\n",
       "  <thead>\n",
       "    <tr style=\"text-align: right;\">\n",
       "      <th></th>\n",
       "      <th>Пол</th>\n",
       "      <th>Возраст</th>\n",
       "      <th>Зарплата</th>\n",
       "      <th>Члены семьи</th>\n",
       "      <th>Страховые выплаты</th>\n",
       "    </tr>\n",
       "  </thead>\n",
       "  <tbody>\n",
       "    <tr>\n",
       "      <td>count</td>\n",
       "      <td>5000.000000</td>\n",
       "      <td>5000.000000</td>\n",
       "      <td>5000.000000</td>\n",
       "      <td>5000.000000</td>\n",
       "      <td>5000.000000</td>\n",
       "    </tr>\n",
       "    <tr>\n",
       "      <td>mean</td>\n",
       "      <td>0.499000</td>\n",
       "      <td>30.952800</td>\n",
       "      <td>39916.360000</td>\n",
       "      <td>1.194200</td>\n",
       "      <td>0.148000</td>\n",
       "    </tr>\n",
       "    <tr>\n",
       "      <td>std</td>\n",
       "      <td>0.500049</td>\n",
       "      <td>8.440807</td>\n",
       "      <td>9900.083569</td>\n",
       "      <td>1.091387</td>\n",
       "      <td>0.463183</td>\n",
       "    </tr>\n",
       "    <tr>\n",
       "      <td>min</td>\n",
       "      <td>0.000000</td>\n",
       "      <td>18.000000</td>\n",
       "      <td>5300.000000</td>\n",
       "      <td>0.000000</td>\n",
       "      <td>0.000000</td>\n",
       "    </tr>\n",
       "    <tr>\n",
       "      <td>25%</td>\n",
       "      <td>0.000000</td>\n",
       "      <td>24.000000</td>\n",
       "      <td>33300.000000</td>\n",
       "      <td>0.000000</td>\n",
       "      <td>0.000000</td>\n",
       "    </tr>\n",
       "    <tr>\n",
       "      <td>50%</td>\n",
       "      <td>0.000000</td>\n",
       "      <td>30.000000</td>\n",
       "      <td>40200.000000</td>\n",
       "      <td>1.000000</td>\n",
       "      <td>0.000000</td>\n",
       "    </tr>\n",
       "    <tr>\n",
       "      <td>75%</td>\n",
       "      <td>1.000000</td>\n",
       "      <td>37.000000</td>\n",
       "      <td>46600.000000</td>\n",
       "      <td>2.000000</td>\n",
       "      <td>0.000000</td>\n",
       "    </tr>\n",
       "    <tr>\n",
       "      <td>max</td>\n",
       "      <td>1.000000</td>\n",
       "      <td>65.000000</td>\n",
       "      <td>79000.000000</td>\n",
       "      <td>6.000000</td>\n",
       "      <td>5.000000</td>\n",
       "    </tr>\n",
       "  </tbody>\n",
       "</table>\n",
       "</div>"
      ]
     },
     "metadata": {},
     "execution_count": 11
    }
   ],
   "metadata": {}
  },
  {
   "cell_type": "markdown",
   "source": [
    "### Вывод.  \n",
    "Артефактов и выбросов нет, данные не требуеют обработки."
   ],
   "metadata": {}
  },
  {
   "cell_type": "markdown",
   "source": [
    "## Умножение матриц"
   ],
   "metadata": {}
  },
  {
   "cell_type": "markdown",
   "source": [
    "**Признаки умножают на обратимую матрицу. Изменится ли качество линейной регрессии?**  \n"
   ],
   "metadata": {}
  },
  {
   "cell_type": "markdown",
   "source": [
    "Обозначения:\n",
    "\n",
    "- $X$ — матрица признаков (нулевой столбец состоит из единиц)\n",
    "\n",
    "- $y$ — вектор целевого признака\n",
    "\n",
    "- $P$ — матрица, на которую умножаются признаки\n",
    "\n",
    "- $w$ — вектор весов линейной регрессии (нулевой элемент равен сдвигу)"
   ],
   "metadata": {}
  },
  {
   "cell_type": "markdown",
   "source": [
    "Предсказания:\n",
    "\n",
    "$$\n",
    "a = Xw  \n",
    "$$ \n",
    "\n",
    "Задача обучения:\n",
    "\n",
    "$$\n",
    "w = \\arg\\min_w MSE(Xw, y)\n",
    "$$\n",
    "\n",
    "Формула обучения:\n",
    "\n",
    "$$\n",
    "w = (X^T X)^{-1} X^T y\n",
    "$$"
   ],
   "metadata": {}
  },
  {
   "cell_type": "markdown",
   "source": [
    "Подставим $\n",
    "w = (X^T X)^{-1} X^T y\n",
    "$ в исходную формулу предсказаний $a = Xw$.  \n",
    "Получим:  \n",
    "\n",
    "$$a = X(X^T X)^{-1} X^T y$$"
   ],
   "metadata": {}
  },
  {
   "cell_type": "markdown",
   "source": [
    "Подставим в формулу вычисления ветора весов линейной регрессии $w = (X^T X)^{-1} X^T y$, $XP$ вместо $X$, где $P$ обратимая матрица. Обозначим полученный вектор $w^*$. "
   ],
   "metadata": {}
  },
  {
   "cell_type": "markdown",
   "source": [
    "Формулы для преобразований:  \n",
    "\n",
    "$(AB)^{-1} = B^{-1}A^{-1}$,  применимо для двух квадратных матриц A и B;  \n",
    "\n",
    "$ AA^{-1} = A^{-1}A = E$, где $E$ - единичная матрица;  \n",
    "\n",
    "$ (AB)^{T} = B^{T}A^{T}$.\n",
    "\n",
    "В ходе преобразований получим:  \n",
    "\n",
    "$$\n",
    "w^* = ((XP)^T XP)^{-1} (XP)^T y = (P^T X^T XP)^{-1} P^T X^T y = P^{-1}(P^T X^T X)^{-1} P^T X^T y = P^{-1}(X^T X)^{-1} (P^T)^{-1} P^T X^T y = P^{-1}(X^T X)^{-1} E X^T y = P^{-1}(X^T X)^{-1} X^T y\n",
    "$$"
   ],
   "metadata": {}
  },
  {
   "cell_type": "markdown",
   "source": [
    "Подставим полученный $w^*$ в формулу предсказания $a^*$, также учтем замену $X$ на $XP$ в формуле предсказаний.  \n",
    "\n",
    "Получим:\n",
    "\n",
    "$$\n",
    "a^* =  X P w^*= X P P^{-1}(X^T X)^{-1} X^T y = X E (X^T X)^{-1} X^T y = X (X^T X)^{-1} X^T y\n",
    "$$"
   ],
   "metadata": {}
  },
  {
   "cell_type": "markdown",
   "source": [
    "Таким образом получили:   \n",
    "\n",
    "$a^* =  X (X^T X)^{-1} X^T y$  \n",
    "\n",
    "$a = X(X^T X)^{-1} X^T y$  \n",
    "\n",
    "Следовательно:\n",
    "\n",
    "$a^* = a$"
   ],
   "metadata": {}
  },
  {
   "cell_type": "markdown",
   "source": [
    "### Вывод  \n",
    "Качество линейной регрессии не изменится, так как предсказания линейной регрессии не изменятся после умножения признаков на обратимую матрицу.  \n",
    "Умножение исходной матрицы с признаками на другую обратимую матрицу возможно, если ширина матрицы признаков равна высоте второй матрицы. Вторая матрица является обратимой по условию, то есть имеет обратную матрицу, следовательно она должна быть квадратной и иметь размерность (n, n), где n ширина первой матрицы."
   ],
   "metadata": {}
  },
  {
   "cell_type": "markdown",
   "source": [
    "## Алгоритм преобразования"
   ],
   "metadata": {}
  },
  {
   "cell_type": "markdown",
   "source": [
    "В качестве алгорима преобразования признаков напишем класс, который будет:\n",
    "- генерировать случайную матрицу функцией matrix с помощью numpy.random.normal() (с вероятностью получить необратимую матрицу близкой к нулю). Для гарантии, что случайно сгенерированная матрица будет обратимой, в дальнейшем будем успользовать матрицу обратную сгенерированной. Размерность сгенерированной матрицы равна числу признаков. \n",
    "- предусмотрим возврат предсказаний до и после преобразования признаков нашим алгоритмом функцией inspection. Для возможности сравнения результатов предсказаний. "
   ],
   "metadata": {}
  },
  {
   "cell_type": "code",
   "execution_count": 12,
   "source": [
    "class MatrixSecure:\r\n",
    "    def matrix(self, X, random_state=None):\r\n",
    "        if random_state:\r\n",
    "            np.random.seed(random_state)\r\n",
    "        self.P = np.linalg.inv(np.random.normal(size=(X.shape[1], X.shape[1])))\r\n",
    "        self.XP = X @ self.P\r\n",
    "        return(self.XP)\r\n",
    "    \r\n",
    "    def inspection(self, X, y):\r\n",
    "        self.a = X @ np.linalg.inv(X.T @ X) @ X.T @ y\r\n",
    "        self.aM =  self.XP @ np.linalg.inv(self.XP.T @ self.XP) @ self.XP.T @ y\r\n",
    "        return((self.a, self.aM))"
   ],
   "outputs": [],
   "metadata": {}
  },
  {
   "cell_type": "markdown",
   "source": [
    "Выделим матрицу признаков X и вектор целевого признака."
   ],
   "metadata": {}
  },
  {
   "cell_type": "code",
   "execution_count": 13,
   "source": [
    "X = df.drop(['Страховые выплаты'], axis = 1).values\r\n",
    "X_one = np.concatenate((np.ones((X.shape[0], 1)), X), axis=1)\r\n",
    "y= df['Страховые выплаты'].values"
   ],
   "outputs": [],
   "metadata": {}
  },
  {
   "cell_type": "markdown",
   "source": [
    "Посмотрим на признаки после умножения на обратимую матрицу."
   ],
   "metadata": {}
  },
  {
   "cell_type": "code",
   "execution_count": 14,
   "source": [
    "XP = MatrixSecure().matrix(X=X)\r\n",
    "pd.DataFrame(data = XP, columns = df.drop(['Страховые выплаты'], axis = 1).columns).head()"
   ],
   "outputs": [
    {
     "output_type": "execute_result",
     "data": {
      "text/plain": [
       "            Пол       Возраст      Зарплата   Члены семьи\n",
       "0 -49368.628249  81493.523698  14514.359180 -59698.066402\n",
       "1 -37823.152384  62421.009518  11113.319567 -45732.770906\n",
       "2 -20901.883708  34490.861695   6138.531627 -25271.846094\n",
       "3 -41506.693602  68532.766842  12213.913346 -50196.225767\n",
       "4 -25977.656303  42873.455113   7632.113839 -31410.493123"
      ],
      "text/html": [
       "<div>\n",
       "<style scoped>\n",
       "    .dataframe tbody tr th:only-of-type {\n",
       "        vertical-align: middle;\n",
       "    }\n",
       "\n",
       "    .dataframe tbody tr th {\n",
       "        vertical-align: top;\n",
       "    }\n",
       "\n",
       "    .dataframe thead th {\n",
       "        text-align: right;\n",
       "    }\n",
       "</style>\n",
       "<table border=\"1\" class=\"dataframe\">\n",
       "  <thead>\n",
       "    <tr style=\"text-align: right;\">\n",
       "      <th></th>\n",
       "      <th>Пол</th>\n",
       "      <th>Возраст</th>\n",
       "      <th>Зарплата</th>\n",
       "      <th>Члены семьи</th>\n",
       "    </tr>\n",
       "  </thead>\n",
       "  <tbody>\n",
       "    <tr>\n",
       "      <td>0</td>\n",
       "      <td>-49368.628249</td>\n",
       "      <td>81493.523698</td>\n",
       "      <td>14514.359180</td>\n",
       "      <td>-59698.066402</td>\n",
       "    </tr>\n",
       "    <tr>\n",
       "      <td>1</td>\n",
       "      <td>-37823.152384</td>\n",
       "      <td>62421.009518</td>\n",
       "      <td>11113.319567</td>\n",
       "      <td>-45732.770906</td>\n",
       "    </tr>\n",
       "    <tr>\n",
       "      <td>2</td>\n",
       "      <td>-20901.883708</td>\n",
       "      <td>34490.861695</td>\n",
       "      <td>6138.531627</td>\n",
       "      <td>-25271.846094</td>\n",
       "    </tr>\n",
       "    <tr>\n",
       "      <td>3</td>\n",
       "      <td>-41506.693602</td>\n",
       "      <td>68532.766842</td>\n",
       "      <td>12213.913346</td>\n",
       "      <td>-50196.225767</td>\n",
       "    </tr>\n",
       "    <tr>\n",
       "      <td>4</td>\n",
       "      <td>-25977.656303</td>\n",
       "      <td>42873.455113</td>\n",
       "      <td>7632.113839</td>\n",
       "      <td>-31410.493123</td>\n",
       "    </tr>\n",
       "  </tbody>\n",
       "</table>\n",
       "</div>"
      ]
     },
     "metadata": {},
     "execution_count": 14
    }
   ],
   "metadata": {}
  },
  {
   "cell_type": "markdown",
   "source": [
    "Теперь признаки преобразованы и по ним теперь проблематично узнать информацию о клиентах.  \n",
    "Проверим отличается ли метрика R2 на предсказаниях полученных по формуле $a = X(X^T X)^{-1} X^T y$ на исходных признаках и преобразованных."
   ],
   "metadata": {}
  },
  {
   "cell_type": "code",
   "execution_count": 15,
   "source": [
    "print('R2 по исходным признакам', '| R2 по исходным признакам умноженным на обратимую матрицу')\r\n",
    "for i in range(10):\r\n",
    "    test = MatrixSecure()\r\n",
    "    X_P = test.matrix(X=X_one)\r\n",
    "    a_X, a_XP = test.inspection(X=X_one, y=y)\r\n",
    "    print(f'{r2_score(y, a_X)}         | {r2_score(y, a_XP)}')"
   ],
   "outputs": [
    {
     "output_type": "stream",
     "name": "stdout",
     "text": [
      "R2 по исходным признакам | R2 по исходным признакам умноженным на обратимую матрицу\n",
      "0.42494550286668         | 0.4249453863919648\n",
      "0.42494550286668         | 0.42494536477473377\n",
      "0.42494550286668         | 0.42494546161979085\n",
      "0.42494550286668         | 0.42494549735134446\n",
      "0.42494550286668         | 0.42494546645032916\n",
      "0.42494550286668         | 0.42494543796849293\n",
      "0.42494550286668         | 0.42494551500272226\n",
      "0.42494550286668         | 0.4249455137432917\n",
      "0.42494550286668         | 0.42494550277428267\n",
      "0.42494550286668         | 0.42494570261867814\n"
     ]
    }
   ],
   "metadata": {
    "scrolled": true
   }
  },
  {
   "cell_type": "markdown",
   "source": [
    "### Вывод \n",
    "- Написан алгоритм преобразования данных, для защиты данных клиентов. В результате преобразования по ним значительно сложнее востановить персональную информацию о клиенте; \n",
    "- по формуле $a = X(X^T X)^{-1} X^T y$ проверено значение метрики R2. Отличия после преобразования не оказывают значительного эффекта на метрику."
   ],
   "metadata": {}
  },
  {
   "cell_type": "markdown",
   "source": [
    "## Проверка алгоритма"
   ],
   "metadata": {}
  },
  {
   "cell_type": "markdown",
   "source": [
    "По метрике  R2 проверим, что качество линейной регрессии из sklearn не отличается до и после преобразования. "
   ],
   "metadata": {}
  },
  {
   "cell_type": "code",
   "execution_count": 16,
   "source": [
    "model = LinearRegression()"
   ],
   "outputs": [],
   "metadata": {}
  },
  {
   "cell_type": "markdown",
   "source": [
    "Обучим модель линейной регрессии и получим предсказания на исходных признаках."
   ],
   "metadata": {}
  },
  {
   "cell_type": "code",
   "execution_count": 17,
   "source": [
    "model.fit(X, y)\r\n",
    "predictions_X = model.predict(X)"
   ],
   "outputs": [],
   "metadata": {}
  },
  {
   "cell_type": "markdown",
   "source": [
    "Преобразуем признаки, обучим модель и получим предсказания на преобразованных признаках."
   ],
   "metadata": {}
  },
  {
   "cell_type": "code",
   "execution_count": 18,
   "source": [
    "XP = MatrixSecure().matrix(X=X)\r\n",
    "model.fit(XP, y)\r\n",
    "predictions_XP = model.predict(XP)"
   ],
   "outputs": [],
   "metadata": {}
  },
  {
   "cell_type": "markdown",
   "source": [
    "Посмотрим на метрику R2."
   ],
   "metadata": {}
  },
  {
   "cell_type": "code",
   "execution_count": 19,
   "source": [
    "print('Качество линейной регрессии на исходных признаках:', r2_score(y, predictions_X))\r\n",
    "print('Качество линейной регрессии на преобразованных признаках:', r2_score(y, predictions_XP))"
   ],
   "outputs": [
    {
     "output_type": "stream",
     "name": "stdout",
     "text": [
      "Качество линейной регрессии на исходных признаках: 0.42494550286668\n",
      "Качество линейной регрессии на преобразованных признаках: 0.42494550286667065\n"
     ]
    }
   ],
   "metadata": {
    "scrolled": true
   }
  },
  {
   "cell_type": "markdown",
   "source": [
    "Метрики R2 существенно не отличаются. Можно сказать что качество модели не изменилось после преобразования признаков."
   ],
   "metadata": {}
  },
  {
   "cell_type": "markdown",
   "source": [
    "Выполним обучение линейной регресии с наши алгоритмом 100 раз в цикле, чтобы удостовериться в корректности его работы. "
   ],
   "metadata": {}
  },
  {
   "cell_type": "code",
   "execution_count": 20,
   "source": [
    "result = []\r\n",
    "for i in range (100):\r\n",
    "    model.fit(X, y)\r\n",
    "    predictions_X = model.predict(X)\r\n",
    "\r\n",
    "    XP = MatrixSecure().matrix(X=X)\r\n",
    "    model.fit(XP, y)\r\n",
    "    predictions_XP = model.predict(XP)\r\n",
    "    \r\n",
    "    R2_simular = np.isclose(r2_score(y, predictions_X), r2_score(y, predictions_XP))\r\n",
    "    result.append(R2_simular)"
   ],
   "outputs": [],
   "metadata": {}
  },
  {
   "cell_type": "markdown",
   "source": [
    "Выведем процент случаев из 100 в которых качество модели линейной регрессии по метрике R2  не отличалось до и после преобразования признаков.  \n",
    "Погрешности сранения равны: \n",
    "- относительная rtol=1e-05;\n",
    "- абсолютная atol=1e-08. "
   ],
   "metadata": {}
  },
  {
   "cell_type": "code",
   "execution_count": 21,
   "source": [
    "print(f'{sum(result) / 100 * 100} %')"
   ],
   "outputs": [
    {
     "output_type": "stream",
     "name": "stdout",
     "text": [
      "100.0 %\n"
     ]
    }
   ],
   "metadata": {}
  },
  {
   "cell_type": "markdown",
   "source": [
    "###  Вывод\n",
    "Алгорим преобразования признаков проверен, влияния на качество предсказаний не обнаружено. "
   ],
   "metadata": {}
  },
  {
   "cell_type": "markdown",
   "source": [
    "## Вывод\n",
    "- Умножение признаков на обратимую матрицу не влияет на качество линейной регрессии. \n",
    "- После умножения на обратимую матрицу признаки оказываются преобразованы и защищены от востановления персональной информации клиентов. \n",
    "- Алгоритм защиты данных проверен на модели линейной регресии из sklearn. Можно считать что результаты линейной регресии до и после преобразования данных не отличается с относительной и абсолютной погрешностью 1e-05 и 1e-08 соответственно.  "
   ],
   "metadata": {}
  }
 ],
 "metadata": {
  "ExecuteTimeLog": [
   {
    "duration": 984,
    "start_time": "2021-07-13T12:50:01.380Z"
   },
   {
    "duration": 2147,
    "start_time": "2021-07-13T12:50:34.722Z"
   },
   {
    "duration": 31,
    "start_time": "2021-07-13T12:50:39.110Z"
   },
   {
    "duration": 12,
    "start_time": "2021-07-13T12:56:57.362Z"
   },
   {
    "duration": 388,
    "start_time": "2021-07-13T12:57:03.468Z"
   },
   {
    "duration": 9,
    "start_time": "2021-07-13T12:57:07.156Z"
   },
   {
    "duration": 6,
    "start_time": "2021-07-13T12:57:53.076Z"
   },
   {
    "duration": 315,
    "start_time": "2021-07-13T12:58:02.939Z"
   },
   {
    "duration": 287,
    "start_time": "2021-07-13T12:58:09.267Z"
   },
   {
    "duration": 6,
    "start_time": "2021-07-13T12:58:14.050Z"
   },
   {
    "duration": 14,
    "start_time": "2021-07-13T12:59:18.347Z"
   },
   {
    "duration": 9,
    "start_time": "2021-07-13T12:59:55.561Z"
   },
   {
    "duration": 9,
    "start_time": "2021-07-13T13:00:13.840Z"
   },
   {
    "duration": 283,
    "start_time": "2021-07-13T13:00:59.289Z"
   },
   {
    "duration": 12,
    "start_time": "2021-07-13T13:01:09.217Z"
   },
   {
    "duration": 316,
    "start_time": "2021-07-13T13:01:33.170Z"
   },
   {
    "duration": 279,
    "start_time": "2021-07-13T13:01:41.730Z"
   },
   {
    "duration": 651,
    "start_time": "2021-07-13T13:01:55.369Z"
   },
   {
    "duration": 14,
    "start_time": "2021-07-13T13:02:02.864Z"
   },
   {
    "duration": 9,
    "start_time": "2021-07-13T13:02:19.681Z"
   },
   {
    "duration": 9,
    "start_time": "2021-07-13T13:02:47.208Z"
   },
   {
    "duration": 422,
    "start_time": "2021-07-13T13:03:03.305Z"
   },
   {
    "duration": 307,
    "start_time": "2021-07-13T13:03:25.511Z"
   },
   {
    "duration": 8,
    "start_time": "2021-07-13T13:03:40.462Z"
   },
   {
    "duration": 9,
    "start_time": "2021-07-13T13:04:03.544Z"
   },
   {
    "duration": 8,
    "start_time": "2021-07-13T13:04:26.575Z"
   },
   {
    "duration": 5,
    "start_time": "2021-07-13T13:06:28.846Z"
   },
   {
    "duration": 261,
    "start_time": "2021-07-13T13:06:37.262Z"
   },
   {
    "duration": 10,
    "start_time": "2021-07-13T13:06:43.797Z"
   },
   {
    "duration": 4,
    "start_time": "2021-07-13T13:14:59.920Z"
   },
   {
    "duration": 6,
    "start_time": "2021-07-13T13:15:05.858Z"
   },
   {
    "duration": 7,
    "start_time": "2021-07-13T13:16:52.041Z"
   },
   {
    "duration": 6,
    "start_time": "2021-07-13T13:17:11.985Z"
   },
   {
    "duration": 6,
    "start_time": "2021-07-13T13:17:17.530Z"
   },
   {
    "duration": 6,
    "start_time": "2021-07-13T13:17:53.520Z"
   },
   {
    "duration": 14,
    "start_time": "2021-07-13T13:25:27.140Z"
   },
   {
    "duration": 72,
    "start_time": "2021-07-13T13:25:32.884Z"
   },
   {
    "duration": 454,
    "start_time": "2021-07-13T15:09:43.049Z"
   },
   {
    "duration": 7,
    "start_time": "2021-07-13T15:09:55.273Z"
   },
   {
    "duration": 6,
    "start_time": "2021-07-13T15:10:05.847Z"
   },
   {
    "duration": 479,
    "start_time": "2021-07-13T15:10:08.412Z"
   },
   {
    "duration": 6,
    "start_time": "2021-07-13T15:10:22.466Z"
   },
   {
    "duration": 6,
    "start_time": "2021-07-13T15:10:23.345Z"
   },
   {
    "duration": 6,
    "start_time": "2021-07-13T15:43:27.973Z"
   },
   {
    "duration": 6,
    "start_time": "2021-07-13T16:33:22.818Z"
   },
   {
    "duration": 6,
    "start_time": "2021-07-13T16:33:46.826Z"
   },
   {
    "duration": 17,
    "start_time": "2021-07-13T16:34:50.858Z"
   },
   {
    "duration": 8,
    "start_time": "2021-07-13T16:35:04.865Z"
   },
   {
    "duration": 543,
    "start_time": "2021-07-13T16:38:00.511Z"
   },
   {
    "duration": 6,
    "start_time": "2021-07-13T16:38:47.928Z"
   },
   {
    "duration": 52,
    "start_time": "2021-07-13T16:42:15.749Z"
   },
   {
    "duration": 7,
    "start_time": "2021-07-13T16:42:23.002Z"
   },
   {
    "duration": 13,
    "start_time": "2021-07-13T16:42:26.982Z"
   },
   {
    "duration": 9,
    "start_time": "2021-07-13T16:42:40.333Z"
   },
   {
    "duration": 6,
    "start_time": "2021-07-13T16:42:41.981Z"
   },
   {
    "duration": 15,
    "start_time": "2021-07-13T16:42:44.524Z"
   },
   {
    "duration": 8,
    "start_time": "2021-07-13T16:44:04.813Z"
   },
   {
    "duration": 9,
    "start_time": "2021-07-13T16:44:28.315Z"
   },
   {
    "duration": 7,
    "start_time": "2021-07-13T16:44:35.011Z"
   },
   {
    "duration": 99,
    "start_time": "2021-07-13T16:44:39.403Z"
   },
   {
    "duration": 6,
    "start_time": "2021-07-13T16:45:44.452Z"
   },
   {
    "duration": 674,
    "start_time": "2021-07-13T16:45:45.266Z"
   },
   {
    "duration": 79,
    "start_time": "2021-07-13T16:46:04.723Z"
   },
   {
    "duration": 6,
    "start_time": "2021-07-13T16:46:09.467Z"
   },
   {
    "duration": 14,
    "start_time": "2021-07-13T16:46:11.507Z"
   },
   {
    "duration": 7,
    "start_time": "2021-07-13T16:47:04.490Z"
   },
   {
    "duration": 6,
    "start_time": "2021-07-13T16:47:21.282Z"
   },
   {
    "duration": 312,
    "start_time": "2021-07-13T16:47:38.716Z"
   },
   {
    "duration": 5,
    "start_time": "2021-07-13T16:47:47.835Z"
   },
   {
    "duration": 6,
    "start_time": "2021-07-13T16:48:13.482Z"
   },
   {
    "duration": 1281,
    "start_time": "2021-07-13T16:55:06.527Z"
   },
   {
    "duration": 125,
    "start_time": "2021-07-13T16:55:07.812Z"
   },
   {
    "duration": 22,
    "start_time": "2021-07-13T16:55:07.943Z"
   },
   {
    "duration": 9,
    "start_time": "2021-07-13T16:55:07.967Z"
   },
   {
    "duration": 6,
    "start_time": "2021-07-13T16:55:07.978Z"
   },
   {
    "duration": 28,
    "start_time": "2021-07-13T16:55:07.986Z"
   },
   {
    "duration": 393,
    "start_time": "2021-07-13T16:55:08.018Z"
   },
   {
    "duration": 319,
    "start_time": "2021-07-13T16:55:08.414Z"
   },
   {
    "duration": 9,
    "start_time": "2021-07-13T16:55:08.736Z"
   },
   {
    "duration": 13,
    "start_time": "2021-07-13T16:55:08.748Z"
   },
   {
    "duration": 65,
    "start_time": "2021-07-13T16:55:08.763Z"
   },
   {
    "duration": 7,
    "start_time": "2021-07-13T16:55:08.831Z"
   },
   {
    "duration": 8,
    "start_time": "2021-07-13T16:55:08.841Z"
   },
   {
    "duration": 687,
    "start_time": "2021-07-13T16:55:08.852Z"
   },
   {
    "duration": -114,
    "start_time": "2021-07-13T16:55:09.655Z"
   },
   {
    "duration": -114,
    "start_time": "2021-07-13T16:55:09.656Z"
   },
   {
    "duration": -114,
    "start_time": "2021-07-13T16:55:09.658Z"
   },
   {
    "duration": 6,
    "start_time": "2021-07-13T16:55:14.315Z"
   },
   {
    "duration": 611,
    "start_time": "2021-07-13T16:55:14.892Z"
   },
   {
    "duration": 6,
    "start_time": "2021-07-13T16:55:27.751Z"
   },
   {
    "duration": 7,
    "start_time": "2021-07-13T16:55:28.949Z"
   },
   {
    "duration": 6,
    "start_time": "2021-07-13T16:55:30.931Z"
   },
   {
    "duration": 76,
    "start_time": "2021-07-13T16:55:31.643Z"
   },
   {
    "duration": 6,
    "start_time": "2021-07-13T16:55:35.724Z"
   },
   {
    "duration": 5,
    "start_time": "2021-07-13T16:55:44.140Z"
   },
   {
    "duration": 457,
    "start_time": "2021-07-13T16:55:45.146Z"
   },
   {
    "duration": 6,
    "start_time": "2021-07-13T16:55:46.043Z"
   },
   {
    "duration": 6,
    "start_time": "2021-07-13T16:55:48.940Z"
   },
   {
    "duration": 151,
    "start_time": "2021-07-13T16:55:51.569Z"
   },
   {
    "duration": 261,
    "start_time": "2021-07-13T16:55:56.627Z"
   },
   {
    "duration": 268,
    "start_time": "2021-07-13T16:56:01.707Z"
   },
   {
    "duration": 6,
    "start_time": "2021-07-13T16:56:04.540Z"
   },
   {
    "duration": 7,
    "start_time": "2021-07-13T16:56:12.195Z"
   },
   {
    "duration": 6,
    "start_time": "2021-07-13T16:56:14.627Z"
   },
   {
    "duration": 6,
    "start_time": "2021-07-13T16:56:15.258Z"
   },
   {
    "duration": 20,
    "start_time": "2021-07-13T16:56:15.691Z"
   },
   {
    "duration": 7,
    "start_time": "2021-07-13T16:56:16.146Z"
   },
   {
    "duration": 7,
    "start_time": "2021-07-13T16:56:26.004Z"
   },
   {
    "duration": 458,
    "start_time": "2021-07-13T16:56:27.091Z"
   },
   {
    "duration": 273,
    "start_time": "2021-07-13T16:58:02.746Z"
   },
   {
    "duration": 457,
    "start_time": "2021-07-13T16:58:04.688Z"
   },
   {
    "duration": 6,
    "start_time": "2021-07-13T16:58:14.417Z"
   },
   {
    "duration": 4,
    "start_time": "2021-07-13T16:58:19.970Z"
   },
   {
    "duration": 7,
    "start_time": "2021-07-13T16:58:21.057Z"
   },
   {
    "duration": 4,
    "start_time": "2021-07-13T16:58:24.729Z"
   },
   {
    "duration": 92,
    "start_time": "2021-07-13T16:58:28.609Z"
   },
   {
    "duration": 6,
    "start_time": "2021-07-13T16:58:30.577Z"
   },
   {
    "duration": 4,
    "start_time": "2021-07-13T16:58:34.777Z"
   },
   {
    "duration": 100,
    "start_time": "2021-07-13T16:58:36.906Z"
   },
   {
    "duration": 6,
    "start_time": "2021-07-13T16:58:38.458Z"
   },
   {
    "duration": 9,
    "start_time": "2021-07-13T16:58:57.449Z"
   },
   {
    "duration": 4,
    "start_time": "2021-07-13T16:59:34.761Z"
   },
   {
    "duration": 7,
    "start_time": "2021-07-13T16:59:35.497Z"
   },
   {
    "duration": 22,
    "start_time": "2021-07-13T16:59:37.993Z"
   },
   {
    "duration": 7,
    "start_time": "2021-07-13T16:59:39.873Z"
   },
   {
    "duration": 294,
    "start_time": "2021-07-13T17:01:30.952Z"
   },
   {
    "duration": 5,
    "start_time": "2021-07-13T17:01:36.512Z"
   },
   {
    "duration": 4,
    "start_time": "2021-07-13T17:01:52.208Z"
   },
   {
    "duration": 6,
    "start_time": "2021-07-13T17:01:54.800Z"
   },
   {
    "duration": 453,
    "start_time": "2021-07-13T17:02:03.993Z"
   },
   {
    "duration": 4,
    "start_time": "2021-07-13T17:02:15.888Z"
   },
   {
    "duration": 432,
    "start_time": "2021-07-13T17:02:16.503Z"
   },
   {
    "duration": 6,
    "start_time": "2021-07-13T17:02:27.975Z"
   },
   {
    "duration": 4,
    "start_time": "2021-07-13T17:07:49.309Z"
   },
   {
    "duration": 454,
    "start_time": "2021-07-13T17:07:49.740Z"
   },
   {
    "duration": 5,
    "start_time": "2021-07-13T17:09:03.251Z"
   },
   {
    "duration": 475,
    "start_time": "2021-07-13T17:09:03.660Z"
   },
   {
    "duration": 4,
    "start_time": "2021-07-13T17:09:11.469Z"
   },
   {
    "duration": 439,
    "start_time": "2021-07-13T17:09:11.820Z"
   },
   {
    "duration": 4,
    "start_time": "2021-07-13T17:09:20.204Z"
   },
   {
    "duration": 8,
    "start_time": "2021-07-13T17:09:20.875Z"
   },
   {
    "duration": 6,
    "start_time": "2021-07-13T17:09:23.428Z"
   },
   {
    "duration": 5,
    "start_time": "2021-07-13T17:09:29.211Z"
   },
   {
    "duration": 8,
    "start_time": "2021-07-13T17:09:29.563Z"
   },
   {
    "duration": 6,
    "start_time": "2021-07-13T17:09:29.923Z"
   },
   {
    "duration": 4,
    "start_time": "2021-07-13T17:09:37.804Z"
   },
   {
    "duration": 439,
    "start_time": "2021-07-13T17:09:38.179Z"
   },
   {
    "duration": 4,
    "start_time": "2021-07-13T17:09:45.724Z"
   },
   {
    "duration": 7,
    "start_time": "2021-07-13T17:09:46.075Z"
   },
   {
    "duration": 6,
    "start_time": "2021-07-13T17:09:47.411Z"
   },
   {
    "duration": 4,
    "start_time": "2021-07-13T17:10:12.740Z"
   },
   {
    "duration": 7,
    "start_time": "2021-07-13T17:10:13.242Z"
   },
   {
    "duration": 6,
    "start_time": "2021-07-13T17:10:14.130Z"
   },
   {
    "duration": 5,
    "start_time": "2021-07-13T17:10:18.178Z"
   },
   {
    "duration": 8,
    "start_time": "2021-07-13T17:10:18.530Z"
   },
   {
    "duration": 7,
    "start_time": "2021-07-13T17:10:18.858Z"
   },
   {
    "duration": 4,
    "start_time": "2021-07-13T17:10:21.460Z"
   },
   {
    "duration": 7,
    "start_time": "2021-07-13T17:10:21.738Z"
   },
   {
    "duration": 6,
    "start_time": "2021-07-13T17:10:22.018Z"
   },
   {
    "duration": 4,
    "start_time": "2021-07-13T17:10:24.539Z"
   },
   {
    "duration": 7,
    "start_time": "2021-07-13T17:10:24.834Z"
   },
   {
    "duration": 7,
    "start_time": "2021-07-13T17:10:25.202Z"
   },
   {
    "duration": 5,
    "start_time": "2021-07-13T17:10:27.706Z"
   },
   {
    "duration": 7,
    "start_time": "2021-07-13T17:10:28.002Z"
   },
   {
    "duration": 6,
    "start_time": "2021-07-13T17:10:28.275Z"
   },
   {
    "duration": 5,
    "start_time": "2021-07-13T17:10:42.619Z"
   },
   {
    "duration": 8,
    "start_time": "2021-07-13T17:10:42.906Z"
   },
   {
    "duration": 5,
    "start_time": "2021-07-13T17:10:43.179Z"
   },
   {
    "duration": 4,
    "start_time": "2021-07-13T17:10:51.771Z"
   },
   {
    "duration": 6,
    "start_time": "2021-07-13T17:10:52.066Z"
   },
   {
    "duration": 6,
    "start_time": "2021-07-13T17:10:52.930Z"
   },
   {
    "duration": 7,
    "start_time": "2021-07-13T17:12:21.108Z"
   },
   {
    "duration": 7,
    "start_time": "2021-07-13T17:12:25.050Z"
   },
   {
    "duration": 6,
    "start_time": "2021-07-13T17:12:33.626Z"
   },
   {
    "duration": 7,
    "start_time": "2021-07-13T17:12:35.386Z"
   },
   {
    "duration": 6,
    "start_time": "2021-07-13T17:12:40.849Z"
   },
   {
    "duration": 6,
    "start_time": "2021-07-13T17:12:42.290Z"
   },
   {
    "duration": 13,
    "start_time": "2021-07-13T17:12:48.217Z"
   },
   {
    "duration": 7,
    "start_time": "2021-07-13T17:12:50.010Z"
   },
   {
    "duration": 7,
    "start_time": "2021-07-13T17:12:56.170Z"
   },
   {
    "duration": 15,
    "start_time": "2021-07-13T17:12:58.394Z"
   },
   {
    "duration": 8,
    "start_time": "2021-07-13T17:12:59.450Z"
   },
   {
    "duration": 7,
    "start_time": "2021-07-13T17:13:28.041Z"
   },
   {
    "duration": 89,
    "start_time": "2021-07-13T17:13:36.320Z"
   },
   {
    "duration": 7,
    "start_time": "2021-07-13T17:13:39.457Z"
   },
   {
    "duration": 6,
    "start_time": "2021-07-13T17:38:25.771Z"
   },
   {
    "duration": 4,
    "start_time": "2021-07-13T17:38:26.755Z"
   },
   {
    "duration": 6,
    "start_time": "2021-07-13T17:38:33.877Z"
   },
   {
    "duration": 9,
    "start_time": "2021-07-13T17:38:35.180Z"
   },
   {
    "duration": 6,
    "start_time": "2021-07-13T17:38:36.419Z"
   },
   {
    "duration": 7,
    "start_time": "2021-07-13T17:38:39.899Z"
   },
   {
    "duration": 14,
    "start_time": "2021-07-13T17:38:43.125Z"
   },
   {
    "duration": 8,
    "start_time": "2021-07-13T17:38:44.619Z"
   },
   {
    "duration": 311,
    "start_time": "2021-07-13T17:38:47.373Z"
   },
   {
    "duration": 7,
    "start_time": "2021-07-13T17:50:25.435Z"
   },
   {
    "duration": 18,
    "start_time": "2021-07-13T17:50:26.397Z"
   },
   {
    "duration": 8,
    "start_time": "2021-07-13T18:20:52.842Z"
   },
   {
    "duration": 6,
    "start_time": "2021-07-13T18:21:05.698Z"
   },
   {
    "duration": 1131,
    "start_time": "2021-07-13T18:21:27.211Z"
   },
   {
    "duration": 8,
    "start_time": "2021-07-13T18:27:14.425Z"
   },
   {
    "duration": 7,
    "start_time": "2021-07-13T18:27:47.583Z"
   },
   {
    "duration": 6,
    "start_time": "2021-07-13T18:28:24.086Z"
   },
   {
    "duration": 7,
    "start_time": "2021-07-13T18:28:27.015Z"
   },
   {
    "duration": 6,
    "start_time": "2021-07-13T18:30:14.007Z"
   },
   {
    "duration": 5,
    "start_time": "2021-07-13T18:30:32.718Z"
   },
   {
    "duration": 8,
    "start_time": "2021-07-13T18:31:01.365Z"
   },
   {
    "duration": 24,
    "start_time": "2021-07-13T18:31:06.076Z"
   },
   {
    "duration": 9,
    "start_time": "2021-07-13T18:33:55.955Z"
   },
   {
    "duration": 262,
    "start_time": "2021-07-13T18:33:58.340Z"
   },
   {
    "duration": 9,
    "start_time": "2021-07-13T18:34:11.011Z"
   },
   {
    "duration": 6,
    "start_time": "2021-07-13T18:34:16.692Z"
   },
   {
    "duration": 7,
    "start_time": "2021-07-13T18:34:20.259Z"
   },
   {
    "duration": 263,
    "start_time": "2021-07-13T18:34:20.884Z"
   },
   {
    "duration": 8,
    "start_time": "2021-07-13T18:34:37.684Z"
   },
   {
    "duration": 4,
    "start_time": "2021-07-13T18:35:55.627Z"
   },
   {
    "duration": 5,
    "start_time": "2021-07-13T18:35:57.954Z"
   },
   {
    "duration": 6,
    "start_time": "2021-07-13T18:36:02.242Z"
   },
   {
    "duration": 5,
    "start_time": "2021-07-13T18:37:06.238Z"
   },
   {
    "duration": 5,
    "start_time": "2021-07-13T18:37:06.737Z"
   },
   {
    "duration": 5,
    "start_time": "2021-07-13T18:37:08.140Z"
   },
   {
    "duration": 9,
    "start_time": "2021-07-13T18:37:21.953Z"
   },
   {
    "duration": 6,
    "start_time": "2021-07-13T18:37:23.113Z"
   },
   {
    "duration": 4,
    "start_time": "2021-07-13T18:37:24.425Z"
   },
   {
    "duration": 4,
    "start_time": "2021-07-13T18:37:24.873Z"
   },
   {
    "duration": 6,
    "start_time": "2021-07-13T18:37:26.601Z"
   },
   {
    "duration": 8,
    "start_time": "2021-07-13T18:37:38.049Z"
   },
   {
    "duration": 7,
    "start_time": "2021-07-13T18:37:39.202Z"
   },
   {
    "duration": 85,
    "start_time": "2021-07-13T18:40:47.272Z"
   },
   {
    "duration": 443,
    "start_time": "2021-07-13T18:40:52.888Z"
   },
   {
    "duration": 85,
    "start_time": "2021-07-13T18:42:55.879Z"
   },
   {
    "duration": 8,
    "start_time": "2021-07-13T18:43:03.535Z"
   },
   {
    "duration": 6,
    "start_time": "2021-07-13T18:43:13.614Z"
   },
   {
    "duration": 429,
    "start_time": "2021-07-13T18:43:56.030Z"
   },
   {
    "duration": 478,
    "start_time": "2021-07-13T18:44:14.357Z"
   },
   {
    "duration": 960,
    "start_time": "2021-07-14T07:27:08.197Z"
   },
   {
    "duration": 54,
    "start_time": "2021-07-14T07:27:09.158Z"
   },
   {
    "duration": 13,
    "start_time": "2021-07-14T07:27:09.214Z"
   },
   {
    "duration": 8,
    "start_time": "2021-07-14T07:27:09.229Z"
   },
   {
    "duration": 12,
    "start_time": "2021-07-14T07:27:09.238Z"
   },
   {
    "duration": 18,
    "start_time": "2021-07-14T07:27:09.251Z"
   },
   {
    "duration": 217,
    "start_time": "2021-07-14T07:27:09.271Z"
   },
   {
    "duration": 174,
    "start_time": "2021-07-14T07:27:09.490Z"
   },
   {
    "duration": 5,
    "start_time": "2021-07-14T07:27:09.666Z"
   },
   {
    "duration": 7,
    "start_time": "2021-07-14T07:27:09.673Z"
   },
   {
    "duration": 23,
    "start_time": "2021-07-14T07:27:09.681Z"
   },
   {
    "duration": 4,
    "start_time": "2021-07-14T07:27:09.706Z"
   },
   {
    "duration": 10,
    "start_time": "2021-07-14T07:27:09.711Z"
   },
   {
    "duration": 525,
    "start_time": "2021-07-14T07:27:09.741Z"
   },
   {
    "duration": 503,
    "start_time": "2021-07-14T07:27:09.765Z"
   },
   {
    "duration": 499,
    "start_time": "2021-07-14T07:27:09.769Z"
   },
   {
    "duration": 486,
    "start_time": "2021-07-14T07:27:09.783Z"
   },
   {
    "duration": 481,
    "start_time": "2021-07-14T07:27:09.789Z"
   },
   {
    "duration": 480,
    "start_time": "2021-07-14T07:27:09.791Z"
   },
   {
    "duration": 480,
    "start_time": "2021-07-14T07:27:09.792Z"
   },
   {
    "duration": 479,
    "start_time": "2021-07-14T07:27:09.794Z"
   },
   {
    "duration": 478,
    "start_time": "2021-07-14T07:27:09.796Z"
   },
   {
    "duration": 478,
    "start_time": "2021-07-14T07:27:09.797Z"
   },
   {
    "duration": 477,
    "start_time": "2021-07-14T07:27:09.799Z"
   },
   {
    "duration": 476,
    "start_time": "2021-07-14T07:27:09.801Z"
   },
   {
    "duration": 90,
    "start_time": "2021-07-14T07:29:00.988Z"
   },
   {
    "duration": 6,
    "start_time": "2021-07-14T07:29:04.910Z"
   },
   {
    "duration": 5,
    "start_time": "2021-07-14T07:29:07.853Z"
   },
   {
    "duration": 987,
    "start_time": "2021-07-14T08:12:29.061Z"
   },
   {
    "duration": 87,
    "start_time": "2021-07-14T08:12:30.050Z"
   },
   {
    "duration": 13,
    "start_time": "2021-07-14T08:12:30.139Z"
   },
   {
    "duration": 10,
    "start_time": "2021-07-14T08:12:30.154Z"
   },
   {
    "duration": 3,
    "start_time": "2021-07-14T08:12:30.165Z"
   },
   {
    "duration": 11,
    "start_time": "2021-07-14T08:12:30.170Z"
   },
   {
    "duration": 241,
    "start_time": "2021-07-14T08:12:30.183Z"
   },
   {
    "duration": 182,
    "start_time": "2021-07-14T08:12:30.427Z"
   },
   {
    "duration": 6,
    "start_time": "2021-07-14T08:12:30.611Z"
   },
   {
    "duration": 24,
    "start_time": "2021-07-14T08:12:30.619Z"
   },
   {
    "duration": 34,
    "start_time": "2021-07-14T08:12:30.645Z"
   },
   {
    "duration": 36,
    "start_time": "2021-07-14T08:12:30.681Z"
   },
   {
    "duration": 10,
    "start_time": "2021-07-14T08:12:30.718Z"
   },
   {
    "duration": 16,
    "start_time": "2021-07-14T08:12:30.729Z"
   },
   {
    "duration": 15,
    "start_time": "2021-07-14T08:12:30.746Z"
   },
   {
    "duration": 6,
    "start_time": "2021-07-14T08:12:30.841Z"
   },
   {
    "duration": 94,
    "start_time": "2021-07-14T08:12:30.849Z"
   },
   {
    "duration": 435,
    "start_time": "2021-07-14T08:12:30.945Z"
   },
   {
    "duration": 481,
    "start_time": "2021-07-14T08:12:30.901Z"
   },
   {
    "duration": 480,
    "start_time": "2021-07-14T08:12:30.903Z"
   },
   {
    "duration": 480,
    "start_time": "2021-07-14T08:12:30.904Z"
   },
   {
    "duration": 478,
    "start_time": "2021-07-14T08:12:30.906Z"
   },
   {
    "duration": 472,
    "start_time": "2021-07-14T08:12:30.913Z"
   },
   {
    "duration": 471,
    "start_time": "2021-07-14T08:12:30.915Z"
   },
   {
    "duration": 471,
    "start_time": "2021-07-14T08:12:30.916Z"
   },
   {
    "duration": 5,
    "start_time": "2021-07-14T08:20:26.405Z"
   },
   {
    "duration": 6,
    "start_time": "2021-07-14T08:20:28.981Z"
   },
   {
    "duration": 4,
    "start_time": "2021-07-14T08:20:30.141Z"
   },
   {
    "duration": 6,
    "start_time": "2021-07-14T08:31:40.324Z"
   },
   {
    "duration": 6,
    "start_time": "2021-07-14T08:32:09.942Z"
   },
   {
    "duration": 469,
    "start_time": "2021-07-14T08:32:15.960Z"
   },
   {
    "duration": 3,
    "start_time": "2021-07-14T09:57:02.876Z"
   },
   {
    "duration": 3,
    "start_time": "2021-07-14T09:57:03.383Z"
   },
   {
    "duration": 3,
    "start_time": "2021-07-14T09:57:29.744Z"
   },
   {
    "duration": 3,
    "start_time": "2021-07-14T09:57:36.882Z"
   },
   {
    "duration": 3,
    "start_time": "2021-07-14T09:57:37.319Z"
   },
   {
    "duration": 4,
    "start_time": "2021-07-14T10:06:38.222Z"
   },
   {
    "duration": 3,
    "start_time": "2021-07-14T10:06:41.289Z"
   },
   {
    "duration": 263,
    "start_time": "2021-07-14T10:06:41.563Z"
   },
   {
    "duration": 4,
    "start_time": "2021-07-14T10:15:01.610Z"
   },
   {
    "duration": 5,
    "start_time": "2021-07-14T10:16:18.270Z"
   },
   {
    "duration": 6,
    "start_time": "2021-07-14T10:16:36.446Z"
   },
   {
    "duration": 305,
    "start_time": "2021-07-14T10:16:50.236Z"
   },
   {
    "duration": 296,
    "start_time": "2021-07-14T10:17:02.781Z"
   },
   {
    "duration": 4,
    "start_time": "2021-07-14T10:17:54.500Z"
   },
   {
    "duration": 273,
    "start_time": "2021-07-14T10:17:54.819Z"
   },
   {
    "duration": 303,
    "start_time": "2021-07-14T10:18:04.211Z"
   },
   {
    "duration": 275,
    "start_time": "2021-07-14T10:18:15.957Z"
   },
   {
    "duration": 529,
    "start_time": "2021-07-14T10:18:40.220Z"
   },
   {
    "duration": 3,
    "start_time": "2021-07-14T10:22:09.873Z"
   },
   {
    "duration": 4,
    "start_time": "2021-07-14T10:22:10.770Z"
   },
   {
    "duration": 5,
    "start_time": "2021-07-14T10:22:27.675Z"
   },
   {
    "duration": 4,
    "start_time": "2021-07-14T10:22:35.722Z"
   },
   {
    "duration": 4,
    "start_time": "2021-07-14T10:23:17.305Z"
   },
   {
    "duration": 5,
    "start_time": "2021-07-14T10:23:18.560Z"
   },
   {
    "duration": 4,
    "start_time": "2021-07-14T10:23:30.274Z"
   },
   {
    "duration": 5,
    "start_time": "2021-07-14T10:23:31.648Z"
   },
   {
    "duration": 5,
    "start_time": "2021-07-14T10:23:32.648Z"
   },
   {
    "duration": 283,
    "start_time": "2021-07-14T10:25:37.240Z"
   },
   {
    "duration": 4,
    "start_time": "2021-07-14T10:25:41.537Z"
   },
   {
    "duration": 12,
    "start_time": "2021-07-14T10:25:43.249Z"
   },
   {
    "duration": 6,
    "start_time": "2021-07-14T10:25:53.480Z"
   },
   {
    "duration": 118,
    "start_time": "2021-07-14T10:47:38.235Z"
   },
   {
    "duration": 4,
    "start_time": "2021-07-14T10:47:43.796Z"
   },
   {
    "duration": 312,
    "start_time": "2021-07-14T10:48:33.947Z"
   },
   {
    "duration": 261,
    "start_time": "2021-07-14T10:48:59.429Z"
   },
   {
    "duration": 313,
    "start_time": "2021-07-14T10:49:07.004Z"
   },
   {
    "duration": 4,
    "start_time": "2021-07-14T10:49:34.786Z"
   },
   {
    "duration": 6,
    "start_time": "2021-07-14T10:49:36.706Z"
   },
   {
    "duration": 4,
    "start_time": "2021-07-14T10:50:06.267Z"
   },
   {
    "duration": 7,
    "start_time": "2021-07-14T10:50:10.833Z"
   },
   {
    "duration": 4,
    "start_time": "2021-07-14T10:50:29.099Z"
   },
   {
    "duration": 6,
    "start_time": "2021-07-14T10:50:34.538Z"
   },
   {
    "duration": 283,
    "start_time": "2021-07-14T10:50:35.001Z"
   },
   {
    "duration": 5,
    "start_time": "2021-07-14T10:51:00.724Z"
   },
   {
    "duration": 4,
    "start_time": "2021-07-14T10:51:09.930Z"
   },
   {
    "duration": 7,
    "start_time": "2021-07-14T10:51:13.785Z"
   },
   {
    "duration": 4,
    "start_time": "2021-07-14T10:51:21.897Z"
   },
   {
    "duration": 5,
    "start_time": "2021-07-14T10:51:30.994Z"
   },
   {
    "duration": 5,
    "start_time": "2021-07-14T10:51:39.617Z"
   },
   {
    "duration": 5,
    "start_time": "2021-07-14T10:51:56.610Z"
   },
   {
    "duration": 4,
    "start_time": "2021-07-14T10:52:40.737Z"
   },
   {
    "duration": 5,
    "start_time": "2021-07-14T10:52:42.216Z"
   },
   {
    "duration": 7,
    "start_time": "2021-07-14T10:52:44.649Z"
   },
   {
    "duration": 6,
    "start_time": "2021-07-14T10:53:08.873Z"
   },
   {
    "duration": 8,
    "start_time": "2021-07-14T10:53:12.465Z"
   },
   {
    "duration": 5,
    "start_time": "2021-07-14T10:53:34.665Z"
   },
   {
    "duration": 7,
    "start_time": "2021-07-14T10:53:38.009Z"
   },
   {
    "duration": 6,
    "start_time": "2021-07-14T10:54:25.146Z"
   },
   {
    "duration": 6,
    "start_time": "2021-07-14T10:54:32.512Z"
   },
   {
    "duration": 7,
    "start_time": "2021-07-14T10:54:37.407Z"
   },
   {
    "duration": 4,
    "start_time": "2021-07-14T10:55:19.463Z"
   },
   {
    "duration": 5,
    "start_time": "2021-07-14T10:55:20.016Z"
   },
   {
    "duration": 6,
    "start_time": "2021-07-14T10:55:22.536Z"
   },
   {
    "duration": 5,
    "start_time": "2021-07-14T10:55:47.406Z"
   },
   {
    "duration": 9,
    "start_time": "2021-07-14T10:55:50.303Z"
   },
   {
    "duration": 4,
    "start_time": "2021-07-14T10:56:10.200Z"
   },
   {
    "duration": 4,
    "start_time": "2021-07-14T10:56:23.694Z"
   },
   {
    "duration": 107,
    "start_time": "2021-07-14T11:52:49.703Z"
   },
   {
    "duration": 4,
    "start_time": "2021-07-14T11:52:53.794Z"
   },
   {
    "duration": 266,
    "start_time": "2021-07-14T11:54:09.879Z"
   },
   {
    "duration": 881,
    "start_time": "2021-07-14T11:54:22.960Z"
   },
   {
    "duration": 5,
    "start_time": "2021-07-14T11:56:34.703Z"
   },
   {
    "duration": 844,
    "start_time": "2021-07-14T11:56:35.125Z"
   },
   {
    "duration": 5,
    "start_time": "2021-07-14T11:59:37.485Z"
   },
   {
    "duration": 858,
    "start_time": "2021-07-14T11:59:37.980Z"
   },
   {
    "duration": 439,
    "start_time": "2021-07-14T12:01:33.380Z"
   },
   {
    "duration": 839,
    "start_time": "2021-07-14T12:01:33.843Z"
   },
   {
    "duration": 5,
    "start_time": "2021-07-14T12:01:53.940Z"
   },
   {
    "duration": 830,
    "start_time": "2021-07-14T12:01:54.363Z"
   },
   {
    "duration": 5,
    "start_time": "2021-07-14T12:03:55.354Z"
   },
   {
    "duration": 989,
    "start_time": "2021-07-14T12:03:56.586Z"
   },
   {
    "duration": 5,
    "start_time": "2021-07-14T12:04:07.483Z"
   },
   {
    "duration": 883,
    "start_time": "2021-07-14T12:04:08.137Z"
   },
   {
    "duration": 4,
    "start_time": "2021-07-14T12:11:43.029Z"
   },
   {
    "duration": 872,
    "start_time": "2021-07-14T12:11:43.446Z"
   },
   {
    "duration": 787,
    "start_time": "2021-07-14T12:12:50.807Z"
   },
   {
    "duration": 591,
    "start_time": "2021-07-14T12:13:54.359Z"
   },
   {
    "duration": 590,
    "start_time": "2021-07-14T12:14:02.060Z"
   },
   {
    "duration": 632,
    "start_time": "2021-07-14T12:14:27.510Z"
   },
   {
    "duration": 890,
    "start_time": "2021-07-14T12:14:45.542Z"
   },
   {
    "duration": 883,
    "start_time": "2021-07-14T12:14:49.454Z"
   },
   {
    "duration": 589,
    "start_time": "2021-07-14T12:15:04.261Z"
   },
   {
    "duration": 809,
    "start_time": "2021-07-14T12:15:07.822Z"
   },
   {
    "duration": 651,
    "start_time": "2021-07-14T12:15:12.292Z"
   },
   {
    "duration": 6,
    "start_time": "2021-07-14T12:16:34.740Z"
   },
   {
    "duration": 5,
    "start_time": "2021-07-14T12:16:37.388Z"
   },
   {
    "duration": 5,
    "start_time": "2021-07-14T12:16:43.827Z"
   },
   {
    "duration": 563,
    "start_time": "2021-07-14T12:16:44.387Z"
   },
   {
    "duration": 625,
    "start_time": "2021-07-14T12:16:50.220Z"
   },
   {
    "duration": 277,
    "start_time": "2021-07-14T12:16:52.461Z"
   },
   {
    "duration": 704,
    "start_time": "2021-07-14T12:16:54.939Z"
   },
   {
    "duration": 560,
    "start_time": "2021-07-14T12:16:56.591Z"
   },
   {
    "duration": 695,
    "start_time": "2021-07-14T12:16:57.948Z"
   },
   {
    "duration": 604,
    "start_time": "2021-07-14T12:16:59.347Z"
   },
   {
    "duration": 660,
    "start_time": "2021-07-14T12:17:00.586Z"
   },
   {
    "duration": 574,
    "start_time": "2021-07-14T12:17:01.875Z"
   },
   {
    "duration": 680,
    "start_time": "2021-07-14T12:17:03.163Z"
   },
   {
    "duration": 707,
    "start_time": "2021-07-14T12:17:04.533Z"
   },
   {
    "duration": 652,
    "start_time": "2021-07-14T12:17:05.891Z"
   },
   {
    "duration": 596,
    "start_time": "2021-07-14T12:17:07.355Z"
   },
   {
    "duration": 31407,
    "start_time": "2021-07-14T12:21:53.474Z"
   },
   {
    "duration": 5,
    "start_time": "2021-07-14T12:22:53.799Z"
   },
   {
    "duration": 14260,
    "start_time": "2021-07-14T12:22:56.288Z"
   },
   {
    "duration": 14484,
    "start_time": "2021-07-14T12:23:16.664Z"
   },
   {
    "duration": 807,
    "start_time": "2021-07-14T12:23:33.873Z"
   },
   {
    "duration": 4,
    "start_time": "2021-07-14T12:24:18.569Z"
   },
   {
    "duration": 14343,
    "start_time": "2021-07-14T12:24:22.200Z"
   },
   {
    "duration": 89,
    "start_time": "2021-07-14T12:25:37.015Z"
   },
   {
    "duration": 5,
    "start_time": "2021-07-14T12:25:42.420Z"
   },
   {
    "duration": 5,
    "start_time": "2021-07-14T12:25:45.782Z"
   },
   {
    "duration": 5097,
    "start_time": "2021-07-14T12:25:46.726Z"
   },
   {
    "duration": 4,
    "start_time": "2021-07-14T12:28:18.342Z"
   },
   {
    "duration": 4,
    "start_time": "2021-07-14T12:28:22.958Z"
   },
   {
    "duration": 14620,
    "start_time": "2021-07-14T12:28:26.430Z"
   },
   {
    "duration": 892,
    "start_time": "2021-07-14T12:29:23.942Z"
   },
   {
    "duration": 4,
    "start_time": "2021-07-14T12:29:28.959Z"
   },
   {
    "duration": 1009,
    "start_time": "2021-07-14T12:29:30.332Z"
   },
   {
    "duration": 4,
    "start_time": "2021-07-14T12:29:42.709Z"
   },
   {
    "duration": 820,
    "start_time": "2021-07-14T12:29:43.108Z"
   },
   {
    "duration": 918,
    "start_time": "2021-07-14T12:29:54.918Z"
   },
   {
    "duration": 910,
    "start_time": "2021-07-14T12:30:31.213Z"
   },
   {
    "duration": 90,
    "start_time": "2021-07-14T12:32:36.939Z"
   },
   {
    "duration": 531,
    "start_time": "2021-07-14T12:32:43.819Z"
   },
   {
    "duration": 768,
    "start_time": "2021-07-14T12:33:11.874Z"
   },
   {
    "duration": 97,
    "start_time": "2021-07-14T12:33:19.558Z"
   },
   {
    "duration": 1173,
    "start_time": "2021-07-14T12:33:22.810Z"
   },
   {
    "duration": 604,
    "start_time": "2021-07-14T12:36:02.745Z"
   },
   {
    "duration": 106,
    "start_time": "2021-07-14T12:36:42.202Z"
   },
   {
    "duration": 1278,
    "start_time": "2021-07-14T12:37:12.016Z"
   },
   {
    "duration": 1007,
    "start_time": "2021-07-14T12:37:36.592Z"
   },
   {
    "duration": 87,
    "start_time": "2021-07-14T12:37:48.658Z"
   },
   {
    "duration": 679,
    "start_time": "2021-07-14T12:37:53.466Z"
   },
   {
    "duration": 14570,
    "start_time": "2021-07-14T12:38:21.273Z"
   },
   {
    "duration": 13650,
    "start_time": "2021-07-14T12:39:06.400Z"
   },
   {
    "duration": 14433,
    "start_time": "2021-07-14T12:39:24.512Z"
   },
   {
    "duration": 14557,
    "start_time": "2021-07-14T12:41:00.774Z"
   },
   {
    "duration": 14157,
    "start_time": "2021-07-14T12:41:36.894Z"
   },
   {
    "duration": 34863,
    "start_time": "2021-07-14T12:42:12.183Z"
   },
   {
    "duration": 7,
    "start_time": "2021-07-14T13:21:52.814Z"
   },
   {
    "duration": 5,
    "start_time": "2021-07-14T13:21:54.440Z"
   },
   {
    "duration": 35092,
    "start_time": "2021-07-14T13:22:26.857Z"
   },
   {
    "duration": 4,
    "start_time": "2021-07-14T13:26:26.870Z"
   },
   {
    "duration": 35077,
    "start_time": "2021-07-14T13:26:32.067Z"
   },
   {
    "duration": 36745,
    "start_time": "2021-07-14T13:27:26.902Z"
   },
   {
    "duration": 4,
    "start_time": "2021-07-14T13:28:35.236Z"
   },
   {
    "duration": 5,
    "start_time": "2021-07-14T13:28:36.091Z"
   },
   {
    "duration": 857,
    "start_time": "2021-07-14T13:28:37.372Z"
   },
   {
    "duration": 960,
    "start_time": "2021-07-14T13:28:42.468Z"
   },
   {
    "duration": 5,
    "start_time": "2021-07-14T13:29:24.316Z"
   },
   {
    "duration": 881,
    "start_time": "2021-07-14T13:29:25.532Z"
   },
   {
    "duration": 5,
    "start_time": "2021-07-14T13:29:50.940Z"
   },
   {
    "duration": 5,
    "start_time": "2021-07-14T13:29:54.212Z"
   },
   {
    "duration": 35440,
    "start_time": "2021-07-14T13:29:54.701Z"
   },
   {
    "duration": 36265,
    "start_time": "2021-07-14T13:37:28.584Z"
   },
   {
    "duration": 31974,
    "start_time": "2021-07-14T13:40:36.646Z"
   },
   {
    "duration": 945,
    "start_time": "2021-07-14T13:41:19.320Z"
   },
   {
    "duration": 818,
    "start_time": "2021-07-14T13:41:52.901Z"
   },
   {
    "duration": 945,
    "start_time": "2021-07-14T13:42:08.685Z"
   },
   {
    "duration": 14076,
    "start_time": "2021-07-14T13:42:29.365Z"
   },
   {
    "duration": 14137,
    "start_time": "2021-07-14T13:42:48.214Z"
   },
   {
    "duration": 14265,
    "start_time": "2021-07-14T13:43:18.877Z"
   },
   {
    "duration": 14497,
    "start_time": "2021-07-14T13:43:37.644Z"
   },
   {
    "duration": 12372,
    "start_time": "2021-07-14T13:44:06.085Z"
   },
   {
    "duration": 86,
    "start_time": "2021-07-14T13:44:40.548Z"
   },
   {
    "duration": 13746,
    "start_time": "2021-07-14T13:44:45.004Z"
   },
   {
    "duration": 13734,
    "start_time": "2021-07-14T13:45:04.915Z"
   },
   {
    "duration": 14973,
    "start_time": "2021-07-14T13:45:25.668Z"
   },
   {
    "duration": 14235,
    "start_time": "2021-07-14T13:45:43.707Z"
   },
   {
    "duration": 13863,
    "start_time": "2021-07-14T13:46:01.387Z"
   },
   {
    "duration": 14267,
    "start_time": "2021-07-14T13:46:17.780Z"
   },
   {
    "duration": 14199,
    "start_time": "2021-07-14T13:46:42.150Z"
   },
   {
    "duration": 14372,
    "start_time": "2021-07-14T13:47:02.578Z"
   },
   {
    "duration": 790,
    "start_time": "2021-07-14T13:48:37.203Z"
   },
   {
    "duration": 14178,
    "start_time": "2021-07-14T13:48:58.673Z"
   },
   {
    "duration": 7440,
    "start_time": "2021-07-14T13:52:15.104Z"
   },
   {
    "duration": 7362,
    "start_time": "2021-07-14T13:53:02.180Z"
   },
   {
    "duration": 5,
    "start_time": "2021-07-14T13:53:48.367Z"
   },
   {
    "duration": 7483,
    "start_time": "2021-07-14T13:53:52.462Z"
   },
   {
    "duration": 7034,
    "start_time": "2021-07-14T13:54:36.216Z"
   },
   {
    "duration": 4,
    "start_time": "2021-07-14T13:55:04.494Z"
   },
   {
    "duration": 7075,
    "start_time": "2021-07-14T13:55:05.974Z"
   },
   {
    "duration": 5,
    "start_time": "2021-07-14T14:01:33.576Z"
   },
   {
    "duration": 5,
    "start_time": "2021-07-14T14:01:35.482Z"
   },
   {
    "duration": 4,
    "start_time": "2021-07-14T14:02:03.736Z"
   },
   {
    "duration": 5,
    "start_time": "2021-07-14T14:02:04.937Z"
   },
   {
    "duration": 4,
    "start_time": "2021-07-14T14:34:39.441Z"
   },
   {
    "duration": 7168,
    "start_time": "2021-07-14T14:34:41.273Z"
   },
   {
    "duration": 6,
    "start_time": "2021-07-14T14:42:55.716Z"
   },
   {
    "duration": 280,
    "start_time": "2021-07-14T14:43:08.685Z"
   },
   {
    "duration": 95,
    "start_time": "2021-07-14T14:45:09.340Z"
   },
   {
    "duration": 277,
    "start_time": "2021-07-14T14:45:18.436Z"
   },
   {
    "duration": 706,
    "start_time": "2021-07-14T14:45:30.100Z"
   },
   {
    "duration": 12,
    "start_time": "2021-07-14T14:46:04.986Z"
   },
   {
    "duration": 299,
    "start_time": "2021-07-14T14:46:31.900Z"
   },
   {
    "duration": 14,
    "start_time": "2021-07-14T14:46:37.731Z"
   },
   {
    "duration": 17,
    "start_time": "2021-07-14T14:53:17.966Z"
   },
   {
    "duration": 14,
    "start_time": "2021-07-14T14:53:25.694Z"
   },
   {
    "duration": 16,
    "start_time": "2021-07-14T14:53:28.443Z"
   },
   {
    "duration": 13,
    "start_time": "2021-07-14T14:53:31.519Z"
   },
   {
    "duration": 10,
    "start_time": "2021-07-14T14:53:32.990Z"
   },
   {
    "duration": 771,
    "start_time": "2021-07-14T14:57:33.808Z"
   },
   {
    "duration": 4,
    "start_time": "2021-07-14T14:57:50.596Z"
   },
   {
    "duration": 773,
    "start_time": "2021-07-14T14:57:52.203Z"
   },
   {
    "duration": 852,
    "start_time": "2021-07-14T14:59:08.243Z"
   },
   {
    "duration": 4,
    "start_time": "2021-07-14T14:59:42.444Z"
   },
   {
    "duration": 762,
    "start_time": "2021-07-14T14:59:44.027Z"
   },
   {
    "duration": 7115,
    "start_time": "2021-07-14T15:00:18.435Z"
   },
   {
    "duration": 6856,
    "start_time": "2021-07-14T15:00:46.086Z"
   },
   {
    "duration": 6953,
    "start_time": "2021-07-14T15:01:05.796Z"
   },
   {
    "duration": 7100,
    "start_time": "2021-07-14T15:01:48.650Z"
   },
   {
    "duration": 3,
    "start_time": "2021-07-14T15:12:12.862Z"
   },
   {
    "duration": 6,
    "start_time": "2021-07-14T15:12:28.130Z"
   },
   {
    "duration": 6,
    "start_time": "2021-07-14T15:12:29.948Z"
   },
   {
    "duration": 798,
    "start_time": "2021-07-14T15:12:57.068Z"
   },
   {
    "duration": 797,
    "start_time": "2021-07-14T15:14:06.188Z"
   },
   {
    "duration": 7536,
    "start_time": "2021-07-14T15:14:46.115Z"
   },
   {
    "duration": 11,
    "start_time": "2021-07-14T15:15:06.435Z"
   },
   {
    "duration": 6,
    "start_time": "2021-07-14T15:15:07.050Z"
   },
   {
    "duration": 7152,
    "start_time": "2021-07-14T15:16:46.690Z"
   },
   {
    "duration": 522,
    "start_time": "2021-07-14T15:21:20.430Z"
   },
   {
    "duration": 274,
    "start_time": "2021-07-14T15:21:21.760Z"
   },
   {
    "duration": 518,
    "start_time": "2021-07-14T15:21:30.629Z"
   },
   {
    "duration": 5,
    "start_time": "2021-07-14T15:21:31.662Z"
   },
   {
    "duration": 6,
    "start_time": "2021-07-14T15:21:41.575Z"
   },
   {
    "duration": 793,
    "start_time": "2021-07-14T15:22:45.598Z"
   },
   {
    "duration": 704,
    "start_time": "2021-07-14T15:22:56.502Z"
   },
   {
    "duration": 776,
    "start_time": "2021-07-14T15:23:23.846Z"
   },
   {
    "duration": 344,
    "start_time": "2021-07-14T15:24:09.813Z"
   },
   {
    "duration": 4,
    "start_time": "2021-07-14T15:24:10.734Z"
   },
   {
    "duration": 545,
    "start_time": "2021-07-14T15:24:12.798Z"
   },
   {
    "duration": 10,
    "start_time": "2021-07-14T15:24:13.345Z"
   },
   {
    "duration": 1174,
    "start_time": "2021-07-14T15:24:14.573Z"
   },
   {
    "duration": 93,
    "start_time": "2021-07-14T15:24:15.750Z"
   },
   {
    "duration": 7056,
    "start_time": "2021-07-14T15:24:20.286Z"
   },
   {
    "duration": 7273,
    "start_time": "2021-07-14T15:24:30.869Z"
   },
   {
    "duration": 3,
    "start_time": "2021-07-14T15:27:25.930Z"
   },
   {
    "duration": 4,
    "start_time": "2021-07-14T15:27:27.102Z"
   },
   {
    "duration": 7,
    "start_time": "2021-07-14T15:27:30.612Z"
   },
   {
    "duration": 1746,
    "start_time": "2021-07-14T15:31:18.896Z"
   },
   {
    "duration": 5,
    "start_time": "2021-07-14T15:31:20.645Z"
   },
   {
    "duration": 14783,
    "start_time": "2021-07-14T15:31:24.658Z"
   },
   {
    "duration": 6,
    "start_time": "2021-07-14T15:31:40.778Z"
   },
   {
    "duration": 1634,
    "start_time": "2021-07-14T15:33:57.115Z"
   },
   {
    "duration": 4,
    "start_time": "2021-07-14T15:33:59.594Z"
   },
   {
    "duration": 4,
    "start_time": "2021-07-14T15:45:29.839Z"
   },
   {
    "duration": 2654,
    "start_time": "2021-07-14T15:45:34.986Z"
   },
   {
    "duration": 6,
    "start_time": "2021-07-14T15:45:37.644Z"
   },
   {
    "duration": 981,
    "start_time": "2021-07-14T16:02:16.365Z"
   },
   {
    "duration": 89,
    "start_time": "2021-07-14T16:02:17.348Z"
   },
   {
    "duration": 19,
    "start_time": "2021-07-14T16:02:17.439Z"
   },
   {
    "duration": 8,
    "start_time": "2021-07-14T16:02:17.460Z"
   },
   {
    "duration": 5,
    "start_time": "2021-07-14T16:02:17.470Z"
   },
   {
    "duration": 8,
    "start_time": "2021-07-14T16:02:17.477Z"
   },
   {
    "duration": 233,
    "start_time": "2021-07-14T16:02:17.487Z"
   },
   {
    "duration": 183,
    "start_time": "2021-07-14T16:02:17.723Z"
   },
   {
    "duration": 5,
    "start_time": "2021-07-14T16:02:17.907Z"
   },
   {
    "duration": 8,
    "start_time": "2021-07-14T16:02:17.914Z"
   },
   {
    "duration": 34,
    "start_time": "2021-07-14T16:02:17.923Z"
   },
   {
    "duration": 5,
    "start_time": "2021-07-14T16:02:17.958Z"
   },
   {
    "duration": 13,
    "start_time": "2021-07-14T16:02:17.964Z"
   },
   {
    "duration": 14,
    "start_time": "2021-07-14T16:02:17.979Z"
   },
   {
    "duration": 7403,
    "start_time": "2021-07-14T16:02:18.041Z"
   },
   {
    "duration": 5,
    "start_time": "2021-07-14T16:02:25.448Z"
   },
   {
    "duration": 5,
    "start_time": "2021-07-14T16:02:25.542Z"
   },
   {
    "duration": 97,
    "start_time": "2021-07-14T16:02:25.550Z"
   },
   {
    "duration": 8,
    "start_time": "2021-07-14T16:02:25.740Z"
   },
   {
    "duration": 2999,
    "start_time": "2021-07-14T16:02:25.751Z"
   },
   {
    "duration": 96,
    "start_time": "2021-07-14T16:02:28.752Z"
   },
   {
    "duration": 1337,
    "start_time": "2021-07-14T16:03:29.715Z"
   },
   {
    "duration": 55,
    "start_time": "2021-07-14T16:03:31.054Z"
   },
   {
    "duration": 15,
    "start_time": "2021-07-14T16:03:31.111Z"
   },
   {
    "duration": 21,
    "start_time": "2021-07-14T16:03:31.128Z"
   },
   {
    "duration": 16,
    "start_time": "2021-07-14T16:03:31.151Z"
   },
   {
    "duration": 18,
    "start_time": "2021-07-14T16:03:31.169Z"
   },
   {
    "duration": 225,
    "start_time": "2021-07-14T16:03:31.189Z"
   },
   {
    "duration": 188,
    "start_time": "2021-07-14T16:03:31.417Z"
   },
   {
    "duration": 6,
    "start_time": "2021-07-14T16:03:31.606Z"
   },
   {
    "duration": 26,
    "start_time": "2021-07-14T16:03:31.613Z"
   },
   {
    "duration": 33,
    "start_time": "2021-07-14T16:03:31.641Z"
   },
   {
    "duration": 11,
    "start_time": "2021-07-14T16:03:31.675Z"
   },
   {
    "duration": 18,
    "start_time": "2021-07-14T16:03:31.688Z"
   },
   {
    "duration": 38,
    "start_time": "2021-07-14T16:03:31.707Z"
   },
   {
    "duration": 7398,
    "start_time": "2021-07-14T16:03:31.747Z"
   },
   {
    "duration": 4,
    "start_time": "2021-07-14T16:03:39.147Z"
   },
   {
    "duration": 8,
    "start_time": "2021-07-14T16:03:39.242Z"
   },
   {
    "duration": 191,
    "start_time": "2021-07-14T16:03:39.253Z"
   },
   {
    "duration": 95,
    "start_time": "2021-07-14T16:03:39.446Z"
   },
   {
    "duration": 7521,
    "start_time": "2021-07-14T16:03:39.543Z"
   },
   {
    "duration": 4,
    "start_time": "2021-07-14T16:03:47.141Z"
   }
  ],
  "kernelspec": {
   "display_name": "Python 3",
   "language": "python",
   "name": "python3"
  },
  "language_info": {
   "codemirror_mode": {
    "name": "ipython",
    "version": 3
   },
   "file_extension": ".py",
   "mimetype": "text/x-python",
   "name": "python",
   "nbconvert_exporter": "python",
   "pygments_lexer": "ipython3",
   "version": "3.7.8"
  },
  "toc": {
   "base_numbering": 1,
   "nav_menu": {},
   "number_sections": true,
   "sideBar": true,
   "skip_h1_title": true,
   "title_cell": "Содержание",
   "title_sidebar": "Contents",
   "toc_cell": true,
   "toc_position": {
    "height": "calc(100% - 180px)",
    "left": "10px",
    "top": "150px",
    "width": "358.391px"
   },
   "toc_section_display": true,
   "toc_window_display": true
  }
 },
 "nbformat": 4,
 "nbformat_minor": 2
}