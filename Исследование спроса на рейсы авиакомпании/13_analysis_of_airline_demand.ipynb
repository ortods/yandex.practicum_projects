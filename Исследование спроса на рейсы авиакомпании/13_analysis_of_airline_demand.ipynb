{
 "cells": [
  {
   "cell_type": "markdown",
   "metadata": {
    "toc": true
   },
   "source": [
    "<h1>Содержание<span class=\"tocSkip\"></span></h1>\n",
    "<div class=\"toc\"><ul class=\"toc-item\"><li><span><a href=\"#Аналитика\" data-toc-modified-id=\"Аналитика-1\"><span class=\"toc-item-num\">1&nbsp;&nbsp;</span>Аналитика</a></span><ul class=\"toc-item\"><li><span><a href=\"#Импорт-данных.\" data-toc-modified-id=\"Импорт-данных.-1.1\"><span class=\"toc-item-num\">1.1&nbsp;&nbsp;</span>Импорт данных.</a></span></li><li><span><a href=\"#Изучение-данных\" data-toc-modified-id=\"Изучение-данных-1.2\"><span class=\"toc-item-num\">1.2&nbsp;&nbsp;</span>Изучение данных</a></span></li><li><span><a href=\"#Проверка-типов-данных-на-корректность\" data-toc-modified-id=\"Проверка-типов-данных-на-корректность-1.3\"><span class=\"toc-item-num\">1.3&nbsp;&nbsp;</span>Проверка типов данных на корректность</a></span></li><li><span><a href=\"#Топ-10-городов-по-количеству-рейсов\" data-toc-modified-id=\"Топ-10-городов-по-количеству-рейсов-1.4\"><span class=\"toc-item-num\">1.4&nbsp;&nbsp;</span>Топ-10 городов по количеству рейсов</a></span></li><li><span><a href=\"#Построим-графики\" data-toc-modified-id=\"Построим-графики-1.5\"><span class=\"toc-item-num\">1.5&nbsp;&nbsp;</span>Построим графики</a></span><ul class=\"toc-item\"><li><span><a href=\"#График-моделей-самолётов-и-количества-рейсов\" data-toc-modified-id=\"График-моделей-самолётов-и-количества-рейсов-1.5.1\"><span class=\"toc-item-num\">1.5.1&nbsp;&nbsp;</span>График моделей самолётов и количества рейсов</a></span></li><li><span><a href=\"#График-городов-и-количества-рейсов\" data-toc-modified-id=\"График-городов-и-количества-рейсов-1.5.2\"><span class=\"toc-item-num\">1.5.2&nbsp;&nbsp;</span>График городов и количества рейсов</a></span></li><li><span><a href=\"#Топ-10-городов-по-количеству-рейсов-и-количество-рейсов-в-них\" data-toc-modified-id=\"Топ-10-городов-по-количеству-рейсов-и-количество-рейсов-в-них-1.5.3\"><span class=\"toc-item-num\">1.5.3&nbsp;&nbsp;</span>Топ-10 городов по количеству рейсов и количество рейсов в них</a></span></li></ul></li></ul></li><li><span><a href=\"#Вывод\" data-toc-modified-id=\"Вывод-2\"><span class=\"toc-item-num\">2&nbsp;&nbsp;</span>Вывод</a></span></li></ul></div>"
   ]
  },
  {
   "cell_type": "markdown",
   "metadata": {},
   "source": [
    "# Спрос на рейсы авиакомпании"
   ]
  },
  {
   "cell_type": "markdown",
   "metadata": {},
   "source": [
    "Для развития компании, которая выполняет внутренние пассажирские перевозки важно понять предпочтения пользователей, покупающих билеты на разные направления.  \n",
    "Необходимо изучить базу данных и проанализировать спрос пассажиров на рейсы в города, где проходят крупнейшие фестивали"
   ]
  },
  {
   "cell_type": "markdown",
   "metadata": {},
   "source": [
    "**Цель:**  \n",
    "Изучить базу данных авиаперевозок и проанализировать спрос пассажиров на рейсы в города, где проходят крупнейшие культурные фестивали."
   ]
  },
  {
   "cell_type": "markdown",
   "metadata": {},
   "source": [
    "**Описание данных**  \n",
    "База данных об авиаперевозках состоит из нескольких таблиц.  \n",
    "\n",
    "Таблица airports — информация об аэропортах:\n",
    "- airport_code — трёхбуквенный код аэропорта,\n",
    "- airport_name — название аэропорта,\n",
    "- city — город,\n",
    "- timezone — временная зона.  \n",
    "\n",
    "Таблица aircrafts — информация о самолётах:\n",
    "- aircraft_code — код модели самолёта,\n",
    "- model — модель самолёта,\n",
    "- range — дальность полёта.  \n",
    "\n",
    "Таблица tickets — информация о билетах:\n",
    "- ticket_no — уникальный номер билета,\n",
    "- passenger_id — персональный идентификатор пассажира,\n",
    "- passenger_name — имя и фамилия пассажира.  \n",
    "\n",
    "Таблица flights — информация о рейсах:\n",
    "- flight_id — уникальный идентификатор рейса,\n",
    "- departure_airport — аэропорт вылета,\n",
    "- departure_time — дата и время вылета,\n",
    "- arrival_airport — аэропорт прилёта,\n",
    "- arrival_time — дата и время прилёта,\n",
    "- aircraft_code — id самолёта.  \n",
    "\n",
    "Таблица ticket_flights — стыковая таблица «рейсы-билеты»\n",
    "- ticket_no — номер билета,\n",
    "- flight_id — идентификатор рейса.  \n",
    "\n",
    "Таблица festivals — информация о фестивалях\n",
    "- festival_id — уникальный номер фестиваля,\n",
    "- festival_date — дата проведения фестиваля,\n",
    "- festival_city — город проведения фестиваля,\n",
    "- festival_name — название фестиваля."
   ]
  },
  {
   "cell_type": "markdown",
   "metadata": {},
   "source": [
    "<h1><center>Схема таблиц</center></h1>\n",
    "\n",
    "![](https://pictures.s3.yandex.net/resources/PK_FK_weather_1603199319.jpg)\n"
   ]
  },
  {
   "cell_type": "markdown",
   "metadata": {},
   "source": [
    "Для получения данных из таблиц напишем следующие SQL запросы."
   ]
  },
  {
   "cell_type": "markdown",
   "metadata": {},
   "source": [
    "**--Код первого запроса:**  \n",
    "SELECT \n",
    "    \n",
    "    aircrafts.model,   \n",
    "    COUNT(flights.flight_id) AS flights_amount\n",
    "    \n",
    "FROM \n",
    "    \n",
    "    aircrafts\n",
    "    INNER JOIN flights ON aircrafts.aircraft_code = flights.aircraft_code\n",
    "WHERE \n",
    "    \n",
    "    flights.departure_time :: date BETWEEN '2018-09-01' AND  '2018-09-30'  \n",
    "GROUP BY  \n",
    "    \n",
    "    aircrafts.model;"
   ]
  },
  {
   "cell_type": "markdown",
   "metadata": {},
   "source": [
    "**query_1.csv** — результат первого запроса. В нём содержится такая информация:\n",
    "\n",
    "- *model* — модель самолета;\n",
    "- *flights_amount* — количество рейсов для каждой модели самолетов *model* в сентябре 2018 года."
   ]
  },
  {
   "cell_type": "markdown",
   "metadata": {},
   "source": [
    "**-- Код третьего запроса:**  \n",
    "SELECT  \n",
    "    \n",
    "    airports.city,\n",
    "    avg(flights.flight_id) AS average_flights\n",
    "FROM \n",
    "    \n",
    "    flights \n",
    "    JOIN airports ON airports.airport_code = flights.arrival_airport\n",
    "WHERE  \n",
    "    \n",
    "    flights.arrival_time :: date  BETWEEN '2018-08-01' AND '2018-08-31'\n",
    "GROUP BY \n",
    "    \n",
    "    airports.city,\n",
    "    extract(DAY FROM flights.arrival_time :: date);"
   ]
  },
  {
   "cell_type": "markdown",
   "metadata": {},
   "source": [
    "**query_3.csv** — результат третьего запроса. В нём содержится такая информация:\n",
    "\n",
    "- *city* — город;\n",
    "- *average_flights* — среднее количество рейсов, прибывающих в город (*city*) за день в сентябре 2018 года."
   ]
  },
  {
   "cell_type": "markdown",
   "metadata": {},
   "source": [
    "**Задачи:**\n",
    "- изучить данные;\n",
    "- проверить типы данных на корректность;\n",
    "- выбрать топ-10 городов по количеству рейсов;\n",
    "- построить графики: модели самолётов и количество рейсов, города и количество рейсов, топ-10 городов и количество рейсов;\n",
    "- сделать выводы по каждому из графиков."
   ]
  },
  {
   "cell_type": "markdown",
   "metadata": {},
   "source": [
    "## Аналитика"
   ]
  },
  {
   "cell_type": "code",
   "execution_count": 1,
   "metadata": {},
   "outputs": [],
   "source": [
    "import pandas as pd\n",
    "import seaborn as sns\n",
    "import matplotlib.pyplot as plt"
   ]
  },
  {
   "cell_type": "markdown",
   "metadata": {},
   "source": [
    "### Импорт данных."
   ]
  },
  {
   "cell_type": "code",
   "execution_count": 2,
   "metadata": {},
   "outputs": [],
   "source": [
    "query_1 = pd.read_csv('/datasets/query_1.csv')\n",
    "query_3 = pd.read_csv('/datasets/query_3.csv')"
   ]
  },
  {
   "cell_type": "markdown",
   "metadata": {},
   "source": [
    "### Изучение данных"
   ]
  },
  {
   "cell_type": "markdown",
   "metadata": {},
   "source": [
    "Первый срез данных."
   ]
  },
  {
   "cell_type": "code",
   "execution_count": 3,
   "metadata": {},
   "outputs": [
    {
     "data": {
      "text/html": [
       "<div>\n",
       "<style scoped>\n",
       "    .dataframe tbody tr th:only-of-type {\n",
       "        vertical-align: middle;\n",
       "    }\n",
       "\n",
       "    .dataframe tbody tr th {\n",
       "        vertical-align: top;\n",
       "    }\n",
       "\n",
       "    .dataframe thead th {\n",
       "        text-align: right;\n",
       "    }\n",
       "</style>\n",
       "<table border=\"1\" class=\"dataframe\">\n",
       "  <thead>\n",
       "    <tr style=\"text-align: right;\">\n",
       "      <th></th>\n",
       "      <th>model</th>\n",
       "      <th>flights_amount</th>\n",
       "    </tr>\n",
       "  </thead>\n",
       "  <tbody>\n",
       "    <tr>\n",
       "      <td>0</td>\n",
       "      <td>Airbus A319-100</td>\n",
       "      <td>607</td>\n",
       "    </tr>\n",
       "    <tr>\n",
       "      <td>1</td>\n",
       "      <td>Airbus A321-200</td>\n",
       "      <td>960</td>\n",
       "    </tr>\n",
       "    <tr>\n",
       "      <td>2</td>\n",
       "      <td>Boeing 737-300</td>\n",
       "      <td>630</td>\n",
       "    </tr>\n",
       "    <tr>\n",
       "      <td>3</td>\n",
       "      <td>Boeing 767-300</td>\n",
       "      <td>600</td>\n",
       "    </tr>\n",
       "    <tr>\n",
       "      <td>4</td>\n",
       "      <td>Boeing 777-300</td>\n",
       "      <td>300</td>\n",
       "    </tr>\n",
       "    <tr>\n",
       "      <td>5</td>\n",
       "      <td>Bombardier CRJ-200</td>\n",
       "      <td>4446</td>\n",
       "    </tr>\n",
       "    <tr>\n",
       "      <td>6</td>\n",
       "      <td>Cessna 208 Caravan</td>\n",
       "      <td>4557</td>\n",
       "    </tr>\n",
       "    <tr>\n",
       "      <td>7</td>\n",
       "      <td>Sukhoi SuperJet-100</td>\n",
       "      <td>4185</td>\n",
       "    </tr>\n",
       "  </tbody>\n",
       "</table>\n",
       "</div>"
      ],
      "text/plain": [
       "                 model  flights_amount\n",
       "0      Airbus A319-100             607\n",
       "1      Airbus A321-200             960\n",
       "2       Boeing 737-300             630\n",
       "3       Boeing 767-300             600\n",
       "4       Boeing 777-300             300\n",
       "5   Bombardier CRJ-200            4446\n",
       "6   Cessna 208 Caravan            4557\n",
       "7  Sukhoi SuperJet-100            4185"
      ]
     },
     "execution_count": 3,
     "metadata": {},
     "output_type": "execute_result"
    }
   ],
   "source": [
    "query_1"
   ]
  },
  {
   "cell_type": "code",
   "execution_count": 4,
   "metadata": {
    "scrolled": true
   },
   "outputs": [
    {
     "data": {
      "text/html": [
       "<div>\n",
       "<style scoped>\n",
       "    .dataframe tbody tr th:only-of-type {\n",
       "        vertical-align: middle;\n",
       "    }\n",
       "\n",
       "    .dataframe tbody tr th {\n",
       "        vertical-align: top;\n",
       "    }\n",
       "\n",
       "    .dataframe thead th {\n",
       "        text-align: right;\n",
       "    }\n",
       "</style>\n",
       "<table border=\"1\" class=\"dataframe\">\n",
       "  <thead>\n",
       "    <tr style=\"text-align: right;\">\n",
       "      <th></th>\n",
       "      <th>flights_amount</th>\n",
       "    </tr>\n",
       "  </thead>\n",
       "  <tbody>\n",
       "    <tr>\n",
       "      <td>count</td>\n",
       "      <td>8.000000</td>\n",
       "    </tr>\n",
       "    <tr>\n",
       "      <td>mean</td>\n",
       "      <td>2035.625000</td>\n",
       "    </tr>\n",
       "    <tr>\n",
       "      <td>std</td>\n",
       "      <td>1965.203947</td>\n",
       "    </tr>\n",
       "    <tr>\n",
       "      <td>min</td>\n",
       "      <td>300.000000</td>\n",
       "    </tr>\n",
       "    <tr>\n",
       "      <td>25%</td>\n",
       "      <td>605.250000</td>\n",
       "    </tr>\n",
       "    <tr>\n",
       "      <td>50%</td>\n",
       "      <td>795.000000</td>\n",
       "    </tr>\n",
       "    <tr>\n",
       "      <td>75%</td>\n",
       "      <td>4250.250000</td>\n",
       "    </tr>\n",
       "    <tr>\n",
       "      <td>max</td>\n",
       "      <td>4557.000000</td>\n",
       "    </tr>\n",
       "  </tbody>\n",
       "</table>\n",
       "</div>"
      ],
      "text/plain": [
       "       flights_amount\n",
       "count        8.000000\n",
       "mean      2035.625000\n",
       "std       1965.203947\n",
       "min        300.000000\n",
       "25%        605.250000\n",
       "50%        795.000000\n",
       "75%       4250.250000\n",
       "max       4557.000000"
      ]
     },
     "execution_count": 4,
     "metadata": {},
     "output_type": "execute_result"
    }
   ],
   "source": [
    "query_1.describe()"
   ]
  },
  {
   "cell_type": "markdown",
   "metadata": {},
   "source": [
    "Выведем сколько всего совершено рейсов."
   ]
  },
  {
   "cell_type": "code",
   "execution_count": 5,
   "metadata": {},
   "outputs": [
    {
     "data": {
      "text/plain": [
       "16285"
      ]
     },
     "execution_count": 5,
     "metadata": {},
     "output_type": "execute_result"
    }
   ],
   "source": [
    "flights_sum = query_1['flights_amount'].sum()\n",
    "flights_sum"
   ]
  },
  {
   "cell_type": "markdown",
   "metadata": {},
   "source": [
    "Выведем сколько рейсов приходится на топ-3 моделей самолетов по количеству рейсов. "
   ]
  },
  {
   "cell_type": "code",
   "execution_count": 6,
   "metadata": {},
   "outputs": [
    {
     "data": {
      "text/plain": [
       "13188"
      ]
     },
     "execution_count": 6,
     "metadata": {},
     "output_type": "execute_result"
    }
   ],
   "source": [
    "flights_top_3_sum = query_1['flights_amount'].sort_values(ascending=False).head(3).sum()\n",
    "flights_top_3_sum"
   ]
  },
  {
   "cell_type": "markdown",
   "metadata": {},
   "source": [
    "Посчитаем долю рейсов для топ-3 моделей самолетов."
   ]
  },
  {
   "cell_type": "code",
   "execution_count": 7,
   "metadata": {},
   "outputs": [
    {
     "data": {
      "text/plain": [
       "80.98249923242248"
      ]
     },
     "execution_count": 7,
     "metadata": {},
     "output_type": "execute_result"
    }
   ],
   "source": [
    "flights_top_3_sum / flights_sum * 100"
   ]
  },
  {
   "cell_type": "markdown",
   "metadata": {},
   "source": [
    "Второй срез данных."
   ]
  },
  {
   "cell_type": "code",
   "execution_count": 8,
   "metadata": {
    "scrolled": false
   },
   "outputs": [
    {
     "data": {
      "text/html": [
       "<div>\n",
       "<style scoped>\n",
       "    .dataframe tbody tr th:only-of-type {\n",
       "        vertical-align: middle;\n",
       "    }\n",
       "\n",
       "    .dataframe tbody tr th {\n",
       "        vertical-align: top;\n",
       "    }\n",
       "\n",
       "    .dataframe thead th {\n",
       "        text-align: right;\n",
       "    }\n",
       "</style>\n",
       "<table border=\"1\" class=\"dataframe\">\n",
       "  <thead>\n",
       "    <tr style=\"text-align: right;\">\n",
       "      <th></th>\n",
       "      <th>city</th>\n",
       "      <th>average_flights</th>\n",
       "    </tr>\n",
       "  </thead>\n",
       "  <tbody>\n",
       "    <tr>\n",
       "      <td>0</td>\n",
       "      <td>Абакан</td>\n",
       "      <td>3.870968</td>\n",
       "    </tr>\n",
       "    <tr>\n",
       "      <td>1</td>\n",
       "      <td>Анадырь</td>\n",
       "      <td>1.000000</td>\n",
       "    </tr>\n",
       "    <tr>\n",
       "      <td>2</td>\n",
       "      <td>Анапа</td>\n",
       "      <td>2.161290</td>\n",
       "    </tr>\n",
       "    <tr>\n",
       "      <td>3</td>\n",
       "      <td>Архангельск</td>\n",
       "      <td>5.354839</td>\n",
       "    </tr>\n",
       "    <tr>\n",
       "      <td>4</td>\n",
       "      <td>Астрахань</td>\n",
       "      <td>2.451613</td>\n",
       "    </tr>\n",
       "    <tr>\n",
       "      <td>...</td>\n",
       "      <td>...</td>\n",
       "      <td>...</td>\n",
       "    </tr>\n",
       "    <tr>\n",
       "      <td>96</td>\n",
       "      <td>Чита</td>\n",
       "      <td>1.580645</td>\n",
       "    </tr>\n",
       "    <tr>\n",
       "      <td>97</td>\n",
       "      <td>Элиста</td>\n",
       "      <td>4.870968</td>\n",
       "    </tr>\n",
       "    <tr>\n",
       "      <td>98</td>\n",
       "      <td>Южно-Сахалинск</td>\n",
       "      <td>4.290323</td>\n",
       "    </tr>\n",
       "    <tr>\n",
       "      <td>99</td>\n",
       "      <td>Якутск</td>\n",
       "      <td>2.741935</td>\n",
       "    </tr>\n",
       "    <tr>\n",
       "      <td>100</td>\n",
       "      <td>Ярославль</td>\n",
       "      <td>1.322581</td>\n",
       "    </tr>\n",
       "  </tbody>\n",
       "</table>\n",
       "<p>101 rows × 2 columns</p>\n",
       "</div>"
      ],
      "text/plain": [
       "               city  average_flights\n",
       "0            Абакан         3.870968\n",
       "1           Анадырь         1.000000\n",
       "2             Анапа         2.161290\n",
       "3       Архангельск         5.354839\n",
       "4         Астрахань         2.451613\n",
       "..              ...              ...\n",
       "96             Чита         1.580645\n",
       "97           Элиста         4.870968\n",
       "98   Южно-Сахалинск         4.290323\n",
       "99           Якутск         2.741935\n",
       "100       Ярославль         1.322581\n",
       "\n",
       "[101 rows x 2 columns]"
      ]
     },
     "execution_count": 8,
     "metadata": {},
     "output_type": "execute_result"
    }
   ],
   "source": [
    "query_3"
   ]
  },
  {
   "cell_type": "code",
   "execution_count": 9,
   "metadata": {
    "scrolled": true
   },
   "outputs": [
    {
     "data": {
      "text/html": [
       "<div>\n",
       "<style scoped>\n",
       "    .dataframe tbody tr th:only-of-type {\n",
       "        vertical-align: middle;\n",
       "    }\n",
       "\n",
       "    .dataframe tbody tr th {\n",
       "        vertical-align: top;\n",
       "    }\n",
       "\n",
       "    .dataframe thead th {\n",
       "        text-align: right;\n",
       "    }\n",
       "</style>\n",
       "<table border=\"1\" class=\"dataframe\">\n",
       "  <thead>\n",
       "    <tr style=\"text-align: right;\">\n",
       "      <th></th>\n",
       "      <th>average_flights</th>\n",
       "    </tr>\n",
       "  </thead>\n",
       "  <tbody>\n",
       "    <tr>\n",
       "      <td>count</td>\n",
       "      <td>101.000000</td>\n",
       "    </tr>\n",
       "    <tr>\n",
       "      <td>mean</td>\n",
       "      <td>5.494189</td>\n",
       "    </tr>\n",
       "    <tr>\n",
       "      <td>std</td>\n",
       "      <td>13.119790</td>\n",
       "    </tr>\n",
       "    <tr>\n",
       "      <td>min</td>\n",
       "      <td>1.000000</td>\n",
       "    </tr>\n",
       "    <tr>\n",
       "      <td>25%</td>\n",
       "      <td>2.000000</td>\n",
       "    </tr>\n",
       "    <tr>\n",
       "      <td>50%</td>\n",
       "      <td>3.000000</td>\n",
       "    </tr>\n",
       "    <tr>\n",
       "      <td>75%</td>\n",
       "      <td>5.870968</td>\n",
       "    </tr>\n",
       "    <tr>\n",
       "      <td>max</td>\n",
       "      <td>129.774194</td>\n",
       "    </tr>\n",
       "  </tbody>\n",
       "</table>\n",
       "</div>"
      ],
      "text/plain": [
       "       average_flights\n",
       "count       101.000000\n",
       "mean          5.494189\n",
       "std          13.119790\n",
       "min           1.000000\n",
       "25%           2.000000\n",
       "50%           3.000000\n",
       "75%           5.870968\n",
       "max         129.774194"
      ]
     },
     "execution_count": 9,
     "metadata": {},
     "output_type": "execute_result"
    }
   ],
   "source": [
    "query_3.describe()"
   ]
  },
  {
   "cell_type": "markdown",
   "metadata": {},
   "source": [
    "Пропуски в данных отсутствуют."
   ]
  },
  {
   "cell_type": "markdown",
   "metadata": {},
   "source": [
    "### Проверка типов данных на корректность"
   ]
  },
  {
   "cell_type": "code",
   "execution_count": 10,
   "metadata": {
    "scrolled": false
   },
   "outputs": [
    {
     "name": "stdout",
     "output_type": "stream",
     "text": [
      "<class 'pandas.core.frame.DataFrame'>\n",
      "RangeIndex: 8 entries, 0 to 7\n",
      "Data columns (total 2 columns):\n",
      "model             8 non-null object\n",
      "flights_amount    8 non-null int64\n",
      "dtypes: int64(1), object(1)\n",
      "memory usage: 256.0+ bytes\n"
     ]
    }
   ],
   "source": [
    "query_1.info()"
   ]
  },
  {
   "cell_type": "code",
   "execution_count": 11,
   "metadata": {
    "scrolled": false
   },
   "outputs": [
    {
     "name": "stdout",
     "output_type": "stream",
     "text": [
      "<class 'pandas.core.frame.DataFrame'>\n",
      "RangeIndex: 101 entries, 0 to 100\n",
      "Data columns (total 2 columns):\n",
      "city               101 non-null object\n",
      "average_flights    101 non-null float64\n",
      "dtypes: float64(1), object(1)\n",
      "memory usage: 1.7+ KB\n"
     ]
    }
   ],
   "source": [
    "query_3.info()"
   ]
  },
  {
   "cell_type": "markdown",
   "metadata": {},
   "source": [
    "Типы данных в колонках соответствуют информации в них. "
   ]
  },
  {
   "cell_type": "markdown",
   "metadata": {},
   "source": [
    "### Топ-10 городов по количеству рейсов"
   ]
  },
  {
   "cell_type": "code",
   "execution_count": 12,
   "metadata": {
    "scrolled": true
   },
   "outputs": [
    {
     "data": {
      "text/html": [
       "<div>\n",
       "<style scoped>\n",
       "    .dataframe tbody tr th:only-of-type {\n",
       "        vertical-align: middle;\n",
       "    }\n",
       "\n",
       "    .dataframe tbody tr th {\n",
       "        vertical-align: top;\n",
       "    }\n",
       "\n",
       "    .dataframe thead th {\n",
       "        text-align: right;\n",
       "    }\n",
       "</style>\n",
       "<table border=\"1\" class=\"dataframe\">\n",
       "  <thead>\n",
       "    <tr style=\"text-align: right;\">\n",
       "      <th></th>\n",
       "      <th>city</th>\n",
       "      <th>average_flights</th>\n",
       "    </tr>\n",
       "  </thead>\n",
       "  <tbody>\n",
       "    <tr>\n",
       "      <td>43</td>\n",
       "      <td>Москва</td>\n",
       "      <td>129.774194</td>\n",
       "    </tr>\n",
       "    <tr>\n",
       "      <td>70</td>\n",
       "      <td>Санкт-Петербург</td>\n",
       "      <td>31.161290</td>\n",
       "    </tr>\n",
       "    <tr>\n",
       "      <td>54</td>\n",
       "      <td>Новосибирск</td>\n",
       "      <td>17.322581</td>\n",
       "    </tr>\n",
       "    <tr>\n",
       "      <td>33</td>\n",
       "      <td>Красноярск</td>\n",
       "      <td>11.580645</td>\n",
       "    </tr>\n",
       "    <tr>\n",
       "      <td>20</td>\n",
       "      <td>Екатеринбург</td>\n",
       "      <td>11.322581</td>\n",
       "    </tr>\n",
       "    <tr>\n",
       "      <td>67</td>\n",
       "      <td>Ростов-на-Дону</td>\n",
       "      <td>10.193548</td>\n",
       "    </tr>\n",
       "    <tr>\n",
       "      <td>63</td>\n",
       "      <td>Пермь</td>\n",
       "      <td>10.129032</td>\n",
       "    </tr>\n",
       "    <tr>\n",
       "      <td>10</td>\n",
       "      <td>Брянск</td>\n",
       "      <td>10.000000</td>\n",
       "    </tr>\n",
       "    <tr>\n",
       "      <td>74</td>\n",
       "      <td>Сочи</td>\n",
       "      <td>9.612903</td>\n",
       "    </tr>\n",
       "    <tr>\n",
       "      <td>84</td>\n",
       "      <td>Ульяновск</td>\n",
       "      <td>9.580645</td>\n",
       "    </tr>\n",
       "  </tbody>\n",
       "</table>\n",
       "</div>"
      ],
      "text/plain": [
       "               city  average_flights\n",
       "43           Москва       129.774194\n",
       "70  Санкт-Петербург        31.161290\n",
       "54      Новосибирск        17.322581\n",
       "33       Красноярск        11.580645\n",
       "20     Екатеринбург        11.322581\n",
       "67   Ростов-на-Дону        10.193548\n",
       "63            Пермь        10.129032\n",
       "10           Брянск        10.000000\n",
       "74             Сочи         9.612903\n",
       "84        Ульяновск         9.580645"
      ]
     },
     "execution_count": 12,
     "metadata": {},
     "output_type": "execute_result"
    }
   ],
   "source": [
    "top_10_cities = query_3.sort_values(by='average_flights', ascending=False).head(10)\n",
    "top_10_cities"
   ]
  },
  {
   "cell_type": "markdown",
   "metadata": {},
   "source": [
    "Наибольшее среднее число рейсов приходится на Москву, Санкт-Петербург и Новосибирск. Москва значительно опрежает другие города по числу рейсов. Первая тройка городов выглядит логично, крупнейшие города России (Москва, Санкт-Петербург) и региональный хаб (Новосибирск часто является местом пересадки для рейсов между восточной и западной частями страны). "
   ]
  },
  {
   "cell_type": "markdown",
   "metadata": {},
   "source": [
    "### Построим графики"
   ]
  },
  {
   "cell_type": "markdown",
   "metadata": {},
   "source": [
    "#### График моделей самолётов и количества рейсов"
   ]
  },
  {
   "cell_type": "code",
   "execution_count": 13,
   "metadata": {
    "scrolled": false
   },
   "outputs": [
    {
     "data": {
      "image/png": "[encoded data removed]",
      "text/plain": [
       "<Figure size 864x432 with 1 Axes>"
      ]
     },
     "metadata": {},
     "output_type": "display_data"
    }
   ],
   "source": [
    "sns.set(rc={'figure.figsize':(12,6)})\n",
    "sns.barplot(x='flights_amount',\n",
    "            y='model',\n",
    "            data=query_1.sort_values(by='flights_amount', ascending=False)).set_title('Flights amount by model')\n",
    "plt.show()"
   ]
  },
  {
   "cell_type": "markdown",
   "metadata": {},
   "source": [
    "Наибольшее количество рейсов происходится на небольшие самолеты модели Cessna 208 Caravan. Среди крупных самолетов наибольшее число рейсов у Bombardier CRJ-200 и Sukhoi SuperJet-100. На топ-3 моделей по числу рейсов приходится более 80% всех перелетов."
   ]
  },
  {
   "cell_type": "markdown",
   "metadata": {},
   "source": [
    "#### График городов и количества рейсов"
   ]
  },
  {
   "cell_type": "code",
   "execution_count": 14,
   "metadata": {
    "scrolled": false
   },
   "outputs": [
    {
     "data": {
      "image/png": "[encoded data removed]",
      "text/plain": [
       "<Figure size 864x1296 with 1 Axes>"
      ]
     },
     "metadata": {},
     "output_type": "display_data"
    }
   ],
   "source": [
    "sns.set(rc={'figure.figsize':(12,18)})\n",
    "sns.barplot(x='average_flights',\n",
    "            y='city',\n",
    "            data=query_3.sort_values(by='average_flights', ascending=False)).set_title('Average flights to cities')\n",
    "plt.show()"
   ]
  },
  {
   "cell_type": "markdown",
   "metadata": {},
   "source": [
    "- Наибольшее число рейсов совершается в города-миллионники. Количество рейсов в Москву в разы превышают рейсы в другие города.  \n",
    "- В число городов лидеров так же входят города севера России вблизи, которых ведется добыча природных ресурсов - Сургут, Ханты-Мансийск, Новый Урегной, Тюмень, Мирный.  \n",
    "- Наименьшее число рейсов совершается в Комсомольск-на-Амуре, Нягань, Нефтеюганск."
   ]
  },
  {
   "cell_type": "markdown",
   "metadata": {},
   "source": [
    "#### Топ-10 городов по количеству рейсов и количество рейсов в них"
   ]
  },
  {
   "cell_type": "code",
   "execution_count": 15,
   "metadata": {
    "scrolled": false
   },
   "outputs": [
    {
     "data": {
      "image/png": "[encoded data removed]",
      "text/plain": [
       "<Figure size 864x432 with 1 Axes>"
      ]
     },
     "metadata": {},
     "output_type": "display_data"
    }
   ],
   "source": [
    "sns.set(rc={'figure.figsize':(12,6)})\n",
    "sns.barplot(x='average_flights',\n",
    "            y='city',\n",
    "            data=top_10_cities).set_title('Top 10 sities by average flights')\n",
    "plt.show()"
   ]
  },
  {
   "cell_type": "markdown",
   "metadata": {},
   "source": [
    "В первой десятке по числу рейсов города-миллионики и курортный город Сочи. Трудно объяснимо наличие Брянска и Ульяновска в первой десятке."
   ]
  },
  {
   "cell_type": "markdown",
   "metadata": {},
   "source": [
    "## Вывод\n",
    "1) В выгруженных данных нет пропусков и аномалий. Типы данных соответствуют содержимой информации.  \n",
    "\n",
    "2) Более 80% всех рейсов совершаются на трёх моделях самолетов: Cessna 208 Caravan, Bombardier CRJ-200, Sukhoi SuperJet-100.   \n",
    "\n",
    "3) Наибольшее число рейсов совершается в города-миллионники. В число городов лидеров так же входят города севера России вблизи, которых ведется добыча природных ресурсов - Сургут, Ханты-Мансийск, Новый Урегной, Тюмень, Мирный.  \n",
    "\n",
    "Топ-10 городов по числу рейсов:\n",
    "- Москва\t\n",
    "- Санкт-Петербург\t\n",
    "- Новосибирск\t\n",
    "- Красноярск\t\n",
    "- Екатеринбург\t\n",
    "- Ростов-на-Дону\t\n",
    "- Пермь\t\n",
    "- Брянск\t\n",
    "- Сочи\t\n",
    "- Ульяновск\t\n",
    "\n",
    "Рейсов в Москву в 4 раза больше, чем в Санкт-Петербург (129 против 31).  \n",
    "Среднее число рейсов по всем городам равно 5,49.  \n",
    "Меньше всего число рейсов совершается в Комсомольск-на-Амуре, Нягань, Нефтеюганск.\n"
   ]
  }
 ],
 "metadata": {
  "ExecuteTimeLog": [
   {
    "duration": 655,
    "start_time": "2021-09-09T10:05:11.372Z"
   },
   {
    "duration": 2112,
    "start_time": "2021-09-09T10:06:45.959Z"
   },
   {
    "duration": 33,
    "start_time": "2021-09-09T10:09:19.923Z"
   },
   {
    "duration": 14,
    "start_time": "2021-09-09T10:09:33.125Z"
   },
   {
    "duration": 7,
    "start_time": "2021-09-09T10:09:43.332Z"
   },
   {
    "duration": 9,
    "start_time": "2021-09-09T10:09:50.564Z"
   },
   {
    "duration": 8,
    "start_time": "2021-09-09T10:11:16.532Z"
   },
   {
    "duration": 6,
    "start_time": "2021-09-09T10:11:37.954Z"
   },
   {
    "duration": 12,
    "start_time": "2021-09-09T10:12:23.643Z"
   },
   {
    "duration": 11,
    "start_time": "2021-09-09T10:13:44.016Z"
   },
   {
    "duration": 11,
    "start_time": "2021-09-09T10:13:53.727Z"
   },
   {
    "duration": 8,
    "start_time": "2021-09-09T10:14:01.634Z"
   },
   {
    "duration": 6,
    "start_time": "2021-09-09T10:14:57.073Z"
   },
   {
    "duration": 6,
    "start_time": "2021-09-09T10:17:59.219Z"
   },
   {
    "duration": 14,
    "start_time": "2021-09-09T10:19:29.620Z"
   },
   {
    "duration": 15769,
    "start_time": "2021-09-09T10:19:55.149Z"
   },
   {
    "duration": 245,
    "start_time": "2021-09-09T10:20:13.620Z"
   },
   {
    "duration": 131,
    "start_time": "2021-09-09T10:20:29.102Z"
   },
   {
    "duration": 265,
    "start_time": "2021-09-09T10:20:38.797Z"
   },
   {
    "duration": 1097,
    "start_time": "2021-09-09T10:21:08.954Z"
   },
   {
    "duration": 80,
    "start_time": "2021-09-09T10:22:21.051Z"
   },
   {
    "duration": 258,
    "start_time": "2021-09-09T10:24:12.066Z"
   },
   {
    "duration": 1350,
    "start_time": "2021-09-09T10:24:20.490Z"
   },
   {
    "duration": 180,
    "start_time": "2021-09-09T11:22:43.102Z"
   },
   {
    "duration": 520,
    "start_time": "2021-09-09T11:23:37.070Z"
   },
   {
    "duration": 11,
    "start_time": "2021-09-09T11:24:02.591Z"
   },
   {
    "duration": 12,
    "start_time": "2021-09-09T11:24:03.358Z"
   },
   {
    "duration": 185,
    "start_time": "2021-09-09T11:24:26.054Z"
   },
   {
    "duration": 321,
    "start_time": "2021-09-09T11:26:43.492Z"
   },
   {
    "duration": 303,
    "start_time": "2021-09-09T11:27:50.419Z"
   },
   {
    "duration": 420,
    "start_time": "2021-09-09T11:28:14.427Z"
   },
   {
    "duration": 304,
    "start_time": "2021-09-09T11:28:20.755Z"
   },
   {
    "duration": 8,
    "start_time": "2021-09-09T11:30:15.684Z"
   },
   {
    "duration": 7,
    "start_time": "2021-09-09T11:30:16.161Z"
   },
   {
    "duration": 4,
    "start_time": "2021-09-09T11:32:40.812Z"
   },
   {
    "duration": 8,
    "start_time": "2021-09-09T11:32:45.320Z"
   },
   {
    "duration": 10,
    "start_time": "2021-09-09T11:33:39.703Z"
   },
   {
    "duration": 378,
    "start_time": "2021-09-09T11:33:49.498Z"
   },
   {
    "duration": 12,
    "start_time": "2021-09-09T11:33:52.950Z"
   },
   {
    "duration": 8,
    "start_time": "2021-09-09T11:37:40.035Z"
   },
   {
    "duration": 314,
    "start_time": "2021-09-09T11:37:50.788Z"
   },
   {
    "duration": 1721,
    "start_time": "2021-09-09T11:38:14.580Z"
   },
   {
    "duration": 1650,
    "start_time": "2021-09-09T11:38:37.542Z"
   },
   {
    "duration": 472,
    "start_time": "2021-09-09T11:39:02.364Z"
   },
   {
    "duration": 324,
    "start_time": "2021-09-09T11:39:14.539Z"
   },
   {
    "duration": 615,
    "start_time": "2021-09-09T11:40:53.334Z"
   },
   {
    "duration": 3,
    "start_time": "2021-09-09T11:41:13.210Z"
   },
   {
    "duration": 280,
    "start_time": "2021-09-09T11:41:17.297Z"
   },
   {
    "duration": 292,
    "start_time": "2021-09-09T11:41:28.434Z"
   },
   {
    "duration": 1844,
    "start_time": "2021-09-09T11:41:31.794Z"
   },
   {
    "duration": 1616,
    "start_time": "2021-09-09T11:41:58.762Z"
   },
   {
    "duration": 1768,
    "start_time": "2021-09-09T11:43:01.546Z"
   },
   {
    "duration": 305,
    "start_time": "2021-09-09T11:45:06.415Z"
   },
   {
    "duration": 1637,
    "start_time": "2021-09-09T11:45:15.031Z"
   },
   {
    "duration": 425,
    "start_time": "2021-09-09T13:56:41.376Z"
   },
   {
    "duration": 8,
    "start_time": "2021-09-09T13:57:06.120Z"
   },
   {
    "duration": 8,
    "start_time": "2021-09-09T13:57:20.168Z"
   },
   {
    "duration": 7,
    "start_time": "2021-09-09T13:57:28.433Z"
   },
   {
    "duration": 7,
    "start_time": "2021-09-09T13:57:36.562Z"
   },
   {
    "duration": 6,
    "start_time": "2021-09-09T13:57:56.599Z"
   },
   {
    "duration": 142,
    "start_time": "2021-09-09T13:58:27.920Z"
   },
   {
    "duration": 5,
    "start_time": "2021-09-09T13:58:31.359Z"
   },
   {
    "duration": 6,
    "start_time": "2021-09-09T13:58:40.928Z"
   },
   {
    "duration": 3,
    "start_time": "2021-09-09T13:59:05.623Z"
   },
   {
    "duration": 5,
    "start_time": "2021-09-09T13:59:10.655Z"
   },
   {
    "duration": 5,
    "start_time": "2021-09-09T13:59:29.505Z"
   },
   {
    "duration": 5,
    "start_time": "2021-09-09T13:59:50.807Z"
   },
   {
    "duration": 7,
    "start_time": "2021-09-09T14:03:46.509Z"
   },
   {
    "duration": 1144,
    "start_time": "2021-09-09T15:17:37.286Z"
   },
   {
    "duration": 33,
    "start_time": "2021-09-09T15:17:38.432Z"
   },
   {
    "duration": 18,
    "start_time": "2021-09-09T15:17:38.467Z"
   },
   {
    "duration": 16,
    "start_time": "2021-09-09T15:17:38.487Z"
   },
   {
    "duration": 5,
    "start_time": "2021-09-09T15:17:38.504Z"
   },
   {
    "duration": 6,
    "start_time": "2021-09-09T15:17:38.511Z"
   },
   {
    "duration": 5,
    "start_time": "2021-09-09T15:17:38.519Z"
   },
   {
    "duration": 22,
    "start_time": "2021-09-09T15:17:38.526Z"
   },
   {
    "duration": 12,
    "start_time": "2021-09-09T15:17:38.550Z"
   },
   {
    "duration": 13,
    "start_time": "2021-09-09T15:17:38.564Z"
   },
   {
    "duration": 13,
    "start_time": "2021-09-09T15:17:38.579Z"
   },
   {
    "duration": 14,
    "start_time": "2021-09-09T15:17:38.594Z"
   },
   {
    "duration": 295,
    "start_time": "2021-09-09T15:17:38.610Z"
   },
   {
    "duration": 1691,
    "start_time": "2021-09-09T15:17:38.907Z"
   },
   {
    "duration": 335,
    "start_time": "2021-09-09T15:17:40.599Z"
   },
   {
    "duration": 252,
    "start_time": "2021-10-06T08:39:15.383Z"
   }
  ],
  "kernelspec": {
   "display_name": "Python 3",
   "language": "python",
   "name": "python3"
  },
  "language_info": {
   "codemirror_mode": {
    "name": "ipython",
    "version": 3
   },
   "file_extension": ".py",
   "mimetype": "text/x-python",
   "name": "python",
   "nbconvert_exporter": "python",
   "pygments_lexer": "ipython3",
   "version": "3.7.8"
  },
  "toc": {
   "base_numbering": 1,
   "nav_menu": {},
   "number_sections": true,
   "sideBar": true,
   "skip_h1_title": true,
   "title_cell": "Содержание",
   "title_sidebar": "Contents",
   "toc_cell": true,
   "toc_position": {},
   "toc_section_display": true,
   "toc_window_display": true
  }
 },
 "nbformat": 4,
 "nbformat_minor": 2
}
