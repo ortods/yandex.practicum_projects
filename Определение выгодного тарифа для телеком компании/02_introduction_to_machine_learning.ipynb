{
 "cells": [
  {
   "cell_type": "markdown",
   "source": [
    "# Рекомендация тарифов"
   ],
   "metadata": {}
  },
  {
   "cell_type": "markdown",
   "source": [
    "В вашем распоряжении данные о поведении клиентов, которые уже перешли на эти тарифы. Нужно построить модель для задачи классификации, которая выберет подходящий тариф. \n",
    "\n",
    "Нужно довести долю правильных ответов *accuracy* по крайней мере до 0.75."
   ],
   "metadata": {}
  },
  {
   "cell_type": "markdown",
   "source": [
    "## Откроем и изучим файл"
   ],
   "metadata": {}
  },
  {
   "cell_type": "code",
   "execution_count": 1,
   "source": [
    "import pandas as pd\r\n",
    "import numpy as np\r\n",
    "from sklearn.model_selection import train_test_split\r\n",
    "from sklearn.tree import DecisionTreeClassifier\r\n",
    "from sklearn.ensemble import RandomForestClassifier\r\n",
    "from sklearn.linear_model import LogisticRegression\r\n",
    "from sklearn.metrics import accuracy_score"
   ],
   "outputs": [],
   "metadata": {}
  },
  {
   "cell_type": "code",
   "execution_count": 2,
   "source": [
    "df = pd.read_csv('/datasets/users_behavior.csv')\r\n",
    "df.head(5)"
   ],
   "outputs": [
    {
     "output_type": "execute_result",
     "data": {
      "text/html": [
       "<div>\n",
       "<style scoped>\n",
       "    .dataframe tbody tr th:only-of-type {\n",
       "        vertical-align: middle;\n",
       "    }\n",
       "\n",
       "    .dataframe tbody tr th {\n",
       "        vertical-align: top;\n",
       "    }\n",
       "\n",
       "    .dataframe thead th {\n",
       "        text-align: right;\n",
       "    }\n",
       "</style>\n",
       "<table border=\"1\" class=\"dataframe\">\n",
       "  <thead>\n",
       "    <tr style=\"text-align: right;\">\n",
       "      <th></th>\n",
       "      <th>calls</th>\n",
       "      <th>minutes</th>\n",
       "      <th>messages</th>\n",
       "      <th>mb_used</th>\n",
       "      <th>is_ultra</th>\n",
       "    </tr>\n",
       "  </thead>\n",
       "  <tbody>\n",
       "    <tr>\n",
       "      <td>0</td>\n",
       "      <td>40.0</td>\n",
       "      <td>311.90</td>\n",
       "      <td>83.0</td>\n",
       "      <td>19915.42</td>\n",
       "      <td>0</td>\n",
       "    </tr>\n",
       "    <tr>\n",
       "      <td>1</td>\n",
       "      <td>85.0</td>\n",
       "      <td>516.75</td>\n",
       "      <td>56.0</td>\n",
       "      <td>22696.96</td>\n",
       "      <td>0</td>\n",
       "    </tr>\n",
       "    <tr>\n",
       "      <td>2</td>\n",
       "      <td>77.0</td>\n",
       "      <td>467.66</td>\n",
       "      <td>86.0</td>\n",
       "      <td>21060.45</td>\n",
       "      <td>0</td>\n",
       "    </tr>\n",
       "    <tr>\n",
       "      <td>3</td>\n",
       "      <td>106.0</td>\n",
       "      <td>745.53</td>\n",
       "      <td>81.0</td>\n",
       "      <td>8437.39</td>\n",
       "      <td>1</td>\n",
       "    </tr>\n",
       "    <tr>\n",
       "      <td>4</td>\n",
       "      <td>66.0</td>\n",
       "      <td>418.74</td>\n",
       "      <td>1.0</td>\n",
       "      <td>14502.75</td>\n",
       "      <td>0</td>\n",
       "    </tr>\n",
       "  </tbody>\n",
       "</table>\n",
       "</div>"
      ],
      "text/plain": [
       "   calls  minutes  messages   mb_used  is_ultra\n",
       "0   40.0   311.90      83.0  19915.42         0\n",
       "1   85.0   516.75      56.0  22696.96         0\n",
       "2   77.0   467.66      86.0  21060.45         0\n",
       "3  106.0   745.53      81.0   8437.39         1\n",
       "4   66.0   418.74       1.0  14502.75         0"
      ]
     },
     "metadata": {},
     "execution_count": 2
    }
   ],
   "metadata": {}
  },
  {
   "cell_type": "code",
   "execution_count": 3,
   "source": [
    "df.info()"
   ],
   "outputs": [
    {
     "output_type": "stream",
     "name": "stdout",
     "text": [
      "<class 'pandas.core.frame.DataFrame'>\n",
      "RangeIndex: 3214 entries, 0 to 3213\n",
      "Data columns (total 5 columns):\n",
      "calls       3214 non-null float64\n",
      "minutes     3214 non-null float64\n",
      "messages    3214 non-null float64\n",
      "mb_used     3214 non-null float64\n",
      "is_ultra    3214 non-null int64\n",
      "dtypes: float64(4), int64(1)\n",
      "memory usage: 125.7 KB\n"
     ]
    }
   ],
   "metadata": {}
  },
  {
   "cell_type": "code",
   "execution_count": 4,
   "source": [
    "df.describe()"
   ],
   "outputs": [
    {
     "output_type": "execute_result",
     "data": {
      "text/html": [
       "<div>\n",
       "<style scoped>\n",
       "    .dataframe tbody tr th:only-of-type {\n",
       "        vertical-align: middle;\n",
       "    }\n",
       "\n",
       "    .dataframe tbody tr th {\n",
       "        vertical-align: top;\n",
       "    }\n",
       "\n",
       "    .dataframe thead th {\n",
       "        text-align: right;\n",
       "    }\n",
       "</style>\n",
       "<table border=\"1\" class=\"dataframe\">\n",
       "  <thead>\n",
       "    <tr style=\"text-align: right;\">\n",
       "      <th></th>\n",
       "      <th>calls</th>\n",
       "      <th>minutes</th>\n",
       "      <th>messages</th>\n",
       "      <th>mb_used</th>\n",
       "      <th>is_ultra</th>\n",
       "    </tr>\n",
       "  </thead>\n",
       "  <tbody>\n",
       "    <tr>\n",
       "      <td>count</td>\n",
       "      <td>3214.000000</td>\n",
       "      <td>3214.000000</td>\n",
       "      <td>3214.000000</td>\n",
       "      <td>3214.000000</td>\n",
       "      <td>3214.000000</td>\n",
       "    </tr>\n",
       "    <tr>\n",
       "      <td>mean</td>\n",
       "      <td>63.038892</td>\n",
       "      <td>438.208787</td>\n",
       "      <td>38.281269</td>\n",
       "      <td>17207.673836</td>\n",
       "      <td>0.306472</td>\n",
       "    </tr>\n",
       "    <tr>\n",
       "      <td>std</td>\n",
       "      <td>33.236368</td>\n",
       "      <td>234.569872</td>\n",
       "      <td>36.148326</td>\n",
       "      <td>7570.968246</td>\n",
       "      <td>0.461100</td>\n",
       "    </tr>\n",
       "    <tr>\n",
       "      <td>min</td>\n",
       "      <td>0.000000</td>\n",
       "      <td>0.000000</td>\n",
       "      <td>0.000000</td>\n",
       "      <td>0.000000</td>\n",
       "      <td>0.000000</td>\n",
       "    </tr>\n",
       "    <tr>\n",
       "      <td>25%</td>\n",
       "      <td>40.000000</td>\n",
       "      <td>274.575000</td>\n",
       "      <td>9.000000</td>\n",
       "      <td>12491.902500</td>\n",
       "      <td>0.000000</td>\n",
       "    </tr>\n",
       "    <tr>\n",
       "      <td>50%</td>\n",
       "      <td>62.000000</td>\n",
       "      <td>430.600000</td>\n",
       "      <td>30.000000</td>\n",
       "      <td>16943.235000</td>\n",
       "      <td>0.000000</td>\n",
       "    </tr>\n",
       "    <tr>\n",
       "      <td>75%</td>\n",
       "      <td>82.000000</td>\n",
       "      <td>571.927500</td>\n",
       "      <td>57.000000</td>\n",
       "      <td>21424.700000</td>\n",
       "      <td>1.000000</td>\n",
       "    </tr>\n",
       "    <tr>\n",
       "      <td>max</td>\n",
       "      <td>244.000000</td>\n",
       "      <td>1632.060000</td>\n",
       "      <td>224.000000</td>\n",
       "      <td>49745.730000</td>\n",
       "      <td>1.000000</td>\n",
       "    </tr>\n",
       "  </tbody>\n",
       "</table>\n",
       "</div>"
      ],
      "text/plain": [
       "             calls      minutes     messages       mb_used     is_ultra\n",
       "count  3214.000000  3214.000000  3214.000000   3214.000000  3214.000000\n",
       "mean     63.038892   438.208787    38.281269  17207.673836     0.306472\n",
       "std      33.236368   234.569872    36.148326   7570.968246     0.461100\n",
       "min       0.000000     0.000000     0.000000      0.000000     0.000000\n",
       "25%      40.000000   274.575000     9.000000  12491.902500     0.000000\n",
       "50%      62.000000   430.600000    30.000000  16943.235000     0.000000\n",
       "75%      82.000000   571.927500    57.000000  21424.700000     1.000000\n",
       "max     244.000000  1632.060000   224.000000  49745.730000     1.000000"
      ]
     },
     "metadata": {},
     "execution_count": 4
    }
   ],
   "metadata": {}
  },
  {
   "cell_type": "markdown",
   "source": [
    "## Разобьем данные на выборки"
   ],
   "metadata": {}
  },
  {
   "cell_type": "code",
   "execution_count": 5,
   "source": [
    "df_train, df_valid = train_test_split(df, test_size=0.4, random_state=12345)\r\n",
    "df_valid, df_test = train_test_split(df_valid, test_size=0.5, random_state=12345)\r\n",
    "\r\n",
    "print(f'Исходные данные разбиты на обучающую, валидационную и тестовую выборку в соотношении {len(df_train)/len(df):.0%}, {len(df_valid)/len(df):.0%}, {len(df_test)/len(df):.0%} соответственно.')"
   ],
   "outputs": [
    {
     "output_type": "stream",
     "name": "stdout",
     "text": [
      "Исходные данные разбиты на обучающую, валидационную и тестовую выборку в соотношении 60%, 20%, 20% соответственно.\n"
     ]
    }
   ],
   "metadata": {}
  },
  {
   "cell_type": "markdown",
   "source": [
    "Выделим для каждой выборки данные признаков (features: число звонков, минуты разговора, число сообщений, использование интернет-трафика) и целевых признаков (target: тариф ультра или нет)."
   ],
   "metadata": {}
  },
  {
   "cell_type": "code",
   "execution_count": 6,
   "source": [
    "features_train = df_train.drop('is_ultra', axis=1)\r\n",
    "target_train = df_train['is_ultra']\r\n",
    "\r\n",
    "features_valid = df_valid.drop('is_ultra', axis=1)\r\n",
    "target_valid = df_valid['is_ultra']\r\n",
    "\r\n",
    "features_test = df_test.drop('is_ultra', axis=1)\r\n",
    "target_test = df_test['is_ultra']"
   ],
   "outputs": [],
   "metadata": {}
  },
  {
   "cell_type": "markdown",
   "source": [
    "## Исследуем модели"
   ],
   "metadata": {}
  },
  {
   "cell_type": "markdown",
   "source": [
    "Ипортируем библиотеки для создания моделей дерева решений, случайного леса и линейной регрессии. Также создадим списки для добавления в них метрик оценки моделей."
   ],
   "metadata": {}
  },
  {
   "cell_type": "code",
   "execution_count": 7,
   "source": [
    "accuracy_valid = []\r\n",
    "accuracy_test = []\r\n",
    "time = []"
   ],
   "outputs": [],
   "metadata": {}
  },
  {
   "cell_type": "markdown",
   "source": [
    "**Модель дерерво решений (DT)** настроим по гиперпараметру глубины дерева в диапазоне от 1 до 10 и сохраним модель с наибольшим accuracy."
   ],
   "metadata": {}
  },
  {
   "cell_type": "code",
   "execution_count": 8,
   "source": [
    "best_model_DT = None\r\n",
    "best_result_DT = 0\r\n",
    "best_depth_DT = 0\r\n",
    "for depth in range(1, 11):\r\n",
    "    model = DecisionTreeClassifier(random_state=12345, max_depth=depth) # инициализация модели с заданной глубиной дерева\r\n",
    "    model.fit(features_train, target_train) # обучаем модель\r\n",
    "    predictions_valid = model.predict(features_valid) # получаем предсказания модели\r\n",
    "    result = accuracy_score(target_valid, predictions_valid) # считаем качество модели\r\n",
    "    if result > best_result_DT:  #проверяем модель на метрику accuracy\r\n",
    "        best_model_DT = model\r\n",
    "        best_result_DT = result\r\n",
    "        best_depth_DT = depth\r\n",
    "        \r\n",
    "accuracy_valid.append(best_result_DT)        \r\n",
    "print(f\"Accuracy лучшей модели дерева решений на валидационной выборке: {best_result_DT:.4f}, при глубине дерева {best_depth_DT}.\")"
   ],
   "outputs": [
    {
     "output_type": "stream",
     "name": "stdout",
     "text": [
      "Accuracy лучшей модели дерева решений на валидационной выборке: 0.7854, при глубине дерева 3.\n"
     ]
    }
   ],
   "metadata": {}
  },
  {
   "cell_type": "markdown",
   "source": [
    "**Модель случайный лес (RF)** настроим по гиперпараметрам числа деревьев от 1 до 50 и глубины дерева от 1 до 10. Сохраним модель с наибольшим accuracy."
   ],
   "metadata": {}
  },
  {
   "cell_type": "code",
   "execution_count": 9,
   "source": [
    "best_model_RF = None\r\n",
    "best_result_RF = 0\r\n",
    "best_est_RF = 0\r\n",
    "best_depth_RF = 0\r\n",
    "for est in range(1, 51):\r\n",
    "    for depth in range (1, 11):\r\n",
    "        model = RandomForestClassifier(random_state=12345, n_estimators=est, max_depth=depth)\r\n",
    "        model.fit(features_train, target_train) \r\n",
    "        predictions_valid = model.predict(features_valid) \r\n",
    "        result = accuracy_score(target_valid, predictions_valid)\r\n",
    "        if result > best_result_RF:\r\n",
    "            best_model_RF = model\r\n",
    "            best_result_RF = result\r\n",
    "            best_est_RF = est\r\n",
    "            best_depth_RF = depth\r\n",
    "\r\n",
    "accuracy_valid.append(best_result_RF)            \r\n",
    "print(f\"Accuracy лучшей модели случайного леса на валидационной выборке: {best_result_RF:.4f}, при количестве деревьев {best_est_RF} и глубине дерева {best_depth_RF}.\")"
   ],
   "outputs": [
    {
     "output_type": "stream",
     "name": "stdout",
     "text": [
      "Accuracy лучшей модели случайного леса на валидационной выборке: 0.8087, при количестве деревьев 40 и глубине дерева 8.\n"
     ]
    }
   ],
   "metadata": {}
  },
  {
   "cell_type": "markdown",
   "source": [
    "**Модель логистическая регрессия (LR)** настроим по гиперпараметру \"С\" (силы регуляризации) от 0,01 до 5. Сохраним модель с наболшим accuracy."
   ],
   "metadata": {}
  },
  {
   "cell_type": "code",
   "execution_count": 10,
   "source": [
    "best_model_LR = None\r\n",
    "best_result_LR = 0\r\n",
    "best_c_LR = 0\r\n",
    "for c in np.arange(0.01, 5.01, 0.01):\r\n",
    "    model = LogisticRegression(random_state=12345, C=c, solver='liblinear') \r\n",
    "    model.fit(features_train, target_train) \r\n",
    "    predictions_valid = model.predict(features_valid)\r\n",
    "    result = accuracy_score(target_valid, predictions_valid)\r\n",
    "    if result > best_result_LR:\r\n",
    "            best_model_LR = model\r\n",
    "            best_result_LR = result \r\n",
    "            best_c_LR = c\r\n",
    "            \r\n",
    "accuracy_valid.append(best_result_LR)\r\n",
    "print(f\"Accuracy лучшей модели логистической регрессии на валидационной выборке: {best_result_LR:.4f}, при гиперпараметре 'с' равном {best_c_LR:.4f}\")"
   ],
   "outputs": [
    {
     "output_type": "stream",
     "name": "stdout",
     "text": [
      "Accuracy лучшей модели логистической регрессии на валидационной выборке: 0.7589, при гиперпараметре 'с' равном 0.8200\n"
     ]
    }
   ],
   "metadata": {}
  },
  {
   "cell_type": "markdown",
   "source": [
    "## Проверим модели на тестовой выборке"
   ],
   "metadata": {}
  },
  {
   "cell_type": "code",
   "execution_count": 11,
   "source": [
    "models =(best_model_DT, best_model_RF, best_model_LR)\r\n",
    "models_name = ['дерево решений','случайный лес','логистическая регрессия']\r\n",
    "models_d = dict(zip(models, models_name))\r\n",
    "for model in models_d:\r\n",
    "    predictions_test = model.predict(features_test)\r\n",
    "    result = accuracy_score(target_test, predictions_test)\r\n",
    "    accuracy_test.append(result)\r\n",
    "    print(model)\r\n",
    "    print(f\"Accuracy модели {models_d.get(model)} на тестовой выборке {result}\", end='\\n\\n')\r\n"
   ],
   "outputs": [
    {
     "output_type": "stream",
     "name": "stdout",
     "text": [
      "DecisionTreeClassifier(class_weight=None, criterion='gini', max_depth=3,\n",
      "                       max_features=None, max_leaf_nodes=None,\n",
      "                       min_impurity_decrease=0.0, min_impurity_split=None,\n",
      "                       min_samples_leaf=1, min_samples_split=2,\n",
      "                       min_weight_fraction_leaf=0.0, presort=False,\n",
      "                       random_state=12345, splitter='best')\n",
      "Accuracy модели дерево решений на тестовой выборке 0.7791601866251944\n",
      "\n",
      "RandomForestClassifier(bootstrap=True, class_weight=None, criterion='gini',\n",
      "                       max_depth=8, max_features='auto', max_leaf_nodes=None,\n",
      "                       min_impurity_decrease=0.0, min_impurity_split=None,\n",
      "                       min_samples_leaf=1, min_samples_split=2,\n",
      "                       min_weight_fraction_leaf=0.0, n_estimators=40,\n",
      "                       n_jobs=None, oob_score=False, random_state=12345,\n",
      "                       verbose=0, warm_start=False)\n",
      "Accuracy модели случайный лес на тестовой выборке 0.7962674961119751\n",
      "\n",
      "LogisticRegression(C=0.8200000000000001, class_weight=None, dual=False,\n",
      "                   fit_intercept=True, intercept_scaling=1, l1_ratio=None,\n",
      "                   max_iter=100, multi_class='warn', n_jobs=None, penalty='l2',\n",
      "                   random_state=12345, solver='liblinear', tol=0.0001,\n",
      "                   verbose=0, warm_start=False)\n",
      "Accuracy модели логистическая регрессия на тестовой выборке 0.7402799377916018\n",
      "\n"
     ]
    }
   ],
   "metadata": {}
  },
  {
   "cell_type": "markdown",
   "source": [
    "Создади функцию предсказания целевого признака на основе признаков тестовой выборки данных для проведения теста на скорость и получения TimeitResult при 100 повторениях. "
   ],
   "metadata": {}
  },
  {
   "cell_type": "code",
   "execution_count": 12,
   "source": [
    "def f(model):\r\n",
    "    return model.predict(features_test)\r\n",
    "\r\n",
    "for model in models_d:\r\n",
    "    t = %timeit -n100 -o f(model)\r\n",
    "    time.append(t)"
   ],
   "outputs": [
    {
     "output_type": "stream",
     "name": "stdout",
     "text": [
      "807 µs ± 46.5 µs per loop (mean ± std. dev. of 7 runs, 100 loops each)\n",
      "8.66 ms ± 75.4 µs per loop (mean ± std. dev. of 7 runs, 100 loops each)\n",
      "724 µs ± 32.6 µs per loop (mean ± std. dev. of 7 runs, 100 loops each)\n"
     ]
    }
   ],
   "metadata": {}
  },
  {
   "cell_type": "markdown",
   "source": [
    "Выделим из полученных данных TimeitResult необходимые параметры."
   ],
   "metadata": {}
  },
  {
   "cell_type": "code",
   "execution_count": 13,
   "source": [
    "average_time = []\r\n",
    "stdev_time = []\r\n",
    "for i in range(len(time)):\r\n",
    "    average_time.append(time[i].average)\r\n",
    "    stdev_time.append(time[i].stdev)"
   ],
   "outputs": [],
   "metadata": {}
  },
  {
   "cell_type": "markdown",
   "source": [
    "Сведем полученные метрики по каждой модели в таблицу."
   ],
   "metadata": {}
  },
  {
   "cell_type": "code",
   "execution_count": 14,
   "source": [
    "columns = ['accuracy_valid','accuracy_test','среднее время предсказания', 'ср. квадратичное отклонение времени предсказания']\r\n",
    "result_data = pd.DataFrame(data=(accuracy_valid, accuracy_test, average_time, stdev_time), columns=models_name, index=columns)\r\n",
    "result_data"
   ],
   "outputs": [
    {
     "output_type": "execute_result",
     "data": {
      "text/html": [
       "<div>\n",
       "<style scoped>\n",
       "    .dataframe tbody tr th:only-of-type {\n",
       "        vertical-align: middle;\n",
       "    }\n",
       "\n",
       "    .dataframe tbody tr th {\n",
       "        vertical-align: top;\n",
       "    }\n",
       "\n",
       "    .dataframe thead th {\n",
       "        text-align: right;\n",
       "    }\n",
       "</style>\n",
       "<table border=\"1\" class=\"dataframe\">\n",
       "  <thead>\n",
       "    <tr style=\"text-align: right;\">\n",
       "      <th></th>\n",
       "      <th>дерево решений</th>\n",
       "      <th>случайный лес</th>\n",
       "      <th>логистическая регрессия</th>\n",
       "    </tr>\n",
       "  </thead>\n",
       "  <tbody>\n",
       "    <tr>\n",
       "      <td>accuracy_valid</td>\n",
       "      <td>0.785381</td>\n",
       "      <td>0.808709</td>\n",
       "      <td>0.758942</td>\n",
       "    </tr>\n",
       "    <tr>\n",
       "      <td>accuracy_test</td>\n",
       "      <td>0.779160</td>\n",
       "      <td>0.796267</td>\n",
       "      <td>0.740280</td>\n",
       "    </tr>\n",
       "    <tr>\n",
       "      <td>среднее время предсказания</td>\n",
       "      <td>0.000807</td>\n",
       "      <td>0.008665</td>\n",
       "      <td>0.000724</td>\n",
       "    </tr>\n",
       "    <tr>\n",
       "      <td>ср. квадратичное отклонение времени предсказания</td>\n",
       "      <td>0.000047</td>\n",
       "      <td>0.000075</td>\n",
       "      <td>0.000033</td>\n",
       "    </tr>\n",
       "  </tbody>\n",
       "</table>\n",
       "</div>"
      ],
      "text/plain": [
       "                                                  дерево решений  \\\n",
       "accuracy_valid                                          0.785381   \n",
       "accuracy_test                                           0.779160   \n",
       "среднее время предсказания                              0.000807   \n",
       "ср. квадратичное отклонение времени предсказания        0.000047   \n",
       "\n",
       "                                                  случайный лес  \\\n",
       "accuracy_valid                                         0.808709   \n",
       "accuracy_test                                          0.796267   \n",
       "среднее время предсказания                             0.008665   \n",
       "ср. квадратичное отклонение времени предсказания       0.000075   \n",
       "\n",
       "                                                  логистическая регрессия  \n",
       "accuracy_valid                                                   0.758942  \n",
       "accuracy_test                                                    0.740280  \n",
       "среднее время предсказания                                       0.000724  \n",
       "ср. квадратичное отклонение времени предсказания                 0.000033  "
      ]
     },
     "metadata": {},
     "execution_count": 14
    }
   ],
   "metadata": {}
  },
  {
   "cell_type": "markdown",
   "source": [
    "## Проверим модели на адекватность"
   ],
   "metadata": {}
  },
  {
   "cell_type": "markdown",
   "source": [
    "Будем считать, что если accuracy модели выше, чем у предположенных вариантов предсказания, то модель проходит проверку на адекватность.\n",
    "\n",
    "Для проверки модели на адекватность посчитаем доли клиентов каждого тарифа. "
   ],
   "metadata": {}
  },
  {
   "cell_type": "code",
   "execution_count": 15,
   "source": [
    "smart = (df['is_ultra']==0).sum() / df.shape[0]\r\n",
    "ultra = 1-smart\r\n",
    "print(\"Доля клинтов с тарифом Smart\", smart)\r\n",
    "print(\"Доля клинтов с тарифом Ultra\", ultra)"
   ],
   "outputs": [
    {
     "output_type": "stream",
     "name": "stdout",
     "text": [
      "Доля клинтов с тарифом Smart 0.693528313627878\n",
      "Доля клинтов с тарифом Ultra 0.30647168637212197\n"
     ]
    }
   ],
   "metadata": {}
  },
  {
   "cell_type": "markdown",
   "source": [
    "Выдвенем три предположения:  \n",
    "1) Будем утверждать, что все пользователи должны пользоваться тарифом с наибольшей долей (Smart);  \n",
    "2) Семи из десяти клиентов будем предлагать тариф Smart, а трем из десяти тариф Ultra;  \n",
    "3) Для каждого случая будем предсказывать тариф случайным образом."
   ],
   "metadata": {}
  },
  {
   "cell_type": "code",
   "execution_count": 16,
   "source": [
    "accuracy_only_smart = 1*smart\r\n",
    "accuracy_proportional = smart*smart+ultra*ultra\r\n",
    "accuracy_random = 0.5*0.5+0.5*0.5\r\n",
    "print(\"Вероятность правильного ответа по предположению 1)\", accuracy_only_smart)\r\n",
    "print(\"Вероятность правильного ответа по предположению 2)\", accuracy_proportional)\r\n",
    "print(\"Вероятность правильного ответа по предположению 3)\", accuracy_random)"
   ],
   "outputs": [
    {
     "output_type": "stream",
     "name": "stdout",
     "text": [
      "Вероятность правильного ответа по предположению 1) 0.693528313627878\n",
      "Вероятность правильного ответа по предположению 2) 0.5749064163513007\n",
      "Вероятность правильного ответа по предположению 3) 0.5\n"
     ]
    }
   ],
   "metadata": {}
  },
  {
   "cell_type": "markdown",
   "source": [
    "## Вывод \n",
    "По предоставленным данным обученым и валидированы три модели: дерево решений, случайный лес и логистическая регрессия.  \n",
    "Все модели на тестовой выборке имеют accuracy больше 0,75.  \n",
    "Модель случайный лес на валидационных данных имеет наибольший accuracy 0,8087, однако другие модели имеют accuracy не ниже 0,75, и при этом имеют среднее время предсказания более чем в 10 раз ниже.  \n",
    "Оптимальным по соотношению accuracy и длительности предсказания является модель дерева решения, устапая в точности модели случайного леса на 2,5%, но предсказывая в 10 раз быстрее."
   ],
   "metadata": {}
  }
 ],
 "metadata": {
  "ExecuteTimeLog": [
   {
    "duration": 1327,
    "start_time": "2021-08-12T13:25:28.873Z"
   },
   {
    "duration": 80,
    "start_time": "2021-08-12T13:25:30.203Z"
   },
   {
    "duration": 10,
    "start_time": "2021-08-12T13:25:30.287Z"
   },
   {
    "duration": 38,
    "start_time": "2021-08-12T13:25:30.300Z"
   },
   {
    "duration": 42,
    "start_time": "2021-08-12T13:25:30.341Z"
   },
   {
    "duration": 8,
    "start_time": "2021-08-12T13:25:30.386Z"
   },
   {
    "duration": 13,
    "start_time": "2021-08-12T13:25:30.396Z"
   },
   {
    "duration": 107,
    "start_time": "2021-08-12T13:25:30.411Z"
   },
   {
    "duration": 50001,
    "start_time": "2021-08-12T13:25:30.522Z"
   },
   {
    "duration": 11695,
    "start_time": "2021-08-12T13:26:20.527Z"
   },
   {
    "duration": 27,
    "start_time": "2021-08-12T13:26:32.225Z"
   },
   {
    "duration": 7256,
    "start_time": "2021-08-12T13:26:32.255Z"
   },
   {
    "duration": 4,
    "start_time": "2021-08-12T13:26:39.514Z"
   },
   {
    "duration": 17,
    "start_time": "2021-08-12T13:26:39.521Z"
   },
   {
    "duration": 10,
    "start_time": "2021-08-12T13:26:39.540Z"
   },
   {
    "duration": 36,
    "start_time": "2021-08-12T13:26:39.552Z"
   },
   {
    "duration": 1351,
    "start_time": "2021-10-08T13:58:42.154Z"
   },
   {
    "duration": 37,
    "start_time": "2021-10-08T13:58:43.508Z"
   },
   {
    "duration": 9,
    "start_time": "2021-10-08T13:58:43.548Z"
   },
   {
    "duration": 49,
    "start_time": "2021-10-08T13:58:43.559Z"
   },
   {
    "duration": 10,
    "start_time": "2021-10-08T13:58:43.610Z"
   },
   {
    "duration": 7,
    "start_time": "2021-10-08T13:58:43.623Z"
   },
   {
    "duration": 5,
    "start_time": "2021-10-08T13:58:43.632Z"
   },
   {
    "duration": 107,
    "start_time": "2021-10-08T13:58:43.639Z"
   },
   {
    "duration": 41704,
    "start_time": "2021-10-08T13:58:43.749Z"
   },
   {
    "duration": 8095,
    "start_time": "2021-10-08T13:59:25.456Z"
   },
   {
    "duration": 40,
    "start_time": "2021-10-08T13:59:33.554Z"
   },
   {
    "duration": 7152,
    "start_time": "2021-10-08T13:59:33.597Z"
   },
   {
    "duration": 5,
    "start_time": "2021-10-08T13:59:40.751Z"
   },
   {
    "duration": 29,
    "start_time": "2021-10-08T13:59:40.758Z"
   },
   {
    "duration": 9,
    "start_time": "2021-10-08T13:59:40.789Z"
   },
   {
    "duration": 14,
    "start_time": "2021-10-08T13:59:40.800Z"
   }
  ],
  "kernelspec": {
   "display_name": "Python 3",
   "language": "python",
   "name": "python3"
  },
  "language_info": {
   "codemirror_mode": {
    "name": "ipython",
    "version": 3
   },
   "file_extension": ".py",
   "mimetype": "text/x-python",
   "name": "python",
   "nbconvert_exporter": "python",
   "pygments_lexer": "ipython3",
   "version": "3.7.8"
  },
  "toc": {
   "base_numbering": 1,
   "nav_menu": {},
   "number_sections": true,
   "sideBar": true,
   "skip_h1_title": true,
   "title_cell": "Table of Contents",
   "title_sidebar": "Contents",
   "toc_cell": false,
   "toc_position": {},
   "toc_section_display": true,
   "toc_window_display": true
  }
 },
 "nbformat": 4,
 "nbformat_minor": 2
}