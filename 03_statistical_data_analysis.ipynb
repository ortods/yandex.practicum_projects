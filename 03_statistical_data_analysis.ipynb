{
 "cells": [
  {
   "cell_type": "markdown",
   "metadata": {},
   "source": [
    "# Определение перспективного тарифа для телеком компании"
   ]
  },
  {
   "cell_type": "markdown",
   "metadata": {},
   "source": [
    "## Введение \n",
    "Федеральный оператор сотовой связи предлагает клиентам два тарифных плана: «Смарт» и «Ультра». Для корректировки рекламного бюджета необходимо определить доходность тарифов для компании.\n",
    "Требуется провести предварительный анализ тарифов на выборке из данных 500 пользователей: кто они, откуда, каким тарифом пользуются, сколько звонков и сообщений каждый отправил за 2018 год. Нужно проанализировать поведение клиентов и сделать вывод — какой тариф лучше."
   ]
  },
  {
   "cell_type": "markdown",
   "metadata": {},
   "source": [
    "# Описание тарифов\n",
    "**Тариф «Смарт»**  \n",
    "Ежемесячная плата: 550 рублей  \n",
    "Включено 500 минут разговора, 50 сообщений и 15 Гб интернет-трафика  \n",
    "Стоимость услуг сверх тарифного пакета:  \n",
    "минута разговора: 3 рубля  \n",
    "сообщение: 3 рубля  \n",
    "1 Гб интернет-трафика: 200 рублей  \n",
    "\n",
    "**Тариф «Ультра»**  \n",
    "Ежемесячная плата: 1950 рублей  \n",
    "Включено 3000 минут разговора, 1000 сообщений и 30 Гб интернет-трафика  \n",
    "Стоимость услуг сверх тарифного пакета:  \n",
    "минута разговора: 1 рубль  \n",
    "сообщение: 1 рубль  \n",
    "1 Гб интернет-трафика: 150 рублей  \n",
    "\n",
    "Все значения минут и мегабайтов в тарифах округляются вверх (если пользователь проговорил всего 1 секунду, в тарифе засчитывается целая минута)."
   ]
  },
  {
   "cell_type": "markdown",
   "metadata": {},
   "source": [
    "# Описание данных\n",
    "**Таблица users (информация о пользователях):**  \n",
    "user_id — уникальный идентификатор пользователя  \n",
    "first_name — имя пользователя  \n",
    "last_name — фамилия пользователя  \n",
    "age — возраст пользователя (годы)  \n",
    "reg_date — дата подключения тарифа (день, месяц, год)  \n",
    "churn_date — дата прекращения пользования тарифом (если значение пропущено, то тариф ещё действовал на момент выгрузки данных)  \n",
    "city — город проживания пользователя  \n",
    "tariff — название тарифного плана  \n",
    "\n",
    "**Таблица calls (информация о звонках):**  \n",
    "id — уникальный номер звонка  \n",
    "call_date — дата звонка  \n",
    "duration — длительность звонка в минутах  \n",
    "user_id — идентификатор пользователя, сделавшего звонок  \n",
    "\n",
    "**Таблица messages (информация о сообщениях):**  \n",
    "id — уникальный номер сообщения  \n",
    "message_date — дата сообщения  \n",
    "user_id — идентификатор пользователя, отправившего сообщение  \n",
    "\n",
    "**Таблица internet (информация об интернет-сессиях):**  \n",
    "id — уникальный номер сессии  \n",
    "mb_used — объём потраченного за сессию интернет-трафика (в мегабайтах)  \n",
    "session_date — дата интернет-сессии  \n",
    "user_id — идентификатор пользователя  \n",
    "\n",
    "**Таблица tariffs (информация о тарифах):**  \n",
    "tariff_name — название тарифа  \n",
    "rub_monthly_fee — ежемесячная абонентская плата в рублях  \n",
    "minutes_included — количество минут разговора в месяц, включённых в абонентскую плату  \n",
    "messages_included — количество сообщений в месяц, включённых в абонентскую плату  \n",
    "mb_per_month_included — объём интернет-трафика, включённого в абонентскую плату (в мегабайтах)  \n",
    "rub_per_minute — стоимость минуты разговора сверх тарифного пакета (например, если в тарифе 100 минут разговора в месяц, то со 101 минуты будет взиматься плата)  \n",
    "rub_per_message — стоимость отправки сообщения сверх тарифного пакета  \n",
    "rub_per_gb — стоимость дополнительного гигабайта интернет-трафика сверх тарифного пакета (1 гигабайт = 1024 мегабайта)"
   ]
  },
  {
   "cell_type": "markdown",
   "metadata": {},
   "source": [
    "# Задачи проекта\n",
    "**1. Откройте файл с данными и изучите общую информацию**  \n",
    "\n",
    "Путь к файлам:  \n",
    "/datasets/calls.csv.  \n",
    "/datasets/internet.csv.   \n",
    "/datasets/messages.csv.   \n",
    "/datasets/tariffs.csv.   \n",
    "/datasets/users.csv.  \n",
    "\n",
    "**2. Подготовьте данные**  \n",
    "\n",
    "Приведите данные к нужным типам;  \n",
    "Найдите и исправьте ошибки в данных.  \n",
    "Поясните, какие ошибки вы нашли и как их исправили. Обратите внимание, что длительность многих звонков — 0.0 минут. Это могут быть пропущенные звонки. Обрабатывать ли эти нулевые значения, решать вам — оцените, как их отсутствие повлияет на результаты анализа.  \n",
    "\n",
    "Посчитайте для каждого пользователя:  \n",
    "- количество сделанных звонков и израсходованных минут разговора по месяцам;  \n",
    "- количество отправленных сообщений по месяцам;  \n",
    "- объем израсходованного интернет-трафика по месяцам;  \n",
    "- помесячную выручку с каждого пользователя (вычтите бесплатный лимит из суммарного количества звонков, сообщений и интернет-трафика; остаток умножьте на значение из тарифного плана; прибавьте абонентскую плату, соответствующую тарифному плану).\n",
    "\n",
    "**3. Проанализируйте данные**\n",
    "\n",
    "Опишите поведение клиентов оператора, исходя из выборки.  \n",
    "Сколько минут разговора, сколько сообщений и какой объём интернет-трафика требуется пользователям каждого тарифа в месяц?  \n",
    "Посчитайте среднее количество, дисперсию и стандартное отклонение.  \n",
    "Постройте гистограммы.  \n",
    "Опишите распределения.\n",
    "\n",
    "**4. Проверьте гипотезы**\n",
    "\n",
    "- Средняя выручка пользователей тарифов «Ультра» и «Смарт» различается;\n",
    "- Средняя выручка пользователей из Москвы отличается от выручки пользователей из других регионов;\n",
    "Пороговое значение alpha задайте самостоятельно.\n",
    "\n",
    "Поясните:\n",
    "- как вы формулировали нулевую и альтернативную гипотезы;\n",
    "- какой критерий использовали для проверки гипотез и почему.\n",
    "\n",
    "**5. Напишите общий вывод**"
   ]
  },
  {
   "cell_type": "markdown",
   "metadata": {},
   "source": [
    "## Открытие файла с данным и изучение общей информации"
   ]
  },
  {
   "cell_type": "markdown",
   "metadata": {},
   "source": [
    "Импортируем необходимые для анализа библиотеки и откроем имеющиеся файлы с данными"
   ]
  },
  {
   "cell_type": "code",
   "execution_count": 1,
   "metadata": {},
   "outputs": [],
   "source": [
    "import pandas as pd\n",
    "import matplotlib.pyplot as plt\n",
    "import math\n",
    "import numpy as np\n",
    "from scipy import stats as st\n",
    "\n",
    "calls = pd.read_csv('/datasets/calls.csv')\n",
    "internet = pd.read_csv('/datasets/internet.csv')\n",
    "messages = pd.read_csv('/datasets/messages.csv')\n",
    "tariffs = pd.read_csv('/datasets/tariffs.csv')\n",
    "users = pd.read_csv('/datasets/users.csv')"
   ]
  },
  {
   "cell_type": "markdown",
   "metadata": {},
   "source": [
    "Изучим информацию в таблице calls, проверим число звонков с длительностью 0 минут."
   ]
  },
  {
   "cell_type": "code",
   "execution_count": 2,
   "metadata": {},
   "outputs": [
    {
     "data": {
      "text/html": [
       "<div>\n",
       "<style scoped>\n",
       "    .dataframe tbody tr th:only-of-type {\n",
       "        vertical-align: middle;\n",
       "    }\n",
       "\n",
       "    .dataframe tbody tr th {\n",
       "        vertical-align: top;\n",
       "    }\n",
       "\n",
       "    .dataframe thead th {\n",
       "        text-align: right;\n",
       "    }\n",
       "</style>\n",
       "<table border=\"1\" class=\"dataframe\">\n",
       "  <thead>\n",
       "    <tr style=\"text-align: right;\">\n",
       "      <th></th>\n",
       "      <th>id</th>\n",
       "      <th>call_date</th>\n",
       "      <th>duration</th>\n",
       "      <th>user_id</th>\n",
       "    </tr>\n",
       "  </thead>\n",
       "  <tbody>\n",
       "    <tr>\n",
       "      <td>0</td>\n",
       "      <td>1000_0</td>\n",
       "      <td>2018-07-25</td>\n",
       "      <td>0.00</td>\n",
       "      <td>1000</td>\n",
       "    </tr>\n",
       "    <tr>\n",
       "      <td>1</td>\n",
       "      <td>1000_1</td>\n",
       "      <td>2018-08-17</td>\n",
       "      <td>0.00</td>\n",
       "      <td>1000</td>\n",
       "    </tr>\n",
       "    <tr>\n",
       "      <td>2</td>\n",
       "      <td>1000_2</td>\n",
       "      <td>2018-06-11</td>\n",
       "      <td>2.85</td>\n",
       "      <td>1000</td>\n",
       "    </tr>\n",
       "    <tr>\n",
       "      <td>3</td>\n",
       "      <td>1000_3</td>\n",
       "      <td>2018-09-21</td>\n",
       "      <td>13.80</td>\n",
       "      <td>1000</td>\n",
       "    </tr>\n",
       "    <tr>\n",
       "      <td>4</td>\n",
       "      <td>1000_4</td>\n",
       "      <td>2018-12-15</td>\n",
       "      <td>5.18</td>\n",
       "      <td>1000</td>\n",
       "    </tr>\n",
       "  </tbody>\n",
       "</table>\n",
       "</div>"
      ],
      "text/plain": [
       "       id   call_date  duration  user_id\n",
       "0  1000_0  2018-07-25      0.00     1000\n",
       "1  1000_1  2018-08-17      0.00     1000\n",
       "2  1000_2  2018-06-11      2.85     1000\n",
       "3  1000_3  2018-09-21     13.80     1000\n",
       "4  1000_4  2018-12-15      5.18     1000"
      ]
     },
     "execution_count": 2,
     "metadata": {},
     "output_type": "execute_result"
    }
   ],
   "source": [
    "calls.head()"
   ]
  },
  {
   "cell_type": "code",
   "execution_count": 3,
   "metadata": {},
   "outputs": [
    {
     "name": "stdout",
     "output_type": "stream",
     "text": [
      "<class 'pandas.core.frame.DataFrame'>\n",
      "RangeIndex: 202607 entries, 0 to 202606\n",
      "Data columns (total 4 columns):\n",
      "id           202607 non-null object\n",
      "call_date    202607 non-null object\n",
      "duration     202607 non-null float64\n",
      "user_id      202607 non-null int64\n",
      "dtypes: float64(1), int64(1), object(2)\n",
      "memory usage: 6.2+ MB\n"
     ]
    }
   ],
   "source": [
    "calls.info()"
   ]
  },
  {
   "cell_type": "code",
   "execution_count": 4,
   "metadata": {},
   "outputs": [
    {
     "name": "stdout",
     "output_type": "stream",
     "text": [
      "Количество звонков с длительностью 0 минут равно 39613 или 19.6% от всех звонков\n"
     ]
    }
   ],
   "source": [
    "print(\n",
    "    f\"Количество звонков с длительностью 0 минут равно {len(calls.query('duration == 0'))} или {len(calls.query('duration == 0'))/len(calls):.1%} от всех звонков\"\n",
    ")"
   ]
  },
  {
   "cell_type": "markdown",
   "metadata": {},
   "source": [
    "Изучим информацию в таблице internet, проверим число интернет-сессий с объемом трафика 0 Мбайт."
   ]
  },
  {
   "cell_type": "code",
   "execution_count": 5,
   "metadata": {},
   "outputs": [
    {
     "data": {
      "text/html": [
       "<div>\n",
       "<style scoped>\n",
       "    .dataframe tbody tr th:only-of-type {\n",
       "        vertical-align: middle;\n",
       "    }\n",
       "\n",
       "    .dataframe tbody tr th {\n",
       "        vertical-align: top;\n",
       "    }\n",
       "\n",
       "    .dataframe thead th {\n",
       "        text-align: right;\n",
       "    }\n",
       "</style>\n",
       "<table border=\"1\" class=\"dataframe\">\n",
       "  <thead>\n",
       "    <tr style=\"text-align: right;\">\n",
       "      <th></th>\n",
       "      <th>Unnamed: 0</th>\n",
       "      <th>id</th>\n",
       "      <th>mb_used</th>\n",
       "      <th>session_date</th>\n",
       "      <th>user_id</th>\n",
       "    </tr>\n",
       "  </thead>\n",
       "  <tbody>\n",
       "    <tr>\n",
       "      <td>0</td>\n",
       "      <td>0</td>\n",
       "      <td>1000_0</td>\n",
       "      <td>112.95</td>\n",
       "      <td>2018-11-25</td>\n",
       "      <td>1000</td>\n",
       "    </tr>\n",
       "    <tr>\n",
       "      <td>1</td>\n",
       "      <td>1</td>\n",
       "      <td>1000_1</td>\n",
       "      <td>1052.81</td>\n",
       "      <td>2018-09-07</td>\n",
       "      <td>1000</td>\n",
       "    </tr>\n",
       "    <tr>\n",
       "      <td>2</td>\n",
       "      <td>2</td>\n",
       "      <td>1000_2</td>\n",
       "      <td>1197.26</td>\n",
       "      <td>2018-06-25</td>\n",
       "      <td>1000</td>\n",
       "    </tr>\n",
       "    <tr>\n",
       "      <td>3</td>\n",
       "      <td>3</td>\n",
       "      <td>1000_3</td>\n",
       "      <td>550.27</td>\n",
       "      <td>2018-08-22</td>\n",
       "      <td>1000</td>\n",
       "    </tr>\n",
       "    <tr>\n",
       "      <td>4</td>\n",
       "      <td>4</td>\n",
       "      <td>1000_4</td>\n",
       "      <td>302.56</td>\n",
       "      <td>2018-09-24</td>\n",
       "      <td>1000</td>\n",
       "    </tr>\n",
       "  </tbody>\n",
       "</table>\n",
       "</div>"
      ],
      "text/plain": [
       "   Unnamed: 0      id  mb_used session_date  user_id\n",
       "0           0  1000_0   112.95   2018-11-25     1000\n",
       "1           1  1000_1  1052.81   2018-09-07     1000\n",
       "2           2  1000_2  1197.26   2018-06-25     1000\n",
       "3           3  1000_3   550.27   2018-08-22     1000\n",
       "4           4  1000_4   302.56   2018-09-24     1000"
      ]
     },
     "execution_count": 5,
     "metadata": {},
     "output_type": "execute_result"
    }
   ],
   "source": [
    "internet.head()"
   ]
  },
  {
   "cell_type": "code",
   "execution_count": 6,
   "metadata": {},
   "outputs": [
    {
     "name": "stdout",
     "output_type": "stream",
     "text": [
      "<class 'pandas.core.frame.DataFrame'>\n",
      "RangeIndex: 149396 entries, 0 to 149395\n",
      "Data columns (total 5 columns):\n",
      "Unnamed: 0      149396 non-null int64\n",
      "id              149396 non-null object\n",
      "mb_used         149396 non-null float64\n",
      "session_date    149396 non-null object\n",
      "user_id         149396 non-null int64\n",
      "dtypes: float64(1), int64(2), object(2)\n",
      "memory usage: 5.7+ MB\n"
     ]
    }
   ],
   "source": [
    "internet.info()"
   ]
  },
  {
   "cell_type": "code",
   "execution_count": 7,
   "metadata": {},
   "outputs": [
    {
     "name": "stdout",
     "output_type": "stream",
     "text": [
      "Количество интернет-сессий с объемом трафика 0 Мбайт равно 19598 или 13.1% от всех интернет-сессий\n"
     ]
    }
   ],
   "source": [
    "print(\n",
    "    f\"Количество интернет-сессий с объемом трафика 0 Мбайт равно {len(internet.query('mb_used == 0'))} или {len(internet.query('mb_used == 0'))/len(internet):.1%} от всех интернет-сессий\"\n",
    ")"
   ]
  },
  {
   "cell_type": "markdown",
   "metadata": {},
   "source": [
    "Изучим информацию в таблице messages"
   ]
  },
  {
   "cell_type": "code",
   "execution_count": 8,
   "metadata": {},
   "outputs": [
    {
     "data": {
      "text/html": [
       "<div>\n",
       "<style scoped>\n",
       "    .dataframe tbody tr th:only-of-type {\n",
       "        vertical-align: middle;\n",
       "    }\n",
       "\n",
       "    .dataframe tbody tr th {\n",
       "        vertical-align: top;\n",
       "    }\n",
       "\n",
       "    .dataframe thead th {\n",
       "        text-align: right;\n",
       "    }\n",
       "</style>\n",
       "<table border=\"1\" class=\"dataframe\">\n",
       "  <thead>\n",
       "    <tr style=\"text-align: right;\">\n",
       "      <th></th>\n",
       "      <th>id</th>\n",
       "      <th>message_date</th>\n",
       "      <th>user_id</th>\n",
       "    </tr>\n",
       "  </thead>\n",
       "  <tbody>\n",
       "    <tr>\n",
       "      <td>0</td>\n",
       "      <td>1000_0</td>\n",
       "      <td>2018-06-27</td>\n",
       "      <td>1000</td>\n",
       "    </tr>\n",
       "    <tr>\n",
       "      <td>1</td>\n",
       "      <td>1000_1</td>\n",
       "      <td>2018-10-08</td>\n",
       "      <td>1000</td>\n",
       "    </tr>\n",
       "    <tr>\n",
       "      <td>2</td>\n",
       "      <td>1000_2</td>\n",
       "      <td>2018-08-04</td>\n",
       "      <td>1000</td>\n",
       "    </tr>\n",
       "    <tr>\n",
       "      <td>3</td>\n",
       "      <td>1000_3</td>\n",
       "      <td>2018-06-16</td>\n",
       "      <td>1000</td>\n",
       "    </tr>\n",
       "    <tr>\n",
       "      <td>4</td>\n",
       "      <td>1000_4</td>\n",
       "      <td>2018-12-05</td>\n",
       "      <td>1000</td>\n",
       "    </tr>\n",
       "  </tbody>\n",
       "</table>\n",
       "</div>"
      ],
      "text/plain": [
       "       id message_date  user_id\n",
       "0  1000_0   2018-06-27     1000\n",
       "1  1000_1   2018-10-08     1000\n",
       "2  1000_2   2018-08-04     1000\n",
       "3  1000_3   2018-06-16     1000\n",
       "4  1000_4   2018-12-05     1000"
      ]
     },
     "execution_count": 8,
     "metadata": {},
     "output_type": "execute_result"
    }
   ],
   "source": [
    "messages.head()"
   ]
  },
  {
   "cell_type": "code",
   "execution_count": 9,
   "metadata": {},
   "outputs": [
    {
     "name": "stdout",
     "output_type": "stream",
     "text": [
      "<class 'pandas.core.frame.DataFrame'>\n",
      "RangeIndex: 123036 entries, 0 to 123035\n",
      "Data columns (total 3 columns):\n",
      "id              123036 non-null object\n",
      "message_date    123036 non-null object\n",
      "user_id         123036 non-null int64\n",
      "dtypes: int64(1), object(2)\n",
      "memory usage: 2.8+ MB\n"
     ]
    }
   ],
   "source": [
    "messages.info()"
   ]
  },
  {
   "cell_type": "markdown",
   "metadata": {},
   "source": [
    "Изучим информацию в таблице tariffs"
   ]
  },
  {
   "cell_type": "code",
   "execution_count": 10,
   "metadata": {},
   "outputs": [
    {
     "data": {
      "text/html": [
       "<div>\n",
       "<style scoped>\n",
       "    .dataframe tbody tr th:only-of-type {\n",
       "        vertical-align: middle;\n",
       "    }\n",
       "\n",
       "    .dataframe tbody tr th {\n",
       "        vertical-align: top;\n",
       "    }\n",
       "\n",
       "    .dataframe thead th {\n",
       "        text-align: right;\n",
       "    }\n",
       "</style>\n",
       "<table border=\"1\" class=\"dataframe\">\n",
       "  <thead>\n",
       "    <tr style=\"text-align: right;\">\n",
       "      <th></th>\n",
       "      <th>messages_included</th>\n",
       "      <th>mb_per_month_included</th>\n",
       "      <th>minutes_included</th>\n",
       "      <th>rub_monthly_fee</th>\n",
       "      <th>rub_per_gb</th>\n",
       "      <th>rub_per_message</th>\n",
       "      <th>rub_per_minute</th>\n",
       "      <th>tariff_name</th>\n",
       "    </tr>\n",
       "  </thead>\n",
       "  <tbody>\n",
       "    <tr>\n",
       "      <td>0</td>\n",
       "      <td>50</td>\n",
       "      <td>15360</td>\n",
       "      <td>500</td>\n",
       "      <td>550</td>\n",
       "      <td>200</td>\n",
       "      <td>3</td>\n",
       "      <td>3</td>\n",
       "      <td>smart</td>\n",
       "    </tr>\n",
       "    <tr>\n",
       "      <td>1</td>\n",
       "      <td>1000</td>\n",
       "      <td>30720</td>\n",
       "      <td>3000</td>\n",
       "      <td>1950</td>\n",
       "      <td>150</td>\n",
       "      <td>1</td>\n",
       "      <td>1</td>\n",
       "      <td>ultra</td>\n",
       "    </tr>\n",
       "  </tbody>\n",
       "</table>\n",
       "</div>"
      ],
      "text/plain": [
       "   messages_included  mb_per_month_included  minutes_included  \\\n",
       "0                 50                  15360               500   \n",
       "1               1000                  30720              3000   \n",
       "\n",
       "   rub_monthly_fee  rub_per_gb  rub_per_message  rub_per_minute tariff_name  \n",
       "0              550         200                3               3       smart  \n",
       "1             1950         150                1               1       ultra  "
      ]
     },
     "execution_count": 10,
     "metadata": {},
     "output_type": "execute_result"
    }
   ],
   "source": [
    "tariffs.head()"
   ]
  },
  {
   "cell_type": "code",
   "execution_count": 11,
   "metadata": {},
   "outputs": [
    {
     "name": "stdout",
     "output_type": "stream",
     "text": [
      "<class 'pandas.core.frame.DataFrame'>\n",
      "RangeIndex: 2 entries, 0 to 1\n",
      "Data columns (total 8 columns):\n",
      "messages_included        2 non-null int64\n",
      "mb_per_month_included    2 non-null int64\n",
      "minutes_included         2 non-null int64\n",
      "rub_monthly_fee          2 non-null int64\n",
      "rub_per_gb               2 non-null int64\n",
      "rub_per_message          2 non-null int64\n",
      "rub_per_minute           2 non-null int64\n",
      "tariff_name              2 non-null object\n",
      "dtypes: int64(7), object(1)\n",
      "memory usage: 256.0+ bytes\n"
     ]
    }
   ],
   "source": [
    "tariffs.info()"
   ]
  },
  {
   "cell_type": "markdown",
   "metadata": {},
   "source": [
    "Изучим информацию в таблице users"
   ]
  },
  {
   "cell_type": "code",
   "execution_count": 12,
   "metadata": {},
   "outputs": [
    {
     "data": {
      "text/html": [
       "<div>\n",
       "<style scoped>\n",
       "    .dataframe tbody tr th:only-of-type {\n",
       "        vertical-align: middle;\n",
       "    }\n",
       "\n",
       "    .dataframe tbody tr th {\n",
       "        vertical-align: top;\n",
       "    }\n",
       "\n",
       "    .dataframe thead th {\n",
       "        text-align: right;\n",
       "    }\n",
       "</style>\n",
       "<table border=\"1\" class=\"dataframe\">\n",
       "  <thead>\n",
       "    <tr style=\"text-align: right;\">\n",
       "      <th></th>\n",
       "      <th>user_id</th>\n",
       "      <th>age</th>\n",
       "      <th>churn_date</th>\n",
       "      <th>city</th>\n",
       "      <th>first_name</th>\n",
       "      <th>last_name</th>\n",
       "      <th>reg_date</th>\n",
       "      <th>tariff</th>\n",
       "    </tr>\n",
       "  </thead>\n",
       "  <tbody>\n",
       "    <tr>\n",
       "      <td>0</td>\n",
       "      <td>1000</td>\n",
       "      <td>52</td>\n",
       "      <td>NaN</td>\n",
       "      <td>Краснодар</td>\n",
       "      <td>Рафаил</td>\n",
       "      <td>Верещагин</td>\n",
       "      <td>2018-05-25</td>\n",
       "      <td>ultra</td>\n",
       "    </tr>\n",
       "    <tr>\n",
       "      <td>1</td>\n",
       "      <td>1001</td>\n",
       "      <td>41</td>\n",
       "      <td>NaN</td>\n",
       "      <td>Москва</td>\n",
       "      <td>Иван</td>\n",
       "      <td>Ежов</td>\n",
       "      <td>2018-11-01</td>\n",
       "      <td>smart</td>\n",
       "    </tr>\n",
       "    <tr>\n",
       "      <td>2</td>\n",
       "      <td>1002</td>\n",
       "      <td>59</td>\n",
       "      <td>NaN</td>\n",
       "      <td>Стерлитамак</td>\n",
       "      <td>Евгений</td>\n",
       "      <td>Абрамович</td>\n",
       "      <td>2018-06-17</td>\n",
       "      <td>smart</td>\n",
       "    </tr>\n",
       "    <tr>\n",
       "      <td>3</td>\n",
       "      <td>1003</td>\n",
       "      <td>23</td>\n",
       "      <td>NaN</td>\n",
       "      <td>Москва</td>\n",
       "      <td>Белла</td>\n",
       "      <td>Белякова</td>\n",
       "      <td>2018-08-17</td>\n",
       "      <td>ultra</td>\n",
       "    </tr>\n",
       "    <tr>\n",
       "      <td>4</td>\n",
       "      <td>1004</td>\n",
       "      <td>68</td>\n",
       "      <td>NaN</td>\n",
       "      <td>Новокузнецк</td>\n",
       "      <td>Татьяна</td>\n",
       "      <td>Авдеенко</td>\n",
       "      <td>2018-05-14</td>\n",
       "      <td>ultra</td>\n",
       "    </tr>\n",
       "  </tbody>\n",
       "</table>\n",
       "</div>"
      ],
      "text/plain": [
       "   user_id  age churn_date         city first_name  last_name    reg_date  \\\n",
       "0     1000   52        NaN    Краснодар     Рафаил  Верещагин  2018-05-25   \n",
       "1     1001   41        NaN       Москва       Иван       Ежов  2018-11-01   \n",
       "2     1002   59        NaN  Стерлитамак    Евгений  Абрамович  2018-06-17   \n",
       "3     1003   23        NaN       Москва      Белла   Белякова  2018-08-17   \n",
       "4     1004   68        NaN  Новокузнецк    Татьяна   Авдеенко  2018-05-14   \n",
       "\n",
       "  tariff  \n",
       "0  ultra  \n",
       "1  smart  \n",
       "2  smart  \n",
       "3  ultra  \n",
       "4  ultra  "
      ]
     },
     "execution_count": 12,
     "metadata": {},
     "output_type": "execute_result"
    }
   ],
   "source": [
    "users.head()"
   ]
  },
  {
   "cell_type": "code",
   "execution_count": 13,
   "metadata": {},
   "outputs": [
    {
     "name": "stdout",
     "output_type": "stream",
     "text": [
      "<class 'pandas.core.frame.DataFrame'>\n",
      "RangeIndex: 500 entries, 0 to 499\n",
      "Data columns (total 8 columns):\n",
      "user_id       500 non-null int64\n",
      "age           500 non-null int64\n",
      "churn_date    38 non-null object\n",
      "city          500 non-null object\n",
      "first_name    500 non-null object\n",
      "last_name     500 non-null object\n",
      "reg_date      500 non-null object\n",
      "tariff        500 non-null object\n",
      "dtypes: int64(2), object(6)\n",
      "memory usage: 31.4+ KB\n"
     ]
    }
   ],
   "source": [
    "users.info()"
   ]
  },
  {
   "cell_type": "markdown",
   "metadata": {},
   "source": [
    "### Вывод"
   ]
  },
  {
   "cell_type": "markdown",
   "metadata": {},
   "source": [
    "1) В таблице calls столбец 'call_date' потребуется привести к типу данных datetime, столбец\t'duration' округлим в большую сторону и приведем к формату 'int'.  \n",
    "2) В таблице internet столбец 'session_date' потребуется привести к типу данных datetime, столбец 'mb_used' округлим в большую сторону и приведем к формату 'int'. Столбец 'Unnamed: 0' удалим, так как в перечне описания столбцов этой таблицы он отсутствует и для анализа использоваться не будет. По всей видимости он дублирует индексы таблицы и возник из-за некорректной конвертации датасета из базы данных в .csv формат.  \n",
    "3) В таблице messages столбец 'message_date' потребуется привести к типу данных datetime.  \n",
    "4) В таблице users столбец 'churn_date' и 'reg_date' потребуется привести к типу данных datetime.  \n",
    "5) В таблицах calls и internet в столбцах 'duration' и 'mb_used' соответственно, имеются данные с нулевыми значениями (19,6% и 13,1% соответственно). Вероятная причина появления этих данных - телефонные звонки без ответов и неуспешные попытки начать интернет-сессию, когда система зарегистрировала попытку, однако фактического потребления трафика по тарифному плану не было. Удалим эти значения, в связи с тем, что эти нулевые значения повлияют на исследуемые статистические величины (среднее, стандартное отклонение и тд.). "
   ]
  },
  {
   "cell_type": "markdown",
   "metadata": {},
   "source": [
    "## Подготовка данных"
   ]
  },
  {
   "cell_type": "markdown",
   "metadata": {},
   "source": [
    "### Приведение данных к нужным типам"
   ]
  },
  {
   "cell_type": "markdown",
   "metadata": {},
   "source": [
    "Приводим данные к типу datetime в соответствии с пунктом 1.1."
   ]
  },
  {
   "cell_type": "code",
   "execution_count": 14,
   "metadata": {},
   "outputs": [],
   "source": [
    "calls['call_date'] = pd.to_datetime(calls['call_date'], format='%Y-%m-%d')\n",
    "internet['session_date'] = pd.to_datetime(internet['session_date'], format='%Y-%m-%d')\n",
    "messages['message_date'] = pd.to_datetime(messages['message_date'], format='%Y-%m-%d')\n",
    "users['churn_date'] = pd.to_datetime(users['churn_date'], format='%Y-%m-%d')\n",
    "users['reg_date'] = pd.to_datetime(users['reg_date'], format='%Y-%m-%d')"
   ]
  },
  {
   "cell_type": "markdown",
   "metadata": {},
   "source": [
    "Округляем данные в большую сторону и приводим данные к типу int в соответствии с пунктом 1.1. Для этого создадим функцию округления в большую сторону и пременим ее для каждой строки, после чего изменим тип данных на 'int'. "
   ]
  },
  {
   "cell_type": "code",
   "execution_count": 15,
   "metadata": {},
   "outputs": [],
   "source": [
    "def ceil_value(value):\n",
    "    return math.ceil(value)\n",
    "calls['duration'] = calls['duration'].apply(ceil_value).astype('int')  \n",
    "internet['mb_used'] = internet['mb_used'].apply(ceil_value).astype('int')  "
   ]
  },
  {
   "cell_type": "code",
   "execution_count": 16,
   "metadata": {},
   "outputs": [
    {
     "data": {
      "text/plain": [
       "id                   object\n",
       "call_date    datetime64[ns]\n",
       "duration              int64\n",
       "user_id               int64\n",
       "dtype: object"
      ]
     },
     "metadata": {},
     "output_type": "display_data"
    },
    {
     "data": {
      "text/plain": [
       "Unnamed: 0               int64\n",
       "id                      object\n",
       "mb_used                  int64\n",
       "session_date    datetime64[ns]\n",
       "user_id                  int64\n",
       "dtype: object"
      ]
     },
     "metadata": {},
     "output_type": "display_data"
    },
    {
     "data": {
      "text/plain": [
       "id                      object\n",
       "message_date    datetime64[ns]\n",
       "user_id                  int64\n",
       "dtype: object"
      ]
     },
     "metadata": {},
     "output_type": "display_data"
    },
    {
     "data": {
      "text/plain": [
       "user_id                int64\n",
       "age                    int64\n",
       "churn_date    datetime64[ns]\n",
       "city                  object\n",
       "first_name            object\n",
       "last_name             object\n",
       "reg_date      datetime64[ns]\n",
       "tariff                object\n",
       "dtype: object"
      ]
     },
     "metadata": {},
     "output_type": "display_data"
    }
   ],
   "source": [
    "display(calls.dtypes)\n",
    "display(internet.dtypes)\n",
    "display(messages.dtypes)\n",
    "display(users.dtypes)        "
   ]
  },
  {
   "cell_type": "markdown",
   "metadata": {},
   "source": [
    "### Исправим ошибки в данных"
   ]
  },
  {
   "cell_type": "markdown",
   "metadata": {},
   "source": [
    "В таблице internet удалим столбец 'Unnamed: 0' в соответствии с пунктом 1.1."
   ]
  },
  {
   "cell_type": "code",
   "execution_count": 17,
   "metadata": {},
   "outputs": [],
   "source": [
    "internet = internet.drop(['Unnamed: 0'], axis=1)"
   ]
  },
  {
   "cell_type": "markdown",
   "metadata": {},
   "source": [
    "В таблицах calls и internet в столбцах 'duration' и 'mb_used' с помощью среза удалим нулевые значения в соответствии с пунктом 1.1. "
   ]
  },
  {
   "cell_type": "code",
   "execution_count": 18,
   "metadata": {},
   "outputs": [],
   "source": [
    "calls = calls.query('duration > 0')\n",
    "internet = internet.query('mb_used > 0')"
   ]
  },
  {
   "cell_type": "markdown",
   "metadata": {},
   "source": [
    "Для расчета по каждому пользователю количества сделанных звонков и израсходованных минут разговора по месяцам, количества отправленных сообщений по месяцам, объема израсходованного интернет-трафика по месяцам, помесячную выручку с каждого пользователя добавим в таблицы столбцы с месяцем пользования услугой."
   ]
  },
  {
   "cell_type": "code",
   "execution_count": 19,
   "metadata": {},
   "outputs": [],
   "source": [
    "calls['month'] = pd.DatetimeIndex(calls['call_date']).month\n",
    "internet['month'] = pd.DatetimeIndex(internet['session_date']).month\n",
    "messages['month'] = pd.DatetimeIndex(messages['message_date']).month"
   ]
  },
  {
   "cell_type": "code",
   "execution_count": 20,
   "metadata": {},
   "outputs": [
    {
     "data": {
      "text/html": [
       "<div>\n",
       "<style scoped>\n",
       "    .dataframe tbody tr th:only-of-type {\n",
       "        vertical-align: middle;\n",
       "    }\n",
       "\n",
       "    .dataframe tbody tr th {\n",
       "        vertical-align: top;\n",
       "    }\n",
       "\n",
       "    .dataframe thead th {\n",
       "        text-align: right;\n",
       "    }\n",
       "</style>\n",
       "<table border=\"1\" class=\"dataframe\">\n",
       "  <thead>\n",
       "    <tr style=\"text-align: right;\">\n",
       "      <th></th>\n",
       "      <th>id</th>\n",
       "      <th>call_date</th>\n",
       "      <th>duration</th>\n",
       "      <th>user_id</th>\n",
       "      <th>month</th>\n",
       "    </tr>\n",
       "  </thead>\n",
       "  <tbody>\n",
       "    <tr>\n",
       "      <td>2</td>\n",
       "      <td>1000_2</td>\n",
       "      <td>2018-06-11</td>\n",
       "      <td>3</td>\n",
       "      <td>1000</td>\n",
       "      <td>6</td>\n",
       "    </tr>\n",
       "    <tr>\n",
       "      <td>3</td>\n",
       "      <td>1000_3</td>\n",
       "      <td>2018-09-21</td>\n",
       "      <td>14</td>\n",
       "      <td>1000</td>\n",
       "      <td>9</td>\n",
       "    </tr>\n",
       "    <tr>\n",
       "      <td>4</td>\n",
       "      <td>1000_4</td>\n",
       "      <td>2018-12-15</td>\n",
       "      <td>6</td>\n",
       "      <td>1000</td>\n",
       "      <td>12</td>\n",
       "    </tr>\n",
       "    <tr>\n",
       "      <td>7</td>\n",
       "      <td>1000_7</td>\n",
       "      <td>2018-08-22</td>\n",
       "      <td>19</td>\n",
       "      <td>1000</td>\n",
       "      <td>8</td>\n",
       "    </tr>\n",
       "    <tr>\n",
       "      <td>8</td>\n",
       "      <td>1000_8</td>\n",
       "      <td>2018-09-15</td>\n",
       "      <td>19</td>\n",
       "      <td>1000</td>\n",
       "      <td>9</td>\n",
       "    </tr>\n",
       "  </tbody>\n",
       "</table>\n",
       "</div>"
      ],
      "text/plain": [
       "       id  call_date  duration  user_id  month\n",
       "2  1000_2 2018-06-11         3     1000      6\n",
       "3  1000_3 2018-09-21        14     1000      9\n",
       "4  1000_4 2018-12-15         6     1000     12\n",
       "7  1000_7 2018-08-22        19     1000      8\n",
       "8  1000_8 2018-09-15        19     1000      9"
      ]
     },
     "metadata": {},
     "output_type": "display_data"
    },
    {
     "data": {
      "text/html": [
       "<div>\n",
       "<style scoped>\n",
       "    .dataframe tbody tr th:only-of-type {\n",
       "        vertical-align: middle;\n",
       "    }\n",
       "\n",
       "    .dataframe tbody tr th {\n",
       "        vertical-align: top;\n",
       "    }\n",
       "\n",
       "    .dataframe thead th {\n",
       "        text-align: right;\n",
       "    }\n",
       "</style>\n",
       "<table border=\"1\" class=\"dataframe\">\n",
       "  <thead>\n",
       "    <tr style=\"text-align: right;\">\n",
       "      <th></th>\n",
       "      <th>id</th>\n",
       "      <th>mb_used</th>\n",
       "      <th>session_date</th>\n",
       "      <th>user_id</th>\n",
       "      <th>month</th>\n",
       "    </tr>\n",
       "  </thead>\n",
       "  <tbody>\n",
       "    <tr>\n",
       "      <td>0</td>\n",
       "      <td>1000_0</td>\n",
       "      <td>113</td>\n",
       "      <td>2018-11-25</td>\n",
       "      <td>1000</td>\n",
       "      <td>11</td>\n",
       "    </tr>\n",
       "    <tr>\n",
       "      <td>1</td>\n",
       "      <td>1000_1</td>\n",
       "      <td>1053</td>\n",
       "      <td>2018-09-07</td>\n",
       "      <td>1000</td>\n",
       "      <td>9</td>\n",
       "    </tr>\n",
       "    <tr>\n",
       "      <td>2</td>\n",
       "      <td>1000_2</td>\n",
       "      <td>1198</td>\n",
       "      <td>2018-06-25</td>\n",
       "      <td>1000</td>\n",
       "      <td>6</td>\n",
       "    </tr>\n",
       "    <tr>\n",
       "      <td>3</td>\n",
       "      <td>1000_3</td>\n",
       "      <td>551</td>\n",
       "      <td>2018-08-22</td>\n",
       "      <td>1000</td>\n",
       "      <td>8</td>\n",
       "    </tr>\n",
       "    <tr>\n",
       "      <td>4</td>\n",
       "      <td>1000_4</td>\n",
       "      <td>303</td>\n",
       "      <td>2018-09-24</td>\n",
       "      <td>1000</td>\n",
       "      <td>9</td>\n",
       "    </tr>\n",
       "  </tbody>\n",
       "</table>\n",
       "</div>"
      ],
      "text/plain": [
       "       id  mb_used session_date  user_id  month\n",
       "0  1000_0      113   2018-11-25     1000     11\n",
       "1  1000_1     1053   2018-09-07     1000      9\n",
       "2  1000_2     1198   2018-06-25     1000      6\n",
       "3  1000_3      551   2018-08-22     1000      8\n",
       "4  1000_4      303   2018-09-24     1000      9"
      ]
     },
     "metadata": {},
     "output_type": "display_data"
    },
    {
     "data": {
      "text/html": [
       "<div>\n",
       "<style scoped>\n",
       "    .dataframe tbody tr th:only-of-type {\n",
       "        vertical-align: middle;\n",
       "    }\n",
       "\n",
       "    .dataframe tbody tr th {\n",
       "        vertical-align: top;\n",
       "    }\n",
       "\n",
       "    .dataframe thead th {\n",
       "        text-align: right;\n",
       "    }\n",
       "</style>\n",
       "<table border=\"1\" class=\"dataframe\">\n",
       "  <thead>\n",
       "    <tr style=\"text-align: right;\">\n",
       "      <th></th>\n",
       "      <th>id</th>\n",
       "      <th>message_date</th>\n",
       "      <th>user_id</th>\n",
       "      <th>month</th>\n",
       "    </tr>\n",
       "  </thead>\n",
       "  <tbody>\n",
       "    <tr>\n",
       "      <td>0</td>\n",
       "      <td>1000_0</td>\n",
       "      <td>2018-06-27</td>\n",
       "      <td>1000</td>\n",
       "      <td>6</td>\n",
       "    </tr>\n",
       "    <tr>\n",
       "      <td>1</td>\n",
       "      <td>1000_1</td>\n",
       "      <td>2018-10-08</td>\n",
       "      <td>1000</td>\n",
       "      <td>10</td>\n",
       "    </tr>\n",
       "    <tr>\n",
       "      <td>2</td>\n",
       "      <td>1000_2</td>\n",
       "      <td>2018-08-04</td>\n",
       "      <td>1000</td>\n",
       "      <td>8</td>\n",
       "    </tr>\n",
       "    <tr>\n",
       "      <td>3</td>\n",
       "      <td>1000_3</td>\n",
       "      <td>2018-06-16</td>\n",
       "      <td>1000</td>\n",
       "      <td>6</td>\n",
       "    </tr>\n",
       "    <tr>\n",
       "      <td>4</td>\n",
       "      <td>1000_4</td>\n",
       "      <td>2018-12-05</td>\n",
       "      <td>1000</td>\n",
       "      <td>12</td>\n",
       "    </tr>\n",
       "  </tbody>\n",
       "</table>\n",
       "</div>"
      ],
      "text/plain": [
       "       id message_date  user_id  month\n",
       "0  1000_0   2018-06-27     1000      6\n",
       "1  1000_1   2018-10-08     1000     10\n",
       "2  1000_2   2018-08-04     1000      8\n",
       "3  1000_3   2018-06-16     1000      6\n",
       "4  1000_4   2018-12-05     1000     12"
      ]
     },
     "metadata": {},
     "output_type": "display_data"
    }
   ],
   "source": [
    "display(calls.head())\n",
    "display(internet.head())\n",
    "display(messages.head())"
   ]
  },
  {
   "cell_type": "markdown",
   "metadata": {},
   "source": [
    "### Посчитаем для каждого пользователя"
   ]
  },
  {
   "cell_type": "markdown",
   "metadata": {},
   "source": [
    "#### Количество сделанных звонков и израсходованных минут разговора по месяцам"
   ]
  },
  {
   "cell_type": "markdown",
   "metadata": {},
   "source": [
    "Создадим сводную таблицу с длительностью разговоров и числом звонков для каждого пользователя по месяцам"
   ]
  },
  {
   "cell_type": "code",
   "execution_count": 21,
   "metadata": {},
   "outputs": [
    {
     "data": {
      "text/html": [
       "<div>\n",
       "<style scoped>\n",
       "    .dataframe tbody tr th:only-of-type {\n",
       "        vertical-align: middle;\n",
       "    }\n",
       "\n",
       "    .dataframe tbody tr th {\n",
       "        vertical-align: top;\n",
       "    }\n",
       "\n",
       "    .dataframe thead th {\n",
       "        text-align: right;\n",
       "    }\n",
       "</style>\n",
       "<table border=\"1\" class=\"dataframe\">\n",
       "  <thead>\n",
       "    <tr style=\"text-align: right;\">\n",
       "      <th></th>\n",
       "      <th></th>\n",
       "      <th>sum_calls</th>\n",
       "      <th>count_calls</th>\n",
       "    </tr>\n",
       "    <tr>\n",
       "      <th>user_id</th>\n",
       "      <th>month</th>\n",
       "      <th></th>\n",
       "      <th></th>\n",
       "    </tr>\n",
       "  </thead>\n",
       "  <tbody>\n",
       "    <tr>\n",
       "      <td rowspan=\"8\" valign=\"top\">1000</td>\n",
       "      <td>5</td>\n",
       "      <td>159</td>\n",
       "      <td>17</td>\n",
       "    </tr>\n",
       "    <tr>\n",
       "      <td>6</td>\n",
       "      <td>172</td>\n",
       "      <td>28</td>\n",
       "    </tr>\n",
       "    <tr>\n",
       "      <td>7</td>\n",
       "      <td>340</td>\n",
       "      <td>41</td>\n",
       "    </tr>\n",
       "    <tr>\n",
       "      <td>8</td>\n",
       "      <td>408</td>\n",
       "      <td>42</td>\n",
       "    </tr>\n",
       "    <tr>\n",
       "      <td>9</td>\n",
       "      <td>466</td>\n",
       "      <td>46</td>\n",
       "    </tr>\n",
       "    <tr>\n",
       "      <td>10</td>\n",
       "      <td>350</td>\n",
       "      <td>44</td>\n",
       "    </tr>\n",
       "    <tr>\n",
       "      <td>11</td>\n",
       "      <td>338</td>\n",
       "      <td>37</td>\n",
       "    </tr>\n",
       "    <tr>\n",
       "      <td>12</td>\n",
       "      <td>333</td>\n",
       "      <td>38</td>\n",
       "    </tr>\n",
       "    <tr>\n",
       "      <td rowspan=\"2\" valign=\"top\">1001</td>\n",
       "      <td>11</td>\n",
       "      <td>430</td>\n",
       "      <td>45</td>\n",
       "    </tr>\n",
       "    <tr>\n",
       "      <td>12</td>\n",
       "      <td>414</td>\n",
       "      <td>47</td>\n",
       "    </tr>\n",
       "    <tr>\n",
       "      <td rowspan=\"7\" valign=\"top\">1002</td>\n",
       "      <td>6</td>\n",
       "      <td>117</td>\n",
       "      <td>14</td>\n",
       "    </tr>\n",
       "    <tr>\n",
       "      <td>7</td>\n",
       "      <td>214</td>\n",
       "      <td>21</td>\n",
       "    </tr>\n",
       "    <tr>\n",
       "      <td>8</td>\n",
       "      <td>289</td>\n",
       "      <td>37</td>\n",
       "    </tr>\n",
       "    <tr>\n",
       "      <td>9</td>\n",
       "      <td>206</td>\n",
       "      <td>25</td>\n",
       "    </tr>\n",
       "    <tr>\n",
       "      <td>10</td>\n",
       "      <td>212</td>\n",
       "      <td>24</td>\n",
       "    </tr>\n",
       "    <tr>\n",
       "      <td>11</td>\n",
       "      <td>243</td>\n",
       "      <td>25</td>\n",
       "    </tr>\n",
       "    <tr>\n",
       "      <td>12</td>\n",
       "      <td>236</td>\n",
       "      <td>27</td>\n",
       "    </tr>\n",
       "    <tr>\n",
       "      <td rowspan=\"3\" valign=\"top\">1003</td>\n",
       "      <td>8</td>\n",
       "      <td>380</td>\n",
       "      <td>43</td>\n",
       "    </tr>\n",
       "    <tr>\n",
       "      <td>9</td>\n",
       "      <td>961</td>\n",
       "      <td>105</td>\n",
       "    </tr>\n",
       "    <tr>\n",
       "      <td>10</td>\n",
       "      <td>855</td>\n",
       "      <td>97</td>\n",
       "    </tr>\n",
       "  </tbody>\n",
       "</table>\n",
       "</div>"
      ],
      "text/plain": [
       "               sum_calls  count_calls\n",
       "user_id month                        \n",
       "1000    5            159           17\n",
       "        6            172           28\n",
       "        7            340           41\n",
       "        8            408           42\n",
       "        9            466           46\n",
       "        10           350           44\n",
       "        11           338           37\n",
       "        12           333           38\n",
       "1001    11           430           45\n",
       "        12           414           47\n",
       "1002    6            117           14\n",
       "        7            214           21\n",
       "        8            289           37\n",
       "        9            206           25\n",
       "        10           212           24\n",
       "        11           243           25\n",
       "        12           236           27\n",
       "1003    8            380           43\n",
       "        9            961          105\n",
       "        10           855           97"
      ]
     },
     "execution_count": 21,
     "metadata": {},
     "output_type": "execute_result"
    }
   ],
   "source": [
    "calls_pivot = calls.pivot_table(index = ['user_id', 'month'], values = 'duration', aggfunc = ['sum', 'count'])\n",
    "calls_pivot.columns = ['sum_calls', 'count_calls']\n",
    "calls_pivot.head(20)"
   ]
  },
  {
   "cell_type": "markdown",
   "metadata": {},
   "source": [
    "#### Количество отправленных сообщений по месяцам"
   ]
  },
  {
   "cell_type": "markdown",
   "metadata": {},
   "source": [
    "Создадим сводную таблицу с числом отправленных сообщений для каждого пользователя по месяцам"
   ]
  },
  {
   "cell_type": "code",
   "execution_count": 22,
   "metadata": {},
   "outputs": [
    {
     "data": {
      "text/html": [
       "<div>\n",
       "<style scoped>\n",
       "    .dataframe tbody tr th:only-of-type {\n",
       "        vertical-align: middle;\n",
       "    }\n",
       "\n",
       "    .dataframe tbody tr th {\n",
       "        vertical-align: top;\n",
       "    }\n",
       "\n",
       "    .dataframe thead th {\n",
       "        text-align: right;\n",
       "    }\n",
       "</style>\n",
       "<table border=\"1\" class=\"dataframe\">\n",
       "  <thead>\n",
       "    <tr style=\"text-align: right;\">\n",
       "      <th></th>\n",
       "      <th></th>\n",
       "      <th>count_messages</th>\n",
       "    </tr>\n",
       "    <tr>\n",
       "      <th>user_id</th>\n",
       "      <th>month</th>\n",
       "      <th></th>\n",
       "    </tr>\n",
       "  </thead>\n",
       "  <tbody>\n",
       "    <tr>\n",
       "      <td rowspan=\"8\" valign=\"top\">1000</td>\n",
       "      <td>5</td>\n",
       "      <td>22</td>\n",
       "    </tr>\n",
       "    <tr>\n",
       "      <td>6</td>\n",
       "      <td>60</td>\n",
       "    </tr>\n",
       "    <tr>\n",
       "      <td>7</td>\n",
       "      <td>75</td>\n",
       "    </tr>\n",
       "    <tr>\n",
       "      <td>8</td>\n",
       "      <td>81</td>\n",
       "    </tr>\n",
       "    <tr>\n",
       "      <td>9</td>\n",
       "      <td>57</td>\n",
       "    </tr>\n",
       "    <tr>\n",
       "      <td>10</td>\n",
       "      <td>73</td>\n",
       "    </tr>\n",
       "    <tr>\n",
       "      <td>11</td>\n",
       "      <td>58</td>\n",
       "    </tr>\n",
       "    <tr>\n",
       "      <td>12</td>\n",
       "      <td>70</td>\n",
       "    </tr>\n",
       "    <tr>\n",
       "      <td rowspan=\"7\" valign=\"top\">1002</td>\n",
       "      <td>6</td>\n",
       "      <td>4</td>\n",
       "    </tr>\n",
       "    <tr>\n",
       "      <td>7</td>\n",
       "      <td>11</td>\n",
       "    </tr>\n",
       "    <tr>\n",
       "      <td>8</td>\n",
       "      <td>13</td>\n",
       "    </tr>\n",
       "    <tr>\n",
       "      <td>9</td>\n",
       "      <td>4</td>\n",
       "    </tr>\n",
       "    <tr>\n",
       "      <td>10</td>\n",
       "      <td>10</td>\n",
       "    </tr>\n",
       "    <tr>\n",
       "      <td>11</td>\n",
       "      <td>16</td>\n",
       "    </tr>\n",
       "    <tr>\n",
       "      <td>12</td>\n",
       "      <td>12</td>\n",
       "    </tr>\n",
       "    <tr>\n",
       "      <td rowspan=\"5\" valign=\"top\">1003</td>\n",
       "      <td>8</td>\n",
       "      <td>37</td>\n",
       "    </tr>\n",
       "    <tr>\n",
       "      <td>9</td>\n",
       "      <td>91</td>\n",
       "    </tr>\n",
       "    <tr>\n",
       "      <td>10</td>\n",
       "      <td>83</td>\n",
       "    </tr>\n",
       "    <tr>\n",
       "      <td>11</td>\n",
       "      <td>94</td>\n",
       "    </tr>\n",
       "    <tr>\n",
       "      <td>12</td>\n",
       "      <td>75</td>\n",
       "    </tr>\n",
       "  </tbody>\n",
       "</table>\n",
       "</div>"
      ],
      "text/plain": [
       "               count_messages\n",
       "user_id month                \n",
       "1000    5                  22\n",
       "        6                  60\n",
       "        7                  75\n",
       "        8                  81\n",
       "        9                  57\n",
       "        10                 73\n",
       "        11                 58\n",
       "        12                 70\n",
       "1002    6                   4\n",
       "        7                  11\n",
       "        8                  13\n",
       "        9                   4\n",
       "        10                 10\n",
       "        11                 16\n",
       "        12                 12\n",
       "1003    8                  37\n",
       "        9                  91\n",
       "        10                 83\n",
       "        11                 94\n",
       "        12                 75"
      ]
     },
     "execution_count": 22,
     "metadata": {},
     "output_type": "execute_result"
    }
   ],
   "source": [
    "messages_pivot = messages.pivot_table(index = ['user_id', 'month'], values = 'id', aggfunc = ['count'])\n",
    "messages_pivot.columns = ['count_messages']\n",
    "messages_pivot.head(20)"
   ]
  },
  {
   "cell_type": "markdown",
   "metadata": {},
   "source": [
    "#### Объем израсходованного интернет-трафика по месяцам"
   ]
  },
  {
   "cell_type": "markdown",
   "metadata": {},
   "source": [
    "Создадим сводную таблицу с числом израсходованного инетрнет-трафика для каждого пользователя по месяцам"
   ]
  },
  {
   "cell_type": "code",
   "execution_count": 23,
   "metadata": {},
   "outputs": [
    {
     "data": {
      "text/html": [
       "<div>\n",
       "<style scoped>\n",
       "    .dataframe tbody tr th:only-of-type {\n",
       "        vertical-align: middle;\n",
       "    }\n",
       "\n",
       "    .dataframe tbody tr th {\n",
       "        vertical-align: top;\n",
       "    }\n",
       "\n",
       "    .dataframe thead th {\n",
       "        text-align: right;\n",
       "    }\n",
       "</style>\n",
       "<table border=\"1\" class=\"dataframe\">\n",
       "  <thead>\n",
       "    <tr style=\"text-align: right;\">\n",
       "      <th></th>\n",
       "      <th></th>\n",
       "      <th>mb_used_sum</th>\n",
       "    </tr>\n",
       "    <tr>\n",
       "      <th>user_id</th>\n",
       "      <th>month</th>\n",
       "      <th></th>\n",
       "    </tr>\n",
       "  </thead>\n",
       "  <tbody>\n",
       "    <tr>\n",
       "      <td rowspan=\"8\" valign=\"top\">1000</td>\n",
       "      <td>5</td>\n",
       "      <td>2256</td>\n",
       "    </tr>\n",
       "    <tr>\n",
       "      <td>6</td>\n",
       "      <td>23257</td>\n",
       "    </tr>\n",
       "    <tr>\n",
       "      <td>7</td>\n",
       "      <td>14016</td>\n",
       "    </tr>\n",
       "    <tr>\n",
       "      <td>8</td>\n",
       "      <td>14070</td>\n",
       "    </tr>\n",
       "    <tr>\n",
       "      <td>9</td>\n",
       "      <td>14581</td>\n",
       "    </tr>\n",
       "    <tr>\n",
       "      <td>10</td>\n",
       "      <td>14717</td>\n",
       "    </tr>\n",
       "    <tr>\n",
       "      <td>11</td>\n",
       "      <td>14768</td>\n",
       "    </tr>\n",
       "    <tr>\n",
       "      <td>12</td>\n",
       "      <td>9827</td>\n",
       "    </tr>\n",
       "    <tr>\n",
       "      <td rowspan=\"2\" valign=\"top\">1001</td>\n",
       "      <td>11</td>\n",
       "      <td>18452</td>\n",
       "    </tr>\n",
       "    <tr>\n",
       "      <td>12</td>\n",
       "      <td>14053</td>\n",
       "    </tr>\n",
       "    <tr>\n",
       "      <td rowspan=\"7\" valign=\"top\">1002</td>\n",
       "      <td>6</td>\n",
       "      <td>10871</td>\n",
       "    </tr>\n",
       "    <tr>\n",
       "      <td>7</td>\n",
       "      <td>17601</td>\n",
       "    </tr>\n",
       "    <tr>\n",
       "      <td>8</td>\n",
       "      <td>20347</td>\n",
       "    </tr>\n",
       "    <tr>\n",
       "      <td>9</td>\n",
       "      <td>16712</td>\n",
       "    </tr>\n",
       "    <tr>\n",
       "      <td>10</td>\n",
       "      <td>13905</td>\n",
       "    </tr>\n",
       "    <tr>\n",
       "      <td>11</td>\n",
       "      <td>18610</td>\n",
       "    </tr>\n",
       "    <tr>\n",
       "      <td>12</td>\n",
       "      <td>18137</td>\n",
       "    </tr>\n",
       "    <tr>\n",
       "      <td rowspan=\"3\" valign=\"top\">1003</td>\n",
       "      <td>8</td>\n",
       "      <td>8571</td>\n",
       "    </tr>\n",
       "    <tr>\n",
       "      <td>9</td>\n",
       "      <td>12479</td>\n",
       "    </tr>\n",
       "    <tr>\n",
       "      <td>10</td>\n",
       "      <td>14779</td>\n",
       "    </tr>\n",
       "  </tbody>\n",
       "</table>\n",
       "</div>"
      ],
      "text/plain": [
       "               mb_used_sum\n",
       "user_id month             \n",
       "1000    5             2256\n",
       "        6            23257\n",
       "        7            14016\n",
       "        8            14070\n",
       "        9            14581\n",
       "        10           14717\n",
       "        11           14768\n",
       "        12            9827\n",
       "1001    11           18452\n",
       "        12           14053\n",
       "1002    6            10871\n",
       "        7            17601\n",
       "        8            20347\n",
       "        9            16712\n",
       "        10           13905\n",
       "        11           18610\n",
       "        12           18137\n",
       "1003    8             8571\n",
       "        9            12479\n",
       "        10           14779"
      ]
     },
     "execution_count": 23,
     "metadata": {},
     "output_type": "execute_result"
    }
   ],
   "source": [
    "internet_pivot = internet.pivot_table(index = ['user_id', 'month'], values = 'mb_used', aggfunc = ['sum'])\n",
    "internet_pivot.columns = ['mb_used_sum']\n",
    "internet_pivot.head(20)"
   ]
  },
  {
   "cell_type": "markdown",
   "metadata": {},
   "source": [
    "#### Помесячную выручку с каждого пользователя"
   ]
  },
  {
   "cell_type": "markdown",
   "metadata": {},
   "source": [
    "Объедининим в таблицу user_pivot методом .join сводные таблицы по данным звонков, отправленных сообщений, интернет-трафика каждого пользователя по месяцам."
   ]
  },
  {
   "cell_type": "code",
   "execution_count": 24,
   "metadata": {},
   "outputs": [],
   "source": [
    "user_pivot = calls_pivot.join([messages_pivot, internet_pivot], how='outer')"
   ]
  },
  {
   "cell_type": "markdown",
   "metadata": {},
   "source": [
    "Проверим и при необходимости сборосим индексы сводной таблицы user_pivot."
   ]
  },
  {
   "cell_type": "code",
   "execution_count": 25,
   "metadata": {},
   "outputs": [
    {
     "data": {
      "text/plain": [
       "array([(1000, 5), (1000, 6), (1000, 7), ..., (1499, 10), (1499, 11),\n",
       "       (1499, 12)], dtype=object)"
      ]
     },
     "metadata": {},
     "output_type": "display_data"
    },
    {
     "data": {
      "text/plain": [
       "array([   0,    1,    2, ..., 3211, 3212, 3213])"
      ]
     },
     "metadata": {},
     "output_type": "display_data"
    }
   ],
   "source": [
    "display(user_pivot.index.values) \n",
    "user_pivot = user_pivot.reset_index() \n",
    "display(user_pivot.index.values) "
   ]
  },
  {
   "cell_type": "markdown",
   "metadata": {},
   "source": [
    "Добавим к получившейся таблице тариф каждого пользователя. Кроме этого для дайнейшего анализа по каждому клиенту добавим возраст, дату подключения тарифа, дату прекращения тарифа (при наличии) и город."
   ]
  },
  {
   "cell_type": "code",
   "execution_count": 26,
   "metadata": {},
   "outputs": [
    {
     "name": "stdout",
     "output_type": "stream",
     "text": [
      "<class 'pandas.core.frame.DataFrame'>\n",
      "Int64Index: 3214 entries, 0 to 3213\n",
      "Data columns (total 11 columns):\n",
      "user_id           3214 non-null int64\n",
      "month             3214 non-null int64\n",
      "sum_calls         3168 non-null float64\n",
      "count_calls       3168 non-null float64\n",
      "count_messages    2717 non-null float64\n",
      "mb_used_sum       3201 non-null float64\n",
      "tariff            3214 non-null object\n",
      "age               3214 non-null int64\n",
      "reg_date          3214 non-null datetime64[ns]\n",
      "churn_date        187 non-null datetime64[ns]\n",
      "city              3214 non-null object\n",
      "dtypes: datetime64[ns](2), float64(4), int64(3), object(2)\n",
      "memory usage: 301.3+ KB\n"
     ]
    }
   ],
   "source": [
    "user_pivot = user_pivot.merge(users[['user_id', 'tariff', 'age','reg_date', 'churn_date', 'city']], on='user_id', how='left')\n",
    "user_pivot.info()"
   ]
  },
  {
   "cell_type": "code",
   "execution_count": 27,
   "metadata": {},
   "outputs": [
    {
     "data": {
      "text/html": [
       "<div>\n",
       "<style scoped>\n",
       "    .dataframe tbody tr th:only-of-type {\n",
       "        vertical-align: middle;\n",
       "    }\n",
       "\n",
       "    .dataframe tbody tr th {\n",
       "        vertical-align: top;\n",
       "    }\n",
       "\n",
       "    .dataframe thead th {\n",
       "        text-align: right;\n",
       "    }\n",
       "</style>\n",
       "<table border=\"1\" class=\"dataframe\">\n",
       "  <thead>\n",
       "    <tr style=\"text-align: right;\">\n",
       "      <th></th>\n",
       "      <th>user_id</th>\n",
       "      <th>month</th>\n",
       "      <th>sum_calls</th>\n",
       "      <th>count_calls</th>\n",
       "      <th>count_messages</th>\n",
       "      <th>mb_used_sum</th>\n",
       "      <th>tariff</th>\n",
       "      <th>age</th>\n",
       "      <th>reg_date</th>\n",
       "      <th>churn_date</th>\n",
       "      <th>city</th>\n",
       "    </tr>\n",
       "  </thead>\n",
       "  <tbody>\n",
       "    <tr>\n",
       "      <td>0</td>\n",
       "      <td>1000</td>\n",
       "      <td>5</td>\n",
       "      <td>159.0</td>\n",
       "      <td>17.0</td>\n",
       "      <td>22.0</td>\n",
       "      <td>2256.0</td>\n",
       "      <td>ultra</td>\n",
       "      <td>52</td>\n",
       "      <td>2018-05-25</td>\n",
       "      <td>NaT</td>\n",
       "      <td>Краснодар</td>\n",
       "    </tr>\n",
       "    <tr>\n",
       "      <td>1</td>\n",
       "      <td>1000</td>\n",
       "      <td>6</td>\n",
       "      <td>172.0</td>\n",
       "      <td>28.0</td>\n",
       "      <td>60.0</td>\n",
       "      <td>23257.0</td>\n",
       "      <td>ultra</td>\n",
       "      <td>52</td>\n",
       "      <td>2018-05-25</td>\n",
       "      <td>NaT</td>\n",
       "      <td>Краснодар</td>\n",
       "    </tr>\n",
       "    <tr>\n",
       "      <td>2</td>\n",
       "      <td>1000</td>\n",
       "      <td>7</td>\n",
       "      <td>340.0</td>\n",
       "      <td>41.0</td>\n",
       "      <td>75.0</td>\n",
       "      <td>14016.0</td>\n",
       "      <td>ultra</td>\n",
       "      <td>52</td>\n",
       "      <td>2018-05-25</td>\n",
       "      <td>NaT</td>\n",
       "      <td>Краснодар</td>\n",
       "    </tr>\n",
       "    <tr>\n",
       "      <td>3</td>\n",
       "      <td>1000</td>\n",
       "      <td>8</td>\n",
       "      <td>408.0</td>\n",
       "      <td>42.0</td>\n",
       "      <td>81.0</td>\n",
       "      <td>14070.0</td>\n",
       "      <td>ultra</td>\n",
       "      <td>52</td>\n",
       "      <td>2018-05-25</td>\n",
       "      <td>NaT</td>\n",
       "      <td>Краснодар</td>\n",
       "    </tr>\n",
       "    <tr>\n",
       "      <td>4</td>\n",
       "      <td>1000</td>\n",
       "      <td>9</td>\n",
       "      <td>466.0</td>\n",
       "      <td>46.0</td>\n",
       "      <td>57.0</td>\n",
       "      <td>14581.0</td>\n",
       "      <td>ultra</td>\n",
       "      <td>52</td>\n",
       "      <td>2018-05-25</td>\n",
       "      <td>NaT</td>\n",
       "      <td>Краснодар</td>\n",
       "    </tr>\n",
       "    <tr>\n",
       "      <td>5</td>\n",
       "      <td>1000</td>\n",
       "      <td>10</td>\n",
       "      <td>350.0</td>\n",
       "      <td>44.0</td>\n",
       "      <td>73.0</td>\n",
       "      <td>14717.0</td>\n",
       "      <td>ultra</td>\n",
       "      <td>52</td>\n",
       "      <td>2018-05-25</td>\n",
       "      <td>NaT</td>\n",
       "      <td>Краснодар</td>\n",
       "    </tr>\n",
       "    <tr>\n",
       "      <td>6</td>\n",
       "      <td>1000</td>\n",
       "      <td>11</td>\n",
       "      <td>338.0</td>\n",
       "      <td>37.0</td>\n",
       "      <td>58.0</td>\n",
       "      <td>14768.0</td>\n",
       "      <td>ultra</td>\n",
       "      <td>52</td>\n",
       "      <td>2018-05-25</td>\n",
       "      <td>NaT</td>\n",
       "      <td>Краснодар</td>\n",
       "    </tr>\n",
       "    <tr>\n",
       "      <td>7</td>\n",
       "      <td>1000</td>\n",
       "      <td>12</td>\n",
       "      <td>333.0</td>\n",
       "      <td>38.0</td>\n",
       "      <td>70.0</td>\n",
       "      <td>9827.0</td>\n",
       "      <td>ultra</td>\n",
       "      <td>52</td>\n",
       "      <td>2018-05-25</td>\n",
       "      <td>NaT</td>\n",
       "      <td>Краснодар</td>\n",
       "    </tr>\n",
       "    <tr>\n",
       "      <td>8</td>\n",
       "      <td>1001</td>\n",
       "      <td>11</td>\n",
       "      <td>430.0</td>\n",
       "      <td>45.0</td>\n",
       "      <td>NaN</td>\n",
       "      <td>18452.0</td>\n",
       "      <td>smart</td>\n",
       "      <td>41</td>\n",
       "      <td>2018-11-01</td>\n",
       "      <td>NaT</td>\n",
       "      <td>Москва</td>\n",
       "    </tr>\n",
       "    <tr>\n",
       "      <td>9</td>\n",
       "      <td>1001</td>\n",
       "      <td>12</td>\n",
       "      <td>414.0</td>\n",
       "      <td>47.0</td>\n",
       "      <td>NaN</td>\n",
       "      <td>14053.0</td>\n",
       "      <td>smart</td>\n",
       "      <td>41</td>\n",
       "      <td>2018-11-01</td>\n",
       "      <td>NaT</td>\n",
       "      <td>Москва</td>\n",
       "    </tr>\n",
       "    <tr>\n",
       "      <td>10</td>\n",
       "      <td>1002</td>\n",
       "      <td>6</td>\n",
       "      <td>117.0</td>\n",
       "      <td>14.0</td>\n",
       "      <td>4.0</td>\n",
       "      <td>10871.0</td>\n",
       "      <td>smart</td>\n",
       "      <td>59</td>\n",
       "      <td>2018-06-17</td>\n",
       "      <td>NaT</td>\n",
       "      <td>Стерлитамак</td>\n",
       "    </tr>\n",
       "    <tr>\n",
       "      <td>11</td>\n",
       "      <td>1002</td>\n",
       "      <td>7</td>\n",
       "      <td>214.0</td>\n",
       "      <td>21.0</td>\n",
       "      <td>11.0</td>\n",
       "      <td>17601.0</td>\n",
       "      <td>smart</td>\n",
       "      <td>59</td>\n",
       "      <td>2018-06-17</td>\n",
       "      <td>NaT</td>\n",
       "      <td>Стерлитамак</td>\n",
       "    </tr>\n",
       "    <tr>\n",
       "      <td>12</td>\n",
       "      <td>1002</td>\n",
       "      <td>8</td>\n",
       "      <td>289.0</td>\n",
       "      <td>37.0</td>\n",
       "      <td>13.0</td>\n",
       "      <td>20347.0</td>\n",
       "      <td>smart</td>\n",
       "      <td>59</td>\n",
       "      <td>2018-06-17</td>\n",
       "      <td>NaT</td>\n",
       "      <td>Стерлитамак</td>\n",
       "    </tr>\n",
       "    <tr>\n",
       "      <td>13</td>\n",
       "      <td>1002</td>\n",
       "      <td>9</td>\n",
       "      <td>206.0</td>\n",
       "      <td>25.0</td>\n",
       "      <td>4.0</td>\n",
       "      <td>16712.0</td>\n",
       "      <td>smart</td>\n",
       "      <td>59</td>\n",
       "      <td>2018-06-17</td>\n",
       "      <td>NaT</td>\n",
       "      <td>Стерлитамак</td>\n",
       "    </tr>\n",
       "    <tr>\n",
       "      <td>14</td>\n",
       "      <td>1002</td>\n",
       "      <td>10</td>\n",
       "      <td>212.0</td>\n",
       "      <td>24.0</td>\n",
       "      <td>10.0</td>\n",
       "      <td>13905.0</td>\n",
       "      <td>smart</td>\n",
       "      <td>59</td>\n",
       "      <td>2018-06-17</td>\n",
       "      <td>NaT</td>\n",
       "      <td>Стерлитамак</td>\n",
       "    </tr>\n",
       "    <tr>\n",
       "      <td>15</td>\n",
       "      <td>1002</td>\n",
       "      <td>11</td>\n",
       "      <td>243.0</td>\n",
       "      <td>25.0</td>\n",
       "      <td>16.0</td>\n",
       "      <td>18610.0</td>\n",
       "      <td>smart</td>\n",
       "      <td>59</td>\n",
       "      <td>2018-06-17</td>\n",
       "      <td>NaT</td>\n",
       "      <td>Стерлитамак</td>\n",
       "    </tr>\n",
       "    <tr>\n",
       "      <td>16</td>\n",
       "      <td>1002</td>\n",
       "      <td>12</td>\n",
       "      <td>236.0</td>\n",
       "      <td>27.0</td>\n",
       "      <td>12.0</td>\n",
       "      <td>18137.0</td>\n",
       "      <td>smart</td>\n",
       "      <td>59</td>\n",
       "      <td>2018-06-17</td>\n",
       "      <td>NaT</td>\n",
       "      <td>Стерлитамак</td>\n",
       "    </tr>\n",
       "    <tr>\n",
       "      <td>17</td>\n",
       "      <td>1003</td>\n",
       "      <td>8</td>\n",
       "      <td>380.0</td>\n",
       "      <td>43.0</td>\n",
       "      <td>37.0</td>\n",
       "      <td>8571.0</td>\n",
       "      <td>ultra</td>\n",
       "      <td>23</td>\n",
       "      <td>2018-08-17</td>\n",
       "      <td>NaT</td>\n",
       "      <td>Москва</td>\n",
       "    </tr>\n",
       "    <tr>\n",
       "      <td>18</td>\n",
       "      <td>1003</td>\n",
       "      <td>9</td>\n",
       "      <td>961.0</td>\n",
       "      <td>105.0</td>\n",
       "      <td>91.0</td>\n",
       "      <td>12479.0</td>\n",
       "      <td>ultra</td>\n",
       "      <td>23</td>\n",
       "      <td>2018-08-17</td>\n",
       "      <td>NaT</td>\n",
       "      <td>Москва</td>\n",
       "    </tr>\n",
       "    <tr>\n",
       "      <td>19</td>\n",
       "      <td>1003</td>\n",
       "      <td>10</td>\n",
       "      <td>855.0</td>\n",
       "      <td>97.0</td>\n",
       "      <td>83.0</td>\n",
       "      <td>14779.0</td>\n",
       "      <td>ultra</td>\n",
       "      <td>23</td>\n",
       "      <td>2018-08-17</td>\n",
       "      <td>NaT</td>\n",
       "      <td>Москва</td>\n",
       "    </tr>\n",
       "  </tbody>\n",
       "</table>\n",
       "</div>"
      ],
      "text/plain": [
       "    user_id  month  sum_calls  count_calls  count_messages  mb_used_sum  \\\n",
       "0      1000      5      159.0         17.0            22.0       2256.0   \n",
       "1      1000      6      172.0         28.0            60.0      23257.0   \n",
       "2      1000      7      340.0         41.0            75.0      14016.0   \n",
       "3      1000      8      408.0         42.0            81.0      14070.0   \n",
       "4      1000      9      466.0         46.0            57.0      14581.0   \n",
       "5      1000     10      350.0         44.0            73.0      14717.0   \n",
       "6      1000     11      338.0         37.0            58.0      14768.0   \n",
       "7      1000     12      333.0         38.0            70.0       9827.0   \n",
       "8      1001     11      430.0         45.0             NaN      18452.0   \n",
       "9      1001     12      414.0         47.0             NaN      14053.0   \n",
       "10     1002      6      117.0         14.0             4.0      10871.0   \n",
       "11     1002      7      214.0         21.0            11.0      17601.0   \n",
       "12     1002      8      289.0         37.0            13.0      20347.0   \n",
       "13     1002      9      206.0         25.0             4.0      16712.0   \n",
       "14     1002     10      212.0         24.0            10.0      13905.0   \n",
       "15     1002     11      243.0         25.0            16.0      18610.0   \n",
       "16     1002     12      236.0         27.0            12.0      18137.0   \n",
       "17     1003      8      380.0         43.0            37.0       8571.0   \n",
       "18     1003      9      961.0        105.0            91.0      12479.0   \n",
       "19     1003     10      855.0         97.0            83.0      14779.0   \n",
       "\n",
       "   tariff  age   reg_date churn_date         city  \n",
       "0   ultra   52 2018-05-25        NaT    Краснодар  \n",
       "1   ultra   52 2018-05-25        NaT    Краснодар  \n",
       "2   ultra   52 2018-05-25        NaT    Краснодар  \n",
       "3   ultra   52 2018-05-25        NaT    Краснодар  \n",
       "4   ultra   52 2018-05-25        NaT    Краснодар  \n",
       "5   ultra   52 2018-05-25        NaT    Краснодар  \n",
       "6   ultra   52 2018-05-25        NaT    Краснодар  \n",
       "7   ultra   52 2018-05-25        NaT    Краснодар  \n",
       "8   smart   41 2018-11-01        NaT       Москва  \n",
       "9   smart   41 2018-11-01        NaT       Москва  \n",
       "10  smart   59 2018-06-17        NaT  Стерлитамак  \n",
       "11  smart   59 2018-06-17        NaT  Стерлитамак  \n",
       "12  smart   59 2018-06-17        NaT  Стерлитамак  \n",
       "13  smart   59 2018-06-17        NaT  Стерлитамак  \n",
       "14  smart   59 2018-06-17        NaT  Стерлитамак  \n",
       "15  smart   59 2018-06-17        NaT  Стерлитамак  \n",
       "16  smart   59 2018-06-17        NaT  Стерлитамак  \n",
       "17  ultra   23 2018-08-17        NaT       Москва  \n",
       "18  ultra   23 2018-08-17        NaT       Москва  \n",
       "19  ultra   23 2018-08-17        NaT       Москва  "
      ]
     },
     "execution_count": 27,
     "metadata": {},
     "output_type": "execute_result"
    }
   ],
   "source": [
    "user_pivot.head(20)"
   ]
  },
  {
   "cell_type": "markdown",
   "metadata": {},
   "source": [
    "Переименуем столбец 'tariff_name' на 'tariff' в таблице tariffs, для последующего объединения с таблицей user_pivot."
   ]
  },
  {
   "cell_type": "code",
   "execution_count": 28,
   "metadata": {},
   "outputs": [
    {
     "data": {
      "text/html": [
       "<div>\n",
       "<style scoped>\n",
       "    .dataframe tbody tr th:only-of-type {\n",
       "        vertical-align: middle;\n",
       "    }\n",
       "\n",
       "    .dataframe tbody tr th {\n",
       "        vertical-align: top;\n",
       "    }\n",
       "\n",
       "    .dataframe thead th {\n",
       "        text-align: right;\n",
       "    }\n",
       "</style>\n",
       "<table border=\"1\" class=\"dataframe\">\n",
       "  <thead>\n",
       "    <tr style=\"text-align: right;\">\n",
       "      <th></th>\n",
       "      <th>messages_included</th>\n",
       "      <th>mb_per_month_included</th>\n",
       "      <th>minutes_included</th>\n",
       "      <th>rub_monthly_fee</th>\n",
       "      <th>rub_per_gb</th>\n",
       "      <th>rub_per_message</th>\n",
       "      <th>rub_per_minute</th>\n",
       "      <th>tariff</th>\n",
       "    </tr>\n",
       "  </thead>\n",
       "  <tbody>\n",
       "    <tr>\n",
       "      <td>0</td>\n",
       "      <td>50</td>\n",
       "      <td>15360</td>\n",
       "      <td>500</td>\n",
       "      <td>550</td>\n",
       "      <td>200</td>\n",
       "      <td>3</td>\n",
       "      <td>3</td>\n",
       "      <td>smart</td>\n",
       "    </tr>\n",
       "    <tr>\n",
       "      <td>1</td>\n",
       "      <td>1000</td>\n",
       "      <td>30720</td>\n",
       "      <td>3000</td>\n",
       "      <td>1950</td>\n",
       "      <td>150</td>\n",
       "      <td>1</td>\n",
       "      <td>1</td>\n",
       "      <td>ultra</td>\n",
       "    </tr>\n",
       "  </tbody>\n",
       "</table>\n",
       "</div>"
      ],
      "text/plain": [
       "   messages_included  mb_per_month_included  minutes_included  \\\n",
       "0                 50                  15360               500   \n",
       "1               1000                  30720              3000   \n",
       "\n",
       "   rub_monthly_fee  rub_per_gb  rub_per_message  rub_per_minute tariff  \n",
       "0              550         200                3               3  smart  \n",
       "1             1950         150                1               1  ultra  "
      ]
     },
     "execution_count": 28,
     "metadata": {},
     "output_type": "execute_result"
    }
   ],
   "source": [
    "tariffs.rename(columns = lambda x: x.replace('tariff_name', 'tariff'), inplace=True)\n",
    "tariffs"
   ]
  },
  {
   "cell_type": "markdown",
   "metadata": {},
   "source": [
    "Объединяем две таблицы по столбцу 'tariff'."
   ]
  },
  {
   "cell_type": "code",
   "execution_count": 29,
   "metadata": {},
   "outputs": [],
   "source": [
    "user_pivot = user_pivot.merge(tariffs, on='tariff', how='left') "
   ]
  },
  {
   "cell_type": "code",
   "execution_count": 30,
   "metadata": {},
   "outputs": [
    {
     "data": {
      "text/html": [
       "<div>\n",
       "<style scoped>\n",
       "    .dataframe tbody tr th:only-of-type {\n",
       "        vertical-align: middle;\n",
       "    }\n",
       "\n",
       "    .dataframe tbody tr th {\n",
       "        vertical-align: top;\n",
       "    }\n",
       "\n",
       "    .dataframe thead th {\n",
       "        text-align: right;\n",
       "    }\n",
       "</style>\n",
       "<table border=\"1\" class=\"dataframe\">\n",
       "  <thead>\n",
       "    <tr style=\"text-align: right;\">\n",
       "      <th></th>\n",
       "      <th>user_id</th>\n",
       "      <th>month</th>\n",
       "      <th>sum_calls</th>\n",
       "      <th>count_calls</th>\n",
       "      <th>count_messages</th>\n",
       "      <th>mb_used_sum</th>\n",
       "      <th>tariff</th>\n",
       "      <th>age</th>\n",
       "      <th>reg_date</th>\n",
       "      <th>churn_date</th>\n",
       "      <th>city</th>\n",
       "      <th>messages_included</th>\n",
       "      <th>mb_per_month_included</th>\n",
       "      <th>minutes_included</th>\n",
       "      <th>rub_monthly_fee</th>\n",
       "      <th>rub_per_gb</th>\n",
       "      <th>rub_per_message</th>\n",
       "      <th>rub_per_minute</th>\n",
       "    </tr>\n",
       "  </thead>\n",
       "  <tbody>\n",
       "    <tr>\n",
       "      <td>0</td>\n",
       "      <td>1000</td>\n",
       "      <td>5</td>\n",
       "      <td>159.0</td>\n",
       "      <td>17.0</td>\n",
       "      <td>22.0</td>\n",
       "      <td>2256.0</td>\n",
       "      <td>ultra</td>\n",
       "      <td>52</td>\n",
       "      <td>2018-05-25</td>\n",
       "      <td>NaT</td>\n",
       "      <td>Краснодар</td>\n",
       "      <td>1000</td>\n",
       "      <td>30720</td>\n",
       "      <td>3000</td>\n",
       "      <td>1950</td>\n",
       "      <td>150</td>\n",
       "      <td>1</td>\n",
       "      <td>1</td>\n",
       "    </tr>\n",
       "    <tr>\n",
       "      <td>1</td>\n",
       "      <td>1000</td>\n",
       "      <td>6</td>\n",
       "      <td>172.0</td>\n",
       "      <td>28.0</td>\n",
       "      <td>60.0</td>\n",
       "      <td>23257.0</td>\n",
       "      <td>ultra</td>\n",
       "      <td>52</td>\n",
       "      <td>2018-05-25</td>\n",
       "      <td>NaT</td>\n",
       "      <td>Краснодар</td>\n",
       "      <td>1000</td>\n",
       "      <td>30720</td>\n",
       "      <td>3000</td>\n",
       "      <td>1950</td>\n",
       "      <td>150</td>\n",
       "      <td>1</td>\n",
       "      <td>1</td>\n",
       "    </tr>\n",
       "    <tr>\n",
       "      <td>2</td>\n",
       "      <td>1000</td>\n",
       "      <td>7</td>\n",
       "      <td>340.0</td>\n",
       "      <td>41.0</td>\n",
       "      <td>75.0</td>\n",
       "      <td>14016.0</td>\n",
       "      <td>ultra</td>\n",
       "      <td>52</td>\n",
       "      <td>2018-05-25</td>\n",
       "      <td>NaT</td>\n",
       "      <td>Краснодар</td>\n",
       "      <td>1000</td>\n",
       "      <td>30720</td>\n",
       "      <td>3000</td>\n",
       "      <td>1950</td>\n",
       "      <td>150</td>\n",
       "      <td>1</td>\n",
       "      <td>1</td>\n",
       "    </tr>\n",
       "    <tr>\n",
       "      <td>3</td>\n",
       "      <td>1000</td>\n",
       "      <td>8</td>\n",
       "      <td>408.0</td>\n",
       "      <td>42.0</td>\n",
       "      <td>81.0</td>\n",
       "      <td>14070.0</td>\n",
       "      <td>ultra</td>\n",
       "      <td>52</td>\n",
       "      <td>2018-05-25</td>\n",
       "      <td>NaT</td>\n",
       "      <td>Краснодар</td>\n",
       "      <td>1000</td>\n",
       "      <td>30720</td>\n",
       "      <td>3000</td>\n",
       "      <td>1950</td>\n",
       "      <td>150</td>\n",
       "      <td>1</td>\n",
       "      <td>1</td>\n",
       "    </tr>\n",
       "    <tr>\n",
       "      <td>4</td>\n",
       "      <td>1000</td>\n",
       "      <td>9</td>\n",
       "      <td>466.0</td>\n",
       "      <td>46.0</td>\n",
       "      <td>57.0</td>\n",
       "      <td>14581.0</td>\n",
       "      <td>ultra</td>\n",
       "      <td>52</td>\n",
       "      <td>2018-05-25</td>\n",
       "      <td>NaT</td>\n",
       "      <td>Краснодар</td>\n",
       "      <td>1000</td>\n",
       "      <td>30720</td>\n",
       "      <td>3000</td>\n",
       "      <td>1950</td>\n",
       "      <td>150</td>\n",
       "      <td>1</td>\n",
       "      <td>1</td>\n",
       "    </tr>\n",
       "    <tr>\n",
       "      <td>5</td>\n",
       "      <td>1000</td>\n",
       "      <td>10</td>\n",
       "      <td>350.0</td>\n",
       "      <td>44.0</td>\n",
       "      <td>73.0</td>\n",
       "      <td>14717.0</td>\n",
       "      <td>ultra</td>\n",
       "      <td>52</td>\n",
       "      <td>2018-05-25</td>\n",
       "      <td>NaT</td>\n",
       "      <td>Краснодар</td>\n",
       "      <td>1000</td>\n",
       "      <td>30720</td>\n",
       "      <td>3000</td>\n",
       "      <td>1950</td>\n",
       "      <td>150</td>\n",
       "      <td>1</td>\n",
       "      <td>1</td>\n",
       "    </tr>\n",
       "    <tr>\n",
       "      <td>6</td>\n",
       "      <td>1000</td>\n",
       "      <td>11</td>\n",
       "      <td>338.0</td>\n",
       "      <td>37.0</td>\n",
       "      <td>58.0</td>\n",
       "      <td>14768.0</td>\n",
       "      <td>ultra</td>\n",
       "      <td>52</td>\n",
       "      <td>2018-05-25</td>\n",
       "      <td>NaT</td>\n",
       "      <td>Краснодар</td>\n",
       "      <td>1000</td>\n",
       "      <td>30720</td>\n",
       "      <td>3000</td>\n",
       "      <td>1950</td>\n",
       "      <td>150</td>\n",
       "      <td>1</td>\n",
       "      <td>1</td>\n",
       "    </tr>\n",
       "    <tr>\n",
       "      <td>7</td>\n",
       "      <td>1000</td>\n",
       "      <td>12</td>\n",
       "      <td>333.0</td>\n",
       "      <td>38.0</td>\n",
       "      <td>70.0</td>\n",
       "      <td>9827.0</td>\n",
       "      <td>ultra</td>\n",
       "      <td>52</td>\n",
       "      <td>2018-05-25</td>\n",
       "      <td>NaT</td>\n",
       "      <td>Краснодар</td>\n",
       "      <td>1000</td>\n",
       "      <td>30720</td>\n",
       "      <td>3000</td>\n",
       "      <td>1950</td>\n",
       "      <td>150</td>\n",
       "      <td>1</td>\n",
       "      <td>1</td>\n",
       "    </tr>\n",
       "    <tr>\n",
       "      <td>8</td>\n",
       "      <td>1001</td>\n",
       "      <td>11</td>\n",
       "      <td>430.0</td>\n",
       "      <td>45.0</td>\n",
       "      <td>NaN</td>\n",
       "      <td>18452.0</td>\n",
       "      <td>smart</td>\n",
       "      <td>41</td>\n",
       "      <td>2018-11-01</td>\n",
       "      <td>NaT</td>\n",
       "      <td>Москва</td>\n",
       "      <td>50</td>\n",
       "      <td>15360</td>\n",
       "      <td>500</td>\n",
       "      <td>550</td>\n",
       "      <td>200</td>\n",
       "      <td>3</td>\n",
       "      <td>3</td>\n",
       "    </tr>\n",
       "    <tr>\n",
       "      <td>9</td>\n",
       "      <td>1001</td>\n",
       "      <td>12</td>\n",
       "      <td>414.0</td>\n",
       "      <td>47.0</td>\n",
       "      <td>NaN</td>\n",
       "      <td>14053.0</td>\n",
       "      <td>smart</td>\n",
       "      <td>41</td>\n",
       "      <td>2018-11-01</td>\n",
       "      <td>NaT</td>\n",
       "      <td>Москва</td>\n",
       "      <td>50</td>\n",
       "      <td>15360</td>\n",
       "      <td>500</td>\n",
       "      <td>550</td>\n",
       "      <td>200</td>\n",
       "      <td>3</td>\n",
       "      <td>3</td>\n",
       "    </tr>\n",
       "  </tbody>\n",
       "</table>\n",
       "</div>"
      ],
      "text/plain": [
       "   user_id  month  sum_calls  count_calls  count_messages  mb_used_sum tariff  \\\n",
       "0     1000      5      159.0         17.0            22.0       2256.0  ultra   \n",
       "1     1000      6      172.0         28.0            60.0      23257.0  ultra   \n",
       "2     1000      7      340.0         41.0            75.0      14016.0  ultra   \n",
       "3     1000      8      408.0         42.0            81.0      14070.0  ultra   \n",
       "4     1000      9      466.0         46.0            57.0      14581.0  ultra   \n",
       "5     1000     10      350.0         44.0            73.0      14717.0  ultra   \n",
       "6     1000     11      338.0         37.0            58.0      14768.0  ultra   \n",
       "7     1000     12      333.0         38.0            70.0       9827.0  ultra   \n",
       "8     1001     11      430.0         45.0             NaN      18452.0  smart   \n",
       "9     1001     12      414.0         47.0             NaN      14053.0  smart   \n",
       "\n",
       "   age   reg_date churn_date       city  messages_included  \\\n",
       "0   52 2018-05-25        NaT  Краснодар               1000   \n",
       "1   52 2018-05-25        NaT  Краснодар               1000   \n",
       "2   52 2018-05-25        NaT  Краснодар               1000   \n",
       "3   52 2018-05-25        NaT  Краснодар               1000   \n",
       "4   52 2018-05-25        NaT  Краснодар               1000   \n",
       "5   52 2018-05-25        NaT  Краснодар               1000   \n",
       "6   52 2018-05-25        NaT  Краснодар               1000   \n",
       "7   52 2018-05-25        NaT  Краснодар               1000   \n",
       "8   41 2018-11-01        NaT     Москва                 50   \n",
       "9   41 2018-11-01        NaT     Москва                 50   \n",
       "\n",
       "   mb_per_month_included  minutes_included  rub_monthly_fee  rub_per_gb  \\\n",
       "0                  30720              3000             1950         150   \n",
       "1                  30720              3000             1950         150   \n",
       "2                  30720              3000             1950         150   \n",
       "3                  30720              3000             1950         150   \n",
       "4                  30720              3000             1950         150   \n",
       "5                  30720              3000             1950         150   \n",
       "6                  30720              3000             1950         150   \n",
       "7                  30720              3000             1950         150   \n",
       "8                  15360               500              550         200   \n",
       "9                  15360               500              550         200   \n",
       "\n",
       "   rub_per_message  rub_per_minute  \n",
       "0                1               1  \n",
       "1                1               1  \n",
       "2                1               1  \n",
       "3                1               1  \n",
       "4                1               1  \n",
       "5                1               1  \n",
       "6                1               1  \n",
       "7                1               1  \n",
       "8                3               3  \n",
       "9                3               3  "
      ]
     },
     "execution_count": 30,
     "metadata": {},
     "output_type": "execute_result"
    }
   ],
   "source": [
    "user_pivot.head(10)"
   ]
  },
  {
   "cell_type": "markdown",
   "metadata": {},
   "source": [
    "Так как таблица user_pivot отражает поведение клиентов за месяц и ранее были исключены случаи звонков длительностью 0 минут и интернет-сессии с расходом трафика 0 Мбайт, заполним пропуски в столбцах 'sum_calls', 'count_messages' и 'mb_used_sum' нулевыми значениями. Необработка пропусков приведет к искажению статистики (завышению среднего значения). Ситуации, когда пользователи на протияжении месяца не пользуются интернетом (клиеты не обладающие смартфонами), звонками (использоваие звонков в мессенджерах) или сообщениями (использование мессенджеров) вполне уместны и стоит их учитывать. "
   ]
  },
  {
   "cell_type": "code",
   "execution_count": 31,
   "metadata": {},
   "outputs": [],
   "source": [
    "user_pivot[['sum_calls', 'count_messages', 'mb_used_sum']] = user_pivot[['sum_calls', 'count_messages', 'mb_used_sum']].fillna(0)"
   ]
  },
  {
   "cell_type": "code",
   "execution_count": 32,
   "metadata": {},
   "outputs": [
    {
     "data": {
      "text/html": [
       "<div>\n",
       "<style scoped>\n",
       "    .dataframe tbody tr th:only-of-type {\n",
       "        vertical-align: middle;\n",
       "    }\n",
       "\n",
       "    .dataframe tbody tr th {\n",
       "        vertical-align: top;\n",
       "    }\n",
       "\n",
       "    .dataframe thead th {\n",
       "        text-align: right;\n",
       "    }\n",
       "</style>\n",
       "<table border=\"1\" class=\"dataframe\">\n",
       "  <thead>\n",
       "    <tr style=\"text-align: right;\">\n",
       "      <th></th>\n",
       "      <th>user_id</th>\n",
       "      <th>month</th>\n",
       "      <th>sum_calls</th>\n",
       "      <th>count_calls</th>\n",
       "      <th>count_messages</th>\n",
       "      <th>mb_used_sum</th>\n",
       "      <th>tariff</th>\n",
       "      <th>age</th>\n",
       "      <th>reg_date</th>\n",
       "      <th>churn_date</th>\n",
       "      <th>city</th>\n",
       "      <th>messages_included</th>\n",
       "      <th>mb_per_month_included</th>\n",
       "      <th>minutes_included</th>\n",
       "      <th>rub_monthly_fee</th>\n",
       "      <th>rub_per_gb</th>\n",
       "      <th>rub_per_message</th>\n",
       "      <th>rub_per_minute</th>\n",
       "    </tr>\n",
       "  </thead>\n",
       "  <tbody>\n",
       "    <tr>\n",
       "      <td>0</td>\n",
       "      <td>1000</td>\n",
       "      <td>5</td>\n",
       "      <td>159.0</td>\n",
       "      <td>17.0</td>\n",
       "      <td>22.0</td>\n",
       "      <td>2256.0</td>\n",
       "      <td>ultra</td>\n",
       "      <td>52</td>\n",
       "      <td>2018-05-25</td>\n",
       "      <td>NaT</td>\n",
       "      <td>Краснодар</td>\n",
       "      <td>1000</td>\n",
       "      <td>30720</td>\n",
       "      <td>3000</td>\n",
       "      <td>1950</td>\n",
       "      <td>150</td>\n",
       "      <td>1</td>\n",
       "      <td>1</td>\n",
       "    </tr>\n",
       "    <tr>\n",
       "      <td>1</td>\n",
       "      <td>1000</td>\n",
       "      <td>6</td>\n",
       "      <td>172.0</td>\n",
       "      <td>28.0</td>\n",
       "      <td>60.0</td>\n",
       "      <td>23257.0</td>\n",
       "      <td>ultra</td>\n",
       "      <td>52</td>\n",
       "      <td>2018-05-25</td>\n",
       "      <td>NaT</td>\n",
       "      <td>Краснодар</td>\n",
       "      <td>1000</td>\n",
       "      <td>30720</td>\n",
       "      <td>3000</td>\n",
       "      <td>1950</td>\n",
       "      <td>150</td>\n",
       "      <td>1</td>\n",
       "      <td>1</td>\n",
       "    </tr>\n",
       "    <tr>\n",
       "      <td>2</td>\n",
       "      <td>1000</td>\n",
       "      <td>7</td>\n",
       "      <td>340.0</td>\n",
       "      <td>41.0</td>\n",
       "      <td>75.0</td>\n",
       "      <td>14016.0</td>\n",
       "      <td>ultra</td>\n",
       "      <td>52</td>\n",
       "      <td>2018-05-25</td>\n",
       "      <td>NaT</td>\n",
       "      <td>Краснодар</td>\n",
       "      <td>1000</td>\n",
       "      <td>30720</td>\n",
       "      <td>3000</td>\n",
       "      <td>1950</td>\n",
       "      <td>150</td>\n",
       "      <td>1</td>\n",
       "      <td>1</td>\n",
       "    </tr>\n",
       "    <tr>\n",
       "      <td>3</td>\n",
       "      <td>1000</td>\n",
       "      <td>8</td>\n",
       "      <td>408.0</td>\n",
       "      <td>42.0</td>\n",
       "      <td>81.0</td>\n",
       "      <td>14070.0</td>\n",
       "      <td>ultra</td>\n",
       "      <td>52</td>\n",
       "      <td>2018-05-25</td>\n",
       "      <td>NaT</td>\n",
       "      <td>Краснодар</td>\n",
       "      <td>1000</td>\n",
       "      <td>30720</td>\n",
       "      <td>3000</td>\n",
       "      <td>1950</td>\n",
       "      <td>150</td>\n",
       "      <td>1</td>\n",
       "      <td>1</td>\n",
       "    </tr>\n",
       "    <tr>\n",
       "      <td>4</td>\n",
       "      <td>1000</td>\n",
       "      <td>9</td>\n",
       "      <td>466.0</td>\n",
       "      <td>46.0</td>\n",
       "      <td>57.0</td>\n",
       "      <td>14581.0</td>\n",
       "      <td>ultra</td>\n",
       "      <td>52</td>\n",
       "      <td>2018-05-25</td>\n",
       "      <td>NaT</td>\n",
       "      <td>Краснодар</td>\n",
       "      <td>1000</td>\n",
       "      <td>30720</td>\n",
       "      <td>3000</td>\n",
       "      <td>1950</td>\n",
       "      <td>150</td>\n",
       "      <td>1</td>\n",
       "      <td>1</td>\n",
       "    </tr>\n",
       "    <tr>\n",
       "      <td>5</td>\n",
       "      <td>1000</td>\n",
       "      <td>10</td>\n",
       "      <td>350.0</td>\n",
       "      <td>44.0</td>\n",
       "      <td>73.0</td>\n",
       "      <td>14717.0</td>\n",
       "      <td>ultra</td>\n",
       "      <td>52</td>\n",
       "      <td>2018-05-25</td>\n",
       "      <td>NaT</td>\n",
       "      <td>Краснодар</td>\n",
       "      <td>1000</td>\n",
       "      <td>30720</td>\n",
       "      <td>3000</td>\n",
       "      <td>1950</td>\n",
       "      <td>150</td>\n",
       "      <td>1</td>\n",
       "      <td>1</td>\n",
       "    </tr>\n",
       "    <tr>\n",
       "      <td>6</td>\n",
       "      <td>1000</td>\n",
       "      <td>11</td>\n",
       "      <td>338.0</td>\n",
       "      <td>37.0</td>\n",
       "      <td>58.0</td>\n",
       "      <td>14768.0</td>\n",
       "      <td>ultra</td>\n",
       "      <td>52</td>\n",
       "      <td>2018-05-25</td>\n",
       "      <td>NaT</td>\n",
       "      <td>Краснодар</td>\n",
       "      <td>1000</td>\n",
       "      <td>30720</td>\n",
       "      <td>3000</td>\n",
       "      <td>1950</td>\n",
       "      <td>150</td>\n",
       "      <td>1</td>\n",
       "      <td>1</td>\n",
       "    </tr>\n",
       "    <tr>\n",
       "      <td>7</td>\n",
       "      <td>1000</td>\n",
       "      <td>12</td>\n",
       "      <td>333.0</td>\n",
       "      <td>38.0</td>\n",
       "      <td>70.0</td>\n",
       "      <td>9827.0</td>\n",
       "      <td>ultra</td>\n",
       "      <td>52</td>\n",
       "      <td>2018-05-25</td>\n",
       "      <td>NaT</td>\n",
       "      <td>Краснодар</td>\n",
       "      <td>1000</td>\n",
       "      <td>30720</td>\n",
       "      <td>3000</td>\n",
       "      <td>1950</td>\n",
       "      <td>150</td>\n",
       "      <td>1</td>\n",
       "      <td>1</td>\n",
       "    </tr>\n",
       "    <tr>\n",
       "      <td>8</td>\n",
       "      <td>1001</td>\n",
       "      <td>11</td>\n",
       "      <td>430.0</td>\n",
       "      <td>45.0</td>\n",
       "      <td>0.0</td>\n",
       "      <td>18452.0</td>\n",
       "      <td>smart</td>\n",
       "      <td>41</td>\n",
       "      <td>2018-11-01</td>\n",
       "      <td>NaT</td>\n",
       "      <td>Москва</td>\n",
       "      <td>50</td>\n",
       "      <td>15360</td>\n",
       "      <td>500</td>\n",
       "      <td>550</td>\n",
       "      <td>200</td>\n",
       "      <td>3</td>\n",
       "      <td>3</td>\n",
       "    </tr>\n",
       "    <tr>\n",
       "      <td>9</td>\n",
       "      <td>1001</td>\n",
       "      <td>12</td>\n",
       "      <td>414.0</td>\n",
       "      <td>47.0</td>\n",
       "      <td>0.0</td>\n",
       "      <td>14053.0</td>\n",
       "      <td>smart</td>\n",
       "      <td>41</td>\n",
       "      <td>2018-11-01</td>\n",
       "      <td>NaT</td>\n",
       "      <td>Москва</td>\n",
       "      <td>50</td>\n",
       "      <td>15360</td>\n",
       "      <td>500</td>\n",
       "      <td>550</td>\n",
       "      <td>200</td>\n",
       "      <td>3</td>\n",
       "      <td>3</td>\n",
       "    </tr>\n",
       "  </tbody>\n",
       "</table>\n",
       "</div>"
      ],
      "text/plain": [
       "   user_id  month  sum_calls  count_calls  count_messages  mb_used_sum tariff  \\\n",
       "0     1000      5      159.0         17.0            22.0       2256.0  ultra   \n",
       "1     1000      6      172.0         28.0            60.0      23257.0  ultra   \n",
       "2     1000      7      340.0         41.0            75.0      14016.0  ultra   \n",
       "3     1000      8      408.0         42.0            81.0      14070.0  ultra   \n",
       "4     1000      9      466.0         46.0            57.0      14581.0  ultra   \n",
       "5     1000     10      350.0         44.0            73.0      14717.0  ultra   \n",
       "6     1000     11      338.0         37.0            58.0      14768.0  ultra   \n",
       "7     1000     12      333.0         38.0            70.0       9827.0  ultra   \n",
       "8     1001     11      430.0         45.0             0.0      18452.0  smart   \n",
       "9     1001     12      414.0         47.0             0.0      14053.0  smart   \n",
       "\n",
       "   age   reg_date churn_date       city  messages_included  \\\n",
       "0   52 2018-05-25        NaT  Краснодар               1000   \n",
       "1   52 2018-05-25        NaT  Краснодар               1000   \n",
       "2   52 2018-05-25        NaT  Краснодар               1000   \n",
       "3   52 2018-05-25        NaT  Краснодар               1000   \n",
       "4   52 2018-05-25        NaT  Краснодар               1000   \n",
       "5   52 2018-05-25        NaT  Краснодар               1000   \n",
       "6   52 2018-05-25        NaT  Краснодар               1000   \n",
       "7   52 2018-05-25        NaT  Краснодар               1000   \n",
       "8   41 2018-11-01        NaT     Москва                 50   \n",
       "9   41 2018-11-01        NaT     Москва                 50   \n",
       "\n",
       "   mb_per_month_included  minutes_included  rub_monthly_fee  rub_per_gb  \\\n",
       "0                  30720              3000             1950         150   \n",
       "1                  30720              3000             1950         150   \n",
       "2                  30720              3000             1950         150   \n",
       "3                  30720              3000             1950         150   \n",
       "4                  30720              3000             1950         150   \n",
       "5                  30720              3000             1950         150   \n",
       "6                  30720              3000             1950         150   \n",
       "7                  30720              3000             1950         150   \n",
       "8                  15360               500              550         200   \n",
       "9                  15360               500              550         200   \n",
       "\n",
       "   rub_per_message  rub_per_minute  \n",
       "0                1               1  \n",
       "1                1               1  \n",
       "2                1               1  \n",
       "3                1               1  \n",
       "4                1               1  \n",
       "5                1               1  \n",
       "6                1               1  \n",
       "7                1               1  \n",
       "8                3               3  \n",
       "9                3               3  "
      ]
     },
     "execution_count": 32,
     "metadata": {},
     "output_type": "execute_result"
    }
   ],
   "source": [
    "user_pivot.head(10)"
   ]
  },
  {
   "cell_type": "markdown",
   "metadata": {},
   "source": [
    "Для расчета помесячной выручки с каждого пользователя:  \n",
    "- вычтем бесплатный лимит из суммарного количества звонков, сообщений и интернет-трафика;  \n",
    "- остаток умножим на значение из тарифного плана;  \n",
    "- прибавим абонентскую плату, соответствующую тарифному плану.  \n",
    "Добавим значение помесячной выручки с каждого пользователя с столбец revenue_per_month."
   ]
  },
  {
   "cell_type": "markdown",
   "metadata": {},
   "source": [
    "Объявляем функцию для расчета помесячной выручки с каждого пользователя."
   ]
  },
  {
   "cell_type": "code",
   "execution_count": 33,
   "metadata": {},
   "outputs": [],
   "source": [
    "def revenue_func(row):\n",
    "    if row['sum_calls'] > row['minutes_included']:\n",
    "        сalls_cost = (row['sum_calls'] - row['minutes_included']) * row['rub_per_minute']\n",
    "    else:\n",
    "        сalls_cost = 0\n",
    "    if  row['count_messages'] > row['messages_included']:\n",
    "        messages_cost = (row['count_messages'] - row['messages_included']) * row['rub_per_message']   \n",
    "    else: \n",
    "        messages_cost = 0\n",
    "    if row['mb_used_sum'] > row['mb_per_month_included']:\n",
    "        gb_cost = (row['mb_used_sum'] - row['mb_per_month_included']) / 1024 * row['rub_per_gb']\n",
    "    else:\n",
    "        gb_cost = 0\n",
    "    total_cost = row['rub_monthly_fee'] + сalls_cost + messages_cost + gb_cost\n",
    "    return total_cost"
   ]
  },
  {
   "cell_type": "markdown",
   "metadata": {},
   "source": [
    "Применяем функцию расчета помесячной выручки к строкам таблицы user_pivot, округляем и приводим к типу данных 'int' значение помесячной выручки."
   ]
  },
  {
   "cell_type": "code",
   "execution_count": 34,
   "metadata": {},
   "outputs": [],
   "source": [
    "user_pivot['revenue_per_month'] = user_pivot.apply(revenue_func, axis=1)\n",
    "user_pivot['revenue_per_month'] = user_pivot['revenue_per_month'].apply(ceil_value).astype('int')"
   ]
  },
  {
   "cell_type": "markdown",
   "metadata": {},
   "source": [
    "Выведем 20  строк наиболее интересующих столбцов."
   ]
  },
  {
   "cell_type": "code",
   "execution_count": 35,
   "metadata": {},
   "outputs": [
    {
     "data": {
      "text/html": [
       "<div>\n",
       "<style scoped>\n",
       "    .dataframe tbody tr th:only-of-type {\n",
       "        vertical-align: middle;\n",
       "    }\n",
       "\n",
       "    .dataframe tbody tr th {\n",
       "        vertical-align: top;\n",
       "    }\n",
       "\n",
       "    .dataframe thead th {\n",
       "        text-align: right;\n",
       "    }\n",
       "</style>\n",
       "<table border=\"1\" class=\"dataframe\">\n",
       "  <thead>\n",
       "    <tr style=\"text-align: right;\">\n",
       "      <th></th>\n",
       "      <th>user_id</th>\n",
       "      <th>month</th>\n",
       "      <th>sum_calls</th>\n",
       "      <th>minutes_included</th>\n",
       "      <th>count_messages</th>\n",
       "      <th>messages_included</th>\n",
       "      <th>mb_used_sum</th>\n",
       "      <th>mb_per_month_included</th>\n",
       "      <th>tariff</th>\n",
       "      <th>revenue_per_month</th>\n",
       "    </tr>\n",
       "  </thead>\n",
       "  <tbody>\n",
       "    <tr>\n",
       "      <td>0</td>\n",
       "      <td>1000</td>\n",
       "      <td>5</td>\n",
       "      <td>159.0</td>\n",
       "      <td>3000</td>\n",
       "      <td>22.0</td>\n",
       "      <td>1000</td>\n",
       "      <td>2256.0</td>\n",
       "      <td>30720</td>\n",
       "      <td>ultra</td>\n",
       "      <td>1950</td>\n",
       "    </tr>\n",
       "    <tr>\n",
       "      <td>1</td>\n",
       "      <td>1000</td>\n",
       "      <td>6</td>\n",
       "      <td>172.0</td>\n",
       "      <td>3000</td>\n",
       "      <td>60.0</td>\n",
       "      <td>1000</td>\n",
       "      <td>23257.0</td>\n",
       "      <td>30720</td>\n",
       "      <td>ultra</td>\n",
       "      <td>1950</td>\n",
       "    </tr>\n",
       "    <tr>\n",
       "      <td>2</td>\n",
       "      <td>1000</td>\n",
       "      <td>7</td>\n",
       "      <td>340.0</td>\n",
       "      <td>3000</td>\n",
       "      <td>75.0</td>\n",
       "      <td>1000</td>\n",
       "      <td>14016.0</td>\n",
       "      <td>30720</td>\n",
       "      <td>ultra</td>\n",
       "      <td>1950</td>\n",
       "    </tr>\n",
       "    <tr>\n",
       "      <td>3</td>\n",
       "      <td>1000</td>\n",
       "      <td>8</td>\n",
       "      <td>408.0</td>\n",
       "      <td>3000</td>\n",
       "      <td>81.0</td>\n",
       "      <td>1000</td>\n",
       "      <td>14070.0</td>\n",
       "      <td>30720</td>\n",
       "      <td>ultra</td>\n",
       "      <td>1950</td>\n",
       "    </tr>\n",
       "    <tr>\n",
       "      <td>4</td>\n",
       "      <td>1000</td>\n",
       "      <td>9</td>\n",
       "      <td>466.0</td>\n",
       "      <td>3000</td>\n",
       "      <td>57.0</td>\n",
       "      <td>1000</td>\n",
       "      <td>14581.0</td>\n",
       "      <td>30720</td>\n",
       "      <td>ultra</td>\n",
       "      <td>1950</td>\n",
       "    </tr>\n",
       "    <tr>\n",
       "      <td>5</td>\n",
       "      <td>1000</td>\n",
       "      <td>10</td>\n",
       "      <td>350.0</td>\n",
       "      <td>3000</td>\n",
       "      <td>73.0</td>\n",
       "      <td>1000</td>\n",
       "      <td>14717.0</td>\n",
       "      <td>30720</td>\n",
       "      <td>ultra</td>\n",
       "      <td>1950</td>\n",
       "    </tr>\n",
       "    <tr>\n",
       "      <td>6</td>\n",
       "      <td>1000</td>\n",
       "      <td>11</td>\n",
       "      <td>338.0</td>\n",
       "      <td>3000</td>\n",
       "      <td>58.0</td>\n",
       "      <td>1000</td>\n",
       "      <td>14768.0</td>\n",
       "      <td>30720</td>\n",
       "      <td>ultra</td>\n",
       "      <td>1950</td>\n",
       "    </tr>\n",
       "    <tr>\n",
       "      <td>7</td>\n",
       "      <td>1000</td>\n",
       "      <td>12</td>\n",
       "      <td>333.0</td>\n",
       "      <td>3000</td>\n",
       "      <td>70.0</td>\n",
       "      <td>1000</td>\n",
       "      <td>9827.0</td>\n",
       "      <td>30720</td>\n",
       "      <td>ultra</td>\n",
       "      <td>1950</td>\n",
       "    </tr>\n",
       "    <tr>\n",
       "      <td>8</td>\n",
       "      <td>1001</td>\n",
       "      <td>11</td>\n",
       "      <td>430.0</td>\n",
       "      <td>500</td>\n",
       "      <td>0.0</td>\n",
       "      <td>50</td>\n",
       "      <td>18452.0</td>\n",
       "      <td>15360</td>\n",
       "      <td>smart</td>\n",
       "      <td>1154</td>\n",
       "    </tr>\n",
       "    <tr>\n",
       "      <td>9</td>\n",
       "      <td>1001</td>\n",
       "      <td>12</td>\n",
       "      <td>414.0</td>\n",
       "      <td>500</td>\n",
       "      <td>0.0</td>\n",
       "      <td>50</td>\n",
       "      <td>14053.0</td>\n",
       "      <td>15360</td>\n",
       "      <td>smart</td>\n",
       "      <td>550</td>\n",
       "    </tr>\n",
       "    <tr>\n",
       "      <td>10</td>\n",
       "      <td>1002</td>\n",
       "      <td>6</td>\n",
       "      <td>117.0</td>\n",
       "      <td>500</td>\n",
       "      <td>4.0</td>\n",
       "      <td>50</td>\n",
       "      <td>10871.0</td>\n",
       "      <td>15360</td>\n",
       "      <td>smart</td>\n",
       "      <td>550</td>\n",
       "    </tr>\n",
       "    <tr>\n",
       "      <td>11</td>\n",
       "      <td>1002</td>\n",
       "      <td>7</td>\n",
       "      <td>214.0</td>\n",
       "      <td>500</td>\n",
       "      <td>11.0</td>\n",
       "      <td>50</td>\n",
       "      <td>17601.0</td>\n",
       "      <td>15360</td>\n",
       "      <td>smart</td>\n",
       "      <td>988</td>\n",
       "    </tr>\n",
       "    <tr>\n",
       "      <td>12</td>\n",
       "      <td>1002</td>\n",
       "      <td>8</td>\n",
       "      <td>289.0</td>\n",
       "      <td>500</td>\n",
       "      <td>13.0</td>\n",
       "      <td>50</td>\n",
       "      <td>20347.0</td>\n",
       "      <td>15360</td>\n",
       "      <td>smart</td>\n",
       "      <td>1525</td>\n",
       "    </tr>\n",
       "    <tr>\n",
       "      <td>13</td>\n",
       "      <td>1002</td>\n",
       "      <td>9</td>\n",
       "      <td>206.0</td>\n",
       "      <td>500</td>\n",
       "      <td>4.0</td>\n",
       "      <td>50</td>\n",
       "      <td>16712.0</td>\n",
       "      <td>15360</td>\n",
       "      <td>smart</td>\n",
       "      <td>815</td>\n",
       "    </tr>\n",
       "    <tr>\n",
       "      <td>14</td>\n",
       "      <td>1002</td>\n",
       "      <td>10</td>\n",
       "      <td>212.0</td>\n",
       "      <td>500</td>\n",
       "      <td>10.0</td>\n",
       "      <td>50</td>\n",
       "      <td>13905.0</td>\n",
       "      <td>15360</td>\n",
       "      <td>smart</td>\n",
       "      <td>550</td>\n",
       "    </tr>\n",
       "    <tr>\n",
       "      <td>15</td>\n",
       "      <td>1002</td>\n",
       "      <td>11</td>\n",
       "      <td>243.0</td>\n",
       "      <td>500</td>\n",
       "      <td>16.0</td>\n",
       "      <td>50</td>\n",
       "      <td>18610.0</td>\n",
       "      <td>15360</td>\n",
       "      <td>smart</td>\n",
       "      <td>1185</td>\n",
       "    </tr>\n",
       "    <tr>\n",
       "      <td>16</td>\n",
       "      <td>1002</td>\n",
       "      <td>12</td>\n",
       "      <td>236.0</td>\n",
       "      <td>500</td>\n",
       "      <td>12.0</td>\n",
       "      <td>50</td>\n",
       "      <td>18137.0</td>\n",
       "      <td>15360</td>\n",
       "      <td>smart</td>\n",
       "      <td>1093</td>\n",
       "    </tr>\n",
       "    <tr>\n",
       "      <td>17</td>\n",
       "      <td>1003</td>\n",
       "      <td>8</td>\n",
       "      <td>380.0</td>\n",
       "      <td>3000</td>\n",
       "      <td>37.0</td>\n",
       "      <td>1000</td>\n",
       "      <td>8571.0</td>\n",
       "      <td>30720</td>\n",
       "      <td>ultra</td>\n",
       "      <td>1950</td>\n",
       "    </tr>\n",
       "    <tr>\n",
       "      <td>18</td>\n",
       "      <td>1003</td>\n",
       "      <td>9</td>\n",
       "      <td>961.0</td>\n",
       "      <td>3000</td>\n",
       "      <td>91.0</td>\n",
       "      <td>1000</td>\n",
       "      <td>12479.0</td>\n",
       "      <td>30720</td>\n",
       "      <td>ultra</td>\n",
       "      <td>1950</td>\n",
       "    </tr>\n",
       "    <tr>\n",
       "      <td>19</td>\n",
       "      <td>1003</td>\n",
       "      <td>10</td>\n",
       "      <td>855.0</td>\n",
       "      <td>3000</td>\n",
       "      <td>83.0</td>\n",
       "      <td>1000</td>\n",
       "      <td>14779.0</td>\n",
       "      <td>30720</td>\n",
       "      <td>ultra</td>\n",
       "      <td>1950</td>\n",
       "    </tr>\n",
       "  </tbody>\n",
       "</table>\n",
       "</div>"
      ],
      "text/plain": [
       "    user_id  month  sum_calls  minutes_included  count_messages  \\\n",
       "0      1000      5      159.0              3000            22.0   \n",
       "1      1000      6      172.0              3000            60.0   \n",
       "2      1000      7      340.0              3000            75.0   \n",
       "3      1000      8      408.0              3000            81.0   \n",
       "4      1000      9      466.0              3000            57.0   \n",
       "5      1000     10      350.0              3000            73.0   \n",
       "6      1000     11      338.0              3000            58.0   \n",
       "7      1000     12      333.0              3000            70.0   \n",
       "8      1001     11      430.0               500             0.0   \n",
       "9      1001     12      414.0               500             0.0   \n",
       "10     1002      6      117.0               500             4.0   \n",
       "11     1002      7      214.0               500            11.0   \n",
       "12     1002      8      289.0               500            13.0   \n",
       "13     1002      9      206.0               500             4.0   \n",
       "14     1002     10      212.0               500            10.0   \n",
       "15     1002     11      243.0               500            16.0   \n",
       "16     1002     12      236.0               500            12.0   \n",
       "17     1003      8      380.0              3000            37.0   \n",
       "18     1003      9      961.0              3000            91.0   \n",
       "19     1003     10      855.0              3000            83.0   \n",
       "\n",
       "    messages_included  mb_used_sum  mb_per_month_included tariff  \\\n",
       "0                1000       2256.0                  30720  ultra   \n",
       "1                1000      23257.0                  30720  ultra   \n",
       "2                1000      14016.0                  30720  ultra   \n",
       "3                1000      14070.0                  30720  ultra   \n",
       "4                1000      14581.0                  30720  ultra   \n",
       "5                1000      14717.0                  30720  ultra   \n",
       "6                1000      14768.0                  30720  ultra   \n",
       "7                1000       9827.0                  30720  ultra   \n",
       "8                  50      18452.0                  15360  smart   \n",
       "9                  50      14053.0                  15360  smart   \n",
       "10                 50      10871.0                  15360  smart   \n",
       "11                 50      17601.0                  15360  smart   \n",
       "12                 50      20347.0                  15360  smart   \n",
       "13                 50      16712.0                  15360  smart   \n",
       "14                 50      13905.0                  15360  smart   \n",
       "15                 50      18610.0                  15360  smart   \n",
       "16                 50      18137.0                  15360  smart   \n",
       "17               1000       8571.0                  30720  ultra   \n",
       "18               1000      12479.0                  30720  ultra   \n",
       "19               1000      14779.0                  30720  ultra   \n",
       "\n",
       "    revenue_per_month  \n",
       "0                1950  \n",
       "1                1950  \n",
       "2                1950  \n",
       "3                1950  \n",
       "4                1950  \n",
       "5                1950  \n",
       "6                1950  \n",
       "7                1950  \n",
       "8                1154  \n",
       "9                 550  \n",
       "10                550  \n",
       "11                988  \n",
       "12               1525  \n",
       "13                815  \n",
       "14                550  \n",
       "15               1185  \n",
       "16               1093  \n",
       "17               1950  \n",
       "18               1950  \n",
       "19               1950  "
      ]
     },
     "execution_count": 35,
     "metadata": {},
     "output_type": "execute_result"
    }
   ],
   "source": [
    "user_pivot[['user_id', 'month', 'sum_calls','minutes_included', 'count_messages',\n",
    "            'messages_included','mb_used_sum', 'mb_per_month_included','tariff', 'revenue_per_month']].head(20)"
   ]
  },
  {
   "cell_type": "markdown",
   "metadata": {},
   "source": [
    "Выведем описание столбца 'revenue_per_month' (помесячная выручка). "
   ]
  },
  {
   "cell_type": "code",
   "execution_count": 36,
   "metadata": {},
   "outputs": [
    {
     "data": {
      "text/plain": [
       "count    3214.000000\n",
       "mean     1487.080274\n",
       "std       784.043394\n",
       "min       550.000000\n",
       "25%       694.000000\n",
       "50%      1563.500000\n",
       "75%      1950.000000\n",
       "max      6712.000000\n",
       "Name: revenue_per_month, dtype: float64"
      ]
     },
     "execution_count": 36,
     "metadata": {},
     "output_type": "execute_result"
    }
   ],
   "source": [
    "user_pivot['revenue_per_month'].describe()"
   ]
  },
  {
   "cell_type": "markdown",
   "metadata": {},
   "source": [
    "### Вывод"
   ]
  },
  {
   "cell_type": "markdown",
   "metadata": {},
   "source": [
    "1) Данные подготовлены в соответствии с пунктом 1.1.  \n",
    "\n",
    "2) Для каждого пользователя добавлены необходимые для дальнейшего анализа параметры:  \n",
    "- количество сделанных звонков и израсходованных минут разговора по месяцам;  \n",
    "- количество отправленных сообщений по месяцам;  \n",
    "- объем израсходованного интернет-трафика по месяцам;  \n",
    "- помесячная выручка."
   ]
  },
  {
   "cell_type": "markdown",
   "metadata": {},
   "source": [
    "## Проанализируем данные\n",
    "\n"
   ]
  },
  {
   "cell_type": "markdown",
   "metadata": {},
   "source": [
    "### Ответим на вопрос сколько минут разговора, сколько сообщений и какой объём интернет-трафика требуется пользователям каждого тарифа в месяц. Посчитаем среднее количество, дисперсию и стандартное отклонение.\n"
   ]
  },
  {
   "cell_type": "markdown",
   "metadata": {},
   "source": [
    "По данным таблицы user_pivot создадим сводную таблицу tariff_pivot и посчитаем для каждого тарифа тарифа месячное потребление минут разговора (calls), сообщений (messages) и интернет-трафика в Мбайтах (mb_traffic). Выведем стреднее количество (mean), дисперсию (var) и стандартное отклонение (std)."
   ]
  },
  {
   "cell_type": "code",
   "execution_count": 37,
   "metadata": {},
   "outputs": [
    {
     "data": {
      "text/html": [
       "<div>\n",
       "<style scoped>\n",
       "    .dataframe tbody tr th:only-of-type {\n",
       "        vertical-align: middle;\n",
       "    }\n",
       "\n",
       "    .dataframe tbody tr th {\n",
       "        vertical-align: top;\n",
       "    }\n",
       "\n",
       "    .dataframe thead th {\n",
       "        text-align: right;\n",
       "    }\n",
       "</style>\n",
       "<table border=\"1\" class=\"dataframe\">\n",
       "  <thead>\n",
       "    <tr style=\"text-align: right;\">\n",
       "      <th></th>\n",
       "      <th>tariff</th>\n",
       "      <th>mean_messages</th>\n",
       "      <th>mean_mb_traffic</th>\n",
       "      <th>mean_calls</th>\n",
       "      <th>var_messages</th>\n",
       "      <th>var_mb_traffic</th>\n",
       "      <th>var_calls</th>\n",
       "      <th>std_messages</th>\n",
       "      <th>std_mb_traffic</th>\n",
       "      <th>std_calls</th>\n",
       "    </tr>\n",
       "  </thead>\n",
       "  <tbody>\n",
       "    <tr>\n",
       "      <td>0</td>\n",
       "      <td>smart</td>\n",
       "      <td>33.384029</td>\n",
       "      <td>16229.188425</td>\n",
       "      <td>417.934948</td>\n",
       "      <td>796.812958</td>\n",
       "      <td>3.454591e+07</td>\n",
       "      <td>36219.315784</td>\n",
       "      <td>28.227876</td>\n",
       "      <td>5877.576978</td>\n",
       "      <td>190.313730</td>\n",
       "    </tr>\n",
       "    <tr>\n",
       "      <td>1</td>\n",
       "      <td>ultra</td>\n",
       "      <td>49.363452</td>\n",
       "      <td>19486.901523</td>\n",
       "      <td>526.623350</td>\n",
       "      <td>2285.266143</td>\n",
       "      <td>1.019356e+08</td>\n",
       "      <td>100873.633397</td>\n",
       "      <td>47.804457</td>\n",
       "      <td>10096.317202</td>\n",
       "      <td>317.606098</td>\n",
       "    </tr>\n",
       "  </tbody>\n",
       "</table>\n",
       "</div>"
      ],
      "text/plain": [
       "  tariff  mean_messages  mean_mb_traffic  mean_calls  var_messages  \\\n",
       "0  smart      33.384029     16229.188425  417.934948    796.812958   \n",
       "1  ultra      49.363452     19486.901523  526.623350   2285.266143   \n",
       "\n",
       "   var_mb_traffic      var_calls  std_messages  std_mb_traffic   std_calls  \n",
       "0    3.454591e+07   36219.315784     28.227876     5877.576978  190.313730  \n",
       "1    1.019356e+08  100873.633397     47.804457    10096.317202  317.606098  "
      ]
     },
     "execution_count": 37,
     "metadata": {},
     "output_type": "execute_result"
    }
   ],
   "source": [
    "tariff_pivot = user_pivot.pivot_table(\n",
    "    index='tariff', values=['sum_calls', 'count_messages', 'mb_used_sum'], aggfunc=['mean', np.var, np.std]\n",
    ")\n",
    "tariff_pivot.columns = (\n",
    "    ['mean_messages', 'mean_mb_traffic', 'mean_calls', 'var_messages','var_mb_traffic', \n",
    "     'var_calls', 'std_messages', 'std_mb_traffic', 'std_calls']\n",
    ")\n",
    "tariff_pivot = tariff_pivot.reset_index()\n",
    "tariff_pivot"
   ]
  },
  {
   "cell_type": "markdown",
   "metadata": {},
   "source": [
    "### Построим гистограммы и опишем распределения."
   ]
  },
  {
   "cell_type": "markdown",
   "metadata": {},
   "source": [
    "Создадим таблицы с помесячным расходом минут разговора, числа сообщений, интернет-трафика пользователей каждого тарифа."
   ]
  },
  {
   "cell_type": "code",
   "execution_count": 38,
   "metadata": {},
   "outputs": [],
   "source": [
    "smart = user_pivot[user_pivot['tariff'] == 'smart']\n",
    "ultra = user_pivot[user_pivot['tariff'] == 'ultra']"
   ]
  },
  {
   "cell_type": "markdown",
   "metadata": {},
   "source": [
    "Построим гистограмму минут разговора в месяц пользотелей каждого тарифа."
   ]
  },
  {
   "cell_type": "code",
   "execution_count": 39,
   "metadata": {},
   "outputs": [
    {
     "data": {
      "text/plain": [
       "<function matplotlib.pyplot.plot(*args, scalex=True, scaley=True, data=None, **kwargs)>"
      ]
     },
     "execution_count": 39,
     "metadata": {},
     "output_type": "execute_result"
    },
    {
     "data": {
      "image/png": "[encoded data removed]",
      "text/plain": [
       "<Figure size 1224x432 with 1 Axes>"
      ]
     },
     "metadata": {
      "needs_background": "light"
     },
     "output_type": "display_data"
    }
   ],
   "source": [
    "ax = smart['sum_calls'].plot(\n",
    "    kind = 'hist', bins=15, figsize =(17, 6), alpha=0.6, grid = True, label='Тариф \"Smart\"'\n",
    ")\n",
    "ax = ultra['sum_calls'].plot(\n",
    "    kind = 'hist', bins=10, alpha=0.3, label='Тариф Ultra'\n",
    ")\n",
    "\n",
    "plt.axvline(x=417.9, label='Среднее значение тарифа \"Smart\"', color='b', linestyle='--')\n",
    "plt.axvline(x=526.6, label='Среднее значение тарифа \"Ultra\"', color='r', linestyle='--')\n",
    "plt.axvline(x=500, label='Включенный в тариф \"Smart\" лимит', color='b', linestyle='-')\n",
    "plt.axvline(x=3000, label='Включенный в тариф \"Ultra\" лимит', color='r', linestyle='-')\n",
    "\n",
    "ax.set_title('Гистограмма минут разговора в месяц')\n",
    "plt.legend()\n",
    "plt.plot"
   ]
  },
  {
   "cell_type": "markdown",
   "metadata": {},
   "source": [
    "Построим гистограмму количества сообщений в месяц пользотелей каждого тарифа."
   ]
  },
  {
   "cell_type": "code",
   "execution_count": 40,
   "metadata": {},
   "outputs": [
    {
     "data": {
      "text/plain": [
       "<function matplotlib.pyplot.plot(*args, scalex=True, scaley=True, data=None, **kwargs)>"
      ]
     },
     "execution_count": 40,
     "metadata": {},
     "output_type": "execute_result"
    },
    {
     "data": {
      "image/png": "[encoded data removed]",
      "text/plain": [
       "<Figure size 1224x432 with 1 Axes>"
      ]
     },
     "metadata": {
      "needs_background": "light"
     },
     "output_type": "display_data"
    }
   ],
   "source": [
    "ax = smart['count_messages'].plot(\n",
    "    kind = 'hist', bins=15, figsize =(17, 6), alpha=0.6, grid = True, label='Тариф \"Smart\"'\n",
    ")\n",
    "ax = ultra['count_messages'].plot(\n",
    "    kind = 'hist', bins=15, alpha=0.3, label='Тариф Ultra'\n",
    ")\n",
    "\n",
    "plt.axvline(x=33.4, label='Среднее значение тарифа \"Smart\"', color='b', linestyle='--')\n",
    "plt.axvline(x=49.4, label='Среднее значение тарифа \"Ultra\"', color='r', linestyle='--')\n",
    "plt.axvline(x=50, label='Включенный в тариф \"Smart\" лимит', color='b', linestyle='-')\n",
    "plt.axvline(x=1000, label='Включенный в тариф \"Ultra\" лимит', color='r', linestyle='-')\n",
    "\n",
    "ax.set_title('Гистограмма количества сообщений в месяц')\n",
    "plt.legend()\n",
    "plt.plot"
   ]
  },
  {
   "cell_type": "markdown",
   "metadata": {},
   "source": [
    "Построим гистограмму потребеления интернет-траффика в месяц пользотелей каждого тарифа."
   ]
  },
  {
   "cell_type": "code",
   "execution_count": 41,
   "metadata": {},
   "outputs": [
    {
     "data": {
      "text/plain": [
       "<function matplotlib.pyplot.plot(*args, scalex=True, scaley=True, data=None, **kwargs)>"
      ]
     },
     "execution_count": 41,
     "metadata": {},
     "output_type": "execute_result"
    },
    {
     "data": {
      "image/png": "[encoded data removed]",
      "text/plain": [
       "<Figure size 1080x360 with 1 Axes>"
      ]
     },
     "metadata": {
      "needs_background": "light"
     },
     "output_type": "display_data"
    }
   ],
   "source": [
    "ax = smart['mb_used_sum'].plot(\n",
    "    kind = 'hist', bins=25, figsize =(15, 5), alpha=0.6, grid = True, label='Тариф \"Smart\"'\n",
    ")\n",
    "ax = ultra['mb_used_sum'].plot(\n",
    "    kind = 'hist', bins=12, alpha=0.3, label='Тариф Ultra'\n",
    ")\n",
    "\n",
    "plt.axvline(x=16229.2, label='Среднее значение тарифа \"Smart\"', color='b', linestyle='--')\n",
    "plt.axvline(x=19486.9, label='Среднее значение тарифа \"Ultra\"', color='r', linestyle='--')\n",
    "plt.axvline(x=15360, label='Включенный в тариф \"Smart\" лимит', color='b', linestyle='-')\n",
    "plt.axvline(x=30720, label='Включенный в тариф \"Ultra\" лимит', color='r', linestyle='-')\n",
    "\n",
    "ax.set_title('Гистограмма потребеления интернет-траффика в месяц')\n",
    "plt.legend()\n",
    "plt.plot"
   ]
  },
  {
   "cell_type": "markdown",
   "metadata": {},
   "source": [
    "### Вывод"
   ]
  },
  {
   "cell_type": "markdown",
   "metadata": {},
   "source": [
    "По результатам анализа пользователям тарифа \"smart\" / \"ultra\" ежемесячно требуется:\n",
    "\n",
    "417,9 / 526,6 минут разговора, при стандатрном отклонении 190,3 / 317,6 минут и диспресии 36219,3 / 100873,6;  \n",
    "33,4 / 49,4 сообщений, при стандартном отклонении 28,2 / 47,8 сообщений и диспресии 796,8 / 2285,3;  \n",
    "16229,2 / 19486,9 Мбайт интернет-трафика, при стандартном отклонении 5877,6 / 10096,3 Мбайт и дисперсии 3,45×10^7 / 1.02×10^8.  \n",
    "\n",
    "**Описание гистограмм распределения:**  \n",
    "- **Тариф \"smart\"**  \n",
    "1.1. Распределение минут разговора - нормальное. Данные почти симетрично расположены около среднего 417,9 минут. При этом стоит отметить, что включенный в абонентскую плату лимит минут (500) находится близко к среднему значению расхода минут. Таким образом значимая часть клинетов не укладывается в тарифный лимит и возможно задумается о его смене.  \n",
    "1.2. Распределение числа сообщений - с положительной скошенностью. 25% клиентов отправляют не более 10 сообщений в месяц. Лимит сообщений (50) выше среднего значения (33,4) отправляемых сообщений менее, чем на одно стандартное отклонение (28,2). 75% пользоватлей отправляют не более 51 сообщения в месяц.  \n",
    "1.3. Распределение интернет-трафика - нормальное. Данные почти симетрично расположены около среднего 16229 Мбайт. Включенный в абонентскую плату лимит (15360 Мбайт) меньше среднего значения. Половина пользователей (по медианному значению) расходуют более 16531 Мбайта ежемесячно. Включенный абонентский лимит нуждается в корректировке, так как не удовлетворяет нуждам клиентов.  \n",
    "\n",
    "\n",
    "- **Тариф \"ultra\"**  \n",
    "2.1. Распределение минут разговора в месяц для тарифа \"ultra\" - с положительной скошенностью. При этом включенный в абонентскую плату лимит минут (3000) находится на расстоянии более трёх сигм (стандартное отклонение 317,6) от среднего значения (526,6). Максимальная длительность минут разговора в месяц по имеющимся данным 1673 минуты. Таким образом пользователи не нуждаются в предоставленном лимите, и возможно задумаются о переходе на тариф с меньшим лимитом и абонентской платой.  \n",
    "2.2. Распределение числа сообщений - с положительной скошенностью. 25% клиентов оптравляют не более 6 сообщений в месяц. Ни один пользователь выборки не отправил более 224 сообщений в месяц, при включенном в абонентскую плату лимите в 1000 сообщений, следовательно возможна корректировка лимита в меньшую сторону.  \n",
    "2.3. Распределение интернет-трафика - нормальное с небольшой положительной скошенностью. Данные почти симетрично расположены окло среднего 19486,9 Мбайт. Включенный в абонентскую плату лимит инетрент-траффика (30720) находится на расстоянии одной сигмы (10096) от среднего значения. Более 75% клиентов тарифа укладываются в тарифный лимит. Максимальное потребление интернет-трафика в выборке составило 49789 Мбайт.  "
   ]
  },
  {
   "cell_type": "markdown",
   "metadata": {},
   "source": [
    "## Проверим гипотезы"
   ]
  },
  {
   "cell_type": "markdown",
   "metadata": {},
   "source": [
    "### Средняя выручка пользователей тарифов «Ультра» и «Смарт» различается"
   ]
  },
  {
   "cell_type": "markdown",
   "metadata": {},
   "source": [
    "Создадим выборки месячной прибыли пользователей каждого тарифа и зададим параметр alpha (критический уровень статистической значимости) 0,05."
   ]
  },
  {
   "cell_type": "code",
   "execution_count": 42,
   "metadata": {},
   "outputs": [],
   "source": [
    "smart_revenue = smart['revenue_per_month']\n",
    "ultra_revenue = ultra['revenue_per_month']\n",
    "alpha = 0.05"
   ]
  },
  {
   "cell_type": "markdown",
   "metadata": {},
   "source": [
    "Сформируем **нулевую гипотезу**: средняя выручка пользовтелей тарифов \"Ультра\" и \"Смарт\" **не различается**.  \n",
    "**Альтернативной гипотезой** будет: средняя выручка пользовтелей тарифов \"Ультра\" и \"Смарт\" **различается**.  \n",
    "Проверим гипотезу о равенстве средних двух генеральных совокупнойстей для парных выборок. Дисперсии выборок будем считать не равными."
   ]
  },
  {
   "cell_type": "code",
   "execution_count": 43,
   "metadata": {},
   "outputs": [
    {
     "name": "stdout",
     "output_type": "stream",
     "text": [
      "Средняя выручка тарифа smart 1233.641094661283\n",
      "Средняя выручка тарифа ultra 2060.5989847715737\n",
      "p-значение:  1.620572799195892e-295\n",
      "Отвергаем нулевую гипотезу\n"
     ]
    }
   ],
   "source": [
    "results = st.ttest_ind(smart_revenue, ultra_revenue, equal_var = False)\n",
    "\n",
    "print('Средняя выручка тарифа smart', smart_revenue.mean())\n",
    "print('Средняя выручка тарифа ultra', ultra_revenue.mean())\n",
    "print('p-значение: ', results.pvalue)\n",
    "\n",
    "if (results.pvalue < alpha):\n",
    "    print(\"Отвергаем нулевую гипотезу\")\n",
    "else:\n",
    "    print(\"Не получилось отвергнуть нулевую гипотезу\")"
   ]
  },
  {
   "cell_type": "markdown",
   "metadata": {},
   "source": [
    "### Средняя выручка пользователей из Москвы отличается от выручки пользователей из других регионов"
   ]
  },
  {
   "cell_type": "markdown",
   "metadata": {},
   "source": [
    "Создадим выборки средней выручки в месяц пользователей из Москвы и пользователей из других городов и зададим параметр alpha (критический уровень статистической значимости) 0,05."
   ]
  },
  {
   "cell_type": "code",
   "execution_count": 44,
   "metadata": {},
   "outputs": [],
   "source": [
    "moscow_revenue = user_pivot.query('city == \"Москва\"')['revenue_per_month']\n",
    "other_city_revenue = user_pivot.query('city != \"Москва\"')['revenue_per_month']\n",
    "alpha = 0.05"
   ]
  },
  {
   "cell_type": "markdown",
   "metadata": {},
   "source": [
    "Сформируем **нулевую гипотезу**: выручка пользователей тарифов пользователей из Москвы **не отличается** от средней выручки пользователей из других регионов.  \n",
    "**Альтернативной гипотезой** будет: выручка пользователей тарифов пользователей из Москвы **отличается** от средней выручки пользователей из других регионов.  \n",
    "Проверим гипотезу о равенстве средних двух генеральных совокупнойстей для парных выборок. Дисперсии выборок будем считать не равными."
   ]
  },
  {
   "cell_type": "code",
   "execution_count": 45,
   "metadata": {},
   "outputs": [
    {
     "name": "stdout",
     "output_type": "stream",
     "text": [
      "Средняя выручка пользователей из Москве 1507.4828150572832\n",
      "Средняя пвыручка пользователей из других городов 1482.2912024587015\n",
      "p-значение:  0.4748527079597812\n",
      "Не получилось отвергнуть нулевую гипотезу\n"
     ]
    }
   ],
   "source": [
    "results = st.ttest_ind(moscow_revenue, other_city_revenue)\n",
    "\n",
    "print('Средняя выручка пользователей из Москве', moscow_revenue.mean())\n",
    "print('Средняя пвыручка пользователей из других городов', other_city_revenue.mean())\n",
    "print('p-значение: ', results.pvalue)\n",
    "\n",
    "if (results.pvalue < alpha):\n",
    "    print(\"Отвергаем нулевую гипотезу\")\n",
    "else:\n",
    "    print(\"Не получилось отвергнуть нулевую гипотезу\")"
   ]
  },
  {
   "cell_type": "markdown",
   "metadata": {},
   "source": [
    "### Вывод"
   ]
  },
  {
   "cell_type": "markdown",
   "metadata": {},
   "source": [
    "#### Средняя выручка пользователей тарифов \"Ультра\" и \"Смарт\""
   ]
  },
  {
   "cell_type": "markdown",
   "metadata": {},
   "source": [
    "**Нулевая гипотеза** о том, что средняя выручка пользователей тарифов \"Ультра\" и \"Смарт\" не различается **отвеграется**.  \n",
    "\n",
    "Следовательно **альтернативная гипотеза**, что средняя выручка пользователей тарифов \"Ультра\" и \"Смарт\" различается **не отвергается**."
   ]
  },
  {
   "cell_type": "markdown",
   "metadata": {},
   "source": [
    "#### Средняя выручка пользователей из Москвы и пользователей из других городов"
   ]
  },
  {
   "cell_type": "markdown",
   "metadata": {},
   "source": [
    "**Нулевую гипотезу** о том, что выручка пользователей из Москвы не отличается от средней выручки пользователей из других городов **отвергнуть не удалось**."
   ]
  },
  {
   "cell_type": "markdown",
   "metadata": {},
   "source": [
    "## Итоговый вывод"
   ]
  },
  {
   "cell_type": "markdown",
   "metadata": {},
   "source": [
    "Проведен предварительный анализ тарифов \"Смарт\" и \"Ультра\" на выборке из данных 500 пользователей. В ходе анализа выполнены:  \n",
    "- Изучение общей информации предоставленных данных;  \n",
    "- Подготовка данных и добавлены необходимые параметры для каждого пользователя (количество сделанных звонков и израсходованных минут разговора по месяцам, количество отправленных сообщений по месяцам, объем израсходованного интернет-трафика по месяцам, помесячная выручка);  \n",
    "По результатам анализа пользователям тарифа \"smart\" / \"ultra\" ежемесячно требуется:  \n",
    "417,9 / 526,6 минут разговора, при стандатрном отклонении 190,3 / 317,6 минут и дисперсии 36219,3 / 100873,6;  \n",
    "33,4 / 49,4 сообщений, при стандартном отклонении 28,2 / 47,8 сообщений и дисперсии 796,8 / 2285,3;  \n",
    "16229,2 / 19486,9 Мбайт интернет-трафика, при стандартном отклонении 5877,6 / 10096,3 Мбайт и дисперсии 3,45×10^7 / 1.02×10^8.\n",
    "- Анализ тарифов  \n",
    "**Тариф \"smart\"**  \n",
    "1.1. Включенный в абонентскую плату лимит минут (500) находится близко к среднему значению расхода минут (417,9). Таким образом значимая часть клинетов не укладывается в тарифный лимит и возможно задумается о его смене. Рекомендуется рассмотреть возможность увеличения лимита минут. \n",
    "1.2. Лимит сообщений (50) выше среднего значения отправляемых сообщений (33,4), при этом 75% пользоватлей отправляют не более 51 сообщения в месяц.  \n",
    "1.3. Включенный в абонентскую плату лимит инетрнет-трафика - 15360 Мбайт меньше среднего значения - 16229 Мбайт. Половина пользователей (по медианному значению) расходуют более 16531 Мбайта ежемесячно. Включенный абонентский лимит нуждается в корректировке, так как не удовлетворяет нуждам клиентов. Рекомендуется рассмотреть возможность увеличения лимита интернет-трафика. \n",
    "**Тариф \"ultra\"**  \n",
    "2.1. Включенный в абонентскую плату лимит минут (3000) находится на расстоянии более трёх сигм (стандартное отклонение 317,6) от среднего значения (526,6). Максимальная длительность минут разговора в месяц по имеющимся данным 1673 минуты. Таким образом пользователи не нуждаются в предоставленном лимите и возможна корректировка включенного в абнонентскую плату лимита минут до 1479 минут (среднего значения плюс три стандартных отклонения).  \n",
    "2.2. Ни один пользователь выборки не отправил более 224 сообщений в месяц, при включенном в абонентскую плату лимите в 1000 сообщений, следовательно возможна корректировка лимита в меньшую сторону.  \n",
    "2.3. Среднее потребление интернет-трафика 19486,9 Мбайт. Включенный в абонентскую плату лимит инетрент-траффика (30720) находится на расстоянии одной сигмы (10096) от среднего значения. Более 75% клиентов тарифа укладываются в тарифный лимит. Максимальное потребление интернет-трафика в выборке составило 49789 Мбайт.  \n",
    "- Гипотезу: средняя выручка пользователей тарифов \"Ультра\" и \"Смарт\" различается **отвергнуть не удалось** при критическом уровне статистической значимости 5%;  \n",
    "Средняя выручка тарифа smart 1233.64,  \n",
    "Средняя выручка тарифа ultra 2060.59,\n",
    "- Гипотезу: средняя выручка пользователей из Москвы отличается от средней выручки пользователей из других городов **удалось отвергнуть** при критическом уровне статистической значимости 5%.  \n",
    "Средняя выручка пользователей из Москве 1507.48,  \n",
    "Средняя пвыручка пользователей из других городов 1482.29.\n"
   ]
  }
 ],
 "metadata": {
  "ExecuteTimeLog": [
   {
    "duration": 1769,
    "start_time": "2021-08-12T13:15:13.239Z"
   },
   {
    "duration": 15,
    "start_time": "2021-08-12T13:15:15.012Z"
   },
   {
    "duration": 28,
    "start_time": "2021-08-12T13:15:15.030Z"
   },
   {
    "duration": 78,
    "start_time": "2021-08-12T13:15:15.061Z"
   },
   {
    "duration": 541,
    "start_time": "2021-08-12T13:15:14.604Z"
   },
   {
    "duration": 541,
    "start_time": "2021-08-12T13:15:14.606Z"
   },
   {
    "duration": 541,
    "start_time": "2021-08-12T13:15:14.608Z"
   },
   {
    "duration": 540,
    "start_time": "2021-08-12T13:15:14.610Z"
   },
   {
    "duration": 527,
    "start_time": "2021-08-12T13:15:14.624Z"
   },
   {
    "duration": 520,
    "start_time": "2021-08-12T13:15:14.633Z"
   },
   {
    "duration": 520,
    "start_time": "2021-08-12T13:15:14.635Z"
   },
   {
    "duration": 518,
    "start_time": "2021-08-12T13:15:14.638Z"
   },
   {
    "duration": 500,
    "start_time": "2021-08-12T13:15:14.657Z"
   },
   {
    "duration": 499,
    "start_time": "2021-08-12T13:15:14.660Z"
   },
   {
    "duration": 492,
    "start_time": "2021-08-12T13:15:14.668Z"
   },
   {
    "duration": 492,
    "start_time": "2021-08-12T13:15:14.670Z"
   },
   {
    "duration": 492,
    "start_time": "2021-08-12T13:15:14.672Z"
   },
   {
    "duration": 491,
    "start_time": "2021-08-12T13:15:14.674Z"
   },
   {
    "duration": 489,
    "start_time": "2021-08-12T13:15:14.677Z"
   },
   {
    "duration": 483,
    "start_time": "2021-08-12T13:15:14.685Z"
   },
   {
    "duration": 481,
    "start_time": "2021-08-12T13:15:14.688Z"
   },
   {
    "duration": 481,
    "start_time": "2021-08-12T13:15:14.690Z"
   },
   {
    "duration": 480,
    "start_time": "2021-08-12T13:15:14.692Z"
   },
   {
    "duration": 474,
    "start_time": "2021-08-12T13:15:14.700Z"
   },
   {
    "duration": 473,
    "start_time": "2021-08-12T13:15:14.702Z"
   },
   {
    "duration": 472,
    "start_time": "2021-08-12T13:15:14.705Z"
   },
   {
    "duration": 471,
    "start_time": "2021-08-12T13:15:14.707Z"
   },
   {
    "duration": 471,
    "start_time": "2021-08-12T13:15:14.709Z"
   },
   {
    "duration": 469,
    "start_time": "2021-08-12T13:15:14.712Z"
   },
   {
    "duration": 469,
    "start_time": "2021-08-12T13:15:14.714Z"
   },
   {
    "duration": 468,
    "start_time": "2021-08-12T13:15:14.716Z"
   },
   {
    "duration": 466,
    "start_time": "2021-08-12T13:15:14.720Z"
   },
   {
    "duration": 453,
    "start_time": "2021-08-12T13:15:14.734Z"
   },
   {
    "duration": 452,
    "start_time": "2021-08-12T13:15:14.737Z"
   },
   {
    "duration": 449,
    "start_time": "2021-08-12T13:15:14.741Z"
   },
   {
    "duration": 449,
    "start_time": "2021-08-12T13:15:14.743Z"
   },
   {
    "duration": 442,
    "start_time": "2021-08-12T13:15:14.752Z"
   },
   {
    "duration": 420,
    "start_time": "2021-08-12T13:15:14.776Z"
   },
   {
    "duration": 408,
    "start_time": "2021-08-12T13:15:14.789Z"
   },
   {
    "duration": 407,
    "start_time": "2021-08-12T13:15:14.792Z"
   },
   {
    "duration": 396,
    "start_time": "2021-08-12T13:15:14.805Z"
   },
   {
    "duration": 395,
    "start_time": "2021-08-12T13:15:14.807Z"
   },
   {
    "duration": 395,
    "start_time": "2021-08-12T13:15:14.809Z"
   },
   {
    "duration": 386,
    "start_time": "2021-08-12T13:15:14.820Z"
   },
   {
    "duration": 385,
    "start_time": "2021-08-12T13:15:14.822Z"
   },
   {
    "duration": 27,
    "start_time": "2021-08-12T13:15:43.402Z"
   },
   {
    "duration": 1838,
    "start_time": "2021-08-12T13:15:54.849Z"
   },
   {
    "duration": 23,
    "start_time": "2021-08-12T13:15:56.690Z"
   },
   {
    "duration": 27,
    "start_time": "2021-08-12T13:15:56.720Z"
   },
   {
    "duration": 52,
    "start_time": "2021-08-12T13:15:56.750Z"
   },
   {
    "duration": 11,
    "start_time": "2021-08-12T13:15:56.805Z"
   },
   {
    "duration": 65,
    "start_time": "2021-08-12T13:15:56.819Z"
   },
   {
    "duration": 16,
    "start_time": "2021-08-12T13:15:56.888Z"
   },
   {
    "duration": 10,
    "start_time": "2021-08-12T13:15:56.907Z"
   },
   {
    "duration": 19,
    "start_time": "2021-08-12T13:15:56.920Z"
   },
   {
    "duration": 12,
    "start_time": "2021-08-12T13:15:56.983Z"
   },
   {
    "duration": 10,
    "start_time": "2021-08-12T13:15:56.998Z"
   },
   {
    "duration": 18,
    "start_time": "2021-08-12T13:15:57.010Z"
   },
   {
    "duration": 13,
    "start_time": "2021-08-12T13:15:57.031Z"
   },
   {
    "duration": 143,
    "start_time": "2021-08-12T13:15:57.084Z"
   },
   {
    "duration": 357,
    "start_time": "2021-08-12T13:15:57.230Z"
   },
   {
    "duration": 16,
    "start_time": "2021-08-12T13:15:57.590Z"
   },
   {
    "duration": 19,
    "start_time": "2021-08-12T13:15:57.608Z"
   },
   {
    "duration": 83,
    "start_time": "2021-08-12T13:15:57.629Z"
   },
   {
    "duration": 83,
    "start_time": "2021-08-12T13:15:57.715Z"
   },
   {
    "duration": 42,
    "start_time": "2021-08-12T13:15:57.801Z"
   },
   {
    "duration": 89,
    "start_time": "2021-08-12T13:15:57.846Z"
   },
   {
    "duration": 58,
    "start_time": "2021-08-12T13:15:57.940Z"
   },
   {
    "duration": 33,
    "start_time": "2021-08-12T13:15:58.001Z"
   },
   {
    "duration": 60,
    "start_time": "2021-08-12T13:15:58.036Z"
   },
   {
    "duration": 10,
    "start_time": "2021-08-12T13:15:58.098Z"
   },
   {
    "duration": 23,
    "start_time": "2021-08-12T13:15:58.110Z"
   },
   {
    "duration": 54,
    "start_time": "2021-08-12T13:15:58.137Z"
   },
   {
    "duration": 18,
    "start_time": "2021-08-12T13:15:58.194Z"
   },
   {
    "duration": 11,
    "start_time": "2021-08-12T13:15:58.215Z"
   },
   {
    "duration": 54,
    "start_time": "2021-08-12T13:15:58.228Z"
   },
   {
    "duration": 9,
    "start_time": "2021-08-12T13:15:58.286Z"
   },
   {
    "duration": 34,
    "start_time": "2021-08-12T13:15:58.297Z"
   },
   {
    "duration": 9,
    "start_time": "2021-08-12T13:15:58.334Z"
   },
   {
    "duration": 392,
    "start_time": "2021-08-12T13:15:58.345Z"
   },
   {
    "duration": 26,
    "start_time": "2021-08-12T13:15:58.739Z"
   },
   {
    "duration": 12,
    "start_time": "2021-08-12T13:15:58.783Z"
   },
   {
    "duration": 48,
    "start_time": "2021-08-12T13:15:58.798Z"
   },
   {
    "duration": 39,
    "start_time": "2021-08-12T13:15:58.849Z"
   },
   {
    "duration": 734,
    "start_time": "2021-08-12T13:15:58.891Z"
   },
   {
    "duration": 724,
    "start_time": "2021-08-12T13:15:59.627Z"
   },
   {
    "duration": 837,
    "start_time": "2021-08-12T13:16:00.353Z"
   },
   {
    "duration": 5,
    "start_time": "2021-08-12T13:16:01.192Z"
   },
   {
    "duration": 30,
    "start_time": "2021-08-12T13:16:01.199Z"
   },
   {
    "duration": 34,
    "start_time": "2021-08-12T13:16:01.232Z"
   },
   {
    "duration": 22,
    "start_time": "2021-08-12T13:16:01.268Z"
   }
  ],
  "kernelspec": {
   "display_name": "Python 3",
   "language": "python",
   "name": "python3"
  },
  "language_info": {
   "codemirror_mode": {
    "name": "ipython",
    "version": 3
   },
   "file_extension": ".py",
   "mimetype": "text/x-python",
   "name": "python",
   "nbconvert_exporter": "python",
   "pygments_lexer": "ipython3",
   "version": "3.7.8"
  },
  "toc": {
   "base_numbering": "0",
   "nav_menu": {},
   "number_sections": true,
   "sideBar": true,
   "skip_h1_title": true,
   "title_cell": "Table of Contents",
   "title_sidebar": "Contents",
   "toc_cell": false,
   "toc_position": {
    "height": "calc(100% - 180px)",
    "left": "10px",
    "top": "150px",
    "width": "249.391px"
   },
   "toc_section_display": true,
   "toc_window_display": true
  }
 },
 "nbformat": 4,
 "nbformat_minor": 2
}
