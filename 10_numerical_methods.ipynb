{
 "cells": [
  {
   "cell_type": "markdown",
   "metadata": {},
   "source": [
    "# Определение стоимости автомобилей"
   ]
  },
  {
   "cell_type": "markdown",
   "metadata": {},
   "source": [
    "Сервис по продаже автомобилей с пробегом «Не бит, не крашен» разрабатывает приложение для привлечения новых клиентов. В нём можно быстро узнать рыночную стоимость своего автомобиля. В вашем распоряжении исторические данные: технические характеристики, комплектации и цены автомобилей. Вам нужно построить модель для определения стоимости. \n",
    "\n",
    "Заказчику важны:\n",
    "\n",
    "- качество предсказания;\n",
    "- скорость предсказания;\n",
    "- время обучения."
   ]
  },
  {
   "cell_type": "markdown",
   "metadata": {},
   "source": [
    "**Описание признаков:**\n",
    "- DateCrawled — дата скачивания анкеты из базы\n",
    "- VehicleType — тип автомобильного кузова\n",
    "- RegistrationYear — год регистрации автомобиля\n",
    "- Gearbox — тип коробки передач\n",
    "- Power — мощность (л. с.)\n",
    "- Model — модель автомобиля\n",
    "- Kilometer — пробег (км)\n",
    "- RegistrationMonth — месяц регистрации автомобиля\n",
    "- FuelType — тип топлива\n",
    "- Brand — марка автомобиля\n",
    "- NotRepaired — была машина в ремонте или нет\n",
    "- DateCreated — дата создания анкеты\n",
    "- NumberOfPictures — количество фотографий автомобиля\n",
    "- PostalCode — почтовый индекс владельца анкеты (пользователя)\n",
    "- LastSeen — дата последней активности пользователя  \n",
    "\n",
    "**Целевой признак**\n",
    "- Price — цена (евро)"
   ]
  },
  {
   "cell_type": "markdown",
   "metadata": {},
   "source": [
    "## Подготовка данных"
   ]
  },
  {
   "cell_type": "code",
   "execution_count": 1,
   "metadata": {},
   "outputs": [],
   "source": [
    "import pandas as pd\n",
    "import numpy as np\n",
    "from scipy import stats\n",
    "import matplotlib.pyplot as plt\n",
    "import seaborn as sns\n",
    "from sklearn.model_selection import train_test_split\n",
    "from catboost import CatBoostRegressor\n",
    "from sklearn.metrics import mean_squared_error\n",
    "from sklearn.metrics import make_scorer\n",
    "import time\n",
    "from lightgbm import LGBMRegressor\n",
    "from sklearn.linear_model import LinearRegression\n",
    "from sklearn.preprocessing import OrdinalEncoder\n",
    "from sklearn.model_selection import RandomizedSearchCV\n",
    "from sklearn.model_selection import GridSearchCV\n",
    "from sklearn.preprocessing import StandardScaler\n",
    "from sklearn.pipeline import Pipeline"
   ]
  },
  {
   "cell_type": "code",
   "execution_count": 2,
   "metadata": {},
   "outputs": [],
   "source": [
    "data = pd.read_csv('https://code.s3.yandex.net/datasets/autos.csv')"
   ]
  },
  {
   "cell_type": "code",
   "execution_count": 3,
   "metadata": {},
   "outputs": [
    {
     "data": {
      "text/html": [
       "<div>\n",
       "<style scoped>\n",
       "    .dataframe tbody tr th:only-of-type {\n",
       "        vertical-align: middle;\n",
       "    }\n",
       "\n",
       "    .dataframe tbody tr th {\n",
       "        vertical-align: top;\n",
       "    }\n",
       "\n",
       "    .dataframe thead th {\n",
       "        text-align: right;\n",
       "    }\n",
       "</style>\n",
       "<table border=\"1\" class=\"dataframe\">\n",
       "  <thead>\n",
       "    <tr style=\"text-align: right;\">\n",
       "      <th></th>\n",
       "      <th>DateCrawled</th>\n",
       "      <th>Price</th>\n",
       "      <th>VehicleType</th>\n",
       "      <th>RegistrationYear</th>\n",
       "      <th>Gearbox</th>\n",
       "      <th>Power</th>\n",
       "      <th>Model</th>\n",
       "      <th>Kilometer</th>\n",
       "      <th>RegistrationMonth</th>\n",
       "      <th>FuelType</th>\n",
       "      <th>Brand</th>\n",
       "      <th>NotRepaired</th>\n",
       "      <th>DateCreated</th>\n",
       "      <th>NumberOfPictures</th>\n",
       "      <th>PostalCode</th>\n",
       "      <th>LastSeen</th>\n",
       "    </tr>\n",
       "  </thead>\n",
       "  <tbody>\n",
       "    <tr>\n",
       "      <td>0</td>\n",
       "      <td>2016-03-24 11:52:17</td>\n",
       "      <td>480</td>\n",
       "      <td>NaN</td>\n",
       "      <td>1993</td>\n",
       "      <td>manual</td>\n",
       "      <td>0</td>\n",
       "      <td>golf</td>\n",
       "      <td>150000</td>\n",
       "      <td>0</td>\n",
       "      <td>petrol</td>\n",
       "      <td>volkswagen</td>\n",
       "      <td>NaN</td>\n",
       "      <td>2016-03-24 00:00:00</td>\n",
       "      <td>0</td>\n",
       "      <td>70435</td>\n",
       "      <td>2016-04-07 03:16:57</td>\n",
       "    </tr>\n",
       "    <tr>\n",
       "      <td>1</td>\n",
       "      <td>2016-03-24 10:58:45</td>\n",
       "      <td>18300</td>\n",
       "      <td>coupe</td>\n",
       "      <td>2011</td>\n",
       "      <td>manual</td>\n",
       "      <td>190</td>\n",
       "      <td>NaN</td>\n",
       "      <td>125000</td>\n",
       "      <td>5</td>\n",
       "      <td>gasoline</td>\n",
       "      <td>audi</td>\n",
       "      <td>yes</td>\n",
       "      <td>2016-03-24 00:00:00</td>\n",
       "      <td>0</td>\n",
       "      <td>66954</td>\n",
       "      <td>2016-04-07 01:46:50</td>\n",
       "    </tr>\n",
       "    <tr>\n",
       "      <td>2</td>\n",
       "      <td>2016-03-14 12:52:21</td>\n",
       "      <td>9800</td>\n",
       "      <td>suv</td>\n",
       "      <td>2004</td>\n",
       "      <td>auto</td>\n",
       "      <td>163</td>\n",
       "      <td>grand</td>\n",
       "      <td>125000</td>\n",
       "      <td>8</td>\n",
       "      <td>gasoline</td>\n",
       "      <td>jeep</td>\n",
       "      <td>NaN</td>\n",
       "      <td>2016-03-14 00:00:00</td>\n",
       "      <td>0</td>\n",
       "      <td>90480</td>\n",
       "      <td>2016-04-05 12:47:46</td>\n",
       "    </tr>\n",
       "    <tr>\n",
       "      <td>3</td>\n",
       "      <td>2016-03-17 16:54:04</td>\n",
       "      <td>1500</td>\n",
       "      <td>small</td>\n",
       "      <td>2001</td>\n",
       "      <td>manual</td>\n",
       "      <td>75</td>\n",
       "      <td>golf</td>\n",
       "      <td>150000</td>\n",
       "      <td>6</td>\n",
       "      <td>petrol</td>\n",
       "      <td>volkswagen</td>\n",
       "      <td>no</td>\n",
       "      <td>2016-03-17 00:00:00</td>\n",
       "      <td>0</td>\n",
       "      <td>91074</td>\n",
       "      <td>2016-03-17 17:40:17</td>\n",
       "    </tr>\n",
       "    <tr>\n",
       "      <td>4</td>\n",
       "      <td>2016-03-31 17:25:20</td>\n",
       "      <td>3600</td>\n",
       "      <td>small</td>\n",
       "      <td>2008</td>\n",
       "      <td>manual</td>\n",
       "      <td>69</td>\n",
       "      <td>fabia</td>\n",
       "      <td>90000</td>\n",
       "      <td>7</td>\n",
       "      <td>gasoline</td>\n",
       "      <td>skoda</td>\n",
       "      <td>no</td>\n",
       "      <td>2016-03-31 00:00:00</td>\n",
       "      <td>0</td>\n",
       "      <td>60437</td>\n",
       "      <td>2016-04-06 10:17:21</td>\n",
       "    </tr>\n",
       "  </tbody>\n",
       "</table>\n",
       "</div>"
      ],
      "text/plain": [
       "           DateCrawled  Price VehicleType  RegistrationYear Gearbox  Power  \\\n",
       "0  2016-03-24 11:52:17    480         NaN              1993  manual      0   \n",
       "1  2016-03-24 10:58:45  18300       coupe              2011  manual    190   \n",
       "2  2016-03-14 12:52:21   9800         suv              2004    auto    163   \n",
       "3  2016-03-17 16:54:04   1500       small              2001  manual     75   \n",
       "4  2016-03-31 17:25:20   3600       small              2008  manual     69   \n",
       "\n",
       "   Model  Kilometer  RegistrationMonth  FuelType       Brand NotRepaired  \\\n",
       "0   golf     150000                  0    petrol  volkswagen         NaN   \n",
       "1    NaN     125000                  5  gasoline        audi         yes   \n",
       "2  grand     125000                  8  gasoline        jeep         NaN   \n",
       "3   golf     150000                  6    petrol  volkswagen          no   \n",
       "4  fabia      90000                  7  gasoline       skoda          no   \n",
       "\n",
       "           DateCreated  NumberOfPictures  PostalCode             LastSeen  \n",
       "0  2016-03-24 00:00:00                 0       70435  2016-04-07 03:16:57  \n",
       "1  2016-03-24 00:00:00                 0       66954  2016-04-07 01:46:50  \n",
       "2  2016-03-14 00:00:00                 0       90480  2016-04-05 12:47:46  \n",
       "3  2016-03-17 00:00:00                 0       91074  2016-03-17 17:40:17  \n",
       "4  2016-03-31 00:00:00                 0       60437  2016-04-06 10:17:21  "
      ]
     },
     "execution_count": 3,
     "metadata": {},
     "output_type": "execute_result"
    }
   ],
   "source": [
    "data.head()"
   ]
  },
  {
   "cell_type": "code",
   "execution_count": 4,
   "metadata": {
    "scrolled": false
   },
   "outputs": [
    {
     "name": "stdout",
     "output_type": "stream",
     "text": [
      "<class 'pandas.core.frame.DataFrame'>\n",
      "RangeIndex: 354369 entries, 0 to 354368\n",
      "Data columns (total 16 columns):\n",
      "DateCrawled          354369 non-null object\n",
      "Price                354369 non-null int64\n",
      "VehicleType          316879 non-null object\n",
      "RegistrationYear     354369 non-null int64\n",
      "Gearbox              334536 non-null object\n",
      "Power                354369 non-null int64\n",
      "Model                334664 non-null object\n",
      "Kilometer            354369 non-null int64\n",
      "RegistrationMonth    354369 non-null int64\n",
      "FuelType             321474 non-null object\n",
      "Brand                354369 non-null object\n",
      "NotRepaired          283215 non-null object\n",
      "DateCreated          354369 non-null object\n",
      "NumberOfPictures     354369 non-null int64\n",
      "PostalCode           354369 non-null int64\n",
      "LastSeen             354369 non-null object\n",
      "dtypes: int64(7), object(9)\n",
      "memory usage: 43.3+ MB\n"
     ]
    }
   ],
   "source": [
    "data.info()"
   ]
  },
  {
   "cell_type": "markdown",
   "metadata": {},
   "source": [
    "Выведем долю пропущенных значений в каждом признаке датасета."
   ]
  },
  {
   "cell_type": "code",
   "execution_count": 5,
   "metadata": {},
   "outputs": [
    {
     "data": {
      "text/plain": [
       "DateCrawled          0.000000\n",
       "Price                0.000000\n",
       "VehicleType          0.105794\n",
       "RegistrationYear     0.000000\n",
       "Gearbox              0.055967\n",
       "Power                0.000000\n",
       "Model                0.055606\n",
       "Kilometer            0.000000\n",
       "RegistrationMonth    0.000000\n",
       "FuelType             0.092827\n",
       "Brand                0.000000\n",
       "NotRepaired          0.200791\n",
       "DateCreated          0.000000\n",
       "NumberOfPictures     0.000000\n",
       "PostalCode           0.000000\n",
       "LastSeen             0.000000\n",
       "dtype: float64"
      ]
     },
     "execution_count": 5,
     "metadata": {},
     "output_type": "execute_result"
    }
   ],
   "source": [
    "data.isna().mean() #.sort_values()"
   ]
  },
  {
   "cell_type": "markdown",
   "metadata": {},
   "source": [
    "Наблюдаем большое количество пропусков в датафрейме. Посмотрим сколько данных останется, если удалть все строки, где есть хоть одно пропущенное значение."
   ]
  },
  {
   "cell_type": "code",
   "execution_count": 6,
   "metadata": {},
   "outputs": [
    {
     "data": {
      "text/plain": [
       "0.6936667710776055"
      ]
     },
     "execution_count": 6,
     "metadata": {},
     "output_type": "execute_result"
    }
   ],
   "source": [
    "len(data.dropna()) / len(data)"
   ]
  },
  {
   "cell_type": "markdown",
   "metadata": {},
   "source": [
    "При удалении всех пропусков останется только 69% данных, поэтому в дальнейшем по каждому признаку обратаем пропуски чтобы не терять так много данных.  \n",
    "В дальнейшем вначале проанализируем признаки без пропусков, чтобы удалить аномалии. Затем перейдем к признакам с пропусками."
   ]
  },
  {
   "cell_type": "markdown",
   "metadata": {},
   "source": [
    "Посмотрим общую статистическую информацию о численных признаках."
   ]
  },
  {
   "cell_type": "code",
   "execution_count": 7,
   "metadata": {
    "scrolled": false
   },
   "outputs": [
    {
     "data": {
      "text/html": [
       "<div>\n",
       "<style scoped>\n",
       "    .dataframe tbody tr th:only-of-type {\n",
       "        vertical-align: middle;\n",
       "    }\n",
       "\n",
       "    .dataframe tbody tr th {\n",
       "        vertical-align: top;\n",
       "    }\n",
       "\n",
       "    .dataframe thead th {\n",
       "        text-align: right;\n",
       "    }\n",
       "</style>\n",
       "<table border=\"1\" class=\"dataframe\">\n",
       "  <thead>\n",
       "    <tr style=\"text-align: right;\">\n",
       "      <th></th>\n",
       "      <th>Price</th>\n",
       "      <th>RegistrationYear</th>\n",
       "      <th>Power</th>\n",
       "      <th>Kilometer</th>\n",
       "      <th>RegistrationMonth</th>\n",
       "      <th>NumberOfPictures</th>\n",
       "      <th>PostalCode</th>\n",
       "    </tr>\n",
       "  </thead>\n",
       "  <tbody>\n",
       "    <tr>\n",
       "      <td>count</td>\n",
       "      <td>354369.000000</td>\n",
       "      <td>354369.000000</td>\n",
       "      <td>354369.000000</td>\n",
       "      <td>354369.000000</td>\n",
       "      <td>354369.000000</td>\n",
       "      <td>354369.0</td>\n",
       "      <td>354369.000000</td>\n",
       "    </tr>\n",
       "    <tr>\n",
       "      <td>mean</td>\n",
       "      <td>4416.656776</td>\n",
       "      <td>2004.234448</td>\n",
       "      <td>110.094337</td>\n",
       "      <td>128211.172535</td>\n",
       "      <td>5.714645</td>\n",
       "      <td>0.0</td>\n",
       "      <td>50508.689087</td>\n",
       "    </tr>\n",
       "    <tr>\n",
       "      <td>std</td>\n",
       "      <td>4514.158514</td>\n",
       "      <td>90.227958</td>\n",
       "      <td>189.850405</td>\n",
       "      <td>37905.341530</td>\n",
       "      <td>3.726421</td>\n",
       "      <td>0.0</td>\n",
       "      <td>25783.096248</td>\n",
       "    </tr>\n",
       "    <tr>\n",
       "      <td>min</td>\n",
       "      <td>0.000000</td>\n",
       "      <td>1000.000000</td>\n",
       "      <td>0.000000</td>\n",
       "      <td>5000.000000</td>\n",
       "      <td>0.000000</td>\n",
       "      <td>0.0</td>\n",
       "      <td>1067.000000</td>\n",
       "    </tr>\n",
       "    <tr>\n",
       "      <td>25%</td>\n",
       "      <td>1050.000000</td>\n",
       "      <td>1999.000000</td>\n",
       "      <td>69.000000</td>\n",
       "      <td>125000.000000</td>\n",
       "      <td>3.000000</td>\n",
       "      <td>0.0</td>\n",
       "      <td>30165.000000</td>\n",
       "    </tr>\n",
       "    <tr>\n",
       "      <td>50%</td>\n",
       "      <td>2700.000000</td>\n",
       "      <td>2003.000000</td>\n",
       "      <td>105.000000</td>\n",
       "      <td>150000.000000</td>\n",
       "      <td>6.000000</td>\n",
       "      <td>0.0</td>\n",
       "      <td>49413.000000</td>\n",
       "    </tr>\n",
       "    <tr>\n",
       "      <td>75%</td>\n",
       "      <td>6400.000000</td>\n",
       "      <td>2008.000000</td>\n",
       "      <td>143.000000</td>\n",
       "      <td>150000.000000</td>\n",
       "      <td>9.000000</td>\n",
       "      <td>0.0</td>\n",
       "      <td>71083.000000</td>\n",
       "    </tr>\n",
       "    <tr>\n",
       "      <td>max</td>\n",
       "      <td>20000.000000</td>\n",
       "      <td>9999.000000</td>\n",
       "      <td>20000.000000</td>\n",
       "      <td>150000.000000</td>\n",
       "      <td>12.000000</td>\n",
       "      <td>0.0</td>\n",
       "      <td>99998.000000</td>\n",
       "    </tr>\n",
       "  </tbody>\n",
       "</table>\n",
       "</div>"
      ],
      "text/plain": [
       "               Price  RegistrationYear          Power      Kilometer  \\\n",
       "count  354369.000000     354369.000000  354369.000000  354369.000000   \n",
       "mean     4416.656776       2004.234448     110.094337  128211.172535   \n",
       "std      4514.158514         90.227958     189.850405   37905.341530   \n",
       "min         0.000000       1000.000000       0.000000    5000.000000   \n",
       "25%      1050.000000       1999.000000      69.000000  125000.000000   \n",
       "50%      2700.000000       2003.000000     105.000000  150000.000000   \n",
       "75%      6400.000000       2008.000000     143.000000  150000.000000   \n",
       "max     20000.000000       9999.000000   20000.000000  150000.000000   \n",
       "\n",
       "       RegistrationMonth  NumberOfPictures     PostalCode  \n",
       "count      354369.000000          354369.0  354369.000000  \n",
       "mean            5.714645               0.0   50508.689087  \n",
       "std             3.726421               0.0   25783.096248  \n",
       "min             0.000000               0.0    1067.000000  \n",
       "25%             3.000000               0.0   30165.000000  \n",
       "50%             6.000000               0.0   49413.000000  \n",
       "75%             9.000000               0.0   71083.000000  \n",
       "max            12.000000               0.0   99998.000000  "
      ]
     },
     "execution_count": 7,
     "metadata": {},
     "output_type": "execute_result"
    }
   ],
   "source": [
    "data.describe()"
   ]
  },
  {
   "cell_type": "markdown",
   "metadata": {},
   "source": [
    "- В признаке Price имеются нулевые значения, что выглядит аномально;\n",
    "- В признаке RegistrationYear минимальный год 1000 а максимальный 9999, что является артефактами, которые требуется удалить;\n",
    "- В признаке Power имеются аномальные нулевые значения, а так же значения с мощностью 20000. В дальнейшем избавимся от этих сэмплов;\n",
    "- Признаки Kilometer, RegistrationMonth выглядят правдоподобно. Признак RegistrationMonth возможно не представляет ценность для построения модели;\n",
    "- Признак NumberOfPictures имеет только нулевые значения, следовательно не несет никакой информативности;\n",
    "- Признак PostalCode почтовый индекс владельца анкеты (пользователя) вряд ли несет полезную информацию для построения модели."
   ]
  },
  {
   "cell_type": "markdown",
   "metadata": {},
   "source": [
    "Удалим колонки NumberOfPictures и PostalCode из датафрема."
   ]
  },
  {
   "cell_type": "code",
   "execution_count": 8,
   "metadata": {},
   "outputs": [],
   "source": [
    "df = data.drop(['NumberOfPictures', 'PostalCode'], axis=1)"
   ]
  },
  {
   "cell_type": "markdown",
   "metadata": {},
   "source": [
    "Обработаем дубликаты."
   ]
  },
  {
   "cell_type": "code",
   "execution_count": 9,
   "metadata": {},
   "outputs": [
    {
     "data": {
      "text/plain": [
       "5"
      ]
     },
     "execution_count": 9,
     "metadata": {},
     "output_type": "execute_result"
    }
   ],
   "source": [
    "df.duplicated().sum()"
   ]
  },
  {
   "cell_type": "code",
   "execution_count": 10,
   "metadata": {},
   "outputs": [],
   "source": [
    "df = df.drop_duplicates()"
   ]
  },
  {
   "cell_type": "markdown",
   "metadata": {},
   "source": [
    "### Анализ признаков"
   ]
  },
  {
   "cell_type": "markdown",
   "metadata": {},
   "source": [
    "#### Признак DateCrawled"
   ]
  },
  {
   "cell_type": "markdown",
   "metadata": {},
   "source": [
    "Приведем признак DateCrawled к формату даты и посмотрим разброс значений по годам и месяцам. Если будут объекты скаченные в разные года, то имело бы смысл использовать эти данные как признак. Например автомобиль 2015 года выпуска, в 2016 году будет стоить дорожем, чем тот же автомобиль в 2020 году)."
   ]
  },
  {
   "cell_type": "code",
   "execution_count": 11,
   "metadata": {},
   "outputs": [],
   "source": [
    "df['DateCrawled'] = pd.to_datetime(df['DateCrawled'], format='%Y-%m-%d %H:%M:%S')"
   ]
  },
  {
   "cell_type": "code",
   "execution_count": 12,
   "metadata": {},
   "outputs": [
    {
     "data": {
      "text/plain": [
       "2016    354364\n",
       "Name: DateCrawled, dtype: int64"
      ]
     },
     "execution_count": 12,
     "metadata": {},
     "output_type": "execute_result"
    }
   ],
   "source": [
    "df['DateCrawled'].dt.year.value_counts()"
   ]
  },
  {
   "cell_type": "code",
   "execution_count": 13,
   "metadata": {},
   "outputs": [
    {
     "data": {
      "text/plain": [
       "2016"
      ]
     },
     "execution_count": 13,
     "metadata": {},
     "output_type": "execute_result"
    }
   ],
   "source": [
    "df['DateCrawled'].dt.year.max()"
   ]
  },
  {
   "cell_type": "code",
   "execution_count": 14,
   "metadata": {},
   "outputs": [
    {
     "data": {
      "text/plain": [
       "3    296820\n",
       "4     57544\n",
       "Name: DateCrawled, dtype: int64"
      ]
     },
     "execution_count": 14,
     "metadata": {},
     "output_type": "execute_result"
    }
   ],
   "source": [
    "df['DateCrawled'].dt.month.value_counts()"
   ]
  },
  {
   "cell_type": "markdown",
   "metadata": {},
   "source": [
    "Предположение не оправдалось, все объекты скачены в 2016 году, с разницей в два месяца максимум. Будем считать что за два месяца рынок существенно не изменился и цены не изменились, поэтому данные к колонке DateCrawled не несут полезной информации для модели. "
   ]
  },
  {
   "cell_type": "markdown",
   "metadata": {},
   "source": [
    "#### Признак Price"
   ]
  },
  {
   "cell_type": "markdown",
   "metadata": {},
   "source": [
    "Посмотрим на гисторамму."
   ]
  },
  {
   "cell_type": "code",
   "execution_count": 15,
   "metadata": {},
   "outputs": [
    {
     "data": {
      "text/plain": [
       "<matplotlib.axes._subplots.AxesSubplot at 0x7fde28031e90>"
      ]
     },
     "execution_count": 15,
     "metadata": {},
     "output_type": "execute_result"
    },
    {
     "data": {
      "image/png": "[encoded data removed]",
      "text/plain": [
       "<Figure size 864x432 with 1 Axes>"
      ]
     },
     "metadata": {
      "needs_background": "light"
     },
     "output_type": "display_data"
    }
   ],
   "source": [
    "df['Price'].hist(bins=200, figsize=[12,6])"
   ]
  },
  {
   "cell_type": "markdown",
   "metadata": {},
   "source": [
    "Имеется пик значений при цене около нуля, который выглядит аномальною Трудно представить необходимость предсказывать нулевую цену автомобиля. Посмотрим распределение объектов с ценой до 150 евро включительно."
   ]
  },
  {
   "cell_type": "code",
   "execution_count": 16,
   "metadata": {},
   "outputs": [
    {
     "data": {
      "text/plain": [
       "<matplotlib.axes._subplots.AxesSubplot at 0x7fdd9a2b6490>"
      ]
     },
     "execution_count": 16,
     "metadata": {},
     "output_type": "execute_result"
    },
    {
     "data": {
      "image/png": "[encoded data removed]",
      "text/plain": [
       "<Figure size 1152x432 with 1 Axes>"
      ]
     },
     "metadata": {
      "needs_background": "light"
     },
     "output_type": "display_data"
    }
   ],
   "source": [
    "df[df['Price'] <= 150].groupby('Price')['Price'].count().plot(kind='bar', figsize=[16,6])"
   ]
  },
  {
   "cell_type": "markdown",
   "metadata": {},
   "source": [
    "Видим аномальный выбросы при цене менее 1 евро. Заполнять эти аномалии не будем, так как это целевой признак. Объектов с ценой менее 100 евро немного, такая цена выглядят малореалистичной, поэтому удалим этим объекты из датасета. "
   ]
  },
  {
   "cell_type": "code",
   "execution_count": 17,
   "metadata": {},
   "outputs": [],
   "source": [
    "df = df[df['Price'] > 100]"
   ]
  },
  {
   "cell_type": "markdown",
   "metadata": {},
   "source": [
    "#### Признак RegistrationYear"
   ]
  },
  {
   "cell_type": "markdown",
   "metadata": {},
   "source": [
    "Построим ящик с усами для признака."
   ]
  },
  {
   "cell_type": "code",
   "execution_count": 18,
   "metadata": {},
   "outputs": [
    {
     "data": {
      "text/plain": [
       "<matplotlib.axes._subplots.AxesSubplot at 0x7fdd9a0a4b10>"
      ]
     },
     "execution_count": 18,
     "metadata": {},
     "output_type": "execute_result"
    },
    {
     "data": {
      "image/png": "[encoded data removed]",
      "text/plain": [
       "<Figure size 864x432 with 1 Axes>"
      ]
     },
     "metadata": {
      "needs_background": "light"
     },
     "output_type": "display_data"
    }
   ],
   "source": [
    "df['RegistrationYear'].plot.box(figsize=[12,6])"
   ]
  },
  {
   "cell_type": "markdown",
   "metadata": {},
   "source": [
    "Наблюдаеются аномальные значения. Год регистрации автомобиля явно не может быть больше 2016 (год выгрузки данных) и меньше 1885 (первый в мире автомобиль с двигателем внутреннего сгорания). "
   ]
  },
  {
   "cell_type": "markdown",
   "metadata": {},
   "source": [
    "Удалим выбросы в признаке RegistrationYear нижней границы возьмем 0,01 квантиль и потряем не более 1% корректных данных. Проведем исключение объектов по условиям:\n",
    "- год регистрации автомобиля равен году скачивания данных и месяц регистрации автомобиля болье месяца скачивания данных;\n",
    "- год регистрации авто больше года скачивания анкеты;\n",
    "- год регистрации авто меньше значения 0,01 квантиля признака года регистрации."
   ]
  },
  {
   "cell_type": "code",
   "execution_count": 19,
   "metadata": {},
   "outputs": [
    {
     "data": {
      "text/plain": [
       "1980.0"
      ]
     },
     "execution_count": 19,
     "metadata": {},
     "output_type": "execute_result"
    }
   ],
   "source": [
    "min_year = df['RegistrationYear'].quantile(q=0.01, interpolation='linear')\n",
    "min_year"
   ]
  },
  {
   "cell_type": "code",
   "execution_count": 20,
   "metadata": {},
   "outputs": [],
   "source": [
    "df = df[~(\n",
    "    (df['RegistrationYear']==df['DateCrawled'].dt.year.max()) & (df['RegistrationMonth'] >= df['DateCrawled'].dt.month)\n",
    "    ) & (df['RegistrationYear'] <= df['DateCrawled'].dt.year) &  (\n",
    "        df['RegistrationYear'] >= min_year)]"
   ]
  },
  {
   "cell_type": "code",
   "execution_count": 21,
   "metadata": {},
   "outputs": [
    {
     "data": {
      "text/plain": [
       "(317772, 14)"
      ]
     },
     "execution_count": 21,
     "metadata": {},
     "output_type": "execute_result"
    }
   ],
   "source": [
    "df.shape"
   ]
  },
  {
   "cell_type": "markdown",
   "metadata": {},
   "source": [
    "Посмотрим на боксплот после очистки от аномалий."
   ]
  },
  {
   "cell_type": "code",
   "execution_count": 22,
   "metadata": {
    "scrolled": true
   },
   "outputs": [
    {
     "data": {
      "text/plain": [
       "<matplotlib.axes._subplots.AxesSubplot at 0x7fdd9a01ca90>"
      ]
     },
     "execution_count": 22,
     "metadata": {},
     "output_type": "execute_result"
    },
    {
     "data": {
      "image/png": "[encoded data removed]",
      "text/plain": [
       "<Figure size 864x432 with 1 Axes>"
      ]
     },
     "metadata": {
      "needs_background": "light"
     },
     "output_type": "display_data"
    }
   ],
   "source": [
    "df['RegistrationYear'].plot.box(figsize=[12,6])"
   ]
  },
  {
   "cell_type": "markdown",
   "metadata": {},
   "source": [
    "Построим диаграмму зависимости средней цены авто от года регистрации."
   ]
  },
  {
   "cell_type": "code",
   "execution_count": 23,
   "metadata": {
    "scrolled": false
   },
   "outputs": [
    {
     "data": {
      "text/plain": [
       "<matplotlib.axes._subplots.AxesSubplot at 0x7fdd99f80950>"
      ]
     },
     "execution_count": 23,
     "metadata": {},
     "output_type": "execute_result"
    },
    {
     "data": {
      "image/png": "[encoded data removed]",
      "text/plain": [
       "<Figure size 864x432 with 1 Axes>"
      ]
     },
     "metadata": {
      "needs_background": "light"
     },
     "output_type": "display_data"
    }
   ],
   "source": [
    "df.groupby('RegistrationYear')['Price'].mean().plot(kind='bar', figsize=[12,6], legend=True)"
   ]
  },
  {
   "cell_type": "markdown",
   "metadata": {},
   "source": [
    "#### Признак Power"
   ]
  },
  {
   "cell_type": "markdown",
   "metadata": {},
   "source": [
    "Построим боксплот."
   ]
  },
  {
   "cell_type": "code",
   "execution_count": 24,
   "metadata": {
    "scrolled": false
   },
   "outputs": [
    {
     "data": {
      "text/plain": [
       "<matplotlib.axes._subplots.AxesSubplot at 0x7fdd99e29310>"
      ]
     },
     "execution_count": 24,
     "metadata": {},
     "output_type": "execute_result"
    },
    {
     "data": {
      "image/png": "[encoded data removed]",
      "text/plain": [
       "<Figure size 864x432 with 1 Axes>"
      ]
     },
     "metadata": {
      "needs_background": "light"
     },
     "output_type": "display_data"
    }
   ],
   "source": [
    "df['Power'].plot.box(figsize=[12,6])"
   ]
  },
  {
   "cell_type": "markdown",
   "metadata": {},
   "source": [
    "По боксплоту видим большое число неправдоподобно больших значений мощности автомобилей. "
   ]
  },
  {
   "cell_type": "markdown",
   "metadata": {},
   "source": [
    "Посмотрим на количество объектов с 50-ю наименьшими значениями мощности."
   ]
  },
  {
   "cell_type": "code",
   "execution_count": 25,
   "metadata": {},
   "outputs": [
    {
     "data": {
      "text/plain": [
       "<matplotlib.axes._subplots.AxesSubplot at 0x7fdda932ab10>"
      ]
     },
     "execution_count": 25,
     "metadata": {},
     "output_type": "execute_result"
    },
    {
     "data": {
      "image/png": "[encoded data removed]",
      "text/plain": [
       "<Figure size 864x432 with 1 Axes>"
      ]
     },
     "metadata": {
      "needs_background": "light"
     },
     "output_type": "display_data"
    }
   ],
   "source": [
    "df['Power'].value_counts().sort_index().head(50).plot(kind='bar', figsize=[12,6], legend=True)"
   ]
  },
  {
   "cell_type": "markdown",
   "metadata": {},
   "source": [
    "Около 35000 объектов с нулевой мощность. Также есть крайне редкие и не очень правдоподобные сэмплы в дипазоне от 0 до 45 л. с. Удалим их."
   ]
  },
  {
   "cell_type": "code",
   "execution_count": 26,
   "metadata": {
    "scrolled": true
   },
   "outputs": [],
   "source": [
    "df = df[df['Power'] >= 45]"
   ]
  },
  {
   "cell_type": "markdown",
   "metadata": {},
   "source": [
    "В качестве первой итерации определения верхней границы мощности для очистки данных примем 1000 л.с. Построим гисторамму."
   ]
  },
  {
   "cell_type": "code",
   "execution_count": 27,
   "metadata": {},
   "outputs": [
    {
     "data": {
      "text/plain": [
       "<matplotlib.axes._subplots.AxesSubplot at 0x7fdd93569f50>"
      ]
     },
     "execution_count": 27,
     "metadata": {},
     "output_type": "execute_result"
    },
    {
     "data": {
      "image/png": "[encoded data removed]",
      "text/plain": [
       "<Figure size 864x432 with 1 Axes>"
      ]
     },
     "metadata": {
      "needs_background": "light"
     },
     "output_type": "display_data"
    }
   ],
   "source": [
    "df[df['Power'] < 1000]['Power'].hist(bins=200, figsize=[12,6])"
   ]
  },
  {
   "cell_type": "markdown",
   "metadata": {},
   "source": [
    "По гисторамме видим, что значения больше 350 л. с. встречаются крайне редко и нерегулярно. Посмотрим какой это процентиль наших данных, чтобы численно видеть сколько процентов данных мы потеряем, если отфильруем признак по этому значению."
   ]
  },
  {
   "cell_type": "code",
   "execution_count": 28,
   "metadata": {},
   "outputs": [
    {
     "data": {
      "text/plain": [
       "99.63181559734474"
      ]
     },
     "execution_count": 28,
     "metadata": {},
     "output_type": "execute_result"
    }
   ],
   "source": [
    "stats.percentileofscore(df['Power'], 350)"
   ]
  },
  {
   "cell_type": "markdown",
   "metadata": {},
   "source": [
    "Почти 99,6% данных имеют мощность до 350 л.с., то есть потери при фильтрации составлят менее 1%, принимаем это допустимым и фильтруем по вернему границе."
   ]
  },
  {
   "cell_type": "code",
   "execution_count": 29,
   "metadata": {},
   "outputs": [],
   "source": [
    "df = df[df['Power'] < 350]"
   ]
  },
  {
   "cell_type": "markdown",
   "metadata": {},
   "source": [
    "Посмотрим на гистограмму признака Power после очистки данных."
   ]
  },
  {
   "cell_type": "code",
   "execution_count": 30,
   "metadata": {
    "scrolled": true
   },
   "outputs": [
    {
     "data": {
      "text/plain": [
       "<matplotlib.axes._subplots.AxesSubplot at 0x7fdd99989750>"
      ]
     },
     "execution_count": 30,
     "metadata": {},
     "output_type": "execute_result"
    },
    {
     "data": {
      "image/png": "[encoded data removed]",
      "text/plain": [
       "<Figure size 864x432 with 1 Axes>"
      ]
     },
     "metadata": {
      "needs_background": "light"
     },
     "output_type": "display_data"
    }
   ],
   "source": [
    "df['Power'].hist(bins=50, figsize=[12,6])"
   ]
  },
  {
   "cell_type": "markdown",
   "metadata": {},
   "source": [
    "#### Признак Kilometer"
   ]
  },
  {
   "cell_type": "markdown",
   "metadata": {},
   "source": [
    "Построим гисторамму."
   ]
  },
  {
   "cell_type": "code",
   "execution_count": 31,
   "metadata": {
    "scrolled": false
   },
   "outputs": [
    {
     "data": {
      "text/plain": [
       "<matplotlib.axes._subplots.AxesSubplot at 0x7fdd998b9e90>"
      ]
     },
     "execution_count": 31,
     "metadata": {},
     "output_type": "execute_result"
    },
    {
     "data": {
      "image/png": "[encoded data removed]",
      "text/plain": [
       "<Figure size 864x432 with 1 Axes>"
      ]
     },
     "metadata": {
      "needs_background": "light"
     },
     "output_type": "display_data"
    }
   ],
   "source": [
    "df['Kilometer'].hist(bins=13, figsize=[12,6])"
   ]
  },
  {
   "cell_type": "code",
   "execution_count": 32,
   "metadata": {},
   "outputs": [
    {
     "data": {
      "text/plain": [
       "13"
      ]
     },
     "execution_count": 32,
     "metadata": {},
     "output_type": "execute_result"
    }
   ],
   "source": [
    "df['Kilometer'].value_counts().count()"
   ]
  },
  {
   "cell_type": "markdown",
   "metadata": {},
   "source": [
    "Странно что отстствуют атомобили с пробегом 110 и 130 тыс. км. \n",
    "Видим что максимальный пробег ограничивается 150000 тыс. км. Вероятно это максимальное число, которое возможно добавить в анкету, но действительный пробег может быть больше. Добавим категориальный признак max_km в котором значение 1 будет у актомобилей с пробегом 150000 тыс. км, а у остальных 0.  \n",
    "Для каждого признака разделим пробег на 150000 и округлим в меньшую строному присвоив тим int. "
   ]
  },
  {
   "cell_type": "code",
   "execution_count": 33,
   "metadata": {},
   "outputs": [],
   "source": [
    "df['max_km'] = (df['Kilometer'] / 150000).astype('int')"
   ]
  },
  {
   "cell_type": "code",
   "execution_count": 34,
   "metadata": {},
   "outputs": [
    {
     "data": {
      "text/html": [
       "<div>\n",
       "<style scoped>\n",
       "    .dataframe tbody tr th:only-of-type {\n",
       "        vertical-align: middle;\n",
       "    }\n",
       "\n",
       "    .dataframe tbody tr th {\n",
       "        vertical-align: top;\n",
       "    }\n",
       "\n",
       "    .dataframe thead th {\n",
       "        text-align: right;\n",
       "    }\n",
       "</style>\n",
       "<table border=\"1\" class=\"dataframe\">\n",
       "  <thead>\n",
       "    <tr style=\"text-align: right;\">\n",
       "      <th></th>\n",
       "      <th>Kilometer</th>\n",
       "      <th>max_km</th>\n",
       "    </tr>\n",
       "  </thead>\n",
       "  <tbody>\n",
       "    <tr>\n",
       "      <td>1</td>\n",
       "      <td>125000</td>\n",
       "      <td>0</td>\n",
       "    </tr>\n",
       "    <tr>\n",
       "      <td>2</td>\n",
       "      <td>125000</td>\n",
       "      <td>0</td>\n",
       "    </tr>\n",
       "    <tr>\n",
       "      <td>3</td>\n",
       "      <td>150000</td>\n",
       "      <td>1</td>\n",
       "    </tr>\n",
       "    <tr>\n",
       "      <td>4</td>\n",
       "      <td>90000</td>\n",
       "      <td>0</td>\n",
       "    </tr>\n",
       "    <tr>\n",
       "      <td>5</td>\n",
       "      <td>150000</td>\n",
       "      <td>1</td>\n",
       "    </tr>\n",
       "  </tbody>\n",
       "</table>\n",
       "</div>"
      ],
      "text/plain": [
       "   Kilometer  max_km\n",
       "1     125000       0\n",
       "2     125000       0\n",
       "3     150000       1\n",
       "4      90000       0\n",
       "5     150000       1"
      ]
     },
     "execution_count": 34,
     "metadata": {},
     "output_type": "execute_result"
    }
   ],
   "source": [
    "df[['Kilometer', 'max_km']].head()"
   ]
  },
  {
   "cell_type": "code",
   "execution_count": 35,
   "metadata": {},
   "outputs": [
    {
     "data": {
      "text/plain": [
       "<matplotlib.axes._subplots.AxesSubplot at 0x7fdd998084d0>"
      ]
     },
     "execution_count": 35,
     "metadata": {},
     "output_type": "execute_result"
    },
    {
     "data": {
      "image/png": "[encoded data removed]",
      "text/plain": [
       "<Figure size 864x432 with 1 Axes>"
      ]
     },
     "metadata": {
      "needs_background": "light"
     },
     "output_type": "display_data"
    }
   ],
   "source": [
    "df.groupby('Kilometer')['Price'].mean().plot(kind='bar', figsize=[12,6], legend=True)"
   ]
  },
  {
   "cell_type": "markdown",
   "metadata": {},
   "source": [
    "#### Признак RegistrationMonth "
   ]
  },
  {
   "cell_type": "markdown",
   "metadata": {},
   "source": [
    "Посмотрим количество уникальных значений признака."
   ]
  },
  {
   "cell_type": "code",
   "execution_count": 36,
   "metadata": {},
   "outputs": [
    {
     "data": {
      "text/plain": [
       "13"
      ]
     },
     "execution_count": 36,
     "metadata": {},
     "output_type": "execute_result"
    }
   ],
   "source": [
    "df['RegistrationMonth'].value_counts().count()"
   ]
  },
  {
   "cell_type": "markdown",
   "metadata": {},
   "source": [
    "Признак означает месяц регистрации автомобиля и при этом уникальных значений 13, а не 12. Не поддается пониманию. "
   ]
  },
  {
   "cell_type": "markdown",
   "metadata": {},
   "source": [
    "Посмотрим распределение."
   ]
  },
  {
   "cell_type": "code",
   "execution_count": 37,
   "metadata": {
    "scrolled": false
   },
   "outputs": [
    {
     "data": {
      "text/plain": [
       "<matplotlib.axes._subplots.AxesSubplot at 0x7fdd99729510>"
      ]
     },
     "execution_count": 37,
     "metadata": {},
     "output_type": "execute_result"
    },
    {
     "data": {
      "image/png": "[encoded data removed]",
      "text/plain": [
       "<Figure size 864x432 with 1 Axes>"
      ]
     },
     "metadata": {
      "needs_background": "light"
     },
     "output_type": "display_data"
    }
   ],
   "source": [
    "df['RegistrationMonth'].hist(bins=13, figsize=[12,6])"
   ]
  },
  {
   "cell_type": "markdown",
   "metadata": {},
   "source": [
    "Построим график средней цены автомобиля в зависимости от месяца регистрации."
   ]
  },
  {
   "cell_type": "code",
   "execution_count": 38,
   "metadata": {
    "scrolled": true
   },
   "outputs": [
    {
     "data": {
      "text/plain": [
       "<matplotlib.axes._subplots.AxesSubplot at 0x7fdd996d2890>"
      ]
     },
     "execution_count": 38,
     "metadata": {},
     "output_type": "execute_result"
    },
    {
     "data": {
      "image/png": "[encoded data removed]",
      "text/plain": [
       "<Figure size 864x432 with 1 Axes>"
      ]
     },
     "metadata": {
      "needs_background": "light"
     },
     "output_type": "display_data"
    }
   ],
   "source": [
    "df.groupby('RegistrationMonth')['Price'].mean().plot(kind=\"line\", figsize=[12,6], legend=True)"
   ]
  },
  {
   "cell_type": "markdown",
   "metadata": {},
   "source": [
    "В некий нулевой месяц среднее значение целевого признака (цены) почти в два раза ниже чем в другие месяцы. Выглядит аномально. Запомним фрагмент датафрейма с нелевым месяцем, возможно в дальнейшем удалим значения по индексу.  "
   ]
  },
  {
   "cell_type": "code",
   "execution_count": 39,
   "metadata": {},
   "outputs": [],
   "source": [
    "bad_month = df[df['RegistrationMonth']==0]"
   ]
  },
  {
   "cell_type": "code",
   "execution_count": 40,
   "metadata": {},
   "outputs": [
    {
     "data": {
      "text/html": [
       "<div>\n",
       "<style scoped>\n",
       "    .dataframe tbody tr th:only-of-type {\n",
       "        vertical-align: middle;\n",
       "    }\n",
       "\n",
       "    .dataframe tbody tr th {\n",
       "        vertical-align: top;\n",
       "    }\n",
       "\n",
       "    .dataframe thead th {\n",
       "        text-align: right;\n",
       "    }\n",
       "</style>\n",
       "<table border=\"1\" class=\"dataframe\">\n",
       "  <thead>\n",
       "    <tr style=\"text-align: right;\">\n",
       "      <th></th>\n",
       "      <th>Price</th>\n",
       "      <th>RegistrationYear</th>\n",
       "      <th>Power</th>\n",
       "      <th>Kilometer</th>\n",
       "      <th>RegistrationMonth</th>\n",
       "      <th>max_km</th>\n",
       "    </tr>\n",
       "  </thead>\n",
       "  <tbody>\n",
       "    <tr>\n",
       "      <td>count</td>\n",
       "      <td>17049.000000</td>\n",
       "      <td>17049.000000</td>\n",
       "      <td>17049.000000</td>\n",
       "      <td>17049.000000</td>\n",
       "      <td>17049.0</td>\n",
       "      <td>17049.000000</td>\n",
       "    </tr>\n",
       "    <tr>\n",
       "      <td>mean</td>\n",
       "      <td>2405.934424</td>\n",
       "      <td>2000.713649</td>\n",
       "      <td>110.883864</td>\n",
       "      <td>136432.048801</td>\n",
       "      <td>0.0</td>\n",
       "      <td>0.796586</td>\n",
       "    </tr>\n",
       "    <tr>\n",
       "      <td>std</td>\n",
       "      <td>2956.438312</td>\n",
       "      <td>6.654157</td>\n",
       "      <td>48.112051</td>\n",
       "      <td>33242.838579</td>\n",
       "      <td>0.0</td>\n",
       "      <td>0.402549</td>\n",
       "    </tr>\n",
       "    <tr>\n",
       "      <td>min</td>\n",
       "      <td>105.000000</td>\n",
       "      <td>1980.000000</td>\n",
       "      <td>45.000000</td>\n",
       "      <td>5000.000000</td>\n",
       "      <td>0.0</td>\n",
       "      <td>0.000000</td>\n",
       "    </tr>\n",
       "    <tr>\n",
       "      <td>25%</td>\n",
       "      <td>600.000000</td>\n",
       "      <td>1997.000000</td>\n",
       "      <td>75.000000</td>\n",
       "      <td>150000.000000</td>\n",
       "      <td>0.0</td>\n",
       "      <td>1.000000</td>\n",
       "    </tr>\n",
       "    <tr>\n",
       "      <td>50%</td>\n",
       "      <td>1300.000000</td>\n",
       "      <td>2000.000000</td>\n",
       "      <td>102.000000</td>\n",
       "      <td>150000.000000</td>\n",
       "      <td>0.0</td>\n",
       "      <td>1.000000</td>\n",
       "    </tr>\n",
       "    <tr>\n",
       "      <td>75%</td>\n",
       "      <td>2999.000000</td>\n",
       "      <td>2004.000000</td>\n",
       "      <td>140.000000</td>\n",
       "      <td>150000.000000</td>\n",
       "      <td>0.0</td>\n",
       "      <td>1.000000</td>\n",
       "    </tr>\n",
       "    <tr>\n",
       "      <td>max</td>\n",
       "      <td>20000.000000</td>\n",
       "      <td>2016.000000</td>\n",
       "      <td>349.000000</td>\n",
       "      <td>150000.000000</td>\n",
       "      <td>0.0</td>\n",
       "      <td>1.000000</td>\n",
       "    </tr>\n",
       "  </tbody>\n",
       "</table>\n",
       "</div>"
      ],
      "text/plain": [
       "              Price  RegistrationYear         Power      Kilometer  \\\n",
       "count  17049.000000      17049.000000  17049.000000   17049.000000   \n",
       "mean    2405.934424       2000.713649    110.883864  136432.048801   \n",
       "std     2956.438312          6.654157     48.112051   33242.838579   \n",
       "min      105.000000       1980.000000     45.000000    5000.000000   \n",
       "25%      600.000000       1997.000000     75.000000  150000.000000   \n",
       "50%     1300.000000       2000.000000    102.000000  150000.000000   \n",
       "75%     2999.000000       2004.000000    140.000000  150000.000000   \n",
       "max    20000.000000       2016.000000    349.000000  150000.000000   \n",
       "\n",
       "       RegistrationMonth        max_km  \n",
       "count            17049.0  17049.000000  \n",
       "mean                 0.0      0.796586  \n",
       "std                  0.0      0.402549  \n",
       "min                  0.0      0.000000  \n",
       "25%                  0.0      1.000000  \n",
       "50%                  0.0      1.000000  \n",
       "75%                  0.0      1.000000  \n",
       "max                  0.0      1.000000  "
      ]
     },
     "execution_count": 40,
     "metadata": {},
     "output_type": "execute_result"
    }
   ],
   "source": [
    "bad_month.describe()"
   ]
  },
  {
   "cell_type": "markdown",
   "metadata": {},
   "source": [
    "#### Признаки Brand / Model"
   ]
  },
  {
   "cell_type": "markdown",
   "metadata": {},
   "source": [
    "Заполним пропуски в признаке модой группировки по бренду и мощности."
   ]
  },
  {
   "cell_type": "code",
   "execution_count": 41,
   "metadata": {},
   "outputs": [],
   "source": [
    "df['Model'] = df.groupby(\n",
    "    ['Brand', 'Power'])['Model'].transform(\n",
    "    lambda x: x.fillna((x.mode()[0] if not x.mode().empty else np.nan))\n",
    ")"
   ]
  },
  {
   "cell_type": "markdown",
   "metadata": {},
   "source": [
    "Посмотрим сколько значений не удалось заполнить."
   ]
  },
  {
   "cell_type": "code",
   "execution_count": 42,
   "metadata": {},
   "outputs": [
    {
     "data": {
      "text/plain": [
       "1346"
      ]
     },
     "execution_count": 42,
     "metadata": {},
     "output_type": "execute_result"
    }
   ],
   "source": [
    "df[df['Model'].isna()].shape[0]"
   ]
  },
  {
   "cell_type": "markdown",
   "metadata": {},
   "source": [
    "Посмотрим какие бренды не удается заполнить."
   ]
  },
  {
   "cell_type": "code",
   "execution_count": 43,
   "metadata": {
    "scrolled": true
   },
   "outputs": [
    {
     "data": {
      "text/plain": [
       "sonstige_autos    1246\n",
       "honda                7\n",
       "rover                7\n",
       "mazda                7\n",
       "audi                 5\n",
       "fiat                 5\n",
       "alfa_romeo           4\n",
       "mercedes_benz        4\n",
       "toyota               4\n",
       "daewoo               4\n",
       "nissan               4\n",
       "chrysler             4\n",
       "volvo                3\n",
       "land_rover           3\n",
       "trabant              3\n",
       "hyundai              3\n",
       "opel                 3\n",
       "peugeot              3\n",
       "bmw                  3\n",
       "ford                 3\n",
       "jeep                 2\n",
       "smart                2\n",
       "citroen              2\n",
       "saab                 2\n",
       "lancia               2\n",
       "skoda                2\n",
       "subaru               1\n",
       "lada                 1\n",
       "porsche              1\n",
       "chevrolet            1\n",
       "volkswagen           1\n",
       "kia                  1\n",
       "mitsubishi           1\n",
       "suzuki               1\n",
       "seat                 1\n",
       "Name: Brand, dtype: int64"
      ]
     },
     "execution_count": 43,
     "metadata": {},
     "output_type": "execute_result"
    }
   ],
   "source": [
    "df[df['Model'].isna()]['Brand'].value_counts()"
   ]
  },
  {
   "cell_type": "markdown",
   "metadata": {},
   "source": [
    "Почти все незаполненные значения признака Model приходятся на бренд sonstige_autos. Посмотрим какой модельный ряд у него имеется."
   ]
  },
  {
   "cell_type": "code",
   "execution_count": 44,
   "metadata": {},
   "outputs": [
    {
     "data": {
      "text/plain": [
       "NaN    1246\n",
       "Name: Model, dtype: int64"
      ]
     },
     "execution_count": 44,
     "metadata": {},
     "output_type": "execute_result"
    }
   ],
   "source": [
    "df[df['Brand'] == 'sonstige_autos']['Model'].value_counts(dropna=False)"
   ]
  },
  {
   "cell_type": "markdown",
   "metadata": {},
   "source": [
    "Ниакаких моделей. Значит оставим в датафрейме только объекты с заполненными моделями или с брендом sonstige_autos, чтобы в дальнейшем заполнить его вручную. "
   ]
  },
  {
   "cell_type": "code",
   "execution_count": 45,
   "metadata": {},
   "outputs": [],
   "source": [
    "df = df[(~df['Model'].isna()) | (df['Brand'] == 'sonstige_autos')]"
   ]
  },
  {
   "cell_type": "markdown",
   "metadata": {},
   "source": [
    "Заполним пропуски, которые остались только у бренда sonstige_autos на модель other."
   ]
  },
  {
   "cell_type": "code",
   "execution_count": 46,
   "metadata": {},
   "outputs": [],
   "source": [
    "df['Model'] = df['Model'].fillna('other')"
   ]
  },
  {
   "cell_type": "markdown",
   "metadata": {},
   "source": [
    "Создадим признак совмещающий Brand и Model."
   ]
  },
  {
   "cell_type": "code",
   "execution_count": 47,
   "metadata": {},
   "outputs": [
    {
     "data": {
      "text/html": [
       "<div>\n",
       "<style scoped>\n",
       "    .dataframe tbody tr th:only-of-type {\n",
       "        vertical-align: middle;\n",
       "    }\n",
       "\n",
       "    .dataframe tbody tr th {\n",
       "        vertical-align: top;\n",
       "    }\n",
       "\n",
       "    .dataframe thead th {\n",
       "        text-align: right;\n",
       "    }\n",
       "</style>\n",
       "<table border=\"1\" class=\"dataframe\">\n",
       "  <thead>\n",
       "    <tr style=\"text-align: right;\">\n",
       "      <th></th>\n",
       "      <th>DateCrawled</th>\n",
       "      <th>Price</th>\n",
       "      <th>VehicleType</th>\n",
       "      <th>RegistrationYear</th>\n",
       "      <th>Gearbox</th>\n",
       "      <th>Power</th>\n",
       "      <th>Model</th>\n",
       "      <th>Kilometer</th>\n",
       "      <th>RegistrationMonth</th>\n",
       "      <th>FuelType</th>\n",
       "      <th>Brand</th>\n",
       "      <th>NotRepaired</th>\n",
       "      <th>DateCreated</th>\n",
       "      <th>LastSeen</th>\n",
       "      <th>max_km</th>\n",
       "      <th>Brand_Model</th>\n",
       "    </tr>\n",
       "  </thead>\n",
       "  <tbody>\n",
       "    <tr>\n",
       "      <td>1</td>\n",
       "      <td>2016-03-24 10:58:45</td>\n",
       "      <td>18300</td>\n",
       "      <td>coupe</td>\n",
       "      <td>2011</td>\n",
       "      <td>manual</td>\n",
       "      <td>190</td>\n",
       "      <td>a4</td>\n",
       "      <td>125000</td>\n",
       "      <td>5</td>\n",
       "      <td>gasoline</td>\n",
       "      <td>audi</td>\n",
       "      <td>yes</td>\n",
       "      <td>2016-03-24 00:00:00</td>\n",
       "      <td>2016-04-07 01:46:50</td>\n",
       "      <td>0</td>\n",
       "      <td>audi_a4</td>\n",
       "    </tr>\n",
       "    <tr>\n",
       "      <td>2</td>\n",
       "      <td>2016-03-14 12:52:21</td>\n",
       "      <td>9800</td>\n",
       "      <td>suv</td>\n",
       "      <td>2004</td>\n",
       "      <td>auto</td>\n",
       "      <td>163</td>\n",
       "      <td>grand</td>\n",
       "      <td>125000</td>\n",
       "      <td>8</td>\n",
       "      <td>gasoline</td>\n",
       "      <td>jeep</td>\n",
       "      <td>NaN</td>\n",
       "      <td>2016-03-14 00:00:00</td>\n",
       "      <td>2016-04-05 12:47:46</td>\n",
       "      <td>0</td>\n",
       "      <td>jeep_grand</td>\n",
       "    </tr>\n",
       "    <tr>\n",
       "      <td>3</td>\n",
       "      <td>2016-03-17 16:54:04</td>\n",
       "      <td>1500</td>\n",
       "      <td>small</td>\n",
       "      <td>2001</td>\n",
       "      <td>manual</td>\n",
       "      <td>75</td>\n",
       "      <td>golf</td>\n",
       "      <td>150000</td>\n",
       "      <td>6</td>\n",
       "      <td>petrol</td>\n",
       "      <td>volkswagen</td>\n",
       "      <td>no</td>\n",
       "      <td>2016-03-17 00:00:00</td>\n",
       "      <td>2016-03-17 17:40:17</td>\n",
       "      <td>1</td>\n",
       "      <td>volkswagen_golf</td>\n",
       "    </tr>\n",
       "    <tr>\n",
       "      <td>4</td>\n",
       "      <td>2016-03-31 17:25:20</td>\n",
       "      <td>3600</td>\n",
       "      <td>small</td>\n",
       "      <td>2008</td>\n",
       "      <td>manual</td>\n",
       "      <td>69</td>\n",
       "      <td>fabia</td>\n",
       "      <td>90000</td>\n",
       "      <td>7</td>\n",
       "      <td>gasoline</td>\n",
       "      <td>skoda</td>\n",
       "      <td>no</td>\n",
       "      <td>2016-03-31 00:00:00</td>\n",
       "      <td>2016-04-06 10:17:21</td>\n",
       "      <td>0</td>\n",
       "      <td>skoda_fabia</td>\n",
       "    </tr>\n",
       "    <tr>\n",
       "      <td>5</td>\n",
       "      <td>2016-04-04 17:36:23</td>\n",
       "      <td>650</td>\n",
       "      <td>sedan</td>\n",
       "      <td>1995</td>\n",
       "      <td>manual</td>\n",
       "      <td>102</td>\n",
       "      <td>3er</td>\n",
       "      <td>150000</td>\n",
       "      <td>10</td>\n",
       "      <td>petrol</td>\n",
       "      <td>bmw</td>\n",
       "      <td>yes</td>\n",
       "      <td>2016-04-04 00:00:00</td>\n",
       "      <td>2016-04-06 19:17:07</td>\n",
       "      <td>1</td>\n",
       "      <td>bmw_3er</td>\n",
       "    </tr>\n",
       "  </tbody>\n",
       "</table>\n",
       "</div>"
      ],
      "text/plain": [
       "          DateCrawled  Price VehicleType  RegistrationYear Gearbox  Power  \\\n",
       "1 2016-03-24 10:58:45  18300       coupe              2011  manual    190   \n",
       "2 2016-03-14 12:52:21   9800         suv              2004    auto    163   \n",
       "3 2016-03-17 16:54:04   1500       small              2001  manual     75   \n",
       "4 2016-03-31 17:25:20   3600       small              2008  manual     69   \n",
       "5 2016-04-04 17:36:23    650       sedan              1995  manual    102   \n",
       "\n",
       "   Model  Kilometer  RegistrationMonth  FuelType       Brand NotRepaired  \\\n",
       "1     a4     125000                  5  gasoline        audi         yes   \n",
       "2  grand     125000                  8  gasoline        jeep         NaN   \n",
       "3   golf     150000                  6    petrol  volkswagen          no   \n",
       "4  fabia      90000                  7  gasoline       skoda          no   \n",
       "5    3er     150000                 10    petrol         bmw         yes   \n",
       "\n",
       "           DateCreated             LastSeen  max_km      Brand_Model  \n",
       "1  2016-03-24 00:00:00  2016-04-07 01:46:50       0          audi_a4  \n",
       "2  2016-03-14 00:00:00  2016-04-05 12:47:46       0       jeep_grand  \n",
       "3  2016-03-17 00:00:00  2016-03-17 17:40:17       1  volkswagen_golf  \n",
       "4  2016-03-31 00:00:00  2016-04-06 10:17:21       0      skoda_fabia  \n",
       "5  2016-04-04 00:00:00  2016-04-06 19:17:07       1          bmw_3er  "
      ]
     },
     "execution_count": 47,
     "metadata": {},
     "output_type": "execute_result"
    }
   ],
   "source": [
    "df['Brand_Model'] = df['Brand'] + '_' + df['Model']\n",
    "df.head(5)"
   ]
  },
  {
   "cell_type": "markdown",
   "metadata": {},
   "source": [
    "#### Признак VehicleType"
   ]
  },
  {
   "cell_type": "markdown",
   "metadata": {},
   "source": [
    "Построим столбчатую диаграмму значений признака."
   ]
  },
  {
   "cell_type": "code",
   "execution_count": 48,
   "metadata": {},
   "outputs": [
    {
     "data": {
      "text/plain": [
       "<matplotlib.axes._subplots.AxesSubplot at 0x7fdd98e4c0d0>"
      ]
     },
     "execution_count": 48,
     "metadata": {},
     "output_type": "execute_result"
    },
    {
     "data": {
      "image/png": "[encoded data removed]",
      "text/plain": [
       "<Figure size 864x432 with 1 Axes>"
      ]
     },
     "metadata": {
      "needs_background": "light"
     },
     "output_type": "display_data"
    }
   ],
   "source": [
    "df['VehicleType'].value_counts(dropna=False).plot(kind='bar', figsize=[12,6], legend=True)"
   ]
  },
  {
   "cell_type": "markdown",
   "metadata": {},
   "source": [
    "Имеется около 20 000 объектов с пропущенным значением. Признак VehicleType означает тип автомобильного кузова, поэтому попробуем заполнить его используя значение моды при группировки по модели автомобиля.  "
   ]
  },
  {
   "cell_type": "code",
   "execution_count": 49,
   "metadata": {},
   "outputs": [],
   "source": [
    "df['VehicleType'] = df.groupby(['Brand_Model'], sort=False)['VehicleType'].apply(lambda x: x.fillna(x.mode().iloc[0]))"
   ]
  },
  {
   "cell_type": "markdown",
   "metadata": {},
   "source": [
    "Посмотрим на диаграмму после заполнения пропусков."
   ]
  },
  {
   "cell_type": "code",
   "execution_count": 50,
   "metadata": {
    "scrolled": false
   },
   "outputs": [
    {
     "data": {
      "text/plain": [
       "<matplotlib.axes._subplots.AxesSubplot at 0x7fdd998c1dd0>"
      ]
     },
     "execution_count": 50,
     "metadata": {},
     "output_type": "execute_result"
    },
    {
     "data": {
      "image/png": "[encoded data removed]",
      "text/plain": [
       "<Figure size 864x432 with 1 Axes>"
      ]
     },
     "metadata": {
      "needs_background": "light"
     },
     "output_type": "display_data"
    }
   ],
   "source": [
    "df['VehicleType'].value_counts(dropna=False).plot(kind='bar', figsize=[12,6], legend=True)"
   ]
  },
  {
   "cell_type": "markdown",
   "metadata": {},
   "source": [
    "Посмотрим зависит ли средняя цена на автомобиль от типа кузова. "
   ]
  },
  {
   "cell_type": "code",
   "execution_count": 51,
   "metadata": {},
   "outputs": [
    {
     "data": {
      "text/plain": [
       "<matplotlib.axes._subplots.AxesSubplot at 0x7fdd98f86cd0>"
      ]
     },
     "execution_count": 51,
     "metadata": {},
     "output_type": "execute_result"
    },
    {
     "data": {
      "image/png": "[encoded data removed]",
      "text/plain": [
       "<Figure size 864x432 with 1 Axes>"
      ]
     },
     "metadata": {
      "needs_background": "light"
     },
     "output_type": "display_data"
    }
   ],
   "source": [
    "df.groupby('VehicleType')['Price'].mean().plot(kind=\"line\", figsize=[12,6], legend=True)"
   ]
  },
  {
   "cell_type": "markdown",
   "metadata": {},
   "source": [
    "Тип кузова вляет на цену, значит будем использовать его для обучения моделей."
   ]
  },
  {
   "cell_type": "markdown",
   "metadata": {},
   "source": [
    "#### Признак FuelType"
   ]
  },
  {
   "cell_type": "markdown",
   "metadata": {},
   "source": [
    "Посмотрим уникальные значение в признаке."
   ]
  },
  {
   "cell_type": "code",
   "execution_count": 52,
   "metadata": {},
   "outputs": [
    {
     "data": {
      "text/plain": [
       "petrol      180672\n",
       "gasoline     86478\n",
       "NaN          13034\n",
       "lpg           4568\n",
       "cng            473\n",
       "hybrid         198\n",
       "other           52\n",
       "electric        34\n",
       "Name: FuelType, dtype: int64"
      ]
     },
     "execution_count": 52,
     "metadata": {},
     "output_type": "execute_result"
    }
   ],
   "source": [
    "df['FuelType'].value_counts(dropna=False)"
   ]
  },
  {
   "cell_type": "markdown",
   "metadata": {},
   "source": [
    "Заполним пропуски модой по признаку Brand_Model."
   ]
  },
  {
   "cell_type": "code",
   "execution_count": 53,
   "metadata": {},
   "outputs": [],
   "source": [
    "df['FuelType'] = df.groupby(['Brand_Model'], sort=False)['FuelType'].apply(lambda x: x.fillna(x.mode().iloc[0] if not x.mode().empty else np.nan))"
   ]
  },
  {
   "cell_type": "markdown",
   "metadata": {},
   "source": [
    "Проверим отсутствие пропусков."
   ]
  },
  {
   "cell_type": "code",
   "execution_count": 54,
   "metadata": {},
   "outputs": [
    {
     "data": {
      "text/plain": [
       "0"
      ]
     },
     "execution_count": 54,
     "metadata": {},
     "output_type": "execute_result"
    }
   ],
   "source": [
    "df[df['FuelType'].isna()].shape[0]"
   ]
  },
  {
   "cell_type": "markdown",
   "metadata": {},
   "source": [
    "#### Признак Gearbox "
   ]
  },
  {
   "cell_type": "markdown",
   "metadata": {},
   "source": [
    "Смотрим значения."
   ]
  },
  {
   "cell_type": "code",
   "execution_count": 55,
   "metadata": {},
   "outputs": [
    {
     "data": {
      "text/plain": [
       "manual    224193\n",
       "auto       56576\n",
       "NaN         4740\n",
       "Name: Gearbox, dtype: int64"
      ]
     },
     "execution_count": 55,
     "metadata": {},
     "output_type": "execute_result"
    }
   ],
   "source": [
    "df['Gearbox'].value_counts(dropna=False)"
   ]
  },
  {
   "cell_type": "markdown",
   "metadata": {},
   "source": [
    "Заполняем модой по Brand_Model и проверяем."
   ]
  },
  {
   "cell_type": "code",
   "execution_count": 56,
   "metadata": {},
   "outputs": [],
   "source": [
    "df['Gearbox'] = df.groupby(['Brand_Model'], sort=False)['Gearbox'].apply(lambda x: x.fillna(x.mode().iloc[0] if not x.mode().empty else np.nan))"
   ]
  },
  {
   "cell_type": "code",
   "execution_count": 57,
   "metadata": {},
   "outputs": [
    {
     "data": {
      "text/plain": [
       "0"
      ]
     },
     "execution_count": 57,
     "metadata": {},
     "output_type": "execute_result"
    }
   ],
   "source": [
    "df[df['Gearbox'].isna()].shape[0]"
   ]
  },
  {
   "cell_type": "markdown",
   "metadata": {},
   "source": [
    "#### Признак NotRepaired"
   ]
  },
  {
   "cell_type": "markdown",
   "metadata": {},
   "source": [
    "Смотрим уникальные значения."
   ]
  },
  {
   "cell_type": "code",
   "execution_count": 58,
   "metadata": {},
   "outputs": [
    {
     "data": {
      "text/plain": [
       "no     218608\n",
       "NaN     39688\n",
       "yes     27213\n",
       "Name: NotRepaired, dtype: int64"
      ]
     },
     "execution_count": 58,
     "metadata": {},
     "output_type": "execute_result"
    }
   ],
   "source": [
    "df['NotRepaired'].value_counts(dropna=False)"
   ]
  },
  {
   "cell_type": "markdown",
   "metadata": {},
   "source": [
    "Достоверно заполнить не получится, поэтому заменим пропуски категорийным значением unknown."
   ]
  },
  {
   "cell_type": "code",
   "execution_count": 59,
   "metadata": {},
   "outputs": [],
   "source": [
    "df = df.replace(np.nan, 'unknown')"
   ]
  },
  {
   "cell_type": "markdown",
   "metadata": {},
   "source": [
    "#### Признак DateCreated"
   ]
  },
  {
   "cell_type": "markdown",
   "metadata": {},
   "source": [
    "Приведем к формату даты."
   ]
  },
  {
   "cell_type": "code",
   "execution_count": 60,
   "metadata": {},
   "outputs": [],
   "source": [
    "df['DateCreated'] = pd.to_datetime(df['DateCreated'], format='%Y-%m-%d %H:%M:%S')"
   ]
  },
  {
   "cell_type": "markdown",
   "metadata": {},
   "source": [
    "Смотрим диапазон создания анкет в годах."
   ]
  },
  {
   "cell_type": "code",
   "execution_count": 61,
   "metadata": {},
   "outputs": [
    {
     "data": {
      "text/plain": [
       "2016    285486\n",
       "2015        23\n",
       "Name: DateCreated, dtype: int64"
      ]
     },
     "execution_count": 61,
     "metadata": {},
     "output_type": "execute_result"
    }
   ],
   "source": [
    "df['DateCreated'].dt.year.value_counts()"
   ]
  },
  {
   "cell_type": "markdown",
   "metadata": {},
   "source": [
    "На основании года анкеты строить признак не имеет смысла из-за превалирования одного значения из двух.  \n",
    "Посмотрим на месяца."
   ]
  },
  {
   "cell_type": "code",
   "execution_count": 62,
   "metadata": {},
   "outputs": [
    {
     "data": {
      "text/plain": [
       "3     238758\n",
       "4      46327\n",
       "2        344\n",
       "1         58\n",
       "12         9\n",
       "11         8\n",
       "9          3\n",
       "8          2\n",
       "Name: DateCreated, dtype: int64"
      ]
     },
     "execution_count": 62,
     "metadata": {},
     "output_type": "execute_result"
    }
   ],
   "source": [
    "df['DateCreated'].dt.month.value_counts()"
   ]
  },
  {
   "cell_type": "markdown",
   "metadata": {},
   "source": [
    "Признак месяца создания анкеты так же несбалансирован и не окажет влияния на обучение моделей, поэтому удаляем колонку DateCreated из признаков датасета."
   ]
  },
  {
   "cell_type": "code",
   "execution_count": 63,
   "metadata": {},
   "outputs": [
    {
     "data": {
      "text/html": [
       "<div>\n",
       "<style scoped>\n",
       "    .dataframe tbody tr th:only-of-type {\n",
       "        vertical-align: middle;\n",
       "    }\n",
       "\n",
       "    .dataframe tbody tr th {\n",
       "        vertical-align: top;\n",
       "    }\n",
       "\n",
       "    .dataframe thead th {\n",
       "        text-align: right;\n",
       "    }\n",
       "</style>\n",
       "<table border=\"1\" class=\"dataframe\">\n",
       "  <thead>\n",
       "    <tr style=\"text-align: right;\">\n",
       "      <th></th>\n",
       "      <th>DateCrawled</th>\n",
       "      <th>Price</th>\n",
       "      <th>VehicleType</th>\n",
       "      <th>RegistrationYear</th>\n",
       "      <th>Gearbox</th>\n",
       "      <th>Power</th>\n",
       "      <th>Model</th>\n",
       "      <th>Kilometer</th>\n",
       "      <th>RegistrationMonth</th>\n",
       "      <th>FuelType</th>\n",
       "      <th>Brand</th>\n",
       "      <th>NotRepaired</th>\n",
       "      <th>LastSeen</th>\n",
       "      <th>max_km</th>\n",
       "      <th>Brand_Model</th>\n",
       "    </tr>\n",
       "  </thead>\n",
       "  <tbody>\n",
       "    <tr>\n",
       "      <td>1</td>\n",
       "      <td>2016-03-24 10:58:45</td>\n",
       "      <td>18300</td>\n",
       "      <td>coupe</td>\n",
       "      <td>2011</td>\n",
       "      <td>manual</td>\n",
       "      <td>190</td>\n",
       "      <td>a4</td>\n",
       "      <td>125000</td>\n",
       "      <td>5</td>\n",
       "      <td>gasoline</td>\n",
       "      <td>audi</td>\n",
       "      <td>yes</td>\n",
       "      <td>2016-04-07 01:46:50</td>\n",
       "      <td>0</td>\n",
       "      <td>audi_a4</td>\n",
       "    </tr>\n",
       "    <tr>\n",
       "      <td>2</td>\n",
       "      <td>2016-03-14 12:52:21</td>\n",
       "      <td>9800</td>\n",
       "      <td>suv</td>\n",
       "      <td>2004</td>\n",
       "      <td>auto</td>\n",
       "      <td>163</td>\n",
       "      <td>grand</td>\n",
       "      <td>125000</td>\n",
       "      <td>8</td>\n",
       "      <td>gasoline</td>\n",
       "      <td>jeep</td>\n",
       "      <td>unknown</td>\n",
       "      <td>2016-04-05 12:47:46</td>\n",
       "      <td>0</td>\n",
       "      <td>jeep_grand</td>\n",
       "    </tr>\n",
       "    <tr>\n",
       "      <td>3</td>\n",
       "      <td>2016-03-17 16:54:04</td>\n",
       "      <td>1500</td>\n",
       "      <td>small</td>\n",
       "      <td>2001</td>\n",
       "      <td>manual</td>\n",
       "      <td>75</td>\n",
       "      <td>golf</td>\n",
       "      <td>150000</td>\n",
       "      <td>6</td>\n",
       "      <td>petrol</td>\n",
       "      <td>volkswagen</td>\n",
       "      <td>no</td>\n",
       "      <td>2016-03-17 17:40:17</td>\n",
       "      <td>1</td>\n",
       "      <td>volkswagen_golf</td>\n",
       "    </tr>\n",
       "    <tr>\n",
       "      <td>4</td>\n",
       "      <td>2016-03-31 17:25:20</td>\n",
       "      <td>3600</td>\n",
       "      <td>small</td>\n",
       "      <td>2008</td>\n",
       "      <td>manual</td>\n",
       "      <td>69</td>\n",
       "      <td>fabia</td>\n",
       "      <td>90000</td>\n",
       "      <td>7</td>\n",
       "      <td>gasoline</td>\n",
       "      <td>skoda</td>\n",
       "      <td>no</td>\n",
       "      <td>2016-04-06 10:17:21</td>\n",
       "      <td>0</td>\n",
       "      <td>skoda_fabia</td>\n",
       "    </tr>\n",
       "    <tr>\n",
       "      <td>5</td>\n",
       "      <td>2016-04-04 17:36:23</td>\n",
       "      <td>650</td>\n",
       "      <td>sedan</td>\n",
       "      <td>1995</td>\n",
       "      <td>manual</td>\n",
       "      <td>102</td>\n",
       "      <td>3er</td>\n",
       "      <td>150000</td>\n",
       "      <td>10</td>\n",
       "      <td>petrol</td>\n",
       "      <td>bmw</td>\n",
       "      <td>yes</td>\n",
       "      <td>2016-04-06 19:17:07</td>\n",
       "      <td>1</td>\n",
       "      <td>bmw_3er</td>\n",
       "    </tr>\n",
       "  </tbody>\n",
       "</table>\n",
       "</div>"
      ],
      "text/plain": [
       "          DateCrawled  Price VehicleType  RegistrationYear Gearbox  Power  \\\n",
       "1 2016-03-24 10:58:45  18300       coupe              2011  manual    190   \n",
       "2 2016-03-14 12:52:21   9800         suv              2004    auto    163   \n",
       "3 2016-03-17 16:54:04   1500       small              2001  manual     75   \n",
       "4 2016-03-31 17:25:20   3600       small              2008  manual     69   \n",
       "5 2016-04-04 17:36:23    650       sedan              1995  manual    102   \n",
       "\n",
       "   Model  Kilometer  RegistrationMonth  FuelType       Brand NotRepaired  \\\n",
       "1     a4     125000                  5  gasoline        audi         yes   \n",
       "2  grand     125000                  8  gasoline        jeep     unknown   \n",
       "3   golf     150000                  6    petrol  volkswagen          no   \n",
       "4  fabia      90000                  7  gasoline       skoda          no   \n",
       "5    3er     150000                 10    petrol         bmw         yes   \n",
       "\n",
       "              LastSeen  max_km      Brand_Model  \n",
       "1  2016-04-07 01:46:50       0          audi_a4  \n",
       "2  2016-04-05 12:47:46       0       jeep_grand  \n",
       "3  2016-03-17 17:40:17       1  volkswagen_golf  \n",
       "4  2016-04-06 10:17:21       0      skoda_fabia  \n",
       "5  2016-04-06 19:17:07       1          bmw_3er  "
      ]
     },
     "execution_count": 63,
     "metadata": {},
     "output_type": "execute_result"
    }
   ],
   "source": [
    "df = df.drop(['DateCreated'], axis=1)\n",
    "df.head()"
   ]
  },
  {
   "cell_type": "markdown",
   "metadata": {},
   "source": [
    "#### Признак LastSeen  \n",
    "Колонку с датой последней активности пользователя удаляем, так как это информация о поведении пользователя, а не признаках автомобиля."
   ]
  },
  {
   "cell_type": "code",
   "execution_count": 64,
   "metadata": {},
   "outputs": [],
   "source": [
    "df = df.drop(['LastSeen'], axis=1)"
   ]
  },
  {
   "cell_type": "markdown",
   "metadata": {},
   "source": [
    "### Выделение признаков и целевых признаков. "
   ]
  },
  {
   "cell_type": "markdown",
   "metadata": {},
   "source": [
    "Построим тепловую карту матрицы линейной корреляции."
   ]
  },
  {
   "cell_type": "code",
   "execution_count": 65,
   "metadata": {},
   "outputs": [],
   "source": [
    "def corr_heatmap(df):\n",
    "    df_corr = df.corr().replace(1,0)\n",
    "\n",
    "    mask = np.zeros_like(df_corr, dtype=bool)\n",
    "    mask[np.triu_indices_from(mask)] = True\n",
    "\n",
    "    plt.figure(figsize=(18, 7))\n",
    "\n",
    "    sns.heatmap(df_corr, mask=mask, annot=True, fmt=\".5f\", linewidths=.1, cmap= 'coolwarm')\n",
    "    plt.title('Матрица коэффициентов линейной корреляции', fontsize=15)\n",
    "    plt.ylabel('Признак', fontsize=15)\n",
    "    plt.xlabel('Признак', fontsize=15)"
   ]
  },
  {
   "cell_type": "code",
   "execution_count": 66,
   "metadata": {
    "scrolled": false
   },
   "outputs": [
    {
     "data": {
      "image/png": "[encoded data removed]",
      "text/plain": [
       "<Figure size 1296x504 with 2 Axes>"
      ]
     },
     "metadata": {
      "needs_background": "light"
     },
     "output_type": "display_data"
    }
   ],
   "source": [
    "corr_heatmap(df)"
   ]
  },
  {
   "cell_type": "code",
   "execution_count": 67,
   "metadata": {},
   "outputs": [],
   "source": [
    "#sns.pairplot(df[['Price','RegistrationYear','Power','Kilometer']], kind='scatter', plot_kws={'alpha':0.1})"
   ]
  },
  {
   "cell_type": "markdown",
   "metadata": {},
   "source": [
    "Выделим признаки и целевые признаки."
   ]
  },
  {
   "cell_type": "code",
   "execution_count": 68,
   "metadata": {},
   "outputs": [],
   "source": [
    "cat_features = ['VehicleType', 'Gearbox', 'FuelType', 'NotRepaired', 'Brand_Model', 'max_km']\n",
    "num_features = ['RegistrationYear','Power','Kilometer']"
   ]
  },
  {
   "cell_type": "markdown",
   "metadata": {},
   "source": [
    "Для применения на модели LinearRegression кодируем категориальные признаки методом OHE. "
   ]
  },
  {
   "cell_type": "code",
   "execution_count": 69,
   "metadata": {},
   "outputs": [],
   "source": [
    "X_ohe = pd.get_dummies(df[cat_features], drop_first=True).astype('int')"
   ]
  },
  {
   "cell_type": "code",
   "execution_count": 70,
   "metadata": {},
   "outputs": [],
   "source": [
    "X_ohe = df[num_features].join(X_ohe)"
   ]
  },
  {
   "cell_type": "markdown",
   "metadata": {},
   "source": [
    "Для моделей CatBoostRegressor и LightGBM кодируем категориальные признаки методом Ordinal Encoding."
   ]
  },
  {
   "cell_type": "code",
   "execution_count": 71,
   "metadata": {},
   "outputs": [],
   "source": [
    "encoder = OrdinalEncoder()\n",
    "data_ordinal = pd.DataFrame(\n",
    "    encoder.fit_transform(df[cat_features]), columns=df[cat_features].columns, index=df[cat_features].index)"
   ]
  },
  {
   "cell_type": "code",
   "execution_count": 72,
   "metadata": {},
   "outputs": [],
   "source": [
    "X_oe = df[num_features].join(data_ordinal).astype('int')"
   ]
  },
  {
   "cell_type": "markdown",
   "metadata": {},
   "source": [
    "Выделяем целевой признак."
   ]
  },
  {
   "cell_type": "code",
   "execution_count": 73,
   "metadata": {},
   "outputs": [],
   "source": [
    "y = df[['Price']]"
   ]
  },
  {
   "cell_type": "markdown",
   "metadata": {},
   "source": [
    "Масштабирование признаков проводить не будем, для линейной регрессии используем гиперпараметр normalize=True, а для остальных моделей масштабы признаков не повлиют на обучение."
   ]
  },
  {
   "cell_type": "markdown",
   "metadata": {},
   "source": [
    "Разобъем выборку на обучающие и тестовые признаки для каждого типа кодировки."
   ]
  },
  {
   "cell_type": "markdown",
   "metadata": {},
   "source": [
    " Для использования в линейной регрессии ohe."
   ]
  },
  {
   "cell_type": "code",
   "execution_count": 74,
   "metadata": {},
   "outputs": [],
   "source": [
    "X_train_ohe, X_test_ohe, y_train, y_test = train_test_split(X_ohe, y, test_size=0.25, random_state=1234)"
   ]
  },
  {
   "cell_type": "markdown",
   "metadata": {},
   "source": [
    "Для CatBoostRegressor и LightGBM oe."
   ]
  },
  {
   "cell_type": "code",
   "execution_count": 75,
   "metadata": {},
   "outputs": [],
   "source": [
    "X_train_oe, X_test_oe, y_train, y_test = train_test_split(X_oe, y, test_size=0.25, random_state=1234)"
   ]
  },
  {
   "cell_type": "markdown",
   "metadata": {},
   "source": [
    "### Вывод \n",
    "В результате предобработки данных:\n",
    "- Удалили дубликаты.\n",
    "- Проанализировали признаки. Пропущенные значения в категориальных признаках при возможности заполнены модой по группировке другими признаками.\n",
    "- Аномальные значения удалены, в том числе в целевом признаке, при цене менее 100 евро. \n",
    "- Добавлен категориальный признак совмещающий в себе бренд и модель автомобиля.\n",
    "- Добавлен категориальный признак, при пробеге равном 150000 км, так как исходя из анализа данных выдвинуто предположение, что это максимальное значений, которое можно было указать в анкете.\n",
    "- Определены признаки, необходимые для построения моделей.\n",
    "- Категориальные признаки для построения моделей линейной регрессии закодированы методом Ordinal Encoding, для остальных моделей методом one-hot encoding.\n",
    "- Данные разделены на тестовую и обучающую выборки в соотношении 1:4."
   ]
  },
  {
   "cell_type": "markdown",
   "metadata": {},
   "source": [
    "## Обучение моделей"
   ]
  },
  {
   "cell_type": "markdown",
   "metadata": {},
   "source": [
    "### Модели с базовыми параметрами."
   ]
  },
  {
   "cell_type": "markdown",
   "metadata": {},
   "source": [
    "Создадим функцию которая на вход получает модель, признаки и таргеты, а возвращает время обучения, время предсказания и RMSE."
   ]
  },
  {
   "cell_type": "code",
   "execution_count": 76,
   "metadata": {},
   "outputs": [],
   "source": [
    "def time_score(model, X_train, y_train, X_test, y_test):\n",
    "    \n",
    "    start = time.time()    \n",
    "    model.fit(X_train, y_train)\n",
    "    train_time = time.time() - start\n",
    "    \n",
    "    start = time.time()  \n",
    "    predict = model.predict(X_test)\n",
    "    predict_time = time.time() - start\n",
    "\n",
    "    return train_time, predict_time, mean_squared_error(y_test, predict)**0.5"
   ]
  },
  {
   "cell_type": "markdown",
   "metadata": {},
   "source": [
    "Создадим список в котором буду храниться результаты тестирования моделей."
   ]
  },
  {
   "cell_type": "code",
   "execution_count": 77,
   "metadata": {},
   "outputs": [],
   "source": [
    "result = []"
   ]
  },
  {
   "cell_type": "markdown",
   "metadata": {},
   "source": [
    "Применим функцию получения тестовых метрик моделей для моделей с гиперпараметрами по умолчанию. "
   ]
  },
  {
   "cell_type": "markdown",
   "metadata": {},
   "source": [
    "####  LinearRegression"
   ]
  },
  {
   "cell_type": "code",
   "execution_count": 78,
   "metadata": {},
   "outputs": [],
   "source": [
    "result.append(time_score(LinearRegression(), X_train_ohe, y_train, X_test_ohe, y_test))"
   ]
  },
  {
   "cell_type": "code",
   "execution_count": 79,
   "metadata": {},
   "outputs": [
    {
     "data": {
      "text/plain": [
       "[(24.770498275756836, 0.1971573829650879, 2357.579074550216)]"
      ]
     },
     "execution_count": 79,
     "metadata": {},
     "output_type": "execute_result"
    }
   ],
   "source": [
    "result"
   ]
  },
  {
   "cell_type": "markdown",
   "metadata": {},
   "source": [
    "####  LGBMRegressor"
   ]
  },
  {
   "cell_type": "code",
   "execution_count": 80,
   "metadata": {},
   "outputs": [],
   "source": [
    "result.append(time_score(\n",
    "    LGBMRegressor(verbose=0, seed=12345), X_train_oe, y_train, X_test_oe, y_test))"
   ]
  },
  {
   "cell_type": "markdown",
   "metadata": {},
   "source": [
    "####  CatBoostRegressor"
   ]
  },
  {
   "cell_type": "code",
   "execution_count": 81,
   "metadata": {},
   "outputs": [],
   "source": [
    "result.append(time_score(\n",
    "    CatBoostRegressor(silent=True, random_seed=12345, cat_features=cat_features), X_train_oe, y_train, X_test_oe, y_test))"
   ]
  },
  {
   "cell_type": "markdown",
   "metadata": {},
   "source": [
    "### Тюнинг моделей"
   ]
  },
  {
   "cell_type": "markdown",
   "metadata": {},
   "source": [
    "С помощью GridSearchCV с кросвалидацией по 3-м фолдам проведем поиск гиперпараметров для моделей LGBMRegressor и CatBoostRegressor."
   ]
  },
  {
   "cell_type": "markdown",
   "metadata": {},
   "source": [
    "#### LGBMRegressor tuning"
   ]
  },
  {
   "cell_type": "code",
   "execution_count": 82,
   "metadata": {},
   "outputs": [],
   "source": [
    "lgbm = LGBMRegressor(verbose=0, seed=12345)\n",
    "\n",
    "params = {\n",
    "    'learning_rate': [0.15, 0.17],\n",
    "    'n_estimators': [200, 300],\n",
    "    'num_leaves': [41, 51],\n",
    "}\n",
    "\n",
    "grid_lgbm = GridSearchCV(lgbm, params, cv=3, scoring='neg_mean_squared_error', verbose=3)"
   ]
  },
  {
   "cell_type": "code",
   "execution_count": 83,
   "metadata": {
    "scrolled": false
   },
   "outputs": [
    {
     "name": "stdout",
     "output_type": "stream",
     "text": [
      "Fitting 3 folds for each of 8 candidates, totalling 24 fits\n",
      "[CV] learning_rate=0.15, n_estimators=200, num_leaves=41 .............\n"
     ]
    },
    {
     "name": "stderr",
     "output_type": "stream",
     "text": [
      "[Parallel(n_jobs=1)]: Using backend SequentialBackend with 1 concurrent workers.\n"
     ]
    },
    {
     "name": "stdout",
     "output_type": "stream",
     "text": [
      "[CV]  learning_rate=0.15, n_estimators=200, num_leaves=41, score=-2317760.436, total=10.1min\n",
      "[CV] learning_rate=0.15, n_estimators=200, num_leaves=41 .............\n"
     ]
    },
    {
     "name": "stderr",
     "output_type": "stream",
     "text": [
      "[Parallel(n_jobs=1)]: Done   1 out of   1 | elapsed: 10.1min remaining:    0.0s\n"
     ]
    },
    {
     "name": "stdout",
     "output_type": "stream",
     "text": [
      "[CV]  learning_rate=0.15, n_estimators=200, num_leaves=41, score=-2346909.300, total= 1.6min\n",
      "[CV] learning_rate=0.15, n_estimators=200, num_leaves=41 .............\n"
     ]
    },
    {
     "name": "stderr",
     "output_type": "stream",
     "text": [
      "[Parallel(n_jobs=1)]: Done   2 out of   2 | elapsed: 11.7min remaining:    0.0s\n"
     ]
    },
    {
     "name": "stdout",
     "output_type": "stream",
     "text": [
      "[CV]  learning_rate=0.15, n_estimators=200, num_leaves=41, score=-2298586.260, total=  55.7s\n",
      "[CV] learning_rate=0.15, n_estimators=200, num_leaves=51 .............\n",
      "[CV]  learning_rate=0.15, n_estimators=200, num_leaves=51, score=-2286814.697, total= 1.0min\n",
      "[CV] learning_rate=0.15, n_estimators=200, num_leaves=51 .............\n",
      "[CV]  learning_rate=0.15, n_estimators=200, num_leaves=51, score=-2323013.972, total=  59.7s\n",
      "[CV] learning_rate=0.15, n_estimators=200, num_leaves=51 .............\n",
      "[CV]  learning_rate=0.15, n_estimators=200, num_leaves=51, score=-2254670.748, total=  57.1s\n",
      "[CV] learning_rate=0.15, n_estimators=300, num_leaves=41 .............\n",
      "[CV]  learning_rate=0.15, n_estimators=300, num_leaves=41, score=-2267910.255, total= 1.2min\n",
      "[CV] learning_rate=0.15, n_estimators=300, num_leaves=41 .............\n",
      "[CV]  learning_rate=0.15, n_estimators=300, num_leaves=41, score=-2292679.240, total= 1.3min\n",
      "[CV] learning_rate=0.15, n_estimators=300, num_leaves=41 .............\n",
      "[CV]  learning_rate=0.15, n_estimators=300, num_leaves=41, score=-2240604.970, total= 1.3min\n",
      "[CV] learning_rate=0.15, n_estimators=300, num_leaves=51 .............\n",
      "[CV]  learning_rate=0.15, n_estimators=300, num_leaves=51, score=-2250559.622, total= 1.4min\n",
      "[CV] learning_rate=0.15, n_estimators=300, num_leaves=51 .............\n",
      "[CV]  learning_rate=0.15, n_estimators=300, num_leaves=51, score=-2278123.515, total= 1.5min\n",
      "[CV] learning_rate=0.15, n_estimators=300, num_leaves=51 .............\n",
      "[CV]  learning_rate=0.15, n_estimators=300, num_leaves=51, score=-2208431.741, total=  49.2s\n",
      "[CV] learning_rate=0.17, n_estimators=200, num_leaves=41 .............\n",
      "[CV]  learning_rate=0.17, n_estimators=200, num_leaves=41, score=-2301104.452, total=  11.5s\n",
      "[CV] learning_rate=0.17, n_estimators=200, num_leaves=41 .............\n",
      "[CV]  learning_rate=0.17, n_estimators=200, num_leaves=41, score=-2335308.764, total=  13.3s\n",
      "[CV] learning_rate=0.17, n_estimators=200, num_leaves=41 .............\n",
      "[CV]  learning_rate=0.17, n_estimators=200, num_leaves=41, score=-2285791.675, total=  12.8s\n",
      "[CV] learning_rate=0.17, n_estimators=200, num_leaves=51 .............\n",
      "[CV]  learning_rate=0.17, n_estimators=200, num_leaves=51, score=-2282345.469, total=  14.7s\n",
      "[CV] learning_rate=0.17, n_estimators=200, num_leaves=51 .............\n",
      "[CV]  learning_rate=0.17, n_estimators=200, num_leaves=51, score=-2314782.550, total=  12.4s\n",
      "[CV] learning_rate=0.17, n_estimators=200, num_leaves=51 .............\n",
      "[CV]  learning_rate=0.17, n_estimators=200, num_leaves=51, score=-2247999.006, total=  13.9s\n",
      "[CV] learning_rate=0.17, n_estimators=300, num_leaves=41 .............\n",
      "[CV]  learning_rate=0.17, n_estimators=300, num_leaves=41, score=-2264759.501, total=  19.2s\n",
      "[CV] learning_rate=0.17, n_estimators=300, num_leaves=41 .............\n",
      "[CV]  learning_rate=0.17, n_estimators=300, num_leaves=41, score=-2285882.942, total=  17.5s\n",
      "[CV] learning_rate=0.17, n_estimators=300, num_leaves=41 .............\n",
      "[CV]  learning_rate=0.17, n_estimators=300, num_leaves=41, score=-2227572.156, total=  16.8s\n",
      "[CV] learning_rate=0.17, n_estimators=300, num_leaves=51 .............\n",
      "[CV]  learning_rate=0.17, n_estimators=300, num_leaves=51, score=-2245380.102, total=  18.4s\n",
      "[CV] learning_rate=0.17, n_estimators=300, num_leaves=51 .............\n",
      "[CV]  learning_rate=0.17, n_estimators=300, num_leaves=51, score=-2261525.745, total=  23.1s\n",
      "[CV] learning_rate=0.17, n_estimators=300, num_leaves=51 .............\n",
      "[CV]  learning_rate=0.17, n_estimators=300, num_leaves=51, score=-2200817.595, total=  29.1s\n"
     ]
    },
    {
     "name": "stderr",
     "output_type": "stream",
     "text": [
      "[Parallel(n_jobs=1)]: Done  24 out of  24 | elapsed: 26.6min finished\n"
     ]
    },
    {
     "name": "stdout",
     "output_type": "stream",
     "text": [
      "CPU times: user 26min 33s, sys: 5.94 s, total: 26min 39s\n",
      "Wall time: 26min 53s\n"
     ]
    },
    {
     "data": {
      "text/plain": [
       "GridSearchCV(cv=3, error_score='raise-deprecating',\n",
       "             estimator=LGBMRegressor(boosting_type='gbdt', class_weight=None,\n",
       "                                     colsample_bytree=1.0,\n",
       "                                     importance_type='split', learning_rate=0.1,\n",
       "                                     max_depth=-1, min_child_samples=20,\n",
       "                                     min_child_weight=0.001, min_split_gain=0.0,\n",
       "                                     n_estimators=100, n_jobs=-1, num_leaves=31,\n",
       "                                     objective=None, random_state=None,\n",
       "                                     reg_alpha=0.0, reg_lambda=0.0, seed=12345,\n",
       "                                     silent=True, subsample=1.0,\n",
       "                                     subsample_for_bin=200000, subsample_freq=0,\n",
       "                                     verbose=0),\n",
       "             iid='warn', n_jobs=None,\n",
       "             param_grid={'learning_rate': [0.15, 0.17],\n",
       "                         'n_estimators': [200, 300], 'num_leaves': [41, 51]},\n",
       "             pre_dispatch='2*n_jobs', refit=True, return_train_score=False,\n",
       "             scoring='neg_mean_squared_error', verbose=3)"
      ]
     },
     "execution_count": 83,
     "metadata": {},
     "output_type": "execute_result"
    }
   ],
   "source": [
    "%%time\n",
    "grid_lgbm.fit(X_train_oe, y_train)"
   ]
  },
  {
   "cell_type": "code",
   "execution_count": 84,
   "metadata": {},
   "outputs": [
    {
     "data": {
      "text/plain": [
       "{'learning_rate': 0.17, 'n_estimators': 300, 'num_leaves': 51}"
      ]
     },
     "execution_count": 84,
     "metadata": {},
     "output_type": "execute_result"
    }
   ],
   "source": [
    "grid_lgbm.best_params_"
   ]
  },
  {
   "cell_type": "markdown",
   "metadata": {},
   "source": [
    "Применим модель с подобранными параметрами для обучающей и тестовой выборки."
   ]
  },
  {
   "cell_type": "code",
   "execution_count": 85,
   "metadata": {},
   "outputs": [],
   "source": [
    "result.append(time_score(grid_lgbm.best_estimator_, X_train_oe, y_train, X_test_oe, y_test))"
   ]
  },
  {
   "cell_type": "code",
   "execution_count": 86,
   "metadata": {},
   "outputs": [
    {
     "data": {
      "text/plain": [
       "[(24.770498275756836, 0.1971573829650879, 2357.579074550216),\n",
       " (8.703748941421509, 0.8039631843566895, 1608.8064922910971),\n",
       " (572.4928915500641, 0.7000665664672852, 1608.2445172535195),\n",
       " (21.47724437713623, 2.5164313316345215, 1475.113861927337)]"
      ]
     },
     "execution_count": 86,
     "metadata": {},
     "output_type": "execute_result"
    }
   ],
   "source": [
    "result"
   ]
  },
  {
   "cell_type": "markdown",
   "metadata": {},
   "source": [
    "#### CatBoostRegressor"
   ]
  },
  {
   "cell_type": "code",
   "execution_count": 87,
   "metadata": {},
   "outputs": [],
   "source": [
    "cbr = CatBoostRegressor(random_seed=12345, silent=True, cat_features=cat_features)\n",
    "\n",
    "params = {\n",
    "        'iterations': [200, 400],\n",
    "        'learning_rate': [0.25, 0.3],\n",
    "        'depth':[7, 12]\n",
    "}\n",
    "\n",
    "grid_cbr = GridSearchCV(cbr,\n",
    "                        params,\n",
    "                        cv=3,\n",
    "                        scoring='neg_mean_squared_error',\n",
    "                        verbose=3)"
   ]
  },
  {
   "cell_type": "code",
   "execution_count": 88,
   "metadata": {},
   "outputs": [
    {
     "name": "stdout",
     "output_type": "stream",
     "text": [
      "Fitting 3 folds for each of 8 candidates, totalling 24 fits\n",
      "[CV] depth=7, iterations=200, learning_rate=0.25 .....................\n"
     ]
    },
    {
     "name": "stderr",
     "output_type": "stream",
     "text": [
      "[Parallel(n_jobs=1)]: Using backend SequentialBackend with 1 concurrent workers.\n"
     ]
    },
    {
     "name": "stdout",
     "output_type": "stream",
     "text": [
      "[CV]  depth=7, iterations=200, learning_rate=0.25, score=-2489193.485, total= 1.6min\n",
      "[CV] depth=7, iterations=200, learning_rate=0.25 .....................\n"
     ]
    },
    {
     "name": "stderr",
     "output_type": "stream",
     "text": [
      "[Parallel(n_jobs=1)]: Done   1 out of   1 | elapsed:  1.6min remaining:    0.0s\n"
     ]
    },
    {
     "name": "stdout",
     "output_type": "stream",
     "text": [
      "[CV]  depth=7, iterations=200, learning_rate=0.25, score=-2533868.629, total= 1.6min\n",
      "[CV] depth=7, iterations=200, learning_rate=0.25 .....................\n"
     ]
    },
    {
     "name": "stderr",
     "output_type": "stream",
     "text": [
      "[Parallel(n_jobs=1)]: Done   2 out of   2 | elapsed:  3.1min remaining:    0.0s\n"
     ]
    },
    {
     "name": "stdout",
     "output_type": "stream",
     "text": [
      "[CV]  depth=7, iterations=200, learning_rate=0.25, score=-2458632.897, total= 1.6min\n",
      "[CV] depth=7, iterations=200, learning_rate=0.3 ......................\n",
      "[CV]  depth=7, iterations=200, learning_rate=0.3, score=-2455093.533, total= 1.6min\n",
      "[CV] depth=7, iterations=200, learning_rate=0.3 ......................\n",
      "[CV]  depth=7, iterations=200, learning_rate=0.3, score=-2513861.724, total= 1.6min\n",
      "[CV] depth=7, iterations=200, learning_rate=0.3 ......................\n",
      "[CV]  depth=7, iterations=200, learning_rate=0.3, score=-2443808.620, total= 1.6min\n",
      "[CV] depth=7, iterations=400, learning_rate=0.25 .....................\n",
      "[CV]  depth=7, iterations=400, learning_rate=0.25, score=-2388233.936, total= 3.2min\n",
      "[CV] depth=7, iterations=400, learning_rate=0.25 .....................\n",
      "[CV]  depth=7, iterations=400, learning_rate=0.25, score=-2423442.363, total= 3.2min\n",
      "[CV] depth=7, iterations=400, learning_rate=0.25 .....................\n",
      "[CV]  depth=7, iterations=400, learning_rate=0.25, score=-2370637.885, total= 3.2min\n",
      "[CV] depth=7, iterations=400, learning_rate=0.3 ......................\n",
      "[CV]  depth=7, iterations=400, learning_rate=0.3, score=-2384769.901, total= 3.1min\n",
      "[CV] depth=7, iterations=400, learning_rate=0.3 ......................\n",
      "[CV]  depth=7, iterations=400, learning_rate=0.3, score=-2415086.628, total= 3.2min\n",
      "[CV] depth=7, iterations=400, learning_rate=0.3 ......................\n",
      "[CV]  depth=7, iterations=400, learning_rate=0.3, score=-2362511.676, total= 3.2min\n",
      "[CV] depth=12, iterations=200, learning_rate=0.25 ....................\n",
      "[CV]  depth=12, iterations=200, learning_rate=0.25, score=-2327264.258, total= 3.7min\n",
      "[CV] depth=12, iterations=200, learning_rate=0.25 ....................\n",
      "[CV]  depth=12, iterations=200, learning_rate=0.25, score=-2357463.630, total= 3.7min\n",
      "[CV] depth=12, iterations=200, learning_rate=0.25 ....................\n",
      "[CV]  depth=12, iterations=200, learning_rate=0.25, score=-2293330.862, total= 3.7min\n",
      "[CV] depth=12, iterations=200, learning_rate=0.3 .....................\n",
      "[CV]  depth=12, iterations=200, learning_rate=0.3, score=-2331215.645, total= 3.8min\n",
      "[CV] depth=12, iterations=200, learning_rate=0.3 .....................\n",
      "[CV]  depth=12, iterations=200, learning_rate=0.3, score=-2352832.935, total= 3.8min\n",
      "[CV] depth=12, iterations=200, learning_rate=0.3 .....................\n",
      "[CV]  depth=12, iterations=200, learning_rate=0.3, score=-2312812.263, total= 3.8min\n",
      "[CV] depth=12, iterations=400, learning_rate=0.25 ....................\n",
      "[CV]  depth=12, iterations=400, learning_rate=0.25, score=-2298367.099, total= 7.7min\n",
      "[CV] depth=12, iterations=400, learning_rate=0.25 ....................\n",
      "[CV]  depth=12, iterations=400, learning_rate=0.25, score=-2315721.537, total= 7.6min\n",
      "[CV] depth=12, iterations=400, learning_rate=0.25 ....................\n",
      "[CV]  depth=12, iterations=400, learning_rate=0.25, score=-2249446.101, total= 7.7min\n",
      "[CV] depth=12, iterations=400, learning_rate=0.3 .....................\n",
      "[CV]  depth=12, iterations=400, learning_rate=0.3, score=-2317131.342, total= 7.6min\n",
      "[CV] depth=12, iterations=400, learning_rate=0.3 .....................\n",
      "[CV]  depth=12, iterations=400, learning_rate=0.3, score=-2326179.734, total= 7.7min\n",
      "[CV] depth=12, iterations=400, learning_rate=0.3 .....................\n",
      "[CV]  depth=12, iterations=400, learning_rate=0.3, score=-2287803.247, total= 7.6min\n"
     ]
    },
    {
     "name": "stderr",
     "output_type": "stream",
     "text": [
      "[Parallel(n_jobs=1)]: Done  24 out of  24 | elapsed: 97.1min finished\n"
     ]
    },
    {
     "name": "stdout",
     "output_type": "stream",
     "text": [
      "CPU times: user 1h 37min 17s, sys: 9min 26s, total: 1h 46min 44s\n",
      "Wall time: 1h 47min 43s\n"
     ]
    },
    {
     "data": {
      "text/plain": [
       "GridSearchCV(cv=3, error_score='raise-deprecating',\n",
       "             estimator=<catboost.core.CatBoostRegressor object at 0x7fdd99730b10>,\n",
       "             iid='warn', n_jobs=None,\n",
       "             param_grid={'depth': [7, 12], 'iterations': [200, 400],\n",
       "                         'learning_rate': [0.25, 0.3]},\n",
       "             pre_dispatch='2*n_jobs', refit=True, return_train_score=False,\n",
       "             scoring='neg_mean_squared_error', verbose=3)"
      ]
     },
     "execution_count": 88,
     "metadata": {},
     "output_type": "execute_result"
    }
   ],
   "source": [
    "%%time\n",
    "grid_cbr.fit(X_train_oe, y_train)"
   ]
  },
  {
   "cell_type": "markdown",
   "metadata": {},
   "source": [
    "Применяем подобранную модель."
   ]
  },
  {
   "cell_type": "code",
   "execution_count": 89,
   "metadata": {},
   "outputs": [],
   "source": [
    "result.append(time_score(grid_cbr.best_estimator_, X_train_oe, y_train, X_test_oe, y_test))"
   ]
  },
  {
   "cell_type": "code",
   "execution_count": 90,
   "metadata": {},
   "outputs": [
    {
     "data": {
      "text/plain": [
       "[(24.770498275756836, 0.1971573829650879, 2357.579074550216),\n",
       " (8.703748941421509, 0.8039631843566895, 1608.8064922910971),\n",
       " (572.4928915500641, 0.7000665664672852, 1608.2445172535195),\n",
       " (21.47724437713623, 2.5164313316345215, 1475.113861927337),\n",
       " (628.3099944591522, 1.7011661529541016, 1482.2890751753355)]"
      ]
     },
     "execution_count": 90,
     "metadata": {},
     "output_type": "execute_result"
    }
   ],
   "source": [
    "result"
   ]
  },
  {
   "cell_type": "markdown",
   "metadata": {},
   "source": [
    "### Вывод\n",
    "- Для тестирования моделей написана функция возвращающая время обучения, время предсказания и метрику RMSE.\n",
    "- Протестирована работа моделей LGBMRegressor и CatBoostRegressor с базовыми гиперпараметрами.\n",
    "- С помощью GridSearchCV подобраны гиперпараметры с метрикой RMSE выше базовых. \n",
    "- Для сравнения тестовых параметров обучена модель линейной регрессии.  "
   ]
  },
  {
   "cell_type": "markdown",
   "metadata": {},
   "source": [
    "## Анализ моделей"
   ]
  },
  {
   "cell_type": "markdown",
   "metadata": {},
   "source": [
    "Сведем всю информацию о тестировании моделей в датафрейм."
   ]
  },
  {
   "cell_type": "code",
   "execution_count": 92,
   "metadata": {},
   "outputs": [],
   "source": [
    "analitic = pd.DataFrame(data=result,\n",
    "             index=['LinearRegression', 'LightGBM', 'CatBoost', 'LightGBM_tuned', 'CatBoost_tuned'],\n",
    "             columns=['trainig_time', 'predic_time', 'RMSE'])"
   ]
  },
  {
   "cell_type": "markdown",
   "metadata": {},
   "source": [
    "### Вывод \n",
    "- Подбор гиперпараметров позволил улучшить метрики базовых моделей.\n",
    "Результаты обучения моделей сведены в таблицу analitic. "
   ]
  },
  {
   "cell_type": "code",
   "execution_count": 93,
   "metadata": {},
   "outputs": [
    {
     "data": {
      "text/html": [
       "<div>\n",
       "<style scoped>\n",
       "    .dataframe tbody tr th:only-of-type {\n",
       "        vertical-align: middle;\n",
       "    }\n",
       "\n",
       "    .dataframe tbody tr th {\n",
       "        vertical-align: top;\n",
       "    }\n",
       "\n",
       "    .dataframe thead th {\n",
       "        text-align: right;\n",
       "    }\n",
       "</style>\n",
       "<table border=\"1\" class=\"dataframe\">\n",
       "  <thead>\n",
       "    <tr style=\"text-align: right;\">\n",
       "      <th></th>\n",
       "      <th>trainig_time</th>\n",
       "      <th>predic_time</th>\n",
       "      <th>RMSE</th>\n",
       "    </tr>\n",
       "  </thead>\n",
       "  <tbody>\n",
       "    <tr>\n",
       "      <td>LinearRegression</td>\n",
       "      <td>24.770498</td>\n",
       "      <td>0.197157</td>\n",
       "      <td>2357.579075</td>\n",
       "    </tr>\n",
       "    <tr>\n",
       "      <td>LightGBM</td>\n",
       "      <td>8.703749</td>\n",
       "      <td>0.803963</td>\n",
       "      <td>1608.806492</td>\n",
       "    </tr>\n",
       "    <tr>\n",
       "      <td>CatBoost</td>\n",
       "      <td>572.492892</td>\n",
       "      <td>0.700067</td>\n",
       "      <td>1608.244517</td>\n",
       "    </tr>\n",
       "    <tr>\n",
       "      <td>LightGBM_tuned</td>\n",
       "      <td>21.477244</td>\n",
       "      <td>2.516431</td>\n",
       "      <td>1475.113862</td>\n",
       "    </tr>\n",
       "    <tr>\n",
       "      <td>CatBoost_tuned</td>\n",
       "      <td>628.309994</td>\n",
       "      <td>1.701166</td>\n",
       "      <td>1482.289075</td>\n",
       "    </tr>\n",
       "  </tbody>\n",
       "</table>\n",
       "</div>"
      ],
      "text/plain": [
       "                  trainig_time  predic_time         RMSE\n",
       "LinearRegression     24.770498     0.197157  2357.579075\n",
       "LightGBM              8.703749     0.803963  1608.806492\n",
       "CatBoost            572.492892     0.700067  1608.244517\n",
       "LightGBM_tuned       21.477244     2.516431  1475.113862\n",
       "CatBoost_tuned      628.309994     1.701166  1482.289075"
      ]
     },
     "execution_count": 93,
     "metadata": {},
     "output_type": "execute_result"
    }
   ],
   "source": [
    "analitic"
   ]
  },
  {
   "cell_type": "markdown",
   "metadata": {},
   "source": [
    "**1) Модели с базовыми параметрами:**\n",
    "- LightGBM обучается быстрее всего, и предсказывает с соизмеримой точностью (1608.8), как у лучшей модели по точности - CatBoost (1608.2), но имеет наибольшее время предсказания 0.803963 с.\n",
    "- LinearRegression позволяет предсказывать быстрее всего (0,2 с), но с точностью предсказания в 1,5 раза ниже других рассмотренных моделей (2358).\n",
    "- Наибольшая точность у CatBoost, но цена этого длительное время обучения 572.49 с.  \n",
    "\n",
    "**2) Модели с подбором гиперпараметров:**  \n",
    "- Наибольшую точность (1475.1) показала модель LightGBM, так же у нее время обучения (21.5 с), что почти в 30 раз меньше модели CatBoost (628.3 с).\n",
    "- Модель CatBoost имеет время предсказания почти в 1,5 раза меньше, чем у LightGBM -  1,7 с против 2,5 с, а предсказывает всего на 0,5% хуже LightGBM."
   ]
  }
 ],
 "metadata": {
  "ExecuteTimeLog": [
   {
    "duration": 606,
    "start_time": "2021-07-27T17:06:41.160Z"
   },
   {
    "duration": 304,
    "start_time": "2021-07-27T17:07:00.865Z"
   },
   {
    "duration": 1605,
    "start_time": "2021-07-27T17:07:09.048Z"
   },
   {
    "duration": 19,
    "start_time": "2021-07-27T17:07:15.114Z"
   },
   {
    "duration": 127,
    "start_time": "2021-07-27T17:07:33.778Z"
   },
   {
    "duration": 14,
    "start_time": "2021-07-27T17:07:45.721Z"
   },
   {
    "duration": 123,
    "start_time": "2021-07-27T17:07:48.553Z"
   },
   {
    "duration": 77,
    "start_time": "2021-07-27T17:19:21.301Z"
   },
   {
    "duration": 350,
    "start_time": "2021-07-27T17:20:47.548Z"
   },
   {
    "duration": 321,
    "start_time": "2021-07-27T17:20:52.288Z"
   },
   {
    "duration": 198,
    "start_time": "2021-07-27T17:21:05.322Z"
   },
   {
    "duration": 3615,
    "start_time": "2021-07-27T17:21:14.609Z"
   },
   {
    "duration": 1742,
    "start_time": "2021-07-27T17:23:59.678Z"
   },
   {
    "duration": 1823,
    "start_time": "2021-07-27T17:24:13.343Z"
   },
   {
    "duration": 1614,
    "start_time": "2021-07-27T17:28:34.813Z"
   },
   {
    "duration": 96,
    "start_time": "2021-07-27T17:30:54.676Z"
   },
   {
    "duration": 12,
    "start_time": "2021-07-27T17:31:08.060Z"
   },
   {
    "duration": 31,
    "start_time": "2021-07-27T17:31:51.634Z"
   },
   {
    "duration": 35,
    "start_time": "2021-07-27T17:32:03.334Z"
   },
   {
    "duration": 38,
    "start_time": "2021-07-27T17:32:15.779Z"
   },
   {
    "duration": 36,
    "start_time": "2021-07-27T17:32:33.591Z"
   },
   {
    "duration": 164,
    "start_time": "2021-07-27T17:44:11.375Z"
   },
   {
    "duration": 149,
    "start_time": "2021-07-27T17:45:19.683Z"
   },
   {
    "duration": 85,
    "start_time": "2021-07-27T17:48:01.992Z"
   },
   {
    "duration": 87,
    "start_time": "2021-07-27T17:48:07.058Z"
   },
   {
    "duration": 83,
    "start_time": "2021-07-27T17:48:11.770Z"
   },
   {
    "duration": 83,
    "start_time": "2021-07-27T17:48:22.107Z"
   },
   {
    "duration": 104,
    "start_time": "2021-07-27T17:49:28.844Z"
   },
   {
    "duration": 81,
    "start_time": "2021-07-27T17:49:57.608Z"
   },
   {
    "duration": 91,
    "start_time": "2021-07-27T17:51:14.472Z"
   },
   {
    "duration": 82,
    "start_time": "2021-07-27T17:51:18.359Z"
   },
   {
    "duration": 145,
    "start_time": "2021-07-27T17:51:22.032Z"
   },
   {
    "duration": 392,
    "start_time": "2021-07-27T17:51:41.144Z"
   },
   {
    "duration": 421,
    "start_time": "2021-07-27T17:51:51.234Z"
   },
   {
    "duration": 164,
    "start_time": "2021-07-27T17:51:57.991Z"
   },
   {
    "duration": 85,
    "start_time": "2021-07-27T17:55:17.558Z"
   },
   {
    "duration": 204,
    "start_time": "2021-07-27T17:55:22.141Z"
   },
   {
    "duration": 322,
    "start_time": "2021-07-27T17:55:55.342Z"
   },
   {
    "duration": 107,
    "start_time": "2021-07-27T17:56:42.534Z"
   },
   {
    "duration": 108,
    "start_time": "2021-07-27T17:56:58.021Z"
   },
   {
    "duration": 1696,
    "start_time": "2021-07-27T18:01:16.390Z"
   },
   {
    "duration": 27,
    "start_time": "2021-07-27T18:01:26.634Z"
   },
   {
    "duration": 277,
    "start_time": "2021-07-27T18:02:15.795Z"
   },
   {
    "duration": 157,
    "start_time": "2021-07-27T18:02:33.833Z"
   },
   {
    "duration": 191,
    "start_time": "2021-07-27T18:02:42.464Z"
   },
   {
    "duration": 168,
    "start_time": "2021-07-27T18:07:17.806Z"
   },
   {
    "duration": 1832,
    "start_time": "2021-07-27T18:07:23.951Z"
   },
   {
    "duration": 294,
    "start_time": "2021-07-27T18:07:38.816Z"
   },
   {
    "duration": 280,
    "start_time": "2021-07-27T18:08:35.462Z"
   },
   {
    "duration": 286,
    "start_time": "2021-07-27T18:08:46.075Z"
   },
   {
    "duration": 670,
    "start_time": "2021-07-27T18:08:48.743Z"
   },
   {
    "duration": 293,
    "start_time": "2021-07-27T18:08:59.294Z"
   },
   {
    "duration": 286,
    "start_time": "2021-07-27T18:09:03.454Z"
   },
   {
    "duration": 85,
    "start_time": "2021-07-27T18:10:03.246Z"
   },
   {
    "duration": 630,
    "start_time": "2021-07-27T18:10:09.613Z"
   },
   {
    "duration": 655,
    "start_time": "2021-07-27T18:10:16.421Z"
   },
   {
    "duration": 469,
    "start_time": "2021-07-27T18:11:00.334Z"
   },
   {
    "duration": 593,
    "start_time": "2021-07-27T18:11:06.213Z"
   },
   {
    "duration": 376,
    "start_time": "2021-07-27T18:11:12.636Z"
   },
   {
    "duration": 336,
    "start_time": "2021-07-27T18:11:20.804Z"
   },
   {
    "duration": 82,
    "start_time": "2021-07-27T18:13:44.508Z"
   },
   {
    "duration": 170,
    "start_time": "2021-07-27T18:13:49.475Z"
   },
   {
    "duration": 455,
    "start_time": "2021-07-27T18:16:27.571Z"
   },
   {
    "duration": 477,
    "start_time": "2021-07-27T18:16:34.157Z"
   },
   {
    "duration": 620,
    "start_time": "2021-07-27T18:16:40.117Z"
   },
   {
    "duration": 500,
    "start_time": "2021-07-27T19:44:25.094Z"
   },
   {
    "duration": 905,
    "start_time": "2021-07-27T19:44:42.570Z"
   },
   {
    "duration": 567,
    "start_time": "2021-07-27T19:45:52.656Z"
   },
   {
    "duration": 278,
    "start_time": "2021-07-27T19:46:07.271Z"
   },
   {
    "duration": 229,
    "start_time": "2021-07-27T19:49:41.439Z"
   },
   {
    "duration": 308,
    "start_time": "2021-07-27T19:49:58.280Z"
   },
   {
    "duration": 329,
    "start_time": "2021-07-27T19:50:14.340Z"
   },
   {
    "duration": 356,
    "start_time": "2021-07-27T19:50:23.917Z"
   },
   {
    "duration": 471,
    "start_time": "2021-07-27T19:50:28.923Z"
   },
   {
    "duration": 282,
    "start_time": "2021-07-27T19:50:50.047Z"
   },
   {
    "duration": 66612,
    "start_time": "2021-07-27T19:52:51.906Z"
   },
   {
    "duration": 346,
    "start_time": "2021-07-27T19:54:18.594Z"
   },
   {
    "duration": 130,
    "start_time": "2021-07-27T19:54:33.624Z"
   },
   {
    "duration": 533,
    "start_time": "2021-07-27T19:54:49.539Z"
   },
   {
    "duration": 683,
    "start_time": "2021-07-27T19:55:03.184Z"
   },
   {
    "duration": 637,
    "start_time": "2021-07-27T19:55:37.360Z"
   },
   {
    "duration": 599,
    "start_time": "2021-07-27T19:55:49.603Z"
   },
   {
    "duration": 13,
    "start_time": "2021-07-27T19:58:24.797Z"
   },
   {
    "duration": 20,
    "start_time": "2021-07-27T19:58:28.271Z"
   },
   {
    "duration": 39,
    "start_time": "2021-07-27T19:58:41.167Z"
   },
   {
    "duration": 27,
    "start_time": "2021-07-27T19:58:42.286Z"
   },
   {
    "duration": 155,
    "start_time": "2021-07-27T19:59:37.342Z"
   },
   {
    "duration": 98,
    "start_time": "2021-07-27T19:59:50.638Z"
   },
   {
    "duration": 6,
    "start_time": "2021-07-27T20:00:52.721Z"
   },
   {
    "duration": 292,
    "start_time": "2021-07-27T20:01:42.327Z"
   },
   {
    "duration": 31,
    "start_time": "2021-07-27T20:02:29.818Z"
   },
   {
    "duration": 31,
    "start_time": "2021-07-27T20:18:48.664Z"
   },
   {
    "duration": 30,
    "start_time": "2021-07-27T20:19:10.188Z"
   },
   {
    "duration": 30,
    "start_time": "2021-07-27T20:19:24.802Z"
   },
   {
    "duration": 211,
    "start_time": "2021-07-27T20:20:58.745Z"
   },
   {
    "duration": 206,
    "start_time": "2021-07-27T20:21:15.466Z"
   },
   {
    "duration": 227,
    "start_time": "2021-07-27T20:22:23.778Z"
   },
   {
    "duration": 597,
    "start_time": "2021-07-27T20:22:43.104Z"
   },
   {
    "duration": 563,
    "start_time": "2021-07-27T20:22:48.919Z"
   },
   {
    "duration": 293,
    "start_time": "2021-07-27T20:30:33.995Z"
   },
   {
    "duration": 21,
    "start_time": "2021-07-27T20:33:49.814Z"
   },
   {
    "duration": 82,
    "start_time": "2021-07-27T20:39:04.527Z"
   },
   {
    "duration": 101,
    "start_time": "2021-07-27T20:40:27.895Z"
   },
   {
    "duration": 125,
    "start_time": "2021-07-27T20:45:39.438Z"
   },
   {
    "duration": 82,
    "start_time": "2021-07-27T20:46:21.461Z"
   },
   {
    "duration": 84,
    "start_time": "2021-07-27T20:46:47.373Z"
   },
   {
    "duration": 82,
    "start_time": "2021-07-27T20:47:09.509Z"
   },
   {
    "duration": 118,
    "start_time": "2021-07-27T20:47:18.510Z"
   },
   {
    "duration": 78,
    "start_time": "2021-07-27T20:49:53.402Z"
   },
   {
    "duration": 125,
    "start_time": "2021-07-27T20:49:57.122Z"
   },
   {
    "duration": 4802,
    "start_time": "2021-07-27T20:50:28.905Z"
   },
   {
    "duration": 290,
    "start_time": "2021-07-27T20:50:33.419Z"
   },
   {
    "duration": 15,
    "start_time": "2021-07-27T20:51:14.826Z"
   },
   {
    "duration": 39,
    "start_time": "2021-07-27T20:51:29.203Z"
   },
   {
    "duration": 248,
    "start_time": "2021-07-27T20:51:46.209Z"
   },
   {
    "duration": 27,
    "start_time": "2021-07-27T20:51:53.352Z"
   },
   {
    "duration": 25,
    "start_time": "2021-07-27T20:52:15.472Z"
   },
   {
    "duration": 125,
    "start_time": "2021-07-27T20:52:31.416Z"
   },
   {
    "duration": 117,
    "start_time": "2021-07-27T20:52:46.553Z"
   },
   {
    "duration": 4711,
    "start_time": "2021-07-27T20:52:55.208Z"
   },
   {
    "duration": 124,
    "start_time": "2021-07-27T20:55:01.286Z"
   },
   {
    "duration": 117,
    "start_time": "2021-07-27T20:55:07.295Z"
   },
   {
    "duration": 118,
    "start_time": "2021-07-27T20:55:13.309Z"
   },
   {
    "duration": 119,
    "start_time": "2021-07-27T20:55:20.023Z"
   },
   {
    "duration": 122,
    "start_time": "2021-07-27T20:56:06.982Z"
   },
   {
    "duration": 293,
    "start_time": "2021-07-27T20:56:27.706Z"
   },
   {
    "duration": 124,
    "start_time": "2021-07-27T20:57:06.646Z"
   },
   {
    "duration": 120,
    "start_time": "2021-07-27T20:57:14.684Z"
   },
   {
    "duration": 118,
    "start_time": "2021-07-27T20:57:22.055Z"
   },
   {
    "duration": 131,
    "start_time": "2021-07-27T20:57:40.444Z"
   },
   {
    "duration": 111,
    "start_time": "2021-07-27T20:59:51.299Z"
   },
   {
    "duration": 3921,
    "start_time": "2021-07-27T21:00:04.611Z"
   },
   {
    "duration": 110,
    "start_time": "2021-07-27T21:00:22.009Z"
   },
   {
    "duration": 110,
    "start_time": "2021-07-27T21:00:29.827Z"
   },
   {
    "duration": 114,
    "start_time": "2021-07-27T21:00:34.609Z"
   },
   {
    "duration": 109,
    "start_time": "2021-07-27T21:00:49.411Z"
   },
   {
    "duration": 113,
    "start_time": "2021-07-27T21:01:05.842Z"
   },
   {
    "duration": 108,
    "start_time": "2021-07-27T21:01:15.273Z"
   },
   {
    "duration": 698,
    "start_time": "2021-07-28T07:43:28.696Z"
   },
   {
    "duration": 3733,
    "start_time": "2021-07-28T07:43:29.398Z"
   },
   {
    "duration": 38,
    "start_time": "2021-07-28T07:43:33.138Z"
   },
   {
    "duration": 168,
    "start_time": "2021-07-28T07:43:33.180Z"
   },
   {
    "duration": 160,
    "start_time": "2021-07-28T07:43:33.350Z"
   },
   {
    "duration": 243,
    "start_time": "2021-07-28T07:43:33.513Z"
   },
   {
    "duration": 126,
    "start_time": "2021-07-28T07:43:33.760Z"
   },
   {
    "duration": 135,
    "start_time": "2021-07-28T07:43:33.889Z"
   },
   {
    "duration": 68,
    "start_time": "2021-07-28T07:43:34.026Z"
   },
   {
    "duration": 62,
    "start_time": "2021-07-28T07:43:34.096Z"
   },
   {
    "duration": 1142,
    "start_time": "2021-07-28T07:43:34.161Z"
   },
   {
    "duration": 1220,
    "start_time": "2021-07-28T07:43:35.305Z"
   },
   {
    "duration": 84,
    "start_time": "2021-07-28T07:43:36.527Z"
   },
   {
    "duration": 419,
    "start_time": "2021-07-28T07:43:36.613Z"
   },
   {
    "duration": 5203,
    "start_time": "2021-07-28T07:43:37.034Z"
   },
   {
    "duration": 2466,
    "start_time": "2021-07-28T07:43:39.773Z"
   },
   {
    "duration": 2466,
    "start_time": "2021-07-28T07:43:39.775Z"
   },
   {
    "duration": 2466,
    "start_time": "2021-07-28T07:43:39.777Z"
   },
   {
    "duration": 801,
    "start_time": "2021-07-28T07:45:40.318Z"
   },
   {
    "duration": 3,
    "start_time": "2021-07-28T07:45:49.534Z"
   },
   {
    "duration": 1994,
    "start_time": "2021-07-28T07:45:49.918Z"
   },
   {
    "duration": 21,
    "start_time": "2021-07-28T07:45:51.915Z"
   },
   {
    "duration": 179,
    "start_time": "2021-07-28T07:45:51.938Z"
   },
   {
    "duration": 149,
    "start_time": "2021-07-28T07:45:53.494Z"
   },
   {
    "duration": 219,
    "start_time": "2021-07-28T07:45:54.349Z"
   },
   {
    "duration": 119,
    "start_time": "2021-07-28T07:45:56.105Z"
   },
   {
    "duration": 107,
    "start_time": "2021-07-28T07:45:57.575Z"
   },
   {
    "duration": 59,
    "start_time": "2021-07-28T07:45:57.934Z"
   },
   {
    "duration": 54,
    "start_time": "2021-07-28T07:45:58.358Z"
   },
   {
    "duration": 1026,
    "start_time": "2021-07-28T07:46:00.533Z"
   },
   {
    "duration": 1195,
    "start_time": "2021-07-28T07:46:02.334Z"
   },
   {
    "duration": 80,
    "start_time": "2021-07-28T07:46:04.741Z"
   },
   {
    "duration": 207,
    "start_time": "2021-07-28T07:46:40.365Z"
   },
   {
    "duration": 277,
    "start_time": "2021-07-28T07:46:55.477Z"
   },
   {
    "duration": 373,
    "start_time": "2021-07-28T07:47:17.198Z"
   },
   {
    "duration": 278,
    "start_time": "2021-07-28T07:48:05.677Z"
   },
   {
    "duration": 76,
    "start_time": "2021-07-28T07:48:52.653Z"
   },
   {
    "duration": 55,
    "start_time": "2021-07-28T07:49:37.667Z"
   },
   {
    "duration": 95,
    "start_time": "2021-07-28T07:49:47.291Z"
   },
   {
    "duration": 53,
    "start_time": "2021-07-28T07:50:15.493Z"
   },
   {
    "duration": 54,
    "start_time": "2021-07-28T07:50:26.243Z"
   },
   {
    "duration": 48,
    "start_time": "2021-07-28T07:50:32.780Z"
   },
   {
    "duration": 52,
    "start_time": "2021-07-28T07:50:49.666Z"
   },
   {
    "duration": 309,
    "start_time": "2021-07-28T07:51:14.114Z"
   },
   {
    "duration": 52,
    "start_time": "2021-07-28T07:51:49.259Z"
   },
   {
    "duration": 54,
    "start_time": "2021-07-28T07:52:03.506Z"
   },
   {
    "duration": 338,
    "start_time": "2021-07-28T07:52:41.450Z"
   },
   {
    "duration": 109,
    "start_time": "2021-07-28T07:54:42.401Z"
   },
   {
    "duration": 307,
    "start_time": "2021-07-28T07:54:48.353Z"
   },
   {
    "duration": 342,
    "start_time": "2021-07-28T07:56:06.447Z"
   },
   {
    "duration": 340,
    "start_time": "2021-07-28T07:56:25.775Z"
   },
   {
    "duration": 391,
    "start_time": "2021-07-28T07:56:29.987Z"
   },
   {
    "duration": 306,
    "start_time": "2021-07-28T07:56:57.777Z"
   },
   {
    "duration": 58,
    "start_time": "2021-07-28T07:57:29.207Z"
   },
   {
    "duration": 50,
    "start_time": "2021-07-28T07:57:55.302Z"
   },
   {
    "duration": 52,
    "start_time": "2021-07-28T07:58:43.014Z"
   },
   {
    "duration": 48,
    "start_time": "2021-07-28T07:58:53.606Z"
   },
   {
    "duration": 76,
    "start_time": "2021-07-28T07:59:12.663Z"
   },
   {
    "duration": 53,
    "start_time": "2021-07-28T07:59:56.308Z"
   },
   {
    "duration": 76,
    "start_time": "2021-07-28T08:00:12.831Z"
   },
   {
    "duration": 48,
    "start_time": "2021-07-28T08:00:37.286Z"
   },
   {
    "duration": 80,
    "start_time": "2021-07-28T08:01:16.493Z"
   },
   {
    "duration": 609,
    "start_time": "2021-07-28T08:01:28.292Z"
   },
   {
    "duration": 52,
    "start_time": "2021-07-28T08:01:43.356Z"
   },
   {
    "duration": 83,
    "start_time": "2021-07-28T08:01:49.948Z"
   },
   {
    "duration": 4,
    "start_time": "2021-07-28T08:02:48.603Z"
   },
   {
    "duration": 1832,
    "start_time": "2021-07-28T08:02:48.867Z"
   },
   {
    "duration": 20,
    "start_time": "2021-07-28T08:02:50.701Z"
   },
   {
    "duration": 169,
    "start_time": "2021-07-28T08:02:50.724Z"
   },
   {
    "duration": 162,
    "start_time": "2021-07-28T08:02:50.896Z"
   },
   {
    "duration": 221,
    "start_time": "2021-07-28T08:02:51.060Z"
   },
   {
    "duration": 124,
    "start_time": "2021-07-28T08:02:51.283Z"
   },
   {
    "duration": 117,
    "start_time": "2021-07-28T08:02:51.410Z"
   },
   {
    "duration": 53,
    "start_time": "2021-07-28T08:02:51.666Z"
   },
   {
    "duration": 52,
    "start_time": "2021-07-28T08:02:51.955Z"
   },
   {
    "duration": 948,
    "start_time": "2021-07-28T08:02:53.139Z"
   },
   {
    "duration": 1166,
    "start_time": "2021-07-28T08:02:54.090Z"
   },
   {
    "duration": 73,
    "start_time": "2021-07-28T08:02:56.347Z"
   },
   {
    "duration": 694,
    "start_time": "2021-07-28T08:02:59.331Z"
   },
   {
    "duration": 78,
    "start_time": "2021-07-28T08:03:14.468Z"
   },
   {
    "duration": 567,
    "start_time": "2021-07-28T08:03:21.579Z"
   },
   {
    "duration": 48,
    "start_time": "2021-07-28T08:03:23.910Z"
   },
   {
    "duration": 428,
    "start_time": "2021-07-28T08:05:02.273Z"
   },
   {
    "duration": 52,
    "start_time": "2021-07-28T08:05:11.827Z"
   },
   {
    "duration": 150,
    "start_time": "2021-07-28T08:35:54.096Z"
   },
   {
    "duration": 2809,
    "start_time": "2021-07-28T08:36:53.006Z"
   },
   {
    "duration": 306,
    "start_time": "2021-07-28T08:37:15.321Z"
   },
   {
    "duration": 12,
    "start_time": "2021-07-28T08:37:32.096Z"
   },
   {
    "duration": 19,
    "start_time": "2021-07-28T08:37:58.471Z"
   },
   {
    "duration": 19,
    "start_time": "2021-07-28T08:38:52.559Z"
   },
   {
    "duration": 319,
    "start_time": "2021-07-28T08:38:57.871Z"
   },
   {
    "duration": 19,
    "start_time": "2021-07-28T08:39:34.318Z"
   },
   {
    "duration": 13,
    "start_time": "2021-07-28T08:40:18.501Z"
   },
   {
    "duration": 287,
    "start_time": "2021-07-28T08:40:32.972Z"
   },
   {
    "duration": 12,
    "start_time": "2021-07-28T08:41:06.239Z"
   },
   {
    "duration": 2952,
    "start_time": "2021-07-28T08:41:50.772Z"
   },
   {
    "duration": 298,
    "start_time": "2021-07-28T08:42:15.259Z"
   },
   {
    "duration": 13,
    "start_time": "2021-07-28T08:42:32.852Z"
   },
   {
    "duration": 343,
    "start_time": "2021-07-28T08:43:53.652Z"
   },
   {
    "duration": 13,
    "start_time": "2021-07-28T08:43:57.178Z"
   },
   {
    "duration": 288,
    "start_time": "2021-07-28T08:44:26.298Z"
   },
   {
    "duration": 549,
    "start_time": "2021-07-28T08:44:40.515Z"
   },
   {
    "duration": 12,
    "start_time": "2021-07-28T08:45:20.444Z"
   },
   {
    "duration": 13,
    "start_time": "2021-07-28T08:45:36.146Z"
   },
   {
    "duration": 12,
    "start_time": "2021-07-28T08:45:48.186Z"
   },
   {
    "duration": 13,
    "start_time": "2021-07-28T08:46:04.856Z"
   },
   {
    "duration": 15,
    "start_time": "2021-07-28T08:46:10.178Z"
   },
   {
    "duration": 236,
    "start_time": "2021-07-28T08:47:01.665Z"
   },
   {
    "duration": 314,
    "start_time": "2021-07-28T08:47:33.416Z"
   },
   {
    "duration": 310,
    "start_time": "2021-07-28T08:50:01.423Z"
   },
   {
    "duration": 14,
    "start_time": "2021-07-28T08:55:51.463Z"
   },
   {
    "duration": 12,
    "start_time": "2021-07-28T08:56:32.451Z"
   },
   {
    "duration": 13,
    "start_time": "2021-07-28T08:56:39.546Z"
   },
   {
    "duration": 13,
    "start_time": "2021-07-28T08:56:46.387Z"
   },
   {
    "duration": 12,
    "start_time": "2021-07-28T08:56:50.068Z"
   },
   {
    "duration": 13,
    "start_time": "2021-07-28T09:02:19.397Z"
   },
   {
    "duration": 12,
    "start_time": "2021-07-28T09:02:26.608Z"
   },
   {
    "duration": 13,
    "start_time": "2021-07-28T09:02:32.704Z"
   },
   {
    "duration": 322,
    "start_time": "2021-07-28T09:04:40.957Z"
   },
   {
    "duration": 11,
    "start_time": "2021-07-28T09:05:02.606Z"
   },
   {
    "duration": 12,
    "start_time": "2021-07-28T09:05:03.381Z"
   },
   {
    "duration": 575,
    "start_time": "2021-07-28T09:05:08.662Z"
   },
   {
    "duration": 13,
    "start_time": "2021-07-28T09:06:08.725Z"
   },
   {
    "duration": 13,
    "start_time": "2021-07-28T09:06:09.317Z"
   },
   {
    "duration": 5,
    "start_time": "2021-07-28T09:07:02.733Z"
   },
   {
    "duration": 3,
    "start_time": "2021-07-28T09:07:10.076Z"
   },
   {
    "duration": 348,
    "start_time": "2021-07-28T09:07:12.912Z"
   },
   {
    "duration": 5,
    "start_time": "2021-07-28T09:07:16.516Z"
   },
   {
    "duration": 318,
    "start_time": "2021-07-28T09:08:16.309Z"
   },
   {
    "duration": 256,
    "start_time": "2021-07-28T09:08:21.773Z"
   },
   {
    "duration": 89,
    "start_time": "2021-07-28T09:08:39.069Z"
   },
   {
    "duration": 277,
    "start_time": "2021-07-28T09:09:08.860Z"
   },
   {
    "duration": 73,
    "start_time": "2021-07-28T09:09:38.444Z"
   },
   {
    "duration": 73,
    "start_time": "2021-07-28T09:09:50.268Z"
   },
   {
    "duration": 268,
    "start_time": "2021-07-28T09:10:08.659Z"
   },
   {
    "duration": 67,
    "start_time": "2021-07-28T09:10:11.099Z"
   },
   {
    "duration": 5,
    "start_time": "2021-07-28T09:10:11.546Z"
   },
   {
    "duration": 66,
    "start_time": "2021-07-28T09:10:39.673Z"
   },
   {
    "duration": 5,
    "start_time": "2021-07-28T09:10:40.266Z"
   },
   {
    "duration": 67,
    "start_time": "2021-07-28T09:11:17.388Z"
   },
   {
    "duration": 3077,
    "start_time": "2021-07-28T09:11:30.730Z"
   },
   {
    "duration": 332,
    "start_time": "2021-07-28T09:11:48.210Z"
   },
   {
    "duration": 66,
    "start_time": "2021-07-28T09:13:24.088Z"
   },
   {
    "duration": 318,
    "start_time": "2021-07-28T09:13:29.617Z"
   },
   {
    "duration": 86,
    "start_time": "2021-07-28T09:31:53.556Z"
   },
   {
    "duration": 331,
    "start_time": "2021-07-28T09:31:57.046Z"
   },
   {
    "duration": 585,
    "start_time": "2021-07-28T09:32:07.710Z"
   },
   {
    "duration": 352,
    "start_time": "2021-07-28T09:32:24.085Z"
   },
   {
    "duration": 13,
    "start_time": "2021-07-28T09:33:14.662Z"
   },
   {
    "duration": 13,
    "start_time": "2021-07-28T09:33:28.653Z"
   },
   {
    "duration": 13,
    "start_time": "2021-07-28T09:33:40.077Z"
   },
   {
    "duration": 453,
    "start_time": "2021-07-28T09:34:14.517Z"
   },
   {
    "duration": 13,
    "start_time": "2021-07-28T09:34:16.853Z"
   },
   {
    "duration": 13,
    "start_time": "2021-07-28T09:35:12.028Z"
   },
   {
    "duration": 318,
    "start_time": "2021-07-28T09:35:31.036Z"
   },
   {
    "duration": 1980,
    "start_time": "2021-07-28T09:36:23.741Z"
   },
   {
    "duration": 974,
    "start_time": "2021-07-28T09:36:38.707Z"
   },
   {
    "duration": 336,
    "start_time": "2021-07-28T09:37:08.181Z"
   },
   {
    "duration": 14,
    "start_time": "2021-07-28T09:37:35.530Z"
   },
   {
    "duration": 12,
    "start_time": "2021-07-28T09:37:42.091Z"
   },
   {
    "duration": 12,
    "start_time": "2021-07-28T09:38:30.083Z"
   },
   {
    "duration": 10,
    "start_time": "2021-07-28T09:38:40.219Z"
   },
   {
    "duration": 13,
    "start_time": "2021-07-28T09:39:25.762Z"
   },
   {
    "duration": 13,
    "start_time": "2021-07-28T09:39:38.160Z"
   },
   {
    "duration": 13,
    "start_time": "2021-07-28T09:39:41.609Z"
   },
   {
    "duration": 14,
    "start_time": "2021-07-28T09:40:09.946Z"
   },
   {
    "duration": 407,
    "start_time": "2021-07-28T09:40:36.602Z"
   },
   {
    "duration": 402,
    "start_time": "2021-07-28T09:40:54.257Z"
   },
   {
    "duration": 13,
    "start_time": "2021-07-28T09:41:06.448Z"
   },
   {
    "duration": 13,
    "start_time": "2021-07-28T09:41:11.911Z"
   },
   {
    "duration": 846,
    "start_time": "2021-07-28T09:41:25.879Z"
   },
   {
    "duration": 1868,
    "start_time": "2021-07-28T09:41:34.789Z"
   },
   {
    "duration": 953,
    "start_time": "2021-07-28T09:41:59.503Z"
   },
   {
    "duration": 11,
    "start_time": "2021-07-28T09:42:18.945Z"
   },
   {
    "duration": 11,
    "start_time": "2021-07-28T09:42:22.000Z"
   },
   {
    "duration": 12,
    "start_time": "2021-07-28T09:42:24.534Z"
   },
   {
    "duration": 11,
    "start_time": "2021-07-28T09:42:33.448Z"
   },
   {
    "duration": 20,
    "start_time": "2021-07-28T09:42:56.062Z"
   },
   {
    "duration": 13,
    "start_time": "2021-07-28T09:43:12.081Z"
   },
   {
    "duration": 905,
    "start_time": "2021-07-28T09:45:17.094Z"
   },
   {
    "duration": 882,
    "start_time": "2021-07-28T09:45:33.518Z"
   },
   {
    "duration": 104,
    "start_time": "2021-07-28T09:46:52.964Z"
   },
   {
    "duration": 21,
    "start_time": "2021-07-28T09:47:11.796Z"
   },
   {
    "duration": 862,
    "start_time": "2021-07-28T09:50:17.467Z"
   },
   {
    "duration": 94,
    "start_time": "2021-07-28T09:57:53.518Z"
   },
   {
    "duration": 342,
    "start_time": "2021-07-28T09:58:15.677Z"
   },
   {
    "duration": 12,
    "start_time": "2021-07-28T09:58:18.525Z"
   },
   {
    "duration": 12,
    "start_time": "2021-07-28T09:59:34.636Z"
   },
   {
    "duration": 11,
    "start_time": "2021-07-28T10:00:22.492Z"
   },
   {
    "duration": 11,
    "start_time": "2021-07-28T10:00:37.020Z"
   },
   {
    "duration": 12,
    "start_time": "2021-07-28T10:04:27.101Z"
   },
   {
    "duration": 15,
    "start_time": "2021-07-28T10:04:49.456Z"
   },
   {
    "duration": 332,
    "start_time": "2021-07-28T10:06:28.082Z"
   },
   {
    "duration": 1643,
    "start_time": "2021-07-28T10:06:39.800Z"
   },
   {
    "duration": 7200,
    "start_time": "2021-07-28T10:06:56.112Z"
   },
   {
    "duration": 363,
    "start_time": "2021-07-28T10:07:14.097Z"
   },
   {
    "duration": 350,
    "start_time": "2021-07-28T10:07:27.114Z"
   },
   {
    "duration": 448,
    "start_time": "2021-07-28T10:07:41.073Z"
   },
   {
    "duration": 779,
    "start_time": "2021-07-28T10:07:48.937Z"
   },
   {
    "duration": 1013,
    "start_time": "2021-07-28T10:14:32.949Z"
   },
   {
    "duration": 499,
    "start_time": "2021-07-28T10:21:44.502Z"
   },
   {
    "duration": 65,
    "start_time": "2021-07-28T10:22:24.791Z"
   },
   {
    "duration": 65,
    "start_time": "2021-07-28T10:26:33.233Z"
   },
   {
    "duration": 1149,
    "start_time": "2021-07-28T10:27:00.100Z"
   },
   {
    "duration": 1162,
    "start_time": "2021-07-28T10:27:15.253Z"
   },
   {
    "duration": 1940,
    "start_time": "2021-07-28T10:27:59.292Z"
   },
   {
    "duration": 1163,
    "start_time": "2021-07-28T10:28:06.452Z"
   },
   {
    "duration": 706,
    "start_time": "2021-07-28T10:30:16.537Z"
   },
   {
    "duration": 681,
    "start_time": "2021-07-28T10:30:26.065Z"
   },
   {
    "duration": 463,
    "start_time": "2021-07-28T10:30:29.891Z"
   },
   {
    "duration": 435,
    "start_time": "2021-07-28T10:30:40.098Z"
   },
   {
    "duration": 580,
    "start_time": "2021-07-28T10:32:41.178Z"
   },
   {
    "duration": 794,
    "start_time": "2021-07-28T10:34:26.592Z"
   },
   {
    "duration": 468,
    "start_time": "2021-07-28T10:34:34.015Z"
   },
   {
    "duration": 419,
    "start_time": "2021-07-28T10:36:28.398Z"
   },
   {
    "duration": 405,
    "start_time": "2021-07-28T10:36:36.480Z"
   },
   {
    "duration": 7,
    "start_time": "2021-07-28T10:37:18.839Z"
   },
   {
    "duration": 18,
    "start_time": "2021-07-28T10:37:30.312Z"
   },
   {
    "duration": 269,
    "start_time": "2021-07-28T10:38:08.144Z"
   },
   {
    "duration": 12,
    "start_time": "2021-07-28T10:38:14.344Z"
   },
   {
    "duration": 11,
    "start_time": "2021-07-28T10:38:25.567Z"
   },
   {
    "duration": 8,
    "start_time": "2021-07-28T10:39:01.846Z"
   },
   {
    "duration": 16,
    "start_time": "2021-07-28T10:39:21.789Z"
   },
   {
    "duration": 416,
    "start_time": "2021-07-28T10:39:44.165Z"
   },
   {
    "duration": 399,
    "start_time": "2021-07-28T10:39:58.733Z"
   },
   {
    "duration": 894,
    "start_time": "2021-07-28T10:40:21.684Z"
   },
   {
    "duration": 887,
    "start_time": "2021-07-28T10:40:38.123Z"
   },
   {
    "duration": 1042,
    "start_time": "2021-07-28T10:40:51.734Z"
   },
   {
    "duration": 876,
    "start_time": "2021-07-28T10:41:09.645Z"
   },
   {
    "duration": 17,
    "start_time": "2021-07-28T10:41:35.860Z"
   },
   {
    "duration": 509,
    "start_time": "2021-07-28T10:42:53.427Z"
   },
   {
    "duration": 113,
    "start_time": "2021-07-28T10:44:31.572Z"
   },
   {
    "duration": 12,
    "start_time": "2021-07-28T10:44:38.466Z"
   },
   {
    "duration": 12,
    "start_time": "2021-07-28T10:44:46.137Z"
   },
   {
    "duration": 430,
    "start_time": "2021-07-28T10:44:50.691Z"
   },
   {
    "duration": 26,
    "start_time": "2021-07-28T10:44:58.242Z"
   },
   {
    "duration": 453,
    "start_time": "2021-07-28T10:50:18.826Z"
   },
   {
    "duration": 619,
    "start_time": "2021-07-28T11:37:22.983Z"
   },
   {
    "duration": 504,
    "start_time": "2021-07-28T11:37:27.377Z"
   },
   {
    "duration": 309,
    "start_time": "2021-07-28T11:41:41.800Z"
   },
   {
    "duration": 12,
    "start_time": "2021-07-28T11:41:45.143Z"
   },
   {
    "duration": 311,
    "start_time": "2021-07-28T11:47:00.874Z"
   },
   {
    "duration": 19,
    "start_time": "2021-07-28T11:47:06.906Z"
   },
   {
    "duration": 7,
    "start_time": "2021-07-28T11:47:08.418Z"
   },
   {
    "duration": 16,
    "start_time": "2021-07-28T11:48:24.026Z"
   },
   {
    "duration": 7,
    "start_time": "2021-07-28T11:48:24.753Z"
   },
   {
    "duration": 488,
    "start_time": "2021-07-28T11:54:09.656Z"
   },
   {
    "duration": 53,
    "start_time": "2021-07-28T11:54:30.119Z"
   },
   {
    "duration": 70,
    "start_time": "2021-07-28T11:56:02.637Z"
   },
   {
    "duration": 84,
    "start_time": "2021-07-28T11:57:03.605Z"
   },
   {
    "duration": 73,
    "start_time": "2021-07-28T11:57:46.132Z"
   },
   {
    "duration": 319,
    "start_time": "2021-07-28T12:01:06.612Z"
   },
   {
    "duration": 77,
    "start_time": "2021-07-28T12:01:24.428Z"
   },
   {
    "duration": 22,
    "start_time": "2021-07-28T12:01:25.371Z"
   },
   {
    "duration": 19,
    "start_time": "2021-07-28T12:02:49.869Z"
   },
   {
    "duration": 395,
    "start_time": "2021-07-28T12:06:19.218Z"
   },
   {
    "duration": 1171,
    "start_time": "2021-07-28T12:06:35.594Z"
   },
   {
    "duration": 2187,
    "start_time": "2021-07-28T12:06:36.768Z"
   },
   {
    "duration": 31,
    "start_time": "2021-07-28T12:06:38.958Z"
   },
   {
    "duration": 220,
    "start_time": "2021-07-28T12:06:38.992Z"
   },
   {
    "duration": 290,
    "start_time": "2021-07-28T12:06:39.224Z"
   },
   {
    "duration": 309,
    "start_time": "2021-07-28T12:06:39.523Z"
   },
   {
    "duration": 139,
    "start_time": "2021-07-28T12:06:39.834Z"
   },
   {
    "duration": 143,
    "start_time": "2021-07-28T12:06:39.976Z"
   },
   {
    "duration": 68,
    "start_time": "2021-07-28T12:06:40.123Z"
   },
   {
    "duration": 65,
    "start_time": "2021-07-28T12:06:40.194Z"
   },
   {
    "duration": 1108,
    "start_time": "2021-07-28T12:06:40.262Z"
   },
   {
    "duration": 1093,
    "start_time": "2021-07-28T12:06:41.373Z"
   },
   {
    "duration": 87,
    "start_time": "2021-07-28T12:06:42.468Z"
   },
   {
    "duration": 340,
    "start_time": "2021-07-28T12:06:42.558Z"
   },
   {
    "duration": 14,
    "start_time": "2021-07-28T12:06:42.900Z"
   },
   {
    "duration": 24,
    "start_time": "2021-07-28T12:06:42.916Z"
   },
   {
    "duration": 93,
    "start_time": "2021-07-28T12:06:42.942Z"
   },
   {
    "duration": 350,
    "start_time": "2021-07-28T12:06:43.038Z"
   },
   {
    "duration": 360,
    "start_time": "2021-07-28T12:06:43.391Z"
   },
   {
    "duration": 921,
    "start_time": "2021-07-28T12:06:43.755Z"
   },
   {
    "duration": 86,
    "start_time": "2021-07-28T12:06:44.679Z"
   },
   {
    "duration": 970,
    "start_time": "2021-07-28T12:06:44.768Z"
   },
   {
    "duration": 73,
    "start_time": "2021-07-28T12:06:45.743Z"
   },
   {
    "duration": 78,
    "start_time": "2021-07-28T12:06:45.819Z"
   },
   {
    "duration": 503,
    "start_time": "2021-07-28T12:06:45.900Z"
   },
   {
    "duration": 426,
    "start_time": "2021-07-28T12:06:46.405Z"
   },
   {
    "duration": 22,
    "start_time": "2021-07-28T12:06:46.833Z"
   },
   {
    "duration": 414,
    "start_time": "2021-07-28T12:06:46.858Z"
   },
   {
    "duration": 367,
    "start_time": "2021-07-28T12:06:47.275Z"
   },
   {
    "duration": 111,
    "start_time": "2021-07-28T12:06:47.645Z"
   },
   {
    "duration": 19,
    "start_time": "2021-07-28T12:06:47.758Z"
   },
   {
    "duration": 15,
    "start_time": "2021-07-28T12:06:47.779Z"
   },
   {
    "duration": 5,
    "start_time": "2021-07-28T12:06:47.797Z"
   },
   {
    "duration": 436,
    "start_time": "2021-07-28T12:06:47.804Z"
   },
   {
    "duration": 441,
    "start_time": "2021-07-28T12:06:48.243Z"
   },
   {
    "duration": 93,
    "start_time": "2021-07-28T12:06:48.686Z"
   },
   {
    "duration": 48,
    "start_time": "2021-07-28T12:06:48.782Z"
   },
   {
    "duration": 287,
    "start_time": "2021-07-28T12:06:48.832Z"
   },
   {
    "duration": 557,
    "start_time": "2021-07-28T12:07:22.764Z"
   },
   {
    "duration": 217,
    "start_time": "2021-07-28T12:07:52.877Z"
   },
   {
    "duration": 1215,
    "start_time": "2021-07-28T12:08:38.452Z"
   },
   {
    "duration": 1857,
    "start_time": "2021-07-28T12:08:39.669Z"
   },
   {
    "duration": 40,
    "start_time": "2021-07-28T12:08:41.529Z"
   },
   {
    "duration": 169,
    "start_time": "2021-07-28T12:08:41.571Z"
   },
   {
    "duration": 163,
    "start_time": "2021-07-28T12:08:41.742Z"
   },
   {
    "duration": 233,
    "start_time": "2021-07-28T12:08:41.908Z"
   },
   {
    "duration": 146,
    "start_time": "2021-07-28T12:08:42.143Z"
   },
   {
    "duration": 143,
    "start_time": "2021-07-28T12:08:42.292Z"
   },
   {
    "duration": 62,
    "start_time": "2021-07-28T12:08:42.438Z"
   },
   {
    "duration": 70,
    "start_time": "2021-07-28T12:08:42.502Z"
   },
   {
    "duration": 1065,
    "start_time": "2021-07-28T12:08:42.574Z"
   },
   {
    "duration": 1172,
    "start_time": "2021-07-28T12:08:43.641Z"
   },
   {
    "duration": 81,
    "start_time": "2021-07-28T12:08:44.815Z"
   },
   {
    "duration": 337,
    "start_time": "2021-07-28T12:08:44.899Z"
   },
   {
    "duration": 18,
    "start_time": "2021-07-28T12:08:45.239Z"
   },
   {
    "duration": 15,
    "start_time": "2021-07-28T12:08:45.260Z"
   },
   {
    "duration": 124,
    "start_time": "2021-07-28T12:08:45.278Z"
   },
   {
    "duration": 330,
    "start_time": "2021-07-28T12:08:45.405Z"
   },
   {
    "duration": 349,
    "start_time": "2021-07-28T12:08:45.738Z"
   },
   {
    "duration": 919,
    "start_time": "2021-07-28T12:08:46.090Z"
   },
   {
    "duration": 85,
    "start_time": "2021-07-28T12:08:47.012Z"
   },
   {
    "duration": 937,
    "start_time": "2021-07-28T12:08:47.099Z"
   },
   {
    "duration": 73,
    "start_time": "2021-07-28T12:08:48.040Z"
   },
   {
    "duration": 76,
    "start_time": "2021-07-28T12:08:48.116Z"
   },
   {
    "duration": 513,
    "start_time": "2021-07-28T12:08:48.195Z"
   },
   {
    "duration": 523,
    "start_time": "2021-07-28T12:08:48.711Z"
   },
   {
    "duration": 24,
    "start_time": "2021-07-28T12:08:49.237Z"
   },
   {
    "duration": 411,
    "start_time": "2021-07-28T12:08:49.263Z"
   },
   {
    "duration": 355,
    "start_time": "2021-07-28T12:08:49.678Z"
   },
   {
    "duration": 119,
    "start_time": "2021-07-28T12:08:50.036Z"
   },
   {
    "duration": 19,
    "start_time": "2021-07-28T12:08:50.158Z"
   },
   {
    "duration": 16,
    "start_time": "2021-07-28T12:08:50.180Z"
   },
   {
    "duration": 6,
    "start_time": "2021-07-28T12:08:50.199Z"
   },
   {
    "duration": 436,
    "start_time": "2021-07-28T12:08:50.207Z"
   },
   {
    "duration": 445,
    "start_time": "2021-07-28T12:08:50.646Z"
   },
   {
    "duration": 83,
    "start_time": "2021-07-28T12:08:51.094Z"
   },
   {
    "duration": 48,
    "start_time": "2021-07-28T12:08:51.180Z"
   },
   {
    "duration": 289,
    "start_time": "2021-07-28T12:08:51.231Z"
   },
   {
    "duration": 191,
    "start_time": "2021-07-28T12:09:26.408Z"
   },
   {
    "duration": 182,
    "start_time": "2021-07-28T12:11:44.764Z"
   },
   {
    "duration": 25,
    "start_time": "2021-07-28T12:12:22.566Z"
   },
   {
    "duration": 26,
    "start_time": "2021-07-28T12:13:51.428Z"
   },
   {
    "duration": 25,
    "start_time": "2021-07-28T12:13:55.691Z"
   },
   {
    "duration": 7061,
    "start_time": "2021-07-28T12:16:37.690Z"
   },
   {
    "duration": 26,
    "start_time": "2021-07-28T12:16:57.674Z"
   },
   {
    "duration": 250,
    "start_time": "2021-07-28T12:17:03.923Z"
   },
   {
    "duration": 12,
    "start_time": "2021-07-28T12:17:09.033Z"
   },
   {
    "duration": 11,
    "start_time": "2021-07-28T12:17:26.154Z"
   },
   {
    "duration": 11,
    "start_time": "2021-07-28T12:17:33.034Z"
   },
   {
    "duration": 10,
    "start_time": "2021-07-28T12:17:37.298Z"
   },
   {
    "duration": 14,
    "start_time": "2021-07-28T12:17:52.266Z"
   },
   {
    "duration": 27,
    "start_time": "2021-07-28T12:18:01.810Z"
   },
   {
    "duration": 15,
    "start_time": "2021-07-28T12:18:05.794Z"
   },
   {
    "duration": 15,
    "start_time": "2021-07-28T12:18:12.874Z"
   },
   {
    "duration": 12,
    "start_time": "2021-07-28T12:18:37.986Z"
   },
   {
    "duration": 11,
    "start_time": "2021-07-28T12:18:44.992Z"
   },
   {
    "duration": 26,
    "start_time": "2021-07-28T12:19:12.744Z"
   },
   {
    "duration": 976,
    "start_time": "2021-07-28T12:19:49.745Z"
   },
   {
    "duration": 503,
    "start_time": "2021-07-28T12:19:58.681Z"
   },
   {
    "duration": 362,
    "start_time": "2021-07-28T12:20:07.914Z"
   },
   {
    "duration": 14,
    "start_time": "2021-07-28T12:20:36.761Z"
   },
   {
    "duration": 14,
    "start_time": "2021-07-28T12:20:44.850Z"
   },
   {
    "duration": 482,
    "start_time": "2021-07-28T12:20:56.247Z"
   },
   {
    "duration": 483,
    "start_time": "2021-07-28T12:21:41.759Z"
   },
   {
    "duration": 722,
    "start_time": "2021-07-28T12:22:56.910Z"
   },
   {
    "duration": 423,
    "start_time": "2021-07-28T12:23:32.093Z"
   },
   {
    "duration": 722,
    "start_time": "2021-07-28T12:23:41.509Z"
   },
   {
    "duration": 95,
    "start_time": "2021-07-28T12:24:15.125Z"
   },
   {
    "duration": 752,
    "start_time": "2021-07-28T12:24:19.677Z"
   },
   {
    "duration": 642,
    "start_time": "2021-07-28T12:24:30.558Z"
   },
   {
    "duration": 746,
    "start_time": "2021-07-28T12:24:41.293Z"
   },
   {
    "duration": 641,
    "start_time": "2021-07-28T12:24:48.446Z"
   },
   {
    "duration": 761,
    "start_time": "2021-07-28T12:25:26.149Z"
   },
   {
    "duration": 742,
    "start_time": "2021-07-28T12:25:37.532Z"
   },
   {
    "duration": 720,
    "start_time": "2021-07-28T12:25:48.854Z"
   },
   {
    "duration": 278,
    "start_time": "2021-07-28T12:27:31.393Z"
   },
   {
    "duration": 269,
    "start_time": "2021-07-28T12:30:17.329Z"
   },
   {
    "duration": 29,
    "start_time": "2021-07-28T12:30:32.370Z"
   },
   {
    "duration": 309,
    "start_time": "2021-07-28T12:30:51.083Z"
   },
   {
    "duration": 772,
    "start_time": "2021-07-28T12:31:30.337Z"
   },
   {
    "duration": 253,
    "start_time": "2021-07-28T12:31:35.041Z"
   },
   {
    "duration": 609,
    "start_time": "2021-07-28T12:31:58.208Z"
   },
   {
    "duration": 23,
    "start_time": "2021-07-28T12:31:59.944Z"
   },
   {
    "duration": 23,
    "start_time": "2021-07-28T12:32:27.833Z"
   },
   {
    "duration": 23,
    "start_time": "2021-07-28T12:32:49.614Z"
   },
   {
    "duration": 23,
    "start_time": "2021-07-28T12:32:50.999Z"
   },
   {
    "duration": 19,
    "start_time": "2021-07-28T12:35:07.534Z"
   },
   {
    "duration": 19,
    "start_time": "2021-07-28T12:35:07.942Z"
   },
   {
    "duration": 48,
    "start_time": "2021-07-28T13:12:37.342Z"
   },
   {
    "duration": 45,
    "start_time": "2021-07-28T13:13:22.640Z"
   },
   {
    "duration": 47,
    "start_time": "2021-07-28T13:13:40.687Z"
   },
   {
    "duration": 86,
    "start_time": "2021-07-28T13:15:29.039Z"
   },
   {
    "duration": 99,
    "start_time": "2021-07-28T13:15:37.695Z"
   },
   {
    "duration": 6,
    "start_time": "2021-07-28T13:15:47.231Z"
   },
   {
    "duration": 271,
    "start_time": "2021-07-28T13:15:50.943Z"
   },
   {
    "duration": 221,
    "start_time": "2021-07-28T13:16:45.623Z"
   },
   {
    "duration": 218,
    "start_time": "2021-07-28T13:16:55.908Z"
   },
   {
    "duration": 22,
    "start_time": "2021-07-28T13:18:20.612Z"
   },
   {
    "duration": 46,
    "start_time": "2021-07-28T13:18:28.693Z"
   },
   {
    "duration": 288,
    "start_time": "2021-07-28T13:18:58.015Z"
   },
   {
    "duration": 69,
    "start_time": "2021-07-28T13:19:07.531Z"
   },
   {
    "duration": 6,
    "start_time": "2021-07-28T13:20:37.619Z"
   },
   {
    "duration": 229,
    "start_time": "2021-07-28T13:20:40.794Z"
   },
   {
    "duration": 217,
    "start_time": "2021-07-28T13:20:59.223Z"
   },
   {
    "duration": 46,
    "start_time": "2021-07-28T13:21:11.012Z"
   },
   {
    "duration": 47,
    "start_time": "2021-07-28T13:21:26.259Z"
   },
   {
    "duration": 6753,
    "start_time": "2021-07-28T13:22:10.635Z"
   },
   {
    "duration": 51,
    "start_time": "2021-07-28T13:23:11.162Z"
   },
   {
    "duration": 91,
    "start_time": "2021-07-28T13:23:59.793Z"
   },
   {
    "duration": 58,
    "start_time": "2021-07-28T13:24:41.148Z"
   },
   {
    "duration": 45,
    "start_time": "2021-07-28T13:24:58.024Z"
   },
   {
    "duration": 59,
    "start_time": "2021-07-28T13:25:00.529Z"
   },
   {
    "duration": 85,
    "start_time": "2021-07-28T13:25:16.699Z"
   },
   {
    "duration": 318,
    "start_time": "2021-07-28T13:25:23.482Z"
   },
   {
    "duration": 58,
    "start_time": "2021-07-28T13:25:33.039Z"
   },
   {
    "duration": 85,
    "start_time": "2021-07-28T13:25:43.601Z"
   },
   {
    "duration": 60,
    "start_time": "2021-07-28T13:25:58.019Z"
   },
   {
    "duration": 59,
    "start_time": "2021-07-28T13:26:20.735Z"
   },
   {
    "duration": 253,
    "start_time": "2021-07-28T13:27:38.854Z"
   },
   {
    "duration": 241,
    "start_time": "2021-07-28T13:28:04.274Z"
   },
   {
    "duration": 46,
    "start_time": "2021-07-28T13:28:26.343Z"
   },
   {
    "duration": 271,
    "start_time": "2021-07-28T13:28:32.094Z"
   },
   {
    "duration": 46,
    "start_time": "2021-07-28T13:28:37.913Z"
   },
   {
    "duration": 54,
    "start_time": "2021-07-28T13:29:16.919Z"
   },
   {
    "duration": 63,
    "start_time": "2021-07-28T13:33:19.300Z"
   },
   {
    "duration": 361,
    "start_time": "2021-07-28T13:33:36.980Z"
   },
   {
    "duration": 380,
    "start_time": "2021-07-28T13:33:41.795Z"
   },
   {
    "duration": 6637,
    "start_time": "2021-07-28T13:33:56.595Z"
   },
   {
    "duration": 261,
    "start_time": "2021-07-28T13:34:05.347Z"
   },
   {
    "duration": 232,
    "start_time": "2021-07-28T13:35:11.498Z"
   },
   {
    "duration": 220,
    "start_time": "2021-07-28T13:35:36.659Z"
   },
   {
    "duration": 6,
    "start_time": "2021-07-28T13:35:50.554Z"
   },
   {
    "duration": 56,
    "start_time": "2021-07-28T13:36:00.761Z"
   },
   {
    "duration": 7,
    "start_time": "2021-07-28T13:36:07.714Z"
   },
   {
    "duration": 11,
    "start_time": "2021-07-28T13:36:15.219Z"
   },
   {
    "duration": 6,
    "start_time": "2021-07-28T13:36:18.946Z"
   },
   {
    "duration": 208,
    "start_time": "2021-07-28T13:36:23.801Z"
   },
   {
    "duration": 221,
    "start_time": "2021-07-28T13:36:44.969Z"
   },
   {
    "duration": 213,
    "start_time": "2021-07-28T13:37:22.153Z"
   },
   {
    "duration": 211,
    "start_time": "2021-07-28T13:37:26.818Z"
   },
   {
    "duration": 251,
    "start_time": "2021-07-28T13:38:56.240Z"
   },
   {
    "duration": 661,
    "start_time": "2021-07-28T13:40:04.767Z"
   },
   {
    "duration": 244,
    "start_time": "2021-07-28T13:40:15.206Z"
   },
   {
    "duration": 265,
    "start_time": "2021-07-28T13:40:26.974Z"
   },
   {
    "duration": 235,
    "start_time": "2021-07-28T13:40:27.462Z"
   },
   {
    "duration": 29,
    "start_time": "2021-07-28T13:41:24.077Z"
   },
   {
    "duration": 16,
    "start_time": "2021-07-28T13:41:47.945Z"
   },
   {
    "duration": 16,
    "start_time": "2021-07-28T13:41:56.245Z"
   },
   {
    "duration": 42,
    "start_time": "2021-07-28T13:42:07.222Z"
   },
   {
    "duration": 30,
    "start_time": "2021-07-28T13:42:13.399Z"
   },
   {
    "duration": 28,
    "start_time": "2021-07-28T13:43:14.671Z"
   },
   {
    "duration": 6229,
    "start_time": "2021-07-28T13:44:20.057Z"
   },
   {
    "duration": 27,
    "start_time": "2021-07-28T13:44:33.052Z"
   },
   {
    "duration": 511,
    "start_time": "2021-07-28T13:46:00.509Z"
   },
   {
    "duration": 249,
    "start_time": "2021-07-28T13:46:15.893Z"
   },
   {
    "duration": 250,
    "start_time": "2021-07-28T13:46:40.820Z"
   },
   {
    "duration": 254,
    "start_time": "2021-07-28T13:51:08.931Z"
   },
   {
    "duration": 480,
    "start_time": "2021-07-28T13:52:19.216Z"
   },
   {
    "duration": 254,
    "start_time": "2021-07-28T13:52:29.609Z"
   },
   {
    "duration": 253,
    "start_time": "2021-07-28T13:52:35.022Z"
   },
   {
    "duration": 523,
    "start_time": "2021-07-28T13:52:42.104Z"
   },
   {
    "duration": 7182,
    "start_time": "2021-07-28T13:52:45.527Z"
   },
   {
    "duration": 250,
    "start_time": "2021-07-28T13:52:54.585Z"
   },
   {
    "duration": 262,
    "start_time": "2021-07-28T13:53:02.544Z"
   },
   {
    "duration": 246,
    "start_time": "2021-07-28T13:53:10.446Z"
   },
   {
    "duration": 534,
    "start_time": "2021-07-28T13:53:35.175Z"
   },
   {
    "duration": 251,
    "start_time": "2021-07-28T13:53:41.696Z"
   },
   {
    "duration": 615,
    "start_time": "2021-07-28T13:53:56.249Z"
   },
   {
    "duration": 246,
    "start_time": "2021-07-28T13:54:00.067Z"
   },
   {
    "duration": 248,
    "start_time": "2021-07-28T13:55:19.694Z"
   },
   {
    "duration": 284,
    "start_time": "2021-07-28T13:55:24.014Z"
   },
   {
    "duration": 256,
    "start_time": "2021-07-28T13:55:30.181Z"
   },
   {
    "duration": 5717,
    "start_time": "2021-07-28T13:56:47.621Z"
   },
   {
    "duration": 104,
    "start_time": "2021-07-28T13:56:57.842Z"
   },
   {
    "duration": 387,
    "start_time": "2021-07-28T13:57:01.968Z"
   },
   {
    "duration": 93,
    "start_time": "2021-07-28T13:57:12.798Z"
   },
   {
    "duration": 85,
    "start_time": "2021-07-28T13:57:23.606Z"
   },
   {
    "duration": -297,
    "start_time": "2021-07-28T13:58:13.473Z"
   },
   {
    "duration": 257,
    "start_time": "2021-07-28T13:58:28.611Z"
   },
   {
    "duration": 247,
    "start_time": "2021-07-28T13:59:10.703Z"
   },
   {
    "duration": 251,
    "start_time": "2021-07-28T13:59:26.933Z"
   },
   {
    "duration": 4880,
    "start_time": "2021-07-28T14:00:11.284Z"
   },
   {
    "duration": 251,
    "start_time": "2021-07-28T14:00:17.283Z"
   },
   {
    "duration": 296,
    "start_time": "2021-07-28T14:00:28.611Z"
   },
   {
    "duration": 6953,
    "start_time": "2021-07-28T14:00:59.914Z"
   },
   {
    "duration": 19,
    "start_time": "2021-07-28T14:01:28.037Z"
   },
   {
    "duration": 9,
    "start_time": "2021-07-28T14:02:02.866Z"
   },
   {
    "duration": 252,
    "start_time": "2021-07-28T14:02:17.187Z"
   },
   {
    "duration": 8,
    "start_time": "2021-07-28T14:02:22.698Z"
   },
   {
    "duration": 248,
    "start_time": "2021-07-28T14:04:00.009Z"
   },
   {
    "duration": 345,
    "start_time": "2021-07-28T14:04:20.528Z"
   },
   {
    "duration": 256,
    "start_time": "2021-07-28T14:04:28.799Z"
   },
   {
    "duration": 260,
    "start_time": "2021-07-28T14:09:58.238Z"
   },
   {
    "duration": 248,
    "start_time": "2021-07-28T14:10:02.397Z"
   },
   {
    "duration": 246,
    "start_time": "2021-07-28T14:10:47.412Z"
   },
   {
    "duration": 574,
    "start_time": "2021-07-28T14:11:30.829Z"
   },
   {
    "duration": 494,
    "start_time": "2021-07-28T14:11:40.188Z"
   },
   {
    "duration": 96,
    "start_time": "2021-07-28T14:11:48.519Z"
   },
   {
    "duration": 88,
    "start_time": "2021-07-28T14:11:53.831Z"
   },
   {
    "duration": 92,
    "start_time": "2021-07-28T14:11:57.636Z"
   },
   {
    "duration": 249,
    "start_time": "2021-07-28T14:12:04.995Z"
   },
   {
    "duration": 280,
    "start_time": "2021-07-28T14:13:01.056Z"
   },
   {
    "duration": 245,
    "start_time": "2021-07-28T14:13:11.348Z"
   },
   {
    "duration": 251,
    "start_time": "2021-07-28T14:13:43.021Z"
   },
   {
    "duration": 248,
    "start_time": "2021-07-28T14:48:41.917Z"
   },
   {
    "duration": 244,
    "start_time": "2021-07-28T14:50:04.403Z"
   },
   {
    "duration": 248,
    "start_time": "2021-07-28T14:50:25.611Z"
   },
   {
    "duration": 7,
    "start_time": "2021-07-28T14:50:54.875Z"
   },
   {
    "duration": 290,
    "start_time": "2021-07-28T14:51:04.922Z"
   },
   {
    "duration": 252,
    "start_time": "2021-07-28T14:51:16.517Z"
   },
   {
    "duration": 7,
    "start_time": "2021-07-28T14:51:17.781Z"
   },
   {
    "duration": 263,
    "start_time": "2021-07-28T14:51:38.859Z"
   },
   {
    "duration": 245,
    "start_time": "2021-07-28T14:51:42.155Z"
   },
   {
    "duration": 7,
    "start_time": "2021-07-28T14:51:42.714Z"
   },
   {
    "duration": 320,
    "start_time": "2021-07-28T14:51:56.346Z"
   },
   {
    "duration": 310,
    "start_time": "2021-07-28T14:52:27.875Z"
   },
   {
    "duration": 247,
    "start_time": "2021-07-28T14:52:29.922Z"
   },
   {
    "duration": 8,
    "start_time": "2021-07-28T14:52:30.658Z"
   },
   {
    "duration": 6,
    "start_time": "2021-07-28T14:52:35.018Z"
   },
   {
    "duration": 238,
    "start_time": "2021-07-28T14:53:32.953Z"
   },
   {
    "duration": 8,
    "start_time": "2021-07-28T14:53:33.777Z"
   },
   {
    "duration": 6,
    "start_time": "2021-07-28T14:53:35.113Z"
   },
   {
    "duration": 232,
    "start_time": "2021-07-28T14:53:56.330Z"
   },
   {
    "duration": 39,
    "start_time": "2021-07-28T14:58:43.299Z"
   },
   {
    "duration": 186,
    "start_time": "2021-07-28T14:58:48.342Z"
   },
   {
    "duration": 40,
    "start_time": "2021-07-28T14:58:49.622Z"
   },
   {
    "duration": 192,
    "start_time": "2021-07-28T14:58:50.869Z"
   },
   {
    "duration": 7,
    "start_time": "2021-07-28T14:58:52.750Z"
   },
   {
    "duration": 40,
    "start_time": "2021-07-28T14:59:05.493Z"
   },
   {
    "duration": 41,
    "start_time": "2021-07-28T14:59:24.558Z"
   },
   {
    "duration": 320,
    "start_time": "2021-07-28T15:01:12.564Z"
   },
   {
    "duration": 188,
    "start_time": "2021-07-28T15:05:32.175Z"
   },
   {
    "duration": 192,
    "start_time": "2021-07-28T15:08:36.112Z"
   },
   {
    "duration": 59,
    "start_time": "2021-07-28T15:12:29.423Z"
   },
   {
    "duration": 27,
    "start_time": "2021-07-28T15:13:53.339Z"
   },
   {
    "duration": 29,
    "start_time": "2021-07-28T15:13:57.293Z"
   },
   {
    "duration": 1419,
    "start_time": "2021-07-28T15:14:01.852Z"
   },
   {
    "duration": 7,
    "start_time": "2021-07-28T15:14:33.088Z"
   },
   {
    "duration": 25,
    "start_time": "2021-07-28T15:14:54.819Z"
   },
   {
    "duration": 6,
    "start_time": "2021-07-28T15:15:12.414Z"
   },
   {
    "duration": 86,
    "start_time": "2021-07-28T15:15:20.581Z"
   },
   {
    "duration": 12,
    "start_time": "2021-07-28T15:15:29.492Z"
   },
   {
    "duration": 2582,
    "start_time": "2021-07-28T15:48:12.655Z"
   },
   {
    "duration": 1889,
    "start_time": "2021-07-28T15:48:28.337Z"
   },
   {
    "duration": 1144,
    "start_time": "2021-07-28T15:49:28.074Z"
   },
   {
    "duration": 1969,
    "start_time": "2021-07-28T15:49:39.203Z"
   },
   {
    "duration": 1376,
    "start_time": "2021-07-28T15:50:04.616Z"
   },
   {
    "duration": 79,
    "start_time": "2021-07-28T15:51:30.406Z"
   },
   {
    "duration": 453,
    "start_time": "2021-07-28T15:51:40.718Z"
   },
   {
    "duration": 49,
    "start_time": "2021-07-28T15:51:43.718Z"
   },
   {
    "duration": 275,
    "start_time": "2021-07-28T15:52:00.741Z"
   },
   {
    "duration": 429,
    "start_time": "2021-07-28T15:53:21.637Z"
   },
   {
    "duration": 50,
    "start_time": "2021-07-28T15:53:26.653Z"
   },
   {
    "duration": 78,
    "start_time": "2021-07-28T15:53:42.790Z"
   },
   {
    "duration": 437,
    "start_time": "2021-07-28T15:53:44.765Z"
   },
   {
    "duration": 73,
    "start_time": "2021-07-28T15:53:45.790Z"
   },
   {
    "duration": 972,
    "start_time": "2021-07-28T15:53:58.910Z"
   },
   {
    "duration": 450,
    "start_time": "2021-07-28T15:54:08.023Z"
   },
   {
    "duration": 116,
    "start_time": "2021-07-28T16:13:08.333Z"
   },
   {
    "duration": 493,
    "start_time": "2021-07-28T16:13:14.129Z"
   },
   {
    "duration": 77,
    "start_time": "2021-07-28T16:13:18.585Z"
   },
   {
    "duration": 49,
    "start_time": "2021-07-28T16:13:37.536Z"
   },
   {
    "duration": 1304,
    "start_time": "2021-07-28T16:14:48.472Z"
   },
   {
    "duration": 37,
    "start_time": "2021-07-28T16:15:02.807Z"
   },
   {
    "duration": 5012,
    "start_time": "2021-07-28T16:15:53.688Z"
   },
   {
    "duration": 4134,
    "start_time": "2021-07-28T16:16:13.141Z"
   },
   {
    "duration": 36,
    "start_time": "2021-07-28T16:16:20.800Z"
   },
   {
    "duration": 23102,
    "start_time": "2021-07-28T16:16:50.735Z"
   },
   {
    "duration": 38,
    "start_time": "2021-07-28T16:17:20.143Z"
   },
   {
    "duration": 51,
    "start_time": "2021-07-28T16:18:14.341Z"
   },
   {
    "duration": 19,
    "start_time": "2021-07-28T16:46:43.630Z"
   },
   {
    "duration": 4,
    "start_time": "2021-07-28T16:47:02.868Z"
   },
   {
    "duration": 5451,
    "start_time": "2021-07-28T16:47:03.251Z"
   },
   {
    "duration": 19,
    "start_time": "2021-07-28T16:47:08.705Z"
   },
   {
    "duration": 168,
    "start_time": "2021-07-28T16:47:08.727Z"
   },
   {
    "duration": 160,
    "start_time": "2021-07-28T16:47:08.898Z"
   },
   {
    "duration": 238,
    "start_time": "2021-07-28T16:47:09.061Z"
   },
   {
    "duration": 115,
    "start_time": "2021-07-28T16:47:10.717Z"
   },
   {
    "duration": 137,
    "start_time": "2021-07-28T16:47:13.188Z"
   },
   {
    "duration": 52,
    "start_time": "2021-07-28T16:47:13.534Z"
   },
   {
    "duration": 54,
    "start_time": "2021-07-28T16:47:15.035Z"
   },
   {
    "duration": 925,
    "start_time": "2021-07-28T16:47:18.275Z"
   },
   {
    "duration": 1059,
    "start_time": "2021-07-28T16:47:20.578Z"
   },
   {
    "duration": 60,
    "start_time": "2021-07-28T16:47:26.283Z"
   },
   {
    "duration": 315,
    "start_time": "2021-07-28T16:47:29.844Z"
   },
   {
    "duration": 14,
    "start_time": "2021-07-28T16:47:32.658Z"
   },
   {
    "duration": 13,
    "start_time": "2021-07-28T16:47:33.882Z"
   },
   {
    "duration": 77,
    "start_time": "2021-07-28T16:47:36.251Z"
   },
   {
    "duration": 303,
    "start_time": "2021-07-28T16:47:37.371Z"
   },
   {
    "duration": 339,
    "start_time": "2021-07-28T16:47:41.458Z"
   },
   {
    "duration": 822,
    "start_time": "2021-07-28T16:47:44.580Z"
   },
   {
    "duration": 125,
    "start_time": "2021-07-28T16:48:46.524Z"
   },
   {
    "duration": 84,
    "start_time": "2021-07-28T16:48:51.929Z"
   },
   {
    "duration": 51,
    "start_time": "2021-07-28T16:49:10.931Z"
   },
   {
    "duration": 74,
    "start_time": "2021-07-28T16:50:14.553Z"
   },
   {
    "duration": 1061,
    "start_time": "2021-07-28T16:50:15.618Z"
   },
   {
    "duration": 68,
    "start_time": "2021-07-28T16:50:20.625Z"
   },
   {
    "duration": 64,
    "start_time": "2021-07-28T16:50:23.912Z"
   },
   {
    "duration": 498,
    "start_time": "2021-07-28T16:50:26.009Z"
   },
   {
    "duration": 624,
    "start_time": "2021-07-28T16:50:28.817Z"
   },
   {
    "duration": 11,
    "start_time": "2021-07-28T16:50:33.957Z"
   },
   {
    "duration": 505,
    "start_time": "2021-07-28T16:50:35.208Z"
   },
   {
    "duration": 332,
    "start_time": "2021-07-28T16:50:36.584Z"
   },
   {
    "duration": 265,
    "start_time": "2021-07-28T16:50:37.098Z"
   },
   {
    "duration": 21,
    "start_time": "2021-07-28T16:50:46.939Z"
   },
   {
    "duration": 20,
    "start_time": "2021-07-28T16:50:47.570Z"
   },
   {
    "duration": 622,
    "start_time": "2021-07-28T16:50:48.883Z"
   },
   {
    "duration": 710,
    "start_time": "2021-07-28T16:50:51.010Z"
   },
   {
    "duration": 17,
    "start_time": "2021-07-28T16:50:55.832Z"
   },
   {
    "duration": 7,
    "start_time": "2021-07-28T16:50:56.496Z"
   },
   {
    "duration": 28,
    "start_time": "2021-07-28T16:51:12.010Z"
   },
   {
    "duration": 29,
    "start_time": "2021-07-28T16:51:17.169Z"
   },
   {
    "duration": 22928,
    "start_time": "2021-07-28T16:51:56.161Z"
   },
   {
    "duration": 38,
    "start_time": "2021-07-28T16:52:19.091Z"
   },
   {
    "duration": 65,
    "start_time": "2021-07-28T16:52:57.674Z"
   },
   {
    "duration": 52,
    "start_time": "2021-07-28T16:54:37.313Z"
   },
   {
    "duration": 1142,
    "start_time": "2021-07-28T16:57:20.556Z"
   },
   {
    "duration": 40859,
    "start_time": "2021-07-28T16:57:40.689Z"
   },
   {
    "duration": 36,
    "start_time": "2021-07-28T16:58:27.132Z"
   },
   {
    "duration": 49,
    "start_time": "2021-07-28T16:58:30.319Z"
   },
   {
    "duration": 5672,
    "start_time": "2021-07-28T16:59:24.653Z"
   },
   {
    "duration": 50,
    "start_time": "2021-07-28T16:59:38.638Z"
   },
   {
    "duration": 14726,
    "start_time": "2021-07-28T17:00:16.435Z"
   },
   {
    "duration": 61,
    "start_time": "2021-07-28T17:00:34.860Z"
   },
   {
    "duration": 5657,
    "start_time": "2021-07-28T17:01:20.937Z"
   },
   {
    "duration": 59,
    "start_time": "2021-07-28T17:01:27.187Z"
   },
   {
    "duration": 1211,
    "start_time": "2021-07-28T17:01:51.791Z"
   },
   {
    "duration": 1952,
    "start_time": "2021-07-28T17:01:53.005Z"
   },
   {
    "duration": 30,
    "start_time": "2021-07-28T17:01:54.960Z"
   },
   {
    "duration": 175,
    "start_time": "2021-07-28T17:01:54.993Z"
   },
   {
    "duration": 163,
    "start_time": "2021-07-28T17:01:55.170Z"
   },
   {
    "duration": 245,
    "start_time": "2021-07-28T17:01:55.336Z"
   },
   {
    "duration": 169,
    "start_time": "2021-07-28T17:01:55.583Z"
   },
   {
    "duration": 152,
    "start_time": "2021-07-28T17:01:55.758Z"
   },
   {
    "duration": 73,
    "start_time": "2021-07-28T17:01:55.913Z"
   },
   {
    "duration": 82,
    "start_time": "2021-07-28T17:01:55.989Z"
   },
   {
    "duration": 1083,
    "start_time": "2021-07-28T17:01:56.073Z"
   },
   {
    "duration": 1095,
    "start_time": "2021-07-28T17:01:57.159Z"
   },
   {
    "duration": 73,
    "start_time": "2021-07-28T17:01:58.257Z"
   },
   {
    "duration": 338,
    "start_time": "2021-07-28T17:01:58.333Z"
   },
   {
    "duration": 13,
    "start_time": "2021-07-28T17:01:58.673Z"
   },
   {
    "duration": 16,
    "start_time": "2021-07-28T17:01:58.689Z"
   },
   {
    "duration": 106,
    "start_time": "2021-07-28T17:01:58.707Z"
   },
   {
    "duration": 338,
    "start_time": "2021-07-28T17:01:58.816Z"
   },
   {
    "duration": 342,
    "start_time": "2021-07-28T17:01:59.157Z"
   },
   {
    "duration": 944,
    "start_time": "2021-07-28T17:01:59.503Z"
   },
   {
    "duration": 78,
    "start_time": "2021-07-28T17:02:00.454Z"
   },
   {
    "duration": 988,
    "start_time": "2021-07-28T17:02:00.535Z"
   },
   {
    "duration": 83,
    "start_time": "2021-07-28T17:02:01.530Z"
   },
   {
    "duration": 76,
    "start_time": "2021-07-28T17:02:01.617Z"
   },
   {
    "duration": 505,
    "start_time": "2021-07-28T17:02:01.695Z"
   },
   {
    "duration": 433,
    "start_time": "2021-07-28T17:02:02.203Z"
   },
   {
    "duration": 20,
    "start_time": "2021-07-28T17:02:02.638Z"
   },
   {
    "duration": 401,
    "start_time": "2021-07-28T17:02:02.660Z"
   },
   {
    "duration": 367,
    "start_time": "2021-07-28T17:02:03.064Z"
   },
   {
    "duration": 279,
    "start_time": "2021-07-28T17:02:03.433Z"
   },
   {
    "duration": 370,
    "start_time": "2021-07-28T17:02:03.715Z"
   },
   {
    "duration": -383,
    "start_time": "2021-07-28T17:02:04.471Z"
   },
   {
    "duration": -384,
    "start_time": "2021-07-28T17:02:04.474Z"
   },
   {
    "duration": -386,
    "start_time": "2021-07-28T17:02:04.477Z"
   },
   {
    "duration": -385,
    "start_time": "2021-07-28T17:02:04.478Z"
   },
   {
    "duration": -396,
    "start_time": "2021-07-28T17:02:04.490Z"
   },
   {
    "duration": -396,
    "start_time": "2021-07-28T17:02:04.492Z"
   },
   {
    "duration": -397,
    "start_time": "2021-07-28T17:02:04.494Z"
   },
   {
    "duration": -397,
    "start_time": "2021-07-28T17:02:04.496Z"
   },
   {
    "duration": -403,
    "start_time": "2021-07-28T17:02:04.503Z"
   },
   {
    "duration": -404,
    "start_time": "2021-07-28T17:02:04.506Z"
   },
   {
    "duration": -406,
    "start_time": "2021-07-28T17:02:04.509Z"
   },
   {
    "duration": -407,
    "start_time": "2021-07-28T17:02:04.511Z"
   },
   {
    "duration": -407,
    "start_time": "2021-07-28T17:02:04.513Z"
   },
   {
    "duration": -408,
    "start_time": "2021-07-28T17:02:04.515Z"
   },
   {
    "duration": -410,
    "start_time": "2021-07-28T17:02:04.518Z"
   },
   {
    "duration": -410,
    "start_time": "2021-07-28T17:02:04.520Z"
   },
   {
    "duration": -411,
    "start_time": "2021-07-28T17:02:04.522Z"
   },
   {
    "duration": -412,
    "start_time": "2021-07-28T17:02:04.525Z"
   },
   {
    "duration": -413,
    "start_time": "2021-07-28T17:02:04.527Z"
   },
   {
    "duration": -414,
    "start_time": "2021-07-28T17:02:04.529Z"
   },
   {
    "duration": -421,
    "start_time": "2021-07-28T17:02:04.538Z"
   },
   {
    "duration": -423,
    "start_time": "2021-07-28T17:02:04.541Z"
   },
   {
    "duration": 58,
    "start_time": "2021-07-28T17:02:30.253Z"
   },
   {
    "duration": 5875,
    "start_time": "2021-07-28T17:02:45.709Z"
   },
   {
    "duration": 59,
    "start_time": "2021-07-28T17:02:52.381Z"
   },
   {
    "duration": 5886,
    "start_time": "2021-07-28T17:03:05.895Z"
   },
   {
    "duration": 58,
    "start_time": "2021-07-28T17:03:13.254Z"
   },
   {
    "duration": 35874,
    "start_time": "2021-07-28T17:03:36.830Z"
   },
   {
    "duration": 58,
    "start_time": "2021-07-28T17:04:18.984Z"
   },
   {
    "duration": 1367,
    "start_time": "2021-07-28T17:05:25.533Z"
   },
   {
    "duration": 1022,
    "start_time": "2021-07-28T17:06:44.606Z"
   },
   {
    "duration": 6987,
    "start_time": "2021-07-28T17:06:51.726Z"
   },
   {
    "duration": 11361,
    "start_time": "2021-07-28T17:07:07.420Z"
   },
   {
    "duration": 60,
    "start_time": "2021-07-28T17:07:20.210Z"
   },
   {
    "duration": 60,
    "start_time": "2021-07-28T17:07:24.811Z"
   },
   {
    "duration": 35547,
    "start_time": "2021-07-28T17:07:39.939Z"
   },
   {
    "duration": 58,
    "start_time": "2021-07-28T17:08:17.227Z"
   },
   {
    "duration": 15697,
    "start_time": "2021-07-28T17:08:25.522Z"
   },
   {
    "duration": 68,
    "start_time": "2021-07-28T17:08:41.222Z"
   },
   {
    "duration": 5853,
    "start_time": "2021-07-28T17:08:56.578Z"
   },
   {
    "duration": 67,
    "start_time": "2021-07-28T17:09:02.433Z"
   },
   {
    "duration": 3048,
    "start_time": "2021-07-28T17:11:59.095Z"
   },
   {
    "duration": 2381,
    "start_time": "2021-07-28T17:12:22.697Z"
   },
   {
    "duration": 672,
    "start_time": "2021-07-28T17:12:55.458Z"
   },
   {
    "duration": 2598,
    "start_time": "2021-07-28T17:13:17.136Z"
   },
   {
    "duration": 101130,
    "start_time": "2021-07-28T17:13:29.409Z"
   },
   {
    "duration": -409,
    "start_time": "2021-07-28T17:15:10.952Z"
   },
   {
    "duration": 6783,
    "start_time": "2021-07-28T17:16:55.278Z"
   },
   {
    "duration": 60,
    "start_time": "2021-07-28T17:17:07.529Z"
   },
   {
    "duration": 26274,
    "start_time": "2021-07-28T17:17:29.396Z"
   },
   {
    "duration": 61,
    "start_time": "2021-07-28T17:17:55.673Z"
   },
   {
    "duration": 61,
    "start_time": "2021-07-28T17:17:59.748Z"
   },
   {
    "duration": 1121,
    "start_time": "2021-07-28T17:18:06.534Z"
   },
   {
    "duration": 1373,
    "start_time": "2021-07-28T17:18:19.597Z"
   },
   {
    "duration": 5829,
    "start_time": "2021-07-28T17:18:41.100Z"
   },
   {
    "duration": 58,
    "start_time": "2021-07-28T17:18:55.389Z"
   },
   {
    "duration": 35583,
    "start_time": "2021-07-28T17:19:11.643Z"
   },
   {
    "duration": 70,
    "start_time": "2021-07-28T17:19:47.229Z"
   },
   {
    "duration": 4,
    "start_time": "2021-07-28T17:24:44.016Z"
   },
   {
    "duration": 1720,
    "start_time": "2021-07-28T17:24:44.266Z"
   },
   {
    "duration": 21,
    "start_time": "2021-07-28T17:24:45.989Z"
   },
   {
    "duration": 172,
    "start_time": "2021-07-28T17:24:46.013Z"
   },
   {
    "duration": 167,
    "start_time": "2021-07-28T17:24:46.188Z"
   },
   {
    "duration": 226,
    "start_time": "2021-07-28T17:24:46.358Z"
   },
   {
    "duration": 124,
    "start_time": "2021-07-28T17:24:46.586Z"
   },
   {
    "duration": 121,
    "start_time": "2021-07-28T17:24:48.048Z"
   },
   {
    "duration": 55,
    "start_time": "2021-07-28T17:24:48.440Z"
   },
   {
    "duration": 55,
    "start_time": "2021-07-28T17:24:48.728Z"
   },
   {
    "duration": 913,
    "start_time": "2021-07-28T17:24:49.775Z"
   },
   {
    "duration": 1116,
    "start_time": "2021-07-28T17:24:50.690Z"
   },
   {
    "duration": 79,
    "start_time": "2021-07-28T17:24:51.810Z"
   },
   {
    "duration": 426,
    "start_time": "2021-07-28T17:24:51.891Z"
   },
   {
    "duration": 14,
    "start_time": "2021-07-28T17:24:52.519Z"
   },
   {
    "duration": 13,
    "start_time": "2021-07-28T17:24:52.815Z"
   },
   {
    "duration": 69,
    "start_time": "2021-07-28T17:24:53.087Z"
   },
   {
    "duration": 352,
    "start_time": "2021-07-28T17:24:53.855Z"
   },
   {
    "duration": 350,
    "start_time": "2021-07-28T17:24:54.783Z"
   },
   {
    "duration": 863,
    "start_time": "2021-07-28T17:24:55.991Z"
   },
   {
    "duration": 62,
    "start_time": "2021-07-28T17:24:56.857Z"
   },
   {
    "duration": 967,
    "start_time": "2021-07-28T17:24:57.343Z"
   },
   {
    "duration": 78,
    "start_time": "2021-07-28T17:24:58.313Z"
   },
   {
    "duration": 63,
    "start_time": "2021-07-28T17:24:58.644Z"
   },
   {
    "duration": 493,
    "start_time": "2021-07-28T17:24:59.575Z"
   },
   {
    "duration": 434,
    "start_time": "2021-07-28T17:25:01.112Z"
   },
   {
    "duration": 13,
    "start_time": "2021-07-28T17:25:02.983Z"
   },
   {
    "duration": 379,
    "start_time": "2021-07-28T17:25:05.238Z"
   },
   {
    "duration": 345,
    "start_time": "2021-07-28T17:25:06.671Z"
   },
   {
    "duration": 270,
    "start_time": "2021-07-28T17:25:07.031Z"
   },
   {
    "duration": 253,
    "start_time": "2021-07-28T17:25:07.863Z"
   },
   {
    "duration": 250,
    "start_time": "2021-07-28T17:25:16.366Z"
   },
   {
    "duration": -401,
    "start_time": "2021-07-28T17:25:17.019Z"
   },
   {
    "duration": 191,
    "start_time": "2021-07-28T17:25:21.407Z"
   },
   {
    "duration": 45,
    "start_time": "2021-07-28T17:25:22.623Z"
   },
   {
    "duration": 197,
    "start_time": "2021-07-28T17:25:23.512Z"
   },
   {
    "duration": 11,
    "start_time": "2021-07-28T17:25:24.711Z"
   },
   {
    "duration": 234,
    "start_time": "2021-07-28T17:25:27.511Z"
   },
   {
    "duration": 34,
    "start_time": "2021-07-28T17:25:28.556Z"
   },
   {
    "duration": 32934,
    "start_time": "2021-07-28T17:25:32.878Z"
   },
   {
    "duration": 58219,
    "start_time": "2021-07-28T17:26:08.657Z"
   },
   {
    "duration": 92,
    "start_time": "2021-07-28T17:27:13.952Z"
   },
   {
    "duration": 1951,
    "start_time": "2021-07-28T17:27:24.681Z"
   },
   {
    "duration": 6167,
    "start_time": "2021-07-28T17:27:33.040Z"
   },
   {
    "duration": 60,
    "start_time": "2021-07-28T17:27:40.392Z"
   },
   {
    "duration": 10641,
    "start_time": "2021-07-28T17:30:01.615Z"
   },
   {
    "duration": 88,
    "start_time": "2021-07-28T17:30:14.262Z"
   },
   {
    "duration": 92,
    "start_time": "2021-07-28T17:30:18.821Z"
   },
   {
    "duration": 6,
    "start_time": "2021-07-28T17:33:54.426Z"
   },
   {
    "duration": 269,
    "start_time": "2021-07-28T17:34:51.346Z"
   },
   {
    "duration": 271,
    "start_time": "2021-07-28T17:35:59.689Z"
   },
   {
    "duration": 286,
    "start_time": "2021-07-28T17:36:17.465Z"
   },
   {
    "duration": 264,
    "start_time": "2021-07-28T17:36:22.178Z"
   },
   {
    "duration": 3538,
    "start_time": "2021-07-28T17:37:16.485Z"
   },
   {
    "duration": 69,
    "start_time": "2021-07-28T17:37:21.239Z"
   },
   {
    "duration": 28,
    "start_time": "2021-07-28T17:37:29.282Z"
   },
   {
    "duration": 53,
    "start_time": "2021-07-28T17:38:14.241Z"
   },
   {
    "duration": 94,
    "start_time": "2021-07-28T17:39:33.089Z"
   },
   {
    "duration": 2480,
    "start_time": "2021-07-28T17:39:52.790Z"
   },
   {
    "duration": 63,
    "start_time": "2021-07-28T17:39:59.325Z"
   },
   {
    "duration": 26,
    "start_time": "2021-07-28T17:40:07.207Z"
   },
   {
    "duration": 2342,
    "start_time": "2021-07-28T17:40:28.823Z"
   },
   {
    "duration": 46,
    "start_time": "2021-07-28T17:40:33.864Z"
   },
   {
    "duration": 26,
    "start_time": "2021-07-28T17:40:36.630Z"
   },
   {
    "duration": 4,
    "start_time": "2021-07-28T17:40:42.976Z"
   },
   {
    "duration": 3179,
    "start_time": "2021-07-28T17:40:43.431Z"
   },
   {
    "duration": 22,
    "start_time": "2021-07-28T17:40:46.613Z"
   },
   {
    "duration": 159,
    "start_time": "2021-07-28T17:40:46.654Z"
   },
   {
    "duration": 166,
    "start_time": "2021-07-28T17:40:46.816Z"
   },
   {
    "duration": 216,
    "start_time": "2021-07-28T17:40:47.940Z"
   },
   {
    "duration": 112,
    "start_time": "2021-07-28T17:40:48.805Z"
   },
   {
    "duration": 117,
    "start_time": "2021-07-28T17:40:50.437Z"
   },
   {
    "duration": 54,
    "start_time": "2021-07-28T17:40:50.709Z"
   },
   {
    "duration": 54,
    "start_time": "2021-07-28T17:40:51.024Z"
   },
   {
    "duration": 943,
    "start_time": "2021-07-28T17:40:53.301Z"
   },
   {
    "duration": 1102,
    "start_time": "2021-07-28T17:40:54.247Z"
   },
   {
    "duration": 54,
    "start_time": "2021-07-28T17:40:56.592Z"
   },
   {
    "duration": 316,
    "start_time": "2021-07-28T17:40:58.125Z"
   },
   {
    "duration": 13,
    "start_time": "2021-07-28T17:40:59.901Z"
   },
   {
    "duration": 13,
    "start_time": "2021-07-28T17:41:00.414Z"
   },
   {
    "duration": 72,
    "start_time": "2021-07-28T17:41:00.821Z"
   },
   {
    "duration": 312,
    "start_time": "2021-07-28T17:41:02.605Z"
   },
   {
    "duration": 330,
    "start_time": "2021-07-28T17:41:06.717Z"
   },
   {
    "duration": 848,
    "start_time": "2021-07-28T17:41:09.413Z"
   },
   {
    "duration": 62,
    "start_time": "2021-07-28T17:41:10.925Z"
   },
   {
    "duration": 1097,
    "start_time": "2021-07-28T17:41:11.617Z"
   },
   {
    "duration": 75,
    "start_time": "2021-07-28T17:41:12.716Z"
   },
   {
    "duration": 60,
    "start_time": "2021-07-28T17:41:13.540Z"
   },
   {
    "duration": 583,
    "start_time": "2021-07-28T17:41:14.199Z"
   },
   {
    "duration": 418,
    "start_time": "2021-07-28T17:41:16.818Z"
   },
   {
    "duration": 11,
    "start_time": "2021-07-28T17:41:17.766Z"
   },
   {
    "duration": 386,
    "start_time": "2021-07-28T17:41:20.268Z"
   },
   {
    "duration": 333,
    "start_time": "2021-07-28T17:41:21.204Z"
   },
   {
    "duration": 269,
    "start_time": "2021-07-28T17:41:21.686Z"
   },
   {
    "duration": 245,
    "start_time": "2021-07-28T17:41:22.317Z"
   },
   {
    "duration": 59,
    "start_time": "2021-07-28T17:41:46.606Z"
   },
   {
    "duration": 56,
    "start_time": "2021-07-28T17:41:49.566Z"
   },
   {
    "duration": 7639,
    "start_time": "2021-07-28T17:41:54.333Z"
   },
   {
    "duration": 2327,
    "start_time": "2021-07-28T17:43:19.316Z"
   },
   {
    "duration": 44,
    "start_time": "2021-07-28T17:43:23.318Z"
   },
   {
    "duration": 3,
    "start_time": "2021-07-28T17:44:08.547Z"
   },
   {
    "duration": 1710,
    "start_time": "2021-07-28T17:44:08.915Z"
   },
   {
    "duration": 60,
    "start_time": "2021-07-28T17:44:16.387Z"
   },
   {
    "duration": 3236,
    "start_time": "2021-07-28T17:44:33.987Z"
   },
   {
    "duration": 63,
    "start_time": "2021-07-28T17:44:43.564Z"
   },
   {
    "duration": 3032,
    "start_time": "2021-07-28T17:45:09.237Z"
   },
   {
    "duration": 3278,
    "start_time": "2021-07-28T17:45:52.796Z"
   },
   {
    "duration": 52,
    "start_time": "2021-07-28T17:46:04.780Z"
   },
   {
    "duration": 3,
    "start_time": "2021-07-28T17:46:36.971Z"
   },
   {
    "duration": 1785,
    "start_time": "2021-07-28T17:46:37.251Z"
   },
   {
    "duration": 32,
    "start_time": "2021-07-28T17:46:39.039Z"
   },
   {
    "duration": 180,
    "start_time": "2021-07-28T17:46:39.074Z"
   },
   {
    "duration": 162,
    "start_time": "2021-07-28T17:46:39.256Z"
   },
   {
    "duration": 226,
    "start_time": "2021-07-28T17:46:39.420Z"
   },
   {
    "duration": 131,
    "start_time": "2021-07-28T17:46:39.649Z"
   },
   {
    "duration": 113,
    "start_time": "2021-07-28T17:46:40.601Z"
   },
   {
    "duration": 54,
    "start_time": "2021-07-28T17:46:40.882Z"
   },
   {
    "duration": 53,
    "start_time": "2021-07-28T17:46:41.129Z"
   },
   {
    "duration": 944,
    "start_time": "2021-07-28T17:46:41.739Z"
   },
   {
    "duration": 1129,
    "start_time": "2021-07-28T17:46:42.686Z"
   },
   {
    "duration": 94,
    "start_time": "2021-07-28T17:46:43.818Z"
   },
   {
    "duration": 328,
    "start_time": "2021-07-28T17:46:43.915Z"
   },
   {
    "duration": 14,
    "start_time": "2021-07-28T17:46:44.256Z"
   },
   {
    "duration": 15,
    "start_time": "2021-07-28T17:46:44.273Z"
   },
   {
    "duration": 96,
    "start_time": "2021-07-28T17:46:44.291Z"
   },
   {
    "duration": 326,
    "start_time": "2021-07-28T17:46:44.392Z"
   },
   {
    "duration": 358,
    "start_time": "2021-07-28T17:46:44.721Z"
   },
   {
    "duration": 855,
    "start_time": "2021-07-28T17:46:45.083Z"
   },
   {
    "duration": 72,
    "start_time": "2021-07-28T17:46:45.942Z"
   },
   {
    "duration": 969,
    "start_time": "2021-07-28T17:46:46.017Z"
   },
   {
    "duration": 85,
    "start_time": "2021-07-28T17:46:46.989Z"
   },
   {
    "duration": 79,
    "start_time": "2021-07-28T17:46:47.077Z"
   },
   {
    "duration": 514,
    "start_time": "2021-07-28T17:46:47.160Z"
   },
   {
    "duration": 431,
    "start_time": "2021-07-28T17:46:47.678Z"
   },
   {
    "duration": 12,
    "start_time": "2021-07-28T17:46:48.113Z"
   },
   {
    "duration": 636,
    "start_time": "2021-07-28T17:46:48.128Z"
   },
   {
    "duration": 368,
    "start_time": "2021-07-28T17:46:48.768Z"
   },
   {
    "duration": 286,
    "start_time": "2021-07-28T17:46:49.139Z"
   },
   {
    "duration": 254,
    "start_time": "2021-07-28T17:46:49.428Z"
   },
   {
    "duration": -414,
    "start_time": "2021-07-28T17:46:50.099Z"
   },
   {
    "duration": 637,
    "start_time": "2021-07-28T17:46:49.834Z"
   },
   {
    "duration": 731,
    "start_time": "2021-07-28T17:46:50.474Z"
   },
   {
    "duration": 16,
    "start_time": "2021-07-28T17:46:51.554Z"
   },
   {
    "duration": 2293,
    "start_time": "2021-07-28T17:46:59.450Z"
   },
   {
    "duration": 58,
    "start_time": "2021-07-28T17:47:03.723Z"
   },
   {
    "duration": 51,
    "start_time": "2021-07-28T17:47:16.454Z"
   },
   {
    "duration": 94,
    "start_time": "2021-07-28T17:53:00.518Z"
   },
   {
    "duration": 2420,
    "start_time": "2021-07-28T17:53:52.655Z"
   },
   {
    "duration": 38555,
    "start_time": "2021-07-28T17:54:10.765Z"
   },
   {
    "duration": 45,
    "start_time": "2021-07-28T17:54:54.542Z"
   },
   {
    "duration": 53,
    "start_time": "2021-07-28T17:54:58.279Z"
   },
   {
    "duration": 4,
    "start_time": "2021-07-28T17:55:08.221Z"
   },
   {
    "duration": 3186,
    "start_time": "2021-07-28T17:55:09.524Z"
   },
   {
    "duration": 21,
    "start_time": "2021-07-28T17:55:12.713Z"
   },
   {
    "duration": 301,
    "start_time": "2021-07-28T17:55:12.737Z"
   },
   {
    "duration": 254,
    "start_time": "2021-07-28T17:55:13.041Z"
   },
   {
    "duration": 230,
    "start_time": "2021-07-28T17:55:13.298Z"
   },
   {
    "duration": 130,
    "start_time": "2021-07-28T17:55:13.530Z"
   },
   {
    "duration": 123,
    "start_time": "2021-07-28T17:55:13.663Z"
   },
   {
    "duration": 74,
    "start_time": "2021-07-28T17:55:13.792Z"
   },
   {
    "duration": 54,
    "start_time": "2021-07-28T17:55:13.870Z"
   },
   {
    "duration": 964,
    "start_time": "2021-07-28T17:55:13.927Z"
   },
   {
    "duration": 1377,
    "start_time": "2021-07-28T17:55:14.893Z"
   },
   {
    "duration": 112,
    "start_time": "2021-07-28T17:55:16.272Z"
   },
   {
    "duration": 335,
    "start_time": "2021-07-28T17:55:16.387Z"
   },
   {
    "duration": 13,
    "start_time": "2021-07-28T17:55:16.724Z"
   },
   {
    "duration": 13,
    "start_time": "2021-07-28T17:55:16.754Z"
   },
   {
    "duration": 96,
    "start_time": "2021-07-28T17:55:16.770Z"
   },
   {
    "duration": 318,
    "start_time": "2021-07-28T17:55:16.869Z"
   },
   {
    "duration": 348,
    "start_time": "2021-07-28T17:55:17.189Z"
   },
   {
    "duration": 853,
    "start_time": "2021-07-28T17:55:17.539Z"
   },
   {
    "duration": 74,
    "start_time": "2021-07-28T17:55:18.395Z"
   },
   {
    "duration": 975,
    "start_time": "2021-07-28T17:55:18.471Z"
   },
   {
    "duration": 69,
    "start_time": "2021-07-28T17:55:19.448Z"
   },
   {
    "duration": 85,
    "start_time": "2021-07-28T17:55:19.522Z"
   },
   {
    "duration": 502,
    "start_time": "2021-07-28T17:55:19.610Z"
   },
   {
    "duration": 681,
    "start_time": "2021-07-28T17:55:20.115Z"
   },
   {
    "duration": 12,
    "start_time": "2021-07-28T17:55:20.799Z"
   },
   {
    "duration": 412,
    "start_time": "2021-07-28T17:55:20.814Z"
   },
   {
    "duration": 356,
    "start_time": "2021-07-28T17:55:21.229Z"
   },
   {
    "duration": 289,
    "start_time": "2021-07-28T17:55:21.587Z"
   },
   {
    "duration": 20,
    "start_time": "2021-07-28T17:55:21.878Z"
   },
   {
    "duration": 18,
    "start_time": "2021-07-28T17:55:21.901Z"
   },
   {
    "duration": 197,
    "start_time": "2021-07-28T17:55:23.204Z"
   },
   {
    "duration": 38,
    "start_time": "2021-07-28T17:55:23.765Z"
   },
   {
    "duration": 212,
    "start_time": "2021-07-28T17:55:24.291Z"
   },
   {
    "duration": 7,
    "start_time": "2021-07-28T17:55:26.860Z"
   },
   {
    "duration": 226,
    "start_time": "2021-07-28T17:55:27.717Z"
   },
   {
    "duration": 30,
    "start_time": "2021-07-28T17:55:28.132Z"
   },
   {
    "duration": 37348,
    "start_time": "2021-07-28T17:55:30.380Z"
   },
   {
    "duration": 67,
    "start_time": "2021-07-28T17:56:07.731Z"
   },
   {
    "duration": 65,
    "start_time": "2021-07-28T17:56:07.802Z"
   },
   {
    "duration": 22,
    "start_time": "2021-07-28T17:57:32.063Z"
   },
   {
    "duration": 296,
    "start_time": "2021-07-28T17:59:06.170Z"
   },
   {
    "duration": 16572,
    "start_time": "2021-07-28T17:59:31.379Z"
   },
   {
    "duration": 1752,
    "start_time": "2021-07-28T18:00:16.219Z"
   },
   {
    "duration": 6528,
    "start_time": "2021-07-28T18:00:27.793Z"
   },
   {
    "duration": 22,
    "start_time": "2021-07-28T18:00:35.401Z"
   },
   {
    "duration": 50,
    "start_time": "2021-07-28T18:01:26.209Z"
   },
   {
    "duration": 25,
    "start_time": "2021-07-28T18:01:59.074Z"
   },
   {
    "duration": 275,
    "start_time": "2021-07-28T18:05:42.526Z"
   },
   {
    "duration": 263,
    "start_time": "2021-07-28T18:05:58.920Z"
   },
   {
    "duration": 108,
    "start_time": "2021-07-28T18:07:58.335Z"
   },
   {
    "duration": 25,
    "start_time": "2021-07-28T18:08:21.733Z"
   },
   {
    "duration": 91,
    "start_time": "2021-07-28T18:08:32.595Z"
   },
   {
    "duration": 23,
    "start_time": "2021-07-28T18:08:35.094Z"
   },
   {
    "duration": 36,
    "start_time": "2021-07-28T18:08:54.293Z"
   },
   {
    "duration": 101,
    "start_time": "2021-07-28T18:09:07.428Z"
   },
   {
    "duration": 22,
    "start_time": "2021-07-28T18:09:08.813Z"
   },
   {
    "duration": 4,
    "start_time": "2021-07-28T18:09:12.212Z"
   },
   {
    "duration": 5438,
    "start_time": "2021-07-28T18:09:12.716Z"
   },
   {
    "duration": 21,
    "start_time": "2021-07-28T18:09:18.156Z"
   },
   {
    "duration": 176,
    "start_time": "2021-07-28T18:09:18.180Z"
   },
   {
    "duration": 170,
    "start_time": "2021-07-28T18:09:18.358Z"
   },
   {
    "duration": 225,
    "start_time": "2021-07-28T18:09:18.530Z"
   },
   {
    "duration": 128,
    "start_time": "2021-07-28T18:09:18.758Z"
   },
   {
    "duration": 115,
    "start_time": "2021-07-28T18:09:18.888Z"
   },
   {
    "duration": 65,
    "start_time": "2021-07-28T18:09:19.007Z"
   },
   {
    "duration": 52,
    "start_time": "2021-07-28T18:09:19.075Z"
   },
   {
    "duration": 1075,
    "start_time": "2021-07-28T18:09:19.130Z"
   },
   {
    "duration": 1104,
    "start_time": "2021-07-28T18:09:20.208Z"
   },
   {
    "duration": 86,
    "start_time": "2021-07-28T18:09:21.315Z"
   },
   {
    "duration": 322,
    "start_time": "2021-07-28T18:09:21.403Z"
   },
   {
    "duration": 13,
    "start_time": "2021-07-28T18:09:21.728Z"
   },
   {
    "duration": 12,
    "start_time": "2021-07-28T18:09:21.755Z"
   },
   {
    "duration": 85,
    "start_time": "2021-07-28T18:09:21.769Z"
   },
   {
    "duration": 318,
    "start_time": "2021-07-28T18:09:21.857Z"
   },
   {
    "duration": 350,
    "start_time": "2021-07-28T18:09:22.178Z"
   },
   {
    "duration": 955,
    "start_time": "2021-07-28T18:09:22.531Z"
   },
   {
    "duration": 90,
    "start_time": "2021-07-28T18:09:23.489Z"
   },
   {
    "duration": 1038,
    "start_time": "2021-07-28T18:09:23.581Z"
   },
   {
    "duration": 77,
    "start_time": "2021-07-28T18:09:24.622Z"
   },
   {
    "duration": 77,
    "start_time": "2021-07-28T18:09:24.704Z"
   },
   {
    "duration": 509,
    "start_time": "2021-07-28T18:09:24.784Z"
   },
   {
    "duration": 428,
    "start_time": "2021-07-28T18:09:25.295Z"
   },
   {
    "duration": 12,
    "start_time": "2021-07-28T18:09:25.725Z"
   },
   {
    "duration": 415,
    "start_time": "2021-07-28T18:09:25.739Z"
   },
   {
    "duration": 357,
    "start_time": "2021-07-28T18:09:26.157Z"
   },
   {
    "duration": 289,
    "start_time": "2021-07-28T18:09:26.517Z"
   },
   {
    "duration": 20,
    "start_time": "2021-07-28T18:09:26.808Z"
   },
   {
    "duration": 37,
    "start_time": "2021-07-28T18:09:26.830Z"
   },
   {
    "duration": 646,
    "start_time": "2021-07-28T18:09:26.870Z"
   },
   {
    "duration": 732,
    "start_time": "2021-07-28T18:09:27.518Z"
   },
   {
    "duration": 19,
    "start_time": "2021-07-28T18:09:28.255Z"
   },
   {
    "duration": 220,
    "start_time": "2021-07-28T18:09:28.277Z"
   },
   {
    "duration": 39,
    "start_time": "2021-07-28T18:09:28.499Z"
   },
   {
    "duration": 206,
    "start_time": "2021-07-28T18:09:28.554Z"
   },
   {
    "duration": 8,
    "start_time": "2021-07-28T18:09:28.762Z"
   },
   {
    "duration": 253,
    "start_time": "2021-07-28T18:09:28.772Z"
   },
   {
    "duration": 40,
    "start_time": "2021-07-28T18:09:29.027Z"
   },
   {
    "duration": 37434,
    "start_time": "2021-07-28T18:09:29.070Z"
   },
   {
    "duration": 24,
    "start_time": "2021-07-28T18:10:06.507Z"
   },
   {
    "duration": 6048,
    "start_time": "2021-07-28T18:10:06.533Z"
   },
   {
    "duration": 23,
    "start_time": "2021-07-28T18:10:12.584Z"
   },
   {
    "duration": 51,
    "start_time": "2021-07-28T18:10:12.609Z"
   },
   {
    "duration": 103,
    "start_time": "2021-07-28T18:10:12.662Z"
   },
   {
    "duration": 26,
    "start_time": "2021-07-28T18:10:17.139Z"
   },
   {
    "duration": 22,
    "start_time": "2021-07-28T18:11:38.086Z"
   },
   {
    "duration": 24,
    "start_time": "2021-07-28T18:11:41.730Z"
   },
   {
    "duration": 25,
    "start_time": "2021-07-28T18:12:04.430Z"
   },
   {
    "duration": 427,
    "start_time": "2021-07-28T18:14:34.562Z"
   },
   {
    "duration": 131,
    "start_time": "2021-07-28T18:16:30.890Z"
   },
   {
    "duration": 472,
    "start_time": "2021-07-28T18:18:18.710Z"
   },
   {
    "duration": 378,
    "start_time": "2021-07-28T18:18:21.798Z"
   },
   {
    "duration": 37,
    "start_time": "2021-07-28T18:19:33.583Z"
   },
   {
    "duration": 1189,
    "start_time": "2021-07-28T18:21:37.080Z"
   },
   {
    "duration": 1801,
    "start_time": "2021-07-28T18:21:38.272Z"
   },
   {
    "duration": 30,
    "start_time": "2021-07-28T18:21:40.076Z"
   },
   {
    "duration": 175,
    "start_time": "2021-07-28T18:21:40.109Z"
   },
   {
    "duration": 168,
    "start_time": "2021-07-28T18:21:40.286Z"
   },
   {
    "duration": 238,
    "start_time": "2021-07-28T18:21:40.457Z"
   },
   {
    "duration": 126,
    "start_time": "2021-07-28T18:21:40.697Z"
   },
   {
    "duration": 160,
    "start_time": "2021-07-28T18:21:40.827Z"
   },
   {
    "duration": 52,
    "start_time": "2021-07-28T18:21:40.990Z"
   },
   {
    "duration": 55,
    "start_time": "2021-07-28T18:21:41.055Z"
   },
   {
    "duration": 1108,
    "start_time": "2021-07-28T18:21:41.113Z"
   },
   {
    "duration": 1097,
    "start_time": "2021-07-28T18:21:42.224Z"
   },
   {
    "duration": 95,
    "start_time": "2021-07-28T18:21:43.324Z"
   },
   {
    "duration": 481,
    "start_time": "2021-07-28T18:21:43.422Z"
   },
   {
    "duration": 12,
    "start_time": "2021-07-28T18:21:43.905Z"
   },
   {
    "duration": 36,
    "start_time": "2021-07-28T18:21:43.920Z"
   },
   {
    "duration": 85,
    "start_time": "2021-07-28T18:21:43.958Z"
   },
   {
    "duration": 338,
    "start_time": "2021-07-28T18:21:44.055Z"
   },
   {
    "duration": 411,
    "start_time": "2021-07-28T18:21:44.395Z"
   },
   {
    "duration": 919,
    "start_time": "2021-07-28T18:21:44.809Z"
   },
   {
    "duration": 88,
    "start_time": "2021-07-28T18:21:45.730Z"
   },
   {
    "duration": 988,
    "start_time": "2021-07-28T18:21:45.820Z"
   },
   {
    "duration": 78,
    "start_time": "2021-07-28T18:21:46.814Z"
   },
   {
    "duration": 74,
    "start_time": "2021-07-28T18:21:46.895Z"
   },
   {
    "duration": 512,
    "start_time": "2021-07-28T18:21:46.972Z"
   },
   {
    "duration": 446,
    "start_time": "2021-07-28T18:21:47.486Z"
   },
   {
    "duration": 20,
    "start_time": "2021-07-28T18:21:47.935Z"
   },
   {
    "duration": 402,
    "start_time": "2021-07-28T18:21:47.958Z"
   },
   {
    "duration": 361,
    "start_time": "2021-07-28T18:21:48.362Z"
   },
   {
    "duration": 329,
    "start_time": "2021-07-28T18:21:48.726Z"
   },
   {
    "duration": 516,
    "start_time": "2021-07-28T18:21:49.058Z"
   },
   {
    "duration": -444,
    "start_time": "2021-07-28T18:21:50.020Z"
   },
   {
    "duration": -446,
    "start_time": "2021-07-28T18:21:50.023Z"
   },
   {
    "duration": -446,
    "start_time": "2021-07-28T18:21:50.025Z"
   },
   {
    "duration": -452,
    "start_time": "2021-07-28T18:21:50.032Z"
   },
   {
    "duration": -452,
    "start_time": "2021-07-28T18:21:50.034Z"
   },
   {
    "duration": -454,
    "start_time": "2021-07-28T18:21:50.037Z"
   },
   {
    "duration": -455,
    "start_time": "2021-07-28T18:21:50.040Z"
   },
   {
    "duration": -456,
    "start_time": "2021-07-28T18:21:50.042Z"
   },
   {
    "duration": -456,
    "start_time": "2021-07-28T18:21:50.044Z"
   },
   {
    "duration": -457,
    "start_time": "2021-07-28T18:21:50.046Z"
   },
   {
    "duration": -457,
    "start_time": "2021-07-28T18:21:50.048Z"
   },
   {
    "duration": -490,
    "start_time": "2021-07-28T18:21:50.082Z"
   },
   {
    "duration": -493,
    "start_time": "2021-07-28T18:21:50.086Z"
   },
   {
    "duration": -495,
    "start_time": "2021-07-28T18:21:50.090Z"
   },
   {
    "duration": -497,
    "start_time": "2021-07-28T18:21:50.094Z"
   },
   {
    "duration": -504,
    "start_time": "2021-07-28T18:21:50.102Z"
   },
   {
    "duration": -504,
    "start_time": "2021-07-28T18:21:50.104Z"
   },
   {
    "duration": -506,
    "start_time": "2021-07-28T18:21:50.107Z"
   },
   {
    "duration": -508,
    "start_time": "2021-07-28T18:21:50.111Z"
   },
   {
    "duration": -514,
    "start_time": "2021-07-28T18:21:50.118Z"
   },
   {
    "duration": -515,
    "start_time": "2021-07-28T18:21:50.121Z"
   },
   {
    "duration": -517,
    "start_time": "2021-07-28T18:21:50.124Z"
   },
   {
    "duration": -517,
    "start_time": "2021-07-28T18:21:50.126Z"
   },
   {
    "duration": -525,
    "start_time": "2021-07-28T18:21:50.135Z"
   },
   {
    "duration": 194,
    "start_time": "2021-07-28T18:22:02.574Z"
   },
   {
    "duration": 39,
    "start_time": "2021-07-28T18:22:24.854Z"
   },
   {
    "duration": 189,
    "start_time": "2021-07-28T18:22:25.486Z"
   },
   {
    "duration": 7,
    "start_time": "2021-07-28T18:22:25.982Z"
   },
   {
    "duration": 222,
    "start_time": "2021-07-28T18:22:26.478Z"
   },
   {
    "duration": 30,
    "start_time": "2021-07-28T18:22:26.733Z"
   },
   {
    "duration": 36287,
    "start_time": "2021-07-28T18:22:27.294Z"
   },
   {
    "duration": 25,
    "start_time": "2021-07-28T18:23:03.583Z"
   },
   {
    "duration": 5944,
    "start_time": "2021-07-28T18:23:03.611Z"
   },
   {
    "duration": 22,
    "start_time": "2021-07-28T18:23:09.558Z"
   },
   {
    "duration": 24,
    "start_time": "2021-07-28T18:23:09.583Z"
   },
   {
    "duration": 119,
    "start_time": "2021-07-28T18:23:09.609Z"
   },
   {
    "duration": 32,
    "start_time": "2021-07-28T18:23:09.730Z"
   },
   {
    "duration": 33,
    "start_time": "2021-07-28T18:23:09.765Z"
   },
   {
    "duration": 161,
    "start_time": "2021-07-28T18:23:09.801Z"
   },
   {
    "duration": 435,
    "start_time": "2021-07-28T18:23:09.965Z"
   },
   {
    "duration": 523,
    "start_time": "2021-07-28T18:23:10.403Z"
   },
   {
    "duration": 391,
    "start_time": "2021-07-28T18:23:10.928Z"
   },
   {
    "duration": 47,
    "start_time": "2021-07-28T18:23:11.322Z"
   },
   {
    "duration": 6,
    "start_time": "2021-07-28T18:34:43.893Z"
   },
   {
    "duration": 53,
    "start_time": "2021-07-28T18:35:24.206Z"
   },
   {
    "duration": 134,
    "start_time": "2021-07-28T18:35:33.878Z"
   },
   {
    "duration": 136,
    "start_time": "2021-07-28T18:36:05.526Z"
   },
   {
    "duration": 127,
    "start_time": "2021-07-28T18:36:10.142Z"
   },
   {
    "duration": 41,
    "start_time": "2021-07-28T18:39:11.907Z"
   },
   {
    "duration": 44,
    "start_time": "2021-07-28T18:39:33.914Z"
   },
   {
    "duration": 271,
    "start_time": "2021-07-28T18:40:04.603Z"
   },
   {
    "duration": 154,
    "start_time": "2021-07-28T18:40:17.356Z"
   },
   {
    "duration": 1277,
    "start_time": "2021-07-28T18:42:21.778Z"
   },
   {
    "duration": 83,
    "start_time": "2021-07-28T18:42:53.632Z"
   },
   {
    "duration": 11636,
    "start_time": "2021-07-28T18:43:40.569Z"
   },
   {
    "duration": 53,
    "start_time": "2021-07-28T18:43:55.504Z"
   },
   {
    "duration": 20,
    "start_time": "2021-07-28T18:44:32.026Z"
   },
   {
    "duration": 495,
    "start_time": "2021-07-28T18:47:13.682Z"
   },
   {
    "duration": 21,
    "start_time": "2021-07-28T18:47:21.440Z"
   },
   {
    "duration": 127,
    "start_time": "2021-07-28T18:48:11.118Z"
   },
   {
    "duration": 89,
    "start_time": "2021-07-28T18:49:59.470Z"
   },
   {
    "duration": 39,
    "start_time": "2021-07-28T18:50:02.613Z"
   },
   {
    "duration": 27,
    "start_time": "2021-07-28T18:51:13.412Z"
   },
   {
    "duration": 70908,
    "start_time": "2021-07-28T18:51:30.524Z"
   },
   {
    "duration": 24,
    "start_time": "2021-07-28T18:52:41.435Z"
   },
   {
    "duration": 16947,
    "start_time": "2021-07-28T18:53:29.825Z"
   },
   {
    "duration": 1200,
    "start_time": "2021-07-28T18:53:51.667Z"
   },
   {
    "duration": 1998,
    "start_time": "2021-07-28T18:53:52.869Z"
   },
   {
    "duration": 31,
    "start_time": "2021-07-28T18:53:54.871Z"
   },
   {
    "duration": 177,
    "start_time": "2021-07-28T18:53:54.905Z"
   },
   {
    "duration": 164,
    "start_time": "2021-07-28T18:53:55.085Z"
   },
   {
    "duration": 237,
    "start_time": "2021-07-28T18:53:55.255Z"
   },
   {
    "duration": 130,
    "start_time": "2021-07-28T18:53:55.495Z"
   },
   {
    "duration": 150,
    "start_time": "2021-07-28T18:53:55.629Z"
   },
   {
    "duration": 53,
    "start_time": "2021-07-28T18:53:55.782Z"
   },
   {
    "duration": 64,
    "start_time": "2021-07-28T18:53:55.838Z"
   },
   {
    "duration": 1100,
    "start_time": "2021-07-28T18:53:55.905Z"
   },
   {
    "duration": 1173,
    "start_time": "2021-07-28T18:53:57.008Z"
   },
   {
    "duration": 85,
    "start_time": "2021-07-28T18:53:58.184Z"
   },
   {
    "duration": 585,
    "start_time": "2021-07-28T18:53:58.271Z"
   },
   {
    "duration": 13,
    "start_time": "2021-07-28T18:53:58.859Z"
   },
   {
    "duration": 11,
    "start_time": "2021-07-28T18:53:58.875Z"
   },
   {
    "duration": 119,
    "start_time": "2021-07-28T18:53:58.889Z"
   },
   {
    "duration": 332,
    "start_time": "2021-07-28T18:53:59.011Z"
   },
   {
    "duration": 364,
    "start_time": "2021-07-28T18:53:59.345Z"
   },
   {
    "duration": 930,
    "start_time": "2021-07-28T18:53:59.712Z"
   },
   {
    "duration": 81,
    "start_time": "2021-07-28T18:54:00.644Z"
   },
   {
    "duration": 988,
    "start_time": "2021-07-28T18:54:00.728Z"
   },
   {
    "duration": 77,
    "start_time": "2021-07-28T18:54:01.722Z"
   },
   {
    "duration": 75,
    "start_time": "2021-07-28T18:54:01.802Z"
   },
   {
    "duration": 504,
    "start_time": "2021-07-28T18:54:01.879Z"
   },
   {
    "duration": 431,
    "start_time": "2021-07-28T18:54:02.386Z"
   },
   {
    "duration": 10,
    "start_time": "2021-07-28T18:54:02.820Z"
   },
   {
    "duration": 555,
    "start_time": "2021-07-28T18:54:02.832Z"
   },
   {
    "duration": 408,
    "start_time": "2021-07-28T18:54:03.390Z"
   },
   {
    "duration": 308,
    "start_time": "2021-07-28T18:54:03.801Z"
   },
   {
    "duration": 26,
    "start_time": "2021-07-28T18:54:04.113Z"
   },
   {
    "duration": 25,
    "start_time": "2021-07-28T18:54:04.142Z"
   },
   {
    "duration": 289,
    "start_time": "2021-07-28T18:54:04.170Z"
   },
   {
    "duration": 50,
    "start_time": "2021-07-28T18:54:04.462Z"
   },
   {
    "duration": 239,
    "start_time": "2021-07-28T18:54:04.515Z"
   },
   {
    "duration": 6,
    "start_time": "2021-07-28T18:54:04.756Z"
   },
   {
    "duration": 238,
    "start_time": "2021-07-28T18:54:04.764Z"
   },
   {
    "duration": 30,
    "start_time": "2021-07-28T18:54:05.004Z"
   },
   {
    "duration": 42340,
    "start_time": "2021-07-28T18:54:05.036Z"
   },
   {
    "duration": 21,
    "start_time": "2021-07-28T18:54:47.379Z"
   },
   {
    "duration": 6052,
    "start_time": "2021-07-28T18:54:47.403Z"
   },
   {
    "duration": 21,
    "start_time": "2021-07-28T18:54:53.457Z"
   },
   {
    "duration": 24,
    "start_time": "2021-07-28T18:54:53.481Z"
   },
   {
    "duration": 122,
    "start_time": "2021-07-28T18:54:53.507Z"
   },
   {
    "duration": 25,
    "start_time": "2021-07-28T18:54:53.632Z"
   },
   {
    "duration": 23,
    "start_time": "2021-07-28T18:54:53.660Z"
   },
   {
    "duration": 152,
    "start_time": "2021-07-28T18:54:53.685Z"
   },
   {
    "duration": 531,
    "start_time": "2021-07-28T18:54:53.839Z"
   },
   {
    "duration": 521,
    "start_time": "2021-07-28T18:54:54.372Z"
   },
   {
    "duration": 395,
    "start_time": "2021-07-28T18:54:54.895Z"
   },
   {
    "duration": 37,
    "start_time": "2021-07-28T18:54:55.292Z"
   },
   {
    "duration": 63,
    "start_time": "2021-07-28T18:54:55.332Z"
   },
   {
    "duration": 75,
    "start_time": "2021-07-28T18:54:55.398Z"
   },
   {
    "duration": 12288,
    "start_time": "2021-07-28T18:54:55.476Z"
   },
   {
    "duration": 20,
    "start_time": "2021-07-28T18:55:07.766Z"
   },
   {
    "duration": 534,
    "start_time": "2021-07-28T18:55:07.789Z"
   },
   {
    "duration": 30,
    "start_time": "2021-07-28T18:55:08.326Z"
   },
   {
    "duration": 145,
    "start_time": "2021-07-28T18:55:08.359Z"
   },
   {
    "duration": 49,
    "start_time": "2021-07-28T18:55:08.507Z"
   },
   {
    "duration": 27,
    "start_time": "2021-07-28T18:55:08.559Z"
   },
   {
    "duration": 103733,
    "start_time": "2021-07-28T18:55:08.589Z"
   },
   {
    "duration": -500,
    "start_time": "2021-07-28T18:56:52.825Z"
   },
   {
    "duration": 74397,
    "start_time": "2021-07-28T18:57:01.027Z"
   },
   {
    "duration": 29,
    "start_time": "2021-07-28T18:58:15.427Z"
   },
   {
    "duration": 352,
    "start_time": "2021-07-28T19:00:07.752Z"
   },
   {
    "duration": 78,
    "start_time": "2021-07-28T19:00:40.961Z"
   },
   {
    "duration": 19,
    "start_time": "2021-07-28T19:00:47.408Z"
   },
   {
    "duration": 6,
    "start_time": "2021-07-28T19:00:52.593Z"
   },
   {
    "duration": 125,
    "start_time": "2021-07-28T19:02:01.087Z"
   },
   {
    "duration": 310,
    "start_time": "2021-07-28T19:02:18.071Z"
   },
   {
    "duration": 261,
    "start_time": "2021-07-28T19:02:44.743Z"
   },
   {
    "duration": 4,
    "start_time": "2021-07-28T19:02:54.942Z"
   },
   {
    "duration": 1177,
    "start_time": "2021-07-28T19:03:09.891Z"
   },
   {
    "duration": 1843,
    "start_time": "2021-07-28T19:03:11.071Z"
   },
   {
    "duration": 39,
    "start_time": "2021-07-28T19:03:12.917Z"
   },
   {
    "duration": 171,
    "start_time": "2021-07-28T19:03:12.959Z"
   },
   {
    "duration": 163,
    "start_time": "2021-07-28T19:03:13.133Z"
   },
   {
    "duration": 246,
    "start_time": "2021-07-28T19:03:13.299Z"
   },
   {
    "duration": 139,
    "start_time": "2021-07-28T19:03:13.547Z"
   },
   {
    "duration": 149,
    "start_time": "2021-07-28T19:03:13.689Z"
   },
   {
    "duration": 65,
    "start_time": "2021-07-28T19:03:13.841Z"
   },
   {
    "duration": 69,
    "start_time": "2021-07-28T19:03:13.908Z"
   },
   {
    "duration": 1134,
    "start_time": "2021-07-28T19:03:13.980Z"
   },
   {
    "duration": 1754,
    "start_time": "2021-07-28T19:03:15.117Z"
   },
   {
    "duration": 100,
    "start_time": "2021-07-28T19:03:16.873Z"
   },
   {
    "duration": 344,
    "start_time": "2021-07-28T19:03:16.975Z"
   },
   {
    "duration": 32,
    "start_time": "2021-07-28T19:03:17.322Z"
   },
   {
    "duration": 15,
    "start_time": "2021-07-28T19:03:17.358Z"
   },
   {
    "duration": 126,
    "start_time": "2021-07-28T19:03:17.377Z"
   },
   {
    "duration": 487,
    "start_time": "2021-07-28T19:03:17.506Z"
   },
   {
    "duration": 367,
    "start_time": "2021-07-28T19:03:17.996Z"
   },
   {
    "duration": 936,
    "start_time": "2021-07-28T19:03:18.366Z"
   },
   {
    "duration": 91,
    "start_time": "2021-07-28T19:03:19.305Z"
   },
   {
    "duration": 1058,
    "start_time": "2021-07-28T19:03:19.399Z"
   },
   {
    "duration": 64,
    "start_time": "2021-07-28T19:03:20.463Z"
   },
   {
    "duration": 76,
    "start_time": "2021-07-28T19:03:20.530Z"
   },
   {
    "duration": 508,
    "start_time": "2021-07-28T19:03:20.608Z"
   },
   {
    "duration": 446,
    "start_time": "2021-07-28T19:03:21.119Z"
   },
   {
    "duration": 11,
    "start_time": "2021-07-28T19:03:21.568Z"
   },
   {
    "duration": 417,
    "start_time": "2021-07-28T19:03:21.582Z"
   },
   {
    "duration": 368,
    "start_time": "2021-07-28T19:03:22.001Z"
   },
   {
    "duration": 289,
    "start_time": "2021-07-28T19:03:22.371Z"
   },
   {
    "duration": 16,
    "start_time": "2021-07-28T19:03:22.663Z"
   },
   {
    "duration": 24,
    "start_time": "2021-07-28T19:03:22.682Z"
   },
   {
    "duration": 204,
    "start_time": "2021-07-28T19:03:22.709Z"
   },
   {
    "duration": 43,
    "start_time": "2021-07-28T19:03:22.916Z"
   },
   {
    "duration": 214,
    "start_time": "2021-07-28T19:03:22.962Z"
   },
   {
    "duration": 7,
    "start_time": "2021-07-28T19:03:23.178Z"
   },
   {
    "duration": 245,
    "start_time": "2021-07-28T19:03:23.187Z"
   },
   {
    "duration": 35,
    "start_time": "2021-07-28T19:03:23.434Z"
   },
   {
    "duration": 38015,
    "start_time": "2021-07-28T19:03:23.472Z"
   },
   {
    "duration": 22,
    "start_time": "2021-07-28T19:04:01.490Z"
   },
   {
    "duration": 6356,
    "start_time": "2021-07-28T19:04:01.515Z"
   },
   {
    "duration": 22,
    "start_time": "2021-07-28T19:04:07.873Z"
   },
   {
    "duration": 39,
    "start_time": "2021-07-28T19:04:07.898Z"
   },
   {
    "duration": 107,
    "start_time": "2021-07-28T19:04:07.939Z"
   },
   {
    "duration": 22,
    "start_time": "2021-07-28T19:04:08.055Z"
   },
   {
    "duration": 29,
    "start_time": "2021-07-28T19:04:08.079Z"
   },
   {
    "duration": 137,
    "start_time": "2021-07-28T19:04:08.111Z"
   },
   {
    "duration": 424,
    "start_time": "2021-07-28T19:04:08.250Z"
   },
   {
    "duration": 525,
    "start_time": "2021-07-28T19:04:08.676Z"
   },
   {
    "duration": 487,
    "start_time": "2021-07-28T19:04:09.203Z"
   },
   {
    "duration": 38,
    "start_time": "2021-07-28T19:04:09.692Z"
   },
   {
    "duration": 46,
    "start_time": "2021-07-28T19:04:09.753Z"
   },
   {
    "duration": 83,
    "start_time": "2021-07-28T19:04:09.802Z"
   },
   {
    "duration": 16097,
    "start_time": "2021-07-28T19:04:09.887Z"
   },
   {
    "duration": 33,
    "start_time": "2021-07-28T19:04:25.987Z"
   },
   {
    "duration": 853,
    "start_time": "2021-07-28T19:04:26.023Z"
   },
   {
    "duration": 32,
    "start_time": "2021-07-28T19:04:26.879Z"
   },
   {
    "duration": 261,
    "start_time": "2021-07-28T19:04:26.914Z"
   },
   {
    "duration": 40,
    "start_time": "2021-07-28T19:04:27.178Z"
   },
   {
    "duration": 45,
    "start_time": "2021-07-28T19:04:27.221Z"
   },
   {
    "duration": 73193,
    "start_time": "2021-07-28T19:04:27.269Z"
   },
   {
    "duration": 22,
    "start_time": "2021-07-28T19:05:40.465Z"
   },
   {
    "duration": 119,
    "start_time": "2021-07-28T19:05:40.489Z"
   },
   {
    "duration": 3,
    "start_time": "2021-07-28T19:05:40.611Z"
   },
   {
    "duration": 466,
    "start_time": "2021-07-28T19:06:19.672Z"
   },
   {
    "duration": 98,
    "start_time": "2021-07-28T19:06:31.174Z"
   },
   {
    "duration": 36,
    "start_time": "2021-07-28T19:06:32.344Z"
   },
   {
    "duration": 21,
    "start_time": "2021-07-28T19:06:44.592Z"
   },
   {
    "duration": 27,
    "start_time": "2021-07-28T19:06:53.614Z"
   },
   {
    "duration": 61,
    "start_time": "2021-07-28T19:07:00.657Z"
   },
   {
    "duration": 1291,
    "start_time": "2021-07-28T19:09:02.080Z"
   },
   {
    "duration": 1726,
    "start_time": "2021-07-28T19:09:03.374Z"
   },
   {
    "duration": 32,
    "start_time": "2021-07-28T19:09:05.104Z"
   },
   {
    "duration": 185,
    "start_time": "2021-07-28T19:09:05.139Z"
   },
   {
    "duration": 169,
    "start_time": "2021-07-28T19:09:05.327Z"
   },
   {
    "duration": 244,
    "start_time": "2021-07-28T19:09:05.498Z"
   },
   {
    "duration": 134,
    "start_time": "2021-07-28T19:09:05.744Z"
   },
   {
    "duration": 151,
    "start_time": "2021-07-28T19:09:05.881Z"
   },
   {
    "duration": 66,
    "start_time": "2021-07-28T19:09:06.036Z"
   },
   {
    "duration": 64,
    "start_time": "2021-07-28T19:09:06.105Z"
   },
   {
    "duration": 1137,
    "start_time": "2021-07-28T19:09:06.172Z"
   },
   {
    "duration": 1246,
    "start_time": "2021-07-28T19:09:07.312Z"
   },
   {
    "duration": 98,
    "start_time": "2021-07-28T19:09:08.561Z"
   },
   {
    "duration": 357,
    "start_time": "2021-07-28T19:09:08.662Z"
   },
   {
    "duration": 12,
    "start_time": "2021-07-28T19:09:09.021Z"
   },
   {
    "duration": 28,
    "start_time": "2021-07-28T19:09:09.036Z"
   },
   {
    "duration": 113,
    "start_time": "2021-07-28T19:09:09.067Z"
   },
   {
    "duration": 501,
    "start_time": "2021-07-28T19:09:09.183Z"
   },
   {
    "duration": 544,
    "start_time": "2021-07-28T19:09:09.687Z"
   },
   {
    "duration": 1535,
    "start_time": "2021-07-28T19:09:10.234Z"
   },
   {
    "duration": 99,
    "start_time": "2021-07-28T19:09:11.772Z"
   },
   {
    "duration": 1652,
    "start_time": "2021-07-28T19:09:11.874Z"
   },
   {
    "duration": 88,
    "start_time": "2021-07-28T19:09:13.537Z"
   },
   {
    "duration": 92,
    "start_time": "2021-07-28T19:09:13.630Z"
   },
   {
    "duration": 823,
    "start_time": "2021-07-28T19:09:13.725Z"
   },
   {
    "duration": 436,
    "start_time": "2021-07-28T19:09:14.555Z"
   },
   {
    "duration": 11,
    "start_time": "2021-07-28T19:09:14.993Z"
   },
   {
    "duration": 455,
    "start_time": "2021-07-28T19:09:15.006Z"
   },
   {
    "duration": 517,
    "start_time": "2021-07-28T19:09:15.463Z"
   },
   {
    "duration": 638,
    "start_time": "2021-07-28T19:09:15.984Z"
   },
   {
    "duration": 44,
    "start_time": "2021-07-28T19:09:16.626Z"
   },
   {
    "duration": 8,
    "start_time": "2021-07-28T19:09:16.673Z"
   },
   {
    "duration": 331,
    "start_time": "2021-07-28T19:09:16.684Z"
   },
   {
    "duration": 46,
    "start_time": "2021-07-28T19:09:17.018Z"
   },
   {
    "duration": 317,
    "start_time": "2021-07-28T19:09:17.067Z"
   },
   {
    "duration": 7,
    "start_time": "2021-07-28T19:09:17.387Z"
   },
   {
    "duration": 242,
    "start_time": "2021-07-28T19:09:17.396Z"
   },
   {
    "duration": 34,
    "start_time": "2021-07-28T19:09:17.640Z"
   },
   {
    "duration": 42178,
    "start_time": "2021-07-28T19:09:17.676Z"
   },
   {
    "duration": 24,
    "start_time": "2021-07-28T19:09:59.857Z"
   },
   {
    "duration": 6670,
    "start_time": "2021-07-28T19:09:59.884Z"
   },
   {
    "duration": 23,
    "start_time": "2021-07-28T19:10:06.557Z"
   },
   {
    "duration": 29,
    "start_time": "2021-07-28T19:10:06.583Z"
   },
   {
    "duration": 250,
    "start_time": "2021-07-28T19:10:06.615Z"
   },
   {
    "duration": 74,
    "start_time": "2021-07-28T19:10:06.883Z"
   },
   {
    "duration": 319,
    "start_time": "2021-07-28T19:10:06.975Z"
   },
   {
    "duration": 186,
    "start_time": "2021-07-28T19:10:07.298Z"
   },
   {
    "duration": 476,
    "start_time": "2021-07-28T19:10:07.487Z"
   },
   {
    "duration": 566,
    "start_time": "2021-07-28T19:10:07.966Z"
   },
   {
    "duration": 400,
    "start_time": "2021-07-28T19:10:08.534Z"
   },
   {
    "duration": 52,
    "start_time": "2021-07-28T19:10:08.936Z"
   },
   {
    "duration": 42,
    "start_time": "2021-07-28T19:10:08.991Z"
   },
   {
    "duration": 62,
    "start_time": "2021-07-28T19:10:09.056Z"
   },
   {
    "duration": 13300,
    "start_time": "2021-07-28T19:10:09.122Z"
   },
   {
    "duration": 32,
    "start_time": "2021-07-28T19:10:22.424Z"
   },
   {
    "duration": 844,
    "start_time": "2021-07-28T19:10:22.460Z"
   },
   {
    "duration": 31,
    "start_time": "2021-07-28T19:10:23.308Z"
   },
   {
    "duration": 245,
    "start_time": "2021-07-28T19:10:23.354Z"
   },
   {
    "duration": 57,
    "start_time": "2021-07-28T19:10:23.602Z"
   },
   {
    "duration": 25,
    "start_time": "2021-07-28T19:10:23.661Z"
   },
   {
    "duration": 78181,
    "start_time": "2021-07-28T19:10:23.689Z"
   },
   {
    "duration": 20,
    "start_time": "2021-07-28T19:11:41.872Z"
   },
   {
    "duration": 15,
    "start_time": "2021-07-28T19:11:41.894Z"
   },
   {
    "duration": 16,
    "start_time": "2021-07-28T19:11:41.911Z"
   },
   {
    "duration": 37,
    "start_time": "2021-07-28T19:14:48.955Z"
   },
   {
    "duration": 23,
    "start_time": "2021-07-28T19:14:54.974Z"
   },
   {
    "duration": 23,
    "start_time": "2021-07-28T19:15:17.163Z"
   },
   {
    "duration": 6,
    "start_time": "2021-07-28T19:15:23.172Z"
   },
   {
    "duration": 23,
    "start_time": "2021-07-28T19:15:56.461Z"
   },
   {
    "duration": 101,
    "start_time": "2021-07-28T19:16:03.891Z"
   },
   {
    "duration": 22,
    "start_time": "2021-07-28T19:16:05.082Z"
   },
   {
    "duration": 81,
    "start_time": "2021-07-28T19:17:22.450Z"
   },
   {
    "duration": 39,
    "start_time": "2021-07-28T19:17:26.489Z"
   },
   {
    "duration": 6,
    "start_time": "2021-07-28T19:18:14.265Z"
   },
   {
    "duration": 164,
    "start_time": "2021-07-28T19:18:39.153Z"
   },
   {
    "duration": 40,
    "start_time": "2021-07-28T19:19:24.953Z"
   },
   {
    "duration": 38,
    "start_time": "2021-07-28T19:20:22.022Z"
   },
   {
    "duration": 338,
    "start_time": "2021-07-28T19:21:07.888Z"
   },
   {
    "duration": 291,
    "start_time": "2021-07-28T19:21:23.464Z"
   },
   {
    "duration": 39,
    "start_time": "2021-07-28T19:21:29.647Z"
   },
   {
    "duration": 1150,
    "start_time": "2021-07-29T06:15:52.611Z"
   },
   {
    "duration": 2165,
    "start_time": "2021-07-29T06:15:53.763Z"
   },
   {
    "duration": 36,
    "start_time": "2021-07-29T06:15:55.931Z"
   },
   {
    "duration": 172,
    "start_time": "2021-07-29T06:15:55.969Z"
   },
   {
    "duration": 150,
    "start_time": "2021-07-29T06:15:56.143Z"
   },
   {
    "duration": 228,
    "start_time": "2021-07-29T06:15:56.295Z"
   },
   {
    "duration": 120,
    "start_time": "2021-07-29T06:15:56.525Z"
   },
   {
    "duration": 136,
    "start_time": "2021-07-29T06:15:56.656Z"
   },
   {
    "duration": 64,
    "start_time": "2021-07-29T06:15:56.795Z"
   },
   {
    "duration": 54,
    "start_time": "2021-07-29T06:15:56.862Z"
   },
   {
    "duration": 1070,
    "start_time": "2021-07-29T06:15:56.919Z"
   },
   {
    "duration": 1046,
    "start_time": "2021-07-29T06:15:57.992Z"
   },
   {
    "duration": 79,
    "start_time": "2021-07-29T06:15:59.040Z"
   },
   {
    "duration": 320,
    "start_time": "2021-07-29T06:15:59.121Z"
   },
   {
    "duration": 21,
    "start_time": "2021-07-29T06:15:59.443Z"
   },
   {
    "duration": 10,
    "start_time": "2021-07-29T06:15:59.466Z"
   },
   {
    "duration": 97,
    "start_time": "2021-07-29T06:15:59.478Z"
   },
   {
    "duration": 324,
    "start_time": "2021-07-29T06:15:59.577Z"
   },
   {
    "duration": 333,
    "start_time": "2021-07-29T06:15:59.903Z"
   },
   {
    "duration": 888,
    "start_time": "2021-07-29T06:16:00.239Z"
   },
   {
    "duration": 91,
    "start_time": "2021-07-29T06:16:01.130Z"
   },
   {
    "duration": 956,
    "start_time": "2021-07-29T06:16:01.223Z"
   },
   {
    "duration": 81,
    "start_time": "2021-07-29T06:16:02.187Z"
   },
   {
    "duration": 61,
    "start_time": "2021-07-29T06:16:02.274Z"
   },
   {
    "duration": 528,
    "start_time": "2021-07-29T06:16:02.338Z"
   },
   {
    "duration": 439,
    "start_time": "2021-07-29T06:16:02.869Z"
   },
   {
    "duration": 11,
    "start_time": "2021-07-29T06:16:03.312Z"
   },
   {
    "duration": 417,
    "start_time": "2021-07-29T06:16:03.326Z"
   },
   {
    "duration": 369,
    "start_time": "2021-07-29T06:16:03.746Z"
   },
   {
    "duration": 277,
    "start_time": "2021-07-29T06:16:04.117Z"
   },
   {
    "duration": 17,
    "start_time": "2021-07-29T06:16:04.396Z"
   },
   {
    "duration": 5,
    "start_time": "2021-07-29T06:16:04.415Z"
   },
   {
    "duration": 225,
    "start_time": "2021-07-29T06:16:04.422Z"
   },
   {
    "duration": 39,
    "start_time": "2021-07-29T06:16:04.649Z"
   },
   {
    "duration": 207,
    "start_time": "2021-07-29T06:16:04.690Z"
   },
   {
    "duration": 6,
    "start_time": "2021-07-29T06:16:04.899Z"
   },
   {
    "duration": 240,
    "start_time": "2021-07-29T06:16:04.908Z"
   },
   {
    "duration": 30,
    "start_time": "2021-07-29T06:16:05.155Z"
   },
   {
    "duration": 35528,
    "start_time": "2021-07-29T06:16:05.187Z"
   },
   {
    "duration": 24,
    "start_time": "2021-07-29T06:16:40.719Z"
   },
   {
    "duration": 5851,
    "start_time": "2021-07-29T06:16:40.745Z"
   },
   {
    "duration": 19,
    "start_time": "2021-07-29T06:16:46.599Z"
   },
   {
    "duration": 41,
    "start_time": "2021-07-29T06:16:46.621Z"
   },
   {
    "duration": 95,
    "start_time": "2021-07-29T06:16:46.665Z"
   },
   {
    "duration": 22,
    "start_time": "2021-07-29T06:16:46.762Z"
   },
   {
    "duration": 21,
    "start_time": "2021-07-29T06:16:46.786Z"
   },
   {
    "duration": 136,
    "start_time": "2021-07-29T06:16:46.810Z"
   },
   {
    "duration": 426,
    "start_time": "2021-07-29T06:16:46.955Z"
   },
   {
    "duration": 489,
    "start_time": "2021-07-29T06:16:47.383Z"
   },
   {
    "duration": 391,
    "start_time": "2021-07-29T06:16:47.875Z"
   },
   {
    "duration": 38,
    "start_time": "2021-07-29T06:16:48.268Z"
   },
   {
    "duration": 64,
    "start_time": "2021-07-29T06:16:48.308Z"
   },
   {
    "duration": 58,
    "start_time": "2021-07-29T06:16:48.374Z"
   },
   {
    "duration": 11539,
    "start_time": "2021-07-29T06:16:48.435Z"
   },
   {
    "duration": 21,
    "start_time": "2021-07-29T06:16:59.977Z"
   },
   {
    "duration": 500,
    "start_time": "2021-07-29T06:17:00.001Z"
   },
   {
    "duration": 18,
    "start_time": "2021-07-29T06:17:00.504Z"
   },
   {
    "duration": 54,
    "start_time": "2021-07-29T06:17:00.524Z"
   },
   {
    "duration": 33,
    "start_time": "2021-07-29T06:17:00.580Z"
   },
   {
    "duration": 68940,
    "start_time": "2021-07-29T06:17:00.615Z"
   },
   {
    "duration": 19,
    "start_time": "2021-07-29T06:18:09.558Z"
   },
   {
    "duration": 101,
    "start_time": "2021-07-29T06:18:09.579Z"
   },
   {
    "duration": 36,
    "start_time": "2021-07-29T06:18:09.682Z"
   },
   {
    "duration": 145,
    "start_time": "2021-07-29T06:18:09.720Z"
   },
   {
    "duration": 37,
    "start_time": "2021-07-29T06:18:09.867Z"
   },
   {
    "duration": 307,
    "start_time": "2021-07-29T06:18:09.906Z"
   },
   {
    "duration": 41,
    "start_time": "2021-07-29T06:18:10.215Z"
   },
   {
    "duration": 123,
    "start_time": "2021-07-29T06:18:21.853Z"
   },
   {
    "duration": 134,
    "start_time": "2021-07-29T06:32:50.956Z"
   },
   {
    "duration": 21,
    "start_time": "2021-07-29T06:32:59.493Z"
   },
   {
    "duration": 74,
    "start_time": "2021-07-29T06:33:06.459Z"
   },
   {
    "duration": 631,
    "start_time": "2021-07-29T06:33:07.307Z"
   },
   {
    "duration": 439,
    "start_time": "2021-07-29T06:33:48.171Z"
   },
   {
    "duration": 7,
    "start_time": "2021-07-29T06:33:59.843Z"
   },
   {
    "duration": 45,
    "start_time": "2021-07-29T06:34:30.068Z"
   },
   {
    "duration": 44,
    "start_time": "2021-07-29T06:34:36.658Z"
   },
   {
    "duration": 13,
    "start_time": "2021-07-29T06:48:18.176Z"
   },
   {
    "duration": 57,
    "start_time": "2021-07-29T06:48:18.674Z"
   },
   {
    "duration": 42,
    "start_time": "2021-07-29T06:48:19.368Z"
   },
   {
    "duration": 31,
    "start_time": "2021-07-29T06:55:06.010Z"
   },
   {
    "duration": 30,
    "start_time": "2021-07-29T06:55:11.052Z"
   },
   {
    "duration": 29,
    "start_time": "2021-07-29T06:58:05.273Z"
   },
   {
    "duration": 25,
    "start_time": "2021-07-29T06:58:05.676Z"
   },
   {
    "duration": 15,
    "start_time": "2021-07-29T06:58:21.811Z"
   },
   {
    "duration": 73,
    "start_time": "2021-07-29T06:58:29.509Z"
   },
   {
    "duration": 435,
    "start_time": "2021-07-29T07:01:56.657Z"
   },
   {
    "duration": 144,
    "start_time": "2021-07-29T07:02:13.352Z"
   },
   {
    "duration": 418,
    "start_time": "2021-07-29T07:04:20.055Z"
   },
   {
    "duration": 488,
    "start_time": "2021-07-29T07:04:21.927Z"
   },
   {
    "duration": 25,
    "start_time": "2021-07-29T07:07:39.971Z"
   },
   {
    "duration": 14,
    "start_time": "2021-07-29T07:07:42.376Z"
   },
   {
    "duration": 10,
    "start_time": "2021-07-29T07:08:06.878Z"
   },
   {
    "duration": 121,
    "start_time": "2021-07-29T07:08:48.413Z"
   },
   {
    "duration": 4,
    "start_time": "2021-07-29T07:11:40.842Z"
   },
   {
    "duration": 5,
    "start_time": "2021-07-29T07:12:05.362Z"
   },
   {
    "duration": 27,
    "start_time": "2021-07-29T07:12:42.369Z"
   },
   {
    "duration": 16,
    "start_time": "2021-07-29T07:12:42.970Z"
   },
   {
    "duration": 33,
    "start_time": "2021-07-29T07:13:13.700Z"
   },
   {
    "duration": 15,
    "start_time": "2021-07-29T07:13:14.665Z"
   },
   {
    "duration": 8,
    "start_time": "2021-07-29T07:13:30.322Z"
   },
   {
    "duration": 6,
    "start_time": "2021-07-29T07:20:20.445Z"
   },
   {
    "duration": 880,
    "start_time": "2021-07-29T07:20:44.376Z"
   },
   {
    "duration": 5,
    "start_time": "2021-07-29T07:21:14.084Z"
   },
   {
    "duration": 7,
    "start_time": "2021-07-29T07:21:18.357Z"
   },
   {
    "duration": 794,
    "start_time": "2021-07-29T07:21:19.549Z"
   },
   {
    "duration": 219,
    "start_time": "2021-07-29T07:21:36.739Z"
   },
   {
    "duration": 13,
    "start_time": "2021-07-29T07:21:39.878Z"
   },
   {
    "duration": 741,
    "start_time": "2021-07-29T07:21:40.436Z"
   },
   {
    "duration": 4,
    "start_time": "2021-07-29T07:25:38.235Z"
   },
   {
    "duration": 4,
    "start_time": "2021-07-29T07:25:41.616Z"
   },
   {
    "duration": 909,
    "start_time": "2021-07-29T07:25:47.089Z"
   },
   {
    "duration": 40,
    "start_time": "2021-07-29T07:27:34.202Z"
   },
   {
    "duration": 403,
    "start_time": "2021-07-29T07:28:15.439Z"
   },
   {
    "duration": 45,
    "start_time": "2021-07-29T07:28:25.999Z"
   },
   {
    "duration": 37,
    "start_time": "2021-07-29T07:30:19.909Z"
   },
   {
    "duration": 44,
    "start_time": "2021-07-29T07:30:25.477Z"
   },
   {
    "duration": 22,
    "start_time": "2021-07-29T07:30:42.929Z"
   },
   {
    "duration": 38,
    "start_time": "2021-07-29T07:30:56.480Z"
   },
   {
    "duration": 765,
    "start_time": "2021-07-29T07:31:23.197Z"
   },
   {
    "duration": 4,
    "start_time": "2021-07-29T07:31:37.678Z"
   },
   {
    "duration": 6,
    "start_time": "2021-07-29T07:31:42.839Z"
   },
   {
    "duration": 727,
    "start_time": "2021-07-29T07:31:43.398Z"
   },
   {
    "duration": 750,
    "start_time": "2021-07-29T07:32:01.174Z"
   },
   {
    "duration": 43,
    "start_time": "2021-07-29T07:35:02.540Z"
   },
   {
    "duration": 27,
    "start_time": "2021-07-29T07:35:33.938Z"
   },
   {
    "duration": 376,
    "start_time": "2021-07-29T07:36:12.338Z"
   },
   {
    "duration": 124,
    "start_time": "2021-07-29T07:36:19.042Z"
   },
   {
    "duration": 4,
    "start_time": "2021-07-29T07:38:15.323Z"
   },
   {
    "duration": 3,
    "start_time": "2021-07-29T07:42:07.896Z"
   },
   {
    "duration": 253,
    "start_time": "2021-07-29T07:42:09.335Z"
   },
   {
    "duration": 4,
    "start_time": "2021-07-29T07:42:29.607Z"
   },
   {
    "duration": 631110,
    "start_time": "2021-07-29T07:42:33.838Z"
   },
   {
    "duration": 1451,
    "start_time": "2021-07-29T07:55:18.199Z"
   },
   {
    "duration": 1068,
    "start_time": "2021-07-29T07:56:10.121Z"
   },
   {
    "duration": 4,
    "start_time": "2021-07-29T07:56:38.998Z"
   },
   {
    "duration": 1034,
    "start_time": "2021-07-29T07:56:43.526Z"
   },
   {
    "duration": 728,
    "start_time": "2021-07-29T07:57:09.437Z"
   },
   {
    "duration": 362,
    "start_time": "2021-07-29T07:57:56.925Z"
   },
   {
    "duration": 345,
    "start_time": "2021-07-29T07:58:02.159Z"
   },
   {
    "duration": 614,
    "start_time": "2021-07-29T07:58:18.026Z"
   },
   {
    "duration": 355,
    "start_time": "2021-07-29T08:09:29.621Z"
   },
   {
    "duration": 2794,
    "start_time": "2021-07-29T08:11:16.852Z"
   },
   {
    "duration": 71,
    "start_time": "2021-07-29T08:13:57.978Z"
   },
   {
    "duration": 129,
    "start_time": "2021-07-29T08:14:02.402Z"
   },
   {
    "duration": 818,
    "start_time": "2021-07-29T08:14:49.691Z"
   },
   {
    "duration": 41,
    "start_time": "2021-07-29T08:14:51.553Z"
   },
   {
    "duration": 366,
    "start_time": "2021-07-29T08:15:40.819Z"
   },
   {
    "duration": 751,
    "start_time": "2021-07-29T08:16:14.345Z"
   },
   {
    "duration": 715,
    "start_time": "2021-07-29T08:16:27.192Z"
   },
   {
    "duration": 41,
    "start_time": "2021-07-29T08:16:33.680Z"
   },
   {
    "duration": 1011,
    "start_time": "2021-07-29T08:17:17.979Z"
   },
   {
    "duration": 287,
    "start_time": "2021-07-29T08:17:51.057Z"
   },
   {
    "duration": 951,
    "start_time": "2021-07-29T08:18:20.241Z"
   },
   {
    "duration": 172389,
    "start_time": "2021-07-29T08:18:21.194Z"
   },
   {
    "duration": 53052,
    "start_time": "2021-07-29T08:21:30.405Z"
   },
   {
    "duration": 6,
    "start_time": "2021-07-29T09:04:36.370Z"
   },
   {
    "duration": 11,
    "start_time": "2021-07-29T09:04:45.836Z"
   },
   {
    "duration": 934,
    "start_time": "2021-07-29T09:05:20.113Z"
   },
   {
    "duration": 172979,
    "start_time": "2021-07-29T09:05:21.627Z"
   },
   {
    "duration": 6,
    "start_time": "2021-07-29T09:08:54.208Z"
   },
   {
    "duration": 393,
    "start_time": "2021-07-29T09:10:00.775Z"
   },
   {
    "duration": 164,
    "start_time": "2021-07-29T09:11:45.070Z"
   },
   {
    "duration": 367,
    "start_time": "2021-07-29T09:11:54.784Z"
   },
   {
    "duration": 609,
    "start_time": "2021-07-29T09:13:40.213Z"
   },
   {
    "duration": 421,
    "start_time": "2021-07-29T09:13:51.911Z"
   },
   {
    "duration": 5,
    "start_time": "2021-07-29T09:14:25.141Z"
   },
   {
    "duration": 400,
    "start_time": "2021-07-29T09:14:31.943Z"
   },
   {
    "duration": 5,
    "start_time": "2021-07-29T09:14:35.604Z"
   },
   {
    "duration": 6,
    "start_time": "2021-07-29T09:14:55.710Z"
   },
   {
    "duration": 122,
    "start_time": "2021-07-29T09:15:18.101Z"
   },
   {
    "duration": 463,
    "start_time": "2021-07-29T09:15:25.428Z"
   },
   {
    "duration": 29,
    "start_time": "2021-07-29T09:15:39.484Z"
   },
   {
    "duration": 468,
    "start_time": "2021-07-29T09:15:54.821Z"
   },
   {
    "duration": 49,
    "start_time": "2021-07-29T09:16:30.483Z"
   },
   {
    "duration": 82,
    "start_time": "2021-07-29T09:16:33.999Z"
   },
   {
    "duration": 511,
    "start_time": "2021-07-29T09:18:08.962Z"
   },
   {
    "duration": 425,
    "start_time": "2021-07-29T09:18:23.952Z"
   },
   {
    "duration": 58,
    "start_time": "2021-07-29T09:18:34.187Z"
   },
   {
    "duration": 6,
    "start_time": "2021-07-29T09:18:42.298Z"
   },
   {
    "duration": 159,
    "start_time": "2021-07-29T09:18:50.922Z"
   },
   {
    "duration": 5,
    "start_time": "2021-07-29T09:18:57.387Z"
   },
   {
    "duration": 11,
    "start_time": "2021-07-29T09:19:05.833Z"
   },
   {
    "duration": 524,
    "start_time": "2021-07-29T09:19:44.708Z"
   },
   {
    "duration": 11,
    "start_time": "2021-07-29T09:19:48.658Z"
   },
   {
    "duration": 7,
    "start_time": "2021-07-29T09:19:58.699Z"
   },
   {
    "duration": 6,
    "start_time": "2021-07-29T09:20:05.779Z"
   },
   {
    "duration": 67,
    "start_time": "2021-07-29T09:20:15.442Z"
   },
   {
    "duration": 17,
    "start_time": "2021-07-29T09:20:18.957Z"
   },
   {
    "duration": 16,
    "start_time": "2021-07-29T09:20:59.921Z"
   },
   {
    "duration": 25,
    "start_time": "2021-07-29T09:22:31.208Z"
   },
   {
    "duration": 6,
    "start_time": "2021-07-29T09:22:44.098Z"
   },
   {
    "duration": 16,
    "start_time": "2021-07-29T09:22:57.968Z"
   },
   {
    "duration": 7,
    "start_time": "2021-07-29T09:23:00.510Z"
   },
   {
    "duration": 6,
    "start_time": "2021-07-29T09:23:14.521Z"
   },
   {
    "duration": 27,
    "start_time": "2021-07-29T09:25:42.577Z"
   },
   {
    "duration": 23,
    "start_time": "2021-07-29T09:26:31.728Z"
   },
   {
    "duration": 27,
    "start_time": "2021-07-29T09:26:40.317Z"
   },
   {
    "duration": 580,
    "start_time": "2021-07-29T09:27:34.151Z"
   },
   {
    "duration": 779,
    "start_time": "2021-07-29T09:27:57.167Z"
   },
   {
    "duration": 425,
    "start_time": "2021-07-29T09:28:53.108Z"
   },
   {
    "duration": 7,
    "start_time": "2021-07-29T09:30:07.531Z"
   },
   {
    "duration": 11,
    "start_time": "2021-07-29T09:30:18.939Z"
   },
   {
    "duration": 116,
    "start_time": "2021-07-29T09:30:35.947Z"
   },
   {
    "duration": 301,
    "start_time": "2021-07-29T09:30:39.196Z"
   },
   {
    "duration": 7,
    "start_time": "2021-07-29T09:30:57.586Z"
   },
   {
    "duration": 10,
    "start_time": "2021-07-29T09:31:06.043Z"
   },
   {
    "duration": 278,
    "start_time": "2021-07-29T09:31:44.580Z"
   },
   {
    "duration": 105,
    "start_time": "2021-07-29T09:39:00.479Z"
   },
   {
    "duration": 21,
    "start_time": "2021-07-29T09:39:06.302Z"
   },
   {
    "duration": 6,
    "start_time": "2021-07-29T09:39:19.510Z"
   },
   {
    "duration": 267,
    "start_time": "2021-07-29T09:39:42.101Z"
   },
   {
    "duration": 376,
    "start_time": "2021-07-29T09:42:13.795Z"
   },
   {
    "duration": 363,
    "start_time": "2021-07-29T09:42:43.006Z"
   },
   {
    "duration": 8,
    "start_time": "2021-07-29T09:43:20.066Z"
   },
   {
    "duration": 376,
    "start_time": "2021-07-29T09:43:54.514Z"
   },
   {
    "duration": 416,
    "start_time": "2021-07-29T09:44:03.421Z"
   },
   {
    "duration": 383,
    "start_time": "2021-07-29T09:44:11.298Z"
   },
   {
    "duration": 381,
    "start_time": "2021-07-29T09:45:23.699Z"
   },
   {
    "duration": 469,
    "start_time": "2021-07-29T09:47:03.227Z"
   },
   {
    "duration": 146,
    "start_time": "2021-07-29T09:47:12.666Z"
   },
   {
    "duration": 26,
    "start_time": "2021-07-29T09:47:30.061Z"
   },
   {
    "duration": 47,
    "start_time": "2021-07-29T09:47:56.879Z"
   },
   {
    "duration": 4,
    "start_time": "2021-07-29T09:48:12.985Z"
   },
   {
    "duration": 14906,
    "start_time": "2021-07-29T09:48:13.824Z"
   },
   {
    "duration": 622605,
    "start_time": "2021-07-29T09:48:32.456Z"
   },
   {
    "duration": 23,
    "start_time": "2021-07-29T09:59:10.080Z"
   },
   {
    "duration": 11,
    "start_time": "2021-07-29T09:59:36.714Z"
   },
   {
    "duration": 23,
    "start_time": "2021-07-29T09:59:46.962Z"
   },
   {
    "duration": 84,
    "start_time": "2021-07-29T10:00:08.369Z"
   },
   {
    "duration": 18,
    "start_time": "2021-07-29T10:00:12.481Z"
   },
   {
    "duration": 7,
    "start_time": "2021-07-29T10:00:15.809Z"
   },
   {
    "duration": 276,
    "start_time": "2021-07-29T10:00:19.680Z"
   },
   {
    "duration": 25,
    "start_time": "2021-07-29T10:02:41.857Z"
   },
   {
    "duration": 128,
    "start_time": "2021-07-29T10:03:23.616Z"
   },
   {
    "duration": 25,
    "start_time": "2021-07-29T10:03:26.703Z"
   },
   {
    "duration": 6,
    "start_time": "2021-07-29T10:05:09.110Z"
   },
   {
    "duration": 4,
    "start_time": "2021-07-29T10:05:10.941Z"
   },
   {
    "duration": 6,
    "start_time": "2021-07-29T10:05:11.598Z"
   },
   {
    "duration": 45,
    "start_time": "2021-07-29T10:05:15.134Z"
   },
   {
    "duration": 15,
    "start_time": "2021-07-29T10:05:16.783Z"
   },
   {
    "duration": 123,
    "start_time": "2021-07-29T10:05:24.623Z"
   },
   {
    "duration": 4,
    "start_time": "2021-07-29T10:05:25.686Z"
   },
   {
    "duration": 632313,
    "start_time": "2021-07-29T10:05:26.454Z"
   },
   {
    "duration": 9540,
    "start_time": "2021-07-29T10:16:18.023Z"
   },
   {
    "duration": 98,
    "start_time": "2021-07-29T10:16:29.711Z"
   },
   {
    "duration": 21,
    "start_time": "2021-07-29T10:16:36.431Z"
   },
   {
    "duration": 6,
    "start_time": "2021-07-29T10:16:41.223Z"
   },
   {
    "duration": 264,
    "start_time": "2021-07-29T10:16:42.869Z"
   },
   {
    "duration": 135,
    "start_time": "2021-07-29T10:18:30.190Z"
   },
   {
    "duration": 22,
    "start_time": "2021-07-29T10:18:46.342Z"
   },
   {
    "duration": 259,
    "start_time": "2021-07-29T10:19:12.173Z"
   },
   {
    "duration": 278,
    "start_time": "2021-07-29T10:20:08.437Z"
   },
   {
    "duration": 264,
    "start_time": "2021-07-29T10:20:11.533Z"
   },
   {
    "duration": 262,
    "start_time": "2021-07-29T10:20:13.396Z"
   },
   {
    "duration": 268,
    "start_time": "2021-07-29T10:20:39.701Z"
   },
   {
    "duration": 325,
    "start_time": "2021-07-29T10:21:36.988Z"
   },
   {
    "duration": 301,
    "start_time": "2021-07-29T10:21:48.206Z"
   },
   {
    "duration": 301,
    "start_time": "2021-07-29T10:22:12.310Z"
   },
   {
    "duration": 555,
    "start_time": "2021-07-29T10:22:44.918Z"
   },
   {
    "duration": 21,
    "start_time": "2021-07-29T10:23:21.619Z"
   },
   {
    "duration": 143,
    "start_time": "2021-07-29T10:24:07.211Z"
   },
   {
    "duration": 4391,
    "start_time": "2021-07-29T10:24:10.315Z"
   },
   {
    "duration": 1412,
    "start_time": "2021-07-29T10:24:49.434Z"
   },
   {
    "duration": 1318,
    "start_time": "2021-07-29T10:24:58.933Z"
   },
   {
    "duration": 20,
    "start_time": "2021-07-29T10:30:25.975Z"
   },
   {
    "duration": 244,
    "start_time": "2021-07-29T10:30:57.278Z"
   },
   {
    "duration": 253,
    "start_time": "2021-07-29T10:31:12.006Z"
   },
   {
    "duration": 1497,
    "start_time": "2021-07-29T10:31:25.649Z"
   },
   {
    "duration": 4,
    "start_time": "2021-07-29T11:02:05.791Z"
   },
   {
    "duration": 4378,
    "start_time": "2021-07-29T11:02:06.356Z"
   },
   {
    "duration": 35,
    "start_time": "2021-07-29T11:02:10.737Z"
   },
   {
    "duration": 145,
    "start_time": "2021-07-29T11:02:12.386Z"
   },
   {
    "duration": 151,
    "start_time": "2021-07-29T11:02:15.027Z"
   },
   {
    "duration": 198,
    "start_time": "2021-07-29T11:02:16.393Z"
   },
   {
    "duration": 105,
    "start_time": "2021-07-29T11:02:19.241Z"
   },
   {
    "duration": 391,
    "start_time": "2021-07-29T11:03:09.361Z"
   },
   {
    "duration": 60,
    "start_time": "2021-07-29T11:03:17.287Z"
   },
   {
    "duration": 119,
    "start_time": "2021-07-29T11:04:22.162Z"
   },
   {
    "duration": 51,
    "start_time": "2021-07-29T11:04:23.121Z"
   },
   {
    "duration": 52,
    "start_time": "2021-07-29T11:04:24.272Z"
   },
   {
    "duration": 907,
    "start_time": "2021-07-29T11:04:27.784Z"
   },
   {
    "duration": 50,
    "start_time": "2021-07-29T11:05:23.244Z"
   },
   {
    "duration": 929,
    "start_time": "2021-07-29T11:05:29.237Z"
   },
   {
    "duration": 1335,
    "start_time": "2021-07-29T11:05:34.202Z"
   },
   {
    "duration": 1080,
    "start_time": "2021-07-29T11:06:39.584Z"
   },
   {
    "duration": 52,
    "start_time": "2021-07-29T11:06:42.168Z"
   },
   {
    "duration": 7518,
    "start_time": "2021-07-29T11:07:11.119Z"
   },
   {
    "duration": 299,
    "start_time": "2021-07-29T11:07:39.880Z"
   },
   {
    "duration": 296,
    "start_time": "2021-07-29T11:07:50.395Z"
   },
   {
    "duration": 520,
    "start_time": "2021-07-29T11:07:54.703Z"
   },
   {
    "duration": 64,
    "start_time": "2021-07-29T11:08:07.262Z"
   },
   {
    "duration": 587,
    "start_time": "2021-07-29T11:08:08.022Z"
   },
   {
    "duration": 1018,
    "start_time": "2021-07-29T11:08:28.247Z"
   },
   {
    "duration": 433,
    "start_time": "2021-07-29T11:09:11.190Z"
   },
   {
    "duration": 562,
    "start_time": "2021-07-29T11:09:21.055Z"
   },
   {
    "duration": 623,
    "start_time": "2021-07-29T11:10:32.270Z"
   },
   {
    "duration": 853,
    "start_time": "2021-07-29T11:10:42.472Z"
   },
   {
    "duration": 316,
    "start_time": "2021-07-29T11:11:07.094Z"
   },
   {
    "duration": 12,
    "start_time": "2021-07-29T11:11:16.686Z"
   },
   {
    "duration": 12,
    "start_time": "2021-07-29T11:11:19.941Z"
   },
   {
    "duration": 382,
    "start_time": "2021-07-29T11:11:34.870Z"
   },
   {
    "duration": 76,
    "start_time": "2021-07-29T11:11:40.301Z"
   },
   {
    "duration": 321,
    "start_time": "2021-07-29T11:11:45.857Z"
   },
   {
    "duration": 425,
    "start_time": "2021-07-29T11:11:53.934Z"
   },
   {
    "duration": 992,
    "start_time": "2021-07-29T11:12:02.740Z"
   },
   {
    "duration": 66,
    "start_time": "2021-07-29T11:12:42.628Z"
   },
   {
    "duration": 930,
    "start_time": "2021-07-29T11:12:51.892Z"
   },
   {
    "duration": 66,
    "start_time": "2021-07-29T11:13:20.811Z"
   },
   {
    "duration": 66,
    "start_time": "2021-07-29T11:13:28.819Z"
   },
   {
    "duration": 56,
    "start_time": "2021-07-29T11:13:44.836Z"
   },
   {
    "duration": 479,
    "start_time": "2021-07-29T11:13:49.836Z"
   },
   {
    "duration": 408,
    "start_time": "2021-07-29T11:13:58.620Z"
   },
   {
    "duration": 12,
    "start_time": "2021-07-29T11:14:08.770Z"
   },
   {
    "duration": 487,
    "start_time": "2021-07-29T11:14:17.452Z"
   },
   {
    "duration": 438,
    "start_time": "2021-07-29T11:14:23.218Z"
   },
   {
    "duration": 17,
    "start_time": "2021-07-29T11:15:12.665Z"
   },
   {
    "duration": 31,
    "start_time": "2021-07-29T11:15:13.058Z"
   },
   {
    "duration": 264,
    "start_time": "2021-07-29T11:16:05.011Z"
   },
   {
    "duration": 391,
    "start_time": "2021-07-29T11:16:22.690Z"
   },
   {
    "duration": 15,
    "start_time": "2021-07-29T11:17:17.338Z"
   },
   {
    "duration": 32,
    "start_time": "2021-07-29T11:17:17.754Z"
   },
   {
    "duration": 386,
    "start_time": "2021-07-29T11:18:41.456Z"
   },
   {
    "duration": 38,
    "start_time": "2021-07-29T11:18:51.065Z"
   },
   {
    "duration": 6059,
    "start_time": "2021-07-29T11:26:49.048Z"
   },
   {
    "duration": 22,
    "start_time": "2021-07-29T11:26:56.730Z"
   },
   {
    "duration": 24,
    "start_time": "2021-07-29T11:27:05.285Z"
   },
   {
    "duration": 24,
    "start_time": "2021-07-29T11:28:51.680Z"
   },
   {
    "duration": 44,
    "start_time": "2021-07-29T11:29:35.225Z"
   },
   {
    "duration": 27,
    "start_time": "2021-07-29T11:30:50.124Z"
   },
   {
    "duration": 26,
    "start_time": "2021-07-29T11:31:00.849Z"
   },
   {
    "duration": 24,
    "start_time": "2021-07-29T11:31:08.552Z"
   },
   {
    "duration": 25,
    "start_time": "2021-07-29T11:31:53.017Z"
   },
   {
    "duration": 25,
    "start_time": "2021-07-29T11:32:03.769Z"
   },
   {
    "duration": 649,
    "start_time": "2021-07-29T11:32:10.424Z"
   },
   {
    "duration": 44,
    "start_time": "2021-07-29T11:32:25.786Z"
   },
   {
    "duration": 22,
    "start_time": "2021-07-29T11:37:17.889Z"
   },
   {
    "duration": 103,
    "start_time": "2021-07-29T11:38:05.822Z"
   },
   {
    "duration": 414,
    "start_time": "2021-07-29T11:38:57.715Z"
   },
   {
    "duration": 396,
    "start_time": "2021-07-29T11:39:33.792Z"
   },
   {
    "duration": 466,
    "start_time": "2021-07-29T11:39:36.913Z"
   },
   {
    "duration": 354,
    "start_time": "2021-07-29T11:39:44.794Z"
   },
   {
    "duration": 369,
    "start_time": "2021-07-29T11:39:47.650Z"
   },
   {
    "duration": 37,
    "start_time": "2021-07-29T11:40:10.906Z"
   },
   {
    "duration": 53,
    "start_time": "2021-07-29T11:41:28.354Z"
   },
   {
    "duration": 53,
    "start_time": "2021-07-29T12:43:17.964Z"
   },
   {
    "duration": 491,
    "start_time": "2021-07-29T12:44:02.442Z"
   },
   {
    "duration": 19,
    "start_time": "2021-07-29T12:44:04.025Z"
   },
   {
    "duration": 40,
    "start_time": "2021-07-29T12:45:26.153Z"
   },
   {
    "duration": 379,
    "start_time": "2021-07-29T12:45:42.169Z"
   },
   {
    "duration": 472,
    "start_time": "2021-07-29T12:45:49.895Z"
   },
   {
    "duration": 19,
    "start_time": "2021-07-29T12:45:58.729Z"
   },
   {
    "duration": 38,
    "start_time": "2021-07-29T12:48:57.310Z"
   },
   {
    "duration": 234,
    "start_time": "2021-07-29T12:48:58.981Z"
   },
   {
    "duration": 82,
    "start_time": "2021-07-29T12:49:14.118Z"
   },
   {
    "duration": 48,
    "start_time": "2021-07-29T12:49:14.758Z"
   },
   {
    "duration": 83,
    "start_time": "2021-07-29T12:49:28.172Z"
   },
   {
    "duration": 43,
    "start_time": "2021-07-29T12:49:28.741Z"
   },
   {
    "duration": 43,
    "start_time": "2021-07-29T12:49:39.158Z"
   },
   {
    "duration": 48,
    "start_time": "2021-07-29T12:55:50.451Z"
   },
   {
    "duration": 385,
    "start_time": "2021-07-29T12:55:54.011Z"
   },
   {
    "duration": 31,
    "start_time": "2021-07-29T12:56:01.195Z"
   },
   {
    "duration": 19,
    "start_time": "2021-07-29T12:57:18.772Z"
   },
   {
    "duration": 54,
    "start_time": "2021-07-29T12:57:48.370Z"
   },
   {
    "duration": 1473,
    "start_time": "2021-07-29T12:58:17.891Z"
   },
   {
    "duration": 44,
    "start_time": "2021-07-29T12:58:32.459Z"
   },
   {
    "duration": 413,
    "start_time": "2021-07-29T13:00:12.602Z"
   },
   {
    "duration": 1630,
    "start_time": "2021-07-29T13:00:40.626Z"
   },
   {
    "duration": 3675,
    "start_time": "2021-07-29T13:00:42.258Z"
   },
   {
    "duration": 32,
    "start_time": "2021-07-29T13:00:45.936Z"
   },
   {
    "duration": 177,
    "start_time": "2021-07-29T13:00:45.972Z"
   },
   {
    "duration": 159,
    "start_time": "2021-07-29T13:00:46.151Z"
   },
   {
    "duration": 282,
    "start_time": "2021-07-29T13:00:46.312Z"
   },
   {
    "duration": 186,
    "start_time": "2021-07-29T13:00:46.596Z"
   },
   {
    "duration": 82,
    "start_time": "2021-07-29T13:00:46.791Z"
   },
   {
    "duration": 161,
    "start_time": "2021-07-29T13:00:46.884Z"
   },
   {
    "duration": 58,
    "start_time": "2021-07-29T13:00:47.048Z"
   },
   {
    "duration": 69,
    "start_time": "2021-07-29T13:00:47.109Z"
   },
   {
    "duration": 77,
    "start_time": "2021-07-29T13:00:47.180Z"
   },
   {
    "duration": 900,
    "start_time": "2021-07-29T13:00:47.259Z"
   },
   {
    "duration": 1139,
    "start_time": "2021-07-29T13:00:48.162Z"
   },
   {
    "duration": 97,
    "start_time": "2021-07-29T13:00:49.304Z"
   },
   {
    "duration": 369,
    "start_time": "2021-07-29T13:00:49.404Z"
   },
   {
    "duration": 14,
    "start_time": "2021-07-29T13:00:49.776Z"
   },
   {
    "duration": 12,
    "start_time": "2021-07-29T13:00:49.793Z"
   },
   {
    "duration": 110,
    "start_time": "2021-07-29T13:00:49.808Z"
   },
   {
    "duration": 326,
    "start_time": "2021-07-29T13:00:49.920Z"
   },
   {
    "duration": 330,
    "start_time": "2021-07-29T13:00:50.255Z"
   },
   {
    "duration": 794,
    "start_time": "2021-07-29T13:00:50.587Z"
   },
   {
    "duration": 70,
    "start_time": "2021-07-29T13:00:51.387Z"
   },
   {
    "duration": 901,
    "start_time": "2021-07-29T13:00:51.461Z"
   },
   {
    "duration": 60,
    "start_time": "2021-07-29T13:00:52.365Z"
   },
   {
    "duration": 75,
    "start_time": "2021-07-29T13:00:52.428Z"
   },
   {
    "duration": 481,
    "start_time": "2021-07-29T13:00:52.505Z"
   },
   {
    "duration": 415,
    "start_time": "2021-07-29T13:00:52.989Z"
   },
   {
    "duration": 10,
    "start_time": "2021-07-29T13:00:53.407Z"
   },
   {
    "duration": 397,
    "start_time": "2021-07-29T13:00:53.419Z"
   },
   {
    "duration": 432,
    "start_time": "2021-07-29T13:00:53.819Z"
   },
   {
    "duration": 17,
    "start_time": "2021-07-29T13:00:54.256Z"
   },
   {
    "duration": 34,
    "start_time": "2021-07-29T13:00:54.276Z"
   },
   {
    "duration": 5861,
    "start_time": "2021-07-29T13:00:54.313Z"
   },
   {
    "duration": 21,
    "start_time": "2021-07-29T13:01:00.176Z"
   },
   {
    "duration": 37,
    "start_time": "2021-07-29T13:01:00.199Z"
   },
   {
    "duration": 39,
    "start_time": "2021-07-29T13:01:00.239Z"
   },
   {
    "duration": 101,
    "start_time": "2021-07-29T13:01:00.280Z"
   },
   {
    "duration": 24,
    "start_time": "2021-07-29T13:01:00.384Z"
   },
   {
    "duration": 134,
    "start_time": "2021-07-29T13:01:00.410Z"
   },
   {
    "duration": 410,
    "start_time": "2021-07-29T13:01:00.546Z"
   },
   {
    "duration": 455,
    "start_time": "2021-07-29T13:01:00.958Z"
   },
   {
    "duration": 386,
    "start_time": "2021-07-29T13:01:01.416Z"
   },
   {
    "duration": 54,
    "start_time": "2021-07-29T13:01:01.804Z"
   },
   {
    "duration": 490,
    "start_time": "2021-07-29T13:01:01.860Z"
   },
   {
    "duration": 21,
    "start_time": "2021-07-29T13:01:02.355Z"
   },
   {
    "duration": 61,
    "start_time": "2021-07-29T13:01:02.378Z"
   },
   {
    "duration": 481,
    "start_time": "2021-07-29T13:01:02.442Z"
   },
   {
    "duration": 20,
    "start_time": "2021-07-29T13:01:02.926Z"
   },
   {
    "duration": 41,
    "start_time": "2021-07-29T13:01:02.957Z"
   },
   {
    "duration": 318,
    "start_time": "2021-07-29T13:01:03.000Z"
   },
   {
    "duration": 100,
    "start_time": "2021-07-29T13:01:03.320Z"
   },
   {
    "duration": 53,
    "start_time": "2021-07-29T13:01:03.422Z"
   },
   {
    "duration": 44,
    "start_time": "2021-07-29T13:01:03.477Z"
   },
   {
    "duration": 100,
    "start_time": "2021-07-29T13:01:03.523Z"
   },
   {
    "duration": 570,
    "start_time": "2021-07-29T13:01:03.626Z"
   },
   {
    "duration": -192,
    "start_time": "2021-07-29T13:01:04.392Z"
   },
   {
    "duration": -194,
    "start_time": "2021-07-29T13:01:04.395Z"
   },
   {
    "duration": -195,
    "start_time": "2021-07-29T13:01:04.398Z"
   },
   {
    "duration": -215,
    "start_time": "2021-07-29T13:01:04.419Z"
   },
   {
    "duration": -225,
    "start_time": "2021-07-29T13:01:04.430Z"
   },
   {
    "duration": -226,
    "start_time": "2021-07-29T13:01:04.433Z"
   },
   {
    "duration": -228,
    "start_time": "2021-07-29T13:01:04.436Z"
   },
   {
    "duration": -228,
    "start_time": "2021-07-29T13:01:04.438Z"
   },
   {
    "duration": -231,
    "start_time": "2021-07-29T13:01:04.442Z"
   },
   {
    "duration": -232,
    "start_time": "2021-07-29T13:01:04.445Z"
   },
   {
    "duration": -233,
    "start_time": "2021-07-29T13:01:04.447Z"
   },
   {
    "duration": -234,
    "start_time": "2021-07-29T13:01:04.450Z"
   },
   {
    "duration": -236,
    "start_time": "2021-07-29T13:01:04.453Z"
   },
   {
    "duration": -237,
    "start_time": "2021-07-29T13:01:04.456Z"
   },
   {
    "duration": -239,
    "start_time": "2021-07-29T13:01:04.459Z"
   },
   {
    "duration": -240,
    "start_time": "2021-07-29T13:01:04.462Z"
   },
   {
    "duration": -243,
    "start_time": "2021-07-29T13:01:04.466Z"
   },
   {
    "duration": -244,
    "start_time": "2021-07-29T13:01:04.468Z"
   },
   {
    "duration": -252,
    "start_time": "2021-07-29T13:01:04.478Z"
   },
   {
    "duration": -254,
    "start_time": "2021-07-29T13:01:04.481Z"
   },
   {
    "duration": -257,
    "start_time": "2021-07-29T13:01:04.485Z"
   },
   {
    "duration": -258,
    "start_time": "2021-07-29T13:01:04.488Z"
   },
   {
    "duration": -260,
    "start_time": "2021-07-29T13:01:04.491Z"
   },
   {
    "duration": -262,
    "start_time": "2021-07-29T13:01:04.494Z"
   },
   {
    "duration": -265,
    "start_time": "2021-07-29T13:01:04.499Z"
   },
   {
    "duration": -273,
    "start_time": "2021-07-29T13:01:04.508Z"
   },
   {
    "duration": -274,
    "start_time": "2021-07-29T13:01:04.511Z"
   },
   {
    "duration": -258,
    "start_time": "2021-07-29T13:01:04.514Z"
   },
   {
    "duration": -262,
    "start_time": "2021-07-29T13:01:04.519Z"
   },
   {
    "duration": -263,
    "start_time": "2021-07-29T13:01:04.522Z"
   },
   {
    "duration": 112,
    "start_time": "2021-07-29T13:01:31.295Z"
   },
   {
    "duration": 293,
    "start_time": "2021-07-29T13:01:44.870Z"
   },
   {
    "duration": 313,
    "start_time": "2021-07-29T13:02:22.431Z"
   },
   {
    "duration": 52,
    "start_time": "2021-07-29T13:04:25.650Z"
   },
   {
    "duration": 111,
    "start_time": "2021-07-29T13:04:27.189Z"
   },
   {
    "duration": 365,
    "start_time": "2021-07-29T13:05:17.381Z"
   },
   {
    "duration": 6,
    "start_time": "2021-07-29T13:05:19.860Z"
   },
   {
    "duration": 691,
    "start_time": "2021-07-29T13:05:20.356Z"
   },
   {
    "duration": 386,
    "start_time": "2021-07-29T13:11:20.325Z"
   },
   {
    "duration": 383,
    "start_time": "2021-07-29T13:11:45.295Z"
   },
   {
    "duration": 6,
    "start_time": "2021-07-29T13:12:20.336Z"
   },
   {
    "duration": 31,
    "start_time": "2021-07-29T13:12:21.320Z"
   },
   {
    "duration": 8,
    "start_time": "2021-07-29T13:12:40.273Z"
   },
   {
    "duration": 33,
    "start_time": "2021-07-29T13:12:41.126Z"
   },
   {
    "duration": 10316,
    "start_time": "2021-07-29T13:14:56.743Z"
   },
   {
    "duration": 26,
    "start_time": "2021-07-29T13:15:12.254Z"
   },
   {
    "duration": 12,
    "start_time": "2021-07-29T13:15:31.944Z"
   },
   {
    "duration": 7,
    "start_time": "2021-07-29T13:16:48.862Z"
   },
   {
    "duration": 809,
    "start_time": "2021-07-29T13:16:49.589Z"
   },
   {
    "duration": 31,
    "start_time": "2021-07-29T13:19:17.395Z"
   },
   {
    "duration": 587,
    "start_time": "2021-07-29T13:19:28.034Z"
   },
   {
    "duration": 94,
    "start_time": "2021-07-29T13:19:40.499Z"
   },
   {
    "duration": 3,
    "start_time": "2021-07-29T13:20:32.571Z"
   },
   {
    "duration": 449,
    "start_time": "2021-07-29T13:20:38.962Z"
   },
   {
    "duration": 27,
    "start_time": "2021-07-29T13:20:47.003Z"
   },
   {
    "duration": 336,
    "start_time": "2021-07-29T13:22:18.425Z"
   },
   {
    "duration": 136,
    "start_time": "2021-07-29T13:24:06.947Z"
   },
   {
    "duration": 338,
    "start_time": "2021-07-29T13:24:11.177Z"
   },
   {
    "duration": 156,
    "start_time": "2021-07-29T14:46:04.884Z"
   },
   {
    "duration": 4,
    "start_time": "2021-07-29T14:46:15.640Z"
   },
   {
    "duration": 623538,
    "start_time": "2021-07-29T14:46:18.832Z"
   },
   {
    "duration": 43,
    "start_time": "2021-07-29T16:29:54.065Z"
   },
   {
    "duration": 380,
    "start_time": "2021-07-29T16:30:32.848Z"
   },
   {
    "duration": 442,
    "start_time": "2021-07-29T16:30:55.694Z"
   },
   {
    "duration": 4,
    "start_time": "2021-07-29T16:31:14.360Z"
   },
   {
    "duration": 25,
    "start_time": "2021-07-29T16:31:14.823Z"
   },
   {
    "duration": 366,
    "start_time": "2021-07-29T16:31:16.008Z"
   },
   {
    "duration": 1230,
    "start_time": "2021-07-29T16:31:23.072Z"
   },
   {
    "duration": 717,
    "start_time": "2021-07-29T16:31:29.334Z"
   },
   {
    "duration": 44,
    "start_time": "2021-07-29T16:31:35.463Z"
   },
   {
    "duration": 5,
    "start_time": "2021-07-29T16:35:44.229Z"
   },
   {
    "duration": 11,
    "start_time": "2021-07-29T16:35:52.854Z"
   },
   {
    "duration": 1259,
    "start_time": "2021-07-29T16:36:10.957Z"
   },
   {
    "duration": 1161,
    "start_time": "2021-07-29T16:37:29.446Z"
   },
   {
    "duration": 877,
    "start_time": "2021-07-29T16:37:37.812Z"
   },
   {
    "duration": 52,
    "start_time": "2021-07-29T16:37:48.641Z"
   },
   {
    "duration": 30,
    "start_time": "2021-07-29T16:38:01.445Z"
   },
   {
    "duration": 55,
    "start_time": "2021-07-29T16:59:17.060Z"
   },
   {
    "duration": 7,
    "start_time": "2021-07-29T16:59:17.654Z"
   },
   {
    "duration": 53,
    "start_time": "2021-07-29T16:59:31.032Z"
   },
   {
    "duration": 8,
    "start_time": "2021-07-29T16:59:40.262Z"
   },
   {
    "duration": 5,
    "start_time": "2021-07-29T17:00:35.343Z"
   },
   {
    "duration": 1201,
    "start_time": "2021-07-29T17:01:01.856Z"
   },
   {
    "duration": 1147,
    "start_time": "2021-07-29T17:03:21.916Z"
   },
   {
    "duration": 4,
    "start_time": "2021-07-29T17:09:35.252Z"
   },
   {
    "duration": 6,
    "start_time": "2021-07-29T17:26:35.454Z"
   },
   {
    "duration": 3,
    "start_time": "2021-07-29T17:27:50.913Z"
   },
   {
    "duration": 371,
    "start_time": "2021-07-29T17:28:58.740Z"
   },
   {
    "duration": 958,
    "start_time": "2021-07-29T17:29:02.831Z"
   },
   {
    "duration": 5,
    "start_time": "2021-07-29T17:29:04.956Z"
   },
   {
    "duration": 3,
    "start_time": "2021-07-29T17:29:06.052Z"
   },
   {
    "duration": 15465,
    "start_time": "2021-07-29T17:29:06.668Z"
   },
   {
    "duration": 374,
    "start_time": "2021-07-29T17:30:22.691Z"
   },
   {
    "duration": 5,
    "start_time": "2021-07-29T17:32:15.562Z"
   },
   {
    "duration": 4,
    "start_time": "2021-07-29T17:32:22.090Z"
   },
   {
    "duration": 3,
    "start_time": "2021-07-29T17:32:59.650Z"
   },
   {
    "duration": 21,
    "start_time": "2021-07-29T17:33:12.392Z"
   },
   {
    "duration": 31,
    "start_time": "2021-07-29T17:33:17.411Z"
   },
   {
    "duration": 13,
    "start_time": "2021-07-29T17:33:21.721Z"
   },
   {
    "duration": 3,
    "start_time": "2021-07-29T17:33:34.354Z"
   },
   {
    "duration": 3,
    "start_time": "2021-07-29T17:34:48.147Z"
   },
   {
    "duration": 22,
    "start_time": "2021-07-29T17:34:53.425Z"
   },
   {
    "duration": 31,
    "start_time": "2021-07-29T17:34:57.417Z"
   },
   {
    "duration": 4,
    "start_time": "2021-07-29T17:35:04.865Z"
   },
   {
    "duration": 3,
    "start_time": "2021-07-29T17:35:52.976Z"
   },
   {
    "duration": 6,
    "start_time": "2021-07-29T17:35:53.639Z"
   },
   {
    "duration": 4,
    "start_time": "2021-07-29T17:35:55.150Z"
   },
   {
    "duration": 178828,
    "start_time": "2021-07-29T17:35:56.144Z"
   },
   {
    "duration": 1540,
    "start_time": "2021-07-29T17:39:10.577Z"
   },
   {
    "duration": 3849,
    "start_time": "2021-07-29T17:39:12.119Z"
   },
   {
    "duration": 26,
    "start_time": "2021-07-29T17:39:15.970Z"
   },
   {
    "duration": 171,
    "start_time": "2021-07-29T17:39:15.999Z"
   },
   {
    "duration": 154,
    "start_time": "2021-07-29T17:39:16.172Z"
   },
   {
    "duration": 242,
    "start_time": "2021-07-29T17:39:16.328Z"
   },
   {
    "duration": 128,
    "start_time": "2021-07-29T17:39:16.572Z"
   },
   {
    "duration": 61,
    "start_time": "2021-07-29T17:39:16.704Z"
   },
   {
    "duration": 166,
    "start_time": "2021-07-29T17:39:16.768Z"
   },
   {
    "duration": 62,
    "start_time": "2021-07-29T17:39:16.937Z"
   },
   {
    "duration": 69,
    "start_time": "2021-07-29T17:39:17.001Z"
   },
   {
    "duration": 87,
    "start_time": "2021-07-29T17:39:17.073Z"
   },
   {
    "duration": 951,
    "start_time": "2021-07-29T17:39:17.162Z"
   },
   {
    "duration": 1067,
    "start_time": "2021-07-29T17:39:18.116Z"
   },
   {
    "duration": 85,
    "start_time": "2021-07-29T17:39:19.186Z"
   },
   {
    "duration": 383,
    "start_time": "2021-07-29T17:39:19.273Z"
   },
   {
    "duration": 13,
    "start_time": "2021-07-29T17:39:19.658Z"
   },
   {
    "duration": 12,
    "start_time": "2021-07-29T17:39:19.674Z"
   },
   {
    "duration": 99,
    "start_time": "2021-07-29T17:39:19.689Z"
   },
   {
    "duration": 323,
    "start_time": "2021-07-29T17:39:19.790Z"
   },
   {
    "duration": 336,
    "start_time": "2021-07-29T17:39:20.116Z"
   },
   {
    "duration": 825,
    "start_time": "2021-07-29T17:39:20.456Z"
   },
   {
    "duration": 75,
    "start_time": "2021-07-29T17:39:21.289Z"
   },
   {
    "duration": 918,
    "start_time": "2021-07-29T17:39:21.367Z"
   },
   {
    "duration": 70,
    "start_time": "2021-07-29T17:39:22.288Z"
   },
   {
    "duration": 57,
    "start_time": "2021-07-29T17:39:22.360Z"
   },
   {
    "duration": 503,
    "start_time": "2021-07-29T17:39:22.420Z"
   },
   {
    "duration": 418,
    "start_time": "2021-07-29T17:39:22.925Z"
   },
   {
    "duration": 21,
    "start_time": "2021-07-29T17:39:23.345Z"
   },
   {
    "duration": 22,
    "start_time": "2021-07-29T17:39:23.369Z"
   },
   {
    "duration": 11,
    "start_time": "2021-07-29T17:39:23.394Z"
   },
   {
    "duration": 409,
    "start_time": "2021-07-29T17:39:23.407Z"
   },
   {
    "duration": 463,
    "start_time": "2021-07-29T17:39:23.820Z"
   },
   {
    "duration": 19,
    "start_time": "2021-07-29T17:39:24.286Z"
   },
   {
    "duration": 69,
    "start_time": "2021-07-29T17:39:24.307Z"
   },
   {
    "duration": 45,
    "start_time": "2021-07-29T17:39:24.379Z"
   },
   {
    "duration": 6034,
    "start_time": "2021-07-29T17:39:24.426Z"
   },
   {
    "duration": 26,
    "start_time": "2021-07-29T17:39:30.462Z"
   },
   {
    "duration": 31,
    "start_time": "2021-07-29T17:39:30.491Z"
   },
   {
    "duration": 52,
    "start_time": "2021-07-29T17:39:30.524Z"
   },
   {
    "duration": 112,
    "start_time": "2021-07-29T17:39:30.578Z"
   },
   {
    "duration": 26,
    "start_time": "2021-07-29T17:39:30.693Z"
   },
   {
    "duration": 136,
    "start_time": "2021-07-29T17:39:30.721Z"
   },
   {
    "duration": 422,
    "start_time": "2021-07-29T17:39:30.860Z"
   },
   {
    "duration": 500,
    "start_time": "2021-07-29T17:39:31.285Z"
   },
   {
    "duration": 432,
    "start_time": "2021-07-29T17:39:31.788Z"
   },
   {
    "duration": 370,
    "start_time": "2021-07-29T17:39:32.224Z"
   },
   {
    "duration": 41,
    "start_time": "2021-07-29T17:39:32.596Z"
   },
   {
    "duration": 599,
    "start_time": "2021-07-29T17:39:32.657Z"
   },
   {
    "duration": 19,
    "start_time": "2021-07-29T17:39:33.258Z"
   },
   {
    "duration": 42,
    "start_time": "2021-07-29T17:39:33.280Z"
   },
   {
    "duration": 504,
    "start_time": "2021-07-29T17:39:33.325Z"
   },
   {
    "duration": 25,
    "start_time": "2021-07-29T17:39:33.832Z"
   },
   {
    "duration": 40,
    "start_time": "2021-07-29T17:39:33.859Z"
   },
   {
    "duration": 390,
    "start_time": "2021-07-29T17:39:33.902Z"
   },
   {
    "duration": 129,
    "start_time": "2021-07-29T17:39:34.294Z"
   },
   {
    "duration": 63,
    "start_time": "2021-07-29T17:39:34.426Z"
   },
   {
    "duration": 67,
    "start_time": "2021-07-29T17:39:34.491Z"
   },
   {
    "duration": 98,
    "start_time": "2021-07-29T17:39:34.561Z"
   },
   {
    "duration": 41,
    "start_time": "2021-07-29T17:39:34.662Z"
   },
   {
    "duration": 123,
    "start_time": "2021-07-29T17:39:34.706Z"
   },
   {
    "duration": 196,
    "start_time": "2021-07-29T17:39:34.831Z"
   },
   {
    "duration": 295,
    "start_time": "2021-07-29T17:39:35.030Z"
   },
   {
    "duration": 7,
    "start_time": "2021-07-29T17:39:35.328Z"
   },
   {
    "duration": 603,
    "start_time": "2021-07-29T17:39:35.338Z"
   },
   {
    "duration": 13,
    "start_time": "2021-07-29T17:39:35.943Z"
   },
   {
    "duration": 18,
    "start_time": "2021-07-29T17:39:35.959Z"
   },
   {
    "duration": 8,
    "start_time": "2021-07-29T17:39:35.986Z"
   },
   {
    "duration": 529,
    "start_time": "2021-07-29T17:39:35.998Z"
   },
   {
    "duration": 80,
    "start_time": "2021-07-29T17:39:36.530Z"
   },
   {
    "duration": 8,
    "start_time": "2021-07-29T17:39:36.612Z"
   },
   {
    "duration": 920,
    "start_time": "2021-07-29T17:39:36.622Z"
   },
   {
    "duration": 3,
    "start_time": "2021-07-29T17:39:37.544Z"
   },
   {
    "duration": 11,
    "start_time": "2021-07-29T17:39:37.555Z"
   },
   {
    "duration": 20,
    "start_time": "2021-07-29T17:39:37.568Z"
   },
   {
    "duration": 30708,
    "start_time": "2021-07-29T17:39:37.590Z"
   },
   {
    "duration": 350,
    "start_time": "2021-07-29T17:40:07.951Z"
   },
   {
    "duration": 346,
    "start_time": "2021-07-29T17:40:07.957Z"
   },
   {
    "duration": 345,
    "start_time": "2021-07-29T17:40:07.960Z"
   },
   {
    "duration": 342,
    "start_time": "2021-07-29T17:40:07.964Z"
   },
   {
    "duration": 341,
    "start_time": "2021-07-29T17:40:07.967Z"
   },
   {
    "duration": 340,
    "start_time": "2021-07-29T17:40:07.970Z"
   },
   {
    "duration": 336,
    "start_time": "2021-07-29T17:40:07.975Z"
   },
   {
    "duration": 335,
    "start_time": "2021-07-29T17:40:07.978Z"
   },
   {
    "duration": 333,
    "start_time": "2021-07-29T17:40:07.982Z"
   },
   {
    "duration": 331,
    "start_time": "2021-07-29T17:40:07.985Z"
   },
   {
    "duration": 329,
    "start_time": "2021-07-29T17:40:07.989Z"
   },
   {
    "duration": 320,
    "start_time": "2021-07-29T17:40:08.000Z"
   },
   {
    "duration": 317,
    "start_time": "2021-07-29T17:40:08.005Z"
   },
   {
    "duration": 316,
    "start_time": "2021-07-29T17:40:08.008Z"
   },
   {
    "duration": 315,
    "start_time": "2021-07-29T17:40:08.011Z"
   },
   {
    "duration": 313,
    "start_time": "2021-07-29T17:40:08.015Z"
   },
   {
    "duration": 312,
    "start_time": "2021-07-29T17:40:08.018Z"
   },
   {
    "duration": 5,
    "start_time": "2021-07-29T17:40:17.731Z"
   },
   {
    "duration": 164951,
    "start_time": "2021-07-29T17:40:18.533Z"
   },
   {
    "duration": 5,
    "start_time": "2021-07-29T17:43:23.078Z"
   },
   {
    "duration": 156358,
    "start_time": "2021-07-29T17:43:23.513Z"
   },
   {
    "duration": 41,
    "start_time": "2021-07-29T17:45:59.914Z"
   },
   {
    "duration": 7,
    "start_time": "2021-07-29T17:45:59.957Z"
   },
   {
    "duration": 5,
    "start_time": "2021-07-29T17:46:28.233Z"
   },
   {
    "duration": 155070,
    "start_time": "2021-07-29T17:46:28.897Z"
   },
   {
    "duration": 158282,
    "start_time": "2021-07-29T17:49:45.848Z"
   },
   {
    "duration": 501,
    "start_time": "2021-07-29T17:52:24.132Z"
   },
   {
    "duration": 4,
    "start_time": "2021-07-29T17:52:40.750Z"
   },
   {
    "duration": 24,
    "start_time": "2021-07-29T17:52:41.454Z"
   },
   {
    "duration": 106,
    "start_time": "2021-07-29T17:52:49.413Z"
   },
   {
    "duration": 11306,
    "start_time": "2021-07-29T17:52:55.239Z"
   },
   {
    "duration": 10152,
    "start_time": "2021-07-29T17:53:27.677Z"
   },
   {
    "duration": 4,
    "start_time": "2021-07-29T17:53:57.196Z"
   },
   {
    "duration": 34,
    "start_time": "2021-07-29T17:53:57.784Z"
   },
   {
    "duration": 106,
    "start_time": "2021-07-29T17:54:06.132Z"
   },
   {
    "duration": 3,
    "start_time": "2021-07-29T17:54:10.477Z"
   },
   {
    "duration": 17819,
    "start_time": "2021-07-29T17:54:23.661Z"
   },
   {
    "duration": 4,
    "start_time": "2021-07-29T17:54:55.923Z"
   },
   {
    "duration": 10900,
    "start_time": "2021-07-29T17:54:57.604Z"
   },
   {
    "duration": 4,
    "start_time": "2021-07-29T17:56:27.522Z"
   },
   {
    "duration": 552935,
    "start_time": "2021-07-29T17:56:30.123Z"
   },
   {
    "duration": 3,
    "start_time": "2021-07-29T18:05:53.513Z"
   },
   {
    "duration": 37,
    "start_time": "2021-07-29T18:05:53.935Z"
   },
   {
    "duration": 527,
    "start_time": "2021-07-29T18:05:58.766Z"
   },
   {
    "duration": 56,
    "start_time": "2021-07-29T18:06:00.167Z"
   },
   {
    "duration": 7,
    "start_time": "2021-07-29T18:06:02.405Z"
   },
   {
    "duration": 864,
    "start_time": "2021-07-29T18:06:05.093Z"
   },
   {
    "duration": 3,
    "start_time": "2021-07-29T18:06:09.077Z"
   },
   {
    "duration": 5,
    "start_time": "2021-07-29T18:06:18.797Z"
   },
   {
    "duration": 21,
    "start_time": "2021-07-29T18:06:44.958Z"
   },
   {
    "duration": 3,
    "start_time": "2021-07-29T18:06:59.029Z"
   },
   {
    "duration": 154197,
    "start_time": "2021-07-29T18:07:01.628Z"
   },
   {
    "duration": 4,
    "start_time": "2021-07-29T18:16:49.055Z"
   },
   {
    "duration": 25,
    "start_time": "2021-07-29T18:16:49.470Z"
   },
   {
    "duration": 111,
    "start_time": "2021-07-29T18:16:56.159Z"
   },
   {
    "duration": 5,
    "start_time": "2021-07-29T18:16:58.662Z"
   },
   {
    "duration": 365,
    "start_time": "2021-07-29T18:17:21.225Z"
   },
   {
    "duration": 5,
    "start_time": "2021-07-29T18:17:28.919Z"
   },
   {
    "duration": 798,
    "start_time": "2021-07-29T18:17:35.496Z"
   },
   {
    "duration": 759,
    "start_time": "2021-07-29T18:18:05.406Z"
   },
   {
    "duration": 802,
    "start_time": "2021-07-29T18:18:56.884Z"
   },
   {
    "duration": 12887,
    "start_time": "2021-07-29T18:19:08.662Z"
   },
   {
    "duration": 4,
    "start_time": "2021-07-29T18:19:33.364Z"
   },
   {
    "duration": 32,
    "start_time": "2021-07-29T18:19:34.045Z"
   },
   {
    "duration": 5,
    "start_time": "2021-07-29T18:19:37.964Z"
   },
   {
    "duration": 33,
    "start_time": "2021-07-29T18:19:47.814Z"
   },
   {
    "duration": 5,
    "start_time": "2021-07-29T18:19:53.733Z"
   },
   {
    "duration": 106,
    "start_time": "2021-07-29T18:20:08.310Z"
   },
   {
    "duration": 4,
    "start_time": "2021-07-29T18:20:12.624Z"
   },
   {
    "duration": 893,
    "start_time": "2021-07-29T18:20:17.981Z"
   },
   {
    "duration": 21,
    "start_time": "2021-07-29T18:21:33.844Z"
   },
   {
    "duration": 20,
    "start_time": "2021-07-29T18:21:48.882Z"
   },
   {
    "duration": 21,
    "start_time": "2021-07-29T18:21:55.610Z"
   },
   {
    "duration": 10,
    "start_time": "2021-07-29T18:22:09.492Z"
   },
   {
    "duration": 11,
    "start_time": "2021-07-29T18:22:15.754Z"
   },
   {
    "duration": 4,
    "start_time": "2021-07-29T18:22:41.193Z"
   },
   {
    "duration": 5,
    "start_time": "2021-07-29T18:22:46.323Z"
   },
   {
    "duration": 4,
    "start_time": "2021-07-29T18:22:48.930Z"
   },
   {
    "duration": 9795,
    "start_time": "2021-07-29T18:22:50.323Z"
   },
   {
    "duration": 819,
    "start_time": "2021-07-29T18:23:10.768Z"
   },
   {
    "duration": 875,
    "start_time": "2021-07-29T18:24:36.009Z"
   },
   {
    "duration": 5,
    "start_time": "2021-07-29T18:27:02.402Z"
   },
   {
    "duration": 366,
    "start_time": "2021-07-29T18:27:45.432Z"
   },
   {
    "duration": 777,
    "start_time": "2021-07-29T18:28:02.856Z"
   },
   {
    "duration": 9,
    "start_time": "2021-07-29T18:29:36.726Z"
   },
   {
    "duration": 1348,
    "start_time": "2021-07-29T18:29:47.727Z"
   },
   {
    "duration": 30,
    "start_time": "2021-07-29T18:29:53.066Z"
   },
   {
    "duration": 315,
    "start_time": "2021-07-29T18:30:31.477Z"
   },
   {
    "duration": 294,
    "start_time": "2021-07-29T18:33:27.108Z"
   },
   {
    "duration": 10488,
    "start_time": "2021-07-29T18:35:43.075Z"
   },
   {
    "duration": 61,
    "start_time": "2021-07-29T18:35:58.995Z"
   },
   {
    "duration": 40,
    "start_time": "2021-07-29T18:36:32.412Z"
   },
   {
    "duration": 70,
    "start_time": "2021-07-29T18:36:54.809Z"
   },
   {
    "duration": 4,
    "start_time": "2021-07-29T18:37:37.665Z"
   },
   {
    "duration": 29,
    "start_time": "2021-07-29T18:37:38.249Z"
   },
   {
    "duration": 5,
    "start_time": "2021-07-29T18:37:38.707Z"
   },
   {
    "duration": 4,
    "start_time": "2021-07-29T18:38:01.320Z"
   },
   {
    "duration": 28,
    "start_time": "2021-07-29T18:38:01.921Z"
   },
   {
    "duration": 5,
    "start_time": "2021-07-29T18:38:02.753Z"
   },
   {
    "duration": 4,
    "start_time": "2021-07-29T18:38:09.401Z"
   },
   {
    "duration": 542,
    "start_time": "2021-07-29T18:38:10.528Z"
   },
   {
    "duration": 50,
    "start_time": "2021-07-29T18:38:17.464Z"
   },
   {
    "duration": 7,
    "start_time": "2021-07-29T18:38:25.569Z"
   },
   {
    "duration": 849,
    "start_time": "2021-07-29T18:38:29.193Z"
   },
   {
    "duration": 11,
    "start_time": "2021-07-29T18:38:30.063Z"
   },
   {
    "duration": 7540,
    "start_time": "2021-07-29T18:38:39.354Z"
   },
   {
    "duration": 365,
    "start_time": "2021-07-29T18:38:57.520Z"
   },
   {
    "duration": 5,
    "start_time": "2021-07-29T18:39:03.465Z"
   },
   {
    "duration": 2987,
    "start_time": "2021-07-29T18:39:08.377Z"
   },
   {
    "duration": 3,
    "start_time": "2021-07-29T18:39:35.278Z"
   },
   {
    "duration": 33,
    "start_time": "2021-07-29T18:39:51.978Z"
   },
   {
    "duration": 1346,
    "start_time": "2021-07-29T18:40:41.017Z"
   },
   {
    "duration": 282,
    "start_time": "2021-07-29T18:40:46.064Z"
   },
   {
    "duration": 8,
    "start_time": "2021-07-29T18:40:47.127Z"
   },
   {
    "duration": 1284,
    "start_time": "2021-07-29T18:40:48.679Z"
   },
   {
    "duration": 33,
    "start_time": "2021-07-29T18:40:50.943Z"
   },
   {
    "duration": 22030,
    "start_time": "2021-07-29T18:41:03.343Z"
   },
   {
    "duration": 5,
    "start_time": "2021-07-29T18:42:06.627Z"
   },
   {
    "duration": 3,
    "start_time": "2021-07-29T18:43:33.967Z"
   },
   {
    "duration": 159043,
    "start_time": "2021-07-29T18:43:34.525Z"
   },
   {
    "duration": 445,
    "start_time": "2021-07-29T20:52:25.914Z"
   },
   {
    "duration": 1544,
    "start_time": "2021-07-29T20:52:43.247Z"
   },
   {
    "duration": 2025,
    "start_time": "2021-07-29T20:52:44.793Z"
   },
   {
    "duration": 38,
    "start_time": "2021-07-29T20:52:46.824Z"
   },
   {
    "duration": 166,
    "start_time": "2021-07-29T20:52:46.865Z"
   },
   {
    "duration": 212,
    "start_time": "2021-07-29T20:52:47.033Z"
   },
   {
    "duration": 325,
    "start_time": "2021-07-29T20:52:47.248Z"
   },
   {
    "duration": 121,
    "start_time": "2021-07-29T20:52:47.577Z"
   },
   {
    "duration": 71,
    "start_time": "2021-07-29T20:52:47.703Z"
   },
   {
    "duration": 170,
    "start_time": "2021-07-29T20:52:47.776Z"
   },
   {
    "duration": 53,
    "start_time": "2021-07-29T20:52:47.949Z"
   },
   {
    "duration": 73,
    "start_time": "2021-07-29T20:52:48.005Z"
   },
   {
    "duration": 78,
    "start_time": "2021-07-29T20:52:48.081Z"
   },
   {
    "duration": 929,
    "start_time": "2021-07-29T20:52:48.161Z"
   },
   {
    "duration": 1079,
    "start_time": "2021-07-29T20:52:49.092Z"
   },
   {
    "duration": 83,
    "start_time": "2021-07-29T20:52:50.173Z"
   },
   {
    "duration": 383,
    "start_time": "2021-07-29T20:52:50.258Z"
   },
   {
    "duration": 23,
    "start_time": "2021-07-29T20:52:50.644Z"
   },
   {
    "duration": 14,
    "start_time": "2021-07-29T20:52:50.670Z"
   },
   {
    "duration": 103,
    "start_time": "2021-07-29T20:52:50.686Z"
   },
   {
    "duration": 317,
    "start_time": "2021-07-29T20:52:50.792Z"
   },
   {
    "duration": 329,
    "start_time": "2021-07-29T20:52:51.111Z"
   },
   {
    "duration": 824,
    "start_time": "2021-07-29T20:52:51.446Z"
   },
   {
    "duration": 59,
    "start_time": "2021-07-29T20:52:52.273Z"
   },
   {
    "duration": 925,
    "start_time": "2021-07-29T20:52:52.334Z"
   },
   {
    "duration": 60,
    "start_time": "2021-07-29T20:52:53.262Z"
   },
   {
    "duration": 80,
    "start_time": "2021-07-29T20:52:53.324Z"
   },
   {
    "duration": 482,
    "start_time": "2021-07-29T20:52:53.406Z"
   },
   {
    "duration": 431,
    "start_time": "2021-07-29T20:52:53.890Z"
   },
   {
    "duration": 13,
    "start_time": "2021-07-29T20:52:54.324Z"
   },
   {
    "duration": 33,
    "start_time": "2021-07-29T20:52:54.339Z"
   },
   {
    "duration": 12,
    "start_time": "2021-07-29T20:52:54.375Z"
   },
   {
    "duration": 409,
    "start_time": "2021-07-29T20:52:54.390Z"
   },
   {
    "duration": 456,
    "start_time": "2021-07-29T20:52:54.802Z"
   },
   {
    "duration": 20,
    "start_time": "2021-07-29T20:52:55.261Z"
   },
   {
    "duration": 73,
    "start_time": "2021-07-29T20:52:55.284Z"
   },
   {
    "duration": 49,
    "start_time": "2021-07-29T20:52:55.360Z"
   },
   {
    "duration": 6436,
    "start_time": "2021-07-29T20:52:55.411Z"
   },
   {
    "duration": 20,
    "start_time": "2021-07-29T20:53:01.849Z"
   },
   {
    "duration": 46,
    "start_time": "2021-07-29T20:53:01.871Z"
   },
   {
    "duration": 41,
    "start_time": "2021-07-29T20:53:01.920Z"
   },
   {
    "duration": 96,
    "start_time": "2021-07-29T20:53:01.964Z"
   },
   {
    "duration": 21,
    "start_time": "2021-07-29T20:53:02.063Z"
   },
   {
    "duration": 136,
    "start_time": "2021-07-29T20:53:02.087Z"
   },
   {
    "duration": 417,
    "start_time": "2021-07-29T20:53:02.226Z"
   },
   {
    "duration": 479,
    "start_time": "2021-07-29T20:53:02.645Z"
   },
   {
    "duration": 396,
    "start_time": "2021-07-29T20:53:03.127Z"
   },
   {
    "duration": 400,
    "start_time": "2021-07-29T20:53:03.526Z"
   },
   {
    "duration": 54,
    "start_time": "2021-07-29T20:53:03.929Z"
   },
   {
    "duration": 626,
    "start_time": "2021-07-29T20:53:03.985Z"
   },
   {
    "duration": 22,
    "start_time": "2021-07-29T20:53:04.614Z"
   },
   {
    "duration": 40,
    "start_time": "2021-07-29T20:53:04.656Z"
   },
   {
    "duration": 518,
    "start_time": "2021-07-29T20:53:04.699Z"
   },
   {
    "duration": 21,
    "start_time": "2021-07-29T20:53:05.219Z"
   },
   {
    "duration": 53,
    "start_time": "2021-07-29T20:53:05.242Z"
   },
   {
    "duration": 388,
    "start_time": "2021-07-29T20:53:05.298Z"
   },
   {
    "duration": 104,
    "start_time": "2021-07-29T20:53:05.688Z"
   },
   {
    "duration": 46,
    "start_time": "2021-07-29T20:53:05.795Z"
   },
   {
    "duration": 52,
    "start_time": "2021-07-29T20:53:05.844Z"
   },
   {
    "duration": 96,
    "start_time": "2021-07-29T20:53:05.899Z"
   },
   {
    "duration": 36,
    "start_time": "2021-07-29T20:53:05.998Z"
   },
   {
    "duration": 120,
    "start_time": "2021-07-29T20:53:06.036Z"
   },
   {
    "duration": 199,
    "start_time": "2021-07-29T20:53:06.158Z"
   },
   {
    "duration": 211,
    "start_time": "2021-07-29T20:53:06.359Z"
   },
   {
    "duration": 6,
    "start_time": "2021-07-29T20:53:06.572Z"
   },
   {
    "duration": 746,
    "start_time": "2021-07-29T20:53:06.580Z"
   },
   {
    "duration": 4,
    "start_time": "2021-07-29T20:53:07.329Z"
   },
   {
    "duration": 35,
    "start_time": "2021-07-29T20:53:07.341Z"
   },
   {
    "duration": 4,
    "start_time": "2021-07-29T20:53:07.379Z"
   },
   {
    "duration": 1371,
    "start_time": "2021-07-29T20:53:07.386Z"
   },
   {
    "duration": 308,
    "start_time": "2021-07-29T20:53:08.759Z"
   },
   {
    "duration": 7,
    "start_time": "2021-07-29T20:53:09.070Z"
   },
   {
    "duration": 7039,
    "start_time": "2021-07-29T20:53:09.079Z"
   },
   {
    "duration": 209,
    "start_time": "2021-07-29T20:53:16.120Z"
   },
   {
    "duration": 500,
    "start_time": "2021-07-29T20:53:16.331Z"
   },
   {
    "duration": 235,
    "start_time": "2021-07-29T20:53:16.599Z"
   },
   {
    "duration": 232,
    "start_time": "2021-07-29T20:53:16.603Z"
   },
   {
    "duration": 230,
    "start_time": "2021-07-29T20:53:16.606Z"
   },
   {
    "duration": 222,
    "start_time": "2021-07-29T20:53:16.616Z"
   },
   {
    "duration": 219,
    "start_time": "2021-07-29T20:53:16.620Z"
   },
   {
    "duration": 217,
    "start_time": "2021-07-29T20:53:16.623Z"
   },
   {
    "duration": 214,
    "start_time": "2021-07-29T20:53:16.627Z"
   },
   {
    "duration": 211,
    "start_time": "2021-07-29T20:53:16.631Z"
   },
   {
    "duration": 209,
    "start_time": "2021-07-29T20:53:16.635Z"
   },
   {
    "duration": 199,
    "start_time": "2021-07-29T20:53:16.646Z"
   },
   {
    "duration": 196,
    "start_time": "2021-07-29T20:53:16.650Z"
   },
   {
    "duration": 195,
    "start_time": "2021-07-29T20:53:16.653Z"
   },
   {
    "duration": 193,
    "start_time": "2021-07-29T20:53:16.656Z"
   },
   {
    "duration": 191,
    "start_time": "2021-07-29T20:53:16.659Z"
   },
   {
    "duration": 188,
    "start_time": "2021-07-29T20:53:16.663Z"
   },
   {
    "duration": 185,
    "start_time": "2021-07-29T20:53:16.667Z"
   },
   {
    "duration": 184,
    "start_time": "2021-07-29T20:53:16.670Z"
   },
   {
    "duration": 182,
    "start_time": "2021-07-29T20:53:16.673Z"
   },
   {
    "duration": 180,
    "start_time": "2021-07-29T20:53:16.676Z"
   },
   {
    "duration": 178,
    "start_time": "2021-07-29T20:53:16.680Z"
   },
   {
    "duration": 176,
    "start_time": "2021-07-29T20:53:16.683Z"
   },
   {
    "duration": 167,
    "start_time": "2021-07-29T20:53:16.693Z"
   },
   {
    "duration": 164,
    "start_time": "2021-07-29T20:53:16.697Z"
   },
   {
    "duration": 162,
    "start_time": "2021-07-29T20:53:16.700Z"
   },
   {
    "duration": 160,
    "start_time": "2021-07-29T20:53:16.703Z"
   },
   {
    "duration": 25,
    "start_time": "2021-07-29T20:53:34.215Z"
   },
   {
    "duration": 549,
    "start_time": "2021-07-29T20:53:41.688Z"
   },
   {
    "duration": 22,
    "start_time": "2021-07-29T20:53:43.592Z"
   },
   {
    "duration": 10,
    "start_time": "2021-07-29T20:54:02.422Z"
   },
   {
    "duration": 51,
    "start_time": "2021-07-29T20:54:07.462Z"
   },
   {
    "duration": 18,
    "start_time": "2021-07-29T20:54:09.790Z"
   },
   {
    "duration": 23,
    "start_time": "2021-07-29T20:54:43.959Z"
   },
   {
    "duration": 47,
    "start_time": "2021-07-29T20:54:46.622Z"
   },
   {
    "duration": 11,
    "start_time": "2021-07-29T20:54:47.421Z"
   },
   {
    "duration": 3,
    "start_time": "2021-07-29T20:54:51.350Z"
   },
   {
    "duration": 5,
    "start_time": "2021-07-29T20:54:52.525Z"
   },
   {
    "duration": 17,
    "start_time": "2021-07-29T20:55:15.845Z"
   },
   {
    "duration": 4,
    "start_time": "2021-07-29T20:55:41.541Z"
   },
   {
    "duration": 295904,
    "start_time": "2021-07-29T20:55:42.910Z"
   },
   {
    "duration": 186,
    "start_time": "2021-07-29T21:01:43.302Z"
   },
   {
    "duration": 18,
    "start_time": "2021-07-29T21:01:44.225Z"
   },
   {
    "duration": 20,
    "start_time": "2021-07-29T21:01:45.162Z"
   },
   {
    "duration": 50,
    "start_time": "2021-07-29T21:01:53.257Z"
   },
   {
    "duration": 15,
    "start_time": "2021-07-29T21:01:54.018Z"
   },
   {
    "duration": 598,
    "start_time": "2021-07-29T21:02:10.265Z"
   },
   {
    "duration": 215,
    "start_time": "2021-07-29T21:02:10.651Z"
   },
   {
    "duration": 4,
    "start_time": "2021-07-29T21:02:24.441Z"
   },
   {
    "duration": 31,
    "start_time": "2021-07-29T21:02:24.977Z"
   },
   {
    "duration": 14,
    "start_time": "2021-07-29T21:02:30.729Z"
   },
   {
    "duration": 463,
    "start_time": "2021-07-29T21:02:32.082Z"
   },
   {
    "duration": 453,
    "start_time": "2021-07-29T21:02:34.177Z"
   },
   {
    "duration": 33,
    "start_time": "2021-07-29T21:02:54.184Z"
   },
   {
    "duration": 20,
    "start_time": "2021-07-29T21:02:54.913Z"
   },
   {
    "duration": 52,
    "start_time": "2021-07-29T21:02:58.377Z"
   },
   {
    "duration": 14,
    "start_time": "2021-07-29T21:02:58.744Z"
   },
   {
    "duration": 4,
    "start_time": "2021-07-29T21:03:23.791Z"
   },
   {
    "duration": 22,
    "start_time": "2021-07-29T21:03:24.329Z"
   },
   {
    "duration": 5,
    "start_time": "2021-07-29T21:03:25.496Z"
   },
   {
    "duration": 549,
    "start_time": "2021-07-29T21:03:30.192Z"
   },
   {
    "duration": 28,
    "start_time": "2021-07-29T21:03:31.808Z"
   },
   {
    "duration": 21,
    "start_time": "2021-07-29T21:03:32.873Z"
   },
   {
    "duration": 17,
    "start_time": "2021-07-29T21:03:55.033Z"
   },
   {
    "duration": 20,
    "start_time": "2021-07-29T21:04:03.328Z"
   },
   {
    "duration": 377,
    "start_time": "2021-07-29T21:04:35.697Z"
   },
   {
    "duration": 380,
    "start_time": "2021-07-29T21:04:42.368Z"
   },
   {
    "duration": 4,
    "start_time": "2021-07-29T21:05:07.047Z"
   },
   {
    "duration": 24,
    "start_time": "2021-07-29T21:05:07.465Z"
   },
   {
    "duration": 505,
    "start_time": "2021-07-29T21:05:09.040Z"
   },
   {
    "duration": 20,
    "start_time": "2021-07-29T21:05:12.880Z"
   },
   {
    "duration": 21,
    "start_time": "2021-07-29T21:05:13.336Z"
   },
   {
    "duration": 47,
    "start_time": "2021-07-29T21:05:17.670Z"
   },
   {
    "duration": 16,
    "start_time": "2021-07-29T21:05:18.551Z"
   },
   {
    "duration": 51,
    "start_time": "2021-07-29T21:05:20.343Z"
   },
   {
    "duration": 13,
    "start_time": "2021-07-29T21:05:20.839Z"
   },
   {
    "duration": 3,
    "start_time": "2021-07-29T21:05:37.759Z"
   },
   {
    "duration": 5,
    "start_time": "2021-07-29T21:05:39.312Z"
   },
   {
    "duration": 4,
    "start_time": "2021-07-29T21:05:40.680Z"
   },
   {
    "duration": 549403,
    "start_time": "2021-07-29T21:05:41.575Z"
   },
   {
    "duration": 245,
    "start_time": "2021-07-29T21:19:34.219Z"
   },
   {
    "duration": 3,
    "start_time": "2021-07-29T21:19:37.502Z"
   },
   {
    "duration": 294,
    "start_time": "2021-07-29T21:19:38.126Z"
   },
   {
    "duration": 71,
    "start_time": "2021-07-29T21:19:46.486Z"
   },
   {
    "duration": 90,
    "start_time": "2021-07-29T21:19:53.669Z"
   },
   {
    "duration": 4,
    "start_time": "2021-07-29T21:20:12.302Z"
   },
   {
    "duration": 23,
    "start_time": "2021-07-29T21:20:12.765Z"
   },
   {
    "duration": 5,
    "start_time": "2021-07-29T21:20:13.582Z"
   },
   {
    "duration": 1631,
    "start_time": "2021-07-29T21:20:37.138Z"
   },
   {
    "duration": 2009,
    "start_time": "2021-07-29T21:20:38.773Z"
   },
   {
    "duration": 25,
    "start_time": "2021-07-29T21:20:40.785Z"
   },
   {
    "duration": 166,
    "start_time": "2021-07-29T21:20:40.813Z"
   },
   {
    "duration": 159,
    "start_time": "2021-07-29T21:20:40.981Z"
   },
   {
    "duration": 232,
    "start_time": "2021-07-29T21:20:41.155Z"
   },
   {
    "duration": 125,
    "start_time": "2021-07-29T21:20:41.389Z"
   },
   {
    "duration": 70,
    "start_time": "2021-07-29T21:20:41.518Z"
   },
   {
    "duration": 164,
    "start_time": "2021-07-29T21:20:41.591Z"
   },
   {
    "duration": 50,
    "start_time": "2021-07-29T21:20:41.758Z"
   },
   {
    "duration": 66,
    "start_time": "2021-07-29T21:20:41.811Z"
   },
   {
    "duration": 79,
    "start_time": "2021-07-29T21:20:41.879Z"
   },
   {
    "duration": 970,
    "start_time": "2021-07-29T21:20:41.961Z"
   },
   {
    "duration": 1025,
    "start_time": "2021-07-29T21:20:42.934Z"
   },
   {
    "duration": 70,
    "start_time": "2021-07-29T21:20:43.961Z"
   },
   {
    "duration": 388,
    "start_time": "2021-07-29T21:20:44.033Z"
   },
   {
    "duration": 13,
    "start_time": "2021-07-29T21:20:44.424Z"
   },
   {
    "duration": 24,
    "start_time": "2021-07-29T21:20:44.439Z"
   },
   {
    "duration": 69,
    "start_time": "2021-07-29T21:20:44.465Z"
   },
   {
    "duration": 321,
    "start_time": "2021-07-29T21:20:44.537Z"
   },
   {
    "duration": 335,
    "start_time": "2021-07-29T21:20:44.861Z"
   },
   {
    "duration": 800,
    "start_time": "2021-07-29T21:20:45.198Z"
   },
   {
    "duration": 70,
    "start_time": "2021-07-29T21:20:46.004Z"
   },
   {
    "duration": 898,
    "start_time": "2021-07-29T21:20:46.077Z"
   },
   {
    "duration": 59,
    "start_time": "2021-07-29T21:20:46.977Z"
   },
   {
    "duration": 67,
    "start_time": "2021-07-29T21:20:47.038Z"
   },
   {
    "duration": 498,
    "start_time": "2021-07-29T21:20:47.107Z"
   },
   {
    "duration": 414,
    "start_time": "2021-07-29T21:20:47.608Z"
   },
   {
    "duration": 14,
    "start_time": "2021-07-29T21:20:48.025Z"
   },
   {
    "duration": 35,
    "start_time": "2021-07-29T21:20:48.042Z"
   },
   {
    "duration": 12,
    "start_time": "2021-07-29T21:20:48.080Z"
   },
   {
    "duration": 411,
    "start_time": "2021-07-29T21:20:48.095Z"
   },
   {
    "duration": 451,
    "start_time": "2021-07-29T21:20:48.509Z"
   },
   {
    "duration": 19,
    "start_time": "2021-07-29T21:20:48.963Z"
   },
   {
    "duration": 41,
    "start_time": "2021-07-29T21:20:48.985Z"
   },
   {
    "duration": 44,
    "start_time": "2021-07-29T21:20:49.056Z"
   },
   {
    "duration": 5777,
    "start_time": "2021-07-29T21:20:49.103Z"
   },
   {
    "duration": 20,
    "start_time": "2021-07-29T21:20:54.882Z"
   },
   {
    "duration": 23,
    "start_time": "2021-07-29T21:20:54.904Z"
   },
   {
    "duration": 50,
    "start_time": "2021-07-29T21:20:54.929Z"
   },
   {
    "duration": 100,
    "start_time": "2021-07-29T21:20:54.981Z"
   },
   {
    "duration": 22,
    "start_time": "2021-07-29T21:20:55.083Z"
   },
   {
    "duration": 111,
    "start_time": "2021-07-29T21:20:55.108Z"
   },
   {
    "duration": 418,
    "start_time": "2021-07-29T21:20:55.221Z"
   },
   {
    "duration": 491,
    "start_time": "2021-07-29T21:20:55.641Z"
   },
   {
    "duration": 375,
    "start_time": "2021-07-29T21:20:56.135Z"
   },
   {
    "duration": 374,
    "start_time": "2021-07-29T21:20:56.513Z"
   },
   {
    "duration": 38,
    "start_time": "2021-07-29T21:20:56.889Z"
   },
   {
    "duration": 594,
    "start_time": "2021-07-29T21:20:56.929Z"
   },
   {
    "duration": 17,
    "start_time": "2021-07-29T21:20:57.526Z"
   },
   {
    "duration": 36,
    "start_time": "2021-07-29T21:20:57.556Z"
   },
   {
    "duration": 484,
    "start_time": "2021-07-29T21:20:57.594Z"
   },
   {
    "duration": 18,
    "start_time": "2021-07-29T21:20:58.080Z"
   },
   {
    "duration": 57,
    "start_time": "2021-07-29T21:20:58.100Z"
   },
   {
    "duration": 291,
    "start_time": "2021-07-29T21:20:58.159Z"
   },
   {
    "duration": 91,
    "start_time": "2021-07-29T21:20:58.452Z"
   },
   {
    "duration": 49,
    "start_time": "2021-07-29T21:20:58.546Z"
   },
   {
    "duration": 69,
    "start_time": "2021-07-29T21:20:58.598Z"
   },
   {
    "duration": 86,
    "start_time": "2021-07-29T21:20:58.670Z"
   },
   {
    "duration": 30,
    "start_time": "2021-07-29T21:20:58.758Z"
   },
   {
    "duration": 131,
    "start_time": "2021-07-29T21:20:58.790Z"
   },
   {
    "duration": 193,
    "start_time": "2021-07-29T21:20:58.925Z"
   },
   {
    "duration": 216,
    "start_time": "2021-07-29T21:20:59.121Z"
   },
   {
    "duration": 7,
    "start_time": "2021-07-29T21:20:59.340Z"
   },
   {
    "duration": 579,
    "start_time": "2021-07-29T21:20:59.357Z"
   },
   {
    "duration": 15,
    "start_time": "2021-07-29T21:20:59.940Z"
   },
   {
    "duration": 24,
    "start_time": "2021-07-29T21:20:59.958Z"
   },
   {
    "duration": 5,
    "start_time": "2021-07-29T21:20:59.993Z"
   },
   {
    "duration": 1217,
    "start_time": "2021-07-29T21:21:00.002Z"
   },
   {
    "duration": 218,
    "start_time": "2021-07-29T21:21:01.004Z"
   },
   {
    "duration": 216,
    "start_time": "2021-07-29T21:21:01.008Z"
   },
   {
    "duration": 216,
    "start_time": "2021-07-29T21:21:01.011Z"
   },
   {
    "duration": 214,
    "start_time": "2021-07-29T21:21:01.015Z"
   },
   {
    "duration": 213,
    "start_time": "2021-07-29T21:21:01.018Z"
   },
   {
    "duration": 205,
    "start_time": "2021-07-29T21:21:01.028Z"
   },
   {
    "duration": 194,
    "start_time": "2021-07-29T21:21:01.041Z"
   },
   {
    "duration": 192,
    "start_time": "2021-07-29T21:21:01.045Z"
   },
   {
    "duration": 185,
    "start_time": "2021-07-29T21:21:01.054Z"
   },
   {
    "duration": 181,
    "start_time": "2021-07-29T21:21:01.059Z"
   },
   {
    "duration": 180,
    "start_time": "2021-07-29T21:21:01.062Z"
   },
   {
    "duration": 172,
    "start_time": "2021-07-29T21:21:01.071Z"
   },
   {
    "duration": 171,
    "start_time": "2021-07-29T21:21:01.074Z"
   },
   {
    "duration": 168,
    "start_time": "2021-07-29T21:21:01.078Z"
   },
   {
    "duration": 160,
    "start_time": "2021-07-29T21:21:01.087Z"
   },
   {
    "duration": 158,
    "start_time": "2021-07-29T21:21:01.091Z"
   },
   {
    "duration": 157,
    "start_time": "2021-07-29T21:21:01.093Z"
   },
   {
    "duration": 154,
    "start_time": "2021-07-29T21:21:01.097Z"
   },
   {
    "duration": 148,
    "start_time": "2021-07-29T21:21:01.105Z"
   },
   {
    "duration": 145,
    "start_time": "2021-07-29T21:21:01.109Z"
   },
   {
    "duration": 143,
    "start_time": "2021-07-29T21:21:01.112Z"
   },
   {
    "duration": 134,
    "start_time": "2021-07-29T21:21:01.123Z"
   },
   {
    "duration": 131,
    "start_time": "2021-07-29T21:21:01.127Z"
   },
   {
    "duration": 129,
    "start_time": "2021-07-29T21:21:01.130Z"
   },
   {
    "duration": 128,
    "start_time": "2021-07-29T21:21:01.133Z"
   },
   {
    "duration": 125,
    "start_time": "2021-07-29T21:21:01.137Z"
   },
   {
    "duration": 124,
    "start_time": "2021-07-29T21:21:01.140Z"
   },
   {
    "duration": 122,
    "start_time": "2021-07-29T21:21:01.143Z"
   },
   {
    "duration": 120,
    "start_time": "2021-07-29T21:21:01.147Z"
   },
   {
    "duration": 118,
    "start_time": "2021-07-29T21:21:01.150Z"
   },
   {
    "duration": 116,
    "start_time": "2021-07-29T21:21:01.154Z"
   },
   {
    "duration": 107,
    "start_time": "2021-07-29T21:21:01.164Z"
   },
   {
    "duration": 101,
    "start_time": "2021-07-29T21:21:01.172Z"
   },
   {
    "duration": 1364,
    "start_time": "2021-07-29T21:21:08.807Z"
   },
   {
    "duration": 304,
    "start_time": "2021-07-29T21:21:14.039Z"
   },
   {
    "duration": 7,
    "start_time": "2021-07-29T21:21:15.936Z"
   },
   {
    "duration": 1278,
    "start_time": "2021-07-29T21:21:21.144Z"
   },
   {
    "duration": 33,
    "start_time": "2021-07-29T21:21:24.422Z"
   },
   {
    "duration": 3,
    "start_time": "2021-07-29T21:21:40.903Z"
   },
   {
    "duration": 21227,
    "start_time": "2021-07-29T21:21:44.631Z"
   },
   {
    "duration": 35,
    "start_time": "2021-07-29T21:22:35.551Z"
   },
   {
    "duration": 33,
    "start_time": "2021-07-29T21:23:25.047Z"
   },
   {
    "duration": 24483,
    "start_time": "2021-07-29T21:23:28.478Z"
   },
   {
    "duration": 3,
    "start_time": "2021-07-29T21:24:09.151Z"
   },
   {
    "duration": 24842,
    "start_time": "2021-07-29T21:24:09.622Z"
   },
   {
    "duration": 942,
    "start_time": "2021-07-29T21:25:11.772Z"
   },
   {
    "duration": 42,
    "start_time": "2021-07-29T21:25:23.414Z"
   },
   {
    "duration": 21458,
    "start_time": "2021-07-29T21:25:28.398Z"
   },
   {
    "duration": 4,
    "start_time": "2021-07-29T21:26:16.637Z"
   },
   {
    "duration": 23060,
    "start_time": "2021-07-29T21:26:16.997Z"
   },
   {
    "duration": 21974,
    "start_time": "2021-07-29T21:26:55.088Z"
   },
   {
    "duration": 4,
    "start_time": "2021-07-29T21:27:25.236Z"
   },
   {
    "duration": 22397,
    "start_time": "2021-07-29T21:27:25.764Z"
   },
   {
    "duration": 25,
    "start_time": "2021-07-29T21:28:00.563Z"
   },
   {
    "duration": 481,
    "start_time": "2021-07-29T21:28:13.387Z"
   },
   {
    "duration": 52,
    "start_time": "2021-07-29T21:28:14.522Z"
   },
   {
    "duration": 50,
    "start_time": "2021-07-29T21:28:19.181Z"
   },
   {
    "duration": 4,
    "start_time": "2021-07-29T21:28:22.546Z"
   },
   {
    "duration": 16,
    "start_time": "2021-07-29T21:28:28.420Z"
   },
   {
    "duration": 430,
    "start_time": "2021-07-29T21:28:45.827Z"
   },
   {
    "duration": 5,
    "start_time": "2021-07-29T21:29:03.074Z"
   },
   {
    "duration": 1725,
    "start_time": "2021-07-29T21:31:06.566Z"
   },
   {
    "duration": 3609,
    "start_time": "2021-07-29T21:31:08.294Z"
   },
   {
    "duration": 27,
    "start_time": "2021-07-29T21:31:11.906Z"
   },
   {
    "duration": 177,
    "start_time": "2021-07-29T21:31:11.936Z"
   },
   {
    "duration": 162,
    "start_time": "2021-07-29T21:31:12.116Z"
   },
   {
    "duration": 235,
    "start_time": "2021-07-29T21:31:12.281Z"
   },
   {
    "duration": 125,
    "start_time": "2021-07-29T21:31:12.519Z"
   },
   {
    "duration": 63,
    "start_time": "2021-07-29T21:31:12.648Z"
   },
   {
    "duration": 178,
    "start_time": "2021-07-29T21:31:12.715Z"
   },
   {
    "duration": 61,
    "start_time": "2021-07-29T21:31:12.896Z"
   },
   {
    "duration": 54,
    "start_time": "2021-07-29T21:31:12.960Z"
   },
   {
    "duration": 86,
    "start_time": "2021-07-29T21:31:13.017Z"
   },
   {
    "duration": 960,
    "start_time": "2021-07-29T21:31:13.106Z"
   },
   {
    "duration": 1179,
    "start_time": "2021-07-29T21:31:14.069Z"
   },
   {
    "duration": 69,
    "start_time": "2021-07-29T21:31:15.251Z"
   },
   {
    "duration": 410,
    "start_time": "2021-07-29T21:31:15.323Z"
   },
   {
    "duration": 21,
    "start_time": "2021-07-29T21:31:15.736Z"
   },
   {
    "duration": 11,
    "start_time": "2021-07-29T21:31:15.760Z"
   },
   {
    "duration": 95,
    "start_time": "2021-07-29T21:31:15.774Z"
   },
   {
    "duration": 359,
    "start_time": "2021-07-29T21:31:15.872Z"
   },
   {
    "duration": 385,
    "start_time": "2021-07-29T21:31:16.233Z"
   },
   {
    "duration": 920,
    "start_time": "2021-07-29T21:31:16.620Z"
   },
   {
    "duration": 65,
    "start_time": "2021-07-29T21:31:17.546Z"
   },
   {
    "duration": 1084,
    "start_time": "2021-07-29T21:31:17.615Z"
   },
   {
    "duration": 72,
    "start_time": "2021-07-29T21:31:18.702Z"
   },
   {
    "duration": 56,
    "start_time": "2021-07-29T21:31:18.776Z"
   },
   {
    "duration": 536,
    "start_time": "2021-07-29T21:31:18.835Z"
   },
   {
    "duration": 437,
    "start_time": "2021-07-29T21:31:19.373Z"
   },
   {
    "duration": 211,
    "start_time": "2021-07-29T21:31:19.813Z"
   },
   {
    "duration": 19,
    "start_time": "2021-07-29T21:31:20.026Z"
   },
   {
    "duration": 15,
    "start_time": "2021-07-29T21:31:20.048Z"
   },
   {
    "duration": 398,
    "start_time": "2021-07-29T21:31:20.065Z"
   },
   {
    "duration": 495,
    "start_time": "2021-07-29T21:31:20.465Z"
   },
   {
    "duration": 18,
    "start_time": "2021-07-29T21:31:20.963Z"
   },
   {
    "duration": 40,
    "start_time": "2021-07-29T21:31:20.983Z"
   },
   {
    "duration": 75,
    "start_time": "2021-07-29T21:31:21.025Z"
   },
   {
    "duration": 6306,
    "start_time": "2021-07-29T21:31:21.103Z"
   },
   {
    "duration": 20,
    "start_time": "2021-07-29T21:31:27.411Z"
   },
   {
    "duration": 40,
    "start_time": "2021-07-29T21:31:27.434Z"
   },
   {
    "duration": 29,
    "start_time": "2021-07-29T21:31:27.477Z"
   },
   {
    "duration": 109,
    "start_time": "2021-07-29T21:31:27.509Z"
   },
   {
    "duration": 22,
    "start_time": "2021-07-29T21:31:27.621Z"
   },
   {
    "duration": 119,
    "start_time": "2021-07-29T21:31:27.656Z"
   },
   {
    "duration": 417,
    "start_time": "2021-07-29T21:31:27.777Z"
   },
   {
    "duration": 476,
    "start_time": "2021-07-29T21:31:28.197Z"
   },
   {
    "duration": 391,
    "start_time": "2021-07-29T21:31:28.676Z"
   },
   {
    "duration": 363,
    "start_time": "2021-07-29T21:31:29.070Z"
   },
   {
    "duration": 50,
    "start_time": "2021-07-29T21:31:29.435Z"
   },
   {
    "duration": 616,
    "start_time": "2021-07-29T21:31:29.487Z"
   },
   {
    "duration": 19,
    "start_time": "2021-07-29T21:31:30.106Z"
   },
   {
    "duration": 58,
    "start_time": "2021-07-29T21:31:30.128Z"
   },
   {
    "duration": 533,
    "start_time": "2021-07-29T21:31:30.189Z"
   },
   {
    "duration": 31,
    "start_time": "2021-07-29T21:31:30.725Z"
   },
   {
    "duration": 48,
    "start_time": "2021-07-29T21:31:30.758Z"
   },
   {
    "duration": 322,
    "start_time": "2021-07-29T21:31:30.809Z"
   },
   {
    "duration": 100,
    "start_time": "2021-07-29T21:31:31.133Z"
   },
   {
    "duration": 57,
    "start_time": "2021-07-29T21:31:31.235Z"
   },
   {
    "duration": 61,
    "start_time": "2021-07-29T21:31:31.295Z"
   },
   {
    "duration": 72,
    "start_time": "2021-07-29T21:31:31.358Z"
   },
   {
    "duration": 54,
    "start_time": "2021-07-29T21:31:31.432Z"
   },
   {
    "duration": 98,
    "start_time": "2021-07-29T21:31:31.489Z"
   },
   {
    "duration": 195,
    "start_time": "2021-07-29T21:31:31.590Z"
   },
   {
    "duration": 211,
    "start_time": "2021-07-29T21:31:31.787Z"
   },
   {
    "duration": 6,
    "start_time": "2021-07-29T21:31:32.001Z"
   },
   {
    "duration": 634,
    "start_time": "2021-07-29T21:31:32.009Z"
   },
   {
    "duration": 10,
    "start_time": "2021-07-29T21:31:32.646Z"
   },
   {
    "duration": 44,
    "start_time": "2021-07-29T21:31:32.658Z"
   },
   {
    "duration": 5,
    "start_time": "2021-07-29T21:31:32.710Z"
   },
   {
    "duration": 680,
    "start_time": "2021-07-29T21:31:32.719Z"
   },
   {
    "duration": 213,
    "start_time": "2021-07-29T21:31:33.189Z"
   },
   {
    "duration": 211,
    "start_time": "2021-07-29T21:31:33.193Z"
   },
   {
    "duration": 210,
    "start_time": "2021-07-29T21:31:33.196Z"
   },
   {
    "duration": 202,
    "start_time": "2021-07-29T21:31:33.206Z"
   },
   {
    "duration": 201,
    "start_time": "2021-07-29T21:31:33.210Z"
   },
   {
    "duration": 200,
    "start_time": "2021-07-29T21:31:33.213Z"
   },
   {
    "duration": 199,
    "start_time": "2021-07-29T21:31:33.216Z"
   },
   {
    "duration": 191,
    "start_time": "2021-07-29T21:31:33.226Z"
   },
   {
    "duration": 190,
    "start_time": "2021-07-29T21:31:33.229Z"
   },
   {
    "duration": 188,
    "start_time": "2021-07-29T21:31:33.233Z"
   },
   {
    "duration": 188,
    "start_time": "2021-07-29T21:31:33.236Z"
   },
   {
    "duration": 186,
    "start_time": "2021-07-29T21:31:33.240Z"
   },
   {
    "duration": 177,
    "start_time": "2021-07-29T21:31:33.251Z"
   },
   {
    "duration": 176,
    "start_time": "2021-07-29T21:31:33.255Z"
   },
   {
    "duration": 174,
    "start_time": "2021-07-29T21:31:33.259Z"
   },
   {
    "duration": 172,
    "start_time": "2021-07-29T21:31:33.263Z"
   },
   {
    "duration": 171,
    "start_time": "2021-07-29T21:31:33.266Z"
   },
   {
    "duration": 185,
    "start_time": "2021-07-29T21:31:33.269Z"
   },
   {
    "duration": 184,
    "start_time": "2021-07-29T21:31:33.273Z"
   },
   {
    "duration": 182,
    "start_time": "2021-07-29T21:31:33.277Z"
   },
   {
    "duration": 175,
    "start_time": "2021-07-29T21:31:33.286Z"
   },
   {
    "duration": 172,
    "start_time": "2021-07-29T21:31:33.291Z"
   },
   {
    "duration": 171,
    "start_time": "2021-07-29T21:31:33.294Z"
   },
   {
    "duration": 170,
    "start_time": "2021-07-29T21:31:33.297Z"
   },
   {
    "duration": 170,
    "start_time": "2021-07-29T21:31:33.299Z"
   },
   {
    "duration": 169,
    "start_time": "2021-07-29T21:31:33.303Z"
   },
   {
    "duration": 86,
    "start_time": "2021-07-29T21:31:33.388Z"
   },
   {
    "duration": 85,
    "start_time": "2021-07-29T21:31:33.391Z"
   },
   {
    "duration": 84,
    "start_time": "2021-07-29T21:31:33.394Z"
   },
   {
    "duration": 83,
    "start_time": "2021-07-29T21:31:33.397Z"
   },
   {
    "duration": 82,
    "start_time": "2021-07-29T21:31:33.400Z"
   },
   {
    "duration": 83,
    "start_time": "2021-07-29T21:31:33.402Z"
   },
   {
    "duration": 82,
    "start_time": "2021-07-29T21:31:33.405Z"
   },
   {
    "duration": 82,
    "start_time": "2021-07-29T21:31:33.408Z"
   },
   {
    "duration": 1451,
    "start_time": "2021-07-29T21:31:38.885Z"
   },
   {
    "duration": 473,
    "start_time": "2021-07-29T21:31:52.692Z"
   },
   {
    "duration": 72,
    "start_time": "2021-07-29T21:31:53.678Z"
   },
   {
    "duration": 18,
    "start_time": "2021-07-29T21:31:54.389Z"
   },
   {
    "duration": 48,
    "start_time": "2021-07-29T21:31:57.572Z"
   },
   {
    "duration": 11,
    "start_time": "2021-07-29T21:31:58.212Z"
   },
   {
    "duration": 3,
    "start_time": "2021-07-29T21:32:03.300Z"
   },
   {
    "duration": 6,
    "start_time": "2021-07-29T21:32:04.588Z"
   },
   {
    "duration": 140,
    "start_time": "2021-07-29T21:34:14.634Z"
   },
   {
    "duration": 130,
    "start_time": "2021-07-29T21:34:14.645Z"
   },
   {
    "duration": 125,
    "start_time": "2021-07-29T21:34:14.651Z"
   },
   {
    "duration": 123,
    "start_time": "2021-07-29T21:34:14.655Z"
   },
   {
    "duration": 120,
    "start_time": "2021-07-29T21:34:14.659Z"
   },
   {
    "duration": 118,
    "start_time": "2021-07-29T21:34:14.662Z"
   },
   {
    "duration": 117,
    "start_time": "2021-07-29T21:34:14.665Z"
   },
   {
    "duration": 107,
    "start_time": "2021-07-29T21:34:14.676Z"
   },
   {
    "duration": 104,
    "start_time": "2021-07-29T21:34:14.681Z"
   },
   {
    "duration": 101,
    "start_time": "2021-07-29T21:34:14.685Z"
   },
   {
    "duration": 98,
    "start_time": "2021-07-29T21:34:14.689Z"
   },
   {
    "duration": 96,
    "start_time": "2021-07-29T21:34:14.693Z"
   },
   {
    "duration": 92,
    "start_time": "2021-07-29T21:34:14.698Z"
   },
   {
    "duration": 90,
    "start_time": "2021-07-29T21:34:14.701Z"
   },
   {
    "duration": 87,
    "start_time": "2021-07-29T21:34:14.705Z"
   },
   {
    "duration": 80,
    "start_time": "2021-07-29T21:34:14.714Z"
   },
   {
    "duration": 77,
    "start_time": "2021-07-29T21:34:14.718Z"
   },
   {
    "duration": 135,
    "start_time": "2021-07-29T21:34:14.721Z"
   },
   {
    "duration": 132,
    "start_time": "2021-07-29T21:34:14.725Z"
   },
   {
    "duration": 131,
    "start_time": "2021-07-29T21:34:14.728Z"
   },
   {
    "duration": 128,
    "start_time": "2021-07-29T21:34:14.732Z"
   },
   {
    "duration": 110,
    "start_time": "2021-07-29T21:34:14.751Z"
   },
   {
    "duration": 24,
    "start_time": "2021-07-29T21:34:14.838Z"
   },
   {
    "duration": 22,
    "start_time": "2021-07-29T21:34:14.842Z"
   },
   {
    "duration": 20,
    "start_time": "2021-07-29T21:34:14.845Z"
   },
   {
    "duration": 10,
    "start_time": "2021-07-29T21:34:14.857Z"
   },
   {
    "duration": 7,
    "start_time": "2021-07-29T21:34:14.861Z"
   },
   {
    "duration": 5,
    "start_time": "2021-07-29T21:34:14.864Z"
   },
   {
    "duration": 3,
    "start_time": "2021-07-29T21:34:14.868Z"
   },
   {
    "duration": -6,
    "start_time": "2021-07-29T21:34:14.878Z"
   },
   {
    "duration": -9,
    "start_time": "2021-07-29T21:34:14.882Z"
   },
   {
    "duration": -10,
    "start_time": "2021-07-29T21:34:14.885Z"
   },
   {
    "duration": -12,
    "start_time": "2021-07-29T21:34:14.888Z"
   },
   {
    "duration": -525,
    "start_time": "2021-07-29T21:34:15.402Z"
   },
   {
    "duration": -561,
    "start_time": "2021-07-29T21:34:15.440Z"
   },
   {
    "duration": -563,
    "start_time": "2021-07-29T21:34:15.443Z"
   },
   {
    "duration": -565,
    "start_time": "2021-07-29T21:34:15.446Z"
   },
   {
    "duration": -566,
    "start_time": "2021-07-29T21:34:15.449Z"
   },
   {
    "duration": -568,
    "start_time": "2021-07-29T21:34:15.452Z"
   },
   {
    "duration": -570,
    "start_time": "2021-07-29T21:34:15.455Z"
   },
   {
    "duration": -571,
    "start_time": "2021-07-29T21:34:15.458Z"
   },
   {
    "duration": -573,
    "start_time": "2021-07-29T21:34:15.461Z"
   },
   {
    "duration": -600,
    "start_time": "2021-07-29T21:34:15.489Z"
   },
   {
    "duration": -601,
    "start_time": "2021-07-29T21:34:15.492Z"
   },
   {
    "duration": -540,
    "start_time": "2021-07-29T21:34:15.495Z"
   },
   {
    "duration": -541,
    "start_time": "2021-07-29T21:34:15.498Z"
   },
   {
    "duration": -544,
    "start_time": "2021-07-29T21:34:15.502Z"
   },
   {
    "duration": -545,
    "start_time": "2021-07-29T21:34:15.505Z"
   },
   {
    "duration": -547,
    "start_time": "2021-07-29T21:34:15.508Z"
   },
   {
    "duration": -548,
    "start_time": "2021-07-29T21:34:15.510Z"
   },
   {
    "duration": -549,
    "start_time": "2021-07-29T21:34:15.513Z"
   },
   {
    "duration": -551,
    "start_time": "2021-07-29T21:34:15.516Z"
   },
   {
    "duration": -552,
    "start_time": "2021-07-29T21:34:15.519Z"
   },
   {
    "duration": -554,
    "start_time": "2021-07-29T21:34:15.522Z"
   },
   {
    "duration": -555,
    "start_time": "2021-07-29T21:34:15.525Z"
   },
   {
    "duration": -558,
    "start_time": "2021-07-29T21:34:15.529Z"
   },
   {
    "duration": -559,
    "start_time": "2021-07-29T21:34:15.532Z"
   },
   {
    "duration": -561,
    "start_time": "2021-07-29T21:34:15.535Z"
   },
   {
    "duration": -563,
    "start_time": "2021-07-29T21:34:15.538Z"
   },
   {
    "duration": -571,
    "start_time": "2021-07-29T21:34:15.548Z"
   },
   {
    "duration": -574,
    "start_time": "2021-07-29T21:34:15.552Z"
   },
   {
    "duration": -726,
    "start_time": "2021-07-29T21:34:15.705Z"
   },
   {
    "duration": -781,
    "start_time": "2021-07-29T21:34:15.762Z"
   },
   {
    "duration": -783,
    "start_time": "2021-07-29T21:34:15.765Z"
   },
   {
    "duration": -784,
    "start_time": "2021-07-29T21:34:15.768Z"
   },
   {
    "duration": -791,
    "start_time": "2021-07-29T21:34:15.776Z"
   },
   {
    "duration": -794,
    "start_time": "2021-07-29T21:34:15.780Z"
   },
   {
    "duration": -795,
    "start_time": "2021-07-29T21:34:15.783Z"
   },
   {
    "duration": -797,
    "start_time": "2021-07-29T21:34:15.786Z"
   },
   {
    "duration": -799,
    "start_time": "2021-07-29T21:34:15.789Z"
   },
   {
    "duration": -800,
    "start_time": "2021-07-29T21:34:15.792Z"
   },
   {
    "duration": -802,
    "start_time": "2021-07-29T21:34:15.795Z"
   },
   {
    "duration": -803,
    "start_time": "2021-07-29T21:34:15.797Z"
   },
   {
    "duration": -744,
    "start_time": "2021-07-29T21:34:15.800Z"
   },
   {
    "duration": -745,
    "start_time": "2021-07-29T21:34:15.803Z"
   },
   {
    "duration": -747,
    "start_time": "2021-07-29T21:34:15.806Z"
   },
   {
    "duration": -748,
    "start_time": "2021-07-29T21:34:15.809Z"
   },
   {
    "duration": -749,
    "start_time": "2021-07-29T21:34:15.812Z"
   },
   {
    "duration": -751,
    "start_time": "2021-07-29T21:34:15.815Z"
   },
   {
    "duration": -752,
    "start_time": "2021-07-29T21:34:15.818Z"
   },
   {
    "duration": -754,
    "start_time": "2021-07-29T21:34:15.821Z"
   },
   {
    "duration": -755,
    "start_time": "2021-07-29T21:34:15.824Z"
   },
   {
    "duration": -755,
    "start_time": "2021-07-29T21:34:15.826Z"
   },
   {
    "duration": -757,
    "start_time": "2021-07-29T21:34:15.829Z"
   },
   {
    "duration": -758,
    "start_time": "2021-07-29T21:34:15.832Z"
   },
   {
    "duration": -760,
    "start_time": "2021-07-29T21:34:15.835Z"
   },
   {
    "duration": -761,
    "start_time": "2021-07-29T21:34:15.838Z"
   },
   {
    "duration": -762,
    "start_time": "2021-07-29T21:34:15.840Z"
   },
   {
    "duration": -764,
    "start_time": "2021-07-29T21:34:15.844Z"
   },
   {
    "duration": -765,
    "start_time": "2021-07-29T21:34:15.846Z"
   },
   {
    "duration": -766,
    "start_time": "2021-07-29T21:34:15.849Z"
   },
   {
    "duration": -768,
    "start_time": "2021-07-29T21:34:15.852Z"
   },
   {
    "duration": -770,
    "start_time": "2021-07-29T21:34:15.855Z"
   },
   {
    "duration": -772,
    "start_time": "2021-07-29T21:34:15.858Z"
   },
   {
    "duration": -773,
    "start_time": "2021-07-29T21:34:15.861Z"
   },
   {
    "duration": -774,
    "start_time": "2021-07-29T21:34:15.863Z"
   },
   {
    "duration": -776,
    "start_time": "2021-07-29T21:34:15.866Z"
   },
   {
    "duration": -777,
    "start_time": "2021-07-29T21:34:15.869Z"
   },
   {
    "duration": -714,
    "start_time": "2021-07-29T21:34:15.872Z"
   },
   {
    "duration": -716,
    "start_time": "2021-07-29T21:34:15.875Z"
   },
   {
    "duration": -725,
    "start_time": "2021-07-29T21:34:15.886Z"
   },
   {
    "duration": -728,
    "start_time": "2021-07-29T21:34:15.890Z"
   },
   {
    "duration": -730,
    "start_time": "2021-07-29T21:34:15.893Z"
   },
   {
    "duration": 1738,
    "start_time": "2021-07-29T21:35:05.582Z"
   },
   {
    "duration": 3484,
    "start_time": "2021-07-29T21:35:07.322Z"
   },
   {
    "duration": 25,
    "start_time": "2021-07-29T21:35:10.809Z"
   },
   {
    "duration": 173,
    "start_time": "2021-07-29T21:35:10.837Z"
   },
   {
    "duration": 161,
    "start_time": "2021-07-29T21:35:11.013Z"
   },
   {
    "duration": 230,
    "start_time": "2021-07-29T21:35:11.177Z"
   },
   {
    "duration": 121,
    "start_time": "2021-07-29T21:35:11.410Z"
   },
   {
    "duration": 66,
    "start_time": "2021-07-29T21:35:11.535Z"
   },
   {
    "duration": 163,
    "start_time": "2021-07-29T21:35:11.604Z"
   },
   {
    "duration": 52,
    "start_time": "2021-07-29T21:35:11.769Z"
   },
   {
    "duration": 71,
    "start_time": "2021-07-29T21:35:11.823Z"
   },
   {
    "duration": 75,
    "start_time": "2021-07-29T21:35:11.896Z"
   },
   {
    "duration": 987,
    "start_time": "2021-07-29T21:35:11.973Z"
   },
   {
    "duration": 1036,
    "start_time": "2021-07-29T21:35:12.962Z"
   },
   {
    "duration": 83,
    "start_time": "2021-07-29T21:35:14.000Z"
   },
   {
    "duration": 373,
    "start_time": "2021-07-29T21:35:14.085Z"
   },
   {
    "duration": 13,
    "start_time": "2021-07-29T21:35:14.460Z"
   },
   {
    "duration": 10,
    "start_time": "2021-07-29T21:35:14.475Z"
   },
   {
    "duration": 103,
    "start_time": "2021-07-29T21:35:14.488Z"
   },
   {
    "duration": 302,
    "start_time": "2021-07-29T21:35:14.594Z"
   },
   {
    "duration": 334,
    "start_time": "2021-07-29T21:35:14.899Z"
   },
   {
    "duration": 792,
    "start_time": "2021-07-29T21:35:15.236Z"
   },
   {
    "duration": 74,
    "start_time": "2021-07-29T21:35:16.034Z"
   },
   {
    "duration": 901,
    "start_time": "2021-07-29T21:35:16.112Z"
   },
   {
    "duration": 70,
    "start_time": "2021-07-29T21:35:17.015Z"
   },
   {
    "duration": 70,
    "start_time": "2021-07-29T21:35:17.087Z"
   },
   {
    "duration": 483,
    "start_time": "2021-07-29T21:35:17.160Z"
   },
   {
    "duration": 405,
    "start_time": "2021-07-29T21:35:17.645Z"
   },
   {
    "duration": 13,
    "start_time": "2021-07-29T21:35:18.056Z"
   },
   {
    "duration": 20,
    "start_time": "2021-07-29T21:35:18.072Z"
   },
   {
    "duration": 10,
    "start_time": "2021-07-29T21:35:18.094Z"
   },
   {
    "duration": 398,
    "start_time": "2021-07-29T21:35:18.107Z"
   },
   {
    "duration": 452,
    "start_time": "2021-07-29T21:35:18.508Z"
   },
   {
    "duration": 19,
    "start_time": "2021-07-29T21:35:18.962Z"
   },
   {
    "duration": 39,
    "start_time": "2021-07-29T21:35:18.983Z"
   },
   {
    "duration": 72,
    "start_time": "2021-07-29T21:35:19.024Z"
   },
   {
    "duration": 5708,
    "start_time": "2021-07-29T21:35:19.099Z"
   },
   {
    "duration": 20,
    "start_time": "2021-07-29T21:35:24.810Z"
   },
   {
    "duration": 43,
    "start_time": "2021-07-29T21:35:24.833Z"
   },
   {
    "duration": 26,
    "start_time": "2021-07-29T21:35:24.878Z"
   },
   {
    "duration": 102,
    "start_time": "2021-07-29T21:35:24.907Z"
   },
   {
    "duration": 23,
    "start_time": "2021-07-29T21:35:25.011Z"
   },
   {
    "duration": 120,
    "start_time": "2021-07-29T21:35:25.037Z"
   },
   {
    "duration": 399,
    "start_time": "2021-07-29T21:35:25.160Z"
   },
   {
    "duration": 485,
    "start_time": "2021-07-29T21:35:25.561Z"
   },
   {
    "duration": 383,
    "start_time": "2021-07-29T21:35:26.049Z"
   },
   {
    "duration": 366,
    "start_time": "2021-07-29T21:35:26.435Z"
   },
   {
    "duration": 52,
    "start_time": "2021-07-29T21:35:26.803Z"
   },
   {
    "duration": 576,
    "start_time": "2021-07-29T21:35:26.857Z"
   },
   {
    "duration": 27,
    "start_time": "2021-07-29T21:35:27.435Z"
   },
   {
    "duration": 38,
    "start_time": "2021-07-29T21:35:27.464Z"
   },
   {
    "duration": 485,
    "start_time": "2021-07-29T21:35:27.504Z"
   },
   {
    "duration": 18,
    "start_time": "2021-07-29T21:35:27.991Z"
   },
   {
    "duration": 57,
    "start_time": "2021-07-29T21:35:28.011Z"
   },
   {
    "duration": 280,
    "start_time": "2021-07-29T21:35:28.070Z"
   },
   {
    "duration": 85,
    "start_time": "2021-07-29T21:35:28.353Z"
   },
   {
    "duration": 48,
    "start_time": "2021-07-29T21:35:28.441Z"
   },
   {
    "duration": 41,
    "start_time": "2021-07-29T21:35:28.491Z"
   },
   {
    "duration": 70,
    "start_time": "2021-07-29T21:35:28.557Z"
   },
   {
    "duration": 49,
    "start_time": "2021-07-29T21:35:28.630Z"
   },
   {
    "duration": 107,
    "start_time": "2021-07-29T21:35:28.681Z"
   },
   {
    "duration": 202,
    "start_time": "2021-07-29T21:35:28.791Z"
   },
   {
    "duration": 212,
    "start_time": "2021-07-29T21:35:28.995Z"
   },
   {
    "duration": 6,
    "start_time": "2021-07-29T21:35:29.209Z"
   },
   {
    "duration": 612,
    "start_time": "2021-07-29T21:35:29.217Z"
   },
   {
    "duration": 4,
    "start_time": "2021-07-29T21:35:29.832Z"
   },
   {
    "duration": 34,
    "start_time": "2021-07-29T21:35:29.838Z"
   },
   {
    "duration": 6,
    "start_time": "2021-07-29T21:35:29.880Z"
   },
   {
    "duration": 598,
    "start_time": "2021-07-29T21:35:29.889Z"
   },
   {
    "duration": 199,
    "start_time": "2021-07-29T21:35:30.291Z"
   },
   {
    "duration": 197,
    "start_time": "2021-07-29T21:35:30.294Z"
   },
   {
    "duration": 196,
    "start_time": "2021-07-29T21:35:30.297Z"
   },
   {
    "duration": 187,
    "start_time": "2021-07-29T21:35:30.308Z"
   },
   {
    "duration": 185,
    "start_time": "2021-07-29T21:35:30.311Z"
   },
   {
    "duration": 184,
    "start_time": "2021-07-29T21:35:30.314Z"
   },
   {
    "duration": 182,
    "start_time": "2021-07-29T21:35:30.317Z"
   },
   {
    "duration": 179,
    "start_time": "2021-07-29T21:35:30.322Z"
   },
   {
    "duration": 177,
    "start_time": "2021-07-29T21:35:30.325Z"
   },
   {
    "duration": 176,
    "start_time": "2021-07-29T21:35:30.328Z"
   },
   {
    "duration": 173,
    "start_time": "2021-07-29T21:35:30.332Z"
   },
   {
    "duration": 171,
    "start_time": "2021-07-29T21:35:30.335Z"
   },
   {
    "duration": 170,
    "start_time": "2021-07-29T21:35:30.338Z"
   },
   {
    "duration": 160,
    "start_time": "2021-07-29T21:35:30.349Z"
   },
   {
    "duration": 157,
    "start_time": "2021-07-29T21:35:30.353Z"
   },
   {
    "duration": 153,
    "start_time": "2021-07-29T21:35:30.359Z"
   },
   {
    "duration": 150,
    "start_time": "2021-07-29T21:35:30.363Z"
   },
   {
    "duration": 148,
    "start_time": "2021-07-29T21:35:30.366Z"
   },
   {
    "duration": 146,
    "start_time": "2021-07-29T21:35:30.370Z"
   },
   {
    "duration": 136,
    "start_time": "2021-07-29T21:35:30.381Z"
   },
   {
    "duration": 134,
    "start_time": "2021-07-29T21:35:30.385Z"
   },
   {
    "duration": 132,
    "start_time": "2021-07-29T21:35:30.389Z"
   },
   {
    "duration": 130,
    "start_time": "2021-07-29T21:35:30.392Z"
   },
   {
    "duration": 128,
    "start_time": "2021-07-29T21:35:30.395Z"
   },
   {
    "duration": 127,
    "start_time": "2021-07-29T21:35:30.398Z"
   },
   {
    "duration": 125,
    "start_time": "2021-07-29T21:35:30.401Z"
   },
   {
    "duration": 123,
    "start_time": "2021-07-29T21:35:30.405Z"
   },
   {
    "duration": 120,
    "start_time": "2021-07-29T21:35:30.409Z"
   },
   {
    "duration": 145,
    "start_time": "2021-07-29T21:35:30.412Z"
   },
   {
    "duration": 144,
    "start_time": "2021-07-29T21:35:30.415Z"
   },
   {
    "duration": 143,
    "start_time": "2021-07-29T21:35:30.418Z"
   },
   {
    "duration": 142,
    "start_time": "2021-07-29T21:35:30.421Z"
   },
   {
    "duration": 141,
    "start_time": "2021-07-29T21:35:30.424Z"
   },
   {
    "duration": 139,
    "start_time": "2021-07-29T21:35:30.427Z"
   },
   {
    "duration": 475,
    "start_time": "2021-07-29T21:35:38.254Z"
   },
   {
    "duration": 69,
    "start_time": "2021-07-29T21:35:39.269Z"
   },
   {
    "duration": 16,
    "start_time": "2021-07-29T21:35:40.533Z"
   },
   {
    "duration": 49,
    "start_time": "2021-07-29T21:35:43.157Z"
   },
   {
    "duration": 3,
    "start_time": "2021-07-29T21:35:45.469Z"
   },
   {
    "duration": 6,
    "start_time": "2021-07-29T21:35:46.221Z"
   },
   {
    "duration": 432,
    "start_time": "2021-07-29T21:38:46.419Z"
   },
   {
    "duration": 1611,
    "start_time": "2021-07-29T21:38:55.715Z"
   },
   {
    "duration": 443,
    "start_time": "2021-07-29T21:39:04.403Z"
   },
   {
    "duration": 1553,
    "start_time": "2021-07-29T21:39:14.923Z"
   },
   {
    "duration": 3166,
    "start_time": "2021-07-29T21:39:16.478Z"
   },
   {
    "duration": 28,
    "start_time": "2021-07-29T21:39:19.647Z"
   },
   {
    "duration": 167,
    "start_time": "2021-07-29T21:39:19.678Z"
   },
   {
    "duration": 146,
    "start_time": "2021-07-29T21:39:19.848Z"
   },
   {
    "duration": 237,
    "start_time": "2021-07-29T21:39:19.997Z"
   },
   {
    "duration": 126,
    "start_time": "2021-07-29T21:39:20.237Z"
   },
   {
    "duration": 58,
    "start_time": "2021-07-29T21:39:20.367Z"
   },
   {
    "duration": 168,
    "start_time": "2021-07-29T21:39:20.428Z"
   },
   {
    "duration": 60,
    "start_time": "2021-07-29T21:39:20.599Z"
   },
   {
    "duration": 52,
    "start_time": "2021-07-29T21:39:20.661Z"
   },
   {
    "duration": 92,
    "start_time": "2021-07-29T21:39:20.716Z"
   },
   {
    "duration": 907,
    "start_time": "2021-07-29T21:39:20.811Z"
   },
   {
    "duration": 1059,
    "start_time": "2021-07-29T21:39:21.720Z"
   },
   {
    "duration": 82,
    "start_time": "2021-07-29T21:39:22.781Z"
   },
   {
    "duration": 366,
    "start_time": "2021-07-29T21:39:22.865Z"
   },
   {
    "duration": 25,
    "start_time": "2021-07-29T21:39:23.234Z"
   },
   {
    "duration": 11,
    "start_time": "2021-07-29T21:39:23.261Z"
   },
   {
    "duration": 92,
    "start_time": "2021-07-29T21:39:23.275Z"
   },
   {
    "duration": 308,
    "start_time": "2021-07-29T21:39:23.369Z"
   },
   {
    "duration": 345,
    "start_time": "2021-07-29T21:39:23.679Z"
   },
   {
    "duration": 821,
    "start_time": "2021-07-29T21:39:24.027Z"
   },
   {
    "duration": 61,
    "start_time": "2021-07-29T21:39:24.860Z"
   },
   {
    "duration": 967,
    "start_time": "2021-07-29T21:39:24.926Z"
   },
   {
    "duration": 75,
    "start_time": "2021-07-29T21:39:25.896Z"
   },
   {
    "duration": 58,
    "start_time": "2021-07-29T21:39:25.974Z"
   },
   {
    "duration": 508,
    "start_time": "2021-07-29T21:39:26.034Z"
   },
   {
    "duration": 440,
    "start_time": "2021-07-29T21:39:26.545Z"
   },
   {
    "duration": 14,
    "start_time": "2021-07-29T21:39:26.988Z"
   },
   {
    "duration": 21,
    "start_time": "2021-07-29T21:39:27.005Z"
   },
   {
    "duration": 11,
    "start_time": "2021-07-29T21:39:27.057Z"
   },
   {
    "duration": 413,
    "start_time": "2021-07-29T21:39:27.072Z"
   },
   {
    "duration": 447,
    "start_time": "2021-07-29T21:39:27.487Z"
   },
   {
    "duration": 25,
    "start_time": "2021-07-29T21:39:27.936Z"
   },
   {
    "duration": 39,
    "start_time": "2021-07-29T21:39:27.963Z"
   },
   {
    "duration": 67,
    "start_time": "2021-07-29T21:39:28.004Z"
   },
   {
    "duration": 5778,
    "start_time": "2021-07-29T21:39:28.074Z"
   },
   {
    "duration": 20,
    "start_time": "2021-07-29T21:39:33.856Z"
   },
   {
    "duration": 25,
    "start_time": "2021-07-29T21:39:33.878Z"
   },
   {
    "duration": 46,
    "start_time": "2021-07-29T21:39:33.906Z"
   },
   {
    "duration": 90,
    "start_time": "2021-07-29T21:39:33.956Z"
   },
   {
    "duration": 31,
    "start_time": "2021-07-29T21:39:34.048Z"
   },
   {
    "duration": 113,
    "start_time": "2021-07-29T21:39:34.081Z"
   },
   {
    "duration": 417,
    "start_time": "2021-07-29T21:39:34.197Z"
   },
   {
    "duration": 493,
    "start_time": "2021-07-29T21:39:34.617Z"
   },
   {
    "duration": 399,
    "start_time": "2021-07-29T21:39:35.112Z"
   },
   {
    "duration": 389,
    "start_time": "2021-07-29T21:39:35.514Z"
   },
   {
    "duration": 51,
    "start_time": "2021-07-29T21:39:35.906Z"
   },
   {
    "duration": 597,
    "start_time": "2021-07-29T21:39:35.959Z"
   },
   {
    "duration": 18,
    "start_time": "2021-07-29T21:39:36.558Z"
   },
   {
    "duration": 51,
    "start_time": "2021-07-29T21:39:36.578Z"
   },
   {
    "duration": 491,
    "start_time": "2021-07-29T21:39:36.632Z"
   },
   {
    "duration": 30,
    "start_time": "2021-07-29T21:39:37.126Z"
   },
   {
    "duration": 55,
    "start_time": "2021-07-29T21:39:37.159Z"
   },
   {
    "duration": 309,
    "start_time": "2021-07-29T21:39:37.217Z"
   },
   {
    "duration": 95,
    "start_time": "2021-07-29T21:39:37.528Z"
   },
   {
    "duration": 56,
    "start_time": "2021-07-29T21:39:37.625Z"
   },
   {
    "duration": 43,
    "start_time": "2021-07-29T21:39:37.683Z"
   },
   {
    "duration": 83,
    "start_time": "2021-07-29T21:39:37.729Z"
   },
   {
    "duration": 52,
    "start_time": "2021-07-29T21:39:37.815Z"
   },
   {
    "duration": 111,
    "start_time": "2021-07-29T21:39:37.870Z"
   },
   {
    "duration": 190,
    "start_time": "2021-07-29T21:39:37.984Z"
   },
   {
    "duration": 217,
    "start_time": "2021-07-29T21:39:38.176Z"
   },
   {
    "duration": 6,
    "start_time": "2021-07-29T21:39:38.396Z"
   },
   {
    "duration": 613,
    "start_time": "2021-07-29T21:39:38.404Z"
   },
   {
    "duration": 3,
    "start_time": "2021-07-29T21:39:39.020Z"
   },
   {
    "duration": 41,
    "start_time": "2021-07-29T21:39:39.025Z"
   },
   {
    "duration": 5,
    "start_time": "2021-07-29T21:39:39.075Z"
   },
   {
    "duration": 532,
    "start_time": "2021-07-29T21:39:39.083Z"
   },
   {
    "duration": 198,
    "start_time": "2021-07-29T21:39:39.419Z"
   },
   {
    "duration": 192,
    "start_time": "2021-07-29T21:39:39.426Z"
   },
   {
    "duration": 190,
    "start_time": "2021-07-29T21:39:39.430Z"
   },
   {
    "duration": 186,
    "start_time": "2021-07-29T21:39:39.435Z"
   },
   {
    "duration": 177,
    "start_time": "2021-07-29T21:39:39.446Z"
   },
   {
    "duration": 175,
    "start_time": "2021-07-29T21:39:39.450Z"
   },
   {
    "duration": 173,
    "start_time": "2021-07-29T21:39:39.453Z"
   },
   {
    "duration": 171,
    "start_time": "2021-07-29T21:39:39.457Z"
   },
   {
    "duration": 168,
    "start_time": "2021-07-29T21:39:39.461Z"
   },
   {
    "duration": 166,
    "start_time": "2021-07-29T21:39:39.464Z"
   },
   {
    "duration": 163,
    "start_time": "2021-07-29T21:39:39.468Z"
   },
   {
    "duration": 161,
    "start_time": "2021-07-29T21:39:39.472Z"
   },
   {
    "duration": 159,
    "start_time": "2021-07-29T21:39:39.475Z"
   },
   {
    "duration": 156,
    "start_time": "2021-07-29T21:39:39.479Z"
   },
   {
    "duration": 153,
    "start_time": "2021-07-29T21:39:39.483Z"
   },
   {
    "duration": 151,
    "start_time": "2021-07-29T21:39:39.487Z"
   },
   {
    "duration": 149,
    "start_time": "2021-07-29T21:39:39.490Z"
   },
   {
    "duration": 147,
    "start_time": "2021-07-29T21:39:39.493Z"
   },
   {
    "duration": 144,
    "start_time": "2021-07-29T21:39:39.497Z"
   },
   {
    "duration": 142,
    "start_time": "2021-07-29T21:39:39.501Z"
   },
   {
    "duration": 138,
    "start_time": "2021-07-29T21:39:39.506Z"
   },
   {
    "duration": 132,
    "start_time": "2021-07-29T21:39:39.513Z"
   },
   {
    "duration": 127,
    "start_time": "2021-07-29T21:39:39.519Z"
   },
   {
    "duration": 123,
    "start_time": "2021-07-29T21:39:39.525Z"
   },
   {
    "duration": 120,
    "start_time": "2021-07-29T21:39:39.529Z"
   },
   {
    "duration": 109,
    "start_time": "2021-07-29T21:39:39.541Z"
   },
   {
    "duration": 107,
    "start_time": "2021-07-29T21:39:39.544Z"
   },
   {
    "duration": 106,
    "start_time": "2021-07-29T21:39:39.547Z"
   },
   {
    "duration": 103,
    "start_time": "2021-07-29T21:39:39.551Z"
   },
   {
    "duration": 100,
    "start_time": "2021-07-29T21:39:39.555Z"
   },
   {
    "duration": 98,
    "start_time": "2021-07-29T21:39:39.558Z"
   },
   {
    "duration": 95,
    "start_time": "2021-07-29T21:39:39.562Z"
   },
   {
    "duration": 94,
    "start_time": "2021-07-29T21:39:39.565Z"
   },
   {
    "duration": 92,
    "start_time": "2021-07-29T21:39:39.568Z"
   },
   {
    "duration": 495,
    "start_time": "2021-07-29T21:40:09.811Z"
   },
   {
    "duration": 69,
    "start_time": "2021-07-29T21:40:18.371Z"
   },
   {
    "duration": 17,
    "start_time": "2021-07-29T21:40:22.315Z"
   },
   {
    "duration": 48,
    "start_time": "2021-07-29T21:40:35.139Z"
   },
   {
    "duration": 12,
    "start_time": "2021-07-29T21:40:35.683Z"
   },
   {
    "duration": 16,
    "start_time": "2021-07-29T21:40:38.211Z"
   },
   {
    "duration": 5,
    "start_time": "2021-07-29T21:40:39.275Z"
   },
   {
    "duration": 22872,
    "start_time": "2021-07-29T21:40:47.987Z"
   },
   {
    "duration": 30924,
    "start_time": "2021-07-29T21:41:28.139Z"
   },
   {
    "duration": 10959,
    "start_time": "2021-07-29T21:42:34.899Z"
   },
   {
    "duration": 3,
    "start_time": "2021-07-29T21:43:02.986Z"
   },
   {
    "duration": 87564,
    "start_time": "2021-07-29T21:43:04.298Z"
   },
   {
    "duration": 1989,
    "start_time": "2021-07-30T07:58:49.332Z"
   },
   {
    "duration": 3889,
    "start_time": "2021-07-30T07:58:53.229Z"
   },
   {
    "duration": 26,
    "start_time": "2021-07-30T07:58:57.714Z"
   },
   {
    "duration": 197,
    "start_time": "2021-07-30T07:58:59.156Z"
   },
   {
    "duration": 180,
    "start_time": "2021-07-30T07:59:00.370Z"
   },
   {
    "duration": 239,
    "start_time": "2021-07-30T07:59:02.940Z"
   },
   {
    "duration": 130,
    "start_time": "2021-07-30T07:59:05.042Z"
   },
   {
    "duration": 58,
    "start_time": "2021-07-30T07:59:07.017Z"
   },
   {
    "duration": 264,
    "start_time": "2021-07-30T07:59:11.138Z"
   },
   {
    "duration": 57,
    "start_time": "2021-07-30T07:59:11.460Z"
   },
   {
    "duration": 58,
    "start_time": "2021-07-30T07:59:12.074Z"
   },
   {
    "duration": 72,
    "start_time": "2021-07-30T07:59:13.779Z"
   },
   {
    "duration": 1042,
    "start_time": "2021-07-30T07:59:15.915Z"
   },
   {
    "duration": 1214,
    "start_time": "2021-07-30T07:59:19.474Z"
   },
   {
    "duration": 1464,
    "start_time": "2021-07-30T07:59:32.970Z"
   },
   {
    "duration": 2145,
    "start_time": "2021-07-30T07:59:39.829Z"
   },
   {
    "duration": 1234,
    "start_time": "2021-07-30T07:59:58.537Z"
   },
   {
    "duration": 1716,
    "start_time": "2021-07-30T08:00:14.628Z"
   },
   {
    "duration": 4237,
    "start_time": "2021-07-30T08:03:28.490Z"
   },
   {
    "duration": 1038,
    "start_time": "2021-07-30T08:03:48.720Z"
   },
   {
    "duration": 711,
    "start_time": "2021-07-30T08:03:59.370Z"
   },
   {
    "duration": 663,
    "start_time": "2021-07-30T08:04:23.591Z"
   },
   {
    "duration": 716,
    "start_time": "2021-07-30T08:04:34.290Z"
   },
   {
    "duration": 542,
    "start_time": "2021-07-30T08:04:41.865Z"
   },
   {
    "duration": 728,
    "start_time": "2021-07-30T08:05:04.184Z"
   },
   {
    "duration": 72,
    "start_time": "2021-07-30T08:09:12.453Z"
   },
   {
    "duration": 535,
    "start_time": "2021-07-30T08:09:18.117Z"
   },
   {
    "duration": 15,
    "start_time": "2021-07-30T08:09:26.493Z"
   },
   {
    "duration": 11,
    "start_time": "2021-07-30T08:09:27.948Z"
   },
   {
    "duration": 78,
    "start_time": "2021-07-30T08:09:30.036Z"
   },
   {
    "duration": 353,
    "start_time": "2021-07-30T08:09:33.964Z"
   },
   {
    "duration": 11,
    "start_time": "2021-07-30T08:10:00.722Z"
   },
   {
    "duration": 5,
    "start_time": "2021-07-30T08:10:25.636Z"
   },
   {
    "duration": 1940,
    "start_time": "2021-07-30T08:10:26.093Z"
   },
   {
    "duration": 22,
    "start_time": "2021-07-30T08:10:28.036Z"
   },
   {
    "duration": 195,
    "start_time": "2021-07-30T08:10:28.061Z"
   },
   {
    "duration": 185,
    "start_time": "2021-07-30T08:10:28.259Z"
   },
   {
    "duration": 247,
    "start_time": "2021-07-30T08:10:28.446Z"
   },
   {
    "duration": 141,
    "start_time": "2021-07-30T08:10:29.074Z"
   },
   {
    "duration": 67,
    "start_time": "2021-07-30T08:10:30.011Z"
   },
   {
    "duration": 143,
    "start_time": "2021-07-30T08:10:31.530Z"
   },
   {
    "duration": 58,
    "start_time": "2021-07-30T08:10:31.883Z"
   },
   {
    "duration": 58,
    "start_time": "2021-07-30T08:10:32.484Z"
   },
   {
    "duration": 55,
    "start_time": "2021-07-30T08:10:34.338Z"
   },
   {
    "duration": 1010,
    "start_time": "2021-07-30T08:10:36.322Z"
   },
   {
    "duration": 1708,
    "start_time": "2021-07-30T08:10:37.411Z"
   },
   {
    "duration": 62,
    "start_time": "2021-07-30T08:10:41.002Z"
   },
   {
    "duration": 357,
    "start_time": "2021-07-30T08:10:43.465Z"
   },
   {
    "duration": 13,
    "start_time": "2021-07-30T08:10:46.058Z"
   },
   {
    "duration": 13,
    "start_time": "2021-07-30T08:10:46.596Z"
   },
   {
    "duration": 67,
    "start_time": "2021-07-30T08:11:09.738Z"
   },
   {
    "duration": 373,
    "start_time": "2021-07-30T08:11:11.666Z"
   },
   {
    "duration": 388,
    "start_time": "2021-07-30T08:11:18.962Z"
   },
   {
    "duration": 975,
    "start_time": "2021-07-30T08:11:22.778Z"
   },
   {
    "duration": 69,
    "start_time": "2021-07-30T08:11:32.595Z"
   },
   {
    "duration": 1136,
    "start_time": "2021-07-30T08:11:40.827Z"
   },
   {
    "duration": 8,
    "start_time": "2021-07-30T08:13:12.491Z"
   },
   {
    "duration": 58,
    "start_time": "2021-07-30T08:13:50.105Z"
   },
   {
    "duration": 519,
    "start_time": "2021-07-30T08:13:51.817Z"
   },
   {
    "duration": 632,
    "start_time": "2021-07-30T08:14:01.080Z"
   },
   {
    "duration": 15,
    "start_time": "2021-07-30T08:14:39.935Z"
   },
   {
    "duration": 23,
    "start_time": "2021-07-30T08:14:42.782Z"
   },
   {
    "duration": 22,
    "start_time": "2021-07-30T08:14:53.514Z"
   },
   {
    "duration": 429,
    "start_time": "2021-07-30T08:14:56.831Z"
   },
   {
    "duration": 363,
    "start_time": "2021-07-30T08:15:08.360Z"
   },
   {
    "duration": 17,
    "start_time": "2021-07-30T08:15:20.969Z"
   },
   {
    "duration": 51,
    "start_time": "2021-07-30T08:15:26.785Z"
   },
   {
    "duration": 45,
    "start_time": "2021-07-30T08:15:50.695Z"
   },
   {
    "duration": 6714,
    "start_time": "2021-07-30T08:15:52.871Z"
   },
   {
    "duration": 21,
    "start_time": "2021-07-30T08:16:01.831Z"
   },
   {
    "duration": 26,
    "start_time": "2021-07-30T08:16:05.735Z"
   },
   {
    "duration": 32,
    "start_time": "2021-07-30T08:16:11.174Z"
   },
   {
    "duration": 88,
    "start_time": "2021-07-30T08:16:14.936Z"
   },
   {
    "duration": 28,
    "start_time": "2021-07-30T08:16:15.935Z"
   },
   {
    "duration": 105,
    "start_time": "2021-07-30T08:16:18.768Z"
   },
   {
    "duration": 656,
    "start_time": "2021-07-30T08:16:22.495Z"
   },
   {
    "duration": 695,
    "start_time": "2021-07-30T08:16:28.039Z"
   },
   {
    "duration": 451,
    "start_time": "2021-07-30T08:16:31.335Z"
   },
   {
    "duration": 41,
    "start_time": "2021-07-30T08:16:41.390Z"
   },
   {
    "duration": 576,
    "start_time": "2021-07-30T08:16:49.478Z"
   },
   {
    "duration": 22,
    "start_time": "2021-07-30T08:16:52.477Z"
   },
   {
    "duration": 46,
    "start_time": "2021-07-30T08:16:57.526Z"
   },
   {
    "duration": 499,
    "start_time": "2021-07-30T08:17:00.253Z"
   },
   {
    "duration": 20,
    "start_time": "2021-07-30T08:17:01.400Z"
   },
   {
    "duration": 38,
    "start_time": "2021-07-30T08:17:08.429Z"
   },
   {
    "duration": 277,
    "start_time": "2021-07-30T08:17:11.549Z"
   },
   {
    "duration": 97,
    "start_time": "2021-07-30T08:17:13.958Z"
   },
   {
    "duration": 45,
    "start_time": "2021-07-30T08:17:16.013Z"
   },
   {
    "duration": 48,
    "start_time": "2021-07-30T08:17:22.486Z"
   },
   {
    "duration": 67,
    "start_time": "2021-07-30T08:17:30.638Z"
   },
   {
    "duration": 31,
    "start_time": "2021-07-30T08:17:37.678Z"
   },
   {
    "duration": 111,
    "start_time": "2021-07-30T08:17:41.030Z"
   },
   {
    "duration": 189,
    "start_time": "2021-07-30T08:17:45.070Z"
   },
   {
    "duration": 183,
    "start_time": "2021-07-30T08:19:47.365Z"
   },
   {
    "duration": 5,
    "start_time": "2021-07-30T08:19:51.789Z"
   },
   {
    "duration": 3892,
    "start_time": "2021-07-30T08:19:52.229Z"
   },
   {
    "duration": 20,
    "start_time": "2021-07-30T08:19:56.123Z"
   },
   {
    "duration": 178,
    "start_time": "2021-07-30T08:19:56.146Z"
   },
   {
    "duration": 169,
    "start_time": "2021-07-30T08:19:56.327Z"
   },
   {
    "duration": 223,
    "start_time": "2021-07-30T08:19:56.499Z"
   },
   {
    "duration": 124,
    "start_time": "2021-07-30T08:19:59.765Z"
   },
   {
    "duration": 54,
    "start_time": "2021-07-30T08:20:02.381Z"
   },
   {
    "duration": 562,
    "start_time": "2021-07-30T08:20:04.564Z"
   },
   {
    "duration": 589,
    "start_time": "2021-07-30T08:20:13.829Z"
   },
   {
    "duration": 135,
    "start_time": "2021-07-30T08:20:16.508Z"
   },
   {
    "duration": 57,
    "start_time": "2021-07-30T08:20:16.756Z"
   },
   {
    "duration": 63,
    "start_time": "2021-07-30T08:20:17.258Z"
   },
   {
    "duration": 57,
    "start_time": "2021-07-30T08:20:17.336Z"
   },
   {
    "duration": 972,
    "start_time": "2021-07-30T08:20:17.438Z"
   },
   {
    "duration": 1626,
    "start_time": "2021-07-30T08:20:18.414Z"
   },
   {
    "duration": 85,
    "start_time": "2021-07-30T08:20:20.044Z"
   },
   {
    "duration": 346,
    "start_time": "2021-07-30T08:20:20.132Z"
   },
   {
    "duration": 14,
    "start_time": "2021-07-30T08:20:20.490Z"
   },
   {
    "duration": 16,
    "start_time": "2021-07-30T08:20:20.829Z"
   },
   {
    "duration": 78,
    "start_time": "2021-07-30T08:20:21.331Z"
   },
   {
    "duration": 347,
    "start_time": "2021-07-30T08:20:21.413Z"
   },
   {
    "duration": 371,
    "start_time": "2021-07-30T08:20:21.762Z"
   },
   {
    "duration": 1190,
    "start_time": "2021-07-30T08:20:22.136Z"
   },
   {
    "duration": 75,
    "start_time": "2021-07-30T08:20:23.329Z"
   },
   {
    "duration": 1020,
    "start_time": "2021-07-30T08:20:23.406Z"
   },
   {
    "duration": 7,
    "start_time": "2021-07-30T08:20:24.430Z"
   },
   {
    "duration": 84,
    "start_time": "2021-07-30T08:20:24.439Z"
   },
   {
    "duration": 544,
    "start_time": "2021-07-30T08:20:24.526Z"
   },
   {
    "duration": 467,
    "start_time": "2021-07-30T08:20:25.073Z"
   },
   {
    "duration": 7,
    "start_time": "2021-07-30T08:20:25.544Z"
   },
   {
    "duration": 37,
    "start_time": "2021-07-30T08:20:25.553Z"
   },
   {
    "duration": 20,
    "start_time": "2021-07-30T08:20:25.593Z"
   },
   {
    "duration": 402,
    "start_time": "2021-07-30T08:20:26.756Z"
   },
   {
    "duration": 375,
    "start_time": "2021-07-30T08:20:27.541Z"
   },
   {
    "duration": 18,
    "start_time": "2021-07-30T08:20:29.140Z"
   },
   {
    "duration": 45,
    "start_time": "2021-07-30T08:20:29.469Z"
   },
   {
    "duration": 43,
    "start_time": "2021-07-30T08:20:29.916Z"
   },
   {
    "duration": 6731,
    "start_time": "2021-07-30T08:20:34.653Z"
   },
   {
    "duration": 26,
    "start_time": "2021-07-30T08:20:41.387Z"
   },
   {
    "duration": 27,
    "start_time": "2021-07-30T08:20:41.416Z"
   },
   {
    "duration": 32,
    "start_time": "2021-07-30T08:20:41.446Z"
   },
   {
    "duration": 92,
    "start_time": "2021-07-30T08:20:41.480Z"
   },
   {
    "duration": 24,
    "start_time": "2021-07-30T08:20:41.575Z"
   },
   {
    "duration": 108,
    "start_time": "2021-07-30T08:20:41.602Z"
   },
   {
    "duration": 477,
    "start_time": "2021-07-30T08:20:41.714Z"
   },
   {
    "duration": 745,
    "start_time": "2021-07-30T08:20:42.194Z"
   },
   {
    "duration": 569,
    "start_time": "2021-07-30T08:20:42.942Z"
   },
   {
    "duration": 407,
    "start_time": "2021-07-30T08:20:43.514Z"
   },
   {
    "duration": 62,
    "start_time": "2021-07-30T08:20:43.924Z"
   },
   {
    "duration": 584,
    "start_time": "2021-07-30T08:20:43.990Z"
   },
   {
    "duration": 25,
    "start_time": "2021-07-30T08:20:44.577Z"
   },
   {
    "duration": 62,
    "start_time": "2021-07-30T08:20:44.605Z"
   },
   {
    "duration": 589,
    "start_time": "2021-07-30T08:20:44.671Z"
   },
   {
    "duration": 29,
    "start_time": "2021-07-30T08:20:45.264Z"
   },
   {
    "duration": 52,
    "start_time": "2021-07-30T08:20:45.763Z"
   },
   {
    "duration": 302,
    "start_time": "2021-07-30T08:20:47.211Z"
   },
   {
    "duration": 98,
    "start_time": "2021-07-30T08:20:48.179Z"
   },
   {
    "duration": 49,
    "start_time": "2021-07-30T08:20:48.859Z"
   },
   {
    "duration": 47,
    "start_time": "2021-07-30T08:20:49.533Z"
   },
   {
    "duration": 91,
    "start_time": "2021-07-30T08:20:53.017Z"
   },
   {
    "duration": 621,
    "start_time": "2021-07-30T08:20:53.476Z"
   },
   {
    "duration": 7,
    "start_time": "2021-07-30T08:21:04.204Z"
   },
   {
    "duration": 914,
    "start_time": "2021-07-30T08:21:07.261Z"
   },
   {
    "duration": 107541,
    "start_time": "2021-07-30T08:22:08.349Z"
   },
   {
    "duration": 1013,
    "start_time": "2021-07-30T08:40:46.153Z"
   },
   {
    "duration": 18454,
    "start_time": "2021-07-30T08:41:06.790Z"
   },
   {
    "duration": 64269,
    "start_time": "2021-07-30T08:41:39.578Z"
   },
   {
    "duration": 429,
    "start_time": "2021-07-30T08:45:32.821Z"
   },
   {
    "duration": 413,
    "start_time": "2021-07-30T08:46:07.212Z"
   },
   {
    "duration": 445,
    "start_time": "2021-07-30T08:46:19.653Z"
   },
   {
    "duration": 544,
    "start_time": "2021-07-30T08:46:40.775Z"
   },
   {
    "duration": 10365,
    "start_time": "2021-07-30T08:47:09.613Z"
   },
   {
    "duration": 450,
    "start_time": "2021-07-30T08:47:27.580Z"
   },
   {
    "duration": 17,
    "start_time": "2021-07-30T08:47:33.318Z"
   },
   {
    "duration": 584,
    "start_time": "2021-07-30T08:47:37.300Z"
   },
   {
    "duration": 151,
    "start_time": "2021-07-30T08:48:13.228Z"
   },
   {
    "duration": 15,
    "start_time": "2021-07-30T08:48:20.620Z"
   },
   {
    "duration": 16,
    "start_time": "2021-07-30T08:48:30.117Z"
   },
   {
    "duration": 127,
    "start_time": "2021-07-30T08:48:59.644Z"
   },
   {
    "duration": 349,
    "start_time": "2021-07-30T08:49:03.050Z"
   },
   {
    "duration": 16,
    "start_time": "2021-07-30T08:49:32.843Z"
   },
   {
    "duration": 777,
    "start_time": "2021-07-30T08:51:01.011Z"
   },
   {
    "duration": 9836,
    "start_time": "2021-07-30T08:55:16.911Z"
   },
   {
    "duration": 5,
    "start_time": "2021-07-30T08:55:34.214Z"
   },
   {
    "duration": 3584,
    "start_time": "2021-07-30T08:55:35.478Z"
   },
   {
    "duration": 28,
    "start_time": "2021-07-30T08:55:39.065Z"
   },
   {
    "duration": 178,
    "start_time": "2021-07-30T08:55:39.098Z"
   },
   {
    "duration": 171,
    "start_time": "2021-07-30T08:55:39.279Z"
   },
   {
    "duration": 240,
    "start_time": "2021-07-30T08:55:39.452Z"
   },
   {
    "duration": 125,
    "start_time": "2021-07-30T08:55:39.934Z"
   },
   {
    "duration": 44,
    "start_time": "2021-07-30T08:55:41.526Z"
   },
   {
    "duration": 552,
    "start_time": "2021-07-30T08:55:42.269Z"
   },
   {
    "duration": 716,
    "start_time": "2021-07-30T08:55:43.325Z"
   },
   {
    "duration": 133,
    "start_time": "2021-07-30T08:55:45.725Z"
   },
   {
    "duration": 56,
    "start_time": "2021-07-30T08:55:47.369Z"
   },
   {
    "duration": 56,
    "start_time": "2021-07-30T08:55:58.382Z"
   },
   {
    "duration": 68,
    "start_time": "2021-07-30T08:55:58.943Z"
   },
   {
    "duration": 50,
    "start_time": "2021-07-30T08:55:59.509Z"
   },
   {
    "duration": 954,
    "start_time": "2021-07-30T08:56:01.549Z"
   },
   {
    "duration": 1615,
    "start_time": "2021-07-30T08:56:02.506Z"
   },
   {
    "duration": 76,
    "start_time": "2021-07-30T08:56:04.124Z"
   },
   {
    "duration": 331,
    "start_time": "2021-07-30T08:56:04.203Z"
   },
   {
    "duration": 9544,
    "start_time": "2021-07-30T08:56:04.538Z"
   },
   {
    "duration": 1051,
    "start_time": "2021-07-30T08:56:13.034Z"
   },
   {
    "duration": 1049,
    "start_time": "2021-07-30T08:56:13.037Z"
   },
   {
    "duration": 1047,
    "start_time": "2021-07-30T08:56:13.040Z"
   },
   {
    "duration": 1041,
    "start_time": "2021-07-30T08:56:13.048Z"
   },
   {
    "duration": 1042,
    "start_time": "2021-07-30T08:56:13.051Z"
   },
   {
    "duration": 5,
    "start_time": "2021-07-30T08:56:19.702Z"
   },
   {
    "duration": 15,
    "start_time": "2021-07-30T08:56:22.199Z"
   },
   {
    "duration": 50,
    "start_time": "2021-07-30T08:56:25.871Z"
   },
   {
    "duration": 351,
    "start_time": "2021-07-30T08:56:26.941Z"
   },
   {
    "duration": 19,
    "start_time": "2021-07-30T08:56:30.957Z"
   },
   {
    "duration": 676,
    "start_time": "2021-07-30T08:56:37.277Z"
   },
   {
    "duration": 388,
    "start_time": "2021-07-30T09:48:26.092Z"
   },
   {
    "duration": 5,
    "start_time": "2021-07-30T10:00:06.692Z"
   },
   {
    "duration": 4,
    "start_time": "2021-07-30T10:26:56.136Z"
   },
   {
    "duration": 445,
    "start_time": "2021-07-30T10:26:57.553Z"
   },
   {
    "duration": 447,
    "start_time": "2021-07-30T10:26:58.016Z"
   },
   {
    "duration": 7,
    "start_time": "2021-07-30T10:27:07.250Z"
   },
   {
    "duration": 5431,
    "start_time": "2021-07-30T10:27:07.578Z"
   },
   {
    "duration": 22,
    "start_time": "2021-07-30T10:27:13.012Z"
   },
   {
    "duration": 175,
    "start_time": "2021-07-30T10:27:13.037Z"
   },
   {
    "duration": 160,
    "start_time": "2021-07-30T10:27:13.215Z"
   },
   {
    "duration": 211,
    "start_time": "2021-07-30T10:27:13.385Z"
   },
   {
    "duration": 128,
    "start_time": "2021-07-30T10:27:13.599Z"
   },
   {
    "duration": 70,
    "start_time": "2021-07-30T10:27:13.729Z"
   },
   {
    "duration": 598,
    "start_time": "2021-07-30T10:27:13.802Z"
   },
   {
    "duration": 622,
    "start_time": "2021-07-30T10:27:14.403Z"
   },
   {
    "duration": 139,
    "start_time": "2021-07-30T10:27:15.028Z"
   },
   {
    "duration": 68,
    "start_time": "2021-07-30T10:27:15.170Z"
   },
   {
    "duration": 76,
    "start_time": "2021-07-30T10:27:15.240Z"
   },
   {
    "duration": 71,
    "start_time": "2021-07-30T10:27:15.319Z"
   },
   {
    "duration": 1116,
    "start_time": "2021-07-30T10:27:15.395Z"
   },
   {
    "duration": 1737,
    "start_time": "2021-07-30T10:27:16.515Z"
   },
   {
    "duration": 81,
    "start_time": "2021-07-30T10:27:18.256Z"
   },
   {
    "duration": 824,
    "start_time": "2021-07-30T10:27:18.340Z"
   },
   {
    "duration": 6,
    "start_time": "2021-07-30T10:27:19.166Z"
   },
   {
    "duration": 21,
    "start_time": "2021-07-30T10:27:19.187Z"
   },
   {
    "duration": 93,
    "start_time": "2021-07-30T10:27:19.211Z"
   },
   {
    "duration": 361,
    "start_time": "2021-07-30T10:27:19.307Z"
   },
   {
    "duration": 51,
    "start_time": "2021-07-30T10:27:19.670Z"
   },
   {
    "duration": 1191,
    "start_time": "2021-07-30T10:27:19.732Z"
   },
   {
    "duration": 561,
    "start_time": "2021-07-30T10:27:20.926Z"
   },
   {
    "duration": 1063,
    "start_time": "2021-07-30T10:27:21.494Z"
   },
   {
    "duration": 81,
    "start_time": "2021-07-30T10:27:22.561Z"
   },
   {
    "duration": 1547,
    "start_time": "2021-07-30T10:27:22.646Z"
   },
   {
    "duration": 9,
    "start_time": "2021-07-30T10:27:24.197Z"
   },
   {
    "duration": 87,
    "start_time": "2021-07-30T10:27:24.208Z"
   },
   {
    "duration": 569,
    "start_time": "2021-07-30T10:27:24.298Z"
   },
   {
    "duration": 523,
    "start_time": "2021-07-30T10:27:24.869Z"
   },
   {
    "duration": 9,
    "start_time": "2021-07-30T10:27:25.395Z"
   },
   {
    "duration": 23,
    "start_time": "2021-07-30T10:27:25.408Z"
   },
   {
    "duration": 49,
    "start_time": "2021-07-30T10:27:25.436Z"
   },
   {
    "duration": 439,
    "start_time": "2021-07-30T10:27:25.488Z"
   },
   {
    "duration": 429,
    "start_time": "2021-07-30T10:27:25.930Z"
   },
   {
    "duration": 16,
    "start_time": "2021-07-30T10:27:26.658Z"
   },
   {
    "duration": 42,
    "start_time": "2021-07-30T10:27:27.729Z"
   },
   {
    "duration": 43,
    "start_time": "2021-07-30T10:27:28.241Z"
   },
   {
    "duration": 7430,
    "start_time": "2021-07-30T10:27:30.193Z"
   },
   {
    "duration": 20,
    "start_time": "2021-07-30T10:27:37.626Z"
   },
   {
    "duration": 46,
    "start_time": "2021-07-30T10:27:37.649Z"
   },
   {
    "duration": 36,
    "start_time": "2021-07-30T10:27:37.698Z"
   },
   {
    "duration": 107,
    "start_time": "2021-07-30T10:27:37.736Z"
   },
   {
    "duration": 22,
    "start_time": "2021-07-30T10:27:37.845Z"
   },
   {
    "duration": 134,
    "start_time": "2021-07-30T10:27:37.870Z"
   },
   {
    "duration": 458,
    "start_time": "2021-07-30T10:27:38.007Z"
   },
   {
    "duration": 483,
    "start_time": "2021-07-30T10:27:38.468Z"
   },
   {
    "duration": 444,
    "start_time": "2021-07-30T10:27:38.954Z"
   },
   {
    "duration": 398,
    "start_time": "2021-07-30T10:27:41.080Z"
   },
   {
    "duration": 56,
    "start_time": "2021-07-30T10:27:42.993Z"
   },
   {
    "duration": 658,
    "start_time": "2021-07-30T10:27:43.592Z"
   },
   {
    "duration": 29,
    "start_time": "2021-07-30T10:27:45.161Z"
   },
   {
    "duration": 67,
    "start_time": "2021-07-30T10:27:46.369Z"
   },
   {
    "duration": 508,
    "start_time": "2021-07-30T10:27:47.863Z"
   },
   {
    "duration": 28,
    "start_time": "2021-07-30T10:27:48.374Z"
   },
   {
    "duration": 38,
    "start_time": "2021-07-30T10:27:49.048Z"
   },
   {
    "duration": 212,
    "start_time": "2021-07-30T10:27:50.407Z"
   },
   {
    "duration": 82,
    "start_time": "2021-07-30T10:27:51.576Z"
   },
   {
    "duration": 45,
    "start_time": "2021-07-30T10:27:52.231Z"
   },
   {
    "duration": 58,
    "start_time": "2021-07-30T10:27:53.848Z"
   },
   {
    "duration": 81,
    "start_time": "2021-07-30T10:27:55.281Z"
   },
   {
    "duration": 43,
    "start_time": "2021-07-30T10:28:00.065Z"
   },
   {
    "duration": 9,
    "start_time": "2021-07-30T10:28:04.947Z"
   },
   {
    "duration": 897,
    "start_time": "2021-07-30T10:28:08.681Z"
   },
   {
    "duration": 4,
    "start_time": "2021-07-30T10:28:10.329Z"
   },
   {
    "duration": 4,
    "start_time": "2021-07-30T10:28:12.040Z"
   },
   {
    "duration": 2212,
    "start_time": "2021-07-30T10:28:13.337Z"
   },
   {
    "duration": 379,
    "start_time": "2021-07-30T10:28:16.272Z"
   },
   {
    "duration": 876,
    "start_time": "2021-07-30T10:28:20.169Z"
   },
   {
    "duration": 44,
    "start_time": "2021-07-30T10:28:21.336Z"
   },
   {
    "duration": 9,
    "start_time": "2021-07-30T10:28:22.681Z"
   },
   {
    "duration": 1505,
    "start_time": "2021-07-30T10:28:26.680Z"
   },
   {
    "duration": 55,
    "start_time": "2021-07-30T10:28:29.799Z"
   },
   {
    "duration": 520,
    "start_time": "2021-07-30T10:28:34.600Z"
   },
   {
    "duration": 4,
    "start_time": "2021-07-30T10:28:51.960Z"
   },
   {
    "duration": 9,
    "start_time": "2021-07-30T10:28:54.424Z"
   },
   {
    "duration": 4,
    "start_time": "2021-07-30T10:28:56.777Z"
   },
   {
    "duration": 507,
    "start_time": "2021-07-30T10:29:00.999Z"
   },
   {
    "duration": 5,
    "start_time": "2021-07-30T10:29:24.241Z"
   },
   {
    "duration": 400,
    "start_time": "2021-07-30T10:29:33.319Z"
   },
   {
    "duration": 4,
    "start_time": "2021-07-30T10:29:43.400Z"
   },
   {
    "duration": 386,
    "start_time": "2021-07-30T10:29:49.296Z"
   },
   {
    "duration": 210,
    "start_time": "2021-07-30T10:30:11.594Z"
   },
   {
    "duration": 4,
    "start_time": "2021-07-30T10:30:17.705Z"
   },
   {
    "duration": 418,
    "start_time": "2021-07-30T10:30:18.617Z"
   },
   {
    "duration": 4,
    "start_time": "2021-07-30T10:31:49.534Z"
   },
   {
    "duration": 436,
    "start_time": "2021-07-30T10:31:49.952Z"
   },
   {
    "duration": 5,
    "start_time": "2021-07-30T10:35:41.660Z"
   },
   {
    "duration": 536,
    "start_time": "2021-07-30T10:35:41.980Z"
   },
   {
    "duration": 409,
    "start_time": "2021-07-30T10:36:46.034Z"
   },
   {
    "duration": 4,
    "start_time": "2021-07-30T10:37:10.379Z"
   },
   {
    "duration": 4,
    "start_time": "2021-07-30T10:37:14.474Z"
   },
   {
    "duration": 453,
    "start_time": "2021-07-30T10:37:15.675Z"
   },
   {
    "duration": 5,
    "start_time": "2021-07-30T10:38:37.299Z"
   },
   {
    "duration": 4,
    "start_time": "2021-07-30T10:38:37.779Z"
   },
   {
    "duration": 451,
    "start_time": "2021-07-30T10:38:38.267Z"
   },
   {
    "duration": 4,
    "start_time": "2021-07-30T10:39:35.345Z"
   },
   {
    "duration": 4,
    "start_time": "2021-07-30T10:39:35.625Z"
   },
   {
    "duration": 463,
    "start_time": "2021-07-30T10:39:36.154Z"
   },
   {
    "duration": 3,
    "start_time": "2021-07-30T10:39:57.162Z"
   },
   {
    "duration": 4,
    "start_time": "2021-07-30T10:39:57.561Z"
   },
   {
    "duration": 433,
    "start_time": "2021-07-30T10:39:57.857Z"
   },
   {
    "duration": 5,
    "start_time": "2021-07-30T10:40:24.442Z"
   },
   {
    "duration": 6,
    "start_time": "2021-07-30T10:40:24.818Z"
   },
   {
    "duration": 429,
    "start_time": "2021-07-30T10:40:25.386Z"
   },
   {
    "duration": 5,
    "start_time": "2021-07-30T10:41:03.227Z"
   },
   {
    "duration": 4,
    "start_time": "2021-07-30T10:41:03.665Z"
   },
   {
    "duration": 526,
    "start_time": "2021-07-30T10:41:04.105Z"
   },
   {
    "duration": 4,
    "start_time": "2021-07-30T10:41:38.483Z"
   },
   {
    "duration": 4,
    "start_time": "2021-07-30T10:41:38.792Z"
   },
   {
    "duration": 418,
    "start_time": "2021-07-30T10:41:39.105Z"
   },
   {
    "duration": 5,
    "start_time": "2021-07-30T10:42:10.488Z"
   },
   {
    "duration": 4,
    "start_time": "2021-07-30T10:42:10.759Z"
   },
   {
    "duration": 441,
    "start_time": "2021-07-30T10:42:11.008Z"
   },
   {
    "duration": 5,
    "start_time": "2021-07-30T10:42:42.023Z"
   },
   {
    "duration": 4,
    "start_time": "2021-07-30T10:42:42.376Z"
   },
   {
    "duration": 1138,
    "start_time": "2021-07-30T10:42:42.720Z"
   },
   {
    "duration": 5,
    "start_time": "2021-07-30T10:43:16.039Z"
   },
   {
    "duration": 5,
    "start_time": "2021-07-30T10:43:16.351Z"
   },
   {
    "duration": 1732,
    "start_time": "2021-07-30T10:43:40.209Z"
   },
   {
    "duration": 2710,
    "start_time": "2021-07-30T10:43:41.945Z"
   },
   {
    "duration": 49,
    "start_time": "2021-07-30T10:43:44.659Z"
   },
   {
    "duration": 295,
    "start_time": "2021-07-30T10:43:44.712Z"
   },
   {
    "duration": 285,
    "start_time": "2021-07-30T10:43:45.011Z"
   },
   {
    "duration": 350,
    "start_time": "2021-07-30T10:43:45.300Z"
   },
   {
    "duration": 189,
    "start_time": "2021-07-30T10:43:45.655Z"
   },
   {
    "duration": 74,
    "start_time": "2021-07-30T10:43:45.848Z"
   },
   {
    "duration": 900,
    "start_time": "2021-07-30T10:43:45.925Z"
   },
   {
    "duration": 732,
    "start_time": "2021-07-30T10:43:46.829Z"
   },
   {
    "duration": 166,
    "start_time": "2021-07-30T10:43:47.564Z"
   },
   {
    "duration": 66,
    "start_time": "2021-07-30T10:43:47.733Z"
   },
   {
    "duration": 54,
    "start_time": "2021-07-30T10:43:47.802Z"
   },
   {
    "duration": 79,
    "start_time": "2021-07-30T10:43:47.859Z"
   },
   {
    "duration": 996,
    "start_time": "2021-07-30T10:43:47.941Z"
   },
   {
    "duration": 2512,
    "start_time": "2021-07-30T10:43:48.940Z"
   },
   {
    "duration": 80,
    "start_time": "2021-07-30T10:43:51.456Z"
   },
   {
    "duration": 521,
    "start_time": "2021-07-30T10:43:51.545Z"
   },
   {
    "duration": 12,
    "start_time": "2021-07-30T10:43:52.073Z"
   },
   {
    "duration": 17,
    "start_time": "2021-07-30T10:43:52.089Z"
   },
   {
    "duration": 128,
    "start_time": "2021-07-30T10:43:52.111Z"
   },
   {
    "duration": 562,
    "start_time": "2021-07-30T10:43:52.243Z"
   },
   {
    "duration": 22,
    "start_time": "2021-07-30T10:43:52.809Z"
   },
   {
    "duration": 706,
    "start_time": "2021-07-30T10:43:52.834Z"
   },
   {
    "duration": 553,
    "start_time": "2021-07-30T10:43:53.544Z"
   },
   {
    "duration": 922,
    "start_time": "2021-07-30T10:43:54.099Z"
   },
   {
    "duration": 90,
    "start_time": "2021-07-30T10:43:55.026Z"
   },
   {
    "duration": 1035,
    "start_time": "2021-07-30T10:43:55.120Z"
   },
   {
    "duration": 8,
    "start_time": "2021-07-30T10:43:56.158Z"
   },
   {
    "duration": 73,
    "start_time": "2021-07-30T10:43:56.168Z"
   },
   {
    "duration": 652,
    "start_time": "2021-07-30T10:43:56.243Z"
   },
   {
    "duration": 738,
    "start_time": "2021-07-30T10:43:56.898Z"
   },
   {
    "duration": 20,
    "start_time": "2021-07-30T10:43:57.640Z"
   },
   {
    "duration": 43,
    "start_time": "2021-07-30T10:43:57.663Z"
   },
   {
    "duration": 16,
    "start_time": "2021-07-30T10:43:57.710Z"
   },
   {
    "duration": 693,
    "start_time": "2021-07-30T10:43:57.729Z"
   },
   {
    "duration": 637,
    "start_time": "2021-07-30T10:43:58.426Z"
   },
   {
    "duration": 23,
    "start_time": "2021-07-30T10:43:59.067Z"
   },
   {
    "duration": 81,
    "start_time": "2021-07-30T10:43:59.094Z"
   },
   {
    "duration": 53,
    "start_time": "2021-07-30T10:43:59.178Z"
   },
   {
    "duration": 8782,
    "start_time": "2021-07-30T10:43:59.235Z"
   },
   {
    "duration": 21,
    "start_time": "2021-07-30T10:44:08.019Z"
   },
   {
    "duration": 54,
    "start_time": "2021-07-30T10:44:08.044Z"
   },
   {
    "duration": 36,
    "start_time": "2021-07-30T10:44:08.101Z"
   },
   {
    "duration": 106,
    "start_time": "2021-07-30T10:44:08.140Z"
   },
   {
    "duration": 39,
    "start_time": "2021-07-30T10:44:08.250Z"
   },
   {
    "duration": 175,
    "start_time": "2021-07-30T10:44:08.291Z"
   },
   {
    "duration": 456,
    "start_time": "2021-07-30T10:44:08.469Z"
   },
   {
    "duration": 504,
    "start_time": "2021-07-30T10:44:08.928Z"
   },
   {
    "duration": 638,
    "start_time": "2021-07-30T10:44:09.435Z"
   },
   {
    "duration": 627,
    "start_time": "2021-07-30T10:44:10.077Z"
   },
   {
    "duration": 83,
    "start_time": "2021-07-30T10:44:10.708Z"
   },
   {
    "duration": 531,
    "start_time": "2021-07-30T10:44:10.793Z"
   },
   {
    "duration": 21,
    "start_time": "2021-07-30T10:44:11.332Z"
   },
   {
    "duration": 56,
    "start_time": "2021-07-30T10:44:11.358Z"
   },
   {
    "duration": 922,
    "start_time": "2021-07-30T10:44:11.417Z"
   },
   {
    "duration": 30,
    "start_time": "2021-07-30T10:44:12.342Z"
   },
   {
    "duration": 62,
    "start_time": "2021-07-30T10:44:12.388Z"
   },
   {
    "duration": 408,
    "start_time": "2021-07-30T10:44:12.453Z"
   },
   {
    "duration": 151,
    "start_time": "2021-07-30T10:44:12.864Z"
   },
   {
    "duration": 68,
    "start_time": "2021-07-30T10:44:13.018Z"
   },
   {
    "duration": 46,
    "start_time": "2021-07-30T10:44:13.089Z"
   },
   {
    "duration": 92,
    "start_time": "2021-07-30T10:44:13.138Z"
   },
   {
    "duration": 32,
    "start_time": "2021-07-30T10:44:13.233Z"
   },
   {
    "duration": 6,
    "start_time": "2021-07-30T10:44:13.287Z"
   },
   {
    "duration": 693,
    "start_time": "2021-07-30T10:44:13.297Z"
   },
   {
    "duration": 3,
    "start_time": "2021-07-30T10:44:13.993Z"
   },
   {
    "duration": 12,
    "start_time": "2021-07-30T10:44:13.999Z"
   },
   {
    "duration": 2256,
    "start_time": "2021-07-30T10:44:14.014Z"
   },
   {
    "duration": 360,
    "start_time": "2021-07-30T10:44:16.273Z"
   },
   {
    "duration": 592,
    "start_time": "2021-07-30T10:44:16.636Z"
   },
   {
    "duration": 62,
    "start_time": "2021-07-30T10:44:17.231Z"
   },
   {
    "duration": 6,
    "start_time": "2021-07-30T10:44:17.295Z"
   },
   {
    "duration": 583,
    "start_time": "2021-07-30T10:44:17.304Z"
   },
   {
    "duration": -98,
    "start_time": "2021-07-30T10:44:17.988Z"
   },
   {
    "duration": -99,
    "start_time": "2021-07-30T10:44:17.991Z"
   },
   {
    "duration": -107,
    "start_time": "2021-07-30T10:44:18.001Z"
   },
   {
    "duration": -109,
    "start_time": "2021-07-30T10:44:18.005Z"
   },
   {
    "duration": -110,
    "start_time": "2021-07-30T10:44:18.008Z"
   },
   {
    "duration": -112,
    "start_time": "2021-07-30T10:44:18.012Z"
   },
   {
    "duration": -112,
    "start_time": "2021-07-30T10:44:18.015Z"
   },
   {
    "duration": -120,
    "start_time": "2021-07-30T10:44:18.025Z"
   },
   {
    "duration": -121,
    "start_time": "2021-07-30T10:44:18.028Z"
   },
   {
    "duration": -123,
    "start_time": "2021-07-30T10:44:18.032Z"
   },
   {
    "duration": -125,
    "start_time": "2021-07-30T10:44:18.037Z"
   },
   {
    "duration": -155,
    "start_time": "2021-07-30T10:44:18.069Z"
   },
   {
    "duration": -158,
    "start_time": "2021-07-30T10:44:18.074Z"
   },
   {
    "duration": -160,
    "start_time": "2021-07-30T10:44:18.078Z"
   },
   {
    "duration": -161,
    "start_time": "2021-07-30T10:44:18.081Z"
   },
   {
    "duration": -163,
    "start_time": "2021-07-30T10:44:18.085Z"
   },
   {
    "duration": -180,
    "start_time": "2021-07-30T10:44:18.104Z"
   },
   {
    "duration": -205,
    "start_time": "2021-07-30T10:44:18.131Z"
   },
   {
    "duration": -206,
    "start_time": "2021-07-30T10:44:18.134Z"
   },
   {
    "duration": -206,
    "start_time": "2021-07-30T10:44:18.137Z"
   },
   {
    "duration": -155,
    "start_time": "2021-07-30T10:44:18.140Z"
   },
   {
    "duration": -162,
    "start_time": "2021-07-30T10:44:18.149Z"
   },
   {
    "duration": -162,
    "start_time": "2021-07-30T10:44:18.152Z"
   },
   {
    "duration": -184,
    "start_time": "2021-07-30T10:44:18.176Z"
   },
   {
    "duration": -185,
    "start_time": "2021-07-30T10:44:18.179Z"
   },
   {
    "duration": -186,
    "start_time": "2021-07-30T10:44:18.182Z"
   },
   {
    "duration": -188,
    "start_time": "2021-07-30T10:44:18.186Z"
   },
   {
    "duration": -189,
    "start_time": "2021-07-30T10:44:18.189Z"
   },
   {
    "duration": -210,
    "start_time": "2021-07-30T10:44:18.212Z"
   },
   {
    "duration": -213,
    "start_time": "2021-07-30T10:44:18.218Z"
   },
   {
    "duration": -214,
    "start_time": "2021-07-30T10:44:18.221Z"
   },
   {
    "duration": -216,
    "start_time": "2021-07-30T10:44:18.225Z"
   },
   {
    "duration": 1495,
    "start_time": "2021-07-30T10:44:26.111Z"
   },
   {
    "duration": 60,
    "start_time": "2021-07-30T10:44:28.183Z"
   },
   {
    "duration": 4,
    "start_time": "2021-07-30T10:44:28.605Z"
   },
   {
    "duration": 7,
    "start_time": "2021-07-30T10:44:30.287Z"
   },
   {
    "duration": 4,
    "start_time": "2021-07-30T10:44:45.215Z"
   },
   {
    "duration": 4,
    "start_time": "2021-07-30T10:44:45.750Z"
   },
   {
    "duration": 91445,
    "start_time": "2021-07-30T10:44:46.381Z"
   },
   {
    "duration": 4,
    "start_time": "2021-07-30T10:47:38.558Z"
   },
   {
    "duration": 94627,
    "start_time": "2021-07-30T10:47:38.965Z"
   },
   {
    "duration": 6,
    "start_time": "2021-07-30T10:49:43.971Z"
   },
   {
    "duration": 4,
    "start_time": "2021-07-30T10:49:55.284Z"
   },
   {
    "duration": 500,
    "start_time": "2021-07-30T10:50:03.238Z"
   },
   {
    "duration": 464,
    "start_time": "2021-07-30T10:50:26.972Z"
   },
   {
    "duration": 7,
    "start_time": "2021-07-30T10:51:09.427Z"
   },
   {
    "duration": 6,
    "start_time": "2021-07-30T10:53:10.846Z"
   },
   {
    "duration": 438,
    "start_time": "2021-07-30T10:54:26.075Z"
   },
   {
    "duration": 422,
    "start_time": "2021-07-30T10:54:35.817Z"
   },
   {
    "duration": 429,
    "start_time": "2021-07-30T10:55:30.604Z"
   },
   {
    "duration": 400,
    "start_time": "2021-07-30T10:58:35.560Z"
   },
   {
    "duration": 412,
    "start_time": "2021-07-30T10:58:43.410Z"
   },
   {
    "duration": 415,
    "start_time": "2021-07-30T11:00:18.567Z"
   },
   {
    "duration": 397,
    "start_time": "2021-07-30T11:01:51.877Z"
   },
   {
    "duration": 9,
    "start_time": "2021-07-30T11:03:53.691Z"
   },
   {
    "duration": 3,
    "start_time": "2021-07-30T11:04:12.739Z"
   },
   {
    "duration": 391,
    "start_time": "2021-07-30T11:04:13.363Z"
   },
   {
    "duration": 4,
    "start_time": "2021-07-30T11:04:57.257Z"
   },
   {
    "duration": 74646,
    "start_time": "2021-07-30T11:04:57.547Z"
   },
   {
    "duration": 412,
    "start_time": "2021-07-30T11:07:26.163Z"
   },
   {
    "duration": 4,
    "start_time": "2021-07-30T11:07:38.408Z"
   },
   {
    "duration": 398,
    "start_time": "2021-07-30T11:07:51.752Z"
   },
   {
    "duration": 5,
    "start_time": "2021-07-30T11:08:30.994Z"
   },
   {
    "duration": 4,
    "start_time": "2021-07-30T11:08:34.632Z"
   },
   {
    "duration": 3,
    "start_time": "2021-07-30T11:08:35.280Z"
   },
   {
    "duration": 428,
    "start_time": "2021-07-30T11:08:36.464Z"
   },
   {
    "duration": 5,
    "start_time": "2021-07-30T11:08:56.464Z"
   },
   {
    "duration": 4,
    "start_time": "2021-07-30T11:08:57.055Z"
   },
   {
    "duration": 409,
    "start_time": "2021-07-30T11:08:57.560Z"
   },
   {
    "duration": 5,
    "start_time": "2021-07-30T11:09:15.655Z"
   },
   {
    "duration": 4,
    "start_time": "2021-07-30T11:09:16.030Z"
   },
   {
    "duration": 450,
    "start_time": "2021-07-30T11:09:16.504Z"
   },
   {
    "duration": 4,
    "start_time": "2021-07-30T11:09:46.856Z"
   },
   {
    "duration": 4,
    "start_time": "2021-07-30T11:09:47.144Z"
   },
   {
    "duration": 427,
    "start_time": "2021-07-30T11:09:47.498Z"
   },
   {
    "duration": 5,
    "start_time": "2021-07-30T11:10:15.278Z"
   },
   {
    "duration": 4,
    "start_time": "2021-07-30T11:10:16.623Z"
   },
   {
    "duration": 238861,
    "start_time": "2021-07-30T11:10:18.032Z"
   },
   {
    "duration": 4,
    "start_time": "2021-07-30T11:16:59.538Z"
   },
   {
    "duration": 4,
    "start_time": "2021-07-30T11:17:00.418Z"
   },
   {
    "duration": 62948,
    "start_time": "2021-07-30T11:17:00.946Z"
   },
   {
    "duration": 5,
    "start_time": "2021-07-30T11:18:07.257Z"
   },
   {
    "duration": 4,
    "start_time": "2021-07-30T11:18:07.769Z"
   },
   {
    "duration": 1592,
    "start_time": "2021-07-30T11:19:06.218Z"
   },
   {
    "duration": 1833,
    "start_time": "2021-07-30T11:19:27.955Z"
   },
   {
    "duration": 5723,
    "start_time": "2021-07-30T11:19:29.794Z"
   },
   {
    "duration": 37,
    "start_time": "2021-07-30T11:19:35.521Z"
   },
   {
    "duration": 289,
    "start_time": "2021-07-30T11:19:35.561Z"
   },
   {
    "duration": 311,
    "start_time": "2021-07-30T11:19:35.853Z"
   },
   {
    "duration": 246,
    "start_time": "2021-07-30T11:19:36.166Z"
   },
   {
    "duration": 128,
    "start_time": "2021-07-30T11:19:36.415Z"
   },
   {
    "duration": 59,
    "start_time": "2021-07-30T11:19:36.547Z"
   },
   {
    "duration": 626,
    "start_time": "2021-07-30T11:19:36.609Z"
   },
   {
    "duration": 784,
    "start_time": "2021-07-30T11:19:37.238Z"
   },
   {
    "duration": 196,
    "start_time": "2021-07-30T11:19:38.024Z"
   },
   {
    "duration": 67,
    "start_time": "2021-07-30T11:19:38.223Z"
   },
   {
    "duration": 53,
    "start_time": "2021-07-30T11:19:38.293Z"
   },
   {
    "duration": 64,
    "start_time": "2021-07-30T11:19:38.349Z"
   },
   {
    "duration": 1170,
    "start_time": "2021-07-30T11:19:38.415Z"
   },
   {
    "duration": 1946,
    "start_time": "2021-07-30T11:19:39.593Z"
   },
   {
    "duration": 74,
    "start_time": "2021-07-30T11:19:41.542Z"
   },
   {
    "duration": 436,
    "start_time": "2021-07-30T11:19:41.618Z"
   },
   {
    "duration": 5,
    "start_time": "2021-07-30T11:19:42.057Z"
   },
   {
    "duration": 29,
    "start_time": "2021-07-30T11:19:42.065Z"
   },
   {
    "duration": 60,
    "start_time": "2021-07-30T11:19:42.097Z"
   },
   {
    "duration": 360,
    "start_time": "2021-07-30T11:19:42.159Z"
   },
   {
    "duration": 17,
    "start_time": "2021-07-30T11:19:42.525Z"
   },
   {
    "duration": 666,
    "start_time": "2021-07-30T11:19:42.545Z"
   },
   {
    "duration": 348,
    "start_time": "2021-07-30T11:19:43.213Z"
   },
   {
    "duration": 844,
    "start_time": "2021-07-30T11:19:43.563Z"
   },
   {
    "duration": 59,
    "start_time": "2021-07-30T11:19:44.410Z"
   },
   {
    "duration": 1075,
    "start_time": "2021-07-30T11:19:44.471Z"
   },
   {
    "duration": 5,
    "start_time": "2021-07-30T11:19:45.549Z"
   },
   {
    "duration": 80,
    "start_time": "2021-07-30T11:19:45.557Z"
   },
   {
    "duration": 919,
    "start_time": "2021-07-30T11:19:45.641Z"
   },
   {
    "duration": 542,
    "start_time": "2021-07-30T11:19:46.563Z"
   },
   {
    "duration": 17,
    "start_time": "2021-07-30T11:19:47.108Z"
   },
   {
    "duration": 25,
    "start_time": "2021-07-30T11:19:47.128Z"
   },
   {
    "duration": 50,
    "start_time": "2021-07-30T11:19:47.156Z"
   },
   {
    "duration": 406,
    "start_time": "2021-07-30T11:19:47.209Z"
   },
   {
    "duration": 421,
    "start_time": "2021-07-30T11:19:47.618Z"
   },
   {
    "duration": 16,
    "start_time": "2021-07-30T11:19:48.042Z"
   },
   {
    "duration": 63,
    "start_time": "2021-07-30T11:19:48.061Z"
   },
   {
    "duration": 41,
    "start_time": "2021-07-30T11:19:48.127Z"
   },
   {
    "duration": 6959,
    "start_time": "2021-07-30T11:19:48.171Z"
   },
   {
    "duration": 20,
    "start_time": "2021-07-30T11:19:55.132Z"
   },
   {
    "duration": 51,
    "start_time": "2021-07-30T11:19:55.155Z"
   },
   {
    "duration": 28,
    "start_time": "2021-07-30T11:19:55.209Z"
   },
   {
    "duration": 117,
    "start_time": "2021-07-30T11:19:55.240Z"
   },
   {
    "duration": 29,
    "start_time": "2021-07-30T11:19:55.359Z"
   },
   {
    "duration": 117,
    "start_time": "2021-07-30T11:19:55.393Z"
   },
   {
    "duration": 440,
    "start_time": "2021-07-30T11:19:55.513Z"
   },
   {
    "duration": 482,
    "start_time": "2021-07-30T11:19:55.956Z"
   },
   {
    "duration": 403,
    "start_time": "2021-07-30T11:19:56.441Z"
   },
   {
    "duration": 392,
    "start_time": "2021-07-30T11:19:56.847Z"
   },
   {
    "duration": 53,
    "start_time": "2021-07-30T11:19:57.241Z"
   },
   {
    "duration": 504,
    "start_time": "2021-07-30T11:19:57.301Z"
   },
   {
    "duration": 20,
    "start_time": "2021-07-30T11:19:57.808Z"
   },
   {
    "duration": 61,
    "start_time": "2021-07-30T11:19:57.831Z"
   },
   {
    "duration": 520,
    "start_time": "2021-07-30T11:19:57.895Z"
   },
   {
    "duration": 20,
    "start_time": "2021-07-30T11:19:58.418Z"
   },
   {
    "duration": 77,
    "start_time": "2021-07-30T11:19:58.441Z"
   },
   {
    "duration": 257,
    "start_time": "2021-07-30T11:19:58.521Z"
   },
   {
    "duration": 86,
    "start_time": "2021-07-30T11:19:58.785Z"
   },
   {
    "duration": 59,
    "start_time": "2021-07-30T11:19:58.873Z"
   },
   {
    "duration": 73,
    "start_time": "2021-07-30T11:19:58.935Z"
   },
   {
    "duration": 90,
    "start_time": "2021-07-30T11:19:59.011Z"
   },
   {
    "duration": 28,
    "start_time": "2021-07-30T11:19:59.103Z"
   },
   {
    "duration": 6,
    "start_time": "2021-07-30T11:19:59.133Z"
   },
   {
    "duration": 650,
    "start_time": "2021-07-30T11:19:59.142Z"
   },
   {
    "duration": 3,
    "start_time": "2021-07-30T11:19:59.794Z"
   },
   {
    "duration": 4,
    "start_time": "2021-07-30T11:19:59.806Z"
   },
   {
    "duration": 2204,
    "start_time": "2021-07-30T11:19:59.814Z"
   },
   {
    "duration": 324,
    "start_time": "2021-07-30T11:20:02.021Z"
   },
   {
    "duration": 597,
    "start_time": "2021-07-30T11:20:02.348Z"
   },
   {
    "duration": 65,
    "start_time": "2021-07-30T11:20:02.948Z"
   },
   {
    "duration": 6,
    "start_time": "2021-07-30T11:20:03.015Z"
   },
   {
    "duration": 1508,
    "start_time": "2021-07-30T11:20:03.024Z"
   },
   {
    "duration": 66,
    "start_time": "2021-07-30T11:20:04.535Z"
   },
   {
    "duration": 4,
    "start_time": "2021-07-30T11:20:04.605Z"
   },
   {
    "duration": 11,
    "start_time": "2021-07-30T11:20:04.611Z"
   },
   {
    "duration": 984,
    "start_time": "2021-07-30T11:20:04.624Z"
   },
   {
    "duration": -119,
    "start_time": "2021-07-30T11:20:05.730Z"
   },
   {
    "duration": -138,
    "start_time": "2021-07-30T11:20:05.751Z"
   },
   {
    "duration": -148,
    "start_time": "2021-07-30T11:20:05.764Z"
   },
   {
    "duration": -150,
    "start_time": "2021-07-30T11:20:05.768Z"
   },
   {
    "duration": -151,
    "start_time": "2021-07-30T11:20:05.771Z"
   },
   {
    "duration": -152,
    "start_time": "2021-07-30T11:20:05.774Z"
   },
   {
    "duration": -152,
    "start_time": "2021-07-30T11:20:05.777Z"
   },
   {
    "duration": -153,
    "start_time": "2021-07-30T11:20:05.780Z"
   },
   {
    "duration": -154,
    "start_time": "2021-07-30T11:20:05.783Z"
   },
   {
    "duration": -164,
    "start_time": "2021-07-30T11:20:05.795Z"
   },
   {
    "duration": -184,
    "start_time": "2021-07-30T11:20:05.818Z"
   },
   {
    "duration": -186,
    "start_time": "2021-07-30T11:20:05.822Z"
   },
   {
    "duration": -195,
    "start_time": "2021-07-30T11:20:05.833Z"
   },
   {
    "duration": -197,
    "start_time": "2021-07-30T11:20:05.837Z"
   },
   {
    "duration": -198,
    "start_time": "2021-07-30T11:20:05.840Z"
   },
   {
    "duration": -199,
    "start_time": "2021-07-30T11:20:05.844Z"
   },
   {
    "duration": -201,
    "start_time": "2021-07-30T11:20:05.848Z"
   },
   {
    "duration": -203,
    "start_time": "2021-07-30T11:20:05.852Z"
   },
   {
    "duration": -205,
    "start_time": "2021-07-30T11:20:05.855Z"
   },
   {
    "duration": -170,
    "start_time": "2021-07-30T11:20:05.859Z"
   },
   {
    "duration": -196,
    "start_time": "2021-07-30T11:20:05.886Z"
   },
   {
    "duration": -197,
    "start_time": "2021-07-30T11:20:05.889Z"
   },
   {
    "duration": -199,
    "start_time": "2021-07-30T11:20:05.892Z"
   },
   {
    "duration": -201,
    "start_time": "2021-07-30T11:20:05.896Z"
   },
   {
    "duration": -211,
    "start_time": "2021-07-30T11:20:05.908Z"
   },
   {
    "duration": -214,
    "start_time": "2021-07-30T11:20:05.912Z"
   },
   {
    "duration": -223,
    "start_time": "2021-07-30T11:20:05.923Z"
   },
   {
    "duration": -226,
    "start_time": "2021-07-30T11:20:05.927Z"
   },
   {
    "duration": -229,
    "start_time": "2021-07-30T11:20:05.932Z"
   },
   {
    "duration": -239,
    "start_time": "2021-07-30T11:20:05.944Z"
   },
   {
    "duration": -249,
    "start_time": "2021-07-30T11:20:05.956Z"
   },
   {
    "duration": 5,
    "start_time": "2021-07-30T11:20:29.863Z"
   },
   {
    "duration": 4,
    "start_time": "2021-07-30T11:20:32.174Z"
   },
   {
    "duration": 4,
    "start_time": "2021-07-30T11:20:32.534Z"
   },
   {
    "duration": 145044,
    "start_time": "2021-07-30T11:20:32.942Z"
   },
   {
    "duration": 4,
    "start_time": "2021-07-30T11:32:04.463Z"
   },
   {
    "duration": 172701,
    "start_time": "2021-07-30T11:32:11.086Z"
   },
   {
    "duration": 6,
    "start_time": "2021-07-30T11:36:42.548Z"
   },
   {
    "duration": 5,
    "start_time": "2021-07-30T11:36:51.205Z"
   },
   {
    "duration": 4,
    "start_time": "2021-07-30T11:36:51.844Z"
   },
   {
    "duration": 97814,
    "start_time": "2021-07-30T11:36:53.476Z"
   },
   {
    "duration": 9,
    "start_time": "2021-07-30T11:45:13.567Z"
   },
   {
    "duration": 6,
    "start_time": "2021-07-30T11:46:22.246Z"
   },
   {
    "duration": 5,
    "start_time": "2021-07-30T11:49:15.538Z"
   },
   {
    "duration": 4,
    "start_time": "2021-07-30T11:49:16.508Z"
   },
   {
    "duration": 162511,
    "start_time": "2021-07-30T11:49:18.981Z"
   },
   {
    "duration": 5,
    "start_time": "2021-07-30T11:52:21.764Z"
   },
   {
    "duration": 10,
    "start_time": "2021-07-30T11:53:18.890Z"
   },
   {
    "duration": 6,
    "start_time": "2021-07-30T11:53:32.642Z"
   },
   {
    "duration": 46,
    "start_time": "2021-07-30T11:54:00.536Z"
   },
   {
    "duration": 33,
    "start_time": "2021-07-30T11:55:08.199Z"
   },
   {
    "duration": 4,
    "start_time": "2021-07-30T11:55:48.449Z"
   },
   {
    "duration": 4,
    "start_time": "2021-07-30T11:55:49.071Z"
   },
   {
    "duration": 179239,
    "start_time": "2021-07-30T11:55:51.753Z"
   },
   {
    "duration": 5,
    "start_time": "2021-07-30T12:00:10.215Z"
   },
   {
    "duration": 748,
    "start_time": "2021-07-30T12:02:35.251Z"
   },
   {
    "duration": 790,
    "start_time": "2021-07-30T12:03:44.709Z"
   },
   {
    "duration": 6,
    "start_time": "2021-07-30T12:05:02.282Z"
   },
   {
    "duration": 16,
    "start_time": "2021-07-30T12:05:13.946Z"
   },
   {
    "duration": 5,
    "start_time": "2021-07-30T12:30:41.601Z"
   },
   {
    "duration": 261,
    "start_time": "2021-07-30T12:30:44.011Z"
   },
   {
    "duration": 518207,
    "start_time": "2021-07-30T12:30:50.471Z"
   },
   {
    "duration": 4,
    "start_time": "2021-07-30T12:39:28.681Z"
   },
   {
    "duration": 4,
    "start_time": "2021-07-30T12:41:59.362Z"
   },
   {
    "duration": 106542,
    "start_time": "2021-07-30T12:41:59.843Z"
   },
   {
    "duration": 5,
    "start_time": "2021-07-30T12:47:09.502Z"
   },
   {
    "duration": 538020,
    "start_time": "2021-07-30T12:47:09.968Z"
   },
   {
    "duration": 5,
    "start_time": "2021-07-30T13:02:12.325Z"
   },
   {
    "duration": 9634,
    "start_time": "2021-07-30T13:02:20.853Z"
   },
   {
    "duration": 5,
    "start_time": "2021-07-30T13:02:30.491Z"
   },
   {
    "duration": 5,
    "start_time": "2021-07-30T13:04:25.962Z"
   },
   {
    "duration": 5,
    "start_time": "2021-07-30T13:04:43.731Z"
   },
   {
    "duration": 305,
    "start_time": "2021-07-30T13:04:44.292Z"
   },
   {
    "duration": 548,
    "start_time": "2021-07-30T13:08:06.132Z"
   },
   {
    "duration": 321,
    "start_time": "2021-07-30T13:08:25.803Z"
   },
   {
    "duration": 5,
    "start_time": "2021-07-30T13:17:03.376Z"
   },
   {
    "duration": 5116,
    "start_time": "2021-07-30T13:17:04.331Z"
   },
   {
    "duration": 6917,
    "start_time": "2021-07-30T13:17:12.950Z"
   },
   {
    "duration": 5,
    "start_time": "2021-07-30T13:17:22.557Z"
   },
   {
    "duration": 395044,
    "start_time": "2021-07-30T13:17:24.853Z"
   },
   {
    "duration": 6,
    "start_time": "2021-07-30T13:28:17.826Z"
   },
   {
    "duration": 364551,
    "start_time": "2021-07-30T13:28:24.724Z"
   },
   {
    "duration": 5,
    "start_time": "2021-07-30T13:34:29.286Z"
   },
   {
    "duration": 407,
    "start_time": "2021-07-30T13:43:16.529Z"
   },
   {
    "duration": 398,
    "start_time": "2021-07-30T13:43:22.653Z"
   },
   {
    "duration": 408,
    "start_time": "2021-07-30T13:43:31.988Z"
   },
   {
    "duration": 5,
    "start_time": "2021-07-30T13:43:52.738Z"
   },
   {
    "duration": 305,
    "start_time": "2021-07-30T13:43:57.418Z"
   },
   {
    "duration": 75145,
    "start_time": "2021-07-30T13:44:47.018Z"
   },
   {
    "duration": 389,
    "start_time": "2021-07-30T13:46:02.167Z"
   },
   {
    "duration": 5,
    "start_time": "2021-07-30T13:47:16.522Z"
   },
   {
    "duration": 71406,
    "start_time": "2021-07-30T13:47:17.290Z"
   },
   {
    "duration": 390,
    "start_time": "2021-07-30T13:48:28.699Z"
   },
   {
    "duration": 4,
    "start_time": "2021-07-30T13:50:41.889Z"
   },
   {
    "duration": 866917,
    "start_time": "2021-07-30T13:50:42.650Z"
   },
   {
    "duration": 177338,
    "start_time": "2021-07-30T14:05:09.569Z"
   },
   {
    "duration": 7,
    "start_time": "2021-07-30T14:08:06.912Z"
   },
   {
    "duration": 779,
    "start_time": "2021-07-30T14:10:42.237Z"
   },
   {
    "duration": 6,
    "start_time": "2021-07-30T14:11:02.534Z"
   },
   {
    "duration": 30813,
    "start_time": "2021-07-30T14:11:03.873Z"
   },
   {
    "duration": 6,
    "start_time": "2021-07-30T14:11:40.911Z"
   },
   {
    "duration": 30095,
    "start_time": "2021-07-30T14:11:46.591Z"
   },
   {
    "duration": 12,
    "start_time": "2021-07-30T14:15:17.566Z"
   },
   {
    "duration": 1614,
    "start_time": "2021-07-30T14:16:42.060Z"
   },
   {
    "duration": 3424,
    "start_time": "2021-07-30T14:16:43.678Z"
   },
   {
    "duration": 27,
    "start_time": "2021-07-30T14:16:47.105Z"
   },
   {
    "duration": 188,
    "start_time": "2021-07-30T14:16:47.135Z"
   },
   {
    "duration": 177,
    "start_time": "2021-07-30T14:16:47.325Z"
   },
   {
    "duration": 246,
    "start_time": "2021-07-30T14:16:47.505Z"
   },
   {
    "duration": 136,
    "start_time": "2021-07-30T14:16:47.753Z"
   },
   {
    "duration": 59,
    "start_time": "2021-07-30T14:16:47.893Z"
   },
   {
    "duration": 638,
    "start_time": "2021-07-30T14:16:47.957Z"
   },
   {
    "duration": 784,
    "start_time": "2021-07-30T14:16:48.598Z"
   },
   {
    "duration": 168,
    "start_time": "2021-07-30T14:16:49.386Z"
   },
   {
    "duration": 72,
    "start_time": "2021-07-30T14:16:49.557Z"
   },
   {
    "duration": 71,
    "start_time": "2021-07-30T14:16:49.632Z"
   },
   {
    "duration": 62,
    "start_time": "2021-07-30T14:16:49.706Z"
   },
   {
    "duration": 1083,
    "start_time": "2021-07-30T14:16:49.770Z"
   },
   {
    "duration": 1666,
    "start_time": "2021-07-30T14:16:50.856Z"
   },
   {
    "duration": 82,
    "start_time": "2021-07-30T14:16:52.525Z"
   },
   {
    "duration": 327,
    "start_time": "2021-07-30T14:16:52.609Z"
   },
   {
    "duration": 4,
    "start_time": "2021-07-30T14:16:52.939Z"
   },
   {
    "duration": 20,
    "start_time": "2021-07-30T14:16:52.945Z"
   },
   {
    "duration": 88,
    "start_time": "2021-07-30T14:16:52.967Z"
   },
   {
    "duration": 350,
    "start_time": "2021-07-30T14:16:53.058Z"
   },
   {
    "duration": 17,
    "start_time": "2021-07-30T14:16:53.414Z"
   },
   {
    "duration": 680,
    "start_time": "2021-07-30T14:16:53.435Z"
   },
   {
    "duration": 378,
    "start_time": "2021-07-30T14:16:54.118Z"
   },
   {
    "duration": 878,
    "start_time": "2021-07-30T14:16:54.499Z"
   },
   {
    "duration": 69,
    "start_time": "2021-07-30T14:16:55.379Z"
   },
   {
    "duration": 975,
    "start_time": "2021-07-30T14:16:55.450Z"
   },
   {
    "duration": 8,
    "start_time": "2021-07-30T14:16:56.428Z"
   },
   {
    "duration": 82,
    "start_time": "2021-07-30T14:16:56.438Z"
   },
   {
    "duration": 628,
    "start_time": "2021-07-30T14:16:56.522Z"
   },
   {
    "duration": 457,
    "start_time": "2021-07-30T14:16:57.153Z"
   },
   {
    "duration": 15,
    "start_time": "2021-07-30T14:16:57.613Z"
   },
   {
    "duration": 21,
    "start_time": "2021-07-30T14:16:57.630Z"
   },
   {
    "duration": 41,
    "start_time": "2021-07-30T14:16:57.654Z"
   },
   {
    "duration": 430,
    "start_time": "2021-07-30T14:16:57.699Z"
   },
   {
    "duration": 381,
    "start_time": "2021-07-30T14:16:58.131Z"
   },
   {
    "duration": 17,
    "start_time": "2021-07-30T14:16:58.514Z"
   },
   {
    "duration": 70,
    "start_time": "2021-07-30T14:16:58.534Z"
   },
   {
    "duration": 44,
    "start_time": "2021-07-30T14:16:58.607Z"
   },
   {
    "duration": 6631,
    "start_time": "2021-07-30T14:16:58.654Z"
   },
   {
    "duration": 24,
    "start_time": "2021-07-30T14:17:05.288Z"
   },
   {
    "duration": 28,
    "start_time": "2021-07-30T14:17:05.315Z"
   },
   {
    "duration": 61,
    "start_time": "2021-07-30T14:17:05.346Z"
   },
   {
    "duration": 91,
    "start_time": "2021-07-30T14:17:05.409Z"
   },
   {
    "duration": 21,
    "start_time": "2021-07-30T14:17:05.503Z"
   },
   {
    "duration": 122,
    "start_time": "2021-07-30T14:17:05.527Z"
   },
   {
    "duration": 449,
    "start_time": "2021-07-30T14:17:05.651Z"
   },
   {
    "duration": 599,
    "start_time": "2021-07-30T14:17:06.102Z"
   },
   {
    "duration": 503,
    "start_time": "2021-07-30T14:17:06.704Z"
   },
   {
    "duration": 402,
    "start_time": "2021-07-30T14:17:07.209Z"
   },
   {
    "duration": 39,
    "start_time": "2021-07-30T14:17:07.615Z"
   },
   {
    "duration": 554,
    "start_time": "2021-07-30T14:17:07.656Z"
   },
   {
    "duration": 20,
    "start_time": "2021-07-30T14:17:08.213Z"
   },
   {
    "duration": 67,
    "start_time": "2021-07-30T14:17:08.236Z"
   },
   {
    "duration": 525,
    "start_time": "2021-07-30T14:17:08.305Z"
   },
   {
    "duration": 18,
    "start_time": "2021-07-30T14:17:08.832Z"
   },
   {
    "duration": 76,
    "start_time": "2021-07-30T14:17:08.853Z"
   },
   {
    "duration": 289,
    "start_time": "2021-07-30T14:17:08.932Z"
   },
   {
    "duration": 98,
    "start_time": "2021-07-30T14:17:09.223Z"
   },
   {
    "duration": 45,
    "start_time": "2021-07-30T14:17:09.323Z"
   },
   {
    "duration": 61,
    "start_time": "2021-07-30T14:17:09.370Z"
   },
   {
    "duration": 94,
    "start_time": "2021-07-30T14:17:09.433Z"
   },
   {
    "duration": 32,
    "start_time": "2021-07-30T14:17:09.530Z"
   },
   {
    "duration": 29,
    "start_time": "2021-07-30T14:17:09.564Z"
   },
   {
    "duration": 721,
    "start_time": "2021-07-30T14:17:09.596Z"
   },
   {
    "duration": 2,
    "start_time": "2021-07-30T14:17:10.320Z"
   },
   {
    "duration": 8,
    "start_time": "2021-07-30T14:17:10.330Z"
   },
   {
    "duration": 2272,
    "start_time": "2021-07-30T14:17:10.341Z"
   },
   {
    "duration": 342,
    "start_time": "2021-07-30T14:17:12.616Z"
   },
   {
    "duration": 606,
    "start_time": "2021-07-30T14:17:12.960Z"
   },
   {
    "duration": 57,
    "start_time": "2021-07-30T14:17:13.568Z"
   },
   {
    "duration": 5,
    "start_time": "2021-07-30T14:17:13.627Z"
   },
   {
    "duration": 1490,
    "start_time": "2021-07-30T14:17:13.635Z"
   },
   {
    "duration": 71,
    "start_time": "2021-07-30T14:17:15.127Z"
   },
   {
    "duration": 3,
    "start_time": "2021-07-30T14:17:15.201Z"
   },
   {
    "duration": 10,
    "start_time": "2021-07-30T14:17:15.207Z"
   },
   {
    "duration": 10,
    "start_time": "2021-07-30T14:17:15.219Z"
   },
   {
    "duration": 31266,
    "start_time": "2021-07-30T14:17:15.231Z"
   },
   {
    "duration": 38716,
    "start_time": "2021-07-30T14:17:46.501Z"
   },
   {
    "duration": 611106,
    "start_time": "2021-07-30T14:18:25.219Z"
   },
   {
    "duration": 7,
    "start_time": "2021-07-30T14:28:36.328Z"
   },
   {
    "duration": 811655,
    "start_time": "2021-07-30T14:28:36.337Z"
   },
   {
    "duration": 5,
    "start_time": "2021-07-30T14:42:07.995Z"
   },
   {
    "duration": 14984,
    "start_time": "2021-07-30T14:42:08.003Z"
   },
   {
    "duration": 6,
    "start_time": "2021-07-30T14:42:22.989Z"
   },
   {
    "duration": 6,
    "start_time": "2021-07-30T14:42:22.998Z"
   },
   {
    "duration": 567263,
    "start_time": "2021-07-30T14:42:23.006Z"
   },
   {
    "duration": 375,
    "start_time": "2021-07-30T14:51:50.271Z"
   },
   {
    "duration": -270,
    "start_time": "2021-07-30T14:51:50.918Z"
   },
   {
    "duration": -272,
    "start_time": "2021-07-30T14:51:50.922Z"
   },
   {
    "duration": 5,
    "start_time": "2021-07-30T14:51:52.453Z"
   },
   {
    "duration": 743087,
    "start_time": "2021-07-30T14:51:53.504Z"
   },
   {
    "duration": 117698,
    "start_time": "2021-07-30T15:04:16.594Z"
   },
   {
    "duration": 6,
    "start_time": "2021-07-30T15:06:14.296Z"
   },
   {
    "duration": 9,
    "start_time": "2021-07-30T15:06:14.305Z"
   },
   {
    "duration": 5,
    "start_time": "2021-07-30T15:09:35.122Z"
   },
   {
    "duration": 10,
    "start_time": "2021-07-30T15:09:41.163Z"
   },
   {
    "duration": 6,
    "start_time": "2021-07-30T15:11:01.594Z"
   },
   {
    "duration": 268433,
    "start_time": "2021-07-30T15:11:02.170Z"
   },
   {
    "duration": 4,
    "start_time": "2021-07-30T15:16:08.167Z"
   },
   {
    "duration": 4821662,
    "start_time": "2021-07-30T15:16:08.560Z"
   },
   {
    "duration": 1103786,
    "start_time": "2021-07-30T16:36:30.225Z"
   },
   {
    "duration": 72,
    "start_time": "2021-07-30T16:54:54.015Z"
   },
   {
    "duration": 411,
    "start_time": "2021-07-30T16:54:54.089Z"
   },
   {
    "duration": -385,
    "start_time": "2021-07-30T16:54:54.888Z"
   },
   {
    "duration": -387,
    "start_time": "2021-07-30T16:54:54.892Z"
   },
   {
    "duration": 8,
    "start_time": "2021-07-30T16:55:25.289Z"
   },
   {
    "duration": 12,
    "start_time": "2021-07-30T16:55:29.052Z"
   },
   {
    "duration": 6,
    "start_time": "2021-07-30T16:58:46.266Z"
   },
   {
    "duration": 6,
    "start_time": "2021-07-30T16:59:39.259Z"
   },
   {
    "duration": 48055,
    "start_time": "2021-07-30T16:59:39.779Z"
   },
   {
    "duration": 7,
    "start_time": "2021-07-30T17:00:33.041Z"
   },
   {
    "duration": 409527,
    "start_time": "2021-07-30T17:00:33.562Z"
   },
   {
    "duration": 5,
    "start_time": "2021-07-30T17:07:53.861Z"
   },
   {
    "duration": 17694,
    "start_time": "2021-07-30T17:07:54.465Z"
   },
   {
    "duration": 6,
    "start_time": "2021-07-30T17:08:13.743Z"
   },
   {
    "duration": 97971,
    "start_time": "2021-07-30T17:08:16.637Z"
   },
   {
    "duration": 6,
    "start_time": "2021-07-30T17:09:56.291Z"
   },
   {
    "duration": 54651,
    "start_time": "2021-07-30T17:09:56.821Z"
   },
   {
    "duration": 1557,
    "start_time": "2021-07-30T17:12:40.388Z"
   },
   {
    "duration": -362,
    "start_time": "2021-07-30T17:12:51.951Z"
   },
   {
    "duration": -363,
    "start_time": "2021-07-30T17:12:51.953Z"
   },
   {
    "duration": -366,
    "start_time": "2021-07-30T17:12:51.957Z"
   },
   {
    "duration": -367,
    "start_time": "2021-07-30T17:12:51.960Z"
   },
   {
    "duration": -369,
    "start_time": "2021-07-30T17:12:51.963Z"
   },
   {
    "duration": -377,
    "start_time": "2021-07-30T17:12:51.972Z"
   },
   {
    "duration": -379,
    "start_time": "2021-07-30T17:12:51.976Z"
   },
   {
    "duration": -380,
    "start_time": "2021-07-30T17:12:51.979Z"
   },
   {
    "duration": -382,
    "start_time": "2021-07-30T17:12:51.982Z"
   },
   {
    "duration": -382,
    "start_time": "2021-07-30T17:12:51.984Z"
   },
   {
    "duration": -390,
    "start_time": "2021-07-30T17:12:51.993Z"
   },
   {
    "duration": -392,
    "start_time": "2021-07-30T17:12:51.996Z"
   },
   {
    "duration": -393,
    "start_time": "2021-07-30T17:12:51.999Z"
   },
   {
    "duration": -453,
    "start_time": "2021-07-30T17:12:52.060Z"
   },
   {
    "duration": -584,
    "start_time": "2021-07-30T17:12:52.193Z"
   },
   {
    "duration": -586,
    "start_time": "2021-07-30T17:12:52.196Z"
   },
   {
    "duration": -588,
    "start_time": "2021-07-30T17:12:52.199Z"
   },
   {
    "duration": -588,
    "start_time": "2021-07-30T17:12:52.201Z"
   },
   {
    "duration": -590,
    "start_time": "2021-07-30T17:12:52.204Z"
   },
   {
    "duration": -592,
    "start_time": "2021-07-30T17:12:52.207Z"
   },
   {
    "duration": -593,
    "start_time": "2021-07-30T17:12:52.210Z"
   },
   {
    "duration": -595,
    "start_time": "2021-07-30T17:12:52.213Z"
   },
   {
    "duration": -595,
    "start_time": "2021-07-30T17:12:52.215Z"
   },
   {
    "duration": -597,
    "start_time": "2021-07-30T17:12:52.218Z"
   },
   {
    "duration": -855,
    "start_time": "2021-07-30T17:12:52.477Z"
   },
   {
    "duration": -920,
    "start_time": "2021-07-30T17:12:52.544Z"
   },
   {
    "duration": -921,
    "start_time": "2021-07-30T17:12:52.547Z"
   },
   {
    "duration": -864,
    "start_time": "2021-07-30T17:12:52.550Z"
   },
   {
    "duration": -866,
    "start_time": "2021-07-30T17:12:52.553Z"
   },
   {
    "duration": -867,
    "start_time": "2021-07-30T17:12:52.556Z"
   },
   {
    "duration": -869,
    "start_time": "2021-07-30T17:12:52.559Z"
   },
   {
    "duration": -869,
    "start_time": "2021-07-30T17:12:52.561Z"
   },
   {
    "duration": -871,
    "start_time": "2021-07-30T17:12:52.564Z"
   },
   {
    "duration": -872,
    "start_time": "2021-07-30T17:12:52.567Z"
   },
   {
    "duration": -872,
    "start_time": "2021-07-30T17:12:52.569Z"
   },
   {
    "duration": -873,
    "start_time": "2021-07-30T17:12:52.572Z"
   },
   {
    "duration": -875,
    "start_time": "2021-07-30T17:12:52.575Z"
   },
   {
    "duration": -876,
    "start_time": "2021-07-30T17:12:52.578Z"
   },
   {
    "duration": -878,
    "start_time": "2021-07-30T17:12:52.581Z"
   },
   {
    "duration": -878,
    "start_time": "2021-07-30T17:12:52.583Z"
   },
   {
    "duration": -879,
    "start_time": "2021-07-30T17:12:52.586Z"
   },
   {
    "duration": -881,
    "start_time": "2021-07-30T17:12:52.589Z"
   },
   {
    "duration": -883,
    "start_time": "2021-07-30T17:12:52.592Z"
   },
   {
    "duration": -894,
    "start_time": "2021-07-30T17:12:52.605Z"
   },
   {
    "duration": -896,
    "start_time": "2021-07-30T17:12:52.608Z"
   },
   {
    "duration": -1042,
    "start_time": "2021-07-30T17:12:52.755Z"
   },
   {
    "duration": -1137,
    "start_time": "2021-07-30T17:12:52.851Z"
   },
   {
    "duration": -1138,
    "start_time": "2021-07-30T17:12:52.854Z"
   },
   {
    "duration": -1140,
    "start_time": "2021-07-30T17:12:52.857Z"
   },
   {
    "duration": -1141,
    "start_time": "2021-07-30T17:12:52.859Z"
   },
   {
    "duration": -1148,
    "start_time": "2021-07-30T17:12:52.868Z"
   },
   {
    "duration": -1150,
    "start_time": "2021-07-30T17:12:52.871Z"
   },
   {
    "duration": -1153,
    "start_time": "2021-07-30T17:12:52.875Z"
   },
   {
    "duration": -1155,
    "start_time": "2021-07-30T17:12:52.878Z"
   },
   {
    "duration": -1096,
    "start_time": "2021-07-30T17:12:52.881Z"
   },
   {
    "duration": -1096,
    "start_time": "2021-07-30T17:12:52.883Z"
   },
   {
    "duration": -1098,
    "start_time": "2021-07-30T17:12:52.886Z"
   },
   {
    "duration": -1099,
    "start_time": "2021-07-30T17:12:52.889Z"
   },
   {
    "duration": -1101,
    "start_time": "2021-07-30T17:12:52.892Z"
   },
   {
    "duration": -1103,
    "start_time": "2021-07-30T17:12:52.895Z"
   },
   {
    "duration": -1105,
    "start_time": "2021-07-30T17:12:52.898Z"
   },
   {
    "duration": -1106,
    "start_time": "2021-07-30T17:12:52.901Z"
   },
   {
    "duration": -1108,
    "start_time": "2021-07-30T17:12:52.904Z"
   },
   {
    "duration": -1109,
    "start_time": "2021-07-30T17:12:52.906Z"
   },
   {
    "duration": -1110,
    "start_time": "2021-07-30T17:12:52.909Z"
   },
   {
    "duration": -1112,
    "start_time": "2021-07-30T17:12:52.912Z"
   },
   {
    "duration": -1114,
    "start_time": "2021-07-30T17:12:52.915Z"
   },
   {
    "duration": -1114,
    "start_time": "2021-07-30T17:12:52.917Z"
   },
   {
    "duration": -1116,
    "start_time": "2021-07-30T17:12:52.920Z"
   },
   {
    "duration": -1118,
    "start_time": "2021-07-30T17:12:52.923Z"
   },
   {
    "duration": -1119,
    "start_time": "2021-07-30T17:12:52.926Z"
   },
   {
    "duration": -1120,
    "start_time": "2021-07-30T17:12:52.928Z"
   },
   {
    "duration": -1121,
    "start_time": "2021-07-30T17:12:52.931Z"
   },
   {
    "duration": -1123,
    "start_time": "2021-07-30T17:12:52.934Z"
   },
   {
    "duration": -1124,
    "start_time": "2021-07-30T17:12:52.936Z"
   },
   {
    "duration": -1125,
    "start_time": "2021-07-30T17:12:52.939Z"
   },
   {
    "duration": -1127,
    "start_time": "2021-07-30T17:12:52.942Z"
   },
   {
    "duration": -1127,
    "start_time": "2021-07-30T17:12:52.944Z"
   },
   {
    "duration": -1129,
    "start_time": "2021-07-30T17:12:52.947Z"
   },
   {
    "duration": -1130,
    "start_time": "2021-07-30T17:12:52.950Z"
   },
   {
    "duration": -1131,
    "start_time": "2021-07-30T17:12:52.952Z"
   },
   {
    "duration": -1070,
    "start_time": "2021-07-30T17:12:52.955Z"
   },
   {
    "duration": -1071,
    "start_time": "2021-07-30T17:12:52.958Z"
   },
   {
    "duration": -1072,
    "start_time": "2021-07-30T17:12:52.960Z"
   },
   {
    "duration": -1073,
    "start_time": "2021-07-30T17:12:52.963Z"
   },
   {
    "duration": -1074,
    "start_time": "2021-07-30T17:12:52.966Z"
   },
   {
    "duration": -1084,
    "start_time": "2021-07-30T17:12:52.977Z"
   },
   {
    "duration": -1082,
    "start_time": "2021-07-30T17:12:52.980Z"
   },
   {
    "duration": -1081,
    "start_time": "2021-07-30T17:12:52.982Z"
   },
   {
    "duration": -1082,
    "start_time": "2021-07-30T17:12:52.985Z"
   },
   {
    "duration": -1082,
    "start_time": "2021-07-30T17:12:52.987Z"
   },
   {
    "duration": -1083,
    "start_time": "2021-07-30T17:12:52.990Z"
   },
   {
    "duration": 375,
    "start_time": "2021-07-30T17:12:51.992Z"
   },
   {
    "duration": 375,
    "start_time": "2021-07-30T17:12:53.247Z"
   },
   {
    "duration": 382,
    "start_time": "2021-07-30T17:12:54.268Z"
   },
   {
    "duration": 6,
    "start_time": "2021-07-30T17:12:57.822Z"
   },
   {
    "duration": 4754,
    "start_time": "2021-07-30T17:12:58.109Z"
   },
   {
    "duration": 30,
    "start_time": "2021-07-30T17:13:02.866Z"
   },
   {
    "duration": 171,
    "start_time": "2021-07-30T17:13:02.899Z"
   },
   {
    "duration": 161,
    "start_time": "2021-07-30T17:13:03.073Z"
   },
   {
    "duration": 274,
    "start_time": "2021-07-30T17:13:03.237Z"
   },
   {
    "duration": 125,
    "start_time": "2021-07-30T17:13:03.513Z"
   },
   {
    "duration": 49,
    "start_time": "2021-07-30T17:13:05.117Z"
   },
   {
    "duration": 539,
    "start_time": "2021-07-30T17:13:05.645Z"
   },
   {
    "duration": 598,
    "start_time": "2021-07-30T17:13:06.187Z"
   },
   {
    "duration": 136,
    "start_time": "2021-07-30T17:13:07.054Z"
   },
   {
    "duration": 53,
    "start_time": "2021-07-30T17:13:07.341Z"
   },
   {
    "duration": 52,
    "start_time": "2021-07-30T17:13:07.629Z"
   },
   {
    "duration": 1002,
    "start_time": "2021-07-30T17:13:08.692Z"
   },
   {
    "duration": 1659,
    "start_time": "2021-07-30T17:13:09.696Z"
   },
   {
    "duration": 86,
    "start_time": "2021-07-30T17:13:11.359Z"
   },
   {
    "duration": 307,
    "start_time": "2021-07-30T17:13:13.829Z"
   },
   {
    "duration": 6,
    "start_time": "2021-07-30T17:13:16.572Z"
   },
   {
    "duration": 14,
    "start_time": "2021-07-30T17:13:17.845Z"
   },
   {
    "duration": 70,
    "start_time": "2021-07-30T17:13:18.121Z"
   },
   {
    "duration": 411,
    "start_time": "2021-07-30T17:13:20.420Z"
   },
   {
    "duration": 671,
    "start_time": "2021-07-30T17:13:28.909Z"
   },
   {
    "duration": 134,
    "start_time": "2021-07-30T17:13:32.237Z"
   },
   {
    "duration": 117,
    "start_time": "2021-07-30T17:13:45.063Z"
   },
   {
    "duration": 33,
    "start_time": "2021-07-30T17:13:46.429Z"
   },
   {
    "duration": 646,
    "start_time": "2021-07-30T17:14:33.013Z"
   },
   {
    "duration": 300,
    "start_time": "2021-07-30T17:15:29.661Z"
   },
   {
    "duration": 853,
    "start_time": "2021-07-30T17:15:31.403Z"
   },
   {
    "duration": 21,
    "start_time": "2021-07-30T17:15:48.221Z"
   },
   {
    "duration": 992,
    "start_time": "2021-07-30T17:15:50.868Z"
   },
   {
    "duration": 7,
    "start_time": "2021-07-30T17:15:57.819Z"
   },
   {
    "duration": 24,
    "start_time": "2021-07-30T17:16:01.218Z"
   },
   {
    "duration": 470,
    "start_time": "2021-07-30T17:16:03.259Z"
   },
   {
    "duration": 617,
    "start_time": "2021-07-30T17:16:05.117Z"
   },
   {
    "duration": 5021,
    "start_time": "2021-07-30T17:16:29.707Z"
   },
   {
    "duration": 474,
    "start_time": "2021-07-30T17:16:43.683Z"
   },
   {
    "duration": 13,
    "start_time": "2021-07-30T17:16:45.898Z"
   },
   {
    "duration": 15,
    "start_time": "2021-07-30T17:16:52.042Z"
   },
   {
    "duration": 430,
    "start_time": "2021-07-30T17:16:52.981Z"
   },
   {
    "duration": 8,
    "start_time": "2021-07-30T17:17:11.290Z"
   },
   {
    "duration": 394,
    "start_time": "2021-07-30T17:17:52.642Z"
   },
   {
    "duration": 6,
    "start_time": "2021-07-30T17:21:33.159Z"
   },
   {
    "duration": 3687,
    "start_time": "2021-07-30T17:21:33.424Z"
   },
   {
    "duration": 21,
    "start_time": "2021-07-30T17:21:37.113Z"
   },
   {
    "duration": 179,
    "start_time": "2021-07-30T17:21:37.137Z"
   },
   {
    "duration": 167,
    "start_time": "2021-07-30T17:21:37.318Z"
   },
   {
    "duration": 222,
    "start_time": "2021-07-30T17:21:37.487Z"
   },
   {
    "duration": 138,
    "start_time": "2021-07-30T17:21:37.711Z"
   },
   {
    "duration": 66,
    "start_time": "2021-07-30T17:21:37.851Z"
   },
   {
    "duration": 614,
    "start_time": "2021-07-30T17:21:39.327Z"
   },
   {
    "duration": 681,
    "start_time": "2021-07-30T17:21:39.943Z"
   },
   {
    "duration": 126,
    "start_time": "2021-07-30T17:21:41.512Z"
   },
   {
    "duration": 55,
    "start_time": "2021-07-30T17:21:41.815Z"
   },
   {
    "duration": 55,
    "start_time": "2021-07-30T17:21:42.136Z"
   },
   {
    "duration": 932,
    "start_time": "2021-07-30T17:21:43.879Z"
   },
   {
    "duration": 2232,
    "start_time": "2021-07-30T17:21:45.656Z"
   },
   {
    "duration": 67,
    "start_time": "2021-07-30T17:21:47.891Z"
   },
   {
    "duration": 487,
    "start_time": "2021-07-30T17:21:47.961Z"
   },
   {
    "duration": 47,
    "start_time": "2021-07-30T17:22:17.319Z"
   },
   {
    "duration": 52,
    "start_time": "2021-07-30T17:22:22.336Z"
   },
   {
    "duration": 52,
    "start_time": "2021-07-30T17:22:29.280Z"
   },
   {
    "duration": 45,
    "start_time": "2021-07-30T17:22:37.111Z"
   },
   {
    "duration": 54,
    "start_time": "2021-07-30T17:22:58.312Z"
   },
   {
    "duration": 60,
    "start_time": "2021-07-30T17:23:15.369Z"
   },
   {
    "duration": 113,
    "start_time": "2021-07-30T17:27:21.185Z"
   },
   {
    "duration": 35,
    "start_time": "2021-07-30T17:27:22.340Z"
   },
   {
    "duration": 109,
    "start_time": "2021-07-30T17:37:54.180Z"
   },
   {
    "duration": 49,
    "start_time": "2021-07-30T17:37:54.975Z"
   },
   {
    "duration": 9648,
    "start_time": "2021-07-30T17:38:21.583Z"
   },
   {
    "duration": 6426,
    "start_time": "2021-07-30T17:38:49.877Z"
   },
   {
    "duration": 18,
    "start_time": "2021-07-30T17:39:00.478Z"
   },
   {
    "duration": 386,
    "start_time": "2021-07-30T17:39:12.878Z"
   },
   {
    "duration": 11,
    "start_time": "2021-07-30T17:39:18.173Z"
   },
   {
    "duration": 143,
    "start_time": "2021-07-30T17:39:52.837Z"
   },
   {
    "duration": 15,
    "start_time": "2021-07-30T17:39:54.212Z"
   },
   {
    "duration": 14,
    "start_time": "2021-07-30T17:40:13.566Z"
   },
   {
    "duration": 33,
    "start_time": "2021-07-30T17:40:41.718Z"
   },
   {
    "duration": -390,
    "start_time": "2021-07-30T17:41:10.201Z"
   },
   {
    "duration": 44,
    "start_time": "2021-07-30T17:41:13.700Z"
   },
   {
    "duration": 41,
    "start_time": "2021-07-30T17:43:12.387Z"
   },
   {
    "duration": 89,
    "start_time": "2021-07-30T17:44:31.128Z"
   },
   {
    "duration": 14,
    "start_time": "2021-07-30T17:44:31.986Z"
   },
   {
    "duration": 13,
    "start_time": "2021-07-30T17:44:54.913Z"
   },
   {
    "duration": 86,
    "start_time": "2021-07-30T17:46:46.785Z"
   },
   {
    "duration": 13,
    "start_time": "2021-07-30T17:46:48.272Z"
   },
   {
    "duration": 91,
    "start_time": "2021-07-30T17:47:28.280Z"
   },
   {
    "duration": 36,
    "start_time": "2021-07-30T17:47:29.679Z"
   },
   {
    "duration": 14,
    "start_time": "2021-07-30T17:47:42.135Z"
   },
   {
    "duration": 36,
    "start_time": "2021-07-30T17:47:44.080Z"
   },
   {
    "duration": 17,
    "start_time": "2021-07-30T17:47:48.600Z"
   },
   {
    "duration": 34,
    "start_time": "2021-07-30T17:49:13.390Z"
   },
   {
    "duration": 175,
    "start_time": "2021-07-30T17:52:15.179Z"
   },
   {
    "duration": 13,
    "start_time": "2021-07-30T17:52:33.978Z"
   },
   {
    "duration": 447,
    "start_time": "2021-07-30T17:53:22.709Z"
   },
   {
    "duration": 192,
    "start_time": "2021-07-30T17:53:30.371Z"
   },
   {
    "duration": 38,
    "start_time": "2021-07-30T17:53:33.354Z"
   },
   {
    "duration": 37,
    "start_time": "2021-07-30T17:53:43.437Z"
   },
   {
    "duration": 14,
    "start_time": "2021-07-30T17:54:24.717Z"
   },
   {
    "duration": 39,
    "start_time": "2021-07-30T17:54:30.579Z"
   },
   {
    "duration": 217,
    "start_time": "2021-07-30T17:56:59.904Z"
   },
   {
    "duration": 427,
    "start_time": "2021-07-30T17:57:14.081Z"
   },
   {
    "duration": 57,
    "start_time": "2021-07-30T17:57:30.609Z"
   },
   {
    "duration": 6,
    "start_time": "2021-07-30T17:57:45.208Z"
   },
   {
    "duration": 3251,
    "start_time": "2021-07-30T17:57:45.743Z"
   },
   {
    "duration": 21,
    "start_time": "2021-07-30T17:57:48.997Z"
   },
   {
    "duration": 176,
    "start_time": "2021-07-30T17:57:49.021Z"
   },
   {
    "duration": 163,
    "start_time": "2021-07-30T17:57:49.199Z"
   },
   {
    "duration": 204,
    "start_time": "2021-07-30T17:57:50.960Z"
   },
   {
    "duration": 118,
    "start_time": "2021-07-30T17:57:52.175Z"
   },
   {
    "duration": 46,
    "start_time": "2021-07-30T17:57:56.175Z"
   },
   {
    "duration": 535,
    "start_time": "2021-07-30T17:57:57.887Z"
   },
   {
    "duration": 577,
    "start_time": "2021-07-30T17:57:59.975Z"
   },
   {
    "duration": 123,
    "start_time": "2021-07-30T17:58:02.824Z"
   },
   {
    "duration": 68,
    "start_time": "2021-07-30T17:58:03.456Z"
   },
   {
    "duration": 46,
    "start_time": "2021-07-30T17:58:04.392Z"
   },
   {
    "duration": 52,
    "start_time": "2021-07-30T17:58:04.831Z"
   },
   {
    "duration": 919,
    "start_time": "2021-07-30T17:58:11.639Z"
   },
   {
    "duration": 1529,
    "start_time": "2021-07-30T17:58:13.078Z"
   },
   {
    "duration": 79,
    "start_time": "2021-07-30T17:58:14.609Z"
   },
   {
    "duration": 321,
    "start_time": "2021-07-30T17:58:21.567Z"
   },
   {
    "duration": 137,
    "start_time": "2021-07-30T17:58:53.359Z"
   },
   {
    "duration": 194,
    "start_time": "2021-07-30T17:58:56.407Z"
   },
   {
    "duration": 54,
    "start_time": "2021-07-30T17:58:57.495Z"
   },
   {
    "duration": 624,
    "start_time": "2021-07-30T17:59:10.487Z"
   },
   {
    "duration": 324,
    "start_time": "2021-07-30T17:59:30.566Z"
   },
   {
    "duration": 3480,
    "start_time": "2021-07-30T18:06:41.351Z"
   },
   {
    "duration": 21,
    "start_time": "2021-07-30T18:06:45.267Z"
   },
   {
    "duration": 152,
    "start_time": "2021-07-30T18:06:46.742Z"
   },
   {
    "duration": 146,
    "start_time": "2021-07-30T18:06:48.133Z"
   },
   {
    "duration": 211,
    "start_time": "2021-07-30T18:06:48.897Z"
   },
   {
    "duration": 118,
    "start_time": "2021-07-30T18:06:50.745Z"
   },
   {
    "duration": 52,
    "start_time": "2021-07-30T18:06:52.192Z"
   },
   {
    "duration": 508,
    "start_time": "2021-07-30T18:06:52.673Z"
   },
   {
    "duration": 568,
    "start_time": "2021-07-30T18:06:53.186Z"
   },
   {
    "duration": 132,
    "start_time": "2021-07-30T18:06:56.977Z"
   },
   {
    "duration": 53,
    "start_time": "2021-07-30T18:06:57.306Z"
   },
   {
    "duration": 47,
    "start_time": "2021-07-30T18:06:57.618Z"
   },
   {
    "duration": 53,
    "start_time": "2021-07-30T18:06:58.009Z"
   },
   {
    "duration": 1097,
    "start_time": "2021-07-30T18:07:02.248Z"
   },
   {
    "duration": 1551,
    "start_time": "2021-07-30T18:07:09.489Z"
   },
   {
    "duration": 66,
    "start_time": "2021-07-30T18:07:12.633Z"
   },
   {
    "duration": 320,
    "start_time": "2021-07-30T18:07:16.105Z"
   },
   {
    "duration": 6,
    "start_time": "2021-07-30T18:07:24.833Z"
   },
   {
    "duration": 13,
    "start_time": "2021-07-30T18:07:25.985Z"
   },
   {
    "duration": 6,
    "start_time": "2021-07-30T18:07:44.209Z"
   },
   {
    "duration": 99,
    "start_time": "2021-07-30T18:08:32.515Z"
   },
   {
    "duration": 13,
    "start_time": "2021-07-30T18:08:33.145Z"
   },
   {
    "duration": 138,
    "start_time": "2021-07-30T18:08:44.241Z"
   },
   {
    "duration": 133,
    "start_time": "2021-07-30T18:08:45.121Z"
   },
   {
    "duration": 233,
    "start_time": "2021-07-30T18:09:21.497Z"
   },
   {
    "duration": 128,
    "start_time": "2021-07-30T18:09:23.633Z"
   },
   {
    "duration": 236,
    "start_time": "2021-07-30T18:10:41.287Z"
   },
   {
    "duration": 55,
    "start_time": "2021-07-30T18:11:22.607Z"
   },
   {
    "duration": 207,
    "start_time": "2021-07-30T18:11:40.230Z"
   },
   {
    "duration": 65,
    "start_time": "2021-07-30T18:11:46.936Z"
   },
   {
    "duration": 209,
    "start_time": "2021-07-30T18:12:10.017Z"
   },
   {
    "duration": 52,
    "start_time": "2021-07-30T18:12:11.334Z"
   },
   {
    "duration": 2393,
    "start_time": "2021-07-30T18:13:16.173Z"
   },
   {
    "duration": 135,
    "start_time": "2021-07-30T18:14:13.491Z"
   },
   {
    "duration": 82,
    "start_time": "2021-07-30T18:14:30.821Z"
   },
   {
    "duration": 43,
    "start_time": "2021-07-30T18:14:58.687Z"
   },
   {
    "duration": 37,
    "start_time": "2021-07-30T18:15:05.929Z"
   },
   {
    "duration": 103,
    "start_time": "2021-07-30T18:15:38.052Z"
   },
   {
    "duration": 14,
    "start_time": "2021-07-30T18:15:39.317Z"
   },
   {
    "duration": 133,
    "start_time": "2021-07-30T18:15:52.340Z"
   },
   {
    "duration": 36,
    "start_time": "2021-07-30T18:15:53.453Z"
   },
   {
    "duration": 44,
    "start_time": "2021-07-30T18:15:57.422Z"
   },
   {
    "duration": 41,
    "start_time": "2021-07-30T18:16:10.557Z"
   },
   {
    "duration": 121,
    "start_time": "2021-07-30T18:17:44.659Z"
   },
   {
    "duration": 13,
    "start_time": "2021-07-30T18:17:46.051Z"
   },
   {
    "duration": 96,
    "start_time": "2021-07-30T18:18:00.715Z"
   },
   {
    "duration": 35,
    "start_time": "2021-07-30T18:18:01.666Z"
   },
   {
    "duration": 13,
    "start_time": "2021-07-30T18:18:10.212Z"
   },
   {
    "duration": 171,
    "start_time": "2021-07-30T18:18:27.534Z"
   },
   {
    "duration": 13,
    "start_time": "2021-07-30T18:18:30.770Z"
   },
   {
    "duration": 13,
    "start_time": "2021-07-30T18:18:35.764Z"
   },
   {
    "duration": 139,
    "start_time": "2021-07-30T18:19:25.073Z"
   },
   {
    "duration": 13,
    "start_time": "2021-07-30T18:19:28.682Z"
   },
   {
    "duration": 9,
    "start_time": "2021-07-30T18:19:54.715Z"
   },
   {
    "duration": 128,
    "start_time": "2021-07-30T18:20:51.369Z"
   },
   {
    "duration": 8,
    "start_time": "2021-07-30T18:20:52.808Z"
   },
   {
    "duration": 84,
    "start_time": "2021-07-30T18:21:59.215Z"
   },
   {
    "duration": 9,
    "start_time": "2021-07-30T18:22:00.999Z"
   },
   {
    "duration": 126,
    "start_time": "2021-07-30T18:22:24.275Z"
   },
   {
    "duration": 87,
    "start_time": "2021-07-30T18:22:28.423Z"
   },
   {
    "duration": 9,
    "start_time": "2021-07-30T18:22:29.374Z"
   },
   {
    "duration": 139,
    "start_time": "2021-07-30T18:22:45.479Z"
   },
   {
    "duration": 126,
    "start_time": "2021-07-30T18:22:46.762Z"
   },
   {
    "duration": 34,
    "start_time": "2021-07-30T18:22:56.598Z"
   },
   {
    "duration": 41,
    "start_time": "2021-07-30T18:23:00.505Z"
   },
   {
    "duration": 44,
    "start_time": "2021-07-30T18:23:03.569Z"
   },
   {
    "duration": 123,
    "start_time": "2021-07-30T18:23:16.839Z"
   },
   {
    "duration": 101,
    "start_time": "2021-07-30T18:23:57.359Z"
   },
   {
    "duration": 13,
    "start_time": "2021-07-30T18:23:58.602Z"
   },
   {
    "duration": 128,
    "start_time": "2021-07-30T18:24:06.678Z"
   },
   {
    "duration": 130,
    "start_time": "2021-07-30T18:24:08.430Z"
   },
   {
    "duration": 43,
    "start_time": "2021-07-30T18:24:11.727Z"
   },
   {
    "duration": 36,
    "start_time": "2021-07-30T18:24:24.896Z"
   },
   {
    "duration": 153,
    "start_time": "2021-07-30T18:25:04.039Z"
   },
   {
    "duration": 127,
    "start_time": "2021-07-30T18:25:06.773Z"
   },
   {
    "duration": 141,
    "start_time": "2021-07-30T18:25:26.916Z"
   },
   {
    "duration": 129,
    "start_time": "2021-07-30T18:25:27.837Z"
   },
   {
    "duration": 35,
    "start_time": "2021-07-30T18:25:31.655Z"
   },
   {
    "duration": 38,
    "start_time": "2021-07-30T18:25:35.007Z"
   },
   {
    "duration": 35,
    "start_time": "2021-07-30T18:25:42.448Z"
   },
   {
    "duration": 187,
    "start_time": "2021-07-30T18:26:17.085Z"
   },
   {
    "duration": 122,
    "start_time": "2021-07-30T18:26:18.725Z"
   },
   {
    "duration": 36,
    "start_time": "2021-07-30T18:26:21.637Z"
   },
   {
    "duration": 13,
    "start_time": "2021-07-30T18:26:28.519Z"
   },
   {
    "duration": 38,
    "start_time": "2021-07-30T18:26:33.726Z"
   },
   {
    "duration": 34,
    "start_time": "2021-07-30T18:26:36.382Z"
   },
   {
    "duration": 14,
    "start_time": "2021-07-30T18:26:43.744Z"
   },
   {
    "duration": 34,
    "start_time": "2021-07-30T18:26:47.109Z"
   },
   {
    "duration": 14,
    "start_time": "2021-07-30T18:26:51.542Z"
   },
   {
    "duration": 182,
    "start_time": "2021-07-30T18:27:04.211Z"
   },
   {
    "duration": 627,
    "start_time": "2021-07-30T18:27:09.136Z"
   },
   {
    "duration": 387,
    "start_time": "2021-07-30T18:27:34.852Z"
   },
   {
    "duration": 825,
    "start_time": "2021-07-30T18:27:37.547Z"
   },
   {
    "duration": 62,
    "start_time": "2021-07-30T18:27:41.994Z"
   },
   {
    "duration": 1144,
    "start_time": "2021-07-30T18:27:43.725Z"
   },
   {
    "duration": 8,
    "start_time": "2021-07-30T18:27:46.091Z"
   },
   {
    "duration": 58,
    "start_time": "2021-07-30T18:27:49.507Z"
   },
   {
    "duration": 508,
    "start_time": "2021-07-30T18:27:51.378Z"
   },
   {
    "duration": 410,
    "start_time": "2021-07-30T18:27:54.434Z"
   },
   {
    "duration": 411,
    "start_time": "2021-07-30T18:28:09.005Z"
   },
   {
    "duration": 415,
    "start_time": "2021-07-30T18:28:56.877Z"
   },
   {
    "duration": 418,
    "start_time": "2021-07-30T18:29:32.453Z"
   },
   {
    "duration": 12,
    "start_time": "2021-07-30T18:29:47.300Z"
   },
   {
    "duration": 11,
    "start_time": "2021-07-30T18:30:02.452Z"
   },
   {
    "duration": 7,
    "start_time": "2021-07-30T18:31:36.729Z"
   },
   {
    "duration": 20,
    "start_time": "2021-07-30T18:31:39.178Z"
   },
   {
    "duration": 405,
    "start_time": "2021-07-30T18:31:43.017Z"
   },
   {
    "duration": 5,
    "start_time": "2021-07-30T18:31:54.202Z"
   },
   {
    "duration": 11,
    "start_time": "2021-07-30T18:32:20.984Z"
   },
   {
    "duration": 380,
    "start_time": "2021-07-30T18:32:23.425Z"
   },
   {
    "duration": 362,
    "start_time": "2021-07-30T18:32:27.472Z"
   },
   {
    "duration": 16,
    "start_time": "2021-07-30T18:32:31.248Z"
   },
   {
    "duration": 41,
    "start_time": "2021-07-30T18:32:31.913Z"
   },
   {
    "duration": 6273,
    "start_time": "2021-07-30T18:32:35.321Z"
   },
   {
    "duration": 22,
    "start_time": "2021-07-30T18:32:41.596Z"
   },
   {
    "duration": 25,
    "start_time": "2021-07-30T18:32:41.621Z"
   },
   {
    "duration": 56,
    "start_time": "2021-07-30T18:32:41.650Z"
   },
   {
    "duration": 103,
    "start_time": "2021-07-30T18:32:41.709Z"
   },
   {
    "duration": 22,
    "start_time": "2021-07-30T18:32:41.814Z"
   },
   {
    "duration": 116,
    "start_time": "2021-07-30T18:32:41.839Z"
   },
   {
    "duration": 406,
    "start_time": "2021-07-30T18:32:42.823Z"
   },
   {
    "duration": 488,
    "start_time": "2021-07-30T18:32:43.416Z"
   },
   {
    "duration": 409,
    "start_time": "2021-07-30T18:32:45.103Z"
   },
   {
    "duration": 359,
    "start_time": "2021-07-30T18:32:45.608Z"
   },
   {
    "duration": 43,
    "start_time": "2021-07-30T18:32:48.559Z"
   },
   {
    "duration": 487,
    "start_time": "2021-07-30T18:32:49.103Z"
   },
   {
    "duration": 40,
    "start_time": "2021-07-30T18:32:49.672Z"
   },
   {
    "duration": 38,
    "start_time": "2021-07-30T18:32:55.015Z"
   },
   {
    "duration": 485,
    "start_time": "2021-07-30T18:32:56.775Z"
   },
   {
    "duration": 26,
    "start_time": "2021-07-30T18:32:57.263Z"
   },
   {
    "duration": 38,
    "start_time": "2021-07-30T18:32:59.231Z"
   },
   {
    "duration": 264,
    "start_time": "2021-07-30T18:33:00.303Z"
   },
   {
    "duration": 88,
    "start_time": "2021-07-30T18:33:02.087Z"
   },
   {
    "duration": 43,
    "start_time": "2021-07-30T18:33:02.735Z"
   },
   {
    "duration": 44,
    "start_time": "2021-07-30T18:33:04.200Z"
   },
   {
    "duration": 80,
    "start_time": "2021-07-30T18:33:04.727Z"
   },
   {
    "duration": 31,
    "start_time": "2021-07-30T18:33:05.287Z"
   },
   {
    "duration": 6,
    "start_time": "2021-07-30T18:33:12.449Z"
   },
   {
    "duration": 685,
    "start_time": "2021-07-30T18:33:14.928Z"
   },
   {
    "duration": 3,
    "start_time": "2021-07-30T18:33:18.455Z"
   },
   {
    "duration": 4,
    "start_time": "2021-07-30T18:33:19.512Z"
   },
   {
    "duration": 2032,
    "start_time": "2021-07-30T18:33:20.728Z"
   },
   {
    "duration": 336,
    "start_time": "2021-07-30T18:33:22.763Z"
   },
   {
    "duration": 615,
    "start_time": "2021-07-30T18:33:23.662Z"
   },
   {
    "duration": 47,
    "start_time": "2021-07-30T18:33:24.360Z"
   },
   {
    "duration": 6,
    "start_time": "2021-07-30T18:33:25.801Z"
   },
   {
    "duration": 1396,
    "start_time": "2021-07-30T18:33:28.015Z"
   },
   {
    "duration": 52,
    "start_time": "2021-07-30T18:33:29.413Z"
   },
   {
    "duration": 5,
    "start_time": "2021-07-30T18:33:31.583Z"
   },
   {
    "duration": 402,
    "start_time": "2021-07-30T18:33:40.064Z"
   },
   {
    "duration": 3,
    "start_time": "2021-07-30T18:33:43.416Z"
   },
   {
    "duration": 23908,
    "start_time": "2021-07-30T18:33:44.583Z"
   },
   {
    "duration": 95,
    "start_time": "2021-07-30T18:34:08.494Z"
   },
   {
    "duration": 9705,
    "start_time": "2021-07-30T18:34:15.087Z"
   },
   {
    "duration": 6,
    "start_time": "2021-07-30T18:34:41.759Z"
   },
   {
    "duration": 1589,
    "start_time": "2021-07-30T18:36:09.841Z"
   },
   {
    "duration": 3529,
    "start_time": "2021-07-30T18:36:11.434Z"
   },
   {
    "duration": 34,
    "start_time": "2021-07-30T18:36:14.970Z"
   },
   {
    "duration": 179,
    "start_time": "2021-07-30T18:36:15.006Z"
   },
   {
    "duration": 155,
    "start_time": "2021-07-30T18:36:15.188Z"
   },
   {
    "duration": 246,
    "start_time": "2021-07-30T18:36:15.346Z"
   },
   {
    "duration": 137,
    "start_time": "2021-07-30T18:36:15.597Z"
   },
   {
    "duration": 65,
    "start_time": "2021-07-30T18:36:15.736Z"
   },
   {
    "duration": 582,
    "start_time": "2021-07-30T18:36:15.804Z"
   },
   {
    "duration": 663,
    "start_time": "2021-07-30T18:36:16.389Z"
   },
   {
    "duration": 168,
    "start_time": "2021-07-30T18:36:17.055Z"
   },
   {
    "duration": 61,
    "start_time": "2021-07-30T18:36:17.225Z"
   },
   {
    "duration": 44,
    "start_time": "2021-07-30T18:36:17.289Z"
   },
   {
    "duration": 70,
    "start_time": "2021-07-30T18:36:17.336Z"
   },
   {
    "duration": 917,
    "start_time": "2021-07-30T18:36:17.408Z"
   },
   {
    "duration": 1585,
    "start_time": "2021-07-30T18:36:18.328Z"
   },
   {
    "duration": 88,
    "start_time": "2021-07-30T18:36:19.915Z"
   },
   {
    "duration": 309,
    "start_time": "2021-07-30T18:36:20.005Z"
   },
   {
    "duration": 12,
    "start_time": "2021-07-30T18:36:20.317Z"
   },
   {
    "duration": 197,
    "start_time": "2021-07-30T18:36:20.331Z"
   },
   {
    "duration": 5,
    "start_time": "2021-07-30T18:36:20.530Z"
   },
   {
    "duration": 347,
    "start_time": "2021-07-30T18:36:20.542Z"
   },
   {
    "duration": 645,
    "start_time": "2021-07-30T18:36:20.893Z"
   },
   {
    "duration": 366,
    "start_time": "2021-07-30T18:36:21.541Z"
   },
   {
    "duration": 840,
    "start_time": "2021-07-30T18:36:21.910Z"
   },
   {
    "duration": 73,
    "start_time": "2021-07-30T18:36:22.753Z"
   },
   {
    "duration": 921,
    "start_time": "2021-07-30T18:36:22.828Z"
   },
   {
    "duration": 6,
    "start_time": "2021-07-30T18:36:23.752Z"
   },
   {
    "duration": 75,
    "start_time": "2021-07-30T18:36:23.761Z"
   },
   {
    "duration": 615,
    "start_time": "2021-07-30T18:36:23.838Z"
   },
   {
    "duration": 409,
    "start_time": "2021-07-30T18:36:24.456Z"
   },
   {
    "duration": 19,
    "start_time": "2021-07-30T18:36:24.868Z"
   },
   {
    "duration": 15,
    "start_time": "2021-07-30T18:36:24.889Z"
   },
   {
    "duration": 23,
    "start_time": "2021-07-30T18:36:24.906Z"
   },
   {
    "duration": 500,
    "start_time": "2021-07-30T18:36:24.931Z"
   },
   {
    "duration": 12,
    "start_time": "2021-07-30T18:36:25.434Z"
   },
   {
    "duration": 426,
    "start_time": "2021-07-30T18:36:25.449Z"
   },
   {
    "duration": 373,
    "start_time": "2021-07-30T18:36:25.886Z"
   },
   {
    "duration": 24,
    "start_time": "2021-07-30T18:36:26.262Z"
   },
   {
    "duration": 43,
    "start_time": "2021-07-30T18:36:26.288Z"
   },
   {
    "duration": 6391,
    "start_time": "2021-07-30T18:36:26.334Z"
   },
   {
    "duration": 20,
    "start_time": "2021-07-30T18:36:32.727Z"
   },
   {
    "duration": 43,
    "start_time": "2021-07-30T18:36:32.750Z"
   },
   {
    "duration": 33,
    "start_time": "2021-07-30T18:36:32.795Z"
   },
   {
    "duration": 103,
    "start_time": "2021-07-30T18:36:32.831Z"
   },
   {
    "duration": 22,
    "start_time": "2021-07-30T18:36:32.937Z"
   },
   {
    "duration": 127,
    "start_time": "2021-07-30T18:36:32.962Z"
   },
   {
    "duration": 419,
    "start_time": "2021-07-30T18:36:33.091Z"
   },
   {
    "duration": 514,
    "start_time": "2021-07-30T18:36:33.512Z"
   },
   {
    "duration": 429,
    "start_time": "2021-07-30T18:36:34.029Z"
   },
   {
    "duration": 498,
    "start_time": "2021-07-30T18:36:34.461Z"
   },
   {
    "duration": 42,
    "start_time": "2021-07-30T18:36:34.962Z"
   },
   {
    "duration": 520,
    "start_time": "2021-07-30T18:36:35.007Z"
   },
   {
    "duration": 20,
    "start_time": "2021-07-30T18:36:35.530Z"
   },
   {
    "duration": 57,
    "start_time": "2021-07-30T18:36:35.553Z"
   },
   {
    "duration": 506,
    "start_time": "2021-07-30T18:36:35.613Z"
   },
   {
    "duration": 20,
    "start_time": "2021-07-30T18:36:36.122Z"
   },
   {
    "duration": 58,
    "start_time": "2021-07-30T18:36:36.145Z"
   },
   {
    "duration": 285,
    "start_time": "2021-07-30T18:36:36.206Z"
   },
   {
    "duration": 103,
    "start_time": "2021-07-30T18:36:36.494Z"
   },
   {
    "duration": 43,
    "start_time": "2021-07-30T18:36:36.600Z"
   },
   {
    "duration": 63,
    "start_time": "2021-07-30T18:36:36.646Z"
   },
   {
    "duration": 87,
    "start_time": "2021-07-30T18:36:36.712Z"
   },
   {
    "duration": 29,
    "start_time": "2021-07-30T18:36:36.802Z"
   },
   {
    "duration": 7,
    "start_time": "2021-07-30T18:36:36.834Z"
   },
   {
    "duration": 667,
    "start_time": "2021-07-30T18:36:36.843Z"
   },
   {
    "duration": 3,
    "start_time": "2021-07-30T18:36:37.519Z"
   },
   {
    "duration": 10,
    "start_time": "2021-07-30T18:36:37.526Z"
   },
   {
    "duration": 1697,
    "start_time": "2021-07-30T18:36:37.538Z"
   },
   {
    "duration": 358,
    "start_time": "2021-07-30T18:36:39.237Z"
   },
   {
    "duration": 611,
    "start_time": "2021-07-30T18:36:39.597Z"
   },
   {
    "duration": 48,
    "start_time": "2021-07-30T18:36:40.211Z"
   },
   {
    "duration": 5,
    "start_time": "2021-07-30T18:36:40.262Z"
   },
   {
    "duration": 1488,
    "start_time": "2021-07-30T18:36:40.269Z"
   },
   {
    "duration": 62,
    "start_time": "2021-07-30T18:36:41.760Z"
   },
   {
    "duration": 91,
    "start_time": "2021-07-30T18:36:41.824Z"
   },
   {
    "duration": 156,
    "start_time": "2021-07-30T18:36:41.918Z"
   },
   {
    "duration": 24209,
    "start_time": "2021-07-30T18:36:42.077Z"
   },
   {
    "duration": 96,
    "start_time": "2021-07-30T18:37:06.290Z"
   },
   {
    "duration": 13197,
    "start_time": "2021-07-30T18:37:06.389Z"
   },
   {
    "duration": 1732,
    "start_time": "2021-07-30T18:37:40.959Z"
   },
   {
    "duration": 3383,
    "start_time": "2021-07-30T18:37:42.695Z"
   },
   {
    "duration": 25,
    "start_time": "2021-07-30T18:37:46.081Z"
   },
   {
    "duration": 184,
    "start_time": "2021-07-30T18:37:46.109Z"
   },
   {
    "duration": 170,
    "start_time": "2021-07-30T18:37:46.297Z"
   },
   {
    "duration": 242,
    "start_time": "2021-07-30T18:37:46.470Z"
   },
   {
    "duration": 129,
    "start_time": "2021-07-30T18:37:46.714Z"
   },
   {
    "duration": 73,
    "start_time": "2021-07-30T18:37:46.845Z"
   },
   {
    "duration": 573,
    "start_time": "2021-07-30T18:37:46.922Z"
   },
   {
    "duration": 661,
    "start_time": "2021-07-30T18:37:47.498Z"
   },
   {
    "duration": 165,
    "start_time": "2021-07-30T18:37:48.162Z"
   },
   {
    "duration": 60,
    "start_time": "2021-07-30T18:37:48.330Z"
   },
   {
    "duration": 45,
    "start_time": "2021-07-30T18:37:48.393Z"
   },
   {
    "duration": 75,
    "start_time": "2021-07-30T18:37:48.441Z"
   },
   {
    "duration": 933,
    "start_time": "2021-07-30T18:37:48.519Z"
   },
   {
    "duration": 1600,
    "start_time": "2021-07-30T18:37:49.455Z"
   },
   {
    "duration": 94,
    "start_time": "2021-07-30T18:37:51.058Z"
   },
   {
    "duration": 324,
    "start_time": "2021-07-30T18:37:51.155Z"
   },
   {
    "duration": 13,
    "start_time": "2021-07-30T18:37:51.482Z"
   },
   {
    "duration": 210,
    "start_time": "2021-07-30T18:37:51.497Z"
   },
   {
    "duration": 5,
    "start_time": "2021-07-30T18:37:51.710Z"
   },
   {
    "duration": 347,
    "start_time": "2021-07-30T18:37:51.718Z"
   },
   {
    "duration": 622,
    "start_time": "2021-07-30T18:37:52.068Z"
   },
   {
    "duration": 357,
    "start_time": "2021-07-30T18:37:52.693Z"
   },
   {
    "duration": 847,
    "start_time": "2021-07-30T18:37:53.053Z"
   },
   {
    "duration": 64,
    "start_time": "2021-07-30T18:37:53.903Z"
   },
   {
    "duration": 939,
    "start_time": "2021-07-30T18:37:53.991Z"
   },
   {
    "duration": 7,
    "start_time": "2021-07-30T18:37:54.935Z"
   },
   {
    "duration": 84,
    "start_time": "2021-07-30T18:37:54.944Z"
   },
   {
    "duration": 610,
    "start_time": "2021-07-30T18:37:55.031Z"
   },
   {
    "duration": 418,
    "start_time": "2021-07-30T18:37:55.644Z"
   },
   {
    "duration": 23,
    "start_time": "2021-07-30T18:37:56.064Z"
   },
   {
    "duration": 14,
    "start_time": "2021-07-30T18:37:56.089Z"
   },
   {
    "duration": 23,
    "start_time": "2021-07-30T18:37:56.105Z"
   },
   {
    "duration": 434,
    "start_time": "2021-07-30T18:37:56.131Z"
   },
   {
    "duration": 20,
    "start_time": "2021-07-30T18:37:56.568Z"
   },
   {
    "duration": 404,
    "start_time": "2021-07-30T18:37:56.591Z"
   },
   {
    "duration": 377,
    "start_time": "2021-07-30T18:37:56.998Z"
   },
   {
    "duration": 20,
    "start_time": "2021-07-30T18:37:57.378Z"
   },
   {
    "duration": 38,
    "start_time": "2021-07-30T18:37:57.401Z"
   },
   {
    "duration": 6345,
    "start_time": "2021-07-30T18:37:57.442Z"
   },
   {
    "duration": 22,
    "start_time": "2021-07-30T18:38:03.789Z"
   },
   {
    "duration": 46,
    "start_time": "2021-07-30T18:38:03.814Z"
   },
   {
    "duration": 36,
    "start_time": "2021-07-30T18:38:03.863Z"
   },
   {
    "duration": 134,
    "start_time": "2021-07-30T18:38:03.904Z"
   },
   {
    "duration": 30,
    "start_time": "2021-07-30T18:38:04.042Z"
   },
   {
    "duration": 129,
    "start_time": "2021-07-30T18:38:04.085Z"
   },
   {
    "duration": 439,
    "start_time": "2021-07-30T18:38:04.217Z"
   },
   {
    "duration": 489,
    "start_time": "2021-07-30T18:38:04.659Z"
   },
   {
    "duration": 421,
    "start_time": "2021-07-30T18:38:05.150Z"
   },
   {
    "duration": 406,
    "start_time": "2021-07-30T18:38:05.574Z"
   },
   {
    "duration": 41,
    "start_time": "2021-07-30T18:38:05.986Z"
   },
   {
    "duration": 521,
    "start_time": "2021-07-30T18:38:06.029Z"
   },
   {
    "duration": 20,
    "start_time": "2021-07-30T18:38:06.553Z"
   },
   {
    "duration": 41,
    "start_time": "2021-07-30T18:38:06.587Z"
   },
   {
    "duration": 507,
    "start_time": "2021-07-30T18:38:06.630Z"
   },
   {
    "duration": 18,
    "start_time": "2021-07-30T18:38:07.139Z"
   },
   {
    "duration": 58,
    "start_time": "2021-07-30T18:38:07.160Z"
   },
   {
    "duration": 282,
    "start_time": "2021-07-30T18:38:07.220Z"
   },
   {
    "duration": 99,
    "start_time": "2021-07-30T18:38:07.505Z"
   },
   {
    "duration": 42,
    "start_time": "2021-07-30T18:38:07.607Z"
   },
   {
    "duration": 63,
    "start_time": "2021-07-30T18:38:07.651Z"
   },
   {
    "duration": 87,
    "start_time": "2021-07-30T18:38:07.716Z"
   },
   {
    "duration": 30,
    "start_time": "2021-07-30T18:38:07.805Z"
   },
   {
    "duration": 6,
    "start_time": "2021-07-30T18:38:07.837Z"
   },
   {
    "duration": 705,
    "start_time": "2021-07-30T18:38:07.845Z"
   },
   {
    "duration": 4,
    "start_time": "2021-07-30T18:38:08.552Z"
   },
   {
    "duration": 7,
    "start_time": "2021-07-30T18:38:08.558Z"
   },
   {
    "duration": 1848,
    "start_time": "2021-07-30T18:38:08.584Z"
   },
   {
    "duration": 356,
    "start_time": "2021-07-30T18:38:10.434Z"
   },
   {
    "duration": 574,
    "start_time": "2021-07-30T18:38:10.793Z"
   },
   {
    "duration": 54,
    "start_time": "2021-07-30T18:38:11.370Z"
   },
   {
    "duration": 6,
    "start_time": "2021-07-30T18:38:11.426Z"
   },
   {
    "duration": 1488,
    "start_time": "2021-07-30T18:38:11.434Z"
   },
   {
    "duration": 66,
    "start_time": "2021-07-30T18:38:12.924Z"
   },
   {
    "duration": 6,
    "start_time": "2021-07-30T18:38:12.992Z"
   },
   {
    "duration": 10,
    "start_time": "2021-07-30T18:38:13.001Z"
   },
   {
    "duration": 24979,
    "start_time": "2021-07-30T18:38:13.013Z"
   },
   {
    "duration": 7,
    "start_time": "2021-07-30T18:38:38.086Z"
   },
   {
    "duration": 9601,
    "start_time": "2021-07-30T18:38:38.096Z"
   },
   {
    "duration": 573217,
    "start_time": "2021-07-30T18:38:47.705Z"
   },
   {
    "duration": 6,
    "start_time": "2021-07-30T18:48:20.924Z"
   },
   {
    "duration": 1613763,
    "start_time": "2021-07-30T18:48:20.934Z"
   },
   {
    "duration": 5,
    "start_time": "2021-07-30T19:15:14.699Z"
   },
   {
    "duration": 24000,
    "start_time": "2021-07-30T19:15:14.714Z"
   },
   {
    "duration": 5,
    "start_time": "2021-07-30T19:15:38.716Z"
   },
   {
    "duration": 10,
    "start_time": "2021-07-30T19:15:38.723Z"
   },
   {
    "duration": 6463451,
    "start_time": "2021-07-30T19:15:38.735Z"
   },
   {
    "duration": 630018,
    "start_time": "2021-07-30T21:03:22.188Z"
   },
   {
    "duration": 5,
    "start_time": "2021-07-30T21:13:52.208Z"
   },
   {
    "duration": 587,
    "start_time": "2021-07-30T21:13:52.216Z"
   },
   {
    "duration": -553,
    "start_time": "2021-07-30T21:13:53.358Z"
   },
   {
    "duration": 5,
    "start_time": "2021-07-30T22:45:18.605Z"
   },
   {
    "duration": 11,
    "start_time": "2021-07-30T22:45:20.304Z"
   }
  ],
  "kernelspec": {
   "display_name": "Python 3",
   "language": "python",
   "name": "python3"
  },
  "language_info": {
   "codemirror_mode": {
    "name": "ipython",
    "version": 3
   },
   "file_extension": ".py",
   "mimetype": "text/x-python",
   "name": "python",
   "nbconvert_exporter": "python",
   "pygments_lexer": "ipython3",
   "version": "3.7.8"
  },
  "toc": {
   "base_numbering": 1,
   "nav_menu": {},
   "number_sections": true,
   "sideBar": true,
   "skip_h1_title": true,
   "title_cell": "Table of Contents",
   "title_sidebar": "Contents",
   "toc_cell": false,
   "toc_position": {
    "height": "calc(100% - 180px)",
    "left": "10px",
    "top": "150px",
    "width": "358.391px"
   },
   "toc_section_display": true,
   "toc_window_display": true
  }
 },
 "nbformat": 4,
 "nbformat_minor": 2
}
