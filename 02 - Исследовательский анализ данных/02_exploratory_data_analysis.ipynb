{
 "cells": [
  {
   "cell_type": "markdown",
   "source": [
    "<h1>Содержание<span class=\"tocSkip\"></span></h1>\n",
    "<div class=\"toc\"><ul class=\"toc-item\"><li><span><a href=\"#Изучение-данных-из-файла\" data-toc-modified-id=\"Изучение-данных-из-файла-1\"><span class=\"toc-item-num\">1&nbsp;&nbsp;</span>Изучение данных из файла</a></span><ul class=\"toc-item\"><li><span><a href=\"#Вывод\" data-toc-modified-id=\"Вывод-1.1\"><span class=\"toc-item-num\">1.1&nbsp;&nbsp;</span>Вывод</a></span></li></ul></li><li><span><a href=\"#Предобработка-данных\" data-toc-modified-id=\"Предобработка-данных-2\"><span class=\"toc-item-num\">2&nbsp;&nbsp;</span>Предобработка данных</a></span><ul class=\"toc-item\"><li><span><a href=\"#Вывод\" data-toc-modified-id=\"Вывод-2.1\"><span class=\"toc-item-num\">2.1&nbsp;&nbsp;</span>Вывод</a></span></li></ul></li><li><span><a href=\"#Рассчёты-и-добавление-результатов-в-таблицу\" data-toc-modified-id=\"Рассчёты-и-добавление-результатов-в-таблицу-3\"><span class=\"toc-item-num\">3&nbsp;&nbsp;</span>Рассчёты и добавление результатов в таблицу</a></span><ul class=\"toc-item\"><li><span><a href=\"#Вывод\" data-toc-modified-id=\"Вывод-3.1\"><span class=\"toc-item-num\">3.1&nbsp;&nbsp;</span>Вывод</a></span></li></ul></li><li><span><a href=\"#Исследовательский-анализ-данных\" data-toc-modified-id=\"Исследовательский-анализ-данных-4\"><span class=\"toc-item-num\">4&nbsp;&nbsp;</span>Исследовательский анализ данных</a></span><ul class=\"toc-item\"><li><span><a href=\"#Изучим-параметры:-площадь,-цена,-число-комнат,-высота-потолков\" data-toc-modified-id=\"Изучим-параметры:-площадь,-цена,-число-комнат,-высота-потолков-4.1\"><span class=\"toc-item-num\">4.1&nbsp;&nbsp;</span>Изучим параметры: площадь, цена, число комнат, высота потолков</a></span><ul class=\"toc-item\"><li><span><a href=\"#Изучим-параметр-&quot;total_area&quot;-—-площадь-квартиры-в-квадратных-метрах.\" data-toc-modified-id=\"Изучим-параметр-&quot;total_area&quot;-—-площадь-квартиры-в-квадратных-метрах.-4.1.1\"><span class=\"toc-item-num\">4.1.1&nbsp;&nbsp;</span>Изучим параметр \"total_area\" — площадь квартиры в квадратных метрах.</a></span></li><li><span><a href=\"#Изучим-параметр-&quot;last_price&quot;-—-цена-в-млн.-на-момент-снятия-с-публикации.\" data-toc-modified-id=\"Изучим-параметр-&quot;last_price&quot;-—-цена-в-млн.-на-момент-снятия-с-публикации.-4.1.2\"><span class=\"toc-item-num\">4.1.2&nbsp;&nbsp;</span>Изучим параметр \"last_price\" — цена в млн. на момент снятия с публикации.</a></span></li><li><span><a href=\"#Изучим-параметр-&quot;rooms&quot;-—-число-комнат.\" data-toc-modified-id=\"Изучим-параметр-&quot;rooms&quot;-—-число-комнат.-4.1.3\"><span class=\"toc-item-num\">4.1.3&nbsp;&nbsp;</span>Изучим параметр \"rooms\" — число комнат.</a></span></li><li><span><a href=\"#Изучим-параметр-&quot;ceiling_height&quot;-—-высота-потолков-(м).\" data-toc-modified-id=\"Изучим-параметр-&quot;ceiling_height&quot;-—-высота-потолков-(м).-4.1.4\"><span class=\"toc-item-num\">4.1.4&nbsp;&nbsp;</span>Изучим параметр \"ceiling_height\" — высота потолков (м).</a></span></li><li><span><a href=\"#Вывод-по-анализу-параметров:-площадь,-цена,-число-комнат,-высота-потолков\" data-toc-modified-id=\"Вывод-по-анализу-параметров:-площадь,-цена,-число-комнат,-высота-потолков-4.1.5\"><span class=\"toc-item-num\">4.1.5&nbsp;&nbsp;</span>Вывод по анализу параметров: площадь, цена, число комнат, высота потолков</a></span></li></ul></li><li><span><a href=\"#Изучим-время-продажи-квартир.\" data-toc-modified-id=\"Изучим-время-продажи-квартир.-4.2\"><span class=\"toc-item-num\">4.2&nbsp;&nbsp;</span>Изучим время продажи квартир.</a></span><ul class=\"toc-item\"><li><span><a href=\"#Построим-гистограмму-и-диграмму-размаха.\" data-toc-modified-id=\"Построим-гистограмму-и-диграмму-размаха.-4.2.1\"><span class=\"toc-item-num\">4.2.1&nbsp;&nbsp;</span>Построим гистограмму и диграмму размаха.</a></span></li><li><span><a href=\"#Вывод-по-анализу-времени-продажи-квартиры\" data-toc-modified-id=\"Вывод-по-анализу-времени-продажи-квартиры-4.2.2\"><span class=\"toc-item-num\">4.2.2&nbsp;&nbsp;</span>Вывод по анализу времени продажи квартиры</a></span></li></ul></li><li><span><a href=\"#Уберем-редкие-и-выбивающиеся-значения.\" data-toc-modified-id=\"Уберем-редкие-и-выбивающиеся-значения.-4.3\"><span class=\"toc-item-num\">4.3&nbsp;&nbsp;</span>Уберем редкие и выбивающиеся значения.</a></span><ul class=\"toc-item\"><li><span><a href=\"#Вывод\" data-toc-modified-id=\"Вывод-4.3.1\"><span class=\"toc-item-num\">4.3.1&nbsp;&nbsp;</span>Вывод</a></span></li></ul></li><li><span><a href=\"#Факторы,-которые-больше-всего-влияют-на-стоимость-квартиры.\" data-toc-modified-id=\"Факторы,-которые-больше-всего-влияют-на-стоимость-квартиры.-4.4\"><span class=\"toc-item-num\">4.4&nbsp;&nbsp;</span>Факторы, которые больше всего влияют на стоимость квартиры.</a></span><ul class=\"toc-item\"><li><span><a href=\"#Зависимость-цены-от-площади-квартиры,-числа-комнат,-этажа,-удалённости-от-центра.\" data-toc-modified-id=\"Зависимость-цены-от-площади-квартиры,-числа-комнат,-этажа,-удалённости-от-центра.-4.4.1\"><span class=\"toc-item-num\">4.4.1&nbsp;&nbsp;</span>Зависимость цены от площади квартиры, числа комнат, этажа, удалённости от центра.</a></span><ul class=\"toc-item\"><li><span><a href=\"#Зависимость-цены-от-площади-квартиры\" data-toc-modified-id=\"Зависимость-цены-от-площади-квартиры-4.4.1.1\"><span class=\"toc-item-num\">4.4.1.1&nbsp;&nbsp;</span>Зависимость цены от площади квартиры</a></span></li><li><span><a href=\"#Зависимость-цены-от-числа-комнат\" data-toc-modified-id=\"Зависимость-цены-от-числа-комнат-4.4.1.2\"><span class=\"toc-item-num\">4.4.1.2&nbsp;&nbsp;</span>Зависимость цены от числа комнат</a></span></li><li><span><a href=\"#Зависимость-от-этажа\" data-toc-modified-id=\"Зависимость-от-этажа-4.4.1.3\"><span class=\"toc-item-num\">4.4.1.3&nbsp;&nbsp;</span>Зависимость от этажа</a></span></li><li><span><a href=\"#Зависимость-от-удаленности-от-центра\" data-toc-modified-id=\"Зависимость-от-удаленности-от-центра-4.4.1.4\"><span class=\"toc-item-num\">4.4.1.4&nbsp;&nbsp;</span>Зависимость от удаленности от центра</a></span></li><li><span><a href=\"#Зависимость-цены-квартиры-от-даты-размещения-объявления.\" data-toc-modified-id=\"Зависимость-цены-квартиры-от-даты-размещения-объявления.-4.4.1.5\"><span class=\"toc-item-num\">4.4.1.5&nbsp;&nbsp;</span>Зависимость цены квартиры от даты размещения объявления.</a></span></li><li><span><a href=\"#Выберем-10-населённых-пунктов-с-наибольшим-числом-объявленийи-посчитаем-среднюю-цену-квадратного-метра.\" data-toc-modified-id=\"Выберем-10-населённых-пунктов-с-наибольшим-числом-объявленийи-посчитаем-среднюю-цену-квадратного-метра.-4.4.1.6\"><span class=\"toc-item-num\">4.4.1.6&nbsp;&nbsp;</span>Выберем 10 населённых пунктов с наибольшим числом объявленийи посчитаем среднюю цену квадратного метра.</a></span></li></ul></li></ul></li><li><span><a href=\"#Выясним-какая-область-входит-в-центр\" data-toc-modified-id=\"Выясним-какая-область-входит-в-центр-4.5\"><span class=\"toc-item-num\">4.5&nbsp;&nbsp;</span>Выясним какая область входит в центр</a></span><ul class=\"toc-item\"><li><span><a href=\"#Вывод\" data-toc-modified-id=\"Вывод-4.5.1\"><span class=\"toc-item-num\">4.5.1&nbsp;&nbsp;</span>Вывод</a></span></li></ul></li><li><span><a href=\"#Проанализируем-сегмент-квартир-в-центре\" data-toc-modified-id=\"Проанализируем-сегмент-квартир-в-центре-4.6\"><span class=\"toc-item-num\">4.6&nbsp;&nbsp;</span>Проанализируем сегмент квартир в центре</a></span><ul class=\"toc-item\"><li><span><a href=\"#Выделим-сегмент-квартир-в-центре\" data-toc-modified-id=\"Выделим-сегмент-квартир-в-центре-4.6.1\"><span class=\"toc-item-num\">4.6.1&nbsp;&nbsp;</span>Выделим сегмент квартир в центре</a></span></li><li><span><a href=\"#Изучим-параметры:-площадь,-цена,-число-комнат,-высота-потолков.\" data-toc-modified-id=\"Изучим-параметры:-площадь,-цена,-число-комнат,-высота-потолков.-4.6.2\"><span class=\"toc-item-num\">4.6.2&nbsp;&nbsp;</span>Изучим параметры: площадь, цена, число комнат, высота потолков.</a></span><ul class=\"toc-item\"><li><span><a href=\"#Изучим-параметр-площадь\" data-toc-modified-id=\"Изучим-параметр-площадь-4.6.2.1\"><span class=\"toc-item-num\">4.6.2.1&nbsp;&nbsp;</span>Изучим параметр площадь</a></span></li><li><span><a href=\"#Изучим-параметр-цена\" data-toc-modified-id=\"Изучим-параметр-цена-4.6.2.2\"><span class=\"toc-item-num\">4.6.2.2&nbsp;&nbsp;</span>Изучим параметр цена</a></span></li><li><span><a href=\"#Изучим-параметр-число-комнат\" data-toc-modified-id=\"Изучим-параметр-число-комнат-4.6.2.3\"><span class=\"toc-item-num\">4.6.2.3&nbsp;&nbsp;</span>Изучим параметр число комнат</a></span></li><li><span><a href=\"#Изучим-параметр-высота-потолков\" data-toc-modified-id=\"Изучим-параметр-высота-потолков-4.6.2.4\"><span class=\"toc-item-num\">4.6.2.4&nbsp;&nbsp;</span>Изучим параметр высота потолков</a></span></li></ul></li><li><span><a href=\"#Выделим-факторы,-которые-влияют-на-стоимость-квартиры\" data-toc-modified-id=\"Выделим-факторы,-которые-влияют-на-стоимость-квартиры-4.6.3\"><span class=\"toc-item-num\">4.6.3&nbsp;&nbsp;</span>Выделим факторы, которые влияют на стоимость квартиры</a></span><ul class=\"toc-item\"><li><span><a href=\"#Зависимость-стоимости-от-числа-комнат\" data-toc-modified-id=\"Зависимость-стоимости-от-числа-комнат-4.6.3.1\"><span class=\"toc-item-num\">4.6.3.1&nbsp;&nbsp;</span>Зависимость стоимости от числа комнат</a></span></li><li><span><a href=\"#Зависимость-стоимости-от-этажа\" data-toc-modified-id=\"Зависимость-стоимости-от-этажа-4.6.3.2\"><span class=\"toc-item-num\">4.6.3.2&nbsp;&nbsp;</span>Зависимость стоимости от этажа</a></span></li><li><span><a href=\"#Зависимость-стоимости-от-удаленности-от-центра\" data-toc-modified-id=\"Зависимость-стоимости-от-удаленности-от-центра-4.6.3.3\"><span class=\"toc-item-num\">4.6.3.3&nbsp;&nbsp;</span>Зависимость стоимости от удаленности от центра</a></span></li><li><span><a href=\"#Зависимость-стоимости-от-дата-размещения-объявления\" data-toc-modified-id=\"Зависимость-стоимости-от-дата-размещения-объявления-4.6.3.4\"><span class=\"toc-item-num\">4.6.3.4&nbsp;&nbsp;</span>Зависимость стоимости от дата размещения объявления</a></span></li><li><span><a href=\"#Выводы\" data-toc-modified-id=\"Выводы-4.6.3.5\"><span class=\"toc-item-num\">4.6.3.5&nbsp;&nbsp;</span>Выводы</a></span></li></ul></li></ul></li></ul></li><li><span><a href=\"#Общий-вывод\" data-toc-modified-id=\"Общий-вывод-5\"><span class=\"toc-item-num\">5&nbsp;&nbsp;</span>Общий вывод</a></span></li></ul></div>"
   ],
   "metadata": {
    "toc": true
   }
  },
  {
   "cell_type": "markdown",
   "source": [
    "# Исследование объявлений о продаже квартир\n",
    "\n",
    "В вашем распоряжении данные сервиса Яндекс.Недвижимость — архив объявлений о продаже квартир в Санкт-Петербурге и соседних населённых пунктах за несколько лет. Нужно научиться определять рыночную стоимость объектов недвижимости. Ваша задача — установить параметры. Это позволит построить автоматизированную систему: она отследит аномалии и мошенническую деятельность. \n",
    "\n",
    "По каждой квартире на продажу доступны два вида данных. Первые вписаны пользователем, вторые получены автоматически на основе картографических данных. Например, расстояние до центра, аэропорта, ближайшего парка и водоёма. "
   ],
   "metadata": {}
  },
  {
   "cell_type": "markdown",
   "source": [
    "## Изучение данных из файла"
   ],
   "metadata": {}
  },
  {
   "cell_type": "markdown",
   "source": [
    "**Описание данных**  \n",
    "airports_nearest — расстояние до ближайшего аэропорта в метрах (м)  \n",
    "balcony — число балконов  \n",
    "ceiling_height — высота потолков (м)  \n",
    "cityCenters_nearest — расстояние до центра города (м)  \n",
    "days_exposition — сколько дней было размещено объявление (от публикации до снятия)  \n",
    "first_day_exposition — дата публикации  \n",
    "floor — этаж  \n",
    "floors_total — всего этажей в доме  \n",
    "is_apartment — апартаменты (булев тип)  \n",
    "kitchen_area — площадь кухни в квадратных метрах (м²)  \n",
    "last_price — цена на момент снятия с публикации  \n",
    "living_area — жилая площадь в квадратных метрах(м²)  \n",
    "locality_name — название населённого пункта  \n",
    "open_plan — свободная планировка (булев тип)  \n",
    "parks_around3000 — число парков в радиусе 3 км  \n",
    "parks_nearest — расстояние до ближайшего парка (м)  \n",
    "ponds_around3000 — число водоёмов в радиусе 3 км  \n",
    "ponds_nearest — расстояние до ближайшего водоёма (м)  \n",
    "rooms — число комнат  \n",
    "studio — квартира-студия (булев тип)  \n",
    "total_area — площадь квартиры в квадратных метрах (м²)  \n",
    "total_images — число фотографий квартиры в объявлении\n"
   ],
   "metadata": {}
  },
  {
   "cell_type": "code",
   "execution_count": 1,
   "source": [
    "import pandas as pd\r\n",
    "import matplotlib.pyplot as plt "
   ],
   "outputs": [],
   "metadata": {}
  },
  {
   "cell_type": "markdown",
   "source": [
    "Читаем файл с данными задав разделитель табуляцией."
   ],
   "metadata": {}
  },
  {
   "cell_type": "code",
   "execution_count": 2,
   "source": [
    "data = pd.read_csv('/datasets/real_estate_data.csv', sep='\\t') \r\n",
    "data.head() "
   ],
   "outputs": [
    {
     "output_type": "execute_result",
     "data": {
      "text/plain": [
       "   total_images  last_price  total_area first_day_exposition  rooms  \\\n",
       "0            20  13000000.0       108.0  2019-03-07T00:00:00      3   \n",
       "1             7   3350000.0        40.4  2018-12-04T00:00:00      1   \n",
       "2            10   5196000.0        56.0  2015-08-20T00:00:00      2   \n",
       "3             0  64900000.0       159.0  2015-07-24T00:00:00      3   \n",
       "4             2  10000000.0       100.0  2018-06-19T00:00:00      2   \n",
       "\n",
       "   ceiling_height  floors_total  living_area  floor is_apartment  ...  \\\n",
       "0            2.70          16.0         51.0      8          NaN  ...   \n",
       "1             NaN          11.0         18.6      1          NaN  ...   \n",
       "2             NaN           5.0         34.3      4          NaN  ...   \n",
       "3             NaN          14.0          NaN      9          NaN  ...   \n",
       "4            3.03          14.0         32.0     13          NaN  ...   \n",
       "\n",
       "   kitchen_area  balcony    locality_name  airports_nearest  \\\n",
       "0          25.0      NaN  Санкт-Петербург           18863.0   \n",
       "1          11.0      2.0   посёлок Шушары           12817.0   \n",
       "2           8.3      0.0  Санкт-Петербург           21741.0   \n",
       "3           NaN      0.0  Санкт-Петербург           28098.0   \n",
       "4          41.0      NaN  Санкт-Петербург           31856.0   \n",
       "\n",
       "  cityCenters_nearest  parks_around3000  parks_nearest  ponds_around3000  \\\n",
       "0             16028.0               1.0          482.0               2.0   \n",
       "1             18603.0               0.0            NaN               0.0   \n",
       "2             13933.0               1.0           90.0               2.0   \n",
       "3              6800.0               2.0           84.0               3.0   \n",
       "4              8098.0               2.0          112.0               1.0   \n",
       "\n",
       "   ponds_nearest  days_exposition  \n",
       "0          755.0              NaN  \n",
       "1            NaN             81.0  \n",
       "2          574.0            558.0  \n",
       "3          234.0            424.0  \n",
       "4           48.0            121.0  \n",
       "\n",
       "[5 rows x 22 columns]"
      ],
      "text/html": [
       "<div>\n",
       "<style scoped>\n",
       "    .dataframe tbody tr th:only-of-type {\n",
       "        vertical-align: middle;\n",
       "    }\n",
       "\n",
       "    .dataframe tbody tr th {\n",
       "        vertical-align: top;\n",
       "    }\n",
       "\n",
       "    .dataframe thead th {\n",
       "        text-align: right;\n",
       "    }\n",
       "</style>\n",
       "<table border=\"1\" class=\"dataframe\">\n",
       "  <thead>\n",
       "    <tr style=\"text-align: right;\">\n",
       "      <th></th>\n",
       "      <th>total_images</th>\n",
       "      <th>last_price</th>\n",
       "      <th>total_area</th>\n",
       "      <th>first_day_exposition</th>\n",
       "      <th>rooms</th>\n",
       "      <th>ceiling_height</th>\n",
       "      <th>floors_total</th>\n",
       "      <th>living_area</th>\n",
       "      <th>floor</th>\n",
       "      <th>is_apartment</th>\n",
       "      <th>...</th>\n",
       "      <th>kitchen_area</th>\n",
       "      <th>balcony</th>\n",
       "      <th>locality_name</th>\n",
       "      <th>airports_nearest</th>\n",
       "      <th>cityCenters_nearest</th>\n",
       "      <th>parks_around3000</th>\n",
       "      <th>parks_nearest</th>\n",
       "      <th>ponds_around3000</th>\n",
       "      <th>ponds_nearest</th>\n",
       "      <th>days_exposition</th>\n",
       "    </tr>\n",
       "  </thead>\n",
       "  <tbody>\n",
       "    <tr>\n",
       "      <td>0</td>\n",
       "      <td>20</td>\n",
       "      <td>13000000.0</td>\n",
       "      <td>108.0</td>\n",
       "      <td>2019-03-07T00:00:00</td>\n",
       "      <td>3</td>\n",
       "      <td>2.70</td>\n",
       "      <td>16.0</td>\n",
       "      <td>51.0</td>\n",
       "      <td>8</td>\n",
       "      <td>NaN</td>\n",
       "      <td>...</td>\n",
       "      <td>25.0</td>\n",
       "      <td>NaN</td>\n",
       "      <td>Санкт-Петербург</td>\n",
       "      <td>18863.0</td>\n",
       "      <td>16028.0</td>\n",
       "      <td>1.0</td>\n",
       "      <td>482.0</td>\n",
       "      <td>2.0</td>\n",
       "      <td>755.0</td>\n",
       "      <td>NaN</td>\n",
       "    </tr>\n",
       "    <tr>\n",
       "      <td>1</td>\n",
       "      <td>7</td>\n",
       "      <td>3350000.0</td>\n",
       "      <td>40.4</td>\n",
       "      <td>2018-12-04T00:00:00</td>\n",
       "      <td>1</td>\n",
       "      <td>NaN</td>\n",
       "      <td>11.0</td>\n",
       "      <td>18.6</td>\n",
       "      <td>1</td>\n",
       "      <td>NaN</td>\n",
       "      <td>...</td>\n",
       "      <td>11.0</td>\n",
       "      <td>2.0</td>\n",
       "      <td>посёлок Шушары</td>\n",
       "      <td>12817.0</td>\n",
       "      <td>18603.0</td>\n",
       "      <td>0.0</td>\n",
       "      <td>NaN</td>\n",
       "      <td>0.0</td>\n",
       "      <td>NaN</td>\n",
       "      <td>81.0</td>\n",
       "    </tr>\n",
       "    <tr>\n",
       "      <td>2</td>\n",
       "      <td>10</td>\n",
       "      <td>5196000.0</td>\n",
       "      <td>56.0</td>\n",
       "      <td>2015-08-20T00:00:00</td>\n",
       "      <td>2</td>\n",
       "      <td>NaN</td>\n",
       "      <td>5.0</td>\n",
       "      <td>34.3</td>\n",
       "      <td>4</td>\n",
       "      <td>NaN</td>\n",
       "      <td>...</td>\n",
       "      <td>8.3</td>\n",
       "      <td>0.0</td>\n",
       "      <td>Санкт-Петербург</td>\n",
       "      <td>21741.0</td>\n",
       "      <td>13933.0</td>\n",
       "      <td>1.0</td>\n",
       "      <td>90.0</td>\n",
       "      <td>2.0</td>\n",
       "      <td>574.0</td>\n",
       "      <td>558.0</td>\n",
       "    </tr>\n",
       "    <tr>\n",
       "      <td>3</td>\n",
       "      <td>0</td>\n",
       "      <td>64900000.0</td>\n",
       "      <td>159.0</td>\n",
       "      <td>2015-07-24T00:00:00</td>\n",
       "      <td>3</td>\n",
       "      <td>NaN</td>\n",
       "      <td>14.0</td>\n",
       "      <td>NaN</td>\n",
       "      <td>9</td>\n",
       "      <td>NaN</td>\n",
       "      <td>...</td>\n",
       "      <td>NaN</td>\n",
       "      <td>0.0</td>\n",
       "      <td>Санкт-Петербург</td>\n",
       "      <td>28098.0</td>\n",
       "      <td>6800.0</td>\n",
       "      <td>2.0</td>\n",
       "      <td>84.0</td>\n",
       "      <td>3.0</td>\n",
       "      <td>234.0</td>\n",
       "      <td>424.0</td>\n",
       "    </tr>\n",
       "    <tr>\n",
       "      <td>4</td>\n",
       "      <td>2</td>\n",
       "      <td>10000000.0</td>\n",
       "      <td>100.0</td>\n",
       "      <td>2018-06-19T00:00:00</td>\n",
       "      <td>2</td>\n",
       "      <td>3.03</td>\n",
       "      <td>14.0</td>\n",
       "      <td>32.0</td>\n",
       "      <td>13</td>\n",
       "      <td>NaN</td>\n",
       "      <td>...</td>\n",
       "      <td>41.0</td>\n",
       "      <td>NaN</td>\n",
       "      <td>Санкт-Петербург</td>\n",
       "      <td>31856.0</td>\n",
       "      <td>8098.0</td>\n",
       "      <td>2.0</td>\n",
       "      <td>112.0</td>\n",
       "      <td>1.0</td>\n",
       "      <td>48.0</td>\n",
       "      <td>121.0</td>\n",
       "    </tr>\n",
       "  </tbody>\n",
       "</table>\n",
       "<p>5 rows × 22 columns</p>\n",
       "</div>"
      ]
     },
     "metadata": {},
     "execution_count": 2
    }
   ],
   "metadata": {}
  },
  {
   "cell_type": "code",
   "execution_count": 3,
   "source": [
    "data.info() "
   ],
   "outputs": [
    {
     "output_type": "stream",
     "name": "stdout",
     "text": [
      "<class 'pandas.core.frame.DataFrame'>\n",
      "RangeIndex: 23699 entries, 0 to 23698\n",
      "Data columns (total 22 columns):\n",
      "total_images            23699 non-null int64\n",
      "last_price              23699 non-null float64\n",
      "total_area              23699 non-null float64\n",
      "first_day_exposition    23699 non-null object\n",
      "rooms                   23699 non-null int64\n",
      "ceiling_height          14504 non-null float64\n",
      "floors_total            23613 non-null float64\n",
      "living_area             21796 non-null float64\n",
      "floor                   23699 non-null int64\n",
      "is_apartment            2775 non-null object\n",
      "studio                  23699 non-null bool\n",
      "open_plan               23699 non-null bool\n",
      "kitchen_area            21421 non-null float64\n",
      "balcony                 12180 non-null float64\n",
      "locality_name           23650 non-null object\n",
      "airports_nearest        18157 non-null float64\n",
      "cityCenters_nearest     18180 non-null float64\n",
      "parks_around3000        18181 non-null float64\n",
      "parks_nearest           8079 non-null float64\n",
      "ponds_around3000        18181 non-null float64\n",
      "ponds_nearest           9110 non-null float64\n",
      "days_exposition         20518 non-null float64\n",
      "dtypes: bool(2), float64(14), int64(3), object(3)\n",
      "memory usage: 3.7+ MB\n"
     ]
    }
   ],
   "metadata": {}
  },
  {
   "cell_type": "code",
   "execution_count": 4,
   "source": [
    "data.describe() "
   ],
   "outputs": [
    {
     "output_type": "execute_result",
     "data": {
      "text/plain": [
       "       total_images    last_price    total_area         rooms  ceiling_height  \\\n",
       "count  23699.000000  2.369900e+04  23699.000000  23699.000000    14504.000000   \n",
       "mean       9.858475  6.541549e+06     60.348651      2.070636        2.771499   \n",
       "std        5.682529  1.088701e+07     35.654083      1.078405        1.261056   \n",
       "min        0.000000  1.219000e+04     12.000000      0.000000        1.000000   \n",
       "25%        6.000000  3.400000e+06     40.000000      1.000000        2.520000   \n",
       "50%        9.000000  4.650000e+06     52.000000      2.000000        2.650000   \n",
       "75%       14.000000  6.800000e+06     69.900000      3.000000        2.800000   \n",
       "max       50.000000  7.630000e+08    900.000000     19.000000      100.000000   \n",
       "\n",
       "       floors_total   living_area         floor  kitchen_area       balcony  \\\n",
       "count  23613.000000  21796.000000  23699.000000  21421.000000  12180.000000   \n",
       "mean      10.673824     34.457852      5.892358     10.569807      1.150082   \n",
       "std        6.597173     22.030445      4.885249      5.905438      1.071300   \n",
       "min        1.000000      2.000000      1.000000      1.300000      0.000000   \n",
       "25%        5.000000     18.600000      2.000000      7.000000      0.000000   \n",
       "50%        9.000000     30.000000      4.000000      9.100000      1.000000   \n",
       "75%       16.000000     42.300000      8.000000     12.000000      2.000000   \n",
       "max       60.000000    409.700000     33.000000    112.000000      5.000000   \n",
       "\n",
       "       airports_nearest  cityCenters_nearest  parks_around3000  parks_nearest  \\\n",
       "count      18157.000000         18180.000000      18181.000000    8079.000000   \n",
       "mean       28793.672193         14191.277833          0.611408     490.804555   \n",
       "std        12630.880622          8608.386210          0.802074     342.317995   \n",
       "min            0.000000           181.000000          0.000000       1.000000   \n",
       "25%        18585.000000          9238.000000          0.000000     288.000000   \n",
       "50%        26726.000000         13098.500000          0.000000     455.000000   \n",
       "75%        37273.000000         16293.000000          1.000000     612.000000   \n",
       "max        84869.000000         65968.000000          3.000000    3190.000000   \n",
       "\n",
       "       ponds_around3000  ponds_nearest  days_exposition  \n",
       "count      18181.000000    9110.000000     20518.000000  \n",
       "mean           0.770255     517.980900       180.888634  \n",
       "std            0.938346     277.720643       219.727988  \n",
       "min            0.000000      13.000000         1.000000  \n",
       "25%            0.000000     294.000000        45.000000  \n",
       "50%            1.000000     502.000000        95.000000  \n",
       "75%            1.000000     729.000000       232.000000  \n",
       "max            3.000000    1344.000000      1580.000000  "
      ],
      "text/html": [
       "<div>\n",
       "<style scoped>\n",
       "    .dataframe tbody tr th:only-of-type {\n",
       "        vertical-align: middle;\n",
       "    }\n",
       "\n",
       "    .dataframe tbody tr th {\n",
       "        vertical-align: top;\n",
       "    }\n",
       "\n",
       "    .dataframe thead th {\n",
       "        text-align: right;\n",
       "    }\n",
       "</style>\n",
       "<table border=\"1\" class=\"dataframe\">\n",
       "  <thead>\n",
       "    <tr style=\"text-align: right;\">\n",
       "      <th></th>\n",
       "      <th>total_images</th>\n",
       "      <th>last_price</th>\n",
       "      <th>total_area</th>\n",
       "      <th>rooms</th>\n",
       "      <th>ceiling_height</th>\n",
       "      <th>floors_total</th>\n",
       "      <th>living_area</th>\n",
       "      <th>floor</th>\n",
       "      <th>kitchen_area</th>\n",
       "      <th>balcony</th>\n",
       "      <th>airports_nearest</th>\n",
       "      <th>cityCenters_nearest</th>\n",
       "      <th>parks_around3000</th>\n",
       "      <th>parks_nearest</th>\n",
       "      <th>ponds_around3000</th>\n",
       "      <th>ponds_nearest</th>\n",
       "      <th>days_exposition</th>\n",
       "    </tr>\n",
       "  </thead>\n",
       "  <tbody>\n",
       "    <tr>\n",
       "      <td>count</td>\n",
       "      <td>23699.000000</td>\n",
       "      <td>2.369900e+04</td>\n",
       "      <td>23699.000000</td>\n",
       "      <td>23699.000000</td>\n",
       "      <td>14504.000000</td>\n",
       "      <td>23613.000000</td>\n",
       "      <td>21796.000000</td>\n",
       "      <td>23699.000000</td>\n",
       "      <td>21421.000000</td>\n",
       "      <td>12180.000000</td>\n",
       "      <td>18157.000000</td>\n",
       "      <td>18180.000000</td>\n",
       "      <td>18181.000000</td>\n",
       "      <td>8079.000000</td>\n",
       "      <td>18181.000000</td>\n",
       "      <td>9110.000000</td>\n",
       "      <td>20518.000000</td>\n",
       "    </tr>\n",
       "    <tr>\n",
       "      <td>mean</td>\n",
       "      <td>9.858475</td>\n",
       "      <td>6.541549e+06</td>\n",
       "      <td>60.348651</td>\n",
       "      <td>2.070636</td>\n",
       "      <td>2.771499</td>\n",
       "      <td>10.673824</td>\n",
       "      <td>34.457852</td>\n",
       "      <td>5.892358</td>\n",
       "      <td>10.569807</td>\n",
       "      <td>1.150082</td>\n",
       "      <td>28793.672193</td>\n",
       "      <td>14191.277833</td>\n",
       "      <td>0.611408</td>\n",
       "      <td>490.804555</td>\n",
       "      <td>0.770255</td>\n",
       "      <td>517.980900</td>\n",
       "      <td>180.888634</td>\n",
       "    </tr>\n",
       "    <tr>\n",
       "      <td>std</td>\n",
       "      <td>5.682529</td>\n",
       "      <td>1.088701e+07</td>\n",
       "      <td>35.654083</td>\n",
       "      <td>1.078405</td>\n",
       "      <td>1.261056</td>\n",
       "      <td>6.597173</td>\n",
       "      <td>22.030445</td>\n",
       "      <td>4.885249</td>\n",
       "      <td>5.905438</td>\n",
       "      <td>1.071300</td>\n",
       "      <td>12630.880622</td>\n",
       "      <td>8608.386210</td>\n",
       "      <td>0.802074</td>\n",
       "      <td>342.317995</td>\n",
       "      <td>0.938346</td>\n",
       "      <td>277.720643</td>\n",
       "      <td>219.727988</td>\n",
       "    </tr>\n",
       "    <tr>\n",
       "      <td>min</td>\n",
       "      <td>0.000000</td>\n",
       "      <td>1.219000e+04</td>\n",
       "      <td>12.000000</td>\n",
       "      <td>0.000000</td>\n",
       "      <td>1.000000</td>\n",
       "      <td>1.000000</td>\n",
       "      <td>2.000000</td>\n",
       "      <td>1.000000</td>\n",
       "      <td>1.300000</td>\n",
       "      <td>0.000000</td>\n",
       "      <td>0.000000</td>\n",
       "      <td>181.000000</td>\n",
       "      <td>0.000000</td>\n",
       "      <td>1.000000</td>\n",
       "      <td>0.000000</td>\n",
       "      <td>13.000000</td>\n",
       "      <td>1.000000</td>\n",
       "    </tr>\n",
       "    <tr>\n",
       "      <td>25%</td>\n",
       "      <td>6.000000</td>\n",
       "      <td>3.400000e+06</td>\n",
       "      <td>40.000000</td>\n",
       "      <td>1.000000</td>\n",
       "      <td>2.520000</td>\n",
       "      <td>5.000000</td>\n",
       "      <td>18.600000</td>\n",
       "      <td>2.000000</td>\n",
       "      <td>7.000000</td>\n",
       "      <td>0.000000</td>\n",
       "      <td>18585.000000</td>\n",
       "      <td>9238.000000</td>\n",
       "      <td>0.000000</td>\n",
       "      <td>288.000000</td>\n",
       "      <td>0.000000</td>\n",
       "      <td>294.000000</td>\n",
       "      <td>45.000000</td>\n",
       "    </tr>\n",
       "    <tr>\n",
       "      <td>50%</td>\n",
       "      <td>9.000000</td>\n",
       "      <td>4.650000e+06</td>\n",
       "      <td>52.000000</td>\n",
       "      <td>2.000000</td>\n",
       "      <td>2.650000</td>\n",
       "      <td>9.000000</td>\n",
       "      <td>30.000000</td>\n",
       "      <td>4.000000</td>\n",
       "      <td>9.100000</td>\n",
       "      <td>1.000000</td>\n",
       "      <td>26726.000000</td>\n",
       "      <td>13098.500000</td>\n",
       "      <td>0.000000</td>\n",
       "      <td>455.000000</td>\n",
       "      <td>1.000000</td>\n",
       "      <td>502.000000</td>\n",
       "      <td>95.000000</td>\n",
       "    </tr>\n",
       "    <tr>\n",
       "      <td>75%</td>\n",
       "      <td>14.000000</td>\n",
       "      <td>6.800000e+06</td>\n",
       "      <td>69.900000</td>\n",
       "      <td>3.000000</td>\n",
       "      <td>2.800000</td>\n",
       "      <td>16.000000</td>\n",
       "      <td>42.300000</td>\n",
       "      <td>8.000000</td>\n",
       "      <td>12.000000</td>\n",
       "      <td>2.000000</td>\n",
       "      <td>37273.000000</td>\n",
       "      <td>16293.000000</td>\n",
       "      <td>1.000000</td>\n",
       "      <td>612.000000</td>\n",
       "      <td>1.000000</td>\n",
       "      <td>729.000000</td>\n",
       "      <td>232.000000</td>\n",
       "    </tr>\n",
       "    <tr>\n",
       "      <td>max</td>\n",
       "      <td>50.000000</td>\n",
       "      <td>7.630000e+08</td>\n",
       "      <td>900.000000</td>\n",
       "      <td>19.000000</td>\n",
       "      <td>100.000000</td>\n",
       "      <td>60.000000</td>\n",
       "      <td>409.700000</td>\n",
       "      <td>33.000000</td>\n",
       "      <td>112.000000</td>\n",
       "      <td>5.000000</td>\n",
       "      <td>84869.000000</td>\n",
       "      <td>65968.000000</td>\n",
       "      <td>3.000000</td>\n",
       "      <td>3190.000000</td>\n",
       "      <td>3.000000</td>\n",
       "      <td>1344.000000</td>\n",
       "      <td>1580.000000</td>\n",
       "    </tr>\n",
       "  </tbody>\n",
       "</table>\n",
       "</div>"
      ]
     },
     "metadata": {},
     "execution_count": 4
    }
   ],
   "metadata": {
    "scrolled": true
   }
  },
  {
   "cell_type": "markdown",
   "source": [
    "Проверим количество значений в столбцах, используя цикл."
   ],
   "metadata": {}
  },
  {
   "cell_type": "code",
   "execution_count": 5,
   "source": [
    "for columns in ['rooms', 'ceiling_height', 'floors_total',\n",
    "                         'floor', 'is_apartment', 'studio', 'open_plan', \n",
    "                         'locality_name', 'parks_around3000', 'ponds_around3000', 'days_exposition']:\n",
    "    print(f'Число значений в столбце {columns}')    \n",
    "    print(data[columns].value_counts()) \n",
    "    print()"
   ],
   "outputs": [
    {
     "output_type": "stream",
     "name": "stdout",
     "text": [
      "Число значений в столбце rooms\n",
      "1     8047\n",
      "2     7940\n",
      "3     5814\n",
      "4     1180\n",
      "5      326\n",
      "0      197\n",
      "6      105\n",
      "7       59\n",
      "8       12\n",
      "9        8\n",
      "10       3\n",
      "14       2\n",
      "11       2\n",
      "19       1\n",
      "12       1\n",
      "16       1\n",
      "15       1\n",
      "Name: rooms, dtype: int64\n",
      "\n",
      "Число значений в столбце ceiling_height\n",
      "2.50      3515\n",
      "2.60      1646\n",
      "2.70      1574\n",
      "3.00      1112\n",
      "2.80       993\n",
      "          ... \n",
      "27.50        1\n",
      "5.00         1\n",
      "3.59         1\n",
      "4.80         1\n",
      "100.00       1\n",
      "Name: ceiling_height, Length: 183, dtype: int64\n",
      "\n",
      "Число значений в столбце floors_total\n",
      "5.0     5788\n",
      "9.0     3761\n",
      "16.0    1376\n",
      "12.0    1362\n",
      "4.0     1200\n",
      "10.0    1174\n",
      "25.0    1075\n",
      "6.0      914\n",
      "17.0     833\n",
      "3.0      668\n",
      "7.0      592\n",
      "14.0     553\n",
      "18.0     505\n",
      "24.0     469\n",
      "8.0      390\n",
      "2.0      383\n",
      "15.0     365\n",
      "23.0     352\n",
      "19.0     339\n",
      "22.0     286\n",
      "20.0     271\n",
      "13.0     229\n",
      "11.0     203\n",
      "27.0     164\n",
      "21.0     158\n",
      "26.0     124\n",
      "1.0       25\n",
      "35.0      24\n",
      "28.0      21\n",
      "36.0       3\n",
      "29.0       1\n",
      "60.0       1\n",
      "33.0       1\n",
      "52.0       1\n",
      "37.0       1\n",
      "34.0       1\n",
      "Name: floors_total, dtype: int64\n",
      "\n",
      "Число значений в столбце floor\n",
      "2     3368\n",
      "3     3073\n",
      "1     2917\n",
      "4     2804\n",
      "5     2621\n",
      "6     1305\n",
      "7     1218\n",
      "8     1083\n",
      "9     1051\n",
      "10     687\n",
      "12     526\n",
      "11     523\n",
      "13     379\n",
      "15     343\n",
      "14     337\n",
      "16     315\n",
      "17     227\n",
      "18     178\n",
      "19     147\n",
      "21     125\n",
      "22     113\n",
      "20     110\n",
      "23     100\n",
      "24      63\n",
      "25      46\n",
      "26      24\n",
      "27      10\n",
      "28       1\n",
      "33       1\n",
      "29       1\n",
      "30       1\n",
      "32       1\n",
      "31       1\n",
      "Name: floor, dtype: int64\n",
      "\n",
      "Число значений в столбце is_apartment\n",
      "False    2725\n",
      "True       50\n",
      "Name: is_apartment, dtype: int64\n",
      "\n",
      "Число значений в столбце studio\n",
      "False    23550\n",
      "True       149\n",
      "Name: studio, dtype: int64\n",
      "\n",
      "Число значений в столбце open_plan\n",
      "False    23632\n",
      "True        67\n",
      "Name: open_plan, dtype: int64\n",
      "\n",
      "Число значений в столбце locality_name\n",
      "Санкт-Петербург                          15721\n",
      "посёлок Мурино                             522\n",
      "посёлок Шушары                             440\n",
      "Всеволожск                                 398\n",
      "Пушкин                                     369\n",
      "                                         ...  \n",
      "деревня Русско                               1\n",
      "поселок городского типа Большая Ижора        1\n",
      "коттеджный поселок Кивеннапа Север           1\n",
      "деревня Хязельки                             1\n",
      "поселок Каложицы                             1\n",
      "Name: locality_name, Length: 364, dtype: int64\n",
      "\n",
      "Число значений в столбце parks_around3000\n",
      "0.0    10106\n",
      "1.0     5681\n",
      "2.0     1747\n",
      "3.0      647\n",
      "Name: parks_around3000, dtype: int64\n",
      "\n",
      "Число значений в столбце ponds_around3000\n",
      "0.0    9071\n",
      "1.0    5717\n",
      "2.0    1892\n",
      "3.0    1501\n",
      "Name: ponds_around3000, dtype: int64\n",
      "\n",
      "Число значений в столбце days_exposition\n",
      "45.0      880\n",
      "60.0      538\n",
      "7.0       234\n",
      "30.0      208\n",
      "90.0      204\n",
      "         ... \n",
      "1110.0      1\n",
      "1049.0      1\n",
      "951.0       1\n",
      "693.0       1\n",
      "773.0       1\n",
      "Name: days_exposition, Length: 1141, dtype: int64\n",
      "\n"
     ]
    }
   ],
   "metadata": {}
  },
  {
   "cell_type": "markdown",
   "source": [
    "Выведем количество дубликатов"
   ],
   "metadata": {}
  },
  {
   "cell_type": "code",
   "execution_count": 6,
   "source": [
    "data.duplicated().sum() "
   ],
   "outputs": [
    {
     "output_type": "execute_result",
     "data": {
      "text/plain": [
       "0"
      ]
     },
     "metadata": {},
     "execution_count": 6
    }
   ],
   "metadata": {}
  },
  {
   "cell_type": "markdown",
   "source": [
    "Подсчет пропущенных значений"
   ],
   "metadata": {}
  },
  {
   "cell_type": "code",
   "execution_count": 7,
   "source": [
    "data.isnull().sum()"
   ],
   "outputs": [
    {
     "output_type": "execute_result",
     "data": {
      "text/plain": [
       "total_images                0\n",
       "last_price                  0\n",
       "total_area                  0\n",
       "first_day_exposition        0\n",
       "rooms                       0\n",
       "ceiling_height           9195\n",
       "floors_total               86\n",
       "living_area              1903\n",
       "floor                       0\n",
       "is_apartment            20924\n",
       "studio                      0\n",
       "open_plan                   0\n",
       "kitchen_area             2278\n",
       "balcony                 11519\n",
       "locality_name              49\n",
       "airports_nearest         5542\n",
       "cityCenters_nearest      5519\n",
       "parks_around3000         5518\n",
       "parks_nearest           15620\n",
       "ponds_around3000         5518\n",
       "ponds_nearest           14589\n",
       "days_exposition          3181\n",
       "dtype: int64"
      ]
     },
     "metadata": {},
     "execution_count": 7
    }
   ],
   "metadata": {}
  },
  {
   "cell_type": "markdown",
   "source": [
    "'Уникальные значения в столбце \"название населённого пункта\"."
   ],
   "metadata": {}
  },
  {
   "cell_type": "code",
   "execution_count": 8,
   "source": [
    "print('Уникальные значения в столбце \"название населённого пункта\": ', data['locality_name'].unique())"
   ],
   "outputs": [
    {
     "output_type": "stream",
     "name": "stdout",
     "text": [
      "Уникальные значения в столбце \"название населённого пункта\":  ['Санкт-Петербург' 'посёлок Шушары' 'городской посёлок Янино-1'\n",
      " 'посёлок Парголово' 'посёлок Мурино' 'Ломоносов' 'Сертолово' 'Петергоф'\n",
      " 'Пушкин' 'деревня Кудрово' 'Коммунар' 'Колпино'\n",
      " 'поселок городского типа Красный Бор' 'Гатчина' 'поселок Мурино'\n",
      " 'деревня Фёдоровское' 'Выборг' 'Кронштадт' 'Кировск'\n",
      " 'деревня Новое Девяткино' 'посёлок Металлострой'\n",
      " 'посёлок городского типа Лебяжье' 'посёлок городского типа Сиверский'\n",
      " 'поселок Молодцово' 'поселок городского типа Кузьмоловский'\n",
      " 'садовое товарищество Новая Ропша' 'Павловск' 'деревня Пикколово'\n",
      " 'Всеволожск' 'Волхов' 'Кингисепп' 'Приозерск' 'Сестрорецк'\n",
      " 'деревня Куттузи' 'посёлок Аннино' 'поселок городского типа Ефимовский'\n",
      " 'посёлок Плодовое' 'деревня Заклинье' 'поселок Торковичи'\n",
      " 'поселок Первомайское' 'Красное Село' 'посёлок Понтонный' 'Сясьстрой'\n",
      " 'деревня Старая' 'деревня Лесколово' 'посёлок Новый Свет' 'Сланцы'\n",
      " 'село Путилово' 'Ивангород' 'Мурино' 'Шлиссельбург' 'Никольское'\n",
      " 'Зеленогорск' 'Сосновый Бор' 'поселок Новый Свет' 'деревня Оржицы'\n",
      " 'деревня Кальтино' 'Кудрово' 'поселок Романовка' 'посёлок Бугры'\n",
      " 'поселок Бугры' 'поселок городского типа Рощино' 'Кириши' 'Луга'\n",
      " 'Волосово' 'Отрадное' 'село Павлово' 'поселок Оредеж' 'село Копорье'\n",
      " 'посёлок городского типа Красный Бор' 'посёлок Молодёжное' 'Тихвин'\n",
      " 'посёлок Победа' 'деревня Нурма' 'поселок городского типа Синявино'\n",
      " 'Тосно' 'посёлок городского типа Кузьмоловский' 'посёлок Стрельна'\n",
      " 'Бокситогорск' 'посёлок Александровская' 'деревня Лопухинка' 'Пикалёво'\n",
      " 'поселок Терволово' 'поселок городского типа Советский' 'Подпорожье'\n",
      " 'посёлок Петровское' 'посёлок городского типа Токсово' 'поселок Сельцо'\n",
      " 'посёлок городского типа Вырица' 'деревня Кипень' 'деревня Келози'\n",
      " 'деревня Вартемяги' 'посёлок Тельмана' 'поселок Севастьяново'\n",
      " 'городской поселок Большая Ижора' nan 'городской посёлок Павлово'\n",
      " 'деревня Агалатово' 'посёлок Новогорелово'\n",
      " 'городской посёлок Лесогорский' 'деревня Лаголово' 'поселок Цвелодубово'\n",
      " 'поселок городского типа Рахья' 'поселок городского типа Вырица'\n",
      " 'деревня Белогорка' 'поселок Заводской' 'городской посёлок Новоселье'\n",
      " 'деревня Большие Колпаны' 'деревня Горбунки' 'деревня Батово'\n",
      " 'деревня Заневка' 'деревня Иссад' 'Приморск'\n",
      " 'городской посёлок Фёдоровское' 'деревня Мистолово' 'Новая Ладога'\n",
      " 'поселок Зимитицы' 'поселок Барышево' 'деревня Разметелево'\n",
      " 'поселок городского типа имени Свердлова' 'деревня Пеники'\n",
      " 'поселок Рябово' 'деревня Пудомяги' 'поселок станции Корнево'\n",
      " 'деревня Низино' 'деревня Бегуницы' 'посёлок Поляны'\n",
      " 'городской посёлок Мга' 'поселок Елизаветино'\n",
      " 'посёлок городского типа Кузнечное' 'деревня Колтуши'\n",
      " 'поселок Запорожское' 'посёлок городского типа Рощино'\n",
      " 'деревня Гостилицы' 'деревня Малое Карлино' 'посёлок Мичуринское'\n",
      " 'посёлок городского типа имени Морозова' 'посёлок Песочный'\n",
      " 'посёлок Сосново' 'деревня Аро' 'поселок Ильичёво'\n",
      " 'посёлок городского типа Тайцы' 'деревня Малое Верево' 'деревня Извара'\n",
      " 'поселок станции Вещево' 'село Паша' 'деревня Калитино'\n",
      " 'посёлок городского типа Ульяновка' 'деревня Чудской Бор'\n",
      " 'поселок городского типа Дубровка' 'деревня Мины' 'поселок Войсковицы'\n",
      " 'посёлок городского типа имени Свердлова' 'деревня Коркино'\n",
      " 'посёлок Ропша' 'поселок городского типа Приладожский' 'посёлок Щеглово'\n",
      " 'посёлок Гаврилово' 'Лодейное Поле' 'деревня Рабитицы'\n",
      " 'поселок городского типа Никольский' 'деревня Кузьмолово'\n",
      " 'деревня Малые Колпаны' 'поселок Тельмана' 'посёлок Петро-Славянка'\n",
      " 'городской посёлок Назия' 'посёлок Репино' 'посёлок Ильичёво'\n",
      " 'поселок Углово' 'поселок Старая Малукса' 'садовое товарищество Рахья'\n",
      " 'поселок Аннино' 'поселок Победа' 'деревня Меньково'\n",
      " 'деревня Старые Бегуницы' 'посёлок Сапёрный' 'поселок Семрино'\n",
      " 'поселок Гаврилово' 'поселок Глажево' 'поселок Кобринское'\n",
      " 'деревня Гарболово' 'деревня Юкки' 'поселок станции Приветнинское'\n",
      " 'деревня Мануйлово' 'деревня Пчева' 'поселок Поляны' 'поселок Цвылёво'\n",
      " 'поселок Мельниково' 'посёлок Пудость' 'посёлок Усть-Луга' 'Светогорск'\n",
      " 'Любань' 'поселок Селезнёво' 'поселок городского типа Рябово'\n",
      " 'Каменногорск' 'деревня Кривко' 'поселок Глебычево' 'деревня Парицы'\n",
      " 'поселок Жилпосёлок' 'посёлок городского типа Мга'\n",
      " 'городской поселок Янино-1' 'посёлок Войскорово' 'село Никольское'\n",
      " 'посёлок Терволово' 'поселок Стеклянный' 'посёлок городского типа Важины'\n",
      " 'посёлок Мыза-Ивановка' 'село Русско-Высоцкое'\n",
      " 'поселок городского типа Лебяжье' 'поселок городского типа Форносово'\n",
      " 'село Старая Ладога' 'поселок Житково' 'городской посёлок Виллози'\n",
      " 'деревня Лампово' 'деревня Шпаньково' 'деревня Лаврики' 'посёлок Сумино'\n",
      " 'посёлок Возрождение' 'деревня Старосиверская' 'посёлок Кикерино'\n",
      " 'поселок Возрождение' 'деревня Старое Хинколово' 'посёлок Пригородный'\n",
      " 'посёлок Торфяное' 'городской посёлок Будогощь' 'поселок Суходолье'\n",
      " 'поселок Красная Долина' 'деревня Хапо-Ое'\n",
      " 'поселок городского типа Дружная Горка' 'поселок Лисий Нос'\n",
      " 'деревня Яльгелево' 'посёлок Стеклянный' 'село Рождествено'\n",
      " 'деревня Старополье' 'посёлок Левашово' 'деревня Сяськелево'\n",
      " 'деревня Камышовка'\n",
      " 'садоводческое некоммерческое товарищество Лесная Поляна'\n",
      " 'деревня Хязельки' 'поселок Жилгородок' 'посёлок городского типа Павлово'\n",
      " 'деревня Ялгино' 'поселок Новый Учхоз' 'городской посёлок Рощино'\n",
      " 'поселок Гончарово' 'поселок Почап' 'посёлок Сапёрное'\n",
      " 'посёлок Платформа 69-й километр' 'поселок Каложицы' 'деревня Фалилеево'\n",
      " 'деревня Пельгора' 'поселок городского типа Лесогорский'\n",
      " 'деревня Торошковичи' 'посёлок Белоостров' 'посёлок Алексеевка'\n",
      " 'поселок Серебрянский' 'поселок Лукаши' 'поселок Петровское'\n",
      " 'деревня Щеглово' 'поселок Мичуринское' 'деревня Тарасово'\n",
      " 'поселок Кингисеппский' 'посёлок при железнодорожной станции Вещево'\n",
      " 'поселок Ушаки' 'деревня Котлы' 'деревня Сижно' 'деревня Торосово'\n",
      " 'посёлок Форт Красная Горка' 'поселок городского типа Токсово'\n",
      " 'деревня Новолисино' 'посёлок станции Громово' 'деревня Глинка'\n",
      " 'посёлок Мельниково' 'поселок городского типа Назия'\n",
      " 'деревня Старая Пустошь' 'поселок Коммунары' 'поселок Починок'\n",
      " 'посёлок городского типа Вознесенье' 'деревня Разбегаево'\n",
      " 'посёлок городского типа Рябово' 'поселок Гладкое'\n",
      " 'посёлок при железнодорожной станции Приветнинское' 'поселок Тёсово-4'\n",
      " 'посёлок Жилгородок' 'деревня Бор' 'посёлок Коробицыно'\n",
      " 'деревня Большая Вруда' 'деревня Курковицы' 'посёлок Лисий Нос'\n",
      " 'городской посёлок Советский' 'посёлок Кобралово' 'деревня Суоранда'\n",
      " 'поселок Кобралово' 'поселок городского типа Кондратьево'\n",
      " 'коттеджный поселок Счастье' 'поселок Любань' 'деревня Реброво'\n",
      " 'деревня Зимитицы' 'деревня Тойворово' 'поселок Семиозерье'\n",
      " 'поселок Лесное' 'поселок Совхозный' 'поселок Усть-Луга'\n",
      " 'посёлок Ленинское' 'посёлок Суйда' 'посёлок городского типа Форносово'\n",
      " 'деревня Нижние Осельки' 'посёлок станции Свирь' 'поселок Перово'\n",
      " 'Высоцк' 'поселок Гарболово' 'село Шум' 'поселок Котельский'\n",
      " 'поселок станции Лужайка' 'деревня Большая Пустомержа'\n",
      " 'поселок Красносельское' 'деревня Вахнова Кара' 'деревня Пижма'\n",
      " 'коттеджный поселок Кивеннапа Север' 'поселок Коробицыно'\n",
      " 'поселок Ромашки' 'посёлок Перово' 'деревня Каськово' 'деревня Куровицы'\n",
      " 'посёлок Плоское' 'поселок Сумино'\n",
      " 'поселок городского типа Большая Ижора' 'поселок Кирпичное'\n",
      " 'деревня Ям-Тесово' 'деревня Раздолье' 'деревня Терпилицы'\n",
      " 'посёлок Шугозеро' 'деревня Ваганово' 'поселок Пушное'\n",
      " 'садовое товарищество Садко' 'посёлок Усть-Ижора' 'деревня Выскатка'\n",
      " 'городской посёлок Свирьстрой' 'поселок Громово' 'деревня Кисельня'\n",
      " 'посёлок Старая Малукса' 'деревня Трубников Бор' 'поселок Калитино'\n",
      " 'посёлок Высокоключевой' 'садовое товарищество Приладожский'\n",
      " 'посёлок Пансионат Зелёный Бор' 'деревня Ненимяки'\n",
      " 'поселок Пансионат Зелёный Бор' 'деревня Снегирёвка' 'деревня Рапполово'\n",
      " 'деревня Пустынка' 'поселок Рабитицы' 'деревня Большой Сабск'\n",
      " 'деревня Русско' 'деревня Лупполово' 'деревня Большое Рейзино'\n",
      " 'деревня Малая Романовка' 'поселок Дружноселье' 'поселок Пчевжа'\n",
      " 'поселок Володарское' 'деревня Нижняя' 'коттеджный посёлок Лесное'\n",
      " 'деревня Тихковицы' 'деревня Борисова Грива' 'посёлок Дзержинского']\n"
     ]
    }
   ],
   "metadata": {}
  },
  {
   "cell_type": "markdown",
   "source": [
    "### Вывод"
   ],
   "metadata": {}
  },
  {
   "cell_type": "markdown",
   "source": [
    "При изучении данных обнаружены следующие проблемы, которые устраним в дальнейшем:  \n",
    "1) Имеются пропуски значений в стоблцах, которые нужно будет заполнить или исключить;  \n",
    "2) Найдены \"артефакты\" в стоблцах (например высота потолков 27 м и количество этажей в доме больше, чем в самом высоком заднии города - 42 этажа);  \n",
    "3) В стоблце 'last_price' для наглядности переведем цены в млн;  \n",
    "4) Имеются стоблцы где потребуется изменить тип данных;  \n",
    "5) В столбце 'first_day_exposition' потребуется откорректировать данные в правильный формат времени;  \n",
    "6) Столбец 'locality_name' приведем к нижнему регистру и проверим на повторяющиеся по смыслу названия;  \n",
    "7) В столбце 'rooms' имеются нулевые значения."
   ],
   "metadata": {}
  },
  {
   "cell_type": "markdown",
   "source": [
    "## Предобработка данных"
   ],
   "metadata": {}
  },
  {
   "cell_type": "markdown",
   "source": [
    "В столбце 'locality_name' имеется 49 отсутствующих значений. Так как достоверно заполнить их не представляется возможным и число таких строк составляет 0,2%, исключим строки с пропусками в это столбце."
   ],
   "metadata": {}
  },
  {
   "cell_type": "code",
   "execution_count": 9,
   "source": [
    "data.dropna(subset = ['locality_name'], inplace = True)\n",
    "print(f'После удаления строк с неизвестным названием населенного пункта в таблице осталось {len(data)} строк')"
   ],
   "outputs": [
    {
     "output_type": "stream",
     "name": "stdout",
     "text": [
      "После удаления строк с неизвестным названием населенного пункта в таблице осталось 23650 строк\n"
     ]
    }
   ],
   "metadata": {}
  },
  {
   "cell_type": "markdown",
   "source": [
    "В таблице имеется 20924 строк с отсутствующими значениями в стоблце 'is_apartment'. Для поиска возможной закономерности изучим срез данных по в столбцу 'is_apartment' по условию заполнения 'True' и 'False'."
   ],
   "metadata": {}
  },
  {
   "cell_type": "code",
   "execution_count": 10,
   "source": [
    "data.query('is_apartment == False').head()"
   ],
   "outputs": [
    {
     "output_type": "execute_result",
     "data": {
      "text/plain": [
       "    total_images  last_price  total_area first_day_exposition  rooms  \\\n",
       "11             9   3300000.0        44.0  2018-08-27T00:00:00      2   \n",
       "25             3   6800000.0        76.0  2015-10-01T00:00:00      2   \n",
       "29             9   8600000.0       100.0  2016-04-09T00:00:00      3   \n",
       "36            13   3790000.0        45.0  2017-01-25T00:00:00      2   \n",
       "41            16   7900000.0        74.0  2016-05-04T00:00:00      3   \n",
       "\n",
       "    ceiling_height  floors_total  living_area  floor is_apartment  ...  \\\n",
       "11             NaN           5.0         31.0      4        False  ...   \n",
       "25            2.75          23.0         39.0     18        False  ...   \n",
       "29             NaN          19.0         52.0     15        False  ...   \n",
       "36             NaN           9.0         27.0      9        False  ...   \n",
       "41             NaN          14.0         59.0      8        False  ...   \n",
       "\n",
       "    kitchen_area  balcony    locality_name  airports_nearest  \\\n",
       "11           6.0      1.0        Ломоносов           48252.0   \n",
       "25          15.0      2.0  Санкт-Петербург           34967.0   \n",
       "29          11.0      0.0  Санкт-Петербург           30394.0   \n",
       "36           6.3      2.0  Санкт-Петербург           49574.0   \n",
       "41          12.0      5.0  Санкт-Петербург           37715.0   \n",
       "\n",
       "   cityCenters_nearest  parks_around3000  parks_nearest  ponds_around3000  \\\n",
       "11             51677.0               0.0            NaN               0.0   \n",
       "25             14640.0               0.0            NaN               1.0   \n",
       "29             11526.0               1.0          532.0               1.0   \n",
       "36             16461.0               1.0          459.0               0.0   \n",
       "41             12612.0               1.0          725.0               1.0   \n",
       "\n",
       "    ponds_nearest  days_exposition  \n",
       "11            NaN              7.0  \n",
       "25          564.0            300.0  \n",
       "29          896.0            125.0  \n",
       "36            NaN            139.0  \n",
       "41          759.0            179.0  \n",
       "\n",
       "[5 rows x 22 columns]"
      ],
      "text/html": [
       "<div>\n",
       "<style scoped>\n",
       "    .dataframe tbody tr th:only-of-type {\n",
       "        vertical-align: middle;\n",
       "    }\n",
       "\n",
       "    .dataframe tbody tr th {\n",
       "        vertical-align: top;\n",
       "    }\n",
       "\n",
       "    .dataframe thead th {\n",
       "        text-align: right;\n",
       "    }\n",
       "</style>\n",
       "<table border=\"1\" class=\"dataframe\">\n",
       "  <thead>\n",
       "    <tr style=\"text-align: right;\">\n",
       "      <th></th>\n",
       "      <th>total_images</th>\n",
       "      <th>last_price</th>\n",
       "      <th>total_area</th>\n",
       "      <th>first_day_exposition</th>\n",
       "      <th>rooms</th>\n",
       "      <th>ceiling_height</th>\n",
       "      <th>floors_total</th>\n",
       "      <th>living_area</th>\n",
       "      <th>floor</th>\n",
       "      <th>is_apartment</th>\n",
       "      <th>...</th>\n",
       "      <th>kitchen_area</th>\n",
       "      <th>balcony</th>\n",
       "      <th>locality_name</th>\n",
       "      <th>airports_nearest</th>\n",
       "      <th>cityCenters_nearest</th>\n",
       "      <th>parks_around3000</th>\n",
       "      <th>parks_nearest</th>\n",
       "      <th>ponds_around3000</th>\n",
       "      <th>ponds_nearest</th>\n",
       "      <th>days_exposition</th>\n",
       "    </tr>\n",
       "  </thead>\n",
       "  <tbody>\n",
       "    <tr>\n",
       "      <td>11</td>\n",
       "      <td>9</td>\n",
       "      <td>3300000.0</td>\n",
       "      <td>44.0</td>\n",
       "      <td>2018-08-27T00:00:00</td>\n",
       "      <td>2</td>\n",
       "      <td>NaN</td>\n",
       "      <td>5.0</td>\n",
       "      <td>31.0</td>\n",
       "      <td>4</td>\n",
       "      <td>False</td>\n",
       "      <td>...</td>\n",
       "      <td>6.0</td>\n",
       "      <td>1.0</td>\n",
       "      <td>Ломоносов</td>\n",
       "      <td>48252.0</td>\n",
       "      <td>51677.0</td>\n",
       "      <td>0.0</td>\n",
       "      <td>NaN</td>\n",
       "      <td>0.0</td>\n",
       "      <td>NaN</td>\n",
       "      <td>7.0</td>\n",
       "    </tr>\n",
       "    <tr>\n",
       "      <td>25</td>\n",
       "      <td>3</td>\n",
       "      <td>6800000.0</td>\n",
       "      <td>76.0</td>\n",
       "      <td>2015-10-01T00:00:00</td>\n",
       "      <td>2</td>\n",
       "      <td>2.75</td>\n",
       "      <td>23.0</td>\n",
       "      <td>39.0</td>\n",
       "      <td>18</td>\n",
       "      <td>False</td>\n",
       "      <td>...</td>\n",
       "      <td>15.0</td>\n",
       "      <td>2.0</td>\n",
       "      <td>Санкт-Петербург</td>\n",
       "      <td>34967.0</td>\n",
       "      <td>14640.0</td>\n",
       "      <td>0.0</td>\n",
       "      <td>NaN</td>\n",
       "      <td>1.0</td>\n",
       "      <td>564.0</td>\n",
       "      <td>300.0</td>\n",
       "    </tr>\n",
       "    <tr>\n",
       "      <td>29</td>\n",
       "      <td>9</td>\n",
       "      <td>8600000.0</td>\n",
       "      <td>100.0</td>\n",
       "      <td>2016-04-09T00:00:00</td>\n",
       "      <td>3</td>\n",
       "      <td>NaN</td>\n",
       "      <td>19.0</td>\n",
       "      <td>52.0</td>\n",
       "      <td>15</td>\n",
       "      <td>False</td>\n",
       "      <td>...</td>\n",
       "      <td>11.0</td>\n",
       "      <td>0.0</td>\n",
       "      <td>Санкт-Петербург</td>\n",
       "      <td>30394.0</td>\n",
       "      <td>11526.0</td>\n",
       "      <td>1.0</td>\n",
       "      <td>532.0</td>\n",
       "      <td>1.0</td>\n",
       "      <td>896.0</td>\n",
       "      <td>125.0</td>\n",
       "    </tr>\n",
       "    <tr>\n",
       "      <td>36</td>\n",
       "      <td>13</td>\n",
       "      <td>3790000.0</td>\n",
       "      <td>45.0</td>\n",
       "      <td>2017-01-25T00:00:00</td>\n",
       "      <td>2</td>\n",
       "      <td>NaN</td>\n",
       "      <td>9.0</td>\n",
       "      <td>27.0</td>\n",
       "      <td>9</td>\n",
       "      <td>False</td>\n",
       "      <td>...</td>\n",
       "      <td>6.3</td>\n",
       "      <td>2.0</td>\n",
       "      <td>Санкт-Петербург</td>\n",
       "      <td>49574.0</td>\n",
       "      <td>16461.0</td>\n",
       "      <td>1.0</td>\n",
       "      <td>459.0</td>\n",
       "      <td>0.0</td>\n",
       "      <td>NaN</td>\n",
       "      <td>139.0</td>\n",
       "    </tr>\n",
       "    <tr>\n",
       "      <td>41</td>\n",
       "      <td>16</td>\n",
       "      <td>7900000.0</td>\n",
       "      <td>74.0</td>\n",
       "      <td>2016-05-04T00:00:00</td>\n",
       "      <td>3</td>\n",
       "      <td>NaN</td>\n",
       "      <td>14.0</td>\n",
       "      <td>59.0</td>\n",
       "      <td>8</td>\n",
       "      <td>False</td>\n",
       "      <td>...</td>\n",
       "      <td>12.0</td>\n",
       "      <td>5.0</td>\n",
       "      <td>Санкт-Петербург</td>\n",
       "      <td>37715.0</td>\n",
       "      <td>12612.0</td>\n",
       "      <td>1.0</td>\n",
       "      <td>725.0</td>\n",
       "      <td>1.0</td>\n",
       "      <td>759.0</td>\n",
       "      <td>179.0</td>\n",
       "    </tr>\n",
       "  </tbody>\n",
       "</table>\n",
       "<p>5 rows × 22 columns</p>\n",
       "</div>"
      ]
     },
     "metadata": {},
     "execution_count": 10
    }
   ],
   "metadata": {}
  },
  {
   "cell_type": "code",
   "execution_count": 11,
   "source": [
    "data.query('is_apartment == True').head()"
   ],
   "outputs": [
    {
     "output_type": "execute_result",
     "data": {
      "text/plain": [
       "      total_images  last_price  total_area first_day_exposition  rooms  \\\n",
       "543             11  12790000.0        56.6  2018-11-06T00:00:00      2   \n",
       "916             11   8183000.0        70.0  2018-01-11T00:00:00      2   \n",
       "1109             1  34878556.0        95.8  2014-12-09T00:00:00      2   \n",
       "1608            12   2150000.0        20.1  2019-01-30T00:00:00      1   \n",
       "2759            11   7500000.0       152.0  2018-07-27T00:00:00      3   \n",
       "\n",
       "      ceiling_height  floors_total  living_area  floor is_apartment  ...  \\\n",
       "543             3.50           3.0         29.4      1         True  ...   \n",
       "916             3.12           3.0         40.0      3         True  ...   \n",
       "1109             NaN           6.0         58.3      5         True  ...   \n",
       "1608             NaN           9.0          NaN      1         True  ...   \n",
       "2759            3.00           3.0          NaN      1         True  ...   \n",
       "\n",
       "      kitchen_area  balcony    locality_name  airports_nearest  \\\n",
       "543            NaN      NaN         Петергоф           35248.0   \n",
       "916            NaN      2.0  Санкт-Петербург           45796.0   \n",
       "1109          20.0      1.0  Санкт-Петербург           21860.0   \n",
       "1608           NaN      NaN  Санкт-Петербург           26646.0   \n",
       "2759           NaN      1.0       Всеволожск               NaN   \n",
       "\n",
       "     cityCenters_nearest  parks_around3000  parks_nearest  ponds_around3000  \\\n",
       "543              30437.0               3.0           53.0               3.0   \n",
       "916              21729.0               0.0            NaN               1.0   \n",
       "1109               318.0               2.0          160.0               3.0   \n",
       "1608             12147.0               0.0            NaN               0.0   \n",
       "2759                 NaN               NaN            NaN               NaN   \n",
       "\n",
       "      ponds_nearest  days_exposition  \n",
       "543            22.0              NaN  \n",
       "916           754.0            179.0  \n",
       "1109          569.0           1572.0  \n",
       "1608            NaN             13.0  \n",
       "2759            NaN              7.0  \n",
       "\n",
       "[5 rows x 22 columns]"
      ],
      "text/html": [
       "<div>\n",
       "<style scoped>\n",
       "    .dataframe tbody tr th:only-of-type {\n",
       "        vertical-align: middle;\n",
       "    }\n",
       "\n",
       "    .dataframe tbody tr th {\n",
       "        vertical-align: top;\n",
       "    }\n",
       "\n",
       "    .dataframe thead th {\n",
       "        text-align: right;\n",
       "    }\n",
       "</style>\n",
       "<table border=\"1\" class=\"dataframe\">\n",
       "  <thead>\n",
       "    <tr style=\"text-align: right;\">\n",
       "      <th></th>\n",
       "      <th>total_images</th>\n",
       "      <th>last_price</th>\n",
       "      <th>total_area</th>\n",
       "      <th>first_day_exposition</th>\n",
       "      <th>rooms</th>\n",
       "      <th>ceiling_height</th>\n",
       "      <th>floors_total</th>\n",
       "      <th>living_area</th>\n",
       "      <th>floor</th>\n",
       "      <th>is_apartment</th>\n",
       "      <th>...</th>\n",
       "      <th>kitchen_area</th>\n",
       "      <th>balcony</th>\n",
       "      <th>locality_name</th>\n",
       "      <th>airports_nearest</th>\n",
       "      <th>cityCenters_nearest</th>\n",
       "      <th>parks_around3000</th>\n",
       "      <th>parks_nearest</th>\n",
       "      <th>ponds_around3000</th>\n",
       "      <th>ponds_nearest</th>\n",
       "      <th>days_exposition</th>\n",
       "    </tr>\n",
       "  </thead>\n",
       "  <tbody>\n",
       "    <tr>\n",
       "      <td>543</td>\n",
       "      <td>11</td>\n",
       "      <td>12790000.0</td>\n",
       "      <td>56.6</td>\n",
       "      <td>2018-11-06T00:00:00</td>\n",
       "      <td>2</td>\n",
       "      <td>3.50</td>\n",
       "      <td>3.0</td>\n",
       "      <td>29.4</td>\n",
       "      <td>1</td>\n",
       "      <td>True</td>\n",
       "      <td>...</td>\n",
       "      <td>NaN</td>\n",
       "      <td>NaN</td>\n",
       "      <td>Петергоф</td>\n",
       "      <td>35248.0</td>\n",
       "      <td>30437.0</td>\n",
       "      <td>3.0</td>\n",
       "      <td>53.0</td>\n",
       "      <td>3.0</td>\n",
       "      <td>22.0</td>\n",
       "      <td>NaN</td>\n",
       "    </tr>\n",
       "    <tr>\n",
       "      <td>916</td>\n",
       "      <td>11</td>\n",
       "      <td>8183000.0</td>\n",
       "      <td>70.0</td>\n",
       "      <td>2018-01-11T00:00:00</td>\n",
       "      <td>2</td>\n",
       "      <td>3.12</td>\n",
       "      <td>3.0</td>\n",
       "      <td>40.0</td>\n",
       "      <td>3</td>\n",
       "      <td>True</td>\n",
       "      <td>...</td>\n",
       "      <td>NaN</td>\n",
       "      <td>2.0</td>\n",
       "      <td>Санкт-Петербург</td>\n",
       "      <td>45796.0</td>\n",
       "      <td>21729.0</td>\n",
       "      <td>0.0</td>\n",
       "      <td>NaN</td>\n",
       "      <td>1.0</td>\n",
       "      <td>754.0</td>\n",
       "      <td>179.0</td>\n",
       "    </tr>\n",
       "    <tr>\n",
       "      <td>1109</td>\n",
       "      <td>1</td>\n",
       "      <td>34878556.0</td>\n",
       "      <td>95.8</td>\n",
       "      <td>2014-12-09T00:00:00</td>\n",
       "      <td>2</td>\n",
       "      <td>NaN</td>\n",
       "      <td>6.0</td>\n",
       "      <td>58.3</td>\n",
       "      <td>5</td>\n",
       "      <td>True</td>\n",
       "      <td>...</td>\n",
       "      <td>20.0</td>\n",
       "      <td>1.0</td>\n",
       "      <td>Санкт-Петербург</td>\n",
       "      <td>21860.0</td>\n",
       "      <td>318.0</td>\n",
       "      <td>2.0</td>\n",
       "      <td>160.0</td>\n",
       "      <td>3.0</td>\n",
       "      <td>569.0</td>\n",
       "      <td>1572.0</td>\n",
       "    </tr>\n",
       "    <tr>\n",
       "      <td>1608</td>\n",
       "      <td>12</td>\n",
       "      <td>2150000.0</td>\n",
       "      <td>20.1</td>\n",
       "      <td>2019-01-30T00:00:00</td>\n",
       "      <td>1</td>\n",
       "      <td>NaN</td>\n",
       "      <td>9.0</td>\n",
       "      <td>NaN</td>\n",
       "      <td>1</td>\n",
       "      <td>True</td>\n",
       "      <td>...</td>\n",
       "      <td>NaN</td>\n",
       "      <td>NaN</td>\n",
       "      <td>Санкт-Петербург</td>\n",
       "      <td>26646.0</td>\n",
       "      <td>12147.0</td>\n",
       "      <td>0.0</td>\n",
       "      <td>NaN</td>\n",
       "      <td>0.0</td>\n",
       "      <td>NaN</td>\n",
       "      <td>13.0</td>\n",
       "    </tr>\n",
       "    <tr>\n",
       "      <td>2759</td>\n",
       "      <td>11</td>\n",
       "      <td>7500000.0</td>\n",
       "      <td>152.0</td>\n",
       "      <td>2018-07-27T00:00:00</td>\n",
       "      <td>3</td>\n",
       "      <td>3.00</td>\n",
       "      <td>3.0</td>\n",
       "      <td>NaN</td>\n",
       "      <td>1</td>\n",
       "      <td>True</td>\n",
       "      <td>...</td>\n",
       "      <td>NaN</td>\n",
       "      <td>1.0</td>\n",
       "      <td>Всеволожск</td>\n",
       "      <td>NaN</td>\n",
       "      <td>NaN</td>\n",
       "      <td>NaN</td>\n",
       "      <td>NaN</td>\n",
       "      <td>NaN</td>\n",
       "      <td>NaN</td>\n",
       "      <td>7.0</td>\n",
       "    </tr>\n",
       "  </tbody>\n",
       "</table>\n",
       "<p>5 rows × 22 columns</p>\n",
       "</div>"
      ]
     },
     "metadata": {},
     "execution_count": 11
    }
   ],
   "metadata": {}
  },
  {
   "cell_type": "markdown",
   "source": [
    "Не обнаружено данных в имеющихся столбцах, которые позволяют утверждать является ли рассматриваемая недвижимость апартаментами или нет.  \n",
    "**Исходя из доступной в сети информации** общаяя площадь жилищного фонда в Санкт-Петербурге составляет порядка 147 млн. кв. м., а общая площадь апартаментов  0,329 млн. кв. м., иными словами всего **0,22% недвижимости являются апартаментами**.  \n",
    "**По нашим данным** имеется 50 апартаментов в выборке из 23650 строк, то есть **0,2% от общего числа являются апартаментами**.  \n",
    "В связи с вышесказанным предположим, что выборка нашей таблице по соотношению квартир и апартаментов соответствует значению в целом по городу и заполним пропуски в столбце 'is_apartment' на False."
   ],
   "metadata": {}
  },
  {
   "cell_type": "code",
   "execution_count": 12,
   "source": [
    "data['is_apartment'] = data['is_apartment'].fillna(False)"
   ],
   "outputs": [],
   "metadata": {}
  },
  {
   "cell_type": "markdown",
   "source": [
    "Переведем тип данных в столбце 'first_day_exposition' из типа данных object в datetime. Так как достоверно известны только год, месяц и день публикации, а время публикации несущественно для целей исследования - отбросим его.  "
   ],
   "metadata": {}
  },
  {
   "cell_type": "code",
   "execution_count": 13,
   "source": [
    "data['first_day_exposition'] = pd.to_datetime(data['first_day_exposition'], format='%Y-%m-%d')\n",
    "data['first_day_exposition']"
   ],
   "outputs": [
    {
     "output_type": "execute_result",
     "data": {
      "text/plain": [
       "0       2019-03-07\n",
       "1       2018-12-04\n",
       "2       2015-08-20\n",
       "3       2015-07-24\n",
       "4       2018-06-19\n",
       "           ...    \n",
       "23694   2017-03-21\n",
       "23695   2018-01-15\n",
       "23696   2018-02-11\n",
       "23697   2017-03-28\n",
       "23698   2017-07-21\n",
       "Name: first_day_exposition, Length: 23650, dtype: datetime64[ns]"
      ]
     },
     "metadata": {},
     "execution_count": 13
    }
   ],
   "metadata": {}
  },
  {
   "cell_type": "markdown",
   "source": [
    "Виду отсутствия достоверных данных пропуски в столбце 'balcony' заменим на 0."
   ],
   "metadata": {}
  },
  {
   "cell_type": "code",
   "execution_count": 14,
   "source": [
    "data['balcony'] = data['balcony'].fillna(0)"
   ],
   "outputs": [],
   "metadata": {}
  },
  {
   "cell_type": "markdown",
   "source": [
    "Для заполнения пропусков в столбце 'living_area' и 'kitchen_area' используем медианное соотношение общей площади к жилой площади и площади кухни соответственно.  "
   ],
   "metadata": {}
  },
  {
   "cell_type": "markdown",
   "source": [
    "Заполним пропуски в 'living_area' по медианному соотношению."
   ],
   "metadata": {}
  },
  {
   "cell_type": "code",
   "execution_count": 15,
   "source": [
    "data['living_area'] = data['living_area'].fillna(\n",
    "    (data['living_area']/data['total_area']).median()*(data['total_area'])\n",
    ")"
   ],
   "outputs": [],
   "metadata": {}
  },
  {
   "cell_type": "markdown",
   "source": [
    "Заполнин пропуски в 'kitchen_area' по медианному соотношению."
   ],
   "metadata": {}
  },
  {
   "cell_type": "code",
   "execution_count": 16,
   "source": [
    "data['kitchen_area'] = data['kitchen_area'].fillna(\n",
    "    (data['kitchen_area']/data['total_area']).median()*(data['total_area'])\n",
    ")"
   ],
   "outputs": [],
   "metadata": {}
  },
  {
   "cell_type": "markdown",
   "source": [
    "Заменим нулевые значения в столбце 'rooms' на значение 1, так как даже в студиях есть одна комната, хоть и совмещенная с кухней."
   ],
   "metadata": {}
  },
  {
   "cell_type": "code",
   "execution_count": 17,
   "source": [
    "data['rooms'] = data['rooms'].replace(0, 1)"
   ],
   "outputs": [],
   "metadata": {}
  },
  {
   "cell_type": "markdown",
   "source": [
    "В столбце 'last_price' переведем цены в млн. (разделим на 1000000)"
   ],
   "metadata": {}
  },
  {
   "cell_type": "code",
   "execution_count": 18,
   "source": [
    "data['last_price'] = data['last_price'] / 1000000"
   ],
   "outputs": [],
   "metadata": {}
  },
  {
   "cell_type": "markdown",
   "source": [
    "Приведем название населенных пункторв с столбце 'locality_name' к нижнему регистру."
   ],
   "metadata": {}
  },
  {
   "cell_type": "code",
   "execution_count": 19,
   "source": [
    "data['locality_name'] = data['locality_name'].str.lower()"
   ],
   "outputs": [],
   "metadata": {}
  },
  {
   "cell_type": "markdown",
   "source": [
    "Проверим первые 20 значений колонки 'locality_name' на смысловые повторения."
   ],
   "metadata": {}
  },
  {
   "cell_type": "code",
   "execution_count": 20,
   "source": [
    "data['locality_name'].value_counts().head(20)"
   ],
   "outputs": [
    {
     "output_type": "execute_result",
     "data": {
      "text/plain": [
       "санкт-петербург            15721\n",
       "посёлок мурино               522\n",
       "посёлок шушары               440\n",
       "всеволожск                   398\n",
       "пушкин                       369\n",
       "колпино                      338\n",
       "посёлок парголово            327\n",
       "гатчина                      307\n",
       "деревня кудрово              299\n",
       "выборг                       237\n",
       "петергоф                     201\n",
       "сестрорецк                   183\n",
       "красное село                 178\n",
       "кудрово                      173\n",
       "деревня новое девяткино      144\n",
       "сертолово                    142\n",
       "ломоносов                    133\n",
       "кириши                       125\n",
       "сланцы                       112\n",
       "волхов                       111\n",
       "Name: locality_name, dtype: int64"
      ]
     },
     "metadata": {},
     "execution_count": 20
    }
   ],
   "metadata": {}
  },
  {
   "cell_type": "code",
   "execution_count": 21,
   "source": [
    "data['locality_name'].value_counts().head(20).sum() "
   ],
   "outputs": [
    {
     "output_type": "execute_result",
     "data": {
      "text/plain": [
       "20460"
      ]
     },
     "metadata": {},
     "execution_count": 21
    }
   ],
   "metadata": {}
  },
  {
   "cell_type": "markdown",
   "source": [
    "Так как в первой двадцатке наиболее частых названиях населнных пунктов нет повторений и они охватывают 86% (20460/23650) всех данных, углубленный анализ хвоста проводить не будем."
   ],
   "metadata": {}
  },
  {
   "cell_type": "code",
   "execution_count": 22,
   "source": [
    "data.duplicated().sum()"
   ],
   "outputs": [
    {
     "output_type": "execute_result",
     "data": {
      "text/plain": [
       "0"
      ]
     },
     "metadata": {},
     "execution_count": 22
    }
   ],
   "metadata": {}
  },
  {
   "cell_type": "markdown",
   "source": [
    "Заменим типы данных в столбцах 'balcony' и 'days_exposition' с float на int, так как в этих столбцах допустимы только целочисленные значения. "
   ],
   "metadata": {}
  },
  {
   "cell_type": "code",
   "execution_count": 23,
   "source": [
    "for column in ['balcony', 'days_exposition']:\n",
    "    data[column] = data[column].astype(int, errors='ignore')"
   ],
   "outputs": [],
   "metadata": {}
  },
  {
   "cell_type": "markdown",
   "source": [
    "Проверим типы данных в таблице."
   ],
   "metadata": {}
  },
  {
   "cell_type": "code",
   "execution_count": 24,
   "source": [
    "data.dtypes"
   ],
   "outputs": [
    {
     "output_type": "execute_result",
     "data": {
      "text/plain": [
       "total_images                     int64\n",
       "last_price                     float64\n",
       "total_area                     float64\n",
       "first_day_exposition    datetime64[ns]\n",
       "rooms                            int64\n",
       "ceiling_height                 float64\n",
       "floors_total                   float64\n",
       "living_area                    float64\n",
       "floor                            int64\n",
       "is_apartment                      bool\n",
       "studio                            bool\n",
       "open_plan                         bool\n",
       "kitchen_area                   float64\n",
       "balcony                          int64\n",
       "locality_name                   object\n",
       "airports_nearest               float64\n",
       "cityCenters_nearest            float64\n",
       "parks_around3000               float64\n",
       "parks_nearest                  float64\n",
       "ponds_around3000               float64\n",
       "ponds_nearest                  float64\n",
       "days_exposition                float64\n",
       "dtype: object"
      ]
     },
     "metadata": {},
     "execution_count": 24
    }
   ],
   "metadata": {}
  },
  {
   "cell_type": "markdown",
   "source": [
    "Выведем первые 5 строк таблицы."
   ],
   "metadata": {}
  },
  {
   "cell_type": "code",
   "execution_count": 25,
   "source": [
    "data.head()"
   ],
   "outputs": [
    {
     "output_type": "execute_result",
     "data": {
      "text/plain": [
       "   total_images  last_price  total_area first_day_exposition  rooms  \\\n",
       "0            20      13.000       108.0           2019-03-07      3   \n",
       "1             7       3.350        40.4           2018-12-04      1   \n",
       "2            10       5.196        56.0           2015-08-20      2   \n",
       "3             0      64.900       159.0           2015-07-24      3   \n",
       "4             2      10.000       100.0           2018-06-19      2   \n",
       "\n",
       "   ceiling_height  floors_total  living_area  floor  is_apartment  ...  \\\n",
       "0            2.70          16.0    51.000000      8         False  ...   \n",
       "1             NaN          11.0    18.600000      1         False  ...   \n",
       "2             NaN           5.0    34.300000      4         False  ...   \n",
       "3             NaN          14.0    90.289724      9         False  ...   \n",
       "4            3.03          14.0    32.000000     13         False  ...   \n",
       "\n",
       "   kitchen_area  balcony    locality_name  airports_nearest  \\\n",
       "0     25.000000        0  санкт-петербург           18863.0   \n",
       "1     11.000000        2   посёлок шушары           12817.0   \n",
       "2      8.300000        0  санкт-петербург           21741.0   \n",
       "3     27.413793        0  санкт-петербург           28098.0   \n",
       "4     41.000000        0  санкт-петербург           31856.0   \n",
       "\n",
       "  cityCenters_nearest  parks_around3000  parks_nearest  ponds_around3000  \\\n",
       "0             16028.0               1.0          482.0               2.0   \n",
       "1             18603.0               0.0            NaN               0.0   \n",
       "2             13933.0               1.0           90.0               2.0   \n",
       "3              6800.0               2.0           84.0               3.0   \n",
       "4              8098.0               2.0          112.0               1.0   \n",
       "\n",
       "   ponds_nearest  days_exposition  \n",
       "0          755.0              NaN  \n",
       "1            NaN             81.0  \n",
       "2          574.0            558.0  \n",
       "3          234.0            424.0  \n",
       "4           48.0            121.0  \n",
       "\n",
       "[5 rows x 22 columns]"
      ],
      "text/html": [
       "<div>\n",
       "<style scoped>\n",
       "    .dataframe tbody tr th:only-of-type {\n",
       "        vertical-align: middle;\n",
       "    }\n",
       "\n",
       "    .dataframe tbody tr th {\n",
       "        vertical-align: top;\n",
       "    }\n",
       "\n",
       "    .dataframe thead th {\n",
       "        text-align: right;\n",
       "    }\n",
       "</style>\n",
       "<table border=\"1\" class=\"dataframe\">\n",
       "  <thead>\n",
       "    <tr style=\"text-align: right;\">\n",
       "      <th></th>\n",
       "      <th>total_images</th>\n",
       "      <th>last_price</th>\n",
       "      <th>total_area</th>\n",
       "      <th>first_day_exposition</th>\n",
       "      <th>rooms</th>\n",
       "      <th>ceiling_height</th>\n",
       "      <th>floors_total</th>\n",
       "      <th>living_area</th>\n",
       "      <th>floor</th>\n",
       "      <th>is_apartment</th>\n",
       "      <th>...</th>\n",
       "      <th>kitchen_area</th>\n",
       "      <th>balcony</th>\n",
       "      <th>locality_name</th>\n",
       "      <th>airports_nearest</th>\n",
       "      <th>cityCenters_nearest</th>\n",
       "      <th>parks_around3000</th>\n",
       "      <th>parks_nearest</th>\n",
       "      <th>ponds_around3000</th>\n",
       "      <th>ponds_nearest</th>\n",
       "      <th>days_exposition</th>\n",
       "    </tr>\n",
       "  </thead>\n",
       "  <tbody>\n",
       "    <tr>\n",
       "      <td>0</td>\n",
       "      <td>20</td>\n",
       "      <td>13.000</td>\n",
       "      <td>108.0</td>\n",
       "      <td>2019-03-07</td>\n",
       "      <td>3</td>\n",
       "      <td>2.70</td>\n",
       "      <td>16.0</td>\n",
       "      <td>51.000000</td>\n",
       "      <td>8</td>\n",
       "      <td>False</td>\n",
       "      <td>...</td>\n",
       "      <td>25.000000</td>\n",
       "      <td>0</td>\n",
       "      <td>санкт-петербург</td>\n",
       "      <td>18863.0</td>\n",
       "      <td>16028.0</td>\n",
       "      <td>1.0</td>\n",
       "      <td>482.0</td>\n",
       "      <td>2.0</td>\n",
       "      <td>755.0</td>\n",
       "      <td>NaN</td>\n",
       "    </tr>\n",
       "    <tr>\n",
       "      <td>1</td>\n",
       "      <td>7</td>\n",
       "      <td>3.350</td>\n",
       "      <td>40.4</td>\n",
       "      <td>2018-12-04</td>\n",
       "      <td>1</td>\n",
       "      <td>NaN</td>\n",
       "      <td>11.0</td>\n",
       "      <td>18.600000</td>\n",
       "      <td>1</td>\n",
       "      <td>False</td>\n",
       "      <td>...</td>\n",
       "      <td>11.000000</td>\n",
       "      <td>2</td>\n",
       "      <td>посёлок шушары</td>\n",
       "      <td>12817.0</td>\n",
       "      <td>18603.0</td>\n",
       "      <td>0.0</td>\n",
       "      <td>NaN</td>\n",
       "      <td>0.0</td>\n",
       "      <td>NaN</td>\n",
       "      <td>81.0</td>\n",
       "    </tr>\n",
       "    <tr>\n",
       "      <td>2</td>\n",
       "      <td>10</td>\n",
       "      <td>5.196</td>\n",
       "      <td>56.0</td>\n",
       "      <td>2015-08-20</td>\n",
       "      <td>2</td>\n",
       "      <td>NaN</td>\n",
       "      <td>5.0</td>\n",
       "      <td>34.300000</td>\n",
       "      <td>4</td>\n",
       "      <td>False</td>\n",
       "      <td>...</td>\n",
       "      <td>8.300000</td>\n",
       "      <td>0</td>\n",
       "      <td>санкт-петербург</td>\n",
       "      <td>21741.0</td>\n",
       "      <td>13933.0</td>\n",
       "      <td>1.0</td>\n",
       "      <td>90.0</td>\n",
       "      <td>2.0</td>\n",
       "      <td>574.0</td>\n",
       "      <td>558.0</td>\n",
       "    </tr>\n",
       "    <tr>\n",
       "      <td>3</td>\n",
       "      <td>0</td>\n",
       "      <td>64.900</td>\n",
       "      <td>159.0</td>\n",
       "      <td>2015-07-24</td>\n",
       "      <td>3</td>\n",
       "      <td>NaN</td>\n",
       "      <td>14.0</td>\n",
       "      <td>90.289724</td>\n",
       "      <td>9</td>\n",
       "      <td>False</td>\n",
       "      <td>...</td>\n",
       "      <td>27.413793</td>\n",
       "      <td>0</td>\n",
       "      <td>санкт-петербург</td>\n",
       "      <td>28098.0</td>\n",
       "      <td>6800.0</td>\n",
       "      <td>2.0</td>\n",
       "      <td>84.0</td>\n",
       "      <td>3.0</td>\n",
       "      <td>234.0</td>\n",
       "      <td>424.0</td>\n",
       "    </tr>\n",
       "    <tr>\n",
       "      <td>4</td>\n",
       "      <td>2</td>\n",
       "      <td>10.000</td>\n",
       "      <td>100.0</td>\n",
       "      <td>2018-06-19</td>\n",
       "      <td>2</td>\n",
       "      <td>3.03</td>\n",
       "      <td>14.0</td>\n",
       "      <td>32.000000</td>\n",
       "      <td>13</td>\n",
       "      <td>False</td>\n",
       "      <td>...</td>\n",
       "      <td>41.000000</td>\n",
       "      <td>0</td>\n",
       "      <td>санкт-петербург</td>\n",
       "      <td>31856.0</td>\n",
       "      <td>8098.0</td>\n",
       "      <td>2.0</td>\n",
       "      <td>112.0</td>\n",
       "      <td>1.0</td>\n",
       "      <td>48.0</td>\n",
       "      <td>121.0</td>\n",
       "    </tr>\n",
       "  </tbody>\n",
       "</table>\n",
       "<p>5 rows × 22 columns</p>\n",
       "</div>"
      ]
     },
     "metadata": {},
     "execution_count": 25
    }
   ],
   "metadata": {}
  },
  {
   "cell_type": "markdown",
   "source": [
    "Проверим сколько строк осталось с пропущенными значениями."
   ],
   "metadata": {}
  },
  {
   "cell_type": "code",
   "execution_count": 26,
   "source": [
    "data.isnull().sum()"
   ],
   "outputs": [
    {
     "output_type": "execute_result",
     "data": {
      "text/plain": [
       "total_images                0\n",
       "last_price                  0\n",
       "total_area                  0\n",
       "first_day_exposition        0\n",
       "rooms                       0\n",
       "ceiling_height           9160\n",
       "floors_total               85\n",
       "living_area                 0\n",
       "floor                       0\n",
       "is_apartment                0\n",
       "studio                      0\n",
       "open_plan                   0\n",
       "kitchen_area                0\n",
       "balcony                     0\n",
       "locality_name               0\n",
       "airports_nearest         5534\n",
       "cityCenters_nearest      5511\n",
       "parks_around3000         5510\n",
       "parks_nearest           15586\n",
       "ponds_around3000         5510\n",
       "ponds_nearest           14565\n",
       "days_exposition          3180\n",
       "dtype: int64"
      ]
     },
     "metadata": {},
     "execution_count": 26
    }
   ],
   "metadata": {}
  },
  {
   "cell_type": "markdown",
   "source": [
    "### Вывод"
   ],
   "metadata": {}
  },
  {
   "cell_type": "markdown",
   "source": [
    "1) Удалили отсутствующие значения в столбце 'locality_name';  \n",
    "2) Отсутствующие значения в стоблце 'is_apartment' заменили на 'False';  \n",
    "3) Пропуски в столбце 'balcony' заменили на 0;  \n",
    "4) Заменили пропуски в столбцах 'living_area' и 'kitchen_area' используя медианное соотношение общей площади к жилой площади и площади кухни соответственно;  \n",
    "5) Заменили нулевые значения в столбце 'rooms' на значение 1;  \n",
    "6) Переведи цены в 'last_price' в млн.;  \n",
    "7) Привели название населнных пункто в столбце 'locality_name' к нижнему регистру;  \n",
    "8) Пропуски в столбцах 'airports_nearest', 'cityCenters_nearest', 'parks_around3000', 'parks_nearest', 'ponds_around3000', 'ponds_nearest' и 'floors_total' оставим без изменений, т.к. достоверно заполнить их не представляется возможным, а исключать не рационально. При необходимости заполним эти пропуски в дальнейшем;  \n",
    "9) Пропуски в столбцах 'ceiling_height' и 'days_exposition' оставим необработанными, так как по данным параметрам будет проводиться дальнейший анализ, а их усреднение повлияет объективность выборки и точность результатов анализа. \n"
   ],
   "metadata": {}
  },
  {
   "cell_type": "markdown",
   "source": [
    "## Рассчёты и добавление результатов в таблицу"
   ],
   "metadata": {}
  },
  {
   "cell_type": "markdown",
   "source": [
    "Добавим столбец с ценой за квадратный метр в тысячах и переведем в тип int для дальнейшей работы. Выведем первые 5 значенй для проверки."
   ],
   "metadata": {}
  },
  {
   "cell_type": "code",
   "execution_count": 27,
   "source": [
    "data['price_for_metеr'] = (data['last_price'] / data['total_area']*1000).astype(int)\n",
    "data['price_for_metеr'].head()"
   ],
   "outputs": [
    {
     "output_type": "execute_result",
     "data": {
      "text/plain": [
       "0    120\n",
       "1     82\n",
       "2     92\n",
       "3    408\n",
       "4    100\n",
       "Name: price_for_metеr, dtype: int64"
      ]
     },
     "metadata": {},
     "execution_count": 27
    }
   ],
   "metadata": {}
  },
  {
   "cell_type": "markdown",
   "source": [
    "Добавим столбцы с  днем недели, месяцем и годом публикации."
   ],
   "metadata": {}
  },
  {
   "cell_type": "code",
   "execution_count": 28,
   "source": [
    "data['week_day_exposition'] = data['first_day_exposition'].dt.weekday \n",
    "data['month_exposition'] = data['first_day_exposition'].dt.month \n",
    "data['year_exposition'] = data['first_day_exposition'].dt.year "
   ],
   "outputs": [],
   "metadata": {}
  },
  {
   "cell_type": "markdown",
   "source": [
    "Добавим в таблицу столбец с категорией этажа квартиры: первый, последний, другой."
   ],
   "metadata": {}
  },
  {
   "cell_type": "markdown",
   "source": [
    "Объявляем функцию присваивания категории этажа"
   ],
   "metadata": {}
  },
  {
   "cell_type": "code",
   "execution_count": 29,
   "source": [
    "def floor_category(row):\n",
    "    floor = row['floor']\n",
    "    floors_total = row['floors_total']\n",
    "    if floor == 1:\n",
    "        return 'первый'\n",
    "    if floor == floors_total:\n",
    "        return 'последний'\n",
    "    if floor > floors_total:\n",
    "        return 'проблемы'\n",
    "    else:\n",
    "        return 'другой'\n"
   ],
   "outputs": [],
   "metadata": {}
  },
  {
   "cell_type": "markdown",
   "source": [
    "Применяем функцию к исходной таблице для создания нового столбца."
   ],
   "metadata": {}
  },
  {
   "cell_type": "code",
   "execution_count": 30,
   "source": [
    "data['floor_category'] = data.apply(floor_category, axis=1)"
   ],
   "outputs": [],
   "metadata": {}
  },
  {
   "cell_type": "markdown",
   "source": [
    "Добавим в таблицу столбец соотношения жилой и общей площади, а также отношение площади кухни к общей."
   ],
   "metadata": {}
  },
  {
   "cell_type": "code",
   "execution_count": 31,
   "source": [
    "data['living_ratio'] = data['living_area'] / data['total_area']\n",
    "data['kitchen_ratio'] = data['kitchen_area'] / data['total_area']"
   ],
   "outputs": [],
   "metadata": {}
  },
  {
   "cell_type": "markdown",
   "source": [
    "Проверим категории этажей."
   ],
   "metadata": {}
  },
  {
   "cell_type": "code",
   "execution_count": 32,
   "source": [
    "print(\"Число строк, где этаж больше, чем всего этажей:\", len(data.query('floor_category == \"проблемы\"')))\n",
    "print(\"Всего первых этажей в таблице:\", len(data.query('floor_category == \"первый\"')))\n",
    "print(\"Всего последних этажей в таблице:\", len(data.query('floor_category == \"последний\"')))\n",
    "print(\"Всего промежуточных этажей в таблице:\", len(data.query('floor_category == \"другой\"')))"
   ],
   "outputs": [
    {
     "output_type": "stream",
     "name": "stdout",
     "text": [
      "Число строк, где этаж больше, чем всего этажей: 0\n",
      "Всего первых этажей в таблице: 2912\n",
      "Всего последних этажей в таблице: 3330\n",
      "Всего промежуточных этажей в таблице: 17408\n"
     ]
    }
   ],
   "metadata": {}
  },
  {
   "cell_type": "markdown",
   "source": [
    "Выведем первые 5 строк таблицы с добавленным колонками."
   ],
   "metadata": {}
  },
  {
   "cell_type": "code",
   "execution_count": 33,
   "source": [
    " data.head()"
   ],
   "outputs": [
    {
     "output_type": "execute_result",
     "data": {
      "text/plain": [
       "   total_images  last_price  total_area first_day_exposition  rooms  \\\n",
       "0            20      13.000       108.0           2019-03-07      3   \n",
       "1             7       3.350        40.4           2018-12-04      1   \n",
       "2            10       5.196        56.0           2015-08-20      2   \n",
       "3             0      64.900       159.0           2015-07-24      3   \n",
       "4             2      10.000       100.0           2018-06-19      2   \n",
       "\n",
       "   ceiling_height  floors_total  living_area  floor  is_apartment  ...  \\\n",
       "0            2.70          16.0    51.000000      8         False  ...   \n",
       "1             NaN          11.0    18.600000      1         False  ...   \n",
       "2             NaN           5.0    34.300000      4         False  ...   \n",
       "3             NaN          14.0    90.289724      9         False  ...   \n",
       "4            3.03          14.0    32.000000     13         False  ...   \n",
       "\n",
       "   ponds_around3000  ponds_nearest  days_exposition  price_for_metеr  \\\n",
       "0               2.0          755.0              NaN              120   \n",
       "1               0.0            NaN             81.0               82   \n",
       "2               2.0          574.0            558.0               92   \n",
       "3               3.0          234.0            424.0              408   \n",
       "4               1.0           48.0            121.0              100   \n",
       "\n",
       "  week_day_exposition  month_exposition  year_exposition  floor_category  \\\n",
       "0                   3                 3             2019          другой   \n",
       "1                   1                12             2018          первый   \n",
       "2                   3                 8             2015          другой   \n",
       "3                   4                 7             2015          другой   \n",
       "4                   1                 6             2018          другой   \n",
       "\n",
       "   living_ratio  kitchen_ratio  \n",
       "0      0.472222       0.231481  \n",
       "1      0.460396       0.272277  \n",
       "2      0.612500       0.148214  \n",
       "3      0.567860       0.172414  \n",
       "4      0.320000       0.410000  \n",
       "\n",
       "[5 rows x 29 columns]"
      ],
      "text/html": [
       "<div>\n",
       "<style scoped>\n",
       "    .dataframe tbody tr th:only-of-type {\n",
       "        vertical-align: middle;\n",
       "    }\n",
       "\n",
       "    .dataframe tbody tr th {\n",
       "        vertical-align: top;\n",
       "    }\n",
       "\n",
       "    .dataframe thead th {\n",
       "        text-align: right;\n",
       "    }\n",
       "</style>\n",
       "<table border=\"1\" class=\"dataframe\">\n",
       "  <thead>\n",
       "    <tr style=\"text-align: right;\">\n",
       "      <th></th>\n",
       "      <th>total_images</th>\n",
       "      <th>last_price</th>\n",
       "      <th>total_area</th>\n",
       "      <th>first_day_exposition</th>\n",
       "      <th>rooms</th>\n",
       "      <th>ceiling_height</th>\n",
       "      <th>floors_total</th>\n",
       "      <th>living_area</th>\n",
       "      <th>floor</th>\n",
       "      <th>is_apartment</th>\n",
       "      <th>...</th>\n",
       "      <th>ponds_around3000</th>\n",
       "      <th>ponds_nearest</th>\n",
       "      <th>days_exposition</th>\n",
       "      <th>price_for_metеr</th>\n",
       "      <th>week_day_exposition</th>\n",
       "      <th>month_exposition</th>\n",
       "      <th>year_exposition</th>\n",
       "      <th>floor_category</th>\n",
       "      <th>living_ratio</th>\n",
       "      <th>kitchen_ratio</th>\n",
       "    </tr>\n",
       "  </thead>\n",
       "  <tbody>\n",
       "    <tr>\n",
       "      <td>0</td>\n",
       "      <td>20</td>\n",
       "      <td>13.000</td>\n",
       "      <td>108.0</td>\n",
       "      <td>2019-03-07</td>\n",
       "      <td>3</td>\n",
       "      <td>2.70</td>\n",
       "      <td>16.0</td>\n",
       "      <td>51.000000</td>\n",
       "      <td>8</td>\n",
       "      <td>False</td>\n",
       "      <td>...</td>\n",
       "      <td>2.0</td>\n",
       "      <td>755.0</td>\n",
       "      <td>NaN</td>\n",
       "      <td>120</td>\n",
       "      <td>3</td>\n",
       "      <td>3</td>\n",
       "      <td>2019</td>\n",
       "      <td>другой</td>\n",
       "      <td>0.472222</td>\n",
       "      <td>0.231481</td>\n",
       "    </tr>\n",
       "    <tr>\n",
       "      <td>1</td>\n",
       "      <td>7</td>\n",
       "      <td>3.350</td>\n",
       "      <td>40.4</td>\n",
       "      <td>2018-12-04</td>\n",
       "      <td>1</td>\n",
       "      <td>NaN</td>\n",
       "      <td>11.0</td>\n",
       "      <td>18.600000</td>\n",
       "      <td>1</td>\n",
       "      <td>False</td>\n",
       "      <td>...</td>\n",
       "      <td>0.0</td>\n",
       "      <td>NaN</td>\n",
       "      <td>81.0</td>\n",
       "      <td>82</td>\n",
       "      <td>1</td>\n",
       "      <td>12</td>\n",
       "      <td>2018</td>\n",
       "      <td>первый</td>\n",
       "      <td>0.460396</td>\n",
       "      <td>0.272277</td>\n",
       "    </tr>\n",
       "    <tr>\n",
       "      <td>2</td>\n",
       "      <td>10</td>\n",
       "      <td>5.196</td>\n",
       "      <td>56.0</td>\n",
       "      <td>2015-08-20</td>\n",
       "      <td>2</td>\n",
       "      <td>NaN</td>\n",
       "      <td>5.0</td>\n",
       "      <td>34.300000</td>\n",
       "      <td>4</td>\n",
       "      <td>False</td>\n",
       "      <td>...</td>\n",
       "      <td>2.0</td>\n",
       "      <td>574.0</td>\n",
       "      <td>558.0</td>\n",
       "      <td>92</td>\n",
       "      <td>3</td>\n",
       "      <td>8</td>\n",
       "      <td>2015</td>\n",
       "      <td>другой</td>\n",
       "      <td>0.612500</td>\n",
       "      <td>0.148214</td>\n",
       "    </tr>\n",
       "    <tr>\n",
       "      <td>3</td>\n",
       "      <td>0</td>\n",
       "      <td>64.900</td>\n",
       "      <td>159.0</td>\n",
       "      <td>2015-07-24</td>\n",
       "      <td>3</td>\n",
       "      <td>NaN</td>\n",
       "      <td>14.0</td>\n",
       "      <td>90.289724</td>\n",
       "      <td>9</td>\n",
       "      <td>False</td>\n",
       "      <td>...</td>\n",
       "      <td>3.0</td>\n",
       "      <td>234.0</td>\n",
       "      <td>424.0</td>\n",
       "      <td>408</td>\n",
       "      <td>4</td>\n",
       "      <td>7</td>\n",
       "      <td>2015</td>\n",
       "      <td>другой</td>\n",
       "      <td>0.567860</td>\n",
       "      <td>0.172414</td>\n",
       "    </tr>\n",
       "    <tr>\n",
       "      <td>4</td>\n",
       "      <td>2</td>\n",
       "      <td>10.000</td>\n",
       "      <td>100.0</td>\n",
       "      <td>2018-06-19</td>\n",
       "      <td>2</td>\n",
       "      <td>3.03</td>\n",
       "      <td>14.0</td>\n",
       "      <td>32.000000</td>\n",
       "      <td>13</td>\n",
       "      <td>False</td>\n",
       "      <td>...</td>\n",
       "      <td>1.0</td>\n",
       "      <td>48.0</td>\n",
       "      <td>121.0</td>\n",
       "      <td>100</td>\n",
       "      <td>1</td>\n",
       "      <td>6</td>\n",
       "      <td>2018</td>\n",
       "      <td>другой</td>\n",
       "      <td>0.320000</td>\n",
       "      <td>0.410000</td>\n",
       "    </tr>\n",
       "  </tbody>\n",
       "</table>\n",
       "<p>5 rows × 29 columns</p>\n",
       "</div>"
      ]
     },
     "metadata": {},
     "execution_count": 33
    }
   ],
   "metadata": {}
  },
  {
   "cell_type": "markdown",
   "source": [
    "### Вывод"
   ],
   "metadata": {}
  },
  {
   "cell_type": "markdown",
   "source": [
    "В таблицу добавлены столбцы:  \n",
    "цена квадратного метра;  \n",
    "день недели, месяц и год публикации объявления;  \n",
    "категория этажа квартиры — первый, последний, другой;  \n",
    "соотношения жилой и общей площади, а также отношение площади кухни к общей."
   ],
   "metadata": {}
  },
  {
   "cell_type": "markdown",
   "source": [
    "## Исследовательский анализ данных"
   ],
   "metadata": {}
  },
  {
   "cell_type": "markdown",
   "source": [
    "### Изучим параметры: площадь, цена, число комнат, высота потолков"
   ],
   "metadata": {}
  },
  {
   "cell_type": "markdown",
   "source": [
    "#### Изучим параметр \"total_area\" — площадь квартиры в квадратных метрах."
   ],
   "metadata": {}
  },
  {
   "cell_type": "code",
   "execution_count": 34,
   "source": [
    "print(data['total_area'].describe()) \n",
    "data.boxplot('total_area', figsize=(10,10)) \n",
    "plt.ylim(0, 150) \n",
    "plt.show()\n",
    "data.plot(y='total_area', kind='hist', bins=250, range=(0, 500), figsize=(17,5), grid=True) \n",
    "plt.show()"
   ],
   "outputs": [
    {
     "output_type": "stream",
     "name": "stdout",
     "text": [
      "count    23650.000000\n",
      "mean        60.329069\n",
      "std         35.661808\n",
      "min         12.000000\n",
      "25%         40.000000\n",
      "50%         52.000000\n",
      "75%         69.700000\n",
      "max        900.000000\n",
      "Name: total_area, dtype: float64\n"
     ]
    },
    {
     "output_type": "display_data",
     "data": {
      "text/plain": [
       "<Figure size 720x720 with 1 Axes>"
      ],
      "image/png": "[encoded data removed]"
     },
     "metadata": {
      "needs_background": "light"
     }
    },
    {
     "output_type": "display_data",
     "data": {
      "text/plain": [
       "<Figure size 1224x360 with 1 Axes>"
      ],
      "image/png": "[encoded data removed]"
     },
     "metadata": {
      "needs_background": "light"
     }
    }
   ],
   "metadata": {}
  },
  {
   "cell_type": "markdown",
   "source": [
    "#### Изучим параметр \"last_price\" — цена в млн. на момент снятия с публикации."
   ],
   "metadata": {}
  },
  {
   "cell_type": "code",
   "execution_count": 35,
   "source": [
    "print(data['last_price'].describe()) \n",
    "data.boxplot('last_price', figsize=(10,10)) \n",
    "plt.ylim(0, 110) \n",
    "plt.show()\n",
    "data.plot(y='last_price', kind='hist', bins=500, range=(0, 110), figsize=(17,5), grid=True) \n",
    "plt.show()"
   ],
   "outputs": [
    {
     "output_type": "stream",
     "name": "stdout",
     "text": [
      "count    23650.000000\n",
      "mean         6.541127\n",
      "std         10.896399\n",
      "min          0.012190\n",
      "25%          3.400000\n",
      "50%          4.650000\n",
      "75%          6.799000\n",
      "max        763.000000\n",
      "Name: last_price, dtype: float64\n"
     ]
    },
    {
     "output_type": "display_data",
     "data": {
      "text/plain": [
       "<Figure size 720x720 with 1 Axes>"
      ],
      "image/png": "[encoded data removed]"
     },
     "metadata": {
      "needs_background": "light"
     }
    },
    {
     "output_type": "display_data",
     "data": {
      "text/plain": [
       "<Figure size 1224x360 with 1 Axes>"
      ],
      "image/png": "[encoded data removed]"
     },
     "metadata": {
      "needs_background": "light"
     }
    }
   ],
   "metadata": {}
  },
  {
   "cell_type": "markdown",
   "source": [
    "#### Изучим параметр \"rooms\" — число комнат."
   ],
   "metadata": {}
  },
  {
   "cell_type": "code",
   "execution_count": 36,
   "source": [
    "print(data['rooms'].describe()) \n",
    "data.boxplot('rooms', figsize=(10,10)) \n",
    "plt.ylim(0, 19) \n",
    "plt.show()\n",
    "data.plot(y='rooms', kind='hist', bins=10, range=(1, 10), figsize=(17,5), grid=True)\n",
    "plt.show()"
   ],
   "outputs": [
    {
     "output_type": "stream",
     "name": "stdout",
     "text": [
      "count    23650.000000\n",
      "mean         2.078436\n",
      "std          1.066393\n",
      "min          1.000000\n",
      "25%          1.000000\n",
      "50%          2.000000\n",
      "75%          3.000000\n",
      "max         19.000000\n",
      "Name: rooms, dtype: float64\n"
     ]
    },
    {
     "output_type": "display_data",
     "data": {
      "text/plain": [
       "<Figure size 720x720 with 1 Axes>"
      ],
      "image/png": "[encoded data removed]"
     },
     "metadata": {
      "needs_background": "light"
     }
    },
    {
     "output_type": "display_data",
     "data": {
      "text/plain": [
       "<Figure size 1224x360 with 1 Axes>"
      ],
      "image/png": "[encoded data removed]"
     },
     "metadata": {
      "needs_background": "light"
     }
    }
   ],
   "metadata": {}
  },
  {
   "cell_type": "markdown",
   "source": [
    "#### Изучим параметр \"ceiling_height\" — высота потолков (м)."
   ],
   "metadata": {}
  },
  {
   "cell_type": "code",
   "execution_count": 37,
   "source": [
    "print(data['ceiling_height'].describe()) \n",
    "data.boxplot('ceiling_height', figsize=(10,10)) \n",
    "plt.ylim(0, 5) \n",
    "plt.show()\n",
    "data.plot(y='ceiling_height', kind='hist', bins=20, range=(2, 5), figsize=(17,5), grid=True) \n",
    "plt.show()"
   ],
   "outputs": [
    {
     "output_type": "stream",
     "name": "stdout",
     "text": [
      "count    14490.000000\n",
      "mean         2.771287\n",
      "std          1.261593\n",
      "min          1.000000\n",
      "25%          2.520000\n",
      "50%          2.650000\n",
      "75%          2.800000\n",
      "max        100.000000\n",
      "Name: ceiling_height, dtype: float64\n"
     ]
    },
    {
     "output_type": "display_data",
     "data": {
      "text/plain": [
       "<Figure size 720x720 with 1 Axes>"
      ],
      "image/png": "[encoded data removed]"
     },
     "metadata": {
      "needs_background": "light"
     }
    },
    {
     "output_type": "display_data",
     "data": {
      "text/plain": [
       "<Figure size 1224x360 with 1 Axes>"
      ],
      "image/png": "[encoded data removed]"
     },
     "metadata": {
      "needs_background": "light"
     }
    }
   ],
   "metadata": {}
  },
  {
   "cell_type": "markdown",
   "source": [
    "Создадим срез данных по столбцу 'ceiling_height'"
   ],
   "metadata": {}
  },
  {
   "cell_type": "markdown",
   "source": [
    "#### Вывод по анализу параметров: площадь, цена, число комнат, высота потолков"
   ],
   "metadata": {}
  },
  {
   "cell_type": "markdown",
   "source": [
    "Построены гистограммы распределения значений и получены описания данных для параметров площади, цены, числа комнат, высоты потолков.  \n",
    "\n",
    "В столбце \"total_area\" — площадь квартиры в квадратных метрах имеется значение 900 кв.м., что существено превышает среднеквадратичное отклонение, снижает читаемость гистограммы. Однако это значение выглядит вполне правдоподобно. Возможно в дальнейшем исключим редкие и слишком большие/маленькие квартиры из среза.  Среднее значение площади составля 60 кв.м., медиана 52 кв.м.\n",
    "  \n",
    "В столбце \"last_price\" — цена в млн. на момент снятия с публикации имеются неправдоподобно маленькие и большие значения (0,012 млн и 763 млн.). Продажа квартиры за 12 тысяч выглядит неправдоподобно, скорее всего это ошибка и имелась в виду цена аренды. Цена в 763 млн также выглядит неправдоподобно, даже с учетом наличия квартиры площадью 900 кв.м. В дальнейшем потребуется исключить очень дорогие квартиры (более 50 млн.) из среза. Среднее значение цены за квартиру 6,5 млн., медиана 4,6 млн.\n",
    "\n",
    "Столбец \"rooms\" — число комнат содержит значение 19, вероянее всего относится к квартире площадью 900 кв.м. в остальном значения выглядят правдоподобно. Возможно в дальнейшем исключим квартиры с числом комнат больше 10 из среза. Больше всего в таблице однокомнатных квартир, количество комнат больше 3 - редкость. \n",
    "\n",
    "У столбца \"ceiling_height\" — высота потолков (м) имеется неадекватное значение 100 м, кроме того имеются квартиры с высотой потолков ниже 2 метров. В дальнейшем выбивающиеся значения потребуется исключить. В среднем высота потолков составляет 2,77 м, медиана 2,65 м. "
   ],
   "metadata": {}
  },
  {
   "cell_type": "markdown",
   "source": [
    "### Изучим время продажи квартир."
   ],
   "metadata": {}
  },
  {
   "cell_type": "markdown",
   "source": [
    "#### Построим гистограмму и диграмму размаха."
   ],
   "metadata": {}
  },
  {
   "cell_type": "code",
   "execution_count": 38,
   "source": [
    "data.plot(y='days_exposition', kind='hist', bins=500, range=(0, 1600), figsize=(17,5), grid=True) \n",
    "plt.show()\n",
    "print(data['days_exposition'].describe()) "
   ],
   "outputs": [
    {
     "output_type": "display_data",
     "data": {
      "text/plain": [
       "<Figure size 1224x360 with 1 Axes>"
      ],
      "image/png": "[encoded data removed]"
     },
     "metadata": {
      "needs_background": "light"
     }
    },
    {
     "output_type": "stream",
     "name": "stdout",
     "text": [
      "count    20470.000000\n",
      "mean       180.753200\n",
      "std        219.777916\n",
      "min          1.000000\n",
      "25%         45.000000\n",
      "50%         95.000000\n",
      "75%        231.000000\n",
      "max       1580.000000\n",
      "Name: days_exposition, dtype: float64\n"
     ]
    }
   ],
   "metadata": {}
  },
  {
   "cell_type": "code",
   "execution_count": 39,
   "source": [
    "data.boxplot('days_exposition', figsize=(10,5)) \n",
    "plt.ylim(0, 550) \n",
    "plt.show()"
   ],
   "outputs": [
    {
     "output_type": "display_data",
     "data": {
      "text/plain": [
       "<Figure size 720x360 with 1 Axes>"
      ],
      "image/png": "[encoded data removed]"
     },
     "metadata": {
      "needs_background": "light"
     }
    }
   ],
   "metadata": {
    "scrolled": true
   }
  },
  {
   "cell_type": "markdown",
   "source": [
    "Более детально просмотрим выбивающиеся значения в гистограме длительности публикации, уменьшив диапазон."
   ],
   "metadata": {}
  },
  {
   "cell_type": "code",
   "execution_count": 40,
   "source": [
    "data.plot(y = 'days_exposition', kind = 'hist', bins = 231, range = (0, 231), figsize=(17,5), grid = True) \n",
    "plt.show()"
   ],
   "outputs": [
    {
     "output_type": "display_data",
     "data": {
      "text/plain": [
       "<Figure size 1224x360 with 1 Axes>"
      ],
      "image/png": "[encoded data removed]"
     },
     "metadata": {
      "needs_background": "light"
     }
    }
   ],
   "metadata": {}
  },
  {
   "cell_type": "markdown",
   "source": [
    "Выведем 10 наиболее часто встречающиеся значения в столбце 'days_exposition'."
   ],
   "metadata": {}
  },
  {
   "cell_type": "code",
   "execution_count": 41,
   "source": [
    "data['days_exposition'].value_counts().head(10) "
   ],
   "outputs": [
    {
     "output_type": "execute_result",
     "data": {
      "text/plain": [
       "45.0    879\n",
       "60.0    538\n",
       "7.0     234\n",
       "30.0    208\n",
       "90.0    203\n",
       "4.0     174\n",
       "3.0     158\n",
       "5.0     152\n",
       "14.0    148\n",
       "9.0     142\n",
       "Name: days_exposition, dtype: int64"
      ]
     },
     "metadata": {},
     "execution_count": 41
    }
   ],
   "metadata": {}
  },
  {
   "cell_type": "markdown",
   "source": [
    "#### Вывод по анализу времени продажи квартиры"
   ],
   "metadata": {}
  },
  {
   "cell_type": "markdown",
   "source": [
    "По полученным данным можно сделать вывод что обычно продажа квартиры занимает 95 дней. Можно считать что продажи прошли быстро, если квартира продалась менее чем за 45 дней. Необычно долгим можно считать срок продажи более 500 дней.  \n",
    "Имеются аномально часто повторяющиеся значения длительности размещения объявления: 45, 60, 7, 30, 90 дней. Учитывая кратность этих чисел можно предположить что это связано с условиями публикации объявлений (например публикация на неделю, месяц, полтора месяца, два и на три месяца). В дальнейшем потребуется избавиться от этих выбивающихся значений.  \n",
    "По результатам исключения редких и выбивающихся значений по результатам пункта 4.3 медианная длительность продажи квартиры увеличилась с 95 до 111 дней, а необычно долгий срок продажи скорректировался с 500 до 550 дней."
   ],
   "metadata": {}
  },
  {
   "cell_type": "markdown",
   "source": [
    "### Уберем редкие и выбивающиеся значения."
   ],
   "metadata": {}
  },
  {
   "cell_type": "markdown",
   "source": [
    "Cоздадим новую таблицу good_data и сохраним в ней срез по значениям не входящим в список bad_days составленный на основе выводов пункта 4.2.2. (со значениями 45, 60, 7, 30, 90), кроме этого отсеем квартиры, которые продавались более 1000 дней. Для корректной работы среза, заполним пропуски в столбце 'days_exposition' на (-1) и изменим тип данных на int.  \n",
    "Чтобы не лишаться данных по столбцу 'ceiling_height' и при этом исключить аномальные значения так же заменим пропуски на (-1)."
   ],
   "metadata": {}
  },
  {
   "cell_type": "code",
   "execution_count": 42,
   "source": [
    "data['days_exposition'] = data['days_exposition'].fillna(-1).astype('int')\n",
    "data['ceiling_height'] = data['ceiling_height'].fillna(-1)\n",
    "print(data['ceiling_height'].value_counts().head(10))\n",
    "bad_days = [7, 30, 45, 60, 90]\n",
    "good_data = data.query('days_exposition not in @bad_days and days_exposition <1000')"
   ],
   "outputs": [
    {
     "output_type": "stream",
     "name": "stdout",
     "text": [
      "-1.00    9160\n",
      " 2.50    3515\n",
      " 2.60    1645\n",
      " 2.70    1572\n",
      " 3.00    1109\n",
      " 2.80     993\n",
      " 2.55     980\n",
      " 2.75     906\n",
      " 2.65     676\n",
      " 3.20     276\n",
      "Name: ceiling_height, dtype: int64\n"
     ]
    }
   ],
   "metadata": {}
  },
  {
   "cell_type": "markdown",
   "source": [
    "Выведем гистограмму длительности размещения объявления, после исключения выбивающихся значений."
   ],
   "metadata": {}
  },
  {
   "cell_type": "code",
   "execution_count": 43,
   "source": [
    "good_data.plot(y = 'days_exposition', kind = 'hist', bins = 100, range = (0, 1000), figsize=(17,5), grid = True)\n",
    "plt.show()"
   ],
   "outputs": [
    {
     "output_type": "display_data",
     "data": {
      "text/plain": [
       "<Figure size 1224x360 with 1 Axes>"
      ],
      "image/png": "[encoded data removed]"
     },
     "metadata": {
      "needs_background": "light"
     }
    }
   ],
   "metadata": {}
  },
  {
   "cell_type": "markdown",
   "source": [
    "Проверим какой процент строк остался в таблице после отсеивания аномально часто повторяющиеся значения длительности размещения объявления."
   ],
   "metadata": {}
  },
  {
   "cell_type": "code",
   "execution_count": 44,
   "source": [
    "print(f'В срез \"good_data\" после отсеивания по столбцу \"days_exposition\" попало {(len(good_data)/len(data)):.1%} данных')"
   ],
   "outputs": [
    {
     "output_type": "stream",
     "name": "stdout",
     "text": [
      "В срез \"good_data\" после отсеивания по столбцу \"days_exposition\" попало 90.1% данных\n"
     ]
    }
   ],
   "metadata": {}
  },
  {
   "cell_type": "markdown",
   "source": [
    "Проанализируем диаграмму размаха для столбца 'price_for_metеr', чтобы избавиться от выбивающихся значений."
   ],
   "metadata": {}
  },
  {
   "cell_type": "code",
   "execution_count": 45,
   "source": [
    "good_data.boxplot('price_for_metеr', figsize=(10,10)) \n",
    "plt.show()"
   ],
   "outputs": [
    {
     "output_type": "display_data",
     "data": {
      "text/plain": [
       "<Figure size 720x720 with 1 Axes>"
      ],
      "image/png": "[encoded data removed]"
     },
     "metadata": {
      "needs_background": "light"
     }
    }
   ],
   "metadata": {}
  },
  {
   "cell_type": "markdown",
   "source": [
    "По диаграмме размаха столбца 'price_for_metеr' можно наблюдать что имеются квартиры со стоимостью за кв.м. более 0,5 млн. Избавимся от них в срезе good_data. Так же проведем срез по ранее определенным проблемным данным столбцов 'ceiling_height', 'last_price', 'rooms', 'price_for_metеr'."
   ],
   "metadata": {}
  },
  {
   "cell_type": "code",
   "execution_count": 46,
   "source": [
    "good_data = good_data.query('2.2 < ceiling_height < 4 or ceiling_height == (-1)') \n",
    "good_data = good_data.query('1 < last_price < 50')\n",
    "good_data = good_data.query('rooms < 10')\n",
    "good_data = good_data.query('price_for_metеr < 500')\n",
    "good_data = good_data.query('total_area < 300')"
   ],
   "outputs": [],
   "metadata": {}
  },
  {
   "cell_type": "code",
   "execution_count": 47,
   "source": [
    "print(f'В срез \"good_data\" попало {(len(good_data)/len(data)):.1%} данных')"
   ],
   "outputs": [
    {
     "output_type": "stream",
     "name": "stdout",
     "text": [
      "В срез \"good_data\" попало 88.1% данных\n"
     ]
    }
   ],
   "metadata": {}
  },
  {
   "cell_type": "markdown",
   "source": [
    "Для актуализации анализа длительности продажи сохраним полученный срез в good_data_exposition в которым исключим заполненные (-1) значения в столбце 'days_exposition'. Проверим диаграмму размаха."
   ],
   "metadata": {}
  },
  {
   "cell_type": "code",
   "execution_count": 48,
   "source": [
    "good_data_exposition = good_data.query('days_exposition != (-1)')\n",
    "good_data_exposition['days_exposition'].describe()"
   ],
   "outputs": [
    {
     "output_type": "execute_result",
     "data": {
      "text/plain": [
       "count    17777.000000\n",
       "mean       179.749114\n",
       "std        192.320356\n",
       "min          1.000000\n",
       "25%         44.000000\n",
       "50%        111.000000\n",
       "75%        245.000000\n",
       "max        999.000000\n",
       "Name: days_exposition, dtype: float64"
      ]
     },
     "metadata": {},
     "execution_count": 48
    }
   ],
   "metadata": {}
  },
  {
   "cell_type": "code",
   "execution_count": 49,
   "source": [
    "good_data_exposition.boxplot('days_exposition', figsize=(10,10)) \n",
    "plt.ylim(0, 600)\n",
    "plt.show()"
   ],
   "outputs": [
    {
     "output_type": "display_data",
     "data": {
      "text/plain": [
       "<Figure size 720x720 with 1 Axes>"
      ],
      "image/png": "[encoded data removed]"
     },
     "metadata": {
      "needs_background": "light"
     }
    }
   ],
   "metadata": {}
  },
  {
   "cell_type": "markdown",
   "source": [
    "#### Вывод"
   ],
   "metadata": {}
  },
  {
   "cell_type": "markdown",
   "source": [
    "После исключения редких и выбивающихся значений по столбцам 'ceiling_height', 'last_price', 'rooms', 'price_for_metеr', 'total_area' и 'days_exposition' в таблице осталось 88,1% данных. С учетом 0,2% строк исключенных по отсутствию значения в столбце населеный пункт ('locality_name'), 9,7% данных не прошли в срез по столбцу 'days_exposition'. На остальные столбцы 'ceiling_height', 'last_price', 'rooms', 'price_for_metеr' и 'total_area' по которым проводился срез приходится лишь 2% исключенных данных."
   ],
   "metadata": {}
  },
  {
   "cell_type": "markdown",
   "source": [
    "### Факторы, которые больше всего влияют на стоимость квартиры. "
   ],
   "metadata": {}
  },
  {
   "cell_type": "markdown",
   "source": [
    "####  Зависимость цены от площади квартиры, числа комнат, этажа, удалённости от центра."
   ],
   "metadata": {}
  },
  {
   "cell_type": "markdown",
   "source": [
    "##### Зависимость цены от площади квартиры"
   ],
   "metadata": {}
  },
  {
   "cell_type": "markdown",
   "source": [
    "Создаем сводную таблицу."
   ],
   "metadata": {}
  },
  {
   "cell_type": "code",
   "execution_count": 50,
   "source": [
    "pivot_table_area = good_data.pivot_table(index = 'total_area', values = 'last_price', aggfunc = ['mean', 'median'])\n",
    "pivot_table_area.columns = ['mean_price', 'median_price']"
   ],
   "outputs": [],
   "metadata": {}
  },
  {
   "cell_type": "markdown",
   "source": [
    "Строим диаграмму рассеяния."
   ],
   "metadata": {}
  },
  {
   "cell_type": "code",
   "execution_count": 51,
   "source": [
    "pivot_table_area.plot(y = 'median_price', style = 'o', figsize=(17,5))\n",
    "plt.show()"
   ],
   "outputs": [
    {
     "output_type": "display_data",
     "data": {
      "text/plain": [
       "<Figure size 1224x360 with 1 Axes>"
      ],
      "image/png": "[encoded data removed]"
     },
     "metadata": {
      "needs_background": "light"
     }
    }
   ],
   "metadata": {}
  },
  {
   "cell_type": "markdown",
   "source": [
    "Выведем линейный коэффициент корреляции"
   ],
   "metadata": {}
  },
  {
   "cell_type": "code",
   "execution_count": 52,
   "source": [
    "good_data['total_area'].corr(good_data['last_price'])"
   ],
   "outputs": [
    {
     "output_type": "execute_result",
     "data": {
      "text/plain": [
       "0.7847675993382093"
      ]
     },
     "metadata": {},
     "execution_count": 52
    }
   ],
   "metadata": {}
  },
  {
   "cell_type": "markdown",
   "source": [
    "Имеется прямая зависимость между стоимостью квартиры и ее площадью. Линейный коэффициент корреляции 0,78. "
   ],
   "metadata": {}
  },
  {
   "cell_type": "markdown",
   "source": [
    "##### Зависимость цены от числа комнат"
   ],
   "metadata": {}
  },
  {
   "cell_type": "markdown",
   "source": [
    "Создаем сводную таблицу."
   ],
   "metadata": {}
  },
  {
   "cell_type": "code",
   "execution_count": 53,
   "source": [
    "pivot_table_rooms = good_data.pivot_table(index = 'rooms', values = 'last_price', aggfunc = ['mean', 'median'])\n",
    "pivot_table_rooms.columns = ['mean_price', 'median_price']"
   ],
   "outputs": [],
   "metadata": {}
  },
  {
   "cell_type": "markdown",
   "source": [
    "Строим график."
   ],
   "metadata": {}
  },
  {
   "cell_type": "code",
   "execution_count": 54,
   "source": [
    "pivot_table_rooms.plot(y = 'median_price')\n",
    "plt.show()"
   ],
   "outputs": [
    {
     "output_type": "display_data",
     "data": {
      "text/plain": [
       "<Figure size 432x288 with 1 Axes>"
      ],
      "image/png": "[encoded data removed]"
     },
     "metadata": {
      "needs_background": "light"
     }
    }
   ],
   "metadata": {}
  },
  {
   "cell_type": "markdown",
   "source": [
    "Выведем линейный коэффициент корреляции."
   ],
   "metadata": {}
  },
  {
   "cell_type": "code",
   "execution_count": 55,
   "source": [
    "good_data['rooms'].corr(good_data['last_price']) "
   ],
   "outputs": [
    {
     "output_type": "execute_result",
     "data": {
      "text/plain": [
       "0.5005202628726847"
      ]
     },
     "metadata": {},
     "execution_count": 55
    }
   ],
   "metadata": {}
  },
  {
   "cell_type": "markdown",
   "source": [
    "Имеется прямая зависимость между стоимостью квартиры и числом комнат. Линейный коэффициент корреляции 0,50. "
   ],
   "metadata": {}
  },
  {
   "cell_type": "markdown",
   "source": [
    "##### Зависимость от этажа"
   ],
   "metadata": {}
  },
  {
   "cell_type": "markdown",
   "source": [
    "Создаем сводную таблицу."
   ],
   "metadata": {}
  },
  {
   "cell_type": "code",
   "execution_count": 56,
   "source": [
    "pivot_table_floor = good_data.pivot_table(index = 'floor_category', values = 'last_price', aggfunc = ['mean', 'median'])\n",
    "pivot_table_floor.columns = ['mean_price', 'median_price'] "
   ],
   "outputs": [],
   "metadata": {}
  },
  {
   "cell_type": "markdown",
   "source": [
    "Строим график."
   ],
   "metadata": {}
  },
  {
   "cell_type": "code",
   "execution_count": 57,
   "source": [
    "pivot_table_floor.plot(y = 'median_price') \n",
    "plt.show()"
   ],
   "outputs": [
    {
     "output_type": "display_data",
     "data": {
      "text/plain": [
       "<Figure size 432x288 with 1 Axes>"
      ],
      "image/png": "[encoded data removed]"
     },
     "metadata": {
      "needs_background": "light"
     }
    }
   ],
   "metadata": {}
  },
  {
   "cell_type": "markdown",
   "source": [
    "Исходя из графика видим, что квартиры на последнем этаже на примерно 10% дороже квартир на первом этаже. При этом квартиры на последних этажах на 9% дешевле квартир на промежуточных этажах."
   ],
   "metadata": {}
  },
  {
   "cell_type": "markdown",
   "source": [
    "##### Зависимость от удаленности от центра"
   ],
   "metadata": {}
  },
  {
   "cell_type": "code",
   "execution_count": 58,
   "source": [
    "good_data.plot(kind = 'scatter', y = 'last_price', x = 'cityCenters_nearest', alpha = 0.05)"
   ],
   "outputs": [
    {
     "output_type": "execute_result",
     "data": {
      "text/plain": [
       "<matplotlib.axes._subplots.AxesSubplot at 0x7efbce5e9910>"
      ]
     },
     "metadata": {},
     "execution_count": 58
    },
    {
     "output_type": "display_data",
     "data": {
      "text/plain": [
       "<Figure size 432x288 with 1 Axes>"
      ],
      "image/png": "[encoded data removed]"
     },
     "metadata": {
      "needs_background": "light"
     }
    }
   ],
   "metadata": {}
  },
  {
   "cell_type": "markdown",
   "source": [
    "Выведем коэффициент линейной корреляции."
   ],
   "metadata": {}
  },
  {
   "cell_type": "code",
   "execution_count": 59,
   "source": [
    "good_data['cityCenters_nearest'].corr(good_data['last_price']) "
   ],
   "outputs": [
    {
     "output_type": "execute_result",
     "data": {
      "text/plain": [
       "-0.33581721785884955"
      ]
     },
     "metadata": {},
     "execution_count": 59
    }
   ],
   "metadata": {}
  },
  {
   "cell_type": "markdown",
   "source": [
    "По диаграмме рассеяния видим обратную зависимость стоимости квартиры от расстояния до центра города. Чем ближе к центру, тем дороже квартира. Линейный коэффициент корреляции -0,33."
   ],
   "metadata": {}
  },
  {
   "cell_type": "markdown",
   "source": [
    "##### Зависимость цены квартиры от даты размещения объявления."
   ],
   "metadata": {}
  },
  {
   "cell_type": "markdown",
   "source": [
    "Создаем сводную таблицу с индексами 'week_day_exposition', 'month_exposition', 'year_exposition' и медианным значением 'last_price'."
   ],
   "metadata": {}
  },
  {
   "cell_type": "code",
   "execution_count": 60,
   "source": [
    "pivot_table_date_exposition = good_data.pivot_table(\n",
    "    index = ['week_day_exposition', 'month_exposition', 'year_exposition'], values = 'last_price', aggfunc = ['median']\n",
    ")\n",
    "pivot_table_date_exposition.columns = ['median_last_price']"
   ],
   "outputs": [],
   "metadata": {}
  },
  {
   "cell_type": "markdown",
   "source": [
    "Группируем сводную таблицу по дню недели, месяцу, году появления объявления и строим график медианной стоимости квартиры."
   ],
   "metadata": {}
  },
  {
   "cell_type": "code",
   "execution_count": 61,
   "source": [
    "#группируем по дню недели \n",
    "pivot_table_date_exposition.groupby(['week_day_exposition']).median().plot(y = 'median_last_price')\n",
    "plt.show()\n",
    "\n",
    "#группируем по месяцу \n",
    "pivot_table_date_exposition.groupby(['month_exposition']).median().plot(y = 'median_last_price')\n",
    "plt.show()\n",
    "\n",
    "#группируем по году \n",
    "pivot_table_date_exposition.groupby(['year_exposition']).median().plot(y = 'median_last_price')\n",
    "plt.show()"
   ],
   "outputs": [
    {
     "output_type": "display_data",
     "data": {
      "text/plain": [
       "<Figure size 432x288 with 1 Axes>"
      ],
      "image/png": "[encoded data removed]"
     },
     "metadata": {
      "needs_background": "light"
     }
    },
    {
     "output_type": "display_data",
     "data": {
      "text/plain": [
       "<Figure size 432x288 with 1 Axes>"
      ],
      "image/png": "[encoded data removed]"
     },
     "metadata": {
      "needs_background": "light"
     }
    },
    {
     "output_type": "display_data",
     "data": {
      "text/plain": [
       "<Figure size 432x288 with 1 Axes>"
      ],
      "image/png": "[encoded data removed]"
     },
     "metadata": {
      "needs_background": "light"
     }
    }
   ],
   "metadata": {
    "scrolled": false
   }
  },
  {
   "cell_type": "markdown",
   "source": [
    "Проверяем число значений для каждого года."
   ],
   "metadata": {}
  },
  {
   "cell_type": "code",
   "execution_count": 62,
   "source": [
    "good_data['year_exposition'].value_counts() "
   ],
   "outputs": [
    {
     "output_type": "execute_result",
     "data": {
      "text/plain": [
       "2017    7324\n",
       "2018    7287\n",
       "2019    2655\n",
       "2016    2545\n",
       "2015     939\n",
       "2014      86\n",
       "Name: year_exposition, dtype: int64"
      ]
     },
     "metadata": {},
     "execution_count": 62
    }
   ],
   "metadata": {}
  },
  {
   "cell_type": "markdown",
   "source": [
    "По графиками зависимости цены квартиры от дня недели, месяца и года можно сказать что:  \n",
    "В зависимости от дня недели видим что квартиры, которые публикуются среду (2-й день недели при отсчете с 0) в среднем на 7% дороже квартир выставленных на продажу в субботу (5-й день недели при отсчете с 0);  \n",
    "Проанализировав стоимость квартиры от месяца публиции объявления можно сказат что для опубликованных в августе (8-й месяц) цена квартиры в среднем на 7% ниже цен в марте или ноябре.  \n",
    "Однако говорить о четкой зависимости цены от дня недели и месяца публикации объявления не приходтся ввиду существенных колебаний графиков около среднего значения.  \n",
    "Анализ стоимости квартиры от года публиции объявления говорит о максимальных ценах в 2014 году после которого последовало падение цен вплоть до 2016-2017 годов, когда цена была минимальной, в последующем наблюдается рост, который не достигает уровня цен 2014 года. Данная зависимость выглядит странно, возможно изначально данные по стоимости квартир собирались в долларах, а после конвертировались в рубли. Другая возможная причина - малая выборка квартир выставленных на продажу в 2014 году, всего 86 строк. Для сравнения число квартир выставленных на продажу в 2015-2019 находятся в диапазоне 939-7324."
   ],
   "metadata": {}
  },
  {
   "cell_type": "markdown",
   "source": [
    "##### Выберем 10 населённых пунктов с наибольшим числом объявленийи посчитаем среднюю цену квадратного метра. "
   ],
   "metadata": {}
  },
  {
   "cell_type": "markdown",
   "source": [
    "Создаем сводную таблицу по индексу 'locality_name', для которой по столбцу 'price_for_metеr' посчитаем число строк, среднее и медианное значение (для оценки различий со средним значением)."
   ],
   "metadata": {}
  },
  {
   "cell_type": "code",
   "execution_count": 63,
   "source": [
    "pivot_table_locality = good_data.pivot_table(\n",
    "    index = 'locality_name', values = 'price_for_metеr', aggfunc=['count', 'mean', 'median']\n",
    ")\n",
    "pivot_table_locality.columns = ['count', 'mean_cost', 'median_cost'] "
   ],
   "outputs": [],
   "metadata": {}
  },
  {
   "cell_type": "markdown",
   "source": [
    "Отсортируем по убыванию по числу объявлений, оставим в сводной таблице 10 первых значений и выведем получившуюся таблицу. "
   ],
   "metadata": {}
  },
  {
   "cell_type": "code",
   "execution_count": 64,
   "source": [
    "pivot_table_locality = pivot_table_locality.sort_values('count', ascending = False).head(10) \n",
    "pivot_table_locality"
   ],
   "outputs": [
    {
     "output_type": "execute_result",
     "data": {
      "text/plain": [
       "                   count   mean_cost  median_cost\n",
       "locality_name                                    \n",
       "санкт-петербург    14055  111.281964        104.0\n",
       "посёлок мурино       468   85.198718         85.0\n",
       "посёлок шушары       387   78.369509         76.0\n",
       "всеволожск           356   66.755618         65.0\n",
       "пушкин               334  102.982036         99.0\n",
       "колпино              300   75.100000         75.0\n",
       "посёлок парголово    285   90.003509         92.0\n",
       "гатчина              277   68.090253         67.0\n",
       "деревня кудрово      260   91.669231         91.0\n",
       "выборг               198   58.479798         58.0"
      ],
      "text/html": [
       "<div>\n",
       "<style scoped>\n",
       "    .dataframe tbody tr th:only-of-type {\n",
       "        vertical-align: middle;\n",
       "    }\n",
       "\n",
       "    .dataframe tbody tr th {\n",
       "        vertical-align: top;\n",
       "    }\n",
       "\n",
       "    .dataframe thead th {\n",
       "        text-align: right;\n",
       "    }\n",
       "</style>\n",
       "<table border=\"1\" class=\"dataframe\">\n",
       "  <thead>\n",
       "    <tr style=\"text-align: right;\">\n",
       "      <th></th>\n",
       "      <th>count</th>\n",
       "      <th>mean_cost</th>\n",
       "      <th>median_cost</th>\n",
       "    </tr>\n",
       "    <tr>\n",
       "      <th>locality_name</th>\n",
       "      <th></th>\n",
       "      <th></th>\n",
       "      <th></th>\n",
       "    </tr>\n",
       "  </thead>\n",
       "  <tbody>\n",
       "    <tr>\n",
       "      <td>санкт-петербург</td>\n",
       "      <td>14055</td>\n",
       "      <td>111.281964</td>\n",
       "      <td>104.0</td>\n",
       "    </tr>\n",
       "    <tr>\n",
       "      <td>посёлок мурино</td>\n",
       "      <td>468</td>\n",
       "      <td>85.198718</td>\n",
       "      <td>85.0</td>\n",
       "    </tr>\n",
       "    <tr>\n",
       "      <td>посёлок шушары</td>\n",
       "      <td>387</td>\n",
       "      <td>78.369509</td>\n",
       "      <td>76.0</td>\n",
       "    </tr>\n",
       "    <tr>\n",
       "      <td>всеволожск</td>\n",
       "      <td>356</td>\n",
       "      <td>66.755618</td>\n",
       "      <td>65.0</td>\n",
       "    </tr>\n",
       "    <tr>\n",
       "      <td>пушкин</td>\n",
       "      <td>334</td>\n",
       "      <td>102.982036</td>\n",
       "      <td>99.0</td>\n",
       "    </tr>\n",
       "    <tr>\n",
       "      <td>колпино</td>\n",
       "      <td>300</td>\n",
       "      <td>75.100000</td>\n",
       "      <td>75.0</td>\n",
       "    </tr>\n",
       "    <tr>\n",
       "      <td>посёлок парголово</td>\n",
       "      <td>285</td>\n",
       "      <td>90.003509</td>\n",
       "      <td>92.0</td>\n",
       "    </tr>\n",
       "    <tr>\n",
       "      <td>гатчина</td>\n",
       "      <td>277</td>\n",
       "      <td>68.090253</td>\n",
       "      <td>67.0</td>\n",
       "    </tr>\n",
       "    <tr>\n",
       "      <td>деревня кудрово</td>\n",
       "      <td>260</td>\n",
       "      <td>91.669231</td>\n",
       "      <td>91.0</td>\n",
       "    </tr>\n",
       "    <tr>\n",
       "      <td>выборг</td>\n",
       "      <td>198</td>\n",
       "      <td>58.479798</td>\n",
       "      <td>58.0</td>\n",
       "    </tr>\n",
       "  </tbody>\n",
       "</table>\n",
       "</div>"
      ]
     },
     "metadata": {},
     "execution_count": 64
    }
   ],
   "metadata": {}
  },
  {
   "cell_type": "markdown",
   "source": [
    "Найдем город с наибольшей средней ценой за квадратный метр. "
   ],
   "metadata": {}
  },
  {
   "cell_type": "code",
   "execution_count": 65,
   "source": [
    "pivot_table_locality[pivot_table_locality['mean_cost']==pivot_table_locality['mean_cost'].max()]"
   ],
   "outputs": [
    {
     "output_type": "execute_result",
     "data": {
      "text/plain": [
       "                 count   mean_cost  median_cost\n",
       "locality_name                                  \n",
       "санкт-петербург  14055  111.281964        104.0"
      ],
      "text/html": [
       "<div>\n",
       "<style scoped>\n",
       "    .dataframe tbody tr th:only-of-type {\n",
       "        vertical-align: middle;\n",
       "    }\n",
       "\n",
       "    .dataframe tbody tr th {\n",
       "        vertical-align: top;\n",
       "    }\n",
       "\n",
       "    .dataframe thead th {\n",
       "        text-align: right;\n",
       "    }\n",
       "</style>\n",
       "<table border=\"1\" class=\"dataframe\">\n",
       "  <thead>\n",
       "    <tr style=\"text-align: right;\">\n",
       "      <th></th>\n",
       "      <th>count</th>\n",
       "      <th>mean_cost</th>\n",
       "      <th>median_cost</th>\n",
       "    </tr>\n",
       "    <tr>\n",
       "      <th>locality_name</th>\n",
       "      <th></th>\n",
       "      <th></th>\n",
       "      <th></th>\n",
       "    </tr>\n",
       "  </thead>\n",
       "  <tbody>\n",
       "    <tr>\n",
       "      <td>санкт-петербург</td>\n",
       "      <td>14055</td>\n",
       "      <td>111.281964</td>\n",
       "      <td>104.0</td>\n",
       "    </tr>\n",
       "  </tbody>\n",
       "</table>\n",
       "</div>"
      ]
     },
     "metadata": {},
     "execution_count": 65
    }
   ],
   "metadata": {}
  },
  {
   "cell_type": "markdown",
   "source": [
    "Найдем город с наименьшей средней ценой за квадратный метр. "
   ],
   "metadata": {}
  },
  {
   "cell_type": "code",
   "execution_count": 66,
   "source": [
    "pivot_table_locality[pivot_table_locality['mean_cost']==pivot_table_locality['mean_cost'].min()]"
   ],
   "outputs": [
    {
     "output_type": "execute_result",
     "data": {
      "text/plain": [
       "               count  mean_cost  median_cost\n",
       "locality_name                               \n",
       "выборг           198  58.479798         58.0"
      ],
      "text/html": [
       "<div>\n",
       "<style scoped>\n",
       "    .dataframe tbody tr th:only-of-type {\n",
       "        vertical-align: middle;\n",
       "    }\n",
       "\n",
       "    .dataframe tbody tr th {\n",
       "        vertical-align: top;\n",
       "    }\n",
       "\n",
       "    .dataframe thead th {\n",
       "        text-align: right;\n",
       "    }\n",
       "</style>\n",
       "<table border=\"1\" class=\"dataframe\">\n",
       "  <thead>\n",
       "    <tr style=\"text-align: right;\">\n",
       "      <th></th>\n",
       "      <th>count</th>\n",
       "      <th>mean_cost</th>\n",
       "      <th>median_cost</th>\n",
       "    </tr>\n",
       "    <tr>\n",
       "      <th>locality_name</th>\n",
       "      <th></th>\n",
       "      <th></th>\n",
       "      <th></th>\n",
       "    </tr>\n",
       "  </thead>\n",
       "  <tbody>\n",
       "    <tr>\n",
       "      <td>выборг</td>\n",
       "      <td>198</td>\n",
       "      <td>58.479798</td>\n",
       "      <td>58.0</td>\n",
       "    </tr>\n",
       "  </tbody>\n",
       "</table>\n",
       "</div>"
      ]
     },
     "metadata": {},
     "execution_count": 66
    }
   ],
   "metadata": {}
  },
  {
   "cell_type": "markdown",
   "source": [
    "Проанализировав стоимость квадратного метра для 10 населенных пунктов с наибольшим числом объявлений выявили что максимальная средняя цена за кв.м. наблюдается в Сакнт-Петербурге и составляет 111,3 тыс. Минимальная средняя цена за квадратный метр в квартире соответствует городу Выборг и равна 58,5 тыс.   "
   ],
   "metadata": {}
  },
  {
   "cell_type": "markdown",
   "source": [
    "###  Выясним какая область входит в центр"
   ],
   "metadata": {}
  },
  {
   "cell_type": "markdown",
   "source": [
    "Создадим столбец, в которых сохраним расстояние до центра в км."
   ],
   "metadata": {}
  },
  {
   "cell_type": "code",
   "execution_count": 67,
   "source": [
    "good_data['cityCenters_nearest_km'] = good_data['cityCenters_nearest']/1000 "
   ],
   "outputs": [],
   "metadata": {}
  },
  {
   "cell_type": "markdown",
   "source": [
    "Заполим пропуски в столбце 'cityCenters_nearest_km' на значение (-1) и изменим тип данных на int"
   ],
   "metadata": {}
  },
  {
   "cell_type": "code",
   "execution_count": 68,
   "source": [
    "good_data['cityCenters_nearest_km'] = good_data['cityCenters_nearest_km'].fillna(-1).astype('int')"
   ],
   "outputs": [],
   "metadata": {}
  },
  {
   "cell_type": "markdown",
   "source": [
    "По срезу данных (только Сакнт-Петербруг и расстояние до центра не равно -1) создаем сводную таблицу расстония до центра и средней, медианной стоимости квартиры."
   ],
   "metadata": {}
  },
  {
   "cell_type": "code",
   "execution_count": 69,
   "source": [
    "pivot_table_spb = good_data.query('locality_name == \"санкт-петербург\" and cityCenters_nearest_km !=(-1)').pivot_table(\n",
    "    index = 'cityCenters_nearest_km', values = ['last_price', 'price_for_metеr'], aggfunc = ['mean', 'median']\n",
    ")\n",
    "pivot_table_spb.columns = ['mean_price', 'mean_price_for_meter', 'median_price', 'median_price_for_meter'] "
   ],
   "outputs": [],
   "metadata": {}
  },
  {
   "cell_type": "markdown",
   "source": [
    "Выводим график стоимости квартир от расстояния до центра."
   ],
   "metadata": {}
  },
  {
   "cell_type": "code",
   "execution_count": 70,
   "source": [
    "pivot_table_spb.plot(\n",
    "    y=['mean_price', 'median_price'], figsize=(17,5), grid = True\n",
    ") \n",
    "plt.show()"
   ],
   "outputs": [
    {
     "output_type": "display_data",
     "data": {
      "text/plain": [
       "<Figure size 1224x360 with 1 Axes>"
      ],
      "image/png": "[encoded data removed]"
     },
     "metadata": {
      "needs_background": "light"
     }
    }
   ],
   "metadata": {}
  },
  {
   "cell_type": "markdown",
   "source": [
    "Построим график зависимости стоимости квадратного метра от расстония до центра."
   ],
   "metadata": {}
  },
  {
   "cell_type": "code",
   "execution_count": 71,
   "source": [
    "pivot_table_spb.plot(y=['mean_price_for_meter', 'median_price_for_meter'], figsize=(17,5), grid = True) \n",
    "plt.show()\n",
    "pivot_table_spb "
   ],
   "outputs": [
    {
     "output_type": "display_data",
     "data": {
      "text/plain": [
       "<Figure size 1224x360 with 1 Axes>"
      ],
      "image/png": "[encoded data removed]"
     },
     "metadata": {
      "needs_background": "light"
     }
    },
    {
     "output_type": "execute_result",
     "data": {
      "text/plain": [
       "                        mean_price  mean_price_for_meter  median_price  \\\n",
       "cityCenters_nearest_km                                                   \n",
       "0                        14.529731            148.059701     10.000000   \n",
       "1                        11.805125            131.411458      9.925000   \n",
       "2                        10.990499            122.377432      9.270000   \n",
       "3                        10.467347            120.820569      8.300000   \n",
       "4                        11.736657            132.791878      9.500000   \n",
       "5                        11.771614            138.486111      8.700000   \n",
       "6                        11.181128            139.808717      7.800000   \n",
       "7                         9.661477            132.551821      7.450000   \n",
       "8                         8.384284            118.415254      6.500000   \n",
       "9                         6.470210            110.033708      5.050000   \n",
       "10                        6.273715            110.336196      5.000000   \n",
       "11                        5.921624            105.903624      5.000000   \n",
       "12                        5.989200            108.151625      5.000000   \n",
       "13                        5.969624            106.384019      5.200000   \n",
       "14                        5.771490            104.476260      4.900000   \n",
       "15                        5.510927            101.557692      4.800000   \n",
       "16                        5.501192            100.000994      4.650000   \n",
       "17                        4.826832             94.101911      4.412094   \n",
       "18                        5.214861             94.974026      4.375000   \n",
       "19                        4.663057             93.315068      4.500000   \n",
       "20                        6.339167            106.368421      6.045000   \n",
       "21                        5.172458             90.304598      4.700000   \n",
       "22                        5.464198             87.056911      5.000000   \n",
       "23                        4.120667             91.962963      3.930000   \n",
       "24                        3.821509             80.277778      3.300000   \n",
       "25                        4.060280             91.651515      3.494500   \n",
       "26                        3.287500             54.500000      3.287500   \n",
       "27                        8.300000            131.500000      8.300000   \n",
       "28                        4.910500             81.500000      4.775000   \n",
       "29                        3.833333             61.666667      4.200000   \n",
       "\n",
       "                        median_price_for_meter  \n",
       "cityCenters_nearest_km                          \n",
       "0                                        128.0  \n",
       "1                                        116.0  \n",
       "2                                        111.0  \n",
       "3                                        109.0  \n",
       "4                                        125.0  \n",
       "5                                        125.5  \n",
       "6                                        131.0  \n",
       "7                                        124.0  \n",
       "8                                        113.0  \n",
       "9                                        105.0  \n",
       "10                                       104.0  \n",
       "11                                       103.0  \n",
       "12                                       104.0  \n",
       "13                                       104.0  \n",
       "14                                       102.0  \n",
       "15                                        98.0  \n",
       "16                                        97.0  \n",
       "17                                        91.0  \n",
       "18                                        93.0  \n",
       "19                                        92.0  \n",
       "20                                       107.0  \n",
       "21                                        88.0  \n",
       "22                                        84.0  \n",
       "23                                        89.0  \n",
       "24                                        86.0  \n",
       "25                                        90.0  \n",
       "26                                        54.5  \n",
       "27                                       131.5  \n",
       "28                                        79.0  \n",
       "29                                        56.0  "
      ],
      "text/html": [
       "<div>\n",
       "<style scoped>\n",
       "    .dataframe tbody tr th:only-of-type {\n",
       "        vertical-align: middle;\n",
       "    }\n",
       "\n",
       "    .dataframe tbody tr th {\n",
       "        vertical-align: top;\n",
       "    }\n",
       "\n",
       "    .dataframe thead th {\n",
       "        text-align: right;\n",
       "    }\n",
       "</style>\n",
       "<table border=\"1\" class=\"dataframe\">\n",
       "  <thead>\n",
       "    <tr style=\"text-align: right;\">\n",
       "      <th></th>\n",
       "      <th>mean_price</th>\n",
       "      <th>mean_price_for_meter</th>\n",
       "      <th>median_price</th>\n",
       "      <th>median_price_for_meter</th>\n",
       "    </tr>\n",
       "    <tr>\n",
       "      <th>cityCenters_nearest_km</th>\n",
       "      <th></th>\n",
       "      <th></th>\n",
       "      <th></th>\n",
       "      <th></th>\n",
       "    </tr>\n",
       "  </thead>\n",
       "  <tbody>\n",
       "    <tr>\n",
       "      <td>0</td>\n",
       "      <td>14.529731</td>\n",
       "      <td>148.059701</td>\n",
       "      <td>10.000000</td>\n",
       "      <td>128.0</td>\n",
       "    </tr>\n",
       "    <tr>\n",
       "      <td>1</td>\n",
       "      <td>11.805125</td>\n",
       "      <td>131.411458</td>\n",
       "      <td>9.925000</td>\n",
       "      <td>116.0</td>\n",
       "    </tr>\n",
       "    <tr>\n",
       "      <td>2</td>\n",
       "      <td>10.990499</td>\n",
       "      <td>122.377432</td>\n",
       "      <td>9.270000</td>\n",
       "      <td>111.0</td>\n",
       "    </tr>\n",
       "    <tr>\n",
       "      <td>3</td>\n",
       "      <td>10.467347</td>\n",
       "      <td>120.820569</td>\n",
       "      <td>8.300000</td>\n",
       "      <td>109.0</td>\n",
       "    </tr>\n",
       "    <tr>\n",
       "      <td>4</td>\n",
       "      <td>11.736657</td>\n",
       "      <td>132.791878</td>\n",
       "      <td>9.500000</td>\n",
       "      <td>125.0</td>\n",
       "    </tr>\n",
       "    <tr>\n",
       "      <td>5</td>\n",
       "      <td>11.771614</td>\n",
       "      <td>138.486111</td>\n",
       "      <td>8.700000</td>\n",
       "      <td>125.5</td>\n",
       "    </tr>\n",
       "    <tr>\n",
       "      <td>6</td>\n",
       "      <td>11.181128</td>\n",
       "      <td>139.808717</td>\n",
       "      <td>7.800000</td>\n",
       "      <td>131.0</td>\n",
       "    </tr>\n",
       "    <tr>\n",
       "      <td>7</td>\n",
       "      <td>9.661477</td>\n",
       "      <td>132.551821</td>\n",
       "      <td>7.450000</td>\n",
       "      <td>124.0</td>\n",
       "    </tr>\n",
       "    <tr>\n",
       "      <td>8</td>\n",
       "      <td>8.384284</td>\n",
       "      <td>118.415254</td>\n",
       "      <td>6.500000</td>\n",
       "      <td>113.0</td>\n",
       "    </tr>\n",
       "    <tr>\n",
       "      <td>9</td>\n",
       "      <td>6.470210</td>\n",
       "      <td>110.033708</td>\n",
       "      <td>5.050000</td>\n",
       "      <td>105.0</td>\n",
       "    </tr>\n",
       "    <tr>\n",
       "      <td>10</td>\n",
       "      <td>6.273715</td>\n",
       "      <td>110.336196</td>\n",
       "      <td>5.000000</td>\n",
       "      <td>104.0</td>\n",
       "    </tr>\n",
       "    <tr>\n",
       "      <td>11</td>\n",
       "      <td>5.921624</td>\n",
       "      <td>105.903624</td>\n",
       "      <td>5.000000</td>\n",
       "      <td>103.0</td>\n",
       "    </tr>\n",
       "    <tr>\n",
       "      <td>12</td>\n",
       "      <td>5.989200</td>\n",
       "      <td>108.151625</td>\n",
       "      <td>5.000000</td>\n",
       "      <td>104.0</td>\n",
       "    </tr>\n",
       "    <tr>\n",
       "      <td>13</td>\n",
       "      <td>5.969624</td>\n",
       "      <td>106.384019</td>\n",
       "      <td>5.200000</td>\n",
       "      <td>104.0</td>\n",
       "    </tr>\n",
       "    <tr>\n",
       "      <td>14</td>\n",
       "      <td>5.771490</td>\n",
       "      <td>104.476260</td>\n",
       "      <td>4.900000</td>\n",
       "      <td>102.0</td>\n",
       "    </tr>\n",
       "    <tr>\n",
       "      <td>15</td>\n",
       "      <td>5.510927</td>\n",
       "      <td>101.557692</td>\n",
       "      <td>4.800000</td>\n",
       "      <td>98.0</td>\n",
       "    </tr>\n",
       "    <tr>\n",
       "      <td>16</td>\n",
       "      <td>5.501192</td>\n",
       "      <td>100.000994</td>\n",
       "      <td>4.650000</td>\n",
       "      <td>97.0</td>\n",
       "    </tr>\n",
       "    <tr>\n",
       "      <td>17</td>\n",
       "      <td>4.826832</td>\n",
       "      <td>94.101911</td>\n",
       "      <td>4.412094</td>\n",
       "      <td>91.0</td>\n",
       "    </tr>\n",
       "    <tr>\n",
       "      <td>18</td>\n",
       "      <td>5.214861</td>\n",
       "      <td>94.974026</td>\n",
       "      <td>4.375000</td>\n",
       "      <td>93.0</td>\n",
       "    </tr>\n",
       "    <tr>\n",
       "      <td>19</td>\n",
       "      <td>4.663057</td>\n",
       "      <td>93.315068</td>\n",
       "      <td>4.500000</td>\n",
       "      <td>92.0</td>\n",
       "    </tr>\n",
       "    <tr>\n",
       "      <td>20</td>\n",
       "      <td>6.339167</td>\n",
       "      <td>106.368421</td>\n",
       "      <td>6.045000</td>\n",
       "      <td>107.0</td>\n",
       "    </tr>\n",
       "    <tr>\n",
       "      <td>21</td>\n",
       "      <td>5.172458</td>\n",
       "      <td>90.304598</td>\n",
       "      <td>4.700000</td>\n",
       "      <td>88.0</td>\n",
       "    </tr>\n",
       "    <tr>\n",
       "      <td>22</td>\n",
       "      <td>5.464198</td>\n",
       "      <td>87.056911</td>\n",
       "      <td>5.000000</td>\n",
       "      <td>84.0</td>\n",
       "    </tr>\n",
       "    <tr>\n",
       "      <td>23</td>\n",
       "      <td>4.120667</td>\n",
       "      <td>91.962963</td>\n",
       "      <td>3.930000</td>\n",
       "      <td>89.0</td>\n",
       "    </tr>\n",
       "    <tr>\n",
       "      <td>24</td>\n",
       "      <td>3.821509</td>\n",
       "      <td>80.277778</td>\n",
       "      <td>3.300000</td>\n",
       "      <td>86.0</td>\n",
       "    </tr>\n",
       "    <tr>\n",
       "      <td>25</td>\n",
       "      <td>4.060280</td>\n",
       "      <td>91.651515</td>\n",
       "      <td>3.494500</td>\n",
       "      <td>90.0</td>\n",
       "    </tr>\n",
       "    <tr>\n",
       "      <td>26</td>\n",
       "      <td>3.287500</td>\n",
       "      <td>54.500000</td>\n",
       "      <td>3.287500</td>\n",
       "      <td>54.5</td>\n",
       "    </tr>\n",
       "    <tr>\n",
       "      <td>27</td>\n",
       "      <td>8.300000</td>\n",
       "      <td>131.500000</td>\n",
       "      <td>8.300000</td>\n",
       "      <td>131.5</td>\n",
       "    </tr>\n",
       "    <tr>\n",
       "      <td>28</td>\n",
       "      <td>4.910500</td>\n",
       "      <td>81.500000</td>\n",
       "      <td>4.775000</td>\n",
       "      <td>79.0</td>\n",
       "    </tr>\n",
       "    <tr>\n",
       "      <td>29</td>\n",
       "      <td>3.833333</td>\n",
       "      <td>61.666667</td>\n",
       "      <td>4.200000</td>\n",
       "      <td>56.0</td>\n",
       "    </tr>\n",
       "  </tbody>\n",
       "</table>\n",
       "</div>"
      ]
     },
     "metadata": {},
     "execution_count": 71
    }
   ],
   "metadata": {}
  },
  {
   "cell_type": "markdown",
   "source": [
    "####  Вывод"
   ],
   "metadata": {}
  },
  {
   "cell_type": "markdown",
   "source": [
    "Исходя из анализа графика стоимости квартир от расстояния до центра в км, можно увидеть преломление тренда в районе 3 км. Вероятная причина его появления выход из границ центральной зоны или исторического Петербурга, за рамками которого начинаются близко расположеные к центру новостройки. Квартиры в новостройках лишины минусов квартир \"старого фонда\", а так же не находятся в непосредственной близости от шумных и многолюдых центральных улиц. В связи с этим цена на квартры в этом сегменте выше чем в центральном. Делаем вывод, что центральная зона это квартиры в радиусе 3 км до центра."
   ],
   "metadata": {}
  },
  {
   "cell_type": "markdown",
   "source": [
    "###  Проанализируем сегмент квартир в центре "
   ],
   "metadata": {}
  },
  {
   "cell_type": "markdown",
   "source": [
    "#### Выделим сегмент квартир в центре"
   ],
   "metadata": {}
  },
  {
   "cell_type": "markdown",
   "source": [
    "Сохраним в center_data срез квартир в центральной зоне санкт-петербурга, заполненные (-1) значения столбца 'cityCenters_nearest_km' так же не будем включать в срез."
   ],
   "metadata": {}
  },
  {
   "cell_type": "code",
   "execution_count": 72,
   "source": [
    "center_data = good_data.query('(-1) < cityCenters_nearest_km <= 3 and locality_name == \"санкт-петербург\"')"
   ],
   "outputs": [],
   "metadata": {}
  },
  {
   "cell_type": "code",
   "execution_count": 73,
   "source": [
    "print(f'В центральной зоне всего {len(center_data)} квартир')"
   ],
   "outputs": [
    {
     "output_type": "stream",
     "name": "stdout",
     "text": [
      "В центральной зоне всего 973 квартир\n"
     ]
    }
   ],
   "metadata": {}
  },
  {
   "cell_type": "markdown",
   "source": [
    "#### Изучим параметры: площадь, цена, число комнат, высота потолков."
   ],
   "metadata": {}
  },
  {
   "cell_type": "markdown",
   "source": [
    "##### Изучим параметр площадь"
   ],
   "metadata": {}
  },
  {
   "cell_type": "code",
   "execution_count": 74,
   "source": [
    "print(center_data['total_area'].describe()) \n",
    "center_data.boxplot('total_area', figsize=(10,10)) #\n",
    "plt.ylim(0, 200) \n",
    "plt.show()\n",
    "center_data.plot(y='total_area', kind='hist', bins=50, range=(0, 300), figsize=(17,5), grid=True) \n",
    "plt.show()"
   ],
   "outputs": [
    {
     "output_type": "stream",
     "name": "stdout",
     "text": [
      "count    973.000000\n",
      "mean      90.045622\n",
      "std       41.606541\n",
      "min       12.000000\n",
      "25%       61.500000\n",
      "50%       82.000000\n",
      "75%      110.000000\n",
      "max      297.500000\n",
      "Name: total_area, dtype: float64\n"
     ]
    },
    {
     "output_type": "display_data",
     "data": {
      "text/plain": [
       "<Figure size 720x720 with 1 Axes>"
      ],
      "image/png": "[encoded data removed]"
     },
     "metadata": {
      "needs_background": "light"
     }
    },
    {
     "output_type": "display_data",
     "data": {
      "text/plain": [
       "<Figure size 1224x360 with 1 Axes>"
      ],
      "image/png": "[encoded data removed]"
     },
     "metadata": {
      "needs_background": "light"
     }
    }
   ],
   "metadata": {}
  },
  {
   "cell_type": "markdown",
   "source": [
    "##### Изучим параметр цена"
   ],
   "metadata": {}
  },
  {
   "cell_type": "code",
   "execution_count": 75,
   "source": [
    "print(center_data['last_price'].describe())\n",
    "center_data.boxplot('last_price', figsize=(10,10))\n",
    "plt.ylim(0, 30) \n",
    "plt.show()\n",
    "center_data.plot(y='last_price', kind='hist', bins=70, range=(0, 35), figsize=(17,5), grid=True) \n",
    "plt.show()"
   ],
   "outputs": [
    {
     "output_type": "stream",
     "name": "stdout",
     "text": [
      "count    973.000000\n",
      "mean      11.149241\n",
      "std        6.871973\n",
      "min        2.100000\n",
      "25%        6.850000\n",
      "50%        9.000000\n",
      "75%       13.490000\n",
      "max       49.900000\n",
      "Name: last_price, dtype: float64\n"
     ]
    },
    {
     "output_type": "display_data",
     "data": {
      "text/plain": [
       "<Figure size 720x720 with 1 Axes>"
      ],
      "image/png": "[encoded data removed]"
     },
     "metadata": {
      "needs_background": "light"
     }
    },
    {
     "output_type": "display_data",
     "data": {
      "text/plain": [
       "<Figure size 1224x360 with 1 Axes>"
      ],
      "image/png": "[encoded data removed]"
     },
     "metadata": {
      "needs_background": "light"
     }
    }
   ],
   "metadata": {}
  },
  {
   "cell_type": "markdown",
   "source": [
    "##### Изучим параметр число комнат"
   ],
   "metadata": {}
  },
  {
   "cell_type": "code",
   "execution_count": 76,
   "source": [
    "print(center_data['rooms'].describe()) \n",
    "center_data.boxplot('rooms', figsize=(10,10)) \n",
    "plt.ylim(0, 10) \n",
    "plt.show()\n",
    "center_data.plot(y='rooms', kind='hist', bins=10, range=(0, 10), figsize=(17,5), grid=True) \n",
    "plt.show()"
   ],
   "outputs": [
    {
     "output_type": "stream",
     "name": "stdout",
     "text": [
      "count    973.000000\n",
      "mean       3.006166\n",
      "std        1.349426\n",
      "min        1.000000\n",
      "25%        2.000000\n",
      "50%        3.000000\n",
      "75%        4.000000\n",
      "max        8.000000\n",
      "Name: rooms, dtype: float64\n"
     ]
    },
    {
     "output_type": "display_data",
     "data": {
      "text/plain": [
       "<Figure size 720x720 with 1 Axes>"
      ],
      "image/png": "[encoded data removed]"
     },
     "metadata": {
      "needs_background": "light"
     }
    },
    {
     "output_type": "display_data",
     "data": {
      "text/plain": [
       "<Figure size 1224x360 with 1 Axes>"
      ],
      "image/png": "[encoded data removed]"
     },
     "metadata": {
      "needs_background": "light"
     }
    }
   ],
   "metadata": {}
  },
  {
   "cell_type": "markdown",
   "source": [
    "##### Изучим параметр высота потолков"
   ],
   "metadata": {}
  },
  {
   "cell_type": "markdown",
   "source": [
    "Для корректной оценки исключим значения в которых были пропуски в толбце 'ceiling_height' (помечены значением -1)."
   ],
   "metadata": {}
  },
  {
   "cell_type": "code",
   "execution_count": 77,
   "source": [
    "\n",
    "center_data_ceil_real = center_data.query('ceiling_height != (-1)') \n",
    "print(center_data_ceil_real['ceiling_height'].describe()) \n",
    "center_data_ceil_real.boxplot('ceiling_height', figsize=(10,10)) \n",
    "plt.ylim(2, 4.5) \n",
    "plt.show()\n",
    "center_data_ceil_real.plot(\n",
    "    y='ceiling_height', kind='hist', bins=20, range=(2, 4.5), figsize=(17,5), grid=True\n",
    ") \n",
    "plt.show()"
   ],
   "outputs": [
    {
     "output_type": "stream",
     "name": "stdout",
     "text": [
      "count    661.000000\n",
      "mean       3.148457\n",
      "std        0.306589\n",
      "min        2.450000\n",
      "25%        3.000000\n",
      "50%        3.140000\n",
      "75%        3.350000\n",
      "max        3.950000\n",
      "Name: ceiling_height, dtype: float64\n"
     ]
    },
    {
     "output_type": "display_data",
     "data": {
      "text/plain": [
       "<Figure size 720x720 with 1 Axes>"
      ],
      "image/png": "[encoded data removed]"
     },
     "metadata": {
      "needs_background": "light"
     }
    },
    {
     "output_type": "display_data",
     "data": {
      "text/plain": [
       "<Figure size 1224x360 with 1 Axes>"
      ],
      "image/png": "[encoded data removed]"
     },
     "metadata": {
      "needs_background": "light"
     }
    }
   ],
   "metadata": {}
  },
  {
   "cell_type": "markdown",
   "source": [
    "#### Выделим факторы, которые влияют на стоимость квартиры"
   ],
   "metadata": {}
  },
  {
   "cell_type": "markdown",
   "source": [
    "##### Зависимость стоимости от числа комнат"
   ],
   "metadata": {}
  },
  {
   "cell_type": "code",
   "execution_count": 78,
   "source": [
    "pivot_table_center_rooms = center_data.pivot_table(index = 'rooms', values = 'last_price', aggfunc = ['mean', 'median'])\n",
    "pivot_table_center_rooms.columns = ['mean_price', 'median_price']\n",
    "pivot_table_center_rooms.plot(y = 'median_price')\n",
    "plt.show()"
   ],
   "outputs": [
    {
     "output_type": "display_data",
     "data": {
      "text/plain": [
       "<Figure size 432x288 with 1 Axes>"
      ],
      "image/png": "[encoded data removed]"
     },
     "metadata": {
      "needs_background": "light"
     }
    }
   ],
   "metadata": {
    "scrolled": true
   }
  },
  {
   "cell_type": "markdown",
   "source": [
    "Выведем коэффициент линейной корреляции."
   ],
   "metadata": {}
  },
  {
   "cell_type": "code",
   "execution_count": 79,
   "source": [
    "center_data['rooms'].corr(center_data['last_price']) "
   ],
   "outputs": [
    {
     "output_type": "execute_result",
     "data": {
      "text/plain": [
       "0.4666064936783509"
      ]
     },
     "metadata": {},
     "execution_count": 79
    }
   ],
   "metadata": {}
  },
  {
   "cell_type": "markdown",
   "source": [
    "По графику наблюдается прямая зависимость стоимости квартиры в центральной зоне от числа комнат. Коэффициент линейной корреляции 0,47."
   ],
   "metadata": {}
  },
  {
   "cell_type": "markdown",
   "source": [
    "##### Зависимость стоимости от этажа"
   ],
   "metadata": {}
  },
  {
   "cell_type": "code",
   "execution_count": 80,
   "source": [
    "pivot_table_center_floor = center_data.pivot_table(\n",
    "    index = 'floor_category', values = 'last_price', aggfunc = ['mean', 'median']\n",
    "                                                )\n",
    "pivot_table_center_floor.columns = ['mean_price', 'median_price']\n",
    "pivot_table_center_floor.plot(y = 'median_price')\n",
    "plt.show()"
   ],
   "outputs": [
    {
     "output_type": "display_data",
     "data": {
      "text/plain": [
       "<Figure size 432x288 with 1 Axes>"
      ],
      "image/png": "[encoded data removed]"
     },
     "metadata": {
      "needs_background": "light"
     }
    }
   ],
   "metadata": {}
  },
  {
   "cell_type": "markdown",
   "source": [
    "Исходя из графика видим, что квартиры на последнем этаже на примерно 33% дороже квартир на первом этаже и 5% дешевле квартир на других этажах. "
   ],
   "metadata": {}
  },
  {
   "cell_type": "markdown",
   "source": [
    "##### Зависимость стоимости от удаленности от центра"
   ],
   "metadata": {}
  },
  {
   "cell_type": "code",
   "execution_count": 81,
   "source": [
    "center_data.plot(kind = 'scatter', y = 'last_price', x = 'cityCenters_nearest', alpha = 0.1)"
   ],
   "outputs": [
    {
     "output_type": "execute_result",
     "data": {
      "text/plain": [
       "<matplotlib.axes._subplots.AxesSubplot at 0x7efbceb454d0>"
      ]
     },
     "metadata": {},
     "execution_count": 81
    },
    {
     "output_type": "display_data",
     "data": {
      "text/plain": [
       "<Figure size 432x288 with 1 Axes>"
      ],
      "image/png": "[encoded data removed]"
     },
     "metadata": {
      "needs_background": "light"
     }
    }
   ],
   "metadata": {}
  },
  {
   "cell_type": "markdown",
   "source": [
    "Выведем коэффициент линейной корреляции."
   ],
   "metadata": {}
  },
  {
   "cell_type": "code",
   "execution_count": 82,
   "source": [
    "center_data['cityCenters_nearest'].corr(center_data['last_price'])"
   ],
   "outputs": [
    {
     "output_type": "execute_result",
     "data": {
      "text/plain": [
       "-0.14119618293544522"
      ]
     },
     "metadata": {},
     "execution_count": 82
    }
   ],
   "metadata": {}
  },
  {
   "cell_type": "markdown",
   "source": [
    "Создадим сводную таблицу цены от расстояния до центра в км."
   ],
   "metadata": {}
  },
  {
   "cell_type": "code",
   "execution_count": 83,
   "source": [
    "pivot_table_center_distance = center_data.pivot_table(\n",
    "    index = 'cityCenters_nearest_km', values = 'price_for_metеr', aggfunc = ['mean', 'median']\n",
    ") \n",
    "pivot_table_center_distance.columns = ['mean_price_for_meter', 'median_price_for_meter']"
   ],
   "outputs": [],
   "metadata": {}
  },
  {
   "cell_type": "markdown",
   "source": [
    "Выведем график средней и медианной цены от удаленности  до центра."
   ],
   "metadata": {}
  },
  {
   "cell_type": "code",
   "execution_count": 84,
   "source": [
    "pivot_table_center_distance.plot(y = ['mean_price_for_meter', 'median_price_for_meter']) \n",
    "plt.show()"
   ],
   "outputs": [
    {
     "output_type": "display_data",
     "data": {
      "text/plain": [
       "<Figure size 432x288 with 1 Axes>"
      ],
      "image/png": "[encoded data removed]"
     },
     "metadata": {
      "needs_background": "light"
     }
    }
   ],
   "metadata": {}
  },
  {
   "cell_type": "markdown",
   "source": [
    "По диаграмме рассеяния и графику видим обратную зависимость стоимости квартиры от расстояния до центра города. Чем ближе к центру, тем дороже квартира. Линейный коэффициент корреляции -0,14."
   ],
   "metadata": {}
  },
  {
   "cell_type": "markdown",
   "source": [
    "##### Зависимость стоимости от дата размещения объявления"
   ],
   "metadata": {}
  },
  {
   "cell_type": "code",
   "execution_count": 85,
   "source": [
    "#создаем сводную таблицу с индексами 'week_day_exposition', 'month_exposition', 'year_exposition' и медианным значением 'last_price'.\n",
    "pivot_table_center_date_exposition = center_data.pivot_table(\n",
    "    index = ['week_day_exposition', 'month_exposition', 'year_exposition'], values = 'last_price', aggfunc = ['median']\n",
    ")\n",
    "#изменим имя сводного столбца\n",
    "pivot_table_center_date_exposition.columns = ['median_last_price']\n",
    "\n",
    "#группируем сводную таблицу по дню недели появления объявления и выводим график медианной стоимости квартиры\n",
    "pivot_table_center_date_exposition.groupby(['week_day_exposition']).median().plot(y = 'median_last_price')\n",
    "plt.show()\n",
    "\n",
    "#группируем сводную таблицу по месяцу появления объявления и выводим график медианной стоимости квартиры\n",
    "pivot_table_center_date_exposition.groupby(['month_exposition']).median().plot(y = 'median_last_price')\n",
    "plt.show()\n",
    "\n",
    "#группируем сводную таблицу по году появления объявления и выводим график медианной стоимости квартиры\n",
    "pivot_table_center_date_exposition.groupby(['year_exposition']).median().plot(y = 'median_last_price')\n",
    "plt.show()"
   ],
   "outputs": [
    {
     "output_type": "display_data",
     "data": {
      "text/plain": [
       "<Figure size 432x288 with 1 Axes>"
      ],
      "image/png": "[encoded data removed]"
     },
     "metadata": {
      "needs_background": "light"
     }
    },
    {
     "output_type": "display_data",
     "data": {
      "text/plain": [
       "<Figure size 432x288 with 1 Axes>"
      ],
      "image/png": "[encoded data removed]"
     },
     "metadata": {
      "needs_background": "light"
     }
    },
    {
     "output_type": "display_data",
     "data": {
      "text/plain": [
       "<Figure size 432x288 with 1 Axes>"
      ],
      "image/png": "[encoded data removed]"
     },
     "metadata": {
      "needs_background": "light"
     }
    }
   ],
   "metadata": {}
  },
  {
   "cell_type": "markdown",
   "source": [
    "По графиками зависимости цены квартиры от дня недели, месяца и года можно сказать что:\n",
    "В зависимости от дня недели видим что квартиры, которые публикуются среду (2-й день недели при отсчете с 0) в среднем на 20% дороже квартир выставленных на продажу в субботу (5-й день недели при отсчете с 0);  \n",
    "Проанализировав стоимость квартиры от месяца публиции объявления можно сказат что в декабре (12-й месяц) цена квартиры в среднем на 15% ниже цен в марте (3-й месяц).  \n",
    "Однако говорить о четкой зависимости цены от дня недели и месяца публикации объявления не приходтся ввиду существенных колебаний графиков около среднего значения.  \n",
    "Анализ стоимости квартиры от года публиции объявления говорит о максимальных ценах в 2014 году после которого последовало падение цен до 2017 года, затем рост возобновился.  "
   ],
   "metadata": {}
  },
  {
   "cell_type": "markdown",
   "source": [
    "##### Выводы"
   ],
   "metadata": {}
  },
  {
   "cell_type": "markdown",
   "source": [
    "Исходя из изучения параметров площадь, цена, число комнат, высота потолков можно выделить следующие отличия квартир в центрально сегменте от квартир в целом по городу:  \n",
    "1) В центральном сегменте квартиры имеют площадь больше - в среднем на 50%;  \n",
    "2) Квартиры в центре дороже на 70-90%;  \n",
    "3) Однакомнатные квартиры в центре встречаются меньше. Медианное значение комнат в центре 3, а в целом по городу 2;  \n",
    "4) Высота потолков в центральном сегменте квартир выше. Для центра в среднем 3,1 метра, для города в целом около 2,7 метра."
   ],
   "metadata": {}
  },
  {
   "cell_type": "markdown",
   "source": [
    "В целом на стоимость квартир в центральной зоне влиют те же параметры что и в целом по всему городу. Но стоит отметить что в центральном районе квартиры на последнем этаже стоят существенно дороже (в среднем на 23%) квартир на первом этаже, по сравнению с данными по всему городу (там разница в среднем составляет 10%). Видимо квартиры с видом на крыши исторического Петербурга настолько популярны, что это сказывается на цене. Так же в центральной зоне меньшее влияние на стоимость оказывает расстояние до центра. Это логично, учитывая что выделение центрального сегмента производилось исходя из \"перегиба\" графика зависимости цен от расстояния до центра. Еще одно отличие квартир центре относительно всего города это цена квартиры в зависимоти от года размещения объявления - цена квартир после 2017 года в центре растет быстрее цен города в целом.  \n"
   ],
   "metadata": {}
  },
  {
   "cell_type": "markdown",
   "source": [
    "## Общий вывод"
   ],
   "metadata": {}
  },
  {
   "cell_type": "markdown",
   "source": [
    "В рамках проекты был проведен анализ данных о рынке недвижимости Санкт-Петербурга. Таблица с данными была обработана, заполнены пропуски. При заполнении пропусков главным принципом являлось - не внести существнных вбросов автозаполненных данных, которые могут существенно повлиять на результаты анализа. Второй, но не по важности, принцип - минимально исключать строки в которых есть пропущенные значения. Поэтому исключались только редкие и вибивающиеся значения, а анализ конкретных параметров проводился на основе наиболее адекватных и достоверных значений.  \n",
    "В таблицу были добавлены данные о цене квадратного метра квартир, дне недели, месяце и годе публикации объявления, категории по этажу квартиры.  \n",
    "На основе анализа параметров площади, цены, числа комнат, высоты потолков, цены за квадратный метр и длительности публикации объявления был проведен срез редких и выбивающихся значений. Наибольшее число данных 9,7% было исключено из-за аномально часто встречающейся длительности публикации объявления - столбец 'days_exposition'. При значениях 7, 30, 45, 60, 90 дней обнаружены аномальные пики. Возможная причина этого - условия публикации объявления с заранее определенной максимальной длительностю.\n",
    "В целом можно сказать что средняя длительность продажи квартир в Санкт-Петербурге составляет 95 дней. Продажи дольше 500 дней являеются редкостью. При исключения редких и выбивающихся значений по результатам пункта 4.3 медианная длительность продажи квартиры увеличивается с 95 до 111 дней, а необычно долгий срок продажи с 500 до 550 дней.  \n",
    "В целом по городу на стоимость квартир в целом больше всего влияет площадь и удаленность от центра. Кроме этого немаловажным является этаж на котором расположена квартира и число комнат. Квартиры на последних этажах дороже, чем на первом, но дешевле чем на промежуточных этажах. Квартиры с большим числом комнат так же дороже. \n",
    "Проведен анализ цен на квартиры в 10-ти наиболее часто встречающихся в объявлениях населенных пунктах. Обнаружено что стоимость квадратного метра существенно зависит от населенного пункта. Так стоимость квадратного метра в Выборге (59 тыс за кв.м) почти в два раза ниже стоимости в Санкт-Петербурге (112 тыс за кв.м).\n",
    "По графику стоимости квартир от удаленности до центра города принято, что квартиры в радиусе 3 км от центра города входят в сегмент квартир в центре. На стоимость квартир в центральной зоне влиют те же параметры что и в целом по городу. Степень влияния некоторых параметров выше, например квартиры на последнем этаже в центре существенно дороже (на 23%) квартир на первом этаже.  \n",
    "\n",
    "Средняя квартира в центральном сегменте / по городу в целом (по медианым параметрам) имеет характеристики:  \n",
    "1) высота потолков 3,1 / 2,7 метра;  \n",
    "2) число комнат 3 / 2;  \n",
    "3) площадь 82 / 52 квадратных метра;  \n",
    "4) цена 9 / 4,65 млн;  \n",
    "5) цена за квадратный метр 112 /95 тыс."
   ],
   "metadata": {}
  }
 ],
 "metadata": {
  "ExecuteTimeLog": [
   {
    "duration": 130,
    "start_time": "2021-08-08T15:26:53.449Z"
   },
   {
    "duration": 129,
    "start_time": "2021-08-08T15:28:23.186Z"
   },
   {
    "duration": 357,
    "start_time": "2021-08-08T15:29:45.295Z"
   },
   {
    "duration": 1022,
    "start_time": "2021-08-08T15:30:42.334Z"
   },
   {
    "duration": 24,
    "start_time": "2021-08-08T15:30:50.488Z"
   },
   {
    "duration": 209,
    "start_time": "2021-08-08T15:32:00.519Z"
   },
   {
    "duration": 39,
    "start_time": "2021-08-08T15:40:20.914Z"
   },
   {
    "duration": 311,
    "start_time": "2021-08-08T15:51:15.608Z"
   },
   {
    "duration": 277,
    "start_time": "2021-08-08T16:22:49.566Z"
   },
   {
    "duration": 262,
    "start_time": "2021-08-08T16:22:59.898Z"
   },
   {
    "duration": 121,
    "start_time": "2021-08-08T16:23:15.615Z"
   },
   {
    "duration": 254,
    "start_time": "2021-08-08T16:23:15.739Z"
   },
   {
    "duration": 17,
    "start_time": "2021-08-08T16:23:15.998Z"
   },
   {
    "duration": 141,
    "start_time": "2021-08-08T16:23:16.018Z"
   },
   {
    "duration": 53,
    "start_time": "2021-08-08T16:23:16.161Z"
   },
   {
    "duration": 34,
    "start_time": "2021-08-08T16:23:16.216Z"
   },
   {
    "duration": 38,
    "start_time": "2021-08-08T16:23:16.252Z"
   },
   {
    "duration": 8,
    "start_time": "2021-08-08T16:23:16.295Z"
   },
   {
    "duration": 14,
    "start_time": "2021-08-08T16:23:16.307Z"
   },
   {
    "duration": 73,
    "start_time": "2021-08-08T16:23:16.324Z"
   },
   {
    "duration": 38,
    "start_time": "2021-08-08T16:23:16.400Z"
   },
   {
    "duration": 7,
    "start_time": "2021-08-08T16:23:16.441Z"
   },
   {
    "duration": 51,
    "start_time": "2021-08-08T16:23:16.451Z"
   },
   {
    "duration": 5,
    "start_time": "2021-08-08T16:23:16.504Z"
   },
   {
    "duration": 9,
    "start_time": "2021-08-08T16:23:16.511Z"
   },
   {
    "duration": 7,
    "start_time": "2021-08-08T16:23:16.522Z"
   },
   {
    "duration": 6,
    "start_time": "2021-08-08T16:23:16.531Z"
   },
   {
    "duration": 6,
    "start_time": "2021-08-08T16:23:16.539Z"
   },
   {
    "duration": 61,
    "start_time": "2021-08-08T16:23:16.547Z"
   },
   {
    "duration": 13,
    "start_time": "2021-08-08T16:23:16.611Z"
   },
   {
    "duration": 15,
    "start_time": "2021-08-08T16:23:16.627Z"
   },
   {
    "duration": 78,
    "start_time": "2021-08-08T16:23:16.645Z"
   },
   {
    "duration": 5,
    "start_time": "2021-08-08T16:23:16.727Z"
   },
   {
    "duration": 9,
    "start_time": "2021-08-08T16:23:16.735Z"
   },
   {
    "duration": 75,
    "start_time": "2021-08-08T16:23:16.747Z"
   },
   {
    "duration": 10,
    "start_time": "2021-08-08T16:23:16.825Z"
   },
   {
    "duration": 8,
    "start_time": "2021-08-08T16:23:16.838Z"
   },
   {
    "duration": 54,
    "start_time": "2021-08-08T16:23:16.848Z"
   },
   {
    "duration": 5,
    "start_time": "2021-08-08T16:23:16.904Z"
   },
   {
    "duration": 889,
    "start_time": "2021-08-08T16:23:16.911Z"
   },
   {
    "duration": 7,
    "start_time": "2021-08-08T16:23:17.802Z"
   },
   {
    "duration": 37,
    "start_time": "2021-08-08T16:23:17.811Z"
   },
   {
    "duration": 55,
    "start_time": "2021-08-08T16:23:17.850Z"
   },
   {
    "duration": 1582,
    "start_time": "2021-08-08T16:23:17.908Z"
   },
   {
    "duration": 2469,
    "start_time": "2021-08-08T16:23:19.493Z"
   },
   {
    "duration": 801,
    "start_time": "2021-08-08T16:23:21.964Z"
   },
   {
    "duration": 794,
    "start_time": "2021-08-08T16:23:22.767Z"
   },
   {
    "duration": 2223,
    "start_time": "2021-08-08T16:23:23.564Z"
   },
   {
    "duration": 254,
    "start_time": "2021-08-08T16:23:25.790Z"
   },
   {
    "duration": 1152,
    "start_time": "2021-08-08T16:23:26.050Z"
   },
   {
    "duration": 11,
    "start_time": "2021-08-08T16:23:27.206Z"
   },
   {
    "duration": 22,
    "start_time": "2021-08-08T16:23:27.220Z"
   },
   {
    "duration": 772,
    "start_time": "2021-08-08T16:23:27.245Z"
   },
   {
    "duration": 4,
    "start_time": "2021-08-08T16:23:28.020Z"
   },
   {
    "duration": 370,
    "start_time": "2021-08-08T16:23:28.027Z"
   },
   {
    "duration": 43,
    "start_time": "2021-08-08T16:23:28.400Z"
   },
   {
    "duration": 426,
    "start_time": "2021-08-08T16:23:28.445Z"
   },
   {
    "duration": 12,
    "start_time": "2021-08-08T16:23:28.874Z"
   },
   {
    "duration": 20,
    "start_time": "2021-08-08T16:23:28.890Z"
   },
   {
    "duration": 477,
    "start_time": "2021-08-08T16:23:28.912Z"
   },
   {
    "duration": 27,
    "start_time": "2021-08-08T16:23:29.392Z"
   },
   {
    "duration": 437,
    "start_time": "2021-08-08T16:23:29.421Z"
   },
   {
    "duration": 7,
    "start_time": "2021-08-08T16:23:29.860Z"
   },
   {
    "duration": 38,
    "start_time": "2021-08-08T16:23:29.870Z"
   },
   {
    "duration": 330,
    "start_time": "2021-08-08T16:23:29.911Z"
   },
   {
    "duration": 6,
    "start_time": "2021-08-08T16:23:30.244Z"
   },
   {
    "duration": 26,
    "start_time": "2021-08-08T16:24:47.390Z"
   },
   {
    "duration": 240,
    "start_time": "2021-08-08T16:24:49.299Z"
   },
   {
    "duration": 7,
    "start_time": "2021-08-08T16:26:36.127Z"
   },
   {
    "duration": 46,
    "start_time": "2021-08-08T16:39:56.349Z"
   },
   {
    "duration": 17,
    "start_time": "2021-08-08T16:39:58.380Z"
   },
   {
    "duration": 12,
    "start_time": "2021-08-08T16:54:28.215Z"
   },
   {
    "duration": 82,
    "start_time": "2021-08-08T16:54:30.358Z"
   },
   {
    "duration": 15,
    "start_time": "2021-08-08T16:54:30.786Z"
   },
   {
    "duration": 3,
    "start_time": "2021-08-08T16:55:12.742Z"
   },
   {
    "duration": 281,
    "start_time": "2021-08-08T16:55:12.750Z"
   },
   {
    "duration": 15,
    "start_time": "2021-08-08T16:55:13.033Z"
   },
   {
    "duration": 151,
    "start_time": "2021-08-08T16:55:13.051Z"
   },
   {
    "duration": 41,
    "start_time": "2021-08-08T16:55:13.204Z"
   },
   {
    "duration": 64,
    "start_time": "2021-08-08T16:55:13.247Z"
   },
   {
    "duration": 12,
    "start_time": "2021-08-08T16:55:13.314Z"
   },
   {
    "duration": 7,
    "start_time": "2021-08-08T16:55:13.328Z"
   },
   {
    "duration": 51,
    "start_time": "2021-08-08T16:55:13.339Z"
   },
   {
    "duration": 40,
    "start_time": "2021-08-08T16:55:13.394Z"
   },
   {
    "duration": 68,
    "start_time": "2021-08-08T16:55:13.437Z"
   },
   {
    "duration": 7,
    "start_time": "2021-08-08T16:55:13.508Z"
   },
   {
    "duration": 16,
    "start_time": "2021-08-08T16:55:13.518Z"
   },
   {
    "duration": 9,
    "start_time": "2021-08-08T16:55:13.537Z"
   },
   {
    "duration": 46,
    "start_time": "2021-08-08T16:55:13.549Z"
   },
   {
    "duration": 7,
    "start_time": "2021-08-08T16:55:13.598Z"
   },
   {
    "duration": 5,
    "start_time": "2021-08-08T16:55:13.607Z"
   },
   {
    "duration": 5,
    "start_time": "2021-08-08T16:55:13.614Z"
   },
   {
    "duration": 17,
    "start_time": "2021-08-08T16:55:13.621Z"
   },
   {
    "duration": 56,
    "start_time": "2021-08-08T16:55:13.640Z"
   },
   {
    "duration": 11,
    "start_time": "2021-08-08T16:55:13.699Z"
   },
   {
    "duration": 39,
    "start_time": "2021-08-08T16:55:13.712Z"
   },
   {
    "duration": 5,
    "start_time": "2021-08-08T16:55:13.753Z"
   },
   {
    "duration": 7,
    "start_time": "2021-08-08T16:55:13.794Z"
   },
   {
    "duration": 36,
    "start_time": "2021-08-08T16:55:13.806Z"
   },
   {
    "duration": 46,
    "start_time": "2021-08-08T16:55:13.845Z"
   },
   {
    "duration": 11,
    "start_time": "2021-08-08T16:55:13.894Z"
   },
   {
    "duration": 16,
    "start_time": "2021-08-08T16:55:13.907Z"
   },
   {
    "duration": 4,
    "start_time": "2021-08-08T16:55:13.925Z"
   },
   {
    "duration": 899,
    "start_time": "2021-08-08T16:55:13.932Z"
   },
   {
    "duration": 7,
    "start_time": "2021-08-08T16:55:14.834Z"
   },
   {
    "duration": 48,
    "start_time": "2021-08-08T16:55:14.844Z"
   },
   {
    "duration": 38,
    "start_time": "2021-08-08T16:55:14.896Z"
   },
   {
    "duration": 1724,
    "start_time": "2021-08-08T16:55:14.937Z"
   },
   {
    "duration": 2665,
    "start_time": "2021-08-08T16:55:16.663Z"
   },
   {
    "duration": 792,
    "start_time": "2021-08-08T16:55:19.330Z"
   },
   {
    "duration": 924,
    "start_time": "2021-08-08T16:55:20.124Z"
   },
   {
    "duration": 2288,
    "start_time": "2021-08-08T16:55:21.050Z"
   },
   {
    "duration": 273,
    "start_time": "2021-08-08T16:55:23.341Z"
   },
   {
    "duration": 1297,
    "start_time": "2021-08-08T16:55:23.617Z"
   },
   {
    "duration": 9,
    "start_time": "2021-08-08T16:55:24.916Z"
   },
   {
    "duration": 24,
    "start_time": "2021-08-08T16:55:24.928Z"
   },
   {
    "duration": 815,
    "start_time": "2021-08-08T16:55:24.954Z"
   },
   {
    "duration": 18,
    "start_time": "2021-08-08T16:55:25.772Z"
   },
   {
    "duration": 388,
    "start_time": "2021-08-08T16:55:25.793Z"
   },
   {
    "duration": 47,
    "start_time": "2021-08-08T16:55:26.187Z"
   },
   {
    "duration": 457,
    "start_time": "2021-08-08T16:55:26.237Z"
   },
   {
    "duration": 5,
    "start_time": "2021-08-08T16:55:26.697Z"
   },
   {
    "duration": 31,
    "start_time": "2021-08-08T16:55:26.705Z"
   },
   {
    "duration": 371,
    "start_time": "2021-08-08T16:55:26.739Z"
   },
   {
    "duration": 26,
    "start_time": "2021-08-08T16:55:27.113Z"
   },
   {
    "duration": 448,
    "start_time": "2021-08-08T16:55:27.142Z"
   },
   {
    "duration": 10,
    "start_time": "2021-08-08T16:55:27.593Z"
   },
   {
    "duration": 26,
    "start_time": "2021-08-08T16:55:27.607Z"
   },
   {
    "duration": 363,
    "start_time": "2021-08-08T16:55:27.636Z"
   },
   {
    "duration": 7,
    "start_time": "2021-08-08T16:55:28.003Z"
   },
   {
    "duration": 37,
    "start_time": "2021-08-08T16:55:28.012Z"
   },
   {
    "duration": 293,
    "start_time": "2021-08-08T16:55:28.052Z"
   },
   {
    "duration": 651,
    "start_time": "2021-08-08T16:55:28.347Z"
   },
   {
    "duration": 7,
    "start_time": "2021-08-08T16:55:29.001Z"
   },
   {
    "duration": 19,
    "start_time": "2021-08-08T16:55:29.011Z"
   },
   {
    "duration": 987,
    "start_time": "2021-08-08T16:55:29.033Z"
   },
   {
    "duration": 10,
    "start_time": "2021-08-08T16:55:30.025Z"
   },
   {
    "duration": 68,
    "start_time": "2021-08-08T16:55:30.037Z"
   },
   {
    "duration": 13,
    "start_time": "2021-08-08T16:55:30.108Z"
   },
   {
    "duration": 30,
    "start_time": "2021-08-08T16:55:30.123Z"
   },
   {
    "duration": 11,
    "start_time": "2021-08-08T16:55:48.010Z"
   },
   {
    "duration": 5,
    "start_time": "2021-08-08T16:57:59.328Z"
   },
   {
    "duration": 104,
    "start_time": "2021-08-08T16:57:59.850Z"
   },
   {
    "duration": 6,
    "start_time": "2021-08-08T16:58:06.975Z"
   },
   {
    "duration": 1135,
    "start_time": "2021-08-12T13:02:59.774Z"
   },
   {
    "duration": 280,
    "start_time": "2021-08-12T13:03:00.911Z"
   },
   {
    "duration": 16,
    "start_time": "2021-08-12T13:03:01.194Z"
   },
   {
    "duration": 172,
    "start_time": "2021-08-12T13:03:01.213Z"
   },
   {
    "duration": 42,
    "start_time": "2021-08-12T13:03:01.387Z"
   },
   {
    "duration": 38,
    "start_time": "2021-08-12T13:03:01.483Z"
   },
   {
    "duration": 61,
    "start_time": "2021-08-12T13:03:01.524Z"
   },
   {
    "duration": 8,
    "start_time": "2021-08-12T13:03:01.587Z"
   },
   {
    "duration": 31,
    "start_time": "2021-08-12T13:03:01.598Z"
   },
   {
    "duration": 42,
    "start_time": "2021-08-12T13:03:01.633Z"
   },
   {
    "duration": 59,
    "start_time": "2021-08-12T13:03:01.677Z"
   },
   {
    "duration": 10,
    "start_time": "2021-08-12T13:03:01.739Z"
   },
   {
    "duration": 25,
    "start_time": "2021-08-12T13:03:01.751Z"
   },
   {
    "duration": 7,
    "start_time": "2021-08-12T13:03:01.779Z"
   },
   {
    "duration": 8,
    "start_time": "2021-08-12T13:03:01.789Z"
   },
   {
    "duration": 7,
    "start_time": "2021-08-12T13:03:01.800Z"
   },
   {
    "duration": 7,
    "start_time": "2021-08-12T13:03:01.810Z"
   },
   {
    "duration": 16,
    "start_time": "2021-08-12T13:03:01.819Z"
   },
   {
    "duration": 55,
    "start_time": "2021-08-12T13:03:01.838Z"
   },
   {
    "duration": 30,
    "start_time": "2021-08-12T13:03:01.895Z"
   },
   {
    "duration": 57,
    "start_time": "2021-08-12T13:03:01.927Z"
   },
   {
    "duration": 39,
    "start_time": "2021-08-12T13:03:01.987Z"
   },
   {
    "duration": 8,
    "start_time": "2021-08-12T13:03:02.083Z"
   },
   {
    "duration": 19,
    "start_time": "2021-08-12T13:03:02.094Z"
   },
   {
    "duration": 101,
    "start_time": "2021-08-12T13:03:02.116Z"
   },
   {
    "duration": 68,
    "start_time": "2021-08-12T13:03:02.219Z"
   },
   {
    "duration": 9,
    "start_time": "2021-08-12T13:03:02.295Z"
   },
   {
    "duration": 16,
    "start_time": "2021-08-12T13:03:02.308Z"
   },
   {
    "duration": 4,
    "start_time": "2021-08-12T13:03:02.327Z"
   },
   {
    "duration": 859,
    "start_time": "2021-08-12T13:03:02.333Z"
   },
   {
    "duration": 7,
    "start_time": "2021-08-12T13:03:03.195Z"
   },
   {
    "duration": 35,
    "start_time": "2021-08-12T13:03:03.204Z"
   },
   {
    "duration": 61,
    "start_time": "2021-08-12T13:03:03.242Z"
   },
   {
    "duration": 1546,
    "start_time": "2021-08-12T13:03:03.305Z"
   },
   {
    "duration": 2417,
    "start_time": "2021-08-12T13:03:04.853Z"
   },
   {
    "duration": 760,
    "start_time": "2021-08-12T13:03:07.272Z"
   },
   {
    "duration": 773,
    "start_time": "2021-08-12T13:03:08.035Z"
   },
   {
    "duration": 2092,
    "start_time": "2021-08-12T13:03:08.811Z"
   },
   {
    "duration": 348,
    "start_time": "2021-08-12T13:03:10.905Z"
   },
   {
    "duration": 1617,
    "start_time": "2021-08-12T13:03:11.256Z"
   },
   {
    "duration": 12,
    "start_time": "2021-08-12T13:03:12.883Z"
   },
   {
    "duration": 27,
    "start_time": "2021-08-12T13:03:12.898Z"
   },
   {
    "duration": 942,
    "start_time": "2021-08-12T13:03:12.928Z"
   },
   {
    "duration": 14,
    "start_time": "2021-08-12T13:03:13.873Z"
   },
   {
    "duration": 479,
    "start_time": "2021-08-12T13:03:13.890Z"
   },
   {
    "duration": 62,
    "start_time": "2021-08-12T13:03:14.372Z"
   },
   {
    "duration": 6,
    "start_time": "2021-08-12T13:03:14.436Z"
   },
   {
    "duration": 46,
    "start_time": "2021-08-12T13:03:14.445Z"
   },
   {
    "duration": 448,
    "start_time": "2021-08-12T13:03:14.494Z"
   },
   {
    "duration": 47,
    "start_time": "2021-08-12T13:03:14.945Z"
   },
   {
    "duration": 513,
    "start_time": "2021-08-12T13:03:14.995Z"
   },
   {
    "duration": 7,
    "start_time": "2021-08-12T13:03:15.510Z"
   },
   {
    "duration": 22,
    "start_time": "2021-08-12T13:03:15.520Z"
   },
   {
    "duration": 413,
    "start_time": "2021-08-12T13:03:15.544Z"
   },
   {
    "duration": 7,
    "start_time": "2021-08-12T13:03:15.959Z"
   },
   {
    "duration": 26,
    "start_time": "2021-08-12T13:03:15.983Z"
   },
   {
    "duration": 257,
    "start_time": "2021-08-12T13:03:16.011Z"
   },
   {
    "duration": 651,
    "start_time": "2021-08-12T13:03:16.271Z"
   },
   {
    "duration": 8,
    "start_time": "2021-08-12T13:03:16.924Z"
   },
   {
    "duration": 19,
    "start_time": "2021-08-12T13:03:16.935Z"
   },
   {
    "duration": 907,
    "start_time": "2021-08-12T13:03:16.956Z"
   },
   {
    "duration": 18,
    "start_time": "2021-08-12T13:03:17.865Z"
   },
   {
    "duration": 40,
    "start_time": "2021-08-12T13:03:17.886Z"
   },
   {
    "duration": 12,
    "start_time": "2021-08-12T13:03:17.929Z"
   },
   {
    "duration": 41,
    "start_time": "2021-08-12T13:03:17.943Z"
   },
   {
    "duration": 12,
    "start_time": "2021-08-12T13:03:17.986Z"
   },
   {
    "duration": 6,
    "start_time": "2021-08-12T13:03:18.000Z"
   },
   {
    "duration": 6,
    "start_time": "2021-08-12T13:03:18.008Z"
   },
   {
    "duration": 72,
    "start_time": "2021-08-12T13:03:18.017Z"
   },
   {
    "duration": 523,
    "start_time": "2021-08-12T13:03:18.092Z"
   },
   {
    "duration": 397,
    "start_time": "2021-08-12T13:03:18.617Z"
   },
   {
    "duration": 12,
    "start_time": "2021-08-12T13:03:19.016Z"
   },
   {
    "duration": 9,
    "start_time": "2021-08-12T13:03:19.031Z"
   },
   {
    "duration": 887,
    "start_time": "2021-08-12T13:03:19.043Z"
   },
   {
    "duration": 1003,
    "start_time": "2021-08-12T13:03:19.932Z"
   },
   {
    "duration": 729,
    "start_time": "2021-08-12T13:03:20.938Z"
   },
   {
    "duration": 770,
    "start_time": "2021-08-12T13:03:21.670Z"
   },
   {
    "duration": 304,
    "start_time": "2021-08-12T13:03:22.443Z"
   },
   {
    "duration": 7,
    "start_time": "2021-08-12T13:03:22.750Z"
   },
   {
    "duration": 260,
    "start_time": "2021-08-12T13:03:22.759Z"
   },
   {
    "duration": 443,
    "start_time": "2021-08-12T13:03:23.027Z"
   },
   {
    "duration": 15,
    "start_time": "2021-08-12T13:03:23.472Z"
   },
   {
    "duration": 32,
    "start_time": "2021-08-12T13:03:23.490Z"
   },
   {
    "duration": 431,
    "start_time": "2021-08-12T13:03:23.524Z"
   },
   {
    "duration": 1066,
    "start_time": "2021-08-12T13:03:23.958Z"
   }
  ],
  "kernelspec": {
   "display_name": "Python 3",
   "language": "python",
   "name": "python3"
  },
  "language_info": {
   "codemirror_mode": {
    "name": "ipython",
    "version": 3
   },
   "file_extension": ".py",
   "mimetype": "text/x-python",
   "name": "python",
   "nbconvert_exporter": "python",
   "pygments_lexer": "ipython3",
   "version": "3.7.8"
  },
  "toc": {
   "base_numbering": 1,
   "nav_menu": {},
   "number_sections": true,
   "sideBar": true,
   "skip_h1_title": true,
   "title_cell": "Содержание",
   "title_sidebar": "Contents",
   "toc_cell": true,
   "toc_position": {
    "height": "calc(100% - 180px)",
    "left": "10px",
    "top": "150px",
    "width": "307px"
   },
   "toc_section_display": true,
   "toc_window_display": true
  }
 },
 "nbformat": 4,
 "nbformat_minor": 2
}