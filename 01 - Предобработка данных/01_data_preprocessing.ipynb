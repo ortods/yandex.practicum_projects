{
 "cells": [
  {
   "cell_type": "markdown",
   "source": [
    "# Исследование надёжности заёмщиков\n",
    "\n",
    "Заказчик — кредитный отдел банка. Нужно разобраться, влияет ли семейное положение и количество детей клиента на факт погашения кредита в срок. Входные данные от банка — статистика о платёжеспособности клиентов.\n",
    "\n",
    "Результаты исследования будут учтены при построении модели **кредитного скоринга** — специальной системы, которая оценивает способность потенциального заёмщика вернуть кредит банку."
   ],
   "metadata": {}
  },
  {
   "cell_type": "markdown",
   "source": [
    "**Описание данных**\n",
    "- children — количество детей в семье\n",
    "- days_employed — общий трудовой стаж в днях\n",
    "- dob_years — возраст клиента в годах\n",
    "- education — уровень образования клиента\n",
    "- education_id — идентификатор уровня образования\n",
    "- family_status — семейное положение\n",
    "- family_status_id — идентификатор семейного положения\n",
    "- gender — пол клиента\n",
    "- income_type — тип занятости\n",
    "- debt — имел ли задолженность по возврату кредитов\n",
    "- total_income — ежемесячный доход\n",
    "- purpose — цель получения кредита"
   ],
   "metadata": {}
  },
  {
   "cell_type": "markdown",
   "source": [
    "## Откроем файл с данными и изучим общую информацию"
   ],
   "metadata": {}
  },
  {
   "cell_type": "code",
   "execution_count": 1,
   "source": [
    "import pandas as pd \r\n",
    "from pymystem3 import Mystem \r\n",
    "from collections import Counter "
   ],
   "outputs": [],
   "metadata": {}
  },
  {
   "cell_type": "markdown",
   "source": [
    "Импортируем и изучим датасет."
   ],
   "metadata": {}
  },
  {
   "cell_type": "code",
   "execution_count": 2,
   "source": [
    "data = pd.read_csv('/datasets/data.csv') "
   ],
   "outputs": [],
   "metadata": {}
  },
  {
   "cell_type": "code",
   "execution_count": 3,
   "source": [
    "data.head()"
   ],
   "outputs": [
    {
     "output_type": "execute_result",
     "data": {
      "text/plain": [
       "   children  days_employed  dob_years education  education_id  \\\n",
       "0         1   -8437.673028         42    высшее             0   \n",
       "1         1   -4024.803754         36   среднее             1   \n",
       "2         0   -5623.422610         33   Среднее             1   \n",
       "3         3   -4124.747207         32   среднее             1   \n",
       "4         0  340266.072047         53   среднее             1   \n",
       "\n",
       "      family_status  family_status_id gender income_type  debt   total_income  \\\n",
       "0   женат / замужем                 0      F   сотрудник     0  253875.639453   \n",
       "1   женат / замужем                 0      F   сотрудник     0  112080.014102   \n",
       "2   женат / замужем                 0      M   сотрудник     0  145885.952297   \n",
       "3   женат / замужем                 0      M   сотрудник     0  267628.550329   \n",
       "4  гражданский брак                 1      F   пенсионер     0  158616.077870   \n",
       "\n",
       "                      purpose  \n",
       "0               покупка жилья  \n",
       "1     приобретение автомобиля  \n",
       "2               покупка жилья  \n",
       "3  дополнительное образование  \n",
       "4             сыграть свадьбу  "
      ],
      "text/html": [
       "<div>\n",
       "<style scoped>\n",
       "    .dataframe tbody tr th:only-of-type {\n",
       "        vertical-align: middle;\n",
       "    }\n",
       "\n",
       "    .dataframe tbody tr th {\n",
       "        vertical-align: top;\n",
       "    }\n",
       "\n",
       "    .dataframe thead th {\n",
       "        text-align: right;\n",
       "    }\n",
       "</style>\n",
       "<table border=\"1\" class=\"dataframe\">\n",
       "  <thead>\n",
       "    <tr style=\"text-align: right;\">\n",
       "      <th></th>\n",
       "      <th>children</th>\n",
       "      <th>days_employed</th>\n",
       "      <th>dob_years</th>\n",
       "      <th>education</th>\n",
       "      <th>education_id</th>\n",
       "      <th>family_status</th>\n",
       "      <th>family_status_id</th>\n",
       "      <th>gender</th>\n",
       "      <th>income_type</th>\n",
       "      <th>debt</th>\n",
       "      <th>total_income</th>\n",
       "      <th>purpose</th>\n",
       "    </tr>\n",
       "  </thead>\n",
       "  <tbody>\n",
       "    <tr>\n",
       "      <td>0</td>\n",
       "      <td>1</td>\n",
       "      <td>-8437.673028</td>\n",
       "      <td>42</td>\n",
       "      <td>высшее</td>\n",
       "      <td>0</td>\n",
       "      <td>женат / замужем</td>\n",
       "      <td>0</td>\n",
       "      <td>F</td>\n",
       "      <td>сотрудник</td>\n",
       "      <td>0</td>\n",
       "      <td>253875.639453</td>\n",
       "      <td>покупка жилья</td>\n",
       "    </tr>\n",
       "    <tr>\n",
       "      <td>1</td>\n",
       "      <td>1</td>\n",
       "      <td>-4024.803754</td>\n",
       "      <td>36</td>\n",
       "      <td>среднее</td>\n",
       "      <td>1</td>\n",
       "      <td>женат / замужем</td>\n",
       "      <td>0</td>\n",
       "      <td>F</td>\n",
       "      <td>сотрудник</td>\n",
       "      <td>0</td>\n",
       "      <td>112080.014102</td>\n",
       "      <td>приобретение автомобиля</td>\n",
       "    </tr>\n",
       "    <tr>\n",
       "      <td>2</td>\n",
       "      <td>0</td>\n",
       "      <td>-5623.422610</td>\n",
       "      <td>33</td>\n",
       "      <td>Среднее</td>\n",
       "      <td>1</td>\n",
       "      <td>женат / замужем</td>\n",
       "      <td>0</td>\n",
       "      <td>M</td>\n",
       "      <td>сотрудник</td>\n",
       "      <td>0</td>\n",
       "      <td>145885.952297</td>\n",
       "      <td>покупка жилья</td>\n",
       "    </tr>\n",
       "    <tr>\n",
       "      <td>3</td>\n",
       "      <td>3</td>\n",
       "      <td>-4124.747207</td>\n",
       "      <td>32</td>\n",
       "      <td>среднее</td>\n",
       "      <td>1</td>\n",
       "      <td>женат / замужем</td>\n",
       "      <td>0</td>\n",
       "      <td>M</td>\n",
       "      <td>сотрудник</td>\n",
       "      <td>0</td>\n",
       "      <td>267628.550329</td>\n",
       "      <td>дополнительное образование</td>\n",
       "    </tr>\n",
       "    <tr>\n",
       "      <td>4</td>\n",
       "      <td>0</td>\n",
       "      <td>340266.072047</td>\n",
       "      <td>53</td>\n",
       "      <td>среднее</td>\n",
       "      <td>1</td>\n",
       "      <td>гражданский брак</td>\n",
       "      <td>1</td>\n",
       "      <td>F</td>\n",
       "      <td>пенсионер</td>\n",
       "      <td>0</td>\n",
       "      <td>158616.077870</td>\n",
       "      <td>сыграть свадьбу</td>\n",
       "    </tr>\n",
       "  </tbody>\n",
       "</table>\n",
       "</div>"
      ]
     },
     "metadata": {},
     "execution_count": 3
    }
   ],
   "metadata": {
    "scrolled": true
   }
  },
  {
   "cell_type": "markdown",
   "source": [
    "В колонке days_employed (общий трудовой стаж в днях) наблюдаются артефакты - отрицательные значения."
   ],
   "metadata": {}
  },
  {
   "cell_type": "code",
   "execution_count": 4,
   "source": [
    "data.info()"
   ],
   "outputs": [
    {
     "output_type": "stream",
     "name": "stdout",
     "text": [
      "<class 'pandas.core.frame.DataFrame'>\n",
      "RangeIndex: 21525 entries, 0 to 21524\n",
      "Data columns (total 12 columns):\n",
      "children            21525 non-null int64\n",
      "days_employed       19351 non-null float64\n",
      "dob_years           21525 non-null int64\n",
      "education           21525 non-null object\n",
      "education_id        21525 non-null int64\n",
      "family_status       21525 non-null object\n",
      "family_status_id    21525 non-null int64\n",
      "gender              21525 non-null object\n",
      "income_type         21525 non-null object\n",
      "debt                21525 non-null int64\n",
      "total_income        19351 non-null float64\n",
      "purpose             21525 non-null object\n",
      "dtypes: float64(2), int64(5), object(5)\n",
      "memory usage: 2.0+ MB\n"
     ]
    }
   ],
   "metadata": {
    "scrolled": true
   }
  },
  {
   "cell_type": "markdown",
   "source": [
    "Определим уникальные значения в каждом столбце данных, кроме столбцов \"days_employed\" и \"total_income\" из-за нерациональности просмотра этих данных."
   ],
   "metadata": {}
  },
  {
   "cell_type": "code",
   "execution_count": 5,
   "source": [
    "for i in data.columns.drop(['days_employed', 'total_income']):\r\n",
    "    print(f'Уникальные значения в столбце {str(i)}: {data[i].unique()}')"
   ],
   "outputs": [
    {
     "output_type": "stream",
     "name": "stdout",
     "text": [
      "Уникальные значения в столбце children: [ 1  0  3  2 -1  4 20  5]\n",
      "Уникальные значения в столбце dob_years: [42 36 33 32 53 27 43 50 35 41 40 65 54 56 26 48 24 21 57 67 28 63 62 47\n",
      " 34 68 25 31 30 20 49 37 45 61 64 44 52 46 23 38 39 51  0 59 29 60 55 58\n",
      " 71 22 73 66 69 19 72 70 74 75]\n",
      "Уникальные значения в столбце education: ['высшее' 'среднее' 'Среднее' 'СРЕДНЕЕ' 'ВЫСШЕЕ' 'неоконченное высшее'\n",
      " 'начальное' 'Высшее' 'НЕОКОНЧЕННОЕ ВЫСШЕЕ' 'Неоконченное высшее'\n",
      " 'НАЧАЛЬНОЕ' 'Начальное' 'Ученая степень' 'УЧЕНАЯ СТЕПЕНЬ'\n",
      " 'ученая степень']\n",
      "Уникальные значения в столбце education_id: [0 1 2 3 4]\n",
      "Уникальные значения в столбце family_status: ['женат / замужем' 'гражданский брак' 'вдовец / вдова' 'в разводе'\n",
      " 'Не женат / не замужем']\n",
      "Уникальные значения в столбце family_status_id: [0 1 2 3 4]\n",
      "Уникальные значения в столбце gender: ['F' 'M' 'XNA']\n",
      "Уникальные значения в столбце income_type: ['сотрудник' 'пенсионер' 'компаньон' 'госслужащий' 'безработный'\n",
      " 'предприниматель' 'студент' 'в декрете']\n",
      "Уникальные значения в столбце debt: [0 1]\n",
      "Уникальные значения в столбце purpose: ['покупка жилья' 'приобретение автомобиля' 'дополнительное образование'\n",
      " 'сыграть свадьбу' 'операции с жильем' 'образование'\n",
      " 'на проведение свадьбы' 'покупка жилья для семьи' 'покупка недвижимости'\n",
      " 'покупка коммерческой недвижимости' 'покупка жилой недвижимости'\n",
      " 'строительство собственной недвижимости' 'недвижимость'\n",
      " 'строительство недвижимости' 'на покупку подержанного автомобиля'\n",
      " 'на покупку своего автомобиля' 'операции с коммерческой недвижимостью'\n",
      " 'строительство жилой недвижимости' 'жилье'\n",
      " 'операции со своей недвижимостью' 'автомобили' 'заняться образованием'\n",
      " 'сделка с подержанным автомобилем' 'получение образования' 'автомобиль'\n",
      " 'свадьба' 'получение дополнительного образования' 'покупка своего жилья'\n",
      " 'операции с недвижимостью' 'получение высшего образования'\n",
      " 'свой автомобиль' 'сделка с автомобилем' 'профильное образование'\n",
      " 'высшее образование' 'покупка жилья для сдачи' 'на покупку автомобиля'\n",
      " 'ремонт жилью' 'заняться высшим образованием']\n"
     ]
    }
   ],
   "metadata": {
    "scrolled": false
   }
  },
  {
   "cell_type": "markdown",
   "source": [
    "Проверим артефакты в столбце 'количество детей в семье'."
   ],
   "metadata": {}
  },
  {
   "cell_type": "code",
   "execution_count": 6,
   "source": [
    "data['children'].value_counts()"
   ],
   "outputs": [
    {
     "output_type": "execute_result",
     "data": {
      "text/plain": [
       " 0     14149\n",
       " 1      4818\n",
       " 2      2055\n",
       " 3       330\n",
       " 20       76\n",
       "-1        47\n",
       " 4        41\n",
       " 5         9\n",
       "Name: children, dtype: int64"
      ]
     },
     "metadata": {},
     "execution_count": 6
    }
   ],
   "metadata": {}
  },
  {
   "cell_type": "markdown",
   "source": [
    "Проверим артефакты в столбце 'пол клиента'."
   ],
   "metadata": {}
  },
  {
   "cell_type": "code",
   "execution_count": 7,
   "source": [
    "data['gender'].value_counts()"
   ],
   "outputs": [
    {
     "output_type": "execute_result",
     "data": {
      "text/plain": [
       "F      14236\n",
       "M       7288\n",
       "XNA        1\n",
       "Name: gender, dtype: int64"
      ]
     },
     "metadata": {},
     "execution_count": 7
    }
   ],
   "metadata": {}
  },
  {
   "cell_type": "markdown",
   "source": [
    "### Вывод"
   ],
   "metadata": {}
  },
  {
   "cell_type": "markdown",
   "source": [
    "**1.1.** В таблице имеются пропуски (число ненулевых значений в некоторых столбцах отличается от количества строк).  \n",
    "**1.2.** В столбце \"days_employed\" имеются артефакты - отрицательные значения. Вероятная причина возникновения преобразование данных из одного типа в другой.  \n",
    "**1.3.** В столбце \"education\" данные записаны разным регистром. Вероятная причина возникновения человеческий фактор при заполнении.  \n",
    "**1.4.** В столбце \"purpose\" одна и та же по смыслу цель записана разными способами (например \"покупка своего жилья\" и \"покупка жилья\"). Вероятная причина возникновения человеческий фактор при заполнении.  \n",
    "**1.5.** В столбце \"children\" имеются артефакты - отрицательные значения. Вероятная причина возникновения человеческий фактор при заполнении.   \n",
    "**1.6.** В столбце \"gender\" имеется неизвестное значение xna. Вероятная причина возникновения человеческий фактор при заполнении. \n",
    " "
   ],
   "metadata": {}
  },
  {
   "cell_type": "markdown",
   "source": [
    "## Предобработка данных"
   ],
   "metadata": {}
  },
  {
   "cell_type": "markdown",
   "source": [
    "### Обработка пропусков"
   ],
   "metadata": {}
  },
  {
   "cell_type": "markdown",
   "source": [
    "Так как перед нами не стоит задача определить кореляцию кредитоспособности от общего трудового стажа, чтобы не исключать строки с данными целиком, обработаем пропуски данных в столбце \"days_employed\" ad-hoc методом - заполнением пропусков нулями."
   ],
   "metadata": {}
  },
  {
   "cell_type": "code",
   "execution_count": 8,
   "source": [
    "data['days_employed'] = data['days_employed'].fillna(0)\r\n",
    "data.info()"
   ],
   "outputs": [
    {
     "output_type": "stream",
     "name": "stdout",
     "text": [
      "<class 'pandas.core.frame.DataFrame'>\n",
      "RangeIndex: 21525 entries, 0 to 21524\n",
      "Data columns (total 12 columns):\n",
      "children            21525 non-null int64\n",
      "days_employed       21525 non-null float64\n",
      "dob_years           21525 non-null int64\n",
      "education           21525 non-null object\n",
      "education_id        21525 non-null int64\n",
      "family_status       21525 non-null object\n",
      "family_status_id    21525 non-null int64\n",
      "gender              21525 non-null object\n",
      "income_type         21525 non-null object\n",
      "debt                21525 non-null int64\n",
      "total_income        19351 non-null float64\n",
      "purpose             21525 non-null object\n",
      "dtypes: float64(2), int64(5), object(5)\n",
      "memory usage: 2.0+ MB\n"
     ]
    }
   ],
   "metadata": {}
  },
  {
   "cell_type": "markdown",
   "source": [
    "Стобец \"total_income\" представляет для нас интерес в связи с поставленными задачами исследования. Для решения способа обработки пропусков найдем максимальное и минимальное значение в столбце."
   ],
   "metadata": {}
  },
  {
   "cell_type": "code",
   "execution_count": 9,
   "source": [
    "print(\"Максимальное значение ежемесячного дохода: {:.0f}\".format(data['total_income'].max())) \r\n",
    "print(\"Минимальное значение ежемесячного дохода: {:.0f}\".format(data['total_income'].min()))  \r\n",
    "print(\"Отношение максимального ежемесячного дохода к минимальному: {:.0f}\".format(\r\n",
    "    data['total_income'].max()/ data['total_income'].min())) "
   ],
   "outputs": [
    {
     "output_type": "stream",
     "name": "stdout",
     "text": [
      "Максимальное значение ежемесячного дохода: 2265604\n",
      "Минимальное значение ежемесячного дохода: 20667\n",
      "Отношение максимального ежемесячного дохода к минимальному: 110\n"
     ]
    }
   ],
   "metadata": {}
  },
  {
   "cell_type": "markdown",
   "source": [
    "В связи с огромным разрывом (более чем в 100 раз) между максимальным и минимальным значением ежемесячного дохода используем другую разновидность ad-hoc метода - заполнение медианной, так как заполнение средним значением или нулями приведет к более существенным искажениям выборки. Заменим пропуски в total_incom на медианное значение группируя по income_type. "
   ],
   "metadata": {}
  },
  {
   "cell_type": "code",
   "execution_count": 10,
   "source": [
    "data.groupby('income_type')['total_income'].median()"
   ],
   "outputs": [
    {
     "output_type": "execute_result",
     "data": {
      "text/plain": [
       "income_type\n",
       "безработный        131339.751676\n",
       "в декрете           53829.130729\n",
       "госслужащий        150447.935283\n",
       "компаньон          172357.950966\n",
       "пенсионер          118514.486412\n",
       "предприниматель    499163.144947\n",
       "сотрудник          142594.396847\n",
       "студент             98201.625314\n",
       "Name: total_income, dtype: float64"
      ]
     },
     "metadata": {},
     "execution_count": 10
    }
   ],
   "metadata": {
    "scrolled": true
   }
  },
  {
   "cell_type": "code",
   "execution_count": 11,
   "source": [
    "data['total_income'] = data[['total_income']].fillna(data.groupby(\"income_type\").transform(\"median\")) "
   ],
   "outputs": [],
   "metadata": {}
  },
  {
   "cell_type": "markdown",
   "source": [
    "Проверим пропуски."
   ],
   "metadata": {}
  },
  {
   "cell_type": "code",
   "execution_count": 12,
   "source": [
    "data.info()"
   ],
   "outputs": [
    {
     "output_type": "stream",
     "name": "stdout",
     "text": [
      "<class 'pandas.core.frame.DataFrame'>\n",
      "RangeIndex: 21525 entries, 0 to 21524\n",
      "Data columns (total 12 columns):\n",
      "children            21525 non-null int64\n",
      "days_employed       21525 non-null float64\n",
      "dob_years           21525 non-null int64\n",
      "education           21525 non-null object\n",
      "education_id        21525 non-null int64\n",
      "family_status       21525 non-null object\n",
      "family_status_id    21525 non-null int64\n",
      "gender              21525 non-null object\n",
      "income_type         21525 non-null object\n",
      "debt                21525 non-null int64\n",
      "total_income        21525 non-null float64\n",
      "purpose             21525 non-null object\n",
      "dtypes: float64(2), int64(5), object(5)\n",
      "memory usage: 2.0+ MB\n"
     ]
    }
   ],
   "metadata": {}
  },
  {
   "cell_type": "markdown",
   "source": [
    "Заменим значение (-1) в столбце с детьми на 1 методом .replace(). Данная замена обусловленна предположением о появлении ошибочного знака \"-\" при вводе значения 1."
   ],
   "metadata": {}
  },
  {
   "cell_type": "code",
   "execution_count": 13,
   "source": [
    "data['children'] = data['children'].replace(-1, 1)"
   ],
   "outputs": [],
   "metadata": {}
  },
  {
   "cell_type": "markdown",
   "source": [
    "Проверим уникальные значение в колонке 'children'."
   ],
   "metadata": {}
  },
  {
   "cell_type": "code",
   "execution_count": 14,
   "source": [
    "data['children'].value_counts()"
   ],
   "outputs": [
    {
     "output_type": "execute_result",
     "data": {
      "text/plain": [
       "0     14149\n",
       "1      4865\n",
       "2      2055\n",
       "3       330\n",
       "20       76\n",
       "4        41\n",
       "5         9\n",
       "Name: children, dtype: int64"
      ]
     },
     "metadata": {},
     "execution_count": 14
    }
   ],
   "metadata": {}
  },
  {
   "cell_type": "markdown",
   "source": [
    "**Вывод**"
   ],
   "metadata": {}
  },
  {
   "cell_type": "markdown",
   "source": [
    "Все пропущенные значения типа \"NaN\" в стоблцах 'days_employed' и 'total_income' заполнены нулями и медианой по группам income_type соответственно. Значение (-1) в стоблце 'children' заменено на (1).  \n",
    "Так как идентифицировать пол клиента в строках с данными 'xna' по имеющимся данным не представляется возможным и перед нами не стоит исcледовательских задач касающихся пола клиента оставим данные без изменения."
   ],
   "metadata": {}
  },
  {
   "cell_type": "markdown",
   "source": [
    "### Замена типа данных"
   ],
   "metadata": {}
  },
  {
   "cell_type": "markdown",
   "source": [
    "Избавимся от артефактов с отрицательными значениями в столбце 'days_employed' вернув абсолютную величину функцией abs.  \n",
    "Альтернативным способом является умножение отрицательных значений на (-1). Для поиска отрицальных значений в столбце воспользуемся атрибутом .loc. Оставим только отрицательные значения в столбце и присвоим им то же значение умноженное на (-1). Однако этот способ длиннее и поэтому менее предпочтителен. "
   ],
   "metadata": {}
  },
  {
   "cell_type": "code",
   "execution_count": 15,
   "source": [
    "data['days_employed'] = abs(data['days_employed']) \r\n",
    "#data.loc[data['days_employed'] < 0,'days_employed'] = data['days_employed'] * (-1) # альтернативный способ"
   ],
   "outputs": [],
   "metadata": {}
  },
  {
   "cell_type": "markdown",
   "source": [
    "Для наглядности и удобства заменим типы данных в столбцах 'days_employed' и 'total_income' с вещественного на целочисленый методом .astype('int')."
   ],
   "metadata": {}
  },
  {
   "cell_type": "code",
   "execution_count": 16,
   "source": [
    "data['days_employed'] = data['days_employed'].astype('int') \r\n",
    "data['total_income'] = data['total_income'].astype('int') "
   ],
   "outputs": [],
   "metadata": {}
  },
  {
   "cell_type": "code",
   "execution_count": 17,
   "source": [
    "data.dtypes"
   ],
   "outputs": [
    {
     "output_type": "execute_result",
     "data": {
      "text/plain": [
       "children             int64\n",
       "days_employed        int64\n",
       "dob_years            int64\n",
       "education           object\n",
       "education_id         int64\n",
       "family_status       object\n",
       "family_status_id     int64\n",
       "gender              object\n",
       "income_type         object\n",
       "debt                 int64\n",
       "total_income         int64\n",
       "purpose             object\n",
       "dtype: object"
      ]
     },
     "metadata": {},
     "execution_count": 17
    }
   ],
   "metadata": {
    "scrolled": true
   }
  },
  {
   "cell_type": "markdown",
   "source": [
    "Проверим результат на 5 первых значениях столбцов 'days_employed' и 'total_income'."
   ],
   "metadata": {}
  },
  {
   "cell_type": "code",
   "execution_count": 18,
   "source": [
    "data[['days_employed', 'total_income']].head()"
   ],
   "outputs": [
    {
     "output_type": "execute_result",
     "data": {
      "text/plain": [
       "   days_employed  total_income\n",
       "0           8437        253875\n",
       "1           4024        112080\n",
       "2           5623        145885\n",
       "3           4124        267628\n",
       "4         340266        158616"
      ],
      "text/html": [
       "<div>\n",
       "<style scoped>\n",
       "    .dataframe tbody tr th:only-of-type {\n",
       "        vertical-align: middle;\n",
       "    }\n",
       "\n",
       "    .dataframe tbody tr th {\n",
       "        vertical-align: top;\n",
       "    }\n",
       "\n",
       "    .dataframe thead th {\n",
       "        text-align: right;\n",
       "    }\n",
       "</style>\n",
       "<table border=\"1\" class=\"dataframe\">\n",
       "  <thead>\n",
       "    <tr style=\"text-align: right;\">\n",
       "      <th></th>\n",
       "      <th>days_employed</th>\n",
       "      <th>total_income</th>\n",
       "    </tr>\n",
       "  </thead>\n",
       "  <tbody>\n",
       "    <tr>\n",
       "      <td>0</td>\n",
       "      <td>8437</td>\n",
       "      <td>253875</td>\n",
       "    </tr>\n",
       "    <tr>\n",
       "      <td>1</td>\n",
       "      <td>4024</td>\n",
       "      <td>112080</td>\n",
       "    </tr>\n",
       "    <tr>\n",
       "      <td>2</td>\n",
       "      <td>5623</td>\n",
       "      <td>145885</td>\n",
       "    </tr>\n",
       "    <tr>\n",
       "      <td>3</td>\n",
       "      <td>4124</td>\n",
       "      <td>267628</td>\n",
       "    </tr>\n",
       "    <tr>\n",
       "      <td>4</td>\n",
       "      <td>340266</td>\n",
       "      <td>158616</td>\n",
       "    </tr>\n",
       "  </tbody>\n",
       "</table>\n",
       "</div>"
      ]
     },
     "metadata": {},
     "execution_count": 18
    }
   ],
   "metadata": {
    "scrolled": true
   }
  },
  {
   "cell_type": "markdown",
   "source": [
    "Проверим наличие отрицательных значений в столбце 'days_employed'"
   ],
   "metadata": {}
  },
  {
   "cell_type": "code",
   "execution_count": 19,
   "source": [
    "if data[data['days_employed'] < 0]['days_employed'].count() > 0: \r\n",
    "    print('В столбце \"days_employed\" присутствуют отрицательные значения')\r\n",
    "else:\r\n",
    "    print('Отрицательных значений в столбце days_employed нет.')"
   ],
   "outputs": [
    {
     "output_type": "stream",
     "name": "stdout",
     "text": [
      "Отрицательных значений в столбце days_employed нет.\n"
     ]
    }
   ],
   "metadata": {}
  },
  {
   "cell_type": "markdown",
   "source": [
    "**Вывод**"
   ],
   "metadata": {}
  },
  {
   "cell_type": "markdown",
   "source": [
    "Для удобства и наглядности анализа данных значения в столбцах 'days_employed' и 'total_income' заменены на целочисленные значения методом .astype('int') "
   ],
   "metadata": {}
  },
  {
   "cell_type": "markdown",
   "source": [
    "### Обработка дубликатов"
   ],
   "metadata": {}
  },
  {
   "cell_type": "markdown",
   "source": [
    "В стобцах 'family_status' и 'education' имеются записи в разных регистрах. Переведем все данные в этих стобцах к одному виду записи - нижнему регистру."
   ],
   "metadata": {}
  },
  {
   "cell_type": "code",
   "execution_count": 20,
   "source": [
    "data['family_status'] = data['family_status'].str.lower() \r\n",
    "data['education'] = data['education'].str.lower()  \r\n",
    "print('Уникальные значения в столбце \"семейное положение\": ', data['family_status'].unique())\r\n",
    "print('Уникальные значения в столбце \"уровень образования клиента\": ', data['education'].unique())"
   ],
   "outputs": [
    {
     "output_type": "stream",
     "name": "stdout",
     "text": [
      "Уникальные значения в столбце \"семейное положение\":  ['женат / замужем' 'гражданский брак' 'вдовец / вдова' 'в разводе'\n",
      " 'не женат / не замужем']\n",
      "Уникальные значения в столбце \"уровень образования клиента\":  ['высшее' 'среднее' 'неоконченное высшее' 'начальное' 'ученая степень']\n"
     ]
    }
   ],
   "metadata": {}
  },
  {
   "cell_type": "markdown",
   "source": [
    "Обработаем дубликаты в таблице."
   ],
   "metadata": {}
  },
  {
   "cell_type": "markdown",
   "source": [
    "Выведем число дублирующихся строк."
   ],
   "metadata": {}
  },
  {
   "cell_type": "code",
   "execution_count": 21,
   "source": [
    "data.duplicated().sum()"
   ],
   "outputs": [
    {
     "output_type": "execute_result",
     "data": {
      "text/plain": [
       "71"
      ]
     },
     "metadata": {},
     "execution_count": 21
    }
   ],
   "metadata": {}
  },
  {
   "cell_type": "markdown",
   "source": [
    "Удалим дубликаты методом .drop_duplicates() в связке с .reset_index() чтобы не создавать столбец со старыми значениями индексов."
   ],
   "metadata": {}
  },
  {
   "cell_type": "code",
   "execution_count": 22,
   "source": [
    "data = data.drop_duplicates().reset_index(drop=True)"
   ],
   "outputs": [],
   "metadata": {}
  },
  {
   "cell_type": "markdown",
   "source": [
    "**Вывод**"
   ],
   "metadata": {}
  },
  {
   "cell_type": "markdown",
   "source": [
    "Дублирующиеся значения приведены к общему виду написания в нижнем регистре. Выявлена и удалена 71 дублирующаяся строка. Возможные причины возникновения дубликатов в человеческий фактор, ошибки при конвертировании датафрейма.  "
   ],
   "metadata": {}
  },
  {
   "cell_type": "markdown",
   "source": [
    "### Лемматизация"
   ],
   "metadata": {}
  },
  {
   "cell_type": "markdown",
   "source": [
    "Объявляем фунцию для лемматизации строк."
   ],
   "metadata": {}
  },
  {
   "cell_type": "code",
   "execution_count": 23,
   "source": [
    "m = Mystem()\r\n",
    "def lemmatization(row):\r\n",
    "    lemm = m.lemmatize(row)\r\n",
    "    return lemm"
   ],
   "outputs": [],
   "metadata": {}
  },
  {
   "cell_type": "markdown",
   "source": [
    "Применяемя функцию лемматизации для колоники purpose (цель кредита). Сохраняем леммы целей кредита в колонку purpose_lemm."
   ],
   "metadata": {}
  },
  {
   "cell_type": "code",
   "execution_count": 24,
   "source": [
    "data['purpose_lemm'] = data['purpose'].apply(lemmatization) "
   ],
   "outputs": [],
   "metadata": {}
  },
  {
   "cell_type": "markdown",
   "source": [
    "Выведем получившиеся леммы и число их упоминаний."
   ],
   "metadata": {}
  },
  {
   "cell_type": "code",
   "execution_count": 25,
   "source": [
    "print(Counter(data['purpose_lemm'].sum())) "
   ],
   "outputs": [
    {
     "output_type": "stream",
     "name": "stdout",
     "text": [
      "Counter({' ': 33570, '\\n': 21454, 'недвижимость': 6351, 'покупка': 5897, 'жилье': 4460, 'автомобиль': 4306, 'образование': 4013, 'с': 2918, 'операция': 2604, 'свадьба': 2324, 'свой': 2230, 'на': 2222, 'строительство': 1878, 'высокий': 1374, 'получение': 1314, 'коммерческий': 1311, 'для': 1289, 'жилой': 1230, 'сделка': 941, 'дополнительный': 906, 'заниматься': 904, 'проведение': 768, 'сыграть': 765, 'сдача': 651, 'семья': 638, 'собственный': 635, 'со': 627, 'ремонт': 607, 'подержанный': 486, 'подержать': 478, 'приобретение': 461, 'профильный': 436})\n"
     ]
    }
   ],
   "metadata": {}
  },
  {
   "cell_type": "markdown",
   "source": [
    "**Вывод**"
   ],
   "metadata": {}
  },
  {
   "cell_type": "markdown",
   "source": [
    "С помощью лемматизации столбца \"purpose\" выделены леммы в значениях столбца с целями получения кредита. Лемматизирование значения сохранены в колонке 'purpose_lemm'.  \n",
    "Основные категории целей получение кредита: недвижимость, жилье, автомобиль, образование, свадьба, строительство, ремонт. "
   ],
   "metadata": {}
  },
  {
   "cell_type": "markdown",
   "source": [
    "### Категоризация данных"
   ],
   "metadata": {}
  },
  {
   "cell_type": "markdown",
   "source": [
    "**Этап 1.** В соответствии с задачами исследования произведем категоризацию данных по столбцу \"children\". Выделим две группы клиентов: \"дети есть\" и \"детей нет\"."
   ],
   "metadata": {}
  },
  {
   "cell_type": "markdown",
   "source": [
    "Объявляем функцию для определения категоризации клинетов по признаку наличия детей."
   ],
   "metadata": {}
  },
  {
   "cell_type": "code",
   "execution_count": 26,
   "source": [
    "def children_category(row):\r\n",
    "    if row == 0:\r\n",
    "        return 'детей нет'\r\n",
    "    return 'дети есть' "
   ],
   "outputs": [],
   "metadata": {}
  },
  {
   "cell_type": "markdown",
   "source": [
    "Применяем функцию к столбцу \"children\" и сохраняем в новый столбец \"children_status\""
   ],
   "metadata": {}
  },
  {
   "cell_type": "code",
   "execution_count": 27,
   "source": [
    "data['children_status'] = data['children'].apply(children_category)"
   ],
   "outputs": [],
   "metadata": {}
  },
  {
   "cell_type": "markdown",
   "source": [
    "Проверяем функцию категоризации клиентов по группам \"дети есть\" и \"детей нет\""
   ],
   "metadata": {}
  },
  {
   "cell_type": "code",
   "execution_count": 28,
   "source": [
    "data['children_status'].value_counts()"
   ],
   "outputs": [
    {
     "output_type": "execute_result",
     "data": {
      "text/plain": [
       "детей нет    14091\n",
       "дети есть     7363\n",
       "Name: children_status, dtype: int64"
      ]
     },
     "metadata": {},
     "execution_count": 28
    }
   ],
   "metadata": {}
  },
  {
   "cell_type": "markdown",
   "source": [
    "**Этап 2.** Произведем категоризацию данных по столбцу \"family_status_id\". Для этого составим словарь с идентификаторами  'family_status_id' и 'family_status'."
   ],
   "metadata": {}
  },
  {
   "cell_type": "code",
   "execution_count": 29,
   "source": [
    "print('Словарь для определения семеного положения')\r\n",
    "family_dictionary = data[['family_status_id', 'family_status']].drop_duplicates().reset_index(drop=True)\r\n",
    "family_dictionary"
   ],
   "outputs": [
    {
     "output_type": "stream",
     "name": "stdout",
     "text": [
      "Словарь для определения семеного положения\n"
     ]
    },
    {
     "output_type": "execute_result",
     "data": {
      "text/plain": [
       "   family_status_id          family_status\n",
       "0                 0        женат / замужем\n",
       "1                 1       гражданский брак\n",
       "2                 2         вдовец / вдова\n",
       "3                 3              в разводе\n",
       "4                 4  не женат / не замужем"
      ],
      "text/html": [
       "<div>\n",
       "<style scoped>\n",
       "    .dataframe tbody tr th:only-of-type {\n",
       "        vertical-align: middle;\n",
       "    }\n",
       "\n",
       "    .dataframe tbody tr th {\n",
       "        vertical-align: top;\n",
       "    }\n",
       "\n",
       "    .dataframe thead th {\n",
       "        text-align: right;\n",
       "    }\n",
       "</style>\n",
       "<table border=\"1\" class=\"dataframe\">\n",
       "  <thead>\n",
       "    <tr style=\"text-align: right;\">\n",
       "      <th></th>\n",
       "      <th>family_status_id</th>\n",
       "      <th>family_status</th>\n",
       "    </tr>\n",
       "  </thead>\n",
       "  <tbody>\n",
       "    <tr>\n",
       "      <td>0</td>\n",
       "      <td>0</td>\n",
       "      <td>женат / замужем</td>\n",
       "    </tr>\n",
       "    <tr>\n",
       "      <td>1</td>\n",
       "      <td>1</td>\n",
       "      <td>гражданский брак</td>\n",
       "    </tr>\n",
       "    <tr>\n",
       "      <td>2</td>\n",
       "      <td>2</td>\n",
       "      <td>вдовец / вдова</td>\n",
       "    </tr>\n",
       "    <tr>\n",
       "      <td>3</td>\n",
       "      <td>3</td>\n",
       "      <td>в разводе</td>\n",
       "    </tr>\n",
       "    <tr>\n",
       "      <td>4</td>\n",
       "      <td>4</td>\n",
       "      <td>не женат / не замужем</td>\n",
       "    </tr>\n",
       "  </tbody>\n",
       "</table>\n",
       "</div>"
      ]
     },
     "metadata": {},
     "execution_count": 29
    }
   ],
   "metadata": {
    "scrolled": true
   }
  },
  {
   "cell_type": "markdown",
   "source": [
    "Считаем количество клиентов в каждой категории по семеному положению методом .value_counts()"
   ],
   "metadata": {}
  },
  {
   "cell_type": "code",
   "execution_count": 30,
   "source": [
    "data['family_status_id'].value_counts(sort=False)"
   ],
   "outputs": [
    {
     "output_type": "execute_result",
     "data": {
      "text/plain": [
       "0    12339\n",
       "1     4151\n",
       "2      959\n",
       "3     1195\n",
       "4     2810\n",
       "Name: family_status_id, dtype: int64"
      ]
     },
     "metadata": {},
     "execution_count": 30
    }
   ],
   "metadata": {}
  },
  {
   "cell_type": "markdown",
   "source": [
    "**Этап 3.** Произведем категоризацию данных по столбцу \"total_income\". Распределим клиентов по доходу следующим образом \"низкий уровень дохода\" \"средний уровень дохода\" и \"высокий уровень дохода\"."
   ],
   "metadata": {}
  },
  {
   "cell_type": "markdown",
   "source": [
    "Категоризацию клиетов по уровню доходу выполним применение метода .quantile() к значениям столбца \"total_income\". Так как категоризация будет осуществляться на три группы, то в качестве аргументов методода .quantile() применим 0.33 и 0.66, остальных отнесем в категорию с высоким доходом. Таким образом мы поделим клинетов на три примерно равные группы."
   ],
   "metadata": {}
  },
  {
   "cell_type": "code",
   "execution_count": 31,
   "source": [
    "low_income = (data['total_income']).quantile(.33) \r\n",
    "mean_income = (data['total_income']).quantile(.66) "
   ],
   "outputs": [],
   "metadata": {}
  },
  {
   "cell_type": "markdown",
   "source": [
    "Объявляем функцию для определения категорий дохода."
   ],
   "metadata": {}
  },
  {
   "cell_type": "code",
   "execution_count": 32,
   "source": [
    "def income(total_income):\r\n",
    "    if total_income <= low_income:\r\n",
    "        return \"низкий уровень дохода\"\r\n",
    "    if total_income <= mean_income:\r\n",
    "        return \"средний уровень дохода\"\r\n",
    "    return \"высокий уровень дохода\""
   ],
   "outputs": [],
   "metadata": {}
  },
  {
   "cell_type": "code",
   "execution_count": 33,
   "source": [
    "print(f\"Если среднемесячный доход не более {low_income:.0f}, то клиент определяется в категорию '{income(low_income)}'\")\r\n",
    "print(f\"Если среднемесячный доход не более {mean_income:.0f}, то клиент определяется в категорию '{income(mean_income)}'\")\r\n",
    "print(f\"Если среднемесячный доход более {mean_income:.0f}, то клиент определяется в категорию '{income(mean_income + 0.1)}'\")"
   ],
   "outputs": [
    {
     "output_type": "stream",
     "name": "stdout",
     "text": [
      "Если среднемесячный доход не более 118514, то клиент определяется в категорию 'низкий уровень дохода'\n",
      "Если среднемесячный доход не более 172357, то клиент определяется в категорию 'средний уровень дохода'\n",
      "Если среднемесячный доход более 172357, то клиент определяется в категорию 'высокий уровень дохода'\n"
     ]
    }
   ],
   "metadata": {}
  },
  {
   "cell_type": "markdown",
   "source": [
    "Применяем к столбцу 'total_income' функцию для определения категорий дохода и сохраняем в столбец 'income_group'."
   ],
   "metadata": {}
  },
  {
   "cell_type": "code",
   "execution_count": 34,
   "source": [
    "data['income_group'] = data['total_income'].apply(income)"
   ],
   "outputs": [],
   "metadata": {}
  },
  {
   "cell_type": "markdown",
   "source": [
    "Проверяем значения нового столбца для определения категорий дохода."
   ],
   "metadata": {}
  },
  {
   "cell_type": "code",
   "execution_count": 35,
   "source": [
    "data['income_group'].value_counts()"
   ],
   "outputs": [
    {
     "output_type": "execute_result",
     "data": {
      "text/plain": [
       "средний уровень дохода    7341\n",
       "низкий уровень дохода     7096\n",
       "высокий уровень дохода    7017\n",
       "Name: income_group, dtype: int64"
      ]
     },
     "metadata": {},
     "execution_count": 35
    }
   ],
   "metadata": {}
  },
  {
   "cell_type": "markdown",
   "source": [
    "Для категоризации данных из столбца 'purpose' (цель получения кредита), выбираем ключевые леммы и собираем из них список. После этого создаем функцию категоризации на основе проверки наличия ключевых лемм в стороках."
   ],
   "metadata": {}
  },
  {
   "cell_type": "code",
   "execution_count": 36,
   "source": [
    "lemm_list = ['ремонт', 'строительство', 'свадьба', 'жилье', 'образование', 'автомобиль', 'недвижимость'] \r\n",
    "\r\n",
    "def purpose_categorize(row):\r\n",
    "    for word in lemm_list:\r\n",
    "        if word in row:\r\n",
    "            return word"
   ],
   "outputs": [],
   "metadata": {}
  },
  {
   "cell_type": "markdown",
   "source": [
    "Применяем функцию категоризации для целей получения кредита по лемматизированным строкам и присвоим ламматизированные цели в столбец 'purpose_category'."
   ],
   "metadata": {}
  },
  {
   "cell_type": "code",
   "execution_count": 37,
   "source": [
    "data['purpose_category'] = data['purpose_lemm'].apply(purpose_categorize)"
   ],
   "outputs": [],
   "metadata": {}
  },
  {
   "cell_type": "markdown",
   "source": [
    "Проверяем категоризацию клиентов по целям получения кредита недвижимость."
   ],
   "metadata": {}
  },
  {
   "cell_type": "code",
   "execution_count": 38,
   "source": [
    "data['purpose_category'].value_counts()"
   ],
   "outputs": [
    {
     "output_type": "execute_result",
     "data": {
      "text/plain": [
       "недвижимость     4473\n",
       "автомобиль       4306\n",
       "образование      4013\n",
       "жилье            3853\n",
       "свадьба          2324\n",
       "строительство    1878\n",
       "ремонт            607\n",
       "Name: purpose_category, dtype: int64"
      ]
     },
     "metadata": {},
     "execution_count": 38
    }
   ],
   "metadata": {}
  },
  {
   "cell_type": "markdown",
   "source": [
    "**Вывод**"
   ],
   "metadata": {}
  },
  {
   "cell_type": "markdown",
   "source": [
    "Данные, необходимые для решения поставленных задач категорированы. Созданы столбцы для категоризации по наличию детей, среднемесячному доходу, целей кредита. Составлен словарь для определения семейного статуса клинета."
   ],
   "metadata": {}
  },
  {
   "cell_type": "markdown",
   "source": [
    "## Шаг 3. Ответьте на вопросы"
   ],
   "metadata": {}
  },
  {
   "cell_type": "markdown",
   "source": [
    "- Есть ли зависимость между наличием детей и возвратом кредита в срок?"
   ],
   "metadata": {}
  },
  {
   "cell_type": "code",
   "execution_count": 39,
   "source": [
    "data_pivot_children = data.pivot_table(index=['children_status'], values='debt', aggfunc='mean')\r\n",
    "data_pivot_children.style.format({'debt': '{:.2%}'})"
   ],
   "outputs": [
    {
     "output_type": "execute_result",
     "data": {
      "text/plain": [
       "<pandas.io.formats.style.Styler at 0x7f57673faa90>"
      ],
      "text/html": [
       "<style  type=\"text/css\" >\n",
       "</style><table id=\"T_f3f75784_fb6d_11eb_8bfa_02420a39a7ee\" ><thead>    <tr>        <th class=\"blank level0\" ></th>        <th class=\"col_heading level0 col0\" >debt</th>    </tr>    <tr>        <th class=\"index_name level0\" >children_status</th>        <th class=\"blank\" ></th>    </tr></thead><tbody>\n",
       "                <tr>\n",
       "                        <th id=\"T_f3f75784_fb6d_11eb_8bfa_02420a39a7eelevel0_row0\" class=\"row_heading level0 row0\" >детей нет</th>\n",
       "                        <td id=\"T_f3f75784_fb6d_11eb_8bfa_02420a39a7eerow0_col0\" class=\"data row0 col0\" >7.54%</td>\n",
       "            </tr>\n",
       "            <tr>\n",
       "                        <th id=\"T_f3f75784_fb6d_11eb_8bfa_02420a39a7eelevel0_row1\" class=\"row_heading level0 row1\" >дети есть</th>\n",
       "                        <td id=\"T_f3f75784_fb6d_11eb_8bfa_02420a39a7eerow1_col0\" class=\"data row1 col0\" >9.21%</td>\n",
       "            </tr>\n",
       "    </tbody></table>"
      ]
     },
     "metadata": {},
     "execution_count": 39
    }
   ],
   "metadata": {}
  },
  {
   "cell_type": "markdown",
   "source": [
    "**Вывод**"
   ],
   "metadata": {}
  },
  {
   "cell_type": "markdown",
   "source": [
    "9,21% клиентов в категории \"дети есть\" имеют задолженность по возврату кредита.  \n",
    "7,54% клиентов в категории \"детей нет\" имеют задолженность по возврату кредита.  \n",
    "Наличие детей увеличивает вероятность невозврата кредита в срок."
   ],
   "metadata": {}
  },
  {
   "cell_type": "markdown",
   "source": [
    "- Есть ли зависимость между семейным положением и возвратом кредита в срок?"
   ],
   "metadata": {}
  },
  {
   "cell_type": "code",
   "execution_count": 40,
   "source": [
    "data_pivot_family = data.pivot_table(index=['family_status'], values='debt', aggfunc='mean')\r\n",
    "data_pivot_family.sort_values(by = 'debt', ascending=False).style.format({'debt': '{:.2%}'})"
   ],
   "outputs": [
    {
     "output_type": "execute_result",
     "data": {
      "text/plain": [
       "<pandas.io.formats.style.Styler at 0x7f57abf89b50>"
      ],
      "text/html": [
       "<style  type=\"text/css\" >\n",
       "</style><table id=\"T_f3fbdf66_fb6d_11eb_8bfa_02420a39a7ee\" ><thead>    <tr>        <th class=\"blank level0\" ></th>        <th class=\"col_heading level0 col0\" >debt</th>    </tr>    <tr>        <th class=\"index_name level0\" >family_status</th>        <th class=\"blank\" ></th>    </tr></thead><tbody>\n",
       "                <tr>\n",
       "                        <th id=\"T_f3fbdf66_fb6d_11eb_8bfa_02420a39a7eelevel0_row0\" class=\"row_heading level0 row0\" >не женат / не замужем</th>\n",
       "                        <td id=\"T_f3fbdf66_fb6d_11eb_8bfa_02420a39a7eerow0_col0\" class=\"data row0 col0\" >9.75%</td>\n",
       "            </tr>\n",
       "            <tr>\n",
       "                        <th id=\"T_f3fbdf66_fb6d_11eb_8bfa_02420a39a7eelevel0_row1\" class=\"row_heading level0 row1\" >гражданский брак</th>\n",
       "                        <td id=\"T_f3fbdf66_fb6d_11eb_8bfa_02420a39a7eerow1_col0\" class=\"data row1 col0\" >9.35%</td>\n",
       "            </tr>\n",
       "            <tr>\n",
       "                        <th id=\"T_f3fbdf66_fb6d_11eb_8bfa_02420a39a7eelevel0_row2\" class=\"row_heading level0 row2\" >женат / замужем</th>\n",
       "                        <td id=\"T_f3fbdf66_fb6d_11eb_8bfa_02420a39a7eerow2_col0\" class=\"data row2 col0\" >7.55%</td>\n",
       "            </tr>\n",
       "            <tr>\n",
       "                        <th id=\"T_f3fbdf66_fb6d_11eb_8bfa_02420a39a7eelevel0_row3\" class=\"row_heading level0 row3\" >в разводе</th>\n",
       "                        <td id=\"T_f3fbdf66_fb6d_11eb_8bfa_02420a39a7eerow3_col0\" class=\"data row3 col0\" >7.11%</td>\n",
       "            </tr>\n",
       "            <tr>\n",
       "                        <th id=\"T_f3fbdf66_fb6d_11eb_8bfa_02420a39a7eelevel0_row4\" class=\"row_heading level0 row4\" >вдовец / вдова</th>\n",
       "                        <td id=\"T_f3fbdf66_fb6d_11eb_8bfa_02420a39a7eerow4_col0\" class=\"data row4 col0\" >6.57%</td>\n",
       "            </tr>\n",
       "    </tbody></table>"
      ]
     },
     "metadata": {},
     "execution_count": 40
    }
   ],
   "metadata": {}
  },
  {
   "cell_type": "markdown",
   "source": [
    "**Вывод**"
   ],
   "metadata": {}
  },
  {
   "cell_type": "markdown",
   "source": [
    "Наименьшая доля невозрата кредита в срок наблюдается в категории \"вдовец / вдова\" - 6,57%.  \n",
    "Наибольшая доля невозрата кредита в срок наблюдается в категорий \"не женат / не замужем\" и \"гражданский брак\"  - 9,75% и 9,35% соответственно.  \n",
    "Семеное положение существенно влияет на возврат кредита в срок."
   ],
   "metadata": {}
  },
  {
   "cell_type": "markdown",
   "source": [
    "- Есть ли зависимость между уровнем дохода и возвратом кредита в срок?"
   ],
   "metadata": {}
  },
  {
   "cell_type": "code",
   "execution_count": 41,
   "source": [
    "data_pivot_income = data.pivot_table(index=['income_group'], values='debt', aggfunc='mean')\r\n",
    "data_pivot_income.sort_values(by = 'debt', ascending=False).style.format({'debt': '{:.2%}'})"
   ],
   "outputs": [
    {
     "output_type": "execute_result",
     "data": {
      "text/plain": [
       "<pandas.io.formats.style.Styler at 0x7f57ab3b0e50>"
      ],
      "text/html": [
       "<style  type=\"text/css\" >\n",
       "</style><table id=\"T_f3ff1cda_fb6d_11eb_8bfa_02420a39a7ee\" ><thead>    <tr>        <th class=\"blank level0\" ></th>        <th class=\"col_heading level0 col0\" >debt</th>    </tr>    <tr>        <th class=\"index_name level0\" >income_group</th>        <th class=\"blank\" ></th>    </tr></thead><tbody>\n",
       "                <tr>\n",
       "                        <th id=\"T_f3ff1cda_fb6d_11eb_8bfa_02420a39a7eelevel0_row0\" class=\"row_heading level0 row0\" >средний уровень дохода</th>\n",
       "                        <td id=\"T_f3ff1cda_fb6d_11eb_8bfa_02420a39a7eerow0_col0\" class=\"data row0 col0\" >8.64%</td>\n",
       "            </tr>\n",
       "            <tr>\n",
       "                        <th id=\"T_f3ff1cda_fb6d_11eb_8bfa_02420a39a7eelevel0_row1\" class=\"row_heading level0 row1\" >низкий уровень дохода</th>\n",
       "                        <td id=\"T_f3ff1cda_fb6d_11eb_8bfa_02420a39a7eerow1_col0\" class=\"data row1 col0\" >8.16%</td>\n",
       "            </tr>\n",
       "            <tr>\n",
       "                        <th id=\"T_f3ff1cda_fb6d_11eb_8bfa_02420a39a7eelevel0_row2\" class=\"row_heading level0 row2\" >высокий уровень дохода</th>\n",
       "                        <td id=\"T_f3ff1cda_fb6d_11eb_8bfa_02420a39a7eerow2_col0\" class=\"data row2 col0\" >7.52%</td>\n",
       "            </tr>\n",
       "    </tbody></table>"
      ]
     },
     "metadata": {},
     "execution_count": 41
    }
   ],
   "metadata": {}
  },
  {
   "cell_type": "markdown",
   "source": [
    "**Вывод**"
   ],
   "metadata": {}
  },
  {
   "cell_type": "markdown",
   "source": [
    "Наименьшая доля невозрата кредита в срок наблюдается в категории \"высокий уровень дохода\" - 7,52%.  \n",
    "Наибольшая доля невозрата кредита в срок наблюдается в категории \"средний уровень дохода\" -  8,64%.  \n",
    "Уровень дохода менее всего влияет на возврат кредита в срок."
   ],
   "metadata": {}
  },
  {
   "cell_type": "markdown",
   "source": [
    "- Как разные цели кредита влияют на его возврат в срок?"
   ],
   "metadata": {}
  },
  {
   "cell_type": "code",
   "execution_count": 42,
   "source": [
    "data_pivot_purpose = data.pivot_table(index=['purpose_category'], values='debt', aggfunc='mean')\r\n",
    "data_pivot_purpose.sort_values(by = 'debt', ascending=False).style.format({'debt': '{:.2%}'})"
   ],
   "outputs": [
    {
     "output_type": "execute_result",
     "data": {
      "text/plain": [
       "<pandas.io.formats.style.Styler at 0x7f57ab3aa190>"
      ],
      "text/html": [
       "<style  type=\"text/css\" >\n",
       "</style><table id=\"T_f4062b56_fb6d_11eb_8bfa_02420a39a7ee\" ><thead>    <tr>        <th class=\"blank level0\" ></th>        <th class=\"col_heading level0 col0\" >debt</th>    </tr>    <tr>        <th class=\"index_name level0\" >purpose_category</th>        <th class=\"blank\" ></th>    </tr></thead><tbody>\n",
       "                <tr>\n",
       "                        <th id=\"T_f4062b56_fb6d_11eb_8bfa_02420a39a7eelevel0_row0\" class=\"row_heading level0 row0\" >автомобиль</th>\n",
       "                        <td id=\"T_f4062b56_fb6d_11eb_8bfa_02420a39a7eerow0_col0\" class=\"data row0 col0\" >9.36%</td>\n",
       "            </tr>\n",
       "            <tr>\n",
       "                        <th id=\"T_f4062b56_fb6d_11eb_8bfa_02420a39a7eelevel0_row1\" class=\"row_heading level0 row1\" >образование</th>\n",
       "                        <td id=\"T_f4062b56_fb6d_11eb_8bfa_02420a39a7eerow1_col0\" class=\"data row1 col0\" >9.22%</td>\n",
       "            </tr>\n",
       "            <tr>\n",
       "                        <th id=\"T_f4062b56_fb6d_11eb_8bfa_02420a39a7eelevel0_row2\" class=\"row_heading level0 row2\" >свадьба</th>\n",
       "                        <td id=\"T_f4062b56_fb6d_11eb_8bfa_02420a39a7eerow2_col0\" class=\"data row2 col0\" >8.00%</td>\n",
       "            </tr>\n",
       "            <tr>\n",
       "                        <th id=\"T_f4062b56_fb6d_11eb_8bfa_02420a39a7eelevel0_row3\" class=\"row_heading level0 row3\" >строительство</th>\n",
       "                        <td id=\"T_f4062b56_fb6d_11eb_8bfa_02420a39a7eerow3_col0\" class=\"data row3 col0\" >7.67%</td>\n",
       "            </tr>\n",
       "            <tr>\n",
       "                        <th id=\"T_f4062b56_fb6d_11eb_8bfa_02420a39a7eelevel0_row4\" class=\"row_heading level0 row4\" >недвижимость</th>\n",
       "                        <td id=\"T_f4062b56_fb6d_11eb_8bfa_02420a39a7eerow4_col0\" class=\"data row4 col0\" >7.38%</td>\n",
       "            </tr>\n",
       "            <tr>\n",
       "                        <th id=\"T_f4062b56_fb6d_11eb_8bfa_02420a39a7eelevel0_row5\" class=\"row_heading level0 row5\" >жилье</th>\n",
       "                        <td id=\"T_f4062b56_fb6d_11eb_8bfa_02420a39a7eerow5_col0\" class=\"data row5 col0\" >7.09%</td>\n",
       "            </tr>\n",
       "            <tr>\n",
       "                        <th id=\"T_f4062b56_fb6d_11eb_8bfa_02420a39a7eelevel0_row6\" class=\"row_heading level0 row6\" >ремонт</th>\n",
       "                        <td id=\"T_f4062b56_fb6d_11eb_8bfa_02420a39a7eerow6_col0\" class=\"data row6 col0\" >5.77%</td>\n",
       "            </tr>\n",
       "    </tbody></table>"
      ]
     },
     "metadata": {},
     "execution_count": 42
    }
   ],
   "metadata": {}
  },
  {
   "cell_type": "markdown",
   "source": [
    "**Вывод**"
   ],
   "metadata": {}
  },
  {
   "cell_type": "markdown",
   "source": [
    "Наименьшая доля невозрата кредита в срок наблюдается в категории \"ремонт\" - 5,77%.\n",
    "Наибольшая доля невозрата кредита в срок наблюдается в категории \"автомобиль\" - 9,36% и образование 9,22%.  \n",
    "Цели кредита существенно влияют на его возврат в срок."
   ],
   "metadata": {}
  },
  {
   "cell_type": "markdown",
   "source": [
    "## Шаг 4. Общий вывод"
   ],
   "metadata": {}
  },
  {
   "cell_type": "markdown",
   "source": [
    "Проведенное исследование надежности заемщиков позволило выявить степень влияния семеного положения и количества детей на факт погашения кредита в срок. Анализ данных может позволить составить рейтинг заемщиков исходя из их принадлежности к той или иной категори. Например клиент с семеным положением вдовец или вдова без детей с высоким доходом и желающий взять кредит на жилье будет иметь наибольшие шансы вернуть кредит в срок."
   ],
   "metadata": {}
  }
 ],
 "metadata": {
  "ExecuteTimeLog": [
   {
    "duration": 1093,
    "start_time": "2021-07-22T11:07:59.005Z"
   },
   {
    "duration": 31,
    "start_time": "2021-07-22T11:08:00.968Z"
   },
   {
    "duration": 14,
    "start_time": "2021-07-22T11:08:02.680Z"
   },
   {
    "duration": 18,
    "start_time": "2021-07-22T11:12:12.007Z"
   },
   {
    "duration": 533,
    "start_time": "2021-07-25T09:51:56.817Z"
   },
   {
    "duration": 202,
    "start_time": "2021-07-25T09:51:57.351Z"
   },
   {
    "duration": 16,
    "start_time": "2021-07-25T09:51:57.555Z"
   },
   {
    "duration": 13,
    "start_time": "2021-07-25T09:51:57.573Z"
   },
   {
    "duration": 16,
    "start_time": "2021-07-25T09:51:57.588Z"
   },
   {
    "duration": 8,
    "start_time": "2021-07-25T09:51:57.605Z"
   },
   {
    "duration": 10,
    "start_time": "2021-07-25T09:51:57.615Z"
   },
   {
    "duration": 5,
    "start_time": "2021-07-25T09:51:57.627Z"
   },
   {
    "duration": 10,
    "start_time": "2021-07-25T09:51:57.634Z"
   },
   {
    "duration": 42,
    "start_time": "2021-07-25T09:51:57.646Z"
   },
   {
    "duration": 3,
    "start_time": "2021-07-25T09:51:57.689Z"
   },
   {
    "duration": 6,
    "start_time": "2021-07-25T09:51:57.694Z"
   },
   {
    "duration": 8,
    "start_time": "2021-07-25T09:51:57.702Z"
   },
   {
    "duration": 5,
    "start_time": "2021-07-25T09:51:57.712Z"
   },
   {
    "duration": 31,
    "start_time": "2021-07-25T09:51:57.718Z"
   },
   {
    "duration": 34,
    "start_time": "2021-07-25T09:51:57.751Z"
   },
   {
    "duration": 38,
    "start_time": "2021-07-25T09:51:57.786Z"
   },
   {
    "duration": 8416,
    "start_time": "2021-07-25T09:51:57.826Z"
   },
   {
    "duration": 11,
    "start_time": "2021-07-25T09:52:06.244Z"
   },
   {
    "duration": 31,
    "start_time": "2021-07-25T09:52:06.257Z"
   },
   {
    "duration": 22,
    "start_time": "2021-07-25T09:52:06.290Z"
   },
   {
    "duration": 3,
    "start_time": "2021-07-25T09:52:06.313Z"
   },
   {
    "duration": 16,
    "start_time": "2021-07-25T09:52:06.320Z"
   },
   {
    "duration": 50,
    "start_time": "2021-07-25T09:52:06.338Z"
   },
   {
    "duration": 13,
    "start_time": "2021-07-25T09:52:06.390Z"
   },
   {
    "duration": 11,
    "start_time": "2021-07-25T09:52:06.404Z"
   },
   {
    "duration": 10,
    "start_time": "2021-07-25T09:52:06.416Z"
   },
   {
    "duration": 229,
    "start_time": "2021-07-25T09:52:51.062Z"
   },
   {
    "duration": 4,
    "start_time": "2021-07-25T09:52:56.511Z"
   },
   {
    "duration": 4,
    "start_time": "2021-07-25T09:53:55.620Z"
   },
   {
    "duration": 5,
    "start_time": "2021-07-25T09:54:09.522Z"
   },
   {
    "duration": 4,
    "start_time": "2021-07-25T09:54:17.843Z"
   },
   {
    "duration": 61,
    "start_time": "2021-07-25T09:55:23.996Z"
   },
   {
    "duration": 1367,
    "start_time": "2021-07-25T09:55:27.813Z"
   },
   {
    "duration": 1225,
    "start_time": "2021-07-25T09:56:34.353Z"
   },
   {
    "duration": 1185,
    "start_time": "2021-07-25T09:56:38.508Z"
   },
   {
    "duration": 1225,
    "start_time": "2021-07-25T09:57:41.424Z"
   },
   {
    "duration": 2060,
    "start_time": "2021-07-25T09:58:37.921Z"
   },
   {
    "duration": 1269,
    "start_time": "2021-07-25T10:01:08.823Z"
   },
   {
    "duration": 1486,
    "start_time": "2021-07-25T10:01:19.759Z"
   },
   {
    "duration": 556,
    "start_time": "2021-07-25T10:02:08.313Z"
   },
   {
    "duration": 197,
    "start_time": "2021-07-25T10:02:08.871Z"
   },
   {
    "duration": 17,
    "start_time": "2021-07-25T10:02:09.070Z"
   },
   {
    "duration": 11,
    "start_time": "2021-07-25T10:02:09.089Z"
   },
   {
    "duration": 15,
    "start_time": "2021-07-25T10:02:09.101Z"
   },
   {
    "duration": 4,
    "start_time": "2021-07-25T10:02:09.117Z"
   },
   {
    "duration": 13,
    "start_time": "2021-07-25T10:02:09.123Z"
   },
   {
    "duration": 8,
    "start_time": "2021-07-25T10:02:09.139Z"
   },
   {
    "duration": 11,
    "start_time": "2021-07-25T10:02:09.185Z"
   },
   {
    "duration": 5,
    "start_time": "2021-07-25T10:02:09.198Z"
   },
   {
    "duration": 17,
    "start_time": "2021-07-25T10:02:09.204Z"
   },
   {
    "duration": 5,
    "start_time": "2021-07-25T10:02:09.223Z"
   },
   {
    "duration": 4,
    "start_time": "2021-07-25T10:02:09.229Z"
   },
   {
    "duration": 6,
    "start_time": "2021-07-25T10:02:09.234Z"
   },
   {
    "duration": 46,
    "start_time": "2021-07-25T10:02:09.242Z"
   },
   {
    "duration": 6,
    "start_time": "2021-07-25T10:02:09.289Z"
   },
   {
    "duration": 29,
    "start_time": "2021-07-25T10:02:09.297Z"
   },
   {
    "duration": 2,
    "start_time": "2021-07-25T10:02:09.327Z"
   },
   {
    "duration": 59,
    "start_time": "2021-07-25T10:02:09.331Z"
   },
   {
    "duration": 8617,
    "start_time": "2021-07-25T10:02:09.391Z"
   },
   {
    "duration": 12,
    "start_time": "2021-07-25T10:02:18.011Z"
   },
   {
    "duration": 26,
    "start_time": "2021-07-25T10:02:18.025Z"
   },
   {
    "duration": 43,
    "start_time": "2021-07-25T10:02:18.055Z"
   },
   {
    "duration": 3,
    "start_time": "2021-07-25T10:02:18.101Z"
   },
   {
    "duration": 19,
    "start_time": "2021-07-25T10:02:18.106Z"
   },
   {
    "duration": 19,
    "start_time": "2021-07-25T10:02:18.127Z"
   },
   {
    "duration": 38,
    "start_time": "2021-07-25T10:02:18.148Z"
   },
   {
    "duration": 14,
    "start_time": "2021-07-25T10:02:18.188Z"
   },
   {
    "duration": 14,
    "start_time": "2021-07-25T10:02:18.204Z"
   },
   {
    "duration": 240,
    "start_time": "2021-07-25T10:06:25.852Z"
   },
   {
    "duration": 8,
    "start_time": "2021-07-25T10:06:31.268Z"
   },
   {
    "duration": 6,
    "start_time": "2021-07-25T10:07:27.899Z"
   },
   {
    "duration": 5,
    "start_time": "2021-07-25T10:45:05.053Z"
   },
   {
    "duration": 8,
    "start_time": "2021-07-25T10:45:27.832Z"
   },
   {
    "duration": 7,
    "start_time": "2021-07-25T10:45:38.722Z"
   },
   {
    "duration": 15,
    "start_time": "2021-07-25T10:53:12.483Z"
   },
   {
    "duration": 2,
    "start_time": "2021-07-25T10:54:12.979Z"
   },
   {
    "duration": 209,
    "start_time": "2021-07-25T10:54:16.587Z"
   },
   {
    "duration": 12,
    "start_time": "2021-07-25T10:54:17.307Z"
   },
   {
    "duration": 12,
    "start_time": "2021-07-25T10:54:18.907Z"
   },
   {
    "duration": 14,
    "start_time": "2021-07-25T10:54:20.651Z"
   },
   {
    "duration": 6,
    "start_time": "2021-07-25T10:54:22.393Z"
   },
   {
    "duration": 8,
    "start_time": "2021-07-25T10:54:23.954Z"
   },
   {
    "duration": 11,
    "start_time": "2021-07-25T10:54:35.317Z"
   },
   {
    "duration": 6,
    "start_time": "2021-07-25T10:54:38.442Z"
   },
   {
    "duration": 10,
    "start_time": "2021-07-25T10:54:46.146Z"
   },
   {
    "duration": 174,
    "start_time": "2021-07-25T10:56:27.761Z"
   },
   {
    "duration": 4292,
    "start_time": "2021-07-25T10:56:33.002Z"
   },
   {
    "duration": 184,
    "start_time": "2021-07-25T10:57:22.956Z"
   },
   {
    "duration": 6,
    "start_time": "2021-07-25T10:57:30.768Z"
   },
   {
    "duration": 21,
    "start_time": "2021-07-25T10:57:44.986Z"
   },
   {
    "duration": 4239,
    "start_time": "2021-07-25T10:59:05.242Z"
   },
   {
    "duration": 5,
    "start_time": "2021-07-25T10:59:14.121Z"
   },
   {
    "duration": 208,
    "start_time": "2021-07-25T10:59:58.874Z"
   },
   {
    "duration": 181,
    "start_time": "2021-07-25T11:00:04.631Z"
   },
   {
    "duration": 183,
    "start_time": "2021-07-25T11:00:08.903Z"
   },
   {
    "duration": 6,
    "start_time": "2021-07-25T11:00:24.193Z"
   },
   {
    "duration": 20,
    "start_time": "2021-07-25T11:00:34.543Z"
   },
   {
    "duration": 8,
    "start_time": "2021-07-25T11:01:24.231Z"
   },
   {
    "duration": 20,
    "start_time": "2021-07-25T11:01:40.398Z"
   },
   {
    "duration": 73,
    "start_time": "2021-07-25T11:01:45.185Z"
   },
   {
    "duration": 20,
    "start_time": "2021-07-25T11:01:48.815Z"
   },
   {
    "duration": 8,
    "start_time": "2021-07-25T11:02:37.846Z"
   },
   {
    "duration": 161,
    "start_time": "2021-07-25T11:03:12.014Z"
   },
   {
    "duration": 11,
    "start_time": "2021-07-25T11:03:12.534Z"
   },
   {
    "duration": 11,
    "start_time": "2021-07-25T11:03:14.077Z"
   },
   {
    "duration": 13,
    "start_time": "2021-07-25T11:03:14.797Z"
   },
   {
    "duration": 7,
    "start_time": "2021-07-25T11:03:15.812Z"
   },
   {
    "duration": 7,
    "start_time": "2021-07-25T11:03:16.829Z"
   },
   {
    "duration": 12,
    "start_time": "2021-07-25T11:03:22.260Z"
   },
   {
    "duration": 6,
    "start_time": "2021-07-25T11:03:25.100Z"
   },
   {
    "duration": 11,
    "start_time": "2021-07-25T11:03:28.133Z"
   },
   {
    "duration": 7,
    "start_time": "2021-07-25T11:03:31.229Z"
   },
   {
    "duration": 7,
    "start_time": "2021-07-25T11:04:24.422Z"
   },
   {
    "duration": 67,
    "start_time": "2021-07-25T11:04:28.774Z"
   },
   {
    "duration": 21,
    "start_time": "2021-07-25T11:04:30.373Z"
   },
   {
    "duration": 9,
    "start_time": "2021-07-25T11:04:46.043Z"
   },
   {
    "duration": 143,
    "start_time": "2021-07-25T11:05:33.804Z"
   },
   {
    "duration": 12,
    "start_time": "2021-07-25T11:05:34.396Z"
   },
   {
    "duration": 11,
    "start_time": "2021-07-25T11:05:35.931Z"
   },
   {
    "duration": 12,
    "start_time": "2021-07-25T11:05:36.483Z"
   },
   {
    "duration": 6,
    "start_time": "2021-07-25T11:05:37.867Z"
   },
   {
    "duration": 8,
    "start_time": "2021-07-25T11:05:38.749Z"
   },
   {
    "duration": 13,
    "start_time": "2021-07-25T11:05:42.154Z"
   },
   {
    "duration": 7,
    "start_time": "2021-07-25T11:05:44.547Z"
   },
   {
    "duration": 11,
    "start_time": "2021-07-25T11:05:51.283Z"
   },
   {
    "duration": 9,
    "start_time": "2021-07-25T11:06:00.075Z"
   },
   {
    "duration": 8,
    "start_time": "2021-07-25T11:06:03.803Z"
   },
   {
    "duration": 6,
    "start_time": "2021-07-25T11:06:10.139Z"
   },
   {
    "duration": 78,
    "start_time": "2021-07-25T11:06:14.541Z"
   },
   {
    "duration": 21,
    "start_time": "2021-07-25T11:06:15.531Z"
   },
   {
    "duration": 83,
    "start_time": "2021-07-25T11:11:52.782Z"
   },
   {
    "duration": 13,
    "start_time": "2021-07-25T11:11:55.263Z"
   },
   {
    "duration": 4,
    "start_time": "2021-07-25T11:12:59.934Z"
   },
   {
    "duration": 180,
    "start_time": "2021-07-25T11:13:09.255Z"
   },
   {
    "duration": 3,
    "start_time": "2021-07-25T11:13:46.236Z"
   },
   {
    "duration": 199,
    "start_time": "2021-07-25T11:13:46.853Z"
   },
   {
    "duration": 12,
    "start_time": "2021-07-25T11:13:47.168Z"
   },
   {
    "duration": 11,
    "start_time": "2021-07-25T11:13:47.973Z"
   },
   {
    "duration": 14,
    "start_time": "2021-07-25T11:13:48.909Z"
   },
   {
    "duration": 6,
    "start_time": "2021-07-25T11:13:49.965Z"
   },
   {
    "duration": 7,
    "start_time": "2021-07-25T11:13:50.798Z"
   },
   {
    "duration": 12,
    "start_time": "2021-07-25T11:13:53.725Z"
   },
   {
    "duration": 6,
    "start_time": "2021-07-25T11:13:54.917Z"
   },
   {
    "duration": 7,
    "start_time": "2021-07-25T11:13:57.030Z"
   },
   {
    "duration": 81,
    "start_time": "2021-07-25T11:14:12.973Z"
   },
   {
    "duration": 16,
    "start_time": "2021-07-25T11:14:14.597Z"
   },
   {
    "duration": 3,
    "start_time": "2021-07-25T11:16:36.132Z"
   },
   {
    "duration": 5,
    "start_time": "2021-07-25T11:17:15.412Z"
   },
   {
    "duration": 6,
    "start_time": "2021-07-25T11:17:21.860Z"
   },
   {
    "duration": 6,
    "start_time": "2021-07-25T11:17:22.923Z"
   },
   {
    "duration": 8,
    "start_time": "2021-07-25T11:18:04.539Z"
   },
   {
    "duration": 496,
    "start_time": "2021-07-25T11:18:24.945Z"
   },
   {
    "duration": 206,
    "start_time": "2021-07-25T11:18:25.442Z"
   },
   {
    "duration": 18,
    "start_time": "2021-07-25T11:18:25.650Z"
   },
   {
    "duration": 10,
    "start_time": "2021-07-25T11:18:25.670Z"
   },
   {
    "duration": 12,
    "start_time": "2021-07-25T11:18:25.682Z"
   },
   {
    "duration": 5,
    "start_time": "2021-07-25T11:18:25.695Z"
   },
   {
    "duration": 7,
    "start_time": "2021-07-25T11:18:25.701Z"
   },
   {
    "duration": 10,
    "start_time": "2021-07-25T11:18:25.711Z"
   },
   {
    "duration": 4,
    "start_time": "2021-07-25T11:18:25.723Z"
   },
   {
    "duration": 8,
    "start_time": "2021-07-25T11:18:25.729Z"
   },
   {
    "duration": 132,
    "start_time": "2021-07-25T11:18:25.738Z"
   },
   {
    "duration": 17,
    "start_time": "2021-07-25T11:18:25.872Z"
   },
   {
    "duration": 6,
    "start_time": "2021-07-25T11:18:25.891Z"
   },
   {
    "duration": 3,
    "start_time": "2021-07-25T11:18:25.898Z"
   },
   {
    "duration": 6,
    "start_time": "2021-07-25T11:18:25.903Z"
   },
   {
    "duration": 5,
    "start_time": "2021-07-25T11:18:25.911Z"
   },
   {
    "duration": 9,
    "start_time": "2021-07-25T11:18:25.917Z"
   },
   {
    "duration": 5,
    "start_time": "2021-07-25T11:18:25.927Z"
   },
   {
    "duration": 65,
    "start_time": "2021-07-25T11:18:25.934Z"
   },
   {
    "duration": 2,
    "start_time": "2021-07-25T11:18:26.001Z"
   },
   {
    "duration": 41,
    "start_time": "2021-07-25T11:18:26.004Z"
   },
   {
    "duration": 8864,
    "start_time": "2021-07-25T11:18:26.047Z"
   },
   {
    "duration": 12,
    "start_time": "2021-07-25T11:18:34.914Z"
   },
   {
    "duration": 20,
    "start_time": "2021-07-25T11:18:34.928Z"
   },
   {
    "duration": 44,
    "start_time": "2021-07-25T11:18:34.950Z"
   },
   {
    "duration": 3,
    "start_time": "2021-07-25T11:18:34.995Z"
   },
   {
    "duration": 17,
    "start_time": "2021-07-25T11:18:35.000Z"
   },
   {
    "duration": 17,
    "start_time": "2021-07-25T11:18:35.019Z"
   },
   {
    "duration": 12,
    "start_time": "2021-07-25T11:18:35.038Z"
   },
   {
    "duration": 36,
    "start_time": "2021-07-25T11:18:35.052Z"
   },
   {
    "duration": 11,
    "start_time": "2021-07-25T11:18:35.090Z"
   },
   {
    "duration": 5,
    "start_time": "2021-07-25T11:19:12.520Z"
   },
   {
    "duration": 24,
    "start_time": "2021-07-25T11:19:21.712Z"
   },
   {
    "duration": 3,
    "start_time": "2021-07-25T11:19:34.054Z"
   },
   {
    "duration": 130,
    "start_time": "2021-07-25T11:19:34.862Z"
   },
   {
    "duration": 11,
    "start_time": "2021-07-25T11:19:35.355Z"
   },
   {
    "duration": 11,
    "start_time": "2021-07-25T11:19:37.167Z"
   },
   {
    "duration": 14,
    "start_time": "2021-07-25T11:19:37.935Z"
   },
   {
    "duration": 6,
    "start_time": "2021-07-25T11:19:39.822Z"
   },
   {
    "duration": 8,
    "start_time": "2021-07-25T11:19:40.718Z"
   },
   {
    "duration": 11,
    "start_time": "2021-07-25T11:19:43.462Z"
   },
   {
    "duration": 6,
    "start_time": "2021-07-25T11:19:46.262Z"
   },
   {
    "duration": 7,
    "start_time": "2021-07-25T11:19:48.198Z"
   },
   {
    "duration": 89,
    "start_time": "2021-07-25T11:19:52.455Z"
   },
   {
    "duration": 13,
    "start_time": "2021-07-25T11:19:54.023Z"
   },
   {
    "duration": 7,
    "start_time": "2021-07-25T11:19:55.982Z"
   },
   {
    "duration": 6,
    "start_time": "2021-07-25T11:20:46.214Z"
   },
   {
    "duration": 3,
    "start_time": "2021-07-25T11:20:50.238Z"
   },
   {
    "duration": 6,
    "start_time": "2021-07-25T11:20:52.997Z"
   },
   {
    "duration": 17,
    "start_time": "2021-07-25T11:20:55.210Z"
   },
   {
    "duration": 2,
    "start_time": "2021-07-25T11:21:13.001Z"
   },
   {
    "duration": 139,
    "start_time": "2021-07-25T11:21:13.622Z"
   },
   {
    "duration": 11,
    "start_time": "2021-07-25T11:21:13.910Z"
   },
   {
    "duration": 11,
    "start_time": "2021-07-25T11:21:15.014Z"
   },
   {
    "duration": 14,
    "start_time": "2021-07-25T11:21:16.445Z"
   },
   {
    "duration": 6,
    "start_time": "2021-07-25T11:21:18.614Z"
   },
   {
    "duration": 7,
    "start_time": "2021-07-25T11:21:20.134Z"
   },
   {
    "duration": 11,
    "start_time": "2021-07-25T11:21:24.182Z"
   },
   {
    "duration": 5,
    "start_time": "2021-07-25T11:21:26.118Z"
   },
   {
    "duration": 8,
    "start_time": "2021-07-25T11:21:30.101Z"
   },
   {
    "duration": 22,
    "start_time": "2021-07-25T11:21:36.367Z"
   },
   {
    "duration": 89,
    "start_time": "2021-07-25T11:21:41.901Z"
   },
   {
    "duration": 21,
    "start_time": "2021-07-25T11:21:43.801Z"
   },
   {
    "duration": 138,
    "start_time": "2021-07-25T11:22:31.112Z"
   },
   {
    "duration": 12,
    "start_time": "2021-07-25T11:22:31.397Z"
   },
   {
    "duration": 13,
    "start_time": "2021-07-25T11:22:32.628Z"
   },
   {
    "duration": 13,
    "start_time": "2021-07-25T11:22:33.277Z"
   },
   {
    "duration": 7,
    "start_time": "2021-07-25T11:22:34.252Z"
   },
   {
    "duration": 7,
    "start_time": "2021-07-25T11:22:35.572Z"
   },
   {
    "duration": 12,
    "start_time": "2021-07-25T11:22:43.708Z"
   },
   {
    "duration": 6,
    "start_time": "2021-07-25T11:22:45.501Z"
   },
   {
    "duration": 8,
    "start_time": "2021-07-25T11:22:47.933Z"
   },
   {
    "duration": 21,
    "start_time": "2021-07-25T11:22:48.413Z"
   },
   {
    "duration": 297,
    "start_time": "2021-07-25T11:22:51.317Z"
   },
   {
    "duration": 263,
    "start_time": "2021-07-25T11:26:42.036Z"
   },
   {
    "duration": 66,
    "start_time": "2021-07-25T11:26:49.002Z"
   },
   {
    "duration": 20,
    "start_time": "2021-07-25T11:26:58.035Z"
   },
   {
    "duration": 11,
    "start_time": "2021-07-25T11:27:09.692Z"
   },
   {
    "duration": 11,
    "start_time": "2021-07-25T11:27:42.889Z"
   },
   {
    "duration": 4,
    "start_time": "2021-07-25T11:27:45.937Z"
   },
   {
    "duration": 6,
    "start_time": "2021-07-25T11:27:51.721Z"
   },
   {
    "duration": 4,
    "start_time": "2021-07-25T11:27:55.465Z"
   },
   {
    "duration": 5,
    "start_time": "2021-07-25T11:27:58.049Z"
   },
   {
    "duration": 6,
    "start_time": "2021-07-25T11:27:58.737Z"
   },
   {
    "duration": 6,
    "start_time": "2021-07-25T11:28:01.417Z"
   },
   {
    "duration": 19,
    "start_time": "2021-07-25T11:28:08.210Z"
   },
   {
    "duration": 7,
    "start_time": "2021-07-25T11:28:49.017Z"
   },
   {
    "duration": 5,
    "start_time": "2021-07-25T11:33:09.495Z"
   },
   {
    "duration": 5,
    "start_time": "2021-07-25T11:33:14.767Z"
   },
   {
    "duration": 14,
    "start_time": "2021-07-25T11:36:31.380Z"
   },
   {
    "duration": 523,
    "start_time": "2021-07-25T11:36:54.914Z"
   },
   {
    "duration": 767,
    "start_time": "2021-07-25T11:36:55.439Z"
   },
   {
    "duration": 17,
    "start_time": "2021-07-25T11:36:56.208Z"
   },
   {
    "duration": 11,
    "start_time": "2021-07-25T11:36:56.227Z"
   },
   {
    "duration": 12,
    "start_time": "2021-07-25T11:36:56.240Z"
   },
   {
    "duration": 6,
    "start_time": "2021-07-25T11:36:56.253Z"
   },
   {
    "duration": 30,
    "start_time": "2021-07-25T11:36:56.260Z"
   },
   {
    "duration": 11,
    "start_time": "2021-07-25T11:36:56.293Z"
   },
   {
    "duration": 5,
    "start_time": "2021-07-25T11:36:56.306Z"
   },
   {
    "duration": 14,
    "start_time": "2021-07-25T11:36:56.313Z"
   },
   {
    "duration": 91,
    "start_time": "2021-07-25T11:36:56.328Z"
   },
   {
    "duration": 10,
    "start_time": "2021-07-25T11:36:56.421Z"
   },
   {
    "duration": 3,
    "start_time": "2021-07-25T11:36:56.433Z"
   },
   {
    "duration": 6,
    "start_time": "2021-07-25T11:36:56.437Z"
   },
   {
    "duration": 9,
    "start_time": "2021-07-25T11:36:56.444Z"
   },
   {
    "duration": 11,
    "start_time": "2021-07-25T11:36:56.454Z"
   },
   {
    "duration": 19,
    "start_time": "2021-07-25T11:36:56.466Z"
   },
   {
    "duration": 7,
    "start_time": "2021-07-25T11:36:56.487Z"
   },
   {
    "duration": 4,
    "start_time": "2021-07-25T11:36:56.495Z"
   },
   {
    "duration": 29,
    "start_time": "2021-07-25T11:36:56.500Z"
   },
   {
    "duration": 15,
    "start_time": "2021-07-25T11:36:56.530Z"
   },
   {
    "duration": 63,
    "start_time": "2021-07-25T11:36:56.546Z"
   },
   {
    "duration": 8601,
    "start_time": "2021-07-25T11:36:56.612Z"
   },
   {
    "duration": 13,
    "start_time": "2021-07-25T11:37:05.216Z"
   },
   {
    "duration": 35,
    "start_time": "2021-07-25T11:37:05.231Z"
   },
   {
    "duration": 26,
    "start_time": "2021-07-25T11:37:05.268Z"
   },
   {
    "duration": 2,
    "start_time": "2021-07-25T11:37:05.296Z"
   },
   {
    "duration": 19,
    "start_time": "2021-07-25T11:37:05.299Z"
   },
   {
    "duration": 37,
    "start_time": "2021-07-25T11:37:05.319Z"
   },
   {
    "duration": 15,
    "start_time": "2021-07-25T11:37:05.358Z"
   },
   {
    "duration": 15,
    "start_time": "2021-07-25T11:37:05.375Z"
   },
   {
    "duration": 15,
    "start_time": "2021-07-25T11:37:05.391Z"
   },
   {
    "duration": 1262,
    "start_time": "2021-07-25T11:37:09.633Z"
   },
   {
    "duration": 539,
    "start_time": "2021-07-25T11:37:19.013Z"
   },
   {
    "duration": 649,
    "start_time": "2021-07-25T11:37:19.554Z"
   },
   {
    "duration": 18,
    "start_time": "2021-07-25T11:37:20.205Z"
   },
   {
    "duration": 11,
    "start_time": "2021-07-25T11:37:20.225Z"
   },
   {
    "duration": 14,
    "start_time": "2021-07-25T11:37:20.237Z"
   },
   {
    "duration": 5,
    "start_time": "2021-07-25T11:37:20.253Z"
   },
   {
    "duration": 28,
    "start_time": "2021-07-25T11:37:20.260Z"
   },
   {
    "duration": 11,
    "start_time": "2021-07-25T11:37:20.290Z"
   },
   {
    "duration": 5,
    "start_time": "2021-07-25T11:37:20.302Z"
   },
   {
    "duration": 10,
    "start_time": "2021-07-25T11:37:20.309Z"
   },
   {
    "duration": 103,
    "start_time": "2021-07-25T11:37:20.320Z"
   },
   {
    "duration": 10,
    "start_time": "2021-07-25T11:37:20.425Z"
   },
   {
    "duration": 3,
    "start_time": "2021-07-25T11:37:20.437Z"
   },
   {
    "duration": 7,
    "start_time": "2021-07-25T11:37:20.441Z"
   },
   {
    "duration": 4,
    "start_time": "2021-07-25T11:37:20.450Z"
   },
   {
    "duration": 6,
    "start_time": "2021-07-25T11:37:20.455Z"
   },
   {
    "duration": 6,
    "start_time": "2021-07-25T11:37:20.462Z"
   },
   {
    "duration": 17,
    "start_time": "2021-07-25T11:37:20.469Z"
   },
   {
    "duration": 4,
    "start_time": "2021-07-25T11:37:20.487Z"
   },
   {
    "duration": 28,
    "start_time": "2021-07-25T11:37:20.493Z"
   },
   {
    "duration": 15,
    "start_time": "2021-07-25T11:37:20.522Z"
   },
   {
    "duration": 35,
    "start_time": "2021-07-25T11:37:20.538Z"
   },
   {
    "duration": 8892,
    "start_time": "2021-07-25T11:37:20.587Z"
   },
   {
    "duration": 15,
    "start_time": "2021-07-25T11:37:29.481Z"
   },
   {
    "duration": 24,
    "start_time": "2021-07-25T11:37:29.498Z"
   },
   {
    "duration": 25,
    "start_time": "2021-07-25T11:37:29.524Z"
   },
   {
    "duration": 3,
    "start_time": "2021-07-25T11:37:29.551Z"
   },
   {
    "duration": 42,
    "start_time": "2021-07-25T11:37:29.555Z"
   },
   {
    "duration": 16,
    "start_time": "2021-07-25T11:37:29.598Z"
   },
   {
    "duration": 12,
    "start_time": "2021-07-25T11:37:29.615Z"
   },
   {
    "duration": 10,
    "start_time": "2021-07-25T11:37:29.629Z"
   },
   {
    "duration": 10,
    "start_time": "2021-07-25T11:37:29.641Z"
   },
   {
    "duration": 8915,
    "start_time": "2021-07-25T11:51:18.649Z"
   },
   {
    "duration": 1702,
    "start_time": "2021-07-25T11:53:03.834Z"
   },
   {
    "duration": 38,
    "start_time": "2021-07-25T11:54:51.047Z"
   },
   {
    "duration": 4,
    "start_time": "2021-07-25T11:54:52.537Z"
   },
   {
    "duration": 2334,
    "start_time": "2021-07-25T11:54:54.129Z"
   },
   {
    "duration": 20,
    "start_time": "2021-07-25T11:56:44.562Z"
   },
   {
    "duration": 3,
    "start_time": "2021-07-25T12:00:37.132Z"
   },
   {
    "duration": 19,
    "start_time": "2021-07-25T12:00:38.560Z"
   },
   {
    "duration": 3,
    "start_time": "2021-07-25T12:01:54.285Z"
   },
   {
    "duration": 21,
    "start_time": "2021-07-25T12:01:54.748Z"
   },
   {
    "duration": 14,
    "start_time": "2021-07-25T12:02:10.480Z"
   },
   {
    "duration": 15,
    "start_time": "2021-07-25T12:02:19.100Z"
   },
   {
    "duration": 18,
    "start_time": "2021-07-25T12:02:24.149Z"
   },
   {
    "duration": 14,
    "start_time": "2021-07-25T12:02:27.158Z"
   },
   {
    "duration": 2830,
    "start_time": "2021-07-25T12:06:23.389Z"
   },
   {
    "duration": 5823,
    "start_time": "2021-07-25T12:06:27.409Z"
   },
   {
    "duration": 58,
    "start_time": "2021-07-25T12:11:41.255Z"
   },
   {
    "duration": 2,
    "start_time": "2021-07-25T12:12:44.285Z"
   },
   {
    "duration": 6,
    "start_time": "2021-07-25T12:12:45.557Z"
   },
   {
    "duration": 7,
    "start_time": "2021-07-25T12:12:46.542Z"
   },
   {
    "duration": 72,
    "start_time": "2021-07-25T12:13:20.524Z"
   },
   {
    "duration": 8,
    "start_time": "2021-07-25T12:13:45.004Z"
   },
   {
    "duration": 6,
    "start_time": "2021-07-25T12:16:51.675Z"
   },
   {
    "duration": 12,
    "start_time": "2021-07-25T12:16:59.238Z"
   },
   {
    "duration": 5,
    "start_time": "2021-07-25T12:17:47.891Z"
   },
   {
    "duration": 13,
    "start_time": "2021-07-25T12:18:08.542Z"
   },
   {
    "duration": 233,
    "start_time": "2021-07-25T12:18:27.730Z"
   },
   {
    "duration": 6,
    "start_time": "2021-07-25T12:18:32.346Z"
   },
   {
    "duration": 12,
    "start_time": "2021-07-25T12:19:15.847Z"
   },
   {
    "duration": 6,
    "start_time": "2021-07-25T12:26:05.249Z"
   },
   {
    "duration": 4,
    "start_time": "2021-07-25T12:26:07.100Z"
   },
   {
    "duration": 3,
    "start_time": "2021-07-25T12:26:08.012Z"
   },
   {
    "duration": 16,
    "start_time": "2021-07-25T12:26:14.707Z"
   },
   {
    "duration": 7,
    "start_time": "2021-07-25T12:26:17.019Z"
   },
   {
    "duration": 3,
    "start_time": "2021-07-25T12:28:18.145Z"
   },
   {
    "duration": 17,
    "start_time": "2021-07-25T12:28:19.010Z"
   },
   {
    "duration": 7,
    "start_time": "2021-07-25T12:28:20.466Z"
   },
   {
    "duration": 7,
    "start_time": "2021-07-25T12:30:06.379Z"
   },
   {
    "duration": 7,
    "start_time": "2021-07-25T12:31:29.170Z"
   },
   {
    "duration": 4,
    "start_time": "2021-07-25T12:32:01.664Z"
   },
   {
    "duration": 17,
    "start_time": "2021-07-25T12:32:02.744Z"
   },
   {
    "duration": 7,
    "start_time": "2021-07-25T12:32:04.335Z"
   },
   {
    "duration": 3,
    "start_time": "2021-07-25T12:32:15.368Z"
   },
   {
    "duration": 17,
    "start_time": "2021-07-25T12:32:16.663Z"
   },
   {
    "duration": 8,
    "start_time": "2021-07-25T12:32:17.615Z"
   },
   {
    "duration": 20,
    "start_time": "2021-07-25T12:34:12.529Z"
   },
   {
    "duration": 57,
    "start_time": "2021-07-25T12:34:23.717Z"
   },
   {
    "duration": 19,
    "start_time": "2021-07-25T12:34:27.263Z"
   },
   {
    "duration": 14,
    "start_time": "2021-07-25T12:34:39.106Z"
   },
   {
    "duration": 15,
    "start_time": "2021-07-25T12:34:47.728Z"
   },
   {
    "duration": 353,
    "start_time": "2021-07-25T12:35:16.008Z"
   },
   {
    "duration": 21,
    "start_time": "2021-07-25T12:36:16.752Z"
   },
   {
    "duration": 14,
    "start_time": "2021-07-25T12:37:10.285Z"
   },
   {
    "duration": 14,
    "start_time": "2021-07-25T12:37:21.018Z"
   },
   {
    "duration": 14,
    "start_time": "2021-07-25T12:37:29.927Z"
   },
   {
    "duration": 16,
    "start_time": "2021-07-25T12:38:16.031Z"
   },
   {
    "duration": 598,
    "start_time": "2021-07-25T12:42:50.478Z"
   },
   {
    "duration": 188,
    "start_time": "2021-07-25T12:42:51.078Z"
   },
   {
    "duration": 17,
    "start_time": "2021-07-25T12:42:51.268Z"
   },
   {
    "duration": 11,
    "start_time": "2021-07-25T12:42:51.287Z"
   },
   {
    "duration": 15,
    "start_time": "2021-07-25T12:42:51.300Z"
   },
   {
    "duration": 7,
    "start_time": "2021-07-25T12:42:51.318Z"
   },
   {
    "duration": 7,
    "start_time": "2021-07-25T12:42:51.327Z"
   },
   {
    "duration": 10,
    "start_time": "2021-07-25T12:42:51.336Z"
   },
   {
    "duration": 9,
    "start_time": "2021-07-25T12:42:51.386Z"
   },
   {
    "duration": 10,
    "start_time": "2021-07-25T12:42:51.397Z"
   },
   {
    "duration": 108,
    "start_time": "2021-07-25T12:42:51.409Z"
   },
   {
    "duration": 10,
    "start_time": "2021-07-25T12:42:51.519Z"
   },
   {
    "duration": 3,
    "start_time": "2021-07-25T12:42:51.531Z"
   },
   {
    "duration": 8,
    "start_time": "2021-07-25T12:42:51.536Z"
   },
   {
    "duration": 4,
    "start_time": "2021-07-25T12:42:51.546Z"
   },
   {
    "duration": 6,
    "start_time": "2021-07-25T12:42:51.551Z"
   },
   {
    "duration": 29,
    "start_time": "2021-07-25T12:42:51.558Z"
   },
   {
    "duration": 12,
    "start_time": "2021-07-25T12:42:51.589Z"
   },
   {
    "duration": 6,
    "start_time": "2021-07-25T12:42:51.603Z"
   },
   {
    "duration": 34,
    "start_time": "2021-07-25T12:42:51.611Z"
   },
   {
    "duration": 49,
    "start_time": "2021-07-25T12:42:51.646Z"
   },
   {
    "duration": 22,
    "start_time": "2021-07-25T12:42:51.698Z"
   },
   {
    "duration": 3,
    "start_time": "2021-07-25T12:42:51.723Z"
   },
   {
    "duration": 3714,
    "start_time": "2021-07-25T12:42:51.728Z"
   },
   {
    "duration": 5498,
    "start_time": "2021-07-25T12:42:55.444Z"
   },
   {
    "duration": 11,
    "start_time": "2021-07-25T12:43:00.944Z"
   },
   {
    "duration": 17,
    "start_time": "2021-07-25T12:43:00.956Z"
   },
   {
    "duration": 21,
    "start_time": "2021-07-25T12:43:00.975Z"
   },
   {
    "duration": 27,
    "start_time": "2021-07-25T12:43:01.000Z"
   },
   {
    "duration": 5,
    "start_time": "2021-07-25T12:43:01.029Z"
   },
   {
    "duration": 20,
    "start_time": "2021-07-25T12:43:01.035Z"
   },
   {
    "duration": 7,
    "start_time": "2021-07-25T12:43:01.057Z"
   },
   {
    "duration": 15,
    "start_time": "2021-07-25T12:43:01.065Z"
   },
   {
    "duration": 36,
    "start_time": "2021-07-25T12:43:01.082Z"
   },
   {
    "duration": 26,
    "start_time": "2021-07-25T12:43:01.120Z"
   },
   {
    "duration": 14,
    "start_time": "2021-07-25T12:43:01.148Z"
   },
   {
    "duration": 49,
    "start_time": "2021-07-25T12:43:01.163Z"
   },
   {
    "duration": 8,
    "start_time": "2021-07-25T12:43:01.214Z"
   },
   {
    "duration": 458,
    "start_time": "2021-07-25T12:43:01.223Z"
   },
   {
    "duration": 30,
    "start_time": "2021-07-25T12:43:01.683Z"
   },
   {
    "duration": 13,
    "start_time": "2021-07-25T12:43:01.715Z"
   },
   {
    "duration": 14,
    "start_time": "2021-07-25T12:43:01.730Z"
   },
   {
    "duration": 774,
    "start_time": "2021-08-12T13:05:07.079Z"
   },
   {
    "duration": 193,
    "start_time": "2021-08-12T13:05:07.855Z"
   },
   {
    "duration": 35,
    "start_time": "2021-08-12T13:05:08.054Z"
   },
   {
    "duration": 25,
    "start_time": "2021-08-12T13:05:08.092Z"
   },
   {
    "duration": 23,
    "start_time": "2021-08-12T13:05:08.120Z"
   },
   {
    "duration": 38,
    "start_time": "2021-08-12T13:05:08.146Z"
   },
   {
    "duration": 12,
    "start_time": "2021-08-12T13:05:08.188Z"
   },
   {
    "duration": 23,
    "start_time": "2021-08-12T13:05:08.204Z"
   },
   {
    "duration": 8,
    "start_time": "2021-08-12T13:05:08.230Z"
   },
   {
    "duration": 46,
    "start_time": "2021-08-12T13:05:08.241Z"
   },
   {
    "duration": 129,
    "start_time": "2021-08-12T13:05:08.290Z"
   },
   {
    "duration": 15,
    "start_time": "2021-08-12T13:05:08.422Z"
   },
   {
    "duration": 5,
    "start_time": "2021-08-12T13:05:08.440Z"
   },
   {
    "duration": 33,
    "start_time": "2021-08-12T13:05:08.448Z"
   },
   {
    "duration": 4,
    "start_time": "2021-08-12T13:05:08.484Z"
   },
   {
    "duration": 10,
    "start_time": "2021-08-12T13:05:08.490Z"
   },
   {
    "duration": 9,
    "start_time": "2021-08-12T13:05:08.503Z"
   },
   {
    "duration": 12,
    "start_time": "2021-08-12T13:05:08.514Z"
   },
   {
    "duration": 6,
    "start_time": "2021-08-12T13:05:08.529Z"
   },
   {
    "duration": 78,
    "start_time": "2021-08-12T13:05:08.537Z"
   },
   {
    "duration": 21,
    "start_time": "2021-08-12T13:05:08.617Z"
   },
   {
    "duration": 52,
    "start_time": "2021-08-12T13:05:08.643Z"
   },
   {
    "duration": 4,
    "start_time": "2021-08-12T13:05:08.698Z"
   },
   {
    "duration": 4910,
    "start_time": "2021-08-12T13:05:08.704Z"
   },
   {
    "duration": 8081,
    "start_time": "2021-08-12T13:05:13.617Z"
   },
   {
    "duration": 5,
    "start_time": "2021-08-12T13:05:21.701Z"
   },
   {
    "duration": 11,
    "start_time": "2021-08-12T13:05:21.709Z"
   },
   {
    "duration": 10,
    "start_time": "2021-08-12T13:05:21.723Z"
   },
   {
    "duration": 59,
    "start_time": "2021-08-12T13:05:21.735Z"
   },
   {
    "duration": 6,
    "start_time": "2021-08-12T13:05:21.797Z"
   },
   {
    "duration": 10,
    "start_time": "2021-08-12T13:05:21.806Z"
   },
   {
    "duration": 9,
    "start_time": "2021-08-12T13:05:21.819Z"
   },
   {
    "duration": 9,
    "start_time": "2021-08-12T13:05:21.830Z"
   },
   {
    "duration": 60,
    "start_time": "2021-08-12T13:05:21.842Z"
   },
   {
    "duration": 9,
    "start_time": "2021-08-12T13:05:21.904Z"
   },
   {
    "duration": 5,
    "start_time": "2021-08-12T13:05:21.916Z"
   },
   {
    "duration": 26,
    "start_time": "2021-08-12T13:05:21.924Z"
   },
   {
    "duration": 10,
    "start_time": "2021-08-12T13:05:21.981Z"
   },
   {
    "duration": 814,
    "start_time": "2021-08-12T13:05:21.994Z"
   },
   {
    "duration": 23,
    "start_time": "2021-08-12T13:05:22.811Z"
   },
   {
    "duration": 19,
    "start_time": "2021-08-12T13:05:22.836Z"
   },
   {
    "duration": 19,
    "start_time": "2021-08-12T13:05:22.883Z"
   }
  ],
  "kernelspec": {
   "display_name": "Python 3",
   "language": "python",
   "name": "python3"
  },
  "language_info": {
   "codemirror_mode": {
    "name": "ipython",
    "version": 3
   },
   "file_extension": ".py",
   "mimetype": "text/x-python",
   "name": "python",
   "nbconvert_exporter": "python",
   "pygments_lexer": "ipython3",
   "version": "3.7.8"
  },
  "toc": {
   "base_numbering": 1,
   "nav_menu": {},
   "number_sections": true,
   "sideBar": true,
   "skip_h1_title": true,
   "title_cell": "Table of Contents",
   "title_sidebar": "Contents",
   "toc_cell": false,
   "toc_position": {},
   "toc_section_display": true,
   "toc_window_display": true
  }
 },
 "nbformat": 4,
 "nbformat_minor": 2
}