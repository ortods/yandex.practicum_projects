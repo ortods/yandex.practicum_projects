{
 "cells": [
  {
   "cell_type": "markdown",
   "metadata": {},
   "source": [
    "# Выбор локации для скважины"
   ]
  },
  {
   "cell_type": "markdown",
   "metadata": {},
   "source": [
    "Допустим, вы работаете в добывающей компании «ГлавРосГосНефть». Нужно решить, где бурить новую скважину.\n",
    "\n",
    "Вам предоставлены пробы нефти в трёх регионах: в каждом 10 000 месторождений, где измерили качество нефти и объём её запасов. Постройте модель машинного обучения, которая поможет определить регион, где добыча принесёт наибольшую прибыль. Проанализируйте возможную прибыль и риски техникой *Bootstrap.*\n",
    "\n",
    "Шаги для выбора локации:\n",
    "\n",
    "- В избранном регионе ищут месторождения, для каждого определяют значения признаков;\n",
    "- Строят модель и оценивают объём запасов;\n",
    "- Выбирают месторождения с самым высокими оценками значений. Количество месторождений зависит от бюджета компании и стоимости разработки одной скважины;\n",
    "- Прибыль равна суммарной прибыли отобранных месторождений."
   ]
  },
  {
   "cell_type": "markdown",
   "metadata": {},
   "source": [
    "**Описание данных**\n",
    "- Данные геологоразведки трёх регионов находятся в файлах:  \n",
    "https://code.s3.yandex.net/datasets/geo_data_0.csv  \n",
    "https://code.s3.yandex.net/datasets/geo_data_1.csv  \n",
    "https://code.s3.yandex.net/datasets/geo_data_2.csv  \n",
    "\n",
    "\n",
    "- id — уникальный идентификатор скважины;  \n",
    "- f0, f1, f2 — три признака точек (неважно, что они означают, но сами признаки значимы);  \n",
    "- product — объём запасов в скважине (тыс. баррелей).  \n",
    "\n",
    "**Условия задачи:**  \n",
    "- Для обучения модели подходит только линейная регрессия (остальные — недостаточно предсказуемые).  \n",
    "- При разведке региона исследуют 500 точек, из которых с помощью машинного обучения выбирают 200 лучших для разработки.  \n",
    "- Бюджет на разработку скважин в регионе — 10 млрд рублей.  \n",
    "- При нынешних ценах один баррель сырья приносит 450 рублей дохода. Доход с каждой единицы продукта составляет 450 тыс. рублей, поскольку объём указан в тысячах баррелей.  \n",
    "- После оценки рисков нужно оставить лишь те регионы, в которых вероятность убытков меньше 2.5%. Среди них выбирают регион с наибольшей средней прибылью.  \n",
    "- Данные синтетические: детали контрактов и характеристики месторождений не разглашаются."
   ]
  },
  {
   "cell_type": "markdown",
   "metadata": {},
   "source": [
    "## Загрузка и подготовка данных"
   ]
  },
  {
   "cell_type": "code",
   "execution_count": 1,
   "metadata": {},
   "outputs": [],
   "source": [
    "import pandas as pd\n",
    "import numpy as np\n",
    "import matplotlib.pyplot as plt\n",
    "import seaborn as sns\n",
    "from sklearn.model_selection import train_test_split\n",
    "from sklearn.preprocessing import StandardScaler\n",
    "import warnings\n",
    "warnings.filterwarnings('ignore')\n",
    "from sklearn.linear_model import LinearRegression\n",
    "from sklearn.metrics import mean_squared_error\n",
    "from scipy import stats as st"
   ]
  },
  {
   "cell_type": "code",
   "execution_count": 2,
   "metadata": {},
   "outputs": [],
   "source": [
    "df1 = pd.read_csv('https://code.s3.yandex.net/datasets/geo_data_0.csv')\n",
    "df2 = pd.read_csv('https://code.s3.yandex.net/datasets/geo_data_1.csv')\n",
    "df3 = pd.read_csv('https://code.s3.yandex.net/datasets/geo_data_2.csv')"
   ]
  },
  {
   "cell_type": "markdown",
   "metadata": {},
   "source": [
    "### Изучим первый датасет."
   ]
  },
  {
   "cell_type": "code",
   "execution_count": 3,
   "metadata": {},
   "outputs": [
    {
     "data": {
      "text/html": [
       "<div>\n",
       "<style scoped>\n",
       "    .dataframe tbody tr th:only-of-type {\n",
       "        vertical-align: middle;\n",
       "    }\n",
       "\n",
       "    .dataframe tbody tr th {\n",
       "        vertical-align: top;\n",
       "    }\n",
       "\n",
       "    .dataframe thead th {\n",
       "        text-align: right;\n",
       "    }\n",
       "</style>\n",
       "<table border=\"1\" class=\"dataframe\">\n",
       "  <thead>\n",
       "    <tr style=\"text-align: right;\">\n",
       "      <th></th>\n",
       "      <th>id</th>\n",
       "      <th>f0</th>\n",
       "      <th>f1</th>\n",
       "      <th>f2</th>\n",
       "      <th>product</th>\n",
       "    </tr>\n",
       "  </thead>\n",
       "  <tbody>\n",
       "    <tr>\n",
       "      <td>0</td>\n",
       "      <td>txEyH</td>\n",
       "      <td>0.705745</td>\n",
       "      <td>-0.497823</td>\n",
       "      <td>1.221170</td>\n",
       "      <td>105.280062</td>\n",
       "    </tr>\n",
       "    <tr>\n",
       "      <td>1</td>\n",
       "      <td>2acmU</td>\n",
       "      <td>1.334711</td>\n",
       "      <td>-0.340164</td>\n",
       "      <td>4.365080</td>\n",
       "      <td>73.037750</td>\n",
       "    </tr>\n",
       "    <tr>\n",
       "      <td>2</td>\n",
       "      <td>409Wp</td>\n",
       "      <td>1.022732</td>\n",
       "      <td>0.151990</td>\n",
       "      <td>1.419926</td>\n",
       "      <td>85.265647</td>\n",
       "    </tr>\n",
       "    <tr>\n",
       "      <td>3</td>\n",
       "      <td>iJLyR</td>\n",
       "      <td>-0.032172</td>\n",
       "      <td>0.139033</td>\n",
       "      <td>2.978566</td>\n",
       "      <td>168.620776</td>\n",
       "    </tr>\n",
       "    <tr>\n",
       "      <td>4</td>\n",
       "      <td>Xdl7t</td>\n",
       "      <td>1.988431</td>\n",
       "      <td>0.155413</td>\n",
       "      <td>4.751769</td>\n",
       "      <td>154.036647</td>\n",
       "    </tr>\n",
       "  </tbody>\n",
       "</table>\n",
       "</div>"
      ],
      "text/plain": [
       "      id        f0        f1        f2     product\n",
       "0  txEyH  0.705745 -0.497823  1.221170  105.280062\n",
       "1  2acmU  1.334711 -0.340164  4.365080   73.037750\n",
       "2  409Wp  1.022732  0.151990  1.419926   85.265647\n",
       "3  iJLyR -0.032172  0.139033  2.978566  168.620776\n",
       "4  Xdl7t  1.988431  0.155413  4.751769  154.036647"
      ]
     },
     "execution_count": 3,
     "metadata": {},
     "output_type": "execute_result"
    }
   ],
   "source": [
    "df1.head()"
   ]
  },
  {
   "cell_type": "code",
   "execution_count": 4,
   "metadata": {},
   "outputs": [
    {
     "name": "stdout",
     "output_type": "stream",
     "text": [
      "<class 'pandas.core.frame.DataFrame'>\n",
      "RangeIndex: 100000 entries, 0 to 99999\n",
      "Data columns (total 5 columns):\n",
      "id         100000 non-null object\n",
      "f0         100000 non-null float64\n",
      "f1         100000 non-null float64\n",
      "f2         100000 non-null float64\n",
      "product    100000 non-null float64\n",
      "dtypes: float64(4), object(1)\n",
      "memory usage: 3.8+ MB\n"
     ]
    }
   ],
   "source": [
    "df1.info()"
   ]
  },
  {
   "cell_type": "code",
   "execution_count": 5,
   "metadata": {},
   "outputs": [
    {
     "data": {
      "text/html": [
       "<div>\n",
       "<style scoped>\n",
       "    .dataframe tbody tr th:only-of-type {\n",
       "        vertical-align: middle;\n",
       "    }\n",
       "\n",
       "    .dataframe tbody tr th {\n",
       "        vertical-align: top;\n",
       "    }\n",
       "\n",
       "    .dataframe thead th {\n",
       "        text-align: right;\n",
       "    }\n",
       "</style>\n",
       "<table border=\"1\" class=\"dataframe\">\n",
       "  <thead>\n",
       "    <tr style=\"text-align: right;\">\n",
       "      <th></th>\n",
       "      <th>f0</th>\n",
       "      <th>f1</th>\n",
       "      <th>f2</th>\n",
       "      <th>product</th>\n",
       "    </tr>\n",
       "  </thead>\n",
       "  <tbody>\n",
       "    <tr>\n",
       "      <td>count</td>\n",
       "      <td>100000.000000</td>\n",
       "      <td>100000.000000</td>\n",
       "      <td>100000.000000</td>\n",
       "      <td>100000.000000</td>\n",
       "    </tr>\n",
       "    <tr>\n",
       "      <td>mean</td>\n",
       "      <td>0.500419</td>\n",
       "      <td>0.250143</td>\n",
       "      <td>2.502647</td>\n",
       "      <td>92.500000</td>\n",
       "    </tr>\n",
       "    <tr>\n",
       "      <td>std</td>\n",
       "      <td>0.871832</td>\n",
       "      <td>0.504433</td>\n",
       "      <td>3.248248</td>\n",
       "      <td>44.288691</td>\n",
       "    </tr>\n",
       "    <tr>\n",
       "      <td>min</td>\n",
       "      <td>-1.408605</td>\n",
       "      <td>-0.848218</td>\n",
       "      <td>-12.088328</td>\n",
       "      <td>0.000000</td>\n",
       "    </tr>\n",
       "    <tr>\n",
       "      <td>25%</td>\n",
       "      <td>-0.072580</td>\n",
       "      <td>-0.200881</td>\n",
       "      <td>0.287748</td>\n",
       "      <td>56.497507</td>\n",
       "    </tr>\n",
       "    <tr>\n",
       "      <td>50%</td>\n",
       "      <td>0.502360</td>\n",
       "      <td>0.250252</td>\n",
       "      <td>2.515969</td>\n",
       "      <td>91.849972</td>\n",
       "    </tr>\n",
       "    <tr>\n",
       "      <td>75%</td>\n",
       "      <td>1.073581</td>\n",
       "      <td>0.700646</td>\n",
       "      <td>4.715088</td>\n",
       "      <td>128.564089</td>\n",
       "    </tr>\n",
       "    <tr>\n",
       "      <td>max</td>\n",
       "      <td>2.362331</td>\n",
       "      <td>1.343769</td>\n",
       "      <td>16.003790</td>\n",
       "      <td>185.364347</td>\n",
       "    </tr>\n",
       "  </tbody>\n",
       "</table>\n",
       "</div>"
      ],
      "text/plain": [
       "                  f0             f1             f2        product\n",
       "count  100000.000000  100000.000000  100000.000000  100000.000000\n",
       "mean        0.500419       0.250143       2.502647      92.500000\n",
       "std         0.871832       0.504433       3.248248      44.288691\n",
       "min        -1.408605      -0.848218     -12.088328       0.000000\n",
       "25%        -0.072580      -0.200881       0.287748      56.497507\n",
       "50%         0.502360       0.250252       2.515969      91.849972\n",
       "75%         1.073581       0.700646       4.715088     128.564089\n",
       "max         2.362331       1.343769      16.003790     185.364347"
      ]
     },
     "execution_count": 5,
     "metadata": {},
     "output_type": "execute_result"
    }
   ],
   "source": [
    "df1.describe()"
   ]
  },
  {
   "cell_type": "markdown",
   "metadata": {},
   "source": [
    "Создадим функцию для построения гистограмм и ящиков с усами по численным данным. "
   ]
  },
  {
   "cell_type": "code",
   "execution_count": 6,
   "metadata": {},
   "outputs": [],
   "source": [
    "def hist_box_numeric(df):\n",
    "    fig = plt.figure()\n",
    "    figsize=(15,20)\n",
    "    total_axes = len(df.describe().columns)*2 \n",
    "\n",
    "    subplt = 1 \n",
    "    for column in df.describe().columns:\n",
    "        if int(df[column].max()-df[column].min()+1)>100:\n",
    "            bins=100\n",
    "        elif int(df[column].max()-df[column].min()+1)<=20:\n",
    "            bins=100     \n",
    "        else:\n",
    "            bins = int(df[column].max()-df[column].min()+1)\n",
    "        ax = fig.add_subplot(total_axes, 1, subplt)\n",
    "        df.boxplot([column], vert=False)\n",
    "        subplt+=1\n",
    "        ax = fig.add_subplot(total_axes, 1, subplt)\n",
    "        df[column].plot(kind='hist', bins=bins, figsize=(12,20), grid=True, legend=True)\n",
    "        subplt+=1\n",
    "    \n",
    "    plt.tight_layout()\n",
    "    plt.show()"
   ]
  },
  {
   "cell_type": "markdown",
   "metadata": {},
   "source": [
    "Создадим функцию для представления корреляционной матрицы с помощью тепловой карты."
   ]
  },
  {
   "cell_type": "code",
   "execution_count": 7,
   "metadata": {},
   "outputs": [],
   "source": [
    "def corr_heatmap(df):\n",
    "    df_corr = df.corr().replace(1,0)\n",
    "\n",
    "    mask = np.zeros_like(df_corr, dtype=bool)\n",
    "    mask[np.triu_indices_from(mask)] = True\n",
    "\n",
    "    plt.figure(figsize=(18, 7))\n",
    "\n",
    "    sns.heatmap(df_corr, mask=mask, annot=True, fmt=\".5f\", linewidths=.1, cmap= 'coolwarm')\n",
    "    plt.title('Матрица коэффициентов линейной корреляции', fontsize=15)\n",
    "    plt.ylabel('Признак', fontsize=15)\n",
    "    plt.xlabel('Признак', fontsize=15)"
   ]
  },
  {
   "cell_type": "markdown",
   "metadata": {},
   "source": [
    "Строим гистограммы и ящики с усами для первого датасета."
   ]
  },
  {
   "cell_type": "code",
   "execution_count": 8,
   "metadata": {},
   "outputs": [
    {
     "data": {
      "image/png": "[encoded data removed]",
      "text/plain": [
       "<Figure size 864x1440 with 8 Axes>"
      ]
     },
     "metadata": {
      "needs_background": "light"
     },
     "output_type": "display_data"
    }
   ],
   "source": [
    "hist_box_numeric(df1)"
   ]
  },
  {
   "cell_type": "markdown",
   "metadata": {},
   "source": [
    "Строим корреляционную матрицу для первого датасета. "
   ]
  },
  {
   "cell_type": "code",
   "execution_count": 9,
   "metadata": {},
   "outputs": [
    {
     "data": {
      "image/png": "[encoded data removed]",
      "text/plain": [
       "<Figure size 1296x504 with 2 Axes>"
      ]
     },
     "metadata": {
      "needs_background": "light"
     },
     "output_type": "display_data"
    }
   ],
   "source": [
    "corr_heatmap(df1)"
   ]
  },
  {
   "cell_type": "markdown",
   "metadata": {},
   "source": [
    "В первом датасете:\n",
    "- пропуски отсутствуют;\n",
    "- у признака f0 тип распределения гребенка с 4-мя пиками в районе значений -1, 0, 1, 2;\n",
    "- у признака f1 тип распределения гребенка с 3-мя пиками в районе значений -0,375, 0,25, 0,875;\n",
    "- у признака f2 наблюдается нормальное распределение около значения 2,5;\n",
    "- целевой признак так же имеет тип гребенки, но с 6-ю пиками в районе значений 31, 56, 80, 105, 127, 150.\n",
    "- наблюдается слабая отрицательная корреляция между признаками f0 и f1 k=-0.44;\n",
    "- имеется слабая положительная корреляция между признаком f2 и целевым признаком product k=0.48;\n",
    "- отрицательных или аномально высоких значений в целевом признаке нет, в признаках так же остутствуют аномальные значения."
   ]
  },
  {
   "cell_type": "markdown",
   "metadata": {},
   "source": [
    "### Изучим второй датасет."
   ]
  },
  {
   "cell_type": "code",
   "execution_count": 10,
   "metadata": {},
   "outputs": [
    {
     "data": {
      "text/html": [
       "<div>\n",
       "<style scoped>\n",
       "    .dataframe tbody tr th:only-of-type {\n",
       "        vertical-align: middle;\n",
       "    }\n",
       "\n",
       "    .dataframe tbody tr th {\n",
       "        vertical-align: top;\n",
       "    }\n",
       "\n",
       "    .dataframe thead th {\n",
       "        text-align: right;\n",
       "    }\n",
       "</style>\n",
       "<table border=\"1\" class=\"dataframe\">\n",
       "  <thead>\n",
       "    <tr style=\"text-align: right;\">\n",
       "      <th></th>\n",
       "      <th>id</th>\n",
       "      <th>f0</th>\n",
       "      <th>f1</th>\n",
       "      <th>f2</th>\n",
       "      <th>product</th>\n",
       "    </tr>\n",
       "  </thead>\n",
       "  <tbody>\n",
       "    <tr>\n",
       "      <td>0</td>\n",
       "      <td>kBEdx</td>\n",
       "      <td>-15.001348</td>\n",
       "      <td>-8.276000</td>\n",
       "      <td>-0.005876</td>\n",
       "      <td>3.179103</td>\n",
       "    </tr>\n",
       "    <tr>\n",
       "      <td>1</td>\n",
       "      <td>62mP7</td>\n",
       "      <td>14.272088</td>\n",
       "      <td>-3.475083</td>\n",
       "      <td>0.999183</td>\n",
       "      <td>26.953261</td>\n",
       "    </tr>\n",
       "    <tr>\n",
       "      <td>2</td>\n",
       "      <td>vyE1P</td>\n",
       "      <td>6.263187</td>\n",
       "      <td>-5.948386</td>\n",
       "      <td>5.001160</td>\n",
       "      <td>134.766305</td>\n",
       "    </tr>\n",
       "    <tr>\n",
       "      <td>3</td>\n",
       "      <td>KcrkZ</td>\n",
       "      <td>-13.081196</td>\n",
       "      <td>-11.506057</td>\n",
       "      <td>4.999415</td>\n",
       "      <td>137.945408</td>\n",
       "    </tr>\n",
       "    <tr>\n",
       "      <td>4</td>\n",
       "      <td>AHL4O</td>\n",
       "      <td>12.702195</td>\n",
       "      <td>-8.147433</td>\n",
       "      <td>5.004363</td>\n",
       "      <td>134.766305</td>\n",
       "    </tr>\n",
       "  </tbody>\n",
       "</table>\n",
       "</div>"
      ],
      "text/plain": [
       "      id         f0         f1        f2     product\n",
       "0  kBEdx -15.001348  -8.276000 -0.005876    3.179103\n",
       "1  62mP7  14.272088  -3.475083  0.999183   26.953261\n",
       "2  vyE1P   6.263187  -5.948386  5.001160  134.766305\n",
       "3  KcrkZ -13.081196 -11.506057  4.999415  137.945408\n",
       "4  AHL4O  12.702195  -8.147433  5.004363  134.766305"
      ]
     },
     "execution_count": 10,
     "metadata": {},
     "output_type": "execute_result"
    }
   ],
   "source": [
    "df2.head()"
   ]
  },
  {
   "cell_type": "code",
   "execution_count": 11,
   "metadata": {},
   "outputs": [
    {
     "name": "stdout",
     "output_type": "stream",
     "text": [
      "<class 'pandas.core.frame.DataFrame'>\n",
      "RangeIndex: 100000 entries, 0 to 99999\n",
      "Data columns (total 5 columns):\n",
      "id         100000 non-null object\n",
      "f0         100000 non-null float64\n",
      "f1         100000 non-null float64\n",
      "f2         100000 non-null float64\n",
      "product    100000 non-null float64\n",
      "dtypes: float64(4), object(1)\n",
      "memory usage: 3.8+ MB\n"
     ]
    }
   ],
   "source": [
    "df2.info()"
   ]
  },
  {
   "cell_type": "code",
   "execution_count": 12,
   "metadata": {},
   "outputs": [
    {
     "data": {
      "text/html": [
       "<div>\n",
       "<style scoped>\n",
       "    .dataframe tbody tr th:only-of-type {\n",
       "        vertical-align: middle;\n",
       "    }\n",
       "\n",
       "    .dataframe tbody tr th {\n",
       "        vertical-align: top;\n",
       "    }\n",
       "\n",
       "    .dataframe thead th {\n",
       "        text-align: right;\n",
       "    }\n",
       "</style>\n",
       "<table border=\"1\" class=\"dataframe\">\n",
       "  <thead>\n",
       "    <tr style=\"text-align: right;\">\n",
       "      <th></th>\n",
       "      <th>f0</th>\n",
       "      <th>f1</th>\n",
       "      <th>f2</th>\n",
       "      <th>product</th>\n",
       "    </tr>\n",
       "  </thead>\n",
       "  <tbody>\n",
       "    <tr>\n",
       "      <td>count</td>\n",
       "      <td>100000.000000</td>\n",
       "      <td>100000.000000</td>\n",
       "      <td>100000.000000</td>\n",
       "      <td>100000.000000</td>\n",
       "    </tr>\n",
       "    <tr>\n",
       "      <td>mean</td>\n",
       "      <td>1.141296</td>\n",
       "      <td>-4.796579</td>\n",
       "      <td>2.494541</td>\n",
       "      <td>68.825000</td>\n",
       "    </tr>\n",
       "    <tr>\n",
       "      <td>std</td>\n",
       "      <td>8.965932</td>\n",
       "      <td>5.119872</td>\n",
       "      <td>1.703572</td>\n",
       "      <td>45.944423</td>\n",
       "    </tr>\n",
       "    <tr>\n",
       "      <td>min</td>\n",
       "      <td>-31.609576</td>\n",
       "      <td>-26.358598</td>\n",
       "      <td>-0.018144</td>\n",
       "      <td>0.000000</td>\n",
       "    </tr>\n",
       "    <tr>\n",
       "      <td>25%</td>\n",
       "      <td>-6.298551</td>\n",
       "      <td>-8.267985</td>\n",
       "      <td>1.000021</td>\n",
       "      <td>26.953261</td>\n",
       "    </tr>\n",
       "    <tr>\n",
       "      <td>50%</td>\n",
       "      <td>1.153055</td>\n",
       "      <td>-4.813172</td>\n",
       "      <td>2.011479</td>\n",
       "      <td>57.085625</td>\n",
       "    </tr>\n",
       "    <tr>\n",
       "      <td>75%</td>\n",
       "      <td>8.621015</td>\n",
       "      <td>-1.332816</td>\n",
       "      <td>3.999904</td>\n",
       "      <td>107.813044</td>\n",
       "    </tr>\n",
       "    <tr>\n",
       "      <td>max</td>\n",
       "      <td>29.421755</td>\n",
       "      <td>18.734063</td>\n",
       "      <td>5.019721</td>\n",
       "      <td>137.945408</td>\n",
       "    </tr>\n",
       "  </tbody>\n",
       "</table>\n",
       "</div>"
      ],
      "text/plain": [
       "                  f0             f1             f2        product\n",
       "count  100000.000000  100000.000000  100000.000000  100000.000000\n",
       "mean        1.141296      -4.796579       2.494541      68.825000\n",
       "std         8.965932       5.119872       1.703572      45.944423\n",
       "min       -31.609576     -26.358598      -0.018144       0.000000\n",
       "25%        -6.298551      -8.267985       1.000021      26.953261\n",
       "50%         1.153055      -4.813172       2.011479      57.085625\n",
       "75%         8.621015      -1.332816       3.999904     107.813044\n",
       "max        29.421755      18.734063       5.019721     137.945408"
      ]
     },
     "execution_count": 12,
     "metadata": {},
     "output_type": "execute_result"
    }
   ],
   "source": [
    "df2.describe()"
   ]
  },
  {
   "cell_type": "code",
   "execution_count": 13,
   "metadata": {},
   "outputs": [
    {
     "data": {
      "image/png": "[encoded data removed]",
      "text/plain": [
       "<Figure size 864x1440 with 8 Axes>"
      ]
     },
     "metadata": {
      "needs_background": "light"
     },
     "output_type": "display_data"
    }
   ],
   "source": [
    "hist_box_numeric(df2)"
   ]
  },
  {
   "cell_type": "markdown",
   "metadata": {},
   "source": [
    "Проверим интервалы между значениям целевого признака. Имеется 6 групп значений, в каждой группе по два значения. Группируем датасет по целевому найдем разность:\n",
    "- между группами значений (например 0 и ~25 для первой и второй группы);\n",
    "- между парами значений в группе (например 0 и ~5 для первой группы)."
   ]
  },
  {
   "cell_type": "code",
   "execution_count": 14,
   "metadata": {},
   "outputs": [
    {
     "data": {
      "text/html": [
       "<div>\n",
       "<style scoped>\n",
       "    .dataframe tbody tr th:only-of-type {\n",
       "        vertical-align: middle;\n",
       "    }\n",
       "\n",
       "    .dataframe tbody tr th {\n",
       "        vertical-align: top;\n",
       "    }\n",
       "\n",
       "    .dataframe thead th {\n",
       "        text-align: right;\n",
       "    }\n",
       "</style>\n",
       "<table border=\"1\" class=\"dataframe\">\n",
       "  <thead>\n",
       "    <tr style=\"text-align: right;\">\n",
       "      <th></th>\n",
       "      <th>product</th>\n",
       "      <th>id</th>\n",
       "      <th>f0</th>\n",
       "      <th>f1</th>\n",
       "      <th>f2</th>\n",
       "    </tr>\n",
       "  </thead>\n",
       "  <tbody>\n",
       "    <tr>\n",
       "      <td>0</td>\n",
       "      <td>0.000000</td>\n",
       "      <td>8235</td>\n",
       "      <td>8235</td>\n",
       "      <td>8235</td>\n",
       "      <td>8235</td>\n",
       "    </tr>\n",
       "    <tr>\n",
       "      <td>1</td>\n",
       "      <td>3.179103</td>\n",
       "      <td>8337</td>\n",
       "      <td>8337</td>\n",
       "      <td>8337</td>\n",
       "      <td>8337</td>\n",
       "    </tr>\n",
       "    <tr>\n",
       "      <td>2</td>\n",
       "      <td>26.953261</td>\n",
       "      <td>8468</td>\n",
       "      <td>8468</td>\n",
       "      <td>8468</td>\n",
       "      <td>8468</td>\n",
       "    </tr>\n",
       "    <tr>\n",
       "      <td>3</td>\n",
       "      <td>30.132364</td>\n",
       "      <td>8306</td>\n",
       "      <td>8306</td>\n",
       "      <td>8306</td>\n",
       "      <td>8306</td>\n",
       "    </tr>\n",
       "    <tr>\n",
       "      <td>4</td>\n",
       "      <td>53.906522</td>\n",
       "      <td>8472</td>\n",
       "      <td>8472</td>\n",
       "      <td>8472</td>\n",
       "      <td>8472</td>\n",
       "    </tr>\n",
       "    <tr>\n",
       "      <td>5</td>\n",
       "      <td>57.085625</td>\n",
       "      <td>8390</td>\n",
       "      <td>8390</td>\n",
       "      <td>8390</td>\n",
       "      <td>8390</td>\n",
       "    </tr>\n",
       "    <tr>\n",
       "      <td>6</td>\n",
       "      <td>80.859783</td>\n",
       "      <td>8320</td>\n",
       "      <td>8320</td>\n",
       "      <td>8320</td>\n",
       "      <td>8320</td>\n",
       "    </tr>\n",
       "    <tr>\n",
       "      <td>7</td>\n",
       "      <td>84.038886</td>\n",
       "      <td>8431</td>\n",
       "      <td>8431</td>\n",
       "      <td>8431</td>\n",
       "      <td>8431</td>\n",
       "    </tr>\n",
       "    <tr>\n",
       "      <td>8</td>\n",
       "      <td>107.813044</td>\n",
       "      <td>8201</td>\n",
       "      <td>8201</td>\n",
       "      <td>8201</td>\n",
       "      <td>8201</td>\n",
       "    </tr>\n",
       "    <tr>\n",
       "      <td>9</td>\n",
       "      <td>110.992147</td>\n",
       "      <td>8303</td>\n",
       "      <td>8303</td>\n",
       "      <td>8303</td>\n",
       "      <td>8303</td>\n",
       "    </tr>\n",
       "    <tr>\n",
       "      <td>10</td>\n",
       "      <td>134.766305</td>\n",
       "      <td>8304</td>\n",
       "      <td>8304</td>\n",
       "      <td>8304</td>\n",
       "      <td>8304</td>\n",
       "    </tr>\n",
       "    <tr>\n",
       "      <td>11</td>\n",
       "      <td>137.945408</td>\n",
       "      <td>8233</td>\n",
       "      <td>8233</td>\n",
       "      <td>8233</td>\n",
       "      <td>8233</td>\n",
       "    </tr>\n",
       "  </tbody>\n",
       "</table>\n",
       "</div>"
      ],
      "text/plain": [
       "       product    id    f0    f1    f2\n",
       "0     0.000000  8235  8235  8235  8235\n",
       "1     3.179103  8337  8337  8337  8337\n",
       "2    26.953261  8468  8468  8468  8468\n",
       "3    30.132364  8306  8306  8306  8306\n",
       "4    53.906522  8472  8472  8472  8472\n",
       "5    57.085625  8390  8390  8390  8390\n",
       "6    80.859783  8320  8320  8320  8320\n",
       "7    84.038886  8431  8431  8431  8431\n",
       "8   107.813044  8201  8201  8201  8201\n",
       "9   110.992147  8303  8303  8303  8303\n",
       "10  134.766305  8304  8304  8304  8304\n",
       "11  137.945408  8233  8233  8233  8233"
      ]
     },
     "execution_count": 14,
     "metadata": {},
     "output_type": "execute_result"
    }
   ],
   "source": [
    "prod_values_df2 = df2.groupby('product').count().reset_index()\n",
    "prod_values_df2"
   ]
  },
  {
   "cell_type": "code",
   "execution_count": 15,
   "metadata": {},
   "outputs": [
    {
     "name": "stdout",
     "output_type": "stream",
     "text": [
      "Значение разности: 23.77415845 | Индексы датасета: 2 - 1 | Разность чисел: 26.9533 - 3.1791\n",
      "Значение разности: 23.77415845 | Индексы датасета: 4 - 3 | Разность чисел: 53.9065 - 30.1324\n",
      "Значение разности: 23.77415845 | Индексы датасета: 6 - 5 | Разность чисел: 80.8598 - 57.0856\n",
      "Значение разности: 23.77415845 | Индексы датасета: 8 - 7 | Разность чисел: 107.8130 - 84.0389\n",
      "Значение разности: 23.77415845 | Индексы датасета: 10 - 9 | Разность чисел: 134.7663 - 110.9921\n"
     ]
    }
   ],
   "source": [
    "for i in range(1, len(prod_values_df2)-1, 2):\n",
    "    difference = prod_values_df2.loc[(i+1), 'product'] - prod_values_df2.loc[i, 'product']\n",
    "    print(\"Значение разности: {:.8f} | Индексы датасета: {} - {} | Разность чисел: {:.4f} - {:.4f}\".format(difference, i+1, i, prod_values_df2.loc[i+1, 'product'], prod_values_df2.loc[(i), 'product']))"
   ]
  },
  {
   "cell_type": "markdown",
   "metadata": {},
   "source": [
    "Значения разности одни и те же."
   ]
  },
  {
   "cell_type": "code",
   "execution_count": 16,
   "metadata": {},
   "outputs": [
    {
     "name": "stdout",
     "output_type": "stream",
     "text": [
      "Значение разности: 3.17910258 | Индексы датасета: 1 - 0 | Разность чисел: 3.1791 - 0.0000|\n",
      "Значение разности: 3.17910258 | Индексы датасета: 3 - 2 | Разность чисел: 30.1324 - 26.9533|\n",
      "Значение разности: 3.17910258 | Индексы датасета: 5 - 4 | Разность чисел: 57.0856 - 53.9065|\n",
      "Значение разности: 3.17910258 | Индексы датасета: 7 - 6 | Разность чисел: 84.0389 - 80.8598|\n",
      "Значение разности: 3.17910258 | Индексы датасета: 9 - 8 | Разность чисел: 110.9921 - 107.8130|\n",
      "Значение разности: 3.17910258 | Индексы датасета: 11 - 10 | Разность чисел: 137.9454 - 134.7663|\n"
     ]
    }
   ],
   "source": [
    "for i in range(0, len(prod_values_df2), 2):\n",
    "    difference = prod_values_df2.loc[(i+1), 'product'] - prod_values_df2.loc[i, 'product']\n",
    "    print(\"Значение разности: {:.8f} | Индексы датасета: {} - {} | Разность чисел: {:.4f} - {:.4f}|\".format(difference, i+1, i, prod_values_df2.loc[i+1, 'product'], prod_values_df2.loc[(i), 'product']))"
   ]
  },
  {
   "cell_type": "markdown",
   "metadata": {},
   "source": [
    "Значения разности снова одни и те же."
   ]
  },
  {
   "cell_type": "markdown",
   "metadata": {},
   "source": [
    "Строим матрицу корреляции."
   ]
  },
  {
   "cell_type": "code",
   "execution_count": 17,
   "metadata": {},
   "outputs": [
    {
     "data": {
      "image/png": "[encoded data removed]",
      "text/plain": [
       "<Figure size 1296x504 with 2 Axes>"
      ]
     },
     "metadata": {
      "needs_background": "light"
     },
     "output_type": "display_data"
    }
   ],
   "source": [
    "corr_heatmap(df2)"
   ]
  },
  {
   "cell_type": "markdown",
   "metadata": {},
   "source": [
    "Во втором датасете:\n",
    "- пропуски отсутствуют;\n",
    "- у признака f0 тип распределения бимодальное с пиками в районе значений -7, 8;\n",
    "- у признака f1 нормальное распределение около значения -5;\n",
    "- **у признака f2 гистограмма имеет вид столбчатой диаграммы со значениями 0, 1, 2, 3, 4, 5;**\n",
    "- **целевой признак так же имеет вид столбчатой диаграммы, но с парой пиков в каждом значении около 0, 30, 55, 80, 110, 135.**\n",
    "- наблюдается очень слабая положительная корреляция между признаками f0 и f1 k=0.18;\n",
    "- **имеется очень высокая положительная корреляция между признаком f2 и целевым признаком product k=0.9994.**\n",
    "\n",
    "- **для каждой группы и подгруппы целевого признака наблюдается совпадание значения разности до 8-го знака после запятой. Можно предположить, что исходный датасет был заранее предобработан и сгруппирован.**"
   ]
  },
  {
   "cell_type": "markdown",
   "metadata": {},
   "source": [
    "### Изучим третий датасет."
   ]
  },
  {
   "cell_type": "code",
   "execution_count": 18,
   "metadata": {},
   "outputs": [
    {
     "data": {
      "text/html": [
       "<div>\n",
       "<style scoped>\n",
       "    .dataframe tbody tr th:only-of-type {\n",
       "        vertical-align: middle;\n",
       "    }\n",
       "\n",
       "    .dataframe tbody tr th {\n",
       "        vertical-align: top;\n",
       "    }\n",
       "\n",
       "    .dataframe thead th {\n",
       "        text-align: right;\n",
       "    }\n",
       "</style>\n",
       "<table border=\"1\" class=\"dataframe\">\n",
       "  <thead>\n",
       "    <tr style=\"text-align: right;\">\n",
       "      <th></th>\n",
       "      <th>id</th>\n",
       "      <th>f0</th>\n",
       "      <th>f1</th>\n",
       "      <th>f2</th>\n",
       "      <th>product</th>\n",
       "    </tr>\n",
       "  </thead>\n",
       "  <tbody>\n",
       "    <tr>\n",
       "      <td>0</td>\n",
       "      <td>fwXo0</td>\n",
       "      <td>-1.146987</td>\n",
       "      <td>0.963328</td>\n",
       "      <td>-0.828965</td>\n",
       "      <td>27.758673</td>\n",
       "    </tr>\n",
       "    <tr>\n",
       "      <td>1</td>\n",
       "      <td>WJtFt</td>\n",
       "      <td>0.262778</td>\n",
       "      <td>0.269839</td>\n",
       "      <td>-2.530187</td>\n",
       "      <td>56.069697</td>\n",
       "    </tr>\n",
       "    <tr>\n",
       "      <td>2</td>\n",
       "      <td>ovLUW</td>\n",
       "      <td>0.194587</td>\n",
       "      <td>0.289035</td>\n",
       "      <td>-5.586433</td>\n",
       "      <td>62.871910</td>\n",
       "    </tr>\n",
       "    <tr>\n",
       "      <td>3</td>\n",
       "      <td>q6cA6</td>\n",
       "      <td>2.236060</td>\n",
       "      <td>-0.553760</td>\n",
       "      <td>0.930038</td>\n",
       "      <td>114.572842</td>\n",
       "    </tr>\n",
       "    <tr>\n",
       "      <td>4</td>\n",
       "      <td>WPMUX</td>\n",
       "      <td>-0.515993</td>\n",
       "      <td>1.716266</td>\n",
       "      <td>5.899011</td>\n",
       "      <td>149.600746</td>\n",
       "    </tr>\n",
       "  </tbody>\n",
       "</table>\n",
       "</div>"
      ],
      "text/plain": [
       "      id        f0        f1        f2     product\n",
       "0  fwXo0 -1.146987  0.963328 -0.828965   27.758673\n",
       "1  WJtFt  0.262778  0.269839 -2.530187   56.069697\n",
       "2  ovLUW  0.194587  0.289035 -5.586433   62.871910\n",
       "3  q6cA6  2.236060 -0.553760  0.930038  114.572842\n",
       "4  WPMUX -0.515993  1.716266  5.899011  149.600746"
      ]
     },
     "execution_count": 18,
     "metadata": {},
     "output_type": "execute_result"
    }
   ],
   "source": [
    "df3.head()"
   ]
  },
  {
   "cell_type": "code",
   "execution_count": 19,
   "metadata": {},
   "outputs": [
    {
     "name": "stdout",
     "output_type": "stream",
     "text": [
      "<class 'pandas.core.frame.DataFrame'>\n",
      "RangeIndex: 100000 entries, 0 to 99999\n",
      "Data columns (total 5 columns):\n",
      "id         100000 non-null object\n",
      "f0         100000 non-null float64\n",
      "f1         100000 non-null float64\n",
      "f2         100000 non-null float64\n",
      "product    100000 non-null float64\n",
      "dtypes: float64(4), object(1)\n",
      "memory usage: 3.8+ MB\n"
     ]
    }
   ],
   "source": [
    "df3.info()"
   ]
  },
  {
   "cell_type": "code",
   "execution_count": 20,
   "metadata": {},
   "outputs": [
    {
     "data": {
      "text/html": [
       "<div>\n",
       "<style scoped>\n",
       "    .dataframe tbody tr th:only-of-type {\n",
       "        vertical-align: middle;\n",
       "    }\n",
       "\n",
       "    .dataframe tbody tr th {\n",
       "        vertical-align: top;\n",
       "    }\n",
       "\n",
       "    .dataframe thead th {\n",
       "        text-align: right;\n",
       "    }\n",
       "</style>\n",
       "<table border=\"1\" class=\"dataframe\">\n",
       "  <thead>\n",
       "    <tr style=\"text-align: right;\">\n",
       "      <th></th>\n",
       "      <th>f0</th>\n",
       "      <th>f1</th>\n",
       "      <th>f2</th>\n",
       "      <th>product</th>\n",
       "    </tr>\n",
       "  </thead>\n",
       "  <tbody>\n",
       "    <tr>\n",
       "      <td>count</td>\n",
       "      <td>100000.000000</td>\n",
       "      <td>100000.000000</td>\n",
       "      <td>100000.000000</td>\n",
       "      <td>100000.000000</td>\n",
       "    </tr>\n",
       "    <tr>\n",
       "      <td>mean</td>\n",
       "      <td>0.002023</td>\n",
       "      <td>-0.002081</td>\n",
       "      <td>2.495128</td>\n",
       "      <td>95.000000</td>\n",
       "    </tr>\n",
       "    <tr>\n",
       "      <td>std</td>\n",
       "      <td>1.732045</td>\n",
       "      <td>1.730417</td>\n",
       "      <td>3.473445</td>\n",
       "      <td>44.749921</td>\n",
       "    </tr>\n",
       "    <tr>\n",
       "      <td>min</td>\n",
       "      <td>-8.760004</td>\n",
       "      <td>-7.084020</td>\n",
       "      <td>-11.970335</td>\n",
       "      <td>0.000000</td>\n",
       "    </tr>\n",
       "    <tr>\n",
       "      <td>25%</td>\n",
       "      <td>-1.162288</td>\n",
       "      <td>-1.174820</td>\n",
       "      <td>0.130359</td>\n",
       "      <td>59.450441</td>\n",
       "    </tr>\n",
       "    <tr>\n",
       "      <td>50%</td>\n",
       "      <td>0.009424</td>\n",
       "      <td>-0.009482</td>\n",
       "      <td>2.484236</td>\n",
       "      <td>94.925613</td>\n",
       "    </tr>\n",
       "    <tr>\n",
       "      <td>75%</td>\n",
       "      <td>1.158535</td>\n",
       "      <td>1.163678</td>\n",
       "      <td>4.858794</td>\n",
       "      <td>130.595027</td>\n",
       "    </tr>\n",
       "    <tr>\n",
       "      <td>max</td>\n",
       "      <td>7.238262</td>\n",
       "      <td>7.844801</td>\n",
       "      <td>16.739402</td>\n",
       "      <td>190.029838</td>\n",
       "    </tr>\n",
       "  </tbody>\n",
       "</table>\n",
       "</div>"
      ],
      "text/plain": [
       "                  f0             f1             f2        product\n",
       "count  100000.000000  100000.000000  100000.000000  100000.000000\n",
       "mean        0.002023      -0.002081       2.495128      95.000000\n",
       "std         1.732045       1.730417       3.473445      44.749921\n",
       "min        -8.760004      -7.084020     -11.970335       0.000000\n",
       "25%        -1.162288      -1.174820       0.130359      59.450441\n",
       "50%         0.009424      -0.009482       2.484236      94.925613\n",
       "75%         1.158535       1.163678       4.858794     130.595027\n",
       "max         7.238262       7.844801      16.739402     190.029838"
      ]
     },
     "execution_count": 20,
     "metadata": {},
     "output_type": "execute_result"
    }
   ],
   "source": [
    "df3.describe()"
   ]
  },
  {
   "cell_type": "code",
   "execution_count": 21,
   "metadata": {},
   "outputs": [
    {
     "data": {
      "image/png": "[encoded data removed]",
      "text/plain": [
       "<Figure size 864x1440 with 8 Axes>"
      ]
     },
     "metadata": {
      "needs_background": "light"
     },
     "output_type": "display_data"
    }
   ],
   "source": [
    "hist_box_numeric(df3)"
   ]
  },
  {
   "cell_type": "code",
   "execution_count": 22,
   "metadata": {},
   "outputs": [
    {
     "data": {
      "image/png": "[encoded data removed]",
      "text/plain": [
       "<Figure size 1296x504 with 2 Axes>"
      ]
     },
     "metadata": {
      "needs_background": "light"
     },
     "output_type": "display_data"
    }
   ],
   "source": [
    "corr_heatmap(df3)"
   ]
  },
  {
   "cell_type": "markdown",
   "metadata": {},
   "source": [
    "В третьем датасете:\n",
    "- пропуски отсутствуют;\n",
    "- у признака f0 нормальное распределение около значения 0;\n",
    "- у признака f1 нормальное распределение около значения 0;\n",
    "- у признака f1 нормальное распределение около значения 2,5;\n",
    "- целевой признак имеет тип гребенки, с 6-ю пиками в районе значений 31, 56, 80, 105, 127, 150.\n",
    "- имеется слабая положительная корреляция между признаком f2 и целевым признаком product k=0.446;\n",
    "- отрицательных или аномально высоких значений в целевом признаке нет, в признаках так же остутствуют аномальные значения."
   ]
  },
  {
   "cell_type": "markdown",
   "metadata": {},
   "source": [
    "### Провека на дубликаты."
   ]
  },
  {
   "cell_type": "markdown",
   "metadata": {},
   "source": [
    "Проверим дубликаты во всех датасетах."
   ]
  },
  {
   "cell_type": "code",
   "execution_count": 23,
   "metadata": {
    "scrolled": false
   },
   "outputs": [
    {
     "name": "stdout",
     "output_type": "stream",
     "text": [
      "Полных дубликатов в df1: 0\n",
      "Повторяющихся значений в колонке \"id\": 10\n",
      "Повторяющихся значений в колонке \"f0\": 0\n",
      "Повторяющихся значений в колонке \"f1\": 0\n",
      "Повторяющихся значений в колонке \"f2\": 0\n",
      "Повторяющихся значений в колонке \"product\": 0\n",
      "\n",
      "Полных дубликатов в df2: 0\n",
      "Повторяющихся значений в колонке \"id\": 4\n",
      "Повторяющихся значений в колонке \"f0\": 0\n",
      "Повторяющихся значений в колонке \"f1\": 0\n",
      "Повторяющихся значений в колонке \"f2\": 0\n",
      "Повторяющихся значений в колонке \"product\": 99988\n",
      "\n",
      "Полных дубликатов в df3: 0\n",
      "Повторяющихся значений в колонке \"id\": 4\n",
      "Повторяющихся значений в колонке \"f0\": 0\n",
      "Повторяющихся значений в колонке \"f1\": 0\n",
      "Повторяющихся значений в колонке \"f2\": 0\n",
      "Повторяющихся значений в колонке \"product\": 0\n",
      "\n"
     ]
    }
   ],
   "source": [
    "count = 1\n",
    "for df in df1, df2, df3:    \n",
    "    print(f'Полных дубликатов в df{count}: {df.duplicated().sum()}')\n",
    "    for column in df.columns:\n",
    "        print(f'Повторяющихся значений в колонке \"{column}\": {df[column].duplicated().sum()}')\n",
    "    print()\n",
    "    count += 1"
   ]
  },
  {
   "cell_type": "markdown",
   "metadata": {},
   "source": [
    "Значения целевого признака второго датасета трогать не будем, так при удалении дубликатов останется всего 12 объектов и по ним модель не построить. "
   ]
  },
  {
   "cell_type": "markdown",
   "metadata": {},
   "source": [
    "Удалим объекты с дублирующимися id, так как исходя из описания данных id должен быть уникальным."
   ]
  },
  {
   "cell_type": "code",
   "execution_count": 24,
   "metadata": {},
   "outputs": [],
   "source": [
    "df1 = df1.drop_duplicates(subset=['id'])\n",
    "df2 = df2.drop_duplicates(subset=['id'])\n",
    "df3 = df3.drop_duplicates(subset=['id'])"
   ]
  },
  {
   "cell_type": "markdown",
   "metadata": {},
   "source": [
    "Проверим количество строк после удаления дублирующихся id."
   ]
  },
  {
   "cell_type": "code",
   "execution_count": 25,
   "metadata": {},
   "outputs": [
    {
     "name": "stdout",
     "output_type": "stream",
     "text": [
      "99990\n",
      "99996\n",
      "99996\n"
     ]
    }
   ],
   "source": [
    "for df in  df1, df2, df3:\n",
    "    print(df.shape[0])"
   ]
  },
  {
   "cell_type": "markdown",
   "metadata": {},
   "source": [
    "От 4 до 10 строк были удалены из-за дублирующихся id. Это менее 0,01% строк в датасетах."
   ]
  },
  {
   "cell_type": "markdown",
   "metadata": {},
   "source": [
    "### Выделение признаков и целевого признака."
   ]
  },
  {
   "cell_type": "markdown",
   "metadata": {},
   "source": [
    "Добавим датафрейм признаков \"xx\" и целевого признака \"yy\" для каждого датасета (региона) в соответствующие списки датафремов.  \n",
    "Колонку \"id\" не включаем в признаки, так как она не несет полезной информации для обучения моделей.  \n",
    "Для получения датасета по каждому региону в дальнейшем будем обращаться к этим спискам по строке:\n",
    "- 0 - датасет №1, \n",
    "- 1 - датасет №2, \n",
    "- 2 - датасет №3."
   ]
  },
  {
   "cell_type": "code",
   "execution_count": 26,
   "metadata": {},
   "outputs": [],
   "source": [
    "xx = []\n",
    "yy = []\n",
    "\n",
    "for df in  df1, df2, df3:\n",
    "    xx.append(df.drop(columns=['product', 'id'], axis=1))\n",
    "    yy.append(df[['product']])"
   ]
  },
  {
   "cell_type": "markdown",
   "metadata": {},
   "source": [
    "Проверим размерность датафреймов с признаками и целевыми признаками для каждого региона."
   ]
  },
  {
   "cell_type": "code",
   "execution_count": 27,
   "metadata": {},
   "outputs": [
    {
     "name": "stdout",
     "output_type": "stream",
     "text": [
      "Признаки региона 1 (99990, 3)\n",
      "Целевые признаки региона 1 (99990, 1)\n",
      "\n",
      "Признаки региона 2 (99996, 3)\n",
      "Целевые признаки региона 2 (99996, 1)\n",
      "\n",
      "Признаки региона 3 (99996, 3)\n",
      "Целевые признаки региона 3 (99996, 1)\n",
      "\n"
     ]
    }
   ],
   "source": [
    "for region in range(len(xx)):\n",
    "    print(\"Признаки региона\", region + 1, xx[region].shape)\n",
    "    print(\"Целевые признаки региона\", region + 1, yy[region].shape)\n",
    "    print()"
   ]
  },
  {
   "cell_type": "markdown",
   "metadata": {},
   "source": [
    "### Вывод"
   ]
  },
  {
   "cell_type": "markdown",
   "metadata": {},
   "source": [
    "Проведена предобработка данных в ходе которой исследованы три датасета, для трех регионов. Наибольшее внимание вызывает второй датасет, в котором целевые признаки системно сгруппированы, а так же имеется очень сильная положительная корреляция между признаком f2 и целевым признаком product k=0.99994. Исключать его из дальнейшей работы не будем, но отметим его странность.  \n",
    "Так же в ходе проверки на дубликаты во всех датасетах обнаружены дублирующиеся id, которые были удалены. Всего это менее 0,01% данных.  \n",
    "Для всех дататсетов в отдельные списки выделены датафреймы с признаками и целевыми признаками."
   ]
  },
  {
   "cell_type": "markdown",
   "metadata": {},
   "source": [
    "## Обучение и проверка модели"
   ]
  },
  {
   "cell_type": "markdown",
   "metadata": {},
   "source": [
    "### Разделение данных на обучающую и валидационную выборки в соотношении 75:25."
   ]
  },
  {
   "cell_type": "markdown",
   "metadata": {},
   "source": [
    "Напишем функцию разделения данных на две выборки."
   ]
  },
  {
   "cell_type": "code",
   "execution_count": 28,
   "metadata": {},
   "outputs": [],
   "source": [
    "def split_train_valid(features, target, size=0.25):\n",
    "    x_train, x_valid, y_train, y_valid = train_test_split(\n",
    "    features, target, test_size=size, random_state=12345)\n",
    "    return x_train, x_valid, y_train, y_valid"
   ]
  },
  {
   "cell_type": "markdown",
   "metadata": {},
   "source": [
    "Применим функцию разделения датафрейма на обучающую и валидационную выборки для каждого региона. Полученные датафремы сохраним в списки:\n",
    "- xx_train - обучающие признаки\n",
    "- xx_valid - валидационные признаки\n",
    "- yy_train - обучающие целевые признаки\n",
    "- yy_valid - валидационные целевые признаки"
   ]
  },
  {
   "cell_type": "code",
   "execution_count": 29,
   "metadata": {},
   "outputs": [],
   "source": [
    "xx_train=[]\n",
    "xx_valid=[]\n",
    "yy_train=[]\n",
    "yy_valid=[]\n",
    "for region in range(len(xx)):\n",
    "    x_train, x_valid, y_train, y_valid = split_train_valid(xx[region], yy[region], 0.25)\n",
    "    xx_train.append(x_train)\n",
    "    xx_valid.append(x_valid)\n",
    "    yy_train.append(y_train)\n",
    "    yy_valid.append(y_valid)"
   ]
  },
  {
   "cell_type": "markdown",
   "metadata": {},
   "source": [
    "Проверим соотношение обучающей и валидационной выборки трех регионов."
   ]
  },
  {
   "cell_type": "code",
   "execution_count": 30,
   "metadata": {},
   "outputs": [
    {
     "name": "stdout",
     "output_type": "stream",
     "text": [
      "75%/25%\n",
      "75%/25%\n",
      "75%/25%\n"
     ]
    }
   ],
   "source": [
    "for region in range(len(xx)):\n",
    "    print(f\"{len(xx_train[region])/len(xx[region]):.0%}/{len(xx_valid[region])/len(xx[region]):.0%}\")"
   ]
  },
  {
   "cell_type": "markdown",
   "metadata": {},
   "source": [
    "**Проведем масштабирование признаков методом стандартизации.** "
   ]
  },
  {
   "cell_type": "markdown",
   "metadata": {},
   "source": [
    "Напишем функцию для масштабирования признаков. Обучаем Scaler на обучающих признаках и трансформируем обучающую и валидационную выборки."
   ]
  },
  {
   "cell_type": "code",
   "execution_count": 31,
   "metadata": {},
   "outputs": [],
   "source": [
    "def scaled_features(features_train, features_valid):\n",
    "    scaler = StandardScaler()\n",
    "    scaler.fit(features_train[list(features_train.columns)])\n",
    "    features_train[list(features_train.columns)] = scaler.transform(features_train[list(features_train.columns)])\n",
    "    features_valid[list(features_valid.columns)] = scaler.transform(features_valid[list(features_valid.columns)])\n",
    "    return features_train, features_valid "
   ]
  },
  {
   "cell_type": "markdown",
   "metadata": {},
   "source": [
    "Масштабируем обучающие и валидационные признаки для трех регионов. Результаты сохраняем в списки датафреймов xx_train_scaled и xx_valid_scaled."
   ]
  },
  {
   "cell_type": "code",
   "execution_count": 32,
   "metadata": {},
   "outputs": [],
   "source": [
    "xx_train_scaled=[]\n",
    "xx_valid_scaled=[]\n",
    "for region in range(len(xx)):\n",
    "    x_train_scaled, x_valid_scaled = scaled_features(xx_train[region], xx_valid[region])\n",
    "    xx_train_scaled.append(x_train_scaled)\n",
    "    xx_valid_scaled.append(x_valid_scaled)"
   ]
  },
  {
   "cell_type": "markdown",
   "metadata": {},
   "source": [
    "Выведем для наглядность один датафрейм со стандартизированными обучающими признаками для второго региона."
   ]
  },
  {
   "cell_type": "code",
   "execution_count": 33,
   "metadata": {},
   "outputs": [
    {
     "data": {
      "text/html": [
       "<div>\n",
       "<style scoped>\n",
       "    .dataframe tbody tr th:only-of-type {\n",
       "        vertical-align: middle;\n",
       "    }\n",
       "\n",
       "    .dataframe tbody tr th {\n",
       "        vertical-align: top;\n",
       "    }\n",
       "\n",
       "    .dataframe thead th {\n",
       "        text-align: right;\n",
       "    }\n",
       "</style>\n",
       "<table border=\"1\" class=\"dataframe\">\n",
       "  <thead>\n",
       "    <tr style=\"text-align: right;\">\n",
       "      <th></th>\n",
       "      <th>f0</th>\n",
       "      <th>f1</th>\n",
       "      <th>f2</th>\n",
       "    </tr>\n",
       "  </thead>\n",
       "  <tbody>\n",
       "    <tr>\n",
       "      <td>7866</td>\n",
       "      <td>1.969969</td>\n",
       "      <td>1.837435</td>\n",
       "      <td>0.297397</td>\n",
       "    </tr>\n",
       "    <tr>\n",
       "      <td>83622</td>\n",
       "      <td>-0.814630</td>\n",
       "      <td>1.729298</td>\n",
       "      <td>0.303413</td>\n",
       "    </tr>\n",
       "    <tr>\n",
       "      <td>45142</td>\n",
       "      <td>-1.137949</td>\n",
       "      <td>0.734327</td>\n",
       "      <td>1.476398</td>\n",
       "    </tr>\n",
       "    <tr>\n",
       "      <td>35823</td>\n",
       "      <td>0.656865</td>\n",
       "      <td>1.949531</td>\n",
       "      <td>-1.461694</td>\n",
       "    </tr>\n",
       "    <tr>\n",
       "      <td>17773</td>\n",
       "      <td>1.769386</td>\n",
       "      <td>-0.319261</td>\n",
       "      <td>0.885476</td>\n",
       "    </tr>\n",
       "    <tr>\n",
       "      <td>...</td>\n",
       "      <td>...</td>\n",
       "      <td>...</td>\n",
       "      <td>...</td>\n",
       "    </tr>\n",
       "    <tr>\n",
       "      <td>4094</td>\n",
       "      <td>-0.335067</td>\n",
       "      <td>-0.002238</td>\n",
       "      <td>0.298623</td>\n",
       "    </tr>\n",
       "    <tr>\n",
       "      <td>85416</td>\n",
       "      <td>0.724171</td>\n",
       "      <td>-1.142061</td>\n",
       "      <td>0.299137</td>\n",
       "    </tr>\n",
       "    <tr>\n",
       "      <td>2177</td>\n",
       "      <td>1.045694</td>\n",
       "      <td>-0.647861</td>\n",
       "      <td>1.475461</td>\n",
       "    </tr>\n",
       "    <tr>\n",
       "      <td>77286</td>\n",
       "      <td>-1.100147</td>\n",
       "      <td>-1.101652</td>\n",
       "      <td>0.300384</td>\n",
       "    </tr>\n",
       "    <tr>\n",
       "      <td>86502</td>\n",
       "      <td>-0.146934</td>\n",
       "      <td>0.181663</td>\n",
       "      <td>-1.459718</td>\n",
       "    </tr>\n",
       "  </tbody>\n",
       "</table>\n",
       "<p>74997 rows × 3 columns</p>\n",
       "</div>"
      ],
      "text/plain": [
       "             f0        f1        f2\n",
       "7866   1.969969  1.837435  0.297397\n",
       "83622 -0.814630  1.729298  0.303413\n",
       "45142 -1.137949  0.734327  1.476398\n",
       "35823  0.656865  1.949531 -1.461694\n",
       "17773  1.769386 -0.319261  0.885476\n",
       "...         ...       ...       ...\n",
       "4094  -0.335067 -0.002238  0.298623\n",
       "85416  0.724171 -1.142061  0.299137\n",
       "2177   1.045694 -0.647861  1.475461\n",
       "77286 -1.100147 -1.101652  0.300384\n",
       "86502 -0.146934  0.181663 -1.459718\n",
       "\n",
       "[74997 rows x 3 columns]"
      ]
     },
     "execution_count": 33,
     "metadata": {},
     "output_type": "execute_result"
    }
   ],
   "source": [
    "xx_train_scaled[1]"
   ]
  },
  {
   "cell_type": "markdown",
   "metadata": {},
   "source": [
    "### Обучение модели и получение предсказаний на валидационной выборке."
   ]
  },
  {
   "cell_type": "markdown",
   "metadata": {},
   "source": [
    "Напишем функцию обучения модели линейной регрессии получающей на вход обучающие и валидационные признаки и целевые признаки, а возвращающую модели, предсказания, RMSE и среднее значение предсказанного целевого признака."
   ]
  },
  {
   "cell_type": "code",
   "execution_count": 34,
   "metadata": {},
   "outputs": [],
   "source": [
    "def lin_r_result(x_train, y_train, x_valid, y_valid):    \n",
    "    model = LinearRegression()\n",
    "    model.fit(x_train, y_train)\n",
    "    predict = model.predict(x_valid)\n",
    "    rmse = mean_squared_error(y_valid, predict)** 0.5\n",
    "    mean = predict.mean()\n",
    "    return model, predict, rmse, mean"
   ]
  },
  {
   "cell_type": "markdown",
   "metadata": {},
   "source": [
    "Применим функцию для для трех регионов, обучать и проверять модель будет на масштабированных признаках. Сохраним результы в списках:\n",
    "- model_yy - обученные модели\n",
    "- predict_yy - предсказания целевого признака\n",
    "- rmse_yy - квадратный корень из среднеквадратичной ошибки (RMSE)\n",
    "- mean_yy - среднее значение предсказанного целевого признака в датасете"
   ]
  },
  {
   "cell_type": "code",
   "execution_count": 35,
   "metadata": {},
   "outputs": [],
   "source": [
    "model_yy = []\n",
    "predict_yy = []\n",
    "rmse_yy = []\n",
    "mean_yy = []\n",
    "for i in range(len(xx)):\n",
    "    model, predict, rmse, mean = lin_r_result(xx_train_scaled[i], yy_train[i], xx_valid_scaled[i], yy_valid[i])\n",
    "    model_yy.append(model)\n",
    "    predict_yy.append(predict)\n",
    "    rmse_yy.append(rmse)\n",
    "    mean_yy.append(mean)\n",
    "    "
   ]
  },
  {
   "cell_type": "markdown",
   "metadata": {},
   "source": [
    "Сведем данные по RMSE и среднему значению предсказанного целевого признака (объём запасов в скважине в тыс. баррелей) для каждого региона в один датафрейм для наглядности."
   ]
  },
  {
   "cell_type": "code",
   "execution_count": 36,
   "metadata": {},
   "outputs": [
    {
     "data": {
      "text/html": [
       "<div>\n",
       "<style scoped>\n",
       "    .dataframe tbody tr th:only-of-type {\n",
       "        vertical-align: middle;\n",
       "    }\n",
       "\n",
       "    .dataframe tbody tr th {\n",
       "        vertical-align: top;\n",
       "    }\n",
       "\n",
       "    .dataframe thead th {\n",
       "        text-align: right;\n",
       "    }\n",
       "</style>\n",
       "<table border=\"1\" class=\"dataframe\">\n",
       "  <thead>\n",
       "    <tr style=\"text-align: right;\">\n",
       "      <th></th>\n",
       "      <th>rmse</th>\n",
       "      <th>mean_predict</th>\n",
       "    </tr>\n",
       "  </thead>\n",
       "  <tbody>\n",
       "    <tr>\n",
       "      <td>region_1</td>\n",
       "      <td>37.853527</td>\n",
       "      <td>92.789156</td>\n",
       "    </tr>\n",
       "    <tr>\n",
       "      <td>region_2</td>\n",
       "      <td>0.892059</td>\n",
       "      <td>69.178320</td>\n",
       "    </tr>\n",
       "    <tr>\n",
       "      <td>region_3</td>\n",
       "      <td>40.075851</td>\n",
       "      <td>94.865725</td>\n",
       "    </tr>\n",
       "  </tbody>\n",
       "</table>\n",
       "</div>"
      ],
      "text/plain": [
       "               rmse  mean_predict\n",
       "region_1  37.853527     92.789156\n",
       "region_2   0.892059     69.178320\n",
       "region_3  40.075851     94.865725"
      ]
     },
     "execution_count": 36,
     "metadata": {},
     "output_type": "execute_result"
    }
   ],
   "source": [
    "index= ['rmse', 'mean_predict']\n",
    "columns = ['region_1','region_2','region_3']\n",
    "result = pd.DataFrame(data = [rmse_yy, mean_yy], columns = columns, index = index).T\n",
    "result"
   ]
  },
  {
   "cell_type": "markdown",
   "metadata": {},
   "source": [
    "Сохраним предсказания и правильные ответы на валидационной выборке для каждого региона в один список датафреймов - df_predict_product.\n"
   ]
  },
  {
   "cell_type": "code",
   "execution_count": 37,
   "metadata": {},
   "outputs": [],
   "source": [
    "df_predict_product = []\n",
    "for i in range(len(xx)):\n",
    "    d=yy_valid[i].join(pd.DataFrame(data= predict_yy[i], columns = ['predict'], index=list(yy_valid[i].index)))\n",
    "    df_predict_product.append(d)"
   ]
  },
  {
   "cell_type": "markdown",
   "metadata": {},
   "source": [
    "Для наглядности выведем первые 5 строк получившегося датафрейма для первого региона."
   ]
  },
  {
   "cell_type": "code",
   "execution_count": 38,
   "metadata": {},
   "outputs": [
    {
     "data": {
      "text/html": [
       "<div>\n",
       "<style scoped>\n",
       "    .dataframe tbody tr th:only-of-type {\n",
       "        vertical-align: middle;\n",
       "    }\n",
       "\n",
       "    .dataframe tbody tr th {\n",
       "        vertical-align: top;\n",
       "    }\n",
       "\n",
       "    .dataframe thead th {\n",
       "        text-align: right;\n",
       "    }\n",
       "</style>\n",
       "<table border=\"1\" class=\"dataframe\">\n",
       "  <thead>\n",
       "    <tr style=\"text-align: right;\">\n",
       "      <th></th>\n",
       "      <th>product</th>\n",
       "      <th>predict</th>\n",
       "    </tr>\n",
       "  </thead>\n",
       "  <tbody>\n",
       "    <tr>\n",
       "      <td>49468</td>\n",
       "      <td>123.566299</td>\n",
       "      <td>103.950372</td>\n",
       "    </tr>\n",
       "    <tr>\n",
       "      <td>55496</td>\n",
       "      <td>63.442039</td>\n",
       "      <td>73.687869</td>\n",
       "    </tr>\n",
       "    <tr>\n",
       "      <td>11690</td>\n",
       "      <td>88.718000</td>\n",
       "      <td>101.015288</td>\n",
       "    </tr>\n",
       "    <tr>\n",
       "      <td>13770</td>\n",
       "      <td>51.422060</td>\n",
       "      <td>94.048415</td>\n",
       "    </tr>\n",
       "    <tr>\n",
       "      <td>72395</td>\n",
       "      <td>102.569999</td>\n",
       "      <td>87.559552</td>\n",
       "    </tr>\n",
       "  </tbody>\n",
       "</table>\n",
       "</div>"
      ],
      "text/plain": [
       "          product     predict\n",
       "49468  123.566299  103.950372\n",
       "55496   63.442039   73.687869\n",
       "11690   88.718000  101.015288\n",
       "13770   51.422060   94.048415\n",
       "72395  102.569999   87.559552"
      ]
     },
     "execution_count": 38,
     "metadata": {},
     "output_type": "execute_result"
    }
   ],
   "source": [
    "df_predict_product[0].head(5)"
   ]
  },
  {
   "cell_type": "markdown",
   "metadata": {},
   "source": [
    "### Вывод"
   ]
  },
  {
   "cell_type": "markdown",
   "metadata": {},
   "source": [
    "- данные разделены на обучающую и валидационную выборки в соотношении 75/25;\n",
    "- признаки смасштабированны методом стандартизации;\n",
    "- модели линейной регрессии обучены и получены предсказация и метрики. Значения RMSE и среднее предсказанное значение для каждого региона сведены в датафрейм result;  \n",
    "- наименьший RMSE и среднее значение предсказанного целевого признака у второго региона, равные 0,89 и 69 соответственно. Для первого и второго региона значения RMSE и среднего предсказания находятся в диапазоне 38-40 и 93-95 соответственно;\n",
    "- предсказания и правильные ответы для валидационной выборки каждого датасета сохранены с список df_predict_product.  \n",
    "\n",
    "Второй регион снова выделяется на фоне остальных."
   ]
  },
  {
   "cell_type": "markdown",
   "metadata": {},
   "source": [
    "## Подготовка к расчёту прибыли"
   ]
  },
  {
   "cell_type": "markdown",
   "metadata": {},
   "source": [
    "Сохраним все ключевые значения для расчётов в отдельных переменных.\n"
   ]
  },
  {
   "cell_type": "code",
   "execution_count": 39,
   "metadata": {},
   "outputs": [],
   "source": [
    "budget = 10*10**9 #бюждет на разработку скважин в регионе в рублях \n",
    "bore_explore = 500 #количество исслудуемых точек в регионе  \n",
    "best_bore = 200 #количество лучших точек для разработки \n",
    "barrel_cost = 450*10**3 #стоимость тысячи барелей в рублях \n",
    "probability_of_loss = 0.025 #лимит вероятности убытков"
   ]
  },
  {
   "cell_type": "markdown",
   "metadata": {},
   "source": [
    "**Рассчитаем достаточный объём сырья для безубыточной разработки новой скважины. Сравним полученный объём сырья со средним запасом в каждом регионе.**"
   ]
  },
  {
   "cell_type": "code",
   "execution_count": 40,
   "metadata": {},
   "outputs": [
    {
     "data": {
      "text/plain": [
       "111.1"
      ]
     },
     "execution_count": 40,
     "metadata": {},
     "output_type": "execute_result"
    }
   ],
   "source": [
    "min_volume = round(budget / (best_bore * barrel_cost), 1)\n",
    "min_volume"
   ]
  },
  {
   "cell_type": "markdown",
   "metadata": {},
   "source": [
    "Напишем функцию строки для добавления колонки с разностью среднего предсказанного объёма сырья и минимально окупаемым объёмом сырья."
   ]
  },
  {
   "cell_type": "code",
   "execution_count": 41,
   "metadata": {},
   "outputs": [],
   "source": [
    "def min_volume_vs_mean(row):\n",
    "    payback = row['mean_predict'] - min_volume\n",
    "    return payback   "
   ]
  },
  {
   "cell_type": "markdown",
   "metadata": {},
   "source": [
    "Применяем на датафрейме с результатами."
   ]
  },
  {
   "cell_type": "code",
   "execution_count": 42,
   "metadata": {},
   "outputs": [
    {
     "data": {
      "text/html": [
       "<div>\n",
       "<style scoped>\n",
       "    .dataframe tbody tr th:only-of-type {\n",
       "        vertical-align: middle;\n",
       "    }\n",
       "\n",
       "    .dataframe tbody tr th {\n",
       "        vertical-align: top;\n",
       "    }\n",
       "\n",
       "    .dataframe thead th {\n",
       "        text-align: right;\n",
       "    }\n",
       "</style>\n",
       "<table border=\"1\" class=\"dataframe\">\n",
       "  <thead>\n",
       "    <tr style=\"text-align: right;\">\n",
       "      <th></th>\n",
       "      <th>rmse</th>\n",
       "      <th>mean_predict</th>\n",
       "      <th>mean_payback</th>\n",
       "    </tr>\n",
       "  </thead>\n",
       "  <tbody>\n",
       "    <tr>\n",
       "      <td>region_1</td>\n",
       "      <td>37.853527</td>\n",
       "      <td>92.789156</td>\n",
       "      <td>-18.310844</td>\n",
       "    </tr>\n",
       "    <tr>\n",
       "      <td>region_2</td>\n",
       "      <td>0.892059</td>\n",
       "      <td>69.178320</td>\n",
       "      <td>-41.921680</td>\n",
       "    </tr>\n",
       "    <tr>\n",
       "      <td>region_3</td>\n",
       "      <td>40.075851</td>\n",
       "      <td>94.865725</td>\n",
       "      <td>-16.234275</td>\n",
       "    </tr>\n",
       "  </tbody>\n",
       "</table>\n",
       "</div>"
      ],
      "text/plain": [
       "               rmse  mean_predict  mean_payback\n",
       "region_1  37.853527     92.789156    -18.310844\n",
       "region_2   0.892059     69.178320    -41.921680\n",
       "region_3  40.075851     94.865725    -16.234275"
      ]
     },
     "execution_count": 42,
     "metadata": {},
     "output_type": "execute_result"
    }
   ],
   "source": [
    "result['mean_payback'] = result.apply(min_volume_vs_mean, axis=1)\n",
    "result"
   ]
  },
  {
   "cell_type": "markdown",
   "metadata": {},
   "source": [
    "### Вывод по этапу подготовки расчёта прибыли."
   ]
  },
  {
   "cell_type": "markdown",
   "metadata": {},
   "source": [
    "Для безубыточной разработки новый скважины объём сырья должен быть не менее 111,1 тыс барелей. Средние значения предсказанного объёма сырья в каждом из регионов не превышают этого значения. "
   ]
  },
  {
   "cell_type": "markdown",
   "metadata": {},
   "source": [
    "## Расчёт прибыли и рисков "
   ]
  },
  {
   "cell_type": "markdown",
   "metadata": {},
   "source": [
    "Напишем функцию для расчёта прибыли в млн. рублей по выбранным скважинам и предсказаниям модели:\n",
    "- выберем скважины с максимальными значениями предсказаний;\n",
    "- просуммируем целевое значение объёма сырья, соответствующее этим предсказаниям;\n",
    "- рассчитаем прибыль для полученного объёма сырья (с учетом затрат на разработку скважин)."
   ]
  },
  {
   "cell_type": "code",
   "execution_count": 43,
   "metadata": {},
   "outputs": [],
   "source": [
    "def profit(df, count):\n",
    "    top = df.sort_values(by='predict', ascending=False).head(count)\n",
    "    sum_profit = round(((top['product'].sum() * barrel_cost) - budget) /10**6, 3)    \n",
    "    return sum_profit "
   ]
  },
  {
   "cell_type": "markdown",
   "metadata": {},
   "source": [
    "Так же напишем функцию для добавления постфиксов в строковые элементы списка."
   ]
  },
  {
   "cell_type": "code",
   "execution_count": 44,
   "metadata": {},
   "outputs": [],
   "source": [
    "def postfix(user_list, postfix_name):\n",
    "    new_list=[]\n",
    "    for column in user_list:\n",
    "        column = column+postfix_name\n",
    "        new_list.append(column)\n",
    "    return new_list"
   ]
  },
  {
   "cell_type": "markdown",
   "metadata": {},
   "source": [
    "## Посчитаем риски и прибыль для каждого региона\n"
   ]
  },
  {
   "cell_type": "markdown",
   "metadata": {},
   "source": [
    "Применим технику Bootstrap с 1000 выборок, чтобы найти распределение прибыли.\n",
    "При использованиии Bootstrap для каждого региона заполним списки:\n",
    "- profit_total со средними значениями дохода каждой подвыборки\n",
    "- lower_list - 2.5% квантиль средней прибыли\n",
    "- high_list - 97.5% квантиль средней прибыли (вместе с lower_list образуют 95% доверительный интервал для значения средней прибыли)\n",
    "- probability_loss_list - вероятность убытков"
   ]
  },
  {
   "cell_type": "markdown",
   "metadata": {},
   "source": [
    "Кроме этого для каждого региона визуализуем распределение средней прибыли, 95% доверительный интервал и расчетную истинную среднюю прибыль ТОП-200 из 500 скважин.   "
   ]
  },
  {
   "cell_type": "code",
   "execution_count": 45,
   "metadata": {},
   "outputs": [],
   "source": [
    "state = np.random.RandomState(12345)"
   ]
  },
  {
   "cell_type": "code",
   "execution_count": 46,
   "metadata": {
    "scrolled": true
   },
   "outputs": [
    {
     "data": {
      "image/png": "[encoded data removed]",
      "text/plain": [
       "<Figure size 1152x576 with 1 Axes>"
      ]
     },
     "metadata": {
      "needs_background": "light"
     },
     "output_type": "display_data"
    }
   ],
   "source": [
    "profit_total = []\n",
    "lower_list = []\n",
    "high_list = []\n",
    "probability_loss_list = []\n",
    "\n",
    "plt.figure(figsize=(16,8))\n",
    "sns.set(rc={'axes.facecolor':'#e1e1e6'})\n",
    "for region in range(len(xx)):\n",
    "    df = df_predict_product[region]\n",
    "    profit_list =[]\n",
    "    for i in range(1000):\n",
    "        subsample = df.sample(n=bore_explore, replace=True, random_state=state)\n",
    "        subprofit = profit(subsample, best_bore)\n",
    "        profit_list.append(subprofit)\n",
    "    \n",
    "    profit_list = pd.Series(profit_list)    \n",
    "    profit_total.append(profit_list)\n",
    "    \n",
    "    lower = profit_list.quantile(0.025)\n",
    "    lower_list.append(lower)\n",
    "    high = profit_list.quantile(0.975)\n",
    "    high_list .append(high)\n",
    "    \n",
    "    probability_loss = ((profit_list) <= 0).mean()\n",
    "    probability_loss_list.append(probability_loss)\n",
    "   \n",
    "    sns.distplot(profit_list, label=result.index[region], hist=False)\n",
    "    plt.axvline(x=profit_list.mean(), color=(sns.color_palette()[region]), label=postfix(result.index, '_mean_profit')[region], ls='-', lw=2)\n",
    "    plt.axvline(x=lower, color=(sns.color_palette()[region]), label=postfix(result.index, '_2,5%_quantile')[region], ls='--')\n",
    "    plt.axvline(x=high, color=(sns.color_palette()[region]), label=postfix(result.index, '_97,5%_quantile')[region], ls=':', lw=2)\n",
    "plt.title('Top-200 mean profit distribution')\n",
    "plt.legend(title=\"Legend\")\n",
    "plt.xlabel(\"profit, million rub\")\n",
    "plt.ylabel(\"Frequency\")\n",
    "plt.show()"
   ]
  },
  {
   "cell_type": "markdown",
   "metadata": {},
   "source": [
    "Выведем датафрейм со средней прибылью топ-200 из 500 скважин по каждому региону. "
   ]
  },
  {
   "cell_type": "code",
   "execution_count": 47,
   "metadata": {
    "scrolled": false
   },
   "outputs": [
    {
     "data": {
      "text/html": [
       "<div>\n",
       "<style scoped>\n",
       "    .dataframe tbody tr th:only-of-type {\n",
       "        vertical-align: middle;\n",
       "    }\n",
       "\n",
       "    .dataframe tbody tr th {\n",
       "        vertical-align: top;\n",
       "    }\n",
       "\n",
       "    .dataframe thead th {\n",
       "        text-align: right;\n",
       "    }\n",
       "</style>\n",
       "<table border=\"1\" class=\"dataframe\">\n",
       "  <thead>\n",
       "    <tr style=\"text-align: right;\">\n",
       "      <th></th>\n",
       "      <th>region_1</th>\n",
       "      <th>region_2</th>\n",
       "      <th>region_3</th>\n",
       "    </tr>\n",
       "  </thead>\n",
       "  <tbody>\n",
       "    <tr>\n",
       "      <td>0</td>\n",
       "      <td>687.121</td>\n",
       "      <td>541.939</td>\n",
       "      <td>859.164</td>\n",
       "    </tr>\n",
       "    <tr>\n",
       "      <td>1</td>\n",
       "      <td>276.226</td>\n",
       "      <td>503.375</td>\n",
       "      <td>363.997</td>\n",
       "    </tr>\n",
       "    <tr>\n",
       "      <td>2</td>\n",
       "      <td>638.001</td>\n",
       "      <td>72.454</td>\n",
       "      <td>531.954</td>\n",
       "    </tr>\n",
       "    <tr>\n",
       "      <td>3</td>\n",
       "      <td>750.256</td>\n",
       "      <td>267.948</td>\n",
       "      <td>219.869</td>\n",
       "    </tr>\n",
       "    <tr>\n",
       "      <td>4</td>\n",
       "      <td>274.891</td>\n",
       "      <td>658.874</td>\n",
       "      <td>445.662</td>\n",
       "    </tr>\n",
       "    <tr>\n",
       "      <td>...</td>\n",
       "      <td>...</td>\n",
       "      <td>...</td>\n",
       "      <td>...</td>\n",
       "    </tr>\n",
       "    <tr>\n",
       "      <td>995</td>\n",
       "      <td>243.382</td>\n",
       "      <td>446.338</td>\n",
       "      <td>474.314</td>\n",
       "    </tr>\n",
       "    <tr>\n",
       "      <td>996</td>\n",
       "      <td>602.746</td>\n",
       "      <td>342.091</td>\n",
       "      <td>253.526</td>\n",
       "    </tr>\n",
       "    <tr>\n",
       "      <td>997</td>\n",
       "      <td>656.055</td>\n",
       "      <td>260.111</td>\n",
       "      <td>218.987</td>\n",
       "    </tr>\n",
       "    <tr>\n",
       "      <td>998</td>\n",
       "      <td>-2.713</td>\n",
       "      <td>668.889</td>\n",
       "      <td>540.356</td>\n",
       "    </tr>\n",
       "    <tr>\n",
       "      <td>999</td>\n",
       "      <td>206.422</td>\n",
       "      <td>666.090</td>\n",
       "      <td>283.932</td>\n",
       "    </tr>\n",
       "  </tbody>\n",
       "</table>\n",
       "<p>1000 rows × 3 columns</p>\n",
       "</div>"
      ],
      "text/plain": [
       "     region_1  region_2  region_3\n",
       "0     687.121   541.939   859.164\n",
       "1     276.226   503.375   363.997\n",
       "2     638.001    72.454   531.954\n",
       "3     750.256   267.948   219.869\n",
       "4     274.891   658.874   445.662\n",
       "..        ...       ...       ...\n",
       "995   243.382   446.338   474.314\n",
       "996   602.746   342.091   253.526\n",
       "997   656.055   260.111   218.987\n",
       "998    -2.713   668.889   540.356\n",
       "999   206.422   666.090   283.932\n",
       "\n",
       "[1000 rows x 3 columns]"
      ]
     },
     "execution_count": 47,
     "metadata": {},
     "output_type": "execute_result"
    }
   ],
   "source": [
    "profit_df = pd.DataFrame(data = profit_total).T\n",
    "profit_df.columns = ['region_1', 'region_2','region_3']\n",
    "profit_df"
   ]
  },
  {
   "cell_type": "markdown",
   "metadata": {},
   "source": [
    "Актуализируем датафрем с результатами по каждому региону."
   ]
  },
  {
   "cell_type": "code",
   "execution_count": 48,
   "metadata": {},
   "outputs": [],
   "source": [
    "probability_loss = pd.DataFrame(probability_loss_list, columns= ['probability_loss'], index=result.index)\n",
    "lower = pd.DataFrame(lower_list, columns= ['0.025_qauntile'], index=result.index)\n",
    "high = pd.DataFrame(high_list, columns= ['0.975_qauntile'], index=result.index)\n",
    "mean = pd.DataFrame(profit_df.mean(), columns= ['mean_profit'], index=result.index)\n",
    "result=result.join([lower, high, probability_loss, mean]).round(3)"
   ]
  },
  {
   "cell_type": "markdown",
   "metadata": {},
   "source": [
    "Колонки в итоговом датафрейме:\n",
    "- **rmse** - квадратный корень из среднеквадратичной ошибки (RMSE)\n",
    "- **mean_predict** - среднее значение предсказаного объема сырья в регионе, тыс. барелей \n",
    "- **0.025_qauntile** - 2,5% квантиль средней прибыли топ-200 лучших по предсказаниям скважин из 500, млн. рублей\n",
    "- **0.975_qauntile** - 97,5% квантиль средней прибыли топ-200 лучших по предсказаниям скважин из 500, млн. рублей\n",
    "- **probability_loss** - вероятность убытков (стоимость разработки двухсот скважин больше прибыли от продажи сырья)\n",
    "- **mean_profit** - среднее значение прибыли для каждого региона"
   ]
  },
  {
   "cell_type": "code",
   "execution_count": 49,
   "metadata": {},
   "outputs": [
    {
     "data": {
      "text/html": [
       "<div>\n",
       "<style scoped>\n",
       "    .dataframe tbody tr th:only-of-type {\n",
       "        vertical-align: middle;\n",
       "    }\n",
       "\n",
       "    .dataframe tbody tr th {\n",
       "        vertical-align: top;\n",
       "    }\n",
       "\n",
       "    .dataframe thead th {\n",
       "        text-align: right;\n",
       "    }\n",
       "</style>\n",
       "<table border=\"1\" class=\"dataframe\">\n",
       "  <thead>\n",
       "    <tr style=\"text-align: right;\">\n",
       "      <th></th>\n",
       "      <th>rmse</th>\n",
       "      <th>mean_predict</th>\n",
       "      <th>mean_payback</th>\n",
       "      <th>0.025_qauntile</th>\n",
       "      <th>0.975_qauntile</th>\n",
       "      <th>probability_loss</th>\n",
       "      <th>mean_profit</th>\n",
       "    </tr>\n",
       "  </thead>\n",
       "  <tbody>\n",
       "    <tr>\n",
       "      <td>region_1</td>\n",
       "      <td>37.854</td>\n",
       "      <td>92.789</td>\n",
       "      <td>-18.311</td>\n",
       "      <td>-142.942</td>\n",
       "      <td>890.977</td>\n",
       "      <td>0.077</td>\n",
       "      <td>380.613</td>\n",
       "    </tr>\n",
       "    <tr>\n",
       "      <td>region_2</td>\n",
       "      <td>0.892</td>\n",
       "      <td>69.178</td>\n",
       "      <td>-41.922</td>\n",
       "      <td>73.849</td>\n",
       "      <td>917.954</td>\n",
       "      <td>0.006</td>\n",
       "      <td>479.160</td>\n",
       "    </tr>\n",
       "    <tr>\n",
       "      <td>region_3</td>\n",
       "      <td>40.076</td>\n",
       "      <td>94.866</td>\n",
       "      <td>-16.234</td>\n",
       "      <td>-216.265</td>\n",
       "      <td>811.061</td>\n",
       "      <td>0.124</td>\n",
       "      <td>315.442</td>\n",
       "    </tr>\n",
       "  </tbody>\n",
       "</table>\n",
       "</div>"
      ],
      "text/plain": [
       "            rmse  mean_predict  mean_payback  0.025_qauntile  0.975_qauntile  \\\n",
       "region_1  37.854        92.789       -18.311        -142.942         890.977   \n",
       "region_2   0.892        69.178       -41.922          73.849         917.954   \n",
       "region_3  40.076        94.866       -16.234        -216.265         811.061   \n",
       "\n",
       "          probability_loss  mean_profit  \n",
       "region_1             0.077      380.613  \n",
       "region_2             0.006      479.160  \n",
       "region_3             0.124      315.442  "
      ]
     },
     "execution_count": 49,
     "metadata": {},
     "output_type": "execute_result"
    }
   ],
   "source": [
    "result"
   ]
  },
  {
   "cell_type": "markdown",
   "metadata": {},
   "source": [
    "### Вывод "
   ]
  },
  {
   "cell_type": "markdown",
   "metadata": {},
   "source": [
    "Результаты приведены в таблице выше.\n",
    "- Второй регион единственный из трёх имеет вероятность убытков меньше 2,5%. Для первого региона вероятность убытков около 7%, для третьего около 12%. \n",
    "- Средняя прибыль больше всего так же у второго региона и составляет более 479 млн. руб. Первый и третий регион имеют среднюю прибыль около 380 и 315 млн. рублей соответственно."
   ]
  },
  {
   "cell_type": "markdown",
   "metadata": {},
   "source": [
    "## Общие выводы"
   ]
  },
  {
   "cell_type": "markdown",
   "metadata": {},
   "source": [
    "Исследованы датасеты, для трех регионов предполагаемой добычи нефти. Выделены признаки f0, f1, f2, и целевой признак product. Признаки разных регионов имеют разное распределение.  \n",
    "\n",
    "Наибольшее внимание вызывает второй датасет, в котором целевые признаки системно сгруппированы, а так же имеется очень сильная положительная корреляция между признаком f2 и целевым признаком product k=0.99994.  \n",
    "\n",
    "Во всех датасетах обнаружены дублирующиеся id, которые были удалены. Всего это 4-10 объектов в каждом датасете или менее 0,01% данных.  \n",
    "\n",
    "После разделения датасетов на обучающую и валидационную выборки в соотношении 75/25 и стандартизации признаков произведено обучение моделей линейной регрессии.\n",
    "- Наименьший RMSE и среднее значение предсказанного целевого признака у второго региона, равные 0,89 и 69 соответственно. \n",
    "- Для первого и второго региона значения RMSE и среднего предсказания находятся в диапазоне 38-40 и 93-95 соответственно.  \n",
    "Причина низкого среднеквадратичного отклонения второго региона можно объяснить наличием очень сильной линенйной корреляции признака f2 и целевого признака. \n",
    "\n",
    "Для безубыточной разработки новый скважины объём сырья должен быть не менее 111,1 тыс барелей. Средние значения предсказанного объёма сырья в каждом из регионов не превышают этого значения.  \n",
    "\n",
    "Условие задачи предполагает исследование 500 скважин и выбор из них 200 лучших с помощью машинного обучения для дальнейшей разработки. В связи с этим техникой Boostrap проведен анализ возможной прибыли и рисков разработки меторождений каждого региона. Вероятность убытков должна составлять менее 2,5%.\n",
    "- Второй регион единственный из трёх имеет вероятность убытков меньше 2,5%. Для первого региона вероятность убытков около 7%, для третьего около 12%.\n",
    "\n",
    "- Средняя прибыль больше всего так же у второго региона и составляет 479,1 млн. руб. Первый и третий регион имеют среднюю прибыль 380 и 315 млн. рублей соответственно.  \n",
    "\n",
    "Технически заданным условиями для разработки соотствует только второй регион. Он имеет уровень рисков менее 2,5% и самую высокую среднюю прибыль 200 лучших скважин из 500 исследованных. Однако в исходных данных (пункт 1.2) имеются существенные странности, способные повлиять на принятие решения. \n",
    "- У признака f2 гистограмма имеет вид столбчатой диаграммы со значениями 0, 1, 2, 3, 4, 5;\n",
    "- Целевой признак так же имеет вид столбчатой диаграммы, но с парой пиков в каждом значении около 0, 30, 55, 80, 110, 135. При этом интервалы между парами ближайших значений и между пиками  одиннаковые с точностью до 8 знака после запятой. Можно предположить, что исходный датасет был заранее предобработан и сгруппирован.  \n",
    "В связи с этим рекомендуется уточнить корректность исходных данных второго датасета и в случае корректности принять его для дальнейшей работы.\n",
    "\n"
   ]
  }
 ],
 "metadata": {
  "ExecuteTimeLog": [
   {
    "duration": 390,
    "start_time": "2021-06-16T09:41:31.310Z"
   },
   {
    "duration": 1548,
    "start_time": "2021-06-16T09:42:12.621Z"
   },
   {
    "duration": 472,
    "start_time": "2021-06-16T09:42:14.171Z"
   },
   {
    "duration": 283,
    "start_time": "2021-06-16T09:43:04.892Z"
   },
   {
    "duration": 470,
    "start_time": "2021-06-16T09:43:34.571Z"
   },
   {
    "duration": 491,
    "start_time": "2021-06-16T10:02:37.143Z"
   },
   {
    "duration": 424,
    "start_time": "2021-06-16T10:02:46.269Z"
   },
   {
    "duration": 14,
    "start_time": "2021-06-16T10:02:47.485Z"
   },
   {
    "duration": 51,
    "start_time": "2021-06-16T10:03:12.247Z"
   },
   {
    "duration": 66,
    "start_time": "2021-06-16T10:05:29.116Z"
   },
   {
    "duration": 14,
    "start_time": "2021-06-16T10:06:36.923Z"
   },
   {
    "duration": 63,
    "start_time": "2021-06-16T10:06:54.912Z"
   },
   {
    "duration": 51,
    "start_time": "2021-06-16T10:06:55.642Z"
   },
   {
    "duration": 14,
    "start_time": "2021-06-16T10:08:20.562Z"
   },
   {
    "duration": 70,
    "start_time": "2021-06-16T10:08:21.842Z"
   },
   {
    "duration": 63,
    "start_time": "2021-06-16T10:08:22.682Z"
   },
   {
    "duration": 29,
    "start_time": "2021-06-16T10:09:48.993Z"
   },
   {
    "duration": 6,
    "start_time": "2021-06-16T10:13:38.569Z"
   },
   {
    "duration": 381,
    "start_time": "2021-06-16T10:13:53.201Z"
   },
   {
    "duration": 352,
    "start_time": "2021-06-16T10:13:58.719Z"
   },
   {
    "duration": 363,
    "start_time": "2021-06-16T10:14:02.856Z"
   },
   {
    "duration": 5,
    "start_time": "2021-06-16T10:14:12.841Z"
   },
   {
    "duration": 385,
    "start_time": "2021-06-16T10:17:23.276Z"
   },
   {
    "duration": 335,
    "start_time": "2021-06-16T10:17:41.604Z"
   },
   {
    "duration": 289,
    "start_time": "2021-06-16T10:18:03.203Z"
   },
   {
    "duration": 258,
    "start_time": "2021-06-16T10:18:28.372Z"
   },
   {
    "duration": 360,
    "start_time": "2021-06-16T10:18:35.555Z"
   },
   {
    "duration": 369,
    "start_time": "2021-06-16T10:19:42.429Z"
   },
   {
    "duration": 104,
    "start_time": "2021-06-16T10:20:47.297Z"
   },
   {
    "duration": 312,
    "start_time": "2021-06-16T10:20:52.106Z"
   },
   {
    "duration": 301,
    "start_time": "2021-06-16T10:21:01.521Z"
   },
   {
    "duration": 272,
    "start_time": "2021-06-16T10:21:22.009Z"
   },
   {
    "duration": 284,
    "start_time": "2021-06-16T10:21:36.588Z"
   },
   {
    "duration": 6,
    "start_time": "2021-06-16T10:22:48.378Z"
   },
   {
    "duration": 6,
    "start_time": "2021-06-16T10:22:54.208Z"
   },
   {
    "duration": 7,
    "start_time": "2021-06-16T10:23:09.712Z"
   },
   {
    "duration": 285,
    "start_time": "2021-06-16T10:23:26.464Z"
   },
   {
    "duration": 279,
    "start_time": "2021-06-16T10:23:47.543Z"
   },
   {
    "duration": 330,
    "start_time": "2021-06-16T10:24:31.760Z"
   },
   {
    "duration": 258,
    "start_time": "2021-06-16T10:24:48.633Z"
   },
   {
    "duration": 282,
    "start_time": "2021-06-16T10:31:00.980Z"
   },
   {
    "duration": 366,
    "start_time": "2021-06-16T10:34:23.842Z"
   },
   {
    "duration": 378,
    "start_time": "2021-06-16T10:34:43.097Z"
   },
   {
    "duration": 368,
    "start_time": "2021-06-16T10:35:53.191Z"
   },
   {
    "duration": 27,
    "start_time": "2021-06-16T10:36:20.553Z"
   },
   {
    "duration": 112,
    "start_time": "2021-06-16T10:37:27.479Z"
   },
   {
    "duration": 333,
    "start_time": "2021-06-16T10:38:19.406Z"
   },
   {
    "duration": 1289,
    "start_time": "2021-06-16T10:42:45.725Z"
   },
   {
    "duration": 384,
    "start_time": "2021-06-16T10:43:01.380Z"
   },
   {
    "duration": 14,
    "start_time": "2021-06-16T10:43:02.338Z"
   },
   {
    "duration": 47,
    "start_time": "2021-06-16T10:43:02.876Z"
   },
   {
    "duration": 2503,
    "start_time": "2021-06-16T10:48:37.441Z"
   },
   {
    "duration": 325,
    "start_time": "2021-06-16T10:51:36.006Z"
   },
   {
    "duration": 5,
    "start_time": "2021-06-16T10:51:37.924Z"
   },
   {
    "duration": 6,
    "start_time": "2021-06-16T10:51:38.972Z"
   },
   {
    "duration": 667,
    "start_time": "2021-06-16T10:51:41.372Z"
   },
   {
    "duration": 479,
    "start_time": "2021-06-16T10:52:16.974Z"
   },
   {
    "duration": 3557,
    "start_time": "2021-06-16T10:52:17.558Z"
   },
   {
    "duration": 5,
    "start_time": "2021-06-16T10:53:54.869Z"
   },
   {
    "duration": 2798,
    "start_time": "2021-06-16T10:53:55.749Z"
   },
   {
    "duration": 5,
    "start_time": "2021-06-16T10:54:48.324Z"
   },
   {
    "duration": 1449,
    "start_time": "2021-06-16T10:54:50.813Z"
   },
   {
    "duration": 5,
    "start_time": "2021-06-16T10:55:03.148Z"
   },
   {
    "duration": 2840,
    "start_time": "2021-06-16T10:55:03.922Z"
   },
   {
    "duration": 5,
    "start_time": "2021-06-16T10:55:13.307Z"
   },
   {
    "duration": 2945,
    "start_time": "2021-06-16T10:55:15.981Z"
   },
   {
    "duration": 4,
    "start_time": "2021-06-16T10:56:11.084Z"
   },
   {
    "duration": 14594,
    "start_time": "2021-06-16T10:57:18.168Z"
   },
   {
    "duration": 5,
    "start_time": "2021-06-16T11:01:08.920Z"
   },
   {
    "duration": 6,
    "start_time": "2021-06-16T11:01:21.170Z"
   },
   {
    "duration": 5,
    "start_time": "2021-06-16T11:01:29.870Z"
   },
   {
    "duration": 5,
    "start_time": "2021-06-16T11:02:00.286Z"
   },
   {
    "duration": 788,
    "start_time": "2021-06-16T11:02:03.215Z"
   },
   {
    "duration": 4,
    "start_time": "2021-06-16T11:02:12.293Z"
   },
   {
    "duration": 645,
    "start_time": "2021-06-16T11:02:13.117Z"
   },
   {
    "duration": 5,
    "start_time": "2021-06-16T11:02:57.095Z"
   },
   {
    "duration": 673,
    "start_time": "2021-06-16T11:02:57.758Z"
   },
   {
    "duration": 1313,
    "start_time": "2021-06-16T11:03:47.463Z"
   },
   {
    "duration": 106009,
    "start_time": "2021-06-16T11:04:02.009Z"
   },
   {
    "duration": 5998,
    "start_time": "2021-06-16T11:20:57.873Z"
   },
   {
    "duration": 3014,
    "start_time": "2021-06-16T11:21:27.106Z"
   },
   {
    "duration": 2477,
    "start_time": "2021-06-16T11:21:47.777Z"
   },
   {
    "duration": 3561,
    "start_time": "2021-06-16T11:25:08.447Z"
   },
   {
    "duration": 3599,
    "start_time": "2021-06-16T11:26:49.469Z"
   },
   {
    "duration": 3318,
    "start_time": "2021-06-16T11:28:04.956Z"
   },
   {
    "duration": 3261,
    "start_time": "2021-06-16T11:28:22.005Z"
   },
   {
    "duration": 8847,
    "start_time": "2021-06-16T11:33:14.882Z"
   },
   {
    "duration": 989,
    "start_time": "2021-06-16T11:34:15.048Z"
   },
   {
    "duration": 1040,
    "start_time": "2021-06-16T11:34:19.881Z"
   },
   {
    "duration": 1037,
    "start_time": "2021-06-16T11:35:01.616Z"
   },
   {
    "duration": 1017,
    "start_time": "2021-06-16T11:35:10.695Z"
   },
   {
    "duration": 1033,
    "start_time": "2021-06-16T11:35:52.279Z"
   },
   {
    "duration": 1019,
    "start_time": "2021-06-16T11:36:19.103Z"
   },
   {
    "duration": 1062,
    "start_time": "2021-06-16T11:37:23.134Z"
   },
   {
    "duration": 997,
    "start_time": "2021-06-16T11:38:04.686Z"
   },
   {
    "duration": 809,
    "start_time": "2021-06-16T11:38:10.469Z"
   },
   {
    "duration": 411,
    "start_time": "2021-06-16T11:39:23.443Z"
   },
   {
    "duration": 474,
    "start_time": "2021-06-16T11:39:31.580Z"
   },
   {
    "duration": 3537,
    "start_time": "2021-06-16T11:39:44.820Z"
   },
   {
    "duration": 2473,
    "start_time": "2021-06-16T11:40:13.996Z"
   },
   {
    "duration": 3668,
    "start_time": "2021-06-16T11:40:23.909Z"
   },
   {
    "duration": 1769,
    "start_time": "2021-06-16T11:41:51.538Z"
   },
   {
    "duration": 2280,
    "start_time": "2021-06-16T11:42:05.437Z"
   },
   {
    "duration": 2301,
    "start_time": "2021-06-16T11:43:06.067Z"
   },
   {
    "duration": 2306,
    "start_time": "2021-06-16T11:43:51.715Z"
   },
   {
    "duration": 3667,
    "start_time": "2021-06-16T11:44:03.378Z"
   },
   {
    "duration": 3677,
    "start_time": "2021-06-16T11:46:37.463Z"
   },
   {
    "duration": 4124,
    "start_time": "2021-06-16T11:46:50.902Z"
   },
   {
    "duration": 107,
    "start_time": "2021-06-16T11:52:24.659Z"
   },
   {
    "duration": 9,
    "start_time": "2021-06-16T11:52:33.147Z"
   },
   {
    "duration": 1058,
    "start_time": "2021-06-16T11:52:41.579Z"
   },
   {
    "duration": 8,
    "start_time": "2021-06-16T11:53:19.483Z"
   },
   {
    "duration": 1496,
    "start_time": "2021-06-16T11:53:20.501Z"
   },
   {
    "duration": 7,
    "start_time": "2021-06-16T11:53:38.317Z"
   },
   {
    "duration": 1104,
    "start_time": "2021-06-16T11:53:42.858Z"
   },
   {
    "duration": 8,
    "start_time": "2021-06-16T11:54:20.252Z"
   },
   {
    "duration": 2987,
    "start_time": "2021-06-16T11:54:22.138Z"
   },
   {
    "duration": 9,
    "start_time": "2021-06-16T11:55:04.059Z"
   },
   {
    "duration": 3009,
    "start_time": "2021-06-16T11:55:06.081Z"
   },
   {
    "duration": 9,
    "start_time": "2021-06-16T11:55:39.522Z"
   },
   {
    "duration": 4830,
    "start_time": "2021-06-16T11:55:40.801Z"
   },
   {
    "duration": 9,
    "start_time": "2021-06-16T11:56:05.478Z"
   },
   {
    "duration": 1103,
    "start_time": "2021-06-16T11:56:07.051Z"
   },
   {
    "duration": 9,
    "start_time": "2021-06-16T11:57:53.402Z"
   },
   {
    "duration": 5657,
    "start_time": "2021-06-16T11:57:54.145Z"
   },
   {
    "duration": 5475,
    "start_time": "2021-06-16T11:58:50.823Z"
   },
   {
    "duration": 9,
    "start_time": "2021-06-16T11:59:27.072Z"
   },
   {
    "duration": 5882,
    "start_time": "2021-06-16T11:59:28.474Z"
   },
   {
    "duration": 5408,
    "start_time": "2021-06-16T11:59:34.362Z"
   },
   {
    "duration": 9491,
    "start_time": "2021-06-16T12:00:26.503Z"
   },
   {
    "duration": 26,
    "start_time": "2021-06-16T12:00:43.870Z"
   },
   {
    "duration": 5814,
    "start_time": "2021-06-16T12:00:46.659Z"
   },
   {
    "duration": 1764,
    "start_time": "2021-06-16T12:49:32.822Z"
   },
   {
    "duration": 387,
    "start_time": "2021-06-16T12:49:34.588Z"
   },
   {
    "duration": 14,
    "start_time": "2021-06-16T12:49:34.978Z"
   },
   {
    "duration": 79,
    "start_time": "2021-06-16T12:49:34.996Z"
   },
   {
    "duration": 11,
    "start_time": "2021-06-16T12:49:35.077Z"
   },
   {
    "duration": 4142,
    "start_time": "2021-06-16T12:49:35.090Z"
   },
   {
    "duration": 355,
    "start_time": "2021-06-16T12:49:39.235Z"
   },
   {
    "duration": 15,
    "start_time": "2021-06-16T12:49:39.593Z"
   },
   {
    "duration": 74,
    "start_time": "2021-06-16T12:49:39.612Z"
   },
   {
    "duration": 4059,
    "start_time": "2021-06-16T12:49:39.689Z"
   },
   {
    "duration": 411,
    "start_time": "2021-06-16T12:49:43.751Z"
   },
   {
    "duration": 14,
    "start_time": "2021-06-16T12:49:44.165Z"
   },
   {
    "duration": 50,
    "start_time": "2021-06-16T12:49:44.182Z"
   },
   {
    "duration": 4251,
    "start_time": "2021-06-16T12:49:44.234Z"
   },
   {
    "duration": 357,
    "start_time": "2021-06-16T12:49:48.488Z"
   },
   {
    "duration": 367,
    "start_time": "2021-06-16T12:53:38.686Z"
   },
   {
    "duration": 34,
    "start_time": "2021-06-16T12:58:01.187Z"
   },
   {
    "duration": 25,
    "start_time": "2021-06-16T12:58:30.767Z"
   },
   {
    "duration": 475,
    "start_time": "2021-06-16T12:58:45.027Z"
   },
   {
    "duration": 22,
    "start_time": "2021-06-16T12:58:49.387Z"
   },
   {
    "duration": 109,
    "start_time": "2021-06-16T13:01:43.728Z"
   },
   {
    "duration": 20,
    "start_time": "2021-06-16T13:03:20.208Z"
   },
   {
    "duration": 69,
    "start_time": "2021-06-16T13:06:12.126Z"
   },
   {
    "duration": 84,
    "start_time": "2021-06-16T13:06:26.606Z"
   },
   {
    "duration": 30,
    "start_time": "2021-06-16T13:06:42.414Z"
   },
   {
    "duration": 32,
    "start_time": "2021-06-16T13:07:19.303Z"
   },
   {
    "duration": 61,
    "start_time": "2021-06-16T13:21:08.971Z"
   },
   {
    "duration": 14,
    "start_time": "2021-06-16T13:21:11.189Z"
   },
   {
    "duration": 289,
    "start_time": "2021-06-16T13:21:45.332Z"
   },
   {
    "duration": 60,
    "start_time": "2021-06-16T13:21:58.506Z"
   },
   {
    "duration": 13,
    "start_time": "2021-06-16T13:21:59.178Z"
   },
   {
    "duration": 63,
    "start_time": "2021-06-16T13:23:09.392Z"
   },
   {
    "duration": 14,
    "start_time": "2021-06-16T13:23:10.058Z"
   },
   {
    "duration": 13,
    "start_time": "2021-06-16T13:23:16.211Z"
   },
   {
    "duration": 52,
    "start_time": "2021-06-16T13:23:50.264Z"
   },
   {
    "duration": 14,
    "start_time": "2021-06-16T13:23:50.784Z"
   },
   {
    "duration": 103,
    "start_time": "2021-06-16T13:25:47.376Z"
   },
   {
    "duration": 14,
    "start_time": "2021-06-16T13:25:51.175Z"
   },
   {
    "duration": 104,
    "start_time": "2021-06-16T13:26:06.343Z"
   },
   {
    "duration": 13,
    "start_time": "2021-06-16T13:26:06.775Z"
   },
   {
    "duration": 92,
    "start_time": "2021-06-16T13:26:30.918Z"
   },
   {
    "duration": 14,
    "start_time": "2021-06-16T13:26:31.447Z"
   },
   {
    "duration": 14,
    "start_time": "2021-06-16T13:31:19.555Z"
   },
   {
    "duration": 98,
    "start_time": "2021-06-16T13:31:30.478Z"
   },
   {
    "duration": 14,
    "start_time": "2021-06-16T13:31:30.963Z"
   },
   {
    "duration": 46,
    "start_time": "2021-06-16T13:31:50.676Z"
   },
   {
    "duration": 17,
    "start_time": "2021-06-16T13:32:00.756Z"
   },
   {
    "duration": 93,
    "start_time": "2021-06-16T13:32:27.116Z"
   },
   {
    "duration": 15,
    "start_time": "2021-06-16T13:32:29.283Z"
   },
   {
    "duration": 16,
    "start_time": "2021-06-16T13:32:32.597Z"
   },
   {
    "duration": 6,
    "start_time": "2021-06-16T13:34:12.835Z"
   },
   {
    "duration": 20,
    "start_time": "2021-06-16T13:39:23.285Z"
   },
   {
    "duration": 18,
    "start_time": "2021-06-16T13:39:49.534Z"
   },
   {
    "duration": 18,
    "start_time": "2021-06-16T13:40:08.049Z"
   },
   {
    "duration": 7,
    "start_time": "2021-06-16T13:48:36.527Z"
   },
   {
    "duration": 10,
    "start_time": "2021-06-16T13:48:58.482Z"
   },
   {
    "duration": 340,
    "start_time": "2021-06-16T13:49:02.336Z"
   },
   {
    "duration": 651,
    "start_time": "2021-06-16T13:49:09.833Z"
   },
   {
    "duration": 658,
    "start_time": "2021-06-16T13:49:29.800Z"
   },
   {
    "duration": 17,
    "start_time": "2021-06-16T13:49:57.848Z"
   },
   {
    "duration": 6,
    "start_time": "2021-06-16T13:51:41.742Z"
   },
   {
    "duration": 579,
    "start_time": "2021-06-16T13:51:42.166Z"
   },
   {
    "duration": 7,
    "start_time": "2021-06-16T13:52:06.390Z"
   },
   {
    "duration": 568,
    "start_time": "2021-06-16T13:52:09.655Z"
   },
   {
    "duration": 7,
    "start_time": "2021-06-16T13:54:16.996Z"
   },
   {
    "duration": 580,
    "start_time": "2021-06-16T13:54:17.733Z"
   },
   {
    "duration": 359,
    "start_time": "2021-06-16T13:54:36.093Z"
   },
   {
    "duration": 6,
    "start_time": "2021-06-16T13:55:12.853Z"
   },
   {
    "duration": 336,
    "start_time": "2021-06-16T13:55:13.891Z"
   },
   {
    "duration": 663,
    "start_time": "2021-06-16T13:55:19.451Z"
   },
   {
    "duration": 6,
    "start_time": "2021-06-16T13:55:58.311Z"
   },
   {
    "duration": 565,
    "start_time": "2021-06-16T13:55:58.794Z"
   },
   {
    "duration": 6,
    "start_time": "2021-06-16T13:56:08.395Z"
   },
   {
    "duration": 796,
    "start_time": "2021-06-16T13:56:08.811Z"
   },
   {
    "duration": 9,
    "start_time": "2021-06-16T13:56:27.211Z"
   },
   {
    "duration": 743,
    "start_time": "2021-06-16T13:56:27.659Z"
   },
   {
    "duration": 764,
    "start_time": "2021-06-16T13:56:43.870Z"
   },
   {
    "duration": 5,
    "start_time": "2021-06-16T14:08:34.315Z"
   },
   {
    "duration": 7,
    "start_time": "2021-06-16T14:20:42.386Z"
   },
   {
    "duration": 594,
    "start_time": "2021-06-16T14:20:48.297Z"
   },
   {
    "duration": 577,
    "start_time": "2021-06-16T14:21:08.054Z"
   },
   {
    "duration": 564,
    "start_time": "2021-06-16T14:22:00.170Z"
   },
   {
    "duration": 2025,
    "start_time": "2021-06-16T14:26:58.956Z"
   },
   {
    "duration": 1066,
    "start_time": "2021-06-16T14:27:00.984Z"
   },
   {
    "duration": 290,
    "start_time": "2021-06-16T14:27:02.053Z"
   },
   {
    "duration": 106,
    "start_time": "2021-06-16T14:27:02.346Z"
   },
   {
    "duration": 10,
    "start_time": "2021-06-16T14:27:02.454Z"
   },
   {
    "duration": 20,
    "start_time": "2021-06-16T14:27:02.466Z"
   },
   {
    "duration": 14,
    "start_time": "2021-06-16T14:27:02.489Z"
   },
   {
    "duration": 98,
    "start_time": "2021-06-16T14:27:02.506Z"
   },
   {
    "duration": 8,
    "start_time": "2021-06-16T14:27:02.608Z"
   },
   {
    "duration": 14,
    "start_time": "2021-06-16T14:27:02.619Z"
   },
   {
    "duration": 4112,
    "start_time": "2021-06-16T14:27:02.635Z"
   },
   {
    "duration": 567,
    "start_time": "2021-06-16T14:27:06.750Z"
   },
   {
    "duration": 15,
    "start_time": "2021-06-16T14:27:07.320Z"
   },
   {
    "duration": 33,
    "start_time": "2021-06-16T14:27:07.337Z"
   },
   {
    "duration": 50,
    "start_time": "2021-06-16T14:27:07.372Z"
   },
   {
    "duration": 3827,
    "start_time": "2021-06-16T14:27:07.425Z"
   },
   {
    "duration": 547,
    "start_time": "2021-06-16T14:27:11.263Z"
   },
   {
    "duration": 14,
    "start_time": "2021-06-16T14:27:11.813Z"
   },
   {
    "duration": 42,
    "start_time": "2021-06-16T14:27:11.830Z"
   },
   {
    "duration": 48,
    "start_time": "2021-06-16T14:27:11.874Z"
   },
   {
    "duration": 4137,
    "start_time": "2021-06-16T14:27:11.925Z"
   },
   {
    "duration": 561,
    "start_time": "2021-06-16T14:27:16.064Z"
   },
   {
    "duration": 286,
    "start_time": "2021-06-16T14:32:46.563Z"
   },
   {
    "duration": 91,
    "start_time": "2021-06-16T14:32:49.970Z"
   },
   {
    "duration": 5,
    "start_time": "2021-06-16T14:32:52.065Z"
   },
   {
    "duration": 6,
    "start_time": "2021-06-16T14:33:28.138Z"
   },
   {
    "duration": 7,
    "start_time": "2021-06-16T14:44:36.020Z"
   },
   {
    "duration": 6,
    "start_time": "2021-06-16T14:44:55.226Z"
   },
   {
    "duration": 17,
    "start_time": "2021-06-16T14:45:01.202Z"
   },
   {
    "duration": 19,
    "start_time": "2021-06-16T14:45:33.345Z"
   },
   {
    "duration": 22,
    "start_time": "2021-06-16T14:52:17.716Z"
   },
   {
    "duration": 19,
    "start_time": "2021-06-16T14:52:25.852Z"
   },
   {
    "duration": 13,
    "start_time": "2021-06-16T14:53:22.029Z"
   },
   {
    "duration": 17,
    "start_time": "2021-06-16T14:53:22.707Z"
   },
   {
    "duration": 19,
    "start_time": "2021-06-16T14:53:32.231Z"
   },
   {
    "duration": 5,
    "start_time": "2021-06-16T14:54:14.868Z"
   },
   {
    "duration": 14,
    "start_time": "2021-06-16T15:11:16.565Z"
   },
   {
    "duration": 1647,
    "start_time": "2021-06-16T15:11:23.043Z"
   },
   {
    "duration": 2133,
    "start_time": "2021-06-16T15:11:24.693Z"
   },
   {
    "duration": 35,
    "start_time": "2021-06-16T15:11:26.830Z"
   },
   {
    "duration": 22,
    "start_time": "2021-06-16T15:11:26.868Z"
   },
   {
    "duration": 92,
    "start_time": "2021-06-16T15:11:26.893Z"
   },
   {
    "duration": 12,
    "start_time": "2021-06-16T15:11:26.988Z"
   },
   {
    "duration": 10,
    "start_time": "2021-06-16T15:11:27.003Z"
   },
   {
    "duration": 4122,
    "start_time": "2021-06-16T15:11:27.015Z"
   },
   {
    "duration": 578,
    "start_time": "2021-06-16T15:11:31.142Z"
   },
   {
    "duration": 39,
    "start_time": "2021-06-16T15:11:31.723Z"
   },
   {
    "duration": 18,
    "start_time": "2021-06-16T15:11:31.765Z"
   },
   {
    "duration": 62,
    "start_time": "2021-06-16T15:11:31.786Z"
   },
   {
    "duration": 3900,
    "start_time": "2021-06-16T15:11:31.862Z"
   },
   {
    "duration": 561,
    "start_time": "2021-06-16T15:11:35.765Z"
   },
   {
    "duration": 14,
    "start_time": "2021-06-16T15:11:36.329Z"
   },
   {
    "duration": 32,
    "start_time": "2021-06-16T15:11:36.346Z"
   },
   {
    "duration": 82,
    "start_time": "2021-06-16T15:11:36.381Z"
   },
   {
    "duration": 4080,
    "start_time": "2021-06-16T15:11:36.466Z"
   },
   {
    "duration": 569,
    "start_time": "2021-06-16T15:11:40.548Z"
   },
   {
    "duration": 297,
    "start_time": "2021-06-16T15:11:41.119Z"
   },
   {
    "duration": 116,
    "start_time": "2021-06-16T15:11:41.418Z"
   },
   {
    "duration": 4,
    "start_time": "2021-06-16T15:11:41.537Z"
   },
   {
    "duration": 29,
    "start_time": "2021-06-16T15:11:41.544Z"
   },
   {
    "duration": 18,
    "start_time": "2021-06-16T15:11:41.575Z"
   },
   {
    "duration": 8,
    "start_time": "2021-06-16T15:11:41.595Z"
   },
   {
    "duration": 15,
    "start_time": "2021-06-16T15:11:51.504Z"
   },
   {
    "duration": 14,
    "start_time": "2021-06-16T15:11:55.258Z"
   },
   {
    "duration": 17,
    "start_time": "2021-06-16T15:14:16.527Z"
   },
   {
    "duration": 15,
    "start_time": "2021-06-16T15:20:35.281Z"
   },
   {
    "duration": 13,
    "start_time": "2021-06-16T15:20:46.362Z"
   },
   {
    "duration": 8,
    "start_time": "2021-06-16T15:20:52.041Z"
   },
   {
    "duration": 486,
    "start_time": "2021-06-16T15:22:28.704Z"
   },
   {
    "duration": 302,
    "start_time": "2021-06-16T15:22:42.489Z"
   },
   {
    "duration": 6,
    "start_time": "2021-06-16T15:23:02.556Z"
   },
   {
    "duration": 4,
    "start_time": "2021-06-16T15:23:39.807Z"
   },
   {
    "duration": 6,
    "start_time": "2021-06-16T15:24:00.367Z"
   },
   {
    "duration": 11,
    "start_time": "2021-06-16T15:24:56.655Z"
   },
   {
    "duration": 6,
    "start_time": "2021-06-16T15:24:57.486Z"
   },
   {
    "duration": 7,
    "start_time": "2021-06-16T15:25:48.192Z"
   },
   {
    "duration": 15,
    "start_time": "2021-06-16T15:26:01.495Z"
   },
   {
    "duration": 8,
    "start_time": "2021-06-16T15:26:23.255Z"
   },
   {
    "duration": 11,
    "start_time": "2021-06-16T15:27:37.206Z"
   },
   {
    "duration": 339,
    "start_time": "2021-06-16T15:27:38.309Z"
   },
   {
    "duration": 8,
    "start_time": "2021-06-16T15:27:57.974Z"
   },
   {
    "duration": 8,
    "start_time": "2021-06-16T15:28:14.199Z"
   },
   {
    "duration": 321,
    "start_time": "2021-06-16T15:28:24.504Z"
   },
   {
    "duration": 8,
    "start_time": "2021-06-16T15:28:29.277Z"
   },
   {
    "duration": 15,
    "start_time": "2021-06-16T15:29:02.582Z"
   },
   {
    "duration": 15,
    "start_time": "2021-06-16T15:29:13.037Z"
   },
   {
    "duration": 5,
    "start_time": "2021-06-16T15:29:13.644Z"
   },
   {
    "duration": 16,
    "start_time": "2021-06-16T15:29:14.861Z"
   },
   {
    "duration": 6,
    "start_time": "2021-06-16T15:30:29.099Z"
   },
   {
    "duration": 7,
    "start_time": "2021-06-16T15:31:07.697Z"
   },
   {
    "duration": 7,
    "start_time": "2021-06-16T15:31:47.788Z"
   },
   {
    "duration": 7,
    "start_time": "2021-06-16T15:32:02.458Z"
   },
   {
    "duration": 33,
    "start_time": "2021-06-16T15:38:57.055Z"
   },
   {
    "duration": 47,
    "start_time": "2021-06-16T15:39:30.534Z"
   },
   {
    "duration": 7,
    "start_time": "2021-06-16T16:04:09.270Z"
   },
   {
    "duration": 21,
    "start_time": "2021-06-16T16:34:54.799Z"
   },
   {
    "duration": 9,
    "start_time": "2021-06-16T16:34:56.751Z"
   },
   {
    "duration": 3,
    "start_time": "2021-06-16T16:38:11.581Z"
   },
   {
    "duration": 19,
    "start_time": "2021-06-16T16:38:30.475Z"
   },
   {
    "duration": 8,
    "start_time": "2021-06-16T16:38:33.147Z"
   },
   {
    "duration": 4,
    "start_time": "2021-06-16T16:46:30.280Z"
   },
   {
    "duration": 4,
    "start_time": "2021-06-16T16:46:32.016Z"
   },
   {
    "duration": 662,
    "start_time": "2021-06-16T16:46:32.390Z"
   },
   {
    "duration": 4,
    "start_time": "2021-06-16T16:46:53.751Z"
   },
   {
    "duration": 4,
    "start_time": "2021-06-16T16:47:03.062Z"
   },
   {
    "duration": 21,
    "start_time": "2021-06-16T16:47:04.254Z"
   },
   {
    "duration": 5,
    "start_time": "2021-06-16T16:47:05.287Z"
   },
   {
    "duration": 5,
    "start_time": "2021-06-16T16:48:25.581Z"
   },
   {
    "duration": 4,
    "start_time": "2021-06-16T16:50:37.341Z"
   },
   {
    "duration": 19,
    "start_time": "2021-06-16T16:50:38.493Z"
   },
   {
    "duration": 5,
    "start_time": "2021-06-16T16:50:39.445Z"
   },
   {
    "duration": 4,
    "start_time": "2021-06-16T16:50:54.287Z"
   },
   {
    "duration": 5,
    "start_time": "2021-06-16T16:51:00.581Z"
   },
   {
    "duration": 309,
    "start_time": "2021-06-16T16:53:39.531Z"
   },
   {
    "duration": 120,
    "start_time": "2021-06-16T16:57:19.624Z"
   },
   {
    "duration": 116,
    "start_time": "2021-06-16T16:57:37.599Z"
   },
   {
    "duration": 5,
    "start_time": "2021-06-16T16:57:44.712Z"
   },
   {
    "duration": 5,
    "start_time": "2021-06-16T16:59:18.743Z"
   },
   {
    "duration": 19,
    "start_time": "2021-06-16T16:59:20.446Z"
   },
   {
    "duration": 4,
    "start_time": "2021-06-16T16:59:21.935Z"
   },
   {
    "duration": 21,
    "start_time": "2021-06-16T16:59:23.303Z"
   },
   {
    "duration": 18,
    "start_time": "2021-06-16T17:04:37.050Z"
   },
   {
    "duration": 5,
    "start_time": "2021-06-16T17:04:38.304Z"
   },
   {
    "duration": 19,
    "start_time": "2021-06-16T17:04:39.442Z"
   },
   {
    "duration": 5,
    "start_time": "2021-06-16T17:04:40.777Z"
   },
   {
    "duration": 24,
    "start_time": "2021-06-16T17:04:41.962Z"
   },
   {
    "duration": 5,
    "start_time": "2021-06-16T17:04:43.201Z"
   },
   {
    "duration": 36,
    "start_time": "2021-06-16T17:07:02.457Z"
   },
   {
    "duration": 6,
    "start_time": "2021-06-16T17:07:03.664Z"
   },
   {
    "duration": 4,
    "start_time": "2021-06-16T17:14:18.227Z"
   },
   {
    "duration": 141,
    "start_time": "2021-06-16T17:17:45.002Z"
   },
   {
    "duration": 123,
    "start_time": "2021-06-16T17:18:01.795Z"
   },
   {
    "duration": 4,
    "start_time": "2021-06-16T17:22:03.814Z"
   },
   {
    "duration": 382,
    "start_time": "2021-06-16T17:22:04.391Z"
   },
   {
    "duration": 807,
    "start_time": "2021-06-16T17:22:30.126Z"
   },
   {
    "duration": 4,
    "start_time": "2021-06-16T17:22:40.519Z"
   },
   {
    "duration": 6,
    "start_time": "2021-06-16T17:22:41.572Z"
   },
   {
    "duration": 6,
    "start_time": "2021-06-16T17:22:42.548Z"
   },
   {
    "duration": 4,
    "start_time": "2021-06-16T17:23:25.596Z"
   },
   {
    "duration": 10,
    "start_time": "2021-06-16T17:23:26.453Z"
   },
   {
    "duration": 6,
    "start_time": "2021-06-16T17:23:31.973Z"
   },
   {
    "duration": 4,
    "start_time": "2021-06-16T17:23:41.148Z"
   },
   {
    "duration": 5,
    "start_time": "2021-06-16T17:23:41.661Z"
   },
   {
    "duration": 8,
    "start_time": "2021-06-16T17:23:53.412Z"
   },
   {
    "duration": 6,
    "start_time": "2021-06-16T17:24:03.532Z"
   },
   {
    "duration": 331,
    "start_time": "2021-06-16T17:24:20.365Z"
   },
   {
    "duration": 318,
    "start_time": "2021-06-16T17:24:34.052Z"
   },
   {
    "duration": 331,
    "start_time": "2021-06-16T17:24:46.603Z"
   },
   {
    "duration": 5,
    "start_time": "2021-06-16T17:24:57.412Z"
   },
   {
    "duration": 5,
    "start_time": "2021-06-16T17:25:01.195Z"
   },
   {
    "duration": 6,
    "start_time": "2021-06-16T17:25:02.219Z"
   },
   {
    "duration": 373,
    "start_time": "2021-06-16T17:25:15.699Z"
   },
   {
    "duration": 6,
    "start_time": "2021-06-16T17:25:24.196Z"
   },
   {
    "duration": 4,
    "start_time": "2021-06-16T17:25:25.251Z"
   },
   {
    "duration": 7,
    "start_time": "2021-06-16T17:25:26.540Z"
   },
   {
    "duration": 4,
    "start_time": "2021-06-16T17:25:27.683Z"
   },
   {
    "duration": 9,
    "start_time": "2021-06-16T17:25:28.075Z"
   },
   {
    "duration": 5,
    "start_time": "2021-06-16T17:25:28.740Z"
   },
   {
    "duration": 5,
    "start_time": "2021-06-16T17:25:29.380Z"
   },
   {
    "duration": 5,
    "start_time": "2021-06-16T17:25:39.131Z"
   },
   {
    "duration": 5,
    "start_time": "2021-06-16T17:25:40.395Z"
   },
   {
    "duration": 354,
    "start_time": "2021-06-16T17:25:51.284Z"
   },
   {
    "duration": 7,
    "start_time": "2021-06-16T17:25:58.740Z"
   },
   {
    "duration": 7,
    "start_time": "2021-06-16T17:25:59.723Z"
   },
   {
    "duration": 5,
    "start_time": "2021-06-16T17:26:00.283Z"
   },
   {
    "duration": 380,
    "start_time": "2021-06-16T17:26:06.030Z"
   },
   {
    "duration": 6,
    "start_time": "2021-06-16T17:26:11.950Z"
   },
   {
    "duration": 5,
    "start_time": "2021-06-16T17:26:12.803Z"
   },
   {
    "duration": 5,
    "start_time": "2021-06-16T17:26:13.266Z"
   },
   {
    "duration": 4,
    "start_time": "2021-06-16T17:26:15.963Z"
   },
   {
    "duration": 5,
    "start_time": "2021-06-16T17:26:16.243Z"
   },
   {
    "duration": 5,
    "start_time": "2021-06-16T17:26:16.635Z"
   },
   {
    "duration": 5,
    "start_time": "2021-06-16T17:26:17.093Z"
   },
   {
    "duration": 1764,
    "start_time": "2021-06-16T17:30:02.201Z"
   },
   {
    "duration": 1211,
    "start_time": "2021-06-16T17:30:03.968Z"
   },
   {
    "duration": 28,
    "start_time": "2021-06-16T17:30:05.183Z"
   },
   {
    "duration": 19,
    "start_time": "2021-06-16T17:30:05.214Z"
   },
   {
    "duration": 73,
    "start_time": "2021-06-16T17:30:05.235Z"
   },
   {
    "duration": 8,
    "start_time": "2021-06-16T17:30:05.311Z"
   },
   {
    "duration": 32,
    "start_time": "2021-06-16T17:30:05.322Z"
   },
   {
    "duration": 4748,
    "start_time": "2021-06-16T17:30:05.363Z"
   },
   {
    "duration": 773,
    "start_time": "2021-06-16T17:30:10.114Z"
   },
   {
    "duration": 13,
    "start_time": "2021-06-16T17:30:10.890Z"
   },
   {
    "duration": 17,
    "start_time": "2021-06-16T17:30:10.905Z"
   },
   {
    "duration": 79,
    "start_time": "2021-06-16T17:30:10.924Z"
   },
   {
    "duration": 3788,
    "start_time": "2021-06-16T17:30:11.005Z"
   },
   {
    "duration": 666,
    "start_time": "2021-06-16T17:30:14.795Z"
   },
   {
    "duration": 12,
    "start_time": "2021-06-16T17:30:15.464Z"
   },
   {
    "duration": 15,
    "start_time": "2021-06-16T17:30:15.479Z"
   },
   {
    "duration": 85,
    "start_time": "2021-06-16T17:30:15.497Z"
   },
   {
    "duration": 4336,
    "start_time": "2021-06-16T17:30:15.584Z"
   },
   {
    "duration": 655,
    "start_time": "2021-06-16T17:30:19.922Z"
   },
   {
    "duration": 4,
    "start_time": "2021-06-16T17:30:20.579Z"
   },
   {
    "duration": 337,
    "start_time": "2021-06-16T17:30:20.585Z"
   },
   {
    "duration": 117,
    "start_time": "2021-06-16T17:30:20.925Z"
   },
   {
    "duration": 4,
    "start_time": "2021-06-16T17:30:21.044Z"
   },
   {
    "duration": 25,
    "start_time": "2021-06-16T17:30:21.050Z"
   },
   {
    "duration": 14,
    "start_time": "2021-06-16T17:30:21.078Z"
   },
   {
    "duration": 4,
    "start_time": "2021-06-16T17:30:21.095Z"
   },
   {
    "duration": 61,
    "start_time": "2021-06-16T17:30:21.105Z"
   },
   {
    "duration": 5,
    "start_time": "2021-06-16T17:30:21.169Z"
   },
   {
    "duration": 48,
    "start_time": "2021-06-16T17:30:21.177Z"
   },
   {
    "duration": 5,
    "start_time": "2021-06-16T17:30:21.228Z"
   },
   {
    "duration": 649,
    "start_time": "2021-06-16T17:30:21.262Z"
   },
   {
    "duration": 94,
    "start_time": "2021-06-16T17:31:01.701Z"
   },
   {
    "duration": 5,
    "start_time": "2021-06-16T17:31:03.389Z"
   },
   {
    "duration": 4,
    "start_time": "2021-06-16T17:31:19.469Z"
   },
   {
    "duration": 277,
    "start_time": "2021-06-16T17:31:20.118Z"
   },
   {
    "duration": 1898,
    "start_time": "2021-06-16T17:31:34.894Z"
   },
   {
    "duration": 1907,
    "start_time": "2021-06-16T17:31:36.796Z"
   },
   {
    "duration": 21,
    "start_time": "2021-06-16T17:31:38.707Z"
   },
   {
    "duration": 37,
    "start_time": "2021-06-16T17:31:38.731Z"
   },
   {
    "duration": 50,
    "start_time": "2021-06-16T17:31:38.770Z"
   },
   {
    "duration": 9,
    "start_time": "2021-06-16T17:31:38.822Z"
   },
   {
    "duration": 6,
    "start_time": "2021-06-16T17:31:38.861Z"
   },
   {
    "duration": 5318,
    "start_time": "2021-06-16T17:31:38.871Z"
   },
   {
    "duration": 625,
    "start_time": "2021-06-16T17:31:44.192Z"
   },
   {
    "duration": 13,
    "start_time": "2021-06-16T17:31:44.819Z"
   },
   {
    "duration": 36,
    "start_time": "2021-06-16T17:31:44.834Z"
   },
   {
    "duration": 50,
    "start_time": "2021-06-16T17:31:44.872Z"
   },
   {
    "duration": 3914,
    "start_time": "2021-06-16T17:31:44.925Z"
   },
   {
    "duration": 572,
    "start_time": "2021-06-16T17:31:48.842Z"
   },
   {
    "duration": 12,
    "start_time": "2021-06-16T17:31:49.416Z"
   },
   {
    "duration": 44,
    "start_time": "2021-06-16T17:31:49.431Z"
   },
   {
    "duration": 71,
    "start_time": "2021-06-16T17:31:49.477Z"
   },
   {
    "duration": 6459,
    "start_time": "2021-06-16T17:31:49.563Z"
   },
   {
    "duration": 745,
    "start_time": "2021-06-16T17:31:56.025Z"
   },
   {
    "duration": 4,
    "start_time": "2021-06-16T17:31:56.772Z"
   },
   {
    "duration": 313,
    "start_time": "2021-06-16T17:31:56.779Z"
   },
   {
    "duration": 110,
    "start_time": "2021-06-16T17:31:57.094Z"
   },
   {
    "duration": 5,
    "start_time": "2021-06-16T17:31:57.208Z"
   },
   {
    "duration": 17,
    "start_time": "2021-06-16T17:31:57.215Z"
   },
   {
    "duration": 27,
    "start_time": "2021-06-16T17:31:57.235Z"
   },
   {
    "duration": 6,
    "start_time": "2021-06-16T17:31:57.265Z"
   },
   {
    "duration": 26,
    "start_time": "2021-06-16T17:31:57.274Z"
   },
   {
    "duration": 4,
    "start_time": "2021-06-16T17:31:57.303Z"
   },
   {
    "duration": 64,
    "start_time": "2021-06-16T17:31:57.309Z"
   },
   {
    "duration": 5,
    "start_time": "2021-06-16T17:31:57.375Z"
   },
   {
    "duration": 468,
    "start_time": "2021-06-16T17:31:57.383Z"
   },
   {
    "duration": 349,
    "start_time": "2021-06-16T17:32:40.917Z"
   },
   {
    "duration": 96,
    "start_time": "2021-06-16T17:32:43.804Z"
   },
   {
    "duration": 6,
    "start_time": "2021-06-16T17:32:46.053Z"
   },
   {
    "duration": 91,
    "start_time": "2021-06-16T17:33:06.949Z"
   },
   {
    "duration": 5,
    "start_time": "2021-06-16T17:33:08.203Z"
   },
   {
    "duration": 14,
    "start_time": "2021-06-16T17:33:42.245Z"
   },
   {
    "duration": 8,
    "start_time": "2021-06-16T17:33:45.500Z"
   },
   {
    "duration": 5,
    "start_time": "2021-06-16T17:33:50.474Z"
   },
   {
    "duration": 20,
    "start_time": "2021-06-16T17:33:51.498Z"
   },
   {
    "duration": 5,
    "start_time": "2021-06-16T17:33:52.394Z"
   },
   {
    "duration": 32,
    "start_time": "2021-06-16T17:33:53.691Z"
   },
   {
    "duration": 5,
    "start_time": "2021-06-16T17:34:35.491Z"
   },
   {
    "duration": 454,
    "start_time": "2021-06-16T17:38:02.161Z"
   },
   {
    "duration": 14,
    "start_time": "2021-06-16T17:40:04.960Z"
   },
   {
    "duration": 354,
    "start_time": "2021-06-16T17:41:03.801Z"
   },
   {
    "duration": 5,
    "start_time": "2021-06-16T17:41:21.776Z"
   },
   {
    "duration": 332,
    "start_time": "2021-06-16T17:41:28.886Z"
   },
   {
    "duration": 30,
    "start_time": "2021-06-16T17:41:40.854Z"
   },
   {
    "duration": 17,
    "start_time": "2021-06-16T17:42:47.254Z"
   },
   {
    "duration": 107,
    "start_time": "2021-06-16T17:48:30.514Z"
   },
   {
    "duration": 4,
    "start_time": "2021-06-16T17:48:34.691Z"
   },
   {
    "duration": 15,
    "start_time": "2021-06-16T17:49:03.121Z"
   },
   {
    "duration": 21,
    "start_time": "2021-06-16T17:49:06.073Z"
   },
   {
    "duration": 15,
    "start_time": "2021-06-16T17:49:31.073Z"
   },
   {
    "duration": 4,
    "start_time": "2021-06-16T17:49:33.611Z"
   },
   {
    "duration": 20,
    "start_time": "2021-06-16T17:49:35.102Z"
   },
   {
    "duration": 4,
    "start_time": "2021-06-16T17:51:11.288Z"
   },
   {
    "duration": 14,
    "start_time": "2021-06-16T17:51:11.873Z"
   },
   {
    "duration": 20,
    "start_time": "2021-06-16T17:51:12.777Z"
   },
   {
    "duration": 15,
    "start_time": "2021-06-16T17:51:47.007Z"
   },
   {
    "duration": 10,
    "start_time": "2021-06-16T17:53:19.798Z"
   },
   {
    "duration": 7,
    "start_time": "2021-06-16T17:53:24.621Z"
   },
   {
    "duration": 5,
    "start_time": "2021-06-16T17:55:29.613Z"
   },
   {
    "duration": 19,
    "start_time": "2021-06-16T17:55:30.404Z"
   },
   {
    "duration": 5,
    "start_time": "2021-06-16T17:55:31.133Z"
   },
   {
    "duration": 35,
    "start_time": "2021-06-16T17:55:31.739Z"
   },
   {
    "duration": 6,
    "start_time": "2021-06-16T17:55:32.308Z"
   },
   {
    "duration": 4,
    "start_time": "2021-06-16T17:55:33.308Z"
   },
   {
    "duration": 14,
    "start_time": "2021-06-16T17:55:33.828Z"
   },
   {
    "duration": 8316,
    "start_time": "2021-06-16T17:56:35.532Z"
   },
   {
    "duration": 21,
    "start_time": "2021-06-16T17:57:10.132Z"
   },
   {
    "duration": 8677,
    "start_time": "2021-06-16T17:57:46.251Z"
   },
   {
    "duration": 15,
    "start_time": "2021-06-16T17:57:56.866Z"
   },
   {
    "duration": 14,
    "start_time": "2021-06-16T17:58:00.771Z"
   },
   {
    "duration": -352,
    "start_time": "2021-06-16T17:58:29.041Z"
   },
   {
    "duration": 8263,
    "start_time": "2021-06-16T17:58:33.121Z"
   },
   {
    "duration": 30,
    "start_time": "2021-06-16T17:58:56.870Z"
   },
   {
    "duration": 14,
    "start_time": "2021-06-16T17:59:20.213Z"
   },
   {
    "duration": 5,
    "start_time": "2021-06-16T17:59:25.249Z"
   },
   {
    "duration": 19,
    "start_time": "2021-06-16T17:59:25.930Z"
   },
   {
    "duration": 5,
    "start_time": "2021-06-16T17:59:26.593Z"
   },
   {
    "duration": 31,
    "start_time": "2021-06-16T17:59:27.186Z"
   },
   {
    "duration": 4,
    "start_time": "2021-06-16T17:59:27.818Z"
   },
   {
    "duration": 4,
    "start_time": "2021-06-16T17:59:28.416Z"
   },
   {
    "duration": 15,
    "start_time": "2021-06-16T17:59:29.610Z"
   },
   {
    "duration": 432,
    "start_time": "2021-06-16T17:59:30.786Z"
   },
   {
    "duration": 368,
    "start_time": "2021-06-16T17:59:41.186Z"
   },
   {
    "duration": 370,
    "start_time": "2021-06-16T17:59:44.530Z"
   },
   {
    "duration": 8441,
    "start_time": "2021-06-16T17:59:56.106Z"
   },
   {
    "duration": 384,
    "start_time": "2021-06-16T18:00:18.603Z"
   },
   {
    "duration": 6,
    "start_time": "2021-06-16T18:00:49.762Z"
   },
   {
    "duration": 349,
    "start_time": "2021-06-16T18:00:53.887Z"
   },
   {
    "duration": 7,
    "start_time": "2021-06-16T18:00:58.056Z"
   },
   {
    "duration": 7,
    "start_time": "2021-06-16T18:01:11.950Z"
   },
   {
    "duration": 346,
    "start_time": "2021-06-16T18:01:16.626Z"
   },
   {
    "duration": 360,
    "start_time": "2021-06-16T18:01:25.378Z"
   },
   {
    "duration": 5,
    "start_time": "2021-06-16T18:01:37.378Z"
   },
   {
    "duration": 903,
    "start_time": "2021-06-16T18:02:13.248Z"
   },
   {
    "duration": 381,
    "start_time": "2021-06-16T18:02:58.192Z"
   },
   {
    "duration": 29,
    "start_time": "2021-06-16T18:03:16.248Z"
   },
   {
    "duration": 28,
    "start_time": "2021-06-16T18:05:25.293Z"
   },
   {
    "duration": 358,
    "start_time": "2021-06-16T18:05:30.255Z"
   },
   {
    "duration": 4,
    "start_time": "2021-06-16T18:05:38.960Z"
   },
   {
    "duration": 17,
    "start_time": "2021-06-16T18:05:39.516Z"
   },
   {
    "duration": 4,
    "start_time": "2021-06-16T18:05:40.061Z"
   },
   {
    "duration": 32,
    "start_time": "2021-06-16T18:05:40.613Z"
   },
   {
    "duration": 5,
    "start_time": "2021-06-16T18:05:41.125Z"
   },
   {
    "duration": 4,
    "start_time": "2021-06-16T18:05:41.414Z"
   },
   {
    "duration": 5,
    "start_time": "2021-06-16T18:05:43.301Z"
   },
   {
    "duration": 342,
    "start_time": "2021-06-16T18:05:44.487Z"
   },
   {
    "duration": 16,
    "start_time": "2021-06-16T18:07:11.327Z"
   },
   {
    "duration": 16,
    "start_time": "2021-06-16T18:08:54.341Z"
   },
   {
    "duration": 16,
    "start_time": "2021-06-16T18:10:55.363Z"
   },
   {
    "duration": 6,
    "start_time": "2021-06-16T18:11:00.186Z"
   },
   {
    "duration": 26,
    "start_time": "2021-06-16T18:11:00.673Z"
   },
   {
    "duration": 6,
    "start_time": "2021-06-16T18:11:01.074Z"
   },
   {
    "duration": 36,
    "start_time": "2021-06-16T18:11:01.482Z"
   },
   {
    "duration": 6,
    "start_time": "2021-06-16T18:11:01.929Z"
   },
   {
    "duration": 4,
    "start_time": "2021-06-16T18:11:02.185Z"
   },
   {
    "duration": 6,
    "start_time": "2021-06-16T18:11:02.619Z"
   },
   {
    "duration": 14,
    "start_time": "2021-06-16T18:11:03.737Z"
   },
   {
    "duration": 365,
    "start_time": "2021-06-16T18:11:27.810Z"
   },
   {
    "duration": 5,
    "start_time": "2021-06-16T18:11:34.354Z"
   },
   {
    "duration": 18,
    "start_time": "2021-06-16T18:11:34.802Z"
   },
   {
    "duration": 5,
    "start_time": "2021-06-16T18:11:35.209Z"
   },
   {
    "duration": 34,
    "start_time": "2021-06-16T18:11:35.625Z"
   },
   {
    "duration": 5,
    "start_time": "2021-06-16T18:11:36.041Z"
   },
   {
    "duration": 5,
    "start_time": "2021-06-16T18:11:36.257Z"
   },
   {
    "duration": 6,
    "start_time": "2021-06-16T18:11:37.034Z"
   },
   {
    "duration": 17,
    "start_time": "2021-06-16T18:11:37.585Z"
   },
   {
    "duration": 313,
    "start_time": "2021-06-16T18:11:48.239Z"
   },
   {
    "duration": 4,
    "start_time": "2021-06-16T18:11:51.545Z"
   },
   {
    "duration": 18,
    "start_time": "2021-06-16T18:11:51.968Z"
   },
   {
    "duration": 4,
    "start_time": "2021-06-16T18:11:52.401Z"
   },
   {
    "duration": 30,
    "start_time": "2021-06-16T18:11:52.810Z"
   },
   {
    "duration": 5,
    "start_time": "2021-06-16T18:11:53.257Z"
   },
   {
    "duration": 4,
    "start_time": "2021-06-16T18:11:53.600Z"
   },
   {
    "duration": 6,
    "start_time": "2021-06-16T18:11:53.905Z"
   },
   {
    "duration": 352,
    "start_time": "2021-06-16T18:11:54.492Z"
   },
   {
    "duration": 364,
    "start_time": "2021-06-16T18:12:02.578Z"
   },
   {
    "duration": 5,
    "start_time": "2021-06-16T18:12:08.795Z"
   },
   {
    "duration": 18,
    "start_time": "2021-06-16T18:12:09.329Z"
   },
   {
    "duration": 6,
    "start_time": "2021-06-16T18:12:09.833Z"
   },
   {
    "duration": 33,
    "start_time": "2021-06-16T18:12:10.354Z"
   },
   {
    "duration": 5,
    "start_time": "2021-06-16T18:12:10.865Z"
   },
   {
    "duration": 5,
    "start_time": "2021-06-16T18:12:11.124Z"
   },
   {
    "duration": 6,
    "start_time": "2021-06-16T18:12:11.412Z"
   },
   {
    "duration": 29,
    "start_time": "2021-06-16T18:12:11.993Z"
   },
   {
    "duration": 5,
    "start_time": "2021-06-16T18:13:28.279Z"
   },
   {
    "duration": 26,
    "start_time": "2021-06-16T18:13:42.190Z"
   },
   {
    "duration": 4,
    "start_time": "2021-06-16T18:14:24.432Z"
   },
   {
    "duration": 773,
    "start_time": "2021-06-16T18:14:25.287Z"
   },
   {
    "duration": 4,
    "start_time": "2021-06-16T18:14:41.479Z"
   },
   {
    "duration": 654,
    "start_time": "2021-06-16T18:14:41.862Z"
   },
   {
    "duration": 5,
    "start_time": "2021-06-16T18:14:47.927Z"
   },
   {
    "duration": 26,
    "start_time": "2021-06-16T18:14:48.999Z"
   },
   {
    "duration": 290,
    "start_time": "2021-06-16T18:15:29.783Z"
   },
   {
    "duration": 5,
    "start_time": "2021-06-16T18:15:43.007Z"
   },
   {
    "duration": 1108,
    "start_time": "2021-06-17T06:50:23.059Z"
   },
   {
    "duration": 2586,
    "start_time": "2021-06-17T06:50:24.169Z"
   },
   {
    "duration": 12,
    "start_time": "2021-06-17T06:50:26.757Z"
   },
   {
    "duration": 17,
    "start_time": "2021-06-17T06:50:26.771Z"
   },
   {
    "duration": 32,
    "start_time": "2021-06-17T06:50:26.790Z"
   },
   {
    "duration": 4,
    "start_time": "2021-06-17T06:50:26.824Z"
   },
   {
    "duration": 6,
    "start_time": "2021-06-17T06:50:26.830Z"
   },
   {
    "duration": 2425,
    "start_time": "2021-06-17T06:50:26.838Z"
   },
   {
    "duration": 411,
    "start_time": "2021-06-17T06:50:29.265Z"
   },
   {
    "duration": 13,
    "start_time": "2021-06-17T06:50:29.677Z"
   },
   {
    "duration": 12,
    "start_time": "2021-06-17T06:50:29.691Z"
   },
   {
    "duration": 34,
    "start_time": "2021-06-17T06:50:29.704Z"
   },
   {
    "duration": 2323,
    "start_time": "2021-06-17T06:50:29.740Z"
   },
   {
    "duration": 404,
    "start_time": "2021-06-17T06:50:32.065Z"
   },
   {
    "duration": 8,
    "start_time": "2021-06-17T06:50:32.471Z"
   },
   {
    "duration": 23,
    "start_time": "2021-06-17T06:50:32.485Z"
   },
   {
    "duration": 43,
    "start_time": "2021-06-17T06:50:32.509Z"
   },
   {
    "duration": 2505,
    "start_time": "2021-06-17T06:50:32.554Z"
   },
   {
    "duration": 405,
    "start_time": "2021-06-17T06:50:35.060Z"
   },
   {
    "duration": 156,
    "start_time": "2021-06-17T06:50:35.467Z"
   },
   {
    "duration": 64,
    "start_time": "2021-06-17T06:50:35.625Z"
   },
   {
    "duration": 3,
    "start_time": "2021-06-17T06:50:35.691Z"
   },
   {
    "duration": 13,
    "start_time": "2021-06-17T06:50:35.698Z"
   },
   {
    "duration": 8,
    "start_time": "2021-06-17T06:50:35.713Z"
   },
   {
    "duration": 4,
    "start_time": "2021-06-17T06:50:35.723Z"
   },
   {
    "duration": 16,
    "start_time": "2021-06-17T06:50:35.729Z"
   },
   {
    "duration": 2,
    "start_time": "2021-06-17T06:50:35.747Z"
   },
   {
    "duration": 52,
    "start_time": "2021-06-17T06:50:35.751Z"
   },
   {
    "duration": 3,
    "start_time": "2021-06-17T06:50:35.804Z"
   },
   {
    "duration": 7,
    "start_time": "2021-06-17T06:50:35.809Z"
   },
   {
    "duration": 24,
    "start_time": "2021-06-17T06:50:35.818Z"
   },
   {
    "duration": 17,
    "start_time": "2021-06-17T06:50:35.843Z"
   },
   {
    "duration": 4,
    "start_time": "2021-06-17T06:58:54.689Z"
   },
   {
    "duration": 19,
    "start_time": "2021-06-17T06:58:55.488Z"
   },
   {
    "duration": 4,
    "start_time": "2021-06-17T06:58:56.151Z"
   },
   {
    "duration": 30,
    "start_time": "2021-06-17T06:58:56.854Z"
   },
   {
    "duration": 4,
    "start_time": "2021-06-17T06:58:57.518Z"
   },
   {
    "duration": 3,
    "start_time": "2021-06-17T06:58:58.599Z"
   },
   {
    "duration": 19,
    "start_time": "2021-06-17T06:59:04.255Z"
   },
   {
    "duration": 34,
    "start_time": "2021-06-17T08:10:56.059Z"
   },
   {
    "duration": 25,
    "start_time": "2021-06-17T08:11:26.539Z"
   },
   {
    "duration": 5,
    "start_time": "2021-06-17T08:23:37.891Z"
   },
   {
    "duration": 4,
    "start_time": "2021-06-17T08:27:43.976Z"
   },
   {
    "duration": 60,
    "start_time": "2021-06-17T08:42:51.275Z"
   },
   {
    "duration": 3,
    "start_time": "2021-06-17T08:42:58.795Z"
   },
   {
    "duration": 254,
    "start_time": "2021-06-17T08:44:53.466Z"
   },
   {
    "duration": 197,
    "start_time": "2021-06-17T08:45:29.931Z"
   },
   {
    "duration": 18,
    "start_time": "2021-06-17T08:45:46.002Z"
   },
   {
    "duration": 16,
    "start_time": "2021-06-17T08:46:55.835Z"
   },
   {
    "duration": 4,
    "start_time": "2021-06-17T08:47:01.819Z"
   },
   {
    "duration": 4,
    "start_time": "2021-06-17T08:47:08.385Z"
   },
   {
    "duration": 6,
    "start_time": "2021-06-17T08:47:16.362Z"
   },
   {
    "duration": 4,
    "start_time": "2021-06-17T08:47:29.346Z"
   },
   {
    "duration": 5,
    "start_time": "2021-06-17T08:49:46.568Z"
   },
   {
    "duration": 170,
    "start_time": "2021-06-17T08:56:37.518Z"
   },
   {
    "duration": 4,
    "start_time": "2021-06-17T08:57:06.347Z"
   },
   {
    "duration": 4,
    "start_time": "2021-06-17T08:57:06.914Z"
   },
   {
    "duration": 5,
    "start_time": "2021-06-17T08:58:00.533Z"
   },
   {
    "duration": 6,
    "start_time": "2021-06-17T08:58:06.108Z"
   },
   {
    "duration": 4,
    "start_time": "2021-06-17T09:07:05.366Z"
   },
   {
    "duration": 37,
    "start_time": "2021-06-17T09:13:15.327Z"
   },
   {
    "duration": 10,
    "start_time": "2021-06-17T09:13:28.040Z"
   },
   {
    "duration": 9,
    "start_time": "2021-06-17T09:13:43.712Z"
   },
   {
    "duration": 3,
    "start_time": "2021-06-17T09:15:00.470Z"
   },
   {
    "duration": 16,
    "start_time": "2021-06-17T09:15:01.462Z"
   },
   {
    "duration": 3,
    "start_time": "2021-06-17T09:15:02.205Z"
   },
   {
    "duration": 24,
    "start_time": "2021-06-17T09:15:03.002Z"
   },
   {
    "duration": 3,
    "start_time": "2021-06-17T09:15:06.432Z"
   },
   {
    "duration": 11,
    "start_time": "2021-06-17T09:15:17.269Z"
   },
   {
    "duration": 10,
    "start_time": "2021-06-17T09:15:29.831Z"
   },
   {
    "duration": 1109,
    "start_time": "2021-06-17T09:16:07.963Z"
   },
   {
    "duration": 3069,
    "start_time": "2021-06-17T09:16:09.074Z"
   },
   {
    "duration": 14,
    "start_time": "2021-06-17T09:16:12.145Z"
   },
   {
    "duration": 12,
    "start_time": "2021-06-17T09:16:12.161Z"
   },
   {
    "duration": 36,
    "start_time": "2021-06-17T09:16:12.185Z"
   },
   {
    "duration": 6,
    "start_time": "2021-06-17T09:16:12.223Z"
   },
   {
    "duration": 5,
    "start_time": "2021-06-17T09:16:12.230Z"
   },
   {
    "duration": 2498,
    "start_time": "2021-06-17T09:16:12.238Z"
   },
   {
    "duration": 397,
    "start_time": "2021-06-17T09:16:14.738Z"
   },
   {
    "duration": 9,
    "start_time": "2021-06-17T09:16:15.137Z"
   },
   {
    "duration": 14,
    "start_time": "2021-06-17T09:16:15.147Z"
   },
   {
    "duration": 56,
    "start_time": "2021-06-17T09:16:15.163Z"
   },
   {
    "duration": 2372,
    "start_time": "2021-06-17T09:16:15.221Z"
   },
   {
    "duration": 382,
    "start_time": "2021-06-17T09:16:17.595Z"
   },
   {
    "duration": 9,
    "start_time": "2021-06-17T09:16:17.979Z"
   },
   {
    "duration": 11,
    "start_time": "2021-06-17T09:16:17.990Z"
   },
   {
    "duration": 35,
    "start_time": "2021-06-17T09:16:18.003Z"
   },
   {
    "duration": 2517,
    "start_time": "2021-06-17T09:16:18.040Z"
   },
   {
    "duration": 409,
    "start_time": "2021-06-17T09:16:20.559Z"
   },
   {
    "duration": 174,
    "start_time": "2021-06-17T09:16:20.970Z"
   },
   {
    "duration": 66,
    "start_time": "2021-06-17T09:16:21.146Z"
   },
   {
    "duration": 3,
    "start_time": "2021-06-17T09:16:21.214Z"
   },
   {
    "duration": 14,
    "start_time": "2021-06-17T09:16:21.220Z"
   },
   {
    "duration": 8,
    "start_time": "2021-06-17T09:16:21.236Z"
   },
   {
    "duration": 4,
    "start_time": "2021-06-17T09:16:21.246Z"
   },
   {
    "duration": 33,
    "start_time": "2021-06-17T09:16:21.252Z"
   },
   {
    "duration": 3,
    "start_time": "2021-06-17T09:16:21.286Z"
   },
   {
    "duration": 27,
    "start_time": "2021-06-17T09:16:21.291Z"
   },
   {
    "duration": 3,
    "start_time": "2021-06-17T09:16:21.320Z"
   },
   {
    "duration": 11,
    "start_time": "2021-06-17T09:16:21.324Z"
   },
   {
    "duration": 9,
    "start_time": "2021-06-17T09:16:21.337Z"
   },
   {
    "duration": 68,
    "start_time": "2021-06-17T09:16:21.348Z"
   },
   {
    "duration": 9,
    "start_time": "2021-06-17T09:16:21.418Z"
   },
   {
    "duration": 11,
    "start_time": "2021-06-17T09:16:21.428Z"
   },
   {
    "duration": 4,
    "start_time": "2021-06-17T09:16:21.440Z"
   },
   {
    "duration": 53,
    "start_time": "2021-06-17T09:16:21.446Z"
   },
   {
    "duration": 20,
    "start_time": "2021-06-17T09:16:21.500Z"
   },
   {
    "duration": 3,
    "start_time": "2021-06-17T09:16:21.522Z"
   },
   {
    "duration": 168,
    "start_time": "2021-06-17T09:16:21.526Z"
   },
   {
    "duration": 5,
    "start_time": "2021-06-17T09:16:21.786Z"
   },
   {
    "duration": 97,
    "start_time": "2021-06-17T09:16:21.793Z"
   },
   {
    "duration": 5,
    "start_time": "2021-06-17T09:16:21.892Z"
   },
   {
    "duration": 6,
    "start_time": "2021-06-17T09:16:21.898Z"
   },
   {
    "duration": 5,
    "start_time": "2021-06-17T09:16:21.905Z"
   },
   {
    "duration": 4,
    "start_time": "2021-06-17T09:16:21.912Z"
   },
   {
    "duration": 13,
    "start_time": "2021-06-17T09:16:54.314Z"
   },
   {
    "duration": 11,
    "start_time": "2021-06-17T09:20:25.279Z"
   },
   {
    "duration": 3,
    "start_time": "2021-06-17T09:25:09.212Z"
   },
   {
    "duration": 37,
    "start_time": "2021-06-17T09:25:11.284Z"
   },
   {
    "duration": 3,
    "start_time": "2021-06-17T09:27:41.203Z"
   },
   {
    "duration": 2,
    "start_time": "2021-06-17T09:27:41.738Z"
   },
   {
    "duration": 3,
    "start_time": "2021-06-17T09:27:42.178Z"
   },
   {
    "duration": 269,
    "start_time": "2021-06-17T09:27:48.519Z"
   },
   {
    "duration": 4,
    "start_time": "2021-06-17T09:27:51.419Z"
   },
   {
    "duration": 9,
    "start_time": "2021-06-17T09:35:39.525Z"
   },
   {
    "duration": 10,
    "start_time": "2021-06-17T09:35:50.636Z"
   },
   {
    "duration": 1062,
    "start_time": "2021-06-17T09:37:47.688Z"
   },
   {
    "duration": 1926,
    "start_time": "2021-06-17T09:37:48.753Z"
   },
   {
    "duration": 13,
    "start_time": "2021-06-17T09:37:50.681Z"
   },
   {
    "duration": 9,
    "start_time": "2021-06-17T09:37:50.696Z"
   },
   {
    "duration": 33,
    "start_time": "2021-06-17T09:37:50.707Z"
   },
   {
    "duration": 5,
    "start_time": "2021-06-17T09:37:50.741Z"
   },
   {
    "duration": 5,
    "start_time": "2021-06-17T09:37:50.748Z"
   },
   {
    "duration": 2444,
    "start_time": "2021-06-17T09:37:50.755Z"
   },
   {
    "duration": 375,
    "start_time": "2021-06-17T09:37:53.201Z"
   },
   {
    "duration": 12,
    "start_time": "2021-06-17T09:37:53.578Z"
   },
   {
    "duration": 12,
    "start_time": "2021-06-17T09:37:53.592Z"
   },
   {
    "duration": 34,
    "start_time": "2021-06-17T09:37:53.606Z"
   },
   {
    "duration": 2347,
    "start_time": "2021-06-17T09:37:53.641Z"
   },
   {
    "duration": 385,
    "start_time": "2021-06-17T09:37:55.990Z"
   },
   {
    "duration": 12,
    "start_time": "2021-06-17T09:37:56.376Z"
   },
   {
    "duration": 14,
    "start_time": "2021-06-17T09:37:56.389Z"
   },
   {
    "duration": 34,
    "start_time": "2021-06-17T09:37:56.405Z"
   },
   {
    "duration": 2523,
    "start_time": "2021-06-17T09:37:56.440Z"
   },
   {
    "duration": 402,
    "start_time": "2021-06-17T09:37:58.964Z"
   },
   {
    "duration": 172,
    "start_time": "2021-06-17T09:37:59.368Z"
   },
   {
    "duration": 71,
    "start_time": "2021-06-17T09:37:59.541Z"
   },
   {
    "duration": 4,
    "start_time": "2021-06-17T09:37:59.613Z"
   },
   {
    "duration": 16,
    "start_time": "2021-06-17T09:37:59.620Z"
   },
   {
    "duration": 7,
    "start_time": "2021-06-17T09:37:59.638Z"
   },
   {
    "duration": 4,
    "start_time": "2021-06-17T09:37:59.646Z"
   },
   {
    "duration": 44,
    "start_time": "2021-06-17T09:37:59.652Z"
   },
   {
    "duration": 3,
    "start_time": "2021-06-17T09:37:59.698Z"
   },
   {
    "duration": 27,
    "start_time": "2021-06-17T09:37:59.703Z"
   },
   {
    "duration": 4,
    "start_time": "2021-06-17T09:37:59.731Z"
   },
   {
    "duration": 39,
    "start_time": "2021-06-17T09:37:59.736Z"
   },
   {
    "duration": 3,
    "start_time": "2021-06-17T09:37:59.785Z"
   },
   {
    "duration": 41,
    "start_time": "2021-06-17T09:37:59.790Z"
   },
   {
    "duration": 603,
    "start_time": "2021-06-17T09:37:59.833Z"
   },
   {
    "duration": 23,
    "start_time": "2021-06-17T09:38:00.415Z"
   },
   {
    "duration": 23,
    "start_time": "2021-06-17T09:38:00.416Z"
   },
   {
    "duration": 22,
    "start_time": "2021-06-17T09:38:00.418Z"
   },
   {
    "duration": 21,
    "start_time": "2021-06-17T09:38:00.420Z"
   },
   {
    "duration": 10,
    "start_time": "2021-06-17T09:38:00.432Z"
   },
   {
    "duration": 9,
    "start_time": "2021-06-17T09:38:00.434Z"
   },
   {
    "duration": 7,
    "start_time": "2021-06-17T09:38:00.437Z"
   },
   {
    "duration": -4,
    "start_time": "2021-06-17T09:38:00.449Z"
   },
   {
    "duration": -5,
    "start_time": "2021-06-17T09:38:00.451Z"
   },
   {
    "duration": -7,
    "start_time": "2021-06-17T09:38:00.454Z"
   },
   {
    "duration": -13,
    "start_time": "2021-06-17T09:38:00.461Z"
   },
   {
    "duration": -14,
    "start_time": "2021-06-17T09:38:00.463Z"
   },
   {
    "duration": 34,
    "start_time": "2021-06-17T09:38:54.190Z"
   },
   {
    "duration": 9,
    "start_time": "2021-06-17T09:38:56.095Z"
   },
   {
    "duration": 9,
    "start_time": "2021-06-17T09:38:57.798Z"
   },
   {
    "duration": 10,
    "start_time": "2021-06-17T09:39:03.482Z"
   },
   {
    "duration": 10,
    "start_time": "2021-06-17T09:39:04.072Z"
   },
   {
    "duration": 3,
    "start_time": "2021-06-17T09:51:09.646Z"
   },
   {
    "duration": 153,
    "start_time": "2021-06-17T09:51:10.832Z"
   },
   {
    "duration": 4,
    "start_time": "2021-06-17T09:51:11.182Z"
   },
   {
    "duration": 4,
    "start_time": "2021-06-17T09:51:11.758Z"
   },
   {
    "duration": 4,
    "start_time": "2021-06-17T09:51:12.142Z"
   },
   {
    "duration": 4,
    "start_time": "2021-06-17T09:51:12.606Z"
   },
   {
    "duration": 3,
    "start_time": "2021-06-17T09:51:13.046Z"
   },
   {
    "duration": 4,
    "start_time": "2021-06-17T09:51:14.023Z"
   },
   {
    "duration": 206,
    "start_time": "2021-06-17T09:51:31.982Z"
   },
   {
    "duration": 3,
    "start_time": "2021-06-17T09:51:32.997Z"
   },
   {
    "duration": 4,
    "start_time": "2021-06-17T09:51:34.117Z"
   },
   {
    "duration": 182,
    "start_time": "2021-06-17T09:57:31.602Z"
   },
   {
    "duration": 231,
    "start_time": "2021-06-17T09:58:34.841Z"
   },
   {
    "duration": 9,
    "start_time": "2021-06-17T09:58:41.441Z"
   },
   {
    "duration": 9,
    "start_time": "2021-06-17T09:59:06.132Z"
   },
   {
    "duration": 8,
    "start_time": "2021-06-17T10:00:59.816Z"
   },
   {
    "duration": 9,
    "start_time": "2021-06-17T10:01:02.960Z"
   },
   {
    "duration": 9,
    "start_time": "2021-06-17T10:01:11.558Z"
   },
   {
    "duration": 9,
    "start_time": "2021-06-17T10:01:27.679Z"
   },
   {
    "duration": 3,
    "start_time": "2021-06-17T10:12:36.328Z"
   },
   {
    "duration": 3,
    "start_time": "2021-06-17T10:12:48.023Z"
   },
   {
    "duration": 3,
    "start_time": "2021-06-17T10:20:04.137Z"
   },
   {
    "duration": 4,
    "start_time": "2021-06-17T10:28:10.205Z"
   },
   {
    "duration": 5,
    "start_time": "2021-06-17T10:30:37.571Z"
   },
   {
    "duration": 8,
    "start_time": "2021-06-17T10:31:39.779Z"
   },
   {
    "duration": 182,
    "start_time": "2021-06-17T10:34:06.241Z"
   },
   {
    "duration": 189,
    "start_time": "2021-06-17T10:34:10.313Z"
   },
   {
    "duration": 4,
    "start_time": "2021-06-17T10:37:26.391Z"
   },
   {
    "duration": 9,
    "start_time": "2021-06-17T10:37:42.038Z"
   },
   {
    "duration": 56,
    "start_time": "2021-06-17T10:37:55.662Z"
   },
   {
    "duration": 186,
    "start_time": "2021-06-17T10:38:24.454Z"
   },
   {
    "duration": 5,
    "start_time": "2021-06-17T10:38:41.989Z"
   },
   {
    "duration": 15,
    "start_time": "2021-06-17T10:38:53.383Z"
   },
   {
    "duration": 223,
    "start_time": "2021-06-17T10:39:06.814Z"
   },
   {
    "duration": 14,
    "start_time": "2021-06-17T10:39:35.741Z"
   },
   {
    "duration": 65,
    "start_time": "2021-06-17T10:39:42.981Z"
   },
   {
    "duration": 8,
    "start_time": "2021-06-17T10:39:46.429Z"
   },
   {
    "duration": 14,
    "start_time": "2021-06-17T10:40:22.077Z"
   },
   {
    "duration": 21,
    "start_time": "2021-06-17T10:41:03.790Z"
   },
   {
    "duration": 116,
    "start_time": "2021-06-17T10:42:46.274Z"
   },
   {
    "duration": 4,
    "start_time": "2021-06-17T10:42:46.946Z"
   },
   {
    "duration": 4,
    "start_time": "2021-06-17T10:42:47.474Z"
   },
   {
    "duration": 8,
    "start_time": "2021-06-17T10:42:47.907Z"
   },
   {
    "duration": 114,
    "start_time": "2021-06-17T10:42:56.074Z"
   },
   {
    "duration": 3,
    "start_time": "2021-06-17T10:42:57.147Z"
   },
   {
    "duration": 4,
    "start_time": "2021-06-17T10:42:57.650Z"
   },
   {
    "duration": 8,
    "start_time": "2021-06-17T10:42:58.314Z"
   },
   {
    "duration": 4,
    "start_time": "2021-06-17T10:43:01.962Z"
   },
   {
    "duration": 8,
    "start_time": "2021-06-17T10:43:03.651Z"
   },
   {
    "duration": 17,
    "start_time": "2021-06-17T10:43:06.067Z"
   },
   {
    "duration": 19,
    "start_time": "2021-06-17T10:44:21.202Z"
   },
   {
    "duration": 19,
    "start_time": "2021-06-17T10:44:35.626Z"
   },
   {
    "duration": 188,
    "start_time": "2021-06-17T10:47:52.850Z"
   },
   {
    "duration": 12,
    "start_time": "2021-06-17T10:47:57.871Z"
   },
   {
    "duration": 13,
    "start_time": "2021-06-17T10:48:14.839Z"
   },
   {
    "duration": 21,
    "start_time": "2021-06-17T10:48:36.238Z"
   },
   {
    "duration": 22,
    "start_time": "2021-06-17T10:49:14.863Z"
   },
   {
    "duration": 5,
    "start_time": "2021-06-17T10:55:12.338Z"
   },
   {
    "duration": 3,
    "start_time": "2021-06-17T11:02:19.085Z"
   },
   {
    "duration": 177,
    "start_time": "2021-06-17T11:02:20.431Z"
   },
   {
    "duration": 364,
    "start_time": "2021-06-17T11:02:32.533Z"
   },
   {
    "duration": 3,
    "start_time": "2021-06-17T11:04:03.740Z"
   },
   {
    "duration": 364,
    "start_time": "2021-06-17T11:04:04.812Z"
   },
   {
    "duration": 3,
    "start_time": "2021-06-17T11:04:17.452Z"
   },
   {
    "duration": 4938,
    "start_time": "2021-06-17T11:04:18.140Z"
   },
   {
    "duration": 7,
    "start_time": "2021-06-17T11:04:36.251Z"
   },
   {
    "duration": 9,
    "start_time": "2021-06-17T11:05:23.653Z"
   },
   {
    "duration": 9,
    "start_time": "2021-06-17T11:06:24.509Z"
   },
   {
    "duration": 9,
    "start_time": "2021-06-17T11:07:42.532Z"
   },
   {
    "duration": 1175,
    "start_time": "2021-06-17T13:25:33.702Z"
   },
   {
    "duration": 4214,
    "start_time": "2021-06-17T13:25:34.879Z"
   },
   {
    "duration": 14,
    "start_time": "2021-06-17T13:25:39.096Z"
   },
   {
    "duration": 12,
    "start_time": "2021-06-17T13:25:39.112Z"
   },
   {
    "duration": 60,
    "start_time": "2021-06-17T13:25:39.126Z"
   },
   {
    "duration": 6,
    "start_time": "2021-06-17T13:25:39.187Z"
   },
   {
    "duration": 9,
    "start_time": "2021-06-17T13:25:39.195Z"
   },
   {
    "duration": 2533,
    "start_time": "2021-06-17T13:25:39.207Z"
   },
   {
    "duration": 430,
    "start_time": "2021-06-17T13:25:41.742Z"
   },
   {
    "duration": 16,
    "start_time": "2021-06-17T13:25:42.174Z"
   },
   {
    "duration": 14,
    "start_time": "2021-06-17T13:25:42.192Z"
   },
   {
    "duration": 34,
    "start_time": "2021-06-17T13:25:42.207Z"
   },
   {
    "duration": 2371,
    "start_time": "2021-06-17T13:25:42.242Z"
   },
   {
    "duration": 370,
    "start_time": "2021-06-17T13:25:44.614Z"
   },
   {
    "duration": 9,
    "start_time": "2021-06-17T13:25:44.986Z"
   },
   {
    "duration": 14,
    "start_time": "2021-06-17T13:25:44.996Z"
   },
   {
    "duration": 52,
    "start_time": "2021-06-17T13:25:45.011Z"
   },
   {
    "duration": 2488,
    "start_time": "2021-06-17T13:25:45.064Z"
   },
   {
    "duration": 414,
    "start_time": "2021-06-17T13:25:47.553Z"
   },
   {
    "duration": 162,
    "start_time": "2021-06-17T13:25:47.968Z"
   },
   {
    "duration": 70,
    "start_time": "2021-06-17T13:25:48.132Z"
   },
   {
    "duration": 3,
    "start_time": "2021-06-17T13:25:48.204Z"
   },
   {
    "duration": 19,
    "start_time": "2021-06-17T13:25:48.210Z"
   },
   {
    "duration": 9,
    "start_time": "2021-06-17T13:25:48.231Z"
   },
   {
    "duration": 4,
    "start_time": "2021-06-17T13:25:48.242Z"
   },
   {
    "duration": 5,
    "start_time": "2021-06-17T13:25:48.248Z"
   },
   {
    "duration": 6,
    "start_time": "2021-06-17T13:25:48.255Z"
   },
   {
    "duration": 6,
    "start_time": "2021-06-17T13:25:48.263Z"
   },
   {
    "duration": 15,
    "start_time": "2021-06-17T13:25:48.270Z"
   },
   {
    "duration": 39,
    "start_time": "2021-06-17T13:25:48.286Z"
   },
   {
    "duration": 4,
    "start_time": "2021-06-17T13:25:48.326Z"
   },
   {
    "duration": 5,
    "start_time": "2021-06-17T13:25:48.331Z"
   },
   {
    "duration": 7,
    "start_time": "2021-06-17T13:25:48.338Z"
   },
   {
    "duration": 54,
    "start_time": "2021-06-17T13:25:48.347Z"
   },
   {
    "duration": 2,
    "start_time": "2021-06-17T13:25:48.402Z"
   },
   {
    "duration": 6,
    "start_time": "2021-06-17T13:25:48.406Z"
   },
   {
    "duration": 4,
    "start_time": "2021-06-17T13:25:48.413Z"
   },
   {
    "duration": 6,
    "start_time": "2021-06-17T13:25:48.418Z"
   },
   {
    "duration": 5,
    "start_time": "2021-06-17T13:25:48.425Z"
   },
   {
    "duration": 5,
    "start_time": "2021-06-17T13:25:48.432Z"
   },
   {
    "duration": 6,
    "start_time": "2021-06-17T13:25:48.439Z"
   },
   {
    "duration": 5,
    "start_time": "2021-06-17T13:25:48.446Z"
   },
   {
    "duration": 5,
    "start_time": "2021-06-17T13:25:48.452Z"
   },
   {
    "duration": 5,
    "start_time": "2021-06-17T13:25:48.459Z"
   },
   {
    "duration": 18,
    "start_time": "2021-06-17T13:25:48.466Z"
   },
   {
    "duration": 2,
    "start_time": "2021-06-17T13:25:48.486Z"
   },
   {
    "duration": 199,
    "start_time": "2021-06-17T13:25:48.489Z"
   },
   {
    "duration": 3,
    "start_time": "2021-06-17T13:25:48.690Z"
   },
   {
    "duration": 98,
    "start_time": "2021-06-17T13:25:48.694Z"
   },
   {
    "duration": 90,
    "start_time": "2021-06-17T13:25:48.795Z"
   },
   {
    "duration": 20,
    "start_time": "2021-06-17T13:25:48.887Z"
   },
   {
    "duration": 2,
    "start_time": "2021-06-17T13:25:48.909Z"
   },
   {
    "duration": 9,
    "start_time": "2021-06-17T13:25:48.913Z"
   },
   {
    "duration": 4,
    "start_time": "2021-06-17T13:25:48.924Z"
   },
   {
    "duration": 11,
    "start_time": "2021-06-17T13:25:48.929Z"
   },
   {
    "duration": 8,
    "start_time": "2021-06-17T13:26:43.334Z"
   },
   {
    "duration": 10,
    "start_time": "2021-06-17T13:26:52.716Z"
   },
   {
    "duration": 3,
    "start_time": "2021-06-17T13:53:14.570Z"
   },
   {
    "duration": 9,
    "start_time": "2021-06-17T13:53:15.443Z"
   },
   {
    "duration": 1071,
    "start_time": "2021-06-17T13:53:25.192Z"
   },
   {
    "duration": 2427,
    "start_time": "2021-06-17T13:53:26.265Z"
   },
   {
    "duration": 13,
    "start_time": "2021-06-17T13:53:28.694Z"
   },
   {
    "duration": 17,
    "start_time": "2021-06-17T13:53:28.708Z"
   },
   {
    "duration": 34,
    "start_time": "2021-06-17T13:53:28.726Z"
   },
   {
    "duration": 24,
    "start_time": "2021-06-17T13:53:28.761Z"
   },
   {
    "duration": 8,
    "start_time": "2021-06-17T13:53:28.786Z"
   },
   {
    "duration": 2538,
    "start_time": "2021-06-17T13:53:28.797Z"
   },
   {
    "duration": 395,
    "start_time": "2021-06-17T13:53:31.337Z"
   },
   {
    "duration": 9,
    "start_time": "2021-06-17T13:53:31.734Z"
   },
   {
    "duration": 12,
    "start_time": "2021-06-17T13:53:31.744Z"
   },
   {
    "duration": 50,
    "start_time": "2021-06-17T13:53:31.757Z"
   },
   {
    "duration": 2328,
    "start_time": "2021-06-17T13:53:31.808Z"
   },
   {
    "duration": 386,
    "start_time": "2021-06-17T13:53:34.138Z"
   },
   {
    "duration": 9,
    "start_time": "2021-06-17T13:53:34.526Z"
   },
   {
    "duration": 18,
    "start_time": "2021-06-17T13:53:34.536Z"
   },
   {
    "duration": 42,
    "start_time": "2021-06-17T13:53:34.555Z"
   },
   {
    "duration": 2569,
    "start_time": "2021-06-17T13:53:34.598Z"
   },
   {
    "duration": 400,
    "start_time": "2021-06-17T13:53:37.168Z"
   },
   {
    "duration": 165,
    "start_time": "2021-06-17T13:53:37.569Z"
   },
   {
    "duration": 64,
    "start_time": "2021-06-17T13:53:37.736Z"
   },
   {
    "duration": 3,
    "start_time": "2021-06-17T13:53:37.802Z"
   },
   {
    "duration": 15,
    "start_time": "2021-06-17T13:53:37.809Z"
   },
   {
    "duration": 6,
    "start_time": "2021-06-17T13:53:37.826Z"
   },
   {
    "duration": 3,
    "start_time": "2021-06-17T13:53:37.834Z"
   },
   {
    "duration": 5,
    "start_time": "2021-06-17T13:53:37.838Z"
   },
   {
    "duration": 5,
    "start_time": "2021-06-17T13:53:37.844Z"
   },
   {
    "duration": 10,
    "start_time": "2021-06-17T13:53:37.851Z"
   },
   {
    "duration": 23,
    "start_time": "2021-06-17T13:53:37.862Z"
   },
   {
    "duration": 40,
    "start_time": "2021-06-17T13:53:37.886Z"
   },
   {
    "duration": 4,
    "start_time": "2021-06-17T13:53:37.928Z"
   },
   {
    "duration": 6,
    "start_time": "2021-06-17T13:53:37.933Z"
   },
   {
    "duration": 5,
    "start_time": "2021-06-17T13:53:37.941Z"
   },
   {
    "duration": 53,
    "start_time": "2021-06-17T13:53:37.947Z"
   },
   {
    "duration": 2,
    "start_time": "2021-06-17T13:53:38.002Z"
   },
   {
    "duration": 13,
    "start_time": "2021-06-17T13:53:38.006Z"
   },
   {
    "duration": 4,
    "start_time": "2021-06-17T13:53:38.020Z"
   },
   {
    "duration": 5,
    "start_time": "2021-06-17T13:53:38.025Z"
   },
   {
    "duration": 5,
    "start_time": "2021-06-17T13:53:38.031Z"
   },
   {
    "duration": 7,
    "start_time": "2021-06-17T13:53:38.038Z"
   },
   {
    "duration": 8,
    "start_time": "2021-06-17T13:53:38.046Z"
   },
   {
    "duration": 5,
    "start_time": "2021-06-17T13:53:38.055Z"
   },
   {
    "duration": 23,
    "start_time": "2021-06-17T13:53:38.061Z"
   },
   {
    "duration": 2,
    "start_time": "2021-06-17T13:53:38.086Z"
   },
   {
    "duration": 30,
    "start_time": "2021-06-17T13:53:38.090Z"
   },
   {
    "duration": 14,
    "start_time": "2021-06-17T13:53:38.122Z"
   },
   {
    "duration": 150,
    "start_time": "2021-06-17T13:53:38.138Z"
   },
   {
    "duration": 3,
    "start_time": "2021-06-17T13:53:38.291Z"
   },
   {
    "duration": 11,
    "start_time": "2021-06-17T13:53:38.387Z"
   },
   {
    "duration": 104,
    "start_time": "2021-06-17T13:53:38.400Z"
   },
   {
    "duration": 26,
    "start_time": "2021-06-17T13:53:38.506Z"
   },
   {
    "duration": 8,
    "start_time": "2021-06-17T13:53:38.534Z"
   },
   {
    "duration": 21,
    "start_time": "2021-06-17T13:53:38.543Z"
   },
   {
    "duration": 20,
    "start_time": "2021-06-17T13:53:38.565Z"
   },
   {
    "duration": 15,
    "start_time": "2021-06-17T13:53:38.586Z"
   },
   {
    "duration": 15,
    "start_time": "2021-06-17T13:53:38.603Z"
   },
   {
    "duration": 11,
    "start_time": "2021-06-17T13:54:58.031Z"
   },
   {
    "duration": 24,
    "start_time": "2021-06-17T14:09:25.556Z"
   },
   {
    "duration": 10,
    "start_time": "2021-06-17T14:09:33.526Z"
   },
   {
    "duration": 9,
    "start_time": "2021-06-17T14:09:40.661Z"
   },
   {
    "duration": 10,
    "start_time": "2021-06-17T14:09:46.750Z"
   },
   {
    "duration": 10,
    "start_time": "2021-06-17T14:09:50.582Z"
   },
   {
    "duration": 8,
    "start_time": "2021-06-17T14:10:03.565Z"
   },
   {
    "duration": 5,
    "start_time": "2021-06-17T14:49:21.096Z"
   },
   {
    "duration": 10,
    "start_time": "2021-06-17T14:49:31.691Z"
   },
   {
    "duration": 11,
    "start_time": "2021-06-17T14:51:01.930Z"
   },
   {
    "duration": 285,
    "start_time": "2021-06-17T15:04:39.967Z"
   },
   {
    "duration": 3,
    "start_time": "2021-06-17T15:06:35.166Z"
   },
   {
    "duration": 204,
    "start_time": "2021-06-17T15:33:48.202Z"
   },
   {
    "duration": 192,
    "start_time": "2021-06-17T15:34:51.243Z"
   },
   {
    "duration": 3,
    "start_time": "2021-06-17T15:35:04.555Z"
   },
   {
    "duration": 3,
    "start_time": "2021-06-17T15:35:06.138Z"
   },
   {
    "duration": 380,
    "start_time": "2021-06-17T15:35:06.659Z"
   },
   {
    "duration": 9,
    "start_time": "2021-06-17T15:36:26.771Z"
   },
   {
    "duration": 394,
    "start_time": "2021-06-17T15:37:48.595Z"
   },
   {
    "duration": 188,
    "start_time": "2021-06-17T15:38:45.656Z"
   },
   {
    "duration": 175,
    "start_time": "2021-06-17T15:38:57.746Z"
   },
   {
    "duration": 3,
    "start_time": "2021-06-17T15:39:14.370Z"
   },
   {
    "duration": 3,
    "start_time": "2021-06-17T15:39:16.367Z"
   },
   {
    "duration": 2504,
    "start_time": "2021-06-17T15:39:17.136Z"
   },
   {
    "duration": 15,
    "start_time": "2021-06-17T15:39:30.777Z"
   },
   {
    "duration": 4,
    "start_time": "2021-06-17T15:40:37.008Z"
   },
   {
    "duration": 4,
    "start_time": "2021-06-17T15:40:40.224Z"
   },
   {
    "duration": 4,
    "start_time": "2021-06-17T15:40:47.186Z"
   },
   {
    "duration": 2516,
    "start_time": "2021-06-17T15:42:49.814Z"
   },
   {
    "duration": 5,
    "start_time": "2021-06-17T15:42:58.393Z"
   },
   {
    "duration": 1023,
    "start_time": "2021-06-17T15:43:11.830Z"
   },
   {
    "duration": 1039,
    "start_time": "2021-06-17T15:43:46.180Z"
   },
   {
    "duration": 5,
    "start_time": "2021-06-17T15:44:15.653Z"
   },
   {
    "duration": 1015,
    "start_time": "2021-06-17T15:44:32.718Z"
   },
   {
    "duration": 2508,
    "start_time": "2021-06-17T15:45:22.580Z"
   },
   {
    "duration": 43,
    "start_time": "2021-06-17T15:45:30.292Z"
   },
   {
    "duration": 10,
    "start_time": "2021-06-17T15:47:57.309Z"
   },
   {
    "duration": 6,
    "start_time": "2021-06-17T15:48:20.883Z"
   },
   {
    "duration": 2453,
    "start_time": "2021-06-17T15:48:55.113Z"
   },
   {
    "duration": 178,
    "start_time": "2021-06-17T15:48:58.346Z"
   },
   {
    "duration": 185,
    "start_time": "2021-06-17T15:49:10.521Z"
   },
   {
    "duration": 2541,
    "start_time": "2021-06-17T15:49:16.586Z"
   },
   {
    "duration": 183,
    "start_time": "2021-06-17T15:49:19.938Z"
   },
   {
    "duration": 2476,
    "start_time": "2021-06-17T15:49:41.033Z"
   },
   {
    "duration": 15,
    "start_time": "2021-06-17T15:49:43.511Z"
   },
   {
    "duration": 2487,
    "start_time": "2021-06-17T15:52:39.471Z"
   },
   {
    "duration": 207,
    "start_time": "2021-06-17T15:52:43.111Z"
   },
   {
    "duration": 46,
    "start_time": "2021-06-17T15:52:57.838Z"
   },
   {
    "duration": 2498,
    "start_time": "2021-06-17T15:53:04.079Z"
   },
   {
    "duration": 44,
    "start_time": "2021-06-17T15:53:08.280Z"
   },
   {
    "duration": 4,
    "start_time": "2021-06-17T15:53:24.727Z"
   },
   {
    "duration": 10,
    "start_time": "2021-06-17T15:53:54.543Z"
   },
   {
    "duration": 2547,
    "start_time": "2021-06-17T15:53:57.678Z"
   },
   {
    "duration": 190,
    "start_time": "2021-06-17T15:54:00.227Z"
   },
   {
    "duration": 43,
    "start_time": "2021-06-17T15:54:45.990Z"
   },
   {
    "duration": 175,
    "start_time": "2021-06-17T15:55:16.957Z"
   },
   {
    "duration": 2482,
    "start_time": "2021-06-17T15:55:20.913Z"
   },
   {
    "duration": 8,
    "start_time": "2021-06-17T15:55:23.397Z"
   },
   {
    "duration": 2589,
    "start_time": "2021-06-17T15:55:33.493Z"
   },
   {
    "duration": 10,
    "start_time": "2021-06-17T15:55:36.085Z"
   },
   {
    "duration": 2566,
    "start_time": "2021-06-17T15:55:46.639Z"
   },
   {
    "duration": 2552,
    "start_time": "2021-06-17T15:56:04.109Z"
   },
   {
    "duration": 10,
    "start_time": "2021-06-17T15:56:11.157Z"
   },
   {
    "duration": 10,
    "start_time": "2021-06-17T15:56:18.276Z"
   },
   {
    "duration": 53,
    "start_time": "2021-06-17T15:56:22.300Z"
   },
   {
    "duration": 140,
    "start_time": "2021-06-17T15:56:32.982Z"
   },
   {
    "duration": 5,
    "start_time": "2021-06-17T15:57:35.732Z"
   },
   {
    "duration": 5,
    "start_time": "2021-06-17T15:57:37.428Z"
   },
   {
    "duration": 3,
    "start_time": "2021-06-17T15:57:51.885Z"
   },
   {
    "duration": 10,
    "start_time": "2021-06-17T15:57:53.131Z"
   },
   {
    "duration": 2,
    "start_time": "2021-06-17T15:58:06.565Z"
   },
   {
    "duration": 5,
    "start_time": "2021-06-17T15:58:08.306Z"
   },
   {
    "duration": 4,
    "start_time": "2021-06-17T15:58:21.690Z"
   },
   {
    "duration": 3,
    "start_time": "2021-06-17T15:58:22.196Z"
   },
   {
    "duration": 9,
    "start_time": "2021-06-17T15:58:22.834Z"
   },
   {
    "duration": 2,
    "start_time": "2021-06-17T15:58:34.010Z"
   },
   {
    "duration": 3,
    "start_time": "2021-06-17T15:58:35.289Z"
   },
   {
    "duration": 2555,
    "start_time": "2021-06-17T15:58:35.668Z"
   },
   {
    "duration": 44,
    "start_time": "2021-06-17T15:58:38.224Z"
   },
   {
    "duration": 3,
    "start_time": "2021-06-17T16:04:23.223Z"
   },
   {
    "duration": 4,
    "start_time": "2021-06-17T16:04:24.382Z"
   },
   {
    "duration": 3,
    "start_time": "2021-06-17T16:04:25.006Z"
   },
   {
    "duration": 9,
    "start_time": "2021-06-17T16:04:25.438Z"
   },
   {
    "duration": 3,
    "start_time": "2021-06-17T16:04:30.822Z"
   },
   {
    "duration": 3,
    "start_time": "2021-06-17T16:04:31.726Z"
   },
   {
    "duration": 2510,
    "start_time": "2021-06-17T16:04:32.262Z"
   },
   {
    "duration": 47,
    "start_time": "2021-06-17T16:04:34.773Z"
   },
   {
    "duration": 177,
    "start_time": "2021-06-17T16:05:42.590Z"
   },
   {
    "duration": 180,
    "start_time": "2021-06-17T16:05:47.319Z"
   },
   {
    "duration": 177,
    "start_time": "2021-06-17T16:05:51.407Z"
   },
   {
    "duration": 4,
    "start_time": "2021-06-17T16:05:54.838Z"
   },
   {
    "duration": 44,
    "start_time": "2021-06-17T16:06:37.557Z"
   },
   {
    "duration": 44,
    "start_time": "2021-06-17T16:08:31.461Z"
   },
   {
    "duration": 46,
    "start_time": "2021-06-17T16:08:39.529Z"
   },
   {
    "duration": 42,
    "start_time": "2021-06-17T16:11:10.732Z"
   },
   {
    "duration": 3,
    "start_time": "2021-06-17T16:16:01.687Z"
   },
   {
    "duration": 4,
    "start_time": "2021-06-17T16:16:02.567Z"
   },
   {
    "duration": 2,
    "start_time": "2021-06-17T16:16:03.073Z"
   },
   {
    "duration": 9,
    "start_time": "2021-06-17T16:16:03.447Z"
   },
   {
    "duration": 4,
    "start_time": "2021-06-17T16:16:06.709Z"
   },
   {
    "duration": 3,
    "start_time": "2021-06-17T16:16:10.654Z"
   },
   {
    "duration": 2651,
    "start_time": "2021-06-17T16:16:11.086Z"
   },
   {
    "duration": 56,
    "start_time": "2021-06-17T16:16:13.739Z"
   },
   {
    "duration": 44,
    "start_time": "2021-06-17T16:16:49.121Z"
   },
   {
    "duration": 45,
    "start_time": "2021-06-17T16:28:11.235Z"
   },
   {
    "duration": 45,
    "start_time": "2021-06-17T16:28:21.655Z"
   },
   {
    "duration": 4,
    "start_time": "2021-06-17T16:32:18.188Z"
   },
   {
    "duration": 44,
    "start_time": "2021-06-17T16:33:02.148Z"
   },
   {
    "duration": 4,
    "start_time": "2021-06-17T16:33:48.060Z"
   },
   {
    "duration": 6,
    "start_time": "2021-06-17T16:33:52.186Z"
   },
   {
    "duration": 7,
    "start_time": "2021-06-17T16:34:34.018Z"
   },
   {
    "duration": 7,
    "start_time": "2021-06-17T16:34:48.883Z"
   },
   {
    "duration": 8,
    "start_time": "2021-06-17T16:40:06.414Z"
   },
   {
    "duration": 6,
    "start_time": "2021-06-17T16:40:24.823Z"
   },
   {
    "duration": 8,
    "start_time": "2021-06-17T16:40:35.878Z"
   },
   {
    "duration": 6,
    "start_time": "2021-06-17T16:41:00.793Z"
   },
   {
    "duration": 7,
    "start_time": "2021-06-17T16:41:21.687Z"
   },
   {
    "duration": 7,
    "start_time": "2021-06-17T16:41:25.484Z"
   },
   {
    "duration": 6,
    "start_time": "2021-06-17T16:41:28.485Z"
   },
   {
    "duration": 6,
    "start_time": "2021-06-17T16:41:30.238Z"
   },
   {
    "duration": 6,
    "start_time": "2021-06-17T16:41:31.374Z"
   },
   {
    "duration": 1094,
    "start_time": "2021-06-17T16:49:32.762Z"
   },
   {
    "duration": 1053,
    "start_time": "2021-06-17T16:49:33.857Z"
   },
   {
    "duration": 13,
    "start_time": "2021-06-17T16:49:34.912Z"
   },
   {
    "duration": 12,
    "start_time": "2021-06-17T16:49:34.927Z"
   },
   {
    "duration": 51,
    "start_time": "2021-06-17T16:49:34.940Z"
   },
   {
    "duration": 5,
    "start_time": "2021-06-17T16:49:34.993Z"
   },
   {
    "duration": 5,
    "start_time": "2021-06-17T16:49:34.999Z"
   },
   {
    "duration": 2514,
    "start_time": "2021-06-17T16:49:35.007Z"
   },
   {
    "duration": 362,
    "start_time": "2021-06-17T16:49:37.523Z"
   },
   {
    "duration": 8,
    "start_time": "2021-06-17T16:49:37.886Z"
   },
   {
    "duration": 12,
    "start_time": "2021-06-17T16:49:37.896Z"
   },
   {
    "duration": 33,
    "start_time": "2021-06-17T16:49:37.909Z"
   },
   {
    "duration": 2345,
    "start_time": "2021-06-17T16:49:37.943Z"
   },
   {
    "duration": 383,
    "start_time": "2021-06-17T16:49:40.290Z"
   },
   {
    "duration": 12,
    "start_time": "2021-06-17T16:49:40.674Z"
   },
   {
    "duration": 11,
    "start_time": "2021-06-17T16:49:40.688Z"
   },
   {
    "duration": 34,
    "start_time": "2021-06-17T16:49:40.701Z"
   },
   {
    "duration": 2524,
    "start_time": "2021-06-17T16:49:40.737Z"
   },
   {
    "duration": 402,
    "start_time": "2021-06-17T16:49:43.263Z"
   },
   {
    "duration": 160,
    "start_time": "2021-06-17T16:49:43.667Z"
   },
   {
    "duration": 65,
    "start_time": "2021-06-17T16:49:43.828Z"
   },
   {
    "duration": 4,
    "start_time": "2021-06-17T16:49:43.894Z"
   },
   {
    "duration": 14,
    "start_time": "2021-06-17T16:49:43.902Z"
   },
   {
    "duration": 7,
    "start_time": "2021-06-17T16:49:43.918Z"
   },
   {
    "duration": 3,
    "start_time": "2021-06-17T16:49:43.926Z"
   },
   {
    "duration": 5,
    "start_time": "2021-06-17T16:49:43.930Z"
   },
   {
    "duration": 5,
    "start_time": "2021-06-17T16:49:43.936Z"
   },
   {
    "duration": 3,
    "start_time": "2021-06-17T16:49:43.943Z"
   },
   {
    "duration": 6,
    "start_time": "2021-06-17T16:49:43.948Z"
   },
   {
    "duration": 67,
    "start_time": "2021-06-17T16:49:43.955Z"
   },
   {
    "duration": 4,
    "start_time": "2021-06-17T16:49:44.024Z"
   },
   {
    "duration": 5,
    "start_time": "2021-06-17T16:49:44.029Z"
   },
   {
    "duration": 5,
    "start_time": "2021-06-17T16:49:44.035Z"
   },
   {
    "duration": 63,
    "start_time": "2021-06-17T16:49:44.041Z"
   },
   {
    "duration": 3,
    "start_time": "2021-06-17T16:49:44.105Z"
   },
   {
    "duration": 21,
    "start_time": "2021-06-17T16:49:44.109Z"
   },
   {
    "duration": 5,
    "start_time": "2021-06-17T16:49:44.131Z"
   },
   {
    "duration": 10,
    "start_time": "2021-06-17T16:49:44.137Z"
   },
   {
    "duration": 10,
    "start_time": "2021-06-17T16:49:44.148Z"
   },
   {
    "duration": 9,
    "start_time": "2021-06-17T16:49:44.160Z"
   },
   {
    "duration": 14,
    "start_time": "2021-06-17T16:49:44.171Z"
   },
   {
    "duration": 10,
    "start_time": "2021-06-17T16:49:44.186Z"
   },
   {
    "duration": 7,
    "start_time": "2021-06-17T16:49:44.197Z"
   },
   {
    "duration": 10,
    "start_time": "2021-06-17T16:49:44.205Z"
   },
   {
    "duration": 6,
    "start_time": "2021-06-17T16:49:44.216Z"
   },
   {
    "duration": 9,
    "start_time": "2021-06-17T16:49:44.223Z"
   },
   {
    "duration": 155,
    "start_time": "2021-06-17T16:49:44.233Z"
   },
   {
    "duration": 2,
    "start_time": "2021-06-17T16:49:44.390Z"
   },
   {
    "duration": 104,
    "start_time": "2021-06-17T16:49:44.394Z"
   },
   {
    "duration": 99,
    "start_time": "2021-06-17T16:49:44.501Z"
   },
   {
    "duration": 27,
    "start_time": "2021-06-17T16:49:44.602Z"
   },
   {
    "duration": 7,
    "start_time": "2021-06-17T16:49:44.630Z"
   },
   {
    "duration": 13,
    "start_time": "2021-06-17T16:49:44.638Z"
   },
   {
    "duration": 2,
    "start_time": "2021-06-17T16:49:44.652Z"
   },
   {
    "duration": 5,
    "start_time": "2021-06-17T16:49:44.656Z"
   },
   {
    "duration": 22,
    "start_time": "2021-06-17T16:49:44.663Z"
   },
   {
    "duration": 8,
    "start_time": "2021-06-17T16:49:44.686Z"
   },
   {
    "duration": 2,
    "start_time": "2021-06-17T16:49:44.696Z"
   },
   {
    "duration": 270,
    "start_time": "2021-06-17T16:49:44.700Z"
   },
   {
    "duration": -114,
    "start_time": "2021-06-17T16:49:45.086Z"
   },
   {
    "duration": -115,
    "start_time": "2021-06-17T16:49:45.088Z"
   },
   {
    "duration": -118,
    "start_time": "2021-06-17T16:49:45.091Z"
   },
   {
    "duration": -119,
    "start_time": "2021-06-17T16:49:45.093Z"
   },
   {
    "duration": -120,
    "start_time": "2021-06-17T16:49:45.095Z"
   },
   {
    "duration": -121,
    "start_time": "2021-06-17T16:49:45.097Z"
   },
   {
    "duration": 3,
    "start_time": "2021-06-17T16:50:11.474Z"
   },
   {
    "duration": 2560,
    "start_time": "2021-06-17T16:50:11.876Z"
   },
   {
    "duration": 48,
    "start_time": "2021-06-17T16:50:14.438Z"
   },
   {
    "duration": 190,
    "start_time": "2021-06-17T16:50:14.487Z"
   },
   {
    "duration": -114,
    "start_time": "2021-06-17T16:50:14.793Z"
   },
   {
    "duration": -118,
    "start_time": "2021-06-17T16:50:14.798Z"
   },
   {
    "duration": 6,
    "start_time": "2021-06-17T16:50:35.907Z"
   },
   {
    "duration": 6,
    "start_time": "2021-06-17T16:50:36.690Z"
   },
   {
    "duration": 6,
    "start_time": "2021-06-17T16:50:37.162Z"
   },
   {
    "duration": 4,
    "start_time": "2021-06-17T17:02:18.972Z"
   },
   {
    "duration": 4,
    "start_time": "2021-06-17T17:02:31.143Z"
   },
   {
    "duration": 4,
    "start_time": "2021-06-17T17:02:45.628Z"
   },
   {
    "duration": 61,
    "start_time": "2021-06-17T17:04:47.817Z"
   },
   {
    "duration": 63,
    "start_time": "2021-06-17T17:04:52.458Z"
   },
   {
    "duration": 3,
    "start_time": "2021-06-17T17:04:55.322Z"
   },
   {
    "duration": 10,
    "start_time": "2021-06-17T17:04:57.224Z"
   },
   {
    "duration": 3,
    "start_time": "2021-06-17T17:05:13.064Z"
   },
   {
    "duration": 10,
    "start_time": "2021-06-17T17:05:13.928Z"
   },
   {
    "duration": 1030,
    "start_time": "2021-06-17T17:21:39.950Z"
   },
   {
    "duration": 1091,
    "start_time": "2021-06-17T17:22:18.430Z"
   },
   {
    "duration": 1035,
    "start_time": "2021-06-17T17:25:06.429Z"
   },
   {
    "duration": 1063,
    "start_time": "2021-06-17T17:27:12.636Z"
   },
   {
    "duration": 207,
    "start_time": "2021-06-17T17:28:28.697Z"
   },
   {
    "duration": 2538,
    "start_time": "2021-06-17T17:31:23.224Z"
   },
   {
    "duration": 31,
    "start_time": "2021-06-17T17:31:27.304Z"
   },
   {
    "duration": 6,
    "start_time": "2021-06-17T17:31:48.382Z"
   },
   {
    "duration": 5,
    "start_time": "2021-06-17T17:31:49.944Z"
   },
   {
    "duration": 6,
    "start_time": "2021-06-17T17:31:51.198Z"
   },
   {
    "duration": 4,
    "start_time": "2021-06-17T17:31:52.454Z"
   },
   {
    "duration": 5,
    "start_time": "2021-06-17T17:32:18.757Z"
   },
   {
    "duration": 4,
    "start_time": "2021-06-17T17:32:26.118Z"
   },
   {
    "duration": 1046,
    "start_time": "2021-06-17T17:34:54.973Z"
   },
   {
    "duration": 1046,
    "start_time": "2021-06-17T17:35:04.723Z"
   },
   {
    "duration": -131,
    "start_time": "2021-06-17T17:35:05.902Z"
   },
   {
    "duration": 2535,
    "start_time": "2021-06-17T17:35:24.014Z"
   },
   {
    "duration": 31,
    "start_time": "2021-06-17T17:35:27.163Z"
   },
   {
    "duration": 4,
    "start_time": "2021-06-17T17:35:30.579Z"
   },
   {
    "duration": 9,
    "start_time": "2021-06-17T17:44:05.350Z"
   },
   {
    "duration": 21,
    "start_time": "2021-06-17T17:44:06.893Z"
   },
   {
    "duration": 8,
    "start_time": "2021-06-17T17:44:07.269Z"
   },
   {
    "duration": 3,
    "start_time": "2021-06-17T17:44:09.628Z"
   },
   {
    "duration": 4,
    "start_time": "2021-06-17T17:44:10.293Z"
   },
   {
    "duration": 2,
    "start_time": "2021-06-17T17:44:10.623Z"
   },
   {
    "duration": 9,
    "start_time": "2021-06-17T17:44:10.949Z"
   },
   {
    "duration": 3,
    "start_time": "2021-06-17T17:44:13.661Z"
   },
   {
    "duration": 3,
    "start_time": "2021-06-17T17:44:14.806Z"
   },
   {
    "duration": 2654,
    "start_time": "2021-06-17T17:44:15.182Z"
   },
   {
    "duration": 32,
    "start_time": "2021-06-17T17:44:17.837Z"
   },
   {
    "duration": 15,
    "start_time": "2021-06-17T17:44:17.870Z"
   },
   {
    "duration": 2566,
    "start_time": "2021-06-17T17:58:21.614Z"
   },
   {
    "duration": 28,
    "start_time": "2021-06-17T17:58:25.925Z"
   },
   {
    "duration": 4,
    "start_time": "2021-06-17T17:58:42.659Z"
   },
   {
    "duration": 6,
    "start_time": "2021-06-17T18:02:21.499Z"
   },
   {
    "duration": 2568,
    "start_time": "2021-06-17T18:03:18.051Z"
   },
   {
    "duration": 5,
    "start_time": "2021-06-17T18:03:22.833Z"
   },
   {
    "duration": 32,
    "start_time": "2021-06-17T18:03:24.264Z"
   },
   {
    "duration": 4,
    "start_time": "2021-06-17T18:03:27.816Z"
   },
   {
    "duration": 4,
    "start_time": "2021-06-17T18:03:28.968Z"
   },
   {
    "duration": 4,
    "start_time": "2021-06-17T18:05:42.606Z"
   },
   {
    "duration": 3,
    "start_time": "2021-06-17T18:05:52.681Z"
   },
   {
    "duration": 5,
    "start_time": "2021-06-17T18:06:26.966Z"
   },
   {
    "duration": 2561,
    "start_time": "2021-06-17T18:06:42.611Z"
   },
   {
    "duration": 31,
    "start_time": "2021-06-17T18:06:45.805Z"
   },
   {
    "duration": 3,
    "start_time": "2021-06-17T18:06:46.670Z"
   },
   {
    "duration": 3,
    "start_time": "2021-06-17T18:06:51.206Z"
   },
   {
    "duration": 7,
    "start_time": "2021-06-17T18:07:20.886Z"
   },
   {
    "duration": 2592,
    "start_time": "2021-06-17T18:07:51.430Z"
   },
   {
    "duration": 30,
    "start_time": "2021-06-17T18:07:55.727Z"
   },
   {
    "duration": 3,
    "start_time": "2021-06-17T18:07:56.805Z"
   },
   {
    "duration": 4,
    "start_time": "2021-06-17T18:08:01.460Z"
   },
   {
    "duration": 4,
    "start_time": "2021-06-17T18:08:09.965Z"
   },
   {
    "duration": 7,
    "start_time": "2021-06-17T18:08:11.952Z"
   },
   {
    "duration": 4,
    "start_time": "2021-06-17T18:08:25.766Z"
   },
   {
    "duration": 2636,
    "start_time": "2021-06-17T18:09:11.693Z"
   },
   {
    "duration": 31,
    "start_time": "2021-06-17T18:09:16.092Z"
   },
   {
    "duration": 4,
    "start_time": "2021-06-17T18:09:25.324Z"
   },
   {
    "duration": 3,
    "start_time": "2021-06-17T18:09:27.885Z"
   },
   {
    "duration": 7,
    "start_time": "2021-06-17T18:09:29.252Z"
   },
   {
    "duration": 181,
    "start_time": "2021-06-17T18:11:02.303Z"
   },
   {
    "duration": 4,
    "start_time": "2021-06-17T18:11:16.683Z"
   },
   {
    "duration": 8,
    "start_time": "2021-06-17T18:12:10.195Z"
   },
   {
    "duration": 178,
    "start_time": "2021-06-17T18:13:16.602Z"
   },
   {
    "duration": 194,
    "start_time": "2021-06-17T18:13:28.649Z"
   },
   {
    "duration": 8,
    "start_time": "2021-06-17T18:13:47.538Z"
   },
   {
    "duration": 4,
    "start_time": "2021-06-17T18:13:59.298Z"
   },
   {
    "duration": 4,
    "start_time": "2021-06-17T18:14:04.578Z"
   },
   {
    "duration": 4,
    "start_time": "2021-06-17T18:14:13.274Z"
   },
   {
    "duration": 5,
    "start_time": "2021-06-17T18:14:22.658Z"
   },
   {
    "duration": 177,
    "start_time": "2021-06-17T18:16:03.511Z"
   },
   {
    "duration": 4,
    "start_time": "2021-06-17T18:16:09.089Z"
   },
   {
    "duration": 8,
    "start_time": "2021-06-17T18:16:13.280Z"
   },
   {
    "duration": 4,
    "start_time": "2021-06-17T18:16:22.335Z"
   },
   {
    "duration": 196,
    "start_time": "2021-06-17T18:16:32.642Z"
   },
   {
    "duration": 3,
    "start_time": "2021-06-17T18:16:36.993Z"
   },
   {
    "duration": 9,
    "start_time": "2021-06-17T18:16:40.062Z"
   },
   {
    "duration": 269,
    "start_time": "2021-06-17T18:17:02.649Z"
   },
   {
    "duration": 4,
    "start_time": "2021-06-17T18:17:54.910Z"
   },
   {
    "duration": 3,
    "start_time": "2021-06-17T18:18:13.560Z"
   },
   {
    "duration": 4,
    "start_time": "2021-06-17T18:18:41.799Z"
   },
   {
    "duration": 4,
    "start_time": "2021-06-17T18:19:23.431Z"
   },
   {
    "duration": 4,
    "start_time": "2021-06-17T18:19:29.406Z"
   },
   {
    "duration": 181,
    "start_time": "2021-06-17T18:26:26.016Z"
   },
   {
    "duration": 3,
    "start_time": "2021-06-17T18:26:35.064Z"
   },
   {
    "duration": 352,
    "start_time": "2021-06-17T18:26:37.585Z"
   },
   {
    "duration": 343,
    "start_time": "2021-06-17T18:27:17.296Z"
   },
   {
    "duration": 351,
    "start_time": "2021-06-17T18:27:37.344Z"
   },
   {
    "duration": 348,
    "start_time": "2021-06-17T18:28:58.240Z"
   },
   {
    "duration": 9,
    "start_time": "2021-06-17T18:29:54.726Z"
   },
   {
    "duration": 11,
    "start_time": "2021-06-17T18:30:20.286Z"
   },
   {
    "duration": 4,
    "start_time": "2021-06-17T18:30:25.557Z"
   },
   {
    "duration": 188,
    "start_time": "2021-06-17T18:30:37.664Z"
   },
   {
    "duration": 11,
    "start_time": "2021-06-17T18:30:46.432Z"
   },
   {
    "duration": 11,
    "start_time": "2021-06-17T18:30:59.056Z"
   },
   {
    "duration": 173,
    "start_time": "2021-06-17T18:31:17.406Z"
   },
   {
    "duration": 176,
    "start_time": "2021-06-17T18:31:31.638Z"
   },
   {
    "duration": 174,
    "start_time": "2021-06-17T18:31:36.420Z"
   },
   {
    "duration": 11,
    "start_time": "2021-06-17T18:31:41.593Z"
   },
   {
    "duration": 4328,
    "start_time": "2021-06-17T18:32:31.854Z"
   },
   {
    "duration": 181,
    "start_time": "2021-06-17T18:32:49.974Z"
   },
   {
    "duration": 4192,
    "start_time": "2021-06-17T18:32:54.773Z"
   },
   {
    "duration": 12,
    "start_time": "2021-06-17T18:32:59.724Z"
   },
   {
    "duration": 182,
    "start_time": "2021-06-17T18:33:10.421Z"
   },
   {
    "duration": 7,
    "start_time": "2021-06-17T18:33:14.037Z"
   },
   {
    "duration": 4522,
    "start_time": "2021-06-17T18:33:22.675Z"
   },
   {
    "duration": 236,
    "start_time": "2021-06-17T18:33:32.133Z"
   },
   {
    "duration": 4,
    "start_time": "2021-06-17T18:34:46.250Z"
   },
   {
    "duration": 14,
    "start_time": "2021-06-17T18:37:00.920Z"
   },
   {
    "duration": 11,
    "start_time": "2021-06-17T18:37:31.994Z"
   },
   {
    "duration": 13,
    "start_time": "2021-06-17T18:38:04.563Z"
   },
   {
    "duration": 172,
    "start_time": "2021-06-17T18:38:52.167Z"
   },
   {
    "duration": 14,
    "start_time": "2021-06-17T18:41:01.526Z"
   },
   {
    "duration": 13,
    "start_time": "2021-06-17T18:42:25.421Z"
   },
   {
    "duration": 175,
    "start_time": "2021-06-17T18:42:56.719Z"
   },
   {
    "duration": 206,
    "start_time": "2021-06-17T18:43:50.405Z"
   },
   {
    "duration": 5,
    "start_time": "2021-06-17T18:44:38.478Z"
   },
   {
    "duration": 177,
    "start_time": "2021-06-17T18:44:47.694Z"
   },
   {
    "duration": 9,
    "start_time": "2021-06-17T18:45:10.302Z"
   },
   {
    "duration": 8,
    "start_time": "2021-06-17T18:45:33.363Z"
   },
   {
    "duration": 4,
    "start_time": "2021-06-17T18:45:45.362Z"
   },
   {
    "duration": 8,
    "start_time": "2021-06-17T18:49:11.185Z"
   },
   {
    "duration": 4,
    "start_time": "2021-06-17T18:49:55.358Z"
   },
   {
    "duration": 8,
    "start_time": "2021-06-17T18:50:00.941Z"
   },
   {
    "duration": 12,
    "start_time": "2021-06-17T18:51:26.470Z"
   },
   {
    "duration": 12,
    "start_time": "2021-06-17T18:51:46.390Z"
   },
   {
    "duration": 4,
    "start_time": "2021-06-17T18:52:16.230Z"
   },
   {
    "duration": 1080,
    "start_time": "2021-06-17T18:52:56.640Z"
   },
   {
    "duration": 939,
    "start_time": "2021-06-17T18:52:57.722Z"
   },
   {
    "duration": 14,
    "start_time": "2021-06-17T18:52:58.663Z"
   },
   {
    "duration": 14,
    "start_time": "2021-06-17T18:52:58.679Z"
   },
   {
    "duration": 33,
    "start_time": "2021-06-17T18:52:58.694Z"
   },
   {
    "duration": 6,
    "start_time": "2021-06-17T18:52:58.728Z"
   },
   {
    "duration": 5,
    "start_time": "2021-06-17T18:52:58.735Z"
   },
   {
    "duration": 2519,
    "start_time": "2021-06-17T18:52:58.742Z"
   },
   {
    "duration": 418,
    "start_time": "2021-06-17T18:53:01.263Z"
   },
   {
    "duration": 8,
    "start_time": "2021-06-17T18:53:01.683Z"
   },
   {
    "duration": 14,
    "start_time": "2021-06-17T18:53:01.693Z"
   },
   {
    "duration": 35,
    "start_time": "2021-06-17T18:53:01.709Z"
   },
   {
    "duration": 2364,
    "start_time": "2021-06-17T18:53:01.745Z"
   },
   {
    "duration": 375,
    "start_time": "2021-06-17T18:53:04.111Z"
   },
   {
    "duration": 10,
    "start_time": "2021-06-17T18:53:04.487Z"
   },
   {
    "duration": 14,
    "start_time": "2021-06-17T18:53:04.498Z"
   },
   {
    "duration": 37,
    "start_time": "2021-06-17T18:53:04.514Z"
   },
   {
    "duration": 2609,
    "start_time": "2021-06-17T18:53:04.553Z"
   },
   {
    "duration": 408,
    "start_time": "2021-06-17T18:53:07.163Z"
   },
   {
    "duration": 161,
    "start_time": "2021-06-17T18:53:07.572Z"
   },
   {
    "duration": 65,
    "start_time": "2021-06-17T18:53:07.735Z"
   },
   {
    "duration": 3,
    "start_time": "2021-06-17T18:53:07.801Z"
   },
   {
    "duration": 16,
    "start_time": "2021-06-17T18:53:07.808Z"
   },
   {
    "duration": 11,
    "start_time": "2021-06-17T18:53:07.826Z"
   },
   {
    "duration": 11,
    "start_time": "2021-06-17T18:53:07.838Z"
   },
   {
    "duration": 10,
    "start_time": "2021-06-17T18:53:07.851Z"
   },
   {
    "duration": 4,
    "start_time": "2021-06-17T18:53:07.863Z"
   },
   {
    "duration": 11,
    "start_time": "2021-06-17T18:53:07.869Z"
   },
   {
    "duration": 15,
    "start_time": "2021-06-17T18:53:07.882Z"
   },
   {
    "duration": 49,
    "start_time": "2021-06-17T18:53:07.898Z"
   },
   {
    "duration": 3,
    "start_time": "2021-06-17T18:53:07.948Z"
   },
   {
    "duration": 9,
    "start_time": "2021-06-17T18:53:07.953Z"
   },
   {
    "duration": 6,
    "start_time": "2021-06-17T18:53:07.964Z"
   },
   {
    "duration": 48,
    "start_time": "2021-06-17T18:53:07.972Z"
   },
   {
    "duration": 2,
    "start_time": "2021-06-17T18:53:08.021Z"
   },
   {
    "duration": 16,
    "start_time": "2021-06-17T18:53:08.025Z"
   },
   {
    "duration": 15,
    "start_time": "2021-06-17T18:53:08.042Z"
   },
   {
    "duration": 12,
    "start_time": "2021-06-17T18:53:08.058Z"
   },
   {
    "duration": 11,
    "start_time": "2021-06-17T18:53:08.071Z"
   },
   {
    "duration": 10,
    "start_time": "2021-06-17T18:53:08.084Z"
   },
   {
    "duration": 7,
    "start_time": "2021-06-17T18:53:08.095Z"
   },
   {
    "duration": 5,
    "start_time": "2021-06-17T18:53:08.103Z"
   },
   {
    "duration": 11,
    "start_time": "2021-06-17T18:53:08.110Z"
   },
   {
    "duration": 6,
    "start_time": "2021-06-17T18:53:08.122Z"
   },
   {
    "duration": 8,
    "start_time": "2021-06-17T18:53:08.130Z"
   },
   {
    "duration": 5,
    "start_time": "2021-06-17T18:53:08.140Z"
   },
   {
    "duration": 142,
    "start_time": "2021-06-17T18:53:08.146Z"
   },
   {
    "duration": 3,
    "start_time": "2021-06-17T18:53:08.290Z"
   },
   {
    "duration": 193,
    "start_time": "2021-06-17T18:53:08.295Z"
   },
   {
    "duration": 16,
    "start_time": "2021-06-17T18:53:08.490Z"
   },
   {
    "duration": 30,
    "start_time": "2021-06-17T18:53:08.508Z"
   },
   {
    "duration": 9,
    "start_time": "2021-06-17T18:53:08.540Z"
   },
   {
    "duration": 4,
    "start_time": "2021-06-17T18:53:08.551Z"
   },
   {
    "duration": 16,
    "start_time": "2021-06-17T18:53:08.557Z"
   },
   {
    "duration": 11,
    "start_time": "2021-06-17T18:53:08.574Z"
   },
   {
    "duration": 14,
    "start_time": "2021-06-17T18:53:08.587Z"
   },
   {
    "duration": 7,
    "start_time": "2021-06-17T18:53:08.603Z"
   },
   {
    "duration": 4,
    "start_time": "2021-06-17T18:53:08.612Z"
   },
   {
    "duration": 2630,
    "start_time": "2021-06-17T18:53:08.618Z"
   },
   {
    "duration": 39,
    "start_time": "2021-06-17T18:53:11.250Z"
   },
   {
    "duration": 4,
    "start_time": "2021-06-17T18:53:11.290Z"
   },
   {
    "duration": 10,
    "start_time": "2021-06-17T18:53:11.295Z"
   },
   {
    "duration": 10,
    "start_time": "2021-06-17T18:53:11.306Z"
   },
   {
    "duration": 8,
    "start_time": "2021-06-17T18:53:11.317Z"
   },
   {
    "duration": 12,
    "start_time": "2021-06-17T18:53:11.326Z"
   },
   {
    "duration": 13,
    "start_time": "2021-06-17T19:08:56.267Z"
   },
   {
    "duration": 7,
    "start_time": "2021-06-17T19:10:37.491Z"
   },
   {
    "duration": 6,
    "start_time": "2021-06-17T19:10:41.171Z"
   },
   {
    "duration": 9,
    "start_time": "2021-06-17T19:10:42.219Z"
   },
   {
    "duration": 1124,
    "start_time": "2021-06-17T19:14:05.838Z"
   },
   {
    "duration": 1127,
    "start_time": "2021-06-17T19:14:06.964Z"
   },
   {
    "duration": 15,
    "start_time": "2021-06-17T19:14:08.094Z"
   },
   {
    "duration": 13,
    "start_time": "2021-06-17T19:14:08.111Z"
   },
   {
    "duration": 34,
    "start_time": "2021-06-17T19:14:08.126Z"
   },
   {
    "duration": 26,
    "start_time": "2021-06-17T19:14:08.161Z"
   },
   {
    "duration": 16,
    "start_time": "2021-06-17T19:14:08.188Z"
   },
   {
    "duration": 2595,
    "start_time": "2021-06-17T19:14:08.206Z"
   },
   {
    "duration": 385,
    "start_time": "2021-06-17T19:14:10.804Z"
   },
   {
    "duration": 10,
    "start_time": "2021-06-17T19:14:11.191Z"
   },
   {
    "duration": 14,
    "start_time": "2021-06-17T19:14:11.202Z"
   },
   {
    "duration": 34,
    "start_time": "2021-06-17T19:14:11.218Z"
   },
   {
    "duration": 2370,
    "start_time": "2021-06-17T19:14:11.254Z"
   },
   {
    "duration": 365,
    "start_time": "2021-06-17T19:14:13.625Z"
   },
   {
    "duration": 9,
    "start_time": "2021-06-17T19:14:13.991Z"
   },
   {
    "duration": 13,
    "start_time": "2021-06-17T19:14:14.001Z"
   },
   {
    "duration": 36,
    "start_time": "2021-06-17T19:14:14.016Z"
   },
   {
    "duration": 2618,
    "start_time": "2021-06-17T19:14:14.053Z"
   },
   {
    "duration": 395,
    "start_time": "2021-06-17T19:14:16.672Z"
   },
   {
    "duration": 164,
    "start_time": "2021-06-17T19:14:17.069Z"
   },
   {
    "duration": 66,
    "start_time": "2021-06-17T19:14:17.235Z"
   },
   {
    "duration": 3,
    "start_time": "2021-06-17T19:14:17.303Z"
   },
   {
    "duration": 23,
    "start_time": "2021-06-17T19:14:17.307Z"
   },
   {
    "duration": 17,
    "start_time": "2021-06-17T19:14:17.331Z"
   },
   {
    "duration": 8,
    "start_time": "2021-06-17T19:14:17.350Z"
   },
   {
    "duration": 19,
    "start_time": "2021-06-17T19:14:17.359Z"
   },
   {
    "duration": 14,
    "start_time": "2021-06-17T19:14:17.381Z"
   },
   {
    "duration": 16,
    "start_time": "2021-06-17T19:14:17.397Z"
   },
   {
    "duration": 16,
    "start_time": "2021-06-17T19:14:17.415Z"
   },
   {
    "duration": 40,
    "start_time": "2021-06-17T19:14:17.433Z"
   },
   {
    "duration": 4,
    "start_time": "2021-06-17T19:14:17.475Z"
   },
   {
    "duration": 20,
    "start_time": "2021-06-17T19:14:17.480Z"
   },
   {
    "duration": 13,
    "start_time": "2021-06-17T19:14:17.501Z"
   },
   {
    "duration": 50,
    "start_time": "2021-06-17T19:14:17.515Z"
   },
   {
    "duration": 2,
    "start_time": "2021-06-17T19:14:17.567Z"
   },
   {
    "duration": 20,
    "start_time": "2021-06-17T19:14:17.570Z"
   },
   {
    "duration": 13,
    "start_time": "2021-06-17T19:14:17.591Z"
   },
   {
    "duration": 18,
    "start_time": "2021-06-17T19:14:17.605Z"
   },
   {
    "duration": 11,
    "start_time": "2021-06-17T19:14:17.625Z"
   },
   {
    "duration": 10,
    "start_time": "2021-06-17T19:14:17.637Z"
   },
   {
    "duration": 10,
    "start_time": "2021-06-17T19:14:17.648Z"
   },
   {
    "duration": 7,
    "start_time": "2021-06-17T19:14:17.660Z"
   },
   {
    "duration": 9,
    "start_time": "2021-06-17T19:14:17.669Z"
   },
   {
    "duration": 8,
    "start_time": "2021-06-17T19:14:17.679Z"
   },
   {
    "duration": 6,
    "start_time": "2021-06-17T19:14:17.688Z"
   },
   {
    "duration": 9,
    "start_time": "2021-06-17T19:14:17.695Z"
   },
   {
    "duration": 182,
    "start_time": "2021-06-17T19:14:17.706Z"
   },
   {
    "duration": 2,
    "start_time": "2021-06-17T19:14:17.890Z"
   },
   {
    "duration": 94,
    "start_time": "2021-06-17T19:14:17.895Z"
   },
   {
    "duration": 94,
    "start_time": "2021-06-17T19:14:17.991Z"
   },
   {
    "duration": 25,
    "start_time": "2021-06-17T19:14:18.087Z"
   },
   {
    "duration": 8,
    "start_time": "2021-06-17T19:14:18.113Z"
   },
   {
    "duration": 10,
    "start_time": "2021-06-17T19:14:18.122Z"
   },
   {
    "duration": 13,
    "start_time": "2021-06-17T19:14:18.133Z"
   },
   {
    "duration": 6,
    "start_time": "2021-06-17T19:14:18.148Z"
   },
   {
    "duration": 12,
    "start_time": "2021-06-17T19:14:18.156Z"
   },
   {
    "duration": 3,
    "start_time": "2021-06-17T19:14:18.185Z"
   },
   {
    "duration": 8,
    "start_time": "2021-06-17T19:14:18.190Z"
   },
   {
    "duration": 62,
    "start_time": "2021-06-17T19:14:18.199Z"
   },
   {
    "duration": -209,
    "start_time": "2021-06-17T19:14:18.472Z"
   },
   {
    "duration": -210,
    "start_time": "2021-06-17T19:14:18.474Z"
   },
   {
    "duration": -212,
    "start_time": "2021-06-17T19:14:18.477Z"
   },
   {
    "duration": -214,
    "start_time": "2021-06-17T19:14:18.479Z"
   },
   {
    "duration": -215,
    "start_time": "2021-06-17T19:14:18.481Z"
   },
   {
    "duration": 66,
    "start_time": "2021-06-17T19:14:50.023Z"
   },
   {
    "duration": 60,
    "start_time": "2021-06-17T19:16:16.442Z"
   },
   {
    "duration": 2600,
    "start_time": "2021-06-17T19:16:51.793Z"
   },
   {
    "duration": 2549,
    "start_time": "2021-06-17T19:17:25.529Z"
   },
   {
    "duration": 1039,
    "start_time": "2021-06-17T19:17:34.939Z"
   },
   {
    "duration": 761,
    "start_time": "2021-06-17T19:17:35.980Z"
   },
   {
    "duration": 13,
    "start_time": "2021-06-17T19:17:36.743Z"
   },
   {
    "duration": 14,
    "start_time": "2021-06-17T19:17:36.758Z"
   },
   {
    "duration": 35,
    "start_time": "2021-06-17T19:17:36.785Z"
   },
   {
    "duration": 6,
    "start_time": "2021-06-17T19:17:36.822Z"
   },
   {
    "duration": 9,
    "start_time": "2021-06-17T19:17:36.829Z"
   },
   {
    "duration": 2642,
    "start_time": "2021-06-17T19:17:36.840Z"
   },
   {
    "duration": 393,
    "start_time": "2021-06-17T19:17:39.486Z"
   },
   {
    "duration": 11,
    "start_time": "2021-06-17T19:17:39.880Z"
   },
   {
    "duration": 13,
    "start_time": "2021-06-17T19:17:39.892Z"
   },
   {
    "duration": 35,
    "start_time": "2021-06-17T19:17:39.907Z"
   },
   {
    "duration": 2383,
    "start_time": "2021-06-17T19:17:39.944Z"
   },
   {
    "duration": 387,
    "start_time": "2021-06-17T19:17:42.329Z"
   },
   {
    "duration": 9,
    "start_time": "2021-06-17T19:17:42.718Z"
   },
   {
    "duration": 12,
    "start_time": "2021-06-17T19:17:42.729Z"
   },
   {
    "duration": 52,
    "start_time": "2021-06-17T19:17:42.743Z"
   },
   {
    "duration": 2633,
    "start_time": "2021-06-17T19:17:42.796Z"
   },
   {
    "duration": 380,
    "start_time": "2021-06-17T19:17:45.431Z"
   },
   {
    "duration": 159,
    "start_time": "2021-06-17T19:17:45.813Z"
   },
   {
    "duration": 67,
    "start_time": "2021-06-17T19:17:45.974Z"
   },
   {
    "duration": 4,
    "start_time": "2021-06-17T19:17:46.043Z"
   },
   {
    "duration": 14,
    "start_time": "2021-06-17T19:17:46.051Z"
   },
   {
    "duration": 22,
    "start_time": "2021-06-17T19:17:46.067Z"
   },
   {
    "duration": 3,
    "start_time": "2021-06-17T19:17:46.091Z"
   },
   {
    "duration": 3,
    "start_time": "2021-06-17T19:17:46.096Z"
   },
   {
    "duration": 4,
    "start_time": "2021-06-17T19:17:46.101Z"
   },
   {
    "duration": 4,
    "start_time": "2021-06-17T19:17:46.107Z"
   },
   {
    "duration": 4,
    "start_time": "2021-06-17T19:17:46.112Z"
   },
   {
    "duration": 40,
    "start_time": "2021-06-17T19:17:46.118Z"
   },
   {
    "duration": 25,
    "start_time": "2021-06-17T19:17:46.160Z"
   },
   {
    "duration": 5,
    "start_time": "2021-06-17T19:17:46.186Z"
   },
   {
    "duration": 5,
    "start_time": "2021-06-17T19:17:46.192Z"
   },
   {
    "duration": 41,
    "start_time": "2021-06-17T19:17:46.198Z"
   },
   {
    "duration": 2,
    "start_time": "2021-06-17T19:17:46.241Z"
   },
   {
    "duration": 11,
    "start_time": "2021-06-17T19:17:46.244Z"
   },
   {
    "duration": 4,
    "start_time": "2021-06-17T19:17:46.257Z"
   },
   {
    "duration": 23,
    "start_time": "2021-06-17T19:17:46.262Z"
   },
   {
    "duration": 4,
    "start_time": "2021-06-17T19:17:46.287Z"
   },
   {
    "duration": 5,
    "start_time": "2021-06-17T19:17:46.293Z"
   },
   {
    "duration": 4,
    "start_time": "2021-06-17T19:17:46.299Z"
   },
   {
    "duration": 4,
    "start_time": "2021-06-17T19:17:46.305Z"
   },
   {
    "duration": 4,
    "start_time": "2021-06-17T19:17:46.310Z"
   },
   {
    "duration": 8,
    "start_time": "2021-06-17T19:17:46.316Z"
   },
   {
    "duration": 5,
    "start_time": "2021-06-17T19:17:46.325Z"
   },
   {
    "duration": 5,
    "start_time": "2021-06-17T19:17:46.331Z"
   },
   {
    "duration": 155,
    "start_time": "2021-06-17T19:17:46.337Z"
   },
   {
    "duration": 92,
    "start_time": "2021-06-17T19:17:46.494Z"
   },
   {
    "duration": 97,
    "start_time": "2021-06-17T19:17:46.589Z"
   },
   {
    "duration": 10,
    "start_time": "2021-06-17T19:17:46.688Z"
   },
   {
    "duration": 24,
    "start_time": "2021-06-17T19:17:46.700Z"
   },
   {
    "duration": 7,
    "start_time": "2021-06-17T19:17:46.725Z"
   },
   {
    "duration": 8,
    "start_time": "2021-06-17T19:17:46.733Z"
   },
   {
    "duration": 17,
    "start_time": "2021-06-17T19:17:46.742Z"
   },
   {
    "duration": 4,
    "start_time": "2021-06-17T19:17:46.761Z"
   },
   {
    "duration": 23,
    "start_time": "2021-06-17T19:17:46.766Z"
   },
   {
    "duration": 3,
    "start_time": "2021-06-17T19:17:46.791Z"
   },
   {
    "duration": 5,
    "start_time": "2021-06-17T19:17:46.795Z"
   },
   {
    "duration": 2576,
    "start_time": "2021-06-17T19:17:46.802Z"
   },
   {
    "duration": 30,
    "start_time": "2021-06-17T19:17:49.380Z"
   },
   {
    "duration": 9,
    "start_time": "2021-06-17T19:17:49.411Z"
   },
   {
    "duration": 12,
    "start_time": "2021-06-17T19:17:49.422Z"
   },
   {
    "duration": 19,
    "start_time": "2021-06-17T19:17:49.435Z"
   },
   {
    "duration": 23,
    "start_time": "2021-06-17T19:17:49.456Z"
   },
   {
    "duration": 266,
    "start_time": "2021-06-17T19:20:56.438Z"
   },
   {
    "duration": 968,
    "start_time": "2021-06-17T19:21:17.079Z"
   },
   {
    "duration": 263,
    "start_time": "2021-06-17T19:33:31.280Z"
   },
   {
    "duration": 4542,
    "start_time": "2021-06-17T19:35:35.582Z"
   },
   {
    "duration": 341,
    "start_time": "2021-06-17T19:36:18.725Z"
   },
   {
    "duration": 8,
    "start_time": "2021-06-17T19:36:28.315Z"
   },
   {
    "duration": 6,
    "start_time": "2021-06-17T19:36:35.092Z"
   },
   {
    "duration": 2948,
    "start_time": "2021-06-17T19:38:58.891Z"
   },
   {
    "duration": 4,
    "start_time": "2021-06-17T19:39:29.585Z"
   },
   {
    "duration": 5,
    "start_time": "2021-06-17T19:40:44.665Z"
   },
   {
    "duration": 5,
    "start_time": "2021-06-17T19:40:55.017Z"
   },
   {
    "duration": 5,
    "start_time": "2021-06-17T19:41:01.978Z"
   },
   {
    "duration": 1529,
    "start_time": "2021-06-18T06:59:00.063Z"
   },
   {
    "duration": 1488,
    "start_time": "2021-06-18T06:59:01.595Z"
   },
   {
    "duration": 18,
    "start_time": "2021-06-18T06:59:03.086Z"
   },
   {
    "duration": 122,
    "start_time": "2021-06-18T06:59:03.106Z"
   },
   {
    "duration": 53,
    "start_time": "2021-06-18T06:59:03.230Z"
   },
   {
    "duration": 8,
    "start_time": "2021-06-18T06:59:03.286Z"
   },
   {
    "duration": 20,
    "start_time": "2021-06-18T06:59:03.297Z"
   },
   {
    "duration": 4097,
    "start_time": "2021-06-18T06:59:03.321Z"
   },
   {
    "duration": 567,
    "start_time": "2021-06-18T06:59:07.421Z"
   },
   {
    "duration": 13,
    "start_time": "2021-06-18T06:59:07.991Z"
   },
   {
    "duration": 21,
    "start_time": "2021-06-18T06:59:08.007Z"
   },
   {
    "duration": 68,
    "start_time": "2021-06-18T06:59:08.031Z"
   },
   {
    "duration": 3726,
    "start_time": "2021-06-18T06:59:08.102Z"
   },
   {
    "duration": 547,
    "start_time": "2021-06-18T06:59:11.831Z"
   },
   {
    "duration": 15,
    "start_time": "2021-06-18T06:59:12.381Z"
   },
   {
    "duration": 36,
    "start_time": "2021-06-18T06:59:12.399Z"
   },
   {
    "duration": 64,
    "start_time": "2021-06-18T06:59:12.439Z"
   },
   {
    "duration": 3930,
    "start_time": "2021-06-18T06:59:12.507Z"
   },
   {
    "duration": 575,
    "start_time": "2021-06-18T06:59:16.440Z"
   },
   {
    "duration": 285,
    "start_time": "2021-06-18T06:59:17.017Z"
   },
   {
    "duration": 109,
    "start_time": "2021-06-18T06:59:17.305Z"
   },
   {
    "duration": 5,
    "start_time": "2021-06-18T06:59:17.417Z"
   },
   {
    "duration": 36,
    "start_time": "2021-06-18T06:59:17.428Z"
   },
   {
    "duration": 38,
    "start_time": "2021-06-18T06:59:17.467Z"
   },
   {
    "duration": 15,
    "start_time": "2021-06-18T06:59:17.508Z"
   },
   {
    "duration": 23,
    "start_time": "2021-06-18T06:59:17.526Z"
   },
   {
    "duration": 32,
    "start_time": "2021-06-18T06:59:17.551Z"
   },
   {
    "duration": 16,
    "start_time": "2021-06-18T06:59:17.585Z"
   },
   {
    "duration": 14,
    "start_time": "2021-06-18T06:59:17.603Z"
   },
   {
    "duration": 60,
    "start_time": "2021-06-18T06:59:17.620Z"
   },
   {
    "duration": 5,
    "start_time": "2021-06-18T06:59:17.683Z"
   },
   {
    "duration": 33,
    "start_time": "2021-06-18T06:59:17.691Z"
   },
   {
    "duration": 19,
    "start_time": "2021-06-18T06:59:17.726Z"
   },
   {
    "duration": 64,
    "start_time": "2021-06-18T06:59:17.747Z"
   },
   {
    "duration": 4,
    "start_time": "2021-06-18T06:59:17.813Z"
   },
   {
    "duration": 30,
    "start_time": "2021-06-18T06:59:17.819Z"
   },
   {
    "duration": 24,
    "start_time": "2021-06-18T06:59:17.852Z"
   },
   {
    "duration": 25,
    "start_time": "2021-06-18T06:59:17.879Z"
   },
   {
    "duration": 18,
    "start_time": "2021-06-18T06:59:17.906Z"
   },
   {
    "duration": 19,
    "start_time": "2021-06-18T06:59:17.926Z"
   },
   {
    "duration": 18,
    "start_time": "2021-06-18T06:59:17.948Z"
   },
   {
    "duration": 12,
    "start_time": "2021-06-18T06:59:17.968Z"
   },
   {
    "duration": 20,
    "start_time": "2021-06-18T06:59:17.982Z"
   },
   {
    "duration": 19,
    "start_time": "2021-06-18T06:59:18.004Z"
   },
   {
    "duration": 16,
    "start_time": "2021-06-18T06:59:18.025Z"
   },
   {
    "duration": 20,
    "start_time": "2021-06-18T06:59:18.044Z"
   },
   {
    "duration": 292,
    "start_time": "2021-06-18T06:59:18.066Z"
   },
   {
    "duration": 94,
    "start_time": "2021-06-18T06:59:18.361Z"
   },
   {
    "duration": 96,
    "start_time": "2021-06-18T06:59:18.458Z"
   },
   {
    "duration": 22,
    "start_time": "2021-06-18T06:59:18.557Z"
   },
   {
    "duration": 48,
    "start_time": "2021-06-18T06:59:18.583Z"
   },
   {
    "duration": 25,
    "start_time": "2021-06-18T06:59:18.633Z"
   },
   {
    "duration": 20,
    "start_time": "2021-06-18T06:59:18.661Z"
   },
   {
    "duration": 34,
    "start_time": "2021-06-18T06:59:18.684Z"
   },
   {
    "duration": 21,
    "start_time": "2021-06-18T06:59:18.720Z"
   },
   {
    "duration": 37,
    "start_time": "2021-06-18T06:59:18.743Z"
   },
   {
    "duration": 17,
    "start_time": "2021-06-18T06:59:18.783Z"
   },
   {
    "duration": 22,
    "start_time": "2021-06-18T06:59:18.803Z"
   },
   {
    "duration": 6923,
    "start_time": "2021-06-18T06:59:18.827Z"
   },
   {
    "duration": 162,
    "start_time": "2021-06-18T06:59:25.755Z"
   },
   {
    "duration": 5,
    "start_time": "2021-06-18T06:59:25.919Z"
   },
   {
    "duration": 10,
    "start_time": "2021-06-18T06:59:25.927Z"
   },
   {
    "duration": 11,
    "start_time": "2021-06-18T06:59:25.955Z"
   },
   {
    "duration": 16,
    "start_time": "2021-06-18T06:59:25.969Z"
   },
   {
    "duration": 13,
    "start_time": "2021-06-18T06:59:25.987Z"
   },
   {
    "duration": 98,
    "start_time": "2021-06-18T07:00:31.989Z"
   },
   {
    "duration": 6907,
    "start_time": "2021-06-18T07:00:39.820Z"
   },
   {
    "duration": 50,
    "start_time": "2021-06-18T07:00:52.853Z"
   },
   {
    "duration": 6,
    "start_time": "2021-06-18T07:00:55.972Z"
   },
   {
    "duration": 5,
    "start_time": "2021-06-18T07:01:01.229Z"
   },
   {
    "duration": 431,
    "start_time": "2021-06-18T07:01:01.852Z"
   },
   {
    "duration": 1517,
    "start_time": "2021-06-18T07:01:16.755Z"
   },
   {
    "duration": 2513,
    "start_time": "2021-06-18T07:01:18.274Z"
   },
   {
    "duration": 18,
    "start_time": "2021-06-18T07:01:20.790Z"
   },
   {
    "duration": 28,
    "start_time": "2021-06-18T07:01:20.811Z"
   },
   {
    "duration": 61,
    "start_time": "2021-06-18T07:01:20.841Z"
   },
   {
    "duration": 8,
    "start_time": "2021-06-18T07:01:20.905Z"
   },
   {
    "duration": 14,
    "start_time": "2021-06-18T07:01:20.916Z"
   },
   {
    "duration": 4089,
    "start_time": "2021-06-18T07:01:20.934Z"
   },
   {
    "duration": 587,
    "start_time": "2021-06-18T07:01:25.026Z"
   },
   {
    "duration": 14,
    "start_time": "2021-06-18T07:01:25.615Z"
   },
   {
    "duration": 33,
    "start_time": "2021-06-18T07:01:25.631Z"
   },
   {
    "duration": 51,
    "start_time": "2021-06-18T07:01:25.667Z"
   },
   {
    "duration": 3830,
    "start_time": "2021-06-18T07:01:25.720Z"
   },
   {
    "duration": 612,
    "start_time": "2021-06-18T07:01:29.555Z"
   },
   {
    "duration": 14,
    "start_time": "2021-06-18T07:01:30.169Z"
   },
   {
    "duration": 37,
    "start_time": "2021-06-18T07:01:30.186Z"
   },
   {
    "duration": 69,
    "start_time": "2021-06-18T07:01:30.226Z"
   },
   {
    "duration": 4080,
    "start_time": "2021-06-18T07:01:30.298Z"
   },
   {
    "duration": 569,
    "start_time": "2021-06-18T07:01:34.381Z"
   },
   {
    "duration": 286,
    "start_time": "2021-06-18T07:01:34.955Z"
   },
   {
    "duration": 108,
    "start_time": "2021-06-18T07:01:35.253Z"
   },
   {
    "duration": 6,
    "start_time": "2021-06-18T07:01:35.364Z"
   },
   {
    "duration": 28,
    "start_time": "2021-06-18T07:01:35.378Z"
   },
   {
    "duration": 26,
    "start_time": "2021-06-18T07:01:35.410Z"
   },
   {
    "duration": 22,
    "start_time": "2021-06-18T07:01:35.438Z"
   },
   {
    "duration": 26,
    "start_time": "2021-06-18T07:01:35.463Z"
   },
   {
    "duration": 30,
    "start_time": "2021-06-18T07:01:35.491Z"
   },
   {
    "duration": 31,
    "start_time": "2021-06-18T07:01:35.524Z"
   },
   {
    "duration": 35,
    "start_time": "2021-06-18T07:01:35.558Z"
   },
   {
    "duration": 66,
    "start_time": "2021-06-18T07:01:35.596Z"
   },
   {
    "duration": 6,
    "start_time": "2021-06-18T07:01:35.665Z"
   },
   {
    "duration": 38,
    "start_time": "2021-06-18T07:01:35.674Z"
   },
   {
    "duration": 23,
    "start_time": "2021-06-18T07:01:35.715Z"
   },
   {
    "duration": 75,
    "start_time": "2021-06-18T07:01:35.741Z"
   },
   {
    "duration": 4,
    "start_time": "2021-06-18T07:01:35.818Z"
   },
   {
    "duration": 35,
    "start_time": "2021-06-18T07:01:35.825Z"
   },
   {
    "duration": 19,
    "start_time": "2021-06-18T07:01:35.863Z"
   },
   {
    "duration": 32,
    "start_time": "2021-06-18T07:01:35.885Z"
   },
   {
    "duration": 27,
    "start_time": "2021-06-18T07:01:35.920Z"
   },
   {
    "duration": 26,
    "start_time": "2021-06-18T07:01:35.950Z"
   },
   {
    "duration": 27,
    "start_time": "2021-06-18T07:01:35.979Z"
   },
   {
    "duration": 18,
    "start_time": "2021-06-18T07:01:36.008Z"
   },
   {
    "duration": 26,
    "start_time": "2021-06-18T07:01:36.029Z"
   },
   {
    "duration": 20,
    "start_time": "2021-06-18T07:01:36.057Z"
   },
   {
    "duration": 26,
    "start_time": "2021-06-18T07:01:36.079Z"
   },
   {
    "duration": 28,
    "start_time": "2021-06-18T07:01:36.107Z"
   },
   {
    "duration": 224,
    "start_time": "2021-06-18T07:01:36.138Z"
   },
   {
    "duration": 91,
    "start_time": "2021-06-18T07:01:36.365Z"
   },
   {
    "duration": 96,
    "start_time": "2021-06-18T07:01:36.460Z"
   },
   {
    "duration": 30,
    "start_time": "2021-06-18T07:01:36.558Z"
   },
   {
    "duration": 56,
    "start_time": "2021-06-18T07:01:36.590Z"
   },
   {
    "duration": 10,
    "start_time": "2021-06-18T07:01:36.649Z"
   },
   {
    "duration": 21,
    "start_time": "2021-06-18T07:01:36.662Z"
   },
   {
    "duration": 26,
    "start_time": "2021-06-18T07:01:36.686Z"
   },
   {
    "duration": 20,
    "start_time": "2021-06-18T07:01:36.714Z"
   },
   {
    "duration": 21,
    "start_time": "2021-06-18T07:01:36.736Z"
   },
   {
    "duration": 16,
    "start_time": "2021-06-18T07:01:36.759Z"
   },
   {
    "duration": 23,
    "start_time": "2021-06-18T07:01:36.777Z"
   },
   {
    "duration": 7037,
    "start_time": "2021-06-18T07:01:36.803Z"
   },
   {
    "duration": 159,
    "start_time": "2021-06-18T07:01:43.842Z"
   },
   {
    "duration": 5,
    "start_time": "2021-06-18T07:01:44.003Z"
   },
   {
    "duration": 13,
    "start_time": "2021-06-18T07:01:44.010Z"
   },
   {
    "duration": 32,
    "start_time": "2021-06-18T07:01:44.026Z"
   },
   {
    "duration": 13,
    "start_time": "2021-06-18T07:01:44.061Z"
   },
   {
    "duration": 14,
    "start_time": "2021-06-18T07:01:44.077Z"
   },
   {
    "duration": 14,
    "start_time": "2021-06-18T07:03:53.814Z"
   },
   {
    "duration": 16,
    "start_time": "2021-06-18T07:06:02.989Z"
   },
   {
    "duration": 420,
    "start_time": "2021-06-18T07:06:26.315Z"
   },
   {
    "duration": 16,
    "start_time": "2021-06-18T07:06:36.204Z"
   },
   {
    "duration": 7,
    "start_time": "2021-06-18T07:07:36.115Z"
   },
   {
    "duration": 7,
    "start_time": "2021-06-18T07:07:53.514Z"
   },
   {
    "duration": 8,
    "start_time": "2021-06-18T07:07:54.393Z"
   },
   {
    "duration": 8,
    "start_time": "2021-06-18T08:22:56.567Z"
   },
   {
    "duration": 5,
    "start_time": "2021-06-18T08:22:57.287Z"
   },
   {
    "duration": 5,
    "start_time": "2021-06-18T08:22:58.054Z"
   },
   {
    "duration": 8,
    "start_time": "2021-06-18T08:24:44.981Z"
   },
   {
    "duration": 5,
    "start_time": "2021-06-18T08:24:45.751Z"
   },
   {
    "duration": 5,
    "start_time": "2021-06-18T08:24:46.558Z"
   },
   {
    "duration": 8,
    "start_time": "2021-06-18T08:24:55.246Z"
   },
   {
    "duration": 5,
    "start_time": "2021-06-18T08:24:55.639Z"
   },
   {
    "duration": 5,
    "start_time": "2021-06-18T08:24:56.129Z"
   },
   {
    "duration": 6929,
    "start_time": "2021-06-18T08:31:46.538Z"
   },
   {
    "duration": 5,
    "start_time": "2021-06-18T08:32:00.151Z"
   },
   {
    "duration": 1562,
    "start_time": "2021-06-18T08:32:06.204Z"
   },
   {
    "duration": 1116,
    "start_time": "2021-06-18T08:32:07.769Z"
   },
   {
    "duration": 19,
    "start_time": "2021-06-18T08:32:08.888Z"
   },
   {
    "duration": 22,
    "start_time": "2021-06-18T08:32:08.910Z"
   },
   {
    "duration": 66,
    "start_time": "2021-06-18T08:32:08.934Z"
   },
   {
    "duration": 8,
    "start_time": "2021-06-18T08:32:09.002Z"
   },
   {
    "duration": 13,
    "start_time": "2021-06-18T08:32:09.012Z"
   },
   {
    "duration": 4049,
    "start_time": "2021-06-18T08:32:09.029Z"
   },
   {
    "duration": 573,
    "start_time": "2021-06-18T08:32:13.081Z"
   },
   {
    "duration": 13,
    "start_time": "2021-06-18T08:32:13.656Z"
   },
   {
    "duration": 22,
    "start_time": "2021-06-18T08:32:13.671Z"
   },
   {
    "duration": 73,
    "start_time": "2021-06-18T08:32:13.695Z"
   },
   {
    "duration": 4028,
    "start_time": "2021-06-18T08:32:13.771Z"
   },
   {
    "duration": 585,
    "start_time": "2021-06-18T08:32:17.801Z"
   },
   {
    "duration": 12,
    "start_time": "2021-06-18T08:32:18.389Z"
   },
   {
    "duration": 33,
    "start_time": "2021-06-18T08:32:18.403Z"
   },
   {
    "duration": 56,
    "start_time": "2021-06-18T08:32:18.439Z"
   },
   {
    "duration": 4077,
    "start_time": "2021-06-18T08:32:18.498Z"
   },
   {
    "duration": 582,
    "start_time": "2021-06-18T08:32:22.578Z"
   },
   {
    "duration": 300,
    "start_time": "2021-06-18T08:32:23.163Z"
   },
   {
    "duration": 111,
    "start_time": "2021-06-18T08:32:23.466Z"
   },
   {
    "duration": 5,
    "start_time": "2021-06-18T08:32:23.579Z"
   },
   {
    "duration": 22,
    "start_time": "2021-06-18T08:32:23.590Z"
   },
   {
    "duration": 12,
    "start_time": "2021-06-18T08:32:23.616Z"
   },
   {
    "duration": 24,
    "start_time": "2021-06-18T08:32:23.630Z"
   },
   {
    "duration": 4,
    "start_time": "2021-06-18T08:32:23.658Z"
   },
   {
    "duration": 7,
    "start_time": "2021-06-18T08:32:23.665Z"
   },
   {
    "duration": 7,
    "start_time": "2021-06-18T08:32:23.675Z"
   },
   {
    "duration": 6,
    "start_time": "2021-06-18T08:32:23.684Z"
   },
   {
    "duration": 96,
    "start_time": "2021-06-18T08:32:23.692Z"
   },
   {
    "duration": 7,
    "start_time": "2021-06-18T08:32:23.790Z"
   },
   {
    "duration": 9,
    "start_time": "2021-06-18T08:32:23.800Z"
   },
   {
    "duration": 11,
    "start_time": "2021-06-18T08:32:23.811Z"
   },
   {
    "duration": 81,
    "start_time": "2021-06-18T08:32:23.824Z"
   },
   {
    "duration": 4,
    "start_time": "2021-06-18T08:32:23.907Z"
   },
   {
    "duration": 18,
    "start_time": "2021-06-18T08:32:23.913Z"
   },
   {
    "duration": 23,
    "start_time": "2021-06-18T08:32:23.933Z"
   },
   {
    "duration": 7,
    "start_time": "2021-06-18T08:32:23.958Z"
   },
   {
    "duration": 10,
    "start_time": "2021-06-18T08:32:23.968Z"
   },
   {
    "duration": 13,
    "start_time": "2021-06-18T08:32:23.981Z"
   },
   {
    "duration": 8,
    "start_time": "2021-06-18T08:32:23.997Z"
   },
   {
    "duration": 6,
    "start_time": "2021-06-18T08:32:24.008Z"
   },
   {
    "duration": 6,
    "start_time": "2021-06-18T08:32:24.016Z"
   },
   {
    "duration": 5,
    "start_time": "2021-06-18T08:32:24.025Z"
   },
   {
    "duration": 3,
    "start_time": "2021-06-18T08:32:24.055Z"
   },
   {
    "duration": 17,
    "start_time": "2021-06-18T08:32:24.061Z"
   },
   {
    "duration": 277,
    "start_time": "2021-06-18T08:32:24.081Z"
   },
   {
    "duration": 94,
    "start_time": "2021-06-18T08:32:24.361Z"
   },
   {
    "duration": 9,
    "start_time": "2021-06-18T08:32:24.458Z"
   },
   {
    "duration": 16,
    "start_time": "2021-06-18T08:32:24.554Z"
   },
   {
    "duration": 40,
    "start_time": "2021-06-18T08:32:24.572Z"
   },
   {
    "duration": 16,
    "start_time": "2021-06-18T08:32:24.614Z"
   },
   {
    "duration": 5,
    "start_time": "2021-06-18T08:32:24.655Z"
   },
   {
    "duration": 15,
    "start_time": "2021-06-18T08:32:24.663Z"
   },
   {
    "duration": 5,
    "start_time": "2021-06-18T08:32:24.680Z"
   },
   {
    "duration": 17,
    "start_time": "2021-06-18T08:32:24.688Z"
   },
   {
    "duration": 47,
    "start_time": "2021-06-18T08:32:24.708Z"
   },
   {
    "duration": 7,
    "start_time": "2021-06-18T08:32:24.759Z"
   },
   {
    "duration": 7022,
    "start_time": "2021-06-18T08:32:24.769Z"
   },
   {
    "duration": 167,
    "start_time": "2021-06-18T08:32:31.793Z"
   },
   {
    "duration": 6,
    "start_time": "2021-06-18T08:32:31.963Z"
   },
   {
    "duration": 18,
    "start_time": "2021-06-18T08:32:31.971Z"
   },
   {
    "duration": 12,
    "start_time": "2021-06-18T08:32:31.992Z"
   },
   {
    "duration": 8,
    "start_time": "2021-06-18T08:32:32.006Z"
   },
   {
    "duration": 23,
    "start_time": "2021-06-18T08:32:32.017Z"
   },
   {
    "duration": 5,
    "start_time": "2021-06-18T08:32:32.054Z"
   },
   {
    "duration": 8,
    "start_time": "2021-06-18T08:32:32.062Z"
   },
   {
    "duration": 11,
    "start_time": "2021-06-18T08:32:32.078Z"
   },
   {
    "duration": 12,
    "start_time": "2021-06-18T08:32:32.091Z"
   },
   {
    "duration": 19,
    "start_time": "2021-06-18T08:32:32.106Z"
   },
   {
    "duration": 6,
    "start_time": "2021-06-18T08:32:32.155Z"
   },
   {
    "duration": 6337,
    "start_time": "2021-06-18T08:32:32.164Z"
   },
   {
    "duration": 8,
    "start_time": "2021-06-18T08:33:35.551Z"
   },
   {
    "duration": 50,
    "start_time": "2021-06-18T08:34:05.208Z"
   },
   {
    "duration": 52,
    "start_time": "2021-06-18T08:35:07.262Z"
   },
   {
    "duration": 8,
    "start_time": "2021-06-18T08:39:39.116Z"
   },
   {
    "duration": 7,
    "start_time": "2021-06-18T08:39:51.251Z"
   },
   {
    "duration": 8,
    "start_time": "2021-06-18T08:40:00.765Z"
   },
   {
    "duration": 7,
    "start_time": "2021-06-18T08:40:01.875Z"
   },
   {
    "duration": 416,
    "start_time": "2021-06-18T08:40:38.516Z"
   },
   {
    "duration": 6,
    "start_time": "2021-06-18T08:40:41.378Z"
   },
   {
    "duration": 6815,
    "start_time": "2021-06-18T08:40:57.987Z"
   },
   {
    "duration": 70,
    "start_time": "2021-06-18T08:41:04.805Z"
   },
   {
    "duration": 7,
    "start_time": "2021-06-18T08:41:13.941Z"
   },
   {
    "duration": 5,
    "start_time": "2021-06-18T08:41:14.378Z"
   },
   {
    "duration": 5,
    "start_time": "2021-06-18T08:41:15.081Z"
   },
   {
    "duration": 5,
    "start_time": "2021-06-18T08:41:16.589Z"
   },
   {
    "duration": 6,
    "start_time": "2021-06-18T08:41:44.938Z"
   },
   {
    "duration": 7,
    "start_time": "2021-06-18T08:42:01.513Z"
   },
   {
    "duration": 1498,
    "start_time": "2021-06-18T08:42:21.675Z"
   },
   {
    "duration": 2749,
    "start_time": "2021-06-18T08:42:23.176Z"
   },
   {
    "duration": 19,
    "start_time": "2021-06-18T08:42:25.928Z"
   },
   {
    "duration": 15,
    "start_time": "2021-06-18T08:42:25.955Z"
   },
   {
    "duration": 53,
    "start_time": "2021-06-18T08:42:25.972Z"
   },
   {
    "duration": 29,
    "start_time": "2021-06-18T08:42:26.027Z"
   },
   {
    "duration": 5,
    "start_time": "2021-06-18T08:42:26.059Z"
   },
   {
    "duration": 4040,
    "start_time": "2021-06-18T08:42:26.068Z"
   },
   {
    "duration": 578,
    "start_time": "2021-06-18T08:42:30.111Z"
   },
   {
    "duration": 14,
    "start_time": "2021-06-18T08:42:30.691Z"
   },
   {
    "duration": 24,
    "start_time": "2021-06-18T08:42:30.707Z"
   },
   {
    "duration": 68,
    "start_time": "2021-06-18T08:42:30.733Z"
   },
   {
    "duration": 3880,
    "start_time": "2021-06-18T08:42:30.803Z"
   },
   {
    "duration": 559,
    "start_time": "2021-06-18T08:42:34.685Z"
   },
   {
    "duration": 17,
    "start_time": "2021-06-18T08:42:35.246Z"
   },
   {
    "duration": 35,
    "start_time": "2021-06-18T08:42:35.265Z"
   },
   {
    "duration": 57,
    "start_time": "2021-06-18T08:42:35.302Z"
   },
   {
    "duration": 4336,
    "start_time": "2021-06-18T08:42:35.361Z"
   },
   {
    "duration": 610,
    "start_time": "2021-06-18T08:42:39.699Z"
   },
   {
    "duration": 278,
    "start_time": "2021-06-18T08:42:40.311Z"
   },
   {
    "duration": 103,
    "start_time": "2021-06-18T08:42:40.591Z"
   },
   {
    "duration": 5,
    "start_time": "2021-06-18T08:42:40.697Z"
   },
   {
    "duration": 36,
    "start_time": "2021-06-18T08:42:40.707Z"
   },
   {
    "duration": 22,
    "start_time": "2021-06-18T08:42:40.747Z"
   },
   {
    "duration": 16,
    "start_time": "2021-06-18T08:42:40.772Z"
   },
   {
    "duration": 11,
    "start_time": "2021-06-18T08:42:40.790Z"
   },
   {
    "duration": 12,
    "start_time": "2021-06-18T08:42:40.804Z"
   },
   {
    "duration": 13,
    "start_time": "2021-06-18T08:42:40.819Z"
   },
   {
    "duration": 12,
    "start_time": "2021-06-18T08:42:40.834Z"
   },
   {
    "duration": 60,
    "start_time": "2021-06-18T08:42:40.849Z"
   },
   {
    "duration": 6,
    "start_time": "2021-06-18T08:42:40.911Z"
   },
   {
    "duration": 20,
    "start_time": "2021-06-18T08:42:40.919Z"
   },
   {
    "duration": 15,
    "start_time": "2021-06-18T08:42:40.941Z"
   },
   {
    "duration": 75,
    "start_time": "2021-06-18T08:42:40.958Z"
   },
   {
    "duration": 3,
    "start_time": "2021-06-18T08:42:41.035Z"
   },
   {
    "duration": 32,
    "start_time": "2021-06-18T08:42:41.041Z"
   },
   {
    "duration": 11,
    "start_time": "2021-06-18T08:42:41.076Z"
   },
   {
    "duration": 18,
    "start_time": "2021-06-18T08:42:41.090Z"
   },
   {
    "duration": 34,
    "start_time": "2021-06-18T08:42:41.110Z"
   },
   {
    "duration": 15,
    "start_time": "2021-06-18T08:42:41.147Z"
   },
   {
    "duration": 12,
    "start_time": "2021-06-18T08:42:41.164Z"
   },
   {
    "duration": 20,
    "start_time": "2021-06-18T08:42:41.179Z"
   },
   {
    "duration": 22,
    "start_time": "2021-06-18T08:42:41.201Z"
   },
   {
    "duration": 25,
    "start_time": "2021-06-18T08:42:41.226Z"
   },
   {
    "duration": 18,
    "start_time": "2021-06-18T08:42:41.254Z"
   },
   {
    "duration": 24,
    "start_time": "2021-06-18T08:42:41.275Z"
   },
   {
    "duration": 258,
    "start_time": "2021-06-18T08:42:41.302Z"
   },
   {
    "duration": 4,
    "start_time": "2021-06-18T08:42:41.564Z"
   },
   {
    "duration": 98,
    "start_time": "2021-06-18T08:42:41.657Z"
   },
   {
    "duration": 27,
    "start_time": "2021-06-18T08:42:41.758Z"
   },
   {
    "duration": 54,
    "start_time": "2021-06-18T08:42:41.787Z"
   },
   {
    "duration": 9,
    "start_time": "2021-06-18T08:42:41.844Z"
   },
   {
    "duration": 26,
    "start_time": "2021-06-18T08:42:41.856Z"
   },
   {
    "duration": 32,
    "start_time": "2021-06-18T08:42:41.884Z"
   },
   {
    "duration": 26,
    "start_time": "2021-06-18T08:42:41.918Z"
   },
   {
    "duration": 31,
    "start_time": "2021-06-18T08:42:41.946Z"
   },
   {
    "duration": 25,
    "start_time": "2021-06-18T08:42:41.980Z"
   },
   {
    "duration": 22,
    "start_time": "2021-06-18T08:42:42.007Z"
   },
   {
    "duration": 6871,
    "start_time": "2021-06-18T08:42:42.032Z"
   },
   {
    "duration": 165,
    "start_time": "2021-06-18T08:42:48.905Z"
   },
   {
    "duration": 7,
    "start_time": "2021-06-18T08:42:49.073Z"
   },
   {
    "duration": 26,
    "start_time": "2021-06-18T08:42:49.082Z"
   },
   {
    "duration": 11,
    "start_time": "2021-06-18T08:42:49.111Z"
   },
   {
    "duration": 31,
    "start_time": "2021-06-18T08:42:49.125Z"
   },
   {
    "duration": 15,
    "start_time": "2021-06-18T08:42:49.159Z"
   },
   {
    "duration": 12,
    "start_time": "2021-06-18T08:42:49.178Z"
   },
   {
    "duration": 16,
    "start_time": "2021-06-18T08:42:49.192Z"
   },
   {
    "duration": 6,
    "start_time": "2021-06-18T08:42:49.216Z"
   },
   {
    "duration": 36,
    "start_time": "2021-06-18T08:42:49.224Z"
   },
   {
    "duration": 31,
    "start_time": "2021-06-18T08:42:49.262Z"
   },
   {
    "duration": 17,
    "start_time": "2021-06-18T08:42:49.296Z"
   },
   {
    "duration": 6471,
    "start_time": "2021-06-18T08:42:49.315Z"
   },
   {
    "duration": 10,
    "start_time": "2021-06-18T09:20:40.099Z"
   },
   {
    "duration": 9,
    "start_time": "2021-06-18T09:20:57.059Z"
   },
   {
    "duration": 9,
    "start_time": "2021-06-18T09:21:06.051Z"
   },
   {
    "duration": 1479,
    "start_time": "2021-06-18T09:33:50.098Z"
   },
   {
    "duration": 1261,
    "start_time": "2021-06-18T09:33:51.580Z"
   },
   {
    "duration": 20,
    "start_time": "2021-06-18T09:33:52.844Z"
   },
   {
    "duration": 19,
    "start_time": "2021-06-18T09:33:52.867Z"
   },
   {
    "duration": 74,
    "start_time": "2021-06-18T09:33:52.889Z"
   },
   {
    "duration": 8,
    "start_time": "2021-06-18T09:33:52.966Z"
   },
   {
    "duration": 14,
    "start_time": "2021-06-18T09:33:52.977Z"
   },
   {
    "duration": 4048,
    "start_time": "2021-06-18T09:33:52.995Z"
   },
   {
    "duration": 571,
    "start_time": "2021-06-18T09:33:57.046Z"
   },
   {
    "duration": 12,
    "start_time": "2021-06-18T09:33:57.619Z"
   },
   {
    "duration": 33,
    "start_time": "2021-06-18T09:33:57.633Z"
   },
   {
    "duration": 51,
    "start_time": "2021-06-18T09:33:57.668Z"
   },
   {
    "duration": 4163,
    "start_time": "2021-06-18T09:33:57.722Z"
   },
   {
    "duration": 566,
    "start_time": "2021-06-18T09:34:01.888Z"
   },
   {
    "duration": 12,
    "start_time": "2021-06-18T09:34:02.457Z"
   },
   {
    "duration": 19,
    "start_time": "2021-06-18T09:34:02.472Z"
   },
   {
    "duration": 107,
    "start_time": "2021-06-18T09:34:02.494Z"
   },
   {
    "duration": 6990,
    "start_time": "2021-06-18T09:34:02.604Z"
   },
   {
    "duration": 801,
    "start_time": "2021-06-18T09:34:09.598Z"
   },
   {
    "duration": 304,
    "start_time": "2021-06-18T09:34:10.402Z"
   },
   {
    "duration": 112,
    "start_time": "2021-06-18T09:34:10.709Z"
   },
   {
    "duration": 5,
    "start_time": "2021-06-18T09:34:10.825Z"
   },
   {
    "duration": 37,
    "start_time": "2021-06-18T09:34:10.837Z"
   },
   {
    "duration": 12,
    "start_time": "2021-06-18T09:34:10.878Z"
   },
   {
    "duration": 7,
    "start_time": "2021-06-18T09:34:10.892Z"
   },
   {
    "duration": 11,
    "start_time": "2021-06-18T09:34:10.901Z"
   },
   {
    "duration": 11,
    "start_time": "2021-06-18T09:34:10.914Z"
   },
   {
    "duration": 15,
    "start_time": "2021-06-18T09:34:10.928Z"
   },
   {
    "duration": 15,
    "start_time": "2021-06-18T09:34:10.956Z"
   },
   {
    "duration": 72,
    "start_time": "2021-06-18T09:34:10.974Z"
   },
   {
    "duration": 6,
    "start_time": "2021-06-18T09:34:11.054Z"
   },
   {
    "duration": 19,
    "start_time": "2021-06-18T09:34:11.063Z"
   },
   {
    "duration": 34,
    "start_time": "2021-06-18T09:34:11.085Z"
   },
   {
    "duration": 80,
    "start_time": "2021-06-18T09:34:11.122Z"
   },
   {
    "duration": 4,
    "start_time": "2021-06-18T09:34:11.205Z"
   },
   {
    "duration": 28,
    "start_time": "2021-06-18T09:34:11.211Z"
   },
   {
    "duration": 16,
    "start_time": "2021-06-18T09:34:11.242Z"
   },
   {
    "duration": 10,
    "start_time": "2021-06-18T09:34:11.261Z"
   },
   {
    "duration": 8,
    "start_time": "2021-06-18T09:34:11.273Z"
   },
   {
    "duration": 9,
    "start_time": "2021-06-18T09:34:11.283Z"
   },
   {
    "duration": 8,
    "start_time": "2021-06-18T09:34:11.295Z"
   },
   {
    "duration": 11,
    "start_time": "2021-06-18T09:34:11.306Z"
   },
   {
    "duration": 10,
    "start_time": "2021-06-18T09:34:11.320Z"
   },
   {
    "duration": 4,
    "start_time": "2021-06-18T09:34:11.353Z"
   },
   {
    "duration": 9,
    "start_time": "2021-06-18T09:34:11.360Z"
   },
   {
    "duration": 8,
    "start_time": "2021-06-18T09:34:11.372Z"
   },
   {
    "duration": 272,
    "start_time": "2021-06-18T09:34:11.383Z"
   },
   {
    "duration": 91,
    "start_time": "2021-06-18T09:34:11.664Z"
   },
   {
    "duration": 8,
    "start_time": "2021-06-18T09:34:11.758Z"
   },
   {
    "duration": 24,
    "start_time": "2021-06-18T09:34:11.769Z"
   },
   {
    "duration": 85,
    "start_time": "2021-06-18T09:34:11.797Z"
   },
   {
    "duration": 15,
    "start_time": "2021-06-18T09:34:11.885Z"
   },
   {
    "duration": 16,
    "start_time": "2021-06-18T09:34:11.903Z"
   },
   {
    "duration": 20,
    "start_time": "2021-06-18T09:34:11.922Z"
   },
   {
    "duration": 14,
    "start_time": "2021-06-18T09:34:11.945Z"
   },
   {
    "duration": 27,
    "start_time": "2021-06-18T09:34:11.961Z"
   },
   {
    "duration": 6,
    "start_time": "2021-06-18T09:34:11.992Z"
   },
   {
    "duration": 18,
    "start_time": "2021-06-18T09:34:12.000Z"
   },
   {
    "duration": 7293,
    "start_time": "2021-06-18T09:34:12.021Z"
   },
   {
    "duration": 224,
    "start_time": "2021-06-18T09:34:19.316Z"
   },
   {
    "duration": 13,
    "start_time": "2021-06-18T09:34:19.543Z"
   },
   {
    "duration": 19,
    "start_time": "2021-06-18T09:34:19.559Z"
   },
   {
    "duration": 12,
    "start_time": "2021-06-18T09:34:19.581Z"
   },
   {
    "duration": 9,
    "start_time": "2021-06-18T09:34:19.596Z"
   },
   {
    "duration": 54,
    "start_time": "2021-06-18T09:34:19.608Z"
   },
   {
    "duration": 9,
    "start_time": "2021-06-18T09:34:19.664Z"
   },
   {
    "duration": 13,
    "start_time": "2021-06-18T09:34:19.676Z"
   },
   {
    "duration": 6,
    "start_time": "2021-06-18T09:34:19.696Z"
   },
   {
    "duration": 53,
    "start_time": "2021-06-18T09:34:19.705Z"
   },
   {
    "duration": 16,
    "start_time": "2021-06-18T09:34:19.761Z"
   },
   {
    "duration": 14,
    "start_time": "2021-06-18T09:34:19.780Z"
   },
   {
    "duration": 416,
    "start_time": "2021-06-18T09:36:20.704Z"
   },
   {
    "duration": 1522,
    "start_time": "2021-06-18T09:36:26.239Z"
   },
   {
    "duration": 928,
    "start_time": "2021-06-18T09:36:27.764Z"
   },
   {
    "duration": 18,
    "start_time": "2021-06-18T09:36:28.698Z"
   },
   {
    "duration": 39,
    "start_time": "2021-06-18T09:36:28.718Z"
   },
   {
    "duration": 50,
    "start_time": "2021-06-18T09:36:28.759Z"
   },
   {
    "duration": 8,
    "start_time": "2021-06-18T09:36:28.811Z"
   },
   {
    "duration": 32,
    "start_time": "2021-06-18T09:36:28.822Z"
   },
   {
    "duration": 4012,
    "start_time": "2021-06-18T09:36:28.858Z"
   },
   {
    "duration": 547,
    "start_time": "2021-06-18T09:36:32.872Z"
   },
   {
    "duration": 12,
    "start_time": "2021-06-18T09:36:33.421Z"
   },
   {
    "duration": 36,
    "start_time": "2021-06-18T09:36:33.435Z"
   },
   {
    "duration": 47,
    "start_time": "2021-06-18T09:36:33.474Z"
   },
   {
    "duration": 3731,
    "start_time": "2021-06-18T09:36:33.523Z"
   },
   {
    "duration": 645,
    "start_time": "2021-06-18T09:36:37.256Z"
   },
   {
    "duration": 12,
    "start_time": "2021-06-18T09:36:37.904Z"
   },
   {
    "duration": 23,
    "start_time": "2021-06-18T09:36:37.918Z"
   },
   {
    "duration": 51,
    "start_time": "2021-06-18T09:36:37.955Z"
   },
   {
    "duration": 4163,
    "start_time": "2021-06-18T09:36:38.008Z"
   },
   {
    "duration": 564,
    "start_time": "2021-06-18T09:36:42.173Z"
   },
   {
    "duration": 279,
    "start_time": "2021-06-18T09:36:42.740Z"
   },
   {
    "duration": 104,
    "start_time": "2021-06-18T09:36:43.021Z"
   },
   {
    "duration": 4,
    "start_time": "2021-06-18T09:36:43.131Z"
   },
   {
    "duration": 31,
    "start_time": "2021-06-18T09:36:43.139Z"
   },
   {
    "duration": 12,
    "start_time": "2021-06-18T09:36:43.173Z"
   },
   {
    "duration": 4,
    "start_time": "2021-06-18T09:36:43.187Z"
   },
   {
    "duration": 6,
    "start_time": "2021-06-18T09:36:43.194Z"
   },
   {
    "duration": 8,
    "start_time": "2021-06-18T09:36:43.202Z"
   },
   {
    "duration": 7,
    "start_time": "2021-06-18T09:36:43.213Z"
   },
   {
    "duration": 31,
    "start_time": "2021-06-18T09:36:43.223Z"
   },
   {
    "duration": 52,
    "start_time": "2021-06-18T09:36:43.257Z"
   },
   {
    "duration": 5,
    "start_time": "2021-06-18T09:36:43.311Z"
   },
   {
    "duration": 14,
    "start_time": "2021-06-18T09:36:43.318Z"
   },
   {
    "duration": 21,
    "start_time": "2021-06-18T09:36:43.334Z"
   },
   {
    "duration": 60,
    "start_time": "2021-06-18T09:36:43.358Z"
   },
   {
    "duration": 3,
    "start_time": "2021-06-18T09:36:43.421Z"
   },
   {
    "duration": 37,
    "start_time": "2021-06-18T09:36:43.426Z"
   },
   {
    "duration": 9,
    "start_time": "2021-06-18T09:36:43.465Z"
   },
   {
    "duration": 15,
    "start_time": "2021-06-18T09:36:43.476Z"
   },
   {
    "duration": 13,
    "start_time": "2021-06-18T09:36:43.493Z"
   },
   {
    "duration": 20,
    "start_time": "2021-06-18T09:36:43.508Z"
   },
   {
    "duration": 22,
    "start_time": "2021-06-18T09:36:43.530Z"
   },
   {
    "duration": 12,
    "start_time": "2021-06-18T09:36:43.554Z"
   },
   {
    "duration": 15,
    "start_time": "2021-06-18T09:36:43.568Z"
   },
   {
    "duration": 22,
    "start_time": "2021-06-18T09:36:43.585Z"
   },
   {
    "duration": 13,
    "start_time": "2021-06-18T09:36:43.610Z"
   },
   {
    "duration": 24,
    "start_time": "2021-06-18T09:36:43.625Z"
   },
   {
    "duration": 207,
    "start_time": "2021-06-18T09:36:43.651Z"
   },
   {
    "duration": 94,
    "start_time": "2021-06-18T09:36:43.861Z"
   },
   {
    "duration": 97,
    "start_time": "2021-06-18T09:36:43.959Z"
   },
   {
    "duration": 22,
    "start_time": "2021-06-18T09:36:44.058Z"
   },
   {
    "duration": 45,
    "start_time": "2021-06-18T09:36:44.082Z"
   },
   {
    "duration": 25,
    "start_time": "2021-06-18T09:36:44.130Z"
   },
   {
    "duration": 4,
    "start_time": "2021-06-18T09:36:44.157Z"
   },
   {
    "duration": 12,
    "start_time": "2021-06-18T09:36:44.163Z"
   },
   {
    "duration": 13,
    "start_time": "2021-06-18T09:36:44.178Z"
   },
   {
    "duration": 18,
    "start_time": "2021-06-18T09:36:44.194Z"
   },
   {
    "duration": 5,
    "start_time": "2021-06-18T09:36:44.214Z"
   },
   {
    "duration": 12,
    "start_time": "2021-06-18T09:36:44.221Z"
   },
   {
    "duration": 6876,
    "start_time": "2021-06-18T09:36:44.255Z"
   },
   {
    "duration": 169,
    "start_time": "2021-06-18T09:36:51.133Z"
   },
   {
    "duration": 11,
    "start_time": "2021-06-18T09:36:51.304Z"
   },
   {
    "duration": 24,
    "start_time": "2021-06-18T09:36:51.317Z"
   },
   {
    "duration": 5,
    "start_time": "2021-06-18T09:36:51.355Z"
   },
   {
    "duration": 3055,
    "start_time": "2021-06-18T09:42:23.293Z"
   },
   {
    "duration": 7414,
    "start_time": "2021-06-18T09:42:49.347Z"
   },
   {
    "duration": 7306,
    "start_time": "2021-06-18T09:43:43.677Z"
   },
   {
    "duration": 8023,
    "start_time": "2021-06-18T09:44:17.492Z"
   },
   {
    "duration": 7298,
    "start_time": "2021-06-18T09:47:20.156Z"
   },
   {
    "duration": 7490,
    "start_time": "2021-06-18T09:47:48.169Z"
   },
   {
    "duration": 2716,
    "start_time": "2021-06-18T09:48:02.909Z"
   },
   {
    "duration": 7790,
    "start_time": "2021-06-18T09:51:51.880Z"
   },
   {
    "duration": 2797,
    "start_time": "2021-06-18T09:54:00.074Z"
   },
   {
    "duration": 7256,
    "start_time": "2021-06-18T09:54:17.101Z"
   },
   {
    "duration": 2506,
    "start_time": "2021-06-18T09:56:53.379Z"
   },
   {
    "duration": 2488,
    "start_time": "2021-06-18T09:57:51.394Z"
   },
   {
    "duration": 7574,
    "start_time": "2021-06-18T09:58:00.185Z"
   },
   {
    "duration": 8342,
    "start_time": "2021-06-18T09:59:42.200Z"
   },
   {
    "duration": 8620,
    "start_time": "2021-06-18T10:00:20.415Z"
   },
   {
    "duration": 9274,
    "start_time": "2021-06-18T10:01:11.223Z"
   },
   {
    "duration": 9084,
    "start_time": "2021-06-18T10:01:30.239Z"
   },
   {
    "duration": 9381,
    "start_time": "2021-06-18T10:01:57.311Z"
   },
   {
    "duration": 8389,
    "start_time": "2021-06-18T10:04:45.277Z"
   },
   {
    "duration": 7507,
    "start_time": "2021-06-18T10:05:26.486Z"
   },
   {
    "duration": 7863,
    "start_time": "2021-06-18T10:06:07.491Z"
   },
   {
    "duration": 7596,
    "start_time": "2021-06-18T10:11:26.647Z"
   },
   {
    "duration": 2885,
    "start_time": "2021-06-18T10:17:16.636Z"
   },
   {
    "duration": 2918,
    "start_time": "2021-06-18T10:17:24.069Z"
   },
   {
    "duration": 7387,
    "start_time": "2021-06-18T10:17:27.644Z"
   },
   {
    "duration": 8137,
    "start_time": "2021-06-18T10:17:55.983Z"
   },
   {
    "duration": 7000,
    "start_time": "2021-06-18T10:18:17.528Z"
   },
   {
    "duration": 7065,
    "start_time": "2021-06-18T10:20:40.635Z"
   },
   {
    "duration": 7068,
    "start_time": "2021-06-18T10:20:58.667Z"
   },
   {
    "duration": 1482,
    "start_time": "2021-06-18T10:21:12.483Z"
   },
   {
    "duration": 3080,
    "start_time": "2021-06-18T10:21:13.968Z"
   },
   {
    "duration": 17,
    "start_time": "2021-06-18T10:21:17.051Z"
   },
   {
    "duration": 14,
    "start_time": "2021-06-18T10:21:17.071Z"
   },
   {
    "duration": 72,
    "start_time": "2021-06-18T10:21:17.087Z"
   },
   {
    "duration": 9,
    "start_time": "2021-06-18T10:21:17.161Z"
   },
   {
    "duration": 19,
    "start_time": "2021-06-18T10:21:17.173Z"
   },
   {
    "duration": 4052,
    "start_time": "2021-06-18T10:21:17.195Z"
   },
   {
    "duration": 563,
    "start_time": "2021-06-18T10:21:21.252Z"
   },
   {
    "duration": 13,
    "start_time": "2021-06-18T10:21:21.818Z"
   },
   {
    "duration": 30,
    "start_time": "2021-06-18T10:21:21.833Z"
   },
   {
    "duration": 53,
    "start_time": "2021-06-18T10:21:21.866Z"
   },
   {
    "duration": 3855,
    "start_time": "2021-06-18T10:21:21.921Z"
   },
   {
    "duration": 576,
    "start_time": "2021-06-18T10:21:25.778Z"
   },
   {
    "duration": 13,
    "start_time": "2021-06-18T10:21:26.356Z"
   },
   {
    "duration": 20,
    "start_time": "2021-06-18T10:21:26.372Z"
   },
   {
    "duration": 73,
    "start_time": "2021-06-18T10:21:26.394Z"
   },
   {
    "duration": 4033,
    "start_time": "2021-06-18T10:21:26.470Z"
   },
   {
    "duration": 617,
    "start_time": "2021-06-18T10:21:30.506Z"
   },
   {
    "duration": 278,
    "start_time": "2021-06-18T10:21:31.126Z"
   },
   {
    "duration": 101,
    "start_time": "2021-06-18T10:21:31.406Z"
   },
   {
    "duration": 5,
    "start_time": "2021-06-18T10:21:31.510Z"
   },
   {
    "duration": 37,
    "start_time": "2021-06-18T10:21:31.517Z"
   },
   {
    "duration": 28,
    "start_time": "2021-06-18T10:21:31.557Z"
   },
   {
    "duration": 33,
    "start_time": "2021-06-18T10:21:31.587Z"
   },
   {
    "duration": 21,
    "start_time": "2021-06-18T10:21:31.622Z"
   },
   {
    "duration": 26,
    "start_time": "2021-06-18T10:21:31.649Z"
   },
   {
    "duration": 21,
    "start_time": "2021-06-18T10:21:31.678Z"
   },
   {
    "duration": 27,
    "start_time": "2021-06-18T10:21:31.701Z"
   },
   {
    "duration": 73,
    "start_time": "2021-06-18T10:21:31.730Z"
   },
   {
    "duration": 4,
    "start_time": "2021-06-18T10:21:31.806Z"
   },
   {
    "duration": 46,
    "start_time": "2021-06-18T10:21:31.812Z"
   },
   {
    "duration": 37,
    "start_time": "2021-06-18T10:21:31.861Z"
   },
   {
    "duration": 81,
    "start_time": "2021-06-18T10:21:31.900Z"
   },
   {
    "duration": 3,
    "start_time": "2021-06-18T10:21:31.983Z"
   },
   {
    "duration": 36,
    "start_time": "2021-06-18T10:21:31.989Z"
   },
   {
    "duration": 22,
    "start_time": "2021-06-18T10:21:32.028Z"
   },
   {
    "duration": 17,
    "start_time": "2021-06-18T10:21:32.052Z"
   },
   {
    "duration": 26,
    "start_time": "2021-06-18T10:21:32.072Z"
   },
   {
    "duration": 26,
    "start_time": "2021-06-18T10:21:32.100Z"
   },
   {
    "duration": 17,
    "start_time": "2021-06-18T10:21:32.128Z"
   },
   {
    "duration": 17,
    "start_time": "2021-06-18T10:21:32.147Z"
   },
   {
    "duration": 18,
    "start_time": "2021-06-18T10:21:32.166Z"
   },
   {
    "duration": 23,
    "start_time": "2021-06-18T10:21:32.186Z"
   },
   {
    "duration": 24,
    "start_time": "2021-06-18T10:21:32.212Z"
   },
   {
    "duration": 23,
    "start_time": "2021-06-18T10:21:32.238Z"
   },
   {
    "duration": 295,
    "start_time": "2021-06-18T10:21:32.263Z"
   },
   {
    "duration": 94,
    "start_time": "2021-06-18T10:21:32.562Z"
   },
   {
    "duration": 95,
    "start_time": "2021-06-18T10:21:32.660Z"
   },
   {
    "duration": 15,
    "start_time": "2021-06-18T10:21:32.758Z"
   },
   {
    "duration": 54,
    "start_time": "2021-06-18T10:21:32.776Z"
   },
   {
    "duration": 21,
    "start_time": "2021-06-18T10:21:32.833Z"
   },
   {
    "duration": 25,
    "start_time": "2021-06-18T10:21:32.857Z"
   },
   {
    "duration": 37,
    "start_time": "2021-06-18T10:21:32.884Z"
   },
   {
    "duration": 24,
    "start_time": "2021-06-18T10:21:32.923Z"
   },
   {
    "duration": 35,
    "start_time": "2021-06-18T10:21:32.949Z"
   },
   {
    "duration": 23,
    "start_time": "2021-06-18T10:21:32.987Z"
   },
   {
    "duration": 20,
    "start_time": "2021-06-18T10:21:33.012Z"
   },
   {
    "duration": 7455,
    "start_time": "2021-06-18T10:21:33.034Z"
   },
   {
    "duration": 282,
    "start_time": "2021-06-18T10:21:40.507Z"
   },
   {
    "duration": 11,
    "start_time": "2021-06-18T10:21:40.791Z"
   },
   {
    "duration": 26,
    "start_time": "2021-06-18T10:21:40.804Z"
   },
   {
    "duration": 8993,
    "start_time": "2021-06-18T10:23:06.696Z"
   },
   {
    "duration": 6959,
    "start_time": "2021-06-18T10:25:11.223Z"
   },
   {
    "duration": 272,
    "start_time": "2021-06-18T10:26:18.374Z"
   },
   {
    "duration": 103,
    "start_time": "2021-06-18T10:27:43.686Z"
   },
   {
    "duration": 97,
    "start_time": "2021-06-18T10:28:14.411Z"
   },
   {
    "duration": 100,
    "start_time": "2021-06-18T10:28:31.235Z"
   },
   {
    "duration": 88,
    "start_time": "2021-06-18T10:28:42.925Z"
   },
   {
    "duration": 91,
    "start_time": "2021-06-18T10:28:48.644Z"
   },
   {
    "duration": 6957,
    "start_time": "2021-06-18T10:29:00.204Z"
   },
   {
    "duration": 2405,
    "start_time": "2021-06-18T10:29:18.798Z"
   },
   {
    "duration": 2411,
    "start_time": "2021-06-18T10:29:33.981Z"
   },
   {
    "duration": 2714,
    "start_time": "2021-06-18T10:30:03.466Z"
   },
   {
    "duration": 2434,
    "start_time": "2021-06-18T10:30:17.235Z"
   },
   {
    "duration": 2389,
    "start_time": "2021-06-18T10:30:35.804Z"
   },
   {
    "duration": 7193,
    "start_time": "2021-06-18T10:32:00.649Z"
   },
   {
    "duration": 2423,
    "start_time": "2021-06-18T10:32:56.370Z"
   },
   {
    "duration": 7005,
    "start_time": "2021-06-18T10:33:01.769Z"
   },
   {
    "duration": 6938,
    "start_time": "2021-06-18T10:33:15.753Z"
   },
   {
    "duration": 7017,
    "start_time": "2021-06-18T10:33:30.240Z"
   },
   {
    "duration": 7055,
    "start_time": "2021-06-18T10:34:01.944Z"
   },
   {
    "duration": 7159,
    "start_time": "2021-06-18T10:34:24.751Z"
   },
   {
    "duration": 6969,
    "start_time": "2021-06-18T10:34:41.960Z"
   },
   {
    "duration": 7476,
    "start_time": "2021-06-18T10:34:56.434Z"
   },
   {
    "duration": 7846,
    "start_time": "2021-06-18T10:35:14.688Z"
   },
   {
    "duration": 7852,
    "start_time": "2021-06-18T10:36:24.023Z"
   },
   {
    "duration": 7711,
    "start_time": "2021-06-18T10:37:28.205Z"
   },
   {
    "duration": 7601,
    "start_time": "2021-06-18T10:43:03.738Z"
   },
   {
    "duration": 7580,
    "start_time": "2021-06-18T10:43:25.707Z"
   },
   {
    "duration": 7839,
    "start_time": "2021-06-18T10:43:39.403Z"
   },
   {
    "duration": 7590,
    "start_time": "2021-06-18T10:44:24.945Z"
   },
   {
    "duration": 8321,
    "start_time": "2021-06-18T10:45:52.343Z"
   },
   {
    "duration": 93,
    "start_time": "2021-06-18T10:48:31.200Z"
   },
   {
    "duration": 94,
    "start_time": "2021-06-18T10:51:12.927Z"
   },
   {
    "duration": 5,
    "start_time": "2021-06-18T10:51:16.531Z"
   },
   {
    "duration": 90,
    "start_time": "2021-06-18T10:51:18.301Z"
   },
   {
    "duration": 96,
    "start_time": "2021-06-18T10:51:50.645Z"
   },
   {
    "duration": 92,
    "start_time": "2021-06-18T10:51:57.598Z"
   },
   {
    "duration": 3131,
    "start_time": "2021-06-18T10:52:14.812Z"
   },
   {
    "duration": 7658,
    "start_time": "2021-06-18T10:52:27.421Z"
   },
   {
    "duration": 7766,
    "start_time": "2021-06-18T10:53:11.139Z"
   },
   {
    "duration": 5,
    "start_time": "2021-06-18T10:53:55.914Z"
   },
   {
    "duration": 6,
    "start_time": "2021-06-18T10:54:17.499Z"
   },
   {
    "duration": 6,
    "start_time": "2021-06-18T10:54:39.986Z"
   },
   {
    "duration": 5,
    "start_time": "2021-06-18T10:55:37.394Z"
   },
   {
    "duration": 6,
    "start_time": "2021-06-18T10:55:52.225Z"
   },
   {
    "duration": 5,
    "start_time": "2021-06-18T10:56:07.009Z"
   },
   {
    "duration": 7547,
    "start_time": "2021-06-18T10:56:49.329Z"
   },
   {
    "duration": 99,
    "start_time": "2021-06-18T10:58:43.561Z"
   },
   {
    "duration": 7926,
    "start_time": "2021-06-18T10:58:50.705Z"
   },
   {
    "duration": 107,
    "start_time": "2021-06-18T11:03:10.150Z"
   },
   {
    "duration": 8008,
    "start_time": "2021-06-18T11:03:18.788Z"
   },
   {
    "duration": 102,
    "start_time": "2021-06-18T11:04:42.236Z"
   },
   {
    "duration": 7708,
    "start_time": "2021-06-18T11:04:46.572Z"
   },
   {
    "duration": 7477,
    "start_time": "2021-06-18T11:06:46.196Z"
   },
   {
    "duration": 7777,
    "start_time": "2021-06-18T11:07:06.995Z"
   },
   {
    "duration": 8,
    "start_time": "2021-06-18T11:09:55.369Z"
   },
   {
    "duration": 292,
    "start_time": "2021-06-18T11:11:16.949Z"
   },
   {
    "duration": 275,
    "start_time": "2021-06-18T11:11:40.944Z"
   },
   {
    "duration": 282,
    "start_time": "2021-06-18T11:12:04.094Z"
   },
   {
    "duration": 1484,
    "start_time": "2021-06-18T11:12:25.486Z"
   },
   {
    "duration": 1194,
    "start_time": "2021-06-18T11:12:26.973Z"
   },
   {
    "duration": 19,
    "start_time": "2021-06-18T11:12:28.170Z"
   },
   {
    "duration": 19,
    "start_time": "2021-06-18T11:12:28.192Z"
   },
   {
    "duration": 79,
    "start_time": "2021-06-18T11:12:28.213Z"
   },
   {
    "duration": 9,
    "start_time": "2021-06-18T11:12:28.295Z"
   },
   {
    "duration": 10,
    "start_time": "2021-06-18T11:12:28.306Z"
   },
   {
    "duration": 3930,
    "start_time": "2021-06-18T11:12:28.318Z"
   },
   {
    "duration": 560,
    "start_time": "2021-06-18T11:12:32.257Z"
   },
   {
    "duration": 12,
    "start_time": "2021-06-18T11:12:32.822Z"
   },
   {
    "duration": 13,
    "start_time": "2021-06-18T11:12:32.854Z"
   },
   {
    "duration": 51,
    "start_time": "2021-06-18T11:12:32.870Z"
   },
   {
    "duration": 3715,
    "start_time": "2021-06-18T11:12:32.924Z"
   },
   {
    "duration": 541,
    "start_time": "2021-06-18T11:12:36.642Z"
   },
   {
    "duration": 14,
    "start_time": "2021-06-18T11:12:37.186Z"
   },
   {
    "duration": 26,
    "start_time": "2021-06-18T11:12:37.203Z"
   },
   {
    "duration": 69,
    "start_time": "2021-06-18T11:12:37.232Z"
   },
   {
    "duration": 4061,
    "start_time": "2021-06-18T11:12:37.304Z"
   },
   {
    "duration": 544,
    "start_time": "2021-06-18T11:12:41.367Z"
   },
   {
    "duration": 273,
    "start_time": "2021-06-18T11:12:41.913Z"
   },
   {
    "duration": 99,
    "start_time": "2021-06-18T11:12:42.188Z"
   },
   {
    "duration": 5,
    "start_time": "2021-06-18T11:12:42.290Z"
   },
   {
    "duration": 20,
    "start_time": "2021-06-18T11:12:42.298Z"
   },
   {
    "duration": 38,
    "start_time": "2021-06-18T11:12:42.320Z"
   },
   {
    "duration": 6,
    "start_time": "2021-06-18T11:12:42.360Z"
   },
   {
    "duration": 6,
    "start_time": "2021-06-18T11:12:42.369Z"
   },
   {
    "duration": 8,
    "start_time": "2021-06-18T11:12:42.381Z"
   },
   {
    "duration": 5,
    "start_time": "2021-06-18T11:12:42.392Z"
   },
   {
    "duration": 10,
    "start_time": "2021-06-18T11:12:42.399Z"
   },
   {
    "duration": 74,
    "start_time": "2021-06-18T11:12:42.411Z"
   },
   {
    "duration": 5,
    "start_time": "2021-06-18T11:12:42.488Z"
   },
   {
    "duration": 26,
    "start_time": "2021-06-18T11:12:42.495Z"
   },
   {
    "duration": 7,
    "start_time": "2021-06-18T11:12:42.523Z"
   },
   {
    "duration": 58,
    "start_time": "2021-06-18T11:12:42.532Z"
   },
   {
    "duration": 3,
    "start_time": "2021-06-18T11:12:42.592Z"
   },
   {
    "duration": 27,
    "start_time": "2021-06-18T11:12:42.597Z"
   },
   {
    "duration": 12,
    "start_time": "2021-06-18T11:12:42.626Z"
   },
   {
    "duration": 14,
    "start_time": "2021-06-18T11:12:42.640Z"
   },
   {
    "duration": 5,
    "start_time": "2021-06-18T11:12:42.656Z"
   },
   {
    "duration": 11,
    "start_time": "2021-06-18T11:12:42.664Z"
   },
   {
    "duration": 7,
    "start_time": "2021-06-18T11:12:42.678Z"
   },
   {
    "duration": 13,
    "start_time": "2021-06-18T11:12:42.687Z"
   },
   {
    "duration": 7,
    "start_time": "2021-06-18T11:12:42.702Z"
   },
   {
    "duration": 8,
    "start_time": "2021-06-18T11:12:42.711Z"
   },
   {
    "duration": 8,
    "start_time": "2021-06-18T11:12:42.721Z"
   },
   {
    "duration": 23,
    "start_time": "2021-06-18T11:12:42.731Z"
   },
   {
    "duration": 302,
    "start_time": "2021-06-18T11:12:42.757Z"
   },
   {
    "duration": 92,
    "start_time": "2021-06-18T11:12:43.063Z"
   },
   {
    "duration": 96,
    "start_time": "2021-06-18T11:12:43.159Z"
   },
   {
    "duration": 18,
    "start_time": "2021-06-18T11:12:43.259Z"
   },
   {
    "duration": 42,
    "start_time": "2021-06-18T11:12:43.280Z"
   },
   {
    "duration": 29,
    "start_time": "2021-06-18T11:12:43.324Z"
   },
   {
    "duration": 4,
    "start_time": "2021-06-18T11:12:43.355Z"
   },
   {
    "duration": 25,
    "start_time": "2021-06-18T11:12:43.361Z"
   },
   {
    "duration": 12,
    "start_time": "2021-06-18T11:12:43.388Z"
   },
   {
    "duration": 26,
    "start_time": "2021-06-18T11:12:43.402Z"
   },
   {
    "duration": 14,
    "start_time": "2021-06-18T11:12:43.431Z"
   },
   {
    "duration": 12,
    "start_time": "2021-06-18T11:12:43.447Z"
   },
   {
    "duration": 15,
    "start_time": "2021-06-18T11:12:43.461Z"
   },
   {
    "duration": 7613,
    "start_time": "2021-06-18T11:12:43.479Z"
   },
   {
    "duration": 6,
    "start_time": "2021-06-18T11:12:51.094Z"
   },
   {
    "duration": 20,
    "start_time": "2021-06-18T11:12:51.102Z"
   },
   {
    "duration": 70,
    "start_time": "2021-06-18T11:12:51.124Z"
   },
   {
    "duration": 7,
    "start_time": "2021-06-18T11:12:51.197Z"
   },
   {
    "duration": 25,
    "start_time": "2021-06-18T11:12:51.207Z"
   },
   {
    "duration": 35,
    "start_time": "2021-06-18T11:12:51.234Z"
   },
   {
    "duration": 8,
    "start_time": "2021-06-18T11:13:04.659Z"
   },
   {
    "duration": 8,
    "start_time": "2021-06-18T11:13:10.393Z"
   },
   {
    "duration": 472,
    "start_time": "2021-06-18T11:13:38.392Z"
   },
   {
    "duration": 8,
    "start_time": "2021-06-18T11:13:57.898Z"
   },
   {
    "duration": 8,
    "start_time": "2021-06-18T11:14:00.463Z"
   },
   {
    "duration": 90,
    "start_time": "2021-06-18T11:14:20.660Z"
   },
   {
    "duration": 292,
    "start_time": "2021-06-18T11:14:30.842Z"
   },
   {
    "duration": 1576,
    "start_time": "2021-06-18T11:14:41.714Z"
   },
   {
    "duration": 1488,
    "start_time": "2021-06-18T11:14:43.294Z"
   },
   {
    "duration": 25,
    "start_time": "2021-06-18T11:14:44.787Z"
   },
   {
    "duration": 23,
    "start_time": "2021-06-18T11:14:44.816Z"
   },
   {
    "duration": 49,
    "start_time": "2021-06-18T11:14:44.854Z"
   },
   {
    "duration": 8,
    "start_time": "2021-06-18T11:14:44.906Z"
   },
   {
    "duration": 23,
    "start_time": "2021-06-18T11:14:44.916Z"
   },
   {
    "duration": 3980,
    "start_time": "2021-06-18T11:14:44.943Z"
   },
   {
    "duration": 594,
    "start_time": "2021-06-18T11:14:48.926Z"
   },
   {
    "duration": 17,
    "start_time": "2021-06-18T11:14:49.523Z"
   },
   {
    "duration": 31,
    "start_time": "2021-06-18T11:14:49.555Z"
   },
   {
    "duration": 64,
    "start_time": "2021-06-18T11:14:49.590Z"
   },
   {
    "duration": 3918,
    "start_time": "2021-06-18T11:14:49.656Z"
   },
   {
    "duration": 639,
    "start_time": "2021-06-18T11:14:53.577Z"
   },
   {
    "duration": 12,
    "start_time": "2021-06-18T11:14:54.219Z"
   },
   {
    "duration": 35,
    "start_time": "2021-06-18T11:14:54.233Z"
   },
   {
    "duration": 52,
    "start_time": "2021-06-18T11:14:54.271Z"
   },
   {
    "duration": 4153,
    "start_time": "2021-06-18T11:14:54.326Z"
   },
   {
    "duration": 577,
    "start_time": "2021-06-18T11:14:58.482Z"
   },
   {
    "duration": 270,
    "start_time": "2021-06-18T11:14:59.061Z"
   },
   {
    "duration": 111,
    "start_time": "2021-06-18T11:14:59.333Z"
   },
   {
    "duration": 10,
    "start_time": "2021-06-18T11:14:59.447Z"
   },
   {
    "duration": 32,
    "start_time": "2021-06-18T11:14:59.462Z"
   },
   {
    "duration": 33,
    "start_time": "2021-06-18T11:14:59.498Z"
   },
   {
    "duration": 29,
    "start_time": "2021-06-18T11:14:59.534Z"
   },
   {
    "duration": 26,
    "start_time": "2021-06-18T11:14:59.566Z"
   },
   {
    "duration": 21,
    "start_time": "2021-06-18T11:14:59.595Z"
   },
   {
    "duration": 28,
    "start_time": "2021-06-18T11:14:59.618Z"
   },
   {
    "duration": 30,
    "start_time": "2021-06-18T11:14:59.649Z"
   },
   {
    "duration": 67,
    "start_time": "2021-06-18T11:14:59.682Z"
   },
   {
    "duration": 5,
    "start_time": "2021-06-18T11:14:59.752Z"
   },
   {
    "duration": 24,
    "start_time": "2021-06-18T11:14:59.759Z"
   },
   {
    "duration": 21,
    "start_time": "2021-06-18T11:14:59.785Z"
   },
   {
    "duration": 69,
    "start_time": "2021-06-18T11:14:59.808Z"
   },
   {
    "duration": 3,
    "start_time": "2021-06-18T11:14:59.879Z"
   },
   {
    "duration": 37,
    "start_time": "2021-06-18T11:14:59.884Z"
   },
   {
    "duration": 16,
    "start_time": "2021-06-18T11:14:59.924Z"
   },
   {
    "duration": 17,
    "start_time": "2021-06-18T11:14:59.942Z"
   },
   {
    "duration": 33,
    "start_time": "2021-06-18T11:14:59.961Z"
   },
   {
    "duration": 30,
    "start_time": "2021-06-18T11:14:59.997Z"
   },
   {
    "duration": 22,
    "start_time": "2021-06-18T11:15:00.030Z"
   },
   {
    "duration": 22,
    "start_time": "2021-06-18T11:15:00.054Z"
   },
   {
    "duration": 11,
    "start_time": "2021-06-18T11:15:00.078Z"
   },
   {
    "duration": 15,
    "start_time": "2021-06-18T11:15:00.091Z"
   },
   {
    "duration": 19,
    "start_time": "2021-06-18T11:15:00.108Z"
   },
   {
    "duration": 22,
    "start_time": "2021-06-18T11:15:00.129Z"
   },
   {
    "duration": 305,
    "start_time": "2021-06-18T11:15:00.153Z"
   },
   {
    "duration": 93,
    "start_time": "2021-06-18T11:15:00.462Z"
   },
   {
    "duration": 30,
    "start_time": "2021-06-18T11:15:00.557Z"
   },
   {
    "duration": 45,
    "start_time": "2021-06-18T11:15:00.589Z"
   },
   {
    "duration": 71,
    "start_time": "2021-06-18T11:15:00.637Z"
   },
   {
    "duration": 11,
    "start_time": "2021-06-18T11:15:00.710Z"
   },
   {
    "duration": 52,
    "start_time": "2021-06-18T11:15:00.723Z"
   },
   {
    "duration": 46,
    "start_time": "2021-06-18T11:15:00.777Z"
   },
   {
    "duration": 28,
    "start_time": "2021-06-18T11:15:00.825Z"
   },
   {
    "duration": 47,
    "start_time": "2021-06-18T11:15:00.856Z"
   },
   {
    "duration": 30,
    "start_time": "2021-06-18T11:15:00.905Z"
   },
   {
    "duration": 33,
    "start_time": "2021-06-18T11:15:00.938Z"
   },
   {
    "duration": 29,
    "start_time": "2021-06-18T11:15:00.974Z"
   },
   {
    "duration": 7784,
    "start_time": "2021-06-18T11:15:01.005Z"
   },
   {
    "duration": 7,
    "start_time": "2021-06-18T11:15:08.791Z"
   },
   {
    "duration": 24,
    "start_time": "2021-06-18T11:15:08.800Z"
   },
   {
    "duration": 67,
    "start_time": "2021-06-18T11:15:08.826Z"
   },
   {
    "duration": 5,
    "start_time": "2021-06-18T11:15:08.896Z"
   },
   {
    "duration": 37,
    "start_time": "2021-06-18T11:15:08.904Z"
   },
   {
    "duration": 41,
    "start_time": "2021-06-18T11:15:08.943Z"
   },
   {
    "duration": 9,
    "start_time": "2021-06-18T11:15:40.602Z"
   },
   {
    "duration": 7976,
    "start_time": "2021-06-18T11:17:16.772Z"
   },
   {
    "duration": 8019,
    "start_time": "2021-06-18T11:21:21.103Z"
   },
   {
    "duration": 7714,
    "start_time": "2021-06-18T11:23:49.702Z"
   },
   {
    "duration": 7603,
    "start_time": "2021-06-18T11:31:15.123Z"
   },
   {
    "duration": 7662,
    "start_time": "2021-06-18T11:31:42.347Z"
   },
   {
    "duration": 7757,
    "start_time": "2021-06-18T11:32:37.185Z"
   },
   {
    "duration": 7817,
    "start_time": "2021-06-18T11:33:06.468Z"
   },
   {
    "duration": 8935,
    "start_time": "2021-06-18T11:33:26.339Z"
   },
   {
    "duration": 408,
    "start_time": "2021-06-18T11:35:15.776Z"
   },
   {
    "duration": 7820,
    "start_time": "2021-06-18T11:35:22.682Z"
   },
   {
    "duration": 7777,
    "start_time": "2021-06-18T11:35:44.633Z"
   },
   {
    "duration": 7707,
    "start_time": "2021-06-18T11:36:16.247Z"
   },
   {
    "duration": 7732,
    "start_time": "2021-06-18T11:36:59.886Z"
   },
   {
    "duration": 7719,
    "start_time": "2021-06-18T11:40:30.492Z"
   },
   {
    "duration": 1451,
    "start_time": "2021-06-18T11:41:11.410Z"
   },
   {
    "duration": 1003,
    "start_time": "2021-06-18T11:41:12.864Z"
   },
   {
    "duration": 19,
    "start_time": "2021-06-18T11:41:13.870Z"
   },
   {
    "duration": 27,
    "start_time": "2021-06-18T11:41:13.892Z"
   },
   {
    "duration": 68,
    "start_time": "2021-06-18T11:41:13.922Z"
   },
   {
    "duration": 9,
    "start_time": "2021-06-18T11:41:13.993Z"
   },
   {
    "duration": 27,
    "start_time": "2021-06-18T11:41:14.005Z"
   },
   {
    "duration": 3893,
    "start_time": "2021-06-18T11:41:14.035Z"
   },
   {
    "duration": 570,
    "start_time": "2021-06-18T11:41:17.932Z"
   },
   {
    "duration": 13,
    "start_time": "2021-06-18T11:41:18.506Z"
   },
   {
    "duration": 37,
    "start_time": "2021-06-18T11:41:18.522Z"
   },
   {
    "duration": 53,
    "start_time": "2021-06-18T11:41:18.561Z"
   },
   {
    "duration": 3742,
    "start_time": "2021-06-18T11:41:18.617Z"
   },
   {
    "duration": 530,
    "start_time": "2021-06-18T11:41:22.362Z"
   },
   {
    "duration": 12,
    "start_time": "2021-06-18T11:41:22.895Z"
   },
   {
    "duration": 24,
    "start_time": "2021-06-18T11:41:22.910Z"
   },
   {
    "duration": 65,
    "start_time": "2021-06-18T11:41:22.937Z"
   },
   {
    "duration": 4041,
    "start_time": "2021-06-18T11:41:23.004Z"
   },
   {
    "duration": 586,
    "start_time": "2021-06-18T11:41:27.055Z"
   },
   {
    "duration": 309,
    "start_time": "2021-06-18T11:41:27.645Z"
   },
   {
    "duration": 101,
    "start_time": "2021-06-18T11:41:27.957Z"
   },
   {
    "duration": 4,
    "start_time": "2021-06-18T11:41:28.061Z"
   },
   {
    "duration": 25,
    "start_time": "2021-06-18T11:41:28.067Z"
   },
   {
    "duration": 12,
    "start_time": "2021-06-18T11:41:28.095Z"
   },
   {
    "duration": 14,
    "start_time": "2021-06-18T11:41:28.109Z"
   },
   {
    "duration": 19,
    "start_time": "2021-06-18T11:41:28.126Z"
   },
   {
    "duration": 12,
    "start_time": "2021-06-18T11:41:28.159Z"
   },
   {
    "duration": 6,
    "start_time": "2021-06-18T11:41:28.175Z"
   },
   {
    "duration": 8,
    "start_time": "2021-06-18T11:41:28.184Z"
   },
   {
    "duration": 65,
    "start_time": "2021-06-18T11:41:28.194Z"
   },
   {
    "duration": 6,
    "start_time": "2021-06-18T11:41:28.262Z"
   },
   {
    "duration": 7,
    "start_time": "2021-06-18T11:41:28.271Z"
   },
   {
    "duration": 9,
    "start_time": "2021-06-18T11:41:28.281Z"
   },
   {
    "duration": 94,
    "start_time": "2021-06-18T11:41:28.293Z"
   },
   {
    "duration": 4,
    "start_time": "2021-06-18T11:41:28.390Z"
   },
   {
    "duration": 17,
    "start_time": "2021-06-18T11:41:28.397Z"
   },
   {
    "duration": 7,
    "start_time": "2021-06-18T11:41:28.417Z"
   },
   {
    "duration": 28,
    "start_time": "2021-06-18T11:41:28.427Z"
   },
   {
    "duration": 10,
    "start_time": "2021-06-18T11:41:28.458Z"
   },
   {
    "duration": 7,
    "start_time": "2021-06-18T11:41:28.471Z"
   },
   {
    "duration": 6,
    "start_time": "2021-06-18T11:41:28.481Z"
   },
   {
    "duration": 8,
    "start_time": "2021-06-18T11:41:28.490Z"
   },
   {
    "duration": 17,
    "start_time": "2021-06-18T11:41:28.501Z"
   },
   {
    "duration": 11,
    "start_time": "2021-06-18T11:41:28.520Z"
   },
   {
    "duration": 22,
    "start_time": "2021-06-18T11:41:28.534Z"
   },
   {
    "duration": 7,
    "start_time": "2021-06-18T11:41:28.559Z"
   },
   {
    "duration": 192,
    "start_time": "2021-06-18T11:41:28.569Z"
   },
   {
    "duration": 92,
    "start_time": "2021-06-18T11:41:28.764Z"
   },
   {
    "duration": 100,
    "start_time": "2021-06-18T11:41:28.860Z"
   },
   {
    "duration": 19,
    "start_time": "2021-06-18T11:41:28.963Z"
   },
   {
    "duration": 44,
    "start_time": "2021-06-18T11:41:28.984Z"
   },
   {
    "duration": 27,
    "start_time": "2021-06-18T11:41:29.030Z"
   },
   {
    "duration": 13,
    "start_time": "2021-06-18T11:41:29.060Z"
   },
   {
    "duration": 18,
    "start_time": "2021-06-18T11:41:29.075Z"
   },
   {
    "duration": 12,
    "start_time": "2021-06-18T11:41:29.095Z"
   },
   {
    "duration": 17,
    "start_time": "2021-06-18T11:41:29.110Z"
   },
   {
    "duration": 24,
    "start_time": "2021-06-18T11:41:29.130Z"
   },
   {
    "duration": 23,
    "start_time": "2021-06-18T11:41:29.157Z"
   },
   {
    "duration": 11,
    "start_time": "2021-06-18T11:41:29.183Z"
   },
   {
    "duration": 7759,
    "start_time": "2021-06-18T11:41:29.197Z"
   },
   {
    "duration": 5,
    "start_time": "2021-06-18T11:41:36.959Z"
   },
   {
    "duration": 13,
    "start_time": "2021-06-18T11:41:36.967Z"
   },
   {
    "duration": 76,
    "start_time": "2021-06-18T11:41:36.982Z"
   },
   {
    "duration": 5,
    "start_time": "2021-06-18T11:41:37.061Z"
   },
   {
    "duration": 13,
    "start_time": "2021-06-18T11:41:37.069Z"
   },
   {
    "duration": 20,
    "start_time": "2021-06-18T11:41:37.085Z"
   },
   {
    "duration": 7820,
    "start_time": "2021-06-18T11:42:15.715Z"
   },
   {
    "duration": 8358,
    "start_time": "2021-06-18T11:43:57.378Z"
   },
   {
    "duration": 8085,
    "start_time": "2021-06-18T11:45:37.907Z"
   },
   {
    "duration": 7817,
    "start_time": "2021-06-18T11:48:16.184Z"
   },
   {
    "duration": 12,
    "start_time": "2021-06-18T11:52:46.939Z"
   },
   {
    "duration": 12,
    "start_time": "2021-06-18T11:53:11.715Z"
   },
   {
    "duration": 13,
    "start_time": "2021-06-18T11:53:33.219Z"
   },
   {
    "duration": 4583,
    "start_time": "2021-06-18T12:40:58.123Z"
   },
   {
    "duration": 4301,
    "start_time": "2021-06-18T12:41:22.811Z"
   },
   {
    "duration": 5301,
    "start_time": "2021-06-18T12:42:31.765Z"
   },
   {
    "duration": 2102,
    "start_time": "2021-06-18T12:46:01.496Z"
   },
   {
    "duration": 2063,
    "start_time": "2021-06-18T12:46:22.631Z"
   },
   {
    "duration": 4455,
    "start_time": "2021-06-18T12:47:14.529Z"
   },
   {
    "duration": 5506,
    "start_time": "2021-06-18T12:47:18.987Z"
   },
   {
    "duration": 4743,
    "start_time": "2021-06-18T12:48:17.632Z"
   },
   {
    "duration": 5631,
    "start_time": "2021-06-18T12:48:58.879Z"
   },
   {
    "duration": 4288,
    "start_time": "2021-06-18T12:49:04.512Z"
   },
   {
    "duration": 10,
    "start_time": "2021-06-18T13:29:36.803Z"
   },
   {
    "duration": 6,
    "start_time": "2021-06-18T13:33:11.870Z"
   },
   {
    "duration": 6,
    "start_time": "2021-06-18T13:33:27.708Z"
   },
   {
    "duration": 18,
    "start_time": "2021-06-18T13:34:10.082Z"
   },
   {
    "duration": 5,
    "start_time": "2021-06-18T13:34:23.394Z"
   },
   {
    "duration": 23,
    "start_time": "2021-06-18T13:34:43.491Z"
   },
   {
    "duration": 3,
    "start_time": "2021-06-18T13:35:40.273Z"
   },
   {
    "duration": 5,
    "start_time": "2021-06-18T13:35:47.130Z"
   },
   {
    "duration": 21,
    "start_time": "2021-06-18T13:36:03.698Z"
   },
   {
    "duration": 26,
    "start_time": "2021-06-18T13:36:47.560Z"
   },
   {
    "duration": 29,
    "start_time": "2021-06-18T13:37:07.786Z"
   },
   {
    "duration": 5,
    "start_time": "2021-06-18T13:42:28.356Z"
   },
   {
    "duration": 5,
    "start_time": "2021-06-18T13:42:35.955Z"
   },
   {
    "duration": 6,
    "start_time": "2021-06-18T13:42:44.696Z"
   },
   {
    "duration": 6,
    "start_time": "2021-06-18T13:43:12.681Z"
   },
   {
    "duration": 145,
    "start_time": "2021-06-18T13:43:25.611Z"
   },
   {
    "duration": 8,
    "start_time": "2021-06-18T13:44:02.420Z"
   },
   {
    "duration": 5,
    "start_time": "2021-06-18T13:44:27.003Z"
   },
   {
    "duration": 8,
    "start_time": "2021-06-18T13:44:39.009Z"
   },
   {
    "duration": 11,
    "start_time": "2021-06-18T13:46:07.690Z"
   },
   {
    "duration": 10,
    "start_time": "2021-06-18T13:49:04.583Z"
   },
   {
    "duration": 90,
    "start_time": "2021-06-18T13:49:21.775Z"
   },
   {
    "duration": 7,
    "start_time": "2021-06-18T13:49:36.431Z"
   },
   {
    "duration": 7,
    "start_time": "2021-06-18T13:53:04.133Z"
   },
   {
    "duration": 10,
    "start_time": "2021-06-18T13:53:15.334Z"
   },
   {
    "duration": 10,
    "start_time": "2021-06-18T13:53:19.077Z"
   },
   {
    "duration": 9,
    "start_time": "2021-06-18T13:53:33.821Z"
   },
   {
    "duration": 7,
    "start_time": "2021-06-18T13:54:21.203Z"
   },
   {
    "duration": 7,
    "start_time": "2021-06-18T13:54:26.033Z"
   },
   {
    "duration": 7,
    "start_time": "2021-06-18T13:54:33.612Z"
   },
   {
    "duration": 7,
    "start_time": "2021-06-18T13:54:38.451Z"
   },
   {
    "duration": 7,
    "start_time": "2021-06-18T13:55:04.349Z"
   },
   {
    "duration": 10,
    "start_time": "2021-06-18T14:03:48.456Z"
   },
   {
    "duration": 10,
    "start_time": "2021-06-18T14:04:10.630Z"
   },
   {
    "duration": 8,
    "start_time": "2021-06-18T14:06:05.373Z"
   },
   {
    "duration": 432,
    "start_time": "2021-06-18T14:59:22.870Z"
   },
   {
    "duration": 6,
    "start_time": "2021-06-18T14:59:52.608Z"
   },
   {
    "duration": 9,
    "start_time": "2021-06-18T15:00:24.975Z"
   },
   {
    "duration": 9,
    "start_time": "2021-06-18T15:00:38.638Z"
   },
   {
    "duration": 8,
    "start_time": "2021-06-18T15:00:55.527Z"
   },
   {
    "duration": 7,
    "start_time": "2021-06-18T15:01:12.980Z"
   },
   {
    "duration": 7,
    "start_time": "2021-06-18T15:01:38.990Z"
   },
   {
    "duration": 7,
    "start_time": "2021-06-18T15:01:51.012Z"
   },
   {
    "duration": 8,
    "start_time": "2021-06-18T15:02:03.573Z"
   },
   {
    "duration": 8,
    "start_time": "2021-06-18T15:02:22.188Z"
   },
   {
    "duration": 6,
    "start_time": "2021-06-18T15:04:08.410Z"
   },
   {
    "duration": 7,
    "start_time": "2021-06-18T15:10:21.477Z"
   },
   {
    "duration": 8,
    "start_time": "2021-06-18T15:10:45.887Z"
   },
   {
    "duration": 8,
    "start_time": "2021-06-18T15:10:47.902Z"
   },
   {
    "duration": 8,
    "start_time": "2021-06-18T15:10:57.878Z"
   },
   {
    "duration": 8,
    "start_time": "2021-06-18T15:15:06.059Z"
   },
   {
    "duration": 11,
    "start_time": "2021-06-18T15:15:31.973Z"
   },
   {
    "duration": 12,
    "start_time": "2021-06-18T15:15:43.756Z"
   },
   {
    "duration": 8,
    "start_time": "2021-06-18T15:15:53.172Z"
   },
   {
    "duration": 7,
    "start_time": "2021-06-18T15:17:34.524Z"
   },
   {
    "duration": 7,
    "start_time": "2021-06-18T15:18:05.746Z"
   },
   {
    "duration": 7,
    "start_time": "2021-06-18T15:18:33.529Z"
   },
   {
    "duration": 116,
    "start_time": "2021-06-18T15:25:05.996Z"
   },
   {
    "duration": 13,
    "start_time": "2021-06-18T15:53:47.664Z"
   },
   {
    "duration": 5,
    "start_time": "2021-06-18T16:16:20.187Z"
   },
   {
    "duration": 5,
    "start_time": "2021-06-18T17:19:53.213Z"
   },
   {
    "duration": 8057,
    "start_time": "2021-06-18T17:19:57.506Z"
   },
   {
    "duration": 7999,
    "start_time": "2021-06-18T17:20:48.595Z"
   },
   {
    "duration": 7975,
    "start_time": "2021-06-18T17:21:13.626Z"
   },
   {
    "duration": 50,
    "start_time": "2021-06-18T17:22:28.961Z"
   },
   {
    "duration": 13,
    "start_time": "2021-06-18T17:22:32.840Z"
   },
   {
    "duration": 13,
    "start_time": "2021-06-18T17:22:35.681Z"
   },
   {
    "duration": 7806,
    "start_time": "2021-06-18T17:23:13.400Z"
   },
   {
    "duration": 3,
    "start_time": "2021-06-18T18:11:23.087Z"
   },
   {
    "duration": 282,
    "start_time": "2021-06-18T18:22:26.180Z"
   },
   {
    "duration": 70,
    "start_time": "2021-06-18T18:22:34.710Z"
   },
   {
    "duration": 26,
    "start_time": "2021-06-18T18:23:07.040Z"
   },
   {
    "duration": 1539,
    "start_time": "2021-06-18T18:25:48.637Z"
   },
   {
    "duration": 2729,
    "start_time": "2021-06-18T18:25:50.179Z"
   },
   {
    "duration": 19,
    "start_time": "2021-06-18T18:25:52.911Z"
   },
   {
    "duration": 29,
    "start_time": "2021-06-18T18:25:52.933Z"
   },
   {
    "duration": 50,
    "start_time": "2021-06-18T18:25:52.964Z"
   },
   {
    "duration": 8,
    "start_time": "2021-06-18T18:25:53.016Z"
   },
   {
    "duration": 6,
    "start_time": "2021-06-18T18:25:53.055Z"
   },
   {
    "duration": 3974,
    "start_time": "2021-06-18T18:25:53.066Z"
   },
   {
    "duration": 558,
    "start_time": "2021-06-18T18:25:57.043Z"
   },
   {
    "duration": 14,
    "start_time": "2021-06-18T18:25:57.603Z"
   },
   {
    "duration": 35,
    "start_time": "2021-06-18T18:25:57.619Z"
   },
   {
    "duration": 48,
    "start_time": "2021-06-18T18:25:57.657Z"
   },
   {
    "duration": 3847,
    "start_time": "2021-06-18T18:25:57.707Z"
   },
   {
    "duration": 28,
    "start_time": "2021-06-18T18:26:01.557Z"
   },
   {
    "duration": 7,
    "start_time": "2021-06-18T18:26:01.588Z"
   },
   {
    "duration": 15,
    "start_time": "2021-06-18T18:26:01.597Z"
   },
   {
    "duration": 580,
    "start_time": "2021-06-18T18:26:01.614Z"
   },
   {
    "duration": 12,
    "start_time": "2021-06-18T18:26:02.196Z"
   },
   {
    "duration": 24,
    "start_time": "2021-06-18T18:26:02.212Z"
   },
   {
    "duration": 65,
    "start_time": "2021-06-18T18:26:02.238Z"
   },
   {
    "duration": 4243,
    "start_time": "2021-06-18T18:26:02.306Z"
   },
   {
    "duration": 660,
    "start_time": "2021-06-18T18:26:06.556Z"
   },
   {
    "duration": 280,
    "start_time": "2021-06-18T18:26:07.222Z"
   },
   {
    "duration": 101,
    "start_time": "2021-06-18T18:26:07.505Z"
   },
   {
    "duration": 6,
    "start_time": "2021-06-18T18:26:07.609Z"
   },
   {
    "duration": 38,
    "start_time": "2021-06-18T18:26:07.617Z"
   },
   {
    "duration": 12,
    "start_time": "2021-06-18T18:26:07.657Z"
   },
   {
    "duration": 6,
    "start_time": "2021-06-18T18:26:07.671Z"
   },
   {
    "duration": 74,
    "start_time": "2021-06-18T18:26:07.680Z"
   },
   {
    "duration": 4,
    "start_time": "2021-06-18T18:26:07.757Z"
   },
   {
    "duration": 13,
    "start_time": "2021-06-18T18:26:07.764Z"
   },
   {
    "duration": 62,
    "start_time": "2021-06-18T18:26:07.779Z"
   },
   {
    "duration": 18,
    "start_time": "2021-06-18T18:26:07.844Z"
   },
   {
    "duration": 6,
    "start_time": "2021-06-18T18:26:07.864Z"
   },
   {
    "duration": 283,
    "start_time": "2021-06-18T18:26:07.872Z"
   },
   {
    "duration": 101,
    "start_time": "2021-06-18T18:26:08.159Z"
   },
   {
    "duration": 67,
    "start_time": "2021-06-18T18:26:08.262Z"
   },
   {
    "duration": 13,
    "start_time": "2021-06-18T18:26:08.331Z"
   },
   {
    "duration": 13,
    "start_time": "2021-06-18T18:26:08.346Z"
   },
   {
    "duration": 22,
    "start_time": "2021-06-18T18:26:08.362Z"
   },
   {
    "duration": 10,
    "start_time": "2021-06-18T18:26:08.386Z"
   },
   {
    "duration": 8602,
    "start_time": "2021-06-18T18:26:08.398Z"
   },
   {
    "duration": -528,
    "start_time": "2021-06-18T18:26:17.531Z"
   },
   {
    "duration": -529,
    "start_time": "2021-06-18T18:26:17.533Z"
   },
   {
    "duration": -530,
    "start_time": "2021-06-18T18:26:17.536Z"
   },
   {
    "duration": -531,
    "start_time": "2021-06-18T18:26:17.538Z"
   },
   {
    "duration": -532,
    "start_time": "2021-06-18T18:26:17.540Z"
   },
   {
    "duration": -533,
    "start_time": "2021-06-18T18:26:17.543Z"
   },
   {
    "duration": -533,
    "start_time": "2021-06-18T18:26:17.545Z"
   },
   {
    "duration": 4,
    "start_time": "2021-06-18T18:26:57.151Z"
   },
   {
    "duration": 13,
    "start_time": "2021-06-18T18:27:03.619Z"
   },
   {
    "duration": 4,
    "start_time": "2021-06-18T18:27:06.383Z"
   },
   {
    "duration": 4,
    "start_time": "2021-06-18T18:27:07.152Z"
   },
   {
    "duration": 4,
    "start_time": "2021-06-18T18:27:08.263Z"
   },
   {
    "duration": 1452,
    "start_time": "2021-06-18T18:27:17.902Z"
   },
   {
    "duration": 2463,
    "start_time": "2021-06-18T18:27:19.357Z"
   },
   {
    "duration": 20,
    "start_time": "2021-06-18T18:27:21.824Z"
   },
   {
    "duration": 25,
    "start_time": "2021-06-18T18:27:21.847Z"
   },
   {
    "duration": 61,
    "start_time": "2021-06-18T18:27:21.874Z"
   },
   {
    "duration": 17,
    "start_time": "2021-06-18T18:27:21.937Z"
   },
   {
    "duration": 20,
    "start_time": "2021-06-18T18:27:21.957Z"
   },
   {
    "duration": 4102,
    "start_time": "2021-06-18T18:27:21.981Z"
   },
   {
    "duration": 619,
    "start_time": "2021-06-18T18:27:26.086Z"
   },
   {
    "duration": 13,
    "start_time": "2021-06-18T18:27:26.708Z"
   },
   {
    "duration": 36,
    "start_time": "2021-06-18T18:27:26.723Z"
   },
   {
    "duration": 48,
    "start_time": "2021-06-18T18:27:26.761Z"
   },
   {
    "duration": 3732,
    "start_time": "2021-06-18T18:27:26.812Z"
   },
   {
    "duration": 32,
    "start_time": "2021-06-18T18:27:30.546Z"
   },
   {
    "duration": 7,
    "start_time": "2021-06-18T18:27:30.580Z"
   },
   {
    "duration": 44,
    "start_time": "2021-06-18T18:27:30.589Z"
   },
   {
    "duration": 554,
    "start_time": "2021-06-18T18:27:30.635Z"
   },
   {
    "duration": 14,
    "start_time": "2021-06-18T18:27:31.192Z"
   },
   {
    "duration": 42,
    "start_time": "2021-06-18T18:27:31.208Z"
   },
   {
    "duration": 59,
    "start_time": "2021-06-18T18:27:31.253Z"
   },
   {
    "duration": 4211,
    "start_time": "2021-06-18T18:27:31.315Z"
   },
   {
    "duration": 570,
    "start_time": "2021-06-18T18:27:35.528Z"
   },
   {
    "duration": 298,
    "start_time": "2021-06-18T18:27:36.103Z"
   },
   {
    "duration": 105,
    "start_time": "2021-06-18T18:27:36.404Z"
   },
   {
    "duration": 5,
    "start_time": "2021-06-18T18:27:36.511Z"
   },
   {
    "duration": 36,
    "start_time": "2021-06-18T18:27:36.518Z"
   },
   {
    "duration": 19,
    "start_time": "2021-06-18T18:27:36.557Z"
   },
   {
    "duration": 4,
    "start_time": "2021-06-18T18:27:36.578Z"
   },
   {
    "duration": 71,
    "start_time": "2021-06-18T18:27:36.585Z"
   },
   {
    "duration": 5,
    "start_time": "2021-06-18T18:27:36.658Z"
   },
   {
    "duration": 12,
    "start_time": "2021-06-18T18:27:36.665Z"
   },
   {
    "duration": 76,
    "start_time": "2021-06-18T18:27:36.679Z"
   },
   {
    "duration": 15,
    "start_time": "2021-06-18T18:27:36.757Z"
   },
   {
    "duration": 10,
    "start_time": "2021-06-18T18:27:36.774Z"
   },
   {
    "duration": 272,
    "start_time": "2021-06-18T18:27:36.786Z"
   },
   {
    "duration": 194,
    "start_time": "2021-06-18T18:27:37.061Z"
   },
   {
    "duration": 38,
    "start_time": "2021-06-18T18:27:37.258Z"
   },
   {
    "duration": 11,
    "start_time": "2021-06-18T18:27:37.299Z"
   },
   {
    "duration": 5,
    "start_time": "2021-06-18T18:27:37.312Z"
   },
   {
    "duration": 11,
    "start_time": "2021-06-18T18:27:37.320Z"
   },
   {
    "duration": 8,
    "start_time": "2021-06-18T18:27:37.333Z"
   },
   {
    "duration": 26,
    "start_time": "2021-06-18T18:27:37.343Z"
   },
   {
    "duration": 5,
    "start_time": "2021-06-18T18:27:37.372Z"
   },
   {
    "duration": 8,
    "start_time": "2021-06-18T18:27:37.379Z"
   },
   {
    "duration": 8,
    "start_time": "2021-06-18T18:27:37.389Z"
   },
   {
    "duration": 8504,
    "start_time": "2021-06-18T18:27:37.399Z"
   },
   {
    "duration": 69,
    "start_time": "2021-06-18T18:27:45.906Z"
   },
   {
    "duration": 13,
    "start_time": "2021-06-18T18:27:45.978Z"
   },
   {
    "duration": 41,
    "start_time": "2021-06-18T18:27:45.993Z"
   },
   {
    "duration": 1631,
    "start_time": "2021-06-18T19:26:39.842Z"
   },
   {
    "duration": 1323,
    "start_time": "2021-06-18T19:26:41.477Z"
   },
   {
    "duration": 22,
    "start_time": "2021-06-18T19:27:32.753Z"
   },
   {
    "duration": 17,
    "start_time": "2021-06-18T19:27:33.046Z"
   },
   {
    "duration": 52,
    "start_time": "2021-06-18T19:27:33.244Z"
   },
   {
    "duration": 8,
    "start_time": "2021-06-18T19:27:33.734Z"
   },
   {
    "duration": 8,
    "start_time": "2021-06-18T19:27:36.554Z"
   },
   {
    "duration": 4188,
    "start_time": "2021-06-18T19:27:37.946Z"
   },
   {
    "duration": 675,
    "start_time": "2021-06-18T19:27:42.137Z"
   },
   {
    "duration": 14,
    "start_time": "2021-06-18T19:27:44.793Z"
   },
   {
    "duration": 17,
    "start_time": "2021-06-18T19:27:44.971Z"
   },
   {
    "duration": 54,
    "start_time": "2021-06-18T19:27:45.142Z"
   },
   {
    "duration": 3923,
    "start_time": "2021-06-18T19:27:45.297Z"
   },
   {
    "duration": 55,
    "start_time": "2021-06-18T19:27:49.223Z"
   },
   {
    "duration": 9,
    "start_time": "2021-06-18T19:27:49.281Z"
   },
   {
    "duration": 14,
    "start_time": "2021-06-18T19:27:49.292Z"
   },
   {
    "duration": 623,
    "start_time": "2021-06-18T19:27:49.308Z"
   },
   {
    "duration": 20,
    "start_time": "2021-06-18T19:27:49.935Z"
   },
   {
    "duration": 17,
    "start_time": "2021-06-18T19:27:50.034Z"
   },
   {
    "duration": 56,
    "start_time": "2021-06-18T19:27:50.202Z"
   },
   {
    "duration": 4336,
    "start_time": "2021-06-18T19:27:50.409Z"
   },
   {
    "duration": 625,
    "start_time": "2021-06-18T19:27:54.756Z"
   },
   {
    "duration": 289,
    "start_time": "2021-06-18T19:27:55.384Z"
   },
   {
    "duration": 107,
    "start_time": "2021-06-18T19:27:55.677Z"
   },
   {
    "duration": 6,
    "start_time": "2021-06-18T19:27:55.786Z"
   },
   {
    "duration": 21,
    "start_time": "2021-06-18T19:27:55.794Z"
   },
   {
    "duration": 15,
    "start_time": "2021-06-18T19:27:55.818Z"
   },
   {
    "duration": 5,
    "start_time": "2021-06-18T19:27:56.674Z"
   },
   {
    "duration": 49,
    "start_time": "2021-06-18T19:27:57.370Z"
   },
   {
    "duration": 6,
    "start_time": "2021-06-18T19:27:57.971Z"
   },
   {
    "duration": 6,
    "start_time": "2021-06-18T19:27:58.737Z"
   },
   {
    "duration": 54,
    "start_time": "2021-06-18T19:27:59.817Z"
   },
   {
    "duration": 15,
    "start_time": "2021-06-18T19:28:00.225Z"
   },
   {
    "duration": 7,
    "start_time": "2021-06-18T19:28:00.771Z"
   },
   {
    "duration": 152,
    "start_time": "2021-06-18T19:28:01.207Z"
   },
   {
    "duration": 12,
    "start_time": "2021-06-18T19:28:01.594Z"
   },
   {
    "duration": 42,
    "start_time": "2021-06-18T19:28:02.129Z"
   },
   {
    "duration": 11,
    "start_time": "2021-06-18T19:28:02.578Z"
   },
   {
    "duration": 4,
    "start_time": "2021-06-18T19:28:04.356Z"
   },
   {
    "duration": 6,
    "start_time": "2021-06-18T19:28:06.650Z"
   },
   {
    "duration": 4,
    "start_time": "2021-06-18T19:28:09.499Z"
   },
   {
    "duration": 15,
    "start_time": "2021-06-18T19:28:10.242Z"
   },
   {
    "duration": 5,
    "start_time": "2021-06-18T19:28:12.049Z"
   },
   {
    "duration": 5,
    "start_time": "2021-06-18T19:28:14.859Z"
   },
   {
    "duration": 4,
    "start_time": "2021-06-18T19:28:18.724Z"
   },
   {
    "duration": 7970,
    "start_time": "2021-06-18T19:28:18.961Z"
   },
   {
    "duration": 166,
    "start_time": "2021-06-18T19:28:46.036Z"
   },
   {
    "duration": 14,
    "start_time": "2021-06-18T19:28:46.578Z"
   },
   {
    "duration": 19,
    "start_time": "2021-06-18T19:28:46.962Z"
   },
   {
    "duration": 5900,
    "start_time": "2021-06-18T19:38:39.932Z"
   },
   {
    "duration": 93,
    "start_time": "2021-06-18T19:38:45.836Z"
   },
   {
    "duration": 533,
    "start_time": "2021-06-18T19:38:45.932Z"
   },
   {
    "duration": 153,
    "start_time": "2021-06-18T19:38:46.315Z"
   },
   {
    "duration": 2160,
    "start_time": "2021-06-18T19:39:26.254Z"
   },
   {
    "duration": 12,
    "start_time": "2021-06-18T19:39:28.417Z"
   },
   {
    "duration": 30,
    "start_time": "2021-06-18T19:39:28.432Z"
   },
   {
    "duration": 52,
    "start_time": "2021-06-18T19:39:28.546Z"
   },
   {
    "duration": 9,
    "start_time": "2021-06-18T19:39:28.838Z"
   },
   {
    "duration": 6,
    "start_time": "2021-06-18T19:39:29.099Z"
   },
   {
    "duration": 5597,
    "start_time": "2021-06-18T19:39:29.371Z"
   },
   {
    "duration": 589,
    "start_time": "2021-06-18T19:39:34.971Z"
   },
   {
    "duration": 12,
    "start_time": "2021-06-18T19:39:35.563Z"
   },
   {
    "duration": 25,
    "start_time": "2021-06-18T19:39:35.577Z"
   },
   {
    "duration": 86,
    "start_time": "2021-06-18T19:39:35.605Z"
   },
   {
    "duration": 8241,
    "start_time": "2021-06-18T19:39:35.694Z"
   },
   {
    "duration": 40,
    "start_time": "2021-06-18T19:39:43.954Z"
   },
   {
    "duration": 9,
    "start_time": "2021-06-18T19:39:44.000Z"
   },
   {
    "duration": 9,
    "start_time": "2021-06-18T19:39:44.013Z"
   },
   {
    "duration": 591,
    "start_time": "2021-06-18T19:39:44.056Z"
   },
   {
    "duration": 20,
    "start_time": "2021-06-18T19:39:44.650Z"
   },
   {
    "duration": 19,
    "start_time": "2021-06-18T19:39:44.672Z"
   },
   {
    "duration": 77,
    "start_time": "2021-06-18T19:39:44.693Z"
   },
   {
    "duration": 5521,
    "start_time": "2021-06-18T19:39:44.773Z"
   },
   {
    "duration": 633,
    "start_time": "2021-06-18T19:39:50.296Z"
   },
   {
    "duration": 364,
    "start_time": "2021-06-18T19:39:50.932Z"
   },
   {
    "duration": 106,
    "start_time": "2021-06-18T19:39:51.298Z"
   },
   {
    "duration": 6,
    "start_time": "2021-06-18T19:39:51.406Z"
   },
   {
    "duration": 23,
    "start_time": "2021-06-18T19:39:51.414Z"
   },
   {
    "duration": 18,
    "start_time": "2021-06-18T19:39:51.440Z"
   },
   {
    "duration": 12,
    "start_time": "2021-06-18T19:39:51.462Z"
   },
   {
    "duration": 55,
    "start_time": "2021-06-18T19:39:51.477Z"
   },
   {
    "duration": 22,
    "start_time": "2021-06-18T19:39:51.537Z"
   },
   {
    "duration": 13,
    "start_time": "2021-06-18T19:39:51.562Z"
   },
   {
    "duration": 50,
    "start_time": "2021-06-18T19:39:51.578Z"
   },
   {
    "duration": 32,
    "start_time": "2021-06-18T19:39:51.631Z"
   },
   {
    "duration": 7,
    "start_time": "2021-06-18T19:39:51.666Z"
   },
   {
    "duration": 279,
    "start_time": "2021-06-18T19:39:51.676Z"
   },
   {
    "duration": 100,
    "start_time": "2021-06-18T19:39:51.958Z"
   },
   {
    "duration": 41,
    "start_time": "2021-06-18T19:39:52.060Z"
   },
   {
    "duration": 11,
    "start_time": "2021-06-18T19:39:52.104Z"
   },
   {
    "duration": 38,
    "start_time": "2021-06-18T19:39:52.117Z"
   },
   {
    "duration": 14,
    "start_time": "2021-06-18T19:39:52.157Z"
   },
   {
    "duration": 13,
    "start_time": "2021-06-18T19:39:52.174Z"
   },
   {
    "duration": 23,
    "start_time": "2021-06-18T19:39:52.189Z"
   },
   {
    "duration": 6,
    "start_time": "2021-06-18T19:39:52.215Z"
   },
   {
    "duration": 18,
    "start_time": "2021-06-18T19:39:52.224Z"
   },
   {
    "duration": 13,
    "start_time": "2021-06-18T19:39:52.245Z"
   },
   {
    "duration": 6453,
    "start_time": "2021-06-18T19:39:52.261Z"
   },
   {
    "duration": 74,
    "start_time": "2021-06-18T19:39:58.719Z"
   },
   {
    "duration": 15,
    "start_time": "2021-06-18T19:39:58.797Z"
   },
   {
    "duration": 15,
    "start_time": "2021-06-18T19:40:10.244Z"
   },
   {
    "duration": 8156,
    "start_time": "2021-06-18T19:40:43.237Z"
   },
   {
    "duration": 65,
    "start_time": "2021-06-18T19:40:51.396Z"
   },
   {
    "duration": 272,
    "start_time": "2021-06-18T19:40:51.465Z"
   },
   {
    "duration": 140,
    "start_time": "2021-06-18T19:40:51.600Z"
   },
   {
    "duration": 930,
    "start_time": "2021-06-18T19:41:04.077Z"
   },
   {
    "duration": 13,
    "start_time": "2021-06-18T19:41:05.009Z"
   },
   {
    "duration": 34,
    "start_time": "2021-06-18T19:41:05.025Z"
   },
   {
    "duration": 51,
    "start_time": "2021-06-18T19:41:05.062Z"
   },
   {
    "duration": 8,
    "start_time": "2021-06-18T19:41:05.338Z"
   },
   {
    "duration": 6,
    "start_time": "2021-06-18T19:41:05.678Z"
   },
   {
    "duration": 5680,
    "start_time": "2021-06-18T19:41:06.028Z"
   },
   {
    "duration": 628,
    "start_time": "2021-06-18T19:41:11.711Z"
   },
   {
    "duration": 24,
    "start_time": "2021-06-18T19:41:12.341Z"
   },
   {
    "duration": 21,
    "start_time": "2021-06-18T19:41:12.369Z"
   },
   {
    "duration": 64,
    "start_time": "2021-06-18T19:41:12.393Z"
   },
   {
    "duration": 5722,
    "start_time": "2021-06-18T19:41:12.460Z"
   },
   {
    "duration": 29,
    "start_time": "2021-06-18T19:41:18.186Z"
   },
   {
    "duration": 35,
    "start_time": "2021-06-18T19:41:18.221Z"
   },
   {
    "duration": 10,
    "start_time": "2021-06-18T19:41:18.260Z"
   },
   {
    "duration": 769,
    "start_time": "2021-06-18T19:41:18.274Z"
   },
   {
    "duration": 19,
    "start_time": "2021-06-18T19:41:19.045Z"
   },
   {
    "duration": 20,
    "start_time": "2021-06-18T19:41:19.068Z"
   },
   {
    "duration": 76,
    "start_time": "2021-06-18T19:41:19.091Z"
   },
   {
    "duration": 5727,
    "start_time": "2021-06-18T19:41:19.170Z"
   },
   {
    "duration": 695,
    "start_time": "2021-06-18T19:41:24.900Z"
   },
   {
    "duration": 286,
    "start_time": "2021-06-18T19:41:25.598Z"
   },
   {
    "duration": 106,
    "start_time": "2021-06-18T19:41:25.886Z"
   },
   {
    "duration": 5,
    "start_time": "2021-06-18T19:41:25.994Z"
   },
   {
    "duration": 41,
    "start_time": "2021-06-18T19:41:26.001Z"
   },
   {
    "duration": 22,
    "start_time": "2021-06-18T19:41:26.044Z"
   },
   {
    "duration": 10,
    "start_time": "2021-06-18T19:41:26.069Z"
   },
   {
    "duration": 56,
    "start_time": "2021-06-18T19:41:26.083Z"
   },
   {
    "duration": 6,
    "start_time": "2021-06-18T19:41:26.141Z"
   },
   {
    "duration": 7,
    "start_time": "2021-06-18T19:41:26.156Z"
   },
   {
    "duration": 59,
    "start_time": "2021-06-18T19:41:26.167Z"
   },
   {
    "duration": 14,
    "start_time": "2021-06-18T19:41:26.397Z"
   },
   {
    "duration": 5,
    "start_time": "2021-06-18T19:41:27.073Z"
   },
   {
    "duration": 164,
    "start_time": "2021-06-18T19:41:27.396Z"
   },
   {
    "duration": 13,
    "start_time": "2021-06-18T19:41:27.756Z"
   },
   {
    "duration": 145,
    "start_time": "2021-06-18T19:41:28.419Z"
   },
   {
    "duration": 11,
    "start_time": "2021-06-18T19:41:28.835Z"
   },
   {
    "duration": 5,
    "start_time": "2021-06-18T19:41:30.213Z"
   },
   {
    "duration": 5,
    "start_time": "2021-06-18T19:41:30.688Z"
   },
   {
    "duration": 4,
    "start_time": "2021-06-18T19:41:31.133Z"
   },
   {
    "duration": 14,
    "start_time": "2021-06-18T19:41:31.490Z"
   },
   {
    "duration": 7,
    "start_time": "2021-06-18T19:41:32.604Z"
   },
   {
    "duration": 5,
    "start_time": "2021-06-18T19:41:33.003Z"
   },
   {
    "duration": 4,
    "start_time": "2021-06-18T19:41:34.003Z"
   },
   {
    "duration": 8491,
    "start_time": "2021-06-18T19:41:34.190Z"
   },
   {
    "duration": 77,
    "start_time": "2021-06-18T19:41:42.684Z"
   },
   {
    "duration": 14,
    "start_time": "2021-06-18T19:41:42.765Z"
   },
   {
    "duration": 20,
    "start_time": "2021-06-18T19:41:42.782Z"
   },
   {
    "duration": 1508,
    "start_time": "2021-06-18T21:24:29.581Z"
   },
   {
    "duration": 425,
    "start_time": "2021-06-18T21:37:25.143Z"
   },
   {
    "duration": 1490,
    "start_time": "2021-06-18T21:37:32.583Z"
   },
   {
    "duration": 2778,
    "start_time": "2021-06-18T21:37:34.076Z"
   },
   {
    "duration": 19,
    "start_time": "2021-06-18T21:37:36.857Z"
   },
   {
    "duration": 21,
    "start_time": "2021-06-18T21:37:36.879Z"
   },
   {
    "duration": 68,
    "start_time": "2021-06-18T21:37:36.902Z"
   },
   {
    "duration": 9,
    "start_time": "2021-06-18T21:37:36.973Z"
   },
   {
    "duration": 17,
    "start_time": "2021-06-18T21:37:36.984Z"
   },
   {
    "duration": 4215,
    "start_time": "2021-06-18T21:37:37.005Z"
   },
   {
    "duration": 613,
    "start_time": "2021-06-18T21:37:41.223Z"
   },
   {
    "duration": 17,
    "start_time": "2021-06-18T21:37:41.839Z"
   },
   {
    "duration": 27,
    "start_time": "2021-06-18T21:37:41.859Z"
   },
   {
    "duration": 66,
    "start_time": "2021-06-18T21:37:41.889Z"
   },
   {
    "duration": 3667,
    "start_time": "2021-06-18T21:37:41.957Z"
   },
   {
    "duration": 40,
    "start_time": "2021-06-18T21:37:45.626Z"
   },
   {
    "duration": 7,
    "start_time": "2021-06-18T21:37:45.669Z"
   },
   {
    "duration": 18,
    "start_time": "2021-06-18T21:37:45.679Z"
   },
   {
    "duration": 571,
    "start_time": "2021-06-18T21:37:45.700Z"
   },
   {
    "duration": 13,
    "start_time": "2021-06-18T21:37:46.274Z"
   },
   {
    "duration": 35,
    "start_time": "2021-06-18T21:37:46.289Z"
   },
   {
    "duration": 58,
    "start_time": "2021-06-18T21:37:46.327Z"
   },
   {
    "duration": 4279,
    "start_time": "2021-06-18T21:37:46.388Z"
   },
   {
    "duration": 553,
    "start_time": "2021-06-18T21:37:50.669Z"
   },
   {
    "duration": 293,
    "start_time": "2021-06-18T21:37:51.228Z"
   },
   {
    "duration": 107,
    "start_time": "2021-06-18T21:37:51.524Z"
   },
   {
    "duration": 6,
    "start_time": "2021-06-18T21:37:51.633Z"
   },
   {
    "duration": 19,
    "start_time": "2021-06-18T21:37:51.654Z"
   },
   {
    "duration": 14,
    "start_time": "2021-06-18T21:37:51.676Z"
   },
   {
    "duration": 5,
    "start_time": "2021-06-18T21:37:51.693Z"
   },
   {
    "duration": 67,
    "start_time": "2021-06-18T21:37:51.700Z"
   },
   {
    "duration": 4,
    "start_time": "2021-06-18T21:37:51.770Z"
   },
   {
    "duration": 11,
    "start_time": "2021-06-18T21:37:51.777Z"
   },
   {
    "duration": 95,
    "start_time": "2021-06-18T21:37:51.791Z"
   },
   {
    "duration": 21,
    "start_time": "2021-06-18T21:37:51.890Z"
   },
   {
    "duration": 7,
    "start_time": "2021-06-18T21:37:51.914Z"
   },
   {
    "duration": 237,
    "start_time": "2021-06-18T21:37:51.923Z"
   },
   {
    "duration": 192,
    "start_time": "2021-06-18T21:37:52.163Z"
   },
   {
    "duration": 50,
    "start_time": "2021-06-18T21:37:52.357Z"
   },
   {
    "duration": 10,
    "start_time": "2021-06-18T21:37:52.410Z"
   },
   {
    "duration": 6,
    "start_time": "2021-06-18T21:37:52.422Z"
   },
   {
    "duration": 28,
    "start_time": "2021-06-18T21:37:52.430Z"
   },
   {
    "duration": 6,
    "start_time": "2021-06-18T21:37:52.461Z"
   },
   {
    "duration": 19,
    "start_time": "2021-06-18T21:37:52.469Z"
   },
   {
    "duration": 14,
    "start_time": "2021-06-18T21:37:52.490Z"
   },
   {
    "duration": 21,
    "start_time": "2021-06-18T21:37:52.507Z"
   },
   {
    "duration": 24,
    "start_time": "2021-06-18T21:37:52.531Z"
   },
   {
    "duration": 7469,
    "start_time": "2021-06-18T21:37:52.558Z"
   },
   {
    "duration": 171,
    "start_time": "2021-06-18T21:38:00.029Z"
   },
   {
    "duration": 15,
    "start_time": "2021-06-18T21:38:00.202Z"
   },
   {
    "duration": 35,
    "start_time": "2021-06-18T21:38:00.219Z"
   },
   {
    "duration": 5578,
    "start_time": "2021-06-18T21:44:33.435Z"
   },
   {
    "duration": 1654,
    "start_time": "2021-06-18T21:45:03.733Z"
   },
   {
    "duration": 1134,
    "start_time": "2021-06-18T21:45:05.389Z"
   },
   {
    "duration": 18,
    "start_time": "2021-06-18T21:45:06.529Z"
   },
   {
    "duration": 15,
    "start_time": "2021-06-18T21:45:06.555Z"
   },
   {
    "duration": 54,
    "start_time": "2021-06-18T21:45:06.572Z"
   },
   {
    "duration": 29,
    "start_time": "2021-06-18T21:45:06.628Z"
   },
   {
    "duration": 8,
    "start_time": "2021-06-18T21:45:06.659Z"
   },
   {
    "duration": 4122,
    "start_time": "2021-06-18T21:45:06.670Z"
   },
   {
    "duration": 584,
    "start_time": "2021-06-18T21:45:10.795Z"
   },
   {
    "duration": 13,
    "start_time": "2021-06-18T21:45:11.381Z"
   },
   {
    "duration": 16,
    "start_time": "2021-06-18T21:45:11.397Z"
   },
   {
    "duration": 77,
    "start_time": "2021-06-18T21:45:11.415Z"
   },
   {
    "duration": 5951,
    "start_time": "2021-06-18T21:45:11.494Z"
   },
   {
    "duration": 27,
    "start_time": "2021-06-18T21:45:17.455Z"
   },
   {
    "duration": 7,
    "start_time": "2021-06-18T21:45:17.485Z"
   },
   {
    "duration": 11,
    "start_time": "2021-06-18T21:45:17.495Z"
   },
   {
    "duration": 586,
    "start_time": "2021-06-18T21:45:17.508Z"
   },
   {
    "duration": 13,
    "start_time": "2021-06-18T21:45:18.096Z"
   },
   {
    "duration": 23,
    "start_time": "2021-06-18T21:45:18.112Z"
   },
   {
    "duration": 50,
    "start_time": "2021-06-18T21:45:18.154Z"
   },
   {
    "duration": 4190,
    "start_time": "2021-06-18T21:45:18.207Z"
   },
   {
    "duration": 610,
    "start_time": "2021-06-18T21:45:22.400Z"
   },
   {
    "duration": 309,
    "start_time": "2021-06-18T21:45:23.012Z"
   },
   {
    "duration": 119,
    "start_time": "2021-06-18T21:45:23.323Z"
   },
   {
    "duration": 5,
    "start_time": "2021-06-18T21:45:23.444Z"
   },
   {
    "duration": 28,
    "start_time": "2021-06-18T21:45:23.458Z"
   },
   {
    "duration": 15,
    "start_time": "2021-06-18T21:45:23.490Z"
   },
   {
    "duration": 10,
    "start_time": "2021-06-18T21:45:23.507Z"
   },
   {
    "duration": 69,
    "start_time": "2021-06-18T21:45:23.520Z"
   },
   {
    "duration": 5,
    "start_time": "2021-06-18T21:45:23.591Z"
   },
   {
    "duration": 11,
    "start_time": "2021-06-18T21:45:23.599Z"
   },
   {
    "duration": 76,
    "start_time": "2021-06-18T21:45:23.612Z"
   },
   {
    "duration": 14,
    "start_time": "2021-06-18T21:45:23.690Z"
   },
   {
    "duration": 17,
    "start_time": "2021-06-18T21:45:23.707Z"
   },
   {
    "duration": 328,
    "start_time": "2021-06-18T21:45:23.727Z"
   },
   {
    "duration": 101,
    "start_time": "2021-06-18T21:45:24.059Z"
   },
   {
    "duration": 72,
    "start_time": "2021-06-18T21:45:24.163Z"
   },
   {
    "duration": 11,
    "start_time": "2021-06-18T21:45:24.237Z"
   },
   {
    "duration": 17,
    "start_time": "2021-06-18T21:45:24.250Z"
   },
   {
    "duration": 17,
    "start_time": "2021-06-18T21:45:24.269Z"
   },
   {
    "duration": 33,
    "start_time": "2021-06-18T21:45:24.289Z"
   },
   {
    "duration": 33,
    "start_time": "2021-06-18T21:45:24.325Z"
   },
   {
    "duration": 29,
    "start_time": "2021-06-18T21:45:24.361Z"
   },
   {
    "duration": 27,
    "start_time": "2021-06-18T21:45:24.393Z"
   },
   {
    "duration": 18,
    "start_time": "2021-06-18T21:45:24.422Z"
   },
   {
    "duration": 5671,
    "start_time": "2021-06-18T21:45:24.442Z"
   },
   {
    "duration": 175,
    "start_time": "2021-06-18T21:45:30.115Z"
   },
   {
    "duration": 13,
    "start_time": "2021-06-18T21:45:30.293Z"
   },
   {
    "duration": 30,
    "start_time": "2021-06-18T21:45:30.308Z"
   },
   {
    "duration": 1707,
    "start_time": "2021-06-18T22:21:02.351Z"
   },
   {
    "duration": 3248,
    "start_time": "2021-06-18T22:21:04.062Z"
   },
   {
    "duration": 18,
    "start_time": "2021-06-18T22:21:07.313Z"
   },
   {
    "duration": 31,
    "start_time": "2021-06-18T22:21:07.334Z"
   },
   {
    "duration": 48,
    "start_time": "2021-06-18T22:21:07.367Z"
   },
   {
    "duration": 8,
    "start_time": "2021-06-18T22:21:07.418Z"
   },
   {
    "duration": 6,
    "start_time": "2021-06-18T22:21:07.454Z"
   },
   {
    "duration": 4110,
    "start_time": "2021-06-18T22:21:07.464Z"
   },
   {
    "duration": 570,
    "start_time": "2021-06-18T22:21:11.577Z"
   },
   {
    "duration": 13,
    "start_time": "2021-06-18T22:21:12.153Z"
   },
   {
    "duration": 21,
    "start_time": "2021-06-18T22:21:12.169Z"
   },
   {
    "duration": 64,
    "start_time": "2021-06-18T22:21:12.193Z"
   },
   {
    "duration": 3814,
    "start_time": "2021-06-18T22:21:12.259Z"
   },
   {
    "duration": 28,
    "start_time": "2021-06-18T22:21:16.075Z"
   },
   {
    "duration": 6,
    "start_time": "2021-06-18T22:21:16.106Z"
   },
   {
    "duration": 40,
    "start_time": "2021-06-18T22:21:16.115Z"
   },
   {
    "duration": 552,
    "start_time": "2021-06-18T22:21:16.158Z"
   },
   {
    "duration": 13,
    "start_time": "2021-06-18T22:21:16.712Z"
   },
   {
    "duration": 37,
    "start_time": "2021-06-18T22:21:16.727Z"
   },
   {
    "duration": 60,
    "start_time": "2021-06-18T22:21:16.766Z"
   },
   {
    "duration": 4075,
    "start_time": "2021-06-18T22:21:16.828Z"
   },
   {
    "duration": 601,
    "start_time": "2021-06-18T22:21:20.906Z"
   },
   {
    "duration": 286,
    "start_time": "2021-06-18T22:21:21.513Z"
   },
   {
    "duration": 106,
    "start_time": "2021-06-18T22:21:21.802Z"
   },
   {
    "duration": 4,
    "start_time": "2021-06-18T22:21:21.911Z"
   },
   {
    "duration": 37,
    "start_time": "2021-06-18T22:21:21.918Z"
   },
   {
    "duration": 21,
    "start_time": "2021-06-18T22:21:21.957Z"
   },
   {
    "duration": 5,
    "start_time": "2021-06-18T22:21:21.980Z"
   },
   {
    "duration": 67,
    "start_time": "2021-06-18T22:21:21.988Z"
   },
   {
    "duration": 5,
    "start_time": "2021-06-18T22:21:22.057Z"
   },
   {
    "duration": 9,
    "start_time": "2021-06-18T22:21:22.065Z"
   },
   {
    "duration": 81,
    "start_time": "2021-06-18T22:21:22.076Z"
   },
   {
    "duration": 15,
    "start_time": "2021-06-18T22:21:22.159Z"
   },
   {
    "duration": 5,
    "start_time": "2021-06-18T22:21:22.177Z"
   },
   {
    "duration": 181,
    "start_time": "2021-06-18T22:21:22.184Z"
   },
   {
    "duration": 99,
    "start_time": "2021-06-18T22:21:22.457Z"
   },
   {
    "duration": 41,
    "start_time": "2021-06-18T22:21:22.558Z"
   },
   {
    "duration": 10,
    "start_time": "2021-06-18T22:21:22.602Z"
   },
   {
    "duration": 41,
    "start_time": "2021-06-18T22:21:22.614Z"
   },
   {
    "duration": 7,
    "start_time": "2021-06-18T22:21:22.657Z"
   },
   {
    "duration": 6,
    "start_time": "2021-06-18T22:21:22.666Z"
   },
   {
    "duration": 15,
    "start_time": "2021-06-18T22:21:22.674Z"
   },
   {
    "duration": 6,
    "start_time": "2021-06-18T22:21:22.692Z"
   },
   {
    "duration": 7,
    "start_time": "2021-06-18T22:21:22.700Z"
   },
   {
    "duration": 9,
    "start_time": "2021-06-18T22:21:22.710Z"
   },
   {
    "duration": 5561,
    "start_time": "2021-06-18T22:21:22.755Z"
   },
   {
    "duration": 167,
    "start_time": "2021-06-18T22:21:28.319Z"
   },
   {
    "duration": 16,
    "start_time": "2021-06-18T22:21:28.489Z"
   },
   {
    "duration": 36,
    "start_time": "2021-06-18T22:21:28.507Z"
   }
  ],
  "kernelspec": {
   "display_name": "Python 3",
   "language": "python",
   "name": "python3"
  },
  "language_info": {
   "codemirror_mode": {
    "name": "ipython",
    "version": 3
   },
   "file_extension": ".py",
   "mimetype": "text/x-python",
   "name": "python",
   "nbconvert_exporter": "python",
   "pygments_lexer": "ipython3",
   "version": "3.7.8"
  },
  "toc": {
   "base_numbering": 1,
   "nav_menu": {},
   "number_sections": true,
   "sideBar": true,
   "skip_h1_title": true,
   "title_cell": "Table of Contents",
   "title_sidebar": "Contents",
   "toc_cell": false,
   "toc_position": {
    "height": "calc(100% - 180px)",
    "left": "10px",
    "top": "150px",
    "width": "358.391px"
   },
   "toc_section_display": true,
   "toc_window_display": true
  }
 },
 "nbformat": 4,
 "nbformat_minor": 2
}
